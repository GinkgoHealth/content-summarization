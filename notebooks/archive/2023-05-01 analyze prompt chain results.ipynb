{
 "cells": [
  {
   "cell_type": "markdown",
   "metadata": {},
   "source": [
    "# Title\n",
    "[]()"
   ]
  },
  {
   "cell_type": "code",
   "execution_count": 1,
   "metadata": {},
   "outputs": [],
   "source": [
    "from pandas import json_normalize  \n",
    "import pandas as pd\n",
    "import sys\n",
    "sys.path.append(r\"C:\\Users\\silvh\\OneDrive\\lighthouse\\custom_python\")\n",
    "sys.path.append(r\"C:\\Users\\silvh\\OneDrive\\lighthouse\\portfolio-projects\\online-PT-social-media-NLP\\src\")\n",
    "from silvhua import *\n",
    "from datetime import datetime\n",
    "# import json\n",
    "# from plotly.subplots import make_subplots\n",
    "# import requests"
   ]
  },
  {
   "cell_type": "code",
   "execution_count": 7,
   "metadata": {},
   "outputs": [],
   "source": [
    "# set the option to wrap text within cells\n",
    "pd.set_option('display.max_colwidth', 50)\n",
    "pd.set_option('display.max_rows', 10)\n",
    "pd.set_option('display.max_columns', None)\n",
    "pd.set_option('display.width', None)"
   ]
  },
  {
   "cell_type": "code",
   "execution_count": 3,
   "metadata": {},
   "outputs": [],
   "source": [
    "from wrangling import filter_df_all_conditions"
   ]
  },
  {
   "cell_type": "code",
   "execution_count": 6,
   "metadata": {},
   "outputs": [],
   "source": [
    "import plotly.graph_objects as go\n",
    "import plotly \n",
    "from plotly.subplots import make_subplots\n",
    "from silvhua_plot import plot_proportion, plot_int_bar"
   ]
  },
  {
   "attachments": {},
   "cell_type": "markdown",
   "metadata": {},
   "source": [
    "# Load processed knowledge library df"
   ]
  },
  {
   "cell_type": "code",
   "execution_count": 26,
   "metadata": {},
   "outputs": [
    {
     "name": "stdout",
     "output_type": "stream",
     "text": [
      "Time completed: 2023-05-01 14:30:03.330639\n",
      "Dataframe shape:  (129, 38)\n",
      "DataFrame columns: ['A: date added', 'B: article', 'C: choice # for given prompt', 'D: system_role', 'E: model', 'F: text', 'G: prep_step', 'H: summarization task', 'I: full summarization task', 'J: original summary', 'K: original summary content rating', 'L: original summary language rating', 'M: top summary', 'N: simple summary choice', 'O: simplify audience', 'P: simplify task', 'Q: full simplify task', 'R: simple summary', 'S: simple summary content rating', 'T: simple summary language rating', 'U: top simple summary', 'V: add relevance task', 'W: full add relevance task: athletes', 'X: added relevance: athletes', 'Y: added relevance content rating', 'Z: added relevance language rating', 'AA: top added relevance statement', 'AB: add relevance task', 'AC: full add relevance task: older adults', 'AD: added relevance: older adults', 'AE: added relevance content rating', 'AF: added relevance language rating', 'AG: top added relevance statement', 'AH: Column 33', 'K: original summary ratings meet standard', 'S: simple summary ratings meet standard', 'Y: added relevance ratings meet standard', 'AE: added relevance ratings meet standard']\n"
     ]
    },
    {
     "data": {
      "text/html": [
       "<div>\n",
       "<style scoped>\n",
       "    .dataframe tbody tr th:only-of-type {\n",
       "        vertical-align: middle;\n",
       "    }\n",
       "\n",
       "    .dataframe tbody tr th {\n",
       "        vertical-align: top;\n",
       "    }\n",
       "\n",
       "    .dataframe thead th {\n",
       "        text-align: right;\n",
       "    }\n",
       "</style>\n",
       "<table border=\"1\" class=\"dataframe\">\n",
       "  <thead>\n",
       "    <tr style=\"text-align: right;\">\n",
       "      <th></th>\n",
       "      <th>A: date added</th>\n",
       "      <th>B: article</th>\n",
       "      <th>C: choice # for given prompt</th>\n",
       "      <th>D: system_role</th>\n",
       "      <th>E: model</th>\n",
       "      <th>F: text</th>\n",
       "      <th>G: prep_step</th>\n",
       "      <th>H: summarization task</th>\n",
       "      <th>I: full summarization task</th>\n",
       "      <th>J: original summary</th>\n",
       "      <th>K: original summary content rating</th>\n",
       "      <th>L: original summary language rating</th>\n",
       "      <th>M: top summary</th>\n",
       "      <th>N: simple summary choice</th>\n",
       "      <th>O: simplify audience</th>\n",
       "      <th>P: simplify task</th>\n",
       "      <th>Q: full simplify task</th>\n",
       "      <th>R: simple summary</th>\n",
       "      <th>S: simple summary content rating</th>\n",
       "      <th>T: simple summary language rating</th>\n",
       "      <th>U: top simple summary</th>\n",
       "      <th>V: add relevance task</th>\n",
       "      <th>W: full add relevance task: athletes</th>\n",
       "      <th>X: added relevance: athletes</th>\n",
       "      <th>Y: added relevance content rating</th>\n",
       "      <th>Z: added relevance language rating</th>\n",
       "      <th>AA: top added relevance statement</th>\n",
       "      <th>AB: add relevance task</th>\n",
       "      <th>AC: full add relevance task: older adults</th>\n",
       "      <th>AD: added relevance: older adults</th>\n",
       "      <th>AE: added relevance content rating</th>\n",
       "      <th>AF: added relevance language rating</th>\n",
       "      <th>AG: top added relevance statement</th>\n",
       "      <th>AH: Column 33</th>\n",
       "      <th>K: original summary ratings meet standard</th>\n",
       "      <th>S: simple summary ratings meet standard</th>\n",
       "      <th>Y: added relevance ratings meet standard</th>\n",
       "      <th>AE: added relevance ratings meet standard</th>\n",
       "    </tr>\n",
       "  </thead>\n",
       "  <tbody>\n",
       "    <tr>\n",
       "      <th>0</th>\n",
       "      <td>2023-04-16</td>\n",
       "      <td>Daily Energy Expenditure through the Human Lif...</td>\n",
       "      <td>1</td>\n",
       "      <td>You are an expert at science communication.</td>\n",
       "      <td>gpt-3.5-turbo</td>\n",
       "      <td>\"Daily Energy Expenditure through the Human Li...</td>\n",
       "      <td>Take the key points and numerical descriptors to</td>\n",
       "      <td>Summarize for a LinkedIn post</td>\n",
       "      <td>Take the key points and numerical descriptors ...</td>\n",
       "      <td>\"New research reveals major changes in metabol...</td>\n",
       "      <td>1.0</td>\n",
       "      <td>4.0</td>\n",
       "      <td>NaN</td>\n",
       "      <td></td>\n",
       "      <td></td>\n",
       "      <td></td>\n",
       "      <td>Use terms a 12-year-old can understand.</td>\n",
       "      <td>Scientists have found out that our bodies use ...</td>\n",
       "      <td>1.0</td>\n",
       "      <td>1.0</td>\n",
       "      <td>NaN</td>\n",
       "      <td>Add 1-2 sentences to make this relevant for</td>\n",
       "      <td>Add 1-2 sentences to make this relevant for pe...</td>\n",
       "      <td></td>\n",
       "      <td>NaN</td>\n",
       "      <td>NaN</td>\n",
       "      <td>NaN</td>\n",
       "      <td>Add 1-2 sentences to make this relevant for</td>\n",
       "      <td>Add 1-2 sentences to make this relevant for se...</td>\n",
       "      <td>None</td>\n",
       "      <td>NaN</td>\n",
       "      <td>NaN</td>\n",
       "      <td>NaN</td>\n",
       "      <td>None</td>\n",
       "      <td>0</td>\n",
       "      <td>0</td>\n",
       "      <td>0</td>\n",
       "      <td>0</td>\n",
       "    </tr>\n",
       "    <tr>\n",
       "      <th>1</th>\n",
       "      <td>2023-04-16</td>\n",
       "      <td>Daily Energy Expenditure through the Human Lif...</td>\n",
       "      <td>2</td>\n",
       "      <td>You are an expert at science communication.</td>\n",
       "      <td>gpt-3.5-turbo</td>\n",
       "      <td>\"Daily Energy Expenditure through the Human Li...</td>\n",
       "      <td>Take the key points and numerical descriptors to</td>\n",
       "      <td>Summarize for a LinkedIn post</td>\n",
       "      <td>Take the key points and numerical descriptors ...</td>\n",
       "      <td>A new study on Daily Energy Expenditure throug...</td>\n",
       "      <td>1.0</td>\n",
       "      <td>4.0</td>\n",
       "      <td>NaN</td>\n",
       "      <td></td>\n",
       "      <td></td>\n",
       "      <td></td>\n",
       "      <td>Use terms a 12-year-old can understand.</td>\n",
       "      <td>Scientists did a study on how much energy peop...</td>\n",
       "      <td>1.0</td>\n",
       "      <td>1.0</td>\n",
       "      <td>NaN</td>\n",
       "      <td>Add 1-2 sentences to make this relevant for</td>\n",
       "      <td>Add 1-2 sentences to make this relevant for pe...</td>\n",
       "      <td></td>\n",
       "      <td>NaN</td>\n",
       "      <td>NaN</td>\n",
       "      <td>NaN</td>\n",
       "      <td>Add 1-2 sentences to make this relevant for</td>\n",
       "      <td>Add 1-2 sentences to make this relevant for se...</td>\n",
       "      <td>None</td>\n",
       "      <td>NaN</td>\n",
       "      <td>NaN</td>\n",
       "      <td>NaN</td>\n",
       "      <td>None</td>\n",
       "      <td>0</td>\n",
       "      <td>0</td>\n",
       "      <td>0</td>\n",
       "      <td>0</td>\n",
       "    </tr>\n",
       "    <tr>\n",
       "      <th>2</th>\n",
       "      <td>2023-04-16</td>\n",
       "      <td>Daily Energy Expenditure through the Human Lif...</td>\n",
       "      <td>3</td>\n",
       "      <td>You are an expert at science communication.</td>\n",
       "      <td>gpt-3.5-turbo</td>\n",
       "      <td>\"Daily Energy Expenditure through the Human Li...</td>\n",
       "      <td>Take the key points and numerical descriptors to</td>\n",
       "      <td>Summarize for a LinkedIn post</td>\n",
       "      <td>Take the key points and numerical descriptors ...</td>\n",
       "      <td>New research has discovered major changes in m...</td>\n",
       "      <td>3.0</td>\n",
       "      <td>4.0</td>\n",
       "      <td>NaN</td>\n",
       "      <td></td>\n",
       "      <td></td>\n",
       "      <td></td>\n",
       "      <td>Use terms a 12-year-old can understand.</td>\n",
       "      <td>Scientists have found out that our bodies use ...</td>\n",
       "      <td>3.0</td>\n",
       "      <td>1.0</td>\n",
       "      <td>NaN</td>\n",
       "      <td>Add 1-2 sentences to make this relevant for</td>\n",
       "      <td>Add 1-2 sentences to make this relevant for pe...</td>\n",
       "      <td></td>\n",
       "      <td>NaN</td>\n",
       "      <td>NaN</td>\n",
       "      <td>NaN</td>\n",
       "      <td>Add 1-2 sentences to make this relevant for</td>\n",
       "      <td>Add 1-2 sentences to make this relevant for se...</td>\n",
       "      <td>None</td>\n",
       "      <td>NaN</td>\n",
       "      <td>NaN</td>\n",
       "      <td>NaN</td>\n",
       "      <td>None</td>\n",
       "      <td>0</td>\n",
       "      <td>0</td>\n",
       "      <td>0</td>\n",
       "      <td>0</td>\n",
       "    </tr>\n",
       "    <tr>\n",
       "      <th>3</th>\n",
       "      <td>2023-04-16</td>\n",
       "      <td>Daily Energy Expenditure through the Human Lif...</td>\n",
       "      <td>4</td>\n",
       "      <td>You are an expert at science communication.</td>\n",
       "      <td>gpt-3.5-turbo</td>\n",
       "      <td>\"Daily Energy Expenditure through the Human Li...</td>\n",
       "      <td>Take the key points and numerical descriptors to</td>\n",
       "      <td>Summarize for a LinkedIn post</td>\n",
       "      <td>Take the key points and numerical descriptors ...</td>\n",
       "      <td>This study analyzed daily energy expenditure a...</td>\n",
       "      <td>3.0</td>\n",
       "      <td>4.0</td>\n",
       "      <td>1.0</td>\n",
       "      <td></td>\n",
       "      <td></td>\n",
       "      <td></td>\n",
       "      <td>Use terms a 12-year-old can understand.</td>\n",
       "      <td>Scientists did a study to see how much energy ...</td>\n",
       "      <td>3.0</td>\n",
       "      <td>1.0</td>\n",
       "      <td>1.0</td>\n",
       "      <td>Add 1-2 sentences to make this relevant for</td>\n",
       "      <td>Add 1-2 sentences to make this relevant for pe...</td>\n",
       "      <td>For athletes and sports enthusiasts, understan...</td>\n",
       "      <td>4.0</td>\n",
       "      <td>4.0</td>\n",
       "      <td>1.0</td>\n",
       "      <td>Add 1-2 sentences to make this relevant for</td>\n",
       "      <td>Add 1-2 sentences to make this relevant for se...</td>\n",
       "      <td>These findings suggest that older adults may n...</td>\n",
       "      <td>4.0</td>\n",
       "      <td>4.0</td>\n",
       "      <td>1.0</td>\n",
       "      <td>None</td>\n",
       "      <td>0</td>\n",
       "      <td>0</td>\n",
       "      <td>1</td>\n",
       "      <td>1</td>\n",
       "    </tr>\n",
       "    <tr>\n",
       "      <th>4</th>\n",
       "      <td>2023-04-16</td>\n",
       "      <td>Daily Energy Expenditure through the Human Lif...</td>\n",
       "      <td>5</td>\n",
       "      <td>You are an expert at science communication.</td>\n",
       "      <td>gpt-3.5-turbo</td>\n",
       "      <td>\"Daily Energy Expenditure through the Human Li...</td>\n",
       "      <td>Take the key points and numerical descriptors to</td>\n",
       "      <td>Summarize for a LinkedIn post</td>\n",
       "      <td>Take the key points and numerical descriptors ...</td>\n",
       "      <td>New research has found major changes in metabo...</td>\n",
       "      <td>1.0</td>\n",
       "      <td>4.0</td>\n",
       "      <td>NaN</td>\n",
       "      <td></td>\n",
       "      <td></td>\n",
       "      <td></td>\n",
       "      <td>Use terms a 12-year-old can understand.</td>\n",
       "      <td>Scientists have found that our bodies use ener...</td>\n",
       "      <td>1.0</td>\n",
       "      <td>1.0</td>\n",
       "      <td>NaN</td>\n",
       "      <td>Add 1-2 sentences to make this relevant for</td>\n",
       "      <td>Add 1-2 sentences to make this relevant for pe...</td>\n",
       "      <td></td>\n",
       "      <td>NaN</td>\n",
       "      <td>NaN</td>\n",
       "      <td>NaN</td>\n",
       "      <td>Add 1-2 sentences to make this relevant for</td>\n",
       "      <td>Add 1-2 sentences to make this relevant for se...</td>\n",
       "      <td>None</td>\n",
       "      <td>NaN</td>\n",
       "      <td>NaN</td>\n",
       "      <td>NaN</td>\n",
       "      <td>None</td>\n",
       "      <td>0</td>\n",
       "      <td>0</td>\n",
       "      <td>0</td>\n",
       "      <td>0</td>\n",
       "    </tr>\n",
       "    <tr>\n",
       "      <th>...</th>\n",
       "      <td>...</td>\n",
       "      <td>...</td>\n",
       "      <td>...</td>\n",
       "      <td>...</td>\n",
       "      <td>...</td>\n",
       "      <td>...</td>\n",
       "      <td>...</td>\n",
       "      <td>...</td>\n",
       "      <td>...</td>\n",
       "      <td>...</td>\n",
       "      <td>...</td>\n",
       "      <td>...</td>\n",
       "      <td>...</td>\n",
       "      <td>...</td>\n",
       "      <td>...</td>\n",
       "      <td>...</td>\n",
       "      <td>...</td>\n",
       "      <td>...</td>\n",
       "      <td>...</td>\n",
       "      <td>...</td>\n",
       "      <td>...</td>\n",
       "      <td>...</td>\n",
       "      <td>...</td>\n",
       "      <td>...</td>\n",
       "      <td>...</td>\n",
       "      <td>...</td>\n",
       "      <td>...</td>\n",
       "      <td>...</td>\n",
       "      <td>...</td>\n",
       "      <td>...</td>\n",
       "      <td>...</td>\n",
       "      <td>...</td>\n",
       "      <td>...</td>\n",
       "      <td>...</td>\n",
       "      <td>...</td>\n",
       "      <td>...</td>\n",
       "      <td>...</td>\n",
       "      <td>...</td>\n",
       "    </tr>\n",
       "    <tr>\n",
       "      <th>124</th>\n",
       "      <td>2023-04-21</td>\n",
       "      <td>Habitual tub bathing and risks of incident cor...</td>\n",
       "      <td>1</td>\n",
       "      <td>You are an expert at science communication.</td>\n",
       "      <td>gpt-3.5-turbo</td>\n",
       "      <td>Habitual tub bathing and risks of incident cor...</td>\n",
       "      <td>Take the key points and numerical descriptors to</td>\n",
       "      <td>Describe the interesting points to your cowork...</td>\n",
       "      <td>Take the key points and numerical descriptors ...</td>\n",
       "      <td>Hey, did you know that a new study found that ...</td>\n",
       "      <td>3.0</td>\n",
       "      <td>3.0</td>\n",
       "      <td>NaN</td>\n",
       "      <td>1</td>\n",
       "      <td>people without a science background</td>\n",
       "      <td>Use language appropriate for</td>\n",
       "      <td>Use language appropriate for for people withou...</td>\n",
       "      <td>Hey there! Did you know that taking frequent b...</td>\n",
       "      <td>3.0</td>\n",
       "      <td>3.0</td>\n",
       "      <td>NaN</td>\n",
       "      <td>Write this so it is relevant for</td>\n",
       "      <td>people who enjoy sports</td>\n",
       "      <td>Hey, did you know that taking frequent tub bat...</td>\n",
       "      <td>4.0</td>\n",
       "      <td>4.0</td>\n",
       "      <td>1.0</td>\n",
       "      <td>Write this so it is relevant for</td>\n",
       "      <td>Write this so it is relevant for seniors</td>\n",
       "      <td>Hey seniors, did you know that taking frequent...</td>\n",
       "      <td>3.0</td>\n",
       "      <td>4.0</td>\n",
       "      <td>1.0</td>\n",
       "      <td>None</td>\n",
       "      <td>0</td>\n",
       "      <td>0</td>\n",
       "      <td>1</td>\n",
       "      <td>0</td>\n",
       "    </tr>\n",
       "    <tr>\n",
       "      <th>125</th>\n",
       "      <td>2023-04-21</td>\n",
       "      <td>Habitual tub bathing and risks of incident cor...</td>\n",
       "      <td>2</td>\n",
       "      <td>You are an expert at science communication.</td>\n",
       "      <td>gpt-3.5-turbo</td>\n",
       "      <td>Habitual tub bathing and risks of incident cor...</td>\n",
       "      <td>Take the key points and numerical descriptors to</td>\n",
       "      <td>Describe the interesting points to your cowork...</td>\n",
       "      <td>Take the key points and numerical descriptors ...</td>\n",
       "      <td>Hey, have you heard about the new study on the...</td>\n",
       "      <td>0.0</td>\n",
       "      <td>3.0</td>\n",
       "      <td>NaN</td>\n",
       "      <td>1</td>\n",
       "      <td>people without a science background</td>\n",
       "      <td>Use language appropriate for</td>\n",
       "      <td>Use language appropriate for for people withou...</td>\n",
       "      <td>Have you heard about the new study on the bene...</td>\n",
       "      <td>0.0</td>\n",
       "      <td>4.0</td>\n",
       "      <td>NaN</td>\n",
       "      <td>Write this so it is relevant for</td>\n",
       "      <td>people who enjoy sports</td>\n",
       "      <td>Hey sports enthusiasts, have you heard about t...</td>\n",
       "      <td>4.0</td>\n",
       "      <td>4.0</td>\n",
       "      <td>NaN</td>\n",
       "      <td>Write this so it is relevant for</td>\n",
       "      <td>Write this so it is relevant for seniors</td>\n",
       "      <td>Hey seniors, have you heard about the new stud...</td>\n",
       "      <td>2.0</td>\n",
       "      <td>3.0</td>\n",
       "      <td>NaN</td>\n",
       "      <td>None</td>\n",
       "      <td>0</td>\n",
       "      <td>0</td>\n",
       "      <td>1</td>\n",
       "      <td>0</td>\n",
       "    </tr>\n",
       "    <tr>\n",
       "      <th>126</th>\n",
       "      <td>2023-04-21</td>\n",
       "      <td>Habitual tub bathing and risks of incident cor...</td>\n",
       "      <td>3</td>\n",
       "      <td>You are an expert at science communication.</td>\n",
       "      <td>gpt-3.5-turbo</td>\n",
       "      <td>Habitual tub bathing and risks of incident cor...</td>\n",
       "      <td>Take the key points and numerical descriptors to</td>\n",
       "      <td>Describe the interesting points to your cowork...</td>\n",
       "      <td>Take the key points and numerical descriptors ...</td>\n",
       "      <td>Hey, did you know that a new study found that ...</td>\n",
       "      <td>2.0</td>\n",
       "      <td>3.0</td>\n",
       "      <td>NaN</td>\n",
       "      <td>1</td>\n",
       "      <td>people without a science background</td>\n",
       "      <td>Use language appropriate for</td>\n",
       "      <td>Use language appropriate for for people withou...</td>\n",
       "      <td>Hey there! Did you know that taking frequent t...</td>\n",
       "      <td>3.0</td>\n",
       "      <td>2.0</td>\n",
       "      <td>NaN</td>\n",
       "      <td>Write this so it is relevant for</td>\n",
       "      <td>people who enjoy sports</td>\n",
       "      <td>Hey sports enthusiasts, did you know that taki...</td>\n",
       "      <td>2.0</td>\n",
       "      <td>3.0</td>\n",
       "      <td>NaN</td>\n",
       "      <td>Write this so it is relevant for</td>\n",
       "      <td>Write this so it is relevant for seniors</td>\n",
       "      <td>Hey seniors, did you know that taking frequent...</td>\n",
       "      <td>3.0</td>\n",
       "      <td>3.0</td>\n",
       "      <td>NaN</td>\n",
       "      <td>None</td>\n",
       "      <td>0</td>\n",
       "      <td>0</td>\n",
       "      <td>0</td>\n",
       "      <td>0</td>\n",
       "    </tr>\n",
       "    <tr>\n",
       "      <th>127</th>\n",
       "      <td>2023-04-21</td>\n",
       "      <td>Habitual tub bathing and risks of incident cor...</td>\n",
       "      <td>4</td>\n",
       "      <td>You are an expert at science communication.</td>\n",
       "      <td>gpt-3.5-turbo</td>\n",
       "      <td>Habitual tub bathing and risks of incident cor...</td>\n",
       "      <td>Take the key points and numerical descriptors to</td>\n",
       "      <td>Describe the interesting points to your cowork...</td>\n",
       "      <td>Take the key points and numerical descriptors ...</td>\n",
       "      <td>Hey, did you hear about the recent study on th...</td>\n",
       "      <td>4.0</td>\n",
       "      <td>4.0</td>\n",
       "      <td>1.0</td>\n",
       "      <td>1</td>\n",
       "      <td>people without a science background</td>\n",
       "      <td>Use language appropriate for</td>\n",
       "      <td>Use language appropriate for for people withou...</td>\n",
       "      <td>Have you heard about the recent study on how t...</td>\n",
       "      <td>4.0</td>\n",
       "      <td>4.0</td>\n",
       "      <td>1.0</td>\n",
       "      <td>Write this so it is relevant for</td>\n",
       "      <td>people who enjoy sports</td>\n",
       "      <td>Hey sports enthusiasts, have you heard about t...</td>\n",
       "      <td>2.0</td>\n",
       "      <td>3.0</td>\n",
       "      <td>NaN</td>\n",
       "      <td>Write this so it is relevant for</td>\n",
       "      <td>Write this so it is relevant for seniors</td>\n",
       "      <td>Hey seniors, have you heard about the recent s...</td>\n",
       "      <td>3.0</td>\n",
       "      <td>2.0</td>\n",
       "      <td>NaN</td>\n",
       "      <td>None</td>\n",
       "      <td>1</td>\n",
       "      <td>1</td>\n",
       "      <td>0</td>\n",
       "      <td>0</td>\n",
       "    </tr>\n",
       "    <tr>\n",
       "      <th>128</th>\n",
       "      <td>2023-04-21</td>\n",
       "      <td>Habitual tub bathing and risks of incident cor...</td>\n",
       "      <td>5</td>\n",
       "      <td>You are an expert at science communication.</td>\n",
       "      <td>gpt-3.5-turbo</td>\n",
       "      <td>Habitual tub bathing and risks of incident cor...</td>\n",
       "      <td>Take the key points and numerical descriptors to</td>\n",
       "      <td>Describe the interesting points to your cowork...</td>\n",
       "      <td>Take the key points and numerical descriptors ...</td>\n",
       "      <td>Hey, did you know that a new study found that ...</td>\n",
       "      <td>4.0</td>\n",
       "      <td>3.0</td>\n",
       "      <td>NaN</td>\n",
       "      <td>1</td>\n",
       "      <td>people without a science background</td>\n",
       "      <td>Use language appropriate for</td>\n",
       "      <td>Use language appropriate for for people withou...</td>\n",
       "      <td>Hey there! Did you know that taking frequent b...</td>\n",
       "      <td>1.0</td>\n",
       "      <td>2.0</td>\n",
       "      <td>NaN</td>\n",
       "      <td>Write this so it is relevant for</td>\n",
       "      <td>people who enjoy sports</td>\n",
       "      <td>Hey, did you know that taking frequent tub bat...</td>\n",
       "      <td>2.0</td>\n",
       "      <td>3.0</td>\n",
       "      <td>NaN</td>\n",
       "      <td>Write this so it is relevant for</td>\n",
       "      <td>Write this so it is relevant for seniors</td>\n",
       "      <td>Hey seniors, did you know that taking frequent...</td>\n",
       "      <td>3.0</td>\n",
       "      <td>3.0</td>\n",
       "      <td>NaN</td>\n",
       "      <td>None</td>\n",
       "      <td>0</td>\n",
       "      <td>0</td>\n",
       "      <td>0</td>\n",
       "      <td>0</td>\n",
       "    </tr>\n",
       "  </tbody>\n",
       "</table>\n",
       "<p>129 rows × 38 columns</p>\n",
       "</div>"
      ],
      "text/plain": [
       "    A: date added                                         B: article  \\\n",
       "0      2023-04-16  Daily Energy Expenditure through the Human Lif...   \n",
       "1      2023-04-16  Daily Energy Expenditure through the Human Lif...   \n",
       "2      2023-04-16  Daily Energy Expenditure through the Human Lif...   \n",
       "3      2023-04-16  Daily Energy Expenditure through the Human Lif...   \n",
       "4      2023-04-16  Daily Energy Expenditure through the Human Lif...   \n",
       "..            ...                                                ...   \n",
       "124    2023-04-21  Habitual tub bathing and risks of incident cor...   \n",
       "125    2023-04-21  Habitual tub bathing and risks of incident cor...   \n",
       "126    2023-04-21  Habitual tub bathing and risks of incident cor...   \n",
       "127    2023-04-21  Habitual tub bathing and risks of incident cor...   \n",
       "128    2023-04-21  Habitual tub bathing and risks of incident cor...   \n",
       "\n",
       "    C: choice # for given prompt                               D: system_role  \\\n",
       "0                              1  You are an expert at science communication.   \n",
       "1                              2  You are an expert at science communication.   \n",
       "2                              3  You are an expert at science communication.   \n",
       "3                              4  You are an expert at science communication.   \n",
       "4                              5  You are an expert at science communication.   \n",
       "..                           ...                                          ...   \n",
       "124                            1  You are an expert at science communication.   \n",
       "125                            2  You are an expert at science communication.   \n",
       "126                            3  You are an expert at science communication.   \n",
       "127                            4  You are an expert at science communication.   \n",
       "128                            5  You are an expert at science communication.   \n",
       "\n",
       "          E: model                                            F: text  \\\n",
       "0    gpt-3.5-turbo  \"Daily Energy Expenditure through the Human Li...   \n",
       "1    gpt-3.5-turbo  \"Daily Energy Expenditure through the Human Li...   \n",
       "2    gpt-3.5-turbo  \"Daily Energy Expenditure through the Human Li...   \n",
       "3    gpt-3.5-turbo  \"Daily Energy Expenditure through the Human Li...   \n",
       "4    gpt-3.5-turbo  \"Daily Energy Expenditure through the Human Li...   \n",
       "..             ...                                                ...   \n",
       "124  gpt-3.5-turbo  Habitual tub bathing and risks of incident cor...   \n",
       "125  gpt-3.5-turbo  Habitual tub bathing and risks of incident cor...   \n",
       "126  gpt-3.5-turbo  Habitual tub bathing and risks of incident cor...   \n",
       "127  gpt-3.5-turbo  Habitual tub bathing and risks of incident cor...   \n",
       "128  gpt-3.5-turbo  Habitual tub bathing and risks of incident cor...   \n",
       "\n",
       "                                         G: prep_step  \\\n",
       "0    Take the key points and numerical descriptors to   \n",
       "1    Take the key points and numerical descriptors to   \n",
       "2    Take the key points and numerical descriptors to   \n",
       "3    Take the key points and numerical descriptors to   \n",
       "4    Take the key points and numerical descriptors to   \n",
       "..                                                ...   \n",
       "124  Take the key points and numerical descriptors to   \n",
       "125  Take the key points and numerical descriptors to   \n",
       "126  Take the key points and numerical descriptors to   \n",
       "127  Take the key points and numerical descriptors to   \n",
       "128  Take the key points and numerical descriptors to   \n",
       "\n",
       "                                 H: summarization task  \\\n",
       "0                        Summarize for a LinkedIn post   \n",
       "1                        Summarize for a LinkedIn post   \n",
       "2                        Summarize for a LinkedIn post   \n",
       "3                        Summarize for a LinkedIn post   \n",
       "4                        Summarize for a LinkedIn post   \n",
       "..                                                 ...   \n",
       "124  Describe the interesting points to your cowork...   \n",
       "125  Describe the interesting points to your cowork...   \n",
       "126  Describe the interesting points to your cowork...   \n",
       "127  Describe the interesting points to your cowork...   \n",
       "128  Describe the interesting points to your cowork...   \n",
       "\n",
       "                            I: full summarization task  \\\n",
       "0    Take the key points and numerical descriptors ...   \n",
       "1    Take the key points and numerical descriptors ...   \n",
       "2    Take the key points and numerical descriptors ...   \n",
       "3    Take the key points and numerical descriptors ...   \n",
       "4    Take the key points and numerical descriptors ...   \n",
       "..                                                 ...   \n",
       "124  Take the key points and numerical descriptors ...   \n",
       "125  Take the key points and numerical descriptors ...   \n",
       "126  Take the key points and numerical descriptors ...   \n",
       "127  Take the key points and numerical descriptors ...   \n",
       "128  Take the key points and numerical descriptors ...   \n",
       "\n",
       "                                   J: original summary  \\\n",
       "0    \"New research reveals major changes in metabol...   \n",
       "1    A new study on Daily Energy Expenditure throug...   \n",
       "2    New research has discovered major changes in m...   \n",
       "3    This study analyzed daily energy expenditure a...   \n",
       "4    New research has found major changes in metabo...   \n",
       "..                                                 ...   \n",
       "124  Hey, did you know that a new study found that ...   \n",
       "125  Hey, have you heard about the new study on the...   \n",
       "126  Hey, did you know that a new study found that ...   \n",
       "127  Hey, did you hear about the recent study on th...   \n",
       "128  Hey, did you know that a new study found that ...   \n",
       "\n",
       "     K: original summary content rating  L: original summary language rating  \\\n",
       "0                                   1.0                                  4.0   \n",
       "1                                   1.0                                  4.0   \n",
       "2                                   3.0                                  4.0   \n",
       "3                                   3.0                                  4.0   \n",
       "4                                   1.0                                  4.0   \n",
       "..                                  ...                                  ...   \n",
       "124                                 3.0                                  3.0   \n",
       "125                                 0.0                                  3.0   \n",
       "126                                 2.0                                  3.0   \n",
       "127                                 4.0                                  4.0   \n",
       "128                                 4.0                                  3.0   \n",
       "\n",
       "     M: top summary N: simple summary choice  \\\n",
       "0               NaN                            \n",
       "1               NaN                            \n",
       "2               NaN                            \n",
       "3               1.0                            \n",
       "4               NaN                            \n",
       "..              ...                      ...   \n",
       "124             NaN                        1   \n",
       "125             NaN                        1   \n",
       "126             NaN                        1   \n",
       "127             1.0                        1   \n",
       "128             NaN                        1   \n",
       "\n",
       "                    O: simplify audience              P: simplify task  \\\n",
       "0                                                                        \n",
       "1                                                                        \n",
       "2                                                                        \n",
       "3                                                                        \n",
       "4                                                                        \n",
       "..                                   ...                           ...   \n",
       "124  people without a science background  Use language appropriate for   \n",
       "125  people without a science background  Use language appropriate for   \n",
       "126  people without a science background  Use language appropriate for   \n",
       "127  people without a science background  Use language appropriate for   \n",
       "128  people without a science background  Use language appropriate for   \n",
       "\n",
       "                                 Q: full simplify task  \\\n",
       "0              Use terms a 12-year-old can understand.   \n",
       "1              Use terms a 12-year-old can understand.   \n",
       "2              Use terms a 12-year-old can understand.   \n",
       "3              Use terms a 12-year-old can understand.   \n",
       "4              Use terms a 12-year-old can understand.   \n",
       "..                                                 ...   \n",
       "124  Use language appropriate for for people withou...   \n",
       "125  Use language appropriate for for people withou...   \n",
       "126  Use language appropriate for for people withou...   \n",
       "127  Use language appropriate for for people withou...   \n",
       "128  Use language appropriate for for people withou...   \n",
       "\n",
       "                                     R: simple summary  \\\n",
       "0    Scientists have found out that our bodies use ...   \n",
       "1    Scientists did a study on how much energy peop...   \n",
       "2    Scientists have found out that our bodies use ...   \n",
       "3    Scientists did a study to see how much energy ...   \n",
       "4    Scientists have found that our bodies use ener...   \n",
       "..                                                 ...   \n",
       "124  Hey there! Did you know that taking frequent b...   \n",
       "125  Have you heard about the new study on the bene...   \n",
       "126  Hey there! Did you know that taking frequent t...   \n",
       "127  Have you heard about the recent study on how t...   \n",
       "128  Hey there! Did you know that taking frequent b...   \n",
       "\n",
       "     S: simple summary content rating  T: simple summary language rating  \\\n",
       "0                                 1.0                                1.0   \n",
       "1                                 1.0                                1.0   \n",
       "2                                 3.0                                1.0   \n",
       "3                                 3.0                                1.0   \n",
       "4                                 1.0                                1.0   \n",
       "..                                ...                                ...   \n",
       "124                               3.0                                3.0   \n",
       "125                               0.0                                4.0   \n",
       "126                               3.0                                2.0   \n",
       "127                               4.0                                4.0   \n",
       "128                               1.0                                2.0   \n",
       "\n",
       "     U: top simple summary                        V: add relevance task  \\\n",
       "0                      NaN  Add 1-2 sentences to make this relevant for   \n",
       "1                      NaN  Add 1-2 sentences to make this relevant for   \n",
       "2                      NaN  Add 1-2 sentences to make this relevant for   \n",
       "3                      1.0  Add 1-2 sentences to make this relevant for   \n",
       "4                      NaN  Add 1-2 sentences to make this relevant for   \n",
       "..                     ...                                          ...   \n",
       "124                    NaN             Write this so it is relevant for   \n",
       "125                    NaN             Write this so it is relevant for   \n",
       "126                    NaN             Write this so it is relevant for   \n",
       "127                    1.0             Write this so it is relevant for   \n",
       "128                    NaN             Write this so it is relevant for   \n",
       "\n",
       "                  W: full add relevance task: athletes  \\\n",
       "0    Add 1-2 sentences to make this relevant for pe...   \n",
       "1    Add 1-2 sentences to make this relevant for pe...   \n",
       "2    Add 1-2 sentences to make this relevant for pe...   \n",
       "3    Add 1-2 sentences to make this relevant for pe...   \n",
       "4    Add 1-2 sentences to make this relevant for pe...   \n",
       "..                                                 ...   \n",
       "124                            people who enjoy sports   \n",
       "125                            people who enjoy sports   \n",
       "126                            people who enjoy sports   \n",
       "127                            people who enjoy sports   \n",
       "128                            people who enjoy sports   \n",
       "\n",
       "                          X: added relevance: athletes  \\\n",
       "0                                                        \n",
       "1                                                        \n",
       "2                                                        \n",
       "3    For athletes and sports enthusiasts, understan...   \n",
       "4                                                        \n",
       "..                                                 ...   \n",
       "124  Hey, did you know that taking frequent tub bat...   \n",
       "125  Hey sports enthusiasts, have you heard about t...   \n",
       "126  Hey sports enthusiasts, did you know that taki...   \n",
       "127  Hey sports enthusiasts, have you heard about t...   \n",
       "128  Hey, did you know that taking frequent tub bat...   \n",
       "\n",
       "     Y: added relevance content rating  Z: added relevance language rating  \\\n",
       "0                                  NaN                                 NaN   \n",
       "1                                  NaN                                 NaN   \n",
       "2                                  NaN                                 NaN   \n",
       "3                                  4.0                                 4.0   \n",
       "4                                  NaN                                 NaN   \n",
       "..                                 ...                                 ...   \n",
       "124                                4.0                                 4.0   \n",
       "125                                4.0                                 4.0   \n",
       "126                                2.0                                 3.0   \n",
       "127                                2.0                                 3.0   \n",
       "128                                2.0                                 3.0   \n",
       "\n",
       "     AA: top added relevance statement  \\\n",
       "0                                  NaN   \n",
       "1                                  NaN   \n",
       "2                                  NaN   \n",
       "3                                  1.0   \n",
       "4                                  NaN   \n",
       "..                                 ...   \n",
       "124                                1.0   \n",
       "125                                NaN   \n",
       "126                                NaN   \n",
       "127                                NaN   \n",
       "128                                NaN   \n",
       "\n",
       "                          AB: add relevance task  \\\n",
       "0    Add 1-2 sentences to make this relevant for   \n",
       "1    Add 1-2 sentences to make this relevant for   \n",
       "2    Add 1-2 sentences to make this relevant for   \n",
       "3    Add 1-2 sentences to make this relevant for   \n",
       "4    Add 1-2 sentences to make this relevant for   \n",
       "..                                           ...   \n",
       "124             Write this so it is relevant for   \n",
       "125             Write this so it is relevant for   \n",
       "126             Write this so it is relevant for   \n",
       "127             Write this so it is relevant for   \n",
       "128             Write this so it is relevant for   \n",
       "\n",
       "             AC: full add relevance task: older adults  \\\n",
       "0    Add 1-2 sentences to make this relevant for se...   \n",
       "1    Add 1-2 sentences to make this relevant for se...   \n",
       "2    Add 1-2 sentences to make this relevant for se...   \n",
       "3    Add 1-2 sentences to make this relevant for se...   \n",
       "4    Add 1-2 sentences to make this relevant for se...   \n",
       "..                                                 ...   \n",
       "124           Write this so it is relevant for seniors   \n",
       "125           Write this so it is relevant for seniors   \n",
       "126           Write this so it is relevant for seniors   \n",
       "127           Write this so it is relevant for seniors   \n",
       "128           Write this so it is relevant for seniors   \n",
       "\n",
       "                     AD: added relevance: older adults  \\\n",
       "0                                                 None   \n",
       "1                                                 None   \n",
       "2                                                 None   \n",
       "3    These findings suggest that older adults may n...   \n",
       "4                                                 None   \n",
       "..                                                 ...   \n",
       "124  Hey seniors, did you know that taking frequent...   \n",
       "125  Hey seniors, have you heard about the new stud...   \n",
       "126  Hey seniors, did you know that taking frequent...   \n",
       "127  Hey seniors, have you heard about the recent s...   \n",
       "128  Hey seniors, did you know that taking frequent...   \n",
       "\n",
       "     AE: added relevance content rating  AF: added relevance language rating  \\\n",
       "0                                   NaN                                  NaN   \n",
       "1                                   NaN                                  NaN   \n",
       "2                                   NaN                                  NaN   \n",
       "3                                   4.0                                  4.0   \n",
       "4                                   NaN                                  NaN   \n",
       "..                                  ...                                  ...   \n",
       "124                                 3.0                                  4.0   \n",
       "125                                 2.0                                  3.0   \n",
       "126                                 3.0                                  3.0   \n",
       "127                                 3.0                                  2.0   \n",
       "128                                 3.0                                  3.0   \n",
       "\n",
       "     AG: top added relevance statement AH: Column 33  \\\n",
       "0                                  NaN          None   \n",
       "1                                  NaN          None   \n",
       "2                                  NaN          None   \n",
       "3                                  1.0          None   \n",
       "4                                  NaN          None   \n",
       "..                                 ...           ...   \n",
       "124                                1.0          None   \n",
       "125                                NaN          None   \n",
       "126                                NaN          None   \n",
       "127                                NaN          None   \n",
       "128                                NaN          None   \n",
       "\n",
       "     K: original summary ratings meet standard  \\\n",
       "0                                            0   \n",
       "1                                            0   \n",
       "2                                            0   \n",
       "3                                            0   \n",
       "4                                            0   \n",
       "..                                         ...   \n",
       "124                                          0   \n",
       "125                                          0   \n",
       "126                                          0   \n",
       "127                                          1   \n",
       "128                                          0   \n",
       "\n",
       "     S: simple summary ratings meet standard  \\\n",
       "0                                          0   \n",
       "1                                          0   \n",
       "2                                          0   \n",
       "3                                          0   \n",
       "4                                          0   \n",
       "..                                       ...   \n",
       "124                                        0   \n",
       "125                                        0   \n",
       "126                                        0   \n",
       "127                                        1   \n",
       "128                                        0   \n",
       "\n",
       "     Y: added relevance ratings meet standard  \\\n",
       "0                                           0   \n",
       "1                                           0   \n",
       "2                                           0   \n",
       "3                                           1   \n",
       "4                                           0   \n",
       "..                                        ...   \n",
       "124                                         1   \n",
       "125                                         1   \n",
       "126                                         0   \n",
       "127                                         0   \n",
       "128                                         0   \n",
       "\n",
       "     AE: added relevance ratings meet standard  \n",
       "0                                            0  \n",
       "1                                            0  \n",
       "2                                            0  \n",
       "3                                            1  \n",
       "4                                            0  \n",
       "..                                         ...  \n",
       "124                                          0  \n",
       "125                                          0  \n",
       "126                                          0  \n",
       "127                                          0  \n",
       "128                                          0  \n",
       "\n",
       "[129 rows x 38 columns]"
      ]
     },
     "execution_count": 26,
     "metadata": {},
     "output_type": "execute_result"
    }
   ],
   "source": [
    "filename = 'prompt chain results Google Sheet processed_2023-04-28_1350.sav'\n",
    "pickle_path = r'C:/Users/silvh/OneDrive/lighthouse/Ginkgo coding/content-summarization/output/pickles'\n",
    "df = loadpickle(filename, pickle_path)\n",
    "df"
   ]
  },
  {
   "attachments": {},
   "cell_type": "markdown",
   "metadata": {},
   "source": [
    "# EDA"
   ]
  },
  {
   "cell_type": "code",
   "execution_count": 12,
   "metadata": {},
   "outputs": [
    {
     "name": "stdout",
     "output_type": "stream",
     "text": [
      "DataFrame shape: (129, 38)\n",
      "Dataframe data types:\n",
      "A: date added                                object\n",
      "B: article                                   object\n",
      "C: choice # for given prompt                 object\n",
      "D: system_role                               object\n",
      "E: model                                     object\n",
      "                                              ...  \n",
      "AH: Column 33                                object\n",
      "K: original summary ratings meet standard     int64\n",
      "S: simple summary ratings meet standard       int64\n",
      "Y: added relevance ratings meet standard      int64\n",
      "AE: added relevance ratings meet standard     int64\n",
      "Length: 38, dtype: object\n",
      "Unique values in A: date added (n=5):\n",
      "\t['2023-04-16', '2023-04-18', '2023-04-19', '2023-04-20', '2023-04-21']\n",
      "Unique values in B: article (n=11):\n",
      "\t['Comparisons in the Recovery Response From Resistance Exercise Between Young and Middle-Aged Men', 'Daily Energy Expenditure through the Human Life Course', 'Effect of different doses of supervised exercise on food intake, metabolism, and non-exercise physical activity: The E-MECHANIC randomized controlled trial.', 'Exercise Snacks A Novel Strategy to Improve Cardiometabolic Health', 'Food craving, cortisol and ghrelin responses in modeling highly palatable snack intake in the laboratory', 'Habitual tub bathing and risks of incident coronary heart disease and stroke', 'High doses of anti-inflammatory drugs compromise muscle strength and hypertrophic adaptations to resistance training in young adults.', 'Hypohydration but not Menstrual Phase Influences Pain Perception in Healthy Women', 'Impact of insufficient sleep on dysregulated blood glucose control under standardised meal conditions', 'Recovery From Eccentric Squat Exercise in Resistance-Trained Young and Master Athletes With Similar Maximum Strength: Combining Cold Water Immersion and Compression', 'The Impact of Sleep Duration on Performance Among Competitive Athletes: A Systematic Literature Review']\n",
      "Unique values in C: choice # for given prompt (n=5):\n",
      "\t['1', '2', '3', '4', '5']\n",
      "Unique values in D: system_role (n=1):\n",
      "\t['You are an expert at science communication.']\n",
      "Unique values in E: model (n=1):\n",
      "\t['gpt-3.5-turbo']\n",
      "Unique values in F: text (n=13):\n",
      "\t['\"Comparisons in the Recovery Response From Resistance Exercise Between Young and Middle-Aged Men\\n\\nDiscussion\\nResults of this study indicated no differences in the recovery response between YA and MA for any of the performance measures, nor in subjective levels of muscle pain or soreness. Furthermore, no between-group differences were observed in the inflammatory orÂ\\xa0muscle damageÂ\\xa0response to the exercise protocol. To the best of our knowledge, this is the first study to examine differences in the recovery response from high-volume resistance exercise between recreationally trained young and middle-aged adults. Our results comparing BL performance measures seem to be in agreement with other investigations, demonstrating differences in strength measures between young (23Â–29 years) and older adults (60Â–65 years) (7,15,24), and between middle-aged (41Â–42 years) and older adults (70Â–72 years) (17,18). It does seem that the decline in strength may develop during middle age. However, recovery from exercise seems to be comparable in both younger and middle-aged adults as reflected by similar changes in performance and markers ofÂ\\xa0muscle damageÂ\\xa0andÂ\\xa0inflammation. Although changes in strength may occur in middle age, recovery from exercise does seem to be maintained in recreationally trained individuals.\\nThe differences observed at BL in isometric force and the rate of force development is consistent with other investigations comparing younger and older adults (16,19,36). Although differences in age between young and middle-aged adults do seem to affect BL levels of strength, it does not seem to affect recovery from exercise. This is supported by similar patterns ofÂ\\xa0muscle damageÂ\\xa0andÂ\\xa0inflammationÂ\\xa0observed during the recovery period after the HVP. Elevations in Mb and CK concentrations are consistent with the expected physiological response from a bout of resistance exercise (9,34). These results also suggest that middle-aged recreationally active men who regularly engage inÂ\\xa0resistance trainingÂ\\xa0do not seem to be at increased risk for greater soreness orÂ\\xa0muscle damageÂ\\xa0in comparison with younger recreationally trained men.\\nSimilar response patterns were also noted in the inflammatory response for both groups. No significant elevations from BL were observed in CRP. However, significant increases in IL-6 concentrations were observed for both groups. Although CRP is an acute phase protein whose function is to activate the innate immune response and enhance phagocytosis (10), it does not seem to change after an acute bout of resistance exercise (6). Previous research has reported no significant changes in CRP concentrations afterÂ\\xa0resistance trainingÂ\\xa0protocols recruiting primarily both upper-body (31) and lower-body exercises (4) in younger men. Furthermore, previous investigations have also indicated that training experience can reduce the CRP response to an acute bout of exercise (22,35). Considering that participants in both YA and MA were recreationally trained, it is likely that this training experience may have attenuated the CRP response. Physiologically, it is consistent with the lower stress and damage that occurs with repetitive training (9,35). Interleukin-6 is an inflammatory cytokine that facilitates communication for the mobilization, proliferation, and differentiation of immune cells to the site of tissue damage (6) and has been shown to increase after exercise (11). Elevations in IL-6 are related to the intensity, duration, and mode of training (11,13,32), but the literature is inconclusive regarding the IL-6 response toÂ\\xa0resistance training. A recent study reported that a bout of high-volume resistance exercise (8 sets of 10 repetitions with 70% of maximal strength in the squat exercise) resulted in a significant elevation in IL-6 concentrations 30 min after exercise, but no changes were observed after a bout of high-intensity resistance exercise (8 sets of 3 repetitions with 90% of maximal strength in the squat exercise) in experienced, trained lifters (4). The IL-6 response observed during this investigation as a result of a bout of high-volume resistance exercise seems to be consistent with that recently reported by Bartolomei et al. (4). However, age did not seem to exacerbate nor attenuate the IL-6 response in recreationally trained participants.\\nNo differences were noted in the inflammatory orÂ\\xa0muscle damageÂ\\xa0response between YA and MA. As discussed earlier, this is likely related to the recreational training background of the participants. However, there were several limitations to the study that need to be acknowledged. The exercise protocol was performed on an isokinetic dynamometer, which may not have as much practical application as mostÂ\\xa0resistance trainingÂ\\xa0programs use dynamic constant resistance exercises. In addition, unilateral, single-joint exercise recruited a relatively smaller muscle mass than is commonly used in most training programs. The use of this modality of exercise, which has been demonstrated to be very effective in elicitingÂ\\xa0muscle damageÂ\\xa0(20,30), may not have been sufficient to elicit significant performance and inflammatory changes in these recreationally trained participants. Future research should examine modes of training specific to the typical training program of the participants.\\nPractical Applications\\nThe results of this study indicate that changes in muscle performance seem to begin during middle age, even in recreationally trained individuals. However, participating in recreationalÂ\\xa0resistance trainingÂ\\xa0may mitigate any alteration in the recovery response from exercise. These results should be examined in the context that recovery was investigated after a unilateral, single-joint isokinetic exercise protocol. Although this method has been previously used as an effective mode of exercise to elicitÂ\\xa0muscle damage, it is not specific to the type of exercises typically used by recreational lifters. Future studies may wish to compare these population groups using multijoint, dynamic constant resistance exercises common to the training programs of most recreational lifters, regardless of age.\\n\"', '\"Daily Energy Expenditure through the Human Life Course\\n[This appears to be the discussion]:\\nIn addition to providing empirical measures and predictive equations for total expenditure from infancy to old age (Tables S1,Â\\xa0S2), our analyses bring to light major changes in metabolic rate across the life course. To begin, we can infer fetal metabolic rates from maternal measures during pregnancy: if body size-adjusted expenditures were elevated in the fetus, then adjusted expenditures for pregnant mothers, particularly late in pregnancy when the fetus accounts for a substantial portion of a motherÂ’s weight, would be likewise elevated. Instead, the stability of adjusted total and basal expenditures at ~100% during pregnancy (Figure 2B) indicates that the growing fetus maintains a fat free mass- and fat mass-adjusted metabolic rate similar to adults, which is consistent with adjusted expenditures of neonates (both ~100%;Â\\xa0Figure 2) in the first weeks after birth. Total and basal expenditures, both absolute and size-adjusted values, then accelerate rapidly over the first year. This early period of metabolic acceleration corresponds to a critical period in early development in which growth often falters in nutritionally-stressed populations (19). Increasing energy demands could be a contributing factor.\\nAfter rapid acceleration in total and basal expenditure during the first year, adjusted expenditures progressively decline thereafter, reaching adult levels at ~20 yr. Elevated adjusted expenditures in this life stage may reflect the metabolic demands of growth and development. Adult expenditures, adjusted for body size and composition, are remarkably stable, even during pregnancy and post-partum. Declining metabolic rates in older adults could increase the risk of weight gain. However, neither fat mass nor percentage increased in this period (Figure S3), consistent with the hypothesis that energy intake is coupled to expenditure (20).\\nFollowing previous studies (21Â–25), we calculated the effect of organ size on basal expenditure over the lifespan (Methods). At rest, the tissue-specific metabolic rates (Watts/gram) of the heart, liver, brain, and kidneys are much greater than those of the muscles and other lean tissue or fat (21Â–25). Organs with a high tissue-specific metabolic rate, particularly the brain and liver, account for a greater proportion of fat free mass in young individuals, and thus organ-based basal expenditure, estimated from organ size and tissue-specific metabolic rate, follows a power-law relationship with fat free mass, roughly consistent with observed basal expenditures (Methods,Â\\xa0Figure S6). Still, observed basal expenditure exceeded organ-based estimates by ~30% in early life (1 Â– 20 y) and was ~20% lower than organ-based estimates in subjects over 60 y (Figure S6), consistent with previous work indicating that tissue-specific metabolic rates are elevated in children and adolescents (22,Â\\xa024) and reduced in older adults (21,Â\\xa023,Â\\xa025).\\nWe investigated the contributions of daily physical activity and changes in tissue-specific metabolic rate to total and basal expenditure using a simple model with two components: activity and basal expenditure (Figure 3;Â\\xa0Methods). Activity expenditure was modeled as a function of physical activity and body mass, assuming activity costs are proportional to weight, and could either remain constant at adult levels over the lifespan or follow the trajectory of daily physical activity measuredÂ\\xa0viaÂ\\xa0accelerometry, peaking at 5 Â– 10 y and declining thereafter (11,Â\\xa026,Â\\xa027) (Figure 3). Similarly, basal expenditure was modeled as a power function of fat free mass (consistent with organ-based BEE estimates;Â\\xa0Methods) multiplied by a Â“tissue specific metabolismÂ” term, which could either remain constant at adult levels across the lifespan or follow the trajectory observed in adjusted basal expenditure (Figure 2). For each scenario, total expenditure was modeled as the sum of activity and basal expenditure (Methods).\\nModels that hold physical activity or tissue-specific metabolic rates constant over the lifespan do not reproduce the observed patterns of age-related change in absolute or adjusted measures of total or basal expenditure (Figure 3). Only when age-related changes in physical activity and tissue-specific metabolism are included does model output match observed expenditures, indicating that variation in both physical activity and tissue-specific metabolism contribute to total expenditure and its components across the lifespan. Elevated tissue-specific metabolism in early life may be related to growth or development (22,Â\\xa024). Conversely, reduced expenditures in later life may reflect a decline in organ level metabolism (23,Â\\xa025,Â\\xa028).\\nMetabolic models of life history commonly assume continuity in tissue-specific metabolism over the life course, with cellular metabolic rates increasing in a power-law manner (Energy =Â\\xa0aMassb) and the energy available for growth during the juvenile period made available for reproduction in adults (29,Â\\xa030). Measures of humans here challenge this view, with size adjusted metabolism elevated ~50% in childhood compared to adults (including pregnant females), and ~25% lower in the oldest subjects. It remains to be determined whether these fluctuations occur in other species. In addition to affecting energy balance, nutritional needs, and body weight, these metabolic changes present a potential target for clinical investigation into the kinetics of disease, pharmaceutical activity, and healing, processes intimately related to metabolic rate. Further, there is considerable metabolic variation among individuals, with TEE and its components varying more than Â± 20% even when controlling for fat free mass, fat mass, sex, and age (Figure 1,Â\\xa0?,2,2,Â\\xa0Table S2). Elucidating the processes underlying metabolic changes across the life course and variation among individuals may help reveal the roles of metabolic variation in health and disease.\\n\"', '\"Exercise Snacks A Novel Strategy to Improve Cardiometabolic Health\\n\\nTHE EFFICACY OF EXERCISE SNACKS FOR IMPROVING CRF IN INACTIVE ADULTS\\n\\nOur first exercise snacks study (15) was developed based on previous work showing a ~1 MET improvement in CRF after a 6-wk stair climbing protocol that involved 3 Ã— 20-s hard efforts over a 10-min period performed 3 dÂ·wk?1 (26). In the subsequent study (15), we exposed previously inactive young adults to an intervention involving either three daily bouts of vigorous stair climbing performed 1Â–4 h apart on 3 dÂ·wk?1 or a no-exercise control (n = 12 per group) (15). For each stair-based exercise snack, participants were instructed to safely ascend 60 steps in a three-flight stairwell as quickly as possible. Each exercise snack was preceded by a dynamic warm-up (10 jumping jacks, 10 air squats, and 5 lunges on each side) and followed by a 1-min walking cooldown. After the 6-wk intervention, there were modest, albeit significant, improvements in CRF as measured using cycling V?O2peak and peak power output in the exercise snacks group as compared with control (15). CRF and peak power output values in the exercise snacks group were ~5% and ~12% higher postintervention, respectively, as compared with baseline. Of note, the vigorous exercise snacks elicited mean RPE values corresponding to a Â“hardÂ” effort (5 Â± 1 on the Borg CR10 scale) and mean HR responses equating ~85% of the age-predicted maximum over the course of the training intervention (15).\\n\\nThe potential for exercise snacks to improve CRF (15) was confirmed in a study involving three isolated 20-s Â“all-outÂ” cycling bouts (each with a 2-min warm-up and 1-min cooldown) performed 1Â–4 h apart (17). V?O2peak and time-trial performance improved by ~4% and ~9%, respectively, over a 6-wk period in a group of 12 inactive adults (17). The CRF and performance gains with cycling-based exercise snacks seemed to be similar in magnitude to those observed in participants who were randomized to a traditional SIT protocol in this study, although the study was admittedly underpowered for between-group comparisons (Fig. 1). These results suggest that the vigorous nature of these protocols may be a more important adaptive stimulus than performing successive bouts of fatiguing exercise within a short period. In support of this supposition, an isolated 10-s sprint is sufficient to alter the concentration of intramuscular metabolites (27), and a 30-s sprint activates key intracellular signaling cascades involved in mediating training adaptation (e.g., adenosine monophosphate (AMP)Â–activated protein kinase) (28). These findings extended earlier work in 18 middle-aged females demonstrating a ~14% improvement in V?O2peak when three isolated 30-s Wingate tests undertaken 4 h apart were performed thrice weekly over an 8-wk period (29).\\n\\nTaken together, evidence gleaned from the aforementioned studies suggests that vigorous exercise snacks are an effective strategy to improve CRF and indices of exercise performance in previously inactive adults. Despite participants in our studies still being considered physically inactive based on the recently revised Physical Activity Guidelines for Americans (i.e., by completing exercise snacks, they would not necessarily achieve 150 min of moderate-intensity or 75 min of vigorous-intensity aerobic physical activity, or an equivalent combination of both each week (30)), the CRF gains conferred by the exercise snacks approach would still be expected to have health benefits (2). Importantly, for the adoption of exercise snacks by the general population outside the laboratory, the CRF gains attained using the exercise snacks approach do not require all-out efforts (15) and are apparent using both cycling-based exercise snacks and a more practical stair-based snack protocol that can be easily implemented in a home-, school-, or office-based setting.\\n\\nTHE FEASIBILITY OF EXERCISE SNACKS IN PRECLINICAL AND CLINICAL POPULATIONS\\nSedentary behavior is linked to adverse metabolic outcomes independent of CRF and physical activity levels (3,10,11), and evidence from both observational and interventional studies supports the health benefits of interrupting sedentary time with bouts of low- to moderate-intensity physical activity such as walking (12Â–14). Although these strategies effectively mitigate the cardiometabolic health defects arising from sedentary behavior, practical lifestyle approaches that break up prolonged periods of inactivity while simultaneously improving in CRF in populations at risk for, or diagnosed with, cardiometabolic disease (e.g., type 2 diabetes, coronary artery disease) are presently limited. Relatedly, a large proportion of individuals in this demographic are elderly and have low physical fitness levels or other disease-related risk factors that may prevent participation in traditional forms of exercise that are typically well suited for healthy adults. Thus, there is an urgent need for feasible exercise strategies that can effectively improve cardiometabolic health in these populations.\\n\\nRecent work from our laboratory supports the feasibility and efficacy of vigorous exercise snacks to disrupt prolonged periods of inactivity and improve cardiometabolic health markers in preclinical and clinical populations. Using a randomized crossover design, we demonstrated that breaking up 9 h of sitting with hourly bouts of vigorous stair-based exercise snacks (~15Â–30 s) significantly reduced the area under the curve for insulin by ~17% and nonesterified fatty acids by ~21% in 11 adults with overweight/obesity (Fig. 2) (16). Unlike our previous studies (15,17), we opted not to include a warm-up and cooldown in this study to capture what an exercise snack may look like in the real world. These preliminary findings are reinforced by a recent study from Wolfe et al. (31) that reported improvements in some measures of metabolic control when 8 h of continuous sitting was compared with a condition where participants performed 5 Ã— 4-second maximal cycling sprints on a specialized ergometer, once per hour. Breaking up prolonged sitting with hourly sprints resulted in a ~31% reduction in postprandial plasma triglycerides and 43% increase in fat oxidation after the consumption of a high-fat meal on the morning after the experimental trial (31). The exercise protocol was not strictly an exercise snacks study per our definition here, however, because it involved a total of 20 s of maximal intensity cycling over ~4Â–5 min once per hour. Other reports also show the feasibility of short practical bouts of stair-based vigorous exercise in individuals with type 2 diabetes (32) and coronary artery disease (33,34), and research into the potential of exercise snacks for improving metabolic outcomes in clinical populations represents a promising avenue for future work. It will also be of interest to examine how the more vigorous exercise snacks approach discussed here compares to breaking up prolonged sitting with frequent light- to moderate-activity breaks Â— an approach that has previously demonstrated benefits for improving markers of metabolic control in individuals with obesity and type 2 diabetes (12,14,20,35).\\n\\nTHE POTENTIAL FOR EXERCISE SNACKS TO IMPROVE VASCULAR HEALTH\\nIn addition to causing metabolic disruptions, prolonged sitting also reduces leg blood flow and shear stress Â— factors implicated in endothelial dysfunction and the pathogenesis of cardiovascular disease (36,37). The detrimental effects of sedentary behavior on vascular function can be mitigated when exercise is undertaken before (38), during (39), or immediately after (40) an extended bout of prolonged sitting. In this regard, recent work from our laboratory also supports the potential for exercise snacks to improve vascular function during extended periods of sitting. Caldwell et al. (18) exposed 10 healthy males to ~8.5 h of sitting with or without hourly stair-based exercise snacks involving ~14Â–20 s of ascending three flights of stairs at a brisk speed. Significant improvements in femoral artery hemodynamics, but not flow-mediated dilation (FMD), were apparent when prolonged sitting was interrupted with hourly exercise snacks, as reflected by ~32% higher blood flow and vascular conductance and a ~15% increase in shear rate (18) (Fig. 3). Although we are unaware of other studies examining vascular function in response to the exercise snacks approach as defined here, our work is supported by recent observations of improved popliteal artery blood flow and shear rate in healthy adults when a postprandial 4-h sitting period is interrupted with hourly 5-min bouts of vigorous stair climbing (23). Notably, the longer stair climbing bouts used by Cho et al. (23) also offset the reduction in FMD during prolonged sitting, suggesting that longer acute bouts of exercise may be required to elicit favorable effects on this parameter of vascular function. Taken together, these findings support the potential of exercise snacks to favorably impact vascular health, although additional studies are required to confirm the findings presented here, particularly with regard to the effects of exercise snacks on vascular and endothelial function.\\n\\nWHERE DO EXERCISE SNACKS FIT IN?\\nExercise snacks align with the recently revised Physical Activity Guidelines for Americans and the World Health Organization (WHO) Guidelines on Physical Activity and Sedentary Behavior (30,41). In recognition of the potential health benefits of short bouts of physical activity, the updated recommendations from these and other organizations eliminated the previous requirement that physical activity had to be accumulated in bouts lasting at least 10-min minimum (30,41). In line with this recommendation, other work has demonstrated the maintenance of health benefits when splitting longer sessions of continuous exercise into shorter bouts dispersed over the course of the day (42). Stamatakis et al. (43) recently proposed a framework encouraging four pillars of research to better understand the health benefits of a strategy called Â“vigorous intermittent lifestyle physical activityÂ” (VILPA). These authors define VILPA as a single session of vigorous activity (?14 or 15 on the Borg 6Â–20 scale or >6 MET) lasting no more than 5 min performed as part of activities of daily living or other lifestyle physical activities (43). Exercise snacks align closely with the VILPA framework in terms of their brevity, intensity, and accessibility but are technically distinct. First, unlike VILPA, exercise snacks are not purely incidental to, or inherently part of, activities of daily living but rather can be planned or structured within lifestyle activities Â— a distinction that still preserves the important aspects of feasibility and accessibility upon which VILPA is based. Exercise snacks also embody key elements of exercise that are not necessarily part of VILPA Â— namely, structure (?1 min in duration and performed as a hard effort), planning (required some anticipation or decision making), repetition (must be performed multiple times over the day), and intention (performed for the improvement of cardiometabolic health) Â— further distinguishing them from the VILPA approach. Nonetheless, it becomes somewhat difficult to delineate between a purposeful exercise snack embedded within activities of daily living Â— for instance, vigorously ascending the stairs to use the restroom on a different floor in an office building or performing a set of jumping jacks during a break between virtual meetings Â— and lifestyle approaches such as incidental VILPA (e.g., carrying groceries up several flights of stairs, maximizing walking pace to the bus stop). Relatedly, although exercise snacks are sometimes compared as a more practical alternative to SIT (17), the health benefits of exercise snacks do not require Â“all outÂ” efforts and can be achieved without the use of specialized cycle ergometers (15,16,18) Â— both of which are typical components of traditional SIT protocols. As such, we believe it is most appropriate to classify exercise snacks as a distinct subset of brief vigorous exercise (6), but we also recognize that Â— as with most things in science Â— the concept of exercise snacks proposed here is not necessarily new but rather may be an alternative iteration of an idea that has likely been presented by others in different contexts, both in the past and present.\\n\\nCONCLUSIONS\\nThe persistence of insufficient physical activity levels and sedentary lifestyles among the general population in modern Western societies highlights the ongoing need for feasible exercise strategies that simultaneously improve CRF and reduce the impact of sedentariness on cardiometabolic health. Based on the emerging evidence presented in this article, we propose that exercise snacks Â— defined here as isolated bouts of brief vigorous exercise performed multiple times throughout the day Â— may be one such strategy (Fig. 4). Exercise snacks involving thrice daily ~15Â–30 s of hard effort involving cycling and more practical stair climbing are efficacious for improving CRF and exercise performance in inactive adults. Exercise snacks may also have potential to improve aspects of cardiometabolic health in individuals with obesity, but their efficacy in clinical populations remains to be established as existing reports have studied a small number of participants in laboratory-based settings. Relatedly Â— and perhaps most importantly Â— the applicability of exercise snacks in a Â“real-worldÂ” (e.g., in home-, office-, or work-based) setting and the potential for exercise snacks to target musculoskeletal health remain to be determined.\\n\\nPage 1 of 1\\n\\n\"', '\"Food craving, cortisol and ghrelin responses in modeling highly palatable snack intake in the laboratory\\n\\nDISCUSSION\\nThis preliminary study is the first to directly compare the effects of both food cue and stress exposure on HP food craving and HP food intake in a 3-day human laboratory experiment conducted within a controlled hospital-based setting with healthy community adults. As both the ubiquitous HP food environment and stressors are known to increase HP food intake and obesity risk, a direct comparison of these contexts could identify similar and differential processes that may underlie food motivation and intake. As hypothesized, and similar to our previous work in addiction [18], we found that exposure to both personal food cues and to personal stressors relative to a neutral relaxing control cue resulted in increases in HP food craving and subsequent increased snacking of HP foods in a standardized Food Snack Test (FST), but with differential effects in lean and overweight BMI groups. Furthermore, we found that increased food craving in these contexts was highly associated with subsequent amounts of HP food snack intake. Finally, both ghrelin and cortisol were found to significantly impact food motivation but differentially across lean and overweight individuals. Together, these results support the need for further investigation of biobehavioral processes underlying HP food motivation and intake, especially in the context of weight-related physiological adaptations.\\nExposure to food cue imagery led to significant increases in HP food craving prior to the presentation of the FST at the pre-snack timepoint in both lean and OW individuals. Moreover, food cue-related increases in food craving predicted significant increases in HP snack intake across both lean and OW individuals. These data are consistent with a significant literature indicating that rewarding stimuli and their related contexts increase motivation and wanting of rewarding stimuli via conditioning and/or incentive salience mechanisms [4,Â\\xa020,Â\\xa042]. Also, a number of basic science and human neuroimaging studies have shown that food cue stimulus exposure increases food craving and activate brain reward and motivation regions [4,Â\\xa07-11,Â\\xa018,Â\\xa043,Â\\xa044]. Current findings further indicate that such food cue-related increases in HP food craving promote HP snack intake with greater intake of HP foods in the food cue context relative to the neutral relaxing contexts across individuals. These data validate the real-world contexts of advertising of HP foods to promote greater sales and intake of HP foods.\\nIn contrast, we found a differential impact of stress on HP food craving and intake by BMI group where stress significantly increased food craving relative to the neutral condition, but only in the overweight and not the lean group. Furthermore, stress-induced HP food craving predicted subsequent HP snack intake in the overweight but not the lean group, suggesting that food motivational processes may be relevant in identifying those who are vulnerable to stress-induced eating. Previous laboratory studies have shown mixed results with some showing stress increasing food intake [17,Â\\xa024], but others reporting no consistent increases in intake [23,Â\\xa045]. While the methodology has varied across these studies, current findings suggest the need for direct comparison of BMI groups and consideration of weight-related adaptations in assessing stress effects on HP food motivation and intake. Current findings are also supported by a growing literature suggesting that BMI-related alterations impact not only metabolic hormones but also stress and reward processes that may contribute to increased food motivation and intake [18,Â\\xa020,Â\\xa044]. Together our findings on food cue- and stress- related effects on HP food motivation and intake suggests differential effects by BMI, that may in turn, point to different mechanisms that may drive weight gain and obesity risk in individuals who are lean versus those who are overweight.\\nOur findings also show differential effects of food cue and stress exposure on total ghrelin responses and their contribution to HP food motivation and intake. Stress and food cue exposure increased ghrelin responses, but significantly for the OW and not the LN group. Furthermore, only in the OW group was stress-induced ghrelin increases significantly associated with both HP food craving and subsequent HP food intake. While ghrelin has well known homeostatic effects on feeding function [46,Â\\xa047], recent focus has been on its role in both stress and mood regulation as well as in hedonically motivated feeding behavior, partially via its effects on mesolimbic reward circuits [37,Â\\xa048]. Findings indicate that ghrelin can shift preferences to high palatable foods and increase the motivational aspects of food reward [48]. Ghrelin is also known to increase with stress and is involved in regulating anxiety and mood (36,Â\\xa049-51). Neuroimaging studies have demonstrated that ghrelin administration increases the neural response to food pictures in areas associated with hedonic eating (i.e., amygdala, hippocampus, orbitofrontal cortex, striatum, and ventral tegmental area) [52]. Additionally, there is growing evidence that feed-forward circuitry between stress and food reward maybe partly mediated by ghrelin [52,Â\\xa053]. In the current study, as the effects were specific to the OW group, they suggest that weight-related adaptations in ghrelin modulated pathways could potentially shift food motivation towards hedonic regulation, especially under stress conditions.\\nFinally, our findings also showed differential effects of cortisol responses to stress and food cue exposure. Notably, there was a significant increase in cortisol in the food cue relative to the neutral condition that was due to significant increases in cortisol in the lean group and not so in the OW group. Furthermore, food cue-related increases in cortisol was associated with greater food cue-related HP craving, suggesting a role for cortisol in food motivation. While glucocorticoids are often associated with the stress response, they are also known to play an important role in energy intake and regulation. Cortisol increases have been noted with intake of specific macronutrients, including carbohydrates, fats and proteins in animals and humans [6,Â\\xa054], with the source of cortisol increases to be via both adrenal and extra-adrenal production [54]. Furthermore, in our previous neuroimaging study, increases in cortisol during a mild hypoglycemic state was associated with greater activation of brain reward regions that promoted greater food craving [44]. Together, this previous research supports current findings of the association between greater cortisol responses to food cue exposure with food cue-induced HP food craving.\\nWe did not see an overall significant increase in cortisol during stress exposure, but this was largely due to a lack of response in the OW group. Remarkably, the OW group showed blunted cortisol responses during stress and food cue relative to neutral conditions. This finding is consistent with growing evidence of blunted cortisol and autonomic responses to stress challenge in people who are OW or obese, along with altered autonomic and peripheral catecholamine responses to stress challenge in those weight groups [18,Â\\xa021-25,Â\\xa055]. HPA axis adaptations with low cortisol awakening responses have been reported in higher BMI groups, along with blunted responses to stress and reduced dopamine activity [20,Â\\xa056]. Thus, the current findings of lack of cortisol increases in the OW group leads one to speculate that such HPA axis adaptations may contribute to higher HP food craving and intake in food cue and in stress contexts. However, this is speculation and would need further testing in future studies.\\nSeveral limitations of the current study need to be considered. First, the sample size was small and thus the findings are preliminary and need further validation. Also, due to the small sample size, sex differences and differential responses within the overweight groups were not assessed. It is possible that men and women differ in their food motivation and intake responses in food cue and stress contexts as shown in previous work [26,27]. Also, continuous assessment of BMI rather than arbitrary cutoffs for individuals in the lean, overweight and obese BMI range may provide greater sensitivity in assessing weight related adaptations. Thus, research with larger samples is required to replicate current findings and address these issues. Finally, as this study was conducted while participants were in a hospital, it is not clear whether the findings are generalizable to an outpatient experimental context or to real world food motivation and intake settings. On the other hand, as food cues and stress are among the most common contexts in which overeating of HP foods occur in the real world, the current study presents a well-controlled experimental model to study the biobehavioral processes that may contribute to increased food motivation and intake of highly palatable foods. Evidence of HP food motivation and increased snacking in these contexts is consistent with reports of obesogenic environments promoting increased HP food intake and weight gain in the real world. Furthermore, positive associations of HP food craving and intake by total ghrelin and cortisol responses suggests a role for metabolic and neuroendocrine adaptations in increased HP food motivation and intake.\\n?\\nHIGHLIGHTS:\\n* This paper directly compares the effects of both food cue and stress exposure on highly palatable food craving and intake in a 3-day human laboratory experiment conducted within a controlled hospital-based setting with healthy community adults.\\n* Results show that food cues and stress exposure increases food craving and subsequent snacking of highly palatable foods, and food cravings predict subsequent highly palatable food intake.\\n* Ghrelin and cortisol hormones appear to play a role in food cue and stress related food motivation and intake.\\n* These findings suggest the need for further carefully controlled studies to understand the biobehavioral processes that drive overeating and weight gain.\\n\\n\"', '\"High doses of anti-inflammatory drugs compromise muscle strength and hypertrophic adaptations to resistance training in young adults.\\n\\nDiscussion \\nThe interest in this study was spurred by the intriguing observation that while NSAIDs might have a negative impact on acute exercise responses (satellite cell activity, translational signalling and protein synthesis), previous human studies have failed to demonstrate a detrimental effect of NSAIDs on the development of muscle hypertrophy in response to chronic resistance training in young adults, possibly due to differences in drug dosage across studies. Accordingly, in the current study, healthy young men and women performed 8 weeks of supervised resistance training with concomitant high- or low-dose NSAID treatment. The major and novel findings were that 1) maximal overthe-counter doses of ibuprofen compromised resistance exercise-induced muscle hypertropy\\nindependent of training mode; 2) increases in muscle strength were attenuated by ibuprofen only when training was performed with maximal all-out repetitions; 3) while the resistance-training intervention resulted in several muscle molecular adaptations, the only marked difference across medical treatment was a significant ibuprofen-induced downregulation of the inflammatory cytokine IL-6 mRNA, compared with an upregulation in the ASA group. This is the first study showing that daily consumption of high doses of NSAIDs attenuates strength and muscle hypertrophic adaptations to resistance training in young healthy individuals. We acknowledge that a limitation of the current study was that we did not include a non-treated control group. However, the increase in muscle volume (7.5%) in the ASA group was of a similar, and expected, magnitude to that previously reported by our group20 and others.21,22 In the light of this, the magnitude of the reduction in muscle hypertrophy in response to the ibuprofen treatment was quite remarkable and, if anything, should the ASA treatment have had a small effect on the adaptive response, it would only have masked an even greater difference across groups than what is reported herein. Nonetheless, given the marked effect of ibuprofen and the fact that the increase in muscle size in the control group (0.14% per day) was of similar magnitude as the average rate of hypertrophy reported in past studies employing knee-extensor resistance training,23 we are confident that our data provide strong proof-of-principle evidence that the effect of NSAIDs on muscle adaptations to resistance exercise is dependent of the dose of intake. The rationale for using acetylsalicylic acid instead of ibuprofen as a low-dose comparator in the current study was based on the fact that when the drug is consumed orally, it undergoes substantial presystemic hydrolysis in the gut and liver before it enters the systemic bloodstream. As the drug will, however, encounter blood in the portal circulation, low doses of acetylsalicylic acid will exert its antiplatelet effect with no or limited effect on systemic targets such as peripheral tissue.16Â–18 Consequently, the potential circulatory effects are factored out and we hypothesize that the negative effect of ibuprofen was due to muscle-specific COX inhibition rather than the antiplatelet effect achieved by both ibuprofen and low doses of acetylsalicylic acid.18,24 The results of the present study are in agreement with animal studies showing an inhibitory effect of COX inhibitors on muscle hypertrophy.8,9,25 They also agree with acute human data reporting attenuated protein synthesis,5 translational signalling13 and satellite cell activity11,12 in response to resistance training with concomitant high-dose NSAID administration. Our hypothesis of a dose-dependent effect is also supported by the only comparable training study in young healthy subjects.14 That particular study reported no effect of ibuprofen on muscle hypertrophy or strength gains after 6 weeks of training consisting of six sets of biceps curls 2Â–3 days week---------------1 . The drug dose was consumed on training days only, resulting in a total intake of 800Â–1200 mg week---------------1 , 14 compared with 1200 mg per day in the current study. This indeed highlights the potential importance of drug dosage where, evidently, intake of maximal over-the-counter doses is potent enough to interfere with the normal hypertrophic development of 0.1Â–0.2% per day seen in the ASA group as well as in other studies employing conventional resistance-training programmes for the knee extensors.23 It is generally agreed that repeated increases in muscle protein synthesis following each exercise bout is the most important mechanism underlying training-induced muscle hypertrophy.26,27 Thus, it seems plausible to suggest that the main explanation for the clear attenuation of hypertrophy, which was evident in both training modes (FW and WS), was diminished prostaglandin production and hence decreased muscle protein synthetic response after each training session in the IBU group. Indeed, there is increasing evidence that COX and prostaglandins play an important role in regulating the molecular events controlling muscle hypertrophy. For example, C2C12 myotube diameter was shown to be regulated by PGF2a in an mTORdependent manner7 , and exercise-induced increases in p70S6K (downstream of mTOR) was blunted by ibuprofen treatment in the early hours following acute resistance exercise.13 In the current study, however, there were no group interactions for any of the target proteins examined, suggesting that the ibuprofenmodulating effect on muscle adaptations is not associated with differential expression of steady-state proteins in response to chronic training. Perhaps assessing satellite cell content,11 or the phosphorylation levels of translational signalling proteins in response to acute exercise,13 would have provided more mechanistic insights. We measured several key molecular markers for COX and prostaglandin-mediated metabolism, regulators of muscle growth and atrophy, and several cytokines and myokines that have been shown to regulate skeletal muscle protein metabolism and exercise adaptations.4 The most clear-cut molecular evidence for an effect of ibuprofen on peripheral muscle tissue was the marked drug effect on IL-6 mRNA, where levels in the ibuprofen group were downregulated despite a significant upregulation in the control group. The reduction of IL-6 in the ibuprofen group is coherent with previous studies suggesting PGE2 as a stimulator of IL-6 transcription in both human muscle28 and other cell types.29 It has previously been reported that the NSAID-modulating effects on muscle hypertrophy in older subjects were associated with lowered expression of IL-6 and subsequently MuRF-1, resulting in a more beneficial cellular environment for muscle growth.30 While our data are coherent with that of Trappe and colleagues regarding the expression of IL-6 in the ibuprofen-treated group (downregulated) compared to the control group (upregulated), the muscle hypertrophy data certainly contradict these findings. In that study, elderly subjects (60Â–78 years) performed 12 weeks of resistance training with simultaneous daily ibuprofen treatment of 1200 mg. The increase in muscle size was substantially greater with ibuprofen compared with placebo,15 and this was supported by acute data showing no interference of ibuprofen on muscle protein synthesis in the same age group.31 Thus, interestingly, there may be distinct differences in the response to resistance training and NSAID consumption in the young vs. the elderly, and probably also in the mechanistic underpinnings of exercise-induced tissue remodelling in these age groups. Specifically, in the present cohort of young subjects, it is possible that blunting of important inflammatory processes, as reflected by the downregulated IL-6 gene expression, contributed to the attenuated hypertrophic response because previous studies have shown that induction of IL-6, and also other inflammatory and proteolytic factors, has an important role in muscle regenerative processes during hypertrophic conditions.32,33 In contrast, the role of inflammatory processes may be different in the elderly where an ibuprofen-induced downregulation of IL-6 could reduce chronic low-grade inflammation and thereby restore the blunted anabolic response to resistance exercise typically seen in aged populations.34 Thus, based on the current data and given the complex regulation of mRNA and protein levels,35,36 future studies should directly compare the response to resistance exercise and NSAID treatment in young vs. old populations as well as incorporate better time resolution, including both acute and chronic biopsy time points and perhaps also higher-throughput techniques, to provide more conclusive evidence of the critical mechanisms regulating the interactive effects of NSAIDs and resistance exercise on muscle adaptations. The functional data showed that increases in muscle strength were attenuated in IBU compared with ASA, but only in the FW leg. In our mind, this leads to two questions: first, if this strength difference was explained by the larger increase in muscle size in the control group, why was strength not reduced in the WS leg? Second, if not muscle size, what other mechanisms could explain the fact that strength was negatively affected by ibuprofen only in the FW leg? Regarding the first question, although muscle mass and strength are generally highly correlated at baseline in pre-training situations,37,38 the same does not necessarily apply when it comes to increases in strength and muscle size following short-term resistance training.39,40 This was also the case in the current study, where in fact the correlation between changes in muscle size and strength was very weak (R2 ~0.05; data not shown). Thus, it appears that strength gains can occur irrespective of the magnitude of increase in muscle volume and hence, this could explain why, in the WS leg, the larger increase in muscle volume for the ASA group did not result in a larger increase in strength compared with IBU. It is plausible that with longer-term training, once neural adaptations have plateaued,41 the relationship between muscle size and strength would be restored and hence the negative effect of ibuprofen on strength would be even more evident. As to the second question raised above, we did speculate beforehand that perhaps NSAID consumption could affect acute training performance and thereby the capacity to perform high-intensity repetitive work bouts. It appeared at first that the strength reduction in the FW leg was not related to a reduction in day-to-day training performance, as both groups performed an equal amount of work throughout the 8-week training programme. Interestingly, however, a closer look at the data in Figure 1 reveals that the ibuprofen group certainly showed a levelling-off effect during the last week of flywheel training, which likely explains the lower strength gains noted. Regarding the logical follow-up question of why training performance in the FW leg was negatively affected by ibuprofen only at the end of the training period, we are unable to provide a definite answer. However, given that the main differences between the two training modes is the eccentric overload, provoking greater inflammatory stimulus, and the maximal unlimited resistance provided by the flywheel device,21,42 it is tempting to speculate that one (or both) of these two features are particularly prone to ibuprofen treatment, at least after a few weeks of accumulated training. It should also be noted that day-to-day performance levels varied much more in the FW leg, indicating that this training regime was more stressful for the subjects. Alternatively, as indicated earlier, the relationship between muscle mass and strength became more important at the end of the training period, and hence, the levelling-off phenomenon in the IBU group was due to the compromised hypertrophic development. Altogether, based on the current data and given the knowledge of different time resolutions for the underlying mechanisms of muscle strength, longer training studies could clarify whether interference in muscle growth will be associated with reduced muscle strength, and whether different training modes, such as eccentric overload, are even more sensitive to concomitant NSAID treatment. Notwithstanding, our findings raise the concern that resistance-training studies employing strict work-matched increases across groups might overlook important effects of various factors such as medical treatments or supplements that would have become evident if maximal efforts had been allowed throughout each set and training session. In summary, we show for the first time that maximal over-the-counter doses of NSAIDs compromise resistance exercise-induced increases in muscle size and strength in young adults. The gains in muscle size were attenuated by ibuprofen independent of the type of training performed, whereas muscle strength was attenuated only when training was performed with maximal all-out repetitions. Furthermore, while the resistance-training intervention resulted in several muscle molecular adaptations, the only marked difference across medical treatment was a significant ibuprofen-induced reduction in IL-6 gene expression, which in our mind reflected a changed inflammatory environment that, speculatively, contributed to the attenuated hypertrophic development in the ibuprofen group. This study improves our understanding of how NSAIDs work and interacts with chronic exercise responses, and considering the potency of the drug to modify muscle mass and function, the mechanistic findings should contribute to a better understanding of regulation of muscle growth in general. More importantly, however, the results have implications for the millions of individuals worldwide who consume NSAIDs on a regular basis while trying to obtain the best possible benefits of resistance training. \\n\\n\"', '\"Hypohydration but not Menstrual Phase Influences Pain Perception in Healthy Women\\n\\nDISCUSSION\\nThis study examined the independent and combined effects of hypohydration and menstrual phase on experimental pain sensitivity in healthy eumenorrheic women, and the potential efficacy of acute water ingestion as a remedy to the deleterious impact of hypohydration. The main findings were that: 1) mild hypohydration increased pain sensitivity, 2) menstrual phase did not affect pain sensitivity, nor did it influence the effect of hypohydration on pain, and 3) acute water ingestion did not reduce pain sensitivity.\\n\\nHypohydration and Pain in Women\\nIndependent of menstrual phase, mild hypohydration following 24 h of fluid restriction reduced pain tolerance (?8%) and increased pain intensity (+13%) and pain unpleasantness (+12%) ratings at 1 min after handgrip exercise (hereafter referred to as pain ratings) during ischemic pain stimulation, when compared with euhydration. These findings are consistent with those of previous studies that showed negative effects of mild hypohydration on experimental pain sensitivity in men (7, 8). Ogino et al. (7) observed a decrease in pain thresholds (i.e., increased pain sensitivity) following a combination of exercise-induced dehydration and fluid restriction, whereas Bear et al. (8) found an increase in pain intensity ratings but no difference in pain thresholds after 24 h of fluid restriction. Therefore, the current findings extend these previous results to women by showing that mild hypohydration also increases experimental pain sensitivity in women. The previous studies also did not include pain measures that reflect the affective/emotional experience of pain (i.e., pain tolerance or pain unpleasantness ratings) that may be important for chronic pain, whereas both pain threshold and pain intensity ratings assess the sensory/discriminative aspect of pain (49, 50). Although Bear et al. (8) measured pain tolerance, the nature of the stimulus-response relationship for the cold pressor taskÂ—i.e., plateau and gradual decline in the perceived intensity of the pain stimulus (41)Â—resulted in a large proportion (?2/3) of participants who were able to tolerate the pain until the 4-min cut-off time, thereby precluding meaningful analyses of the results. This issue was not apparent with the ischemic pain test used in the present study, as there was only one instance where the 20-min time limit was reached. Therefore, the current findings further add to the previous data by showing that mild hypohydration also negatively impacts the affective/emotional aspect of pain, as evidenced by the decrease in pain tolerance and increase in pain unpleasantness ratings compared with EUH.\\n\\nThe exact mechanisms underlying the hyperalgesic effect of hypohydration cannot be determined from the current data. However, one potential mechanism through which hypohydration may increase pain sensitivity is thirst perception. Geuter et al. (51) showed that an increase in thirst perceptionÂ—induced by consumption of salty snacks followed by 5 h of fluid deprivationÂ—led to an increase in pain intensity ratings during noxious heat stimulation, whereas subsequent ad libitum fluid intake, which reduced thirst perception, decreased pain ratings. In another study, stimulation of thirst sensation via hypertonic saline infusion increased pain intensity ratings during noxious pressure stimulation, which were associated with stronger activation of pain-related brain regions; namely, the anterior cingulate cortex and insula (52). Similar findings were reported in the study by Ogino et al. (7). These brain regions were previously shown to be activated and deactivated independently by an increase and decrease in thirst perception, respectively (52Â–54). However, it is not apparent from these data whether the increased pain sensitivity and pain-related brain activity were due to thirst perception per se, physiological hypohydration, or both.\\n\\nMenstrual Phase and Experimental Pain Sensitivity\\nMenstrual phase did not modulate the hyperalgesic effect of hypohydration, nor did it independently affect pain sensitivity. The lack of a menstrual phase effect on ischemic pain sensitivity is consistent with the findings of most previous studies that examined ischemic pain responses across the menstrual cycle (18, 55Â–58). In contrast, studies by Fillingim et al. (59) and Pfleeger et al. (60) observed greater pain sensitivity during the luteal compared with follicular phase. However, concentrations of 17?-estradiol and progesterone were not measured in the study by Pfleeger et al. (60), whereas the specific definition of the luteal phase used by Fillingim et al. (59) differed from that in the current study. We examined the ML phase when concentrations of both 17?-estradiol and progesterone are elevated, whereas Fillingim et al. (59) included the late-luteal period in their classification of the luteal phase, during which concentrations of 17?-estradiol and progesterone are declining rapidly and are less stable compared with the ML phase. Given that menstrual phases characterized by fluctuating or unstable 17?-estradiol levels have been associated with increased severity of various chronic pain conditions (14), this may explain why Fillingim et al. (59) observed phase differences in pain sensitivity whereas we did not.\\n\\nThe equivocal and inconclusive results regarding menstrual phase effects on experimental pain sensitivity are thought to be due, in part, to the lack of proper verification of menstrual phases through blood measurements of 17?-estradiol and progesterone (15, 16), making it difficult to draw conclusions about the relationship between menstrual phase/hormone status and pain sensitivity. Similar to previous observations (22, 23), Sosm was lower in the ML than EF phase (Table 2); however, this phase difference in hydration did not appear to impact any of the ischemic pain measures (Figs. 1Â–3). In this study, we showed that after hydration status was controlled, menstrual phases were properly verified and potential confounders (e.g., dietary and lifestyle factors and dysmenorrhea) were minimized, there was no difference in ischemic pain sensitivity between the EF and ML phases. As such, our data suggest that the hormonal fluctuations within the menstrual cycle do not greatly impact pain sensitivity.\\n\\nInterestingly, although we did not find differences in pain sensitivity between the EF and ML phase, there was a positive correlation between 17?-estradiol and pain sensitivity, suggesting that women with higher baseline levels of 17?-estradiol may be more sensitive to pain than those with lower 17?-estradiol levels (i.e., between-subject effect). However, given the weak strength of the correlation (r = ?0.32) (48), this finding should be interpreted with caution.\\n\\nEffects of Acute Water Ingestion\\nGiven that thirst perception may be a potential mechanism linking hypohydration and increased pain sensitivity, we hypothesized that acute water ingestion when hypohydrated would reduce pain sensitivity. This would also help to delineate the effects of thirst and hypohydration per se, on pain, since acute water ingestion would be expected to reduce thirst without altering hydration status (38, 61). However, contrary to our hypothesis, ischemic pain tolerance was not affected by ingestion of 5 mLÂ·kg?1 of water, despite the significant decrease in thirst perception ratings. Meanwhile, ratings of both pain intensity and pain unpleasantness increased, which may appear counterintuitive as participants reported feeling more pain despite being less thirsty. These unexpected findings may be explained by carryover (sensitization) effects from the baseline pain test. A previous study showed that repeated pain stimulation within a single session produced a sensitization effect, whereby pain ratings increased gradually with each repeated stimulation (62). Therefore, this sensitization effect may have masked potential positive effects of acute water ingestion on pain. Future studies that either utilize a longer interval between the repeated pain tests, or perform the postwater ingestion pain test on a separate day, are required to gain further understanding on the relative importance of thirst perception and physiological hypohydration on pain.\\n\\nConsiderations\\nThere are several considerations and limitations of this study that should be noted in addition to those already discussed earlier. First, only healthy, eumenorrheic women were included in this study, which ignores postmenopausal women and oral contraceptive pill users, who have different hormonal profiles compared with eumenorrheic women. Therefore, it is possible that hypohydration may affect pain sensitivity differently in these women compared with eumenorrheic women. Second, blood samples were not obtained after water ingestion to confirm that hydration status was not altered. However, previous data indicate that consuming a moderate volume of water, similar to that in the current study, does not acutely alter hydration status in hypohydrated men (38, 61). In addition, the relatively short interval of 30 min between water ingestion and the subsequent pain test was likely insufficient for hydration status to be altered, because a previous study showed that at least 75 min is required for 300 mL of water to be completely absorbed into the bloodstream (63). Third, as participants could not be blinded to the hydration intervention, the increased pain sensitivity observed during HYPO may have been confounded by nocebo effects (64, 65). Although participants were not aware of the study hypotheses, they were aware of the aims of the study, one of which was to investigate the effects of hypohydration on pain sensitivity. Given the negative connotations of hypohydration or dehydration, it is conceivable that participants would expect hypohydration to increase pain sensitivity, which may have subsequently influenced participantsÂ’ actual responses to the ischemic pain test. Fourth, the body mass change values in HYPO may not accurately reflect the fluid losses induced by the 24 h of fluid restriction. Due to the scheduling constraints that included two experimental visits within 3 days per menstrual phase, we were unable to obtain a baseline body mass at the start of the hydration intervention; thus, body mass change in HYPO was calculated using EUH body mass. As the EUH and HYPO trials within each menstrual phase were separated by at least 48 h, it is likely that the values were confounded by factors other than the change in body water content (e.g., urine and fecal losses, food and fluid consumption). Acknowledging this limitation, we obtained other measures of hydration status (i.e., Sosm, USG, copeptin, and thirst ratings) in addition to body mass change for a more accurate assessment of hydrations status. Finally, our sample size may have limited our ability to detect statistically significant menstrual phase effects on pain. As such, the effects of menstrual phase on pain require further investigation. Our study could provide a reference for future studies with a similar design to base their sample size calculations on. Nevertheless, large effect sizes (?2p\\n = 0.37Â–0.55) were obtained for the main effect of hypohydration on pain, with an observed power of 0.7Â–0.9, which suggests a low probability of false negatives.\\n\\nPerspectives and Significance\\nOur data indicate that hypohydration increases pain sensitivity in women and this effect may not be reversed immediately by water ingestion. Whereas, menstrual phase (EF vs. ML) does not appear to affect pain sensitivity. These findings suggest that insufficient water intake throughout the day may exacerbate pain perception in healthy women. Given the high prevalence of hypohydration among the general population (25), future studies should investigate whether hypohydration may worsen chronic pain conditions, and the potential efficacy of maintaining adequate hydration in alleviating pain symptoms. This may be especially important for older adults, who are more likely to be hypohydrated and experience chronic pain (25, 66). For human pain researchers, controlling or measuring hydration status of participants may be important to minimize confound, as clinically and physiologically relevant tests such as the cold pressor are affected (67). Although we did not find differences in pain sensitivity between the EF and ML phases after controlling for hydration status, more high-quality research is required to accurately determine whether menstrual phase does or does not affect pain sensitivity. Therefore, until a consensus on the topic has been reached, our data do not discount the need for future pain researchers to verify menstrual phase.\\n\\n\"', '\"Recovery From Eccentric Squat Exercise in Resistance-Trained Young and Master Athletes With Similar Maximum Strength: Combining Cold Water Immersion and Compression\\n\\nDiscussion\\nThe study aimed at investigating the effects of aging on muscle soreness and muscle damage following an intensive squat exercise protocol as well as on age-related effects of a recovery intervention in tightly controlled populations of young and master athletes regarding their absolute performance level. As an important experimental precondition, all markers of fatigue and recovery showed a significant within-subject effect of time of measurement with strikingly more pronounced changes from pre- to post-exercise (Figure 2), while CK peaked at post-24 in most individuals. Usually, the highest CK activity is found at 24 or 48h post-exercise. A mean CK increase of up to two times the baseline and up to 800U/l in some individuals can be attributed to structural damage to muscle cells (Baird et al., 2012). Therefore, it can be concluded that the applied high-intensive and eccentric overloaded exercise protocol was acutely sufficiently fatiguing and well-chosen to produce ongoing muscle soreness and muscle damage, which confirms the findings from other studies (Proske and Allen, 2005;Â\\xa0Lavender and Nosaka, 2006;Â\\xa0Raeder et al., 2016a;Â\\xa0Bridgeman et al., 2017;Â\\xa0Thomas et al., 2018).\\nRegarding the first hypothesis, the master athletes neither reach higher fatigue levels nor recover more slowly than the younger athletes (rejection of hypothesis 1). These findings partly contradict the current literature suggesting that, for a similar exercise stimulus, a stronger level of fatigue might be reached, and a longer recovery period might be required before master athletes return to baseline levels (Fell and Williams, 2008). A faster acute recovery is, among other factors, attributed to physiological differences between young and older participants (e.g., phosphocreatine recovery and impaired oxygen supply;Â\\xa0Fell and Williams, 2008). Regarding long-term recovery, the common belief among athletes and coaches is that older athletes experience greater muscle damage and slower repair during and after highly intensive exercise because of minor anabolic stimulus. On the other hand, this aspect is still debated in the literature, since multiple methodological issues have to be addressed, such as gender differences, training status, training protocols, and measurements of the damage (Fell and Williams, 2008).\\nIt must be pointed out that master athletes experienced less pronounced acute internal load and perceptual fatigue (Tables 2Â\\xa0andÂ\\xa03, andÂ\\xa0Figure 2). Similarly, the PPC showed a lower acute post-exercise decrease in the master athletes compared with the young athletes. The higher BLa concentrations in the young athletes can be attributed to the higher number of repetitions during the final all-out set when participants were encouraged to perform until their momentary muscular failure (Table 3). It appears that the master athletes started into the final set more carefully and defensively while anticipating possible injury risks and the upcoming recovery demands. Furthermore, despite a similar leg muscle mass and a comparable level of maximum dynamic strength (Table 1), the samples clearly differed in their power capacities during the vertical jump test (Figure 1). A higher amount of type II fibers in younger athletes and a correspondingly stronger glycolytic activity can be assumed. Type II fibers are usually more susceptible to disruption leading to higher BLa and CK values in young athletes (Baird et al., 2012). Therefore, a final assessment of hypotheses 1 is difficult as internal and external loads were slightly different in both age groups.\\nRegarding the second hypothesis, it was assumed that CWI and CC, especially when used in combination and over a longer period, could improve post-exercise recovery by ameliorating edema, decreasing secondary exercise-induced muscle damage and the sensation of muscle soreness, improving the clearance of muscle metabolites, and increasing post-exercise parasympathetic activity (Ihsan et al., 2016;Â\\xa0Brown et al., 2017). However, on the group level and regardless of age, the current study revealed no effect of MMR on the recovery of performance or muscle contractile markers of fatigue and recovery (rejection of hypothesis 2). Additionally, MMR did not significantly improve the recovery of CK activity, although reductions in muscle soreness and improvements in PPC were evident after MMR. Such a finding is common, likely due to the analgesia and placebo effect attributable to CWI and CC (Leeder et al., 2012;Â\\xa0Poppendieck et al., 2013;Â\\xa0Ihsan et al., 2016;Â\\xa0Brown et al., 2017).\\nRegardless of age, the group-level results of the current study are both consistent and in contrast to the overall literature findings examining CWI or CC as recovery tools, with applied research showing both improved and unchanged or even impaired recovery of fatigue markers following CWI and CC (Leeder et al., 2012;Â\\xa0Poppendieck et al., 2013;Â\\xa0Hill et al., 2014;Â\\xa0Machado et al., 2016;Â\\xa0MarquÃ©s-JimÃ©nez et al., 2016;Â\\xa0Brown et al., 2017). The inconsistent findings within the available studies can be explained by the different CWI and/or CC protocols used as well as the frequently reported extensive interindividual variations even in response to highly standardized training and/or recovery interventions (Pickering and Kiely, 2017;Â\\xa0Wiewelhove et al., 2021). A high interindividual variability in the observed response to recovery interventions is supported by the current study. Only three participants (i.e., participants 2, 8, and 10) did likely benefit from MMR. All other participants showed inconsistent/diffuse responses, while a positive effect of MMR on the recovery of performance tended to be more frequently observed in the younger athletes. The inconsistent responses could be explained by a possible inability of the MMR protocol to accelerate recovery, at least in terms of muscle performance and CK activity, as well as the complexity of the kinematics of exercise-induced fatigue, which may cause different effects within individual body systems. Genetic influences make an important contribution to these variations, while factors, such as sleep, psychological stress, habitual physical activity, and dietary intake, may also play important roles (Mann et al., 2014). Only dietary intake was standardized and controlled during the present study. Additionally, the amount of data was rather small. Thus, the effectiveness of MMR should be interpreted with great caution.\\nIt is also assumed that the effectiveness of a recovery intervention may differ more depending on the individual preferences and beliefs concerning the intervention rather than on age (Roelands and Hurst, 2020). For example, several participants from both age groups (i.e., participants 1, 2, 7, 8, 10, 14, and 16) showed a consistent positive response to MMR in subjective markers, but MMR likely only had a consistent positive impact on performance in participant 8, while the performance of participant 14 was likely to have benefited from PR. Conversely, participant 4 showed a positive response to MMR in MVIC force, resting twitch force, CMJ height, and serum concentration of CK, but had a negative response to MMR in both subjective markers. Therefore, the use of recovery methods post-exercise in general and of MMR in particular should be individualized regardless of age. However, considering only individual perceptions may be misleading for the restoration of performance and/or muscle function.\\nFurthermore, it is discussed in the literature whether a long-term application of recovery interventions might attenuate training-specific adaptations in long-term training intervention and how to balance possible deteriorations in training adaptations with the possible beneficial short-term recovery effects. For example,Â\\xa0FrÃ¶hlich et al. (2014),Â\\xa0Roberts et al. (2015), andÂ\\xa0Poppendieck et al. (2020)Â\\xa0showed that the regular use of CWI after strength training sessions reduced long-term gains in muscle mass and strength. However, the effects were rather small and therefore only of practical relevance for a few elite athletes. In this study, MMR had not physiological effects on post-exercise recovery at the group level. Thus, possible negative effects of a long-term application of MMR on adaptations are most likely rather minor and negligible in most athletes.\\nFinally, some limitations of the study design must be considered which are (1) the small number and heterogeneity of selected young and elderly athletes and (2) the insufficient adjustment of internal and external loads. Regarding the sample size, we strictly followed the predefined inclusion criteria for both age groups, which were difficult to meet by the master athletes. More than fifty applicants had to be pre-tested to identify eight individuals reaching a minimum half squat 1RM of at least 120% of the individual body weight which was necessary to match the dynamic strength performance of both age groups and corresponds to an advanced resistance training status in older athletes (Santos Junior et al., 2021). Nevertheless, despite a comparable level of maximum dynamic strength and a similar body composition, the samples clearly differed in their power capacities. Noticeable in this regard were the significantly lower CMJ performance and twitch force (Figure 2) as well as the lower basic testosterone release in the older athletes (Table 1). It can be concluded that a complete performance matching was not realized; however, it was implemented as well as possible at least for the 1RM, which was defined as our primary inclusion criterion.\\nDifferences in the acute internal and external loads of the exercise program can be attributed to the higher number of repetitions during the final set as well as to a higher amount of type II fibers and a correspondingly stronger glycolytic activity in the younger athletes. Nevertheless, since no significant within-subject effect between the two cross-over parts was found for any of the fatigue and recovery markers, it appears that a sufficiently standardized and replicable protocol was prescribed.\\nConclusion\\nAt the group level, master athletes neither reach higher fatigue levels nor recover more slowly than the younger athletes. Age-related differences were only found within younger athletes reaching a higher post-exercise fatigue regarding muscle soreness and PPC. Furthermore, the results indicate that a mixed-method recovery intervention (MMR) after resistance exercise does not contribute to a faster recovery of physical performance, neuromuscular function, or muscle damage, but promotes recovery of perceptual measures regardless of age. However, some participants were more likely to benefit from MMR also in terms of functional and physiological measures. Therefore, the use of MMR should be individualized. As limitations, it has to be pointed out that our sample size was rather small and that a complete matching of population characteristics and exercise intensity was difficult under the ecological valid conditions of this study. Both may have affected the outcomes. We therefore recommend further studies under more controlled experimental conditions.\\n\\nPage 1 of 1\\n\\n\"', 'Comparisons in the Recovery Response From Resistance Exercise Between Young and Middle-Aged Men\\n\\nDiscussion\\nResults of this study indicated no differences in the recovery response between YA and MA for any of the performance measures, nor in subjective levels of muscle pain or soreness. Furthermore, no between-group differences were observed in the inflammatory or\\xa0muscle damage\\xa0response to the exercise protocol. To the best of our knowledge, this is the first study to examine differences in the recovery response from high-volume resistance exercise between recreationally trained young and middle-aged adults. Our results comparing BL performance measures seem to be in agreement with other investigations, demonstrating differences in strength measures between young (23\\x9629 years) and older adults (60\\x9665 years) (7,15,24), and between middle-aged (41\\x9642 years) and older adults (70\\x9672 years) (17,18). It does seem that the decline in strength may develop during middle age. However, recovery from exercise seems to be comparable in both younger and middle-aged adults as reflected by similar changes in performance and markers of\\xa0muscle damage\\xa0and\\xa0inflammation. Although changes in strength may occur in middle age, recovery from exercise does seem to be maintained in recreationally trained individuals.\\nThe differences observed at BL in isometric force and the rate of force development is consistent with other investigations comparing younger and older adults (16,19,36). Although differences in age between young and middle-aged adults do seem to affect BL levels of strength, it does not seem to affect recovery from exercise. This is supported by similar patterns of\\xa0muscle damage\\xa0and\\xa0inflammation\\xa0observed during the recovery period after the HVP. Elevations in Mb and CK concentrations are consistent with the expected physiological response from a bout of resistance exercise (9,34). These results also suggest that middle-aged recreationally active men who regularly engage in\\xa0resistance training\\xa0do not seem to be at increased risk for greater soreness or\\xa0muscle damage\\xa0in comparison with younger recreationally trained men.\\nSimilar response patterns were also noted in the inflammatory response for both groups. No significant elevations from BL were observed in CRP. However, significant increases in IL-6 concentrations were observed for both groups. Although CRP is an acute phase protein whose function is to activate the innate immune response and enhance phagocytosis (10), it does not seem to change after an acute bout of resistance exercise (6). Previous research has reported no significant changes in CRP concentrations after\\xa0resistance training\\xa0protocols recruiting primarily both upper-body (31) and lower-body exercises (4) in younger men. Furthermore, previous investigations have also indicated that training experience can reduce the CRP response to an acute bout of exercise (22,35). Considering that participants in both YA and MA were recreationally trained, it is likely that this training experience may have attenuated the CRP response. Physiologically, it is consistent with the lower stress and damage that occurs with repetitive training (9,35). Interleukin-6 is an inflammatory cytokine that facilitates communication for the mobilization, proliferation, and differentiation of immune cells to the site of tissue damage (6) and has been shown to increase after exercise (11). Elevations in IL-6 are related to the intensity, duration, and mode of training (11,13,32), but the literature is inconclusive regarding the IL-6 response to\\xa0resistance training. A recent study reported that a bout of high-volume resistance exercise (8 sets of 10 repetitions with 70% of maximal strength in the squat exercise) resulted in a significant elevation in IL-6 concentrations 30 min after exercise, but no changes were observed after a bout of high-intensity resistance exercise (8 sets of 3 repetitions with 90% of maximal strength in the squat exercise) in experienced, trained lifters (4). The IL-6 response observed during this investigation as a result of a bout of high-volume resistance exercise seems to be consistent with that recently reported by Bartolomei et al. (4). However, age did not seem to exacerbate nor attenuate the IL-6 response in recreationally trained participants.\\nNo differences were noted in the inflammatory or\\xa0muscle damage\\xa0response between YA and MA. As discussed earlier, this is likely related to the recreational training background of the participants. However, there were several limitations to the study that need to be acknowledged. The exercise protocol was performed on an isokinetic dynamometer, which may not have as much practical application as most\\xa0resistance training\\xa0programs use dynamic constant resistance exercises. In addition, unilateral, single-joint exercise recruited a relatively smaller muscle mass than is commonly used in most training programs. The use of this modality of exercise, which has been demonstrated to be very effective in eliciting\\xa0muscle damage\\xa0(20,30), may not have been sufficient to elicit significant performance and inflammatory changes in these recreationally trained participants. Future research should examine modes of training specific to the typical training program of the participants.\\nPractical Applications\\nThe results of this study indicate that changes in muscle performance seem to begin during middle age, even in recreationally trained individuals. However, participating in recreational\\xa0resistance training\\xa0may mitigate any alteration in the recovery response from exercise. These results should be examined in the context that recovery was investigated after a unilateral, single-joint isokinetic exercise protocol. Although this method has been previously used as an effective mode of exercise to elicit\\xa0muscle damage, it is not specific to the type of exercises typically used by recreational lifters. Future studies may wish to compare these population groups using multijoint, dynamic constant resistance exercises common to the training programs of most recreational lifters, regardless of age.', 'Effect of different doses of supervised exercise on food intake, metabolism, and non-exercise physical activity: The E-MECHANIC randomized controlled trial.\\n\\nDiscussion\\nIn this large randomized controlled trial with 2 doses of exercise, energy intake assessed with DLW increased significantly and as hypothesized in the 20 KKW group, as well as in the 8 KKW group, which was unexpected. The hypotheses were based on previous research demonstrating that compensation most frequently occurs at higher doses of exercise (4), although the results of this study indicate that compensation also occurs at lower doses of exercise. This discrepancy may be due to differences in the study samples since the current study recruited men and women aged 18\\x9665 y, whereas the Church et al. (4) study recruited postmenopausal women. Change in energy intake measured with the less sensitive test meals did not differ among the groups, which also was unexpected. Significant weight compensation was detected in the 8 and 20 KKW groups. Compensation in the 8 KKW group was not predicted, although it was predicted that compensation would be significantly higher in the 20 KKW group compared with the 8 KKW group, as observed.\\nAlthough most participants in the 8 KKW (76.3%) and 20 KKW (90.2%) groups compensated, there was great heterogeneity in weight loss and compensation with both exercise doses. Large individual variability in weight loss in response to exercise has been observed in other studies, including a 12-wk single-dose exercise study with 35 participants (7). Almost half (42.4%) and 23.5% of participants in the 8 and 20 KKW groups, respectively, did not lose any weight or gained weight. These percentages are much higher than the 13% of participants who did the same in the 12-wk exercise study by King et al. (7), thus suggesting that longer durations of exercise increase compensatory responses. This conclusion is further supported by Church et al. (4), who found that compensation, assessed on a weekly basis, did not occur until approximately week 12. Very few participants in the exercise groups lost more weight than expected. Participants in the 8 and 20 KKW groups lost only 36.2% and 40.8% of predicted weight loss, respectively, which is similar to previous studies (34), including ours, although previously we had not always found compensation at lower exercise doses (4,\\xa05). Body fat loss was greater in the 20 KKW group compared to control, and change in lean mass did not differ among groups. Compensation appears to be a response to long-term exercise training because short-term studies (e.g., 13 wk) show smaller compensation only at higher doses (35) and acute studies (e.g., 2 d) show no compensation (36). Weight change in the control group was minimal (?0.2 kg), and participants in all groups were not instructed to change their diet.\\nTo our knowledge, this is one of the first studies to prospectively attempt to identify the mechanisms of compensation by assessing changes in energy intake, metabolism, and self-report measures of appetite and other constructs. The study found that compensation appears to be primarily the result of increased energy intake and not changes in metabolism/energy expenditure, RQ, or non-exercise physical activity. Energy intake by DLW increased by 90.7 and 123.6 kcal/d (3.9% and 5.5%) in the 8 and 20 KKW groups, respectively. Increases of this magnitude are difficult to detect over the short term, and energy intake is known to vary widely from day to day (37,\\xa038), indicating that long-term measures of energy intake are optimal. This may have contributed to the failure to detect increased energy intake with test meals and is consistent with the results of King et al. (7), who found that energy intake measured with test meals did not increase among the entire sample of exercisers (energy intake and hunger did increase among compensators in their study, however). Another interpretation is that increased energy intake likely occurs outside of meals (e.g., from snacking or drinking calorie-containing beverages between meals). Finally, it can be difficult for people to detect changes in daily energy intake of this size (?100 kcal), which could contribute to unawareness of compensation and hence the inability to address it.\\nChanges in RQ, RMR, and non-exercise physical activity were similar by group, the latter of which is consistent with results from other studies (39,\\xa040). A review concluded that exercise does not result in decreased non-exercise activity or energy expenditure (41). At the exercise doses achieved in this study, people do not appear to become more sedentary outside of structured exercise after they begin to exercise, although it is possible that activities of daily living limit the ability to detect such an effect.\\nMore participants in the exercise groups classified as compensators met the criteria for metabolic syndrome compared with noncompensators (31% compared with 11%, respectively), suggesting that the compensatory increase in energy intake might be related to the predisposition to diabetes and insulin insensitivity. Also, compensators had a smaller response to exercise in terms of improved cardiorespiratory fitness compared with noncompensators, but they had larger reductions in glucose levels, although the difference was small (2.5 mg/dL). Compensators had an increase in adjusted RMR, indicating that their bodies were expending more energy relative to body mass after exercise training, which could be a physiological response to increased energy intake, or they had longer lasting excess post-exercise oxygen consumption (42). Increased RMR, adjusted using the methods described by Galgani and Santos (17), was also observed in the compensators compared with the noncompensators. Nonetheless, the Galgani values were also higher at baseline in the compensators than in the noncompensators (Supplemental Table 5), whereas baseline RMR did not differ by compensator status when adjusted only for fat-free mass (data not shown). Thus, compensators could have higher relative RMR regardless of exercise levels, and adjustments to RMR beyond fat-free mass are needed to detect such differences.\\nSupporting the conclusion that compensation is due to increased energy intake, compensators had an ?90 kcal/d larger increase in energy intake and increased cravings for sweets, hunger, prospective food consumption, and compensatory health beliefs (and a smaller reduction in disinhibition). The results suggest that compensators might\\xa01) differ in important ways prior to exercise that contribute to a differential response,\\xa02) not experience some physiological (e.g., increased cardiorespiratory fitness) benefits of exercise that lead to exercise being more difficult/aversive,\\xa03) have different psychological responses to exercise (e.g., increased compensatory beliefs and smaller reductions in disinhibition) that affect other health behaviors, and\\xa04) experience an increased drive to eat. Furthermore, the results indicate that compensators, who one could argue are most in need of exercise based on the higher prevalence of the metabolic syndrome, are most likely to fail to fully realize the benefits of exercise and possibly discontinue exercise due to the perceived lack of benefit or aversive aspects of exercise.\\nThe results suggest that clinicians should include a concomitant lifestyle, dietary, or possibly pharmacological intervention when prescribing exercise if weight loss is the goal. Further research is needed to determine what interventions are most effective at reducing compensation and improving the beneficial response to exercise, and many of the constructs that were different between compensators and noncompensators (e.g., change in disinhibition and cravings) can be targeted by various interventions.\\nStudy strengths include being the first prospective randomized controlled trial powered to identify the mechanisms by which exercise fails to produce the expected level of weight loss. Also, energy intake, energy expenditure, and activity were measured with gold standard techniques, and questionnaires assessed constructs associated with health behaviors and health-related quality of life. Finally, exercise adherence was excellent, and the dose of exercise achieved was carefully quantified. Weaknesses include lack of data regarding what foods participants ate and when, as well as the fact that the majority of the sample was composed of women, although the randomization procedures considered sex.\\nIn conclusion, in this 6-mo randomized controlled exercise trial, participants in the exercise groups compensated and lost less weight than expected. Compensation was found to primarily be the result of increased energy intake and not changes in metabolism/energy expenditure or non-exercise physical activity. Participants who compensated were more likely to meet criteria for metabolic syndrome, responded differently to exercise, and reported increased appetite and compensatory health beliefs. These findings provide insight into how to reduce compensation during long-term exercise.', 'Habitual tub bathing and risks of incident coronary heart disease and stroke\\n\\nDiscussion In the present long-term cohort study of middle-aged Japanese men and women, we observed an inverse association between tub bathing frequency and risks of CVD, CHD, total strokes and intracerebral haemorrhage. Tub bathing was not associated with a higher risk of sudden cardiac death. This is the first study to examine the long-term associations between tub bathing and CVD incidence using a large population-based cohort. Laukkanen\\x92s study of 2315 men aged 42\\x9660 years in Finland with 6-year follow-up investigated the association of sauna bathing frequency with risks of fatal CVD, fatal CHD and sudden cardiac death. In that study, the multivariable-adjusted HRs (95% CIs) for sauna bathing four to seven times/week compared with one time/week were 0.50 (95% CI 0.33 to 0.77) for fatal CVD, 0.52 (95% CI 0.31 to 0.88) for fatal CHD and 0.37 (95% CI 0.18 to 0.75) for sudden cardiac death.6 However, that study did not examine the effect of sauna on the risk of non-fatal CVD. A variety of studies have addressed the mechanisms by which heat exposure plays a role in preventing CVD.20 Heat exposure increases core body temperature, cardiac contractility, heart rate and blood flow, and decreases vessel endothelial shear stress.4 21 These effects are similar to the impact of exercise and are believed to improve vascular function over the long term.22 23 Preliminary research found that heat exposure induced expression of heat shock protein 90, and when it was bound to endothelial nitric oxide synthase (eNOS), eNOS, in turn, generated nitric oxide, resulting in vasorelaxation.24 There are, however, physiological differences between tub and sauna bathing; the former increases hydrostatic pressure, which in turn increases intracardiac pressure, while both tub and sauna bathing increase stroke volume, cardiac output, ejection fraction and reduce vascular resistance.25 The potential beneficial effect of tub bathing of CVD events may be mediated by the reduced development of major cardio\\x02vascular risk factors in those who took tub bath frequently. We found that the frequent tub bathing was significantly associated with a lower risk of hypertension, suggesting that a beneficial effect of tub bathing on risk of CVD may be in part due to a reduced risk of developing hypertension. The typical Japanese style of bathing involves filling the tub to shoulder depth with hot water at approximately 40°C\\x9642°C,9 while some prefer temperatures upward of 43°C.26 In two previous controlled trials, one investigated the effects of hot bathing on blood pressure, flow-mediated vascular dilation, arterial compliance and aortic pulse waves among 20 young sedentary adults,4 and the other examined effects on body weight and abdominal circumference among 66 overweight adults.5 Both studies evidenced the favourable effects of tub bathing when using water up to 42°C. The negative aspect of tub bathing is that it can cause heatstroke more frequently when the tub water temperature is too high.27 In our research, we asked participants to subjectively describe their tub water temperature (lukewarm, warm or hot). However, we observed no significant difference in the inverse association between tub bathing frequency and risk of CVD by the water temperature. Our results did not suggest any preferable water temperature, but further research regarding the water temperature is warranted. We were able to conduct this observational study in a unique culture in which tub bathing is a common habit. The strength of our study included its prospective design, systemic registration of CHD and stroke incidence, use of a large sample from the general population, and a long follow-up duration. The large sample size and long-term follow-up allowed us to perform analysis after excluding participants with early cardiovascular events, and this reduced the possibility of reverse causation. Nonetheless, several limitations should be acknowledged. First, the information on the tub bathing frequency was obtained only at baseline. Therefore, participants may have changed their frequency during the follow-up period. Second, because those who frequently bathe in a tub were found likely to have higher education and to be office workers, tub bathing frequency may be a behavioural marker for higher socioeconomic conditions. However, the inverse association between tub bathing and risk of CVD outcomes remained statistically significant after adjusting for these socioeconomic variables. Third, we also did not inquire about reasons for bathing in a tub less frequently. For some, this may be due to illness or conditions by which risk of CVD could be elevated. However, the possibility for reverse causation is unlikely, although not totally negated, because the association between tub bathing frequency and risk of total CVD did not change materially after excluding participants who developed CVD or died within 5 or 10 years of baseline. Finally, though we adjusted for potential confounding variables based on previous research, we cannot negate the possibility of residual or unmeasured confounding. Conclusion We found that habitual tub bathing was associated with a lower risk of CVD among middle-aged Japanese, suggesting a beneficial effect on the prevention of CVD.', 'Impact of insufficient sleep on dysregulated blood glucose control under standardised meal conditions\\n\\nDISCUSSION\\nHere, we describe for the first time how sleep duration, quality and midpoint associate with postprandial glucose metabolism in healthy individuals. While sleep is generally recognised as one of the pillars of good health, the data reported here suggest that one-size-fits-all sleep recommendations are suboptimal, particularly in the context of postprandial glycaemic control, a key component of diabetes prevention.\\n\\nBy analysing both between-person and within-person effects, this study provides unique and powerful insights into both population-level and person-level effects of sleep on metabolic health. Notably, our data suggest that sleep duration, efficiency and midpoint are important determinants of postprandial glycaemic control at a population level, while illustrating that to optimise sleep recommendations it is likely necessary to tailor these to the individual.\\n\\nDiet, sleep and health are interrelated. Several studies have investigated the relationship between sleep duration and glucose metabolism in pregnant women and reported a positive association between reduced sleep duration and impaired glucose metabolism [4, 27]. However, we are not aware of any other studies to date that investigate the relationship between objectively assessed sleep characteristics and postprandial glucose metabolism in generally healthy adults. The findings from this intervention study, with repeated test meal challenges, combined with objective assessments of sleep and blood glucose from a large population, complement a relatively small body of knowledge around a topic that is likely to be of high relevance for diabetes prevention [26]. Importantly, many earlier studies were undertaken in sleep laboratories with small sample size [11]. While the controlled environment of such studies is necessary to understand specific aspects of sleep and metabolism, the real-world, community-dwelling setting of the current study provides novel insights into how habitual sleep affects metabolic health.\\n\\nThe main analyses in this study focused on interactions of sleep and meal type and selected the OGTT as the \\x91breakfast\\x92 against which all other breakfast meals were compared. This is primarily because the OGTT is the standard clinical test used to assess glucose tolerance. While this is not a realistic breakfast meal, there is a growing trend, particularly among younger people [28], to consume energy drinks as a pick-me-up the morning after a poor night\\x92s sleep, with the sugar content of a 75 g OGTT equating to roughly two to three servings of standard energy drinks.\\n\\nSPT\\nWith SPT being a marker of sleep duration, the lack of a significant marginal effect in the model without interactions indicates that sleep duration is not a major determinant of glucose metabolism. While this finding does not support some prior studies that have demonstrated a potential link between decreased sleep duration and insulin resistance, it is consistent with findings from a randomised controlled trial of 42 normal-weight adult short sleepers [11]. This may be because the effect of sleep duration in glycaemic control may be non-linear, with sleep affecting glucose metabolism only once sleep duration dips below a specific bound [11]. Moreover, sleep duration for the vast majority of PREDICT1 participants fell within the recommended range, as indicated by the mean 6.87 h of sleep within the lowest quartile of the SPT distribution (Table 1). Accordingly, this study may have been underpowered to detect an association between sleep duration and postprandial glycaemic control.\\n\\nWe found a significant statistical interaction between SPT and meal type, with high-carbohydrate meals and high-fat meals resulting in significantly lower glucose iAUCs compared with the OGTT reference, which contained only sugar. Although this study did not include pregnant women, the interaction effect between carbohydrate-rich meals and SPT is consistent with the results reported in a prior study in which reduced sleep was associated with impaired carbohydrate metabolism in pregnant women [29]. Thus, we conclude that the SPT has a similar impact on postprandial carbohydrate metabolism in men and pregnant and non-pregnant women. Additionally, the significant interaction between SPT and high-fat meals is supported by the finding that sleep disruption in fat-fed mice negatively affected glucose metabolism, with metabolism improving after recovery sleep [30]. As for the within-person SPT model, our findings suggest that both a longer SPT in general, as well as having a longer SPT than one is used to, are associated with improved postprandial glycaemic control the following morning. The presence of a significant finding with the SPT?×?high-carbohydrate meal interaction term in the person-centred model suggests that getting more sleep than usual might be more important for postprandial glycaemic control than the absolute amount of sleep achieved. This insight offers a potential avenue for personalised (within-person) sleep interventions.\\n\\nSE\\nBetter SE, between-person as well as within-person, was significantly associated with lower glucose iAUC, meaning that better SE, which is a proxy of sleep quality, was associated with better glucose management following breakfast. However, the absence of SE?×?meal interactions suggests that SE may be beneficial for postprandial glucose response irrespective of meal composition. Although there is not much research on SE and glucose metabolism in healthy adults, our findings concur with a recent meta-analysis in which poor sleep quality was associated with poor glycaemic control in individuals with type 2 diabetes [12]. Moreover, since SE can be viewed as a proxy for sleep quality, and because we found a significant association between SE and glucose regulation, but not between SPT and glucose regulation, our findings suggest that sleep quality is more important than sleep duration with respect to glycaemic control. However, sleep apnoea is known to affect SE, and sleep apnoea was not measured in the PREDICT1 study.\\n\\nSleep midpoint\\nThe presence of significant effects in both between-person and within-person sleep midpoint models adjusted for sleep duration suggests a novel finding that later sleep midpoint, such as that caused by going to bed later, is associated with impaired postprandial glucose response to breakfast the following morning. This concurs with the proposition that human metabolic health is determined to a considerable extent by chronobiology [31]. Alternatively, later sleep midpoint may reflect alteration of sleep stages caused by going to bed later. Thus, the significance of later sleep midpoint may also be indicative of the role of specific sleep stages, such as slow-wave sleep, on glucose metabolism, supporting the view that treating slow-wave sleep disorders may help improve glycaemic control [32].\\n\\nThe 2 h glucose iAUC response to an OGTT breakfast is roughly twice that following a high-fat breakfast, indicating that a high-fat breakfast might help to mitigate the detrimental effects of poor sleep on postprandial glycaemia. Although comparing areas may have its drawbacks, for those whose sleep is often compromised, these effects may be cumulative. Thus, over time, there may be a meaningful clinical impact on glycaemic health. Nevertheless, because of the short duration of the current study, we are not able to assess this hypothesis.\\n\\nMuch of the research linking poor sleep with altered glucose metabolism is based upon observational studies, meaning that the pathophysiological mechanisms behind the associations reported here are not well understood [33]. However, poor sleep quality (measured by sleep fragmentation in healthy volunteers) appears to alter glucose responses through shifting sympathovagal balance and morning cortisol levels, which could in turn lead to decreased insulin sensitivity, increased hepatic glucogenesis and decreased insulin secretion [33]. In addition to cortisol levels, growth hormone, the secretion of which is sleep-dependent and which is essential for metabolic regulation, could also be at play [34,35,36]. Moreover, the glucose intolerance observed elsewhere in sleep-deprived individuals may derive from dysregulation of sympathetic and parasympathetic control of pancreatic function [37].\\n\\nStrengths and limitations\\nThis study significantly extends our understanding of the interplay between sleep and metabolic health. First, the fairly limited literature on sleep and postprandial blood glucose regulation is dominated by small studies that focus on populations with comorbid conditions (e.g. diabetes and obstructive sleep apnoea). In the few larger published studies, sleep has typically been assessed through self-report, which may be prone to bias. Moreover, most studies are cross-sectional and based in highly controlled environments. By contrast, our study is set within a large prospective cohort of generally healthy individuals, in whom high-resolution objectively assessed time-series sleep and glucose data were obtained. These design features made it possible to look at both intra- and inter-individual variation during the analyses, have generalisable results and shed light on cause and effect. The risk of non-compliance due to a non-clinical setting was addressed by high levels of staff support and all data points were checked for compliance and validity. We also examined the effects of within-person sleep measures, thus broadening the scope of previous studies that up to now only included between-person differences. In addition, instead of relying on fasting blood assays, the study focused on postprandial glucose, which is more relevant to everyday life scenarios because most people find themselves most often in a postprandial state during waking hours [26].\\n\\nNotwithstanding the strengths of the study, it is limited in that no screening was performed for sleep disorders (e.g. sleep apnoea and insomnia), meaning that we could not control for disorders that have been shown to be associated with impaired glucose tolerance [38, 39]. In addition, while actigraphy overcomes many limitations of self-report measures, it is not as accurate as polysomnography in estimating sleep duration and efficiency and does not offer insight into individual sleep stages. The distribution of meal types was imbalanced, with high-fat and high-carbohydrate standardised meals having the highest number of entries. Thus, it is possible that analyses focused on the non-high-carbohydrate and non-high-fat meals may have lacked statistical power. An additional limitation is that owing to the free-living nature of the trial, physical activity levels varied within and between individuals, which may have interacted with sleep and meal type to affect blood glucose concentrations, a hypothesis that our study was not powered to examine.\\n\\nFuture studies assessing the impact of sleep stages on postprandial blood glucose levels are likely to extend the findings of the current analysis, as would exploration of these effects in individuals who are sleep-deprived owing to shift work or endogenous sleep disorders such as sleep apnoea.\\n\\nConclusion\\nOverall, this study suggests that sleep duration, quality and midpoint are important modifiable lifestyle features for improving postprandial glucose metabolism in healthy adults. As a consequence, this study\\x92s findings may inform lifestyle strategies to improve postprandial blood glucose levels, focusing on earlier bedtime routines and maximising high-quality uninterrupted sleep. A combination of both generalised and more personalised sleep guidelines is likely required to ensure optimal metabolic health per se and maximise the effectiveness of guidelines for diabetes prevention.\\nPage 1 of 1', 'Recovery From Eccentric Squat Exercise in Resistance-Trained Young and Master Athletes With Similar Maximum Strength: Combining Cold Water Immersion and Compression\\n\\nDiscussion\\nThe study aimed at investigating the effects of aging on muscle soreness and muscle damage following an intensive squat exercise protocol as well as on age-related effects of a recovery intervention in tightly controlled populations of young and master athletes regarding their absolute performance level. As an important experimental precondition, all markers of fatigue and recovery showed a significant within-subject effect of time of measurement with strikingly more pronounced changes from pre- to post-exercise (Figure 2), while CK peaked at post-24 in most individuals. Usually, the highest CK activity is found at 24 or 48h post-exercise. A mean CK increase of up to two times the baseline and up to 800U/l in some individuals can be attributed to structural damage to muscle cells (Baird et al., 2012). Therefore, it can be concluded that the applied high-intensive and eccentric overloaded exercise protocol was acutely sufficiently fatiguing and well-chosen to produce ongoing muscle soreness and muscle damage, which confirms the findings from other studies (Proske and Allen, 2005;\\xa0Lavender and Nosaka, 2006;\\xa0Raeder et al., 2016a;\\xa0Bridgeman et al., 2017;\\xa0Thomas et al., 2018).\\nRegarding the first hypothesis, the master athletes neither reach higher fatigue levels nor recover more slowly than the younger athletes (rejection of hypothesis 1). These findings partly contradict the current literature suggesting that, for a similar exercise stimulus, a stronger level of fatigue might be reached, and a longer recovery period might be required before master athletes return to baseline levels (Fell and Williams, 2008). A faster acute recovery is, among other factors, attributed to physiological differences between young and older participants (e.g., phosphocreatine recovery and impaired oxygen supply;\\xa0Fell and Williams, 2008). Regarding long-term recovery, the common belief among athletes and coaches is that older athletes experience greater muscle damage and slower repair during and after highly intensive exercise because of minor anabolic stimulus. On the other hand, this aspect is still debated in the literature, since multiple methodological issues have to be addressed, such as gender differences, training status, training protocols, and measurements of the damage (Fell and Williams, 2008).\\nIt must be pointed out that master athletes experienced less pronounced acute internal load and perceptual fatigue (Tables 2\\xa0and\\xa03, and\\xa0Figure 2). Similarly, the PPC showed a lower acute post-exercise decrease in the master athletes compared with the young athletes. The higher BLa concentrations in the young athletes can be attributed to the higher number of repetitions during the final all-out set when participants were encouraged to perform until their momentary muscular failure (Table 3). It appears that the master athletes started into the final set more carefully and defensively while anticipating possible injury risks and the upcoming recovery demands. Furthermore, despite a similar leg muscle mass and a comparable level of maximum dynamic strength (Table 1), the samples clearly differed in their power capacities during the vertical jump test (Figure 1). A higher amount of type II fibers in younger athletes and a correspondingly stronger glycolytic activity can be assumed. Type II fibers are usually more susceptible to disruption leading to higher BLa and CK values in young athletes (Baird et al., 2012). Therefore, a final assessment of hypotheses 1 is difficult as internal and external loads were slightly different in both age groups.\\nRegarding the second hypothesis, it was assumed that CWI and CC, especially when used in combination and over a longer period, could improve post-exercise recovery by ameliorating edema, decreasing secondary exercise-induced muscle damage and the sensation of muscle soreness, improving the clearance of muscle metabolites, and increasing post-exercise parasympathetic activity (Ihsan et al., 2016;\\xa0Brown et al., 2017). However, on the group level and regardless of age, the current study revealed no effect of MMR on the recovery of performance or muscle contractile markers of fatigue and recovery (rejection of hypothesis 2). Additionally, MMR did not significantly improve the recovery of CK activity, although reductions in muscle soreness and improvements in PPC were evident after MMR. Such a finding is common, likely due to the analgesia and placebo effect attributable to CWI and CC (Leeder et al., 2012;\\xa0Poppendieck et al., 2013;\\xa0Ihsan et al., 2016;\\xa0Brown et al., 2017).\\nRegardless of age, the group-level results of the current study are both consistent and in contrast to the overall literature findings examining CWI or CC as recovery tools, with applied research showing both improved and unchanged or even impaired recovery of fatigue markers following CWI and CC (Leeder et al., 2012;\\xa0Poppendieck et al., 2013;\\xa0Hill et al., 2014;\\xa0Machado et al., 2016;\\xa0Marqués-Jiménez et al., 2016;\\xa0Brown et al., 2017). The inconsistent findings within the available studies can be explained by the different CWI and/or CC protocols used as well as the frequently reported extensive interindividual variations even in response to highly standardized training and/or recovery interventions (Pickering and Kiely, 2017;\\xa0Wiewelhove et al., 2021). A high interindividual variability in the observed response to recovery interventions is supported by the current study. Only three participants (i.e., participants 2, 8, and 10) did likely benefit from MMR. All other participants showed inconsistent/diffuse responses, while a positive effect of MMR on the recovery of performance tended to be more frequently observed in the younger athletes. The inconsistent responses could be explained by a possible inability of the MMR protocol to accelerate recovery, at least in terms of muscle performance and CK activity, as well as the complexity of the kinematics of exercise-induced fatigue, which may cause different effects within individual body systems. Genetic influences make an important contribution to these variations, while factors, such as sleep, psychological stress, habitual physical activity, and dietary intake, may also play important roles (Mann et al., 2014). Only dietary intake was standardized and controlled during the present study. Additionally, the amount of data was rather small. Thus, the effectiveness of MMR should be interpreted with great caution.\\nIt is also assumed that the effectiveness of a recovery intervention may differ more depending on the individual preferences and beliefs concerning the intervention rather than on age (Roelands and Hurst, 2020). For example, several participants from both age groups (i.e., participants 1, 2, 7, 8, 10, 14, and 16) showed a consistent positive response to MMR in subjective markers, but MMR likely only had a consistent positive impact on performance in participant 8, while the performance of participant 14 was likely to have benefited from PR. Conversely, participant 4 showed a positive response to MMR in MVIC force, resting twitch force, CMJ height, and serum concentration of CK, but had a negative response to MMR in both subjective markers. Therefore, the use of recovery methods post-exercise in general and of MMR in particular should be individualized regardless of age. However, considering only individual perceptions may be misleading for the restoration of performance and/or muscle function.\\nFurthermore, it is discussed in the literature whether a long-term application of recovery interventions might attenuate training-specific adaptations in long-term training intervention and how to balance possible deteriorations in training adaptations with the possible beneficial short-term recovery effects. For example,\\xa0Fröhlich et al. (2014),\\xa0Roberts et al. (2015), and\\xa0Poppendieck et al. (2020)\\xa0showed that the regular use of CWI after strength training sessions reduced long-term gains in muscle mass and strength. However, the effects were rather small and therefore only of practical relevance for a few elite athletes. In this study, MMR had not physiological effects on post-exercise recovery at the group level. Thus, possible negative effects of a long-term application of MMR on adaptations are most likely rather minor and negligible in most athletes.\\nFinally, some limitations of the study design must be considered which are (1) the small number and heterogeneity of selected young and elderly athletes and (2) the insufficient adjustment of internal and external loads. Regarding the sample size, we strictly followed the predefined inclusion criteria for both age groups, which were difficult to meet by the master athletes. More than fifty applicants had to be pre-tested to identify eight individuals reaching a minimum half squat 1RM of at least 120% of the individual body weight which was necessary to match the dynamic strength performance of both age groups and corresponds to an advanced resistance training status in older athletes (Santos Junior et al., 2021). Nevertheless, despite a comparable level of maximum dynamic strength and a similar body composition, the samples clearly differed in their power capacities. Noticeable in this regard were the significantly lower CMJ performance and twitch force (Figure 2) as well as the lower basic testosterone release in the older athletes (Table 1). It can be concluded that a complete performance matching was not realized; however, it was implemented as well as possible at least for the 1RM, which was defined as our primary inclusion criterion.\\nDifferences in the acute internal and external loads of the exercise program can be attributed to the higher number of repetitions during the final set as well as to a higher amount of type II fibers and a correspondingly stronger glycolytic activity in the younger athletes. Nevertheless, since no significant within-subject effect between the two cross-over parts was found for any of the fatigue and recovery markers, it appears that a sufficiently standardized and replicable protocol was prescribed.\\nConclusion\\nAt the group level, master athletes neither reach higher fatigue levels nor recover more slowly than the younger athletes. Age-related differences were only found within younger athletes reaching a higher post-exercise fatigue regarding muscle soreness and PPC. Furthermore, the results indicate that a mixed-method recovery intervention (MMR) after resistance exercise does not contribute to a faster recovery of physical performance, neuromuscular function, or muscle damage, but promotes recovery of perceptual measures regardless of age. However, some participants were more likely to benefit from MMR also in terms of functional and physiological measures. Therefore, the use of MMR should be individualized. As limitations, it has to be pointed out that our sample size was rather small and that a complete matching of population characteristics and exercise intensity was difficult under the ecological valid conditions of this study. Both may have affected the outcomes. We therefore recommend further studies under more controlled experimental conditions.\\n\\nPage 1 of 1', 'The Impact of Sleep Duration on Performance Among Competitive Athletes: A Systematic Literature Review  \\n\\nDISCUSSION \\nThis literature review, although diverse in the range of sports, methods, and outcomes studied, provides several stylized facts that can inform sleep research and competitive athletes. First, out of all the published studies we reviewed, none found a negative association between sleep duration and any performance outcome. All of the results reviewed showed that either the increased sleep duration has a positive effect on athletic performance or the results were neutral. Note that among studies reporting significant positive results, effect sizes varied considerably (Tables 2-4), likely due to differences in the duration of sleep deprivation/extension experienced as well as differences in outcome measures. Second, when considering the aerobic and anaerobic characteristics of sports, it seems that aerobic activity is more sensitive to sleep duration compared to anaerobic activity, including strength testing. For instance, Mejri et al40 found that depriving competitive taekwondo boxers of a mere 3 to 4 hours of sleep significantly impaired performance on the Yo-Yo intermittent recovery test. By contrast, Blumert et al33 employed a relatively severe sleep deprivation protocol by depriving 9 national-caliber collegiate weightlifters of 24 hours of sleep and yet failed to identify adverse effects on any of the various weightlifting exercises examined. Relatedly, for both endurance and explosive, power-based exercises, it has been well documented that sleep deprivation is associated with increased perceived effort.56\\x9658 Still, the relationship between perceived effort and objective performance has not been widely validated and is a topic for future investigation. Third, of the studies that measured outcomes requiring either tactical and/or technical skills, most find benefits of sleep on performance. Tennis serving accuracy and basketball shooting were both improved by long-term sleep extension interventions,35,39 and tennis serving accuracy suffered when players were deprived of 2 to 2.5 hours of sleep at the beginning of the preceding night.37 Regarding studies conducted in players of team sports that incorporated tactics and decision-based outcomes to a broader extent, soccer as well as rugby players exhibited performance deficits after nights of decreased sleep duration.34 These results are in line with other literature demonstrating clear neurocognitive deficits in the setting of inadequate sleep in the general population, reviewed thoroughly elsewhere.59,60 Finally, when looking at the methodologies of the experimental studies, we found that the studies that altered sleep duration on a longer-term timescale were more likely to show an effect than those that altered sleep duration acutely. Interestingly although most acute sleep interventions involved sleep deprivation and yielded positive results, there were inconsistent results among the 2 acute sleep extension studies.15,38 Conversely, the majority of longer-term sleep intervention studies involved sleep extension and showed positive results.35,39,49 Taken together, these findings suggest that on a short timescale, sleep deprivation may be more harmful than sleep extension is beneficial to performance, although in the longer term, sleep extension may contribute to improved performance. On the other hand, more research is warranted regarding potential adverse effects of chronic sleep loss on athletic performance. The reliability and precision of the various measurements may present challenges in interpretation of these studies. For example, \\x93maximal\\x94 voluntary muscle contraction and voluntarily chosen training load are variable across subjects.61,62 On the other hand, \\x93running economy,\\x94 the oxygen cost associated with a given running velocity, has low variability among highly trained runners and is significantly correlated with cardiorespiratory parameters used to assess aerobic capacity.63 A meta-analysis of the reliability of various measures of muscle power previously identified that field running tests tended to be more reliable than treadmill running tests, tests lasting up to 1 minute tended to be more reliable than those lasting greater than 1 minute (likely due to increased variability in muscle movement and limb positioning), and isokinetic tests tended to be more reliable when measuring muscle extension versus flexion.62 Somewhat reassuringly in the context of the present review, this metaanalysis also found that measurements taken from athletes were more reliable than those taken from non-athlete subjects. With respect to the validity of outcome measures reported as performance indicators, the nature of the sport (eg, team vs individual) may be an important determinant of whether what is measured in the laboratory translates to the actual game. For instance, for team-based sports requiring complex game structure such as soccer, measures of muscle force production or running speed are likely insufficient to provide an accurate assessment of in-game performance, although they may be helpful in making gross approximations and predictions.64 Of course, actual performance metrics from real or simulated games would be the ideal outcomes to quantify for such sports in future investigations. More specifically, for performance outcomes included in the current review, the following have been independently validated and shown to be reliable measures of athletic performance: Yo-Yo intermittent recovery (YYIR) test, isometric muscle contraction, squat, countermovement jump, free sthrow basketball shooting, tennis serving, shuttle-running tests, and Wingate test.42\\x9648 In Table 1, we have indicated studies employing previously validated and reliable metrics of objective performance with asterisks (as per the criteria discussed above). Still, more work will be required to further validate the various performance outcomes measured in the studies reviewed in the present work, especially those involving complex, team-based measures such as composite game performance scores and passing accuracy. Likewise, given the high inter-individual variability of sleep variables used across the included studies, these metrics will also require further investigation to determine their precision and reliability as predictors of athletic performance. Importantly, we chose to require at least one objective performance measure among our inclusion criteria. The previous work relying on self-perceived performance, although informative in understanding the potential effect of sleep loss or gain on sports psychology,15 may not accurately reflect actual performance, as was the goal of the present work. However, under certain circumstances, self-perceived pre-game wellness (including self-reported sleep quality) may be predictive of objective in-game performance.65 More research will be needed to assess the validity of player reported performance and objective performance, especially when athletes exhibit compromised sleep. Several experimental studies are particularly illustrative of the various trends in the results we have just outlined. To address the question of whether one night of sleep extension would be sufficient to improve various fitness indices among semi-professional soccer players, Fullagar et al15 tested a sleep hygiene intervention. The investigators implemented a sleep hygiene strategy (SHS) designed to maximize sleep duration and limit stimulation before bedtime to test whether this would be sufficient to improve either anaerobic (jumping height and force production) or aerobic endurance (Yo\\x96Yo intermittent recovery level 2, YYIR2) performance after late night soccer matches. Implementing a randomized design, they assigned 20 participants to follow either their normal post-match sleep routine [non-SHS (NSHS)] or a SHS involving early dimming of lights and lights out by midnight, cool room temperature, and no technology or light stimulation for 15 to 30 minutes before bedtime. Actigraphy was used to measure sleep patterns, and sleep diary was used for subjective recall of sleep quality. Despite finding that those assigned to the SHS indeed exhibited increased sleep duration after the night match relative to those in the NSHS group, the investigators failed to identify any improvements in\\ncountermovement jump height, countermovement jump force production, or YYIR2 performance, tested over the following 2 days. On the other hand, as we have discussed, studies of acute sleep deprivation, especially those measuring technical performance outcomes, tended to yield positive results. Given that sleep is often disrupted the night before athletic competition,66 athletes involved in sports requiring these types of skills are likely to be particularly sensitive to sleep manipulations and thus should be counseled regarding the importance of sleep for game performance. Relatedly, chronic sleep extension studies have demonstrated significant benefits to athletes.35,49 Thus, strategies to improve sleep not only the night before an important sports event but also in the weeks leading up to this event are likely to be fruitful in improving performance. In this review, we have summarized and synthesized recent findings in the realm of sports and sleep science. One of the challenges of conducting such a literature review is that the study methodologies vary a great deal, as do the individual sports, making comparisons of effects and magnitudes of effect sizes across studies difficult. Additionally, unlike many studies of athletic performance and sleep conducted in nonathletes and recreational sports players, studies incorporating high-level competitors are limited, especially those implementing experimental approaches. Even among the best-controlled studies, sample sizes are small and sleep measurements vary considerably, with some studies measuring sleep duration objectively through polysomnography or actigraphy and others relying on self-report. All of these factors limit the scope of the conclusions that can be drawn. Nevertheless, they do provide valuable information about when sleep does or particularly when sleep does not seem to play a key role in influencing performance. Future research may seek to use larger sample sizes and standardize tests of athletic performance in order to identify optimal sleep standards, in addition to standardizing sleep metrics and incorporating more objective sleep data. In particular, here we focused on studies investigating sleep duration, although sleep timing is likely to be a relevant factor as well. As sleep onset and wake time have previously been shown to influence performance and recovery,5 future studies should aim to incorporate this information. Given these suggestions for improving future research, there are many opportunities for innovative research on this topic. One area in particular may be about how generalizable these findings are to other sports. Given the wide range of methodologies and used in these studies, another research goal would be to harmonize measures across studies and conduct a meta-analysis. Another area to investigate is trade-offs between wake time activities (eg, athletic practice) and sleep. For example, is it beneficial for swimmers to practice early in the morning even at the expense of their sleep? Research also should seek to investigate the mechanisms by which aerobic, tactical, and technical performance attributes may be preferentially sensitive to changes in sleep patterns. One limitation of the present work is that although the number of hours and/or nights of sleep interventions across studies varied, sleep duration was only measured the night before performance assessment. Thus, in order to obtain a more complete picture of sleep quantity and quality, future research should aim to measure sleep across the entire study period. Another limitation is that few of the studies examined explicitly the relationship between subjective sleep quality and performance, especially using validated sleep quality questionnaires such as the PSQI and ESS. Thus, this remains an open question that will be important to be investigated in the future. Once all these data are gathered, feasible and effective interventions should be developed, implemented, and evaluated to improve the sleep health and optimal performance of athletes. In conclusion, the importance of sleep for professional athletes to achieve high performance varies by the cognitive and physical demands of the sport. However, because most sports require integration of aerobic fitness, tactical skills, and technical skills, competitive athletes will likely benefit from an increase in sleep duration.\\n \\nPage 1 of 1']\n",
      "Unique values in G: prep_step (n=1):\n",
      "\t['Take the key points and numerical descriptors to']\n",
      "Unique values in H: summarization task (n=3):\n",
      "\t['Describe the interesting points to your coworker at the water cooler', 'Summarize for a LinkedIn post', 'Summarize in an engaging way']\n",
      "Unique values in I: full summarization task (n=5):\n",
      "\t['Take the key points and numerical descriptors to Describe the interesting points to your coworker at the water cooler', 'Take the key points and numerical descriptors to Describe the interesting points to your coworker at the water cooler.', 'Take the key points and numerical descriptors to Summarize for a LinkedIn post', 'Take the key points and numerical descriptors to Summarize for a LinkedIn post.', 'Take the key points and numerical descriptors to Summarize in an engaging way']\n",
      "Unique values in J: original summary (n=109):\n",
      "\t['\"New literature review finds that increased sleep duration has a positive effect on athletic performance among competitive athletes. No published studies showed a negative association between sleep duration and performance outcome. Aerobic activity is more sensitive to sleep duration compared to anaerobic activity. Studies measuring outcomes requiring tactical and/or technical skills found benefits of sleep on performance. Longer-term sleep extension interventions showed positive results for improved performance. Future research should aim to standardize tests of athletic performance and sleep metrics to identify optimal sleep standards for athletes. #sleep #athleticperformance #sports #research\"', '\"New research reveals major changes in metabolic rate across the human life course. Adjusted expenditures for pregnant mothers and neonates remain stable at ~100%, while total and basal expenditures accelerate rapidly over the first year and progressively decline thereafter, reaching adult levels at ~20 years. Elevated tissue-specific metabolism in early life may be related to growth or development, while reduced expenditures in later life may reflect a decline in organ level metabolism. There is considerable metabolic variation among individuals, with TEE and its components varying more than Â±20% even when controlling for body composition, sex, and age. These findings have implications for understanding energy balance, nutritional needs, body weight, and potential clinical investigations into disease, pharmaceutical activity, and healing.\" #metabolism #lifecourse #healthresearch', '\"New study finds no difference in recovery response from resistance exercise between young and middle-aged men! Results showed similar changes in performance and markers of muscle damage and inflammation, suggesting that middle-aged adults who engage in resistance training are not at increased risk for greater soreness or muscle damage compared to younger adults. However, changes in muscle performance do seem to begin during middle age. Stay active and keep up with your resistance training to maintain your recovery response! #resistancetraining #fitness #musclerecovery\"', '\"New study shows that exposure to food cues and stress increases food craving and snacking of highly palatable foods. Ghrelin and cortisol hormones play a role in food motivation and intake. These findings highlight the need for further research to understand the biobehavioral processes driving overeating and weight gain. #nutrition #health #obesity #research\"', '\"Sleep duration positively impacts athletic performance among competitive athletes, according to a systematic literature review. None of the studies reviewed found a negative association between sleep duration and performance outcomes. Aerobic activity is more sensitive to sleep duration than anaerobic activity, and studies measuring outcomes requiring technical and tactical skills found benefits of sleep on performance. Longer-term sleep extension interventions showed positive results, while short-term sleep deprivation may be more harmful than sleep extension is beneficial to performance. More research is needed to determine potential adverse effects of chronic sleep loss on athletic performance. These findings suggest that increasing sleep duration can benefit competitive athletes.\"', 'A new study has found that sleep duration, quality, and midpoint are all important factors that affect how the body regulates blood glucose after a meal. The study analyzed both population-level and person-level effects of sleep on metabolic health, and found that tailored sleep recommendations may be necessary to optimize health outcomes. The study also suggests that sleep quality may be more important than sleep duration in regulating blood glucose, and that a later sleep midpoint may be associated with impaired glucose response. The findings may inform lifestyle strategies to improve postprandial blood glucose levels, focusing on earlier bedtime routines and maximizing high-quality uninterrupted sleep.', 'A new study has found that sleep duration, quality, and midpoint are important factors in regulating blood glucose levels after meals. The study, which focused on healthy adults, suggests that personalized sleep recommendations may be necessary to optimize metabolic health and prevent diabetes. The study also found that sleep quality may be more important than sleep duration in regulating blood glucose levels. The authors suggest that earlier bedtime routines and maximizing high-quality uninterrupted sleep may be effective strategies for improving metabolic health.', 'A new study on Daily Energy Expenditure through the Human Life Course reveals major changes in metabolic rate across the life course. The study provides empirical measures and predictive equations for total expenditure from infancy to old age. The stability of adjusted total and basal expenditures during pregnancy indicates that the growing fetus maintains a fat-free mass and fat mass-adjusted metabolic rate similar to adults. Adjusted expenditures progressively decline thereafter, reaching adult levels at ~20 years, reflecting the metabolic demands of growth and development. Elevated tissue-specific metabolism in early life may be related to growth or development. Measures of humans here challenge the view that size-adjusted metabolism increases in a power-law manner over the life course. There is considerable metabolic variation among individuals, with TEE and its components varying more than Â± 20% even when controlling for fat-free mass, fat mass, sex, and age.', 'A new study shows that sleep duration, quality, and midpoint are important factors in regulating postprandial glucose metabolism in healthy individuals. One-size-fits-all sleep recommendations are suboptimal, and personalized sleep guidelines may be necessary to improve metabolic health and prevent diabetes. The study also suggests that sleep quality may be more important than sleep duration in regulating glucose metabolism, and a later sleep midpoint may be associated with impaired postprandial glucose response. The findings highlight the importance of lifestyle strategies to improve sleep habits and maximize the effectiveness of diabetes prevention guidelines.', 'A new study shows that sleep quality, duration, and midpoint are important factors in controlling blood glucose levels after meals, which is a key component in diabetes prevention. The study found that one-size-fits-all sleep recommendations are not optimal, and that individualized recommendations are necessary. The study also found that sleep quality is more important than sleep duration in regulating blood glucose levels. The findings suggest that earlier bedtime routines and maximizing high-quality uninterrupted sleep can improve postprandial blood glucose levels. The study provides insights into the effects of sleep on metabolic health and may inform lifestyle strategies to prevent diabetes.', \"A recent study found no differences in recovery response between young and middle-aged men following resistance exercise. Additionally, there were no differences in inflammatory or muscle damage response between the two groups. The study suggests that changes in muscle performance may begin during middle age, but participating in recreational resistance training may help mitigate these changes. However, it's important to note that the exercise protocol used in the study was a unilateral, single-joint isokinetic exercise, which may not be specific to the type of exercises typically used by recreational lifters.\", 'A recent study found no differences in the recovery response between young and middle-aged men after high-volume resistance exercise. Changes in muscle performance may begin during middle age, but participating in recreational resistance training can mitigate this. The study suggests future research should examine modes of training specific to typical training programs of recreational lifters, regardless of age. #resistancetraining #musclerecovery #age #fitnessresearch', 'A recent study investigated the effects of aging on muscle soreness and damage after an intensive squat exercise protocol, as well as the age-related effects of a recovery intervention in young and master athletes. The study found that master athletes do not experience higher levels of fatigue or recover more slowly than their younger counterparts. Additionally, a mixed-method recovery intervention did not contribute to a faster recovery of physical performance, neuromuscular function, or muscle damage, but did promote recovery of perceptual measures regardless of age. However, the effectiveness of the intervention varied among individual athletes. The study suggests that recovery interventions should be individualized and further research is needed under more controlled experimental conditions.', 'A recent study investigated the effects of aging on muscle soreness and damage following an intensive squat exercise protocol and the age-related effects of a recovery intervention in young and master athletes. The study found that master athletes do not experience higher fatigue levels or recover more slowly than younger athletes. A mixed-method recovery intervention did not contribute to faster physical performance recovery but promoted recovery of perceptual measures. However, the use of recovery methods post-exercise, including mixed-method recovery, should be individualized. The study had limitations in small sample size and difficulty in complete population matching. Further studies are recommended under more controlled experimental conditions.', 'A recent study investigated the effects of aging on muscle soreness and damage following an intensive squat exercise protocol and the age-related effects of a recovery intervention in young and master athletes. The study found that master athletes do not experience higher fatigue levels or slower recovery than younger athletes. Additionally, a mixed-method recovery intervention did not contribute to faster recovery of physical performance or muscle damage but did promote recovery of perceptual measures regardless of age. The study recommends individualizing the use of recovery methods and acknowledges limitations in sample size and exercise intensity matching.', 'A recent study investigated the effects of aging on muscle soreness and muscle damage following an intensive squat exercise protocol, as well as the age-related effects of a recovery intervention in tightly controlled populations of young and master athletes regarding their absolute performance level. The study found that master athletes neither reach higher fatigue levels nor recover more slowly than younger athletes. However, a mixed-method recovery intervention (MMR) after resistance exercise did not contribute to a faster recovery of physical performance, neuromuscular function, or muscle damage, but promoted recovery of perceptual measures regardless of age. The use of MMR should be individualized, and further studies under more controlled experimental conditions are recommended.', 'A study comparing young and middle-aged men in the recovery response from resistance exercise found no significant differences in performance measures, muscle pain or soreness, inflammatory or muscle damage response. Differences in strength levels were observed between age groups, but recovery from exercise was comparable in both. Recreational resistance training may mitigate any alteration in the recovery response from exercise in middle-aged adults. This study highlights the importance of exercise for maintaining muscle recovery in middle age. #ScienceCommunication #Fitness #ExerciseScience', 'A study found no differences in recovery response between young and middle-aged men after high-volume resistance exercise, suggesting that middle-aged individuals who regularly engage in resistance training do not have an increased risk for muscle soreness or damage compared to younger individuals. However, changes in muscle performance may begin during middle age. The study recommends further research using multijoint, dynamic constant resistance exercises to compare population groups regardless of age. #resistancetraining #musclerecovery #middleage #fitnessresearch', 'A study investigated the effects of aging on muscle soreness and damage following an intensive squat exercise protocol in young and master athletes. The results showed that master athletes do not reach higher fatigue levels nor recover more slowly than younger athletes. The study also tested a mixed-method recovery intervention (MMR) after resistance exercise, but it did not contribute to a faster recovery of physical performance, neuromuscular function, or muscle damage, although it did promote recovery of perceptual measures regardless of age. However, the use of MMR should be individualized. Limitations of the study include a small sample size and difficulty in complete matching of population characteristics and exercise intensity.', 'A systematic literature review found that increased sleep duration has a positive effect on athletic performance among competitive athletes. Aerobic activity is more sensitive to sleep duration than anaerobic activity. Studies measuring outcomes requiring tactical and/or technical skills showed benefits of sleep on performance. Longer-term sleep extension was more likely to show an effect than acute sleep interventions. Strategies to improve sleep not only the night before an important sports event but also in the weeks leading up to it are likely to be fruitful in improving performance. Competitive athletes will likely benefit from an increase in sleep duration. #sportsperformance #sleepduration #athletes #competitiveathletes #sleephealth', \"A systematic literature review found that sleep duration has a positive or neutral effect on athletic performance among competitive athletes. Aerobic activity is more sensitive to sleep duration compared to anaerobic activity. Sleep extension interventions improved tennis serving and basketball shooting accuracy, while sleep deprivation impaired soccer and rugby players' performance. Longer-term sleep extension interventions showed positive results, while acute sleep interventions had inconsistent results. Future research should aim to standardize tests of athletic performance and incorporate more objective sleep data. Competitive athletes will likely benefit from an increase in sleep duration. #SportsScience #SleepDuration #AthleticPerformance\", 'According to a recent study, mild hypohydration can increase pain sensitivity in healthy women, regardless of their menstrual phase. The study also found that acute water ingestion did not immediately reduce pain sensitivity. These findings suggest that maintaining adequate hydration may help alleviate pain symptoms in women and should be further investigated for its potential impact on chronic pain conditions. Pain researchers should also consider controlling or measuring hydration status to minimize confound in clinically and physiologically relevant tests.', 'Exercise snacks, defined as brief bouts of vigorous exercise performed multiple times throughout the day, may be an effective strategy to improve cardiorespiratory fitness (CRF) and reduce the impact of sedentariness on cardiometabolic health. Studies have shown that exercise snacks involving thrice daily ~15Â–30 s of hard effort involving cycling and more practical stair climbing can be efficacious for improving CRF and exercise performance in inactive adults. These snacks have potential to improve aspects of cardiometabolic health in individuals with obesity, but their efficacy in clinical populations remains to be established. Overall, exercise snacks align closely with the recently revised Physical Activity Guidelines and the World Health Organization Guidelines on Physical Activity and Sedentary Behavior.', 'Exercise snacks, defined as isolated bouts of brief vigorous exercise performed multiple times throughout the day, may be a feasible exercise strategy that simultaneously improves cardiometabolic health and reduces the impact of sedentariness. Emerging evidence suggests that exercise snacks involving thrice daily ~15-30 s of hard effort involving cycling and more practical stair climbing are efficacious for improving cardiorespiratory fitness and exercise performance in inactive adults. These snacks may also have potential to improve aspects of cardiometabolic health in individuals with obesity. However, their efficacy in clinical populations remains to be established.', 'Exercise snacks, defined as isolated bouts of brief vigorous exercise performed multiple times throughout the day, may be a feasible strategy to improve cardiometabolic health, according to emerging evidence. Such snacks involving thrice daily ~15Â–30 s of hard effort involving cycling and more practical stair climbing are efficacious for improving CRF and exercise performance in inactive adults. Exercise snacks can also improve aspects of cardiometabolic health in individuals with obesity, and their applicability in a real-world setting remains to be determined. #exercisesnacks #cardiometabolichealth #briefvigorousexercise', 'Exercise snacks, defined as isolated bouts of brief vigorous exercise performed multiple times throughout the day, may be an effective strategy to improve cardiometabolic health. Studies have shown that short bursts of activity, such as cycling or stair climbing, improve cardiorespiratory fitness and exercise performance in inactive adults. Additionally, exercise snacks have the potential to improve metabolic outcomes in individuals with obesity and may even benefit vascular health. These findings align with the recently revised Physical Activity Guidelines for Americans and the World Health Organization Guidelines on Physical Activity and Sedentary Behavior, which emphasize the health benefits of short bouts of physical activity.', 'Exercise snacks, defined as isolated bouts of brief vigorous exercise performed multiple times throughout the day, may be an effective strategy to improve cardiometabolic health. Studies have shown that thrice daily ~15-30 seconds of hard effort involving cycling and practical stair climbing can improve CRF and exercise performance in inactive adults. Additionally, exercise snacks have the potential to improve aspects of cardiometabolic health in individuals with obesity. These findings align with the recently revised Physical Activity Guidelines for Americans and the World Health Organization Guidelines on Physical Activity and Sedentary Behavior. #exercise #cardiometabolichealth #healthylifestyle', 'Hey there! Did you know that insufficient sleep can impact blood glucose control? A recent study found that not only is sleep duration important, but also sleep quality and midpoint. Interestingly, the study found that a one-size-fits-all sleep recommendation may not be the best approach for everyone. The study also showed that sleep quality may be even more important than sleep duration when it comes to glucose regulation. The researchers found that a later sleep midpoint, such as going to bed later, is associated with impaired glucose response to breakfast the following morning. However, a high-fat breakfast might help mitigate the detrimental effects of poor sleep on postprandial glycaemia. Overall, the study suggests that improving sleep habits, such as having earlier bedtime routines and maximizing high-quality uninterrupted sleep, may be a lifestyle strategy to improve postprandial blood glucose levels.', 'Hey there! I just read about an interesting study that looked at the effects of different doses of exercise on food intake, metabolism, and physical activity. The study found that participants in the exercise groups compensated and lost less weight than expected. Interestingly, compensation primarily resulted from increased energy intake rather than changes in metabolism or physical activity. Participants who compensated were more likely to meet criteria for metabolic syndrome and reported increased appetite and compensatory health beliefs. The study also showed that longer durations of exercise increase compensatory responses. Overall, the findings suggest that clinicians should include a concomitant lifestyle, dietary, or pharmacological intervention when prescribing exercise for weight loss.', 'Hey there! I just read an interesting literature review on the impact of sleep duration on performance among competitive athletes. The study found that none of the published studies they reviewed found a negative association between sleep duration and athletic performance. In fact, increased sleep duration had a positive effect on performance or results were neutral. It was also found that aerobic activity is more sensitive to sleep duration compared to anaerobic activity, including strength testing. The study also highlighted the importance of measuring sleep across the entire study period and using validated sleep quality questionnaires. Overall, the review suggests that competitive athletes will likely benefit from an increase in sleep duration.', 'Hey! Did you know that a new study found that high doses of anti-inflammatory drugs, like ibuprofen, can compromise muscle strength and hypertrophic adaptations to resistance training in young adults? The study showed that daily consumption of maximal over-the-counter doses of ibuprofen can actually reduce muscle hypertrophy and strength gains during resistance training. Interestingly, the study also found that muscle size and strength gains were attenuated by ibuprofen only when training was performed with maximal all-out repetitions. The only marked difference across medical treatment was a significant ibuprofen-induced reduction in IL-6 gene expression, which in our mind reflected a changed inflammatory environment that, speculatively, contributed to the attenuated hypertrophic development in the ibuprofen group. These findings have important implications for the millions of individuals worldwide who consume NSAIDs on a regular basis while trying to obtain the best possible benefits of resistance training.', \"Hey! Did you know that a systematic literature review found that increasing sleep duration has a positive effect on athletic performance? None of the studies reviewed found a negative association between sleep duration and any performance outcome. It seems that aerobic activity is more sensitive to sleep duration compared to anaerobic activity. Studies have shown that sleep deprivation is associated with increased perceived effort, which can affect endurance and explosive, power-based exercises. Additionally, the studies that altered sleep duration on a longer-term timescale were more likely to show an effect than those that altered sleep duration acutely. It's interesting to note that chronic sleep extension studies have demonstrated significant benefits to athletes. Overall, the importance of sleep for professional athletes to achieve high performance varies by the cognitive and physical demands of the sport.\", 'Hey! I just read a literature review about the impact of sleep duration on performance among competitive athletes. It turns out that none of the published studies found a negative association between sleep duration and athletic performance. In fact, almost all of the studies showed that increased sleep duration has a positive effect on athletic performance or the results were neutral. Interestingly, it seems that aerobic activity is more sensitive to sleep duration compared to anaerobic activity, including strength testing. The studies that altered sleep duration on a longer-term timescale were more likely to show an effect than those that altered sleep duration acutely. Moreover, chronic sleep extension studies have demonstrated significant benefits to athletes. The review suggests that athletes involved in sports requiring technical skills are likely to be particularly sensitive to sleep manipulations and thus should be counseled regarding the importance of sleep for game performance.', 'Hey! I just read a study on the recovery response from resistance exercise between young and middle-aged men. The study found that there were no differences in the recovery response between the two age groups for any of the performance measures, nor in subjective levels of muscle pain or soreness. This is the first study to examine differences in the recovery response from high-volume resistance exercise between recreationally trained young and middle-aged adults. \\n\\nInterestingly, changes in muscle performance seem to begin during middle age, even in recreationally trained individuals, but participating in resistance training may mitigate any alteration in the recovery response from exercise. The study also found no significant differences in the inflammatory or muscle damage response between the two age groups. \\n\\nThe study has some limitations as the exercise protocol was performed on an isokinetic dynamometer, which may not have as much practical application as most resistance training programs use dynamic constant resistance exercises. However, this study provides valuable insights into the effects of age on recovery response from resistance exercise.', \"Hey! I just read a study that found that mild dehydration can increase pain sensitivity in healthy women, regardless of their menstrual cycle phase. The study showed that pain tolerance decreased by 8%, while pain intensity and unpleasantness increased by 13% and 12%, respectively. Interestingly, acute water ingestion did not reduce pain sensitivity, despite decreasing thirst perception. These findings suggest that inadequate hydration may worsen pain perception in women, and could have implications for chronic pain conditions. It might be important for pain researchers to control for participants' hydration status in their studies.\", 'Hey! I read an interesting study about muscle recovery after intense squat exercise in young and master athletes. The study found that there were no significant age-related differences in fatigue levels or recovery time between young and master athletes. However, younger athletes experienced higher levels of post-exercise fatigue in terms of muscle soreness and peak power output. The study also tested a mixed-method recovery intervention (MMR) using cold water immersion and compression, but found no significant improvement in physical performance or muscle damage recovery at the group level. However, some individual participants did benefit from the MMR in terms of functional and physiological measures, so the use of recovery methods should be individualized. The study had some limitations due to a small sample size and difficulty in matching population characteristics and exercise intensity.', 'Hey, did you hear about the E-MECHANIC randomized controlled trial? The study investigated the effect of different doses of supervised exercise on food intake, metabolism, and non-exercise physical activity. Interestingly, the study found that compensation, where participants increased their energy intake, occurred at both lower and higher doses of exercise. Additionally, participants who compensated were more likely to meet criteria for metabolic syndrome and reported increased appetite and compensatory health beliefs. The study suggests that clinicians should include a concomitant lifestyle, dietary, or possibly pharmacological intervention when prescribing exercise if weight loss is the goal.', 'Hey, did you hear about the E-MECHANIC randomized controlled trial? They found that in a 6-month exercise program, participants who exercised at both 8 and 20 KKW (kcal/kg/week) doses compensated and lost less weight than expected. The compensation was due to increased energy intake, not changes in metabolism or non-exercise physical activity. Interestingly, compensators were more likely to have metabolic syndrome and reported increased appetite and compensatory health beliefs. The study provides insight into how to reduce compensation during long-term exercise.', 'Hey, did you hear about the E-MECHANIC randomized controlled trial? They found that participants in the exercise groups compensated and lost less weight than expected. Interestingly, compensation was primarily due to increased energy intake rather than changes in metabolism or non-exercise physical activity. Participants who compensated were also more likely to meet criteria for metabolic syndrome and reported increased appetite and compensatory health beliefs. The study was conducted over 6 months and had excellent exercise adherence.', 'Hey, did you hear about the E-MECHANIC randomized controlled trial? They found that participants who exercised in the study compensated and lost less weight than expected. This was primarily due to increased energy intake and not changes in metabolism or non-exercise physical activity. Additionally, compensators were more likely to meet criteria for metabolic syndrome and reported increased appetite and compensatory health beliefs. The study was 6 months long and had excellent exercise adherence. Interesting, right?', 'Hey, did you hear about the latest research on highly palatable food intake? A recent study conducted in a controlled hospital-based setting found that exposure to both food cues and stress increased food craving and subsequent snacking of highly palatable foods. The study also revealed that ghrelin and cortisol hormones play a role in food cue and stress-related food motivation and intake. Interestingly, the researchers found differential effects of food cue and stress exposure on total ghrelin responses and their contribution to highly palatable food motivation and intake based on BMI group. The study suggests the need for further research to understand the biobehavioral processes that drive overeating and weight gain.', 'Hey, did you hear about the latest study on highly palatable food intake? It was conducted in a controlled hospital-based setting with healthy community adults, and it directly compared the effects of both food cue and stress exposure on highly palatable food craving and intake. The results showed that exposure to both personal food cues and personal stressors led to increases in highly palatable food craving and subsequent snacking of highly palatable foods. Moreover, food cravings predicted significant increases in highly palatable food intake across both lean and overweight individuals. Ghrelin and cortisol hormones also appeared to play a role in food cue and stress-related food motivation and intake. These findings suggest the need for further carefully controlled studies to understand the biobehavioral processes that drive overeating and weight gain.', 'Hey, did you hear about the recent study on the benefits of tub bathing for heart health? A long-term cohort study in Japan found that frequent tub bathing was associated with a lower risk of coronary heart disease, strokes and intracerebral haemorrhage. Interestingly, tub bathing was not associated with a higher risk of sudden cardiac death. The study also found that the potential beneficial effect of tub bathing on CVD events may be mediated by the reduced development of major cardiovascular risk factors such as hypertension. The typical Japanese style of bathing involves filling the tub to shoulder depth with hot water at approximately 40°C\\x9642°C, and the study found that water temperature did not significantly affect the association between tub bathing frequency and CVD risk. Overall, this study provides interesting insights into the potential benefits of a common cultural habit.', 'Hey, did you hear about this new study on highly palatable food intake? They directly compared the effects of food cues and stress exposure on food craving and intake in a controlled hospital-based setting with healthy adults. The results showed that exposure to food cues and stress increased food cravings and subsequent snacking of highly palatable foods. In fact, food cravings predicted subsequent highly palatable food intake. The study also found that ghrelin and cortisol hormones play a role in food cue and stress-related food motivation and intake. This study highlights the need for further research to understand the biobehavioral processes that drive overeating and weight gain.', \"Hey, did you know that a new study found that frequent tub bathing is associated with a lower risk of cardiovascular disease? The study was conducted on middle-aged Japanese men and women and found an inverse association between tub bathing frequency and risks of CVD, CHD, total strokes, and intracerebral hemorrhage. The study also found that frequent tub bathing was significantly associated with a lower risk of hypertension, suggesting that a beneficial effect of tub bathing on the risk of CVD may be in part due to a reduced risk of developing hypertension. The typical Japanese style of bathing involves filling the tub to shoulder depth with hot water at approximately 40°C\\x9642°C. The study also found that the potential beneficial effect of tub bathing of CVD events may be mediated by the reduced development of major cardiovascular risk factors in those who took tub bath frequently. Overall, it's a fascinating study that sheds light on the potential benefits of regular tub bathing.\", 'Hey, did you know that a new study found that frequent tub bathing may lower the risk of developing cardiovascular disease, coronary heart disease, and strokes among middle-aged adults in Japan? The study was conducted over a long period of time and involved a large sample size, which makes the findings more reliable. Sauna bathing has been previously linked to a lower risk of fatal CVD and sudden cardiac death, but this is the first study to specifically look at the effect of tub bathing on cardiovascular health. The study also suggests that the potential beneficial effect of tub bathing on CVD events may be due to the reduced development of major cardiovascular risk factors such as hypertension. The typical Japanese style of bathing involves filling the tub to shoulder depth with hot water at approximately 40-42°C, which is believed to improve vascular function over the long term. However, the negative aspect of tub bathing is that it can cause heatstroke more frequently when the tub water temperature is too high. Overall, this study provides interesting insights into the potential benefits of frequent tub bathing for cardiovascular health.', 'Hey, did you know that a new study found that hypohydration, or mild dehydration, can increase pain sensitivity in women? They found that after 24 hours of fluid restriction, pain tolerance decreased by 8% and pain intensity increased by 13% in women compared to when they were hydrated. Interestingly, menstrual phase did not affect pain sensitivity, but there was a positive correlation between 17?-estradiol levels and pain sensitivity. They also tested if acute water ingestion could remedy the negative effects of hypohydration on pain, but it did not reduce pain sensitivity. This study suggests that maintaining adequate hydration may be important in alleviating pain symptoms, especially for older adults who are more likely to be hypohydrated and experience chronic pain.', \"Hey, did you know that a new study found that sleep duration, quality, and midpoint are important determinants of postprandial glucose metabolism in healthy adults? This means that one-size-fits-all sleep recommendations may not be optimal for diabetes prevention. The study analysed both between-person and within-person effects and found that sleep duration, efficiency and midpoint are important determinants of postprandial glycaemic control at a population level, while illustrating that to optimise sleep recommendations it is likely necessary to tailor these to the individual. The study also found that sleep quality is more important than sleep duration with respect to glycaemic control. The study's findings may inform lifestyle strategies to improve postprandial blood glucose levels, focusing on earlier bedtime routines and maximising high-quality uninterrupted sleep.\", 'Hey, did you know that a new study found that sleep duration, quality, and midpoint are important determinants of postprandial glycaemic control in healthy individuals? This means that one-size-fits-all sleep recommendations may not be optimal for everyone, especially when it comes to preventing diabetes. The study analyzed both population-level and person-level effects of sleep on metabolic health and found that sleep duration was not a major determinant of glucose metabolism, but sleep quality was more important than sleep duration with respect to glycaemic control. The study also found that later sleep midpoint is associated with impaired postprandial glucose response to breakfast the following morning. Interesting, right?', 'Hey, did you know that a new study found that sleep duration, quality, and midpoint are important factors for maintaining healthy blood sugar levels after meals? The study analyzed data from a large population of healthy individuals and found that sleep recommendations should be tailored to the individual rather than a one-size-fits-all approach. Interestingly, the study found that sleep quality is more important than sleep duration for glycaemic control. The study also suggests that a high-fat breakfast may help mitigate the detrimental effects of poor sleep on postprandial glycaemia. Overall, this study provides valuable insights into the interplay between sleep and metabolic health.', 'Hey, did you know that a new study found that taking frequent tub baths may lower the risk of cardiovascular disease (CVD) in middle-aged Japanese individuals? The study followed a large population-based cohort and observed an inverse association between tub bathing frequency and risks of CVD, CHD, total strokes and intracerebral haemorrhage. Interestingly, tub bathing was not associated with a higher risk of sudden cardiac death. The study also found that the potential beneficial effect of tub bathing on CVD events may be mediated by the reduced development of major cardiovascular risk factors, such as hypertension. The typical Japanese style of bathing involves filling the tub to shoulder depth with hot water at approximately 40°C\\x9642°C. However, the study did not suggest any preferable water temperature, but further research regarding the water temperature is warranted. Overall, this is the first study to examine the long-term associations between tub bathing and CVD incidence using a large population-based cohort, and it suggests that habitual tub bathing may have a beneficial effect on the prevention of CVD.', 'Hey, did you know that a recent study analyzed the changes in metabolic rate across the human lifespan? They found that fetal metabolic rates are similar to adults, and there is a rapid acceleration in total and basal expenditure during the first year, which could be due to growth and development. As we age, our adjusted expenditures progressively decline, reaching adult levels at around 20 years old. However, there is considerable metabolic variation among individuals, with total energy expenditure and its components varying more than Â± 20% even when controlling for body composition, sex, and age. The study also challenges the assumption of continuity in tissue-specific metabolism over the life course, with size-adjusted metabolism being elevated ~50% in childhood compared to adults and ~25% lower in the oldest subjects. These findings could have implications for clinical investigation into disease kinetics, pharmaceutical activity, and healing, which are intimately related to metabolic rate.', 'Hey, did you know that a recent study analyzed the daily energy expenditure of humans throughout their life course? They found that metabolic rates change significantly across different stages of life. For example, total and basal expenditures accelerate rapidly during the first year of life, which corresponds to a critical period of early development. However, adjusted expenditures progressively decline thereafter, reaching adult levels at around 20 years old. Interestingly, tissue-specific metabolic rates are much higher in young individuals, particularly in organs like the brain and liver, and decrease in older adults. This could have implications for understanding the kinetics of disease and pharmaceutical activity. Additionally, there is considerable metabolic variation among individuals, even when controlling for fat free mass, fat mass, sex, and age. Overall, these findings challenge the common assumption of continuity in tissue-specific metabolism over the lifespan and suggest that understanding metabolic changes across the life course and among individuals could help reveal the roles of metabolic variation in health and disease.', 'Hey, did you know that a recent study analyzed the daily energy expenditure of humans throughout their lifespan? The study found that metabolic rates change significantly across the lifespan, with rapid acceleration in total and basal expenditure during the first year of life, followed by a progressive decline thereafter, reaching adult levels at around 20 years old. The study also found that tissue-specific metabolic rates are elevated in children and adolescents and reduced in older adults. Interestingly, there is considerable metabolic variation among individuals, with TEE and its components varying more than Â± 20% even when controlling for fat free mass, fat mass, sex, and age. These findings have important implications for understanding the roles of metabolic variation in health and disease.', 'Hey, did you know that a recent study conducted in a hospital-based setting found that exposure to both food cue and stress can increase highly palatable food craving and subsequent snacking of highly palatable foods? The study also found that food cravings predicted subsequent highly palatable food intake. The hormones ghrelin and cortisol seem to play a role in food cue and stress-related food motivation and intake. The results suggest that there is a need for further controlled studies to better understand the biobehavioral processes that drive overeating and weight gain.', 'Hey, did you know that a recent study found major changes in metabolic rate across the human life course? As infants, our metabolic rates are similar to that of adults, but then rapidly accelerate over the first year. Adjusted expenditures progressively decline thereafter, reaching adult levels at around 20 years. Interestingly, tissue-specific metabolic rates are much greater in organs like the heart, liver, brain, and kidneys compared to muscles and lean tissue or fat. This accounts for a greater proportion of fat free mass in young individuals, and thus organ-based basal expenditure follows a power-law relationship with fat free mass. However, observed basal expenditure exceeded organ-based estimates by around 30% in early life and was about 20% lower in subjects over 60 years. The study also found that variation in both physical activity and tissue-specific metabolism contribute to total expenditure and its components across the lifespan. Lastly, there is considerable metabolic variation among individuals, with total energy expenditure and its components varying more than Â± 20%.', 'Hey, did you know that a recent study found that high doses of anti-inflammatory drugs, specifically ibuprofen, can compromise muscle strength and hypertrophic adaptations to resistance training in young adults? The study showed that maximal over-the-counter doses of ibuprofen can reduce muscle hypertrophy by 7.5% and attenuate increases in muscle strength, especially when training is performed with maximal all-out repetitions. The study also found that the negative effect of ibuprofen on muscle adaptations to resistance exercise is dependent on the dose of intake, and that the drug can interfere with the normal hypertrophic development of 0.1–0.2% per day seen in other studies employing conventional resistance-training programmes for the knee extensors. The study provides strong proof-of-principle evidence that the effect of NSAIDs on muscle adaptations to resistance exercise is dependent on the dose of intake, and the mechanistic findings should contribute to a better understanding of regulation of muscle growth in general.', \"Hey, did you know that a recent study found that mild dehydration can increase pain sensitivity in women by 13%? And even though menstrual phase did not affect pain sensitivity, women with higher levels of 17?-estradiol may be more sensitive to pain. The study also tested whether drinking water could alleviate the pain, but it didn't seem to have an effect. This is important because it suggests that staying hydrated throughout the day may help reduce pain perception in women.\", 'Hey, did you know that a recent study found that sleep duration, quality, and midpoint are important factors in regulating blood glucose levels in healthy adults? The study showed that one-size-fits-all sleep recommendations may not be optimal for everyone, and that personalized sleep guidelines may be needed to improve metabolic health and prevent diabetes. Interestingly, the study found that sleep quality may be more important than sleep duration in regulating glucose metabolism. The study also showed that a later sleep midpoint, such as going to bed later, is associated with impaired glucose response to breakfast the following morning. The findings suggest that improving sleep habits, such as earlier bedtime routines and maximizing high-quality uninterrupted sleep, may be important strategies for improving postprandial blood glucose levels.', 'Hey, did you know that a recent study found that there are no differences in the recovery response from high-volume resistance exercise between recreationally trained young and middle-aged adults? The study compared young adults (23-29 years) and middle-aged adults (41-42 years) and found similar changes in performance and markers of muscle damage and inflammation. Interestingly, the decline in strength may develop during middle age, but recovery from exercise seems to be maintained in recreationally trained individuals. The study also found that interleukin-6, an inflammatory cytokine, increased after exercise for both groups, but no significant changes were observed in C-reactive protein, another acute phase protein. These results suggest that middle-aged recreationally active men who regularly engage in resistance training do not seem to be at increased risk for greater soreness or muscle damage in comparison with younger recreationally trained men.', 'Hey, did you know that a recent study found that there are no differences in the recovery response from resistance exercise between young and middle-aged men? This study is the first to examine differences in recovery response from high-volume resistance exercise between recreationally trained young and middle-aged adults. Even though changes in strength may occur during middle age, recovery from exercise seems to be maintained in recreationally trained individuals. Additionally, the study found that interleukin-6, an inflammatory cytokine, increased after exercise in both young and middle-aged adults, but there were no significant changes in C-reactive protein, an acute phase protein. The research suggests that participating in recreational resistance training may mitigate any alteration in the recovery response from exercise.', 'Hey, did you know that a recent study found that there were no differences in the recovery response between young and middle-aged men after high-volume resistance exercise? This is the first study to examine differences in recovery response between these two age groups. The study also found that changes in muscle performance seem to begin during middle age, but participating in recreational resistance training may mitigate any alterations in the recovery response from exercise. Interestingly, there were no significant elevations in CRP concentrations after the exercise protocol, which suggests that training experience may have attenuated the CRP response. The study also noted that the exercise protocol was performed on an isokinetic dynamometer and used unilateral, single-joint exercise, so future research should examine modes of training specific to the typical training program of the participants.', 'Hey, did you know that a recent study found that there were no differences in the recovery response from resistance exercise between young and middle-aged men? The study examined recreationally trained individuals and found that while changes in muscle performance seem to begin during middle age, participating in resistance training may mitigate any alteration in the recovery response from exercise. The study also found that there were no differences in the inflammatory or muscle damage response between young and middle-aged adults. Overall, the study highlights the importance of resistance training for maintaining muscle function and recovery in middle-aged individuals.', 'Hey, did you know that a recent study investigated daily energy expenditure throughout the human life course? They found that there are major changes in metabolic rate across our lifespan. For instance, after rapid acceleration in total and basal expenditure during the first year, adjusted expenditures progressively decline thereafter, reaching adult levels at around 20 years old. Additionally, they found that tissue-specific metabolic rates are elevated in children and adolescents by around 50% compared to adults, and are about 25% lower in the oldest subjects. Furthermore, there is considerable metabolic variation among individuals, with total energy expenditure varying more than Â± 20% even when controlling for fat-free mass, fat mass, sex, and age. These findings could have implications for understanding health and disease.', 'Hey, did you know that a recent study investigated the effects of aging on muscle soreness and muscle damage following an intensive squat exercise protocol in young and master athletes? The study found that, at the group level, master athletes neither reach higher fatigue levels nor recover more slowly than the younger athletes. However, age-related differences were found within younger athletes reaching a higher post-exercise fatigue regarding muscle soreness and PPC. The study also looked at the effectiveness of a mixed-method recovery intervention (MMR) after resistance exercise, and found that it did not contribute to a faster recovery of physical performance, neuromuscular function, or muscle damage, but promoted recovery of perceptual measures regardless of age. However, some participants were more likely to benefit from MMR also in terms of functional and physiological measures. The study had some limitations in terms of sample size and exercise intensity matching, but still provides valuable insights into recovery interventions for athletes.', 'Hey, did you know that a recent study investigated the effects of aging on muscle soreness and muscle damage following an intensive squat exercise protocol? The study found that master athletes did not reach higher fatigue levels or recover more slowly than younger athletes. However, younger athletes experienced higher post-exercise fatigue regarding muscle soreness and peak power. \\n\\nThe study also tested a mixed-method recovery intervention (MMR) using cold water immersion and compression after resistance exercise. Interestingly, the MMR did not contribute to a faster recovery of physical performance or muscle damage, but it did promote recovery of subjective measures such as muscle soreness. \\n\\nHowever, the effectiveness of the MMR varied greatly among the participants, indicating that recovery methods post-exercise should be individualized regardless of age. It is also important to note that the study had some limitations, such as a small sample size and difficulty in fully matching population characteristics and exercise intensity.', 'Hey, did you know that a recent study investigated the effects of food cue and stress exposure on highly palatable food craving and intake? The study found that both food cues and stress exposure increase food craving and subsequent snacking of highly palatable foods. This is supported by previous research that shows rewarding stimuli and their related contexts increase motivation and wanting of rewarding stimuli. Additionally, ghrelin and cortisol hormones appear to play a role in food cue and stress-related food motivation and intake. The study suggests the need for further research to understand the biobehavioral processes that drive overeating and weight gain.', \"Hey, did you know that a recent study looked at the effects of aging on muscle soreness and damage after intense squat exercise in young and master athletes? It found that master athletes recover just as quickly as younger athletes, contradicting previous literature. The study also looked at a mixed-method recovery intervention and found that it didn't contribute to faster recovery of physical performance or muscle damage, but it did help with perceptual measures. However, the effectiveness of the intervention varied greatly among participants, so it should be individualized. Also, the study had a small sample size and difficulty matching population characteristics, so further research is needed.\", \"Hey, did you know that a recent study looked at the effects of aging on muscle soreness and damage following an intensive squat exercise protocol in young and master athletes? Interestingly, the study found that master athletes did not experience higher levels of fatigue or slower recovery compared to younger athletes. However, there were still some age-related differences within the younger athlete group. The study also investigated the effectiveness of a mixed-method recovery intervention (MMR) using cold water immersion and compression, but found that it did not significantly improve recovery of physical performance or muscle damage, although it did improve perceptual measures. It's important to note that individual responses to MMR varied, so it should be individualized. The sample size was small and there were limitations, but it's still an interesting study.\", \"Hey, did you know that a study found no differences in the recovery response between young and middle-aged men after resistance exercise? The study showed that changes in muscle performance seem to begin during middle age, but participating in recreational resistance training may mitigate any alteration in the recovery response from exercise. Also, the study found similar patterns of muscle damage and inflammation in both age groups. It's interesting to note that age did not exacerbate nor attenuate the inflammatory response in recreationally trained individuals.\", \"Hey, did you know that a study found that mild dehydration can increase pain sensitivity in women? The study also discovered that menstrual phase doesn't affect pain sensitivity. They tested pain tolerance, pain intensity, and pain unpleasantness ratings after a handgrip exercise. The results showed that pain tolerance decreased by 8%, while pain intensity increased by 13% and pain unpleasantness increased by 12%. Interestingly, acute water ingestion did not reduce pain sensitivity, even though it decreased thirst perception. The study also found that hormonal fluctuations within the menstrual cycle do not significantly impact pain sensitivity. This study provides valuable information on the effects of hydration on pain perception in women and raises the question of whether hypohydration worsens chronic pain conditions.\", 'Hey, did you know that a study found that not drinking enough water can increase pain sensitivity in women? The study showed that mild hypohydration increased pain intensity by 13% and pain unpleasantness by 12% compared to being properly hydrated. Interestingly, menstrual phase did not affect pain sensitivity. The study also tested if drinking water could reduce pain sensitivity, but it did not have an immediate effect. This is important because many people are not properly hydrated and it could worsen chronic pain conditions. The study also highlights the importance of controlling or measuring hydration status in pain research.', 'Hey, did you know that a systematic literature review found that increasing sleep duration has a positive effect on athletic performance? None of the published studies reviewed found a negative association between sleep duration and performance outcome. Interestingly, aerobic activity seems to be more sensitive to sleep duration compared to anaerobic activity. This study also found that for outcomes requiring tactical and/or technical skills, most studies found benefits of sleep on performance. Interestingly, studies that altered sleep duration on a longer-term timescale were more likely to show an effect than those that altered sleep duration acutely. Overall, this review provides valuable information about when sleep does or does not seem to play a key role in influencing performance among competitive athletes.', 'Hey, did you know that a systematic literature review showed that increased sleep duration has a positive effect on athletic performance and none of the reviewed studies found a negative association between sleep duration and any performance outcome? The study also found that aerobic activity is more sensitive to sleep duration compared to anaerobic activity. Interestingly, acute sleep deprivation tended to yield positive results, while longer-term sleep extension studies showed significant benefits to athletes. However, more research is needed to validate the various performance outcomes measured, especially those involving complex, team-based measures such as composite game performance scores and passing accuracy. Overall, the importance of sleep for professional athletes to achieve high performance varies by the cognitive and physical demands of the sport.', 'Hey, did you know that high doses of anti-inflammatory drugs like ibuprofen can compromise muscle strength and hypertrophic adaptations to resistance training in young adults? A study showed that the maximal over-the-counter doses of ibuprofen compromised muscle hypertrophy independent of training mode, and increased muscle strength was attenuated by ibuprofen only when training was performed with maximal all-out repetitions. The study found that the negative effect of NSAIDs on muscle adaptations to resistance exercise is dependent on the dose of intake, and there may be distinct differences in the response to resistance training and NSAID consumption in the young vs. the elderly. This study provides strong proof-of-principle evidence that the effect of NSAIDs on muscle adaptations to resistance exercise is dependent on the dose of intake.', 'Hey, did you know that high doses of anti-inflammatory drugs like ibuprofen can compromise muscle strength and hypertrophic adaptations to resistance training in young adults? In a recent study, healthy young men and women performed 8 weeks of supervised resistance training with concomitant high- or low-dose NSAID treatment. The major findings were that maximal over-the-counter doses of ibuprofen compromised resistance exercise-induced muscle hypertrophy independent of training mode and increases in muscle strength were attenuated by ibuprofen only when training was performed with maximal all-out repetitions. The increase in muscle volume in the ASA group was of a similar magnitude to that previously reported by other studies, while the reduction in muscle hypertrophy in response to the ibuprofen treatment was quite remarkable. The study shows that daily consumption of high doses of NSAIDs attenuates strength and muscle hypertrophic adaptations to resistance training in young healthy individuals, and the effect of NSAIDs on muscle adaptations to resistance exercise is dependent on the dose of intake.', 'Hey, did you know that taking high doses of anti-inflammatory drugs like ibuprofen can compromise muscle strength and hypertrophic adaptations to resistance training in young adults? In a recent study, healthy young men and women performed 8 weeks of supervised resistance training with concomitant high- or low-dose NSAID treatment. The major findings were that maximal over-the-counter doses of ibuprofen compromised resistance exercise-induced muscle hypertrophy independent of training mode and increases in muscle strength were attenuated by ibuprofen only when training was performed with maximal all-out repetitions. The study also found that the only marked difference across medical treatment was a significant ibuprofen-induced reduction in IL-6 gene expression, which reflected a changed inflammatory environment that, speculatively, contributed to the attenuated hypertrophic development in the ibuprofen group. This study improves our understanding of how NSAIDs work and interacts with chronic exercise responses and has implications for the millions of individuals worldwide who consume NSAIDs on a regular basis while trying to obtain the best possible benefits of resistance training.', \"Hey, have you heard about exercise snacks? It's a new strategy to improve cardiometabolic health by performing isolated bouts of brief vigorous exercise multiple times throughout the day. Studies have shown that exercise snacks can improve cardiorespiratory fitness and exercise performance in previously inactive adults. Participants were instructed to safely ascend 60 steps in a three-flight stairwell as quickly as possible, followed by a dynamic warm-up and a 1-minute cooldown. The exercise snacks approach does not require all-out efforts and can be performed using both cycling-based and more practical stair-based protocols. There is also potential for exercise snacks to improve aspects of cardiometabolic health in individuals with obesity, but more research is needed in clinical populations.\", \"Hey, have you heard about exercise snacks? It's a new strategy to improve cardiometabolic health by performing isolated bouts of brief vigorous exercise multiple times throughout the day. Studies have shown that exercise snacks involving cycling or stair climbing can improve cardiorespiratory fitness and exercise performance in inactive adults. It's also been suggested that exercise snacks could potentially improve aspects of cardiometabolic health in individuals with obesity. The best part is that exercise snacks can be easily incorporated into daily activities at home, school, or work.\", \"Hey, have you heard about exercise snacks? It's a new strategy to improve cardiometabolic health. Studies have shown that isolated bouts of brief vigorous exercise, performed multiple times throughout the day, can improve cardiorespiratory fitness and exercise performance in inactive adults. For example, a protocol involving thrice daily ~15-30 seconds of hard effort involving cycling or stair climbing can lead to modest but significant improvements in CRF and peak power output. The best part is that exercise snacks can be easily implemented in a home, school or office-based setting. Moreover, recent work from the lab has also shown the potential for exercise snacks to improve vascular health by mitigating the detrimental effects of sedentary behavior on leg blood flow and shear stress. This approach aligns with the recently revised Physical Activity Guidelines for Americans and the WHO Guidelines on Physical Activity and Sedentary Behavior, which eliminated the previous requirement that physical activity had to be accumulated in bouts lasting at least 10 minutes. Isn't that interesting?\", \"Hey, have you heard about the new study on the benefits of tub bathing? Apparently, a long-term cohort study of middle-aged Japanese men and women found an inverse association between tub bathing frequency and risks of CVD, CHD, total strokes and intracerebral haemorrhage. They observed a lower risk of hypertension in those who took tub baths frequently, which may be in part due to the reduced development of major cardiovascular risk factors. The typical Japanese style of bathing involves filling the tub to shoulder depth with hot water at approximately 40°C\\x9642°C, and using water up to 42°C was found to have favourable effects in previous controlled trials. Although there are physiological differences between tub and sauna bathing, the potential beneficial effects of tub bathing on CVD events are believed to be similar to the impact of exercise and are mediated by improved vascular function. It's interesting that the study found a statistically significant inverse association between tub bathing and risk of CVD outcomes, even after adjusting for socioeconomic variables.\", 'Hey, have you heard of exercise snacks? It\\'s a new strategy to improve cardiometabolic health. Basically, it involves isolated bouts of brief vigorous exercise performed multiple times throughout the day. Studies have shown that exercise snacks involving three daily bouts of vigorous stair climbing performed 1-4 hours apart can improve cardiorespiratory fitness (CRF) and exercise performance in previously inactive young adults. Another study involving isolated 20-second \"all-out\" cycling bouts performed 1-4 hours apart also resulted in improvements in CRF and time-trial performance. These exercise snacks can also help mitigate the negative effects of prolonged sitting, such as reducing insulin and nonesterified fatty acids. It\\'s a feasible and effective strategy for improving cardiovascular health, especially for those who have low physical fitness levels or other disease-related risk factors that may prevent participation in traditional forms of exercise.', \"Hey, have you heard of exercise snacks? They're brief, isolated bouts of vigorous exercise that you can do multiple times throughout the day. Studies have shown that exercise snacks can improve cardiometabolic health and increase cardiorespiratory fitness, even in previously inactive adults. For example, one study had participants perform three daily bouts of vigorous stair climbing performed 1-4 hours apart on 3 days a week, and after 6 weeks, there were modest but significant improvements in cardiorespiratory fitness. Another study involved three isolated 20-second all-out cycling bouts performed 1-4 hours apart and resulted in improvements in both cardiorespiratory fitness and time-trial performance. Exercise snacks have also been shown to be feasible and effective for improving metabolic outcomes in preclinical and clinical populations, such as individuals with obesity or type 2 diabetes. The potential for exercise snacks to improve vascular health is also being explored. Overall, exercise snacks seem like a promising strategy for improving health and fitness, and they're easy to incorporate into daily life, whether you're at home, school, or work.\", 'High doses of anti-inflammatory drugs, specifically ibuprofen, can compromise muscle strength and hypertrophic adaptations to resistance training in young adults. This was shown in a study where healthy young men and women performed 8 weeks of supervised resistance training with concomitant high- or low-dose NSAID treatment. The study found that maximal doses of ibuprofen compromised resistance exercise-induced muscle hypertrophy independent of training mode, and increases in muscle strength were attenuated by ibuprofen only when training was performed with maximal all-out repetitions. This study highlights the importance of drug dosage when taking NSAIDs and their effect on muscle adaptations to resistance exercise.', 'High doses of anti-inflammatory drugs, specifically ibuprofen, compromise muscle strength and hypertrophic adaptations to resistance training in young adults, according to a recent study. The study found that maximal over-the-counter doses of ibuprofen compromised resistance exercise-induced muscle hypertrophy independent of training mode, and increases in muscle strength were attenuated by ibuprofen only when training was performed with maximal all-out repetitions. The study provides strong proof-of-principle evidence that the effect of NSAIDs on muscle adaptations to resistance exercise is dependent on the dose of intake, and has important implications for individuals who consume NSAIDs on a regular basis while trying to obtain the best possible benefits of resistance training.', 'High doses of anti-inflammatory drugs, such as ibuprofen, can compromise muscle strength and hypertrophic adaptations to resistance training in young adults. In a study of healthy young men and women, 8 weeks of supervised resistance training with high- or low-dose NSAID treatment revealed that maximal over-the-counter doses of ibuprofen compromised resistance exercise-induced muscle hypertrophy independent of training mode. Increases in muscle strength were attenuated by ibuprofen only when training was performed with maximal all-out repetitions. The study provides strong proof-of-principle evidence that the effect of NSAIDs on muscle adaptations to resistance exercise is dependent on the dose of intake. These findings have important implications for individuals worldwide who consume NSAIDs on a regular basis while trying to obtain the best possible benefits of resistance training.', 'In a 3-day human laboratory experiment, researchers found that exposure to both food cues and stress led to increased craving and snacking of highly palatable foods, with ghrelin and cortisol hormones playing a role in food motivation and intake. Results suggest the need for further research to understand the biobehavioral processes underlying overeating and weight gain. #foodcraving #stress #obesityresearch #biobehavioralprocesses', \"Insufficient sleep can impact our blood glucose control, which is a key component of diabetes prevention. A recent study found that sleep duration, quality, and midpoint are important determinants of postprandial glycaemic control in healthy adults. Interestingly, the study suggests that one-size-fits-all sleep recommendations are suboptimal, and that sleep recommendations should be tailored to the individual. The study's findings may inform lifestyle strategies to improve postprandial blood glucose levels, focusing on earlier bedtime routines and maximising high-quality uninterrupted sleep.\", 'Maximal over-the-counter doses of NSAIDs compromise resistance exercise-induced increases in muscle size and strength in young adults. Ibuprofen was found to have a marked effect on muscle hypertrophy and a reduction in IL-6 gene expression. The study highlights the importance of drug dosage in resistance training studies and raises concerns about the use of NSAIDs during exercise. #NSAIDs #resistancetraining #musclestrength #musclehypertrophy #exerciseadaptations', 'New research has discovered major changes in metabolic rate across the human life course. Adjusted expenditures for pregnant mothers and neonates are similar to adults, while total and basal expenditures accelerate rapidly over the first year, reflecting the metabolic demands of growth and development. Adult expenditures remain stable, while declining metabolic rates in older adults could increase the risk of weight gain. The contribution of daily physical activity and changes in tissue-specific metabolic rate to total and basal expenditure have been investigated, revealing that variation in both contribute to total expenditure and its components across the lifespan. Elucidating the processes underlying metabolic changes and variation among individuals may help reveal the roles of metabolic variation in health and disease. #metabolicrate #humanlifecourse #healthresearch', 'New research has found major changes in metabolic rate across the human life course. Total and basal expenditures accelerate rapidly over the first year, decline thereafter, and reach adult levels at around 20 years. Elevated adjusted expenditures in early life may reflect the metabolic demands of growth and development. Declining metabolic rates in older adults could increase the risk of weight gain. The study also found considerable metabolic variation among individuals, with TEE and its components varying more than Â± 20% even when controlling for fat free mass, fat mass, sex, and age. These findings present a potential target for clinical investigation into the kinetics of disease, pharmaceutical activity, and healing.', 'New research shows that exposure to both food cues and stress increases highly palatable (HP) food craving and subsequent snacking of HP foods. Food cravings predict subsequent HP food intake and ghrelin and cortisol hormones play a role in food cue and stress-related food motivation and intake. These findings highlight the need for further research to understand the biobehavioral processes that drive overeating and weight gain. #obesity #foodmotivation #healthresearch', 'New research shows that exposure to both food cues and stressors can increase highly palatable food craving and subsequent snacking of these foods. The study, conducted in a controlled hospital-based setting with healthy community adults, found that ghrelin and cortisol hormones play a role in food cue and stress-related food motivation and intake. These findings highlight the need for further research to understand the biobehavioral processes that drive overeating and weight gain. #diet #nutrition #obesity #healthresearch', 'New research shows that exposure to food cues and stress can increase cravings for highly palatable foods and subsequent snacking. The study, conducted in a controlled hospital-based setting with healthy community adults, found that ghrelin and cortisol hormones play a role in food cue and stress-related food motivation and intake. These findings suggest the need for further research to understand the biobehavioral processes that drive overeating and weight gain. #foodcravings #obesity #biobehavioralresearch', 'New research shows that mild dehydration can increase pain sensitivity in healthy women, regardless of menstrual phase. The study found that thirst perception may be a potential mechanism linking dehydration and increased pain sensitivity. Surprisingly, acute water ingestion did not reduce pain sensitivity, despite decreasing thirst perception. These findings highlight the importance of adequate hydration in pain management and suggest that controlling or measuring hydration status may be important in human pain research. Further studies are needed to investigate the potential exacerbation of chronic pain conditions by hypohydration.', 'New research suggests that mild hypohydration, caused by insufficient water intake, increases pain sensitivity in women. Menstrual phase, on the other hand, does not appear to affect pain sensitivity. The study also found that acute water ingestion did not immediately reverse the hyperalgesic effect of hypohydration. These findings have implications for chronic pain management and the need to maintain adequate hydration. Pain researchers should also consider controlling or measuring hydration status to minimize confounds in their studies.', 'New research suggests that sleep duration, quality, and midpoint are crucial determinants of postprandial glycaemic control in healthy adults. The study, which analysed both population-level and person-level effects of sleep on metabolic health, found that sleep recommendations need to be tailored to the individual for optimal results. Additionally, the findings indicate that sleep quality may be more important than sleep duration for glycaemic control. Earlier bedtime routines and maximising high-quality uninterrupted sleep may improve postprandial blood glucose levels, informing lifestyle strategies for diabetes prevention.', \"New research suggests that sleep duration, quality, and midpoint are important determinants of postprandial glycaemic control in healthy adults. The study analyzed both between-person and within-person effects to provide unique and powerful insights into how sleep affects metabolic health. The findings suggest that one-size-fits-all sleep recommendations are suboptimal and that personalized sleep guidelines are necessary to ensure optimal metabolic health and maximize the effectiveness of guidelines for diabetes prevention. The study also found that a high-fat breakfast might help to mitigate the detrimental effects of poor sleep on postprandial glycaemia. Overall, the study's findings may inform lifestyle strategies to improve postprandial blood glucose levels, focusing on earlier bedtime routines and maximizing high-quality uninterrupted sleep. #sleephealth #metabolism #diabetesprevention\", 'New research suggests that sleep duration, quality, and midpoint are important determinants of postprandial glycaemic control in healthy individuals. The study, which is the first of its kind, found that one-size-fits-all sleep recommendations are suboptimal and that personalised sleep recommendations may be necessary. The findings may inform lifestyle strategies to improve postprandial blood glucose levels, focusing on earlier bedtime routines and maximising high-quality uninterrupted sleep. The study, set within a large prospective cohort, obtained high-resolution objectively assessed time-series sleep and glucose data from generally healthy individuals.', \"New study finds that mild hypohydration increases pain sensitivity in healthy women, regardless of menstrual phase. Acute water ingestion did not reduce pain sensitivity. These findings suggest that maintaining adequate hydration may alleviate pain symptoms, especially in those with chronic pain conditions. Clinicians and researchers should consider measuring hydration status to minimize confounds in pain studies. #hydration #painsensitivity #women'shealth\", 'New study finds that mild hypohydration increases pain sensitivity in women, while menstrual phase does not influence pain sensitivity. Acute water ingestion did not reduce pain sensitivity. These findings suggest that maintaining adequate hydration may alleviate pain symptoms, especially for those with chronic pain conditions. #Hydration #PainSensitivity #WomenHealth #ChronicPain', 'New study shows that high doses of anti-inflammatory drugs, specifically ibuprofen, can compromise muscle strength and hypertrophic adaptations to resistance training in young adults. The study found that maximal over-the-counter doses of ibuprofen compromised resistance exercise-induced muscle hypertrophy independent of training mode, and increases in muscle strength were attenuated by ibuprofen only when training was performed with maximal all-out repetitions. These findings have important implications for individuals who consume NSAIDs on a regular basis while trying to obtain the best possible benefits of resistance training.', \"New study suggests that sleep duration, quality and midpoint are important factors in regulating postprandial glucose metabolism in healthy adults. One-size-fits-all sleep recommendations may not be optimal, and personalised sleep guidelines may be required to ensure optimal metabolic health and maximize the effectiveness of diabetes prevention guidelines. The study's findings may inform lifestyle strategies to improve postprandial blood glucose levels, focusing on earlier bedtime routines and maximising high-quality uninterrupted sleep. #sleep #metabolism #diabetesprevention\", 'New study suggests that sleep duration, quality, and midpoint are important determinants of postprandial glycaemic control in healthy adults. The study analyzed the effects of sleep on metabolic health and found that one-size-fits-all sleep recommendations are suboptimal. The findings may inform lifestyle strategies to improve postprandial blood glucose levels, focusing on earlier bedtime routines and maximizing high-quality uninterrupted sleep. #SleepHealth #MetabolicHealth #DiabetesPrevention', 'Sleep duration has a positive effect on athletic performance, according to a literature review of various sports and outcomes. No negative association was found between sleep duration and performance in any of the reviewed studies. Aerobic activity is more sensitive to sleep duration compared to anaerobic activity. Longer-term sleep extension interventions were more likely to show an effect on performance than acute sleep interventions. Tactical and technical skills in sports benefit from sleep, while team-based sports with decision-based outcomes suffer performance deficits after decreased sleep duration. Strategies to improve sleep, not just the night before an event, but also in the weeks leading up to it, are likely to improve performance.', 'Summary: \\n\\nA study investigated the effects of aging on muscle soreness and damage following an intensive squat exercise protocol and age-related recovery interventions in young and master athletes. The results showed that master athletes do not experience higher fatigue levels or slower recovery than younger athletes. A mixed-method recovery intervention (MMR) using cold water immersion and compression did not significantly improve recovery of physical performance or muscle damage, but did promote recovery of perceptual measures regardless of age. However, individual responses to MMR varied, indicating the need for individualized recovery methods. The study highlights the importance of considering individual factors in recovery interventions and the need for further research under controlled experimental conditions.', \"Summary: A study comparing young and middle-aged men found no differences in recovery response after high-volume resistance exercise, including muscle pain, soreness, and inflammatory/muscle damage markers. However, differences in strength were noted between age groups. Recreational resistance training may mitigate the decline in muscle performance associated with middle age. The study's limitations include using a single-joint isokinetic exercise protocol. Future research could compare groups using multijoint, dynamic constant resistance exercises. #exercise #resistancetraining #aging #muscleperformance\", 'This study analyzed daily energy expenditure across the human life course and found that metabolic rates change significantly. The study discovered that tissue-specific metabolic rates are elevated in children and adolescents and reduced in older adults. The study also showed that variation in both physical activity and tissue-specific metabolism contribute to total expenditure and its components across the lifespan. These findings present a potential target for clinical investigation into the kinetics of disease, pharmaceutical activity, and healing, processes intimately related to metabolic rate.', 'This study looked at the effects of aging on muscle soreness and damage after a squat exercise protocol in young and master athletes. The results showed that master athletes did not experience higher levels of fatigue or slower recovery than younger athletes. However, there were some age-related differences within the younger athletes. A mixed-method recovery intervention (MMR) after exercise did not contribute to faster recovery of physical performance or muscle damage, but did promote recovery of perceptual measures. However, the effectiveness of MMR varied among participants and should be individualized. It is important to note that the sample size was small and there were some limitations in the study design.']\n",
      "Unique values in N: simple summary choice (n=2):\n",
      "\t['', '1']\n",
      "Unique values in O: simplify audience (n=3):\n",
      "\t['', 'a lay audience', 'people without a science background']\n",
      "Unique values in P: simplify task (n=2):\n",
      "\t['', 'Use language appropriate for']\n",
      "Unique values in Q: full simplify task (n=3):\n",
      "\t['Use language appropriate for for a lay audience', 'Use language appropriate for for people without a science background', 'Use terms a 12-year-old can understand.']\n",
      "Unique values in R: simple summary (n=129):\n",
      "\t['\"Exercise snacks\" means doing short bursts of exercise a few times a day. This can help make your heart and body healthier, especially if you sit a lot. Doing things like biking hard for 15-30 seconds or climbing stairs can make you stronger and better at exercising, even if you don\\'t usually exercise. It might also help people who are overweight or have health problems, but we need more research to be sure.', 'A new review of studies found that getting more sleep can help athletes perform better. None of the studies showed that getting more sleep made performance worse. Aerobic activities like running or swimming are more affected by sleep than anaerobic activities like weightlifting. Studies also found that sleep helps with skills like strategy and technique. When athletes got more sleep over a longer period of time, they performed better. In the future, researchers should use the same tests to measure performance and sleep to figure out how much sleep athletes need to perform their best. #sleep #athleticperformance #sports #research', 'A new study discovered that young and middle-aged men have similar recovery responses after doing a lot of weightlifting. As we get older, our muscles may not work as well, but doing weightlifting for fun can help prevent this. The study recommends that future research should look at the types of weightlifting that people usually do for fun, no matter how old they are. So, if you like weightlifting, keep doing it! #resistancetraining #musclerecovery #age #fitnessresearch', \"A new study found that middle-aged men who do resistance exercise (like lifting weights) don't have a harder time recovering than younger men. This means that middle-aged adults who exercise this way aren't at a higher risk for muscle soreness or damage compared to younger adults. However, the study did find that muscle performance starts to decrease during middle age. So, it's important to keep exercising and lifting weights to maintain your muscle recovery! #resistancetraining #fitness #musclerecovery\", \"A new study found that middle-aged men who do resistance training (like lifting weights) don't have a harder time recovering than younger men. This means that middle-aged adults who exercise this way aren't at a higher risk for muscle soreness or damage compared to younger adults. However, the study did find that changes in muscle performance start to happen during middle age. So, it's important to keep exercising and doing resistance training to keep your muscles healthy as you get older. #resistancetraining #fitness #musclerecovery\", \"A new study found that not drinking enough water can make healthy women feel more pain, even if they are not on their period. Feeling thirsty might be the reason why. Drinking water when you're already dehydrated doesn't seem to help with the pain. This means it's important to drink enough water to help manage pain and researchers should look at how dehydration affects people with long-term pain.\", \"A new study found that not drinking enough water can make women feel more pain, even if they are healthy and not on their period. Drinking water when you feel pain doesn't make it go away right away. This means that drinking enough water every day might help women feel less pain and could be important for people who have pain all the time. Scientists who study pain should also make sure people are drinking enough water when they do their tests so they can get accurate results.\", \"A new study found that not drinking enough water can make women feel more pain, even if they are healthy and not on their period. Drinking water when you feel pain doesn't make it go away right away. This means that it's important to drink enough water to help with pain, especially if you have pain all the time. Doctors and scientists should check how much water people have in their body when they study pain so they can get better results.\", \"A new study found that not drinking enough water can make women feel more pain. It doesn't matter if they are on their period or not. Drinking water when you feel pain doesn't help right away. This means that it's important to drink enough water all the time to help with pain, especially if you have pain often. #DrinkWater #LessPain #GirlsHealth #AlwaysDrinkWater\", 'A new study found that taking too much ibuprofen, which is a medicine that helps with pain and swelling, can make it harder for young people to get stronger muscles from exercise. The study showed that taking the highest amount of ibuprofen you can buy without a prescription can make it harder for your muscles to grow, no matter what kind of exercise you do. And if you do a lot of repetitions of an exercise, taking ibuprofen can make it even harder to get stronger. This is important to know if you take ibuprofen a lot and want to get the most out of your exercise.', 'A new study found that when people see or feel stressed about yummy food, they want to eat it more and end up snacking more. The study was done with healthy adults in a hospital. The study found that two hormones called ghrelin and cortisol make people want to eat more when they see or feel stressed about food. This study shows that we need to do more research to understand why people overeat and gain weight.', 'A new study found that when people see pictures of yummy food and feel stressed, they are more likely to want to eat that food and snack on it later. The study was done with healthy adults in a hospital. The study also found that two hormones in our body, called ghrelin and cortisol, can make us want to eat more when we see food and feel stressed. This study shows that we need to do more research to understand why we sometimes eat too much and gain weight.', 'A new study found that when people see yummy food and feel stressed, they want to eat more of that yummy food. This can lead to snacking on unhealthy foods. The study also found that hormones in our body can make us want to eat more when we see food or feel stressed. This study shows that we need to learn more about why we overeat and gain weight.', 'A new study found that when we see or feel stressed about yummy food, we want to eat more of it. Two hormones in our body, called ghrelin and cortisol, make us want to eat more. This study shows that we need to learn more about why we overeat and gain weight. #nutrition #health #obesity #research', 'A new study found that young and middle-aged men have similar recovery responses after doing a lot of weightlifting. As we get older, our muscles may not work as well, but doing weightlifting for fun can help with this. The study suggests that future research should look at the types of weightlifting that people usually do for fun, no matter how old they are. This could help people stay strong and healthy as they get older.', \"A new study found that young and middle-aged men have similar recovery responses after doing weightlifting exercises. The study also found that there were no differences in how their muscles responded to the exercise. This means that middle-aged men may start to see changes in their muscle performance, but doing weightlifting exercises for fun can help slow down these changes. However, it's important to know that the exercises used in the study were not the same as the ones people usually do at the gym.\", \"A new study found that young and middle-aged men have similar recovery responses after doing weightlifting exercises. The study also found that there were no differences in how their muscles responded to the exercise. This means that starting in middle age, our muscles may start to change, but doing weightlifting exercises for fun can help slow down these changes. However, it's important to know that the exercises used in the study were not the same as the ones people usually do at the gym.\", 'A new study has found that how much and how well you sleep, as well as when you go to bed, can affect how your body handles sugar after you eat. The study looked at a large group of people and found that personalized sleep recommendations may be needed to improve health. The study also suggests that the quality of your sleep may be more important than how long you sleep, and that going to bed later may be linked to problems with how your body handles sugar. These findings could help people make lifestyle changes to improve their blood sugar levels after eating, such as going to bed earlier and getting better quality sleep.', 'A new study has found that how much and how well you sleep, as well as when you go to bed, can affect how your body processes sugar after you eat. This is important because high blood sugar levels can lead to health problems like diabetes. The study shows that there is no one-size-fits-all recommendation for how much sleep you need, but going to bed earlier and getting good quality sleep can help improve your blood sugar levels. This information can help people make lifestyle changes to prevent diabetes and improve their overall health.', 'A new study has found that how much and how well you sleep, as well as when you go to bed, can affect how your body processes sugar after you eat. This is important because it can impact your overall health and your risk for diabetes. The study suggests that everyone may need different sleep recommendations to stay healthy, and that personalized advice could be more effective than general guidelines. To improve your blood sugar levels after eating, the study recommends going to bed earlier and trying to get uninterrupted, high-quality sleep.', 'A new study has found that how much and how well you sleep, as well as when you sleep, can affect how your body processes sugar after eating. This is important for maintaining good health, especially for people at risk of diabetes. The study suggests that sleep recommendations should be personalized for each individual, and that getting good quality sleep may be more important than getting a certain number of hours of sleep. Going to bed earlier and trying to avoid interruptions during sleep may help improve blood sugar levels after eating, which can help prevent diabetes.', 'A new study has found that how much and how well you sleep, as well as when you sleep, can affect your blood sugar levels after eating. The study suggests that everyone has different sleep needs, so there is no one-size-fits-all recommendation for how much sleep you need. Instead, personalized recommendations may be necessary. The study found that going to bed earlier and getting high-quality, uninterrupted sleep can help improve blood sugar levels after eating. The study looked at data from generally healthy people and used advanced technology to measure their sleep and blood sugar levels. These findings could help people improve their health by making changes to their sleep habits.', 'A new study has found that the way we sleep can affect our blood sugar levels after we eat, which is important for preventing diabetes. The study showed that there is no one-size-fits-all recommendation for how much sleep we need, and that personalized recommendations are necessary. The study also found that the quality of our sleep is more important than how long we sleep for in controlling our blood sugar levels. This means that going to bed earlier and getting uninterrupted, high-quality sleep can help improve our blood sugar levels after we eat. The study gives us new information about how sleep affects our health and can help us make lifestyle changes to prevent diabetes.', \"A new study looked at how getting older affects muscle soreness and damage after doing a lot of squats. The study also looked at how different recovery methods affect younger and older athletes. The study found that older athletes don't get more tired or recover slower than younger athletes. They also found that using different recovery methods didn't help athletes recover faster physically, but it did help them feel better mentally. The study suggests that athletes should use recovery methods that work best for them, and the study had some limitations.\", \"A new study looked at how getting older affects muscle soreness and damage after doing a lot of squats. The study also looked at whether different recovery methods work better for younger or older athletes. The study found that older athletes don't get more tired or recover more slowly than younger athletes. They also found that using different recovery methods didn't make a big difference in how quickly athletes recovered physically, but it did help them feel better mentally. The study suggests that athletes should use recovery methods that work best for them, and that the study had some limitations.\", \"A recent study found that how much and when we sleep can affect how our body processes sugar after we eat. This is important because it can impact our risk for developing diabetes. The study suggests that everyone may need different amounts of sleep to stay healthy, and that the quality of our sleep may be more important than how long we sleep. The study also found that going to bed later may be linked to problems with how our body handles sugar. This means that it's important to develop good sleep habits to help prevent diabetes.\", \"A recent study found that middle-aged men who regularly do resistance training don't have a higher risk of muscle soreness or damage compared to younger men. This means that if you're middle-aged and you work out regularly, you don't have to worry about hurting your muscles more than younger people do. However, the study did find that muscle performance may start to change as you get older. The researchers suggest doing more exercises that use multiple joints and constant resistance to compare different age groups. So, if you're middle-aged and want to stay fit, keep up with your resistance training and try different exercises to keep your muscles strong.\", \"A recent study found that middle-aged men who regularly do resistance training don't have a higher risk of muscle soreness or damage compared to younger men. This means that if you're middle-aged and you work out regularly, you don't have to worry about hurting your muscles more than younger people do. However, the study did find that muscle performance may start to decline during middle age. The researchers suggest doing more exercises that involve multiple joints and constant resistance to compare different age groups. This could help us learn more about how different people respond to resistance training.\", 'A recent study has shown that how much and how well you sleep, as well as when you sleep, can affect your blood sugar levels after eating. This study looked at healthy adults and suggests that everyone may need different sleep recommendations to stay healthy and avoid diabetes. The study also found that the quality of your sleep may be more important than how long you sleep in keeping your blood sugar levels in check. The researchers recommend going to bed earlier and trying to get uninterrupted, high-quality sleep to improve your overall health.', \"A recent study looked at how getting older affects muscle soreness and damage after doing a lot of squats. They also looked at how different recovery methods affect young and older athletes who are really good at sports. The study found that older athletes don't get more tired or recover more slowly than younger athletes. However, a certain type of recovery method didn't help athletes recover faster physically, but it did help them feel better mentally. The study suggests that this recovery method should be used differently for each person, and more research should be done to learn more.\", \"A recent study looked at how getting older affects muscle soreness and damage after doing a lot of squats. They also looked at how different recovery methods affect young and older athletes. The study found that older athletes don't get more tired or recover more slowly than younger athletes. However, a certain type of recovery method didn't help athletes recover faster physically, but it did help them feel better mentally. This recovery method should be used differently for each person, and more studies should be done to learn more.\", \"A recent study looked at how getting older affects muscle soreness and damage after doing a lot of squats. They also looked at how different recovery methods affect young and older athletes. The study found that older athletes don't get more tired or recover more slowly than younger athletes. They also found that a certain recovery method didn't help athletes recover faster physically, but it did help them feel better mentally. However, the recovery method worked differently for each athlete. The study suggests that recovery methods should be personalized and more research is needed to find out what works best.\", \"A recent study looked at how getting older affects muscle soreness and damage after doing a lot of squats. They also looked at how different recovery methods affect young and older athletes. The study found that older athletes don't get more tired or recover more slowly than younger athletes. Using different recovery methods didn't help athletes recover faster physically, but it did help them feel better mentally. However, it's important to remember that everyone is different and recovery methods should be personalized. The study had some limitations, like a small number of people and difficulty finding people who were similar in age and fitness level. More studies are needed to learn more about this topic.\", \"A recent study looked at how getting older affects muscle soreness and damage after doing a lot of squats. They also looked at whether a certain way of recovering after exercise works better for younger and older athletes. The study found that older athletes don't get more tired or recover more slowly than younger athletes. They also found that a certain way of recovering didn't help athletes perform better or recover faster physically, but it did help them feel better mentally. However, the way this recovery method worked varied from person to person. The study suggests that recovery methods should be personalized and more research is needed to figure out what works best.\", \"A recent study looked at how getting older affects muscle soreness and damage after doing a lot of squats. They also looked at whether different ways of recovering after exercise work better for younger athletes or older athletes who have been doing sports for a long time. The study found that older athletes don't get more tired or recover more slowly than younger athletes. However, using different ways to recover after exercise didn't make a big difference in how quickly athletes could perform physically again. But, it did help them feel better mentally. It's important to remember that everyone is different, so what works for one person might not work for another. The study had some limitations, like not having a lot of people in it and not being able to match everyone up perfectly. More studies are needed to learn more about this topic.\", \"A recent study looked at how getting older affects muscle soreness and damage after doing a lot of squats. They compared younger athletes to older athletes who have been doing sports for a long time. Surprisingly, the older athletes didn't feel more tired or recover more slowly than the younger ones. The researchers also tried a new way to help with recovery, using cold water and compression. This method didn't make a big difference in how well the athletes performed physically or how much muscle damage they had, but it did help them feel better mentally. However, everyone responded differently to this method, so it's important to find the right recovery method for each person. This study shows that we need to think about each person's needs when helping them recover from exercise, and more research is needed to find the best ways to do this.\", \"A recent study looked at how sleep affects athletes' performance. The study found that getting enough sleep can help athletes perform better, especially when it comes to activities that require a lot of endurance, like running. However, not getting enough sleep can hurt performance, especially for sports like soccer and rugby. The study also found that longer-term efforts to improve sleep had positive effects, while short-term efforts were less consistent. Overall, the study suggests that athletes should try to get more sleep to improve their performance.\", \"A recent study looked at how sleep affects athletes' performance. The study found that getting more sleep can help athletes perform better, especially when it comes to activities that require a lot of endurance (like running) versus activities that require short bursts of energy (like weightlifting). The study also found that athletes who got more sleep were better at tasks that required strategy and technique. \\n\\nThe study suggests that athletes should focus on getting more sleep not just the night before a big event, but also in the weeks leading up to it. This could help them perform better overall. So, if you're an athlete looking to improve your performance, getting more sleep could be a good place to start!\", 'A recent study looked at how young and middle-aged men recover from exercise. The researchers found that there were no big differences in how the two groups felt after exercising, like muscle pain or soreness. They also found that both groups recovered from exercise at about the same rate. The only difference they found was that the middle-aged men were not as strong as the younger men. However, the study suggests that exercising regularly can help middle-aged adults recover from exercise just as well as younger adults. This study shows that exercise is important for keeping your muscles healthy as you get older.', \"A recent study looked at how young and middle-aged men recover from exercise. The researchers found that there were no big differences in how the two groups felt after working out, like muscle pain or soreness. They also found that both groups recovered from exercise at about the same rate. The only difference was that the middle-aged men were a bit weaker than the younger men. However, the study suggests that exercising regularly can help middle-aged adults keep their muscles healthy and recover from exercise just as well as younger people. So, it's important to keep exercising as we get older to stay healthy and strong!\", \"A study looked at how young and middle-aged men's muscles recover after doing a lot of weightlifting. They found that both groups felt the same amount of pain and soreness, and their muscles were damaged the same amount. But the middle-aged men were not as strong as the young men. Doing weightlifting for fun can help middle-aged people keep their muscles strong. The study only looked at one type of exercise, so more research is needed to see if other exercises have the same results.\", 'Did you know that a recent study found that middle-aged adults who exercise regularly can recover from high-intensity workouts just as well as younger adults? The study compared young adults (23-29 years) and middle-aged adults (41-42 years) and found that both groups had similar changes in performance and muscle damage after exercise. This is interesting because as we get older, we may lose strength, but this study suggests that regular exercise can help maintain our ability to recover from workouts. The study also found that a certain protein called interleukin-6 increased after exercise for both groups, but another protein called C-reactive protein did not change significantly. This means that middle-aged adults who exercise regularly are not at a greater risk for muscle soreness or damage compared to younger adults who exercise regularly.', 'Did you know that a recent study found that middle-aged adults who exercise regularly can recover from high-volume resistance exercise just as well as younger adults? The study compared young adults (23-29 years) and middle-aged adults (41-42 years) and found that both groups had similar changes in performance and markers of muscle damage and inflammation after exercise. This means that even though strength may decline during middle age, recovery from exercise can still be maintained in people who exercise regularly. The study also found that a certain type of protein that causes inflammation increased after exercise for both groups, but another protein that indicates acute inflammation did not change significantly. These results suggest that middle-aged adults who exercise regularly are not at a greater risk for muscle soreness or damage compared to younger adults who exercise regularly.', \"Did you know that a recent study looked at how aging affects muscle soreness and damage after a tough squat workout in young and older athletes? The study found that older athletes didn't get more tired or recover more slowly than younger athletes. However, younger athletes did experience more muscle soreness and fatigue after the workout. The study also looked at a recovery method called mixed-method recovery (MMR), but found that it didn't help with physical performance or muscle damage recovery. However, it did help with how the athletes felt. The study had some limitations, but it still gives us some good information about how to help athletes recover.\", \"Did you know that a recent study looked at how getting older affects muscle soreness and damage after doing a lot of squats? The study found that older athletes didn't get more tired or take longer to recover than younger athletes. But younger athletes did feel more muscle soreness and had less power after exercising. \\n\\nThe study also tested a way to help people recover faster after exercising. They used cold water and compression on the muscles. It didn't make people's muscles work better, but it did help with muscle soreness. \\n\\nHowever, the recovery method didn't work the same for everyone. So, it's important to find the right way to recover after exercising, no matter how old you are. The study had some problems, like not having enough people and not being able to match everyone's exercise level.\", \"Did you know that a recent study looked at how our muscles feel after doing a lot of squats? The study looked at both young and older athletes and found that the older athletes didn't feel more tired or take longer to recover than the younger athletes. However, there were some differences in how the younger athletes felt. The study also looked at a way to help with recovery using cold water and compression, but it didn't work for everyone. The study was small and had some limitations, but it's still interesting to think about how our bodies change as we get older.\", \"Did you know that getting enough good quality sleep at the right time can help regulate your blood sugar levels? A recent study found that everyone's sleep needs are different, and personalized sleep guidelines may be needed to prevent diabetes. The study also found that the quality of your sleep may be more important than how long you sleep. Going to bed later can also affect your body's response to breakfast the next day. So, it's important to try to get good quality sleep and go to bed at a reasonable time to help keep your blood sugar levels healthy.\", \"Did you know that getting enough sleep can actually help athletes perform better? A study looked at a bunch of different studies and found that longer sleep was linked to better athletic performance. They didn't find any evidence that too much sleep was bad for performance. They also found that aerobic activities (like running) were more affected by sleep than anaerobic activities (like weightlifting). Interestingly, short-term sleep deprivation (like staying up all night) seemed to help performance, but longer-term sleep improvement was even better. However, more research is needed to see how sleep affects team sports. Overall, getting enough sleep is important for athletes to do well, but it depends on the sport they play.\", \"Did you know that getting enough sleep can actually improve how well athletes perform? A bunch of studies were looked at, and none of them found that getting more sleep made performance worse. It turns out that doing activities that require a lot of oxygen, like running, are more affected by sleep than activities that don't, like weightlifting. And if an activity requires a lot of thinking and strategy, getting enough sleep can really help. It's also interesting that studies that looked at sleep over a longer period of time were more likely to show an effect than those that only looked at one night of sleep. Overall, this review gives us some good information about how sleep can help athletes perform better.\", \"Did you know that how much and how well you sleep can affect your blood sugar levels after you eat? A new study found that there is no one-size-fits-all recommendation for how much sleep you need to prevent diabetes. The study looked at how different sleep habits affect blood sugar levels in healthy adults. They found that how long you sleep, how well you sleep, and when you go to bed can all affect your blood sugar levels. The study also found that it's more important to have good quality sleep than to sleep for a long time. The study suggests that having a consistent bedtime routine and getting good quality sleep can help improve your blood sugar levels after you eat.\", \"Did you know that not drinking enough water can make it hurt more when you feel pain? A study found that even if girls are on their period, it doesn't change how much pain they feel. They did a test where people squeezed something with their hand and then rated how much it hurt. The results showed that when people didn't drink enough water, the pain felt worse. Drinking water didn't make the pain go away, but it did make people less thirsty. This study helps us understand how important it is to drink enough water, especially if you have pain that lasts a long time.\", \"Did you know that not drinking enough water can make you feel more pain? A new study found that when women didn't drink enough water for a whole day, they felt more pain and couldn't handle it as well. It didn't matter if they were on their period or not, but the more of a certain hormone they had, the more pain they felt. The researchers also tried giving the women water to see if it would help, but it didn't. So, it's important to drink enough water to help with pain, especially if you're older and have pain a lot.\", \"Did you know that our bodies use energy differently as we grow up? When we are babies, our bodies use a lot of energy to grow and develop. But as we get older, our bodies use less energy. This is true for different parts of our body too, like our brain and liver. It's important to know this because it can help us understand how our bodies work and how we can stay healthy. Also, everyone's body is different, even if they are the same age and size.\", 'Did you know that our bodies use energy to do things like move and grow? A study looked at how our energy use changes as we grow up. When we are babies, we use a lot of energy to grow and develop. As we get older, we use less energy, but everyone is different and some people use more or less energy than others. The study also found that our bodies use energy differently in different parts of our lives. This information could help doctors understand how medicines work and how our bodies heal.', \"Did you know that scientists recently studied how aging affects muscle soreness and damage after a tough workout? They looked at both young and older athletes who did a lot of squats. Surprisingly, the older athletes didn't get more tired or recover more slowly than the younger ones. However, the younger athletes did feel more soreness and fatigue after the workout. The scientists also tested a recovery method that involved different techniques, but it didn't seem to help with physical recovery. However, it did help athletes feel better mentally. The study wasn't perfect, but it still gave us some good information about how to help athletes recover after a tough workout.\", \"Did you know that taking too much ibuprofen, which is a medicine that helps with pain and swelling, can make your muscles weaker and stop them from getting bigger when you exercise? A study found that taking too much ibuprofen can make it harder for your muscles to get stronger, especially if you are doing really hard exercises. The study also found that this effect depends on how much ibuprofen you take, and that it might be different for younger and older people. So, it's important to be careful with how much ibuprofen you take if you want your muscles to get stronger and bigger from exercise.\", 'Did you know that taking too much ibuprofen, which is a medicine that helps with pain and swelling, can make your muscles weaker and stop them from getting bigger when you exercise? A study found that taking too much ibuprofen can make your muscles grow 7.5% less and make it harder for you to get stronger when you exercise really hard. The study also found that the more ibuprofen you take, the worse it is for your muscles. This study helps us understand how our muscles grow and how medicine can affect them.', \"Did you know that taking too much of a medicine called ibuprofen can make it harder for your muscles to get stronger when you exercise? A study found that when young people took high doses of ibuprofen while doing weightlifting exercises, their muscles didn't get as big and strong as they should have. This only happened when they did the exercises with the most effort. So, it's important to be careful with how much ibuprofen you take if you want to get stronger from exercise.\", \"Did you know that taking too much of a medicine called ibuprofen can make it harder for your muscles to get stronger when you exercise? A study found that when young people took high doses of ibuprofen while doing weightlifting, their muscles didn't get as big and strong as they should have. The only difference they found was that the ibuprofen group had less of a certain chemical in their body that helps with inflammation. This study helps us understand how medicine can affect our muscles when we exercise, and it's important for people who take ibuprofen a lot and want to get stronger.\", 'Did you know that when we see or feel stressed, we tend to crave and eat more yummy foods? This is because our body releases hormones that make us want to eat more. A study found that this happens with foods that are really tasty too! This means we need to learn more about why we overeat and gain weight.', \"Doing short bursts of exercise throughout the day, called exercise snacks, can help make your heart and body healthier. Even just a few minutes of activities like biking or climbing stairs can make a big difference, especially if you don't usually exercise. This is supported by new guidelines from health organizations that say even small amounts of exercise can be really good for you.\", 'Doing short bursts of exercise throughout the day, called exercise snacks, can help make your heart and body healthier. Studies have shown that doing quick, intense exercises like cycling or climbing stairs three times a day for about 15-30 seconds each time can make you better at exercising and improve your health. This is in line with recommendations from health organizations about being active and not sitting too much.', \"Doing short bursts of exercise throughout the day, called exercise snacks, can help make your heart and lungs stronger and reduce the negative effects of sitting too much. Studies have shown that doing quick exercises like cycling or climbing stairs three times a day for 15-30 seconds can help people who don't usually exercise become healthier. Exercise snacks can also help people who are overweight or obese become healthier, but we need more research to be sure. Overall, exercise snacks are a good way to follow the guidelines for being active and healthy.\", \"Doing short bursts of intense exercise throughout the day, called exercise snacks, can help make your heart and body healthier. This means doing things like cycling or climbing stairs really fast for about 15-30 seconds, three times a day. Even if you don't usually exercise, exercise snacks can help you get better at it and improve your health. They can also help people who are overweight or have health problems. We still need to figure out how to use exercise snacks in everyday life. #exercisesnacks #cardiometabolichealth #briefvigorousexercise\", \"Getting enough sleep can help improve athletic performance, according to a review of different studies on different sports. The studies did not find any negative effects of getting more sleep on performance. Aerobic activities, like running, are more affected by sleep than anaerobic activities, like weightlifting. It's better to get more sleep over a longer period of time, rather than just one night. Sleep can help with skills like strategy and technique, but team sports that require quick decision-making can suffer if players don't get enough sleep. It's important to have good sleep habits leading up to a big event, not just the night before.\", \"Getting enough sleep is important for our health, especially when it comes to preventing diabetes. A recent study found that how much we sleep, how well we sleep, and when we sleep can affect how well our bodies control our blood sugar after we eat. The study also found that everyone's sleep needs are different, so there's no one-size-fits-all recommendation for how much sleep we should get. To help improve our blood sugar control, we can try going to bed earlier and making sure we get good quality sleep without interruptions.\", 'Have you heard about a new study on how people eat yummy food? They did the study in a hospital with healthy adults and looked at how seeing food and feeling stressed affects how much they eat. The study found that when people saw their favorite foods and felt stressed, they ate more of those foods. This was true for both skinny and overweight people. Two hormones in our bodies, ghrelin and cortisol, also played a role in making us want to eat more when we see food or feel stressed. This study shows that we need to do more research to understand why we overeat and gain weight.', \"Have you heard about the E-MECHANIC study? It was a research project where some people exercised regularly for 6 months. The researchers found that some of the people who exercised didn't lose as much weight as they expected. This was because those people ate more food than they needed to, not because their bodies were working differently. These people also had a higher chance of having a condition called metabolic syndrome, and they felt hungrier than before. The study was really well done, and it's pretty interesting to think about how our bodies respond to exercise and food.\", \"Have you heard about the E-MECHANIC study? It's a research study that looked at how different amounts of supervised exercise affect our food intake, metabolism, and non-exercise physical activity. The study found something interesting - when people exercised more, they tended to eat more too. This happened even when they exercised a little bit or a lot. The people who ate more were also more likely to have a condition called metabolic syndrome, and they reported feeling hungrier and thinking that they could make up for the extra food they ate by being healthier in other ways. The study suggests that if you want to lose weight by exercising, it might be a good idea to also make changes to your diet or take medication to help you.\", \"Have you heard about the E-MECHANIC study? It's a research study that looked at how exercise affects weight loss over a 6-month period. The study found that people who exercised at both 8 and 20 KKW doses didn't lose as much weight as expected because they ate more food to make up for the extra energy they were using. This increase in food intake was not due to changes in metabolism or other physical activity outside of exercise. Interestingly, people who ate more were more likely to have metabolic syndrome and reported feeling hungrier and having beliefs that they needed to compensate for their exercise. This study gives us some ideas on how to help people avoid overeating when they exercise for a long time.\", \"Have you heard about the E-MECHANIC study? They did a research study where they randomly assigned people to different exercise groups. They found that the people who exercised actually lost less weight than they expected. This was because they ended up eating more food to make up for the calories they burned during exercise. It wasn't because their bodies were burning fewer calories or because they were moving less outside of exercise. \\n\\nInterestingly, the people who ate more were also more likely to have a condition called metabolic syndrome, which can lead to health problems like heart disease and diabetes. They also reported feeling hungrier and thinking that they needed to eat more to be healthy. \\n\\nThe study lasted for 6 months and the people in the study did a great job sticking to their exercise routines.\", \"Have you heard about the new study on the benefits of taking a bath in a tub? It turns out that taking regular baths in Japan has been linked to a lower risk of heart disease, stroke, and high blood pressure. The study found that people who took baths more often had a lower risk of these health problems. The typical Japanese way of taking a bath involves filling the tub with hot water up to your shoulders. The study also found that using water that is around 40-42 degrees Celsius has good effects on the body. Although taking a bath is different from exercising, it can have similar benefits for your heart and blood vessels. It's interesting that the study found a lower risk of heart disease even after taking into account factors like income and education.\", \"Have you heard about the recent study on how taking baths can be good for your heart? A study in Japan found that people who take baths frequently have a lower risk of heart disease, strokes, and bleeding in the brain. Surprisingly, taking baths was not linked to a higher risk of sudden heart attacks. The study also found that taking baths may help lower the risk of heart disease by reducing high blood pressure. In Japan, people typically take baths by filling a tub with hot water up to their shoulders, and the study found that the temperature of the water didn't make a big difference in the benefits. This study shows that taking baths could be a healthy habit for your heart.\", \"Have you heard of exercise snacks? It's a new way to get healthier by doing short bursts of exercise throughout the day. Even just 15-30 seconds of hard exercise, like cycling or climbing stairs, can make a big difference in how well your heart and lungs work. The best part is you can do these exercise snacks at home, school, or work. They can even help your blood flow better and reduce the bad effects of sitting too much. This way of exercising is now recommended by experts, and you don't have to exercise for a long time all at once anymore. Pretty cool, right?\", \"Have you heard of exercise snacks? It's a new way to get healthier by doing short bursts of exercise throughout the day. For example, you can climb stairs vigorously three times a day, with a few hours in between each time. Or you can do 20-second bursts of all-out cycling a few times a day. These exercise snacks can help make your heart and lungs stronger and improve your ability to exercise. They can also help counteract the negative effects of sitting for too long, like high insulin and fatty acids. This is a good way to get healthier, especially if you're not used to exercising a lot or have health problems that make it hard to exercise in traditional ways.\", \"Have you heard of exercise snacks? It's a new way to get healthier by doing short bursts of exercise throughout the day. Studies have shown that doing things like cycling or climbing stairs for just a little bit can make your heart and lungs stronger, especially if you don't usually exercise. It might even help people who are overweight or have health problems. The cool thing is that you can do exercise snacks anywhere, like at home, school, or work.\", \"Have you heard of exercise snacks? It's a new way to get healthier by doing short bursts of exercise throughout the day. Studies have shown that it can make your heart and lungs stronger and help you do better when you exercise. Basically, you go up and down stairs quickly a few times, then do some stretches, and then rest for a minute. You don't have to go all out, and you can do it on a bike or stairs. It might also help people who are overweight, but we need more research to be sure.\", \"Have you heard of exercise snacks? They're like little bursts of exercise that you can do throughout the day. Studies have shown that doing these little bursts of exercise can make your heart and lungs healthier, even if you haven't been active before. For example, one study had people climb stairs three times a day, and after six weeks, they were able to breathe better. Another study had people do three quick bike rides a day, and they got better at biking and breathing. Exercise snacks can also help people who are overweight or have diabetes. They're an easy way to get healthier, and you can do them at home, school, or work.\", 'Hey there! Did you know that a recent study found that young and middle-aged men have similar recovery responses after doing a lot of weightlifting? This is the first study to look at the differences in recovery between these two age groups. The study also found that changes in muscle performance start happening during middle age, but doing weightlifting for fun can help prevent any negative effects on recovery. Interestingly, the study found that there were no significant increases in a certain protein called CRP after the weightlifting, which suggests that people who have experience with weightlifting may not have as strong of a reaction to it. The study also noted that the weightlifting was done using a special machine and only worked on one muscle at a time, so future research should look at different types of weightlifting that people usually do.', \"Hey there! Did you know that a recent study looked at how getting older affects muscle soreness and damage after doing a lot of squats? The study found that older athletes didn't get more tired or take longer to recover than younger athletes. But younger athletes did feel more muscle soreness and had less power after the exercise. \\n\\nThe study also tested a way to help people recover faster after exercise. They used cold water and compression on the muscles. It didn't make people's physical performance or muscle damage get better faster, but it did help with muscle soreness. \\n\\nHowever, the recovery method didn't work the same for everyone. So, it's important to find the right way to recover after exercise that works for you, no matter how old you are. It's also important to know that the study had some limitations, like not having a lot of people in it and not being able to match everyone's characteristics and exercise intensity perfectly.\", \"Hey there! Did you know that a recent study looked at how our muscles feel after doing intense squats? The study looked at both young and older athletes and found that the older athletes recover just as quickly as the younger ones, which is different from what we used to think. \\n\\nThe study also tried out a new way to help with recovery, but it didn't seem to make a big difference in how well the athletes performed physically or how much their muscles were damaged. However, it did seem to help them feel better about their recovery. \\n\\nIt's important to note that the new recovery method didn't work the same for everyone, so it should be personalized to each person. Also, the study was done with a small group of people and it was hard to find people who were similar to each other, so we need more research to be sure.\", \"Hey there! Did you know that a recent study looked at how our muscles recover after intense exercise? The study focused on young and older athletes who do squats. Surprisingly, the study found that older athletes recover just as quickly as younger athletes, which goes against what we previously thought. \\n\\nThe study also looked at a way to help with recovery, but it didn't seem to make a big difference in physical performance or muscle damage. However, it did help with how people felt after the exercise. It's important to note that the recovery method worked differently for each person, so it should be personalized. \\n\\nIt's important to keep in mind that the study had a small group of people and it was difficult to match everyone's characteristics, so more research is needed. But it's exciting to see that older athletes can still recover just as well as younger ones!\", \"Hey there! Did you know that getting enough good quality sleep at the right time can help keep your blood sugar levels healthy after meals? A new study looked at a lot of healthy people and found that everyone's sleep needs are different, so there's no one-size-fits-all recommendation. Interestingly, the study found that the quality of your sleep is more important than how long you sleep for when it comes to controlling your blood sugar. The study also suggests that eating a high-fat breakfast might help counteract the negative effects of poor sleep on your blood sugar after eating. Overall, this study gives us some really useful information about how sleep and our health are connected.\", \"Hey there! Did you know that getting enough good quality sleep at the right time can help prevent diabetes? A new study found that sleep duration, quality, and when you sleep are all important factors in controlling your blood sugar levels after eating. This means that there's no one-size-fits-all recommendation for how much sleep you need. The study looked at how sleep affects your body's ability to process sugar and found that sleep quality is more important than how long you sleep. They also found that if you tend to go to bed later, it can affect how your body responds to breakfast the next day. Pretty interesting stuff, right?\", \"Hey there! Did you know that getting enough sleep can actually help athletes perform better? A bunch of studies looked at this and found that none of them showed that getting more sleep had a negative effect on performance. It seems like doing activities that get your heart pumping (like running) are more affected by sleep than activities that don't (like weightlifting). When people don't get enough sleep, they feel like they're working harder than they actually are, which can make it harder to do things that require a lot of energy or power. It's also important to note that studies that looked at sleep over a longer period of time showed more benefits than studies that just looked at one night of sleep. So, if athletes can get more sleep over a longer period of time, it can really help them perform better. Overall, how important sleep is for athletes depends on what kind of sport they're doing.\", \"Hey there! Did you know that not getting enough sleep can affect how your body controls your blood sugar levels? A recent study found that it's not just how long you sleep that matters, but also how well you sleep and when you go to bed. Interestingly, the study showed that there isn't a one-size-fits-all recommendation for how much sleep you need. The study also found that how well you sleep might be even more important than how long you sleep when it comes to controlling your blood sugar. The researchers found that going to bed later is linked to having trouble controlling your blood sugar after breakfast the next day. However, eating a high-fat breakfast might help reduce the negative effects of poor sleep on your blood sugar. Overall, the study suggests that improving your sleep habits, like going to bed earlier and getting high-quality sleep without interruptions, might be a good way to improve your blood sugar levels after meals.\", \"Hey there! Did you know that scientists recently studied how aging affects muscle soreness and damage after doing a lot of squats? They looked at both young and older athletes and found something interesting. The older athletes didn't feel more tired or take longer to recover than the younger ones. However, there were some differences between the younger athletes. The scientists also tried a recovery method using cold water and compression, but it didn't make a big difference in how well the athletes performed or how much muscle damage they had. It did make them feel better though! It's important to remember that everyone is different, so recovery methods should be personalized. The study was small and had some limitations, but it's still pretty cool!\", \"Hey there! Did you know that taking frequent baths in a tub might actually lower your risk of developing heart disease and strokes? A new study conducted in Japan found that middle-aged adults who took regular tub baths had a lower risk of cardiovascular disease. This study was done over a long period of time and involved a large group of people, which makes the findings more reliable. \\n\\nPrevious studies have shown that sauna bathing can also lower the risk of heart disease, but this is the first study to specifically look at the effect of tub bathing on cardiovascular health. The study suggests that taking regular baths might help reduce the risk of heart disease by lowering major risk factors like high blood pressure. \\n\\nIn Japan, people typically take baths by filling a tub with hot water up to their shoulders. This is believed to improve vascular function over time. However, it's important to note that taking baths with water that's too hot can increase the risk of heatstroke. \\n\\nOverall, this study provides interesting insights into the potential benefits of taking regular baths for your heart health.\", 'Hey there! Did you know that taking frequent baths in a tub might be good for your heart? A new study found that middle-aged Japanese men and women who took regular baths had a lower risk of heart disease, strokes, and high blood pressure. The study suggests that the hot water in the tub might help reduce the risk of developing these health problems. The Japanese style of bathing involves filling the tub with hot water up to the shoulders, and the study found that taking baths this way might be especially beneficial. So, if you enjoy taking baths, this study might give you another reason to keep it up!', \"Hey there! Did you know that taking frequent tub baths might be good for your heart? A new study found that middle-aged Japanese people who took regular tub baths had a lower risk of heart disease. The study followed a large group of people and found that those who took more baths had a lower risk of heart disease, strokes, and bleeding in the brain. Interestingly, taking baths was not linked to a higher risk of sudden heart problems. The study also found that taking baths might help lower the risk of high blood pressure, which is a major risk factor for heart disease. The typical Japanese way of taking a bath involves filling the tub with hot water up to your shoulders. However, the study didn't say what temperature is best for the water. Overall, this is the first study to show that taking regular baths might help prevent heart disease.\", \"Hey there! Did you know that taking too much ibuprofen, which is a medicine that helps with pain and swelling, can make it harder for your muscles to get stronger when you exercise? A new study found that taking the highest amount of ibuprofen you can buy without a prescription every day can actually make your muscles weaker and smaller when you exercise. This only happens when you do the most intense exercises, though. The only big difference they found was that the people who took ibuprofen had less of a certain gene in their muscles that helps with inflammation, which might be why their muscles didn't get as strong. This is important to know for people who take ibuprofen a lot and want to get stronger from exercising.\", \"Hey there! I came across an interesting study about muscle recovery after intense squat exercise in both young and older athletes. The study found that there were no significant differences in how quickly the athletes recovered from fatigue, regardless of their age. However, younger athletes did experience more muscle soreness and a decrease in power output after the exercise. \\n\\nThe study also looked at a recovery method called mixed-method recovery (MMR), which involved using cold water immersion and compression. Unfortunately, the study found that this method did not improve physical performance or muscle recovery for the group as a whole. However, some individual participants did benefit from the MMR in terms of functional and physiological measures, so it's important to personalize recovery methods. \\n\\nIt's worth noting that the study had some limitations due to a small sample size and difficulty in matching population characteristics and exercise intensity. Overall, the study suggests that age doesn't play a significant role in muscle recovery after intense exercise, but recovery methods should be tailored to each individual.\", \"Hey there! I came across an interesting study about muscle recovery after intense squat exercise in both young and older athletes. The study found that there were no significant differences in how tired or how long it took for muscles to recover between the two age groups. However, younger athletes did experience more muscle soreness and a decrease in power output after exercise. The study also tested a recovery method using cold water immersion and compression, but it didn't show a significant improvement in physical performance or muscle recovery for the group as a whole. However, some individual participants did benefit from the recovery method, so it's important to personalize recovery methods. The study had some limitations due to a small sample size and difficulty in matching population characteristics and exercise intensity.\", \"Hey there! I just read a really interesting article about how getting enough sleep can affect how well athletes perform. The article looked at a bunch of different studies and found that there's no evidence that getting more sleep can hurt an athlete's performance. In fact, it seems like getting more sleep can actually help athletes do better! The article also found that doing activities that get your heart rate up (like running or biking) are more affected by how much sleep you get than activities that don't (like lifting weights). The article also talked about how important it is to measure how much sleep athletes are getting and to ask them questions about how well they're sleeping. Overall, the article suggests that athletes should try to get more sleep if they want to do their best.\", \"Hey there! I just read a really interesting study about how our bodies recover after doing weightlifting exercises. The study looked at two groups of men - one group was young and the other group was middle-aged. Surprisingly, the study found that there was no difference in how quickly the two groups recovered after exercising. \\n\\nThis is important because as we get older, our muscles start to change and we might not be able to recover as quickly as we used to. But the study found that even if you're middle-aged, doing weightlifting exercises can help you recover just as well as younger people. \\n\\nThe study also looked at how our muscles respond to exercise and found that there was no difference between the two age groups. This means that even if you're middle-aged, your muscles can still respond to exercise just like they did when you were younger. \\n\\nIt's important to note that the study was done using a special machine, so it might not be exactly the same as the weightlifting exercises you might do at the gym. But overall, this study gives us some really helpful information about how our bodies respond to exercise as we get older.\", \"Hey there! I just read a study about how our bodies recover after doing weightlifting exercises. The study looked at two groups of men, one group was young and the other was middle-aged. Surprisingly, the study found that there were no differences in how quickly the two groups recovered after exercising. \\n\\nThe study also found that as we get older, our muscles start to change, even if we exercise regularly. But, the good news is that weightlifting can help prevent these changes from happening. \\n\\nIt's important to note that the study was done using a special machine, so it might not be exactly like the weightlifting exercises you do at the gym. However, this study gives us some really helpful information about how our bodies respond to exercise as we age.\", \"Hey there! I just read about a study that looked at how different amounts of exercise affect how much people eat, how their body processes food, and how active they are. The study found that people who exercised actually ate more than expected and didn't lose as much weight as they thought they would. This was mostly because they ate more food, not because their body changed how it processed food or how active they were. People who ate more were also more likely to have health problems and feel like they needed to eat more to be healthy. The study also found that longer exercise sessions made people eat even more. Overall, the study suggests that if you want to lose weight, you should also change your diet or take medicine along with exercising.\", \"Hey there! I just read an article about how sleep affects athletes' performance. It turns out that getting enough sleep is really important for athletes. The studies showed that getting more sleep can actually improve athletic performance or at least not have a negative effect. Interestingly, it seems that aerobic activities like running are more affected by sleep than anaerobic activities like lifting weights. The studies that looked at sleep over a longer period of time were more likely to show an effect than those that only looked at one night of sleep. In fact, studies that looked at athletes who got more sleep over a longer period of time showed significant benefits. The article suggests that athletes who need to use a lot of technical skills in their sport are especially sensitive to how much sleep they get and should be reminded of how important it is for their performance.\", \"Hey there! I read a study that found that not drinking enough water can make pain feel worse for girls, even if they're not on their period. The study showed that when girls didn't drink enough water, their pain tolerance went down by 8%, and the pain felt more intense and unpleasant by 13% and 12%, respectively. Even if they drank water when they were thirsty, it didn't make the pain feel better. This means that not drinking enough water can make pain feel worse for girls, and this could be important for doctors who study pain to know.\", \"Hey there! I wanted to share some interesting findings from a recent study. The study looked at how young and middle-aged men recover after doing resistance exercise (like lifting weights). Surprisingly, the study found that there were no differences in how quickly the two age groups recovered. However, the study did find that changes in muscle performance tend to start happening during middle age. But, the good news is that doing resistance training for fun can help prevent these changes from happening. The study also found that both age groups experienced similar levels of muscle damage and inflammation after exercise. And, it's worth noting that age didn't make the inflammation worse or better for people who regularly do resistance training.\", \"Hey there! I wanted to share some interesting news with you. A recent study found that middle-aged men who exercise with weights can recover from their workouts just as well as younger men. The study looked at people who exercise for fun and found that even though our muscles start to change as we get older, lifting weights can help us keep our muscles healthy. The study also found that there were no differences in how our muscles get sore or inflamed after exercise between young and middle-aged people. So, if you're middle-aged and looking to stay healthy, lifting weights could be a great way to keep your muscles strong and help you recover from exercise.\", \"Hey there! I wanted to share some interesting news with you. A recent study found that there were no differences in how quickly young and middle-aged men recover after doing weightlifting exercises. The study showed that as we get older, our muscles start to change, but doing weightlifting exercises for fun can help prevent these changes from affecting our recovery time. The study also found that both age groups experienced similar levels of muscle damage and inflammation after exercising. It's worth noting that age didn't make the inflammation worse or better for people who regularly do weightlifting exercises.\", \"Hey, did you hear about a new study on why we eat too much junk food? Scientists found that when we see or smell yummy food and feel stressed, we want to eat more of it. They also found that two hormones in our body, called ghrelin and cortisol, can make us want to eat more junk food when we're stressed. The study also showed that people with different body sizes might be affected differently by these hormones. The scientists think we need to do more research to understand why we overeat and gain weight.\", 'Hey, did you hear about a new study on yummy food? They looked at how seeing food and feeling stressed affects how much people eat. They did this in a hospital with healthy adults. The study found that when people see food or feel stressed, they want to eat more yummy food. This makes them snack more on things like chips and candy. The study also found that two hormones called ghrelin and cortisol can make people want to eat more when they see food or feel stressed. This study shows that we need to learn more about why people eat too much and gain weight.', \"Hey, did you know that a recent study found that resistance exercise can help middle-aged men recover just as well as young men? The study looked at people who exercise for fun and found that even though muscle performance starts to decline as we get older, resistance training can help keep our muscles strong and healthy. The study also found that there were no differences in how our bodies respond to exercise between young and middle-aged adults. This means that it's really important for middle-aged people to keep up with resistance training to stay strong and healthy.\", 'Hey, did you know that a recent study found that young and middle-aged men recover from exercise at the same rate? This is the first study to look at the differences in recovery between these two age groups. The study also found that changes in muscle performance start to happen during middle age, but doing resistance training for fun can help prevent these changes. Interestingly, the study found that there were no significant increases in a marker of inflammation after the exercise, which suggests that people who exercise regularly may have a better response to exercise. The study used a special machine to do the exercises, so future research should look at different types of exercise that people usually do.', \"Hey, did you know that a recent study found that young and middle-aged men recover from exercise in the same way? This study looked at people who exercise for fun and found that even as people get older, they can still recover well from exercise. The study also found that a chemical called interleukin-6 increased after exercise in both young and middle-aged adults, but another chemical called C-reactive protein didn't change much. This research suggests that exercising for fun can help people recover well from exercise, even as they get older.\", 'Hey, did you know that a study found that when people see yummy food and feel stressed, they want to eat more of that yummy food? The study also found that when people really want to eat something, they usually end up eating it. Two hormones called ghrelin and cortisol might be part of why this happens. The study suggests that we need to do more research to understand why we sometimes eat too much and gain weight.', \"Hey, did you know that not drinking enough water can make pain feel worse for girls? A study found that when girls don't drink enough water, their pain feels 13% more intense and 12% more unpleasant. It doesn't matter if they're on their period or not. The study also looked at whether drinking water could help with pain, but it didn't work right away. This is important because if you don't drink enough water, it could make your pain worse. The study also shows that scientists need to pay attention to how much water people are drinking when they study pain.\", \"Hey, did you know that not drinking enough water can make women feel more pain? A study found that even a little bit of dehydration can make pain feel worse by 13%. It doesn't matter if a woman is on her period or not, but if she has more of a hormone called 17?-estradiol, she may feel even more pain. The study also looked at whether drinking water could help with the pain, but it didn't seem to make a difference. So, it's important for women to drink enough water throughout the day to help reduce how much pain they feel.\", \"Hey, did you know that our bodies use energy to do things like move and think? A recent study found that the amount of energy our bodies use changes a lot as we grow up. When we're babies, we use a lot of energy, but then it slows down as we get older. Some parts of our body, like our heart and brain, use more energy than others like our muscles and fat. This is why young people have more muscle and less fat. The study also found that some people use more energy than others, and that exercise and how our body works also affect how much energy we use.\", \"Hey, did you know that scientists studied how much energy people use every day throughout their lives? They found out that our bodies use energy differently as we grow up. When we're babies, we use a lot of energy, but as we get older, we use less. Kids and teenagers use more energy than adults, but older people use less. Also, everyone is different, so some people use more energy than others. This information could help us understand how to stay healthy.\", \"Hey, did you know that scientists studied how much energy people use every day throughout their lives? They found that babies use a lot of energy, but as they grow up, they use less and less. By the time they're 20 years old, they use about as much energy as adults do. Also, different parts of our bodies use energy differently. Kids and teenagers use more energy than older people. And even if two people are the same age and size, they might use different amounts of energy. This is important for understanding how our bodies work and how we stay healthy.\", \"New research has found that how much and how well you sleep, as well as when you sleep, can affect how your body processes sugar after you eat. This is important because high blood sugar levels can lead to diabetes. The study looked at both differences between people and changes within individuals over time. The results showed that everyone's sleep needs are different, and personalized sleep recommendations may be necessary for good health. The study also found that eating a breakfast high in fat might help counteract the negative effects of poor sleep on blood sugar levels. Overall, the study suggests that going to bed earlier and getting good quality sleep can help improve blood sugar levels after eating.\", \"New research shows that not drinking enough water can make women feel more pain. It doesn't matter if they are on their period or not. Drinking water when you are already dehydrated doesn't make the pain go away right away. This means it's important to drink enough water to avoid feeling more pain. Scientists who study pain should also make sure to check if people are hydrated or not so they can get accurate results.\", \"Scientists did a study on how much energy people use throughout their lives. They found that babies and pregnant women use a lot of energy, but as people get older, they use less energy. This is because their bodies are growing and changing. The study also showed that everyone's energy use is different, even if they are the same age and size.\", 'Scientists did a study to see how much energy people use every day as they grow up. They found out that the way our bodies use energy changes a lot as we get older. Kids and teenagers use more energy in certain parts of their bodies, while older people use less. The study also showed that how much we move around and how our bodies use energy both affect how much energy we use overall. These findings could help doctors learn more about how our bodies work and how to treat diseases and injuries.', \"Scientists did a study to see how older athletes feel after doing a lot of squats compared to younger athletes. They found that older athletes don't feel more tired or take longer to recover than younger athletes. They also tried a way to help athletes recover faster after exercising, but it didn't work for making their muscles feel better or work better. However, it did help them feel better mentally. But, this way of recovering should be different for each person. The study was limited because they didn't have a lot of people in it and it was hard to make sure everyone was doing the same amount of exercise.\", 'Scientists did an experiment with people for 3 days. They found that when people saw pictures of yummy food and felt stressed, they wanted to eat more of the tasty food. Two hormones in our body, called ghrelin and cortisol, can make us want to eat more. This study shows that we need to do more research to understand why we overeat and gain weight.', 'Scientists have found out that our bodies use energy differently as we grow up. Babies and pregnant women use about the same amount of energy as adults, but babies use more energy as they grow and develop. Adults use a steady amount of energy, but older adults might gain weight because their bodies use less energy. The amount of energy we use also depends on how much we move and how our bodies work. Understanding how our bodies use energy can help us stay healthy.', 'Scientists have found out that our bodies use energy differently as we grow up. When a mom is pregnant and when a baby is born, they use a lot of energy. As we get older, our bodies use less energy to keep us going. Some people use more energy than others, even if they are the same age and size. This information can help us understand how to stay healthy and how to treat sickness.', \"Scientists have found that our bodies use energy differently as we grow up. When we are babies, we need a lot of energy to grow and develop, but as we get older, we need less energy. When we become adults, our energy needs stay pretty much the same. However, some older people may have a harder time keeping a healthy weight because their bodies don't use as much energy as they used to. Also, everyone's body is different, so some people need more energy than others even if they are the same age and size. This information could help doctors understand how medicines work and how to treat diseases better.\", \"Scientists studied how exercise affects muscle soreness and damage in young and older athletes. They found that older athletes did not get more tired or recover slower than younger athletes. However, there were some differences in recovery between younger athletes. They also tried a new way to help athletes recover faster, but it didn't work for everyone and only helped with how athletes felt, not how well they performed. The study was done with only a few people, so we need more research to be sure.\", 'Taking too much ibuprofen, which is a medicine that helps with pain and swelling, can make your muscles weaker and stop them from getting bigger when you exercise. A study showed that even if you exercise regularly, taking too much ibuprofen can make it harder for you to get stronger and build bigger muscles. This is important for people who take ibuprofen often and want to get the most out of their exercise routine.', \"Taking too much ibuprofen, which is a type of medicine that helps with pain and swelling, can make it harder for your muscles to get stronger when you exercise. A study found that when young adults took a lot of ibuprofen while doing weightlifting exercises, their muscles didn't get as big and they didn't get as strong as they would have without the medicine. This shows that it's important to be careful with how much medicine you take when you're exercising.\", 'Taking too much ibuprofen, which is a type of medicine that helps with pain and swelling, can make it harder for your muscles to get stronger when you exercise. This is especially true if you do a lot of repetitions or use heavy weights. So, if you take ibuprofen often and want to get the most out of your workouts, you might want to talk to your doctor about other ways to manage pain and swelling.', \"Taking too much of certain pain relievers like ibuprofen can make it harder for your muscles to get bigger and stronger when you exercise. This is because these medicines can affect how your body responds to exercise. So, it's important to be careful with how much medicine you take when you're working out.\", 'This study looked at how age affects muscle soreness and recovery after doing a lot of squats. They compared younger athletes to older athletes who are still really good at their sport (called \"master athletes\"). Surprisingly, the older athletes didn\\'t have more fatigue or slower recovery than the younger ones. The researchers tried a recovery method that involved using cold water and compression, but it didn\\'t make a big difference in how well the athletes performed or how much their muscles were damaged. However, the athletes did feel better after using this method, no matter their age. The study shows that everyone is different and may need different ways to recover after exercise. More research is needed to figure out the best ways to help athletes recover.', 'This study looked at how sleep affects the performance of athletes who compete at a high level. The researchers found that getting enough sleep can help athletes perform better, and none of the studies they looked at showed that sleep had a negative effect on performance. They also found that activities that require a lot of endurance (like running) are more affected by sleep than activities that require short bursts of energy (like weightlifting). The studies also showed that athletes who got more sleep were better at things like strategy and technique. Overall, the researchers found that getting more sleep can help athletes perform better. However, they also noted that more research is needed to understand the long-term effects of not getting enough sleep on athletic performance.']\n",
      "Unique values in V: add relevance task (n=2):\n",
      "\t['Add 1-2 sentences to make this relevant for', 'Write this so it is relevant for']\n",
      "Unique values in W: full add relevance task: athletes (n=3):\n",
      "\t['Add 1-2 sentences to make this relevant for people who enjoy sports', 'Write this so it is relevant for people new to resistance training', 'people who enjoy sports']\n",
      "Unique values in X: added relevance: athletes (n=78):\n",
      "\t['', \"A recent review of scientific literature has found that getting enough sleep can have a positive impact on athletic performance, even for those who are new to resistance training. The review found that longer sleep duration was associated with better performance outcomes, and no studies showed a negative association between sleep and performance. While aerobic activity was found to be more sensitive to sleep duration than anaerobic activity, studies measuring outcomes requiring tactical and technical skills also found benefits of sleep on performance. Additionally, longer-term sleep extension interventions showed positive results for improved performance. As a beginner in resistance training, it's important to prioritize getting enough sleep to optimize your performance and results. Future research should aim to standardize tests of athletic performance and sleep metrics to identify optimal sleep standards for athletes of all levels. #sleep #athleticperformance #resistancetraining #research\", \"A recent study found that getting enough sleep can have a positive impact on athletic performance, even for those new to resistance training. The study showed that aerobic exercises, like running or cycling, are more affected by sleep duration than anaerobic exercises, like weightlifting. In fact, increasing sleep duration has been shown to improve accuracy in sports like basketball and tennis. On the other hand, sleep deprivation can negatively impact performance in sports like soccer and rugby. It's important to note that longer-term sleep extension interventions have shown the most positive results, while short-term interventions have been inconsistent. If you're new to resistance training, getting enough sleep can help you perform better and see better results. So, make sure to prioritize sleep as part of your training routine. #SleepAndFitness #AthleticPerformance #ResistanceTraining\", \"Attention all sports enthusiasts! A recent study has found that getting the right amount of quality sleep at the right time can have a significant impact on your metabolic health. The study suggests that a one-size-fits-all approach to sleep recommendations may not be optimal for everyone. By focusing on earlier bedtime routines and maximizing high-quality uninterrupted sleep, you may be able to improve your post-workout blood glucose levels. So, if you want to take your sports performance to the next level, make sure you're getting the right amount of quality sleep! #SleepHealth #MetabolicHealth #SportsPerformance\", \"Attention all sports enthusiasts! A recent study has found that the duration, quality, and timing of your sleep can have a significant impact on your body's ability to regulate post-workout glucose metabolism. This means that a one-size-fits-all approach to sleep may not be optimal for athletes, and personalized sleep guidelines may be necessary to ensure optimal metabolic health and maximize the effectiveness of diabetes prevention strategies. By focusing on earlier bedtime routines and maximizing high-quality uninterrupted sleep, athletes can improve their post-workout blood glucose levels and enhance their overall performance. So, if you want to take your sports game to the next level, make sure to prioritize your sleep and follow these lifestyle strategies to optimize your metabolic health. #sleep #metabolism #diabetesprevention #sportsperformance\", \"Attention all sports enthusiasts! Did you know that your sleep habits could be affecting your athletic performance? Recent research has shown that the duration, quality, and midpoint of your sleep can have a significant impact on your postprandial glycaemic control, which is crucial for maintaining metabolic health. This study suggests that sleep recommendations should be tailored to the individual for optimal results, and that sleep quality may be more important than sleep duration for controlling blood glucose levels. By establishing earlier bedtime routines and maximizing high-quality uninterrupted sleep, you could improve your post-workout recovery and overall athletic performance. So, if you want to take your sports game to the next level, make sure you're getting the right amount and quality of sleep!\", \"Attention all sports enthusiasts! Did you know that your sleep habits could be affecting your post-workout recovery? A new study has found that the duration, quality, and midpoint of your sleep can impact your body's ability to control blood sugar levels after a meal. This means that a one-size-fits-all approach to sleep may not be optimal for athletes, and personalized sleep recommendations may be necessary. By focusing on earlier bedtime routines and maximizing high-quality uninterrupted sleep, athletes can improve their post-workout recovery and overall performance. So, if you want to take your sports game to the next level, make sure to prioritize your sleep habits!\", \"Did you know that getting enough sleep can actually improve your athletic performance? A recent study found that increasing your sleep duration can have a positive effect on your performance, and none of the studies reviewed found a negative association between sleep duration and any performance outcome. This is especially important for aerobic activities, but even resistance training can benefit from adequate sleep. Interestingly, acute sleep deprivation tended to yield positive results, while longer-term sleep extension studies showed significant benefits to athletes. However, more research is needed to validate the various performance outcomes measured, especially those involving complex, team-based measures such as composite game performance scores and passing accuracy. So, if you're new to resistance training, make sure you're getting enough sleep to help you achieve your fitness goals!\", \"Did you know that getting enough sleep can actually improve your performance in resistance training? A recent study found that increasing sleep duration has a positive effect on athletic performance, and this includes resistance training. Interestingly, the study also found that aerobic activity seems to be more sensitive to sleep duration compared to anaerobic activity. So, if you're new to resistance training, it's important to prioritize getting enough sleep to see the best results. This review provides valuable information about when sleep does or does not seem to play a key role in influencing performance among competitive athletes, including those who are just starting out with resistance training.\", 'For athletes and fitness enthusiasts who rely on resistance training to improve their performance, it is important to be aware that taking high doses of anti-inflammatory drugs like ibuprofen may compromise muscle strength and hypertrophic adaptations, which can ultimately hinder their progress and goals. This study highlights the potential negative effects of NSAIDs on exercise-induced muscle growth and strength gains, and emphasizes the importance of considering alternative pain management strategies for optimal athletic performance.', 'For athletes and fitness enthusiasts who rely on resistance training to improve their performance, this study highlights the potential negative impact of consuming high doses of anti-inflammatory drugs like ibuprofen on muscle strength and hypertrophy. It is important to consider alternative methods of managing pain and inflammation to ensure optimal gains from training.', 'For athletes and fitness enthusiasts, this study highlights the importance of resistance training in maintaining muscle performance and recovery response as they age. It suggests that incorporating resistance training into their routine may help mitigate any age-related changes in recovery response and muscle performance.', 'For athletes and fitness enthusiasts, this study highlights the potential negative impact of high doses of ibuprofen on muscle strength and hypertrophy. It suggests that avoiding excessive use of anti-inflammatory drugs may be important for maximizing the benefits of resistance training and achieving optimal muscle growth.', 'For athletes and fitness enthusiasts, understanding the impact of stress and food cues on food cravings and intake can be crucial in maintaining a healthy diet and achieving optimal performance. This research highlights the importance of managing stress and being mindful of food cues to avoid overeating and weight gain, which can negatively affect athletic performance.', 'For athletes and sports enthusiasts, it is important to note that stress and food cues can also impact their performance and training. Understanding the role of hormones like ghrelin and cortisol in food motivation and intake can help athletes make informed decisions about their diet and training regimen.', 'For athletes and sports enthusiasts, it is important to understand how food cues and stress can impact their eating habits and potentially affect their performance. This study highlights the need for athletes to be mindful of their food choices and to manage stress effectively to avoid overeating and weight gain.', 'For athletes and sports enthusiasts, understanding the changes in metabolic rates across the lifespan can provide valuable insights into optimizing training and performance. By tailoring exercise and nutrition plans to account for age-related changes in metabolism, athletes can potentially improve their endurance, strength, and overall athletic performance.', 'For athletes and sports enthusiasts, understanding the impact of food cues and stress on food cravings and intake can be crucial in maintaining a healthy diet and achieving optimal performance. These findings suggest that managing stress and avoiding exposure to HP food cues can help athletes stay on track with their nutrition goals.', 'For athletes, it is crucial to maintain proper hydration levels during training and competition to avoid increased pain sensitivity and potential exacerbation of chronic pain conditions. This study emphasizes the importance of monitoring hydration status and staying adequately hydrated to optimize performance and prevent injury.', 'For athletes, maintaining proper hydration is crucial not only for performance but also for managing pain. This study highlights the importance of staying hydrated to alleviate pain symptoms, which can be particularly relevant for athletes who may experience pain due to injuries or overexertion.', 'For seniors, it is important to be aware of the potential impact of stress and food cues on their food cravings and subsequent snacking habits. Understanding the role of hormones like ghrelin and cortisol can help seniors make informed decisions about their food choices and manage their weight effectively.', 'For sports enthusiasts, this study highlights the importance of incorporating resistance training into their fitness routine, regardless of age. It suggests that recreational lifters can maintain their muscle performance and recovery response through resistance training, which can ultimately enhance their athletic performance.', \"For sports enthusiasts, this study highlights the importance of incorporating resistance training into their routine as they age to maintain muscle performance. However, it's important to consider using a variety of exercises that mimic the movements used in their sport to ensure optimal performance.\", 'For sports enthusiasts, this study highlights the importance of incorporating resistance training into their routine, especially as they age. It suggests that regular resistance training can help maintain muscle performance and mitigate any negative effects on recovery response from exercise.', 'For sports enthusiasts, this study provides valuable insights into the effects of aging on muscle soreness and damage after an intensive squat exercise protocol. It also highlights the importance of individualized recovery interventions, as a mixed-method recovery intervention did not contribute to faster recovery of physical performance or muscle damage, but did promote recovery of perceptual measures regardless of age.', 'For sports enthusiasts, this study provides valuable insights into the effects of aging on muscle soreness and damage after an intensive squat exercise. The findings suggest that master athletes can still perform at a high level and recover just as well as younger athletes. However, the use of mixed-method recovery interventions should be tailored to individual needs and goals.', 'For sports enthusiasts, this study provides valuable insights into the effects of aging on muscle soreness and recovery after a squat exercise protocol. It suggests that master athletes can still perform at a high level without experiencing more fatigue or slower recovery than younger athletes. Additionally, the study highlights the potential benefits of a mixed-method recovery intervention for perceptual measures, but emphasizes the need for individualized approaches.', 'For sports enthusiasts, this study provides valuable insights into the effects of aging on muscle soreness and recovery after an intensive workout. It also emphasizes the importance of personalized recovery methods to optimize physical performance and reduce muscle damage, regardless of age.', 'For sports enthusiasts, this study suggests that age should not be a limiting factor in recovery from resistance exercise. Whether you are a young athlete or a middle-aged fitness enthusiast, regular resistance training can help you maintain muscle recovery and performance. So, keep up the good work and stay fit!', 'For sports enthusiasts, this study suggests that incorporating resistance training into your routine can help maintain muscle performance as you age. While there may not be significant differences in recovery response between young and middle-aged men, the strength differences noted highlight the importance of maintaining muscle mass through regular exercise.', 'Getting enough quality sleep is crucial for athletes to perform at their best. Not only does insufficient sleep impact our physical and mental performance, but it can also affect our blood glucose control, which is a key component of diabetes prevention. A recent study found that sleep duration, quality, and midpoint are important determinants of postprandial glycaemic control in healthy adults, which is especially relevant for athletes who need to maintain stable blood sugar levels for optimal performance. Interestingly, the study suggests that one-size-fits-all sleep recommendations are suboptimal, and that sleep recommendations should be tailored to the individual. By focusing on earlier bedtime routines and maximising high-quality uninterrupted sleep, athletes can improve their postprandial blood glucose levels and enhance their overall performance.', \"Getting enough sleep is important for athletes, including those who are new to resistance training. A recent review of studies found that sleep duration has a positive impact on athletic performance, and none of the studies found a negative association between sleep duration and performance outcomes. While aerobic activity is more sensitive to sleep duration than anaerobic activity, studies measuring outcomes requiring technical and tactical skills found benefits of sleep on performance. Longer-term sleep extension interventions showed positive results, while short-term sleep deprivation may be more harmful than sleep extension is beneficial to performance. It's important to note that more research is needed to determine potential adverse effects of chronic sleep loss on athletic performance. These findings suggest that increasing sleep duration can benefit athletes, including those who are new to resistance training.\", \"Getting enough sleep is important for athletic performance, even when it comes to resistance training. Studies have shown that sleep duration has a positive effect on performance in various sports, including resistance training. In fact, not getting enough sleep can negatively impact your performance. Aerobic activity is more sensitive to sleep duration compared to anaerobic activity, which means that getting enough sleep is especially important for cardio-focused workouts. Longer-term sleep extension interventions were more likely to show an effect on performance than acute sleep interventions, so it's important to prioritize consistent, quality sleep over occasional all-nighters. Sleep also plays a role in tactical and technical skills in sports, which can be especially important for resistance training. However, team-based sports with decision-based outcomes suffer performance deficits after decreased sleep duration, so it's important to prioritize sleep leading up to any team-based events. Strategies to improve sleep, not just the night before a resistance training session, but also in the weeks leading up to it, are likely to improve performance.\", \"Hey sports enthusiasts! I just came across a fascinating study that looked at the effects of different exercise doses on food intake, metabolism, and physical activity. The study found that participants in the exercise groups compensated and lost less weight than expected. This means that they ate more to make up for the calories they burned during exercise. Interestingly, compensation primarily resulted from increased energy intake rather than changes in metabolism or physical activity. Participants who compensated were more likely to meet criteria for metabolic syndrome and reported increased appetite and compensatory health beliefs. The study also showed that longer durations of exercise increase compensatory responses. So, if you're looking to lose weight through exercise alone, you might want to consider adding a dietary or pharmacological intervention to your routine. Keep up the great work on the field or court, but remember to balance it out with a healthy lifestyle!\", \"Hey sports enthusiasts, did you know that taking frequent tub baths may lower the risk of cardiovascular disease (CVD)? A new study followed a large population-based cohort of middle-aged Japanese individuals and observed an inverse association between tub bathing frequency and risks of CVD, CHD, total strokes and intracerebral haemorrhage. This means that habitual tub bathing may have a beneficial effect on the prevention of CVD, which is great news for those who want to maintain a healthy heart while enjoying their favorite sports. The study also found that the potential beneficial effect of tub bathing on CVD events may be mediated by the reduced development of major cardiovascular risk factors, such as hypertension. So, if you're looking for a relaxing way to reduce your risk of CVD, consider taking a tub bath after your next workout. While the study did not suggest any preferable water temperature, further research regarding the water temperature is warranted.\", \"Hey sports enthusiasts, have you heard about the E-MECHANIC randomized controlled trial? The study found that participants in the exercise groups compensated and lost less weight than expected. But here's the interesting part - compensation was primarily due to increased energy intake rather than changes in metabolism or non-exercise physical activity. This means that even though participants were exercising regularly, they were eating more and not losing as much weight as expected. \\n\\nThe study was conducted over 6 months and had excellent exercise adherence, which is great news for those of us who love to stay active. However, it's important to note that participants who compensated were also more likely to meet criteria for metabolic syndrome and reported increased appetite and compensatory health beliefs. So, while exercise is important for overall health and fitness, it's crucial to maintain a balanced diet and avoid overcompensating for the calories burned during exercise.\", 'Hey sports enthusiasts, have you heard about the E-MECHANIC randomized controlled trial? The study found that participants who exercised in the trial compensated and lost less weight than expected. This was primarily due to increased energy intake and not changes in metabolism or non-exercise physical activity. The study lasted for 6 months and had excellent exercise adherence. Compensators were more likely to meet criteria for metabolic syndrome and reported increased appetite and compensatory health beliefs. This study highlights the importance of being mindful of your diet and not overcompensating for exercise. Keep up the great work with your sports activities, but remember to fuel your body properly!', 'Hey sports enthusiasts, have you heard about the latest E-MECHANIC randomized controlled trial? It found that participants who exercised at both 8 and 20 KKW (kcal/kg/week) doses in a 6-month exercise program compensated and lost less weight than expected. This was due to increased energy intake, not changes in metabolism or non-exercise physical activity. Interestingly, compensators were more likely to have metabolic syndrome and reported increased appetite and compensatory health beliefs. This study provides valuable insight into how to reduce compensation during long-term exercise, which can help you achieve your fitness goals more effectively. So, keep pushing yourself during your workouts and be mindful of your diet to avoid compensating for your hard work!', \"Hey sports enthusiasts, have you heard about the new study on the benefits of tub bathing? It turns out that taking frequent tub baths can have a positive impact on your cardiovascular health. A long-term cohort study of middle-aged Japanese men and women found that those who took tub baths frequently had a lower risk of hypertension and a reduced development of major cardiovascular risk factors. This is similar to the impact of exercise on your vascular function. The typical Japanese style of bathing involves filling the tub to shoulder depth with hot water at approximately 40°C\\x9642°C, and using water up to 42°C was found to have favourable effects in previous controlled trials. So, if you're looking for a way to improve your cardiovascular health, consider adding a relaxing tub bath to your post-workout routine.\", \"Hey sports enthusiasts, have you heard about the recent study on the benefits of tub bathing for heart health? A long-term cohort study in Japan found that frequent tub bathing was associated with a lower risk of coronary heart disease, strokes and intracerebral haemorrhage. This means that taking a relaxing soak in a hot tub after a workout could potentially reduce your risk of developing these conditions. Interestingly, tub bathing was not associated with a higher risk of sudden cardiac death. The study also found that the potential beneficial effect of tub bathing on CVD events may be mediated by the reduced development of major cardiovascular risk factors such as hypertension. So, if you're looking for a way to unwind and improve your heart health, consider taking a dip in a hot tub. The typical Japanese style of bathing involves filling the tub to shoulder depth with hot water at approximately 40°C\\x9642°C, and the study found that water temperature did not significantly affect the association between tub bathing frequency and CVD risk. Overall, this study provides interesting insights into the potential benefits of a common cultural habit that could be beneficial for sports enthusiasts.\", \"Hey there! Did you know that getting enough sleep can actually improve your performance in resistance training? A recent review of studies found that increasing sleep duration had a positive effect on athletic performance, and none of the studies reviewed found a negative association between sleep duration and any performance outcome. While both aerobic and anaerobic activities benefit from sleep, studies have shown that sleep deprivation can affect endurance and explosive, power-based exercises - which are key components of resistance training. Interestingly, studies that altered sleep duration on a longer-term timescale were more likely to show an effect than those that altered sleep duration acutely. This means that chronic sleep extension studies have demonstrated significant benefits to athletes, including those who are new to resistance training. So, if you want to see the best results from your workouts, make sure you're getting enough sleep!\", 'Hey there! I just read a literature review about the impact of sleep duration on performance among people who are new to resistance training. It turns out that getting enough sleep is just as important for resistance training as it is for competitive athletes. None of the published studies found a negative association between sleep duration and performance in resistance training. In fact, almost all of the studies showed that increased sleep duration has a positive effect on performance or the results were neutral. Interestingly, it seems that aerobic activity is more sensitive to sleep duration compared to anaerobic activity, including strength testing. The studies that altered sleep duration on a longer-term timescale were more likely to show an effect than those that altered sleep duration acutely. Moreover, chronic sleep extension studies have demonstrated significant benefits to people who are new to resistance training. The review suggests that people who are new to resistance training should be counseled regarding the importance of sleep for their performance.', \"Hey there! I just read an interesting literature review on the impact of sleep duration on performance among people who are new to resistance training. The study found that getting enough sleep is important for athletic performance, but interestingly, none of the published studies they reviewed found a negative association between sleep duration and performance. In fact, increased sleep duration had a positive effect on performance or results were neutral. The study also found that aerobic activity is more sensitive to sleep duration compared to anaerobic activity, including strength testing. This means that if you're new to resistance training, getting enough sleep is important for your overall athletic performance. The study also highlighted the importance of measuring sleep across the entire study period and using validated sleep quality questionnaires. Overall, the review suggests that people new to resistance training will likely benefit from an increase in sleep duration.\", 'Hey there, sports enthusiasts! Did you know that getting enough quality sleep is crucial for maintaining healthy blood glucose levels? A recent study found that not only is sleep duration important, but also sleep quality and midpoint. This means that simply getting enough hours of sleep may not be enough to regulate your blood glucose levels. Interestingly, the study found that a one-size-fits-all sleep recommendation may not be the best approach for everyone, especially for those who are active in sports. \\n\\nThe study also showed that sleep quality may be even more important than sleep duration when it comes to glucose regulation. This is particularly relevant for athletes who need to maintain optimal performance levels. The researchers found that a later sleep midpoint, such as going to bed later, is associated with impaired glucose response to breakfast the following morning. However, a high-fat breakfast might help mitigate the detrimental effects of poor sleep on postprandial glycaemia. \\n\\nOverall, the study suggests that improving sleep habits, such as having earlier bedtime routines and maximizing high-quality uninterrupted sleep, may be a lifestyle strategy to improve postprandial blood glucose levels. So, if you want to perform at your best in sports, make sure to prioritize getting enough quality sleep!', \"Hey, did you know that getting enough quality sleep and having a consistent sleep schedule can actually improve your athletic performance? A new study found that sleep duration, quality, and midpoint are important factors in regulating blood sugar levels, which can impact your energy levels and endurance during physical activity. This means that following a personalized sleep routine may be key to optimizing your athletic performance and preventing fatigue or injury. The study also found that a later sleep midpoint can negatively affect your body's ability to process glucose, which can impact your post-workout recovery. So, if you're serious about your sports performance, make sure to prioritize your sleep habits!\", 'Hey, did you know that getting enough quality sleep is just as important for athletes as it is for everyone else? A new study found that sleep duration, quality, and midpoint are crucial factors in regulating postprandial glucose metabolism in healthy adults. This means that a one-size-fits-all approach to sleep recommendations may not be optimal for athletes looking to prevent diabetes. The study analysed both between-person and within-person effects and found that sleep duration, efficiency, and midpoint are important determinants of postprandial glycaemic control at a population level, while highlighting the need to tailor sleep recommendations to the individual. Interestingly, the study also found that sleep quality is more important than sleep duration when it comes to regulating blood sugar levels. These findings may inform lifestyle strategies for athletes looking to improve their post-workout recovery and performance, such as establishing earlier bedtime routines and maximising high-quality uninterrupted sleep.', 'Hey, did you know that getting enough quality sleep is just as important for athletic performance as training and nutrition? A recent study found that sleep duration, quality, and midpoint are crucial factors in regulating blood glucose levels in healthy adults, which can impact energy levels and endurance during physical activity. The study also showed that personalized sleep guidelines may be needed to improve metabolic health and prevent diabetes, as one-size-fits-all recommendations may not be optimal for everyone. Interestingly, the study found that sleep quality may be more important than sleep duration in regulating glucose metabolism, meaning that getting uninterrupted, high-quality sleep is key. Additionally, going to bed later and having a later sleep midpoint can impair glucose response to breakfast the following morning, which can negatively affect athletic performance. So, if you want to improve your post-workout recovery and overall athletic performance, consider improving your sleep habits by establishing an earlier bedtime routine and maximizing high-quality sleep.', \"Hey, did you know that getting the right amount and quality of sleep can actually improve your athletic performance? A new study found that sleep duration, quality, and midpoint are important factors for maintaining healthy blood sugar levels after meals, which can help you feel more energized during your workouts. The study suggests that sleep recommendations should be tailored to the individual rather than a one-size-fits-all approach, so you can find the sleep routine that works best for you. Interestingly, the study found that sleep quality is more important than sleep duration for glycaemic control, meaning that even if you can't get a full 8 hours of sleep, focusing on improving the quality of your sleep can still have a positive impact on your athletic performance. Plus, the study found that a high-fat breakfast may help mitigate the detrimental effects of poor sleep on postprandial glycaemia, so you can fuel up before your workout and still maintain healthy blood sugar levels. Overall, this study provides valuable insights into the interplay between sleep and athletic performance.\", \"Hey, did you know that taking frequent tub baths could potentially lower your risk of cardiovascular disease? A recent study conducted on middle-aged Japanese men and women found that those who took regular tub baths had a lower risk of CVD, CHD, total strokes, and intracerebral hemorrhage. This is great news for sports enthusiasts who want to maintain a healthy heart and reduce their risk of developing hypertension. The typical Japanese style of bathing involves filling the tub with hot water at approximately 40°C\\x9642°C, which could potentially have a beneficial effect on your cardiovascular health. The study also found that the potential beneficial effect of tub bathing on CVD events may be mediated by the reduced development of major cardiovascular risk factors in those who took tub baths frequently. So, if you're looking for a relaxing way to improve your heart health, consider taking regular tub baths!\", \"Hey, did you know that taking frequent tub baths could potentially lower your risk of developing cardiovascular disease, coronary heart disease, and strokes? A recent study conducted in Japan found that middle-aged adults who took regular tub baths had a reduced risk of these health issues. This is great news for sports enthusiasts who want to maintain a healthy heart and reduce their risk of cardiovascular events. The study also suggests that the potential beneficial effect of tub bathing on CVD events may be due to the reduced development of major cardiovascular risk factors such as hypertension. So, if you're looking for a relaxing way to improve your cardiovascular health, consider taking a hot tub bath after your next workout. Just be sure to keep the water temperature at a safe level to avoid heatstroke. Overall, this study provides interesting insights into the potential benefits of frequent tub bathing for sports enthusiasts looking to maintain a healthy heart.\", \"Hey, have you heard about the E-MECHANIC randomized controlled trial? It's a study that looked at the effects of different doses of supervised exercise on food intake, metabolism, and non-exercise physical activity. What's interesting is that the study found that compensation, where participants increased their energy intake, occurred at both lower and higher doses of exercise. This means that if you're trying to lose weight through exercise alone, you might not see the results you're hoping for. The study suggests that if weight loss is your goal, you should consider adding a lifestyle, dietary, or possibly pharmacological intervention to your exercise routine. So, if you're a sports enthusiast looking to shed some pounds, it's important to keep this in mind and make sure you're taking a comprehensive approach to your fitness goals.\", \"If you're an athlete looking to improve your performance, you might want to pay attention to your sleep habits. A recent study found that the quality, duration, and timing of your sleep can have a big impact on your body's ability to regulate glucose metabolism. This is important because glucose is a key source of energy for your muscles during exercise. The study suggests that personalized sleep guidelines may be necessary to optimize metabolic health and prevent diabetes. So, if you want to maximize your athletic potential, it's worth considering how you can improve your sleep habits.\", \"If you're an athlete looking to optimize your performance, you might want to pay attention to your sleep habits. A recent study found that sleep duration, quality, and midpoint can all impact how your body regulates blood glucose after a meal. This is important because maintaining stable blood glucose levels is crucial for sustained energy during physical activity. The study suggests that prioritizing high-quality sleep and aiming for an earlier bedtime routine may be beneficial for athletes looking to improve their post-workout recovery and overall metabolic health. So, if you want to take your athletic performance to the next level, consider making sleep a priority in your training regimen.\", \"If you're an athlete looking to optimize your performance, you might want to pay attention to your sleep habits. A recent study found that sleep duration, quality, and midpoint can all impact your body's ability to regulate blood glucose levels after meals. This is important because maintaining stable blood sugar levels is crucial for sustained energy during workouts and competitions. The study suggests that personalized sleep recommendations may be necessary to improve metabolic health and prevent diabetes. Interestingly, the study found that sleep quality may be more important than sleep duration in regulating blood glucose levels. So, if you're looking to improve your metabolic health, consider establishing an earlier bedtime routine and maximizing high-quality uninterrupted sleep.\", \"If you're an athlete looking to prevent diabetes, a new study has found that your sleep quality, duration, and midpoint are crucial factors in controlling your blood glucose levels after meals. The study suggests that a one-size-fits-all approach to sleep recommendations is not optimal, and that personalized recommendations are necessary. Interestingly, the study found that sleep quality is more important than sleep duration in regulating blood glucose levels. So, if you want to improve your post-workout blood glucose levels, consider establishing an earlier bedtime routine and maximizing high-quality uninterrupted sleep. These findings provide valuable insights into the effects of sleep on metabolic health and may inform lifestyle strategies to prevent diabetes in athletes.\", \"If you're new to resistance training, you might be wondering how to optimize your performance and get the most out of your workouts. Well, a recent review of scientific studies found that getting enough sleep can have a positive impact on athletic performance, especially for aerobic activities. This means that if you're looking to improve your endurance and stamina during your resistance training sessions, it's important to prioritize getting enough sleep. Additionally, studies have shown that longer-term sleep extension (i.e. consistently getting more sleep over time) is more effective than just trying to catch up on sleep the night before a big workout. So, if you're serious about improving your resistance training performance, consider making sleep a priority in the weeks leading up to your workouts. #resistancetraining #sleepduration #athleticperformance #sleephealth\", 'Interestingly, these findings may have implications for athletes who are trying to maintain a healthy diet and weight. Understanding the role of hormones and environmental cues in food intake could help athletes better manage their cravings and make informed decisions about their nutrition.', \"New research has found that getting enough quality sleep and having a consistent sleep schedule can have a significant impact on your body's ability to control blood sugar levels after meals. This is especially important for athletes who need to maintain optimal metabolic health to perform at their best. The study suggests that personalized sleep guidelines may be necessary to ensure that athletes are getting the right amount and quality of sleep to maximize their athletic performance and prevent diabetes. Additionally, the study found that a high-fat breakfast may help mitigate the negative effects of poor sleep on blood sugar levels. So, if you're an athlete looking to improve your post-workout recovery and overall performance, consider focusing on establishing a consistent sleep routine and incorporating high-fat breakfast options into your diet. #sleephealth #metabolism #diabetesprevention #sportsperformance\", 'These findings are particularly relevant for seniors who may experience stressors related to aging, such as health issues or social isolation, which could lead to increased cravings for highly palatable foods. It is important for seniors to be aware of these potential triggers and to seek support in managing stress and maintaining a healthy diet.', 'This research has implications for athletes who may be exposed to food cues and stress during training or competition, as it highlights the potential impact on food cravings and subsequent snacking of highly palatable foods. Understanding the hormonal and behavioral processes involved in overeating can help athletes make informed decisions about their nutrition and training.', 'This study has implications for athletes who may be tempted to indulge in highly palatable foods after exposure to food cues or stress. Understanding the hormonal and behavioral factors that drive overeating can help athletes make informed decisions about their diet and maintain a healthy weight.', 'This study highlights the importance of incorporating resistance training into your exercise routine, regardless of age. It suggests that recreational resistance training can help maintain muscle performance and aid in recovery after exercise, which can be beneficial for athletes and sports enthusiasts of all ages.', \"This study highlights the importance of recreational resistance training for maintaining a healthy recovery response from exercise, regardless of age. So, if you're an athlete or someone who enjoys sports, incorporating resistance training into your routine can help you recover faster and perform better.\", 'This study is great news for master athletes who may have been concerned about their ability to recover after intense exercise. It also highlights the importance of personalized recovery interventions for athletes of all ages to optimize their performance and reduce muscle soreness.', \"This study is great news for middle-aged athletes who regularly engage in resistance training, as it suggests that they can still push themselves without worrying about increased muscle soreness or damage compared to younger athletes. However, it's important to note that changes in muscle performance may begin during middle age, so incorporating multijoint, dynamic constant resistance exercises into your routine can help maintain muscle strength and prevent injury.\", 'This study is great news for sports enthusiasts who are middle-aged or older and regularly engage in resistance training. It suggests that they can continue to push themselves without worrying about increased soreness or muscle damage compared to younger individuals.', 'This study is particularly relevant for athletes who are concerned about the effects of aging on their performance and recovery. It suggests that with proper training and care, master athletes can maintain their physical abilities and recover just as quickly as younger athletes.', 'This study is particularly relevant for athletes who are interested in optimizing their recovery after intense exercise. It suggests that while a mixed-method recovery intervention may not improve physical performance or muscle damage, it can still be beneficial for reducing muscle soreness and promoting overall recovery.', 'This study is particularly relevant for athletes who engage in resistance training, as it suggests that middle-aged athletes can continue to train at a high level without fear of increased muscle damage or soreness. It also highlights the importance of maintaining a consistent resistance training routine to maintain muscle performance as we age.', 'This study is particularly relevant for seniors as they may be more susceptible to stress and food cravings due to changes in their hormones and metabolism. Understanding the factors that contribute to overeating and weight gain can help seniors make informed decisions about their diet and lifestyle choices to maintain their health and well-being.', 'This study is particularly relevant for seniors as they may face unique challenges in managing their food intake and stress levels. Understanding the role of hormones in food motivation and intake can help seniors make informed decisions about their diet and lifestyle choices to maintain a healthy weight and overall well-being.', 'This study is particularly relevant for seniors as they may face unique challenges in managing their food intake and weight. Understanding the factors that drive overeating and weight gain can help seniors make informed decisions about their diet and lifestyle choices to maintain their health and well-being.', 'This study is particularly relevant for sports enthusiasts who are in their middle age and want to maintain their muscle function and recovery. It suggests that participating in resistance training can help them mitigate any age-related changes in their recovery response from exercise, allowing them to continue to perform at their best.', 'This study provides valuable insights for athletes of all ages who are looking to optimize their recovery after intense exercise. It suggests that individualized recovery methods may be more effective than a one-size-fits-all approach, and that subjective measures such as muscle soreness should not be overlooked in assessing recovery.', 'This study provides valuable insights for athletes of all ages who engage in intense squat exercises. It suggests that while age may not affect recovery time, younger athletes may experience more post-exercise fatigue. Additionally, the study highlights the importance of individualized recovery methods, as some participants benefited from the mixed-method recovery intervention.', 'This study provides valuable insights for athletes of all ages who engage in intensive squat exercises. It suggests that master athletes can still perform at a high level and recover well, while younger athletes may benefit from individualized recovery interventions.', 'This study provides valuable insights for athletes of all ages who engage in intensive squat exercises. It suggests that recovery interventions may not necessarily improve physical performance or muscle damage recovery, but can help with perceptual measures such as reducing muscle soreness. Therefore, athletes should consider individualizing their recovery methods based on their specific needs and goals.', 'This study provides valuable insights for athletes of all ages who engage in intensive squat exercises. It suggests that recovery interventions may not necessarily improve physical performance recovery, but can aid in the recovery of perceptual measures. However, it is important to note that recovery methods should be tailored to individual needs and preferences.']\n",
      "Unique values in AB: add relevance task (n=2):\n",
      "\t['Add 1-2 sentences to make this relevant for', 'Write this so it is relevant for']\n",
      "Unique values in AC: full add relevance task: older adults (n=2):\n",
      "\t['Add 1-2 sentences to make this relevant for seniors', 'Write this so it is relevant for seniors']\n",
      "Unique values in AD: added relevance: older adults (n=84):\n",
      "\t['\"Recent research suggests that getting enough sleep can have a positive impact on athletic performance, even for seniors. Studies have shown that longer sleep duration can improve outcomes for activities that require tactical and technical skills. Additionally, aerobic activities may be more sensitive to sleep duration than anaerobic activities. It\\'s important to note that no published studies have shown a negative association between sleep duration and performance outcome. If you\\'re a senior looking to improve your athletic performance, consider prioritizing getting enough sleep. Future research will aim to identify optimal sleep standards for athletes of all ages. #sleep #athleticperformance #seniors #research\"', \"A recent study has found that getting enough quality sleep and going to bed earlier can have a positive impact on blood sugar levels after meals. This is especially important for seniors who may be at a higher risk for developing diabetes. The study suggests that there is no one-size-fits-all recommendation for sleep, and that finding a bedtime routine that works for you can improve your metabolic health. So, if you're a senior looking to improve your overall health, consider prioritizing your sleep habits and aiming for high-quality, uninterrupted rest. #SleepHealth #MetabolicHealth #DiabetesPrevention\", \"A recent study has found that getting enough quality sleep and maintaining a consistent sleep schedule can have a significant impact on regulating blood sugar levels after meals in healthy older adults. This means that following a personalized sleep routine may be necessary to ensure optimal metabolic health and prevent diabetes. The study's findings suggest that seniors should focus on establishing a regular bedtime routine and prioritizing uninterrupted, high-quality sleep to improve their post-meal blood sugar levels. By incorporating these lifestyle changes, seniors can take proactive steps towards better metabolic health and diabetes prevention. #sleep #metabolism #diabetesprevention #seniors\", 'A recent study has found that getting enough quality sleep is crucial for regulating blood sugar levels after meals, especially for seniors. The study suggests that personalized sleep guidelines may be necessary to improve metabolic health and prevent diabetes. It also highlights the importance of maintaining good sleep quality and avoiding late bedtimes, as these factors can negatively impact glucose metabolism. By adopting healthy sleep habits, seniors can improve their overall health and reduce their risk of developing diabetes.', 'A recent study has shown that getting enough quality sleep is crucial for regulating blood sugar levels after meals, especially for seniors. The study suggests that personalized sleep recommendations may be necessary to optimize metabolic health and prevent diabetes. The research also found that sleep quality may be more important than sleep duration in regulating blood glucose levels. The authors recommend establishing a consistent bedtime routine and maximizing high-quality uninterrupted sleep as effective strategies for improving metabolic health in seniors.', 'A recent study has shown that getting enough sleep can have a positive impact on athletic performance, even for seniors. The study found that sleep duration has a positive or neutral effect on athletic performance among competitive athletes, and this may also apply to seniors who engage in physical activity. Aerobic activity is more sensitive to sleep duration compared to anaerobic activity, which means that seniors who engage in activities like walking or swimming may benefit more from getting enough sleep. Sleep extension interventions have been shown to improve accuracy in sports like tennis and basketball, while sleep deprivation can impair performance in sports like soccer and rugby. Longer-term sleep extension interventions have shown positive results, while acute sleep interventions had inconsistent results. Future research should aim to standardize tests of athletic performance and incorporate more objective sleep data. Seniors who engage in physical activity may benefit from an increase in sleep duration, which can help improve their overall athletic performance. #SeniorFitness #SleepDuration #AthleticPerformance', 'A recent study has shown that the quality and timing of your sleep can have a significant impact on how your body regulates blood sugar after a meal. This is especially important for seniors, as blood sugar regulation becomes more challenging with age. The study suggests that seniors may benefit from tailored sleep recommendations to optimize their health outcomes. It also highlights the importance of prioritizing high-quality sleep over simply getting enough hours of sleep. To improve your post-meal blood sugar levels, it may be helpful to establish a consistent bedtime routine and aim for uninterrupted, restful sleep.', 'A systematic literature review found that increasing sleep duration can have a positive impact on physical performance, even among seniors. Studies have shown that longer sleep duration can improve outcomes requiring cognitive and motor skills, which are important for seniors to maintain their independence and quality of life. Additionally, strategies to improve sleep not only the night before an important event but also in the weeks leading up to it can be beneficial for seniors looking to improve their physical performance. Seniors who prioritize sleep health may see improvements in their overall physical function and well-being. #seniorhealth #sleepduration #physicalperformance #cognitiveskills #sleephealth', \"As we age, getting enough quality sleep becomes increasingly important for our overall health and wellbeing. Did you know that insufficient sleep can impact our blood glucose control, which is a key component of diabetes prevention? A recent study found that sleep duration, quality, and midpoint are important determinants of postprandial glycaemic control in healthy adults, including seniors. This means that getting enough high-quality sleep at the right time can help improve our blood sugar levels after meals. Interestingly, the study suggests that one-size-fits-all sleep recommendations are suboptimal, and that sleep recommendations should be tailored to the individual. So, if you're a senior looking to improve your blood glucose control, consider focusing on earlier bedtime routines and maximising high-quality uninterrupted sleep.\", 'As we age, it becomes increasingly important to pay attention to our sleep habits. A recent study has shown that the quality, duration, and timing of our sleep can have a significant impact on our blood glucose levels after meals, which is a key factor in preventing diabetes. The study found that there is no one-size-fits-all recommendation for sleep, and that personalized recommendations are necessary. Additionally, the study found that the quality of our sleep is more important than the amount of time we spend sleeping in regulating blood glucose levels. This means that establishing a consistent bedtime routine and maximizing uninterrupted sleep can help improve our post-meal blood glucose levels. These findings provide valuable insights into the effects of sleep on our metabolic health and can inform lifestyle strategies for seniors to prevent diabetes.', 'Did you know that getting enough quality sleep is important for managing blood sugar levels, especially after meals? A recent study found that sleep duration, quality, and midpoint can affect postprandial glucose metabolism in healthy adults. This means that seniors should pay attention to their sleep habits and try to establish a consistent bedtime routine to improve their glycaemic control. The study also suggests that sleep quality is more important than sleep duration, so seniors should focus on getting uninterrupted, high-quality sleep. These findings may help seniors prevent diabetes and improve their overall health.', 'Did you know that getting enough quality sleep is important for regulating blood glucose levels in healthy adults, especially seniors? A recent study found that personalized sleep guidelines may be needed to improve metabolic health and prevent diabetes. The study showed that sleep quality may be more important than sleep duration in regulating glucose metabolism. Additionally, going to bed later is associated with impaired glucose response to breakfast the following morning. This means that improving sleep habits, such as earlier bedtime routines and maximizing high-quality uninterrupted sleep, may be important strategies for seniors to improve postprandial blood glucose levels.', 'Did you know that getting enough sleep can have a positive impact on your physical performance, even as a senior? A recent study found that increasing your sleep duration can improve athletic performance, and none of the reviewed studies found a negative association between sleep duration and any performance outcome. The study also found that aerobic activity is more sensitive to sleep duration compared to anaerobic activity. Interestingly, acute sleep deprivation tended to yield positive results, while longer-term sleep extension studies showed significant benefits to athletes. However, more research is needed to validate the various performance outcomes measured, especially those involving complex, team-based measures such as composite game performance scores and passing accuracy. Overall, the importance of sleep for seniors to achieve optimal physical performance varies by the cognitive and physical demands of the activity. So, make sure to prioritize getting enough sleep to stay active and healthy!', 'Exercise snacks can be a convenient and feasible way for seniors to improve their cardiorespiratory fitness and reduce the negative effects of sedentary behavior on their health. Older adults can modify the intensity and duration of exercise snacks to suit their fitness level and incorporate them into their daily routine to achieve the recommended physical activity guidelines.', 'Exercise snacks can be a great option for seniors who may have difficulty engaging in longer periods of exercise. By breaking up exercise into shorter, more manageable bouts, seniors can still reap the benefits of improved cardiometabolic health and increased cardiorespiratory fitness. Additionally, exercise snacks can be tailored to individual abilities and preferences, making them a flexible and accessible option for seniors.', 'Exercise snacks can be a great option for seniors who may have difficulty performing longer bouts of exercise. By breaking up exercise into shorter, more manageable sessions throughout the day, seniors can still reap the benefits of improved cardiorespiratory fitness and vascular health. Additionally, exercise snacks can be easily incorporated into daily routines, making it a convenient and accessible option for seniors.', 'Exercise snacks can be a great option for seniors who may have difficulty performing longer bouts of exercise. By breaking up exercise into shorter, more manageable sessions, seniors can still reap the benefits of improved cardiorespiratory fitness and exercise performance. Additionally, stair-based protocols can be easily incorporated into daily routines, making it a convenient and accessible option for seniors.', 'Exercise snacks can be a great option for seniors who may have difficulty performing longer bouts of exercise. By breaking up exercise into shorter, more manageable sessions, seniors can still reap the benefits of improved cardiorespiratory fitness and overall health. Additionally, exercise snacks can be tailored to individual abilities and preferences, making it a flexible and accessible option for seniors.', 'Exercise snacks can be a great option for seniors who may have difficulty performing traditional forms of exercise due to age-related limitations. By breaking up exercise into shorter, more manageable bouts throughout the day, seniors can still reap the benefits of improved cardiovascular health without overexerting themselves.', 'For seniors who are concerned about muscle soreness and damage following an intensive exercise routine, this study provides encouraging results. It suggests that age does not necessarily impact recovery time or fatigue levels, and that recovery interventions can still be effective in promoting perceptual measures of recovery.', 'For seniors who engage in intense squat exercise, this study suggests that they may experience similar levels of fatigue and recovery time as younger athletes. However, they may experience less post-exercise muscle soreness and peak power output. It is important to note that recovery methods should be individualized, and seniors should consult with a healthcare professional before engaging in any intense exercise program.', 'For seniors who engage in intensive exercise, this study suggests that age-related differences in muscle soreness and fatigue may be more pronounced compared to younger athletes. However, the study also found that a mixed-method recovery intervention may be beneficial for promoting recovery of perceptual measures regardless of age.', 'For seniors who regularly engage in resistance training, this study suggests that they may not experience increased muscle soreness or damage compared to younger individuals. However, it is important to note that changes in muscle performance may begin during middle age, so it is recommended that seniors continue to engage in multijoint, dynamic constant resistance exercises to maintain their muscle strength and overall fitness.', 'For seniors, exercise snacks can be a convenient and effective way to improve their cardiometabolic health without having to engage in prolonged and strenuous exercise. Incorporating simple activities such as brisk walking or chair exercises as exercise snacks throughout the day can help seniors maintain their physical function and independence.', 'For seniors, exercise snacks can be a convenient and effective way to incorporate physical activity into their daily routine. Short bouts of vigorous exercise, such as climbing stairs or doing chair squats, can improve cardiovascular health and reduce the negative effects of sedentary behavior, which is especially important for older adults who may have mobility limitations.', 'For seniors, exercise snacks can be a convenient and manageable way to incorporate physical activity into their daily routine, especially for those who may have difficulty with longer periods of exercise. Regular exercise snacks can help improve cardiovascular health, maintain muscle mass, and reduce the risk of chronic diseases such as diabetes and hypertension.', 'For seniors, exercise snacks can be a convenient and safe way to improve their cardiometabolic health. Short bouts of exercise, such as brisk walking or chair exercises, can be incorporated into their daily routine to help maintain their physical function and independence.', 'For seniors, it is important to be aware of the potential impact of stress and food cues on their food cravings and subsequent snacking habits. Understanding the role of hormones like ghrelin and cortisol can help seniors make informed decisions about their food choices and manage their weight effectively.', 'For seniors, it is important to be aware that exposure to food cues and stress can increase food cravings and snacking of highly palatable foods, which can lead to overeating and weight gain. Understanding the role of hormones like ghrelin and cortisol in food motivation and intake can help seniors make informed decisions about their diet and manage their weight effectively.', 'For seniors, it is important to be cautious when taking high doses of anti-inflammatory drugs like ibuprofen as it may compromise muscle strength and hypertrophic adaptations to resistance training. This study suggests that the negative effect of NSAIDs on muscle adaptations to resistance exercise may differ between young and elderly individuals, highlighting the need for further research in this area.', 'For seniors, it is important to note that participating in recreational resistance training can help mitigate the changes in muscle performance that may occur during middle age. This study suggests that seniors should consider incorporating resistance training into their fitness routine to maintain muscle strength and function, regardless of age.', 'For seniors, resistance training can be an effective way to maintain muscle mass and strength, which can help prevent falls and maintain independence. This study suggests that middle-aged adults who engage in resistance training can continue to do so without fear of increased soreness or muscle damage, making it a safe and effective option for seniors as well.', 'For seniors, staying hydrated is crucial as dehydration can lead to a host of health problems, including confusion, dizziness, and falls. This study highlights the importance of staying hydrated to reduce pain perception, which can be especially beneficial for seniors who may already be dealing with chronic pain.', 'For seniors, this study highlights the importance of engaging in resistance training to maintain muscle performance as they age. It also suggests that even if they start resistance training later in life, they may still be able to see benefits in terms of recovery and muscle damage response.', \"For seniors, this study suggests that participating in recreational resistance training may help maintain muscle performance and recovery response, even as they age. It's encouraging to know that age does not necessarily exacerbate the inflammatory response in recreationally trained individuals, which may motivate seniors to continue exercising regularly.\", \"Getting enough sleep is important for everyone, including seniors who want to stay active and perform well in their favorite sports or activities. A recent review of studies found that sleep duration has a positive effect on athletic performance, and there was no negative association found between sleep and performance. It's important to note that aerobic activities, like walking or swimming, are more affected by sleep duration than anaerobic activities, like weightlifting. If you're looking to improve your performance, longer-term sleep extension interventions are more likely to be effective than just getting a good night's sleep before an event. Additionally, sleep can improve tactical and technical skills in sports, but team-based sports with decision-based outcomes may suffer performance deficits after decreased sleep duration. So, if you want to perform your best, make sure to prioritize getting enough sleep not just the night before, but also in the weeks leading up to your activity.\", 'Getting enough sleep is important for everyone, including seniors. A recent review of scientific studies found that getting enough sleep can positively impact athletic performance among competitive athletes. The studies showed that longer sleep duration can improve performance outcomes, especially for activities that require technical and tactical skills. Aerobic activity is also more sensitive to sleep duration than anaerobic activity. The review also found that longer-term sleep extension interventions showed positive results, while short-term sleep deprivation may be more harmful than sleep extension is beneficial to performance. These findings suggest that increasing sleep duration can benefit seniors who want to maintain their physical abilities and overall health. However, more research is needed to determine potential adverse effects of chronic sleep loss on athletic performance among seniors.', \"Have you heard about the E-MECHANIC study? It's a recent study that looked at how different amounts of supervised exercise affect food intake, metabolism, and non-exercise physical activity. The study found that when seniors exercised, they tended to eat more to compensate for the energy they burned. This compensation happened even at lower levels of exercise. The study also found that seniors who compensated were more likely to have metabolic syndrome and reported feeling hungrier. The study suggests that if seniors want to lose weight through exercise, they should also consider making changes to their diet or taking medication.\", \"Have you heard about the E-MECHANIC study? It's a research study that looked at how exercise affects weight loss in older adults. The study found that participants who exercised actually lost less weight than expected. This was because they ended up eating more food to compensate for the extra exercise. The study also found that those who compensated were more likely to have metabolic syndrome, which is a group of conditions that increase the risk of heart disease and diabetes. The study lasted for 6 months and the participants did a great job sticking to their exercise routine.\", 'Hello seniors! Did you know that getting enough quality sleep is important for managing your blood sugar levels? A recent study found that not only is the amount of sleep you get important, but also the quality of your sleep and when you go to bed. Interestingly, the study found that a one-size-fits-all sleep recommendation may not be the best approach for everyone. The study also showed that sleep quality may be even more important than sleep duration when it comes to regulating your blood sugar. The researchers found that going to bed later is associated with impaired glucose response to breakfast the following morning. However, eating a high-fat breakfast might help mitigate the detrimental effects of poor sleep on your blood sugar levels. Overall, the study suggests that improving your sleep habits, such as having earlier bedtime routines and maximizing high-quality uninterrupted sleep, may be a lifestyle strategy to improve your blood sugar levels after meals.', 'Hello seniors! I came across a study that looked at how different amounts of exercise affect food intake, metabolism, and physical activity. The study found that participants who exercised lost less weight than expected because they ate more food to compensate for the extra energy they burned. This was especially true for those who exercised for longer periods of time. The study also showed that those who compensated were more likely to have metabolic syndrome and reported feeling hungrier. The findings suggest that if you are exercising to lose weight, it may be helpful to also make changes to your diet or consider medication to support your weight loss goals.', 'Hello! I recently came across an interesting literature review on the impact of sleep duration on performance among seniors. The study found that increasing sleep duration had a positive effect on performance or results were neutral, and none of the published studies they reviewed found a negative association between sleep duration and performance. The study also highlighted the importance of measuring sleep across the entire study period and using validated sleep quality questionnaires. It was found that aerobic activity is more sensitive to sleep duration compared to anaerobic activity, including strength testing. Overall, the review suggests that seniors may benefit from an increase in sleep duration to improve their performance and overall well-being.', 'Hey seniors! Did you know that getting enough sleep is important for your physical performance, just like it is for competitive athletes? A recent literature review found that increasing your sleep duration can have a positive effect on your physical performance, especially for activities that require aerobic endurance. Interestingly, studies that looked at longer-term changes in sleep duration showed more significant benefits than those that only looked at short-term changes. This means that consistently getting enough sleep can have a big impact on your physical abilities. Additionally, the review suggests that seniors who participate in activities that require technical skills, such as golf or dancing, may be particularly sensitive to changes in sleep and should prioritize getting enough rest. So, make sure to prioritize your sleep to keep your body performing at its best!', \"Hey seniors, did you know that taking frequent tub baths may lower the risk of cardiovascular disease (CVD) in middle-aged Japanese individuals? A recent study found that tub bathing was associated with a reduced risk of CVD, CHD, total strokes and intracerebral haemorrhage. This means that taking regular baths could potentially help prevent heart disease and stroke. The study also found that the potential beneficial effect of tub bathing on CVD events may be mediated by the reduced development of major cardiovascular risk factors, such as hypertension. So, if you're looking for a relaxing way to improve your heart health, taking a warm bath could be a great option. The typical Japanese style of bathing involves filling the tub to shoulder depth with hot water at approximately 40°C\\x9642°C. However, the study did not suggest any preferable water temperature, but further research regarding the water temperature is warranted. Overall, this is the first study to examine the long-term associations between tub bathing and CVD incidence using a large population-based cohort, and it suggests that habitual tub bathing may have a beneficial effect on the prevention of CVD.\", \"Hey seniors, did you know that taking frequent tub baths may lower your risk of cardiovascular disease? A recent study conducted on middle-aged Japanese men and women found that those who took regular tub baths had a lower risk of CVD, CHD, total strokes, and intracerebral hemorrhage. The study also found that frequent tub bathing was significantly associated with a lower risk of hypertension, which is a major risk factor for CVD. The typical Japanese style of bathing involves filling the tub to shoulder depth with hot water at approximately 40°C\\x9642°C. The study suggests that taking regular tub baths may reduce the development of major cardiovascular risk factors, leading to a potential beneficial effect on CVD events. So, if you're looking for a relaxing and potentially beneficial activity, consider taking a regular tub bath.\", \"Hey seniors, did you know that taking frequent tub baths may lower your risk of developing cardiovascular disease, coronary heart disease, and strokes? A recent study conducted in Japan over a long period of time and with a large sample size found that the typical Japanese style of bathing, which involves filling the tub to shoulder depth with hot water at approximately 40-42°C, may improve vascular function over the long term. This is the first study to specifically look at the effect of tub bathing on cardiovascular health. The study also suggests that the potential beneficial effect of tub bathing on CVD events may be due to the reduced development of major cardiovascular risk factors such as hypertension. However, it's important to note that tub bathing can cause heatstroke more frequently when the tub water temperature is too high. So, if you're a senior looking for a simple and enjoyable way to improve your cardiovascular health, consider taking frequent tub baths at a safe and comfortable temperature.\", \"Hey seniors, have you heard about the E-MECHANIC randomized controlled trial? It's a study that looked at the effects of exercise on weight loss in a 6-month program. The study found that participants who exercised at both 8 and 20 KKW (kcal/kg/week) doses compensated and lost less weight than expected. This means that they ate more food to make up for the calories they burned during exercise. The compensation was due to increased energy intake, not changes in metabolism or non-exercise physical activity. Interestingly, compensators were more likely to have metabolic syndrome and reported increased appetite and compensatory health beliefs. The study provides insight into how to reduce compensation during long-term exercise, which is important for seniors who want to maintain a healthy weight and improve their overall health.\", \"Hey seniors, have you heard about the E-MECHANIC study? It was a 6-month long study that looked at the effects of exercise on weight loss. The study found that participants who exercised actually lost less weight than expected. This was because they ended up eating more food to compensate for the extra energy they were burning. The study also found that those who compensated were more likely to have metabolic syndrome and reported feeling hungrier. It's important to keep in mind that exercise is still beneficial for overall health, but it's important to be mindful of what we eat to avoid compensating for the extra energy burned during exercise.\", \"Hey seniors, have you heard about the new study on the benefits of taking a relaxing bath? Apparently, a long-term study of middle-aged Japanese men and women found that taking frequent tub baths can lower the risk of heart disease, stroke, and high blood pressure. The typical Japanese style of bathing involves filling the tub with hot water, which has been found to have favorable effects in previous studies. The potential beneficial effects of tub bathing on heart health are believed to be similar to the impact of exercise and can improve vascular function. It's interesting that the study found a statistically significant inverse association between tub bathing and risk of heart disease, even after adjusting for socioeconomic variables. So, why not take a relaxing bath and improve your heart health at the same time?\", 'Hey seniors, have you heard about the recent study on the benefits of taking a warm bath for your heart health? A long-term study in Japan found that taking frequent warm baths was associated with a lower risk of heart disease, strokes, and bleeding in the brain. Interestingly, taking a warm bath was not associated with a higher risk of sudden cardiac death. The study also found that taking warm baths may help reduce the development of major cardiovascular risk factors such as high blood pressure. The typical Japanese style of bathing involves filling the tub to shoulder depth with hot water at approximately 40°C\\x9642°C, and the study found that water temperature did not significantly affect the association between taking warm baths and heart health. Overall, this study provides interesting insights into the potential benefits of a common cultural habit that seniors can easily incorporate into their daily routine.', \"Hey there! Did you know that getting enough sleep can have a positive impact on your physical performance, no matter your age? A recent review of scientific studies found that increasing sleep duration can improve athletic performance, and none of the studies reviewed found a negative association between sleep duration and any performance outcome. It seems that aerobic activity is more sensitive to sleep duration compared to anaerobic activity. Studies have shown that sleep deprivation can make exercise feel harder, which can affect endurance and explosive, power-based exercises. Additionally, the studies that altered sleep duration on a longer-term timescale were more likely to show an effect than those that altered sleep duration acutely. It's interesting to note that chronic sleep extension studies have demonstrated significant benefits to athletes, and this could be true for seniors as well. Overall, getting enough sleep is important for seniors to maintain their physical and cognitive abilities, no matter what activities they enjoy.\", 'Hey, did you know that getting enough good quality sleep is important for maintaining healthy blood sugar levels after meals? A recent study found that sleep duration, quality, and midpoint are all important factors. The study suggests that sleep recommendations should be tailored to the individual rather than a one-size-fits-all approach. Interestingly, the study found that sleep quality is more important than sleep duration for controlling blood sugar levels. The study also suggests that eating a high-fat breakfast may help mitigate the negative effects of poor sleep on blood sugar levels. Overall, this study provides valuable insights into the connection between sleep and metabolic health, which is especially important for seniors.', \"Hey, did you know that getting enough quality sleep and going to bed at a reasonable time can help prevent diabetes? A recent study found that sleep duration, quality, and midpoint are important factors in controlling blood sugar levels after meals. This means that following a one-size-fits-all sleep recommendation may not be the best approach for everyone, especially seniors. The study found that sleep quality is more important than sleep duration when it comes to controlling blood sugar levels. Additionally, going to bed later in the night can lead to higher blood sugar levels the next morning. So, it's important for seniors to prioritize getting enough quality sleep and going to bed at a reasonable time to maintain good metabolic health.\", \"Hey, did you know that getting enough sleep can actually improve your physical performance? A recent study found that increasing sleep duration has a positive effect on athletic performance, and none of the studies reviewed found a negative association between sleep and performance. This is especially important for seniors who want to stay active and maintain their physical abilities. Interestingly, the study found that aerobic activity is more sensitive to sleep duration compared to anaerobic activity. Additionally, for activities that require tactical and/or technical skills, most studies found benefits of sleep on performance. It's also worth noting that studies that altered sleep duration on a longer-term timescale were more likely to show an effect than those that altered sleep duration acutely. So, if you want to stay active and perform your best, make sure you're getting enough sleep!\", \"New research has found that getting enough good quality sleep is important for managing blood sugar levels after meals in healthy older adults. This means that it's not just about how long you sleep, but also the quality of your sleep and when you go to bed. The study suggests that personalized sleep recommendations may be necessary for optimal results. By improving the quality of your sleep and establishing a consistent bedtime routine, you may be able to better manage your blood sugar levels and reduce your risk of developing diabetes.\", 'New research has found that getting enough quality sleep is crucial for maintaining healthy blood sugar levels after meals, especially for seniors. The study suggests that personalized sleep guidelines are necessary to ensure optimal metabolic health and maximize the effectiveness of guidelines for diabetes prevention. The findings also suggest that a high-fat breakfast might help to mitigate the detrimental effects of poor sleep on postprandial glycaemia. To improve postprandial blood glucose levels, seniors should focus on establishing earlier bedtime routines and maximizing high-quality uninterrupted sleep. #sleephealth #metabolism #diabetesprevention #seniorhealth', 'New research has found that the quality and duration of sleep, as well as the time you go to bed, can have a significant impact on your blood sugar levels after meals. This study is the first of its kind and suggests that personalized sleep recommendations may be necessary for seniors to maintain healthy blood sugar levels. The findings may help seniors improve their sleep habits by focusing on earlier bedtimes and maximizing high-quality, uninterrupted sleep. The study was conducted on generally healthy individuals and may inform lifestyle strategies for seniors to improve their post-meal blood glucose levels.', 'These findings are particularly relevant for seniors who are interested in resistance training as a means of maintaining muscle mass and strength. The study suggests that middle-aged adults who engage in regular resistance training can continue to do so without fear of increased soreness or muscle damage, which may encourage seniors to continue with their exercise routine.', 'These findings are particularly relevant for seniors who may experience stress and food cravings due to changes in their daily routine or health conditions. Understanding the biological and behavioral factors that contribute to overeating can help seniors make informed decisions about their diet and maintain a healthy weight.', 'These findings are particularly relevant for seniors who may experience stressors related to aging, such as health issues or social isolation, which could lead to increased cravings for highly palatable foods. It is important for seniors to be aware of these potential triggers and to seek support in managing stress and maintaining a healthy diet.', 'These findings suggest that older adults may need to adjust their physical activity levels and dietary habits to maintain their metabolic rates and overall energy expenditure. This could potentially improve their overall health and well-being in their later years.', 'These findings suggest that older adults who engage in regular resistance exercise can experience similar levels of muscle soreness and damage as younger individuals. However, it is important to consult with a healthcare professional before starting any new exercise program, especially if you are a senior.', 'These findings suggest that older athletes can still maintain their physical performance and recover from exercise similarly to younger athletes. However, it is important to consider individual differences and tailor recovery interventions accordingly. This information can be useful for seniors who are interested in maintaining their physical fitness and preventing muscle soreness and damage.', 'This research is particularly relevant for seniors as they may experience higher levels of stress and have a greater susceptibility to food cravings. Understanding the hormonal mechanisms behind these cravings can help seniors make informed decisions about their diet and manage their weight more effectively.', 'This study highlights the importance of managing stress and avoiding exposure to food cues for seniors who may be struggling with overeating and weight gain. Understanding the hormonal processes involved in food motivation and intake can help seniors make informed decisions about their diet and lifestyle choices.', 'This study highlights the importance of resistance training for seniors as it may help mitigate any age-related changes in the recovery response from exercise. Engaging in regular resistance training can help seniors maintain their muscle performance and reduce muscle pain or soreness after exercise.', 'This study is particularly relevant for seniors as dehydration is a common issue among older adults, and chronic pain conditions are also prevalent in this population. Ensuring adequate hydration may help alleviate pain sensitivity and improve overall quality of life.', \"This study is particularly relevant for seniors as it suggests that participating in recreational resistance training may help mitigate any alterations in the recovery response from exercise that typically occur during middle age. This highlights the importance of incorporating resistance training into a senior's exercise routine to maintain muscle performance and aid in recovery.\", 'This study is particularly relevant for seniors as it suggests that recreational resistance training can help maintain muscle recovery in middle age, which is a crucial factor in maintaining overall health and mobility as we age. Therefore, seniors should consider incorporating resistance training into their exercise routine to help maintain their muscle recovery and overall health.', 'This study is particularly relevant for seniors as it suggests that resistance training can help maintain muscle function and recovery even as we age. By engaging in regular resistance training, seniors can potentially mitigate any age-related changes in muscle performance and maintain their physical independence for longer.', 'This study is particularly relevant for seniors as they may be more susceptible to stress and food cravings due to changes in their hormones and metabolism. Understanding the factors that contribute to overeating and weight gain can help seniors make informed decisions about their diet and lifestyle choices to maintain their health and well-being.', 'This study is particularly relevant for seniors as they may experience increased stress and changes in appetite due to aging-related factors. Understanding the hormonal and behavioral mechanisms behind food cravings can help seniors make informed decisions about their diet and manage their weight effectively.', 'This study is particularly relevant for seniors as they may face unique challenges in managing their food intake and stress levels. Understanding the role of hormones in food motivation and intake can help seniors make informed decisions about their diet and lifestyle choices to maintain a healthy weight and overall well-being.', 'This study is particularly relevant for seniors as they may face unique challenges in managing their food intake and weight. Understanding the factors that drive overeating and weight gain can help seniors make informed decisions about their diet and lifestyle choices to maintain their health and well-being.', 'This study is particularly relevant for seniors who are interested in maintaining their physical fitness and preventing muscle soreness and damage after exercise. It suggests that with proper training and conditioning, older athletes can recover just as quickly as younger athletes, which is encouraging news for seniors who want to stay active and healthy.', 'This study is particularly relevant for seniors who are interested in maintaining their physical fitness and preventing muscle soreness and damage. It suggests that master athletes, who are older athletes, do not experience higher levels of fatigue or slower recovery than younger athletes, indicating that age should not be a barrier to exercise. However, it is important to individualize recovery methods post-exercise to ensure optimal recovery.', \"This study is particularly relevant for seniors who are interested in maintaining their physical fitness and preventing muscle soreness and damage. It suggests that with regular exercise and training, older athletes can still perform at a high level and recover just as well as younger athletes. However, it's important to consult with a healthcare professional before starting any new exercise program.\", 'This study is particularly relevant for seniors who engage in intensive exercise protocols, as it suggests that age-related factors may not necessarily lead to slower recovery or higher levels of fatigue. However, it also emphasizes the importance of individualized recovery methods, which may be especially important for seniors who may have unique physical needs and limitations.', 'This study is particularly relevant for seniors who engage in intensive exercise protocols, as it suggests that age-related muscle soreness and damage may not necessarily lead to slower recovery times. However, it also highlights the importance of individualized recovery interventions for seniors, as the effectiveness of such interventions may vary among individuals.', 'This study is particularly relevant for seniors who engage in resistance exercise as it suggests that age-related declines in physical performance and muscle damage may not be as significant as previously thought. However, seniors should still be cautious when using mixed-method recovery interventions and should consult with a healthcare professional before incorporating them into their exercise routine.', 'This study is particularly relevant for seniors who engage in resistance exercise, as it suggests that age may not necessarily be a limiting factor in recovery from muscle soreness and damage. Additionally, the findings highlight the importance of individualized recovery methods, which can be especially important for seniors who may have unique physical needs and limitations.', 'This study is particularly relevant for seniors who may be taking ibuprofen for chronic pain or inflammation. It highlights the importance of discussing medication use with a healthcare provider, as high doses of ibuprofen may compromise muscle strength and hypertrophic adaptations to resistance training, which are important for maintaining mobility and independence in older adults.', 'This study provides encouraging evidence that seniors who engage in recreational resistance training may experience similar recovery responses to younger adults. This suggests that seniors can continue to benefit from resistance exercise without significant changes in their recovery response.', 'This study suggests that recreational resistance training can help seniors maintain their muscle performance as they age. It also highlights the importance of incorporating multijoint, dynamic constant resistance exercises into their workout routine for optimal results.', None]\n",
      "Unique values in AH: Column 33 (n=1):\n",
      "\t['1', None]\n"
     ]
    }
   ],
   "source": [
    "def eda(df):\n",
    "    print(f'DataFrame shape: {df.shape}')\n",
    "    print(f'Dataframe data types:\\n{df.dtypes}')\n",
    "    categorical_columns = df.select_dtypes(include=['object']).columns\n",
    "    for column in categorical_columns:\n",
    "        print(f'Unique values in {column} (n={df[column].nunique()}):')\n",
    "        print(f'\\t{[value for value in df[column].sort_values().unique()]}')\n",
    "\n",
    "eda(df)"
   ]
  },
  {
   "cell_type": "code",
   "execution_count": 38,
   "metadata": {},
   "outputs": [
    {
     "name": "stdout",
     "output_type": "stream",
     "text": [
      "\"date added\": \"A\",\n",
      "\"article\": \"B\",\n",
      "\"choice # for given prompt\": \"C\",\n",
      "\"system_role\": \"D\",\n",
      "\"model\": \"E\",\n",
      "\"text\": \"F\",\n",
      "\"prep_step\": \"G\",\n",
      "\"summarization task\": \"H\",\n",
      "\"full summarization task\": \"I\",\n",
      "\"original summary\": \"J\",\n",
      "\"original summary content rating\": \"K\",\n",
      "\"original summary language rating\": \"L\",\n",
      "\"top summary\": \"M\",\n",
      "\"simple summary choice\": \"N\",\n",
      "\"simplify audience\": \"O\",\n",
      "\"simplify task\": \"P\",\n",
      "\"full simplify task\": \"Q\",\n",
      "\"simple summary\": \"R\",\n",
      "\"simple summary content rating\": \"S\",\n",
      "\"simple summary language rating\": \"T\",\n",
      "\"top simple summary\": \"U\",\n",
      "\"add relevance task\": \"V\",\n",
      "\"full add relevance task\": \"W\",\n",
      "\"added relevance\": \"X\",\n",
      "\"added relevance content rating\": \"Y\",\n",
      "\"added relevance language rating\": \"Z\",\n",
      "\"top added relevance statement\": \"AA\",\n",
      "\"add relevance task\": \"AB\",\n",
      "\"full add relevance task\": \"AC\",\n",
      "\"added relevance\": \"AD\",\n",
      "\"added relevance content rating\": \"AE\",\n",
      "\"added relevance language rating\": \"AF\",\n",
      "\"top added relevance statement\": \"AG\",\n",
      "\"Column 33\": \"AH\",\n",
      "\"original summary ratings meet standard\": \"K\",\n",
      "\"simple summary ratings meet standard\": \"S\",\n",
      "\"added relevance ratings meet standard\": \"Y\",\n",
      "\"added relevance ratings meet standard\": \"AE\",\n"
     ]
    }
   ],
   "source": [
    "for column in df.columns:\n",
    "    split_name = column.split(':')\n",
    "    column_letter, column_name = split_name[0], split_name[1].strip()\n",
    "    print(f'\"{column_name}\": \"{column_letter}\",')"
   ]
  },
  {
   "attachments": {},
   "cell_type": "markdown",
   "metadata": {},
   "source": [
    "# Plot"
   ]
  },
  {
   "cell_type": "code",
   "execution_count": 10,
   "metadata": {},
   "outputs": [
    {
     "data": {
      "text/plain": [
       "datetime.datetime(2023, 4, 21, 0, 0)"
      ]
     },
     "execution_count": 10,
     "metadata": {},
     "output_type": "execute_result"
    }
   ],
   "source": [
    "datetime(2023, 4, 21)"
   ]
  },
  {
   "cell_type": "code",
   "execution_count": 13,
   "metadata": {},
   "outputs": [
    {
     "name": "stdout",
     "output_type": "stream",
     "text": [
      "Filtered on A: date added in ['2023-04-19']\n",
      "Results where ALL conditions are met:\n",
      "\tDataFrame indices: [54, 55, 56, 57, 58, 59, 60, 61, 62, 63, 64, 65, 66, 67, 68, 69, 70, 71, 72, 73, 74, 75, 76, 77, 78, 79, 80, 81, 82, 83, 84, 85, 86, 87, 88, 89, 90, 91, 92, 93]\n",
      "\tDataFrame shape: (40, 38)\n"
     ]
    },
    {
     "data": {
      "text/html": [
       "<div>\n",
       "<style scoped>\n",
       "    .dataframe tbody tr th:only-of-type {\n",
       "        vertical-align: middle;\n",
       "    }\n",
       "\n",
       "    .dataframe tbody tr th {\n",
       "        vertical-align: top;\n",
       "    }\n",
       "\n",
       "    .dataframe thead th {\n",
       "        text-align: right;\n",
       "    }\n",
       "</style>\n",
       "<table border=\"1\" class=\"dataframe\">\n",
       "  <thead>\n",
       "    <tr style=\"text-align: right;\">\n",
       "      <th></th>\n",
       "      <th>A: date added</th>\n",
       "      <th>B: article</th>\n",
       "      <th>C: choice # for given prompt</th>\n",
       "      <th>D: system_role</th>\n",
       "      <th>E: model</th>\n",
       "      <th>F: text</th>\n",
       "      <th>G: prep_step</th>\n",
       "      <th>H: summarization task</th>\n",
       "      <th>I: full summarization task</th>\n",
       "      <th>J: original summary</th>\n",
       "      <th>K: original summary content rating</th>\n",
       "      <th>L: original summary language rating</th>\n",
       "      <th>M: top summary</th>\n",
       "      <th>N: simple summary choice</th>\n",
       "      <th>O: simplify audience</th>\n",
       "      <th>P: simplify task</th>\n",
       "      <th>Q: full simplify task</th>\n",
       "      <th>R: simple summary</th>\n",
       "      <th>S: simple summary content rating</th>\n",
       "      <th>T: simple summary language rating</th>\n",
       "      <th>U: top simple summary</th>\n",
       "      <th>V: add relevance task</th>\n",
       "      <th>W: full add relevance task: athletes</th>\n",
       "      <th>X: added relevance: athletes</th>\n",
       "      <th>Y: added relevance content rating</th>\n",
       "      <th>Z: added relevance language rating</th>\n",
       "      <th>AA: top added relevance statement</th>\n",
       "      <th>AB: add relevance task</th>\n",
       "      <th>AC: full add relevance task: older adults</th>\n",
       "      <th>AD: added relevance: older adults</th>\n",
       "      <th>AE: added relevance content rating</th>\n",
       "      <th>AF: added relevance language rating</th>\n",
       "      <th>AG: top added relevance statement</th>\n",
       "      <th>AH: Column 33</th>\n",
       "      <th>K: original summary ratings meet standard</th>\n",
       "      <th>S: simple summary ratings meet standard</th>\n",
       "      <th>Y: added relevance ratings meet standard</th>\n",
       "      <th>AE: added relevance ratings meet standard</th>\n",
       "    </tr>\n",
       "  </thead>\n",
       "  <tbody>\n",
       "    <tr>\n",
       "      <th>54</th>\n",
       "      <td>2023-04-19</td>\n",
       "      <td>Comparisons in the Recovery Response From Resi...</td>\n",
       "      <td>1</td>\n",
       "      <td>You are an expert at science communication.</td>\n",
       "      <td>gpt-3.5-turbo</td>\n",
       "      <td>Comparisons in the Recovery Response From Resi...</td>\n",
       "      <td>Take the key points and numerical descriptors to</td>\n",
       "      <td>Summarize for a LinkedIn post</td>\n",
       "      <td>Take the key points and numerical descriptors ...</td>\n",
       "      <td>A study found no differences in recovery respo...</td>\n",
       "      <td>2.0</td>\n",
       "      <td>4.0</td>\n",
       "      <td>NaN</td>\n",
       "      <td>1</td>\n",
       "      <td>a lay audience</td>\n",
       "      <td>Use language appropriate for</td>\n",
       "      <td>Use language appropriate for for a lay audience</td>\n",
       "      <td>A recent study found that middle-aged men who ...</td>\n",
       "      <td>2.0</td>\n",
       "      <td>4.0</td>\n",
       "      <td>NaN</td>\n",
       "      <td>Add 1-2 sentences to make this relevant for</td>\n",
       "      <td>Add 1-2 sentences to make this relevant for pe...</td>\n",
       "      <td>This study is great news for middle-aged athle...</td>\n",
       "      <td>3.0</td>\n",
       "      <td>4.0</td>\n",
       "      <td>NaN</td>\n",
       "      <td>Add 1-2 sentences to make this relevant for</td>\n",
       "      <td>Add 1-2 sentences to make this relevant for se...</td>\n",
       "      <td>For seniors who regularly engage in resistance...</td>\n",
       "      <td>3.0</td>\n",
       "      <td>4.0</td>\n",
       "      <td>NaN</td>\n",
       "      <td>None</td>\n",
       "      <td>0</td>\n",
       "      <td>0</td>\n",
       "      <td>0</td>\n",
       "      <td>0</td>\n",
       "    </tr>\n",
       "    <tr>\n",
       "      <th>55</th>\n",
       "      <td>2023-04-19</td>\n",
       "      <td>Comparisons in the Recovery Response From Resi...</td>\n",
       "      <td>1</td>\n",
       "      <td>You are an expert at science communication.</td>\n",
       "      <td>gpt-3.5-turbo</td>\n",
       "      <td>Comparisons in the Recovery Response From Resi...</td>\n",
       "      <td>Take the key points and numerical descriptors to</td>\n",
       "      <td>Summarize for a LinkedIn post</td>\n",
       "      <td>Take the key points and numerical descriptors ...</td>\n",
       "      <td>A study found no differences in recovery respo...</td>\n",
       "      <td>NaN</td>\n",
       "      <td>NaN</td>\n",
       "      <td>NaN</td>\n",
       "      <td>1</td>\n",
       "      <td>people without a science background</td>\n",
       "      <td>Use language appropriate for</td>\n",
       "      <td>Use language appropriate for for people withou...</td>\n",
       "      <td>A recent study found that middle-aged men who ...</td>\n",
       "      <td>2.0</td>\n",
       "      <td>4.0</td>\n",
       "      <td>NaN</td>\n",
       "      <td>Add 1-2 sentences to make this relevant for</td>\n",
       "      <td>Add 1-2 sentences to make this relevant for pe...</td>\n",
       "      <td>This study is great news for middle-aged athle...</td>\n",
       "      <td>NaN</td>\n",
       "      <td>NaN</td>\n",
       "      <td>NaN</td>\n",
       "      <td>Add 1-2 sentences to make this relevant for</td>\n",
       "      <td>Add 1-2 sentences to make this relevant for se...</td>\n",
       "      <td>For seniors who regularly engage in resistance...</td>\n",
       "      <td>NaN</td>\n",
       "      <td>NaN</td>\n",
       "      <td>NaN</td>\n",
       "      <td>None</td>\n",
       "      <td>0</td>\n",
       "      <td>0</td>\n",
       "      <td>0</td>\n",
       "      <td>0</td>\n",
       "    </tr>\n",
       "    <tr>\n",
       "      <th>56</th>\n",
       "      <td>2023-04-19</td>\n",
       "      <td>Comparisons in the Recovery Response From Resi...</td>\n",
       "      <td>2</td>\n",
       "      <td>You are an expert at science communication.</td>\n",
       "      <td>gpt-3.5-turbo</td>\n",
       "      <td>Comparisons in the Recovery Response From Resi...</td>\n",
       "      <td>Take the key points and numerical descriptors to</td>\n",
       "      <td>Summarize for a LinkedIn post</td>\n",
       "      <td>Take the key points and numerical descriptors ...</td>\n",
       "      <td>A recent study found no differences in recover...</td>\n",
       "      <td>2.0</td>\n",
       "      <td>4.0</td>\n",
       "      <td>NaN</td>\n",
       "      <td>1</td>\n",
       "      <td>a lay audience</td>\n",
       "      <td>Use language appropriate for</td>\n",
       "      <td>Use language appropriate for for a lay audience</td>\n",
       "      <td>A new study found that young and middle-aged m...</td>\n",
       "      <td>2.0</td>\n",
       "      <td>4.0</td>\n",
       "      <td>NaN</td>\n",
       "      <td>Add 1-2 sentences to make this relevant for</td>\n",
       "      <td>Add 1-2 sentences to make this relevant for pe...</td>\n",
       "      <td>For sports enthusiasts, this study highlights ...</td>\n",
       "      <td>2.0</td>\n",
       "      <td>4.0</td>\n",
       "      <td>NaN</td>\n",
       "      <td>Add 1-2 sentences to make this relevant for</td>\n",
       "      <td>Add 1-2 sentences to make this relevant for se...</td>\n",
       "      <td>For seniors, this study highlights the importa...</td>\n",
       "      <td>1.0</td>\n",
       "      <td>4.0</td>\n",
       "      <td>NaN</td>\n",
       "      <td>None</td>\n",
       "      <td>0</td>\n",
       "      <td>0</td>\n",
       "      <td>0</td>\n",
       "      <td>0</td>\n",
       "    </tr>\n",
       "    <tr>\n",
       "      <th>57</th>\n",
       "      <td>2023-04-19</td>\n",
       "      <td>Comparisons in the Recovery Response From Resi...</td>\n",
       "      <td>2</td>\n",
       "      <td>You are an expert at science communication.</td>\n",
       "      <td>gpt-3.5-turbo</td>\n",
       "      <td>Comparisons in the Recovery Response From Resi...</td>\n",
       "      <td>Take the key points and numerical descriptors to</td>\n",
       "      <td>Summarize for a LinkedIn post</td>\n",
       "      <td>Take the key points and numerical descriptors ...</td>\n",
       "      <td>A recent study found no differences in recover...</td>\n",
       "      <td>NaN</td>\n",
       "      <td>NaN</td>\n",
       "      <td>NaN</td>\n",
       "      <td>1</td>\n",
       "      <td>people without a science background</td>\n",
       "      <td>Use language appropriate for</td>\n",
       "      <td>Use language appropriate for for people withou...</td>\n",
       "      <td>A new study found that young and middle-aged m...</td>\n",
       "      <td>2.0</td>\n",
       "      <td>4.0</td>\n",
       "      <td>NaN</td>\n",
       "      <td>Add 1-2 sentences to make this relevant for</td>\n",
       "      <td>Add 1-2 sentences to make this relevant for pe...</td>\n",
       "      <td>For sports enthusiasts, this study highlights ...</td>\n",
       "      <td>NaN</td>\n",
       "      <td>NaN</td>\n",
       "      <td>NaN</td>\n",
       "      <td>Add 1-2 sentences to make this relevant for</td>\n",
       "      <td>Add 1-2 sentences to make this relevant for se...</td>\n",
       "      <td>For seniors, this study highlights the importa...</td>\n",
       "      <td>NaN</td>\n",
       "      <td>NaN</td>\n",
       "      <td>NaN</td>\n",
       "      <td>None</td>\n",
       "      <td>0</td>\n",
       "      <td>0</td>\n",
       "      <td>0</td>\n",
       "      <td>0</td>\n",
       "    </tr>\n",
       "    <tr>\n",
       "      <th>58</th>\n",
       "      <td>2023-04-19</td>\n",
       "      <td>Comparisons in the Recovery Response From Resi...</td>\n",
       "      <td>3</td>\n",
       "      <td>You are an expert at science communication.</td>\n",
       "      <td>gpt-3.5-turbo</td>\n",
       "      <td>Comparisons in the Recovery Response From Resi...</td>\n",
       "      <td>Take the key points and numerical descriptors to</td>\n",
       "      <td>Summarize for a LinkedIn post</td>\n",
       "      <td>Take the key points and numerical descriptors ...</td>\n",
       "      <td>A study comparing young and middle-aged men in...</td>\n",
       "      <td>4.0</td>\n",
       "      <td>4.0</td>\n",
       "      <td>NaN</td>\n",
       "      <td>1</td>\n",
       "      <td>a lay audience</td>\n",
       "      <td>Use language appropriate for</td>\n",
       "      <td>Use language appropriate for for a lay audience</td>\n",
       "      <td>A recent study looked at how young and middle-...</td>\n",
       "      <td>3.0</td>\n",
       "      <td>4.0</td>\n",
       "      <td>NaN</td>\n",
       "      <td>Add 1-2 sentences to make this relevant for</td>\n",
       "      <td>Add 1-2 sentences to make this relevant for pe...</td>\n",
       "      <td>For sports enthusiasts, this study suggests th...</td>\n",
       "      <td>4.0</td>\n",
       "      <td>4.0</td>\n",
       "      <td>1.0</td>\n",
       "      <td>Add 1-2 sentences to make this relevant for</td>\n",
       "      <td>Add 1-2 sentences to make this relevant for se...</td>\n",
       "      <td>This study is particularly relevant for senior...</td>\n",
       "      <td>1.0</td>\n",
       "      <td>4.0</td>\n",
       "      <td>NaN</td>\n",
       "      <td>None</td>\n",
       "      <td>1</td>\n",
       "      <td>0</td>\n",
       "      <td>1</td>\n",
       "      <td>0</td>\n",
       "    </tr>\n",
       "    <tr>\n",
       "      <th>...</th>\n",
       "      <td>...</td>\n",
       "      <td>...</td>\n",
       "      <td>...</td>\n",
       "      <td>...</td>\n",
       "      <td>...</td>\n",
       "      <td>...</td>\n",
       "      <td>...</td>\n",
       "      <td>...</td>\n",
       "      <td>...</td>\n",
       "      <td>...</td>\n",
       "      <td>...</td>\n",
       "      <td>...</td>\n",
       "      <td>...</td>\n",
       "      <td>...</td>\n",
       "      <td>...</td>\n",
       "      <td>...</td>\n",
       "      <td>...</td>\n",
       "      <td>...</td>\n",
       "      <td>...</td>\n",
       "      <td>...</td>\n",
       "      <td>...</td>\n",
       "      <td>...</td>\n",
       "      <td>...</td>\n",
       "      <td>...</td>\n",
       "      <td>...</td>\n",
       "      <td>...</td>\n",
       "      <td>...</td>\n",
       "      <td>...</td>\n",
       "      <td>...</td>\n",
       "      <td>...</td>\n",
       "      <td>...</td>\n",
       "      <td>...</td>\n",
       "      <td>...</td>\n",
       "      <td>...</td>\n",
       "      <td>...</td>\n",
       "      <td>...</td>\n",
       "      <td>...</td>\n",
       "      <td>...</td>\n",
       "    </tr>\n",
       "    <tr>\n",
       "      <th>89</th>\n",
       "      <td>2023-04-19</td>\n",
       "      <td>Recovery From Eccentric Squat Exercise in Resi...</td>\n",
       "      <td>3</td>\n",
       "      <td>You are an expert at science communication.</td>\n",
       "      <td>gpt-3.5-turbo</td>\n",
       "      <td>Recovery From Eccentric Squat Exercise in Resi...</td>\n",
       "      <td>Take the key points and numerical descriptors to</td>\n",
       "      <td>Describe the interesting points to your cowork...</td>\n",
       "      <td>Take the key points and numerical descriptors ...</td>\n",
       "      <td>Hey, did you know that a recent study investig...</td>\n",
       "      <td>NaN</td>\n",
       "      <td>NaN</td>\n",
       "      <td>NaN</td>\n",
       "      <td>1</td>\n",
       "      <td>people without a science background</td>\n",
       "      <td>Use language appropriate for</td>\n",
       "      <td>Use language appropriate for for people withou...</td>\n",
       "      <td>Did you know that scientists recently studied ...</td>\n",
       "      <td>1.0</td>\n",
       "      <td>2.0</td>\n",
       "      <td>NaN</td>\n",
       "      <td>Add 1-2 sentences to make this relevant for</td>\n",
       "      <td>Add 1-2 sentences to make this relevant for pe...</td>\n",
       "      <td>This study is particularly relevant for athlet...</td>\n",
       "      <td>NaN</td>\n",
       "      <td>NaN</td>\n",
       "      <td>NaN</td>\n",
       "      <td>Add 1-2 sentences to make this relevant for</td>\n",
       "      <td>Add 1-2 sentences to make this relevant for se...</td>\n",
       "      <td>For seniors who engage in intensive exercise, ...</td>\n",
       "      <td>NaN</td>\n",
       "      <td>NaN</td>\n",
       "      <td>NaN</td>\n",
       "      <td>None</td>\n",
       "      <td>0</td>\n",
       "      <td>0</td>\n",
       "      <td>0</td>\n",
       "      <td>0</td>\n",
       "    </tr>\n",
       "    <tr>\n",
       "      <th>90</th>\n",
       "      <td>2023-04-19</td>\n",
       "      <td>Recovery From Eccentric Squat Exercise in Resi...</td>\n",
       "      <td>4</td>\n",
       "      <td>You are an expert at science communication.</td>\n",
       "      <td>gpt-3.5-turbo</td>\n",
       "      <td>Recovery From Eccentric Squat Exercise in Resi...</td>\n",
       "      <td>Take the key points and numerical descriptors to</td>\n",
       "      <td>Describe the interesting points to your cowork...</td>\n",
       "      <td>Take the key points and numerical descriptors ...</td>\n",
       "      <td>Hey, did you know that a recent study looked a...</td>\n",
       "      <td>2.0</td>\n",
       "      <td>4.0</td>\n",
       "      <td>NaN</td>\n",
       "      <td>1</td>\n",
       "      <td>a lay audience</td>\n",
       "      <td>Use language appropriate for</td>\n",
       "      <td>Use language appropriate for for a lay audience</td>\n",
       "      <td>Did you know that a recent study looked at how...</td>\n",
       "      <td>1.0</td>\n",
       "      <td>2.0</td>\n",
       "      <td>NaN</td>\n",
       "      <td>Add 1-2 sentences to make this relevant for</td>\n",
       "      <td>Add 1-2 sentences to make this relevant for pe...</td>\n",
       "      <td>This study provides valuable insights for athl...</td>\n",
       "      <td>0.0</td>\n",
       "      <td>4.0</td>\n",
       "      <td>NaN</td>\n",
       "      <td>Add 1-2 sentences to make this relevant for</td>\n",
       "      <td>Add 1-2 sentences to make this relevant for se...</td>\n",
       "      <td>This study is particularly relevant for senior...</td>\n",
       "      <td>3.0</td>\n",
       "      <td>4.0</td>\n",
       "      <td>NaN</td>\n",
       "      <td>None</td>\n",
       "      <td>0</td>\n",
       "      <td>0</td>\n",
       "      <td>0</td>\n",
       "      <td>0</td>\n",
       "    </tr>\n",
       "    <tr>\n",
       "      <th>91</th>\n",
       "      <td>2023-04-19</td>\n",
       "      <td>Recovery From Eccentric Squat Exercise in Resi...</td>\n",
       "      <td>4</td>\n",
       "      <td>You are an expert at science communication.</td>\n",
       "      <td>gpt-3.5-turbo</td>\n",
       "      <td>Recovery From Eccentric Squat Exercise in Resi...</td>\n",
       "      <td>Take the key points and numerical descriptors to</td>\n",
       "      <td>Describe the interesting points to your cowork...</td>\n",
       "      <td>Take the key points and numerical descriptors ...</td>\n",
       "      <td>Hey, did you know that a recent study looked a...</td>\n",
       "      <td>NaN</td>\n",
       "      <td>NaN</td>\n",
       "      <td>NaN</td>\n",
       "      <td>1</td>\n",
       "      <td>people without a science background</td>\n",
       "      <td>Use language appropriate for</td>\n",
       "      <td>Use language appropriate for for people withou...</td>\n",
       "      <td>Hey there! Did you know that scientists recent...</td>\n",
       "      <td>2.0</td>\n",
       "      <td>4.0</td>\n",
       "      <td>NaN</td>\n",
       "      <td>Add 1-2 sentences to make this relevant for</td>\n",
       "      <td>Add 1-2 sentences to make this relevant for pe...</td>\n",
       "      <td>This study provides valuable insights for athl...</td>\n",
       "      <td>NaN</td>\n",
       "      <td>NaN</td>\n",
       "      <td>NaN</td>\n",
       "      <td>Add 1-2 sentences to make this relevant for</td>\n",
       "      <td>Add 1-2 sentences to make this relevant for se...</td>\n",
       "      <td>This study is particularly relevant for senior...</td>\n",
       "      <td>NaN</td>\n",
       "      <td>NaN</td>\n",
       "      <td>NaN</td>\n",
       "      <td>None</td>\n",
       "      <td>0</td>\n",
       "      <td>0</td>\n",
       "      <td>0</td>\n",
       "      <td>0</td>\n",
       "    </tr>\n",
       "    <tr>\n",
       "      <th>92</th>\n",
       "      <td>2023-04-19</td>\n",
       "      <td>Recovery From Eccentric Squat Exercise in Resi...</td>\n",
       "      <td>5</td>\n",
       "      <td>You are an expert at science communication.</td>\n",
       "      <td>gpt-3.5-turbo</td>\n",
       "      <td>Recovery From Eccentric Squat Exercise in Resi...</td>\n",
       "      <td>Take the key points and numerical descriptors to</td>\n",
       "      <td>Describe the interesting points to your cowork...</td>\n",
       "      <td>Take the key points and numerical descriptors ...</td>\n",
       "      <td>Hey! I read an interesting study about muscle ...</td>\n",
       "      <td>2.0</td>\n",
       "      <td>4.0</td>\n",
       "      <td>NaN</td>\n",
       "      <td>1</td>\n",
       "      <td>a lay audience</td>\n",
       "      <td>Use language appropriate for</td>\n",
       "      <td>Use language appropriate for for a lay audience</td>\n",
       "      <td>Hey there! I came across an interesting study ...</td>\n",
       "      <td>2.0</td>\n",
       "      <td>4.0</td>\n",
       "      <td>NaN</td>\n",
       "      <td>Add 1-2 sentences to make this relevant for</td>\n",
       "      <td>Add 1-2 sentences to make this relevant for pe...</td>\n",
       "      <td>This study provides valuable insights for athl...</td>\n",
       "      <td>0.0</td>\n",
       "      <td>4.0</td>\n",
       "      <td>NaN</td>\n",
       "      <td>Add 1-2 sentences to make this relevant for</td>\n",
       "      <td>Add 1-2 sentences to make this relevant for se...</td>\n",
       "      <td>For seniors who engage in intense squat exerci...</td>\n",
       "      <td>2.0</td>\n",
       "      <td>4.0</td>\n",
       "      <td>NaN</td>\n",
       "      <td>None</td>\n",
       "      <td>0</td>\n",
       "      <td>0</td>\n",
       "      <td>0</td>\n",
       "      <td>0</td>\n",
       "    </tr>\n",
       "    <tr>\n",
       "      <th>93</th>\n",
       "      <td>2023-04-19</td>\n",
       "      <td>Recovery From Eccentric Squat Exercise in Resi...</td>\n",
       "      <td>5</td>\n",
       "      <td>You are an expert at science communication.</td>\n",
       "      <td>gpt-3.5-turbo</td>\n",
       "      <td>Recovery From Eccentric Squat Exercise in Resi...</td>\n",
       "      <td>Take the key points and numerical descriptors to</td>\n",
       "      <td>Describe the interesting points to your cowork...</td>\n",
       "      <td>Take the key points and numerical descriptors ...</td>\n",
       "      <td>Hey! I read an interesting study about muscle ...</td>\n",
       "      <td>NaN</td>\n",
       "      <td>NaN</td>\n",
       "      <td>NaN</td>\n",
       "      <td>1</td>\n",
       "      <td>people without a science background</td>\n",
       "      <td>Use language appropriate for</td>\n",
       "      <td>Use language appropriate for for people withou...</td>\n",
       "      <td>Hey there! I came across an interesting study ...</td>\n",
       "      <td>2.0</td>\n",
       "      <td>4.0</td>\n",
       "      <td>NaN</td>\n",
       "      <td>Add 1-2 sentences to make this relevant for</td>\n",
       "      <td>Add 1-2 sentences to make this relevant for pe...</td>\n",
       "      <td>This study provides valuable insights for athl...</td>\n",
       "      <td>NaN</td>\n",
       "      <td>NaN</td>\n",
       "      <td>NaN</td>\n",
       "      <td>Write this so it is relevant for</td>\n",
       "      <td>Write this so it is relevant for seniors</td>\n",
       "      <td>For seniors who engage in intense squat exerci...</td>\n",
       "      <td>NaN</td>\n",
       "      <td>NaN</td>\n",
       "      <td>NaN</td>\n",
       "      <td>None</td>\n",
       "      <td>0</td>\n",
       "      <td>0</td>\n",
       "      <td>0</td>\n",
       "      <td>0</td>\n",
       "    </tr>\n",
       "  </tbody>\n",
       "</table>\n",
       "<p>40 rows × 38 columns</p>\n",
       "</div>"
      ],
      "text/plain": [
       "   A: date added                                         B: article  \\\n",
       "54    2023-04-19  Comparisons in the Recovery Response From Resi...   \n",
       "55    2023-04-19  Comparisons in the Recovery Response From Resi...   \n",
       "56    2023-04-19  Comparisons in the Recovery Response From Resi...   \n",
       "57    2023-04-19  Comparisons in the Recovery Response From Resi...   \n",
       "58    2023-04-19  Comparisons in the Recovery Response From Resi...   \n",
       "..           ...                                                ...   \n",
       "89    2023-04-19  Recovery From Eccentric Squat Exercise in Resi...   \n",
       "90    2023-04-19  Recovery From Eccentric Squat Exercise in Resi...   \n",
       "91    2023-04-19  Recovery From Eccentric Squat Exercise in Resi...   \n",
       "92    2023-04-19  Recovery From Eccentric Squat Exercise in Resi...   \n",
       "93    2023-04-19  Recovery From Eccentric Squat Exercise in Resi...   \n",
       "\n",
       "   C: choice # for given prompt                               D: system_role  \\\n",
       "54                            1  You are an expert at science communication.   \n",
       "55                            1  You are an expert at science communication.   \n",
       "56                            2  You are an expert at science communication.   \n",
       "57                            2  You are an expert at science communication.   \n",
       "58                            3  You are an expert at science communication.   \n",
       "..                          ...                                          ...   \n",
       "89                            3  You are an expert at science communication.   \n",
       "90                            4  You are an expert at science communication.   \n",
       "91                            4  You are an expert at science communication.   \n",
       "92                            5  You are an expert at science communication.   \n",
       "93                            5  You are an expert at science communication.   \n",
       "\n",
       "         E: model                                            F: text  \\\n",
       "54  gpt-3.5-turbo  Comparisons in the Recovery Response From Resi...   \n",
       "55  gpt-3.5-turbo  Comparisons in the Recovery Response From Resi...   \n",
       "56  gpt-3.5-turbo  Comparisons in the Recovery Response From Resi...   \n",
       "57  gpt-3.5-turbo  Comparisons in the Recovery Response From Resi...   \n",
       "58  gpt-3.5-turbo  Comparisons in the Recovery Response From Resi...   \n",
       "..            ...                                                ...   \n",
       "89  gpt-3.5-turbo  Recovery From Eccentric Squat Exercise in Resi...   \n",
       "90  gpt-3.5-turbo  Recovery From Eccentric Squat Exercise in Resi...   \n",
       "91  gpt-3.5-turbo  Recovery From Eccentric Squat Exercise in Resi...   \n",
       "92  gpt-3.5-turbo  Recovery From Eccentric Squat Exercise in Resi...   \n",
       "93  gpt-3.5-turbo  Recovery From Eccentric Squat Exercise in Resi...   \n",
       "\n",
       "                                        G: prep_step  \\\n",
       "54  Take the key points and numerical descriptors to   \n",
       "55  Take the key points and numerical descriptors to   \n",
       "56  Take the key points and numerical descriptors to   \n",
       "57  Take the key points and numerical descriptors to   \n",
       "58  Take the key points and numerical descriptors to   \n",
       "..                                               ...   \n",
       "89  Take the key points and numerical descriptors to   \n",
       "90  Take the key points and numerical descriptors to   \n",
       "91  Take the key points and numerical descriptors to   \n",
       "92  Take the key points and numerical descriptors to   \n",
       "93  Take the key points and numerical descriptors to   \n",
       "\n",
       "                                H: summarization task  \\\n",
       "54                      Summarize for a LinkedIn post   \n",
       "55                      Summarize for a LinkedIn post   \n",
       "56                      Summarize for a LinkedIn post   \n",
       "57                      Summarize for a LinkedIn post   \n",
       "58                      Summarize for a LinkedIn post   \n",
       "..                                                ...   \n",
       "89  Describe the interesting points to your cowork...   \n",
       "90  Describe the interesting points to your cowork...   \n",
       "91  Describe the interesting points to your cowork...   \n",
       "92  Describe the interesting points to your cowork...   \n",
       "93  Describe the interesting points to your cowork...   \n",
       "\n",
       "                           I: full summarization task  \\\n",
       "54  Take the key points and numerical descriptors ...   \n",
       "55  Take the key points and numerical descriptors ...   \n",
       "56  Take the key points and numerical descriptors ...   \n",
       "57  Take the key points and numerical descriptors ...   \n",
       "58  Take the key points and numerical descriptors ...   \n",
       "..                                                ...   \n",
       "89  Take the key points and numerical descriptors ...   \n",
       "90  Take the key points and numerical descriptors ...   \n",
       "91  Take the key points and numerical descriptors ...   \n",
       "92  Take the key points and numerical descriptors ...   \n",
       "93  Take the key points and numerical descriptors ...   \n",
       "\n",
       "                                  J: original summary  \\\n",
       "54  A study found no differences in recovery respo...   \n",
       "55  A study found no differences in recovery respo...   \n",
       "56  A recent study found no differences in recover...   \n",
       "57  A recent study found no differences in recover...   \n",
       "58  A study comparing young and middle-aged men in...   \n",
       "..                                                ...   \n",
       "89  Hey, did you know that a recent study investig...   \n",
       "90  Hey, did you know that a recent study looked a...   \n",
       "91  Hey, did you know that a recent study looked a...   \n",
       "92  Hey! I read an interesting study about muscle ...   \n",
       "93  Hey! I read an interesting study about muscle ...   \n",
       "\n",
       "    K: original summary content rating  L: original summary language rating  \\\n",
       "54                                 2.0                                  4.0   \n",
       "55                                 NaN                                  NaN   \n",
       "56                                 2.0                                  4.0   \n",
       "57                                 NaN                                  NaN   \n",
       "58                                 4.0                                  4.0   \n",
       "..                                 ...                                  ...   \n",
       "89                                 NaN                                  NaN   \n",
       "90                                 2.0                                  4.0   \n",
       "91                                 NaN                                  NaN   \n",
       "92                                 2.0                                  4.0   \n",
       "93                                 NaN                                  NaN   \n",
       "\n",
       "    M: top summary N: simple summary choice  \\\n",
       "54             NaN                        1   \n",
       "55             NaN                        1   \n",
       "56             NaN                        1   \n",
       "57             NaN                        1   \n",
       "58             NaN                        1   \n",
       "..             ...                      ...   \n",
       "89             NaN                        1   \n",
       "90             NaN                        1   \n",
       "91             NaN                        1   \n",
       "92             NaN                        1   \n",
       "93             NaN                        1   \n",
       "\n",
       "                   O: simplify audience              P: simplify task  \\\n",
       "54                       a lay audience  Use language appropriate for   \n",
       "55  people without a science background  Use language appropriate for   \n",
       "56                       a lay audience  Use language appropriate for   \n",
       "57  people without a science background  Use language appropriate for   \n",
       "58                       a lay audience  Use language appropriate for   \n",
       "..                                  ...                           ...   \n",
       "89  people without a science background  Use language appropriate for   \n",
       "90                       a lay audience  Use language appropriate for   \n",
       "91  people without a science background  Use language appropriate for   \n",
       "92                       a lay audience  Use language appropriate for   \n",
       "93  people without a science background  Use language appropriate for   \n",
       "\n",
       "                                Q: full simplify task  \\\n",
       "54    Use language appropriate for for a lay audience   \n",
       "55  Use language appropriate for for people withou...   \n",
       "56    Use language appropriate for for a lay audience   \n",
       "57  Use language appropriate for for people withou...   \n",
       "58    Use language appropriate for for a lay audience   \n",
       "..                                                ...   \n",
       "89  Use language appropriate for for people withou...   \n",
       "90    Use language appropriate for for a lay audience   \n",
       "91  Use language appropriate for for people withou...   \n",
       "92    Use language appropriate for for a lay audience   \n",
       "93  Use language appropriate for for people withou...   \n",
       "\n",
       "                                    R: simple summary  \\\n",
       "54  A recent study found that middle-aged men who ...   \n",
       "55  A recent study found that middle-aged men who ...   \n",
       "56  A new study found that young and middle-aged m...   \n",
       "57  A new study found that young and middle-aged m...   \n",
       "58  A recent study looked at how young and middle-...   \n",
       "..                                                ...   \n",
       "89  Did you know that scientists recently studied ...   \n",
       "90  Did you know that a recent study looked at how...   \n",
       "91  Hey there! Did you know that scientists recent...   \n",
       "92  Hey there! I came across an interesting study ...   \n",
       "93  Hey there! I came across an interesting study ...   \n",
       "\n",
       "    S: simple summary content rating  T: simple summary language rating  \\\n",
       "54                               2.0                                4.0   \n",
       "55                               2.0                                4.0   \n",
       "56                               2.0                                4.0   \n",
       "57                               2.0                                4.0   \n",
       "58                               3.0                                4.0   \n",
       "..                               ...                                ...   \n",
       "89                               1.0                                2.0   \n",
       "90                               1.0                                2.0   \n",
       "91                               2.0                                4.0   \n",
       "92                               2.0                                4.0   \n",
       "93                               2.0                                4.0   \n",
       "\n",
       "    U: top simple summary                        V: add relevance task  \\\n",
       "54                    NaN  Add 1-2 sentences to make this relevant for   \n",
       "55                    NaN  Add 1-2 sentences to make this relevant for   \n",
       "56                    NaN  Add 1-2 sentences to make this relevant for   \n",
       "57                    NaN  Add 1-2 sentences to make this relevant for   \n",
       "58                    NaN  Add 1-2 sentences to make this relevant for   \n",
       "..                    ...                                          ...   \n",
       "89                    NaN  Add 1-2 sentences to make this relevant for   \n",
       "90                    NaN  Add 1-2 sentences to make this relevant for   \n",
       "91                    NaN  Add 1-2 sentences to make this relevant for   \n",
       "92                    NaN  Add 1-2 sentences to make this relevant for   \n",
       "93                    NaN  Add 1-2 sentences to make this relevant for   \n",
       "\n",
       "                 W: full add relevance task: athletes  \\\n",
       "54  Add 1-2 sentences to make this relevant for pe...   \n",
       "55  Add 1-2 sentences to make this relevant for pe...   \n",
       "56  Add 1-2 sentences to make this relevant for pe...   \n",
       "57  Add 1-2 sentences to make this relevant for pe...   \n",
       "58  Add 1-2 sentences to make this relevant for pe...   \n",
       "..                                                ...   \n",
       "89  Add 1-2 sentences to make this relevant for pe...   \n",
       "90  Add 1-2 sentences to make this relevant for pe...   \n",
       "91  Add 1-2 sentences to make this relevant for pe...   \n",
       "92  Add 1-2 sentences to make this relevant for pe...   \n",
       "93  Add 1-2 sentences to make this relevant for pe...   \n",
       "\n",
       "                         X: added relevance: athletes  \\\n",
       "54  This study is great news for middle-aged athle...   \n",
       "55  This study is great news for middle-aged athle...   \n",
       "56  For sports enthusiasts, this study highlights ...   \n",
       "57  For sports enthusiasts, this study highlights ...   \n",
       "58  For sports enthusiasts, this study suggests th...   \n",
       "..                                                ...   \n",
       "89  This study is particularly relevant for athlet...   \n",
       "90  This study provides valuable insights for athl...   \n",
       "91  This study provides valuable insights for athl...   \n",
       "92  This study provides valuable insights for athl...   \n",
       "93  This study provides valuable insights for athl...   \n",
       "\n",
       "    Y: added relevance content rating  Z: added relevance language rating  \\\n",
       "54                                3.0                                 4.0   \n",
       "55                                NaN                                 NaN   \n",
       "56                                2.0                                 4.0   \n",
       "57                                NaN                                 NaN   \n",
       "58                                4.0                                 4.0   \n",
       "..                                ...                                 ...   \n",
       "89                                NaN                                 NaN   \n",
       "90                                0.0                                 4.0   \n",
       "91                                NaN                                 NaN   \n",
       "92                                0.0                                 4.0   \n",
       "93                                NaN                                 NaN   \n",
       "\n",
       "    AA: top added relevance statement  \\\n",
       "54                                NaN   \n",
       "55                                NaN   \n",
       "56                                NaN   \n",
       "57                                NaN   \n",
       "58                                1.0   \n",
       "..                                ...   \n",
       "89                                NaN   \n",
       "90                                NaN   \n",
       "91                                NaN   \n",
       "92                                NaN   \n",
       "93                                NaN   \n",
       "\n",
       "                         AB: add relevance task  \\\n",
       "54  Add 1-2 sentences to make this relevant for   \n",
       "55  Add 1-2 sentences to make this relevant for   \n",
       "56  Add 1-2 sentences to make this relevant for   \n",
       "57  Add 1-2 sentences to make this relevant for   \n",
       "58  Add 1-2 sentences to make this relevant for   \n",
       "..                                          ...   \n",
       "89  Add 1-2 sentences to make this relevant for   \n",
       "90  Add 1-2 sentences to make this relevant for   \n",
       "91  Add 1-2 sentences to make this relevant for   \n",
       "92  Add 1-2 sentences to make this relevant for   \n",
       "93             Write this so it is relevant for   \n",
       "\n",
       "            AC: full add relevance task: older adults  \\\n",
       "54  Add 1-2 sentences to make this relevant for se...   \n",
       "55  Add 1-2 sentences to make this relevant for se...   \n",
       "56  Add 1-2 sentences to make this relevant for se...   \n",
       "57  Add 1-2 sentences to make this relevant for se...   \n",
       "58  Add 1-2 sentences to make this relevant for se...   \n",
       "..                                                ...   \n",
       "89  Add 1-2 sentences to make this relevant for se...   \n",
       "90  Add 1-2 sentences to make this relevant for se...   \n",
       "91  Add 1-2 sentences to make this relevant for se...   \n",
       "92  Add 1-2 sentences to make this relevant for se...   \n",
       "93           Write this so it is relevant for seniors   \n",
       "\n",
       "                    AD: added relevance: older adults  \\\n",
       "54  For seniors who regularly engage in resistance...   \n",
       "55  For seniors who regularly engage in resistance...   \n",
       "56  For seniors, this study highlights the importa...   \n",
       "57  For seniors, this study highlights the importa...   \n",
       "58  This study is particularly relevant for senior...   \n",
       "..                                                ...   \n",
       "89  For seniors who engage in intensive exercise, ...   \n",
       "90  This study is particularly relevant for senior...   \n",
       "91  This study is particularly relevant for senior...   \n",
       "92  For seniors who engage in intense squat exerci...   \n",
       "93  For seniors who engage in intense squat exerci...   \n",
       "\n",
       "    AE: added relevance content rating  AF: added relevance language rating  \\\n",
       "54                                 3.0                                  4.0   \n",
       "55                                 NaN                                  NaN   \n",
       "56                                 1.0                                  4.0   \n",
       "57                                 NaN                                  NaN   \n",
       "58                                 1.0                                  4.0   \n",
       "..                                 ...                                  ...   \n",
       "89                                 NaN                                  NaN   \n",
       "90                                 3.0                                  4.0   \n",
       "91                                 NaN                                  NaN   \n",
       "92                                 2.0                                  4.0   \n",
       "93                                 NaN                                  NaN   \n",
       "\n",
       "    AG: top added relevance statement AH: Column 33  \\\n",
       "54                                NaN          None   \n",
       "55                                NaN          None   \n",
       "56                                NaN          None   \n",
       "57                                NaN          None   \n",
       "58                                NaN          None   \n",
       "..                                ...           ...   \n",
       "89                                NaN          None   \n",
       "90                                NaN          None   \n",
       "91                                NaN          None   \n",
       "92                                NaN          None   \n",
       "93                                NaN          None   \n",
       "\n",
       "    K: original summary ratings meet standard  \\\n",
       "54                                          0   \n",
       "55                                          0   \n",
       "56                                          0   \n",
       "57                                          0   \n",
       "58                                          1   \n",
       "..                                        ...   \n",
       "89                                          0   \n",
       "90                                          0   \n",
       "91                                          0   \n",
       "92                                          0   \n",
       "93                                          0   \n",
       "\n",
       "    S: simple summary ratings meet standard  \\\n",
       "54                                        0   \n",
       "55                                        0   \n",
       "56                                        0   \n",
       "57                                        0   \n",
       "58                                        0   \n",
       "..                                      ...   \n",
       "89                                        0   \n",
       "90                                        0   \n",
       "91                                        0   \n",
       "92                                        0   \n",
       "93                                        0   \n",
       "\n",
       "    Y: added relevance ratings meet standard  \\\n",
       "54                                         0   \n",
       "55                                         0   \n",
       "56                                         0   \n",
       "57                                         0   \n",
       "58                                         1   \n",
       "..                                       ...   \n",
       "89                                         0   \n",
       "90                                         0   \n",
       "91                                         0   \n",
       "92                                         0   \n",
       "93                                         0   \n",
       "\n",
       "    AE: added relevance ratings meet standard  \n",
       "54                                          0  \n",
       "55                                          0  \n",
       "56                                          0  \n",
       "57                                          0  \n",
       "58                                          0  \n",
       "..                                        ...  \n",
       "89                                          0  \n",
       "90                                          0  \n",
       "91                                          0  \n",
       "92                                          0  \n",
       "93                                          0  \n",
       "\n",
       "[40 rows x 38 columns]"
      ]
     },
     "execution_count": 13,
     "metadata": {},
     "output_type": "execute_result"
    }
   ],
   "source": [
    "filter = {\n",
    "    'A: date added': ['2023-04-19']\n",
    "}\n",
    "\n",
    "filter_df_all_conditions(df, filter)"
   ]
  },
  {
   "cell_type": "code",
   "execution_count": 14,
   "metadata": {},
   "outputs": [
    {
     "name": "stdout",
     "output_type": "stream",
     "text": [
      "Filtered on A: date added in ['2023-04-19']\n",
      "Results where ALL conditions are met:\n",
      "\tDataFrame indices: [54, 55, 56, 57, 58, 59, 60, 61, 62, 63, 64, 65, 66, 67, 68, 69, 70, 71, 72, 73, 74, 75, 76, 77, 78, 79, 80, 81, 82, 83, 84, 85, 86, 87, 88, 89, 90, 91, 92, 93]\n",
      "\tDataFrame shape: (40, 38)\n",
      "DataFrame shape: (40, 38)\n",
      "Dataframe data types:\n",
      "A: date added                                object\n",
      "B: article                                   object\n",
      "C: choice # for given prompt                 object\n",
      "D: system_role                               object\n",
      "E: model                                     object\n",
      "                                              ...  \n",
      "AH: Column 33                                object\n",
      "K: original summary ratings meet standard     int64\n",
      "S: simple summary ratings meet standard       int64\n",
      "Y: added relevance ratings meet standard      int64\n",
      "AE: added relevance ratings meet standard     int64\n",
      "Length: 38, dtype: object\n",
      "Unique values in A: date added (n=1):\n",
      "\t['2023-04-19']\n",
      "Unique values in B: article (n=2):\n",
      "\t['Comparisons in the Recovery Response From Resistance Exercise Between Young and Middle-Aged Men', 'Recovery From Eccentric Squat Exercise in Resistance-Trained Young and Master Athletes With Similar Maximum Strength: Combining Cold Water Immersion and Compression']\n",
      "Unique values in C: choice # for given prompt (n=5):\n",
      "\t['1', '2', '3', '4', '5']\n",
      "Unique values in D: system_role (n=1):\n",
      "\t['You are an expert at science communication.']\n",
      "Unique values in E: model (n=1):\n",
      "\t['gpt-3.5-turbo']\n",
      "Unique values in F: text (n=2):\n",
      "\t['Comparisons in the Recovery Response From Resistance Exercise Between Young and Middle-Aged Men\\n\\nDiscussion\\nResults of this study indicated no differences in the recovery response between YA and MA for any of the performance measures, nor in subjective levels of muscle pain or soreness. Furthermore, no between-group differences were observed in the inflammatory or\\xa0muscle damage\\xa0response to the exercise protocol. To the best of our knowledge, this is the first study to examine differences in the recovery response from high-volume resistance exercise between recreationally trained young and middle-aged adults. Our results comparing BL performance measures seem to be in agreement with other investigations, demonstrating differences in strength measures between young (23\\x9629 years) and older adults (60\\x9665 years) (7,15,24), and between middle-aged (41\\x9642 years) and older adults (70\\x9672 years) (17,18). It does seem that the decline in strength may develop during middle age. However, recovery from exercise seems to be comparable in both younger and middle-aged adults as reflected by similar changes in performance and markers of\\xa0muscle damage\\xa0and\\xa0inflammation. Although changes in strength may occur in middle age, recovery from exercise does seem to be maintained in recreationally trained individuals.\\nThe differences observed at BL in isometric force and the rate of force development is consistent with other investigations comparing younger and older adults (16,19,36). Although differences in age between young and middle-aged adults do seem to affect BL levels of strength, it does not seem to affect recovery from exercise. This is supported by similar patterns of\\xa0muscle damage\\xa0and\\xa0inflammation\\xa0observed during the recovery period after the HVP. Elevations in Mb and CK concentrations are consistent with the expected physiological response from a bout of resistance exercise (9,34). These results also suggest that middle-aged recreationally active men who regularly engage in\\xa0resistance training\\xa0do not seem to be at increased risk for greater soreness or\\xa0muscle damage\\xa0in comparison with younger recreationally trained men.\\nSimilar response patterns were also noted in the inflammatory response for both groups. No significant elevations from BL were observed in CRP. However, significant increases in IL-6 concentrations were observed for both groups. Although CRP is an acute phase protein whose function is to activate the innate immune response and enhance phagocytosis (10), it does not seem to change after an acute bout of resistance exercise (6). Previous research has reported no significant changes in CRP concentrations after\\xa0resistance training\\xa0protocols recruiting primarily both upper-body (31) and lower-body exercises (4) in younger men. Furthermore, previous investigations have also indicated that training experience can reduce the CRP response to an acute bout of exercise (22,35). Considering that participants in both YA and MA were recreationally trained, it is likely that this training experience may have attenuated the CRP response. Physiologically, it is consistent with the lower stress and damage that occurs with repetitive training (9,35). Interleukin-6 is an inflammatory cytokine that facilitates communication for the mobilization, proliferation, and differentiation of immune cells to the site of tissue damage (6) and has been shown to increase after exercise (11). Elevations in IL-6 are related to the intensity, duration, and mode of training (11,13,32), but the literature is inconclusive regarding the IL-6 response to\\xa0resistance training. A recent study reported that a bout of high-volume resistance exercise (8 sets of 10 repetitions with 70% of maximal strength in the squat exercise) resulted in a significant elevation in IL-6 concentrations 30 min after exercise, but no changes were observed after a bout of high-intensity resistance exercise (8 sets of 3 repetitions with 90% of maximal strength in the squat exercise) in experienced, trained lifters (4). The IL-6 response observed during this investigation as a result of a bout of high-volume resistance exercise seems to be consistent with that recently reported by Bartolomei et al. (4). However, age did not seem to exacerbate nor attenuate the IL-6 response in recreationally trained participants.\\nNo differences were noted in the inflammatory or\\xa0muscle damage\\xa0response between YA and MA. As discussed earlier, this is likely related to the recreational training background of the participants. However, there were several limitations to the study that need to be acknowledged. The exercise protocol was performed on an isokinetic dynamometer, which may not have as much practical application as most\\xa0resistance training\\xa0programs use dynamic constant resistance exercises. In addition, unilateral, single-joint exercise recruited a relatively smaller muscle mass than is commonly used in most training programs. The use of this modality of exercise, which has been demonstrated to be very effective in eliciting\\xa0muscle damage\\xa0(20,30), may not have been sufficient to elicit significant performance and inflammatory changes in these recreationally trained participants. Future research should examine modes of training specific to the typical training program of the participants.\\nPractical Applications\\nThe results of this study indicate that changes in muscle performance seem to begin during middle age, even in recreationally trained individuals. However, participating in recreational\\xa0resistance training\\xa0may mitigate any alteration in the recovery response from exercise. These results should be examined in the context that recovery was investigated after a unilateral, single-joint isokinetic exercise protocol. Although this method has been previously used as an effective mode of exercise to elicit\\xa0muscle damage, it is not specific to the type of exercises typically used by recreational lifters. Future studies may wish to compare these population groups using multijoint, dynamic constant resistance exercises common to the training programs of most recreational lifters, regardless of age.', 'Recovery From Eccentric Squat Exercise in Resistance-Trained Young and Master Athletes With Similar Maximum Strength: Combining Cold Water Immersion and Compression\\n\\nDiscussion\\nThe study aimed at investigating the effects of aging on muscle soreness and muscle damage following an intensive squat exercise protocol as well as on age-related effects of a recovery intervention in tightly controlled populations of young and master athletes regarding their absolute performance level. As an important experimental precondition, all markers of fatigue and recovery showed a significant within-subject effect of time of measurement with strikingly more pronounced changes from pre- to post-exercise (Figure 2), while CK peaked at post-24 in most individuals. Usually, the highest CK activity is found at 24 or 48h post-exercise. A mean CK increase of up to two times the baseline and up to 800U/l in some individuals can be attributed to structural damage to muscle cells (Baird et al., 2012). Therefore, it can be concluded that the applied high-intensive and eccentric overloaded exercise protocol was acutely sufficiently fatiguing and well-chosen to produce ongoing muscle soreness and muscle damage, which confirms the findings from other studies (Proske and Allen, 2005;\\xa0Lavender and Nosaka, 2006;\\xa0Raeder et al., 2016a;\\xa0Bridgeman et al., 2017;\\xa0Thomas et al., 2018).\\nRegarding the first hypothesis, the master athletes neither reach higher fatigue levels nor recover more slowly than the younger athletes (rejection of hypothesis 1). These findings partly contradict the current literature suggesting that, for a similar exercise stimulus, a stronger level of fatigue might be reached, and a longer recovery period might be required before master athletes return to baseline levels (Fell and Williams, 2008). A faster acute recovery is, among other factors, attributed to physiological differences between young and older participants (e.g., phosphocreatine recovery and impaired oxygen supply;\\xa0Fell and Williams, 2008). Regarding long-term recovery, the common belief among athletes and coaches is that older athletes experience greater muscle damage and slower repair during and after highly intensive exercise because of minor anabolic stimulus. On the other hand, this aspect is still debated in the literature, since multiple methodological issues have to be addressed, such as gender differences, training status, training protocols, and measurements of the damage (Fell and Williams, 2008).\\nIt must be pointed out that master athletes experienced less pronounced acute internal load and perceptual fatigue (Tables 2\\xa0and\\xa03, and\\xa0Figure 2). Similarly, the PPC showed a lower acute post-exercise decrease in the master athletes compared with the young athletes. The higher BLa concentrations in the young athletes can be attributed to the higher number of repetitions during the final all-out set when participants were encouraged to perform until their momentary muscular failure (Table 3). It appears that the master athletes started into the final set more carefully and defensively while anticipating possible injury risks and the upcoming recovery demands. Furthermore, despite a similar leg muscle mass and a comparable level of maximum dynamic strength (Table 1), the samples clearly differed in their power capacities during the vertical jump test (Figure 1). A higher amount of type II fibers in younger athletes and a correspondingly stronger glycolytic activity can be assumed. Type II fibers are usually more susceptible to disruption leading to higher BLa and CK values in young athletes (Baird et al., 2012). Therefore, a final assessment of hypotheses 1 is difficult as internal and external loads were slightly different in both age groups.\\nRegarding the second hypothesis, it was assumed that CWI and CC, especially when used in combination and over a longer period, could improve post-exercise recovery by ameliorating edema, decreasing secondary exercise-induced muscle damage and the sensation of muscle soreness, improving the clearance of muscle metabolites, and increasing post-exercise parasympathetic activity (Ihsan et al., 2016;\\xa0Brown et al., 2017). However, on the group level and regardless of age, the current study revealed no effect of MMR on the recovery of performance or muscle contractile markers of fatigue and recovery (rejection of hypothesis 2). Additionally, MMR did not significantly improve the recovery of CK activity, although reductions in muscle soreness and improvements in PPC were evident after MMR. Such a finding is common, likely due to the analgesia and placebo effect attributable to CWI and CC (Leeder et al., 2012;\\xa0Poppendieck et al., 2013;\\xa0Ihsan et al., 2016;\\xa0Brown et al., 2017).\\nRegardless of age, the group-level results of the current study are both consistent and in contrast to the overall literature findings examining CWI or CC as recovery tools, with applied research showing both improved and unchanged or even impaired recovery of fatigue markers following CWI and CC (Leeder et al., 2012;\\xa0Poppendieck et al., 2013;\\xa0Hill et al., 2014;\\xa0Machado et al., 2016;\\xa0Marqués-Jiménez et al., 2016;\\xa0Brown et al., 2017). The inconsistent findings within the available studies can be explained by the different CWI and/or CC protocols used as well as the frequently reported extensive interindividual variations even in response to highly standardized training and/or recovery interventions (Pickering and Kiely, 2017;\\xa0Wiewelhove et al., 2021). A high interindividual variability in the observed response to recovery interventions is supported by the current study. Only three participants (i.e., participants 2, 8, and 10) did likely benefit from MMR. All other participants showed inconsistent/diffuse responses, while a positive effect of MMR on the recovery of performance tended to be more frequently observed in the younger athletes. The inconsistent responses could be explained by a possible inability of the MMR protocol to accelerate recovery, at least in terms of muscle performance and CK activity, as well as the complexity of the kinematics of exercise-induced fatigue, which may cause different effects within individual body systems. Genetic influences make an important contribution to these variations, while factors, such as sleep, psychological stress, habitual physical activity, and dietary intake, may also play important roles (Mann et al., 2014). Only dietary intake was standardized and controlled during the present study. Additionally, the amount of data was rather small. Thus, the effectiveness of MMR should be interpreted with great caution.\\nIt is also assumed that the effectiveness of a recovery intervention may differ more depending on the individual preferences and beliefs concerning the intervention rather than on age (Roelands and Hurst, 2020). For example, several participants from both age groups (i.e., participants 1, 2, 7, 8, 10, 14, and 16) showed a consistent positive response to MMR in subjective markers, but MMR likely only had a consistent positive impact on performance in participant 8, while the performance of participant 14 was likely to have benefited from PR. Conversely, participant 4 showed a positive response to MMR in MVIC force, resting twitch force, CMJ height, and serum concentration of CK, but had a negative response to MMR in both subjective markers. Therefore, the use of recovery methods post-exercise in general and of MMR in particular should be individualized regardless of age. However, considering only individual perceptions may be misleading for the restoration of performance and/or muscle function.\\nFurthermore, it is discussed in the literature whether a long-term application of recovery interventions might attenuate training-specific adaptations in long-term training intervention and how to balance possible deteriorations in training adaptations with the possible beneficial short-term recovery effects. For example,\\xa0Fröhlich et al. (2014),\\xa0Roberts et al. (2015), and\\xa0Poppendieck et al. (2020)\\xa0showed that the regular use of CWI after strength training sessions reduced long-term gains in muscle mass and strength. However, the effects were rather small and therefore only of practical relevance for a few elite athletes. In this study, MMR had not physiological effects on post-exercise recovery at the group level. Thus, possible negative effects of a long-term application of MMR on adaptations are most likely rather minor and negligible in most athletes.\\nFinally, some limitations of the study design must be considered which are (1) the small number and heterogeneity of selected young and elderly athletes and (2) the insufficient adjustment of internal and external loads. Regarding the sample size, we strictly followed the predefined inclusion criteria for both age groups, which were difficult to meet by the master athletes. More than fifty applicants had to be pre-tested to identify eight individuals reaching a minimum half squat 1RM of at least 120% of the individual body weight which was necessary to match the dynamic strength performance of both age groups and corresponds to an advanced resistance training status in older athletes (Santos Junior et al., 2021). Nevertheless, despite a comparable level of maximum dynamic strength and a similar body composition, the samples clearly differed in their power capacities. Noticeable in this regard were the significantly lower CMJ performance and twitch force (Figure 2) as well as the lower basic testosterone release in the older athletes (Table 1). It can be concluded that a complete performance matching was not realized; however, it was implemented as well as possible at least for the 1RM, which was defined as our primary inclusion criterion.\\nDifferences in the acute internal and external loads of the exercise program can be attributed to the higher number of repetitions during the final set as well as to a higher amount of type II fibers and a correspondingly stronger glycolytic activity in the younger athletes. Nevertheless, since no significant within-subject effect between the two cross-over parts was found for any of the fatigue and recovery markers, it appears that a sufficiently standardized and replicable protocol was prescribed.\\nConclusion\\nAt the group level, master athletes neither reach higher fatigue levels nor recover more slowly than the younger athletes. Age-related differences were only found within younger athletes reaching a higher post-exercise fatigue regarding muscle soreness and PPC. Furthermore, the results indicate that a mixed-method recovery intervention (MMR) after resistance exercise does not contribute to a faster recovery of physical performance, neuromuscular function, or muscle damage, but promotes recovery of perceptual measures regardless of age. However, some participants were more likely to benefit from MMR also in terms of functional and physiological measures. Therefore, the use of MMR should be individualized. As limitations, it has to be pointed out that our sample size was rather small and that a complete matching of population characteristics and exercise intensity was difficult under the ecological valid conditions of this study. Both may have affected the outcomes. We therefore recommend further studies under more controlled experimental conditions.\\n\\nPage 1 of 1']\n",
      "Unique values in G: prep_step (n=1):\n",
      "\t['Take the key points and numerical descriptors to']\n",
      "Unique values in H: summarization task (n=2):\n",
      "\t['Describe the interesting points to your coworker at the water cooler', 'Summarize for a LinkedIn post']\n",
      "Unique values in I: full summarization task (n=2):\n",
      "\t['Take the key points and numerical descriptors to Describe the interesting points to your coworker at the water cooler', 'Take the key points and numerical descriptors to Summarize for a LinkedIn post']\n",
      "Unique values in J: original summary (n=20):\n",
      "\t['\"New study finds no difference in recovery response from resistance exercise between young and middle-aged men! Results showed similar changes in performance and markers of muscle damage and inflammation, suggesting that middle-aged adults who engage in resistance training are not at increased risk for greater soreness or muscle damage compared to younger adults. However, changes in muscle performance do seem to begin during middle age. Stay active and keep up with your resistance training to maintain your recovery response! #resistancetraining #fitness #musclerecovery\"', \"A recent study found no differences in recovery response between young and middle-aged men following resistance exercise. Additionally, there were no differences in inflammatory or muscle damage response between the two groups. The study suggests that changes in muscle performance may begin during middle age, but participating in recreational resistance training may help mitigate these changes. However, it's important to note that the exercise protocol used in the study was a unilateral, single-joint isokinetic exercise, which may not be specific to the type of exercises typically used by recreational lifters.\", 'A recent study found no differences in the recovery response between young and middle-aged men after high-volume resistance exercise. Changes in muscle performance may begin during middle age, but participating in recreational resistance training can mitigate this. The study suggests future research should examine modes of training specific to typical training programs of recreational lifters, regardless of age. #resistancetraining #musclerecovery #age #fitnessresearch', 'A recent study investigated the effects of aging on muscle soreness and damage after an intensive squat exercise protocol, as well as the age-related effects of a recovery intervention in young and master athletes. The study found that master athletes do not experience higher levels of fatigue or recover more slowly than their younger counterparts. Additionally, a mixed-method recovery intervention did not contribute to a faster recovery of physical performance, neuromuscular function, or muscle damage, but did promote recovery of perceptual measures regardless of age. However, the effectiveness of the intervention varied among individual athletes. The study suggests that recovery interventions should be individualized and further research is needed under more controlled experimental conditions.', 'A recent study investigated the effects of aging on muscle soreness and damage following an intensive squat exercise protocol and the age-related effects of a recovery intervention in young and master athletes. The study found that master athletes do not experience higher fatigue levels or recover more slowly than younger athletes. A mixed-method recovery intervention did not contribute to faster physical performance recovery but promoted recovery of perceptual measures. However, the use of recovery methods post-exercise, including mixed-method recovery, should be individualized. The study had limitations in small sample size and difficulty in complete population matching. Further studies are recommended under more controlled experimental conditions.', 'A recent study investigated the effects of aging on muscle soreness and damage following an intensive squat exercise protocol and the age-related effects of a recovery intervention in young and master athletes. The study found that master athletes do not experience higher fatigue levels or slower recovery than younger athletes. Additionally, a mixed-method recovery intervention did not contribute to faster recovery of physical performance or muscle damage but did promote recovery of perceptual measures regardless of age. The study recommends individualizing the use of recovery methods and acknowledges limitations in sample size and exercise intensity matching.', 'A recent study investigated the effects of aging on muscle soreness and muscle damage following an intensive squat exercise protocol, as well as the age-related effects of a recovery intervention in tightly controlled populations of young and master athletes regarding their absolute performance level. The study found that master athletes neither reach higher fatigue levels nor recover more slowly than younger athletes. However, a mixed-method recovery intervention (MMR) after resistance exercise did not contribute to a faster recovery of physical performance, neuromuscular function, or muscle damage, but promoted recovery of perceptual measures regardless of age. The use of MMR should be individualized, and further studies under more controlled experimental conditions are recommended.', 'A study comparing young and middle-aged men in the recovery response from resistance exercise found no significant differences in performance measures, muscle pain or soreness, inflammatory or muscle damage response. Differences in strength levels were observed between age groups, but recovery from exercise was comparable in both. Recreational resistance training may mitigate any alteration in the recovery response from exercise in middle-aged adults. This study highlights the importance of exercise for maintaining muscle recovery in middle age. #ScienceCommunication #Fitness #ExerciseScience', 'A study found no differences in recovery response between young and middle-aged men after high-volume resistance exercise, suggesting that middle-aged individuals who regularly engage in resistance training do not have an increased risk for muscle soreness or damage compared to younger individuals. However, changes in muscle performance may begin during middle age. The study recommends further research using multijoint, dynamic constant resistance exercises to compare population groups regardless of age. #resistancetraining #musclerecovery #middleage #fitnessresearch', 'Hey! I just read a study on the recovery response from resistance exercise between young and middle-aged men. The study found that there were no differences in the recovery response between the two age groups for any of the performance measures, nor in subjective levels of muscle pain or soreness. This is the first study to examine differences in the recovery response from high-volume resistance exercise between recreationally trained young and middle-aged adults. \\n\\nInterestingly, changes in muscle performance seem to begin during middle age, even in recreationally trained individuals, but participating in resistance training may mitigate any alteration in the recovery response from exercise. The study also found no significant differences in the inflammatory or muscle damage response between the two age groups. \\n\\nThe study has some limitations as the exercise protocol was performed on an isokinetic dynamometer, which may not have as much practical application as most resistance training programs use dynamic constant resistance exercises. However, this study provides valuable insights into the effects of age on recovery response from resistance exercise.', 'Hey! I read an interesting study about muscle recovery after intense squat exercise in young and master athletes. The study found that there were no significant age-related differences in fatigue levels or recovery time between young and master athletes. However, younger athletes experienced higher levels of post-exercise fatigue in terms of muscle soreness and peak power output. The study also tested a mixed-method recovery intervention (MMR) using cold water immersion and compression, but found no significant improvement in physical performance or muscle damage recovery at the group level. However, some individual participants did benefit from the MMR in terms of functional and physiological measures, so the use of recovery methods should be individualized. The study had some limitations due to a small sample size and difficulty in matching population characteristics and exercise intensity.', 'Hey, did you know that a recent study found that there are no differences in the recovery response from high-volume resistance exercise between recreationally trained young and middle-aged adults? The study compared young adults (23-29 years) and middle-aged adults (41-42 years) and found similar changes in performance and markers of muscle damage and inflammation. Interestingly, the decline in strength may develop during middle age, but recovery from exercise seems to be maintained in recreationally trained individuals. The study also found that interleukin-6, an inflammatory cytokine, increased after exercise for both groups, but no significant changes were observed in C-reactive protein, another acute phase protein. These results suggest that middle-aged recreationally active men who regularly engage in resistance training do not seem to be at increased risk for greater soreness or muscle damage in comparison with younger recreationally trained men.', 'Hey, did you know that a recent study found that there were no differences in the recovery response between young and middle-aged men after high-volume resistance exercise? This is the first study to examine differences in recovery response between these two age groups. The study also found that changes in muscle performance seem to begin during middle age, but participating in recreational resistance training may mitigate any alterations in the recovery response from exercise. Interestingly, there were no significant elevations in CRP concentrations after the exercise protocol, which suggests that training experience may have attenuated the CRP response. The study also noted that the exercise protocol was performed on an isokinetic dynamometer and used unilateral, single-joint exercise, so future research should examine modes of training specific to the typical training program of the participants.', 'Hey, did you know that a recent study found that there were no differences in the recovery response from resistance exercise between young and middle-aged men? The study examined recreationally trained individuals and found that while changes in muscle performance seem to begin during middle age, participating in resistance training may mitigate any alteration in the recovery response from exercise. The study also found that there were no differences in the inflammatory or muscle damage response between young and middle-aged adults. Overall, the study highlights the importance of resistance training for maintaining muscle function and recovery in middle-aged individuals.', 'Hey, did you know that a recent study investigated the effects of aging on muscle soreness and muscle damage following an intensive squat exercise protocol in young and master athletes? The study found that, at the group level, master athletes neither reach higher fatigue levels nor recover more slowly than the younger athletes. However, age-related differences were found within younger athletes reaching a higher post-exercise fatigue regarding muscle soreness and PPC. The study also looked at the effectiveness of a mixed-method recovery intervention (MMR) after resistance exercise, and found that it did not contribute to a faster recovery of physical performance, neuromuscular function, or muscle damage, but promoted recovery of perceptual measures regardless of age. However, some participants were more likely to benefit from MMR also in terms of functional and physiological measures. The study had some limitations in terms of sample size and exercise intensity matching, but still provides valuable insights into recovery interventions for athletes.', 'Hey, did you know that a recent study investigated the effects of aging on muscle soreness and muscle damage following an intensive squat exercise protocol? The study found that master athletes did not reach higher fatigue levels or recover more slowly than younger athletes. However, younger athletes experienced higher post-exercise fatigue regarding muscle soreness and peak power. \\n\\nThe study also tested a mixed-method recovery intervention (MMR) using cold water immersion and compression after resistance exercise. Interestingly, the MMR did not contribute to a faster recovery of physical performance or muscle damage, but it did promote recovery of subjective measures such as muscle soreness. \\n\\nHowever, the effectiveness of the MMR varied greatly among the participants, indicating that recovery methods post-exercise should be individualized regardless of age. It is also important to note that the study had some limitations, such as a small sample size and difficulty in fully matching population characteristics and exercise intensity.', \"Hey, did you know that a recent study looked at the effects of aging on muscle soreness and damage after intense squat exercise in young and master athletes? It found that master athletes recover just as quickly as younger athletes, contradicting previous literature. The study also looked at a mixed-method recovery intervention and found that it didn't contribute to faster recovery of physical performance or muscle damage, but it did help with perceptual measures. However, the effectiveness of the intervention varied greatly among participants, so it should be individualized. Also, the study had a small sample size and difficulty matching population characteristics, so further research is needed.\", \"Hey, did you know that a recent study looked at the effects of aging on muscle soreness and damage following an intensive squat exercise protocol in young and master athletes? Interestingly, the study found that master athletes did not experience higher levels of fatigue or slower recovery compared to younger athletes. However, there were still some age-related differences within the younger athlete group. The study also investigated the effectiveness of a mixed-method recovery intervention (MMR) using cold water immersion and compression, but found that it did not significantly improve recovery of physical performance or muscle damage, although it did improve perceptual measures. It's important to note that individual responses to MMR varied, so it should be individualized. The sample size was small and there were limitations, but it's still an interesting study.\", \"Hey, did you know that a study found no differences in the recovery response between young and middle-aged men after resistance exercise? The study showed that changes in muscle performance seem to begin during middle age, but participating in recreational resistance training may mitigate any alteration in the recovery response from exercise. Also, the study found similar patterns of muscle damage and inflammation in both age groups. It's interesting to note that age did not exacerbate nor attenuate the inflammatory response in recreationally trained individuals.\", 'Summary: \\n\\nA study investigated the effects of aging on muscle soreness and damage following an intensive squat exercise protocol and age-related recovery interventions in young and master athletes. The results showed that master athletes do not experience higher fatigue levels or slower recovery than younger athletes. A mixed-method recovery intervention (MMR) using cold water immersion and compression did not significantly improve recovery of physical performance or muscle damage, but did promote recovery of perceptual measures regardless of age. However, individual responses to MMR varied, indicating the need for individualized recovery methods. The study highlights the importance of considering individual factors in recovery interventions and the need for further research under controlled experimental conditions.']\n",
      "Unique values in N: simple summary choice (n=1):\n",
      "\t['1']\n",
      "Unique values in O: simplify audience (n=2):\n",
      "\t['a lay audience', 'people without a science background']\n",
      "Unique values in P: simplify task (n=1):\n",
      "\t['Use language appropriate for']\n",
      "Unique values in Q: full simplify task (n=2):\n",
      "\t['Use language appropriate for for a lay audience', 'Use language appropriate for for people without a science background']\n",
      "Unique values in R: simple summary (n=40):\n",
      "\t['A new study discovered that young and middle-aged men have similar recovery responses after doing a lot of weightlifting. As we get older, our muscles may not work as well, but doing weightlifting for fun can help prevent this. The study recommends that future research should look at the types of weightlifting that people usually do for fun, no matter how old they are. So, if you like weightlifting, keep doing it! #resistancetraining #musclerecovery #age #fitnessresearch', \"A new study found that middle-aged men who do resistance exercise (like lifting weights) don't have a harder time recovering than younger men. This means that middle-aged adults who exercise this way aren't at a higher risk for muscle soreness or damage compared to younger adults. However, the study did find that muscle performance starts to decrease during middle age. So, it's important to keep exercising and lifting weights to maintain your muscle recovery! #resistancetraining #fitness #musclerecovery\", \"A new study found that middle-aged men who do resistance training (like lifting weights) don't have a harder time recovering than younger men. This means that middle-aged adults who exercise this way aren't at a higher risk for muscle soreness or damage compared to younger adults. However, the study did find that changes in muscle performance start to happen during middle age. So, it's important to keep exercising and doing resistance training to keep your muscles healthy as you get older. #resistancetraining #fitness #musclerecovery\", 'A new study found that young and middle-aged men have similar recovery responses after doing a lot of weightlifting. As we get older, our muscles may not work as well, but doing weightlifting for fun can help with this. The study suggests that future research should look at the types of weightlifting that people usually do for fun, no matter how old they are. This could help people stay strong and healthy as they get older.', \"A new study found that young and middle-aged men have similar recovery responses after doing weightlifting exercises. The study also found that there were no differences in how their muscles responded to the exercise. This means that middle-aged men may start to see changes in their muscle performance, but doing weightlifting exercises for fun can help slow down these changes. However, it's important to know that the exercises used in the study were not the same as the ones people usually do at the gym.\", \"A new study found that young and middle-aged men have similar recovery responses after doing weightlifting exercises. The study also found that there were no differences in how their muscles responded to the exercise. This means that starting in middle age, our muscles may start to change, but doing weightlifting exercises for fun can help slow down these changes. However, it's important to know that the exercises used in the study were not the same as the ones people usually do at the gym.\", \"A new study looked at how getting older affects muscle soreness and damage after doing a lot of squats. The study also looked at how different recovery methods affect younger and older athletes. The study found that older athletes don't get more tired or recover slower than younger athletes. They also found that using different recovery methods didn't help athletes recover faster physically, but it did help them feel better mentally. The study suggests that athletes should use recovery methods that work best for them, and the study had some limitations.\", \"A new study looked at how getting older affects muscle soreness and damage after doing a lot of squats. The study also looked at whether different recovery methods work better for younger or older athletes. The study found that older athletes don't get more tired or recover more slowly than younger athletes. They also found that using different recovery methods didn't make a big difference in how quickly athletes recovered physically, but it did help them feel better mentally. The study suggests that athletes should use recovery methods that work best for them, and that the study had some limitations.\", \"A recent study found that middle-aged men who regularly do resistance training don't have a higher risk of muscle soreness or damage compared to younger men. This means that if you're middle-aged and you work out regularly, you don't have to worry about hurting your muscles more than younger people do. However, the study did find that muscle performance may start to change as you get older. The researchers suggest doing more exercises that use multiple joints and constant resistance to compare different age groups. So, if you're middle-aged and want to stay fit, keep up with your resistance training and try different exercises to keep your muscles strong.\", \"A recent study found that middle-aged men who regularly do resistance training don't have a higher risk of muscle soreness or damage compared to younger men. This means that if you're middle-aged and you work out regularly, you don't have to worry about hurting your muscles more than younger people do. However, the study did find that muscle performance may start to decline during middle age. The researchers suggest doing more exercises that involve multiple joints and constant resistance to compare different age groups. This could help us learn more about how different people respond to resistance training.\", \"A recent study looked at how getting older affects muscle soreness and damage after doing a lot of squats. They also looked at how different recovery methods affect young and older athletes who are really good at sports. The study found that older athletes don't get more tired or recover more slowly than younger athletes. However, a certain type of recovery method didn't help athletes recover faster physically, but it did help them feel better mentally. The study suggests that this recovery method should be used differently for each person, and more research should be done to learn more.\", \"A recent study looked at how getting older affects muscle soreness and damage after doing a lot of squats. They also looked at how different recovery methods affect young and older athletes. The study found that older athletes don't get more tired or recover more slowly than younger athletes. However, a certain type of recovery method didn't help athletes recover faster physically, but it did help them feel better mentally. This recovery method should be used differently for each person, and more studies should be done to learn more.\", \"A recent study looked at how getting older affects muscle soreness and damage after doing a lot of squats. They also looked at how different recovery methods affect young and older athletes. The study found that older athletes don't get more tired or recover more slowly than younger athletes. They also found that a certain recovery method didn't help athletes recover faster physically, but it did help them feel better mentally. However, the recovery method worked differently for each athlete. The study suggests that recovery methods should be personalized and more research is needed to find out what works best.\", \"A recent study looked at how getting older affects muscle soreness and damage after doing a lot of squats. They also looked at how different recovery methods affect young and older athletes. The study found that older athletes don't get more tired or recover more slowly than younger athletes. Using different recovery methods didn't help athletes recover faster physically, but it did help them feel better mentally. However, it's important to remember that everyone is different and recovery methods should be personalized. The study had some limitations, like a small number of people and difficulty finding people who were similar in age and fitness level. More studies are needed to learn more about this topic.\", \"A recent study looked at how getting older affects muscle soreness and damage after doing a lot of squats. They also looked at whether a certain way of recovering after exercise works better for younger and older athletes. The study found that older athletes don't get more tired or recover more slowly than younger athletes. They also found that a certain way of recovering didn't help athletes perform better or recover faster physically, but it did help them feel better mentally. However, the way this recovery method worked varied from person to person. The study suggests that recovery methods should be personalized and more research is needed to figure out what works best.\", \"A recent study looked at how getting older affects muscle soreness and damage after doing a lot of squats. They also looked at whether different ways of recovering after exercise work better for younger athletes or older athletes who have been doing sports for a long time. The study found that older athletes don't get more tired or recover more slowly than younger athletes. However, using different ways to recover after exercise didn't make a big difference in how quickly athletes could perform physically again. But, it did help them feel better mentally. It's important to remember that everyone is different, so what works for one person might not work for another. The study had some limitations, like not having a lot of people in it and not being able to match everyone up perfectly. More studies are needed to learn more about this topic.\", \"A recent study looked at how getting older affects muscle soreness and damage after doing a lot of squats. They compared younger athletes to older athletes who have been doing sports for a long time. Surprisingly, the older athletes didn't feel more tired or recover more slowly than the younger ones. The researchers also tried a new way to help with recovery, using cold water and compression. This method didn't make a big difference in how well the athletes performed physically or how much muscle damage they had, but it did help them feel better mentally. However, everyone responded differently to this method, so it's important to find the right recovery method for each person. This study shows that we need to think about each person's needs when helping them recover from exercise, and more research is needed to find the best ways to do this.\", 'A recent study looked at how young and middle-aged men recover from exercise. The researchers found that there were no big differences in how the two groups felt after exercising, like muscle pain or soreness. They also found that both groups recovered from exercise at about the same rate. The only difference they found was that the middle-aged men were not as strong as the younger men. However, the study suggests that exercising regularly can help middle-aged adults recover from exercise just as well as younger adults. This study shows that exercise is important for keeping your muscles healthy as you get older.', \"A recent study looked at how young and middle-aged men recover from exercise. The researchers found that there were no big differences in how the two groups felt after working out, like muscle pain or soreness. They also found that both groups recovered from exercise at about the same rate. The only difference was that the middle-aged men were a bit weaker than the younger men. However, the study suggests that exercising regularly can help middle-aged adults keep their muscles healthy and recover from exercise just as well as younger people. So, it's important to keep exercising as we get older to stay healthy and strong!\", 'Did you know that a recent study found that middle-aged adults who exercise regularly can recover from high-intensity workouts just as well as younger adults? The study compared young adults (23-29 years) and middle-aged adults (41-42 years) and found that both groups had similar changes in performance and muscle damage after exercise. This is interesting because as we get older, we may lose strength, but this study suggests that regular exercise can help maintain our ability to recover from workouts. The study also found that a certain protein called interleukin-6 increased after exercise for both groups, but another protein called C-reactive protein did not change significantly. This means that middle-aged adults who exercise regularly are not at a greater risk for muscle soreness or damage compared to younger adults who exercise regularly.', 'Did you know that a recent study found that middle-aged adults who exercise regularly can recover from high-volume resistance exercise just as well as younger adults? The study compared young adults (23-29 years) and middle-aged adults (41-42 years) and found that both groups had similar changes in performance and markers of muscle damage and inflammation after exercise. This means that even though strength may decline during middle age, recovery from exercise can still be maintained in people who exercise regularly. The study also found that a certain type of protein that causes inflammation increased after exercise for both groups, but another protein that indicates acute inflammation did not change significantly. These results suggest that middle-aged adults who exercise regularly are not at a greater risk for muscle soreness or damage compared to younger adults who exercise regularly.', \"Did you know that a recent study looked at how aging affects muscle soreness and damage after a tough squat workout in young and older athletes? The study found that older athletes didn't get more tired or recover more slowly than younger athletes. However, younger athletes did experience more muscle soreness and fatigue after the workout. The study also looked at a recovery method called mixed-method recovery (MMR), but found that it didn't help with physical performance or muscle damage recovery. However, it did help with how the athletes felt. The study had some limitations, but it still gives us some good information about how to help athletes recover.\", \"Did you know that a recent study looked at how getting older affects muscle soreness and damage after doing a lot of squats? The study found that older athletes didn't get more tired or take longer to recover than younger athletes. But younger athletes did feel more muscle soreness and had less power after exercising. \\n\\nThe study also tested a way to help people recover faster after exercising. They used cold water and compression on the muscles. It didn't make people's muscles work better, but it did help with muscle soreness. \\n\\nHowever, the recovery method didn't work the same for everyone. So, it's important to find the right way to recover after exercising, no matter how old you are. The study had some problems, like not having enough people and not being able to match everyone's exercise level.\", \"Did you know that a recent study looked at how our muscles feel after doing a lot of squats? The study looked at both young and older athletes and found that the older athletes didn't feel more tired or take longer to recover than the younger athletes. However, there were some differences in how the younger athletes felt. The study also looked at a way to help with recovery using cold water and compression, but it didn't work for everyone. The study was small and had some limitations, but it's still interesting to think about how our bodies change as we get older.\", \"Did you know that scientists recently studied how aging affects muscle soreness and damage after a tough workout? They looked at both young and older athletes who did a lot of squats. Surprisingly, the older athletes didn't get more tired or recover more slowly than the younger ones. However, the younger athletes did feel more soreness and fatigue after the workout. The scientists also tested a recovery method that involved different techniques, but it didn't seem to help with physical recovery. However, it did help athletes feel better mentally. The study wasn't perfect, but it still gave us some good information about how to help athletes recover after a tough workout.\", 'Hey there! Did you know that a recent study found that young and middle-aged men have similar recovery responses after doing a lot of weightlifting? This is the first study to look at the differences in recovery between these two age groups. The study also found that changes in muscle performance start happening during middle age, but doing weightlifting for fun can help prevent any negative effects on recovery. Interestingly, the study found that there were no significant increases in a certain protein called CRP after the weightlifting, which suggests that people who have experience with weightlifting may not have as strong of a reaction to it. The study also noted that the weightlifting was done using a special machine and only worked on one muscle at a time, so future research should look at different types of weightlifting that people usually do.', \"Hey there! Did you know that a recent study looked at how getting older affects muscle soreness and damage after doing a lot of squats? The study found that older athletes didn't get more tired or take longer to recover than younger athletes. But younger athletes did feel more muscle soreness and had less power after the exercise. \\n\\nThe study also tested a way to help people recover faster after exercise. They used cold water and compression on the muscles. It didn't make people's physical performance or muscle damage get better faster, but it did help with muscle soreness. \\n\\nHowever, the recovery method didn't work the same for everyone. So, it's important to find the right way to recover after exercise that works for you, no matter how old you are. It's also important to know that the study had some limitations, like not having a lot of people in it and not being able to match everyone's characteristics and exercise intensity perfectly.\", \"Hey there! Did you know that a recent study looked at how our muscles feel after doing intense squats? The study looked at both young and older athletes and found that the older athletes recover just as quickly as the younger ones, which is different from what we used to think. \\n\\nThe study also tried out a new way to help with recovery, but it didn't seem to make a big difference in how well the athletes performed physically or how much their muscles were damaged. However, it did seem to help them feel better about their recovery. \\n\\nIt's important to note that the new recovery method didn't work the same for everyone, so it should be personalized to each person. Also, the study was done with a small group of people and it was hard to find people who were similar to each other, so we need more research to be sure.\", \"Hey there! Did you know that a recent study looked at how our muscles recover after intense exercise? The study focused on young and older athletes who do squats. Surprisingly, the study found that older athletes recover just as quickly as younger athletes, which goes against what we previously thought. \\n\\nThe study also looked at a way to help with recovery, but it didn't seem to make a big difference in physical performance or muscle damage. However, it did help with how people felt after the exercise. It's important to note that the recovery method worked differently for each person, so it should be personalized. \\n\\nIt's important to keep in mind that the study had a small group of people and it was difficult to match everyone's characteristics, so more research is needed. But it's exciting to see that older athletes can still recover just as well as younger ones!\", \"Hey there! Did you know that scientists recently studied how aging affects muscle soreness and damage after doing a lot of squats? They looked at both young and older athletes and found something interesting. The older athletes didn't feel more tired or take longer to recover than the younger ones. However, there were some differences between the younger athletes. The scientists also tried a recovery method using cold water and compression, but it didn't make a big difference in how well the athletes performed or how much muscle damage they had. It did make them feel better though! It's important to remember that everyone is different, so recovery methods should be personalized. The study was small and had some limitations, but it's still pretty cool!\", \"Hey there! I came across an interesting study about muscle recovery after intense squat exercise in both young and older athletes. The study found that there were no significant differences in how quickly the athletes recovered from fatigue, regardless of their age. However, younger athletes did experience more muscle soreness and a decrease in power output after the exercise. \\n\\nThe study also looked at a recovery method called mixed-method recovery (MMR), which involved using cold water immersion and compression. Unfortunately, the study found that this method did not improve physical performance or muscle recovery for the group as a whole. However, some individual participants did benefit from the MMR in terms of functional and physiological measures, so it's important to personalize recovery methods. \\n\\nIt's worth noting that the study had some limitations due to a small sample size and difficulty in matching population characteristics and exercise intensity. Overall, the study suggests that age doesn't play a significant role in muscle recovery after intense exercise, but recovery methods should be tailored to each individual.\", \"Hey there! I came across an interesting study about muscle recovery after intense squat exercise in both young and older athletes. The study found that there were no significant differences in how tired or how long it took for muscles to recover between the two age groups. However, younger athletes did experience more muscle soreness and a decrease in power output after exercise. The study also tested a recovery method using cold water immersion and compression, but it didn't show a significant improvement in physical performance or muscle recovery for the group as a whole. However, some individual participants did benefit from the recovery method, so it's important to personalize recovery methods. The study had some limitations due to a small sample size and difficulty in matching population characteristics and exercise intensity.\", \"Hey there! I just read a really interesting study about how our bodies recover after doing weightlifting exercises. The study looked at two groups of men - one group was young and the other group was middle-aged. Surprisingly, the study found that there was no difference in how quickly the two groups recovered after exercising. \\n\\nThis is important because as we get older, our muscles start to change and we might not be able to recover as quickly as we used to. But the study found that even if you're middle-aged, doing weightlifting exercises can help you recover just as well as younger people. \\n\\nThe study also looked at how our muscles respond to exercise and found that there was no difference between the two age groups. This means that even if you're middle-aged, your muscles can still respond to exercise just like they did when you were younger. \\n\\nIt's important to note that the study was done using a special machine, so it might not be exactly the same as the weightlifting exercises you might do at the gym. But overall, this study gives us some really helpful information about how our bodies respond to exercise as we get older.\", \"Hey there! I just read a study about how our bodies recover after doing weightlifting exercises. The study looked at two groups of men, one group was young and the other was middle-aged. Surprisingly, the study found that there were no differences in how quickly the two groups recovered after exercising. \\n\\nThe study also found that as we get older, our muscles start to change, even if we exercise regularly. But, the good news is that weightlifting can help prevent these changes from happening. \\n\\nIt's important to note that the study was done using a special machine, so it might not be exactly like the weightlifting exercises you do at the gym. However, this study gives us some really helpful information about how our bodies respond to exercise as we age.\", \"Hey there! I wanted to share some interesting findings from a recent study. The study looked at how young and middle-aged men recover after doing resistance exercise (like lifting weights). Surprisingly, the study found that there were no differences in how quickly the two age groups recovered. However, the study did find that changes in muscle performance tend to start happening during middle age. But, the good news is that doing resistance training for fun can help prevent these changes from happening. The study also found that both age groups experienced similar levels of muscle damage and inflammation after exercise. And, it's worth noting that age didn't make the inflammation worse or better for people who regularly do resistance training.\", \"Hey there! I wanted to share some interesting news with you. A recent study found that middle-aged men who exercise with weights can recover from their workouts just as well as younger men. The study looked at people who exercise for fun and found that even though our muscles start to change as we get older, lifting weights can help us keep our muscles healthy. The study also found that there were no differences in how our muscles get sore or inflamed after exercise between young and middle-aged people. So, if you're middle-aged and looking to stay healthy, lifting weights could be a great way to keep your muscles strong and help you recover from exercise.\", \"Hey there! I wanted to share some interesting news with you. A recent study found that there were no differences in how quickly young and middle-aged men recover after doing weightlifting exercises. The study showed that as we get older, our muscles start to change, but doing weightlifting exercises for fun can help prevent these changes from affecting our recovery time. The study also found that both age groups experienced similar levels of muscle damage and inflammation after exercising. It's worth noting that age didn't make the inflammation worse or better for people who regularly do weightlifting exercises.\", \"Hey, did you know that a recent study found that resistance exercise can help middle-aged men recover just as well as young men? The study looked at people who exercise for fun and found that even though muscle performance starts to decline as we get older, resistance training can help keep our muscles strong and healthy. The study also found that there were no differences in how our bodies respond to exercise between young and middle-aged adults. This means that it's really important for middle-aged people to keep up with resistance training to stay strong and healthy.\", 'Hey, did you know that a recent study found that young and middle-aged men recover from exercise at the same rate? This is the first study to look at the differences in recovery between these two age groups. The study also found that changes in muscle performance start to happen during middle age, but doing resistance training for fun can help prevent these changes. Interestingly, the study found that there were no significant increases in a marker of inflammation after the exercise, which suggests that people who exercise regularly may have a better response to exercise. The study used a special machine to do the exercises, so future research should look at different types of exercise that people usually do.', 'This study looked at how age affects muscle soreness and recovery after doing a lot of squats. They compared younger athletes to older athletes who are still really good at their sport (called \"master athletes\"). Surprisingly, the older athletes didn\\'t have more fatigue or slower recovery than the younger ones. The researchers tried a recovery method that involved using cold water and compression, but it didn\\'t make a big difference in how well the athletes performed or how much their muscles were damaged. However, the athletes did feel better after using this method, no matter their age. The study shows that everyone is different and may need different ways to recover after exercise. More research is needed to figure out the best ways to help athletes recover.']\n",
      "Unique values in V: add relevance task (n=1):\n",
      "\t['Add 1-2 sentences to make this relevant for']\n",
      "Unique values in W: full add relevance task: athletes (n=1):\n",
      "\t['Add 1-2 sentences to make this relevant for people who enjoy sports']\n",
      "Unique values in X: added relevance: athletes (n=20):\n",
      "\t['For athletes and fitness enthusiasts, this study highlights the importance of resistance training in maintaining muscle performance and recovery response as they age. It suggests that incorporating resistance training into their routine may help mitigate any age-related changes in recovery response and muscle performance.', 'For sports enthusiasts, this study highlights the importance of incorporating resistance training into their fitness routine, regardless of age. It suggests that recreational lifters can maintain their muscle performance and recovery response through resistance training, which can ultimately enhance their athletic performance.', \"For sports enthusiasts, this study highlights the importance of incorporating resistance training into their routine as they age to maintain muscle performance. However, it's important to consider using a variety of exercises that mimic the movements used in their sport to ensure optimal performance.\", 'For sports enthusiasts, this study highlights the importance of incorporating resistance training into their routine, especially as they age. It suggests that regular resistance training can help maintain muscle performance and mitigate any negative effects on recovery response from exercise.', 'For sports enthusiasts, this study provides valuable insights into the effects of aging on muscle soreness and damage after an intensive squat exercise protocol. It also highlights the importance of individualized recovery interventions, as a mixed-method recovery intervention did not contribute to faster recovery of physical performance or muscle damage, but did promote recovery of perceptual measures regardless of age.', 'For sports enthusiasts, this study provides valuable insights into the effects of aging on muscle soreness and recovery after an intensive workout. It also emphasizes the importance of personalized recovery methods to optimize physical performance and reduce muscle damage, regardless of age.', 'For sports enthusiasts, this study suggests that age should not be a limiting factor in recovery from resistance exercise. Whether you are a young athlete or a middle-aged fitness enthusiast, regular resistance training can help you maintain muscle recovery and performance. So, keep up the good work and stay fit!', 'This study highlights the importance of incorporating resistance training into your exercise routine, regardless of age. It suggests that recreational resistance training can help maintain muscle performance and aid in recovery after exercise, which can be beneficial for athletes and sports enthusiasts of all ages.', 'This study is great news for master athletes who may have been concerned about their ability to recover after intense exercise. It also highlights the importance of personalized recovery interventions for athletes of all ages to optimize their performance and reduce muscle soreness.', \"This study is great news for middle-aged athletes who regularly engage in resistance training, as it suggests that they can still push themselves without worrying about increased muscle soreness or damage compared to younger athletes. However, it's important to note that changes in muscle performance may begin during middle age, so incorporating multijoint, dynamic constant resistance exercises into your routine can help maintain muscle strength and prevent injury.\", 'This study is great news for sports enthusiasts who are middle-aged or older and regularly engage in resistance training. It suggests that they can continue to push themselves without worrying about increased soreness or muscle damage compared to younger individuals.', 'This study is particularly relevant for athletes who are concerned about the effects of aging on their performance and recovery. It suggests that with proper training and care, master athletes can maintain their physical abilities and recover just as quickly as younger athletes.', 'This study is particularly relevant for athletes who are interested in optimizing their recovery after intense exercise. It suggests that while a mixed-method recovery intervention may not improve physical performance or muscle damage, it can still be beneficial for reducing muscle soreness and promoting overall recovery.', 'This study is particularly relevant for athletes who engage in resistance training, as it suggests that middle-aged athletes can continue to train at a high level without fear of increased muscle damage or soreness. It also highlights the importance of maintaining a consistent resistance training routine to maintain muscle performance as we age.', 'This study is particularly relevant for sports enthusiasts who are in their middle age and want to maintain their muscle function and recovery. It suggests that participating in resistance training can help them mitigate any age-related changes in their recovery response from exercise, allowing them to continue to perform at their best.', 'This study provides valuable insights for athletes of all ages who are looking to optimize their recovery after intense exercise. It suggests that individualized recovery methods may be more effective than a one-size-fits-all approach, and that subjective measures such as muscle soreness should not be overlooked in assessing recovery.', 'This study provides valuable insights for athletes of all ages who engage in intense squat exercises. It suggests that while age may not affect recovery time, younger athletes may experience more post-exercise fatigue. Additionally, the study highlights the importance of individualized recovery methods, as some participants benefited from the mixed-method recovery intervention.', 'This study provides valuable insights for athletes of all ages who engage in intensive squat exercises. It suggests that master athletes can still perform at a high level and recover well, while younger athletes may benefit from individualized recovery interventions.', 'This study provides valuable insights for athletes of all ages who engage in intensive squat exercises. It suggests that recovery interventions may not necessarily improve physical performance or muscle damage recovery, but can help with perceptual measures such as reducing muscle soreness. Therefore, athletes should consider individualizing their recovery methods based on their specific needs and goals.', 'This study provides valuable insights for athletes of all ages who engage in intensive squat exercises. It suggests that recovery interventions may not necessarily improve physical performance recovery, but can aid in the recovery of perceptual measures. However, it is important to note that recovery methods should be tailored to individual needs and preferences.']\n",
      "Unique values in AB: add relevance task (n=2):\n",
      "\t['Add 1-2 sentences to make this relevant for', 'Write this so it is relevant for']\n",
      "Unique values in AC: full add relevance task: older adults (n=2):\n",
      "\t['Add 1-2 sentences to make this relevant for seniors', 'Write this so it is relevant for seniors']\n",
      "Unique values in AD: added relevance: older adults (n=20):\n",
      "\t['For seniors who are concerned about muscle soreness and damage following an intensive exercise routine, this study provides encouraging results. It suggests that age does not necessarily impact recovery time or fatigue levels, and that recovery interventions can still be effective in promoting perceptual measures of recovery.', 'For seniors who engage in intense squat exercise, this study suggests that they may experience similar levels of fatigue and recovery time as younger athletes. However, they may experience less post-exercise muscle soreness and peak power output. It is important to note that recovery methods should be individualized, and seniors should consult with a healthcare professional before engaging in any intense exercise program.', 'For seniors who engage in intensive exercise, this study suggests that age-related differences in muscle soreness and fatigue may be more pronounced compared to younger athletes. However, the study also found that a mixed-method recovery intervention may be beneficial for promoting recovery of perceptual measures regardless of age.', 'For seniors who regularly engage in resistance training, this study suggests that they may not experience increased muscle soreness or damage compared to younger individuals. However, it is important to note that changes in muscle performance may begin during middle age, so it is recommended that seniors continue to engage in multijoint, dynamic constant resistance exercises to maintain their muscle strength and overall fitness.', 'For seniors, it is important to note that participating in recreational resistance training can help mitigate the changes in muscle performance that may occur during middle age. This study suggests that seniors should consider incorporating resistance training into their fitness routine to maintain muscle strength and function, regardless of age.', 'For seniors, resistance training can be an effective way to maintain muscle mass and strength, which can help prevent falls and maintain independence. This study suggests that middle-aged adults who engage in resistance training can continue to do so without fear of increased soreness or muscle damage, making it a safe and effective option for seniors as well.', 'For seniors, this study highlights the importance of engaging in resistance training to maintain muscle performance as they age. It also suggests that even if they start resistance training later in life, they may still be able to see benefits in terms of recovery and muscle damage response.', \"For seniors, this study suggests that participating in recreational resistance training may help maintain muscle performance and recovery response, even as they age. It's encouraging to know that age does not necessarily exacerbate the inflammatory response in recreationally trained individuals, which may motivate seniors to continue exercising regularly.\", 'These findings are particularly relevant for seniors who are interested in resistance training as a means of maintaining muscle mass and strength. The study suggests that middle-aged adults who engage in regular resistance training can continue to do so without fear of increased soreness or muscle damage, which may encourage seniors to continue with their exercise routine.', 'This study highlights the importance of resistance training for seniors as it may help mitigate any age-related changes in the recovery response from exercise. Engaging in regular resistance training can help seniors maintain their muscle performance and reduce muscle pain or soreness after exercise.', \"This study is particularly relevant for seniors as it suggests that participating in recreational resistance training may help mitigate any alterations in the recovery response from exercise that typically occur during middle age. This highlights the importance of incorporating resistance training into a senior's exercise routine to maintain muscle performance and aid in recovery.\", 'This study is particularly relevant for seniors as it suggests that recreational resistance training can help maintain muscle recovery in middle age, which is a crucial factor in maintaining overall health and mobility as we age. Therefore, seniors should consider incorporating resistance training into their exercise routine to help maintain their muscle recovery and overall health.', 'This study is particularly relevant for seniors as it suggests that resistance training can help maintain muscle function and recovery even as we age. By engaging in regular resistance training, seniors can potentially mitigate any age-related changes in muscle performance and maintain their physical independence for longer.', 'This study is particularly relevant for seniors who are interested in maintaining their physical fitness and preventing muscle soreness and damage after exercise. It suggests that with proper training and conditioning, older athletes can recover just as quickly as younger athletes, which is encouraging news for seniors who want to stay active and healthy.', 'This study is particularly relevant for seniors who are interested in maintaining their physical fitness and preventing muscle soreness and damage. It suggests that master athletes, who are older athletes, do not experience higher levels of fatigue or slower recovery than younger athletes, indicating that age should not be a barrier to exercise. However, it is important to individualize recovery methods post-exercise to ensure optimal recovery.', \"This study is particularly relevant for seniors who are interested in maintaining their physical fitness and preventing muscle soreness and damage. It suggests that with regular exercise and training, older athletes can still perform at a high level and recover just as well as younger athletes. However, it's important to consult with a healthcare professional before starting any new exercise program.\", 'This study is particularly relevant for seniors who engage in intensive exercise protocols, as it suggests that age-related factors may not necessarily lead to slower recovery or higher levels of fatigue. However, it also emphasizes the importance of individualized recovery methods, which may be especially important for seniors who may have unique physical needs and limitations.', 'This study is particularly relevant for seniors who engage in intensive exercise protocols, as it suggests that age-related muscle soreness and damage may not necessarily lead to slower recovery times. However, it also highlights the importance of individualized recovery interventions for seniors, as the effectiveness of such interventions may vary among individuals.', 'This study is particularly relevant for seniors who engage in resistance exercise as it suggests that age-related declines in physical performance and muscle damage may not be as significant as previously thought. However, seniors should still be cautious when using mixed-method recovery interventions and should consult with a healthcare professional before incorporating them into their exercise routine.', 'This study is particularly relevant for seniors who engage in resistance exercise, as it suggests that age may not necessarily be a limiting factor in recovery from muscle soreness and damage. Additionally, the findings highlight the importance of individualized recovery methods, which can be especially important for seniors who may have unique physical needs and limitations.']\n",
      "Unique values in AH: Column 33 (n=0):\n",
      "\t[None]\n"
     ]
    }
   ],
   "source": [
    "eda(filter_df_all_conditions(df, filter))"
   ]
  },
  {
   "cell_type": "code",
   "execution_count": 15,
   "metadata": {},
   "outputs": [
    {
     "name": "stdout",
     "output_type": "stream",
     "text": [
      "Top results columns: Index(['M: top summary', 'U: top simple summary',\n",
      "       'AA: top added relevance statement',\n",
      "       'AG: top added relevance statement'],\n",
      "      dtype='object')\n",
      "Content ratings columns: Index(['K: original summary content rating',\n",
      "       'S: simple summary content rating', 'Y: added relevance content rating',\n",
      "       'AE: added relevance content rating'],\n",
      "      dtype='object')\n",
      "Language ratings columns: Index(['L: original summary language rating',\n",
      "       'T: simple summary language rating',\n",
      "       'Z: added relevance language rating',\n",
      "       'AF: added relevance language rating'],\n",
      "      dtype='object')\n"
     ]
    }
   ],
   "source": [
    "top_results_columns = df.columns[df.columns.str.contains('top')]\n",
    "content_ratings_columns = df.columns[df.columns.str.contains('content rating')]\n",
    "language_ratings_columns = df.columns[df.columns.str.contains('language rating')]\n",
    "print(f'Top results columns: {top_results_columns}')\n",
    "print(f'Content ratings columns: {content_ratings_columns}')\n",
    "print(f'Language ratings columns: {language_ratings_columns}')"
   ]
  },
  {
   "attachments": {},
   "cell_type": "markdown",
   "metadata": {},
   "source": [
    "## [Forget about it] `horizontal_count_chart` function"
   ]
  },
  {
   "cell_type": "code",
   "execution_count": 21,
   "metadata": {},
   "outputs": [
    {
     "data": {
      "application/vnd.plotly.v1+json": {
       "config": {
        "plotlyServerURL": "https://plot.ly"
       },
       "data": [
        {
         "alignmentgroup": "True",
         "hovertemplate": "count=%{x}<br>fruit=%{y}<extra></extra>",
         "legendgroup": "",
         "marker": {
          "color": "#636efa",
          "pattern": {
           "shape": ""
          }
         },
         "name": "",
         "offsetgroup": "",
         "orientation": "h",
         "showlegend": false,
         "textposition": "auto",
         "type": "bar",
         "x": [
          2,
          2,
          1,
          1,
          1,
          1
         ],
         "xaxis": "x",
         "y": [
          "apple",
          "orange",
          "banana",
          "kiwi",
          "mango",
          "pear"
         ],
         "yaxis": "y"
        }
       ],
       "layout": {
        "barmode": "relative",
        "legend": {
         "tracegroupgap": 0
        },
        "template": {
         "data": {
          "bar": [
           {
            "error_x": {
             "color": "#2a3f5f"
            },
            "error_y": {
             "color": "#2a3f5f"
            },
            "marker": {
             "line": {
              "color": "#E5ECF6",
              "width": 0.5
             },
             "pattern": {
              "fillmode": "overlay",
              "size": 10,
              "solidity": 0.2
             }
            },
            "type": "bar"
           }
          ],
          "barpolar": [
           {
            "marker": {
             "line": {
              "color": "#E5ECF6",
              "width": 0.5
             },
             "pattern": {
              "fillmode": "overlay",
              "size": 10,
              "solidity": 0.2
             }
            },
            "type": "barpolar"
           }
          ],
          "carpet": [
           {
            "aaxis": {
             "endlinecolor": "#2a3f5f",
             "gridcolor": "white",
             "linecolor": "white",
             "minorgridcolor": "white",
             "startlinecolor": "#2a3f5f"
            },
            "baxis": {
             "endlinecolor": "#2a3f5f",
             "gridcolor": "white",
             "linecolor": "white",
             "minorgridcolor": "white",
             "startlinecolor": "#2a3f5f"
            },
            "type": "carpet"
           }
          ],
          "choropleth": [
           {
            "colorbar": {
             "outlinewidth": 0,
             "ticks": ""
            },
            "type": "choropleth"
           }
          ],
          "contour": [
           {
            "colorbar": {
             "outlinewidth": 0,
             "ticks": ""
            },
            "colorscale": [
             [
              0,
              "#0d0887"
             ],
             [
              0.1111111111111111,
              "#46039f"
             ],
             [
              0.2222222222222222,
              "#7201a8"
             ],
             [
              0.3333333333333333,
              "#9c179e"
             ],
             [
              0.4444444444444444,
              "#bd3786"
             ],
             [
              0.5555555555555556,
              "#d8576b"
             ],
             [
              0.6666666666666666,
              "#ed7953"
             ],
             [
              0.7777777777777778,
              "#fb9f3a"
             ],
             [
              0.8888888888888888,
              "#fdca26"
             ],
             [
              1,
              "#f0f921"
             ]
            ],
            "type": "contour"
           }
          ],
          "contourcarpet": [
           {
            "colorbar": {
             "outlinewidth": 0,
             "ticks": ""
            },
            "type": "contourcarpet"
           }
          ],
          "heatmap": [
           {
            "colorbar": {
             "outlinewidth": 0,
             "ticks": ""
            },
            "colorscale": [
             [
              0,
              "#0d0887"
             ],
             [
              0.1111111111111111,
              "#46039f"
             ],
             [
              0.2222222222222222,
              "#7201a8"
             ],
             [
              0.3333333333333333,
              "#9c179e"
             ],
             [
              0.4444444444444444,
              "#bd3786"
             ],
             [
              0.5555555555555556,
              "#d8576b"
             ],
             [
              0.6666666666666666,
              "#ed7953"
             ],
             [
              0.7777777777777778,
              "#fb9f3a"
             ],
             [
              0.8888888888888888,
              "#fdca26"
             ],
             [
              1,
              "#f0f921"
             ]
            ],
            "type": "heatmap"
           }
          ],
          "heatmapgl": [
           {
            "colorbar": {
             "outlinewidth": 0,
             "ticks": ""
            },
            "colorscale": [
             [
              0,
              "#0d0887"
             ],
             [
              0.1111111111111111,
              "#46039f"
             ],
             [
              0.2222222222222222,
              "#7201a8"
             ],
             [
              0.3333333333333333,
              "#9c179e"
             ],
             [
              0.4444444444444444,
              "#bd3786"
             ],
             [
              0.5555555555555556,
              "#d8576b"
             ],
             [
              0.6666666666666666,
              "#ed7953"
             ],
             [
              0.7777777777777778,
              "#fb9f3a"
             ],
             [
              0.8888888888888888,
              "#fdca26"
             ],
             [
              1,
              "#f0f921"
             ]
            ],
            "type": "heatmapgl"
           }
          ],
          "histogram": [
           {
            "marker": {
             "pattern": {
              "fillmode": "overlay",
              "size": 10,
              "solidity": 0.2
             }
            },
            "type": "histogram"
           }
          ],
          "histogram2d": [
           {
            "colorbar": {
             "outlinewidth": 0,
             "ticks": ""
            },
            "colorscale": [
             [
              0,
              "#0d0887"
             ],
             [
              0.1111111111111111,
              "#46039f"
             ],
             [
              0.2222222222222222,
              "#7201a8"
             ],
             [
              0.3333333333333333,
              "#9c179e"
             ],
             [
              0.4444444444444444,
              "#bd3786"
             ],
             [
              0.5555555555555556,
              "#d8576b"
             ],
             [
              0.6666666666666666,
              "#ed7953"
             ],
             [
              0.7777777777777778,
              "#fb9f3a"
             ],
             [
              0.8888888888888888,
              "#fdca26"
             ],
             [
              1,
              "#f0f921"
             ]
            ],
            "type": "histogram2d"
           }
          ],
          "histogram2dcontour": [
           {
            "colorbar": {
             "outlinewidth": 0,
             "ticks": ""
            },
            "colorscale": [
             [
              0,
              "#0d0887"
             ],
             [
              0.1111111111111111,
              "#46039f"
             ],
             [
              0.2222222222222222,
              "#7201a8"
             ],
             [
              0.3333333333333333,
              "#9c179e"
             ],
             [
              0.4444444444444444,
              "#bd3786"
             ],
             [
              0.5555555555555556,
              "#d8576b"
             ],
             [
              0.6666666666666666,
              "#ed7953"
             ],
             [
              0.7777777777777778,
              "#fb9f3a"
             ],
             [
              0.8888888888888888,
              "#fdca26"
             ],
             [
              1,
              "#f0f921"
             ]
            ],
            "type": "histogram2dcontour"
           }
          ],
          "mesh3d": [
           {
            "colorbar": {
             "outlinewidth": 0,
             "ticks": ""
            },
            "type": "mesh3d"
           }
          ],
          "parcoords": [
           {
            "line": {
             "colorbar": {
              "outlinewidth": 0,
              "ticks": ""
             }
            },
            "type": "parcoords"
           }
          ],
          "pie": [
           {
            "automargin": true,
            "type": "pie"
           }
          ],
          "scatter": [
           {
            "fillpattern": {
             "fillmode": "overlay",
             "size": 10,
             "solidity": 0.2
            },
            "type": "scatter"
           }
          ],
          "scatter3d": [
           {
            "line": {
             "colorbar": {
              "outlinewidth": 0,
              "ticks": ""
             }
            },
            "marker": {
             "colorbar": {
              "outlinewidth": 0,
              "ticks": ""
             }
            },
            "type": "scatter3d"
           }
          ],
          "scattercarpet": [
           {
            "marker": {
             "colorbar": {
              "outlinewidth": 0,
              "ticks": ""
             }
            },
            "type": "scattercarpet"
           }
          ],
          "scattergeo": [
           {
            "marker": {
             "colorbar": {
              "outlinewidth": 0,
              "ticks": ""
             }
            },
            "type": "scattergeo"
           }
          ],
          "scattergl": [
           {
            "marker": {
             "colorbar": {
              "outlinewidth": 0,
              "ticks": ""
             }
            },
            "type": "scattergl"
           }
          ],
          "scattermapbox": [
           {
            "marker": {
             "colorbar": {
              "outlinewidth": 0,
              "ticks": ""
             }
            },
            "type": "scattermapbox"
           }
          ],
          "scatterpolar": [
           {
            "marker": {
             "colorbar": {
              "outlinewidth": 0,
              "ticks": ""
             }
            },
            "type": "scatterpolar"
           }
          ],
          "scatterpolargl": [
           {
            "marker": {
             "colorbar": {
              "outlinewidth": 0,
              "ticks": ""
             }
            },
            "type": "scatterpolargl"
           }
          ],
          "scatterternary": [
           {
            "marker": {
             "colorbar": {
              "outlinewidth": 0,
              "ticks": ""
             }
            },
            "type": "scatterternary"
           }
          ],
          "surface": [
           {
            "colorbar": {
             "outlinewidth": 0,
             "ticks": ""
            },
            "colorscale": [
             [
              0,
              "#0d0887"
             ],
             [
              0.1111111111111111,
              "#46039f"
             ],
             [
              0.2222222222222222,
              "#7201a8"
             ],
             [
              0.3333333333333333,
              "#9c179e"
             ],
             [
              0.4444444444444444,
              "#bd3786"
             ],
             [
              0.5555555555555556,
              "#d8576b"
             ],
             [
              0.6666666666666666,
              "#ed7953"
             ],
             [
              0.7777777777777778,
              "#fb9f3a"
             ],
             [
              0.8888888888888888,
              "#fdca26"
             ],
             [
              1,
              "#f0f921"
             ]
            ],
            "type": "surface"
           }
          ],
          "table": [
           {
            "cells": {
             "fill": {
              "color": "#EBF0F8"
             },
             "line": {
              "color": "white"
             }
            },
            "header": {
             "fill": {
              "color": "#C8D4E3"
             },
             "line": {
              "color": "white"
             }
            },
            "type": "table"
           }
          ]
         },
         "layout": {
          "annotationdefaults": {
           "arrowcolor": "#2a3f5f",
           "arrowhead": 0,
           "arrowwidth": 1
          },
          "autotypenumbers": "strict",
          "coloraxis": {
           "colorbar": {
            "outlinewidth": 0,
            "ticks": ""
           }
          },
          "colorscale": {
           "diverging": [
            [
             0,
             "#8e0152"
            ],
            [
             0.1,
             "#c51b7d"
            ],
            [
             0.2,
             "#de77ae"
            ],
            [
             0.3,
             "#f1b6da"
            ],
            [
             0.4,
             "#fde0ef"
            ],
            [
             0.5,
             "#f7f7f7"
            ],
            [
             0.6,
             "#e6f5d0"
            ],
            [
             0.7,
             "#b8e186"
            ],
            [
             0.8,
             "#7fbc41"
            ],
            [
             0.9,
             "#4d9221"
            ],
            [
             1,
             "#276419"
            ]
           ],
           "sequential": [
            [
             0,
             "#0d0887"
            ],
            [
             0.1111111111111111,
             "#46039f"
            ],
            [
             0.2222222222222222,
             "#7201a8"
            ],
            [
             0.3333333333333333,
             "#9c179e"
            ],
            [
             0.4444444444444444,
             "#bd3786"
            ],
            [
             0.5555555555555556,
             "#d8576b"
            ],
            [
             0.6666666666666666,
             "#ed7953"
            ],
            [
             0.7777777777777778,
             "#fb9f3a"
            ],
            [
             0.8888888888888888,
             "#fdca26"
            ],
            [
             1,
             "#f0f921"
            ]
           ],
           "sequentialminus": [
            [
             0,
             "#0d0887"
            ],
            [
             0.1111111111111111,
             "#46039f"
            ],
            [
             0.2222222222222222,
             "#7201a8"
            ],
            [
             0.3333333333333333,
             "#9c179e"
            ],
            [
             0.4444444444444444,
             "#bd3786"
            ],
            [
             0.5555555555555556,
             "#d8576b"
            ],
            [
             0.6666666666666666,
             "#ed7953"
            ],
            [
             0.7777777777777778,
             "#fb9f3a"
            ],
            [
             0.8888888888888888,
             "#fdca26"
            ],
            [
             1,
             "#f0f921"
            ]
           ]
          },
          "colorway": [
           "#636efa",
           "#EF553B",
           "#00cc96",
           "#ab63fa",
           "#FFA15A",
           "#19d3f3",
           "#FF6692",
           "#B6E880",
           "#FF97FF",
           "#FECB52"
          ],
          "font": {
           "color": "#2a3f5f"
          },
          "geo": {
           "bgcolor": "white",
           "lakecolor": "white",
           "landcolor": "#E5ECF6",
           "showlakes": true,
           "showland": true,
           "subunitcolor": "white"
          },
          "hoverlabel": {
           "align": "left"
          },
          "hovermode": "closest",
          "mapbox": {
           "style": "light"
          },
          "paper_bgcolor": "white",
          "plot_bgcolor": "#E5ECF6",
          "polar": {
           "angularaxis": {
            "gridcolor": "white",
            "linecolor": "white",
            "ticks": ""
           },
           "bgcolor": "#E5ECF6",
           "radialaxis": {
            "gridcolor": "white",
            "linecolor": "white",
            "ticks": ""
           }
          },
          "scene": {
           "xaxis": {
            "backgroundcolor": "#E5ECF6",
            "gridcolor": "white",
            "gridwidth": 2,
            "linecolor": "white",
            "showbackground": true,
            "ticks": "",
            "zerolinecolor": "white"
           },
           "yaxis": {
            "backgroundcolor": "#E5ECF6",
            "gridcolor": "white",
            "gridwidth": 2,
            "linecolor": "white",
            "showbackground": true,
            "ticks": "",
            "zerolinecolor": "white"
           },
           "zaxis": {
            "backgroundcolor": "#E5ECF6",
            "gridcolor": "white",
            "gridwidth": 2,
            "linecolor": "white",
            "showbackground": true,
            "ticks": "",
            "zerolinecolor": "white"
           }
          },
          "shapedefaults": {
           "line": {
            "color": "#2a3f5f"
           }
          },
          "ternary": {
           "aaxis": {
            "gridcolor": "white",
            "linecolor": "white",
            "ticks": ""
           },
           "baxis": {
            "gridcolor": "white",
            "linecolor": "white",
            "ticks": ""
           },
           "bgcolor": "#E5ECF6",
           "caxis": {
            "gridcolor": "white",
            "linecolor": "white",
            "ticks": ""
           }
          },
          "title": {
           "x": 0.05
          },
          "xaxis": {
           "automargin": true,
           "gridcolor": "white",
           "linecolor": "white",
           "ticks": "",
           "title": {
            "standoff": 15
           },
           "zerolinecolor": "white",
           "zerolinewidth": 2
          },
          "yaxis": {
           "automargin": true,
           "gridcolor": "white",
           "linecolor": "white",
           "ticks": "",
           "title": {
            "standoff": 15
           },
           "zerolinecolor": "white",
           "zerolinewidth": 2
          }
         }
        },
        "title": {
         "text": "Fruit Count by Color"
        },
        "xaxis": {
         "anchor": "y",
         "domain": [
          0,
          1
         ],
         "title": {
          "text": "Count"
         }
        },
        "yaxis": {
         "anchor": "x",
         "categoryorder": "total ascending",
         "domain": [
          0,
          1
         ],
         "title": {
          "text": "fruit"
         }
        }
       }
      }
     },
     "metadata": {},
     "output_type": "display_data"
    }
   ],
   "source": [
    "import plotly.express as px\n",
    "\n",
    "def horizontal_count_chart(df, y_col, agg_col, title):\n",
    "    df_agg = df.groupby(y_col)[agg_col].agg(['count']).reset_index()\n",
    "    df_agg = df_agg.sort_values('count', ascending=False)\n",
    "    fig = px.bar(df_agg, x='count', y=y_col, title=title, orientation='h')\n",
    "    fig.update_layout(xaxis_title=\"Count\", yaxis={'categoryorder':'total ascending'})\n",
    "    return fig\n",
    "\n",
    "# create_horizontal_count_chart(\n",
    "#     df, y_col='S: simple summary content rating',\n",
    "    \n",
    "# )\n",
    "\n",
    "# create a sample dataframe\n",
    "data = {'fruit': ['apple', 'banana', 'orange', 'kiwi', 'mango', 'pear', 'apple', 'orange'], 'color': ['red', 'yellow', 'orange', 'brown', 'yellow', 'green', 'green', 'orange']}\n",
    "df = pd.DataFrame(data)\n",
    "\n",
    "# call the function to create a horizontal bar chart\n",
    "fig = horizontal_count_chart(df, 'fruit', 'color', 'Fruit Count by Color')\n",
    "\n",
    "# display the chart\n",
    "fig.show()\n"
   ]
  },
  {
   "cell_type": "code",
   "execution_count": 19,
   "metadata": {},
   "outputs": [
    {
     "data": {
      "text/html": [
       "<div>\n",
       "<style scoped>\n",
       "    .dataframe tbody tr th:only-of-type {\n",
       "        vertical-align: middle;\n",
       "    }\n",
       "\n",
       "    .dataframe tbody tr th {\n",
       "        vertical-align: top;\n",
       "    }\n",
       "\n",
       "    .dataframe thead th {\n",
       "        text-align: right;\n",
       "    }\n",
       "</style>\n",
       "<table border=\"1\" class=\"dataframe\">\n",
       "  <thead>\n",
       "    <tr style=\"text-align: right;\">\n",
       "      <th></th>\n",
       "      <th>fruit</th>\n",
       "      <th>color</th>\n",
       "    </tr>\n",
       "  </thead>\n",
       "  <tbody>\n",
       "    <tr>\n",
       "      <th>0</th>\n",
       "      <td>apple</td>\n",
       "      <td>red</td>\n",
       "    </tr>\n",
       "    <tr>\n",
       "      <th>1</th>\n",
       "      <td>banana</td>\n",
       "      <td>yellow</td>\n",
       "    </tr>\n",
       "    <tr>\n",
       "      <th>2</th>\n",
       "      <td>orange</td>\n",
       "      <td>orange</td>\n",
       "    </tr>\n",
       "    <tr>\n",
       "      <th>3</th>\n",
       "      <td>kiwi</td>\n",
       "      <td>brown</td>\n",
       "    </tr>\n",
       "    <tr>\n",
       "      <th>4</th>\n",
       "      <td>mango</td>\n",
       "      <td>yellow</td>\n",
       "    </tr>\n",
       "    <tr>\n",
       "      <th>5</th>\n",
       "      <td>pear</td>\n",
       "      <td>green</td>\n",
       "    </tr>\n",
       "    <tr>\n",
       "      <th>6</th>\n",
       "      <td>apple</td>\n",
       "      <td>green</td>\n",
       "    </tr>\n",
       "    <tr>\n",
       "      <th>7</th>\n",
       "      <td>orange</td>\n",
       "      <td>orange</td>\n",
       "    </tr>\n",
       "  </tbody>\n",
       "</table>\n",
       "</div>"
      ],
      "text/plain": [
       "    fruit   color\n",
       "0   apple     red\n",
       "1  banana  yellow\n",
       "2  orange  orange\n",
       "3    kiwi   brown\n",
       "4   mango  yellow\n",
       "5    pear   green\n",
       "6   apple   green\n",
       "7  orange  orange"
      ]
     },
     "execution_count": 19,
     "metadata": {},
     "output_type": "execute_result"
    }
   ],
   "source": [
    "df"
   ]
  },
  {
   "attachments": {},
   "cell_type": "markdown",
   "metadata": {},
   "source": [
    "# Plot for Apr 19 results"
   ]
  },
  {
   "cell_type": "code",
   "execution_count": 28,
   "metadata": {},
   "outputs": [
    {
     "name": "stdout",
     "output_type": "stream",
     "text": [
      "Top results columns: Index(['M: top summary', 'U: top simple summary',\n",
      "       'AA: top added relevance statement',\n",
      "       'AG: top added relevance statement'],\n",
      "      dtype='object')\n",
      "Content ratings columns: Index(['K: original summary content rating',\n",
      "       'S: simple summary content rating', 'Y: added relevance content rating',\n",
      "       'AE: added relevance content rating'],\n",
      "      dtype='object')\n",
      "Language ratings columns: Index(['L: original summary language rating',\n",
      "       'T: simple summary language rating',\n",
      "       'Z: added relevance language rating',\n",
      "       'AF: added relevance language rating'],\n",
      "      dtype='object')\n",
      "Task columns: ['H: summarization task', 'Q: full simplify task', 'V: add relevance task']\n",
      "Standards columns: Index(['K: original summary ratings meet standard',\n",
      "       'S: simple summary ratings meet standard',\n",
      "       'Y: added relevance ratings meet standard',\n",
      "       'AE: added relevance ratings meet standard'],\n",
      "      dtype='object')\n"
     ]
    }
   ],
   "source": [
    "top_results_columns = df.columns[df.columns.str.contains('top')]\n",
    "content_ratings_columns = df.columns[df.columns.str.contains('content rating')]\n",
    "language_ratings_columns = df.columns[df.columns.str.contains('language rating')]\n",
    "task_columns = ['H: summarization task', 'Q: full simplify task', 'V: add relevance task']\n",
    "standards_columns = df.columns[df.columns.str.contains('meet standard')]\n",
    "\n",
    "print(f'Top results columns: {top_results_columns}')\n",
    "print(f'Content ratings columns: {content_ratings_columns}')\n",
    "print(f'Language ratings columns: {language_ratings_columns}')\n",
    "print(f'Task columns: {task_columns}')\n",
    "print(f'Standards columns: {standards_columns}')"
   ]
  },
  {
   "cell_type": "code",
   "execution_count": 30,
   "metadata": {},
   "outputs": [
    {
     "name": "stdout",
     "output_type": "stream",
     "text": [
      "Filtered on A: date added in ['2023-04-19']\n",
      "Results where ALL conditions are met:\n",
      "\tDataFrame indices: [54, 55, 56, 57, 58, 59, 60, 61, 62, 63, 64, 65, 66, 67, 68, 69, 70, 71, 72, 73, 74, 75, 76, 77, 78, 79, 80, 81, 82, 83, 84, 85, 86, 87, 88, 89, 90, 91, 92, 93]\n",
      "\tDataFrame shape: (40, 38)\n"
     ]
    },
    {
     "data": {
      "application/vnd.plotly.v1+json": {
       "config": {
        "plotlyServerURL": "https://plot.ly"
       },
       "data": [
        {
         "marker": {
          "color": "blue"
         },
         "opacity": 0.5,
         "orientation": "h",
         "type": "bar",
         "x": [
          100,
          75
         ],
         "xaxis": "x",
         "y": [
          "Describe the interesting points to your coworker at the water cooler",
          "Summarize for a LinkedIn post"
         ],
         "yaxis": "y"
        },
        {
         "marker": {
          "color": "red"
         },
         "opacity": 0.5,
         "orientation": "h",
         "type": "bar",
         "x": [
          null,
          25
         ],
         "xaxis": "x",
         "y": [
          "Describe the interesting points to your coworker at the water cooler",
          "Summarize for a LinkedIn post"
         ],
         "yaxis": "y"
        },
        {
         "marker": {
          "color": "blue"
         },
         "opacity": 0.5,
         "orientation": "h",
         "type": "bar",
         "x": [
          75,
          100
         ],
         "xaxis": "x2",
         "y": [
          "Use language appropriate for for a lay audience",
          "Use language appropriate for for people without a science background"
         ],
         "yaxis": "y2"
        },
        {
         "marker": {
          "color": "red"
         },
         "opacity": 0.5,
         "orientation": "h",
         "type": "bar",
         "x": [
          25,
          null
         ],
         "xaxis": "x2",
         "y": [
          "Use language appropriate for for a lay audience",
          "Use language appropriate for for people without a science background"
         ],
         "yaxis": "y2"
        },
        {
         "marker": {
          "color": "blue"
         },
         "opacity": 0.5,
         "orientation": "h",
         "type": "bar",
         "x": [
          87.5
         ],
         "xaxis": "x3",
         "y": [
          "Add 1-2 sentences to make this relevant for"
         ],
         "yaxis": "y3"
        },
        {
         "marker": {
          "color": "red"
         },
         "opacity": 0.5,
         "orientation": "h",
         "type": "bar",
         "x": [
          12.5
         ],
         "xaxis": "x3",
         "y": [
          "Add 1-2 sentences to make this relevant for"
         ],
         "yaxis": "y3"
        }
       ],
       "layout": {
        "annotations": [
         {
          "font": {
           "size": 16
          },
          "showarrow": false,
          "text": "H: summarization task",
          "x": 0.5,
          "xanchor": "center",
          "xref": "paper",
          "y": 1,
          "yanchor": "bottom",
          "yref": "paper"
         },
         {
          "font": {
           "size": 16
          },
          "showarrow": false,
          "text": "Q: full simplify task",
          "x": 0.5,
          "xanchor": "center",
          "xref": "paper",
          "y": 0.71875,
          "yanchor": "bottom",
          "yref": "paper"
         },
         {
          "font": {
           "size": 16
          },
          "showarrow": false,
          "text": "V: add relevance task",
          "x": 0.5,
          "xanchor": "center",
          "xref": "paper",
          "y": 0.4375,
          "yanchor": "bottom",
          "yref": "paper"
         }
        ],
        "barmode": "stack",
        "height": 600,
        "showlegend": false,
        "template": {
         "data": {
          "bar": [
           {
            "error_x": {
             "color": "#2a3f5f"
            },
            "error_y": {
             "color": "#2a3f5f"
            },
            "marker": {
             "line": {
              "color": "#E5ECF6",
              "width": 0.5
             },
             "pattern": {
              "fillmode": "overlay",
              "size": 10,
              "solidity": 0.2
             }
            },
            "type": "bar"
           }
          ],
          "barpolar": [
           {
            "marker": {
             "line": {
              "color": "#E5ECF6",
              "width": 0.5
             },
             "pattern": {
              "fillmode": "overlay",
              "size": 10,
              "solidity": 0.2
             }
            },
            "type": "barpolar"
           }
          ],
          "carpet": [
           {
            "aaxis": {
             "endlinecolor": "#2a3f5f",
             "gridcolor": "white",
             "linecolor": "white",
             "minorgridcolor": "white",
             "startlinecolor": "#2a3f5f"
            },
            "baxis": {
             "endlinecolor": "#2a3f5f",
             "gridcolor": "white",
             "linecolor": "white",
             "minorgridcolor": "white",
             "startlinecolor": "#2a3f5f"
            },
            "type": "carpet"
           }
          ],
          "choropleth": [
           {
            "colorbar": {
             "outlinewidth": 0,
             "ticks": ""
            },
            "type": "choropleth"
           }
          ],
          "contour": [
           {
            "colorbar": {
             "outlinewidth": 0,
             "ticks": ""
            },
            "colorscale": [
             [
              0,
              "#0d0887"
             ],
             [
              0.1111111111111111,
              "#46039f"
             ],
             [
              0.2222222222222222,
              "#7201a8"
             ],
             [
              0.3333333333333333,
              "#9c179e"
             ],
             [
              0.4444444444444444,
              "#bd3786"
             ],
             [
              0.5555555555555556,
              "#d8576b"
             ],
             [
              0.6666666666666666,
              "#ed7953"
             ],
             [
              0.7777777777777778,
              "#fb9f3a"
             ],
             [
              0.8888888888888888,
              "#fdca26"
             ],
             [
              1,
              "#f0f921"
             ]
            ],
            "type": "contour"
           }
          ],
          "contourcarpet": [
           {
            "colorbar": {
             "outlinewidth": 0,
             "ticks": ""
            },
            "type": "contourcarpet"
           }
          ],
          "heatmap": [
           {
            "colorbar": {
             "outlinewidth": 0,
             "ticks": ""
            },
            "colorscale": [
             [
              0,
              "#0d0887"
             ],
             [
              0.1111111111111111,
              "#46039f"
             ],
             [
              0.2222222222222222,
              "#7201a8"
             ],
             [
              0.3333333333333333,
              "#9c179e"
             ],
             [
              0.4444444444444444,
              "#bd3786"
             ],
             [
              0.5555555555555556,
              "#d8576b"
             ],
             [
              0.6666666666666666,
              "#ed7953"
             ],
             [
              0.7777777777777778,
              "#fb9f3a"
             ],
             [
              0.8888888888888888,
              "#fdca26"
             ],
             [
              1,
              "#f0f921"
             ]
            ],
            "type": "heatmap"
           }
          ],
          "heatmapgl": [
           {
            "colorbar": {
             "outlinewidth": 0,
             "ticks": ""
            },
            "colorscale": [
             [
              0,
              "#0d0887"
             ],
             [
              0.1111111111111111,
              "#46039f"
             ],
             [
              0.2222222222222222,
              "#7201a8"
             ],
             [
              0.3333333333333333,
              "#9c179e"
             ],
             [
              0.4444444444444444,
              "#bd3786"
             ],
             [
              0.5555555555555556,
              "#d8576b"
             ],
             [
              0.6666666666666666,
              "#ed7953"
             ],
             [
              0.7777777777777778,
              "#fb9f3a"
             ],
             [
              0.8888888888888888,
              "#fdca26"
             ],
             [
              1,
              "#f0f921"
             ]
            ],
            "type": "heatmapgl"
           }
          ],
          "histogram": [
           {
            "marker": {
             "pattern": {
              "fillmode": "overlay",
              "size": 10,
              "solidity": 0.2
             }
            },
            "type": "histogram"
           }
          ],
          "histogram2d": [
           {
            "colorbar": {
             "outlinewidth": 0,
             "ticks": ""
            },
            "colorscale": [
             [
              0,
              "#0d0887"
             ],
             [
              0.1111111111111111,
              "#46039f"
             ],
             [
              0.2222222222222222,
              "#7201a8"
             ],
             [
              0.3333333333333333,
              "#9c179e"
             ],
             [
              0.4444444444444444,
              "#bd3786"
             ],
             [
              0.5555555555555556,
              "#d8576b"
             ],
             [
              0.6666666666666666,
              "#ed7953"
             ],
             [
              0.7777777777777778,
              "#fb9f3a"
             ],
             [
              0.8888888888888888,
              "#fdca26"
             ],
             [
              1,
              "#f0f921"
             ]
            ],
            "type": "histogram2d"
           }
          ],
          "histogram2dcontour": [
           {
            "colorbar": {
             "outlinewidth": 0,
             "ticks": ""
            },
            "colorscale": [
             [
              0,
              "#0d0887"
             ],
             [
              0.1111111111111111,
              "#46039f"
             ],
             [
              0.2222222222222222,
              "#7201a8"
             ],
             [
              0.3333333333333333,
              "#9c179e"
             ],
             [
              0.4444444444444444,
              "#bd3786"
             ],
             [
              0.5555555555555556,
              "#d8576b"
             ],
             [
              0.6666666666666666,
              "#ed7953"
             ],
             [
              0.7777777777777778,
              "#fb9f3a"
             ],
             [
              0.8888888888888888,
              "#fdca26"
             ],
             [
              1,
              "#f0f921"
             ]
            ],
            "type": "histogram2dcontour"
           }
          ],
          "mesh3d": [
           {
            "colorbar": {
             "outlinewidth": 0,
             "ticks": ""
            },
            "type": "mesh3d"
           }
          ],
          "parcoords": [
           {
            "line": {
             "colorbar": {
              "outlinewidth": 0,
              "ticks": ""
             }
            },
            "type": "parcoords"
           }
          ],
          "pie": [
           {
            "automargin": true,
            "type": "pie"
           }
          ],
          "scatter": [
           {
            "fillpattern": {
             "fillmode": "overlay",
             "size": 10,
             "solidity": 0.2
            },
            "type": "scatter"
           }
          ],
          "scatter3d": [
           {
            "line": {
             "colorbar": {
              "outlinewidth": 0,
              "ticks": ""
             }
            },
            "marker": {
             "colorbar": {
              "outlinewidth": 0,
              "ticks": ""
             }
            },
            "type": "scatter3d"
           }
          ],
          "scattercarpet": [
           {
            "marker": {
             "colorbar": {
              "outlinewidth": 0,
              "ticks": ""
             }
            },
            "type": "scattercarpet"
           }
          ],
          "scattergeo": [
           {
            "marker": {
             "colorbar": {
              "outlinewidth": 0,
              "ticks": ""
             }
            },
            "type": "scattergeo"
           }
          ],
          "scattergl": [
           {
            "marker": {
             "colorbar": {
              "outlinewidth": 0,
              "ticks": ""
             }
            },
            "type": "scattergl"
           }
          ],
          "scattermapbox": [
           {
            "marker": {
             "colorbar": {
              "outlinewidth": 0,
              "ticks": ""
             }
            },
            "type": "scattermapbox"
           }
          ],
          "scatterpolar": [
           {
            "marker": {
             "colorbar": {
              "outlinewidth": 0,
              "ticks": ""
             }
            },
            "type": "scatterpolar"
           }
          ],
          "scatterpolargl": [
           {
            "marker": {
             "colorbar": {
              "outlinewidth": 0,
              "ticks": ""
             }
            },
            "type": "scatterpolargl"
           }
          ],
          "scatterternary": [
           {
            "marker": {
             "colorbar": {
              "outlinewidth": 0,
              "ticks": ""
             }
            },
            "type": "scatterternary"
           }
          ],
          "surface": [
           {
            "colorbar": {
             "outlinewidth": 0,
             "ticks": ""
            },
            "colorscale": [
             [
              0,
              "#0d0887"
             ],
             [
              0.1111111111111111,
              "#46039f"
             ],
             [
              0.2222222222222222,
              "#7201a8"
             ],
             [
              0.3333333333333333,
              "#9c179e"
             ],
             [
              0.4444444444444444,
              "#bd3786"
             ],
             [
              0.5555555555555556,
              "#d8576b"
             ],
             [
              0.6666666666666666,
              "#ed7953"
             ],
             [
              0.7777777777777778,
              "#fb9f3a"
             ],
             [
              0.8888888888888888,
              "#fdca26"
             ],
             [
              1,
              "#f0f921"
             ]
            ],
            "type": "surface"
           }
          ],
          "table": [
           {
            "cells": {
             "fill": {
              "color": "#EBF0F8"
             },
             "line": {
              "color": "white"
             }
            },
            "header": {
             "fill": {
              "color": "#C8D4E3"
             },
             "line": {
              "color": "white"
             }
            },
            "type": "table"
           }
          ]
         },
         "layout": {
          "annotationdefaults": {
           "arrowcolor": "#2a3f5f",
           "arrowhead": 0,
           "arrowwidth": 1
          },
          "autotypenumbers": "strict",
          "coloraxis": {
           "colorbar": {
            "outlinewidth": 0,
            "ticks": ""
           }
          },
          "colorscale": {
           "diverging": [
            [
             0,
             "#8e0152"
            ],
            [
             0.1,
             "#c51b7d"
            ],
            [
             0.2,
             "#de77ae"
            ],
            [
             0.3,
             "#f1b6da"
            ],
            [
             0.4,
             "#fde0ef"
            ],
            [
             0.5,
             "#f7f7f7"
            ],
            [
             0.6,
             "#e6f5d0"
            ],
            [
             0.7,
             "#b8e186"
            ],
            [
             0.8,
             "#7fbc41"
            ],
            [
             0.9,
             "#4d9221"
            ],
            [
             1,
             "#276419"
            ]
           ],
           "sequential": [
            [
             0,
             "#0d0887"
            ],
            [
             0.1111111111111111,
             "#46039f"
            ],
            [
             0.2222222222222222,
             "#7201a8"
            ],
            [
             0.3333333333333333,
             "#9c179e"
            ],
            [
             0.4444444444444444,
             "#bd3786"
            ],
            [
             0.5555555555555556,
             "#d8576b"
            ],
            [
             0.6666666666666666,
             "#ed7953"
            ],
            [
             0.7777777777777778,
             "#fb9f3a"
            ],
            [
             0.8888888888888888,
             "#fdca26"
            ],
            [
             1,
             "#f0f921"
            ]
           ],
           "sequentialminus": [
            [
             0,
             "#0d0887"
            ],
            [
             0.1111111111111111,
             "#46039f"
            ],
            [
             0.2222222222222222,
             "#7201a8"
            ],
            [
             0.3333333333333333,
             "#9c179e"
            ],
            [
             0.4444444444444444,
             "#bd3786"
            ],
            [
             0.5555555555555556,
             "#d8576b"
            ],
            [
             0.6666666666666666,
             "#ed7953"
            ],
            [
             0.7777777777777778,
             "#fb9f3a"
            ],
            [
             0.8888888888888888,
             "#fdca26"
            ],
            [
             1,
             "#f0f921"
            ]
           ]
          },
          "colorway": [
           "#636efa",
           "#EF553B",
           "#00cc96",
           "#ab63fa",
           "#FFA15A",
           "#19d3f3",
           "#FF6692",
           "#B6E880",
           "#FF97FF",
           "#FECB52"
          ],
          "font": {
           "color": "#2a3f5f"
          },
          "geo": {
           "bgcolor": "white",
           "lakecolor": "white",
           "landcolor": "#E5ECF6",
           "showlakes": true,
           "showland": true,
           "subunitcolor": "white"
          },
          "hoverlabel": {
           "align": "left"
          },
          "hovermode": "closest",
          "mapbox": {
           "style": "light"
          },
          "paper_bgcolor": "white",
          "plot_bgcolor": "#E5ECF6",
          "polar": {
           "angularaxis": {
            "gridcolor": "white",
            "linecolor": "white",
            "ticks": ""
           },
           "bgcolor": "#E5ECF6",
           "radialaxis": {
            "gridcolor": "white",
            "linecolor": "white",
            "ticks": ""
           }
          },
          "scene": {
           "xaxis": {
            "backgroundcolor": "#E5ECF6",
            "gridcolor": "white",
            "gridwidth": 2,
            "linecolor": "white",
            "showbackground": true,
            "ticks": "",
            "zerolinecolor": "white"
           },
           "yaxis": {
            "backgroundcolor": "#E5ECF6",
            "gridcolor": "white",
            "gridwidth": 2,
            "linecolor": "white",
            "showbackground": true,
            "ticks": "",
            "zerolinecolor": "white"
           },
           "zaxis": {
            "backgroundcolor": "#E5ECF6",
            "gridcolor": "white",
            "gridwidth": 2,
            "linecolor": "white",
            "showbackground": true,
            "ticks": "",
            "zerolinecolor": "white"
           }
          },
          "shapedefaults": {
           "line": {
            "color": "#2a3f5f"
           }
          },
          "ternary": {
           "aaxis": {
            "gridcolor": "white",
            "linecolor": "white",
            "ticks": ""
           },
           "baxis": {
            "gridcolor": "white",
            "linecolor": "white",
            "ticks": ""
           },
           "bgcolor": "#E5ECF6",
           "caxis": {
            "gridcolor": "white",
            "linecolor": "white",
            "ticks": ""
           }
          },
          "title": {
           "x": 0.05
          },
          "xaxis": {
           "automargin": true,
           "gridcolor": "white",
           "linecolor": "white",
           "ticks": "",
           "title": {
            "standoff": 15
           },
           "zerolinecolor": "white",
           "zerolinewidth": 2
          },
          "yaxis": {
           "automargin": true,
           "gridcolor": "white",
           "linecolor": "white",
           "ticks": "",
           "title": {
            "standoff": 15
           },
           "zerolinecolor": "white",
           "zerolinewidth": 2
          }
         }
        },
        "title": {
         "text": "Percentage with K: original summary ratings meet standard of value 1 by category (indicated in red).",
         "x": 0.5,
         "xanchor": "center",
         "yanchor": "bottom"
        },
        "xaxis": {
         "anchor": "y",
         "domain": [
          0,
          1
         ]
        },
        "xaxis2": {
         "anchor": "y2",
         "domain": [
          0,
          1
         ]
        },
        "xaxis3": {
         "anchor": "y3",
         "domain": [
          0,
          1
         ],
         "title": {
          "standoff": 0,
          "text": "% of Total"
         }
        },
        "xaxis4": {
         "anchor": "y4",
         "domain": [
          0,
          1
         ]
        },
        "yaxis": {
         "anchor": "x",
         "domain": [
          0.84375,
          1
         ],
         "title": {
          "text": ""
         }
        },
        "yaxis2": {
         "anchor": "x2",
         "domain": [
          0.5625,
          0.71875
         ]
        },
        "yaxis3": {
         "anchor": "x3",
         "domain": [
          0.28125,
          0.4375
         ]
        },
        "yaxis4": {
         "anchor": "x4",
         "domain": [
          0,
          0.15625
         ]
        }
       }
      }
     },
     "metadata": {},
     "output_type": "display_data"
    },
    {
     "data": {
      "application/vnd.plotly.v1+json": {
       "config": {
        "plotlyServerURL": "https://plot.ly"
       },
       "data": [
        {
         "marker": {
          "color": "blue"
         },
         "opacity": 0.5,
         "orientation": "h",
         "type": "histogram",
         "xaxis": "x",
         "y": [
          "Describe the interesting points to your coworker at the water cooler",
          "Describe the interesting points to your coworker at the water cooler",
          "Describe the interesting points to your coworker at the water cooler",
          "Describe the interesting points to your coworker at the water cooler",
          "Describe the interesting points to your coworker at the water cooler",
          "Describe the interesting points to your coworker at the water cooler",
          "Describe the interesting points to your coworker at the water cooler",
          "Describe the interesting points to your coworker at the water cooler",
          "Describe the interesting points to your coworker at the water cooler",
          "Describe the interesting points to your coworker at the water cooler",
          "Describe the interesting points to your coworker at the water cooler",
          "Describe the interesting points to your coworker at the water cooler",
          "Describe the interesting points to your coworker at the water cooler",
          "Describe the interesting points to your coworker at the water cooler",
          "Describe the interesting points to your coworker at the water cooler",
          "Describe the interesting points to your coworker at the water cooler",
          "Describe the interesting points to your coworker at the water cooler",
          "Describe the interesting points to your coworker at the water cooler",
          "Describe the interesting points to your coworker at the water cooler",
          "Describe the interesting points to your coworker at the water cooler",
          "Summarize for a LinkedIn post",
          "Summarize for a LinkedIn post",
          "Summarize for a LinkedIn post",
          "Summarize for a LinkedIn post",
          "Summarize for a LinkedIn post",
          "Summarize for a LinkedIn post",
          "Summarize for a LinkedIn post",
          "Summarize for a LinkedIn post",
          "Summarize for a LinkedIn post",
          "Summarize for a LinkedIn post",
          "Summarize for a LinkedIn post",
          "Summarize for a LinkedIn post",
          "Summarize for a LinkedIn post",
          "Summarize for a LinkedIn post",
          "Summarize for a LinkedIn post"
         ],
         "yaxis": "y"
        },
        {
         "marker": {
          "color": "red"
         },
         "opacity": 0.5,
         "orientation": "h",
         "type": "histogram",
         "xaxis": "x",
         "y": [
          "Summarize for a LinkedIn post",
          "Summarize for a LinkedIn post",
          "Summarize for a LinkedIn post",
          "Summarize for a LinkedIn post",
          "Summarize for a LinkedIn post"
         ],
         "yaxis": "y"
        },
        {
         "marker": {
          "color": "blue"
         },
         "opacity": 0.5,
         "orientation": "h",
         "type": "histogram",
         "xaxis": "x2",
         "y": [
          "Use language appropriate for for a lay audience",
          "Use language appropriate for for a lay audience",
          "Use language appropriate for for a lay audience",
          "Use language appropriate for for a lay audience",
          "Use language appropriate for for a lay audience",
          "Use language appropriate for for a lay audience",
          "Use language appropriate for for a lay audience",
          "Use language appropriate for for a lay audience",
          "Use language appropriate for for a lay audience",
          "Use language appropriate for for a lay audience",
          "Use language appropriate for for a lay audience",
          "Use language appropriate for for a lay audience",
          "Use language appropriate for for a lay audience",
          "Use language appropriate for for a lay audience",
          "Use language appropriate for for a lay audience",
          "Use language appropriate for for people without a science background",
          "Use language appropriate for for people without a science background",
          "Use language appropriate for for people without a science background",
          "Use language appropriate for for people without a science background",
          "Use language appropriate for for people without a science background",
          "Use language appropriate for for people without a science background",
          "Use language appropriate for for people without a science background",
          "Use language appropriate for for people without a science background",
          "Use language appropriate for for people without a science background",
          "Use language appropriate for for people without a science background",
          "Use language appropriate for for people without a science background",
          "Use language appropriate for for people without a science background",
          "Use language appropriate for for people without a science background",
          "Use language appropriate for for people without a science background",
          "Use language appropriate for for people without a science background",
          "Use language appropriate for for people without a science background",
          "Use language appropriate for for people without a science background",
          "Use language appropriate for for people without a science background",
          "Use language appropriate for for people without a science background",
          "Use language appropriate for for people without a science background"
         ],
         "yaxis": "y2"
        },
        {
         "marker": {
          "color": "red"
         },
         "opacity": 0.5,
         "orientation": "h",
         "type": "histogram",
         "xaxis": "x2",
         "y": [
          "Use language appropriate for for a lay audience",
          "Use language appropriate for for a lay audience",
          "Use language appropriate for for a lay audience",
          "Use language appropriate for for a lay audience",
          "Use language appropriate for for a lay audience"
         ],
         "yaxis": "y2"
        },
        {
         "marker": {
          "color": "blue"
         },
         "opacity": 0.5,
         "orientation": "h",
         "type": "histogram",
         "xaxis": "x3",
         "y": [
          "Add 1-2 sentences to make this relevant for",
          "Add 1-2 sentences to make this relevant for",
          "Add 1-2 sentences to make this relevant for",
          "Add 1-2 sentences to make this relevant for",
          "Add 1-2 sentences to make this relevant for",
          "Add 1-2 sentences to make this relevant for",
          "Add 1-2 sentences to make this relevant for",
          "Add 1-2 sentences to make this relevant for",
          "Add 1-2 sentences to make this relevant for",
          "Add 1-2 sentences to make this relevant for",
          "Add 1-2 sentences to make this relevant for",
          "Add 1-2 sentences to make this relevant for",
          "Add 1-2 sentences to make this relevant for",
          "Add 1-2 sentences to make this relevant for",
          "Add 1-2 sentences to make this relevant for",
          "Add 1-2 sentences to make this relevant for",
          "Add 1-2 sentences to make this relevant for",
          "Add 1-2 sentences to make this relevant for",
          "Add 1-2 sentences to make this relevant for",
          "Add 1-2 sentences to make this relevant for",
          "Add 1-2 sentences to make this relevant for",
          "Add 1-2 sentences to make this relevant for",
          "Add 1-2 sentences to make this relevant for",
          "Add 1-2 sentences to make this relevant for",
          "Add 1-2 sentences to make this relevant for",
          "Add 1-2 sentences to make this relevant for",
          "Add 1-2 sentences to make this relevant for",
          "Add 1-2 sentences to make this relevant for",
          "Add 1-2 sentences to make this relevant for",
          "Add 1-2 sentences to make this relevant for",
          "Add 1-2 sentences to make this relevant for",
          "Add 1-2 sentences to make this relevant for",
          "Add 1-2 sentences to make this relevant for",
          "Add 1-2 sentences to make this relevant for",
          "Add 1-2 sentences to make this relevant for"
         ],
         "yaxis": "y3"
        },
        {
         "marker": {
          "color": "red"
         },
         "opacity": 0.5,
         "orientation": "h",
         "type": "histogram",
         "xaxis": "x3",
         "y": [
          "Add 1-2 sentences to make this relevant for",
          "Add 1-2 sentences to make this relevant for",
          "Add 1-2 sentences to make this relevant for",
          "Add 1-2 sentences to make this relevant for",
          "Add 1-2 sentences to make this relevant for"
         ],
         "yaxis": "y3"
        }
       ],
       "layout": {
        "annotations": [
         {
          "font": {
           "size": 16
          },
          "showarrow": false,
          "text": "H: summarization task",
          "x": 0.5,
          "xanchor": "center",
          "xref": "paper",
          "y": 1,
          "yanchor": "bottom",
          "yref": "paper"
         },
         {
          "font": {
           "size": 16
          },
          "showarrow": false,
          "text": "Q: full simplify task",
          "x": 0.5,
          "xanchor": "center",
          "xref": "paper",
          "y": 0.6111111111111112,
          "yanchor": "bottom",
          "yref": "paper"
         },
         {
          "font": {
           "size": 16
          },
          "showarrow": false,
          "text": "V: add relevance task",
          "x": 0.5,
          "xanchor": "center",
          "xref": "paper",
          "y": 0.22222222222222224,
          "yanchor": "bottom",
          "yref": "paper"
         }
        ],
        "bargap": 0.1,
        "barmode": "group",
        "showlegend": false,
        "template": {
         "data": {
          "bar": [
           {
            "error_x": {
             "color": "#2a3f5f"
            },
            "error_y": {
             "color": "#2a3f5f"
            },
            "marker": {
             "line": {
              "color": "#E5ECF6",
              "width": 0.5
             },
             "pattern": {
              "fillmode": "overlay",
              "size": 10,
              "solidity": 0.2
             }
            },
            "type": "bar"
           }
          ],
          "barpolar": [
           {
            "marker": {
             "line": {
              "color": "#E5ECF6",
              "width": 0.5
             },
             "pattern": {
              "fillmode": "overlay",
              "size": 10,
              "solidity": 0.2
             }
            },
            "type": "barpolar"
           }
          ],
          "carpet": [
           {
            "aaxis": {
             "endlinecolor": "#2a3f5f",
             "gridcolor": "white",
             "linecolor": "white",
             "minorgridcolor": "white",
             "startlinecolor": "#2a3f5f"
            },
            "baxis": {
             "endlinecolor": "#2a3f5f",
             "gridcolor": "white",
             "linecolor": "white",
             "minorgridcolor": "white",
             "startlinecolor": "#2a3f5f"
            },
            "type": "carpet"
           }
          ],
          "choropleth": [
           {
            "colorbar": {
             "outlinewidth": 0,
             "ticks": ""
            },
            "type": "choropleth"
           }
          ],
          "contour": [
           {
            "colorbar": {
             "outlinewidth": 0,
             "ticks": ""
            },
            "colorscale": [
             [
              0,
              "#0d0887"
             ],
             [
              0.1111111111111111,
              "#46039f"
             ],
             [
              0.2222222222222222,
              "#7201a8"
             ],
             [
              0.3333333333333333,
              "#9c179e"
             ],
             [
              0.4444444444444444,
              "#bd3786"
             ],
             [
              0.5555555555555556,
              "#d8576b"
             ],
             [
              0.6666666666666666,
              "#ed7953"
             ],
             [
              0.7777777777777778,
              "#fb9f3a"
             ],
             [
              0.8888888888888888,
              "#fdca26"
             ],
             [
              1,
              "#f0f921"
             ]
            ],
            "type": "contour"
           }
          ],
          "contourcarpet": [
           {
            "colorbar": {
             "outlinewidth": 0,
             "ticks": ""
            },
            "type": "contourcarpet"
           }
          ],
          "heatmap": [
           {
            "colorbar": {
             "outlinewidth": 0,
             "ticks": ""
            },
            "colorscale": [
             [
              0,
              "#0d0887"
             ],
             [
              0.1111111111111111,
              "#46039f"
             ],
             [
              0.2222222222222222,
              "#7201a8"
             ],
             [
              0.3333333333333333,
              "#9c179e"
             ],
             [
              0.4444444444444444,
              "#bd3786"
             ],
             [
              0.5555555555555556,
              "#d8576b"
             ],
             [
              0.6666666666666666,
              "#ed7953"
             ],
             [
              0.7777777777777778,
              "#fb9f3a"
             ],
             [
              0.8888888888888888,
              "#fdca26"
             ],
             [
              1,
              "#f0f921"
             ]
            ],
            "type": "heatmap"
           }
          ],
          "heatmapgl": [
           {
            "colorbar": {
             "outlinewidth": 0,
             "ticks": ""
            },
            "colorscale": [
             [
              0,
              "#0d0887"
             ],
             [
              0.1111111111111111,
              "#46039f"
             ],
             [
              0.2222222222222222,
              "#7201a8"
             ],
             [
              0.3333333333333333,
              "#9c179e"
             ],
             [
              0.4444444444444444,
              "#bd3786"
             ],
             [
              0.5555555555555556,
              "#d8576b"
             ],
             [
              0.6666666666666666,
              "#ed7953"
             ],
             [
              0.7777777777777778,
              "#fb9f3a"
             ],
             [
              0.8888888888888888,
              "#fdca26"
             ],
             [
              1,
              "#f0f921"
             ]
            ],
            "type": "heatmapgl"
           }
          ],
          "histogram": [
           {
            "marker": {
             "pattern": {
              "fillmode": "overlay",
              "size": 10,
              "solidity": 0.2
             }
            },
            "type": "histogram"
           }
          ],
          "histogram2d": [
           {
            "colorbar": {
             "outlinewidth": 0,
             "ticks": ""
            },
            "colorscale": [
             [
              0,
              "#0d0887"
             ],
             [
              0.1111111111111111,
              "#46039f"
             ],
             [
              0.2222222222222222,
              "#7201a8"
             ],
             [
              0.3333333333333333,
              "#9c179e"
             ],
             [
              0.4444444444444444,
              "#bd3786"
             ],
             [
              0.5555555555555556,
              "#d8576b"
             ],
             [
              0.6666666666666666,
              "#ed7953"
             ],
             [
              0.7777777777777778,
              "#fb9f3a"
             ],
             [
              0.8888888888888888,
              "#fdca26"
             ],
             [
              1,
              "#f0f921"
             ]
            ],
            "type": "histogram2d"
           }
          ],
          "histogram2dcontour": [
           {
            "colorbar": {
             "outlinewidth": 0,
             "ticks": ""
            },
            "colorscale": [
             [
              0,
              "#0d0887"
             ],
             [
              0.1111111111111111,
              "#46039f"
             ],
             [
              0.2222222222222222,
              "#7201a8"
             ],
             [
              0.3333333333333333,
              "#9c179e"
             ],
             [
              0.4444444444444444,
              "#bd3786"
             ],
             [
              0.5555555555555556,
              "#d8576b"
             ],
             [
              0.6666666666666666,
              "#ed7953"
             ],
             [
              0.7777777777777778,
              "#fb9f3a"
             ],
             [
              0.8888888888888888,
              "#fdca26"
             ],
             [
              1,
              "#f0f921"
             ]
            ],
            "type": "histogram2dcontour"
           }
          ],
          "mesh3d": [
           {
            "colorbar": {
             "outlinewidth": 0,
             "ticks": ""
            },
            "type": "mesh3d"
           }
          ],
          "parcoords": [
           {
            "line": {
             "colorbar": {
              "outlinewidth": 0,
              "ticks": ""
             }
            },
            "type": "parcoords"
           }
          ],
          "pie": [
           {
            "automargin": true,
            "type": "pie"
           }
          ],
          "scatter": [
           {
            "fillpattern": {
             "fillmode": "overlay",
             "size": 10,
             "solidity": 0.2
            },
            "type": "scatter"
           }
          ],
          "scatter3d": [
           {
            "line": {
             "colorbar": {
              "outlinewidth": 0,
              "ticks": ""
             }
            },
            "marker": {
             "colorbar": {
              "outlinewidth": 0,
              "ticks": ""
             }
            },
            "type": "scatter3d"
           }
          ],
          "scattercarpet": [
           {
            "marker": {
             "colorbar": {
              "outlinewidth": 0,
              "ticks": ""
             }
            },
            "type": "scattercarpet"
           }
          ],
          "scattergeo": [
           {
            "marker": {
             "colorbar": {
              "outlinewidth": 0,
              "ticks": ""
             }
            },
            "type": "scattergeo"
           }
          ],
          "scattergl": [
           {
            "marker": {
             "colorbar": {
              "outlinewidth": 0,
              "ticks": ""
             }
            },
            "type": "scattergl"
           }
          ],
          "scattermapbox": [
           {
            "marker": {
             "colorbar": {
              "outlinewidth": 0,
              "ticks": ""
             }
            },
            "type": "scattermapbox"
           }
          ],
          "scatterpolar": [
           {
            "marker": {
             "colorbar": {
              "outlinewidth": 0,
              "ticks": ""
             }
            },
            "type": "scatterpolar"
           }
          ],
          "scatterpolargl": [
           {
            "marker": {
             "colorbar": {
              "outlinewidth": 0,
              "ticks": ""
             }
            },
            "type": "scatterpolargl"
           }
          ],
          "scatterternary": [
           {
            "marker": {
             "colorbar": {
              "outlinewidth": 0,
              "ticks": ""
             }
            },
            "type": "scatterternary"
           }
          ],
          "surface": [
           {
            "colorbar": {
             "outlinewidth": 0,
             "ticks": ""
            },
            "colorscale": [
             [
              0,
              "#0d0887"
             ],
             [
              0.1111111111111111,
              "#46039f"
             ],
             [
              0.2222222222222222,
              "#7201a8"
             ],
             [
              0.3333333333333333,
              "#9c179e"
             ],
             [
              0.4444444444444444,
              "#bd3786"
             ],
             [
              0.5555555555555556,
              "#d8576b"
             ],
             [
              0.6666666666666666,
              "#ed7953"
             ],
             [
              0.7777777777777778,
              "#fb9f3a"
             ],
             [
              0.8888888888888888,
              "#fdca26"
             ],
             [
              1,
              "#f0f921"
             ]
            ],
            "type": "surface"
           }
          ],
          "table": [
           {
            "cells": {
             "fill": {
              "color": "#EBF0F8"
             },
             "line": {
              "color": "white"
             }
            },
            "header": {
             "fill": {
              "color": "#C8D4E3"
             },
             "line": {
              "color": "white"
             }
            },
            "type": "table"
           }
          ]
         },
         "layout": {
          "annotationdefaults": {
           "arrowcolor": "#2a3f5f",
           "arrowhead": 0,
           "arrowwidth": 1
          },
          "autotypenumbers": "strict",
          "coloraxis": {
           "colorbar": {
            "outlinewidth": 0,
            "ticks": ""
           }
          },
          "colorscale": {
           "diverging": [
            [
             0,
             "#8e0152"
            ],
            [
             0.1,
             "#c51b7d"
            ],
            [
             0.2,
             "#de77ae"
            ],
            [
             0.3,
             "#f1b6da"
            ],
            [
             0.4,
             "#fde0ef"
            ],
            [
             0.5,
             "#f7f7f7"
            ],
            [
             0.6,
             "#e6f5d0"
            ],
            [
             0.7,
             "#b8e186"
            ],
            [
             0.8,
             "#7fbc41"
            ],
            [
             0.9,
             "#4d9221"
            ],
            [
             1,
             "#276419"
            ]
           ],
           "sequential": [
            [
             0,
             "#0d0887"
            ],
            [
             0.1111111111111111,
             "#46039f"
            ],
            [
             0.2222222222222222,
             "#7201a8"
            ],
            [
             0.3333333333333333,
             "#9c179e"
            ],
            [
             0.4444444444444444,
             "#bd3786"
            ],
            [
             0.5555555555555556,
             "#d8576b"
            ],
            [
             0.6666666666666666,
             "#ed7953"
            ],
            [
             0.7777777777777778,
             "#fb9f3a"
            ],
            [
             0.8888888888888888,
             "#fdca26"
            ],
            [
             1,
             "#f0f921"
            ]
           ],
           "sequentialminus": [
            [
             0,
             "#0d0887"
            ],
            [
             0.1111111111111111,
             "#46039f"
            ],
            [
             0.2222222222222222,
             "#7201a8"
            ],
            [
             0.3333333333333333,
             "#9c179e"
            ],
            [
             0.4444444444444444,
             "#bd3786"
            ],
            [
             0.5555555555555556,
             "#d8576b"
            ],
            [
             0.6666666666666666,
             "#ed7953"
            ],
            [
             0.7777777777777778,
             "#fb9f3a"
            ],
            [
             0.8888888888888888,
             "#fdca26"
            ],
            [
             1,
             "#f0f921"
            ]
           ]
          },
          "colorway": [
           "#636efa",
           "#EF553B",
           "#00cc96",
           "#ab63fa",
           "#FFA15A",
           "#19d3f3",
           "#FF6692",
           "#B6E880",
           "#FF97FF",
           "#FECB52"
          ],
          "font": {
           "color": "#2a3f5f"
          },
          "geo": {
           "bgcolor": "white",
           "lakecolor": "white",
           "landcolor": "#E5ECF6",
           "showlakes": true,
           "showland": true,
           "subunitcolor": "white"
          },
          "hoverlabel": {
           "align": "left"
          },
          "hovermode": "closest",
          "mapbox": {
           "style": "light"
          },
          "paper_bgcolor": "white",
          "plot_bgcolor": "#E5ECF6",
          "polar": {
           "angularaxis": {
            "gridcolor": "white",
            "linecolor": "white",
            "ticks": ""
           },
           "bgcolor": "#E5ECF6",
           "radialaxis": {
            "gridcolor": "white",
            "linecolor": "white",
            "ticks": ""
           }
          },
          "scene": {
           "xaxis": {
            "backgroundcolor": "#E5ECF6",
            "gridcolor": "white",
            "gridwidth": 2,
            "linecolor": "white",
            "showbackground": true,
            "ticks": "",
            "zerolinecolor": "white"
           },
           "yaxis": {
            "backgroundcolor": "#E5ECF6",
            "gridcolor": "white",
            "gridwidth": 2,
            "linecolor": "white",
            "showbackground": true,
            "ticks": "",
            "zerolinecolor": "white"
           },
           "zaxis": {
            "backgroundcolor": "#E5ECF6",
            "gridcolor": "white",
            "gridwidth": 2,
            "linecolor": "white",
            "showbackground": true,
            "ticks": "",
            "zerolinecolor": "white"
           }
          },
          "shapedefaults": {
           "line": {
            "color": "#2a3f5f"
           }
          },
          "ternary": {
           "aaxis": {
            "gridcolor": "white",
            "linecolor": "white",
            "ticks": ""
           },
           "baxis": {
            "gridcolor": "white",
            "linecolor": "white",
            "ticks": ""
           },
           "bgcolor": "#E5ECF6",
           "caxis": {
            "gridcolor": "white",
            "linecolor": "white",
            "ticks": ""
           }
          },
          "title": {
           "x": 0.05
          },
          "xaxis": {
           "automargin": true,
           "gridcolor": "white",
           "linecolor": "white",
           "ticks": "",
           "title": {
            "standoff": 15
           },
           "zerolinecolor": "white",
           "zerolinewidth": 2
          },
          "yaxis": {
           "automargin": true,
           "gridcolor": "white",
           "linecolor": "white",
           "ticks": "",
           "title": {
            "standoff": 15
           },
           "zerolinecolor": "white",
           "zerolinewidth": 2
          }
         }
        },
        "title": {
         "text": "Observations with K: original summary ratings meet standard of value 1 are indicated in red",
         "x": 0.5,
         "xanchor": "center",
         "yanchor": "top"
        },
        "xaxis": {
         "anchor": "y",
         "domain": [
          0,
          1
         ]
        },
        "xaxis2": {
         "anchor": "y2",
         "domain": [
          0,
          1
         ]
        },
        "xaxis3": {
         "anchor": "y3",
         "domain": [
          0,
          1
         ],
         "title": {
          "standoff": 0,
          "text": "number of observations"
         }
        },
        "yaxis": {
         "anchor": "x",
         "domain": [
          0.7777777777777778,
          1
         ]
        },
        "yaxis2": {
         "anchor": "x2",
         "domain": [
          0.3888888888888889,
          0.6111111111111112
         ]
        },
        "yaxis3": {
         "anchor": "x3",
         "domain": [
          0,
          0.22222222222222224
         ]
        }
       }
      }
     },
     "metadata": {},
     "output_type": "display_data"
    }
   ],
   "source": [
    "filter = {\n",
    "    'A: date added': ['2023-04-19']\n",
    "}\n",
    "\n",
    "plot_df = filter_df_all_conditions(df, filter)\n",
    "\n",
    "plot_proportion(plot_df, columns= task_columns, classication=standards_columns[0], label=1);\n",
    "plot_int_bar(\n",
    "    plot_df, \n",
    "    columns= task_columns, classification=standards_columns[0], \n",
    "    label=1, barmode='group');"
   ]
  },
  {
   "cell_type": "code",
   "execution_count": null,
   "metadata": {},
   "outputs": [],
   "source": []
  },
  {
   "cell_type": "code",
   "execution_count": null,
   "metadata": {},
   "outputs": [],
   "source": []
  },
  {
   "cell_type": "code",
   "execution_count": null,
   "metadata": {},
   "outputs": [],
   "source": []
  },
  {
   "cell_type": "code",
   "execution_count": null,
   "metadata": {},
   "outputs": [],
   "source": []
  },
  {
   "cell_type": "code",
   "execution_count": null,
   "metadata": {},
   "outputs": [],
   "source": []
  },
  {
   "cell_type": "code",
   "execution_count": null,
   "metadata": {},
   "outputs": [],
   "source": []
  },
  {
   "cell_type": "code",
   "execution_count": null,
   "metadata": {},
   "outputs": [],
   "source": []
  },
  {
   "cell_type": "code",
   "execution_count": null,
   "metadata": {},
   "outputs": [],
   "source": []
  },
  {
   "cell_type": "code",
   "execution_count": null,
   "metadata": {},
   "outputs": [],
   "source": []
  },
  {
   "cell_type": "code",
   "execution_count": null,
   "metadata": {},
   "outputs": [],
   "source": []
  },
  {
   "cell_type": "code",
   "execution_count": null,
   "metadata": {},
   "outputs": [],
   "source": []
  },
  {
   "cell_type": "code",
   "execution_count": null,
   "metadata": {},
   "outputs": [],
   "source": []
  },
  {
   "cell_type": "code",
   "execution_count": null,
   "metadata": {},
   "outputs": [],
   "source": []
  },
  {
   "cell_type": "code",
   "execution_count": null,
   "metadata": {},
   "outputs": [],
   "source": []
  },
  {
   "cell_type": "code",
   "execution_count": null,
   "metadata": {},
   "outputs": [],
   "source": []
  },
  {
   "cell_type": "markdown",
   "metadata": {},
   "source": [
    "# *End of Page*"
   ]
  }
 ],
 "metadata": {
  "kernelspec": {
   "display_name": "Python 3.9.13 64-bit",
   "language": "python",
   "name": "python3"
  },
  "language_info": {
   "codemirror_mode": {
    "name": "ipython",
    "version": 3
   },
   "file_extension": ".py",
   "mimetype": "text/x-python",
   "name": "python",
   "nbconvert_exporter": "python",
   "pygments_lexer": "ipython3",
   "version": "3.9.16"
  },
  "orig_nbformat": 4,
  "vscode": {
   "interpreter": {
    "hash": "11938c6bc6919ae2720b4d5011047913343b08a43b18698fd82dedb0d4417594"
   }
  }
 },
 "nbformat": 4,
 "nbformat_minor": 2
}
