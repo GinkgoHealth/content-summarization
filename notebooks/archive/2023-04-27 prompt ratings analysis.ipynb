{
 "cells": [
  {
   "cell_type": "markdown",
   "metadata": {},
   "source": [
    "# Title\n",
    "[]()"
   ]
  },
  {
   "cell_type": "code",
   "execution_count": 1,
   "metadata": {},
   "outputs": [],
   "source": [
    "from pandas import json_normalize  \n",
    "import pandas as pd\n",
    "import sys\n",
    "sys.path.append(r\"C:\\Users\\silvh\\OneDrive\\lighthouse\\custom_python\")\n",
    "sys.path.append(r\"C:\\Users\\silvh\\OneDrive\\lighthouse\\portfolio-projects\\online-PT-social-media-NLP\\src\")\n",
    "from silvhua import *\n",
    "from datetime import datetime\n",
    "# import json\n",
    "# from plotly.subplots import make_subplots\n",
    "# import requests"
   ]
  },
  {
   "cell_type": "code",
   "execution_count": 66,
   "metadata": {},
   "outputs": [],
   "source": [
    "# set the option to wrap text within cells\n",
    "pd.set_option('display.max_colwidth', 10)\n",
    "pd.set_option('display.max_rows', 10)\n",
    "pd.set_option('display.max_columns', None)\n",
    "pd.set_option('display.width', None)"
   ]
  },
  {
   "attachments": {},
   "cell_type": "markdown",
   "metadata": {},
   "source": [
    "# Load previously saved dataframe"
   ]
  },
  {
   "attachments": {},
   "cell_type": "markdown",
   "metadata": {},
   "source": [
    "## References"
   ]
  },
  {
   "cell_type": "code",
   "execution_count": 37,
   "metadata": {},
   "outputs": [
    {
     "name": "stdout",
     "output_type": "stream",
     "text": [
      "Time completed: 2023-04-28 11:33:06.944337\n",
      "Dataframe shape:  (2124, 5)\n",
      "DataFrame columns: ['Knowledge ID #', 'Citation #', 'Reference', 'Reference Type', 'Reference Rank']\n"
     ]
    },
    {
     "data": {
      "text/html": [
       "<div>\n",
       "<style scoped>\n",
       "    .dataframe tbody tr th:only-of-type {\n",
       "        vertical-align: middle;\n",
       "    }\n",
       "\n",
       "    .dataframe tbody tr th {\n",
       "        vertical-align: top;\n",
       "    }\n",
       "\n",
       "    .dataframe thead th {\n",
       "        text-align: right;\n",
       "    }\n",
       "</style>\n",
       "<table border=\"1\" class=\"dataframe\">\n",
       "  <thead>\n",
       "    <tr style=\"text-align: right;\">\n",
       "      <th></th>\n",
       "      <th>Knowledge ID #</th>\n",
       "      <th>Citation #</th>\n",
       "      <th>Reference</th>\n",
       "      <th>Reference Type</th>\n",
       "      <th>Reference Rank</th>\n",
       "    </tr>\n",
       "  </thead>\n",
       "  <tbody>\n",
       "    <tr>\n",
       "      <th>10</th>\n",
       "      <td>2</td>\n",
       "      <td>1</td>\n",
       "      <td>Tsereteli, N., Vallat, R., Fernandez-Tajes, J....</td>\n",
       "      <td>Journal Article</td>\n",
       "      <td>1</td>\n",
       "    </tr>\n",
       "    <tr>\n",
       "      <th>50</th>\n",
       "      <td>6</td>\n",
       "      <td>1</td>\n",
       "      <td>Paravlic, A. H., Slimani, M., Tod, D., Marusic...</td>\n",
       "      <td>Journal Article</td>\n",
       "      <td>1</td>\n",
       "    </tr>\n",
       "    <tr>\n",
       "      <th>70</th>\n",
       "      <td>8</td>\n",
       "      <td>1</td>\n",
       "      <td>Jäger, R., Kerksick, C. M., Campbell, B. I., C...</td>\n",
       "      <td>Journal Article</td>\n",
       "      <td>1</td>\n",
       "    </tr>\n",
       "    <tr>\n",
       "      <th>90</th>\n",
       "      <td>10</td>\n",
       "      <td>1</td>\n",
       "      <td>Pontzer, H., Yamada, Y., Sagayama, H., Ainslie...</td>\n",
       "      <td>Journal Article</td>\n",
       "      <td>1</td>\n",
       "    </tr>\n",
       "    <tr>\n",
       "      <th>100</th>\n",
       "      <td>11</td>\n",
       "      <td>1</td>\n",
       "      <td>Sinaki, M., &amp; Mikkelsen, B. A. (1984). Postmen...</td>\n",
       "      <td>Journal Article</td>\n",
       "      <td>1</td>\n",
       "    </tr>\n",
       "    <tr>\n",
       "      <th>...</th>\n",
       "      <td>...</td>\n",
       "      <td>...</td>\n",
       "      <td>...</td>\n",
       "      <td>...</td>\n",
       "      <td>...</td>\n",
       "    </tr>\n",
       "    <tr>\n",
       "      <th>12102</th>\n",
       "      <td>1211</td>\n",
       "      <td>3</td>\n",
       "      <td>American Cancer Society Guidelines for the Ear...</td>\n",
       "      <td>Website: Other Reputable Source</td>\n",
       "      <td>4</td>\n",
       "    </tr>\n",
       "    <tr>\n",
       "      <th>12110</th>\n",
       "      <td>1212</td>\n",
       "      <td>1</td>\n",
       "      <td>How a stool test can help find colorectal canc...</td>\n",
       "      <td>Website: Other Reputable Source</td>\n",
       "      <td>4</td>\n",
       "    </tr>\n",
       "    <tr>\n",
       "      <th>12111</th>\n",
       "      <td>1212</td>\n",
       "      <td>2</td>\n",
       "      <td>When should I be screened for colorectal cance...</td>\n",
       "      <td>Website: Other Reputable Source</td>\n",
       "      <td>4</td>\n",
       "    </tr>\n",
       "    <tr>\n",
       "      <th>12112</th>\n",
       "      <td>1212</td>\n",
       "      <td>3</td>\n",
       "      <td>American Cancer Society Guidelines for the Ear...</td>\n",
       "      <td>Website: Other Reputable Source</td>\n",
       "      <td>4</td>\n",
       "    </tr>\n",
       "    <tr>\n",
       "      <th>12113</th>\n",
       "      <td>1212</td>\n",
       "      <td>4</td>\n",
       "      <td>What are the benefits and limitations of regul...</td>\n",
       "      <td>Website: Other Reputable Source</td>\n",
       "      <td>4</td>\n",
       "    </tr>\n",
       "  </tbody>\n",
       "</table>\n",
       "<p>2124 rows × 5 columns</p>\n",
       "</div>"
      ],
      "text/plain": [
       "       Knowledge ID #  Citation #  \\\n",
       "10                  2           1   \n",
       "50                  6           1   \n",
       "70                  8           1   \n",
       "90                 10           1   \n",
       "100                11           1   \n",
       "...               ...         ...   \n",
       "12102            1211           3   \n",
       "12110            1212           1   \n",
       "12111            1212           2   \n",
       "12112            1212           3   \n",
       "12113            1212           4   \n",
       "\n",
       "                                               Reference  \\\n",
       "10     Tsereteli, N., Vallat, R., Fernandez-Tajes, J....   \n",
       "50     Paravlic, A. H., Slimani, M., Tod, D., Marusic...   \n",
       "70     Jäger, R., Kerksick, C. M., Campbell, B. I., C...   \n",
       "90     Pontzer, H., Yamada, Y., Sagayama, H., Ainslie...   \n",
       "100    Sinaki, M., & Mikkelsen, B. A. (1984). Postmen...   \n",
       "...                                                  ...   \n",
       "12102  American Cancer Society Guidelines for the Ear...   \n",
       "12110  How a stool test can help find colorectal canc...   \n",
       "12111  When should I be screened for colorectal cance...   \n",
       "12112  American Cancer Society Guidelines for the Ear...   \n",
       "12113  What are the benefits and limitations of regul...   \n",
       "\n",
       "                        Reference Type  Reference Rank  \n",
       "10                     Journal Article               1  \n",
       "50                     Journal Article               1  \n",
       "70                     Journal Article               1  \n",
       "90                     Journal Article               1  \n",
       "100                    Journal Article               1  \n",
       "...                                ...             ...  \n",
       "12102  Website: Other Reputable Source               4  \n",
       "12110  Website: Other Reputable Source               4  \n",
       "12111  Website: Other Reputable Source               4  \n",
       "12112  Website: Other Reputable Source               4  \n",
       "12113  Website: Other Reputable Source               4  \n",
       "\n",
       "[2124 rows x 5 columns]"
      ]
     },
     "execution_count": 37,
     "metadata": {},
     "output_type": "execute_result"
    }
   ],
   "source": [
    "pickle_path = r'C:/Users/silvh/OneDrive/lighthouse/Ginkgo coding/content-summarization/sources'\n",
    "filename = 'ranked_kl_references_2023-04-25_0058.sav'\n",
    "references = loadpickle(filename, pickle_path)\n",
    "references"
   ]
  },
  {
   "attachments": {},
   "cell_type": "markdown",
   "metadata": {},
   "source": [
    "## Data"
   ]
  },
  {
   "cell_type": "code",
   "execution_count": 39,
   "metadata": {},
   "outputs": [
    {
     "name": "stdout",
     "output_type": "stream",
     "text": [
      "Time completed: 2023-04-28 11:33:38.372394\n",
      "Dataframe shape:  (129, 34)\n",
      "DataFrame columns: ['date added', 'article', 'choice # for given prompt', 'system_role', 'model', 'text', 'prep_step', 'summarization task', 'full summarization task', 'original summary', 'original summary content rating', 'original summary language rating', 'top summary', 'simple summary choice', 'simplify audience', 'simplify task', 'full simplify task', 'simple summary', 'simple summary content rating', 'simple summary language rating', 'top simple summary', 'add relevance task', 'full add relevance task: athletes', 'added relevance: athletes', 'added relevance content rating', 'added relevance language rating', 'top added relevance statement', 'add relevance task', 'full add relevance task: older adults', 'added relevance: older adults', 'added relevance content rating', 'added relevance language rating', 'top added relevance statement', 'Column 33']\n"
     ]
    },
    {
     "data": {
      "text/html": [
       "<div>\n",
       "<style scoped>\n",
       "    .dataframe tbody tr th:only-of-type {\n",
       "        vertical-align: middle;\n",
       "    }\n",
       "\n",
       "    .dataframe tbody tr th {\n",
       "        vertical-align: top;\n",
       "    }\n",
       "\n",
       "    .dataframe thead th {\n",
       "        text-align: right;\n",
       "    }\n",
       "</style>\n",
       "<table border=\"1\" class=\"dataframe\">\n",
       "  <thead>\n",
       "    <tr style=\"text-align: right;\">\n",
       "      <th></th>\n",
       "      <th>date added</th>\n",
       "      <th>article</th>\n",
       "      <th>choice # for given prompt</th>\n",
       "      <th>system_role</th>\n",
       "      <th>model</th>\n",
       "      <th>text</th>\n",
       "      <th>prep_step</th>\n",
       "      <th>summarization task</th>\n",
       "      <th>full summarization task</th>\n",
       "      <th>original summary</th>\n",
       "      <th>original summary content rating</th>\n",
       "      <th>original summary language rating</th>\n",
       "      <th>top summary</th>\n",
       "      <th>simple summary choice</th>\n",
       "      <th>simplify audience</th>\n",
       "      <th>simplify task</th>\n",
       "      <th>full simplify task</th>\n",
       "      <th>simple summary</th>\n",
       "      <th>simple summary content rating</th>\n",
       "      <th>simple summary language rating</th>\n",
       "      <th>top simple summary</th>\n",
       "      <th>add relevance task</th>\n",
       "      <th>full add relevance task: athletes</th>\n",
       "      <th>added relevance: athletes</th>\n",
       "      <th>added relevance content rating</th>\n",
       "      <th>added relevance language rating</th>\n",
       "      <th>top added relevance statement</th>\n",
       "      <th>add relevance task</th>\n",
       "      <th>full add relevance task: older adults</th>\n",
       "      <th>added relevance: older adults</th>\n",
       "      <th>added relevance content rating</th>\n",
       "      <th>added relevance language rating</th>\n",
       "      <th>top added relevance statement</th>\n",
       "      <th>Column 33</th>\n",
       "    </tr>\n",
       "  </thead>\n",
       "  <tbody>\n",
       "    <tr>\n",
       "      <th>0</th>\n",
       "      <td>2023-04-16</td>\n",
       "      <td>Daily Energy Expenditure through the Human Lif...</td>\n",
       "      <td>1</td>\n",
       "      <td>You are an expert at science communication.</td>\n",
       "      <td>gpt-3.5-turbo</td>\n",
       "      <td>\"Daily Energy Expenditure through the Human Li...</td>\n",
       "      <td>Take the key points and numerical descriptors to</td>\n",
       "      <td>Summarize for a LinkedIn post</td>\n",
       "      <td>Take the key points and numerical descriptors ...</td>\n",
       "      <td>\"New research reveals major changes in metabol...</td>\n",
       "      <td>1 missing key points</td>\n",
       "      <td>4 appropriate</td>\n",
       "      <td></td>\n",
       "      <td></td>\n",
       "      <td></td>\n",
       "      <td></td>\n",
       "      <td></td>\n",
       "      <td>Scientists have found out that our bodies use ...</td>\n",
       "      <td>1 missing key points</td>\n",
       "      <td>1 too simple for audience</td>\n",
       "      <td></td>\n",
       "      <td>Add 1-2 sentences to make this relevant for</td>\n",
       "      <td>Add 1-2 sentences to make this relevant for ...</td>\n",
       "      <td></td>\n",
       "      <td></td>\n",
       "      <td></td>\n",
       "      <td></td>\n",
       "      <td>Add 1-2 sentences to make this relevant for</td>\n",
       "      <td>Add 1-2 sentences to make this relevant for s...</td>\n",
       "      <td>None</td>\n",
       "      <td>None</td>\n",
       "      <td>None</td>\n",
       "      <td>None</td>\n",
       "      <td>None</td>\n",
       "    </tr>\n",
       "    <tr>\n",
       "      <th>1</th>\n",
       "      <td>2023-04-16</td>\n",
       "      <td>Daily Energy Expenditure through the Human Lif...</td>\n",
       "      <td>2</td>\n",
       "      <td>You are an expert at science communication.</td>\n",
       "      <td>gpt-3.5-turbo</td>\n",
       "      <td>\"Daily Energy Expenditure through the Human Li...</td>\n",
       "      <td>Take the key points and numerical descriptors to</td>\n",
       "      <td>Summarize for a LinkedIn post</td>\n",
       "      <td>Take the key points and numerical descriptors ...</td>\n",
       "      <td>A new study on Daily Energy Expenditure throug...</td>\n",
       "      <td>1 missing key points</td>\n",
       "      <td>4 appropriate</td>\n",
       "      <td></td>\n",
       "      <td></td>\n",
       "      <td></td>\n",
       "      <td></td>\n",
       "      <td>Use terms a 12-year-old can understand.</td>\n",
       "      <td>Scientists did a study on how much energy peop...</td>\n",
       "      <td>1 missing key points</td>\n",
       "      <td>1 too simple for audience</td>\n",
       "      <td></td>\n",
       "      <td>Add 1-2 sentences to make this relevant for</td>\n",
       "      <td>Add 1-2 sentences to make this relevant for ...</td>\n",
       "      <td></td>\n",
       "      <td></td>\n",
       "      <td></td>\n",
       "      <td></td>\n",
       "      <td>Add 1-2 sentences to make this relevant for</td>\n",
       "      <td>Add 1-2 sentences to make this relevant for s...</td>\n",
       "      <td>None</td>\n",
       "      <td>None</td>\n",
       "      <td>None</td>\n",
       "      <td>None</td>\n",
       "      <td>None</td>\n",
       "    </tr>\n",
       "    <tr>\n",
       "      <th>2</th>\n",
       "      <td>2023-04-16</td>\n",
       "      <td>Daily Energy Expenditure through the Human Lif...</td>\n",
       "      <td>3</td>\n",
       "      <td>You are an expert at science communication.</td>\n",
       "      <td>gpt-3.5-turbo</td>\n",
       "      <td>\"Daily Energy Expenditure through the Human Li...</td>\n",
       "      <td>Take the key points and numerical descriptors to</td>\n",
       "      <td>Summarize for a LinkedIn post</td>\n",
       "      <td>Take the key points and numerical descriptors ...</td>\n",
       "      <td>New research has discovered major changes in m...</td>\n",
       "      <td>3 reasonable</td>\n",
       "      <td>4 appropriate</td>\n",
       "      <td></td>\n",
       "      <td></td>\n",
       "      <td></td>\n",
       "      <td></td>\n",
       "      <td>Use terms a 12-year-old can understand.</td>\n",
       "      <td>Scientists have found out that our bodies use ...</td>\n",
       "      <td>3 reasonable</td>\n",
       "      <td>1 too simple for audience</td>\n",
       "      <td></td>\n",
       "      <td>Add 1-2 sentences to make this relevant for</td>\n",
       "      <td>Add 1-2 sentences to make this relevant for ...</td>\n",
       "      <td></td>\n",
       "      <td></td>\n",
       "      <td></td>\n",
       "      <td></td>\n",
       "      <td>Add 1-2 sentences to make this relevant for</td>\n",
       "      <td>Add 1-2 sentences to make this relevant for s...</td>\n",
       "      <td>None</td>\n",
       "      <td>None</td>\n",
       "      <td>None</td>\n",
       "      <td>None</td>\n",
       "      <td>None</td>\n",
       "    </tr>\n",
       "    <tr>\n",
       "      <th>3</th>\n",
       "      <td>2023-04-16</td>\n",
       "      <td>Daily Energy Expenditure through the Human Lif...</td>\n",
       "      <td>4</td>\n",
       "      <td>You are an expert at science communication.</td>\n",
       "      <td>gpt-3.5-turbo</td>\n",
       "      <td>\"Daily Energy Expenditure through the Human Li...</td>\n",
       "      <td>Take the key points and numerical descriptors to</td>\n",
       "      <td>Summarize for a LinkedIn post</td>\n",
       "      <td>Take the key points and numerical descriptors ...</td>\n",
       "      <td>This study analyzed daily energy expenditure a...</td>\n",
       "      <td>3 reasonable</td>\n",
       "      <td>4 appropriate</td>\n",
       "      <td>1</td>\n",
       "      <td></td>\n",
       "      <td></td>\n",
       "      <td></td>\n",
       "      <td>Use terms a 12-year-old can understand.</td>\n",
       "      <td>Scientists did a study to see how much energy ...</td>\n",
       "      <td>3 reasonable</td>\n",
       "      <td>1 too simple for audience</td>\n",
       "      <td>1</td>\n",
       "      <td>Add 1-2 sentences to make this relevant for</td>\n",
       "      <td>Add 1-2 sentences to make this relevant for ...</td>\n",
       "      <td>For athletes and sports enthusiasts, understan...</td>\n",
       "      <td>4 excellent</td>\n",
       "      <td>4 appropriate</td>\n",
       "      <td>1</td>\n",
       "      <td>Add 1-2 sentences to make this relevant for</td>\n",
       "      <td>Add 1-2 sentences to make this relevant for s...</td>\n",
       "      <td>These findings suggest that older adults may n...</td>\n",
       "      <td>4 excellent</td>\n",
       "      <td>4 appropriate</td>\n",
       "      <td>1</td>\n",
       "      <td>None</td>\n",
       "    </tr>\n",
       "    <tr>\n",
       "      <th>4</th>\n",
       "      <td>2023-04-16</td>\n",
       "      <td>Daily Energy Expenditure through the Human Lif...</td>\n",
       "      <td>5</td>\n",
       "      <td>You are an expert at science communication.</td>\n",
       "      <td>gpt-3.5-turbo</td>\n",
       "      <td>\"Daily Energy Expenditure through the Human Li...</td>\n",
       "      <td>Take the key points and numerical descriptors to</td>\n",
       "      <td>Summarize for a LinkedIn post</td>\n",
       "      <td>Take the key points and numerical descriptors ...</td>\n",
       "      <td>New research has found major changes in metabo...</td>\n",
       "      <td>1 missing key points</td>\n",
       "      <td>4 appropriate</td>\n",
       "      <td></td>\n",
       "      <td></td>\n",
       "      <td></td>\n",
       "      <td></td>\n",
       "      <td>Use terms a 12-year-old can understand.</td>\n",
       "      <td>Scientists have found that our bodies use ener...</td>\n",
       "      <td>1 missing key points</td>\n",
       "      <td>1 too simple for audience</td>\n",
       "      <td></td>\n",
       "      <td>Add 1-2 sentences to make this relevant for</td>\n",
       "      <td>Add 1-2 sentences to make this relevant for ...</td>\n",
       "      <td></td>\n",
       "      <td></td>\n",
       "      <td></td>\n",
       "      <td></td>\n",
       "      <td>Add 1-2 sentences to make this relevant for</td>\n",
       "      <td>Add 1-2 sentences to make this relevant for s...</td>\n",
       "      <td>None</td>\n",
       "      <td>None</td>\n",
       "      <td>None</td>\n",
       "      <td>None</td>\n",
       "      <td>None</td>\n",
       "    </tr>\n",
       "  </tbody>\n",
       "</table>\n",
       "</div>"
      ],
      "text/plain": [
       "   date added                                            article  \\\n",
       "0  2023-04-16  Daily Energy Expenditure through the Human Lif...   \n",
       "1  2023-04-16  Daily Energy Expenditure through the Human Lif...   \n",
       "2  2023-04-16  Daily Energy Expenditure through the Human Lif...   \n",
       "3  2023-04-16  Daily Energy Expenditure through the Human Lif...   \n",
       "4  2023-04-16  Daily Energy Expenditure through the Human Lif...   \n",
       "\n",
       "  choice # for given prompt                                  system_role  \\\n",
       "0                         1  You are an expert at science communication.   \n",
       "1                         2  You are an expert at science communication.   \n",
       "2                         3  You are an expert at science communication.   \n",
       "3                         4  You are an expert at science communication.   \n",
       "4                         5  You are an expert at science communication.   \n",
       "\n",
       "           model                                               text  \\\n",
       "0  gpt-3.5-turbo  \"Daily Energy Expenditure through the Human Li...   \n",
       "1  gpt-3.5-turbo  \"Daily Energy Expenditure through the Human Li...   \n",
       "2  gpt-3.5-turbo  \"Daily Energy Expenditure through the Human Li...   \n",
       "3  gpt-3.5-turbo  \"Daily Energy Expenditure through the Human Li...   \n",
       "4  gpt-3.5-turbo  \"Daily Energy Expenditure through the Human Li...   \n",
       "\n",
       "                                          prep_step  \\\n",
       "0  Take the key points and numerical descriptors to   \n",
       "1  Take the key points and numerical descriptors to   \n",
       "2  Take the key points and numerical descriptors to   \n",
       "3  Take the key points and numerical descriptors to   \n",
       "4  Take the key points and numerical descriptors to   \n",
       "\n",
       "              summarization task  \\\n",
       "0  Summarize for a LinkedIn post   \n",
       "1  Summarize for a LinkedIn post   \n",
       "2  Summarize for a LinkedIn post   \n",
       "3  Summarize for a LinkedIn post   \n",
       "4  Summarize for a LinkedIn post   \n",
       "\n",
       "                             full summarization task  \\\n",
       "0  Take the key points and numerical descriptors ...   \n",
       "1  Take the key points and numerical descriptors ...   \n",
       "2  Take the key points and numerical descriptors ...   \n",
       "3  Take the key points and numerical descriptors ...   \n",
       "4  Take the key points and numerical descriptors ...   \n",
       "\n",
       "                                    original summary  \\\n",
       "0  \"New research reveals major changes in metabol...   \n",
       "1  A new study on Daily Energy Expenditure throug...   \n",
       "2  New research has discovered major changes in m...   \n",
       "3  This study analyzed daily energy expenditure a...   \n",
       "4  New research has found major changes in metabo...   \n",
       "\n",
       "  original summary content rating original summary language rating  \\\n",
       "0            1 missing key points                    4 appropriate   \n",
       "1            1 missing key points                    4 appropriate   \n",
       "2                    3 reasonable                    4 appropriate   \n",
       "3                    3 reasonable                    4 appropriate   \n",
       "4            1 missing key points                    4 appropriate   \n",
       "\n",
       "  top summary simple summary choice simplify audience simplify task  \\\n",
       "0                                                                     \n",
       "1                                                                     \n",
       "2                                                                     \n",
       "3           1                                                         \n",
       "4                                                                     \n",
       "\n",
       "                        full simplify task  \\\n",
       "0                                            \n",
       "1  Use terms a 12-year-old can understand.   \n",
       "2  Use terms a 12-year-old can understand.   \n",
       "3  Use terms a 12-year-old can understand.   \n",
       "4  Use terms a 12-year-old can understand.   \n",
       "\n",
       "                                      simple summary  \\\n",
       "0  Scientists have found out that our bodies use ...   \n",
       "1  Scientists did a study on how much energy peop...   \n",
       "2  Scientists have found out that our bodies use ...   \n",
       "3  Scientists did a study to see how much energy ...   \n",
       "4  Scientists have found that our bodies use ener...   \n",
       "\n",
       "  simple summary content rating simple summary language rating  \\\n",
       "0          1 missing key points      1 too simple for audience   \n",
       "1          1 missing key points      1 too simple for audience   \n",
       "2                  3 reasonable      1 too simple for audience   \n",
       "3                  3 reasonable      1 too simple for audience   \n",
       "4          1 missing key points      1 too simple for audience   \n",
       "\n",
       "  top simple summary                           add relevance task  \\\n",
       "0                     Add 1-2 sentences to make this relevant for   \n",
       "1                     Add 1-2 sentences to make this relevant for   \n",
       "2                     Add 1-2 sentences to make this relevant for   \n",
       "3                  1  Add 1-2 sentences to make this relevant for   \n",
       "4                     Add 1-2 sentences to make this relevant for   \n",
       "\n",
       "                   full add relevance task: athletes  \\\n",
       "0    Add 1-2 sentences to make this relevant for ...   \n",
       "1    Add 1-2 sentences to make this relevant for ...   \n",
       "2    Add 1-2 sentences to make this relevant for ...   \n",
       "3    Add 1-2 sentences to make this relevant for ...   \n",
       "4    Add 1-2 sentences to make this relevant for ...   \n",
       "\n",
       "                           added relevance: athletes  \\\n",
       "0                                                      \n",
       "1                                                      \n",
       "2                                                      \n",
       "3  For athletes and sports enthusiasts, understan...   \n",
       "4                                                      \n",
       "\n",
       "  added relevance content rating added relevance language rating  \\\n",
       "0                                                                  \n",
       "1                                                                  \n",
       "2                                                                  \n",
       "3                    4 excellent                   4 appropriate   \n",
       "4                                                                  \n",
       "\n",
       "  top added relevance statement                           add relevance task  \\\n",
       "0                                Add 1-2 sentences to make this relevant for   \n",
       "1                                Add 1-2 sentences to make this relevant for   \n",
       "2                                Add 1-2 sentences to make this relevant for   \n",
       "3                             1  Add 1-2 sentences to make this relevant for   \n",
       "4                                Add 1-2 sentences to make this relevant for   \n",
       "\n",
       "               full add relevance task: older adults  \\\n",
       "0   Add 1-2 sentences to make this relevant for s...   \n",
       "1   Add 1-2 sentences to make this relevant for s...   \n",
       "2   Add 1-2 sentences to make this relevant for s...   \n",
       "3   Add 1-2 sentences to make this relevant for s...   \n",
       "4   Add 1-2 sentences to make this relevant for s...   \n",
       "\n",
       "                       added relevance: older adults  \\\n",
       "0                                               None   \n",
       "1                                               None   \n",
       "2                                               None   \n",
       "3  These findings suggest that older adults may n...   \n",
       "4                                               None   \n",
       "\n",
       "  added relevance content rating added relevance language rating  \\\n",
       "0                           None                            None   \n",
       "1                           None                            None   \n",
       "2                           None                            None   \n",
       "3                    4 excellent                   4 appropriate   \n",
       "4                           None                            None   \n",
       "\n",
       "  top added relevance statement Column 33  \n",
       "0                          None      None  \n",
       "1                          None      None  \n",
       "2                          None      None  \n",
       "3                             1      None  \n",
       "4                          None      None  "
      ]
     },
     "execution_count": 39,
     "metadata": {},
     "output_type": "execute_result"
    }
   ],
   "source": [
    "filename = 'prompt chain results Google Sheet raw_2023-04-26_1236.sav'\n",
    "pickle_path = r'C:\\Users\\silvh\\OneDrive\\lighthouse\\Ginkgo coding\\content-summarization\\output\\pickles'\n",
    "data = loadpickle(filename, pickle_path)\n",
    "data.head()"
   ]
  },
  {
   "attachments": {},
   "cell_type": "markdown",
   "metadata": {},
   "source": [
    "# Functions from previous notebooks"
   ]
  },
  {
   "attachments": {},
   "cell_type": "markdown",
   "metadata": {},
   "source": [
    "## `process_sheet`"
   ]
  },
  {
   "cell_type": "code",
   "execution_count": 45,
   "metadata": {},
   "outputs": [
    {
     "name": "stdout",
     "output_type": "stream",
     "text": [
      "Ratings columns (n=8): ['K: original summary content rating', 'L: original summary language rating', 'S: simple summary content rating', 'T: simple summary language rating', 'Y: added relevance content rating', 'Z: added relevance language rating', 'AE: added relevance content rating', 'AF: added relevance language rating']\n",
      "Ratings columns (n=8): ['K: original summary content rating', 'L: original summary language rating', 'S: simple summary content rating', 'T: simple summary language rating', 'Y: added relevance content rating', 'Z: added relevance language rating', 'AE: added relevance content rating', 'AF: added relevance language rating']\n",
      "String columns (n=26): ['A: date added', 'B: article', 'C: choice # for given prompt', 'D: system_role', 'E: model', 'F: text', 'G: prep_step', 'H: summarization task', 'I: full summarization task', 'J: original summary', 'M: top summary', 'N: simple summary choice', 'O: simplify audience', 'P: simplify task', 'Q: full simplify task', 'R: simple summary', 'U: top simple summary', 'V: add relevance task', 'W: full add relevance task: athletes', 'X: added relevance: athletes', 'AA: top added relevance statement', 'AB: add relevance task', 'AC: full add relevance task: older adults', 'AD: added relevance: older adults', 'AG: top added relevance statement', 'AH: Column 33']\n",
      "White spaces stripped at start and end of strings\n"
     ]
    }
   ],
   "source": [
    "import string\n",
    "\n",
    "def process_sheet(df):\n",
    "\n",
    "    spreadsheet_columns = [letter for letter in string.ascii_uppercase]+['A'+letter for letter in string.ascii_uppercase]\n",
    "    processed_df = df.copy()\n",
    "    processed_df.columns = [f'{spreadsheet_columns[index]}: {column}' for index, column in enumerate(processed_df.columns)]\n",
    "\n",
    "    # Extract the numbers from ratings\n",
    "    ratings_columns = [column for column in processed_df.columns if 'rating' in column]\n",
    "    print(f'Ratings columns (n={len(ratings_columns)}):', ratings_columns)\n",
    "    processed_df[ratings_columns] = processed_df[ratings_columns].apply(\n",
    "        lambda x: x.str.extract(r'(\\d+)', expand=False))\n",
    "    processed_df[ratings_columns] = processed_df[ratings_columns].apply(pd.to_numeric, errors='coerce')\n",
    "    # processed_df[ratings_columns] = processed_df[ratings_columns].astype('Int64')\n",
    "    print(f'Ratings columns (n={len(processed_df[ratings_columns].columns)}): {[column for column in processed_df[ratings_columns].columns]}')\n",
    "\n",
    "    # Strip white spaces at start and end of strings\n",
    "    str_cols = processed_df.select_dtypes(include=['object']).columns\n",
    "    print(f'String columns (n={len(str_cols)}): {[column for column in str_cols]}')\n",
    "    processed_df[str_cols] = processed_df[str_cols].apply(lambda x: x.str.strip())\n",
    "    print('White spaces stripped at start and end of strings')\n",
    "    \n",
    "    return processed_df\n",
    "\n",
    "\n",
    "df = process_sheet(data)\n",
    "df['Q: full simplify task'].replace('','Use terms a 12-year-old can understand.', inplace=True)"
   ]
  },
  {
   "cell_type": "code",
   "execution_count": 52,
   "metadata": {},
   "outputs": [
    {
     "name": "stdout",
     "output_type": "stream",
     "text": [
      "[ 1.  3.  2.  4. nan  0.]\n",
      "[ 4.  3. nan  0.]\n"
     ]
    }
   ],
   "source": [
    "print(df['K: original summary content rating'].unique())\n",
    "print(df['L: original summary language rating'].unique())"
   ]
  },
  {
   "cell_type": "code",
   "execution_count": 143,
   "metadata": {},
   "outputs": [
    {
     "data": {
      "text/plain": [
       "Use language appropriate for for people without a science background    55\n",
       "Use terms a 12-year-old can understand.                                 54\n",
       "Use language appropriate for for a lay audience                         20\n",
       "Name: Q: full simplify task, dtype: int64"
      ]
     },
     "execution_count": 143,
     "metadata": {},
     "output_type": "execute_result"
    }
   ],
   "source": [
    "df['Q: full simplify task'].value_counts()"
   ]
  },
  {
   "attachments": {},
   "cell_type": "markdown",
   "metadata": {},
   "source": [
    "## Filter functions"
   ]
  },
  {
   "cell_type": "code",
   "execution_count": 10,
   "metadata": {},
   "outputs": [],
   "source": [
    "from datetime import datetime\n",
    "def filter_df_any_condition(df, filters, view_columns=None):\n",
    "    \"\"\"\n",
    "    Filters a DataFrame based on any of the given conditions in a dictionary.\n",
    "\n",
    "    Args:\n",
    "        df (pandas.DataFrame): The DataFrame to filter.\n",
    "        filters (dict): A dictionary with column names as keys and filter conditions as values.\n",
    "            The filter condition can be a boolean, a string representing a comparison operation,\n",
    "            a list of values, or the string \"null\" or \"notnull\".\n",
    "        view_columns (list): A list of column names to include in the resulting DataFrame.\n",
    "            If None, all columns will be included.        \n",
    "        Example filters dictionary:\n",
    "        all_filters1 = {\n",
    "            'Captured': False,\n",
    "            'Captured': True,\n",
    "            'Your Name': ['Rob'], \n",
    "            'Class': '< 200',\n",
    "            'Cardio Friendly': ['y'],\n",
    "            'test friendly': ['y']\n",
    "        }\n",
    "    Returns:\n",
    "        pandas.DataFrame: A filtered DataFrame where at least one condition is met.\n",
    "    \"\"\"\n",
    "    filtered_dfs = []\n",
    "    filtered_df = df.copy()  # make a copy of the original DataFrame\n",
    "    for col, condition in filters.items():\n",
    "        if (isinstance(condition, list)) | (isinstance(condition, pd.Series)):\n",
    "            if type(condition[0]) == str:\n",
    "                condition = [str(item).lower() for item in condition]\n",
    "                filtered_dfs.append(filtered_df[filtered_df[col].str.lower().isin(condition)])\n",
    "            else:\n",
    "                filtered_dfs.append(filtered_df[filtered_df[col].isin(condition)])\n",
    "            print(f'Filtered on {col} in {[item for item in condition]}: {[index for index in filtered_df.index]}')\n",
    "        elif isinstance(condition, bool):\n",
    "            filtered_dfs.append(filtered_df[filtered_df[col] == condition])\n",
    "            print(f'Filtered on {col} in {condition}: {[index for index in filtered_df.index]}')\n",
    "        elif condition == \"notnull\":\n",
    "            if filtered_df[col].dtype == 'datetime64[ns]':\n",
    "                filtered_dfs.append(filtered_df[filtered_df[col] > datetime(1900, 1, 1)])\n",
    "            else:\n",
    "                filtered_dfs.append(filtered_df[filtered_df[col].notnull()])\n",
    "            print(f'Filtered on {col} in {condition}: {[index for index in filtered_df.index]}')\n",
    "        elif condition == \"null\":\n",
    "            if filtered_df[col].dtype == 'datetime64[ns]':\n",
    "                filtered_dfs.append(filtered_df[filtered_df[col] == datetime(1900, 1, 1)])\n",
    "            else:\n",
    "                filtered_dfs.append(filtered_df[filtered_df[col].isnull()])\n",
    "            print(f'Filtered on {col} in {condition}: {[index for index in filtered_df.index]}')\n",
    "        else:\n",
    "            filtered_dfs.append(filtered_df.query(f'{col}{condition}'))\n",
    "            print(f'Filtered on {col} in {condition}: {[index for index in filtered_df.index]}')\n",
    "    combined_df = pd.concat(filtered_dfs).sort_index()\n",
    "    deduped_df = combined_df.drop_duplicates(ignore_index=False)\n",
    "    deduped_df = deduped_df[view_columns] if view_columns != None else deduped_df\n",
    "    print(f'Results where any condition is met:')\n",
    "    print(f'\\tDataFrame indices: {[index for index in deduped_df.index]}')\n",
    "    print(f'\\tDataFrame shape: {deduped_df.shape}')\n",
    "    return deduped_df\n",
    "\n",
    "\n",
    "def filter_df_all_conditions(df, filters, view_columns=None):\n",
    "    \"\"\"\n",
    "    Filters a DataFrame based on all of the given conditions in a dictionary.\n",
    "\n",
    "    Args:\n",
    "        df (pandas.DataFrame): The DataFrame to filter.\n",
    "        filters (dict): A dictionary with column names as keys and filter conditions as values.\n",
    "            The filter condition can be a boolean, a string representing a comparison operation,\n",
    "            a list of values, or the string \"null\" or \"notnull\".\n",
    "        view_columns (list): A list of column names to include in the resulting DataFrame.\n",
    "            If None, all columns will be included.\n",
    "        \n",
    "        Example filters dictionary:\n",
    "        all_filters1 = {\n",
    "            'Captured': False,\n",
    "            'Captured': True,\n",
    "            'Your Name': ['Rob'], \n",
    "            'Class': '< 200',\n",
    "            'Cardio Friendly': ['y'],\n",
    "            'test friendly': ['y']\n",
    "        }\n",
    "\n",
    "    Returns:\n",
    "        pandas.DataFrame: A filtered DataFrame where all conditions are met.\n",
    "    \"\"\"\n",
    "    filters_list = []\n",
    "    filtered_df = df.copy()  \n",
    "    for col, condition in filters.items():\n",
    "        if (isinstance(condition, list)) | (isinstance(condition, pd.Series)):\n",
    "            if type(condition[0]) == str:\n",
    "                condition = [str(item).lower() for item in condition]\n",
    "                filters_list.append(filtered_df[filtered_df[col].str.lower().isin(condition)].index.tolist())\n",
    "            else:\n",
    "                filters_list.append(filtered_df[filtered_df[col].isin(condition)].index.tolist())\n",
    "            print(f'Filtered on {col} in {[item for item in condition]}')\n",
    "        elif isinstance(condition, bool):\n",
    "            filters_list.append(filtered_df[filtered_df[col] == condition].index.tolist())\n",
    "        elif condition == \"notnull\":\n",
    "            print(f'Date column dtype: {filtered_df[col].dtype}')\n",
    "            if filtered_df[col].dtype == 'datetime64[ns]':\n",
    "                filters_list.append(filtered_df[filtered_df[col] > datetime(1900, 1, 1)].index.tolist())\n",
    "                print('Removed rows with null dates')\n",
    "            else:\n",
    "                filters_list.append(filtered_df[filtered_df[col].notnull()].index.tolist())\n",
    "        elif condition == \"null\":\n",
    "            if filtered_df[col].dtype == 'datetime64[ns]':\n",
    "                filters_list.append(filtered_df[filtered_df[col] == datetime(1900, 1, 1)].index.tolist())\n",
    "            else:\n",
    "                filters_list.append(filtered_df[filtered_df[col].isnull()].index.tolist())\n",
    "        else:\n",
    "            filters_list.append(filtered_df.query(f'{col}{condition}').index.tolist())\n",
    "    filtered_rows = sorted(list(set(filters_list[0]).intersection(*filters_list[1:])))\n",
    "    print(f'Results where ALL conditions are met:')\n",
    "    print(f'\\tDataFrame indices: {filtered_rows}')\n",
    "    filtered_df = df.loc[filtered_rows][view_columns] if view_columns != None else df.loc[filtered_rows]\n",
    "    print(f'\\tDataFrame shape: {filtered_df.shape}')\n",
    "    return filtered_df\n",
    "\n",
    "def filter_any_and_all(df, any_filters, all_filters, view_columns=None):\n",
    "    \"\"\"\n",
    "    Filters a pandas DataFrame by applying two types of filters: 'any' and 'all'.\n",
    "    \n",
    "    Parameters:\n",
    "    -----------\n",
    "    df : pandas.DataFrame\n",
    "        The DataFrame to filter.\n",
    "    any_filters : list of dict or None\n",
    "        The 'any' filters to apply to the DataFrame. A filter is a dictionary with the following keys:\n",
    "            - 'column': the name of the column to filter by.\n",
    "            - 'condition': the condition to apply to the column. Must be a string that can be evaluated as a boolean expression.\n",
    "        If None, no 'any' filters are applied.\n",
    "    all_filters : list of dict or None\n",
    "        The 'all' filters to apply to the DataFrame. A filter is a dictionary with the same keys as above.\n",
    "        If None, no 'all' filters are applied.\n",
    "    view_columns : list of str or None, optional\n",
    "        The columns to include in the final filtered DataFrame. If None, all columns are included.\n",
    "        \n",
    "        Example filters dictionary:\n",
    "        all_filters1 = {\n",
    "            'Captured': False,\n",
    "            'Captured': True,\n",
    "            'Your Name': ['Rob'], \n",
    "            'Class': '< 200',\n",
    "            'Cardio Friendly': ['y'],\n",
    "            'test friendly': ['y']\n",
    "        }\n",
    "        \n",
    "    Returns:\n",
    "    --------\n",
    "    pandas.DataFrame\n",
    "        The filtered DataFrame.\n",
    "    \"\"\"\n",
    "    print(f'Original DataFrame shape: {df.shape}')\n",
    "    if any_filters:\n",
    "        print(f'** Applying filter_df_any_condition')\n",
    "        any_filtered_df = filter_df_any_condition(df, any_filters, view_columns)\n",
    "        print()\n",
    "    else:\n",
    "        any_filtered_df = pd.DataFrame()\n",
    "    if all_filters:\n",
    "        print(f'** Applying filter_df_all_conditions')\n",
    "        all_filtered_df = filter_df_all_conditions(df, all_filters, view_columns)\n",
    "        print()\n",
    "    else:\n",
    "        all_filtered_df = pd.DataFrame()\n",
    "    combined_df = pd.concat(\n",
    "        [any_filtered_df, all_filtered_df]\n",
    "        ).sort_index().drop_duplicates(ignore_index=False)\n",
    "    combined_df = combined_df[view_columns] if view_columns != None else combined_df\n",
    "    print(f'Final DataFrame shape: {combined_df.shape}')\n",
    "    return combined_df\n",
    "\n",
    "def filter_chain(df, any_filters, all_filters, final_filter, view_columns=None):\n",
    "    \"\"\"\n",
    "    Chains together multiple filtering functions to filter a pandas DataFrame.\n",
    "    \n",
    "    Parameters:\n",
    "    -----------\n",
    "    df : pandas.DataFrame\n",
    "        The DataFrame to filter.\n",
    "    any_filters : list of dict or None\n",
    "        The 'any' filters to apply to the DataFrame. A filter is a dictionary with the following keys:\n",
    "            - 'column': the name of the column to filter by.\n",
    "            - 'condition': the condition to apply to the column. Must be a string that can be evaluated as a boolean expression.\n",
    "        If None, no 'any' filters are applied.\n",
    "    all_filters : list of dict or None\n",
    "        The 'all' filters to apply to the DataFrame. A filter is a dictionary with the same keys as above.\n",
    "        If None, no 'all' filters are applied.\n",
    "    final_filter : dict or list of dict or None\n",
    "        The final filter(s) to apply to the DataFrame. A filter is a dictionary with the same keys as above.\n",
    "        If None, no final filter is applied.\n",
    "        If a list of filters is provided, they will be applied sequentially.\n",
    "    view_columns : list of str or None, optional\n",
    "        The columns to include in the final filtered DataFrame. If None, all columns are included.\n",
    "        \n",
    "        Example filters dictionary:\n",
    "        all_filters1 = {\n",
    "            'Captured': False,\n",
    "            'Captured': True,\n",
    "            'Your Name': ['Rob'], \n",
    "            'Class': '< 200',\n",
    "            'Cardio Friendly': ['y'],\n",
    "            'test friendly': ['y']\n",
    "        }\n",
    "    Returns:\n",
    "    --------\n",
    "    pandas.DataFrame\n",
    "        The filtered DataFrame.\n",
    "    \"\"\"\n",
    "    filtered_df1 = filter_any_and_all(df, any_filters, all_filters)\n",
    "    if final_filter:\n",
    "        if type(final_filter) == list:\n",
    "            for index, filter in enumerate(final_filter):\n",
    "                print(f'** Applying filter_df_all_conditions: Iteration {index + 1}')\n",
    "                filtered_df1 = filter_df_all_conditions(filtered_df1, filter, view_columns)\n",
    "                print()\n",
    "        else:\n",
    "            print(f'** Applying filter_df_all_conditions')\n",
    "            filtered_df1 = filter_df_all_conditions(filtered_df1, final_filter, view_columns)\n",
    "\n",
    "    print(f'\\nFilter chain: Final DataFrame shape: {filtered_df1.shape}')\n",
    "    return filtered_df1\n",
    "\n",
    "def filter_any_and_all_chain(\n",
    "        df, filters_dict_list, final_filter, view_columns=None,\n",
    "        rank_sort=True, trainer_column='Your Name', date_column='date added 0',\n",
    "        captured_column='Captured',\n",
    "        max_rows=400, final_sort=['Equipment 3', 'main movement', 'secondary movement']):\n",
    "    \"\"\"\n",
    "    Filter a DataFrame by chaining multiple filters, each consisting of \"any\" and \"all\" conditions.\n",
    "\n",
    "    Args:\n",
    "        df (pandas.DataFrame): The DataFrame to filter.\n",
    "        filters_dict_list (list[dict]): A list of dictionaries, each containing the \"any\" and \"all\" conditions for a filter.\n",
    "        final_filter (dict or list): The final filter to apply after all other filters, using the same syntax as the \"all\" condition.\n",
    "        view_columns (list[str], optional): The columns to include in the filtered DataFrame. If None, all columns are included. Defaults to None.\n",
    "        rank_sort (bool or list[str], optional): Whether to sort the filtered DataFrame by the \"trainer\" and \"date\" columns. If True, the default columns are used. If a list of column names, those columns are used instead. Defaults to True.\n",
    "        trainer_column (str, optional): The name of the column containing the trainer's name. Used for sorting. Defaults to 'Your Name'.\n",
    "        date_column (str, optional): The name of the column containing the date of the exercise. Used for sorting. Defaults to 'date added 0'.\n",
    "        captured_column (str, optional): The name of the column containing the \"captured\" flag. Used for printing value counts. Defaults to 'Captured'.\n",
    "        max_rows (int or None, optional): The maximum number of rows to include in the filtered DataFrame. If None, all rows are included. Defaults to 400.\n",
    "        final_sort (list[str], optional): The columns to sort the final filtered DataFrame by. Defaults to ['Equipment 3', 'main movement', 'secondary movement'].\n",
    "\n",
    "    Returns:\n",
    "        pandas.DataFrame: The filtered DataFrame.\n",
    "\n",
    "    Example usage:\n",
    "        view_columns = df.columns[:5].tolist() + ['Your Name', 'date added 0']\n",
    "        date_robs_exercises = df[df['Your Name'].str.lower() == 'rob']['date added 0'].drop_duplicates()\n",
    "        any_filters1 = {\n",
    "            'Your Name': ['Rob'],\n",
    "            'date added 0': date_robs_exercises,\n",
    "        }\n",
    "        all_filters1 = {\n",
    "            'Captured': False,\n",
    "        }\n",
    "        any_filters2 ={\n",
    "            'date added 0': 'notnull',\n",
    "            'To capture': 'notnull',\n",
    "        }\n",
    "        all_filters2 ={\n",
    "            'Your Name': ['Rob'],\n",
    "        }\n",
    "        filters_dict_list = [\n",
    "            {'any': any_filters1, 'all': all_filters1},\n",
    "            {'any': any_filters2, 'all': all_filters2},\n",
    "        ]\n",
    "        final_filter ={\n",
    "            'Captured': False,\n",
    "        }\n",
    "        mocap = filter_any_and_all_chain(df, filters_dict_list, final_filter, view_columns=view_columns)\n",
    "    \"\"\"\n",
    "    \n",
    "    filtered_df = df.copy()\n",
    "    for index, filters_dict in enumerate(filters_dict_list):\n",
    "        print(f'** Applying filter_any_and_all_conditions: Iteration {index + 1}')\n",
    "        \n",
    "        filtered_df = filter_any_and_all(\n",
    "            filtered_df, filters_dict['any'], filters_dict['all'], view_columns)\n",
    "        print()\n",
    "    if final_filter:\n",
    "        if type(final_filter) == list:\n",
    "            for index, filter in enumerate(final_filter):\n",
    "                print(f'** Applying filter_df_all_conditions: Iteration {index + 1}')\n",
    "                filtered_df = filter_df_all_conditions(filtered_df, filter, view_columns)\n",
    "                print()\n",
    "        else:\n",
    "            print(f'** Applying filter_df_all_conditions')\n",
    "            filtered_df = filter_df_all_conditions(filtered_df, final_filter, view_columns)\n",
    "\n",
    "    print(f'\\nFilter chain: Filtered DataFrame shape: {filtered_df.shape}')\n",
    "\n",
    "    if rank_sort & (type(rank_sort) != list):\n",
    "        rank_sort = [trainer_column, date_column]\n",
    "    if trainer_column in rank_sort:\n",
    "        print(f'\\tSorting by {rank_sort}...')\n",
    "        trainer_rank = {'rob': 1, 'silvia': 2}\n",
    "        filtered_df['trainer_rank'] = filtered_df[trainer_column].str.lower().map(trainer_rank)\n",
    "        date_robs_exercises = [time for time in filtered_df[filtered_df[trainer_column].str.lower() == 'rob'][date_column].drop_duplicates()][1:]\n",
    "        print(f'Dates of Robs exercises: {date_robs_exercises}')\n",
    "        filtered_df['date_rank'] = filtered_df[date_column].apply(lambda x: 1 if x in date_robs_exercises else 2)\n",
    "        rank_sort = ['trainer_rank', 'date_rank']\n",
    "        filtered_df = filtered_df.sort_values(rank_sort).drop(columns=rank_sort)\n",
    "    if max_rows:\n",
    "        if filtered_df.shape[0] > max_rows:\n",
    "            print(f'\\tLimiting to {max_rows} rows...')\n",
    "            filtered_df = filtered_df.iloc[:max_rows]\n",
    "\n",
    "    if final_sort:\n",
    "        print(f'\\tFinal sorting by {final_sort}...')\n",
    "        filtered_df = filtered_df.sort_values(final_sort)\n",
    "\n",
    "    print(f'Value counts for {trainer_column}: \\n{filtered_df[trainer_column].value_counts()}')\n",
    "    print(f'Value counts for {captured_column}: \\n{filtered_df[captured_column].value_counts()}')\n",
    "\n",
    "    return filtered_df"
   ]
  },
  {
   "attachments": {},
   "cell_type": "markdown",
   "metadata": {},
   "source": [
    "# EDA"
   ]
  },
  {
   "cell_type": "code",
   "execution_count": 7,
   "metadata": {},
   "outputs": [
    {
     "data": {
      "text/plain": [
       "Index(['M: top summary', 'U: top simple summary',\n",
       "       'AA: top added relevance statement',\n",
       "       'AG: top added relevance statement'],\n",
       "      dtype='object')"
      ]
     },
     "execution_count": 7,
     "metadata": {},
     "output_type": "execute_result"
    }
   ],
   "source": [
    "top_results_columns = df.columns[df.columns.str.contains('top')]\n",
    "top_results_columns"
   ]
  },
  {
   "cell_type": "code",
   "execution_count": 91,
   "metadata": {},
   "outputs": [
    {
     "data": {
      "text/plain": [
       "Index(['K: original summary content rating',\n",
       "       'S: simple summary content rating', 'Y: added relevance content rating',\n",
       "       'AE: added relevance content rating'],\n",
       "      dtype='object')"
      ]
     },
     "execution_count": 91,
     "metadata": {},
     "output_type": "execute_result"
    }
   ],
   "source": [
    "content_ratings_columns = df.columns[df.columns.str.contains('content rating')]\n",
    "content_ratings_columns"
   ]
  },
  {
   "cell_type": "code",
   "execution_count": 92,
   "metadata": {},
   "outputs": [
    {
     "data": {
      "text/plain": [
       "Index(['L: original summary language rating',\n",
       "       'T: simple summary language rating',\n",
       "       'Z: added relevance language rating',\n",
       "       'AF: added relevance language rating'],\n",
       "      dtype='object')"
      ]
     },
     "execution_count": 92,
     "metadata": {},
     "output_type": "execute_result"
    }
   ],
   "source": [
    "language_ratings_columns = df.columns[df.columns.str.contains('language rating')]\n",
    "language_ratings_columns "
   ]
  },
  {
   "cell_type": "code",
   "execution_count": 21,
   "metadata": {},
   "outputs": [
    {
     "data": {
      "application/vnd.plotly.v1+json": {
       "config": {
        "plotlyServerURL": "https://plot.ly"
       },
       "data": [
        {
         "marker": {
          "color": "blue"
         },
         "opacity": 0.5,
         "type": "bar",
         "x": [
          "Describe the interesting points to your coworker at the water cooler",
          "Summarize for a LinkedIn post",
          "Summarize in an engaging way"
         ],
         "xaxis": "x",
         "y": [
          86.56716417910447,
          92.98245614035088,
          100
         ],
         "yaxis": "y"
        },
        {
         "marker": {
          "color": "red"
         },
         "opacity": 0.5,
         "type": "bar",
         "x": [
          "Describe the interesting points to your coworker at the water cooler",
          "Summarize for a LinkedIn post",
          "Summarize in an engaging way"
         ],
         "xaxis": "x",
         "y": [
          13.432835820895523,
          7.017543859649122,
          null
         ],
         "yaxis": "y"
        }
       ],
       "layout": {
        "annotations": [
         {
          "font": {
           "size": 16
          },
          "showarrow": false,
          "text": "H: summarization task",
          "x": 0.225,
          "xanchor": "center",
          "xref": "paper",
          "y": 1,
          "yanchor": "bottom",
          "yref": "paper"
         }
        ],
        "bargap": 0.1,
        "barmode": "stack",
        "height": 300,
        "showlegend": false,
        "template": {
         "data": {
          "bar": [
           {
            "error_x": {
             "color": "#2a3f5f"
            },
            "error_y": {
             "color": "#2a3f5f"
            },
            "marker": {
             "line": {
              "color": "#E5ECF6",
              "width": 0.5
             },
             "pattern": {
              "fillmode": "overlay",
              "size": 10,
              "solidity": 0.2
             }
            },
            "type": "bar"
           }
          ],
          "barpolar": [
           {
            "marker": {
             "line": {
              "color": "#E5ECF6",
              "width": 0.5
             },
             "pattern": {
              "fillmode": "overlay",
              "size": 10,
              "solidity": 0.2
             }
            },
            "type": "barpolar"
           }
          ],
          "carpet": [
           {
            "aaxis": {
             "endlinecolor": "#2a3f5f",
             "gridcolor": "white",
             "linecolor": "white",
             "minorgridcolor": "white",
             "startlinecolor": "#2a3f5f"
            },
            "baxis": {
             "endlinecolor": "#2a3f5f",
             "gridcolor": "white",
             "linecolor": "white",
             "minorgridcolor": "white",
             "startlinecolor": "#2a3f5f"
            },
            "type": "carpet"
           }
          ],
          "choropleth": [
           {
            "colorbar": {
             "outlinewidth": 0,
             "ticks": ""
            },
            "type": "choropleth"
           }
          ],
          "contour": [
           {
            "colorbar": {
             "outlinewidth": 0,
             "ticks": ""
            },
            "colorscale": [
             [
              0,
              "#0d0887"
             ],
             [
              0.1111111111111111,
              "#46039f"
             ],
             [
              0.2222222222222222,
              "#7201a8"
             ],
             [
              0.3333333333333333,
              "#9c179e"
             ],
             [
              0.4444444444444444,
              "#bd3786"
             ],
             [
              0.5555555555555556,
              "#d8576b"
             ],
             [
              0.6666666666666666,
              "#ed7953"
             ],
             [
              0.7777777777777778,
              "#fb9f3a"
             ],
             [
              0.8888888888888888,
              "#fdca26"
             ],
             [
              1,
              "#f0f921"
             ]
            ],
            "type": "contour"
           }
          ],
          "contourcarpet": [
           {
            "colorbar": {
             "outlinewidth": 0,
             "ticks": ""
            },
            "type": "contourcarpet"
           }
          ],
          "heatmap": [
           {
            "colorbar": {
             "outlinewidth": 0,
             "ticks": ""
            },
            "colorscale": [
             [
              0,
              "#0d0887"
             ],
             [
              0.1111111111111111,
              "#46039f"
             ],
             [
              0.2222222222222222,
              "#7201a8"
             ],
             [
              0.3333333333333333,
              "#9c179e"
             ],
             [
              0.4444444444444444,
              "#bd3786"
             ],
             [
              0.5555555555555556,
              "#d8576b"
             ],
             [
              0.6666666666666666,
              "#ed7953"
             ],
             [
              0.7777777777777778,
              "#fb9f3a"
             ],
             [
              0.8888888888888888,
              "#fdca26"
             ],
             [
              1,
              "#f0f921"
             ]
            ],
            "type": "heatmap"
           }
          ],
          "heatmapgl": [
           {
            "colorbar": {
             "outlinewidth": 0,
             "ticks": ""
            },
            "colorscale": [
             [
              0,
              "#0d0887"
             ],
             [
              0.1111111111111111,
              "#46039f"
             ],
             [
              0.2222222222222222,
              "#7201a8"
             ],
             [
              0.3333333333333333,
              "#9c179e"
             ],
             [
              0.4444444444444444,
              "#bd3786"
             ],
             [
              0.5555555555555556,
              "#d8576b"
             ],
             [
              0.6666666666666666,
              "#ed7953"
             ],
             [
              0.7777777777777778,
              "#fb9f3a"
             ],
             [
              0.8888888888888888,
              "#fdca26"
             ],
             [
              1,
              "#f0f921"
             ]
            ],
            "type": "heatmapgl"
           }
          ],
          "histogram": [
           {
            "marker": {
             "pattern": {
              "fillmode": "overlay",
              "size": 10,
              "solidity": 0.2
             }
            },
            "type": "histogram"
           }
          ],
          "histogram2d": [
           {
            "colorbar": {
             "outlinewidth": 0,
             "ticks": ""
            },
            "colorscale": [
             [
              0,
              "#0d0887"
             ],
             [
              0.1111111111111111,
              "#46039f"
             ],
             [
              0.2222222222222222,
              "#7201a8"
             ],
             [
              0.3333333333333333,
              "#9c179e"
             ],
             [
              0.4444444444444444,
              "#bd3786"
             ],
             [
              0.5555555555555556,
              "#d8576b"
             ],
             [
              0.6666666666666666,
              "#ed7953"
             ],
             [
              0.7777777777777778,
              "#fb9f3a"
             ],
             [
              0.8888888888888888,
              "#fdca26"
             ],
             [
              1,
              "#f0f921"
             ]
            ],
            "type": "histogram2d"
           }
          ],
          "histogram2dcontour": [
           {
            "colorbar": {
             "outlinewidth": 0,
             "ticks": ""
            },
            "colorscale": [
             [
              0,
              "#0d0887"
             ],
             [
              0.1111111111111111,
              "#46039f"
             ],
             [
              0.2222222222222222,
              "#7201a8"
             ],
             [
              0.3333333333333333,
              "#9c179e"
             ],
             [
              0.4444444444444444,
              "#bd3786"
             ],
             [
              0.5555555555555556,
              "#d8576b"
             ],
             [
              0.6666666666666666,
              "#ed7953"
             ],
             [
              0.7777777777777778,
              "#fb9f3a"
             ],
             [
              0.8888888888888888,
              "#fdca26"
             ],
             [
              1,
              "#f0f921"
             ]
            ],
            "type": "histogram2dcontour"
           }
          ],
          "mesh3d": [
           {
            "colorbar": {
             "outlinewidth": 0,
             "ticks": ""
            },
            "type": "mesh3d"
           }
          ],
          "parcoords": [
           {
            "line": {
             "colorbar": {
              "outlinewidth": 0,
              "ticks": ""
             }
            },
            "type": "parcoords"
           }
          ],
          "pie": [
           {
            "automargin": true,
            "type": "pie"
           }
          ],
          "scatter": [
           {
            "fillpattern": {
             "fillmode": "overlay",
             "size": 10,
             "solidity": 0.2
            },
            "type": "scatter"
           }
          ],
          "scatter3d": [
           {
            "line": {
             "colorbar": {
              "outlinewidth": 0,
              "ticks": ""
             }
            },
            "marker": {
             "colorbar": {
              "outlinewidth": 0,
              "ticks": ""
             }
            },
            "type": "scatter3d"
           }
          ],
          "scattercarpet": [
           {
            "marker": {
             "colorbar": {
              "outlinewidth": 0,
              "ticks": ""
             }
            },
            "type": "scattercarpet"
           }
          ],
          "scattergeo": [
           {
            "marker": {
             "colorbar": {
              "outlinewidth": 0,
              "ticks": ""
             }
            },
            "type": "scattergeo"
           }
          ],
          "scattergl": [
           {
            "marker": {
             "colorbar": {
              "outlinewidth": 0,
              "ticks": ""
             }
            },
            "type": "scattergl"
           }
          ],
          "scattermapbox": [
           {
            "marker": {
             "colorbar": {
              "outlinewidth": 0,
              "ticks": ""
             }
            },
            "type": "scattermapbox"
           }
          ],
          "scatterpolar": [
           {
            "marker": {
             "colorbar": {
              "outlinewidth": 0,
              "ticks": ""
             }
            },
            "type": "scatterpolar"
           }
          ],
          "scatterpolargl": [
           {
            "marker": {
             "colorbar": {
              "outlinewidth": 0,
              "ticks": ""
             }
            },
            "type": "scatterpolargl"
           }
          ],
          "scatterternary": [
           {
            "marker": {
             "colorbar": {
              "outlinewidth": 0,
              "ticks": ""
             }
            },
            "type": "scatterternary"
           }
          ],
          "surface": [
           {
            "colorbar": {
             "outlinewidth": 0,
             "ticks": ""
            },
            "colorscale": [
             [
              0,
              "#0d0887"
             ],
             [
              0.1111111111111111,
              "#46039f"
             ],
             [
              0.2222222222222222,
              "#7201a8"
             ],
             [
              0.3333333333333333,
              "#9c179e"
             ],
             [
              0.4444444444444444,
              "#bd3786"
             ],
             [
              0.5555555555555556,
              "#d8576b"
             ],
             [
              0.6666666666666666,
              "#ed7953"
             ],
             [
              0.7777777777777778,
              "#fb9f3a"
             ],
             [
              0.8888888888888888,
              "#fdca26"
             ],
             [
              1,
              "#f0f921"
             ]
            ],
            "type": "surface"
           }
          ],
          "table": [
           {
            "cells": {
             "fill": {
              "color": "#EBF0F8"
             },
             "line": {
              "color": "white"
             }
            },
            "header": {
             "fill": {
              "color": "#C8D4E3"
             },
             "line": {
              "color": "white"
             }
            },
            "type": "table"
           }
          ]
         },
         "layout": {
          "annotationdefaults": {
           "arrowcolor": "#2a3f5f",
           "arrowhead": 0,
           "arrowwidth": 1
          },
          "autotypenumbers": "strict",
          "coloraxis": {
           "colorbar": {
            "outlinewidth": 0,
            "ticks": ""
           }
          },
          "colorscale": {
           "diverging": [
            [
             0,
             "#8e0152"
            ],
            [
             0.1,
             "#c51b7d"
            ],
            [
             0.2,
             "#de77ae"
            ],
            [
             0.3,
             "#f1b6da"
            ],
            [
             0.4,
             "#fde0ef"
            ],
            [
             0.5,
             "#f7f7f7"
            ],
            [
             0.6,
             "#e6f5d0"
            ],
            [
             0.7,
             "#b8e186"
            ],
            [
             0.8,
             "#7fbc41"
            ],
            [
             0.9,
             "#4d9221"
            ],
            [
             1,
             "#276419"
            ]
           ],
           "sequential": [
            [
             0,
             "#0d0887"
            ],
            [
             0.1111111111111111,
             "#46039f"
            ],
            [
             0.2222222222222222,
             "#7201a8"
            ],
            [
             0.3333333333333333,
             "#9c179e"
            ],
            [
             0.4444444444444444,
             "#bd3786"
            ],
            [
             0.5555555555555556,
             "#d8576b"
            ],
            [
             0.6666666666666666,
             "#ed7953"
            ],
            [
             0.7777777777777778,
             "#fb9f3a"
            ],
            [
             0.8888888888888888,
             "#fdca26"
            ],
            [
             1,
             "#f0f921"
            ]
           ],
           "sequentialminus": [
            [
             0,
             "#0d0887"
            ],
            [
             0.1111111111111111,
             "#46039f"
            ],
            [
             0.2222222222222222,
             "#7201a8"
            ],
            [
             0.3333333333333333,
             "#9c179e"
            ],
            [
             0.4444444444444444,
             "#bd3786"
            ],
            [
             0.5555555555555556,
             "#d8576b"
            ],
            [
             0.6666666666666666,
             "#ed7953"
            ],
            [
             0.7777777777777778,
             "#fb9f3a"
            ],
            [
             0.8888888888888888,
             "#fdca26"
            ],
            [
             1,
             "#f0f921"
            ]
           ]
          },
          "colorway": [
           "#636efa",
           "#EF553B",
           "#00cc96",
           "#ab63fa",
           "#FFA15A",
           "#19d3f3",
           "#FF6692",
           "#B6E880",
           "#FF97FF",
           "#FECB52"
          ],
          "font": {
           "color": "#2a3f5f"
          },
          "geo": {
           "bgcolor": "white",
           "lakecolor": "white",
           "landcolor": "#E5ECF6",
           "showlakes": true,
           "showland": true,
           "subunitcolor": "white"
          },
          "hoverlabel": {
           "align": "left"
          },
          "hovermode": "closest",
          "mapbox": {
           "style": "light"
          },
          "paper_bgcolor": "white",
          "plot_bgcolor": "#E5ECF6",
          "polar": {
           "angularaxis": {
            "gridcolor": "white",
            "linecolor": "white",
            "ticks": ""
           },
           "bgcolor": "#E5ECF6",
           "radialaxis": {
            "gridcolor": "white",
            "linecolor": "white",
            "ticks": ""
           }
          },
          "scene": {
           "xaxis": {
            "backgroundcolor": "#E5ECF6",
            "gridcolor": "white",
            "gridwidth": 2,
            "linecolor": "white",
            "showbackground": true,
            "ticks": "",
            "zerolinecolor": "white"
           },
           "yaxis": {
            "backgroundcolor": "#E5ECF6",
            "gridcolor": "white",
            "gridwidth": 2,
            "linecolor": "white",
            "showbackground": true,
            "ticks": "",
            "zerolinecolor": "white"
           },
           "zaxis": {
            "backgroundcolor": "#E5ECF6",
            "gridcolor": "white",
            "gridwidth": 2,
            "linecolor": "white",
            "showbackground": true,
            "ticks": "",
            "zerolinecolor": "white"
           }
          },
          "shapedefaults": {
           "line": {
            "color": "#2a3f5f"
           }
          },
          "ternary": {
           "aaxis": {
            "gridcolor": "white",
            "linecolor": "white",
            "ticks": ""
           },
           "baxis": {
            "gridcolor": "white",
            "linecolor": "white",
            "ticks": ""
           },
           "bgcolor": "#E5ECF6",
           "caxis": {
            "gridcolor": "white",
            "linecolor": "white",
            "ticks": ""
           }
          },
          "title": {
           "x": 0.05
          },
          "xaxis": {
           "automargin": true,
           "gridcolor": "white",
           "linecolor": "white",
           "ticks": "",
           "title": {
            "standoff": 15
           },
           "zerolinecolor": "white",
           "zerolinewidth": 2
          },
          "yaxis": {
           "automargin": true,
           "gridcolor": "white",
           "linecolor": "white",
           "ticks": "",
           "title": {
            "standoff": 15
           },
           "zerolinecolor": "white",
           "zerolinewidth": 2
          }
         }
        },
        "title": {
         "text": "Percentage with M: top summary of value 1 by category (indicated in red).",
         "x": 0.5,
         "xanchor": "center",
         "yanchor": "bottom"
        },
        "xaxis": {
         "anchor": "y",
         "domain": [
          0,
          0.45
         ]
        },
        "xaxis2": {
         "anchor": "y2",
         "domain": [
          0.55,
          1
         ]
        },
        "yaxis": {
         "anchor": "x",
         "domain": [
          0,
          1
         ]
        },
        "yaxis2": {
         "anchor": "x2",
         "domain": [
          0,
          1
         ]
        }
       }
      }
     },
     "metadata": {},
     "output_type": "display_data"
    }
   ],
   "source": [
    "import plotly.graph_objects as go\n",
    "import plotly \n",
    "from plotly.subplots import make_subplots\n",
    "def plot_proportion(df, columns=None, classication='Loan_Status', label='Y', barmode='stack'):\n",
    "    \"\"\"\n",
    "    Use Plotly to plot bar charts where data are normalized for each group. \n",
    "    Show different colours based on classification.\n",
    "    Arguments:\n",
    "    - df: Dataframe.\n",
    "    - columns (optional): Columns of dataframe containing the categorical variables to plot. \n",
    "        If blank, all categorical data will be plotted.\n",
    "    - classication: Provide name of colum containing binary classification values. \n",
    "        Data points classified as 1 will be in red.\n",
    "    - label (optional): Label of classification column. Default is 1.\n",
    "    - barmode ('stack', 'group', or 'overlay'; optional): How the different will be shown. Default is 'stack'.\n",
    "\n",
    "    \"\"\"\n",
    "    if columns == None:\n",
    "        columns = df.dtypes[df.dtypes == 'object'].index.tolist()\n",
    "    fig = make_subplots(rows=round((len(columns)+.5)/2), cols=2,subplot_titles=columns)\n",
    "    for i, feature in enumerate(columns):\n",
    "        pivot = df.replace('',0).pivot_table(df.columns[-1], index=[classication], columns=[feature],aggfunc='count')\n",
    "        try:\n",
    "            zero_label = list(set(pivot.index)-set(label))[0] \n",
    "        except:\n",
    "            zero_label = list(set(pivot.index)-set([label]))[0] \n",
    "        pivot.index = pivot.index.fillna(zero_label)\n",
    "        zero = pivot.loc[zero_label,:]/pivot.sum()*100\n",
    "        yes = pivot.loc[label,:]/pivot.sum()*100\n",
    "        fig.add_trace(go.Bar(x=pivot.columns,\n",
    "            y=zero,\n",
    "            marker_color='blue',\n",
    "            opacity=0.5), \n",
    "            row=i//2+1, col=i % 2 + 1\n",
    "            )\n",
    "        fig.add_trace(go.Bar(x=pivot.columns,\n",
    "            y=yes,\n",
    "            marker_color='red',\n",
    "            opacity=0.5),\n",
    "            row=i//2+1, col=i % 2 + 1)\n",
    "    \n",
    "    title = f'Percentage with {classication} of value {label} by category (indicated in red).'\n",
    "\n",
    "    fig.update_layout(height=300*round((len(columns)+.5)/2), \n",
    "        showlegend=False,barmode=barmode,\n",
    "        bargap=0.1,\n",
    "        title = title,\n",
    "        title_x=0.5,\n",
    "        title_xanchor='center',\n",
    "        # title_y = .96,\n",
    "        title_yanchor = 'bottom')\n",
    "    fig.show()\n",
    "        \n",
    "plot_proportion(df.fillna(0), columns= ['H: summarization task'], classication='M: top summary', label='1',);"
   ]
  },
  {
   "attachments": {},
   "cell_type": "markdown",
   "metadata": {},
   "source": [
    "## plot_proportion function"
   ]
  },
  {
   "attachments": {},
   "cell_type": "markdown",
   "metadata": {},
   "source": [
    "### Iteration 2"
   ]
  },
  {
   "cell_type": "code",
   "execution_count": 23,
   "metadata": {},
   "outputs": [
    {
     "name": "stdout",
     "output_type": "stream",
     "text": [
      "M: top summary                                                           0  \\\n",
      "H: summarization task                                                        \n",
      "Describe the interesting points to your coworker at the water cooler  58.0   \n",
      "Summarize for a LinkedIn post                                         53.0   \n",
      "Summarize in an engaging way                                           5.0   \n",
      "\n",
      "M: top summary                                                          1  \n",
      "H: summarization task                                                      \n",
      "Describe the interesting points to your coworker at the water cooler  9.0  \n",
      "Summarize for a LinkedIn post                                         4.0  \n",
      "Summarize in an engaging way                                          NaN  \n"
     ]
    },
    {
     "ename": "KeyError",
     "evalue": "'Summarize for a LinkedIn post'",
     "output_type": "error",
     "traceback": [
      "\u001b[1;31m---------------------------------------------------------------------------\u001b[0m",
      "\u001b[1;31mKeyError\u001b[0m                                  Traceback (most recent call last)",
      "File \u001b[1;32m~\\AppData\\Roaming\\Python\\Python39\\site-packages\\pandas\\core\\indexes\\base.py:3800\u001b[0m, in \u001b[0;36mIndex.get_loc\u001b[1;34m(self, key, method, tolerance)\u001b[0m\n\u001b[0;32m   3799\u001b[0m \u001b[39mtry\u001b[39;00m:\n\u001b[1;32m-> 3800\u001b[0m     \u001b[39mreturn\u001b[39;00m \u001b[39mself\u001b[39;49m\u001b[39m.\u001b[39;49m_engine\u001b[39m.\u001b[39;49mget_loc(casted_key)\n\u001b[0;32m   3801\u001b[0m \u001b[39mexcept\u001b[39;00m \u001b[39mKeyError\u001b[39;00m \u001b[39mas\u001b[39;00m err:\n",
      "File \u001b[1;32m~\\AppData\\Roaming\\Python\\Python39\\site-packages\\pandas\\_libs\\index.pyx:138\u001b[0m, in \u001b[0;36mpandas._libs.index.IndexEngine.get_loc\u001b[1;34m()\u001b[0m\n",
      "File \u001b[1;32m~\\AppData\\Roaming\\Python\\Python39\\site-packages\\pandas\\_libs\\index.pyx:165\u001b[0m, in \u001b[0;36mpandas._libs.index.IndexEngine.get_loc\u001b[1;34m()\u001b[0m\n",
      "File \u001b[1;32mpandas\\_libs\\hashtable_class_helper.pxi:5745\u001b[0m, in \u001b[0;36mpandas._libs.hashtable.PyObjectHashTable.get_item\u001b[1;34m()\u001b[0m\n",
      "File \u001b[1;32mpandas\\_libs\\hashtable_class_helper.pxi:5753\u001b[0m, in \u001b[0;36mpandas._libs.hashtable.PyObjectHashTable.get_item\u001b[1;34m()\u001b[0m\n",
      "\u001b[1;31mKeyError\u001b[0m: 'Summarize for a LinkedIn post'",
      "\nThe above exception was the direct cause of the following exception:\n",
      "\u001b[1;31mKeyError\u001b[0m                                  Traceback (most recent call last)",
      "\u001b[1;32mc:\\Users\\silvh\\OneDrive\\lighthouse\\Ginkgo coding\\content-summarization\\notebooks\\2023-04-27 prompt ratings analysis.ipynb Cell 20\u001b[0m in \u001b[0;36m5\n\u001b[0;32m     <a href='vscode-notebook-cell:/c%3A/Users/silvh/OneDrive/lighthouse/Ginkgo%20coding/content-summarization/notebooks/2023-04-27%20prompt%20ratings%20analysis.ipynb#X52sZmlsZQ%3D%3D?line=45'>46</a>\u001b[0m     fig\u001b[39m.\u001b[39mupdate_layout(height\u001b[39m=\u001b[39m\u001b[39m300\u001b[39m\u001b[39m*\u001b[39m\u001b[39mround\u001b[39m((\u001b[39mlen\u001b[39m(columns)\u001b[39m+\u001b[39m\u001b[39m.5\u001b[39m)\u001b[39m/\u001b[39m\u001b[39m2\u001b[39m), \n\u001b[0;32m     <a href='vscode-notebook-cell:/c%3A/Users/silvh/OneDrive/lighthouse/Ginkgo%20coding/content-summarization/notebooks/2023-04-27%20prompt%20ratings%20analysis.ipynb#X52sZmlsZQ%3D%3D?line=46'>47</a>\u001b[0m         showlegend\u001b[39m=\u001b[39m\u001b[39mFalse\u001b[39;00m,barmode\u001b[39m=\u001b[39mbarmode,\n\u001b[0;32m     <a href='vscode-notebook-cell:/c%3A/Users/silvh/OneDrive/lighthouse/Ginkgo%20coding/content-summarization/notebooks/2023-04-27%20prompt%20ratings%20analysis.ipynb#X52sZmlsZQ%3D%3D?line=47'>48</a>\u001b[0m         bargap\u001b[39m=\u001b[39m\u001b[39m0.1\u001b[39m,\n\u001b[1;32m   (...)\u001b[0m\n\u001b[0;32m     <a href='vscode-notebook-cell:/c%3A/Users/silvh/OneDrive/lighthouse/Ginkgo%20coding/content-summarization/notebooks/2023-04-27%20prompt%20ratings%20analysis.ipynb#X52sZmlsZQ%3D%3D?line=51'>52</a>\u001b[0m         \u001b[39m# title_y = .96,\u001b[39;00m\n\u001b[0;32m     <a href='vscode-notebook-cell:/c%3A/Users/silvh/OneDrive/lighthouse/Ginkgo%20coding/content-summarization/notebooks/2023-04-27%20prompt%20ratings%20analysis.ipynb#X52sZmlsZQ%3D%3D?line=52'>53</a>\u001b[0m         title_yanchor \u001b[39m=\u001b[39m \u001b[39m'\u001b[39m\u001b[39mbottom\u001b[39m\u001b[39m'\u001b[39m)\n\u001b[0;32m     <a href='vscode-notebook-cell:/c%3A/Users/silvh/OneDrive/lighthouse/Ginkgo%20coding/content-summarization/notebooks/2023-04-27%20prompt%20ratings%20analysis.ipynb#X52sZmlsZQ%3D%3D?line=53'>54</a>\u001b[0m     fig\u001b[39m.\u001b[39mshow()\n\u001b[1;32m---> <a href='vscode-notebook-cell:/c%3A/Users/silvh/OneDrive/lighthouse/Ginkgo%20coding/content-summarization/notebooks/2023-04-27%20prompt%20ratings%20analysis.ipynb#X52sZmlsZQ%3D%3D?line=55'>56</a>\u001b[0m plot_proportion(df\u001b[39m.\u001b[39;49mfillna(\u001b[39m0\u001b[39;49m), columns\u001b[39m=\u001b[39;49m [\u001b[39m'\u001b[39;49m\u001b[39mH: summarization task\u001b[39;49m\u001b[39m'\u001b[39;49m], classication\u001b[39m=\u001b[39;49m\u001b[39m'\u001b[39;49m\u001b[39mM: top summary\u001b[39;49m\u001b[39m'\u001b[39;49m, label\u001b[39m=\u001b[39;49m\u001b[39m'\u001b[39;49m\u001b[39m1\u001b[39;49m\u001b[39m'\u001b[39;49m,)\n",
      "\u001b[1;32mc:\\Users\\silvh\\OneDrive\\lighthouse\\Ginkgo coding\\content-summarization\\notebooks\\2023-04-27 prompt ratings analysis.ipynb Cell 20\u001b[0m in \u001b[0;36m2\n\u001b[0;32m     <a href='vscode-notebook-cell:/c%3A/Users/silvh/OneDrive/lighthouse/Ginkgo%20coding/content-summarization/notebooks/2023-04-27%20prompt%20ratings%20analysis.ipynb#X52sZmlsZQ%3D%3D?line=25'>26</a>\u001b[0m     zero_label \u001b[39m=\u001b[39m \u001b[39mlist\u001b[39m(\u001b[39mset\u001b[39m(pivot\u001b[39m.\u001b[39mindex)\u001b[39m-\u001b[39m\u001b[39mset\u001b[39m([label]))[\u001b[39m0\u001b[39m] \n\u001b[0;32m     <a href='vscode-notebook-cell:/c%3A/Users/silvh/OneDrive/lighthouse/Ginkgo%20coding/content-summarization/notebooks/2023-04-27%20prompt%20ratings%20analysis.ipynb#X52sZmlsZQ%3D%3D?line=26'>27</a>\u001b[0m \u001b[39mprint\u001b[39m(pivot)\n\u001b[1;32m---> <a href='vscode-notebook-cell:/c%3A/Users/silvh/OneDrive/lighthouse/Ginkgo%20coding/content-summarization/notebooks/2023-04-27%20prompt%20ratings%20analysis.ipynb#X52sZmlsZQ%3D%3D?line=27'>28</a>\u001b[0m zero \u001b[39m=\u001b[39m pivot[zero_label]\u001b[39m/\u001b[39mpivot\u001b[39m.\u001b[39msum()\u001b[39m*\u001b[39m\u001b[39m100\u001b[39m\n\u001b[0;32m     <a href='vscode-notebook-cell:/c%3A/Users/silvh/OneDrive/lighthouse/Ginkgo%20coding/content-summarization/notebooks/2023-04-27%20prompt%20ratings%20analysis.ipynb#X52sZmlsZQ%3D%3D?line=28'>29</a>\u001b[0m yes \u001b[39m=\u001b[39m pivot[label]\u001b[39m/\u001b[39mpivot\u001b[39m.\u001b[39msum()\u001b[39m*\u001b[39m\u001b[39m100\u001b[39m\n\u001b[0;32m     <a href='vscode-notebook-cell:/c%3A/Users/silvh/OneDrive/lighthouse/Ginkgo%20coding/content-summarization/notebooks/2023-04-27%20prompt%20ratings%20analysis.ipynb#X52sZmlsZQ%3D%3D?line=29'>30</a>\u001b[0m fig\u001b[39m.\u001b[39madd_trace(go\u001b[39m.\u001b[39mBar(x\u001b[39m=\u001b[39mpivot\u001b[39m.\u001b[39mcolumns,\n\u001b[0;32m     <a href='vscode-notebook-cell:/c%3A/Users/silvh/OneDrive/lighthouse/Ginkgo%20coding/content-summarization/notebooks/2023-04-27%20prompt%20ratings%20analysis.ipynb#X52sZmlsZQ%3D%3D?line=30'>31</a>\u001b[0m     y\u001b[39m=\u001b[39mzero,\n\u001b[0;32m     <a href='vscode-notebook-cell:/c%3A/Users/silvh/OneDrive/lighthouse/Ginkgo%20coding/content-summarization/notebooks/2023-04-27%20prompt%20ratings%20analysis.ipynb#X52sZmlsZQ%3D%3D?line=31'>32</a>\u001b[0m     marker_color\u001b[39m=\u001b[39m\u001b[39m'\u001b[39m\u001b[39mblue\u001b[39m\u001b[39m'\u001b[39m,\n\u001b[1;32m   (...)\u001b[0m\n\u001b[0;32m     <a href='vscode-notebook-cell:/c%3A/Users/silvh/OneDrive/lighthouse/Ginkgo%20coding/content-summarization/notebooks/2023-04-27%20prompt%20ratings%20analysis.ipynb#X52sZmlsZQ%3D%3D?line=34'>35</a>\u001b[0m     row\u001b[39m=\u001b[39mi\u001b[39m/\u001b[39m\u001b[39m/\u001b[39m\u001b[39m2\u001b[39m\u001b[39m+\u001b[39m\u001b[39m1\u001b[39m, col\u001b[39m=\u001b[39mi \u001b[39m%\u001b[39m \u001b[39m2\u001b[39m \u001b[39m+\u001b[39m \u001b[39m1\u001b[39m\n\u001b[0;32m     <a href='vscode-notebook-cell:/c%3A/Users/silvh/OneDrive/lighthouse/Ginkgo%20coding/content-summarization/notebooks/2023-04-27%20prompt%20ratings%20analysis.ipynb#X52sZmlsZQ%3D%3D?line=35'>36</a>\u001b[0m     )\n",
      "File \u001b[1;32m~\\AppData\\Roaming\\Python\\Python39\\site-packages\\pandas\\core\\frame.py:3805\u001b[0m, in \u001b[0;36mDataFrame.__getitem__\u001b[1;34m(self, key)\u001b[0m\n\u001b[0;32m   3803\u001b[0m \u001b[39mif\u001b[39;00m \u001b[39mself\u001b[39m\u001b[39m.\u001b[39mcolumns\u001b[39m.\u001b[39mnlevels \u001b[39m>\u001b[39m \u001b[39m1\u001b[39m:\n\u001b[0;32m   3804\u001b[0m     \u001b[39mreturn\u001b[39;00m \u001b[39mself\u001b[39m\u001b[39m.\u001b[39m_getitem_multilevel(key)\n\u001b[1;32m-> 3805\u001b[0m indexer \u001b[39m=\u001b[39m \u001b[39mself\u001b[39;49m\u001b[39m.\u001b[39;49mcolumns\u001b[39m.\u001b[39;49mget_loc(key)\n\u001b[0;32m   3806\u001b[0m \u001b[39mif\u001b[39;00m is_integer(indexer):\n\u001b[0;32m   3807\u001b[0m     indexer \u001b[39m=\u001b[39m [indexer]\n",
      "File \u001b[1;32m~\\AppData\\Roaming\\Python\\Python39\\site-packages\\pandas\\core\\indexes\\base.py:3802\u001b[0m, in \u001b[0;36mIndex.get_loc\u001b[1;34m(self, key, method, tolerance)\u001b[0m\n\u001b[0;32m   3800\u001b[0m     \u001b[39mreturn\u001b[39;00m \u001b[39mself\u001b[39m\u001b[39m.\u001b[39m_engine\u001b[39m.\u001b[39mget_loc(casted_key)\n\u001b[0;32m   3801\u001b[0m \u001b[39mexcept\u001b[39;00m \u001b[39mKeyError\u001b[39;00m \u001b[39mas\u001b[39;00m err:\n\u001b[1;32m-> 3802\u001b[0m     \u001b[39mraise\u001b[39;00m \u001b[39mKeyError\u001b[39;00m(key) \u001b[39mfrom\u001b[39;00m \u001b[39merr\u001b[39;00m\n\u001b[0;32m   3803\u001b[0m \u001b[39mexcept\u001b[39;00m \u001b[39mTypeError\u001b[39;00m:\n\u001b[0;32m   3804\u001b[0m     \u001b[39m# If we have a listlike key, _check_indexing_error will raise\u001b[39;00m\n\u001b[0;32m   3805\u001b[0m     \u001b[39m#  InvalidIndexError. Otherwise we fall through and re-raise\u001b[39;00m\n\u001b[0;32m   3806\u001b[0m     \u001b[39m#  the TypeError.\u001b[39;00m\n\u001b[0;32m   3807\u001b[0m     \u001b[39mself\u001b[39m\u001b[39m.\u001b[39m_check_indexing_error(key)\n",
      "\u001b[1;31mKeyError\u001b[0m: 'Summarize for a LinkedIn post'"
     ]
    }
   ],
   "source": [
    "import plotly.graph_objects as go\n",
    "import plotly \n",
    "from plotly.subplots import make_subplots\n",
    "def plot_proportion(df, columns=None, classication='Loan_Status', label='Y', barmode='stack'):\n",
    "    \"\"\"\n",
    "    Use Plotly to plot bar charts where data are normalized for each group. \n",
    "    Show different colours based on classification.\n",
    "    Arguments:\n",
    "    - df: Dataframe.\n",
    "    - columns (optional): Columns of dataframe containing the categorical variables to plot. \n",
    "        If blank, all categorical data will be plotted.\n",
    "    - classication: Provide name of colum containing binary classification values. \n",
    "        Data points classified as 1 will be in red.\n",
    "    - label (optional): Label of classification column. Default is 1.\n",
    "    - barmode ('stack', 'group', or 'overlay'; optional): How the different will be shown. Default is 'stack'.\n",
    "\n",
    "    \"\"\"\n",
    "    if columns == None:\n",
    "        columns = df.dtypes[df.dtypes == 'object'].index.tolist()\n",
    "    fig = make_subplots(rows=round((len(columns)+.5)/2), cols=2,subplot_titles=columns)\n",
    "    for i, feature in enumerate(columns):\n",
    "        pivot = df.replace('',0).pivot_table(df.columns[-1], index=[feature], columns=[classication],aggfunc='count')\n",
    "        try:\n",
    "            zero_label = list(set(pivot.index)-set(label))[0] \n",
    "        except:\n",
    "            zero_label = list(set(pivot.index)-set([label]))[0] \n",
    "        print(pivot)\n",
    "        zero = pivot[zero_label]/pivot.sum()*100\n",
    "        yes = pivot[label]/pivot.sum()*100\n",
    "        fig.add_trace(go.Bar(x=pivot.columns,\n",
    "            y=zero,\n",
    "            marker_classification='blue',\n",
    "            orientation='h',\n",
    "            opacity=0.5), \n",
    "            row=i//2+1, col=i % 2 + 1\n",
    "            )\n",
    "        fig.add_trace(go.Bar(x=pivot.columns,\n",
    "            y=yes,\n",
    "            marker_classification='red',\n",
    "            orientation='h',\n",
    "            opacity=0.5),\n",
    "            row=i//2+1, col=i % 2 + 1)\n",
    "    \n",
    "    title = f'Percentage with {classication} of value {label} by category (indicated in red).'\n",
    "\n",
    "    fig.update_layout(height=300*round((len(columns)+.5)/2), \n",
    "        showlegend=False,barmode=barmode,\n",
    "        bargap=0.1,\n",
    "        title = title,\n",
    "        title_x=0.5,\n",
    "        title_xanchor='center',\n",
    "        # title_y = .96,\n",
    "        title_yanchor = 'bottom')\n",
    "    fig.show()\n",
    "        \n",
    "plot_proportion(df.fillna(0), columns= ['H: summarization task'], classication='M: top summary', label='1',);"
   ]
  },
  {
   "attachments": {},
   "cell_type": "markdown",
   "metadata": {},
   "source": [
    "### Iteration 3: Make bar charts horizontal"
   ]
  },
  {
   "attachments": {},
   "cell_type": "markdown",
   "metadata": {},
   "source": [
    "#### Plot Proportion"
   ]
  },
  {
   "cell_type": "code",
   "execution_count": 75,
   "metadata": {},
   "outputs": [
    {
     "data": {
      "application/vnd.plotly.v1+json": {
       "config": {
        "plotlyServerURL": "https://plot.ly"
       },
       "data": [
        {
         "marker": {
          "color": "blue"
         },
         "opacity": 0.5,
         "orientation": "h",
         "type": "bar",
         "x": [
          86.56716417910447,
          92.98245614035088,
          100
         ],
         "xaxis": "x",
         "y": [
          "Describe the interesting points to your coworker at the water cooler",
          "Summarize for a LinkedIn post",
          "Summarize in an engaging way"
         ],
         "yaxis": "y"
        },
        {
         "marker": {
          "color": "red"
         },
         "opacity": 0.5,
         "orientation": "h",
         "type": "bar",
         "x": [
          13.432835820895523,
          7.017543859649122,
          null
         ],
         "xaxis": "x",
         "y": [
          "Describe the interesting points to your coworker at the water cooler",
          "Summarize for a LinkedIn post",
          "Summarize in an engaging way"
         ],
         "yaxis": "y"
        }
       ],
       "layout": {
        "annotations": [
         {
          "font": {
           "size": 16
          },
          "showarrow": false,
          "text": "H: summarization task",
          "x": 0.225,
          "xanchor": "center",
          "xref": "paper",
          "y": 1,
          "yanchor": "bottom",
          "yref": "paper"
         }
        ],
        "bargap": 0.1,
        "barmode": "stack",
        "height": 500,
        "showlegend": false,
        "template": {
         "data": {
          "bar": [
           {
            "error_x": {
             "color": "#2a3f5f"
            },
            "error_y": {
             "color": "#2a3f5f"
            },
            "marker": {
             "line": {
              "color": "#E5ECF6",
              "width": 0.5
             },
             "pattern": {
              "fillmode": "overlay",
              "size": 10,
              "solidity": 0.2
             }
            },
            "type": "bar"
           }
          ],
          "barpolar": [
           {
            "marker": {
             "line": {
              "color": "#E5ECF6",
              "width": 0.5
             },
             "pattern": {
              "fillmode": "overlay",
              "size": 10,
              "solidity": 0.2
             }
            },
            "type": "barpolar"
           }
          ],
          "carpet": [
           {
            "aaxis": {
             "endlinecolor": "#2a3f5f",
             "gridcolor": "white",
             "linecolor": "white",
             "minorgridcolor": "white",
             "startlinecolor": "#2a3f5f"
            },
            "baxis": {
             "endlinecolor": "#2a3f5f",
             "gridcolor": "white",
             "linecolor": "white",
             "minorgridcolor": "white",
             "startlinecolor": "#2a3f5f"
            },
            "type": "carpet"
           }
          ],
          "choropleth": [
           {
            "colorbar": {
             "outlinewidth": 0,
             "ticks": ""
            },
            "type": "choropleth"
           }
          ],
          "contour": [
           {
            "colorbar": {
             "outlinewidth": 0,
             "ticks": ""
            },
            "colorscale": [
             [
              0,
              "#0d0887"
             ],
             [
              0.1111111111111111,
              "#46039f"
             ],
             [
              0.2222222222222222,
              "#7201a8"
             ],
             [
              0.3333333333333333,
              "#9c179e"
             ],
             [
              0.4444444444444444,
              "#bd3786"
             ],
             [
              0.5555555555555556,
              "#d8576b"
             ],
             [
              0.6666666666666666,
              "#ed7953"
             ],
             [
              0.7777777777777778,
              "#fb9f3a"
             ],
             [
              0.8888888888888888,
              "#fdca26"
             ],
             [
              1,
              "#f0f921"
             ]
            ],
            "type": "contour"
           }
          ],
          "contourcarpet": [
           {
            "colorbar": {
             "outlinewidth": 0,
             "ticks": ""
            },
            "type": "contourcarpet"
           }
          ],
          "heatmap": [
           {
            "colorbar": {
             "outlinewidth": 0,
             "ticks": ""
            },
            "colorscale": [
             [
              0,
              "#0d0887"
             ],
             [
              0.1111111111111111,
              "#46039f"
             ],
             [
              0.2222222222222222,
              "#7201a8"
             ],
             [
              0.3333333333333333,
              "#9c179e"
             ],
             [
              0.4444444444444444,
              "#bd3786"
             ],
             [
              0.5555555555555556,
              "#d8576b"
             ],
             [
              0.6666666666666666,
              "#ed7953"
             ],
             [
              0.7777777777777778,
              "#fb9f3a"
             ],
             [
              0.8888888888888888,
              "#fdca26"
             ],
             [
              1,
              "#f0f921"
             ]
            ],
            "type": "heatmap"
           }
          ],
          "heatmapgl": [
           {
            "colorbar": {
             "outlinewidth": 0,
             "ticks": ""
            },
            "colorscale": [
             [
              0,
              "#0d0887"
             ],
             [
              0.1111111111111111,
              "#46039f"
             ],
             [
              0.2222222222222222,
              "#7201a8"
             ],
             [
              0.3333333333333333,
              "#9c179e"
             ],
             [
              0.4444444444444444,
              "#bd3786"
             ],
             [
              0.5555555555555556,
              "#d8576b"
             ],
             [
              0.6666666666666666,
              "#ed7953"
             ],
             [
              0.7777777777777778,
              "#fb9f3a"
             ],
             [
              0.8888888888888888,
              "#fdca26"
             ],
             [
              1,
              "#f0f921"
             ]
            ],
            "type": "heatmapgl"
           }
          ],
          "histogram": [
           {
            "marker": {
             "pattern": {
              "fillmode": "overlay",
              "size": 10,
              "solidity": 0.2
             }
            },
            "type": "histogram"
           }
          ],
          "histogram2d": [
           {
            "colorbar": {
             "outlinewidth": 0,
             "ticks": ""
            },
            "colorscale": [
             [
              0,
              "#0d0887"
             ],
             [
              0.1111111111111111,
              "#46039f"
             ],
             [
              0.2222222222222222,
              "#7201a8"
             ],
             [
              0.3333333333333333,
              "#9c179e"
             ],
             [
              0.4444444444444444,
              "#bd3786"
             ],
             [
              0.5555555555555556,
              "#d8576b"
             ],
             [
              0.6666666666666666,
              "#ed7953"
             ],
             [
              0.7777777777777778,
              "#fb9f3a"
             ],
             [
              0.8888888888888888,
              "#fdca26"
             ],
             [
              1,
              "#f0f921"
             ]
            ],
            "type": "histogram2d"
           }
          ],
          "histogram2dcontour": [
           {
            "colorbar": {
             "outlinewidth": 0,
             "ticks": ""
            },
            "colorscale": [
             [
              0,
              "#0d0887"
             ],
             [
              0.1111111111111111,
              "#46039f"
             ],
             [
              0.2222222222222222,
              "#7201a8"
             ],
             [
              0.3333333333333333,
              "#9c179e"
             ],
             [
              0.4444444444444444,
              "#bd3786"
             ],
             [
              0.5555555555555556,
              "#d8576b"
             ],
             [
              0.6666666666666666,
              "#ed7953"
             ],
             [
              0.7777777777777778,
              "#fb9f3a"
             ],
             [
              0.8888888888888888,
              "#fdca26"
             ],
             [
              1,
              "#f0f921"
             ]
            ],
            "type": "histogram2dcontour"
           }
          ],
          "mesh3d": [
           {
            "colorbar": {
             "outlinewidth": 0,
             "ticks": ""
            },
            "type": "mesh3d"
           }
          ],
          "parcoords": [
           {
            "line": {
             "colorbar": {
              "outlinewidth": 0,
              "ticks": ""
             }
            },
            "type": "parcoords"
           }
          ],
          "pie": [
           {
            "automargin": true,
            "type": "pie"
           }
          ],
          "scatter": [
           {
            "fillpattern": {
             "fillmode": "overlay",
             "size": 10,
             "solidity": 0.2
            },
            "type": "scatter"
           }
          ],
          "scatter3d": [
           {
            "line": {
             "colorbar": {
              "outlinewidth": 0,
              "ticks": ""
             }
            },
            "marker": {
             "colorbar": {
              "outlinewidth": 0,
              "ticks": ""
             }
            },
            "type": "scatter3d"
           }
          ],
          "scattercarpet": [
           {
            "marker": {
             "colorbar": {
              "outlinewidth": 0,
              "ticks": ""
             }
            },
            "type": "scattercarpet"
           }
          ],
          "scattergeo": [
           {
            "marker": {
             "colorbar": {
              "outlinewidth": 0,
              "ticks": ""
             }
            },
            "type": "scattergeo"
           }
          ],
          "scattergl": [
           {
            "marker": {
             "colorbar": {
              "outlinewidth": 0,
              "ticks": ""
             }
            },
            "type": "scattergl"
           }
          ],
          "scattermapbox": [
           {
            "marker": {
             "colorbar": {
              "outlinewidth": 0,
              "ticks": ""
             }
            },
            "type": "scattermapbox"
           }
          ],
          "scatterpolar": [
           {
            "marker": {
             "colorbar": {
              "outlinewidth": 0,
              "ticks": ""
             }
            },
            "type": "scatterpolar"
           }
          ],
          "scatterpolargl": [
           {
            "marker": {
             "colorbar": {
              "outlinewidth": 0,
              "ticks": ""
             }
            },
            "type": "scatterpolargl"
           }
          ],
          "scatterternary": [
           {
            "marker": {
             "colorbar": {
              "outlinewidth": 0,
              "ticks": ""
             }
            },
            "type": "scatterternary"
           }
          ],
          "surface": [
           {
            "colorbar": {
             "outlinewidth": 0,
             "ticks": ""
            },
            "colorscale": [
             [
              0,
              "#0d0887"
             ],
             [
              0.1111111111111111,
              "#46039f"
             ],
             [
              0.2222222222222222,
              "#7201a8"
             ],
             [
              0.3333333333333333,
              "#9c179e"
             ],
             [
              0.4444444444444444,
              "#bd3786"
             ],
             [
              0.5555555555555556,
              "#d8576b"
             ],
             [
              0.6666666666666666,
              "#ed7953"
             ],
             [
              0.7777777777777778,
              "#fb9f3a"
             ],
             [
              0.8888888888888888,
              "#fdca26"
             ],
             [
              1,
              "#f0f921"
             ]
            ],
            "type": "surface"
           }
          ],
          "table": [
           {
            "cells": {
             "fill": {
              "color": "#EBF0F8"
             },
             "line": {
              "color": "white"
             }
            },
            "header": {
             "fill": {
              "color": "#C8D4E3"
             },
             "line": {
              "color": "white"
             }
            },
            "type": "table"
           }
          ]
         },
         "layout": {
          "annotationdefaults": {
           "arrowcolor": "#2a3f5f",
           "arrowhead": 0,
           "arrowwidth": 1
          },
          "autotypenumbers": "strict",
          "coloraxis": {
           "colorbar": {
            "outlinewidth": 0,
            "ticks": ""
           }
          },
          "colorscale": {
           "diverging": [
            [
             0,
             "#8e0152"
            ],
            [
             0.1,
             "#c51b7d"
            ],
            [
             0.2,
             "#de77ae"
            ],
            [
             0.3,
             "#f1b6da"
            ],
            [
             0.4,
             "#fde0ef"
            ],
            [
             0.5,
             "#f7f7f7"
            ],
            [
             0.6,
             "#e6f5d0"
            ],
            [
             0.7,
             "#b8e186"
            ],
            [
             0.8,
             "#7fbc41"
            ],
            [
             0.9,
             "#4d9221"
            ],
            [
             1,
             "#276419"
            ]
           ],
           "sequential": [
            [
             0,
             "#0d0887"
            ],
            [
             0.1111111111111111,
             "#46039f"
            ],
            [
             0.2222222222222222,
             "#7201a8"
            ],
            [
             0.3333333333333333,
             "#9c179e"
            ],
            [
             0.4444444444444444,
             "#bd3786"
            ],
            [
             0.5555555555555556,
             "#d8576b"
            ],
            [
             0.6666666666666666,
             "#ed7953"
            ],
            [
             0.7777777777777778,
             "#fb9f3a"
            ],
            [
             0.8888888888888888,
             "#fdca26"
            ],
            [
             1,
             "#f0f921"
            ]
           ],
           "sequentialminus": [
            [
             0,
             "#0d0887"
            ],
            [
             0.1111111111111111,
             "#46039f"
            ],
            [
             0.2222222222222222,
             "#7201a8"
            ],
            [
             0.3333333333333333,
             "#9c179e"
            ],
            [
             0.4444444444444444,
             "#bd3786"
            ],
            [
             0.5555555555555556,
             "#d8576b"
            ],
            [
             0.6666666666666666,
             "#ed7953"
            ],
            [
             0.7777777777777778,
             "#fb9f3a"
            ],
            [
             0.8888888888888888,
             "#fdca26"
            ],
            [
             1,
             "#f0f921"
            ]
           ]
          },
          "colorway": [
           "#636efa",
           "#EF553B",
           "#00cc96",
           "#ab63fa",
           "#FFA15A",
           "#19d3f3",
           "#FF6692",
           "#B6E880",
           "#FF97FF",
           "#FECB52"
          ],
          "font": {
           "color": "#2a3f5f"
          },
          "geo": {
           "bgcolor": "white",
           "lakecolor": "white",
           "landcolor": "#E5ECF6",
           "showlakes": true,
           "showland": true,
           "subunitcolor": "white"
          },
          "hoverlabel": {
           "align": "left"
          },
          "hovermode": "closest",
          "mapbox": {
           "style": "light"
          },
          "paper_bgcolor": "white",
          "plot_bgcolor": "#E5ECF6",
          "polar": {
           "angularaxis": {
            "gridcolor": "white",
            "linecolor": "white",
            "ticks": ""
           },
           "bgcolor": "#E5ECF6",
           "radialaxis": {
            "gridcolor": "white",
            "linecolor": "white",
            "ticks": ""
           }
          },
          "scene": {
           "xaxis": {
            "backgroundcolor": "#E5ECF6",
            "gridcolor": "white",
            "gridwidth": 2,
            "linecolor": "white",
            "showbackground": true,
            "ticks": "",
            "zerolinecolor": "white"
           },
           "yaxis": {
            "backgroundcolor": "#E5ECF6",
            "gridcolor": "white",
            "gridwidth": 2,
            "linecolor": "white",
            "showbackground": true,
            "ticks": "",
            "zerolinecolor": "white"
           },
           "zaxis": {
            "backgroundcolor": "#E5ECF6",
            "gridcolor": "white",
            "gridwidth": 2,
            "linecolor": "white",
            "showbackground": true,
            "ticks": "",
            "zerolinecolor": "white"
           }
          },
          "shapedefaults": {
           "line": {
            "color": "#2a3f5f"
           }
          },
          "ternary": {
           "aaxis": {
            "gridcolor": "white",
            "linecolor": "white",
            "ticks": ""
           },
           "baxis": {
            "gridcolor": "white",
            "linecolor": "white",
            "ticks": ""
           },
           "bgcolor": "#E5ECF6",
           "caxis": {
            "gridcolor": "white",
            "linecolor": "white",
            "ticks": ""
           }
          },
          "title": {
           "x": 0.05
          },
          "xaxis": {
           "automargin": true,
           "gridcolor": "white",
           "linecolor": "white",
           "ticks": "",
           "title": {
            "standoff": 15
           },
           "zerolinecolor": "white",
           "zerolinewidth": 2
          },
          "yaxis": {
           "automargin": true,
           "gridcolor": "white",
           "linecolor": "white",
           "ticks": "",
           "title": {
            "standoff": 15
           },
           "zerolinecolor": "white",
           "zerolinewidth": 2
          }
         }
        },
        "title": {
         "text": "Percentage with M: top summary of value 1 by category (indicated in red).",
         "x": 0.5,
         "xanchor": "center",
         "yanchor": "bottom"
        },
        "width": 1200,
        "xaxis": {
         "anchor": "y",
         "domain": [
          0,
          0.45
         ],
         "title": {
          "text": "% of Total"
         }
        },
        "xaxis2": {
         "anchor": "y2",
         "domain": [
          0.55,
          1
         ]
        },
        "yaxis": {
         "anchor": "x",
         "domain": [
          0,
          1
         ],
         "title": {
          "text": ""
         }
        },
        "yaxis2": {
         "anchor": "x2",
         "domain": [
          0,
          1
         ]
        }
       }
      }
     },
     "metadata": {},
     "output_type": "display_data"
    }
   ],
   "source": [
    "import plotly.graph_objects as go\n",
    "import plotly \n",
    "from plotly.subplots import make_subplots\n",
    "\n",
    "def plot_proportion(df, columns=None, classication='Loan_Status', label='Y', barmode='stack'):\n",
    "    \"\"\"\n",
    "    Use Plotly to plot bar charts where data are normalized for each group. \n",
    "    Show different colours based on classification.\n",
    "    Arguments:\n",
    "    - df: Dataframe.\n",
    "    - columns (optional): Columns of dataframe containing the categorical variables to plot. \n",
    "        If blank, all categorical data will be plotted.\n",
    "    - classication: Provide name of colum containing binary classification values. \n",
    "        Data points classified as 1 will be in red.\n",
    "    - label (optional): Label of classification column. Default is 1.\n",
    "    - barmode ('stack', 'group', or 'overlay'; optional): How the different will be shown. Default is 'stack'.\n",
    "\n",
    "    \"\"\"\n",
    "    if columns == None:\n",
    "        columns = df.dtypes[df.dtypes == 'object'].index.tolist()\n",
    "    fig = make_subplots(rows=round((len(columns)+.5)/2), cols=2,subplot_titles=columns)\n",
    "    for i, feature in enumerate(columns):\n",
    "        pivot = df.fillna(0).replace('',0).pivot_table(\n",
    "            df.columns[-1], index=[classication], columns=[feature],aggfunc='count')\n",
    "        try:\n",
    "            zero_label = list(set(pivot.index)-set(label))[0] \n",
    "        except:\n",
    "            zero_label = list(set(pivot.index)-set([label]))[0] \n",
    "        pivot.index = pivot.index.fillna(zero_label)\n",
    "        zero = pivot.loc[zero_label,:]/pivot.sum()*100\n",
    "        yes = pivot.loc[label,:]/pivot.sum()*100\n",
    "        fig.add_trace(go.Bar(y=pivot.columns,  # Change x to y\n",
    "            x=zero,  # Change y to x\n",
    "            orientation='h',  # Add orientation\n",
    "            marker_color='blue',\n",
    "            opacity=0.5), \n",
    "            row=i//2+1, col=i % 2 + 1\n",
    "            )\n",
    "        fig.add_trace(go.Bar(y=pivot.columns,  # Change x to y\n",
    "            x=yes,  # Change y to x\n",
    "            orientation='h',  # Add orientation\n",
    "            marker_color='red',\n",
    "            opacity=0.5),\n",
    "            row=i//2+1, col=i % 2 + 1)\n",
    "    \n",
    "    title = f'Percentage with {classication} of value {label} by category (indicated in red).'\n",
    "\n",
    "    fig.update_layout(width=1200,  # Swap height and width\n",
    "        height=500*round((len(columns)+.5)/2), \n",
    "        showlegend=False,barmode=barmode,\n",
    "        bargap=0.1,\n",
    "        title = title,\n",
    "        title_x=0.5,\n",
    "        title_xanchor='center',\n",
    "        # title_y = .96,\n",
    "        title_yanchor = 'bottom',\n",
    "        xaxis_title='% of Total',  # Add x-axis title\n",
    "        yaxis_title='',  # Remove y-axis title\n",
    "        )\n",
    "    fig.show()\n",
    "    # return fig\n",
    "        \n",
    "plot_proportion(df, columns= ['H: summarization task'], classication='M: top summary', label='1',)\n"
   ]
  },
  {
   "attachments": {},
   "cell_type": "markdown",
   "metadata": {},
   "source": [
    "#### plot_int_bar"
   ]
  },
  {
   "cell_type": "code",
   "execution_count": 74,
   "metadata": {},
   "outputs": [
    {
     "data": {
      "application/vnd.plotly.v1+json": {
       "config": {
        "plotlyServerURL": "https://plot.ly"
       },
       "data": [
        {
         "marker": {
          "color": "blue"
         },
         "opacity": 0.5,
         "orientation": "h",
         "type": "histogram",
         "xaxis": "x",
         "y": [
          "Summarize for a LinkedIn post",
          "Summarize for a LinkedIn post",
          "Summarize for a LinkedIn post",
          "Summarize for a LinkedIn post",
          "Describe the interesting points to your coworker at the water cooler",
          "Describe the interesting points to your coworker at the water cooler",
          "Describe the interesting points to your coworker at the water cooler",
          "Describe the interesting points to your coworker at the water cooler",
          "Describe the interesting points to your coworker at the water cooler",
          "Summarize for a LinkedIn post",
          "Summarize for a LinkedIn post",
          "Summarize for a LinkedIn post",
          "Summarize for a LinkedIn post",
          "Summarize for a LinkedIn post",
          "Describe the interesting points to your coworker at the water cooler",
          "Describe the interesting points to your coworker at the water cooler",
          "Describe the interesting points to your coworker at the water cooler",
          "Describe the interesting points to your coworker at the water cooler",
          "Summarize for a LinkedIn post",
          "Summarize for a LinkedIn post",
          "Summarize for a LinkedIn post",
          "Summarize for a LinkedIn post",
          "Summarize for a LinkedIn post",
          "Describe the interesting points to your coworker at the water cooler",
          "Describe the interesting points to your coworker at the water cooler",
          "Describe the interesting points to your coworker at the water cooler",
          "Describe the interesting points to your coworker at the water cooler",
          "Summarize for a LinkedIn post",
          "Summarize for a LinkedIn post",
          "Summarize for a LinkedIn post",
          "Summarize for a LinkedIn post",
          "Summarize for a LinkedIn post",
          "Summarize for a LinkedIn post",
          "Summarize for a LinkedIn post",
          "Describe the interesting points to your coworker at the water cooler",
          "Describe the interesting points to your coworker at the water cooler",
          "Describe the interesting points to your coworker at the water cooler",
          "Describe the interesting points to your coworker at the water cooler",
          "Summarize for a LinkedIn post",
          "Summarize for a LinkedIn post",
          "Summarize for a LinkedIn post",
          "Summarize for a LinkedIn post",
          "Summarize for a LinkedIn post",
          "Describe the interesting points to your coworker at the water cooler",
          "Describe the interesting points to your coworker at the water cooler",
          "Describe the interesting points to your coworker at the water cooler",
          "Describe the interesting points to your coworker at the water cooler",
          "Summarize for a LinkedIn post",
          "Summarize for a LinkedIn post",
          "Summarize for a LinkedIn post",
          "Summarize for a LinkedIn post",
          "Summarize for a LinkedIn post",
          "Summarize for a LinkedIn post",
          "Summarize for a LinkedIn post",
          "Summarize for a LinkedIn post",
          "Summarize for a LinkedIn post",
          "Describe the interesting points to your coworker at the water cooler",
          "Describe the interesting points to your coworker at the water cooler",
          "Describe the interesting points to your coworker at the water cooler",
          "Describe the interesting points to your coworker at the water cooler",
          "Describe the interesting points to your coworker at the water cooler",
          "Describe the interesting points to your coworker at the water cooler",
          "Describe the interesting points to your coworker at the water cooler",
          "Describe the interesting points to your coworker at the water cooler",
          "Describe the interesting points to your coworker at the water cooler",
          "Describe the interesting points to your coworker at the water cooler",
          "Summarize for a LinkedIn post",
          "Summarize for a LinkedIn post",
          "Summarize for a LinkedIn post",
          "Summarize for a LinkedIn post",
          "Summarize for a LinkedIn post",
          "Summarize for a LinkedIn post",
          "Summarize for a LinkedIn post",
          "Summarize for a LinkedIn post",
          "Summarize for a LinkedIn post",
          "Describe the interesting points to your coworker at the water cooler",
          "Describe the interesting points to your coworker at the water cooler",
          "Describe the interesting points to your coworker at the water cooler",
          "Describe the interesting points to your coworker at the water cooler",
          "Describe the interesting points to your coworker at the water cooler",
          "Describe the interesting points to your coworker at the water cooler",
          "Describe the interesting points to your coworker at the water cooler",
          "Describe the interesting points to your coworker at the water cooler",
          "Describe the interesting points to your coworker at the water cooler",
          "Describe the interesting points to your coworker at the water cooler",
          "Describe the interesting points to your coworker at the water cooler",
          "Describe the interesting points to your coworker at the water cooler",
          "Describe the interesting points to your coworker at the water cooler",
          "Describe the interesting points to your coworker at the water cooler",
          "Summarize for a LinkedIn post",
          "Summarize for a LinkedIn post",
          "Summarize for a LinkedIn post",
          "Summarize for a LinkedIn post",
          "Summarize for a LinkedIn post",
          "Summarize in an engaging way",
          "Summarize in an engaging way",
          "Summarize in an engaging way",
          "Summarize in an engaging way",
          "Summarize in an engaging way",
          "Describe the interesting points to your coworker at the water cooler",
          "Describe the interesting points to your coworker at the water cooler",
          "Describe the interesting points to your coworker at the water cooler",
          "Describe the interesting points to your coworker at the water cooler",
          "Summarize for a LinkedIn post",
          "Summarize for a LinkedIn post",
          "Summarize for a LinkedIn post",
          "Summarize for a LinkedIn post",
          "Describe the interesting points to your coworker at the water cooler",
          "Describe the interesting points to your coworker at the water cooler",
          "Describe the interesting points to your coworker at the water cooler",
          "Describe the interesting points to your coworker at the water cooler",
          "Describe the interesting points to your coworker at the water cooler",
          "Describe the interesting points to your coworker at the water cooler",
          "Describe the interesting points to your coworker at the water cooler",
          "Describe the interesting points to your coworker at the water cooler",
          "Describe the interesting points to your coworker at the water cooler"
         ],
         "yaxis": "y"
        },
        {
         "marker": {
          "color": "red"
         },
         "opacity": 0.5,
         "orientation": "h",
         "type": "histogram",
         "xaxis": "x",
         "y": [
          "Summarize for a LinkedIn post",
          "Describe the interesting points to your coworker at the water cooler",
          "Describe the interesting points to your coworker at the water cooler",
          "Describe the interesting points to your coworker at the water cooler",
          "Describe the interesting points to your coworker at the water cooler",
          "Describe the interesting points to your coworker at the water cooler",
          "Describe the interesting points to your coworker at the water cooler",
          "Summarize for a LinkedIn post",
          "Summarize for a LinkedIn post",
          "Describe the interesting points to your coworker at the water cooler",
          "Describe the interesting points to your coworker at the water cooler",
          "Summarize for a LinkedIn post",
          "Describe the interesting points to your coworker at the water cooler"
         ],
         "yaxis": "y"
        }
       ],
       "layout": {
        "annotations": [
         {
          "font": {
           "size": 16
          },
          "showarrow": false,
          "text": "H: summarization task",
          "x": 0.225,
          "xanchor": "center",
          "xref": "paper",
          "y": 1,
          "yanchor": "bottom",
          "yref": "paper"
         }
        ],
        "bargap": 0.1,
        "barmode": "group",
        "showlegend": false,
        "template": {
         "data": {
          "bar": [
           {
            "error_x": {
             "color": "#2a3f5f"
            },
            "error_y": {
             "color": "#2a3f5f"
            },
            "marker": {
             "line": {
              "color": "#E5ECF6",
              "width": 0.5
             },
             "pattern": {
              "fillmode": "overlay",
              "size": 10,
              "solidity": 0.2
             }
            },
            "type": "bar"
           }
          ],
          "barpolar": [
           {
            "marker": {
             "line": {
              "color": "#E5ECF6",
              "width": 0.5
             },
             "pattern": {
              "fillmode": "overlay",
              "size": 10,
              "solidity": 0.2
             }
            },
            "type": "barpolar"
           }
          ],
          "carpet": [
           {
            "aaxis": {
             "endlinecolor": "#2a3f5f",
             "gridcolor": "white",
             "linecolor": "white",
             "minorgridcolor": "white",
             "startlinecolor": "#2a3f5f"
            },
            "baxis": {
             "endlinecolor": "#2a3f5f",
             "gridcolor": "white",
             "linecolor": "white",
             "minorgridcolor": "white",
             "startlinecolor": "#2a3f5f"
            },
            "type": "carpet"
           }
          ],
          "choropleth": [
           {
            "colorbar": {
             "outlinewidth": 0,
             "ticks": ""
            },
            "type": "choropleth"
           }
          ],
          "contour": [
           {
            "colorbar": {
             "outlinewidth": 0,
             "ticks": ""
            },
            "colorscale": [
             [
              0,
              "#0d0887"
             ],
             [
              0.1111111111111111,
              "#46039f"
             ],
             [
              0.2222222222222222,
              "#7201a8"
             ],
             [
              0.3333333333333333,
              "#9c179e"
             ],
             [
              0.4444444444444444,
              "#bd3786"
             ],
             [
              0.5555555555555556,
              "#d8576b"
             ],
             [
              0.6666666666666666,
              "#ed7953"
             ],
             [
              0.7777777777777778,
              "#fb9f3a"
             ],
             [
              0.8888888888888888,
              "#fdca26"
             ],
             [
              1,
              "#f0f921"
             ]
            ],
            "type": "contour"
           }
          ],
          "contourcarpet": [
           {
            "colorbar": {
             "outlinewidth": 0,
             "ticks": ""
            },
            "type": "contourcarpet"
           }
          ],
          "heatmap": [
           {
            "colorbar": {
             "outlinewidth": 0,
             "ticks": ""
            },
            "colorscale": [
             [
              0,
              "#0d0887"
             ],
             [
              0.1111111111111111,
              "#46039f"
             ],
             [
              0.2222222222222222,
              "#7201a8"
             ],
             [
              0.3333333333333333,
              "#9c179e"
             ],
             [
              0.4444444444444444,
              "#bd3786"
             ],
             [
              0.5555555555555556,
              "#d8576b"
             ],
             [
              0.6666666666666666,
              "#ed7953"
             ],
             [
              0.7777777777777778,
              "#fb9f3a"
             ],
             [
              0.8888888888888888,
              "#fdca26"
             ],
             [
              1,
              "#f0f921"
             ]
            ],
            "type": "heatmap"
           }
          ],
          "heatmapgl": [
           {
            "colorbar": {
             "outlinewidth": 0,
             "ticks": ""
            },
            "colorscale": [
             [
              0,
              "#0d0887"
             ],
             [
              0.1111111111111111,
              "#46039f"
             ],
             [
              0.2222222222222222,
              "#7201a8"
             ],
             [
              0.3333333333333333,
              "#9c179e"
             ],
             [
              0.4444444444444444,
              "#bd3786"
             ],
             [
              0.5555555555555556,
              "#d8576b"
             ],
             [
              0.6666666666666666,
              "#ed7953"
             ],
             [
              0.7777777777777778,
              "#fb9f3a"
             ],
             [
              0.8888888888888888,
              "#fdca26"
             ],
             [
              1,
              "#f0f921"
             ]
            ],
            "type": "heatmapgl"
           }
          ],
          "histogram": [
           {
            "marker": {
             "pattern": {
              "fillmode": "overlay",
              "size": 10,
              "solidity": 0.2
             }
            },
            "type": "histogram"
           }
          ],
          "histogram2d": [
           {
            "colorbar": {
             "outlinewidth": 0,
             "ticks": ""
            },
            "colorscale": [
             [
              0,
              "#0d0887"
             ],
             [
              0.1111111111111111,
              "#46039f"
             ],
             [
              0.2222222222222222,
              "#7201a8"
             ],
             [
              0.3333333333333333,
              "#9c179e"
             ],
             [
              0.4444444444444444,
              "#bd3786"
             ],
             [
              0.5555555555555556,
              "#d8576b"
             ],
             [
              0.6666666666666666,
              "#ed7953"
             ],
             [
              0.7777777777777778,
              "#fb9f3a"
             ],
             [
              0.8888888888888888,
              "#fdca26"
             ],
             [
              1,
              "#f0f921"
             ]
            ],
            "type": "histogram2d"
           }
          ],
          "histogram2dcontour": [
           {
            "colorbar": {
             "outlinewidth": 0,
             "ticks": ""
            },
            "colorscale": [
             [
              0,
              "#0d0887"
             ],
             [
              0.1111111111111111,
              "#46039f"
             ],
             [
              0.2222222222222222,
              "#7201a8"
             ],
             [
              0.3333333333333333,
              "#9c179e"
             ],
             [
              0.4444444444444444,
              "#bd3786"
             ],
             [
              0.5555555555555556,
              "#d8576b"
             ],
             [
              0.6666666666666666,
              "#ed7953"
             ],
             [
              0.7777777777777778,
              "#fb9f3a"
             ],
             [
              0.8888888888888888,
              "#fdca26"
             ],
             [
              1,
              "#f0f921"
             ]
            ],
            "type": "histogram2dcontour"
           }
          ],
          "mesh3d": [
           {
            "colorbar": {
             "outlinewidth": 0,
             "ticks": ""
            },
            "type": "mesh3d"
           }
          ],
          "parcoords": [
           {
            "line": {
             "colorbar": {
              "outlinewidth": 0,
              "ticks": ""
             }
            },
            "type": "parcoords"
           }
          ],
          "pie": [
           {
            "automargin": true,
            "type": "pie"
           }
          ],
          "scatter": [
           {
            "fillpattern": {
             "fillmode": "overlay",
             "size": 10,
             "solidity": 0.2
            },
            "type": "scatter"
           }
          ],
          "scatter3d": [
           {
            "line": {
             "colorbar": {
              "outlinewidth": 0,
              "ticks": ""
             }
            },
            "marker": {
             "colorbar": {
              "outlinewidth": 0,
              "ticks": ""
             }
            },
            "type": "scatter3d"
           }
          ],
          "scattercarpet": [
           {
            "marker": {
             "colorbar": {
              "outlinewidth": 0,
              "ticks": ""
             }
            },
            "type": "scattercarpet"
           }
          ],
          "scattergeo": [
           {
            "marker": {
             "colorbar": {
              "outlinewidth": 0,
              "ticks": ""
             }
            },
            "type": "scattergeo"
           }
          ],
          "scattergl": [
           {
            "marker": {
             "colorbar": {
              "outlinewidth": 0,
              "ticks": ""
             }
            },
            "type": "scattergl"
           }
          ],
          "scattermapbox": [
           {
            "marker": {
             "colorbar": {
              "outlinewidth": 0,
              "ticks": ""
             }
            },
            "type": "scattermapbox"
           }
          ],
          "scatterpolar": [
           {
            "marker": {
             "colorbar": {
              "outlinewidth": 0,
              "ticks": ""
             }
            },
            "type": "scatterpolar"
           }
          ],
          "scatterpolargl": [
           {
            "marker": {
             "colorbar": {
              "outlinewidth": 0,
              "ticks": ""
             }
            },
            "type": "scatterpolargl"
           }
          ],
          "scatterternary": [
           {
            "marker": {
             "colorbar": {
              "outlinewidth": 0,
              "ticks": ""
             }
            },
            "type": "scatterternary"
           }
          ],
          "surface": [
           {
            "colorbar": {
             "outlinewidth": 0,
             "ticks": ""
            },
            "colorscale": [
             [
              0,
              "#0d0887"
             ],
             [
              0.1111111111111111,
              "#46039f"
             ],
             [
              0.2222222222222222,
              "#7201a8"
             ],
             [
              0.3333333333333333,
              "#9c179e"
             ],
             [
              0.4444444444444444,
              "#bd3786"
             ],
             [
              0.5555555555555556,
              "#d8576b"
             ],
             [
              0.6666666666666666,
              "#ed7953"
             ],
             [
              0.7777777777777778,
              "#fb9f3a"
             ],
             [
              0.8888888888888888,
              "#fdca26"
             ],
             [
              1,
              "#f0f921"
             ]
            ],
            "type": "surface"
           }
          ],
          "table": [
           {
            "cells": {
             "fill": {
              "color": "#EBF0F8"
             },
             "line": {
              "color": "white"
             }
            },
            "header": {
             "fill": {
              "color": "#C8D4E3"
             },
             "line": {
              "color": "white"
             }
            },
            "type": "table"
           }
          ]
         },
         "layout": {
          "annotationdefaults": {
           "arrowcolor": "#2a3f5f",
           "arrowhead": 0,
           "arrowwidth": 1
          },
          "autotypenumbers": "strict",
          "coloraxis": {
           "colorbar": {
            "outlinewidth": 0,
            "ticks": ""
           }
          },
          "colorscale": {
           "diverging": [
            [
             0,
             "#8e0152"
            ],
            [
             0.1,
             "#c51b7d"
            ],
            [
             0.2,
             "#de77ae"
            ],
            [
             0.3,
             "#f1b6da"
            ],
            [
             0.4,
             "#fde0ef"
            ],
            [
             0.5,
             "#f7f7f7"
            ],
            [
             0.6,
             "#e6f5d0"
            ],
            [
             0.7,
             "#b8e186"
            ],
            [
             0.8,
             "#7fbc41"
            ],
            [
             0.9,
             "#4d9221"
            ],
            [
             1,
             "#276419"
            ]
           ],
           "sequential": [
            [
             0,
             "#0d0887"
            ],
            [
             0.1111111111111111,
             "#46039f"
            ],
            [
             0.2222222222222222,
             "#7201a8"
            ],
            [
             0.3333333333333333,
             "#9c179e"
            ],
            [
             0.4444444444444444,
             "#bd3786"
            ],
            [
             0.5555555555555556,
             "#d8576b"
            ],
            [
             0.6666666666666666,
             "#ed7953"
            ],
            [
             0.7777777777777778,
             "#fb9f3a"
            ],
            [
             0.8888888888888888,
             "#fdca26"
            ],
            [
             1,
             "#f0f921"
            ]
           ],
           "sequentialminus": [
            [
             0,
             "#0d0887"
            ],
            [
             0.1111111111111111,
             "#46039f"
            ],
            [
             0.2222222222222222,
             "#7201a8"
            ],
            [
             0.3333333333333333,
             "#9c179e"
            ],
            [
             0.4444444444444444,
             "#bd3786"
            ],
            [
             0.5555555555555556,
             "#d8576b"
            ],
            [
             0.6666666666666666,
             "#ed7953"
            ],
            [
             0.7777777777777778,
             "#fb9f3a"
            ],
            [
             0.8888888888888888,
             "#fdca26"
            ],
            [
             1,
             "#f0f921"
            ]
           ]
          },
          "colorway": [
           "#636efa",
           "#EF553B",
           "#00cc96",
           "#ab63fa",
           "#FFA15A",
           "#19d3f3",
           "#FF6692",
           "#B6E880",
           "#FF97FF",
           "#FECB52"
          ],
          "font": {
           "color": "#2a3f5f"
          },
          "geo": {
           "bgcolor": "white",
           "lakecolor": "white",
           "landcolor": "#E5ECF6",
           "showlakes": true,
           "showland": true,
           "subunitcolor": "white"
          },
          "hoverlabel": {
           "align": "left"
          },
          "hovermode": "closest",
          "mapbox": {
           "style": "light"
          },
          "paper_bgcolor": "white",
          "plot_bgcolor": "#E5ECF6",
          "polar": {
           "angularaxis": {
            "gridcolor": "white",
            "linecolor": "white",
            "ticks": ""
           },
           "bgcolor": "#E5ECF6",
           "radialaxis": {
            "gridcolor": "white",
            "linecolor": "white",
            "ticks": ""
           }
          },
          "scene": {
           "xaxis": {
            "backgroundcolor": "#E5ECF6",
            "gridcolor": "white",
            "gridwidth": 2,
            "linecolor": "white",
            "showbackground": true,
            "ticks": "",
            "zerolinecolor": "white"
           },
           "yaxis": {
            "backgroundcolor": "#E5ECF6",
            "gridcolor": "white",
            "gridwidth": 2,
            "linecolor": "white",
            "showbackground": true,
            "ticks": "",
            "zerolinecolor": "white"
           },
           "zaxis": {
            "backgroundcolor": "#E5ECF6",
            "gridcolor": "white",
            "gridwidth": 2,
            "linecolor": "white",
            "showbackground": true,
            "ticks": "",
            "zerolinecolor": "white"
           }
          },
          "shapedefaults": {
           "line": {
            "color": "#2a3f5f"
           }
          },
          "ternary": {
           "aaxis": {
            "gridcolor": "white",
            "linecolor": "white",
            "ticks": ""
           },
           "baxis": {
            "gridcolor": "white",
            "linecolor": "white",
            "ticks": ""
           },
           "bgcolor": "#E5ECF6",
           "caxis": {
            "gridcolor": "white",
            "linecolor": "white",
            "ticks": ""
           }
          },
          "title": {
           "x": 0.05
          },
          "xaxis": {
           "automargin": true,
           "gridcolor": "white",
           "linecolor": "white",
           "ticks": "",
           "title": {
            "standoff": 15
           },
           "zerolinecolor": "white",
           "zerolinewidth": 2
          },
          "yaxis": {
           "automargin": true,
           "gridcolor": "white",
           "linecolor": "white",
           "ticks": "",
           "title": {
            "standoff": 15
           },
           "zerolinecolor": "white",
           "zerolinewidth": 2
          }
         }
        },
        "title": {
         "text": "Observations with M: top summary of value 1 are indicated in red",
         "x": 0.5,
         "xanchor": "center",
         "y": 0.1,
         "yanchor": "bottom"
        },
        "xaxis": {
         "anchor": "y",
         "domain": [
          0,
          0.45
         ]
        },
        "xaxis2": {
         "anchor": "y2",
         "domain": [
          0.55,
          1
         ]
        },
        "yaxis": {
         "anchor": "x",
         "domain": [
          0,
          1
         ]
        },
        "yaxis2": {
         "anchor": "x2",
         "domain": [
          0,
          1
         ]
        }
       }
      }
     },
     "metadata": {},
     "output_type": "display_data"
    }
   ],
   "source": [
    "def plot_int_bar(df, columns=None, classification=None, label=1, barmode='stack'):\n",
    "    \"\"\"\n",
    "    Use Plotly to plot multiple histograms using the specified columns of a dataframe.\n",
    "    Arguments:\n",
    "    - df: Dataframe.\n",
    "    - columns (optional): Columns of dataframe on which to create the histogram. If blank, all numeric data will be plotted.\n",
    "    - classification (optional): Provide name of colum containing binary classification values 0 and 1. \n",
    "        Data points classified as 1 will be in red.\n",
    "    - label (optional): Label of classification column. Default is 1.\n",
    "    - barmode ('stack', 'group', or 'overlay'; optional): How the different will be shown. Default is 'stack'.\n",
    "\n",
    "    \"\"\"\n",
    "    if columns == None:\n",
    "        columns = df.dtypes[df.dtypes != 'object'].index.tolist()\n",
    "    fig = make_subplots(rows=round((len(columns)+.5)/2), cols=2,subplot_titles=columns)\n",
    "    for i, feature in enumerate(columns):\n",
    "        if classification:\n",
    "            zero = df[df[classification] != label]\n",
    "            one = df[df[classification] == label]\n",
    "            fig.add_trace(go.Histogram(y=zero[feature],\n",
    "                marker_color='blue',\n",
    "                orientation='h',\n",
    "                opacity=0.5), \n",
    "                row=i//2+1, col=i % 2 + 1\n",
    "                )\n",
    "            fig.add_trace(go.Histogram(y=one[feature],\n",
    "                marker_color='red',\n",
    "                orientation='h',\n",
    "                opacity=0.5),\n",
    "                row=i//2+1, col=i % 2 + 1)\n",
    "        else:\n",
    "            fig.add_trace(go.Histogram(x=df[feature]), \n",
    "            row=i//2+1, col=i % 2 + 1)\n",
    "    \n",
    "    if classification:\n",
    "        title = f'Observations with {classification} of value {label} are indicated in red'\n",
    "    else:\n",
    "        title = 'Value counts'\n",
    "    fig.update_layout(#height=300*round((len(columns)+.5)/2), \n",
    "        showlegend=False,barmode=barmode,\n",
    "        bargap=0.1,\n",
    "        title = title,\n",
    "        title_x=0.5,\n",
    "        title_xanchor='center',\n",
    "        title_y = 0.1,\n",
    "        title_yanchor = 'bottom')\n",
    "    fig.show()\n",
    "\n",
    "plot_int_bar(df, columns= ['H: summarization task'], \n",
    "             classification='M: top summary', label=\"1\",\n",
    "             barmode='group');"
   ]
  },
  {
   "attachments": {},
   "cell_type": "markdown",
   "metadata": {},
   "source": [
    "### Fail"
   ]
  },
  {
   "cell_type": "code",
   "execution_count": 49,
   "metadata": {},
   "outputs": [
    {
     "data": {
      "application/vnd.plotly.v1+json": {
       "config": {
        "plotlyServerURL": "https://plot.ly"
       },
       "data": [
        {
         "marker": {
          "color": "blue"
         },
         "opacity": 0.5,
         "type": "bar",
         "x": [
          "Describe the interesting points to your coworker at the water cooler",
          "Summarize for a LinkedIn post",
          "Summarize in an engaging way"
         ],
         "xaxis": "x",
         "y": [
          67,
          57,
          5
         ],
         "yaxis": "y"
        },
        {
         "marker": {
          "color": "blue"
         },
         "name": "M: top summary=",
         "opacity": 0.5,
         "orientation": "h",
         "type": "bar",
         "x": [
          0.5,
          0.45689655172413796,
          0.04310344827586207
         ],
         "xaxis": "x",
         "y": [
          "Describe the interesting points to your coworker at the water cooler",
          "Summarize for a LinkedIn post",
          "Summarize in an engaging way"
         ],
         "yaxis": "y"
        },
        {
         "marker": {
          "color": "red"
         },
         "name": "M: top summary=1",
         "opacity": 0.5,
         "orientation": "h",
         "type": "bar",
         "x": [
          0.6923076923076923,
          0.3076923076923077
         ],
         "xaxis": "x",
         "y": [
          "Describe the interesting points to your coworker at the water cooler",
          "Summarize for a LinkedIn post"
         ],
         "yaxis": "y"
        }
       ],
       "layout": {
        "barmode": "stack",
        "height": 500,
        "legend": {
         "x": 1.1,
         "y": 1
        },
        "showlegend": true,
        "template": {
         "data": {
          "bar": [
           {
            "error_x": {
             "color": "#2a3f5f"
            },
            "error_y": {
             "color": "#2a3f5f"
            },
            "marker": {
             "line": {
              "color": "#E5ECF6",
              "width": 0.5
             },
             "pattern": {
              "fillmode": "overlay",
              "size": 10,
              "solidity": 0.2
             }
            },
            "type": "bar"
           }
          ],
          "barpolar": [
           {
            "marker": {
             "line": {
              "color": "#E5ECF6",
              "width": 0.5
             },
             "pattern": {
              "fillmode": "overlay",
              "size": 10,
              "solidity": 0.2
             }
            },
            "type": "barpolar"
           }
          ],
          "carpet": [
           {
            "aaxis": {
             "endlinecolor": "#2a3f5f",
             "gridcolor": "white",
             "linecolor": "white",
             "minorgridcolor": "white",
             "startlinecolor": "#2a3f5f"
            },
            "baxis": {
             "endlinecolor": "#2a3f5f",
             "gridcolor": "white",
             "linecolor": "white",
             "minorgridcolor": "white",
             "startlinecolor": "#2a3f5f"
            },
            "type": "carpet"
           }
          ],
          "choropleth": [
           {
            "colorbar": {
             "outlinewidth": 0,
             "ticks": ""
            },
            "type": "choropleth"
           }
          ],
          "contour": [
           {
            "colorbar": {
             "outlinewidth": 0,
             "ticks": ""
            },
            "colorscale": [
             [
              0,
              "#0d0887"
             ],
             [
              0.1111111111111111,
              "#46039f"
             ],
             [
              0.2222222222222222,
              "#7201a8"
             ],
             [
              0.3333333333333333,
              "#9c179e"
             ],
             [
              0.4444444444444444,
              "#bd3786"
             ],
             [
              0.5555555555555556,
              "#d8576b"
             ],
             [
              0.6666666666666666,
              "#ed7953"
             ],
             [
              0.7777777777777778,
              "#fb9f3a"
             ],
             [
              0.8888888888888888,
              "#fdca26"
             ],
             [
              1,
              "#f0f921"
             ]
            ],
            "type": "contour"
           }
          ],
          "contourcarpet": [
           {
            "colorbar": {
             "outlinewidth": 0,
             "ticks": ""
            },
            "type": "contourcarpet"
           }
          ],
          "heatmap": [
           {
            "colorbar": {
             "outlinewidth": 0,
             "ticks": ""
            },
            "colorscale": [
             [
              0,
              "#0d0887"
             ],
             [
              0.1111111111111111,
              "#46039f"
             ],
             [
              0.2222222222222222,
              "#7201a8"
             ],
             [
              0.3333333333333333,
              "#9c179e"
             ],
             [
              0.4444444444444444,
              "#bd3786"
             ],
             [
              0.5555555555555556,
              "#d8576b"
             ],
             [
              0.6666666666666666,
              "#ed7953"
             ],
             [
              0.7777777777777778,
              "#fb9f3a"
             ],
             [
              0.8888888888888888,
              "#fdca26"
             ],
             [
              1,
              "#f0f921"
             ]
            ],
            "type": "heatmap"
           }
          ],
          "heatmapgl": [
           {
            "colorbar": {
             "outlinewidth": 0,
             "ticks": ""
            },
            "colorscale": [
             [
              0,
              "#0d0887"
             ],
             [
              0.1111111111111111,
              "#46039f"
             ],
             [
              0.2222222222222222,
              "#7201a8"
             ],
             [
              0.3333333333333333,
              "#9c179e"
             ],
             [
              0.4444444444444444,
              "#bd3786"
             ],
             [
              0.5555555555555556,
              "#d8576b"
             ],
             [
              0.6666666666666666,
              "#ed7953"
             ],
             [
              0.7777777777777778,
              "#fb9f3a"
             ],
             [
              0.8888888888888888,
              "#fdca26"
             ],
             [
              1,
              "#f0f921"
             ]
            ],
            "type": "heatmapgl"
           }
          ],
          "histogram": [
           {
            "marker": {
             "pattern": {
              "fillmode": "overlay",
              "size": 10,
              "solidity": 0.2
             }
            },
            "type": "histogram"
           }
          ],
          "histogram2d": [
           {
            "colorbar": {
             "outlinewidth": 0,
             "ticks": ""
            },
            "colorscale": [
             [
              0,
              "#0d0887"
             ],
             [
              0.1111111111111111,
              "#46039f"
             ],
             [
              0.2222222222222222,
              "#7201a8"
             ],
             [
              0.3333333333333333,
              "#9c179e"
             ],
             [
              0.4444444444444444,
              "#bd3786"
             ],
             [
              0.5555555555555556,
              "#d8576b"
             ],
             [
              0.6666666666666666,
              "#ed7953"
             ],
             [
              0.7777777777777778,
              "#fb9f3a"
             ],
             [
              0.8888888888888888,
              "#fdca26"
             ],
             [
              1,
              "#f0f921"
             ]
            ],
            "type": "histogram2d"
           }
          ],
          "histogram2dcontour": [
           {
            "colorbar": {
             "outlinewidth": 0,
             "ticks": ""
            },
            "colorscale": [
             [
              0,
              "#0d0887"
             ],
             [
              0.1111111111111111,
              "#46039f"
             ],
             [
              0.2222222222222222,
              "#7201a8"
             ],
             [
              0.3333333333333333,
              "#9c179e"
             ],
             [
              0.4444444444444444,
              "#bd3786"
             ],
             [
              0.5555555555555556,
              "#d8576b"
             ],
             [
              0.6666666666666666,
              "#ed7953"
             ],
             [
              0.7777777777777778,
              "#fb9f3a"
             ],
             [
              0.8888888888888888,
              "#fdca26"
             ],
             [
              1,
              "#f0f921"
             ]
            ],
            "type": "histogram2dcontour"
           }
          ],
          "mesh3d": [
           {
            "colorbar": {
             "outlinewidth": 0,
             "ticks": ""
            },
            "type": "mesh3d"
           }
          ],
          "parcoords": [
           {
            "line": {
             "colorbar": {
              "outlinewidth": 0,
              "ticks": ""
             }
            },
            "type": "parcoords"
           }
          ],
          "pie": [
           {
            "automargin": true,
            "type": "pie"
           }
          ],
          "scatter": [
           {
            "fillpattern": {
             "fillmode": "overlay",
             "size": 10,
             "solidity": 0.2
            },
            "type": "scatter"
           }
          ],
          "scatter3d": [
           {
            "line": {
             "colorbar": {
              "outlinewidth": 0,
              "ticks": ""
             }
            },
            "marker": {
             "colorbar": {
              "outlinewidth": 0,
              "ticks": ""
             }
            },
            "type": "scatter3d"
           }
          ],
          "scattercarpet": [
           {
            "marker": {
             "colorbar": {
              "outlinewidth": 0,
              "ticks": ""
             }
            },
            "type": "scattercarpet"
           }
          ],
          "scattergeo": [
           {
            "marker": {
             "colorbar": {
              "outlinewidth": 0,
              "ticks": ""
             }
            },
            "type": "scattergeo"
           }
          ],
          "scattergl": [
           {
            "marker": {
             "colorbar": {
              "outlinewidth": 0,
              "ticks": ""
             }
            },
            "type": "scattergl"
           }
          ],
          "scattermapbox": [
           {
            "marker": {
             "colorbar": {
              "outlinewidth": 0,
              "ticks": ""
             }
            },
            "type": "scattermapbox"
           }
          ],
          "scatterpolar": [
           {
            "marker": {
             "colorbar": {
              "outlinewidth": 0,
              "ticks": ""
             }
            },
            "type": "scatterpolar"
           }
          ],
          "scatterpolargl": [
           {
            "marker": {
             "colorbar": {
              "outlinewidth": 0,
              "ticks": ""
             }
            },
            "type": "scatterpolargl"
           }
          ],
          "scatterternary": [
           {
            "marker": {
             "colorbar": {
              "outlinewidth": 0,
              "ticks": ""
             }
            },
            "type": "scatterternary"
           }
          ],
          "surface": [
           {
            "colorbar": {
             "outlinewidth": 0,
             "ticks": ""
            },
            "colorscale": [
             [
              0,
              "#0d0887"
             ],
             [
              0.1111111111111111,
              "#46039f"
             ],
             [
              0.2222222222222222,
              "#7201a8"
             ],
             [
              0.3333333333333333,
              "#9c179e"
             ],
             [
              0.4444444444444444,
              "#bd3786"
             ],
             [
              0.5555555555555556,
              "#d8576b"
             ],
             [
              0.6666666666666666,
              "#ed7953"
             ],
             [
              0.7777777777777778,
              "#fb9f3a"
             ],
             [
              0.8888888888888888,
              "#fdca26"
             ],
             [
              1,
              "#f0f921"
             ]
            ],
            "type": "surface"
           }
          ],
          "table": [
           {
            "cells": {
             "fill": {
              "color": "#EBF0F8"
             },
             "line": {
              "color": "white"
             }
            },
            "header": {
             "fill": {
              "color": "#C8D4E3"
             },
             "line": {
              "color": "white"
             }
            },
            "type": "table"
           }
          ]
         },
         "layout": {
          "annotationdefaults": {
           "arrowcolor": "#2a3f5f",
           "arrowhead": 0,
           "arrowwidth": 1
          },
          "autotypenumbers": "strict",
          "coloraxis": {
           "colorbar": {
            "outlinewidth": 0,
            "ticks": ""
           }
          },
          "colorscale": {
           "diverging": [
            [
             0,
             "#8e0152"
            ],
            [
             0.1,
             "#c51b7d"
            ],
            [
             0.2,
             "#de77ae"
            ],
            [
             0.3,
             "#f1b6da"
            ],
            [
             0.4,
             "#fde0ef"
            ],
            [
             0.5,
             "#f7f7f7"
            ],
            [
             0.6,
             "#e6f5d0"
            ],
            [
             0.7,
             "#b8e186"
            ],
            [
             0.8,
             "#7fbc41"
            ],
            [
             0.9,
             "#4d9221"
            ],
            [
             1,
             "#276419"
            ]
           ],
           "sequential": [
            [
             0,
             "#0d0887"
            ],
            [
             0.1111111111111111,
             "#46039f"
            ],
            [
             0.2222222222222222,
             "#7201a8"
            ],
            [
             0.3333333333333333,
             "#9c179e"
            ],
            [
             0.4444444444444444,
             "#bd3786"
            ],
            [
             0.5555555555555556,
             "#d8576b"
            ],
            [
             0.6666666666666666,
             "#ed7953"
            ],
            [
             0.7777777777777778,
             "#fb9f3a"
            ],
            [
             0.8888888888888888,
             "#fdca26"
            ],
            [
             1,
             "#f0f921"
            ]
           ],
           "sequentialminus": [
            [
             0,
             "#0d0887"
            ],
            [
             0.1111111111111111,
             "#46039f"
            ],
            [
             0.2222222222222222,
             "#7201a8"
            ],
            [
             0.3333333333333333,
             "#9c179e"
            ],
            [
             0.4444444444444444,
             "#bd3786"
            ],
            [
             0.5555555555555556,
             "#d8576b"
            ],
            [
             0.6666666666666666,
             "#ed7953"
            ],
            [
             0.7777777777777778,
             "#fb9f3a"
            ],
            [
             0.8888888888888888,
             "#fdca26"
            ],
            [
             1,
             "#f0f921"
            ]
           ]
          },
          "colorway": [
           "#636efa",
           "#EF553B",
           "#00cc96",
           "#ab63fa",
           "#FFA15A",
           "#19d3f3",
           "#FF6692",
           "#B6E880",
           "#FF97FF",
           "#FECB52"
          ],
          "font": {
           "color": "#2a3f5f"
          },
          "geo": {
           "bgcolor": "white",
           "lakecolor": "white",
           "landcolor": "#E5ECF6",
           "showlakes": true,
           "showland": true,
           "subunitcolor": "white"
          },
          "hoverlabel": {
           "align": "left"
          },
          "hovermode": "closest",
          "mapbox": {
           "style": "light"
          },
          "paper_bgcolor": "white",
          "plot_bgcolor": "#E5ECF6",
          "polar": {
           "angularaxis": {
            "gridcolor": "white",
            "linecolor": "white",
            "ticks": ""
           },
           "bgcolor": "#E5ECF6",
           "radialaxis": {
            "gridcolor": "white",
            "linecolor": "white",
            "ticks": ""
           }
          },
          "scene": {
           "xaxis": {
            "backgroundcolor": "#E5ECF6",
            "gridcolor": "white",
            "gridwidth": 2,
            "linecolor": "white",
            "showbackground": true,
            "ticks": "",
            "zerolinecolor": "white"
           },
           "yaxis": {
            "backgroundcolor": "#E5ECF6",
            "gridcolor": "white",
            "gridwidth": 2,
            "linecolor": "white",
            "showbackground": true,
            "ticks": "",
            "zerolinecolor": "white"
           },
           "zaxis": {
            "backgroundcolor": "#E5ECF6",
            "gridcolor": "white",
            "gridwidth": 2,
            "linecolor": "white",
            "showbackground": true,
            "ticks": "",
            "zerolinecolor": "white"
           }
          },
          "shapedefaults": {
           "line": {
            "color": "#2a3f5f"
           }
          },
          "ternary": {
           "aaxis": {
            "gridcolor": "white",
            "linecolor": "white",
            "ticks": ""
           },
           "baxis": {
            "gridcolor": "white",
            "linecolor": "white",
            "ticks": ""
           },
           "bgcolor": "#E5ECF6",
           "caxis": {
            "gridcolor": "white",
            "linecolor": "white",
            "ticks": ""
           }
          },
          "title": {
           "x": 0.05
          },
          "xaxis": {
           "automargin": true,
           "gridcolor": "white",
           "linecolor": "white",
           "ticks": "",
           "title": {
            "standoff": 15
           },
           "zerolinecolor": "white",
           "zerolinewidth": 2
          },
          "yaxis": {
           "automargin": true,
           "gridcolor": "white",
           "linecolor": "white",
           "ticks": "",
           "title": {
            "standoff": 15
           },
           "zerolinecolor": "white",
           "zerolinewidth": 2
          }
         }
        },
        "title": {
         "font": {
          "size": 24
         },
         "text": "Value Counts and Proportions",
         "x": 0.5,
         "y": 0.92
        },
        "width": 1200,
        "xaxis": {
         "anchor": "y",
         "domain": [
          0,
          0.45
         ],
         "title": {
          "text": "Proportion"
         }
        },
        "xaxis2": {
         "anchor": "y2",
         "domain": [
          0.55,
          1
         ]
        },
        "yaxis": {
         "anchor": "x",
         "domain": [
          0,
          1
         ],
         "title": {
          "text": "Value Counts"
         }
        },
        "yaxis2": {
         "anchor": "x2",
         "domain": [
          0,
          1
         ]
        }
       }
      }
     },
     "metadata": {},
     "output_type": "display_data"
    }
   ],
   "source": [
    "def plot_bar_and_proportion(df, columns=None, classification=None, label=1, barmode='stack'):\n",
    "    \"\"\"\n",
    "    Plot side-by-side bar chart and proportion chart for each column in the given dataframe.\n",
    "\n",
    "    Args:\n",
    "    - df: DataFrame object.\n",
    "    - columns (optional): List of columns to include. Defaults to all columns if not specified.\n",
    "    - classification (optional): The name of the binary classification column. If specified, the chart will show observations\n",
    "      with `label` value of classification column in red. Default is None.\n",
    "    - label (optional): The label value of classification column. Default is 1.\n",
    "    - barmode (optional): The mode of the bar chart. Defaults to 'stack'.\n",
    "\n",
    "    Returns:\n",
    "    - None. The function generates a plot using Plotly.\n",
    "\n",
    "    \"\"\"\n",
    "    if columns is None:\n",
    "        columns = df.columns.tolist()\n",
    "\n",
    "    # Divide the chart into two columns.\n",
    "    fig = make_subplots(rows=round((len(columns) + 0.5) / 2), cols=2)\n",
    "\n",
    "    # Generate bar chart on the left side and proportion chart on the right side for each column.\n",
    "    for i, feature in enumerate(columns):\n",
    "        # Generate bar chart\n",
    "        trace1 = go.Bar(x=df[feature].value_counts().index.tolist(),\n",
    "                        y=df[feature].value_counts().values.tolist(),\n",
    "                        marker_color='blue', opacity=0.5)\n",
    "\n",
    "        # Generate proportion chart\n",
    "        if classification:\n",
    "            zero = df[df[classification] != label]\n",
    "            one = df[df[classification] == label]\n",
    "            zero_prop = zero[feature].value_counts(normalize=True)\n",
    "            one_prop = one[feature].value_counts(normalize=True)\n",
    "            zero_label = f'{classification}={zero[classification].unique()[0]}'\n",
    "            one_label = f'{classification}={one[classification].unique()[0]}'\n",
    "            trace2 = go.Bar(x=zero_prop.values.tolist(),\n",
    "                            y=zero_prop.index.tolist(),\n",
    "                            name=zero_label, orientation='h',\n",
    "                            marker_color='blue', opacity=0.5)\n",
    "            trace3 = go.Bar(x=one_prop.values.tolist(),\n",
    "                            y=one_prop.index.tolist(),\n",
    "                            name=one_label, orientation='h',\n",
    "                            marker_color='red', opacity=0.5)\n",
    "\n",
    "            # Add bar chart and proportion chart to the same subplot.\n",
    "            fig.add_trace(trace1, row=i // 2 + 1, col=i % 2 + 1)\n",
    "            fig.add_trace(trace2, row=i // 2 + 1, col=i % 2 + 1)\n",
    "            fig.add_trace(trace3, row=i // 2 + 1, col=i % 2 + 1)\n",
    "            fig.update_yaxes(title_text='', row=i // 2 + 1, col=i % 2 + 1, secondary_y=True)\n",
    "        else:\n",
    "            fig.add_trace(trace1, row=i // 2 + 1, col=i % 2 + 1)\n",
    "\n",
    "    # Set chart layout\n",
    "    fig.update_layout(title='Value Counts and Proportions',\n",
    "                      barmode=barmode,\n",
    "                      showlegend=True,\n",
    "                      title_x=0.5,\n",
    "                      title_y=0.92,\n",
    "                      width=1200,\n",
    "                      height=500 * round((len(columns) + 0.5) / 2),\n",
    "                      legend=dict(x=1.1, y=1.0),\n",
    "                      title_font=dict(size=24),\n",
    "                      yaxis=dict(title='Value Counts'),\n",
    "                      xaxis=dict(title='Proportion'))\n",
    "\n",
    "    fig.show()\n",
    "\n",
    "plot_bar_and_proportion(df, columns= ['H: summarization task'], classification='M: top summary', label=\"1\")\n"
   ]
  },
  {
   "cell_type": "code",
   "execution_count": 66,
   "metadata": {},
   "outputs": [
    {
     "data": {
      "text/plain": [
       "Index(['H: summarization task', 'I: full summarization task',\n",
       "       'P: simplify task', 'Q: full simplify task', 'V: add relevance task',\n",
       "       'W: full add relevance task: athletes', 'AB: add relevance task',\n",
       "       'AC: full add relevance task: older adults'],\n",
       "      dtype='object')"
      ]
     },
     "execution_count": 66,
     "metadata": {},
     "output_type": "execute_result"
    }
   ],
   "source": [
    "df.columns[df.columns.str.contains('task')]"
   ]
  },
  {
   "cell_type": "code",
   "execution_count": 69,
   "metadata": {},
   "outputs": [
    {
     "data": {
      "text/plain": [
       "Use language appropriate for    75\n",
       "                                54\n",
       "Name: P: simplify task, dtype: int64"
      ]
     },
     "execution_count": 69,
     "metadata": {},
     "output_type": "execute_result"
    }
   ],
   "source": [
    "df['P: simplify task'].value_counts()"
   ]
  },
  {
   "cell_type": "code",
   "execution_count": 70,
   "metadata": {},
   "outputs": [
    {
     "data": {
      "application/vnd.plotly.v1+json": {
       "config": {
        "plotlyServerURL": "https://plot.ly"
       },
       "data": [
        {
         "marker": {
          "color": "blue"
         },
         "opacity": 0.5,
         "orientation": "h",
         "type": "bar",
         "x": [
          86.56716417910447,
          92.98245614035088,
          100
         ],
         "xaxis": "x",
         "y": [
          "Describe the interesting points to your coworker at the water cooler",
          "Summarize for a LinkedIn post",
          "Summarize in an engaging way"
         ],
         "yaxis": "y"
        },
        {
         "marker": {
          "color": "red"
         },
         "opacity": 0.5,
         "orientation": "h",
         "type": "bar",
         "x": [
          13.432835820895523,
          7.017543859649122,
          null
         ],
         "xaxis": "x",
         "y": [
          "Describe the interesting points to your coworker at the water cooler",
          "Summarize for a LinkedIn post",
          "Summarize in an engaging way"
         ],
         "yaxis": "y"
        },
        {
         "marker": {
          "color": "blue"
         },
         "opacity": 0.5,
         "orientation": "h",
         "type": "bar",
         "x": [
          87.03703703703704,
          92
         ],
         "xaxis": "x2",
         "y": [
          0,
          "Use language appropriate for"
         ],
         "yaxis": "y2"
        },
        {
         "marker": {
          "color": "red"
         },
         "opacity": 0.5,
         "orientation": "h",
         "type": "bar",
         "x": [
          12.962962962962962,
          8
         ],
         "xaxis": "x2",
         "y": [
          0,
          "Use language appropriate for"
         ],
         "yaxis": "y2"
        },
        {
         "marker": {
          "color": "blue"
         },
         "opacity": 0.5,
         "orientation": "h",
         "type": "bar",
         "x": [
          90.42553191489363,
          88.57142857142857
         ],
         "xaxis": "x3",
         "y": [
          "Add 1-2 sentences to make this relevant for",
          "Write this so it is relevant for"
         ],
         "yaxis": "y3"
        },
        {
         "marker": {
          "color": "red"
         },
         "opacity": 0.5,
         "orientation": "h",
         "type": "bar",
         "x": [
          9.574468085106384,
          11.428571428571429
         ],
         "xaxis": "x3",
         "y": [
          "Add 1-2 sentences to make this relevant for",
          "Write this so it is relevant for"
         ],
         "yaxis": "y3"
        }
       ],
       "layout": {
        "annotations": [
         {
          "font": {
           "size": 16
          },
          "showarrow": false,
          "text": "H: summarization task",
          "x": 0.225,
          "xanchor": "center",
          "xref": "paper",
          "y": 1,
          "yanchor": "bottom",
          "yref": "paper"
         },
         {
          "font": {
           "size": 16
          },
          "showarrow": false,
          "text": "P: simplify task",
          "x": 0.775,
          "xanchor": "center",
          "xref": "paper",
          "y": 1,
          "yanchor": "bottom",
          "yref": "paper"
         },
         {
          "font": {
           "size": 16
          },
          "showarrow": false,
          "text": "V: add relevance task",
          "x": 0.225,
          "xanchor": "center",
          "xref": "paper",
          "y": 0.375,
          "yanchor": "bottom",
          "yref": "paper"
         }
        ],
        "bargap": 0.1,
        "barmode": "stack",
        "height": 1000,
        "showlegend": false,
        "template": {
         "data": {
          "bar": [
           {
            "error_x": {
             "color": "#2a3f5f"
            },
            "error_y": {
             "color": "#2a3f5f"
            },
            "marker": {
             "line": {
              "color": "#E5ECF6",
              "width": 0.5
             },
             "pattern": {
              "fillmode": "overlay",
              "size": 10,
              "solidity": 0.2
             }
            },
            "type": "bar"
           }
          ],
          "barpolar": [
           {
            "marker": {
             "line": {
              "color": "#E5ECF6",
              "width": 0.5
             },
             "pattern": {
              "fillmode": "overlay",
              "size": 10,
              "solidity": 0.2
             }
            },
            "type": "barpolar"
           }
          ],
          "carpet": [
           {
            "aaxis": {
             "endlinecolor": "#2a3f5f",
             "gridcolor": "white",
             "linecolor": "white",
             "minorgridcolor": "white",
             "startlinecolor": "#2a3f5f"
            },
            "baxis": {
             "endlinecolor": "#2a3f5f",
             "gridcolor": "white",
             "linecolor": "white",
             "minorgridcolor": "white",
             "startlinecolor": "#2a3f5f"
            },
            "type": "carpet"
           }
          ],
          "choropleth": [
           {
            "colorbar": {
             "outlinewidth": 0,
             "ticks": ""
            },
            "type": "choropleth"
           }
          ],
          "contour": [
           {
            "colorbar": {
             "outlinewidth": 0,
             "ticks": ""
            },
            "colorscale": [
             [
              0,
              "#0d0887"
             ],
             [
              0.1111111111111111,
              "#46039f"
             ],
             [
              0.2222222222222222,
              "#7201a8"
             ],
             [
              0.3333333333333333,
              "#9c179e"
             ],
             [
              0.4444444444444444,
              "#bd3786"
             ],
             [
              0.5555555555555556,
              "#d8576b"
             ],
             [
              0.6666666666666666,
              "#ed7953"
             ],
             [
              0.7777777777777778,
              "#fb9f3a"
             ],
             [
              0.8888888888888888,
              "#fdca26"
             ],
             [
              1,
              "#f0f921"
             ]
            ],
            "type": "contour"
           }
          ],
          "contourcarpet": [
           {
            "colorbar": {
             "outlinewidth": 0,
             "ticks": ""
            },
            "type": "contourcarpet"
           }
          ],
          "heatmap": [
           {
            "colorbar": {
             "outlinewidth": 0,
             "ticks": ""
            },
            "colorscale": [
             [
              0,
              "#0d0887"
             ],
             [
              0.1111111111111111,
              "#46039f"
             ],
             [
              0.2222222222222222,
              "#7201a8"
             ],
             [
              0.3333333333333333,
              "#9c179e"
             ],
             [
              0.4444444444444444,
              "#bd3786"
             ],
             [
              0.5555555555555556,
              "#d8576b"
             ],
             [
              0.6666666666666666,
              "#ed7953"
             ],
             [
              0.7777777777777778,
              "#fb9f3a"
             ],
             [
              0.8888888888888888,
              "#fdca26"
             ],
             [
              1,
              "#f0f921"
             ]
            ],
            "type": "heatmap"
           }
          ],
          "heatmapgl": [
           {
            "colorbar": {
             "outlinewidth": 0,
             "ticks": ""
            },
            "colorscale": [
             [
              0,
              "#0d0887"
             ],
             [
              0.1111111111111111,
              "#46039f"
             ],
             [
              0.2222222222222222,
              "#7201a8"
             ],
             [
              0.3333333333333333,
              "#9c179e"
             ],
             [
              0.4444444444444444,
              "#bd3786"
             ],
             [
              0.5555555555555556,
              "#d8576b"
             ],
             [
              0.6666666666666666,
              "#ed7953"
             ],
             [
              0.7777777777777778,
              "#fb9f3a"
             ],
             [
              0.8888888888888888,
              "#fdca26"
             ],
             [
              1,
              "#f0f921"
             ]
            ],
            "type": "heatmapgl"
           }
          ],
          "histogram": [
           {
            "marker": {
             "pattern": {
              "fillmode": "overlay",
              "size": 10,
              "solidity": 0.2
             }
            },
            "type": "histogram"
           }
          ],
          "histogram2d": [
           {
            "colorbar": {
             "outlinewidth": 0,
             "ticks": ""
            },
            "colorscale": [
             [
              0,
              "#0d0887"
             ],
             [
              0.1111111111111111,
              "#46039f"
             ],
             [
              0.2222222222222222,
              "#7201a8"
             ],
             [
              0.3333333333333333,
              "#9c179e"
             ],
             [
              0.4444444444444444,
              "#bd3786"
             ],
             [
              0.5555555555555556,
              "#d8576b"
             ],
             [
              0.6666666666666666,
              "#ed7953"
             ],
             [
              0.7777777777777778,
              "#fb9f3a"
             ],
             [
              0.8888888888888888,
              "#fdca26"
             ],
             [
              1,
              "#f0f921"
             ]
            ],
            "type": "histogram2d"
           }
          ],
          "histogram2dcontour": [
           {
            "colorbar": {
             "outlinewidth": 0,
             "ticks": ""
            },
            "colorscale": [
             [
              0,
              "#0d0887"
             ],
             [
              0.1111111111111111,
              "#46039f"
             ],
             [
              0.2222222222222222,
              "#7201a8"
             ],
             [
              0.3333333333333333,
              "#9c179e"
             ],
             [
              0.4444444444444444,
              "#bd3786"
             ],
             [
              0.5555555555555556,
              "#d8576b"
             ],
             [
              0.6666666666666666,
              "#ed7953"
             ],
             [
              0.7777777777777778,
              "#fb9f3a"
             ],
             [
              0.8888888888888888,
              "#fdca26"
             ],
             [
              1,
              "#f0f921"
             ]
            ],
            "type": "histogram2dcontour"
           }
          ],
          "mesh3d": [
           {
            "colorbar": {
             "outlinewidth": 0,
             "ticks": ""
            },
            "type": "mesh3d"
           }
          ],
          "parcoords": [
           {
            "line": {
             "colorbar": {
              "outlinewidth": 0,
              "ticks": ""
             }
            },
            "type": "parcoords"
           }
          ],
          "pie": [
           {
            "automargin": true,
            "type": "pie"
           }
          ],
          "scatter": [
           {
            "fillpattern": {
             "fillmode": "overlay",
             "size": 10,
             "solidity": 0.2
            },
            "type": "scatter"
           }
          ],
          "scatter3d": [
           {
            "line": {
             "colorbar": {
              "outlinewidth": 0,
              "ticks": ""
             }
            },
            "marker": {
             "colorbar": {
              "outlinewidth": 0,
              "ticks": ""
             }
            },
            "type": "scatter3d"
           }
          ],
          "scattercarpet": [
           {
            "marker": {
             "colorbar": {
              "outlinewidth": 0,
              "ticks": ""
             }
            },
            "type": "scattercarpet"
           }
          ],
          "scattergeo": [
           {
            "marker": {
             "colorbar": {
              "outlinewidth": 0,
              "ticks": ""
             }
            },
            "type": "scattergeo"
           }
          ],
          "scattergl": [
           {
            "marker": {
             "colorbar": {
              "outlinewidth": 0,
              "ticks": ""
             }
            },
            "type": "scattergl"
           }
          ],
          "scattermapbox": [
           {
            "marker": {
             "colorbar": {
              "outlinewidth": 0,
              "ticks": ""
             }
            },
            "type": "scattermapbox"
           }
          ],
          "scatterpolar": [
           {
            "marker": {
             "colorbar": {
              "outlinewidth": 0,
              "ticks": ""
             }
            },
            "type": "scatterpolar"
           }
          ],
          "scatterpolargl": [
           {
            "marker": {
             "colorbar": {
              "outlinewidth": 0,
              "ticks": ""
             }
            },
            "type": "scatterpolargl"
           }
          ],
          "scatterternary": [
           {
            "marker": {
             "colorbar": {
              "outlinewidth": 0,
              "ticks": ""
             }
            },
            "type": "scatterternary"
           }
          ],
          "surface": [
           {
            "colorbar": {
             "outlinewidth": 0,
             "ticks": ""
            },
            "colorscale": [
             [
              0,
              "#0d0887"
             ],
             [
              0.1111111111111111,
              "#46039f"
             ],
             [
              0.2222222222222222,
              "#7201a8"
             ],
             [
              0.3333333333333333,
              "#9c179e"
             ],
             [
              0.4444444444444444,
              "#bd3786"
             ],
             [
              0.5555555555555556,
              "#d8576b"
             ],
             [
              0.6666666666666666,
              "#ed7953"
             ],
             [
              0.7777777777777778,
              "#fb9f3a"
             ],
             [
              0.8888888888888888,
              "#fdca26"
             ],
             [
              1,
              "#f0f921"
             ]
            ],
            "type": "surface"
           }
          ],
          "table": [
           {
            "cells": {
             "fill": {
              "color": "#EBF0F8"
             },
             "line": {
              "color": "white"
             }
            },
            "header": {
             "fill": {
              "color": "#C8D4E3"
             },
             "line": {
              "color": "white"
             }
            },
            "type": "table"
           }
          ]
         },
         "layout": {
          "annotationdefaults": {
           "arrowcolor": "#2a3f5f",
           "arrowhead": 0,
           "arrowwidth": 1
          },
          "autotypenumbers": "strict",
          "coloraxis": {
           "colorbar": {
            "outlinewidth": 0,
            "ticks": ""
           }
          },
          "colorscale": {
           "diverging": [
            [
             0,
             "#8e0152"
            ],
            [
             0.1,
             "#c51b7d"
            ],
            [
             0.2,
             "#de77ae"
            ],
            [
             0.3,
             "#f1b6da"
            ],
            [
             0.4,
             "#fde0ef"
            ],
            [
             0.5,
             "#f7f7f7"
            ],
            [
             0.6,
             "#e6f5d0"
            ],
            [
             0.7,
             "#b8e186"
            ],
            [
             0.8,
             "#7fbc41"
            ],
            [
             0.9,
             "#4d9221"
            ],
            [
             1,
             "#276419"
            ]
           ],
           "sequential": [
            [
             0,
             "#0d0887"
            ],
            [
             0.1111111111111111,
             "#46039f"
            ],
            [
             0.2222222222222222,
             "#7201a8"
            ],
            [
             0.3333333333333333,
             "#9c179e"
            ],
            [
             0.4444444444444444,
             "#bd3786"
            ],
            [
             0.5555555555555556,
             "#d8576b"
            ],
            [
             0.6666666666666666,
             "#ed7953"
            ],
            [
             0.7777777777777778,
             "#fb9f3a"
            ],
            [
             0.8888888888888888,
             "#fdca26"
            ],
            [
             1,
             "#f0f921"
            ]
           ],
           "sequentialminus": [
            [
             0,
             "#0d0887"
            ],
            [
             0.1111111111111111,
             "#46039f"
            ],
            [
             0.2222222222222222,
             "#7201a8"
            ],
            [
             0.3333333333333333,
             "#9c179e"
            ],
            [
             0.4444444444444444,
             "#bd3786"
            ],
            [
             0.5555555555555556,
             "#d8576b"
            ],
            [
             0.6666666666666666,
             "#ed7953"
            ],
            [
             0.7777777777777778,
             "#fb9f3a"
            ],
            [
             0.8888888888888888,
             "#fdca26"
            ],
            [
             1,
             "#f0f921"
            ]
           ]
          },
          "colorway": [
           "#636efa",
           "#EF553B",
           "#00cc96",
           "#ab63fa",
           "#FFA15A",
           "#19d3f3",
           "#FF6692",
           "#B6E880",
           "#FF97FF",
           "#FECB52"
          ],
          "font": {
           "color": "#2a3f5f"
          },
          "geo": {
           "bgcolor": "white",
           "lakecolor": "white",
           "landcolor": "#E5ECF6",
           "showlakes": true,
           "showland": true,
           "subunitcolor": "white"
          },
          "hoverlabel": {
           "align": "left"
          },
          "hovermode": "closest",
          "mapbox": {
           "style": "light"
          },
          "paper_bgcolor": "white",
          "plot_bgcolor": "#E5ECF6",
          "polar": {
           "angularaxis": {
            "gridcolor": "white",
            "linecolor": "white",
            "ticks": ""
           },
           "bgcolor": "#E5ECF6",
           "radialaxis": {
            "gridcolor": "white",
            "linecolor": "white",
            "ticks": ""
           }
          },
          "scene": {
           "xaxis": {
            "backgroundcolor": "#E5ECF6",
            "gridcolor": "white",
            "gridwidth": 2,
            "linecolor": "white",
            "showbackground": true,
            "ticks": "",
            "zerolinecolor": "white"
           },
           "yaxis": {
            "backgroundcolor": "#E5ECF6",
            "gridcolor": "white",
            "gridwidth": 2,
            "linecolor": "white",
            "showbackground": true,
            "ticks": "",
            "zerolinecolor": "white"
           },
           "zaxis": {
            "backgroundcolor": "#E5ECF6",
            "gridcolor": "white",
            "gridwidth": 2,
            "linecolor": "white",
            "showbackground": true,
            "ticks": "",
            "zerolinecolor": "white"
           }
          },
          "shapedefaults": {
           "line": {
            "color": "#2a3f5f"
           }
          },
          "ternary": {
           "aaxis": {
            "gridcolor": "white",
            "linecolor": "white",
            "ticks": ""
           },
           "baxis": {
            "gridcolor": "white",
            "linecolor": "white",
            "ticks": ""
           },
           "bgcolor": "#E5ECF6",
           "caxis": {
            "gridcolor": "white",
            "linecolor": "white",
            "ticks": ""
           }
          },
          "title": {
           "x": 0.05
          },
          "xaxis": {
           "automargin": true,
           "gridcolor": "white",
           "linecolor": "white",
           "ticks": "",
           "title": {
            "standoff": 15
           },
           "zerolinecolor": "white",
           "zerolinewidth": 2
          },
          "yaxis": {
           "automargin": true,
           "gridcolor": "white",
           "linecolor": "white",
           "ticks": "",
           "title": {
            "standoff": 15
           },
           "zerolinecolor": "white",
           "zerolinewidth": 2
          }
         }
        },
        "title": {
         "text": "Percentage with M: top summary of value 1 by category (indicated in red).",
         "x": 0.5,
         "xanchor": "center",
         "yanchor": "bottom"
        },
        "width": 1200,
        "xaxis": {
         "anchor": "y",
         "domain": [
          0,
          0.45
         ],
         "title": {
          "text": "% of Total"
         }
        },
        "xaxis2": {
         "anchor": "y2",
         "domain": [
          0.55,
          1
         ]
        },
        "xaxis3": {
         "anchor": "y3",
         "domain": [
          0,
          0.45
         ]
        },
        "xaxis4": {
         "anchor": "y4",
         "domain": [
          0.55,
          1
         ]
        },
        "yaxis": {
         "anchor": "x",
         "domain": [
          0.625,
          1
         ],
         "title": {
          "text": ""
         }
        },
        "yaxis2": {
         "anchor": "x2",
         "domain": [
          0.625,
          1
         ]
        },
        "yaxis3": {
         "anchor": "x3",
         "domain": [
          0,
          0.375
         ]
        },
        "yaxis4": {
         "anchor": "x4",
         "domain": [
          0,
          0.375
         ]
        }
       }
      }
     },
     "metadata": {},
     "output_type": "display_data"
    },
    {
     "data": {
      "application/vnd.plotly.v1+json": {
       "config": {
        "plotlyServerURL": "https://plot.ly"
       },
       "data": [
        {
         "marker": {
          "color": "blue"
         },
         "opacity": 0.5,
         "orientation": "h",
         "type": "histogram",
         "xaxis": "x",
         "y": [
          "Summarize for a LinkedIn post",
          "Summarize for a LinkedIn post",
          "Summarize for a LinkedIn post",
          "Summarize for a LinkedIn post",
          "Describe the interesting points to your coworker at the water cooler",
          "Describe the interesting points to your coworker at the water cooler",
          "Describe the interesting points to your coworker at the water cooler",
          "Describe the interesting points to your coworker at the water cooler",
          "Describe the interesting points to your coworker at the water cooler",
          "Summarize for a LinkedIn post",
          "Summarize for a LinkedIn post",
          "Summarize for a LinkedIn post",
          "Summarize for a LinkedIn post",
          "Summarize for a LinkedIn post",
          "Describe the interesting points to your coworker at the water cooler",
          "Describe the interesting points to your coworker at the water cooler",
          "Describe the interesting points to your coworker at the water cooler",
          "Describe the interesting points to your coworker at the water cooler",
          "Summarize for a LinkedIn post",
          "Summarize for a LinkedIn post",
          "Summarize for a LinkedIn post",
          "Summarize for a LinkedIn post",
          "Summarize for a LinkedIn post",
          "Describe the interesting points to your coworker at the water cooler",
          "Describe the interesting points to your coworker at the water cooler",
          "Describe the interesting points to your coworker at the water cooler",
          "Describe the interesting points to your coworker at the water cooler",
          "Summarize for a LinkedIn post",
          "Summarize for a LinkedIn post",
          "Summarize for a LinkedIn post",
          "Summarize for a LinkedIn post",
          "Summarize for a LinkedIn post",
          "Summarize for a LinkedIn post",
          "Summarize for a LinkedIn post",
          "Describe the interesting points to your coworker at the water cooler",
          "Describe the interesting points to your coworker at the water cooler",
          "Describe the interesting points to your coworker at the water cooler",
          "Describe the interesting points to your coworker at the water cooler",
          "Summarize for a LinkedIn post",
          "Summarize for a LinkedIn post",
          "Summarize for a LinkedIn post",
          "Summarize for a LinkedIn post",
          "Summarize for a LinkedIn post",
          "Describe the interesting points to your coworker at the water cooler",
          "Describe the interesting points to your coworker at the water cooler",
          "Describe the interesting points to your coworker at the water cooler",
          "Describe the interesting points to your coworker at the water cooler",
          "Summarize for a LinkedIn post",
          "Summarize for a LinkedIn post",
          "Summarize for a LinkedIn post",
          "Summarize for a LinkedIn post",
          "Summarize for a LinkedIn post",
          "Summarize for a LinkedIn post",
          "Summarize for a LinkedIn post",
          "Summarize for a LinkedIn post",
          "Summarize for a LinkedIn post",
          "Describe the interesting points to your coworker at the water cooler",
          "Describe the interesting points to your coworker at the water cooler",
          "Describe the interesting points to your coworker at the water cooler",
          "Describe the interesting points to your coworker at the water cooler",
          "Describe the interesting points to your coworker at the water cooler",
          "Describe the interesting points to your coworker at the water cooler",
          "Describe the interesting points to your coworker at the water cooler",
          "Describe the interesting points to your coworker at the water cooler",
          "Describe the interesting points to your coworker at the water cooler",
          "Describe the interesting points to your coworker at the water cooler",
          "Summarize for a LinkedIn post",
          "Summarize for a LinkedIn post",
          "Summarize for a LinkedIn post",
          "Summarize for a LinkedIn post",
          "Summarize for a LinkedIn post",
          "Summarize for a LinkedIn post",
          "Summarize for a LinkedIn post",
          "Summarize for a LinkedIn post",
          "Summarize for a LinkedIn post",
          "Describe the interesting points to your coworker at the water cooler",
          "Describe the interesting points to your coworker at the water cooler",
          "Describe the interesting points to your coworker at the water cooler",
          "Describe the interesting points to your coworker at the water cooler",
          "Describe the interesting points to your coworker at the water cooler",
          "Describe the interesting points to your coworker at the water cooler",
          "Describe the interesting points to your coworker at the water cooler",
          "Describe the interesting points to your coworker at the water cooler",
          "Describe the interesting points to your coworker at the water cooler",
          "Describe the interesting points to your coworker at the water cooler",
          "Describe the interesting points to your coworker at the water cooler",
          "Describe the interesting points to your coworker at the water cooler",
          "Describe the interesting points to your coworker at the water cooler",
          "Describe the interesting points to your coworker at the water cooler",
          "Summarize for a LinkedIn post",
          "Summarize for a LinkedIn post",
          "Summarize for a LinkedIn post",
          "Summarize for a LinkedIn post",
          "Summarize for a LinkedIn post",
          "Summarize in an engaging way",
          "Summarize in an engaging way",
          "Summarize in an engaging way",
          "Summarize in an engaging way",
          "Summarize in an engaging way",
          "Describe the interesting points to your coworker at the water cooler",
          "Describe the interesting points to your coworker at the water cooler",
          "Describe the interesting points to your coworker at the water cooler",
          "Describe the interesting points to your coworker at the water cooler",
          "Summarize for a LinkedIn post",
          "Summarize for a LinkedIn post",
          "Summarize for a LinkedIn post",
          "Summarize for a LinkedIn post",
          "Describe the interesting points to your coworker at the water cooler",
          "Describe the interesting points to your coworker at the water cooler",
          "Describe the interesting points to your coworker at the water cooler",
          "Describe the interesting points to your coworker at the water cooler",
          "Describe the interesting points to your coworker at the water cooler",
          "Describe the interesting points to your coworker at the water cooler",
          "Describe the interesting points to your coworker at the water cooler",
          "Describe the interesting points to your coworker at the water cooler",
          "Describe the interesting points to your coworker at the water cooler"
         ],
         "yaxis": "y"
        },
        {
         "marker": {
          "color": "red"
         },
         "opacity": 0.5,
         "orientation": "h",
         "type": "histogram",
         "xaxis": "x",
         "y": [
          "Summarize for a LinkedIn post",
          "Describe the interesting points to your coworker at the water cooler",
          "Describe the interesting points to your coworker at the water cooler",
          "Describe the interesting points to your coworker at the water cooler",
          "Describe the interesting points to your coworker at the water cooler",
          "Describe the interesting points to your coworker at the water cooler",
          "Describe the interesting points to your coworker at the water cooler",
          "Summarize for a LinkedIn post",
          "Summarize for a LinkedIn post",
          "Describe the interesting points to your coworker at the water cooler",
          "Describe the interesting points to your coworker at the water cooler",
          "Summarize for a LinkedIn post",
          "Describe the interesting points to your coworker at the water cooler"
         ],
         "yaxis": "y"
        },
        {
         "marker": {
          "color": "blue"
         },
         "opacity": 0.5,
         "orientation": "h",
         "type": "histogram",
         "xaxis": "x2",
         "y": [
          "",
          "",
          "",
          "",
          "",
          "",
          "",
          "",
          "",
          "",
          "",
          "",
          "",
          "",
          "",
          "",
          "",
          "",
          "",
          "",
          "",
          "",
          "",
          "",
          "",
          "",
          "",
          "",
          "",
          "",
          "",
          "",
          "",
          "",
          "",
          "",
          "",
          "",
          "",
          "",
          "",
          "",
          "",
          "",
          "",
          "",
          "",
          "Use language appropriate for",
          "Use language appropriate for",
          "Use language appropriate for",
          "Use language appropriate for",
          "Use language appropriate for",
          "Use language appropriate for",
          "Use language appropriate for",
          "Use language appropriate for",
          "Use language appropriate for",
          "Use language appropriate for",
          "Use language appropriate for",
          "Use language appropriate for",
          "Use language appropriate for",
          "Use language appropriate for",
          "Use language appropriate for",
          "Use language appropriate for",
          "Use language appropriate for",
          "Use language appropriate for",
          "Use language appropriate for",
          "Use language appropriate for",
          "Use language appropriate for",
          "Use language appropriate for",
          "Use language appropriate for",
          "Use language appropriate for",
          "Use language appropriate for",
          "Use language appropriate for",
          "Use language appropriate for",
          "Use language appropriate for",
          "Use language appropriate for",
          "Use language appropriate for",
          "Use language appropriate for",
          "Use language appropriate for",
          "Use language appropriate for",
          "Use language appropriate for",
          "Use language appropriate for",
          "Use language appropriate for",
          "Use language appropriate for",
          "Use language appropriate for",
          "Use language appropriate for",
          "Use language appropriate for",
          "Use language appropriate for",
          "Use language appropriate for",
          "Use language appropriate for",
          "Use language appropriate for",
          "Use language appropriate for",
          "Use language appropriate for",
          "Use language appropriate for",
          "Use language appropriate for",
          "Use language appropriate for",
          "Use language appropriate for",
          "Use language appropriate for",
          "Use language appropriate for",
          "Use language appropriate for",
          "Use language appropriate for",
          "Use language appropriate for",
          "Use language appropriate for",
          "Use language appropriate for",
          "Use language appropriate for",
          "Use language appropriate for",
          "Use language appropriate for",
          "Use language appropriate for",
          "Use language appropriate for",
          "Use language appropriate for",
          "Use language appropriate for",
          "Use language appropriate for",
          "Use language appropriate for",
          "Use language appropriate for",
          "Use language appropriate for",
          "Use language appropriate for"
         ],
         "yaxis": "y2"
        },
        {
         "marker": {
          "color": "red"
         },
         "opacity": 0.5,
         "orientation": "h",
         "type": "histogram",
         "xaxis": "x2",
         "y": [
          "",
          "",
          "",
          "",
          "",
          "",
          "",
          "Use language appropriate for",
          "Use language appropriate for",
          "Use language appropriate for",
          "Use language appropriate for",
          "Use language appropriate for",
          "Use language appropriate for"
         ],
         "yaxis": "y2"
        },
        {
         "marker": {
          "color": "blue"
         },
         "opacity": 0.5,
         "orientation": "h",
         "type": "histogram",
         "xaxis": "x3",
         "y": [
          "Add 1-2 sentences to make this relevant for",
          "Add 1-2 sentences to make this relevant for",
          "Add 1-2 sentences to make this relevant for",
          "Add 1-2 sentences to make this relevant for",
          "Add 1-2 sentences to make this relevant for",
          "Add 1-2 sentences to make this relevant for",
          "Add 1-2 sentences to make this relevant for",
          "Add 1-2 sentences to make this relevant for",
          "Add 1-2 sentences to make this relevant for",
          "Add 1-2 sentences to make this relevant for",
          "Add 1-2 sentences to make this relevant for",
          "Add 1-2 sentences to make this relevant for",
          "Add 1-2 sentences to make this relevant for",
          "Add 1-2 sentences to make this relevant for",
          "Add 1-2 sentences to make this relevant for",
          "Add 1-2 sentences to make this relevant for",
          "Add 1-2 sentences to make this relevant for",
          "Add 1-2 sentences to make this relevant for",
          "Add 1-2 sentences to make this relevant for",
          "Add 1-2 sentences to make this relevant for",
          "Add 1-2 sentences to make this relevant for",
          "Add 1-2 sentences to make this relevant for",
          "Add 1-2 sentences to make this relevant for",
          "Add 1-2 sentences to make this relevant for",
          "Add 1-2 sentences to make this relevant for",
          "Add 1-2 sentences to make this relevant for",
          "Add 1-2 sentences to make this relevant for",
          "Add 1-2 sentences to make this relevant for",
          "Add 1-2 sentences to make this relevant for",
          "Add 1-2 sentences to make this relevant for",
          "Add 1-2 sentences to make this relevant for",
          "Add 1-2 sentences to make this relevant for",
          "Add 1-2 sentences to make this relevant for",
          "Add 1-2 sentences to make this relevant for",
          "Add 1-2 sentences to make this relevant for",
          "Add 1-2 sentences to make this relevant for",
          "Add 1-2 sentences to make this relevant for",
          "Add 1-2 sentences to make this relevant for",
          "Add 1-2 sentences to make this relevant for",
          "Add 1-2 sentences to make this relevant for",
          "Add 1-2 sentences to make this relevant for",
          "Add 1-2 sentences to make this relevant for",
          "Add 1-2 sentences to make this relevant for",
          "Add 1-2 sentences to make this relevant for",
          "Add 1-2 sentences to make this relevant for",
          "Add 1-2 sentences to make this relevant for",
          "Add 1-2 sentences to make this relevant for",
          "Add 1-2 sentences to make this relevant for",
          "Add 1-2 sentences to make this relevant for",
          "Add 1-2 sentences to make this relevant for",
          "Add 1-2 sentences to make this relevant for",
          "Add 1-2 sentences to make this relevant for",
          "Add 1-2 sentences to make this relevant for",
          "Add 1-2 sentences to make this relevant for",
          "Add 1-2 sentences to make this relevant for",
          "Add 1-2 sentences to make this relevant for",
          "Add 1-2 sentences to make this relevant for",
          "Add 1-2 sentences to make this relevant for",
          "Add 1-2 sentences to make this relevant for",
          "Add 1-2 sentences to make this relevant for",
          "Add 1-2 sentences to make this relevant for",
          "Add 1-2 sentences to make this relevant for",
          "Add 1-2 sentences to make this relevant for",
          "Add 1-2 sentences to make this relevant for",
          "Add 1-2 sentences to make this relevant for",
          "Add 1-2 sentences to make this relevant for",
          "Add 1-2 sentences to make this relevant for",
          "Add 1-2 sentences to make this relevant for",
          "Add 1-2 sentences to make this relevant for",
          "Add 1-2 sentences to make this relevant for",
          "Add 1-2 sentences to make this relevant for",
          "Add 1-2 sentences to make this relevant for",
          "Add 1-2 sentences to make this relevant for",
          "Add 1-2 sentences to make this relevant for",
          "Add 1-2 sentences to make this relevant for",
          "Add 1-2 sentences to make this relevant for",
          "Add 1-2 sentences to make this relevant for",
          "Add 1-2 sentences to make this relevant for",
          "Add 1-2 sentences to make this relevant for",
          "Add 1-2 sentences to make this relevant for",
          "Add 1-2 sentences to make this relevant for",
          "Add 1-2 sentences to make this relevant for",
          "Add 1-2 sentences to make this relevant for",
          "Add 1-2 sentences to make this relevant for",
          "Add 1-2 sentences to make this relevant for",
          "Write this so it is relevant for",
          "Write this so it is relevant for",
          "Write this so it is relevant for",
          "Write this so it is relevant for",
          "Write this so it is relevant for",
          "Write this so it is relevant for",
          "Write this so it is relevant for",
          "Write this so it is relevant for",
          "Write this so it is relevant for",
          "Write this so it is relevant for",
          "Write this so it is relevant for",
          "Write this so it is relevant for",
          "Write this so it is relevant for",
          "Write this so it is relevant for",
          "Write this so it is relevant for",
          "Write this so it is relevant for",
          "Write this so it is relevant for",
          "Write this so it is relevant for",
          "Write this so it is relevant for",
          "Write this so it is relevant for",
          "Write this so it is relevant for",
          "Write this so it is relevant for",
          "Write this so it is relevant for",
          "Write this so it is relevant for",
          "Write this so it is relevant for",
          "Write this so it is relevant for",
          "Write this so it is relevant for",
          "Write this so it is relevant for",
          "Write this so it is relevant for",
          "Write this so it is relevant for",
          "Write this so it is relevant for"
         ],
         "yaxis": "y3"
        },
        {
         "marker": {
          "color": "red"
         },
         "opacity": 0.5,
         "orientation": "h",
         "type": "histogram",
         "xaxis": "x3",
         "y": [
          "Add 1-2 sentences to make this relevant for",
          "Add 1-2 sentences to make this relevant for",
          "Add 1-2 sentences to make this relevant for",
          "Add 1-2 sentences to make this relevant for",
          "Add 1-2 sentences to make this relevant for",
          "Add 1-2 sentences to make this relevant for",
          "Add 1-2 sentences to make this relevant for",
          "Add 1-2 sentences to make this relevant for",
          "Add 1-2 sentences to make this relevant for",
          "Write this so it is relevant for",
          "Write this so it is relevant for",
          "Write this so it is relevant for",
          "Write this so it is relevant for"
         ],
         "yaxis": "y3"
        }
       ],
       "layout": {
        "annotations": [
         {
          "font": {
           "size": 16
          },
          "showarrow": false,
          "text": "H: summarization task",
          "x": 0.225,
          "xanchor": "center",
          "xref": "paper",
          "y": 1,
          "yanchor": "bottom",
          "yref": "paper"
         },
         {
          "font": {
           "size": 16
          },
          "showarrow": false,
          "text": "P: simplify task",
          "x": 0.775,
          "xanchor": "center",
          "xref": "paper",
          "y": 1,
          "yanchor": "bottom",
          "yref": "paper"
         },
         {
          "font": {
           "size": 16
          },
          "showarrow": false,
          "text": "V: add relevance task",
          "x": 0.225,
          "xanchor": "center",
          "xref": "paper",
          "y": 0.375,
          "yanchor": "bottom",
          "yref": "paper"
         }
        ],
        "bargap": 0.1,
        "barmode": "group",
        "showlegend": false,
        "template": {
         "data": {
          "bar": [
           {
            "error_x": {
             "color": "#2a3f5f"
            },
            "error_y": {
             "color": "#2a3f5f"
            },
            "marker": {
             "line": {
              "color": "#E5ECF6",
              "width": 0.5
             },
             "pattern": {
              "fillmode": "overlay",
              "size": 10,
              "solidity": 0.2
             }
            },
            "type": "bar"
           }
          ],
          "barpolar": [
           {
            "marker": {
             "line": {
              "color": "#E5ECF6",
              "width": 0.5
             },
             "pattern": {
              "fillmode": "overlay",
              "size": 10,
              "solidity": 0.2
             }
            },
            "type": "barpolar"
           }
          ],
          "carpet": [
           {
            "aaxis": {
             "endlinecolor": "#2a3f5f",
             "gridcolor": "white",
             "linecolor": "white",
             "minorgridcolor": "white",
             "startlinecolor": "#2a3f5f"
            },
            "baxis": {
             "endlinecolor": "#2a3f5f",
             "gridcolor": "white",
             "linecolor": "white",
             "minorgridcolor": "white",
             "startlinecolor": "#2a3f5f"
            },
            "type": "carpet"
           }
          ],
          "choropleth": [
           {
            "colorbar": {
             "outlinewidth": 0,
             "ticks": ""
            },
            "type": "choropleth"
           }
          ],
          "contour": [
           {
            "colorbar": {
             "outlinewidth": 0,
             "ticks": ""
            },
            "colorscale": [
             [
              0,
              "#0d0887"
             ],
             [
              0.1111111111111111,
              "#46039f"
             ],
             [
              0.2222222222222222,
              "#7201a8"
             ],
             [
              0.3333333333333333,
              "#9c179e"
             ],
             [
              0.4444444444444444,
              "#bd3786"
             ],
             [
              0.5555555555555556,
              "#d8576b"
             ],
             [
              0.6666666666666666,
              "#ed7953"
             ],
             [
              0.7777777777777778,
              "#fb9f3a"
             ],
             [
              0.8888888888888888,
              "#fdca26"
             ],
             [
              1,
              "#f0f921"
             ]
            ],
            "type": "contour"
           }
          ],
          "contourcarpet": [
           {
            "colorbar": {
             "outlinewidth": 0,
             "ticks": ""
            },
            "type": "contourcarpet"
           }
          ],
          "heatmap": [
           {
            "colorbar": {
             "outlinewidth": 0,
             "ticks": ""
            },
            "colorscale": [
             [
              0,
              "#0d0887"
             ],
             [
              0.1111111111111111,
              "#46039f"
             ],
             [
              0.2222222222222222,
              "#7201a8"
             ],
             [
              0.3333333333333333,
              "#9c179e"
             ],
             [
              0.4444444444444444,
              "#bd3786"
             ],
             [
              0.5555555555555556,
              "#d8576b"
             ],
             [
              0.6666666666666666,
              "#ed7953"
             ],
             [
              0.7777777777777778,
              "#fb9f3a"
             ],
             [
              0.8888888888888888,
              "#fdca26"
             ],
             [
              1,
              "#f0f921"
             ]
            ],
            "type": "heatmap"
           }
          ],
          "heatmapgl": [
           {
            "colorbar": {
             "outlinewidth": 0,
             "ticks": ""
            },
            "colorscale": [
             [
              0,
              "#0d0887"
             ],
             [
              0.1111111111111111,
              "#46039f"
             ],
             [
              0.2222222222222222,
              "#7201a8"
             ],
             [
              0.3333333333333333,
              "#9c179e"
             ],
             [
              0.4444444444444444,
              "#bd3786"
             ],
             [
              0.5555555555555556,
              "#d8576b"
             ],
             [
              0.6666666666666666,
              "#ed7953"
             ],
             [
              0.7777777777777778,
              "#fb9f3a"
             ],
             [
              0.8888888888888888,
              "#fdca26"
             ],
             [
              1,
              "#f0f921"
             ]
            ],
            "type": "heatmapgl"
           }
          ],
          "histogram": [
           {
            "marker": {
             "pattern": {
              "fillmode": "overlay",
              "size": 10,
              "solidity": 0.2
             }
            },
            "type": "histogram"
           }
          ],
          "histogram2d": [
           {
            "colorbar": {
             "outlinewidth": 0,
             "ticks": ""
            },
            "colorscale": [
             [
              0,
              "#0d0887"
             ],
             [
              0.1111111111111111,
              "#46039f"
             ],
             [
              0.2222222222222222,
              "#7201a8"
             ],
             [
              0.3333333333333333,
              "#9c179e"
             ],
             [
              0.4444444444444444,
              "#bd3786"
             ],
             [
              0.5555555555555556,
              "#d8576b"
             ],
             [
              0.6666666666666666,
              "#ed7953"
             ],
             [
              0.7777777777777778,
              "#fb9f3a"
             ],
             [
              0.8888888888888888,
              "#fdca26"
             ],
             [
              1,
              "#f0f921"
             ]
            ],
            "type": "histogram2d"
           }
          ],
          "histogram2dcontour": [
           {
            "colorbar": {
             "outlinewidth": 0,
             "ticks": ""
            },
            "colorscale": [
             [
              0,
              "#0d0887"
             ],
             [
              0.1111111111111111,
              "#46039f"
             ],
             [
              0.2222222222222222,
              "#7201a8"
             ],
             [
              0.3333333333333333,
              "#9c179e"
             ],
             [
              0.4444444444444444,
              "#bd3786"
             ],
             [
              0.5555555555555556,
              "#d8576b"
             ],
             [
              0.6666666666666666,
              "#ed7953"
             ],
             [
              0.7777777777777778,
              "#fb9f3a"
             ],
             [
              0.8888888888888888,
              "#fdca26"
             ],
             [
              1,
              "#f0f921"
             ]
            ],
            "type": "histogram2dcontour"
           }
          ],
          "mesh3d": [
           {
            "colorbar": {
             "outlinewidth": 0,
             "ticks": ""
            },
            "type": "mesh3d"
           }
          ],
          "parcoords": [
           {
            "line": {
             "colorbar": {
              "outlinewidth": 0,
              "ticks": ""
             }
            },
            "type": "parcoords"
           }
          ],
          "pie": [
           {
            "automargin": true,
            "type": "pie"
           }
          ],
          "scatter": [
           {
            "fillpattern": {
             "fillmode": "overlay",
             "size": 10,
             "solidity": 0.2
            },
            "type": "scatter"
           }
          ],
          "scatter3d": [
           {
            "line": {
             "colorbar": {
              "outlinewidth": 0,
              "ticks": ""
             }
            },
            "marker": {
             "colorbar": {
              "outlinewidth": 0,
              "ticks": ""
             }
            },
            "type": "scatter3d"
           }
          ],
          "scattercarpet": [
           {
            "marker": {
             "colorbar": {
              "outlinewidth": 0,
              "ticks": ""
             }
            },
            "type": "scattercarpet"
           }
          ],
          "scattergeo": [
           {
            "marker": {
             "colorbar": {
              "outlinewidth": 0,
              "ticks": ""
             }
            },
            "type": "scattergeo"
           }
          ],
          "scattergl": [
           {
            "marker": {
             "colorbar": {
              "outlinewidth": 0,
              "ticks": ""
             }
            },
            "type": "scattergl"
           }
          ],
          "scattermapbox": [
           {
            "marker": {
             "colorbar": {
              "outlinewidth": 0,
              "ticks": ""
             }
            },
            "type": "scattermapbox"
           }
          ],
          "scatterpolar": [
           {
            "marker": {
             "colorbar": {
              "outlinewidth": 0,
              "ticks": ""
             }
            },
            "type": "scatterpolar"
           }
          ],
          "scatterpolargl": [
           {
            "marker": {
             "colorbar": {
              "outlinewidth": 0,
              "ticks": ""
             }
            },
            "type": "scatterpolargl"
           }
          ],
          "scatterternary": [
           {
            "marker": {
             "colorbar": {
              "outlinewidth": 0,
              "ticks": ""
             }
            },
            "type": "scatterternary"
           }
          ],
          "surface": [
           {
            "colorbar": {
             "outlinewidth": 0,
             "ticks": ""
            },
            "colorscale": [
             [
              0,
              "#0d0887"
             ],
             [
              0.1111111111111111,
              "#46039f"
             ],
             [
              0.2222222222222222,
              "#7201a8"
             ],
             [
              0.3333333333333333,
              "#9c179e"
             ],
             [
              0.4444444444444444,
              "#bd3786"
             ],
             [
              0.5555555555555556,
              "#d8576b"
             ],
             [
              0.6666666666666666,
              "#ed7953"
             ],
             [
              0.7777777777777778,
              "#fb9f3a"
             ],
             [
              0.8888888888888888,
              "#fdca26"
             ],
             [
              1,
              "#f0f921"
             ]
            ],
            "type": "surface"
           }
          ],
          "table": [
           {
            "cells": {
             "fill": {
              "color": "#EBF0F8"
             },
             "line": {
              "color": "white"
             }
            },
            "header": {
             "fill": {
              "color": "#C8D4E3"
             },
             "line": {
              "color": "white"
             }
            },
            "type": "table"
           }
          ]
         },
         "layout": {
          "annotationdefaults": {
           "arrowcolor": "#2a3f5f",
           "arrowhead": 0,
           "arrowwidth": 1
          },
          "autotypenumbers": "strict",
          "coloraxis": {
           "colorbar": {
            "outlinewidth": 0,
            "ticks": ""
           }
          },
          "colorscale": {
           "diverging": [
            [
             0,
             "#8e0152"
            ],
            [
             0.1,
             "#c51b7d"
            ],
            [
             0.2,
             "#de77ae"
            ],
            [
             0.3,
             "#f1b6da"
            ],
            [
             0.4,
             "#fde0ef"
            ],
            [
             0.5,
             "#f7f7f7"
            ],
            [
             0.6,
             "#e6f5d0"
            ],
            [
             0.7,
             "#b8e186"
            ],
            [
             0.8,
             "#7fbc41"
            ],
            [
             0.9,
             "#4d9221"
            ],
            [
             1,
             "#276419"
            ]
           ],
           "sequential": [
            [
             0,
             "#0d0887"
            ],
            [
             0.1111111111111111,
             "#46039f"
            ],
            [
             0.2222222222222222,
             "#7201a8"
            ],
            [
             0.3333333333333333,
             "#9c179e"
            ],
            [
             0.4444444444444444,
             "#bd3786"
            ],
            [
             0.5555555555555556,
             "#d8576b"
            ],
            [
             0.6666666666666666,
             "#ed7953"
            ],
            [
             0.7777777777777778,
             "#fb9f3a"
            ],
            [
             0.8888888888888888,
             "#fdca26"
            ],
            [
             1,
             "#f0f921"
            ]
           ],
           "sequentialminus": [
            [
             0,
             "#0d0887"
            ],
            [
             0.1111111111111111,
             "#46039f"
            ],
            [
             0.2222222222222222,
             "#7201a8"
            ],
            [
             0.3333333333333333,
             "#9c179e"
            ],
            [
             0.4444444444444444,
             "#bd3786"
            ],
            [
             0.5555555555555556,
             "#d8576b"
            ],
            [
             0.6666666666666666,
             "#ed7953"
            ],
            [
             0.7777777777777778,
             "#fb9f3a"
            ],
            [
             0.8888888888888888,
             "#fdca26"
            ],
            [
             1,
             "#f0f921"
            ]
           ]
          },
          "colorway": [
           "#636efa",
           "#EF553B",
           "#00cc96",
           "#ab63fa",
           "#FFA15A",
           "#19d3f3",
           "#FF6692",
           "#B6E880",
           "#FF97FF",
           "#FECB52"
          ],
          "font": {
           "color": "#2a3f5f"
          },
          "geo": {
           "bgcolor": "white",
           "lakecolor": "white",
           "landcolor": "#E5ECF6",
           "showlakes": true,
           "showland": true,
           "subunitcolor": "white"
          },
          "hoverlabel": {
           "align": "left"
          },
          "hovermode": "closest",
          "mapbox": {
           "style": "light"
          },
          "paper_bgcolor": "white",
          "plot_bgcolor": "#E5ECF6",
          "polar": {
           "angularaxis": {
            "gridcolor": "white",
            "linecolor": "white",
            "ticks": ""
           },
           "bgcolor": "#E5ECF6",
           "radialaxis": {
            "gridcolor": "white",
            "linecolor": "white",
            "ticks": ""
           }
          },
          "scene": {
           "xaxis": {
            "backgroundcolor": "#E5ECF6",
            "gridcolor": "white",
            "gridwidth": 2,
            "linecolor": "white",
            "showbackground": true,
            "ticks": "",
            "zerolinecolor": "white"
           },
           "yaxis": {
            "backgroundcolor": "#E5ECF6",
            "gridcolor": "white",
            "gridwidth": 2,
            "linecolor": "white",
            "showbackground": true,
            "ticks": "",
            "zerolinecolor": "white"
           },
           "zaxis": {
            "backgroundcolor": "#E5ECF6",
            "gridcolor": "white",
            "gridwidth": 2,
            "linecolor": "white",
            "showbackground": true,
            "ticks": "",
            "zerolinecolor": "white"
           }
          },
          "shapedefaults": {
           "line": {
            "color": "#2a3f5f"
           }
          },
          "ternary": {
           "aaxis": {
            "gridcolor": "white",
            "linecolor": "white",
            "ticks": ""
           },
           "baxis": {
            "gridcolor": "white",
            "linecolor": "white",
            "ticks": ""
           },
           "bgcolor": "#E5ECF6",
           "caxis": {
            "gridcolor": "white",
            "linecolor": "white",
            "ticks": ""
           }
          },
          "title": {
           "x": 0.05
          },
          "xaxis": {
           "automargin": true,
           "gridcolor": "white",
           "linecolor": "white",
           "ticks": "",
           "title": {
            "standoff": 15
           },
           "zerolinecolor": "white",
           "zerolinewidth": 2
          },
          "yaxis": {
           "automargin": true,
           "gridcolor": "white",
           "linecolor": "white",
           "ticks": "",
           "title": {
            "standoff": 15
           },
           "zerolinecolor": "white",
           "zerolinewidth": 2
          }
         }
        },
        "title": {
         "text": "Observations with M: top summary of value 1 are indicated in red",
         "x": 0.5,
         "xanchor": "center",
         "y": 0.1,
         "yanchor": "bottom"
        },
        "xaxis": {
         "anchor": "y",
         "domain": [
          0,
          0.45
         ]
        },
        "xaxis2": {
         "anchor": "y2",
         "domain": [
          0.55,
          1
         ]
        },
        "xaxis3": {
         "anchor": "y3",
         "domain": [
          0,
          0.45
         ]
        },
        "xaxis4": {
         "anchor": "y4",
         "domain": [
          0.55,
          1
         ]
        },
        "yaxis": {
         "anchor": "x",
         "domain": [
          0.625,
          1
         ]
        },
        "yaxis2": {
         "anchor": "x2",
         "domain": [
          0.625,
          1
         ]
        },
        "yaxis3": {
         "anchor": "x3",
         "domain": [
          0,
          0.375
         ]
        },
        "yaxis4": {
         "anchor": "x4",
         "domain": [
          0,
          0.375
         ]
        }
       }
      }
     },
     "metadata": {},
     "output_type": "display_data"
    }
   ],
   "source": [
    "task_columns = ['H: summarization task', 'P: simplify task', 'V: add relevance task']\n",
    "plot_proportion(df, columns= task_columns, classication='M: top summary', label='1',);\n",
    "plot_int_bar(df, columns= task_columns, classification='M: top summary', label='1', barmode='group');"
   ]
  },
  {
   "attachments": {},
   "cell_type": "markdown",
   "metadata": {},
   "source": [
    "## Iteration 4: Fix x-axis titles"
   ]
  },
  {
   "cell_type": "code",
   "execution_count": 73,
   "metadata": {},
   "outputs": [
    {
     "data": {
      "application/vnd.plotly.v1+json": {
       "config": {
        "plotlyServerURL": "https://plot.ly"
       },
       "data": [
        {
         "marker": {
          "color": "blue"
         },
         "opacity": 0.5,
         "orientation": "h",
         "type": "bar",
         "x": [
          86.56716417910447,
          92.98245614035088,
          100
         ],
         "xaxis": "x",
         "y": [
          "Describe the interesting points to your coworker at the water cooler",
          "Summarize for a LinkedIn post",
          "Summarize in an engaging way"
         ],
         "yaxis": "y"
        },
        {
         "marker": {
          "color": "red"
         },
         "opacity": 0.5,
         "orientation": "h",
         "type": "bar",
         "x": [
          13.432835820895523,
          7.017543859649122,
          null
         ],
         "xaxis": "x",
         "y": [
          "Describe the interesting points to your coworker at the water cooler",
          "Summarize for a LinkedIn post",
          "Summarize in an engaging way"
         ],
         "yaxis": "y"
        },
        {
         "marker": {
          "color": "blue"
         },
         "opacity": 0.5,
         "orientation": "h",
         "type": "bar",
         "x": [
          90,
          92.72727272727272,
          87.03703703703704
         ],
         "xaxis": "x2",
         "y": [
          "Use language appropriate for for a lay audience",
          "Use language appropriate for for people without a science background",
          "Use terms a 12-year-old can understand."
         ],
         "yaxis": "y2"
        },
        {
         "marker": {
          "color": "red"
         },
         "opacity": 0.5,
         "orientation": "h",
         "type": "bar",
         "x": [
          10,
          7.2727272727272725,
          12.962962962962962
         ],
         "xaxis": "x2",
         "y": [
          "Use language appropriate for for a lay audience",
          "Use language appropriate for for people without a science background",
          "Use terms a 12-year-old can understand."
         ],
         "yaxis": "y2"
        },
        {
         "marker": {
          "color": "blue"
         },
         "opacity": 0.5,
         "orientation": "h",
         "type": "bar",
         "x": [
          90.42553191489363,
          88.57142857142857
         ],
         "xaxis": "x3",
         "y": [
          "Add 1-2 sentences to make this relevant for",
          "Write this so it is relevant for"
         ],
         "yaxis": "y3"
        },
        {
         "marker": {
          "color": "red"
         },
         "opacity": 0.5,
         "orientation": "h",
         "type": "bar",
         "x": [
          9.574468085106384,
          11.428571428571429
         ],
         "xaxis": "x3",
         "y": [
          "Add 1-2 sentences to make this relevant for",
          "Write this so it is relevant for"
         ],
         "yaxis": "y3"
        }
       ],
       "layout": {
        "annotations": [
         {
          "font": {
           "size": 16
          },
          "showarrow": false,
          "text": "H: summarization task",
          "x": 0.5,
          "xanchor": "center",
          "xref": "paper",
          "y": 1,
          "yanchor": "bottom",
          "yref": "paper"
         },
         {
          "font": {
           "size": 16
          },
          "showarrow": false,
          "text": "Q: full simplify task",
          "x": 0.5,
          "xanchor": "center",
          "xref": "paper",
          "y": 0.71875,
          "yanchor": "bottom",
          "yref": "paper"
         },
         {
          "font": {
           "size": 16
          },
          "showarrow": false,
          "text": "V: add relevance task",
          "x": 0.5,
          "xanchor": "center",
          "xref": "paper",
          "y": 0.4375,
          "yanchor": "bottom",
          "yref": "paper"
         }
        ],
        "barmode": "stack",
        "height": 600,
        "showlegend": false,
        "template": {
         "data": {
          "bar": [
           {
            "error_x": {
             "color": "#2a3f5f"
            },
            "error_y": {
             "color": "#2a3f5f"
            },
            "marker": {
             "line": {
              "color": "#E5ECF6",
              "width": 0.5
             },
             "pattern": {
              "fillmode": "overlay",
              "size": 10,
              "solidity": 0.2
             }
            },
            "type": "bar"
           }
          ],
          "barpolar": [
           {
            "marker": {
             "line": {
              "color": "#E5ECF6",
              "width": 0.5
             },
             "pattern": {
              "fillmode": "overlay",
              "size": 10,
              "solidity": 0.2
             }
            },
            "type": "barpolar"
           }
          ],
          "carpet": [
           {
            "aaxis": {
             "endlinecolor": "#2a3f5f",
             "gridcolor": "white",
             "linecolor": "white",
             "minorgridcolor": "white",
             "startlinecolor": "#2a3f5f"
            },
            "baxis": {
             "endlinecolor": "#2a3f5f",
             "gridcolor": "white",
             "linecolor": "white",
             "minorgridcolor": "white",
             "startlinecolor": "#2a3f5f"
            },
            "type": "carpet"
           }
          ],
          "choropleth": [
           {
            "colorbar": {
             "outlinewidth": 0,
             "ticks": ""
            },
            "type": "choropleth"
           }
          ],
          "contour": [
           {
            "colorbar": {
             "outlinewidth": 0,
             "ticks": ""
            },
            "colorscale": [
             [
              0,
              "#0d0887"
             ],
             [
              0.1111111111111111,
              "#46039f"
             ],
             [
              0.2222222222222222,
              "#7201a8"
             ],
             [
              0.3333333333333333,
              "#9c179e"
             ],
             [
              0.4444444444444444,
              "#bd3786"
             ],
             [
              0.5555555555555556,
              "#d8576b"
             ],
             [
              0.6666666666666666,
              "#ed7953"
             ],
             [
              0.7777777777777778,
              "#fb9f3a"
             ],
             [
              0.8888888888888888,
              "#fdca26"
             ],
             [
              1,
              "#f0f921"
             ]
            ],
            "type": "contour"
           }
          ],
          "contourcarpet": [
           {
            "colorbar": {
             "outlinewidth": 0,
             "ticks": ""
            },
            "type": "contourcarpet"
           }
          ],
          "heatmap": [
           {
            "colorbar": {
             "outlinewidth": 0,
             "ticks": ""
            },
            "colorscale": [
             [
              0,
              "#0d0887"
             ],
             [
              0.1111111111111111,
              "#46039f"
             ],
             [
              0.2222222222222222,
              "#7201a8"
             ],
             [
              0.3333333333333333,
              "#9c179e"
             ],
             [
              0.4444444444444444,
              "#bd3786"
             ],
             [
              0.5555555555555556,
              "#d8576b"
             ],
             [
              0.6666666666666666,
              "#ed7953"
             ],
             [
              0.7777777777777778,
              "#fb9f3a"
             ],
             [
              0.8888888888888888,
              "#fdca26"
             ],
             [
              1,
              "#f0f921"
             ]
            ],
            "type": "heatmap"
           }
          ],
          "heatmapgl": [
           {
            "colorbar": {
             "outlinewidth": 0,
             "ticks": ""
            },
            "colorscale": [
             [
              0,
              "#0d0887"
             ],
             [
              0.1111111111111111,
              "#46039f"
             ],
             [
              0.2222222222222222,
              "#7201a8"
             ],
             [
              0.3333333333333333,
              "#9c179e"
             ],
             [
              0.4444444444444444,
              "#bd3786"
             ],
             [
              0.5555555555555556,
              "#d8576b"
             ],
             [
              0.6666666666666666,
              "#ed7953"
             ],
             [
              0.7777777777777778,
              "#fb9f3a"
             ],
             [
              0.8888888888888888,
              "#fdca26"
             ],
             [
              1,
              "#f0f921"
             ]
            ],
            "type": "heatmapgl"
           }
          ],
          "histogram": [
           {
            "marker": {
             "pattern": {
              "fillmode": "overlay",
              "size": 10,
              "solidity": 0.2
             }
            },
            "type": "histogram"
           }
          ],
          "histogram2d": [
           {
            "colorbar": {
             "outlinewidth": 0,
             "ticks": ""
            },
            "colorscale": [
             [
              0,
              "#0d0887"
             ],
             [
              0.1111111111111111,
              "#46039f"
             ],
             [
              0.2222222222222222,
              "#7201a8"
             ],
             [
              0.3333333333333333,
              "#9c179e"
             ],
             [
              0.4444444444444444,
              "#bd3786"
             ],
             [
              0.5555555555555556,
              "#d8576b"
             ],
             [
              0.6666666666666666,
              "#ed7953"
             ],
             [
              0.7777777777777778,
              "#fb9f3a"
             ],
             [
              0.8888888888888888,
              "#fdca26"
             ],
             [
              1,
              "#f0f921"
             ]
            ],
            "type": "histogram2d"
           }
          ],
          "histogram2dcontour": [
           {
            "colorbar": {
             "outlinewidth": 0,
             "ticks": ""
            },
            "colorscale": [
             [
              0,
              "#0d0887"
             ],
             [
              0.1111111111111111,
              "#46039f"
             ],
             [
              0.2222222222222222,
              "#7201a8"
             ],
             [
              0.3333333333333333,
              "#9c179e"
             ],
             [
              0.4444444444444444,
              "#bd3786"
             ],
             [
              0.5555555555555556,
              "#d8576b"
             ],
             [
              0.6666666666666666,
              "#ed7953"
             ],
             [
              0.7777777777777778,
              "#fb9f3a"
             ],
             [
              0.8888888888888888,
              "#fdca26"
             ],
             [
              1,
              "#f0f921"
             ]
            ],
            "type": "histogram2dcontour"
           }
          ],
          "mesh3d": [
           {
            "colorbar": {
             "outlinewidth": 0,
             "ticks": ""
            },
            "type": "mesh3d"
           }
          ],
          "parcoords": [
           {
            "line": {
             "colorbar": {
              "outlinewidth": 0,
              "ticks": ""
             }
            },
            "type": "parcoords"
           }
          ],
          "pie": [
           {
            "automargin": true,
            "type": "pie"
           }
          ],
          "scatter": [
           {
            "fillpattern": {
             "fillmode": "overlay",
             "size": 10,
             "solidity": 0.2
            },
            "type": "scatter"
           }
          ],
          "scatter3d": [
           {
            "line": {
             "colorbar": {
              "outlinewidth": 0,
              "ticks": ""
             }
            },
            "marker": {
             "colorbar": {
              "outlinewidth": 0,
              "ticks": ""
             }
            },
            "type": "scatter3d"
           }
          ],
          "scattercarpet": [
           {
            "marker": {
             "colorbar": {
              "outlinewidth": 0,
              "ticks": ""
             }
            },
            "type": "scattercarpet"
           }
          ],
          "scattergeo": [
           {
            "marker": {
             "colorbar": {
              "outlinewidth": 0,
              "ticks": ""
             }
            },
            "type": "scattergeo"
           }
          ],
          "scattergl": [
           {
            "marker": {
             "colorbar": {
              "outlinewidth": 0,
              "ticks": ""
             }
            },
            "type": "scattergl"
           }
          ],
          "scattermapbox": [
           {
            "marker": {
             "colorbar": {
              "outlinewidth": 0,
              "ticks": ""
             }
            },
            "type": "scattermapbox"
           }
          ],
          "scatterpolar": [
           {
            "marker": {
             "colorbar": {
              "outlinewidth": 0,
              "ticks": ""
             }
            },
            "type": "scatterpolar"
           }
          ],
          "scatterpolargl": [
           {
            "marker": {
             "colorbar": {
              "outlinewidth": 0,
              "ticks": ""
             }
            },
            "type": "scatterpolargl"
           }
          ],
          "scatterternary": [
           {
            "marker": {
             "colorbar": {
              "outlinewidth": 0,
              "ticks": ""
             }
            },
            "type": "scatterternary"
           }
          ],
          "surface": [
           {
            "colorbar": {
             "outlinewidth": 0,
             "ticks": ""
            },
            "colorscale": [
             [
              0,
              "#0d0887"
             ],
             [
              0.1111111111111111,
              "#46039f"
             ],
             [
              0.2222222222222222,
              "#7201a8"
             ],
             [
              0.3333333333333333,
              "#9c179e"
             ],
             [
              0.4444444444444444,
              "#bd3786"
             ],
             [
              0.5555555555555556,
              "#d8576b"
             ],
             [
              0.6666666666666666,
              "#ed7953"
             ],
             [
              0.7777777777777778,
              "#fb9f3a"
             ],
             [
              0.8888888888888888,
              "#fdca26"
             ],
             [
              1,
              "#f0f921"
             ]
            ],
            "type": "surface"
           }
          ],
          "table": [
           {
            "cells": {
             "fill": {
              "color": "#EBF0F8"
             },
             "line": {
              "color": "white"
             }
            },
            "header": {
             "fill": {
              "color": "#C8D4E3"
             },
             "line": {
              "color": "white"
             }
            },
            "type": "table"
           }
          ]
         },
         "layout": {
          "annotationdefaults": {
           "arrowcolor": "#2a3f5f",
           "arrowhead": 0,
           "arrowwidth": 1
          },
          "autotypenumbers": "strict",
          "coloraxis": {
           "colorbar": {
            "outlinewidth": 0,
            "ticks": ""
           }
          },
          "colorscale": {
           "diverging": [
            [
             0,
             "#8e0152"
            ],
            [
             0.1,
             "#c51b7d"
            ],
            [
             0.2,
             "#de77ae"
            ],
            [
             0.3,
             "#f1b6da"
            ],
            [
             0.4,
             "#fde0ef"
            ],
            [
             0.5,
             "#f7f7f7"
            ],
            [
             0.6,
             "#e6f5d0"
            ],
            [
             0.7,
             "#b8e186"
            ],
            [
             0.8,
             "#7fbc41"
            ],
            [
             0.9,
             "#4d9221"
            ],
            [
             1,
             "#276419"
            ]
           ],
           "sequential": [
            [
             0,
             "#0d0887"
            ],
            [
             0.1111111111111111,
             "#46039f"
            ],
            [
             0.2222222222222222,
             "#7201a8"
            ],
            [
             0.3333333333333333,
             "#9c179e"
            ],
            [
             0.4444444444444444,
             "#bd3786"
            ],
            [
             0.5555555555555556,
             "#d8576b"
            ],
            [
             0.6666666666666666,
             "#ed7953"
            ],
            [
             0.7777777777777778,
             "#fb9f3a"
            ],
            [
             0.8888888888888888,
             "#fdca26"
            ],
            [
             1,
             "#f0f921"
            ]
           ],
           "sequentialminus": [
            [
             0,
             "#0d0887"
            ],
            [
             0.1111111111111111,
             "#46039f"
            ],
            [
             0.2222222222222222,
             "#7201a8"
            ],
            [
             0.3333333333333333,
             "#9c179e"
            ],
            [
             0.4444444444444444,
             "#bd3786"
            ],
            [
             0.5555555555555556,
             "#d8576b"
            ],
            [
             0.6666666666666666,
             "#ed7953"
            ],
            [
             0.7777777777777778,
             "#fb9f3a"
            ],
            [
             0.8888888888888888,
             "#fdca26"
            ],
            [
             1,
             "#f0f921"
            ]
           ]
          },
          "colorway": [
           "#636efa",
           "#EF553B",
           "#00cc96",
           "#ab63fa",
           "#FFA15A",
           "#19d3f3",
           "#FF6692",
           "#B6E880",
           "#FF97FF",
           "#FECB52"
          ],
          "font": {
           "color": "#2a3f5f"
          },
          "geo": {
           "bgcolor": "white",
           "lakecolor": "white",
           "landcolor": "#E5ECF6",
           "showlakes": true,
           "showland": true,
           "subunitcolor": "white"
          },
          "hoverlabel": {
           "align": "left"
          },
          "hovermode": "closest",
          "mapbox": {
           "style": "light"
          },
          "paper_bgcolor": "white",
          "plot_bgcolor": "#E5ECF6",
          "polar": {
           "angularaxis": {
            "gridcolor": "white",
            "linecolor": "white",
            "ticks": ""
           },
           "bgcolor": "#E5ECF6",
           "radialaxis": {
            "gridcolor": "white",
            "linecolor": "white",
            "ticks": ""
           }
          },
          "scene": {
           "xaxis": {
            "backgroundcolor": "#E5ECF6",
            "gridcolor": "white",
            "gridwidth": 2,
            "linecolor": "white",
            "showbackground": true,
            "ticks": "",
            "zerolinecolor": "white"
           },
           "yaxis": {
            "backgroundcolor": "#E5ECF6",
            "gridcolor": "white",
            "gridwidth": 2,
            "linecolor": "white",
            "showbackground": true,
            "ticks": "",
            "zerolinecolor": "white"
           },
           "zaxis": {
            "backgroundcolor": "#E5ECF6",
            "gridcolor": "white",
            "gridwidth": 2,
            "linecolor": "white",
            "showbackground": true,
            "ticks": "",
            "zerolinecolor": "white"
           }
          },
          "shapedefaults": {
           "line": {
            "color": "#2a3f5f"
           }
          },
          "ternary": {
           "aaxis": {
            "gridcolor": "white",
            "linecolor": "white",
            "ticks": ""
           },
           "baxis": {
            "gridcolor": "white",
            "linecolor": "white",
            "ticks": ""
           },
           "bgcolor": "#E5ECF6",
           "caxis": {
            "gridcolor": "white",
            "linecolor": "white",
            "ticks": ""
           }
          },
          "title": {
           "x": 0.05
          },
          "xaxis": {
           "automargin": true,
           "gridcolor": "white",
           "linecolor": "white",
           "ticks": "",
           "title": {
            "standoff": 15
           },
           "zerolinecolor": "white",
           "zerolinewidth": 2
          },
          "yaxis": {
           "automargin": true,
           "gridcolor": "white",
           "linecolor": "white",
           "ticks": "",
           "title": {
            "standoff": 15
           },
           "zerolinecolor": "white",
           "zerolinewidth": 2
          }
         }
        },
        "title": {
         "text": "Percentage with M: top summary of value 1 by category (indicated in red).",
         "x": 0.5,
         "xanchor": "center",
         "yanchor": "bottom"
        },
        "xaxis": {
         "anchor": "y",
         "domain": [
          0,
          1
         ]
        },
        "xaxis2": {
         "anchor": "y2",
         "domain": [
          0,
          1
         ]
        },
        "xaxis3": {
         "anchor": "y3",
         "domain": [
          0,
          1
         ],
         "title": {
          "standoff": 0,
          "text": "% of Total"
         }
        },
        "xaxis4": {
         "anchor": "y4",
         "domain": [
          0,
          1
         ]
        },
        "yaxis": {
         "anchor": "x",
         "domain": [
          0.84375,
          1
         ],
         "title": {
          "text": ""
         }
        },
        "yaxis2": {
         "anchor": "x2",
         "domain": [
          0.5625,
          0.71875
         ]
        },
        "yaxis3": {
         "anchor": "x3",
         "domain": [
          0.28125,
          0.4375
         ]
        },
        "yaxis4": {
         "anchor": "x4",
         "domain": [
          0,
          0.15625
         ]
        }
       }
      }
     },
     "metadata": {},
     "output_type": "display_data"
    },
    {
     "data": {
      "application/vnd.plotly.v1+json": {
       "config": {
        "plotlyServerURL": "https://plot.ly"
       },
       "data": [
        {
         "marker": {
          "color": "blue"
         },
         "opacity": 0.5,
         "orientation": "h",
         "type": "histogram",
         "xaxis": "x",
         "y": [
          "Summarize for a LinkedIn post",
          "Summarize for a LinkedIn post",
          "Summarize for a LinkedIn post",
          "Summarize for a LinkedIn post",
          "Describe the interesting points to your coworker at the water cooler",
          "Describe the interesting points to your coworker at the water cooler",
          "Describe the interesting points to your coworker at the water cooler",
          "Describe the interesting points to your coworker at the water cooler",
          "Describe the interesting points to your coworker at the water cooler",
          "Summarize for a LinkedIn post",
          "Summarize for a LinkedIn post",
          "Summarize for a LinkedIn post",
          "Summarize for a LinkedIn post",
          "Summarize for a LinkedIn post",
          "Describe the interesting points to your coworker at the water cooler",
          "Describe the interesting points to your coworker at the water cooler",
          "Describe the interesting points to your coworker at the water cooler",
          "Describe the interesting points to your coworker at the water cooler",
          "Summarize for a LinkedIn post",
          "Summarize for a LinkedIn post",
          "Summarize for a LinkedIn post",
          "Summarize for a LinkedIn post",
          "Summarize for a LinkedIn post",
          "Describe the interesting points to your coworker at the water cooler",
          "Describe the interesting points to your coworker at the water cooler",
          "Describe the interesting points to your coworker at the water cooler",
          "Describe the interesting points to your coworker at the water cooler",
          "Summarize for a LinkedIn post",
          "Summarize for a LinkedIn post",
          "Summarize for a LinkedIn post",
          "Summarize for a LinkedIn post",
          "Summarize for a LinkedIn post",
          "Summarize for a LinkedIn post",
          "Summarize for a LinkedIn post",
          "Describe the interesting points to your coworker at the water cooler",
          "Describe the interesting points to your coworker at the water cooler",
          "Describe the interesting points to your coworker at the water cooler",
          "Describe the interesting points to your coworker at the water cooler",
          "Summarize for a LinkedIn post",
          "Summarize for a LinkedIn post",
          "Summarize for a LinkedIn post",
          "Summarize for a LinkedIn post",
          "Summarize for a LinkedIn post",
          "Describe the interesting points to your coworker at the water cooler",
          "Describe the interesting points to your coworker at the water cooler",
          "Describe the interesting points to your coworker at the water cooler",
          "Describe the interesting points to your coworker at the water cooler",
          "Summarize for a LinkedIn post",
          "Summarize for a LinkedIn post",
          "Summarize for a LinkedIn post",
          "Summarize for a LinkedIn post",
          "Summarize for a LinkedIn post",
          "Summarize for a LinkedIn post",
          "Summarize for a LinkedIn post",
          "Summarize for a LinkedIn post",
          "Summarize for a LinkedIn post",
          "Describe the interesting points to your coworker at the water cooler",
          "Describe the interesting points to your coworker at the water cooler",
          "Describe the interesting points to your coworker at the water cooler",
          "Describe the interesting points to your coworker at the water cooler",
          "Describe the interesting points to your coworker at the water cooler",
          "Describe the interesting points to your coworker at the water cooler",
          "Describe the interesting points to your coworker at the water cooler",
          "Describe the interesting points to your coworker at the water cooler",
          "Describe the interesting points to your coworker at the water cooler",
          "Describe the interesting points to your coworker at the water cooler",
          "Summarize for a LinkedIn post",
          "Summarize for a LinkedIn post",
          "Summarize for a LinkedIn post",
          "Summarize for a LinkedIn post",
          "Summarize for a LinkedIn post",
          "Summarize for a LinkedIn post",
          "Summarize for a LinkedIn post",
          "Summarize for a LinkedIn post",
          "Summarize for a LinkedIn post",
          "Describe the interesting points to your coworker at the water cooler",
          "Describe the interesting points to your coworker at the water cooler",
          "Describe the interesting points to your coworker at the water cooler",
          "Describe the interesting points to your coworker at the water cooler",
          "Describe the interesting points to your coworker at the water cooler",
          "Describe the interesting points to your coworker at the water cooler",
          "Describe the interesting points to your coworker at the water cooler",
          "Describe the interesting points to your coworker at the water cooler",
          "Describe the interesting points to your coworker at the water cooler",
          "Describe the interesting points to your coworker at the water cooler",
          "Describe the interesting points to your coworker at the water cooler",
          "Describe the interesting points to your coworker at the water cooler",
          "Describe the interesting points to your coworker at the water cooler",
          "Describe the interesting points to your coworker at the water cooler",
          "Summarize for a LinkedIn post",
          "Summarize for a LinkedIn post",
          "Summarize for a LinkedIn post",
          "Summarize for a LinkedIn post",
          "Summarize for a LinkedIn post",
          "Summarize in an engaging way",
          "Summarize in an engaging way",
          "Summarize in an engaging way",
          "Summarize in an engaging way",
          "Summarize in an engaging way",
          "Describe the interesting points to your coworker at the water cooler",
          "Describe the interesting points to your coworker at the water cooler",
          "Describe the interesting points to your coworker at the water cooler",
          "Describe the interesting points to your coworker at the water cooler",
          "Summarize for a LinkedIn post",
          "Summarize for a LinkedIn post",
          "Summarize for a LinkedIn post",
          "Summarize for a LinkedIn post",
          "Describe the interesting points to your coworker at the water cooler",
          "Describe the interesting points to your coworker at the water cooler",
          "Describe the interesting points to your coworker at the water cooler",
          "Describe the interesting points to your coworker at the water cooler",
          "Describe the interesting points to your coworker at the water cooler",
          "Describe the interesting points to your coworker at the water cooler",
          "Describe the interesting points to your coworker at the water cooler",
          "Describe the interesting points to your coworker at the water cooler",
          "Describe the interesting points to your coworker at the water cooler"
         ],
         "yaxis": "y"
        },
        {
         "marker": {
          "color": "red"
         },
         "opacity": 0.5,
         "orientation": "h",
         "type": "histogram",
         "xaxis": "x",
         "y": [
          "Summarize for a LinkedIn post",
          "Describe the interesting points to your coworker at the water cooler",
          "Describe the interesting points to your coworker at the water cooler",
          "Describe the interesting points to your coworker at the water cooler",
          "Describe the interesting points to your coworker at the water cooler",
          "Describe the interesting points to your coworker at the water cooler",
          "Describe the interesting points to your coworker at the water cooler",
          "Summarize for a LinkedIn post",
          "Summarize for a LinkedIn post",
          "Describe the interesting points to your coworker at the water cooler",
          "Describe the interesting points to your coworker at the water cooler",
          "Summarize for a LinkedIn post",
          "Describe the interesting points to your coworker at the water cooler"
         ],
         "yaxis": "y"
        },
        {
         "marker": {
          "color": "blue"
         },
         "opacity": 0.5,
         "orientation": "h",
         "type": "histogram",
         "xaxis": "x2",
         "y": [
          "Use terms a 12-year-old can understand.",
          "Use terms a 12-year-old can understand.",
          "Use terms a 12-year-old can understand.",
          "Use terms a 12-year-old can understand.",
          "Use terms a 12-year-old can understand.",
          "Use terms a 12-year-old can understand.",
          "Use terms a 12-year-old can understand.",
          "Use terms a 12-year-old can understand.",
          "Use terms a 12-year-old can understand.",
          "Use terms a 12-year-old can understand.",
          "Use terms a 12-year-old can understand.",
          "Use terms a 12-year-old can understand.",
          "Use terms a 12-year-old can understand.",
          "Use terms a 12-year-old can understand.",
          "Use terms a 12-year-old can understand.",
          "Use terms a 12-year-old can understand.",
          "Use terms a 12-year-old can understand.",
          "Use terms a 12-year-old can understand.",
          "Use terms a 12-year-old can understand.",
          "Use terms a 12-year-old can understand.",
          "Use terms a 12-year-old can understand.",
          "Use terms a 12-year-old can understand.",
          "Use terms a 12-year-old can understand.",
          "Use terms a 12-year-old can understand.",
          "Use terms a 12-year-old can understand.",
          "Use terms a 12-year-old can understand.",
          "Use terms a 12-year-old can understand.",
          "Use terms a 12-year-old can understand.",
          "Use terms a 12-year-old can understand.",
          "Use terms a 12-year-old can understand.",
          "Use terms a 12-year-old can understand.",
          "Use terms a 12-year-old can understand.",
          "Use terms a 12-year-old can understand.",
          "Use terms a 12-year-old can understand.",
          "Use terms a 12-year-old can understand.",
          "Use terms a 12-year-old can understand.",
          "Use terms a 12-year-old can understand.",
          "Use terms a 12-year-old can understand.",
          "Use terms a 12-year-old can understand.",
          "Use terms a 12-year-old can understand.",
          "Use terms a 12-year-old can understand.",
          "Use terms a 12-year-old can understand.",
          "Use terms a 12-year-old can understand.",
          "Use terms a 12-year-old can understand.",
          "Use terms a 12-year-old can understand.",
          "Use terms a 12-year-old can understand.",
          "Use terms a 12-year-old can understand.",
          "Use language appropriate for for a lay audience",
          "Use language appropriate for for people without a science background",
          "Use language appropriate for for a lay audience",
          "Use language appropriate for for people without a science background",
          "Use language appropriate for for a lay audience",
          "Use language appropriate for for people without a science background",
          "Use language appropriate for for people without a science background",
          "Use language appropriate for for a lay audience",
          "Use language appropriate for for people without a science background",
          "Use language appropriate for for a lay audience",
          "Use language appropriate for for people without a science background",
          "Use language appropriate for for a lay audience",
          "Use language appropriate for for people without a science background",
          "Use language appropriate for for a lay audience",
          "Use language appropriate for for people without a science background",
          "Use language appropriate for for a lay audience",
          "Use language appropriate for for people without a science background",
          "Use language appropriate for for a lay audience",
          "Use language appropriate for for people without a science background",
          "Use language appropriate for for a lay audience",
          "Use language appropriate for for people without a science background",
          "Use language appropriate for for a lay audience",
          "Use language appropriate for for people without a science background",
          "Use language appropriate for for a lay audience",
          "Use language appropriate for for people without a science background",
          "Use language appropriate for for a lay audience",
          "Use language appropriate for for people without a science background",
          "Use language appropriate for for people without a science background",
          "Use language appropriate for for a lay audience",
          "Use language appropriate for for people without a science background",
          "Use language appropriate for for a lay audience",
          "Use language appropriate for for people without a science background",
          "Use language appropriate for for a lay audience",
          "Use language appropriate for for people without a science background",
          "Use language appropriate for for a lay audience",
          "Use language appropriate for for people without a science background",
          "Use language appropriate for for a lay audience",
          "Use language appropriate for for people without a science background",
          "Use language appropriate for for people without a science background",
          "Use language appropriate for for people without a science background",
          "Use language appropriate for for people without a science background",
          "Use language appropriate for for people without a science background",
          "Use language appropriate for for people without a science background",
          "Use language appropriate for for people without a science background",
          "Use language appropriate for for people without a science background",
          "Use language appropriate for for people without a science background",
          "Use language appropriate for for people without a science background",
          "Use language appropriate for for people without a science background",
          "Use language appropriate for for people without a science background",
          "Use language appropriate for for people without a science background",
          "Use language appropriate for for people without a science background",
          "Use language appropriate for for people without a science background",
          "Use language appropriate for for people without a science background",
          "Use language appropriate for for people without a science background",
          "Use language appropriate for for people without a science background",
          "Use language appropriate for for people without a science background",
          "Use language appropriate for for people without a science background",
          "Use language appropriate for for people without a science background",
          "Use language appropriate for for people without a science background",
          "Use language appropriate for for people without a science background",
          "Use language appropriate for for people without a science background",
          "Use language appropriate for for people without a science background",
          "Use language appropriate for for people without a science background",
          "Use language appropriate for for people without a science background",
          "Use language appropriate for for people without a science background",
          "Use language appropriate for for people without a science background",
          "Use language appropriate for for people without a science background",
          "Use language appropriate for for people without a science background",
          "Use language appropriate for for people without a science background"
         ],
         "yaxis": "y2"
        },
        {
         "marker": {
          "color": "red"
         },
         "opacity": 0.5,
         "orientation": "h",
         "type": "histogram",
         "xaxis": "x2",
         "y": [
          "Use terms a 12-year-old can understand.",
          "Use terms a 12-year-old can understand.",
          "Use terms a 12-year-old can understand.",
          "Use terms a 12-year-old can understand.",
          "Use terms a 12-year-old can understand.",
          "Use terms a 12-year-old can understand.",
          "Use terms a 12-year-old can understand.",
          "Use language appropriate for for a lay audience",
          "Use language appropriate for for a lay audience",
          "Use language appropriate for for people without a science background",
          "Use language appropriate for for people without a science background",
          "Use language appropriate for for people without a science background",
          "Use language appropriate for for people without a science background"
         ],
         "yaxis": "y2"
        },
        {
         "marker": {
          "color": "blue"
         },
         "opacity": 0.5,
         "orientation": "h",
         "type": "histogram",
         "xaxis": "x3",
         "y": [
          "Add 1-2 sentences to make this relevant for",
          "Add 1-2 sentences to make this relevant for",
          "Add 1-2 sentences to make this relevant for",
          "Add 1-2 sentences to make this relevant for",
          "Add 1-2 sentences to make this relevant for",
          "Add 1-2 sentences to make this relevant for",
          "Add 1-2 sentences to make this relevant for",
          "Add 1-2 sentences to make this relevant for",
          "Add 1-2 sentences to make this relevant for",
          "Add 1-2 sentences to make this relevant for",
          "Add 1-2 sentences to make this relevant for",
          "Add 1-2 sentences to make this relevant for",
          "Add 1-2 sentences to make this relevant for",
          "Add 1-2 sentences to make this relevant for",
          "Add 1-2 sentences to make this relevant for",
          "Add 1-2 sentences to make this relevant for",
          "Add 1-2 sentences to make this relevant for",
          "Add 1-2 sentences to make this relevant for",
          "Add 1-2 sentences to make this relevant for",
          "Add 1-2 sentences to make this relevant for",
          "Add 1-2 sentences to make this relevant for",
          "Add 1-2 sentences to make this relevant for",
          "Add 1-2 sentences to make this relevant for",
          "Add 1-2 sentences to make this relevant for",
          "Add 1-2 sentences to make this relevant for",
          "Add 1-2 sentences to make this relevant for",
          "Add 1-2 sentences to make this relevant for",
          "Add 1-2 sentences to make this relevant for",
          "Add 1-2 sentences to make this relevant for",
          "Add 1-2 sentences to make this relevant for",
          "Add 1-2 sentences to make this relevant for",
          "Add 1-2 sentences to make this relevant for",
          "Add 1-2 sentences to make this relevant for",
          "Add 1-2 sentences to make this relevant for",
          "Add 1-2 sentences to make this relevant for",
          "Add 1-2 sentences to make this relevant for",
          "Add 1-2 sentences to make this relevant for",
          "Add 1-2 sentences to make this relevant for",
          "Add 1-2 sentences to make this relevant for",
          "Add 1-2 sentences to make this relevant for",
          "Add 1-2 sentences to make this relevant for",
          "Add 1-2 sentences to make this relevant for",
          "Add 1-2 sentences to make this relevant for",
          "Add 1-2 sentences to make this relevant for",
          "Add 1-2 sentences to make this relevant for",
          "Add 1-2 sentences to make this relevant for",
          "Add 1-2 sentences to make this relevant for",
          "Add 1-2 sentences to make this relevant for",
          "Add 1-2 sentences to make this relevant for",
          "Add 1-2 sentences to make this relevant for",
          "Add 1-2 sentences to make this relevant for",
          "Add 1-2 sentences to make this relevant for",
          "Add 1-2 sentences to make this relevant for",
          "Add 1-2 sentences to make this relevant for",
          "Add 1-2 sentences to make this relevant for",
          "Add 1-2 sentences to make this relevant for",
          "Add 1-2 sentences to make this relevant for",
          "Add 1-2 sentences to make this relevant for",
          "Add 1-2 sentences to make this relevant for",
          "Add 1-2 sentences to make this relevant for",
          "Add 1-2 sentences to make this relevant for",
          "Add 1-2 sentences to make this relevant for",
          "Add 1-2 sentences to make this relevant for",
          "Add 1-2 sentences to make this relevant for",
          "Add 1-2 sentences to make this relevant for",
          "Add 1-2 sentences to make this relevant for",
          "Add 1-2 sentences to make this relevant for",
          "Add 1-2 sentences to make this relevant for",
          "Add 1-2 sentences to make this relevant for",
          "Add 1-2 sentences to make this relevant for",
          "Add 1-2 sentences to make this relevant for",
          "Add 1-2 sentences to make this relevant for",
          "Add 1-2 sentences to make this relevant for",
          "Add 1-2 sentences to make this relevant for",
          "Add 1-2 sentences to make this relevant for",
          "Add 1-2 sentences to make this relevant for",
          "Add 1-2 sentences to make this relevant for",
          "Add 1-2 sentences to make this relevant for",
          "Add 1-2 sentences to make this relevant for",
          "Add 1-2 sentences to make this relevant for",
          "Add 1-2 sentences to make this relevant for",
          "Add 1-2 sentences to make this relevant for",
          "Add 1-2 sentences to make this relevant for",
          "Add 1-2 sentences to make this relevant for",
          "Add 1-2 sentences to make this relevant for",
          "Write this so it is relevant for",
          "Write this so it is relevant for",
          "Write this so it is relevant for",
          "Write this so it is relevant for",
          "Write this so it is relevant for",
          "Write this so it is relevant for",
          "Write this so it is relevant for",
          "Write this so it is relevant for",
          "Write this so it is relevant for",
          "Write this so it is relevant for",
          "Write this so it is relevant for",
          "Write this so it is relevant for",
          "Write this so it is relevant for",
          "Write this so it is relevant for",
          "Write this so it is relevant for",
          "Write this so it is relevant for",
          "Write this so it is relevant for",
          "Write this so it is relevant for",
          "Write this so it is relevant for",
          "Write this so it is relevant for",
          "Write this so it is relevant for",
          "Write this so it is relevant for",
          "Write this so it is relevant for",
          "Write this so it is relevant for",
          "Write this so it is relevant for",
          "Write this so it is relevant for",
          "Write this so it is relevant for",
          "Write this so it is relevant for",
          "Write this so it is relevant for",
          "Write this so it is relevant for",
          "Write this so it is relevant for"
         ],
         "yaxis": "y3"
        },
        {
         "marker": {
          "color": "red"
         },
         "opacity": 0.5,
         "orientation": "h",
         "type": "histogram",
         "xaxis": "x3",
         "y": [
          "Add 1-2 sentences to make this relevant for",
          "Add 1-2 sentences to make this relevant for",
          "Add 1-2 sentences to make this relevant for",
          "Add 1-2 sentences to make this relevant for",
          "Add 1-2 sentences to make this relevant for",
          "Add 1-2 sentences to make this relevant for",
          "Add 1-2 sentences to make this relevant for",
          "Add 1-2 sentences to make this relevant for",
          "Add 1-2 sentences to make this relevant for",
          "Write this so it is relevant for",
          "Write this so it is relevant for",
          "Write this so it is relevant for",
          "Write this so it is relevant for"
         ],
         "yaxis": "y3"
        }
       ],
       "layout": {
        "annotations": [
         {
          "font": {
           "size": 16
          },
          "showarrow": false,
          "text": "H: summarization task",
          "x": 0.5,
          "xanchor": "center",
          "xref": "paper",
          "y": 1,
          "yanchor": "bottom",
          "yref": "paper"
         },
         {
          "font": {
           "size": 16
          },
          "showarrow": false,
          "text": "Q: full simplify task",
          "x": 0.5,
          "xanchor": "center",
          "xref": "paper",
          "y": 0.6111111111111112,
          "yanchor": "bottom",
          "yref": "paper"
         },
         {
          "font": {
           "size": 16
          },
          "showarrow": false,
          "text": "V: add relevance task",
          "x": 0.5,
          "xanchor": "center",
          "xref": "paper",
          "y": 0.22222222222222224,
          "yanchor": "bottom",
          "yref": "paper"
         }
        ],
        "bargap": 0.1,
        "barmode": "group",
        "showlegend": false,
        "template": {
         "data": {
          "bar": [
           {
            "error_x": {
             "color": "#2a3f5f"
            },
            "error_y": {
             "color": "#2a3f5f"
            },
            "marker": {
             "line": {
              "color": "#E5ECF6",
              "width": 0.5
             },
             "pattern": {
              "fillmode": "overlay",
              "size": 10,
              "solidity": 0.2
             }
            },
            "type": "bar"
           }
          ],
          "barpolar": [
           {
            "marker": {
             "line": {
              "color": "#E5ECF6",
              "width": 0.5
             },
             "pattern": {
              "fillmode": "overlay",
              "size": 10,
              "solidity": 0.2
             }
            },
            "type": "barpolar"
           }
          ],
          "carpet": [
           {
            "aaxis": {
             "endlinecolor": "#2a3f5f",
             "gridcolor": "white",
             "linecolor": "white",
             "minorgridcolor": "white",
             "startlinecolor": "#2a3f5f"
            },
            "baxis": {
             "endlinecolor": "#2a3f5f",
             "gridcolor": "white",
             "linecolor": "white",
             "minorgridcolor": "white",
             "startlinecolor": "#2a3f5f"
            },
            "type": "carpet"
           }
          ],
          "choropleth": [
           {
            "colorbar": {
             "outlinewidth": 0,
             "ticks": ""
            },
            "type": "choropleth"
           }
          ],
          "contour": [
           {
            "colorbar": {
             "outlinewidth": 0,
             "ticks": ""
            },
            "colorscale": [
             [
              0,
              "#0d0887"
             ],
             [
              0.1111111111111111,
              "#46039f"
             ],
             [
              0.2222222222222222,
              "#7201a8"
             ],
             [
              0.3333333333333333,
              "#9c179e"
             ],
             [
              0.4444444444444444,
              "#bd3786"
             ],
             [
              0.5555555555555556,
              "#d8576b"
             ],
             [
              0.6666666666666666,
              "#ed7953"
             ],
             [
              0.7777777777777778,
              "#fb9f3a"
             ],
             [
              0.8888888888888888,
              "#fdca26"
             ],
             [
              1,
              "#f0f921"
             ]
            ],
            "type": "contour"
           }
          ],
          "contourcarpet": [
           {
            "colorbar": {
             "outlinewidth": 0,
             "ticks": ""
            },
            "type": "contourcarpet"
           }
          ],
          "heatmap": [
           {
            "colorbar": {
             "outlinewidth": 0,
             "ticks": ""
            },
            "colorscale": [
             [
              0,
              "#0d0887"
             ],
             [
              0.1111111111111111,
              "#46039f"
             ],
             [
              0.2222222222222222,
              "#7201a8"
             ],
             [
              0.3333333333333333,
              "#9c179e"
             ],
             [
              0.4444444444444444,
              "#bd3786"
             ],
             [
              0.5555555555555556,
              "#d8576b"
             ],
             [
              0.6666666666666666,
              "#ed7953"
             ],
             [
              0.7777777777777778,
              "#fb9f3a"
             ],
             [
              0.8888888888888888,
              "#fdca26"
             ],
             [
              1,
              "#f0f921"
             ]
            ],
            "type": "heatmap"
           }
          ],
          "heatmapgl": [
           {
            "colorbar": {
             "outlinewidth": 0,
             "ticks": ""
            },
            "colorscale": [
             [
              0,
              "#0d0887"
             ],
             [
              0.1111111111111111,
              "#46039f"
             ],
             [
              0.2222222222222222,
              "#7201a8"
             ],
             [
              0.3333333333333333,
              "#9c179e"
             ],
             [
              0.4444444444444444,
              "#bd3786"
             ],
             [
              0.5555555555555556,
              "#d8576b"
             ],
             [
              0.6666666666666666,
              "#ed7953"
             ],
             [
              0.7777777777777778,
              "#fb9f3a"
             ],
             [
              0.8888888888888888,
              "#fdca26"
             ],
             [
              1,
              "#f0f921"
             ]
            ],
            "type": "heatmapgl"
           }
          ],
          "histogram": [
           {
            "marker": {
             "pattern": {
              "fillmode": "overlay",
              "size": 10,
              "solidity": 0.2
             }
            },
            "type": "histogram"
           }
          ],
          "histogram2d": [
           {
            "colorbar": {
             "outlinewidth": 0,
             "ticks": ""
            },
            "colorscale": [
             [
              0,
              "#0d0887"
             ],
             [
              0.1111111111111111,
              "#46039f"
             ],
             [
              0.2222222222222222,
              "#7201a8"
             ],
             [
              0.3333333333333333,
              "#9c179e"
             ],
             [
              0.4444444444444444,
              "#bd3786"
             ],
             [
              0.5555555555555556,
              "#d8576b"
             ],
             [
              0.6666666666666666,
              "#ed7953"
             ],
             [
              0.7777777777777778,
              "#fb9f3a"
             ],
             [
              0.8888888888888888,
              "#fdca26"
             ],
             [
              1,
              "#f0f921"
             ]
            ],
            "type": "histogram2d"
           }
          ],
          "histogram2dcontour": [
           {
            "colorbar": {
             "outlinewidth": 0,
             "ticks": ""
            },
            "colorscale": [
             [
              0,
              "#0d0887"
             ],
             [
              0.1111111111111111,
              "#46039f"
             ],
             [
              0.2222222222222222,
              "#7201a8"
             ],
             [
              0.3333333333333333,
              "#9c179e"
             ],
             [
              0.4444444444444444,
              "#bd3786"
             ],
             [
              0.5555555555555556,
              "#d8576b"
             ],
             [
              0.6666666666666666,
              "#ed7953"
             ],
             [
              0.7777777777777778,
              "#fb9f3a"
             ],
             [
              0.8888888888888888,
              "#fdca26"
             ],
             [
              1,
              "#f0f921"
             ]
            ],
            "type": "histogram2dcontour"
           }
          ],
          "mesh3d": [
           {
            "colorbar": {
             "outlinewidth": 0,
             "ticks": ""
            },
            "type": "mesh3d"
           }
          ],
          "parcoords": [
           {
            "line": {
             "colorbar": {
              "outlinewidth": 0,
              "ticks": ""
             }
            },
            "type": "parcoords"
           }
          ],
          "pie": [
           {
            "automargin": true,
            "type": "pie"
           }
          ],
          "scatter": [
           {
            "fillpattern": {
             "fillmode": "overlay",
             "size": 10,
             "solidity": 0.2
            },
            "type": "scatter"
           }
          ],
          "scatter3d": [
           {
            "line": {
             "colorbar": {
              "outlinewidth": 0,
              "ticks": ""
             }
            },
            "marker": {
             "colorbar": {
              "outlinewidth": 0,
              "ticks": ""
             }
            },
            "type": "scatter3d"
           }
          ],
          "scattercarpet": [
           {
            "marker": {
             "colorbar": {
              "outlinewidth": 0,
              "ticks": ""
             }
            },
            "type": "scattercarpet"
           }
          ],
          "scattergeo": [
           {
            "marker": {
             "colorbar": {
              "outlinewidth": 0,
              "ticks": ""
             }
            },
            "type": "scattergeo"
           }
          ],
          "scattergl": [
           {
            "marker": {
             "colorbar": {
              "outlinewidth": 0,
              "ticks": ""
             }
            },
            "type": "scattergl"
           }
          ],
          "scattermapbox": [
           {
            "marker": {
             "colorbar": {
              "outlinewidth": 0,
              "ticks": ""
             }
            },
            "type": "scattermapbox"
           }
          ],
          "scatterpolar": [
           {
            "marker": {
             "colorbar": {
              "outlinewidth": 0,
              "ticks": ""
             }
            },
            "type": "scatterpolar"
           }
          ],
          "scatterpolargl": [
           {
            "marker": {
             "colorbar": {
              "outlinewidth": 0,
              "ticks": ""
             }
            },
            "type": "scatterpolargl"
           }
          ],
          "scatterternary": [
           {
            "marker": {
             "colorbar": {
              "outlinewidth": 0,
              "ticks": ""
             }
            },
            "type": "scatterternary"
           }
          ],
          "surface": [
           {
            "colorbar": {
             "outlinewidth": 0,
             "ticks": ""
            },
            "colorscale": [
             [
              0,
              "#0d0887"
             ],
             [
              0.1111111111111111,
              "#46039f"
             ],
             [
              0.2222222222222222,
              "#7201a8"
             ],
             [
              0.3333333333333333,
              "#9c179e"
             ],
             [
              0.4444444444444444,
              "#bd3786"
             ],
             [
              0.5555555555555556,
              "#d8576b"
             ],
             [
              0.6666666666666666,
              "#ed7953"
             ],
             [
              0.7777777777777778,
              "#fb9f3a"
             ],
             [
              0.8888888888888888,
              "#fdca26"
             ],
             [
              1,
              "#f0f921"
             ]
            ],
            "type": "surface"
           }
          ],
          "table": [
           {
            "cells": {
             "fill": {
              "color": "#EBF0F8"
             },
             "line": {
              "color": "white"
             }
            },
            "header": {
             "fill": {
              "color": "#C8D4E3"
             },
             "line": {
              "color": "white"
             }
            },
            "type": "table"
           }
          ]
         },
         "layout": {
          "annotationdefaults": {
           "arrowcolor": "#2a3f5f",
           "arrowhead": 0,
           "arrowwidth": 1
          },
          "autotypenumbers": "strict",
          "coloraxis": {
           "colorbar": {
            "outlinewidth": 0,
            "ticks": ""
           }
          },
          "colorscale": {
           "diverging": [
            [
             0,
             "#8e0152"
            ],
            [
             0.1,
             "#c51b7d"
            ],
            [
             0.2,
             "#de77ae"
            ],
            [
             0.3,
             "#f1b6da"
            ],
            [
             0.4,
             "#fde0ef"
            ],
            [
             0.5,
             "#f7f7f7"
            ],
            [
             0.6,
             "#e6f5d0"
            ],
            [
             0.7,
             "#b8e186"
            ],
            [
             0.8,
             "#7fbc41"
            ],
            [
             0.9,
             "#4d9221"
            ],
            [
             1,
             "#276419"
            ]
           ],
           "sequential": [
            [
             0,
             "#0d0887"
            ],
            [
             0.1111111111111111,
             "#46039f"
            ],
            [
             0.2222222222222222,
             "#7201a8"
            ],
            [
             0.3333333333333333,
             "#9c179e"
            ],
            [
             0.4444444444444444,
             "#bd3786"
            ],
            [
             0.5555555555555556,
             "#d8576b"
            ],
            [
             0.6666666666666666,
             "#ed7953"
            ],
            [
             0.7777777777777778,
             "#fb9f3a"
            ],
            [
             0.8888888888888888,
             "#fdca26"
            ],
            [
             1,
             "#f0f921"
            ]
           ],
           "sequentialminus": [
            [
             0,
             "#0d0887"
            ],
            [
             0.1111111111111111,
             "#46039f"
            ],
            [
             0.2222222222222222,
             "#7201a8"
            ],
            [
             0.3333333333333333,
             "#9c179e"
            ],
            [
             0.4444444444444444,
             "#bd3786"
            ],
            [
             0.5555555555555556,
             "#d8576b"
            ],
            [
             0.6666666666666666,
             "#ed7953"
            ],
            [
             0.7777777777777778,
             "#fb9f3a"
            ],
            [
             0.8888888888888888,
             "#fdca26"
            ],
            [
             1,
             "#f0f921"
            ]
           ]
          },
          "colorway": [
           "#636efa",
           "#EF553B",
           "#00cc96",
           "#ab63fa",
           "#FFA15A",
           "#19d3f3",
           "#FF6692",
           "#B6E880",
           "#FF97FF",
           "#FECB52"
          ],
          "font": {
           "color": "#2a3f5f"
          },
          "geo": {
           "bgcolor": "white",
           "lakecolor": "white",
           "landcolor": "#E5ECF6",
           "showlakes": true,
           "showland": true,
           "subunitcolor": "white"
          },
          "hoverlabel": {
           "align": "left"
          },
          "hovermode": "closest",
          "mapbox": {
           "style": "light"
          },
          "paper_bgcolor": "white",
          "plot_bgcolor": "#E5ECF6",
          "polar": {
           "angularaxis": {
            "gridcolor": "white",
            "linecolor": "white",
            "ticks": ""
           },
           "bgcolor": "#E5ECF6",
           "radialaxis": {
            "gridcolor": "white",
            "linecolor": "white",
            "ticks": ""
           }
          },
          "scene": {
           "xaxis": {
            "backgroundcolor": "#E5ECF6",
            "gridcolor": "white",
            "gridwidth": 2,
            "linecolor": "white",
            "showbackground": true,
            "ticks": "",
            "zerolinecolor": "white"
           },
           "yaxis": {
            "backgroundcolor": "#E5ECF6",
            "gridcolor": "white",
            "gridwidth": 2,
            "linecolor": "white",
            "showbackground": true,
            "ticks": "",
            "zerolinecolor": "white"
           },
           "zaxis": {
            "backgroundcolor": "#E5ECF6",
            "gridcolor": "white",
            "gridwidth": 2,
            "linecolor": "white",
            "showbackground": true,
            "ticks": "",
            "zerolinecolor": "white"
           }
          },
          "shapedefaults": {
           "line": {
            "color": "#2a3f5f"
           }
          },
          "ternary": {
           "aaxis": {
            "gridcolor": "white",
            "linecolor": "white",
            "ticks": ""
           },
           "baxis": {
            "gridcolor": "white",
            "linecolor": "white",
            "ticks": ""
           },
           "bgcolor": "#E5ECF6",
           "caxis": {
            "gridcolor": "white",
            "linecolor": "white",
            "ticks": ""
           }
          },
          "title": {
           "x": 0.05
          },
          "xaxis": {
           "automargin": true,
           "gridcolor": "white",
           "linecolor": "white",
           "ticks": "",
           "title": {
            "standoff": 15
           },
           "zerolinecolor": "white",
           "zerolinewidth": 2
          },
          "yaxis": {
           "automargin": true,
           "gridcolor": "white",
           "linecolor": "white",
           "ticks": "",
           "title": {
            "standoff": 15
           },
           "zerolinecolor": "white",
           "zerolinewidth": 2
          }
         }
        },
        "title": {
         "text": "Observations with M: top summary of value 1 are indicated in red",
         "x": 0.5,
         "xanchor": "center",
         "yanchor": "top"
        },
        "xaxis": {
         "anchor": "y",
         "domain": [
          0,
          1
         ]
        },
        "xaxis2": {
         "anchor": "y2",
         "domain": [
          0,
          1
         ]
        },
        "xaxis3": {
         "anchor": "y3",
         "domain": [
          0,
          1
         ],
         "title": {
          "standoff": 0,
          "text": "number of observations"
         }
        },
        "yaxis": {
         "anchor": "x",
         "domain": [
          0.7777777777777778,
          1
         ]
        },
        "yaxis2": {
         "anchor": "x2",
         "domain": [
          0.3888888888888889,
          0.6111111111111112
         ]
        },
        "yaxis3": {
         "anchor": "x3",
         "domain": [
          0,
          0.22222222222222224
         ]
        }
       }
      }
     },
     "metadata": {},
     "output_type": "display_data"
    }
   ],
   "source": [
    "\n",
    "import plotly.graph_objects as go\n",
    "import plotly \n",
    "from plotly.subplots import make_subplots\n",
    "\n",
    "def plot_proportion(df, columns=None, classication='Loan_Status', label='Y', \n",
    "    barmode='stack', n_columns=1, height=200):\n",
    "    \"\"\"\n",
    "    Use Plotly to plot bar charts where data are normalized for each group. \n",
    "    Show different colours based on classification.\n",
    "    Arguments:\n",
    "    - df: Dataframe.\n",
    "    - columns (optional): Columns of dataframe containing the categorical variables to plot. \n",
    "        If blank, all categorical data will be plotted.\n",
    "    - classication: Provide name of colum containing binary classification values. \n",
    "        Data points classified as 1 will be in red.\n",
    "    - label (optional): Label of classification column. Default is 1.\n",
    "    - barmode ('stack', 'group', or 'overlay'; optional): How the different will be shown. Default is 'stack'.\n",
    "    - n_columns (optional): Number of columns in the figure. Default is 2.\n",
    "\n",
    "    \"\"\"\n",
    "    if columns == None:\n",
    "        columns = df.dtypes[df.dtypes == 'object'].index.tolist()\n",
    "    n_rows=round((len(columns)+.5)/n_columns) - 1\n",
    "    fig = make_subplots(\n",
    "        rows=n_rows+1, \n",
    "        cols=n_columns,subplot_titles=columns)\n",
    "    for i, feature in enumerate(columns):\n",
    "        pivot = df.fillna(0).replace('',0).pivot_table(\n",
    "            df.columns[-1], index=[classication], columns=[feature],aggfunc='count')\n",
    "        try:\n",
    "            zero_label = list(set(pivot.index)-set(label))[0] \n",
    "        except:\n",
    "            zero_label = list(set(pivot.index)-set([label]))[0] \n",
    "        pivot.index = pivot.index.fillna(zero_label)\n",
    "        zero = pivot.loc[zero_label,:]/pivot.sum()*100\n",
    "        yes = pivot.loc[label,:]/pivot.sum()*100\n",
    "        fig.add_trace(go.Bar(y=pivot.columns,  # Change x to y\n",
    "            x=zero,  # Change y to x\n",
    "            orientation='h',  # Add orientation\n",
    "            marker_color='blue',\n",
    "            opacity=0.5), \n",
    "            row=i//n_columns+1, col=i % n_columns + 1\n",
    "            )\n",
    "        fig.add_trace(go.Bar(y=pivot.columns,  # Change x to y\n",
    "            x=yes,  # Change y to x\n",
    "            orientation='h',  # Add orientation\n",
    "            marker_color='red',\n",
    "            opacity=0.5),\n",
    "            row=i//n_columns+1, col=i % n_columns + 1)\n",
    "    \n",
    "    title = f'Percentage with {classication} of value {label} by category (indicated in red).'\n",
    "    fig.update_layout(\n",
    "        barmode=barmode,\n",
    "        height=n_rows*height,\n",
    "        showlegend=False,\n",
    "        title = title,\n",
    "        title_x=0.5,\n",
    "        title_xanchor='center',\n",
    "        # title_y = .96,\n",
    "        title_yanchor = 'bottom',\n",
    "        # xaxis_title='% of Total',  # Add x-axis title\n",
    "        yaxis_title='',  # Remove y-axis title\n",
    "        )\n",
    "    fig.update_xaxes(title=dict(\n",
    "        standoff=0,\n",
    "        ),\n",
    "        title_text='% of Total',\n",
    "        row=n_rows\n",
    "    )\n",
    "    fig.show()\n",
    "\n",
    "def plot_int_bar(df, columns=None, classification=None, label=1, barmode='stack', n_columns=1):\n",
    "    \"\"\"\n",
    "    Use Plotly to plot multiple histograms using the specified columns of a dataframe.\n",
    "    Arguments:\n",
    "    - df: Dataframe.\n",
    "    - columns (optional): Columns of dataframe on which to create the histogram. If blank, all numeric data will be plotted.\n",
    "    - classification (optional): Provide name of colum containing binary classification values 0 and 1. \n",
    "        Data points classified as 1 will be in red.\n",
    "    - label (optional): Label of classification column. Default is 1.\n",
    "    - barmode ('stack', 'group', or 'overlay'; optional): How the different will be shown. Default is 'stack'.\n",
    "    - n_columns (optional): Number of columns in the figure. Default is 2.\n",
    "\n",
    "    \"\"\"\n",
    "    if columns == None:\n",
    "        columns = df.dtypes[df.dtypes != 'object'].index.tolist()\n",
    "    n_rows = (len(columns)-1) // n_columns + 1\n",
    "    fig = make_subplots(rows=n_rows, cols=n_columns, subplot_titles=columns)\n",
    "    for i, feature in enumerate(columns):\n",
    "        if classification:\n",
    "            zero = df[df[classification] != label]\n",
    "            one = df[df[classification] == label]\n",
    "            fig.add_trace(go.Histogram(y=zero[feature],\n",
    "                marker_color='blue',\n",
    "                orientation='h',\n",
    "                opacity=0.5), \n",
    "                row=i//n_columns+1, col=i % n_columns + 1\n",
    "                )\n",
    "            fig.add_trace(go.Histogram(y=one[feature],\n",
    "                marker_color='red',\n",
    "                orientation='h',\n",
    "                opacity=0.5),\n",
    "                row=i//n_columns+1, col=i % n_columns + 1)\n",
    "        else:\n",
    "            fig.add_trace(go.Histogram(x=df[feature]), \n",
    "            row=i//n_columns+1, col=i % n_columns + 1)\n",
    "    \n",
    "    if classification:\n",
    "        title = f'Observations with {classification} of value {label} are indicated in red'\n",
    "    else:\n",
    "        title = 'Value counts'\n",
    "    fig.update_layout(\n",
    "        showlegend=False,\n",
    "        barmode=barmode,\n",
    "        bargap=0.1,\n",
    "        title=title,\n",
    "        title_x=0.5,\n",
    "        title_xanchor='center',\n",
    "        # title_y=0.1,\n",
    "        title_yanchor='top'\n",
    "    )\n",
    "    fig.update_xaxes(title=dict(\n",
    "        standoff=0,\n",
    "        ),\n",
    "        title_text='number of observations',\n",
    "        row=n_rows\n",
    "    )\n",
    "    fig.show()\n",
    "\n",
    "\n",
    "\n",
    "\n",
    "task_columns = ['H: summarization task', 'Q: full simplify task', 'V: add relevance task']\n",
    "plot_proportion(df, columns= task_columns, classication='M: top summary', label='1');\n",
    "plot_int_bar(\n",
    "    df, columns= task_columns, classification='M: top summary', \n",
    "    label='1', barmode='group');\n"
   ]
  },
  {
   "attachments": {},
   "cell_type": "markdown",
   "metadata": {},
   "source": [
    "# Update `process_sheet`: Meeting threshold scores"
   ]
  },
  {
   "attachments": {},
   "cell_type": "markdown",
   "metadata": {},
   "source": [
    "## Iteration 1.1"
   ]
  },
  {
   "cell_type": "code",
   "execution_count": 53,
   "metadata": {},
   "outputs": [
    {
     "name": "stdout",
     "output_type": "stream",
     "text": [
      "('K: original summary content rating', 'L: original summary language rating')\n",
      "('S: simple summary content rating', 'T: simple summary language rating')\n",
      "('Y: added relevance content rating', 'Z: added relevance language rating')\n",
      "('AE: added relevance content rating', 'AF: added relevance language rating')\n"
     ]
    }
   ],
   "source": [
    "def meet_standard(df, column_pairs=1):\n",
    "    if type(column_pairs) == int:\n",
    "        content_ratings_columns = df.columns[df.columns.str.contains('content rating')]\n",
    "        language_ratings_columns = df.columns[df.columns.str.contains('language rating')]\n",
    "        column_pairs = [\n",
    "            (content_rating, language_rating) for content_rating, language_rating in (zip(\n",
    "            content_ratings_columns, language_ratings_columns))\n",
    "            ]\n",
    "    for pair in column_pairs:\n",
    "        print(pair)\n",
    "\n",
    "\n",
    "\n",
    "meet_standard(df)\n"
   ]
  },
  {
   "attachments": {},
   "cell_type": "markdown",
   "metadata": {},
   "source": [
    "## 1.2"
   ]
  },
  {
   "cell_type": "code",
   "execution_count": 62,
   "metadata": {},
   "outputs": [
    {
     "ename": "ValueError",
     "evalue": "The truth value of a Series is ambiguous. Use a.empty, a.bool(), a.item(), a.any() or a.all().",
     "output_type": "error",
     "traceback": [
      "\u001b[1;31m---------------------------------------------------------------------------\u001b[0m",
      "\u001b[1;31mValueError\u001b[0m                                Traceback (most recent call last)",
      "\u001b[1;32mc:\\Users\\silvh\\OneDrive\\lighthouse\\Ginkgo coding\\content-summarization\\notebooks\\2023-04-27 prompt ratings analysis.ipynb Cell 40\u001b[0m in \u001b[0;36m2\n\u001b[0;32m     <a href='vscode-notebook-cell:/c%3A/Users/silvh/OneDrive/lighthouse/Ginkgo%20coding/content-summarization/notebooks/2023-04-27%20prompt%20ratings%20analysis.ipynb#X50sZmlsZQ%3D%3D?line=19'>20</a>\u001b[0m             df[standard_column] \u001b[39m=\u001b[39m \u001b[39m0\u001b[39m\n\u001b[0;32m     <a href='vscode-notebook-cell:/c%3A/Users/silvh/OneDrive/lighthouse/Ginkgo%20coding/content-summarization/notebooks/2023-04-27%20prompt%20ratings%20analysis.ipynb#X50sZmlsZQ%3D%3D?line=23'>24</a>\u001b[0m     \u001b[39mreturn\u001b[39;00m df\n\u001b[1;32m---> <a href='vscode-notebook-cell:/c%3A/Users/silvh/OneDrive/lighthouse/Ginkgo%20coding/content-summarization/notebooks/2023-04-27%20prompt%20ratings%20analysis.ipynb#X50sZmlsZQ%3D%3D?line=27'>28</a>\u001b[0m meet_standard(df\u001b[39m.\u001b[39;49mhead())\n",
      "\u001b[1;32mc:\\Users\\silvh\\OneDrive\\lighthouse\\Ginkgo coding\\content-summarization\\notebooks\\2023-04-27 prompt ratings analysis.ipynb Cell 40\u001b[0m in \u001b[0;36m1\n\u001b[0;32m     <a href='vscode-notebook-cell:/c%3A/Users/silvh/OneDrive/lighthouse/Ginkgo%20coding/content-summarization/notebooks/2023-04-27%20prompt%20ratings%20analysis.ipynb#X50sZmlsZQ%3D%3D?line=9'>10</a>\u001b[0m column_groups \u001b[39m=\u001b[39m [(\n\u001b[0;32m     <a href='vscode-notebook-cell:/c%3A/Users/silvh/OneDrive/lighthouse/Ginkgo%20coding/content-summarization/notebooks/2023-04-27%20prompt%20ratings%20analysis.ipynb#X50sZmlsZQ%3D%3D?line=10'>11</a>\u001b[0m     name, content_rating, language_rating\n\u001b[0;32m     <a href='vscode-notebook-cell:/c%3A/Users/silvh/OneDrive/lighthouse/Ginkgo%20coding/content-summarization/notebooks/2023-04-27%20prompt%20ratings%20analysis.ipynb#X50sZmlsZQ%3D%3D?line=11'>12</a>\u001b[0m     ) \u001b[39mfor\u001b[39;00m name, content_rating, language_rating \u001b[39min\u001b[39;00m (\u001b[39mzip\u001b[39m(\n\u001b[0;32m     <a href='vscode-notebook-cell:/c%3A/Users/silvh/OneDrive/lighthouse/Ginkgo%20coding/content-summarization/notebooks/2023-04-27%20prompt%20ratings%20analysis.ipynb#X50sZmlsZQ%3D%3D?line=12'>13</a>\u001b[0m     new_column_names, content_ratings_columns, language_ratings_columns))\n\u001b[0;32m     <a href='vscode-notebook-cell:/c%3A/Users/silvh/OneDrive/lighthouse/Ginkgo%20coding/content-summarization/notebooks/2023-04-27%20prompt%20ratings%20analysis.ipynb#X50sZmlsZQ%3D%3D?line=13'>14</a>\u001b[0m     ]\n\u001b[0;32m     <a href='vscode-notebook-cell:/c%3A/Users/silvh/OneDrive/lighthouse/Ginkgo%20coding/content-summarization/notebooks/2023-04-27%20prompt%20ratings%20analysis.ipynb#X50sZmlsZQ%3D%3D?line=14'>15</a>\u001b[0m \u001b[39mfor\u001b[39;00m standard_column, content_rating, language_rating  \u001b[39min\u001b[39;00m column_groups:\n\u001b[0;32m     <a href='vscode-notebook-cell:/c%3A/Users/silvh/OneDrive/lighthouse/Ginkgo%20coding/content-summarization/notebooks/2023-04-27%20prompt%20ratings%20analysis.ipynb#X50sZmlsZQ%3D%3D?line=15'>16</a>\u001b[0m     \u001b[39m# print(column, content_rating, language_rating)\u001b[39;00m\n\u001b[1;32m---> <a href='vscode-notebook-cell:/c%3A/Users/silvh/OneDrive/lighthouse/Ginkgo%20coding/content-summarization/notebooks/2023-04-27%20prompt%20ratings%20analysis.ipynb#X50sZmlsZQ%3D%3D?line=16'>17</a>\u001b[0m     \u001b[39mif\u001b[39;00m (df[content_rating] \u001b[39m>\u001b[39m\u001b[39m=\u001b[39m content_standard) \u001b[39m&\u001b[39m (df[language_rating] \u001b[39m>\u001b[39m\u001b[39m=\u001b[39m language_standard):\n\u001b[0;32m     <a href='vscode-notebook-cell:/c%3A/Users/silvh/OneDrive/lighthouse/Ginkgo%20coding/content-summarization/notebooks/2023-04-27%20prompt%20ratings%20analysis.ipynb#X50sZmlsZQ%3D%3D?line=17'>18</a>\u001b[0m         df[standard_column] \u001b[39m=\u001b[39m \u001b[39m1\u001b[39m\n\u001b[0;32m     <a href='vscode-notebook-cell:/c%3A/Users/silvh/OneDrive/lighthouse/Ginkgo%20coding/content-summarization/notebooks/2023-04-27%20prompt%20ratings%20analysis.ipynb#X50sZmlsZQ%3D%3D?line=18'>19</a>\u001b[0m     \u001b[39melse\u001b[39;00m:\n",
      "File \u001b[1;32m~\\AppData\\Roaming\\Python\\Python39\\site-packages\\pandas\\core\\generic.py:1526\u001b[0m, in \u001b[0;36mNDFrame.__nonzero__\u001b[1;34m(self)\u001b[0m\n\u001b[0;32m   1524\u001b[0m \u001b[39m@final\u001b[39m\n\u001b[0;32m   1525\u001b[0m \u001b[39mdef\u001b[39;00m \u001b[39m__nonzero__\u001b[39m(\u001b[39mself\u001b[39m) \u001b[39m-\u001b[39m\u001b[39m>\u001b[39m NoReturn:\n\u001b[1;32m-> 1526\u001b[0m     \u001b[39mraise\u001b[39;00m \u001b[39mValueError\u001b[39;00m(\n\u001b[0;32m   1527\u001b[0m         \u001b[39mf\u001b[39m\u001b[39m\"\u001b[39m\u001b[39mThe truth value of a \u001b[39m\u001b[39m{\u001b[39;00m\u001b[39mtype\u001b[39m(\u001b[39mself\u001b[39m)\u001b[39m.\u001b[39m\u001b[39m__name__\u001b[39m\u001b[39m}\u001b[39;00m\u001b[39m is ambiguous. \u001b[39m\u001b[39m\"\u001b[39m\n\u001b[0;32m   1528\u001b[0m         \u001b[39m\"\u001b[39m\u001b[39mUse a.empty, a.bool(), a.item(), a.any() or a.all().\u001b[39m\u001b[39m\"\u001b[39m\n\u001b[0;32m   1529\u001b[0m     )\n",
      "\u001b[1;31mValueError\u001b[0m: The truth value of a Series is ambiguous. Use a.empty, a.bool(), a.item(), a.any() or a.all()."
     ]
    }
   ],
   "source": [
    "import re\n",
    "\n",
    "def evaluate(df):\n",
    "\n",
    "def meet_standard(df, content_standard=4, language_standard=4, column_pairs=None):\n",
    "    if column_pairs == None:\n",
    "        content_ratings_columns = df.columns[df.columns.str.contains('content rating')]\n",
    "        language_ratings_columns = df.columns[df.columns.str.contains('language rating')]\n",
    "    new_column_names = [\n",
    "        re.sub(r'content rating', 'meets standard', column) for column in content_ratings_columns]\n",
    "    column_groups = [(\n",
    "        name, content_rating, language_rating\n",
    "        ) for name, content_rating, language_rating in (zip(\n",
    "        new_column_names, content_ratings_columns, language_ratings_columns))\n",
    "        ]\n",
    "    for standard_column, content_rating, language_rating  in column_groups:\n",
    "        # print(column, content_rating, language_rating)\n",
    "        if (df[content_rating] >= content_standard) & (df[language_rating] >= language_standard):\n",
    "            df[standard_column] = 1\n",
    "        else:\n",
    "            df[standard_column] = 0\n",
    "        \n",
    "        \n",
    "\n",
    "    return df\n",
    "\n",
    "\n",
    "\n",
    "meet_standard(df.head())\n"
   ]
  },
  {
   "attachments": {},
   "cell_type": "markdown",
   "metadata": {},
   "source": [
    "## 1.3"
   ]
  },
  {
   "cell_type": "code",
   "execution_count": 94,
   "metadata": {},
   "outputs": [
    {
     "name": "stdout",
     "output_type": "stream",
     "text": [
      "Ratings columns (n=12): ['K: original summary content rating', 'L: original summary language rating', 'M: top summary', 'S: simple summary content rating', 'T: simple summary language rating', 'U: top simple summary', 'Y: added relevance content rating', 'Z: added relevance language rating', 'AA: top added relevance statement', 'AE: added relevance content rating', 'AF: added relevance language rating', 'AG: top added relevance statement']\n",
      "Ratings columns (n=12): ['K: original summary content rating', 'L: original summary language rating', 'M: top summary', 'S: simple summary content rating', 'T: simple summary language rating', 'U: top simple summary', 'Y: added relevance content rating', 'Z: added relevance language rating', 'AA: top added relevance statement', 'AE: added relevance content rating', 'AF: added relevance language rating', 'AG: top added relevance statement']\n",
      "String columns (n=22): ['A: date added', 'B: article', 'C: choice # for given prompt', 'D: system_role', 'E: model', 'F: text', 'G: prep_step', 'H: summarization task', 'I: full summarization task', 'J: original summary', 'N: simple summary choice', 'O: simplify audience', 'P: simplify task', 'Q: full simplify task', 'R: simple summary', 'V: add relevance task', 'W: full add relevance task: athletes', 'X: added relevance: athletes', 'AB: add relevance task', 'AC: full add relevance task: older adults', 'AD: added relevance: older adults', 'AH: Column 33']\n",
      "White spaces stripped at start and end of strings\n"
     ]
    }
   ],
   "source": [
    "import re\n",
    "def evaluate_standard(df, column_groups, content_standard, language_standard):\n",
    "    for standard_column, content_rating, language_rating  in column_groups:\n",
    "        if (df[content_rating] >= content_standard) & (df[language_rating] >= language_standard):\n",
    "            df[standard_column] = 1\n",
    "        else:\n",
    "            df[standard_column] = 0\n",
    "    return df\n",
    "\n",
    "def process_sheet(df, content_standard=4, language_standard=4, column_pairs=None):\n",
    "\n",
    "    spreadsheet_columns = [letter for letter in string.ascii_uppercase]+['A'+letter for letter in string.ascii_uppercase]\n",
    "    processed_df = df.copy()\n",
    "    processed_df.columns = [f'{spreadsheet_columns[index]}: {column}' for index, column in enumerate(processed_df.columns)]\n",
    "\n",
    "    # Extract the numbers from ratings\n",
    "    ratings_columns = [column for column in processed_df.columns if ('rating' in column) | ('top' in column)]\n",
    "    print(f'Ratings columns (n={len(ratings_columns)}):', ratings_columns)\n",
    "    processed_df[ratings_columns] = processed_df[ratings_columns].apply(\n",
    "        lambda x: x.str.extract(r'(\\d+)', expand=False))\n",
    "    processed_df[ratings_columns] = processed_df[ratings_columns].apply(pd.to_numeric, errors='coerce')\n",
    "    # processed_df[ratings_columns] = processed_df[ratings_columns].astype('Int64')\n",
    "    print(f'Ratings columns (n={len(processed_df[ratings_columns].columns)}): {[column for column in processed_df[ratings_columns].columns]}')\n",
    "\n",
    "    # Strip white spaces at start and end of strings\n",
    "    str_cols = processed_df.select_dtypes(include=['object']).columns\n",
    "    print(f'String columns (n={len(str_cols)}): {[column for column in str_cols]}')\n",
    "    processed_df[str_cols] = processed_df[str_cols].apply(lambda x: x.str.strip())\n",
    "    print('White spaces stripped at start and end of strings')\n",
    "\n",
    "\n",
    "    if column_pairs == None:\n",
    "        content_ratings_columns = processed_df.columns[processed_df.columns.str.contains('content rating')]\n",
    "        language_ratings_columns = processed_df.columns[processed_df.columns.str.contains('language rating')]\n",
    "    new_column_names = [\n",
    "        re.sub(r'content rating', 'ratings meet standard', column) for column in content_ratings_columns]\n",
    "    column_groups = [(\n",
    "        name, content_rating, language_rating\n",
    "        ) for name, content_rating, language_rating in (zip(\n",
    "        new_column_names, content_ratings_columns, language_ratings_columns))\n",
    "        ]\n",
    "    processed_df = processed_df.apply(\n",
    "        evaluate_standard, args=(column_groups,  content_standard, language_standard), axis=1)\n",
    "    \n",
    "    return processed_df\n",
    "\n",
    "\n",
    "df = process_sheet(data)\n",
    "df['Q: full simplify task'].replace('','Use terms a 12-year-old can understand.', inplace=True)\n",
    "\n"
   ]
  },
  {
   "attachments": {},
   "cell_type": "markdown",
   "metadata": {},
   "source": [
    "### Save processed df"
   ]
  },
  {
   "cell_type": "code",
   "execution_count": 109,
   "metadata": {},
   "outputs": [
    {
     "name": "stdout",
     "output_type": "stream",
     "text": [
      "File saved:  C:/Users/silvh/OneDrive/lighthouse/Ginkgo coding/content-summarization/output/pickles/prompt chain results Google Sheet processed_2023-04-28_1350.sav\n",
      "Time completed: 2023-04-28 13:50:53.332996\n",
      "\tObject saved as pickle\n"
     ]
    }
   ],
   "source": [
    "description = 'prompt chain results Google Sheet processed'\n",
    "save_output(df, description=description, pickle_path=pickle_path, csv_path=None)"
   ]
  },
  {
   "cell_type": "code",
   "execution_count": 87,
   "metadata": {},
   "outputs": [
    {
     "data": {
      "text/html": [
       "<div>\n",
       "<style scoped>\n",
       "    .dataframe tbody tr th:only-of-type {\n",
       "        vertical-align: middle;\n",
       "    }\n",
       "\n",
       "    .dataframe tbody tr th {\n",
       "        vertical-align: top;\n",
       "    }\n",
       "\n",
       "    .dataframe thead th {\n",
       "        text-align: right;\n",
       "    }\n",
       "</style>\n",
       "<table border=\"1\" class=\"dataframe\">\n",
       "  <thead>\n",
       "    <tr style=\"text-align: right;\">\n",
       "      <th></th>\n",
       "      <th>K: original summary content rating</th>\n",
       "      <th>L: original summary language rating</th>\n",
       "      <th>S: simple summary content rating</th>\n",
       "      <th>T: simple summary language rating</th>\n",
       "      <th>Y: added relevance content rating</th>\n",
       "      <th>Z: added relevance language rating</th>\n",
       "      <th>AE: added relevance content rating</th>\n",
       "      <th>AF: added relevance language rating</th>\n",
       "      <th>K: original summary ratings meet standard</th>\n",
       "      <th>S: simple summary ratings meet standard</th>\n",
       "      <th>Y: added relevance ratings meet standard</th>\n",
       "      <th>AE: added relevance ratings meet standard</th>\n",
       "    </tr>\n",
       "  </thead>\n",
       "  <tbody>\n",
       "    <tr>\n",
       "      <th>0</th>\n",
       "      <td>1.0</td>\n",
       "      <td>4.0</td>\n",
       "      <td>1.0</td>\n",
       "      <td>1.0</td>\n",
       "      <td>NaN</td>\n",
       "      <td>NaN</td>\n",
       "      <td>NaN</td>\n",
       "      <td>NaN</td>\n",
       "      <td>0</td>\n",
       "      <td>0</td>\n",
       "      <td>0</td>\n",
       "      <td>0</td>\n",
       "    </tr>\n",
       "    <tr>\n",
       "      <th>1</th>\n",
       "      <td>1.0</td>\n",
       "      <td>4.0</td>\n",
       "      <td>1.0</td>\n",
       "      <td>1.0</td>\n",
       "      <td>NaN</td>\n",
       "      <td>NaN</td>\n",
       "      <td>NaN</td>\n",
       "      <td>NaN</td>\n",
       "      <td>0</td>\n",
       "      <td>0</td>\n",
       "      <td>0</td>\n",
       "      <td>0</td>\n",
       "    </tr>\n",
       "    <tr>\n",
       "      <th>2</th>\n",
       "      <td>3.0</td>\n",
       "      <td>4.0</td>\n",
       "      <td>3.0</td>\n",
       "      <td>1.0</td>\n",
       "      <td>NaN</td>\n",
       "      <td>NaN</td>\n",
       "      <td>NaN</td>\n",
       "      <td>NaN</td>\n",
       "      <td>0</td>\n",
       "      <td>0</td>\n",
       "      <td>0</td>\n",
       "      <td>0</td>\n",
       "    </tr>\n",
       "    <tr>\n",
       "      <th>3</th>\n",
       "      <td>3.0</td>\n",
       "      <td>4.0</td>\n",
       "      <td>3.0</td>\n",
       "      <td>1.0</td>\n",
       "      <td>4.0</td>\n",
       "      <td>4.0</td>\n",
       "      <td>4.0</td>\n",
       "      <td>4.0</td>\n",
       "      <td>0</td>\n",
       "      <td>0</td>\n",
       "      <td>1</td>\n",
       "      <td>1</td>\n",
       "    </tr>\n",
       "    <tr>\n",
       "      <th>4</th>\n",
       "      <td>1.0</td>\n",
       "      <td>4.0</td>\n",
       "      <td>1.0</td>\n",
       "      <td>1.0</td>\n",
       "      <td>NaN</td>\n",
       "      <td>NaN</td>\n",
       "      <td>NaN</td>\n",
       "      <td>NaN</td>\n",
       "      <td>0</td>\n",
       "      <td>0</td>\n",
       "      <td>0</td>\n",
       "      <td>0</td>\n",
       "    </tr>\n",
       "    <tr>\n",
       "      <th>...</th>\n",
       "      <td>...</td>\n",
       "      <td>...</td>\n",
       "      <td>...</td>\n",
       "      <td>...</td>\n",
       "      <td>...</td>\n",
       "      <td>...</td>\n",
       "      <td>...</td>\n",
       "      <td>...</td>\n",
       "      <td>...</td>\n",
       "      <td>...</td>\n",
       "      <td>...</td>\n",
       "      <td>...</td>\n",
       "    </tr>\n",
       "    <tr>\n",
       "      <th>124</th>\n",
       "      <td>3.0</td>\n",
       "      <td>3.0</td>\n",
       "      <td>3.0</td>\n",
       "      <td>3.0</td>\n",
       "      <td>4.0</td>\n",
       "      <td>4.0</td>\n",
       "      <td>3.0</td>\n",
       "      <td>4.0</td>\n",
       "      <td>0</td>\n",
       "      <td>0</td>\n",
       "      <td>1</td>\n",
       "      <td>0</td>\n",
       "    </tr>\n",
       "    <tr>\n",
       "      <th>125</th>\n",
       "      <td>0.0</td>\n",
       "      <td>3.0</td>\n",
       "      <td>0.0</td>\n",
       "      <td>4.0</td>\n",
       "      <td>4.0</td>\n",
       "      <td>4.0</td>\n",
       "      <td>2.0</td>\n",
       "      <td>3.0</td>\n",
       "      <td>0</td>\n",
       "      <td>0</td>\n",
       "      <td>1</td>\n",
       "      <td>0</td>\n",
       "    </tr>\n",
       "    <tr>\n",
       "      <th>126</th>\n",
       "      <td>2.0</td>\n",
       "      <td>3.0</td>\n",
       "      <td>3.0</td>\n",
       "      <td>2.0</td>\n",
       "      <td>2.0</td>\n",
       "      <td>3.0</td>\n",
       "      <td>3.0</td>\n",
       "      <td>3.0</td>\n",
       "      <td>0</td>\n",
       "      <td>0</td>\n",
       "      <td>0</td>\n",
       "      <td>0</td>\n",
       "    </tr>\n",
       "    <tr>\n",
       "      <th>127</th>\n",
       "      <td>4.0</td>\n",
       "      <td>4.0</td>\n",
       "      <td>4.0</td>\n",
       "      <td>4.0</td>\n",
       "      <td>2.0</td>\n",
       "      <td>3.0</td>\n",
       "      <td>3.0</td>\n",
       "      <td>2.0</td>\n",
       "      <td>1</td>\n",
       "      <td>1</td>\n",
       "      <td>0</td>\n",
       "      <td>0</td>\n",
       "    </tr>\n",
       "    <tr>\n",
       "      <th>128</th>\n",
       "      <td>4.0</td>\n",
       "      <td>3.0</td>\n",
       "      <td>1.0</td>\n",
       "      <td>2.0</td>\n",
       "      <td>2.0</td>\n",
       "      <td>3.0</td>\n",
       "      <td>3.0</td>\n",
       "      <td>3.0</td>\n",
       "      <td>0</td>\n",
       "      <td>0</td>\n",
       "      <td>0</td>\n",
       "      <td>0</td>\n",
       "    </tr>\n",
       "  </tbody>\n",
       "</table>\n",
       "<p>129 rows × 12 columns</p>\n",
       "</div>"
      ],
      "text/plain": [
       "     K: original summary content rating  L: original summary language rating  \\\n",
       "0          1.0                                 4.0                             \n",
       "1          1.0                                 4.0                             \n",
       "2          3.0                                 4.0                             \n",
       "3          3.0                                 4.0                             \n",
       "4          1.0                                 4.0                             \n",
       "..         ...                                 ...                             \n",
       "124        3.0                                 3.0                             \n",
       "125        0.0                                 3.0                             \n",
       "126        2.0                                 3.0                             \n",
       "127        4.0                                 4.0                             \n",
       "128        4.0                                 3.0                             \n",
       "\n",
       "     S: simple summary content rating  T: simple summary language rating  \\\n",
       "0          1.0                               1.0                           \n",
       "1          1.0                               1.0                           \n",
       "2          3.0                               1.0                           \n",
       "3          3.0                               1.0                           \n",
       "4          1.0                               1.0                           \n",
       "..         ...                               ...                           \n",
       "124        3.0                               3.0                           \n",
       "125        0.0                               4.0                           \n",
       "126        3.0                               2.0                           \n",
       "127        4.0                               4.0                           \n",
       "128        1.0                               2.0                           \n",
       "\n",
       "     Y: added relevance content rating  Z: added relevance language rating  \\\n",
       "0          NaN                                NaN                            \n",
       "1          NaN                                NaN                            \n",
       "2          NaN                                NaN                            \n",
       "3          4.0                                4.0                            \n",
       "4          NaN                                NaN                            \n",
       "..         ...                                ...                            \n",
       "124        4.0                                4.0                            \n",
       "125        4.0                                4.0                            \n",
       "126        2.0                                3.0                            \n",
       "127        2.0                                3.0                            \n",
       "128        2.0                                3.0                            \n",
       "\n",
       "     AE: added relevance content rating  AF: added relevance language rating  \\\n",
       "0          NaN                                 NaN                             \n",
       "1          NaN                                 NaN                             \n",
       "2          NaN                                 NaN                             \n",
       "3          4.0                                 4.0                             \n",
       "4          NaN                                 NaN                             \n",
       "..         ...                                 ...                             \n",
       "124        3.0                                 4.0                             \n",
       "125        2.0                                 3.0                             \n",
       "126        3.0                                 3.0                             \n",
       "127        3.0                                 2.0                             \n",
       "128        3.0                                 3.0                             \n",
       "\n",
       "     K: original summary ratings meet standard  \\\n",
       "0            0                                   \n",
       "1            0                                   \n",
       "2            0                                   \n",
       "3            0                                   \n",
       "4            0                                   \n",
       "..         ...                                   \n",
       "124          0                                   \n",
       "125          0                                   \n",
       "126          0                                   \n",
       "127          1                                   \n",
       "128          0                                   \n",
       "\n",
       "     S: simple summary ratings meet standard  \\\n",
       "0            0                                 \n",
       "1            0                                 \n",
       "2            0                                 \n",
       "3            0                                 \n",
       "4            0                                 \n",
       "..         ...                                 \n",
       "124          0                                 \n",
       "125          0                                 \n",
       "126          0                                 \n",
       "127          1                                 \n",
       "128          0                                 \n",
       "\n",
       "     Y: added relevance ratings meet standard  \\\n",
       "0            0                                  \n",
       "1            0                                  \n",
       "2            0                                  \n",
       "3            1                                  \n",
       "4            0                                  \n",
       "..         ...                                  \n",
       "124          1                                  \n",
       "125          1                                  \n",
       "126          0                                  \n",
       "127          0                                  \n",
       "128          0                                  \n",
       "\n",
       "     AE: added relevance ratings meet standard  \n",
       "0            0                                  \n",
       "1            0                                  \n",
       "2            0                                  \n",
       "3            1                                  \n",
       "4            0                                  \n",
       "..         ...                                  \n",
       "124          0                                  \n",
       "125          0                                  \n",
       "126          0                                  \n",
       "127          0                                  \n",
       "128          0                                  \n",
       "\n",
       "[129 rows x 12 columns]"
      ]
     },
     "execution_count": 87,
     "metadata": {},
     "output_type": "execute_result"
    }
   ],
   "source": [
    "df.filter(regex='rating')"
   ]
  },
  {
   "cell_type": "code",
   "execution_count": 97,
   "metadata": {},
   "outputs": [
    {
     "data": {
      "text/plain": [
       "dtype('float64')"
      ]
     },
     "execution_count": 97,
     "metadata": {},
     "output_type": "execute_result"
    }
   ],
   "source": [
    "df['M: top summary'].dtypes"
   ]
  },
  {
   "cell_type": "code",
   "execution_count": 89,
   "metadata": {},
   "outputs": [
    {
     "data": {
      "application/vnd.plotly.v1+json": {
       "config": {
        "plotlyServerURL": "https://plot.ly"
       },
       "data": [
        {
         "marker": {
          "color": "blue"
         },
         "opacity": 0.5,
         "orientation": "h",
         "type": "bar",
         "x": [
          83.5820895522388,
          82.45614035087719,
          100
         ],
         "xaxis": "x",
         "y": [
          "Describe the interesting points to your coworker at the water cooler",
          "Summarize for a LinkedIn post",
          "Summarize in an engaging way"
         ],
         "yaxis": "y"
        },
        {
         "marker": {
          "color": "red"
         },
         "opacity": 0.5,
         "orientation": "h",
         "type": "bar",
         "x": [
          16.417910447761194,
          17.543859649122805,
          null
         ],
         "xaxis": "x",
         "y": [
          "Describe the interesting points to your coworker at the water cooler",
          "Summarize for a LinkedIn post",
          "Summarize in an engaging way"
         ],
         "yaxis": "y"
        },
        {
         "marker": {
          "color": "blue"
         },
         "opacity": 0.5,
         "orientation": "h",
         "type": "bar",
         "x": [
          75,
          94.54545454545455,
          75.92592592592592
         ],
         "xaxis": "x2",
         "y": [
          "Use language appropriate for for a lay audience",
          "Use language appropriate for for people without a science background",
          "Use terms a 12-year-old can understand."
         ],
         "yaxis": "y2"
        },
        {
         "marker": {
          "color": "red"
         },
         "opacity": 0.5,
         "orientation": "h",
         "type": "bar",
         "x": [
          25,
          5.454545454545454,
          24.074074074074073
         ],
         "xaxis": "x2",
         "y": [
          "Use language appropriate for for a lay audience",
          "Use language appropriate for for people without a science background",
          "Use terms a 12-year-old can understand."
         ],
         "yaxis": "y2"
        },
        {
         "marker": {
          "color": "blue"
         },
         "opacity": 0.5,
         "orientation": "h",
         "type": "bar",
         "x": [
          80.85106382978722,
          91.42857142857143
         ],
         "xaxis": "x3",
         "y": [
          "Add 1-2 sentences to make this relevant for",
          "Write this so it is relevant for"
         ],
         "yaxis": "y3"
        },
        {
         "marker": {
          "color": "red"
         },
         "opacity": 0.5,
         "orientation": "h",
         "type": "bar",
         "x": [
          19.148936170212767,
          8.571428571428571
         ],
         "xaxis": "x3",
         "y": [
          "Add 1-2 sentences to make this relevant for",
          "Write this so it is relevant for"
         ],
         "yaxis": "y3"
        }
       ],
       "layout": {
        "annotations": [
         {
          "font": {
           "size": 16
          },
          "showarrow": false,
          "text": "H: summarization task",
          "x": 0.5,
          "xanchor": "center",
          "xref": "paper",
          "y": 1,
          "yanchor": "bottom",
          "yref": "paper"
         },
         {
          "font": {
           "size": 16
          },
          "showarrow": false,
          "text": "Q: full simplify task",
          "x": 0.5,
          "xanchor": "center",
          "xref": "paper",
          "y": 0.71875,
          "yanchor": "bottom",
          "yref": "paper"
         },
         {
          "font": {
           "size": 16
          },
          "showarrow": false,
          "text": "V: add relevance task",
          "x": 0.5,
          "xanchor": "center",
          "xref": "paper",
          "y": 0.4375,
          "yanchor": "bottom",
          "yref": "paper"
         }
        ],
        "barmode": "stack",
        "height": 600,
        "showlegend": false,
        "template": {
         "data": {
          "bar": [
           {
            "error_x": {
             "color": "#2a3f5f"
            },
            "error_y": {
             "color": "#2a3f5f"
            },
            "marker": {
             "line": {
              "color": "#E5ECF6",
              "width": 0.5
             },
             "pattern": {
              "fillmode": "overlay",
              "size": 10,
              "solidity": 0.2
             }
            },
            "type": "bar"
           }
          ],
          "barpolar": [
           {
            "marker": {
             "line": {
              "color": "#E5ECF6",
              "width": 0.5
             },
             "pattern": {
              "fillmode": "overlay",
              "size": 10,
              "solidity": 0.2
             }
            },
            "type": "barpolar"
           }
          ],
          "carpet": [
           {
            "aaxis": {
             "endlinecolor": "#2a3f5f",
             "gridcolor": "white",
             "linecolor": "white",
             "minorgridcolor": "white",
             "startlinecolor": "#2a3f5f"
            },
            "baxis": {
             "endlinecolor": "#2a3f5f",
             "gridcolor": "white",
             "linecolor": "white",
             "minorgridcolor": "white",
             "startlinecolor": "#2a3f5f"
            },
            "type": "carpet"
           }
          ],
          "choropleth": [
           {
            "colorbar": {
             "outlinewidth": 0,
             "ticks": ""
            },
            "type": "choropleth"
           }
          ],
          "contour": [
           {
            "colorbar": {
             "outlinewidth": 0,
             "ticks": ""
            },
            "colorscale": [
             [
              0,
              "#0d0887"
             ],
             [
              0.1111111111111111,
              "#46039f"
             ],
             [
              0.2222222222222222,
              "#7201a8"
             ],
             [
              0.3333333333333333,
              "#9c179e"
             ],
             [
              0.4444444444444444,
              "#bd3786"
             ],
             [
              0.5555555555555556,
              "#d8576b"
             ],
             [
              0.6666666666666666,
              "#ed7953"
             ],
             [
              0.7777777777777778,
              "#fb9f3a"
             ],
             [
              0.8888888888888888,
              "#fdca26"
             ],
             [
              1,
              "#f0f921"
             ]
            ],
            "type": "contour"
           }
          ],
          "contourcarpet": [
           {
            "colorbar": {
             "outlinewidth": 0,
             "ticks": ""
            },
            "type": "contourcarpet"
           }
          ],
          "heatmap": [
           {
            "colorbar": {
             "outlinewidth": 0,
             "ticks": ""
            },
            "colorscale": [
             [
              0,
              "#0d0887"
             ],
             [
              0.1111111111111111,
              "#46039f"
             ],
             [
              0.2222222222222222,
              "#7201a8"
             ],
             [
              0.3333333333333333,
              "#9c179e"
             ],
             [
              0.4444444444444444,
              "#bd3786"
             ],
             [
              0.5555555555555556,
              "#d8576b"
             ],
             [
              0.6666666666666666,
              "#ed7953"
             ],
             [
              0.7777777777777778,
              "#fb9f3a"
             ],
             [
              0.8888888888888888,
              "#fdca26"
             ],
             [
              1,
              "#f0f921"
             ]
            ],
            "type": "heatmap"
           }
          ],
          "heatmapgl": [
           {
            "colorbar": {
             "outlinewidth": 0,
             "ticks": ""
            },
            "colorscale": [
             [
              0,
              "#0d0887"
             ],
             [
              0.1111111111111111,
              "#46039f"
             ],
             [
              0.2222222222222222,
              "#7201a8"
             ],
             [
              0.3333333333333333,
              "#9c179e"
             ],
             [
              0.4444444444444444,
              "#bd3786"
             ],
             [
              0.5555555555555556,
              "#d8576b"
             ],
             [
              0.6666666666666666,
              "#ed7953"
             ],
             [
              0.7777777777777778,
              "#fb9f3a"
             ],
             [
              0.8888888888888888,
              "#fdca26"
             ],
             [
              1,
              "#f0f921"
             ]
            ],
            "type": "heatmapgl"
           }
          ],
          "histogram": [
           {
            "marker": {
             "pattern": {
              "fillmode": "overlay",
              "size": 10,
              "solidity": 0.2
             }
            },
            "type": "histogram"
           }
          ],
          "histogram2d": [
           {
            "colorbar": {
             "outlinewidth": 0,
             "ticks": ""
            },
            "colorscale": [
             [
              0,
              "#0d0887"
             ],
             [
              0.1111111111111111,
              "#46039f"
             ],
             [
              0.2222222222222222,
              "#7201a8"
             ],
             [
              0.3333333333333333,
              "#9c179e"
             ],
             [
              0.4444444444444444,
              "#bd3786"
             ],
             [
              0.5555555555555556,
              "#d8576b"
             ],
             [
              0.6666666666666666,
              "#ed7953"
             ],
             [
              0.7777777777777778,
              "#fb9f3a"
             ],
             [
              0.8888888888888888,
              "#fdca26"
             ],
             [
              1,
              "#f0f921"
             ]
            ],
            "type": "histogram2d"
           }
          ],
          "histogram2dcontour": [
           {
            "colorbar": {
             "outlinewidth": 0,
             "ticks": ""
            },
            "colorscale": [
             [
              0,
              "#0d0887"
             ],
             [
              0.1111111111111111,
              "#46039f"
             ],
             [
              0.2222222222222222,
              "#7201a8"
             ],
             [
              0.3333333333333333,
              "#9c179e"
             ],
             [
              0.4444444444444444,
              "#bd3786"
             ],
             [
              0.5555555555555556,
              "#d8576b"
             ],
             [
              0.6666666666666666,
              "#ed7953"
             ],
             [
              0.7777777777777778,
              "#fb9f3a"
             ],
             [
              0.8888888888888888,
              "#fdca26"
             ],
             [
              1,
              "#f0f921"
             ]
            ],
            "type": "histogram2dcontour"
           }
          ],
          "mesh3d": [
           {
            "colorbar": {
             "outlinewidth": 0,
             "ticks": ""
            },
            "type": "mesh3d"
           }
          ],
          "parcoords": [
           {
            "line": {
             "colorbar": {
              "outlinewidth": 0,
              "ticks": ""
             }
            },
            "type": "parcoords"
           }
          ],
          "pie": [
           {
            "automargin": true,
            "type": "pie"
           }
          ],
          "scatter": [
           {
            "fillpattern": {
             "fillmode": "overlay",
             "size": 10,
             "solidity": 0.2
            },
            "type": "scatter"
           }
          ],
          "scatter3d": [
           {
            "line": {
             "colorbar": {
              "outlinewidth": 0,
              "ticks": ""
             }
            },
            "marker": {
             "colorbar": {
              "outlinewidth": 0,
              "ticks": ""
             }
            },
            "type": "scatter3d"
           }
          ],
          "scattercarpet": [
           {
            "marker": {
             "colorbar": {
              "outlinewidth": 0,
              "ticks": ""
             }
            },
            "type": "scattercarpet"
           }
          ],
          "scattergeo": [
           {
            "marker": {
             "colorbar": {
              "outlinewidth": 0,
              "ticks": ""
             }
            },
            "type": "scattergeo"
           }
          ],
          "scattergl": [
           {
            "marker": {
             "colorbar": {
              "outlinewidth": 0,
              "ticks": ""
             }
            },
            "type": "scattergl"
           }
          ],
          "scattermapbox": [
           {
            "marker": {
             "colorbar": {
              "outlinewidth": 0,
              "ticks": ""
             }
            },
            "type": "scattermapbox"
           }
          ],
          "scatterpolar": [
           {
            "marker": {
             "colorbar": {
              "outlinewidth": 0,
              "ticks": ""
             }
            },
            "type": "scatterpolar"
           }
          ],
          "scatterpolargl": [
           {
            "marker": {
             "colorbar": {
              "outlinewidth": 0,
              "ticks": ""
             }
            },
            "type": "scatterpolargl"
           }
          ],
          "scatterternary": [
           {
            "marker": {
             "colorbar": {
              "outlinewidth": 0,
              "ticks": ""
             }
            },
            "type": "scatterternary"
           }
          ],
          "surface": [
           {
            "colorbar": {
             "outlinewidth": 0,
             "ticks": ""
            },
            "colorscale": [
             [
              0,
              "#0d0887"
             ],
             [
              0.1111111111111111,
              "#46039f"
             ],
             [
              0.2222222222222222,
              "#7201a8"
             ],
             [
              0.3333333333333333,
              "#9c179e"
             ],
             [
              0.4444444444444444,
              "#bd3786"
             ],
             [
              0.5555555555555556,
              "#d8576b"
             ],
             [
              0.6666666666666666,
              "#ed7953"
             ],
             [
              0.7777777777777778,
              "#fb9f3a"
             ],
             [
              0.8888888888888888,
              "#fdca26"
             ],
             [
              1,
              "#f0f921"
             ]
            ],
            "type": "surface"
           }
          ],
          "table": [
           {
            "cells": {
             "fill": {
              "color": "#EBF0F8"
             },
             "line": {
              "color": "white"
             }
            },
            "header": {
             "fill": {
              "color": "#C8D4E3"
             },
             "line": {
              "color": "white"
             }
            },
            "type": "table"
           }
          ]
         },
         "layout": {
          "annotationdefaults": {
           "arrowcolor": "#2a3f5f",
           "arrowhead": 0,
           "arrowwidth": 1
          },
          "autotypenumbers": "strict",
          "coloraxis": {
           "colorbar": {
            "outlinewidth": 0,
            "ticks": ""
           }
          },
          "colorscale": {
           "diverging": [
            [
             0,
             "#8e0152"
            ],
            [
             0.1,
             "#c51b7d"
            ],
            [
             0.2,
             "#de77ae"
            ],
            [
             0.3,
             "#f1b6da"
            ],
            [
             0.4,
             "#fde0ef"
            ],
            [
             0.5,
             "#f7f7f7"
            ],
            [
             0.6,
             "#e6f5d0"
            ],
            [
             0.7,
             "#b8e186"
            ],
            [
             0.8,
             "#7fbc41"
            ],
            [
             0.9,
             "#4d9221"
            ],
            [
             1,
             "#276419"
            ]
           ],
           "sequential": [
            [
             0,
             "#0d0887"
            ],
            [
             0.1111111111111111,
             "#46039f"
            ],
            [
             0.2222222222222222,
             "#7201a8"
            ],
            [
             0.3333333333333333,
             "#9c179e"
            ],
            [
             0.4444444444444444,
             "#bd3786"
            ],
            [
             0.5555555555555556,
             "#d8576b"
            ],
            [
             0.6666666666666666,
             "#ed7953"
            ],
            [
             0.7777777777777778,
             "#fb9f3a"
            ],
            [
             0.8888888888888888,
             "#fdca26"
            ],
            [
             1,
             "#f0f921"
            ]
           ],
           "sequentialminus": [
            [
             0,
             "#0d0887"
            ],
            [
             0.1111111111111111,
             "#46039f"
            ],
            [
             0.2222222222222222,
             "#7201a8"
            ],
            [
             0.3333333333333333,
             "#9c179e"
            ],
            [
             0.4444444444444444,
             "#bd3786"
            ],
            [
             0.5555555555555556,
             "#d8576b"
            ],
            [
             0.6666666666666666,
             "#ed7953"
            ],
            [
             0.7777777777777778,
             "#fb9f3a"
            ],
            [
             0.8888888888888888,
             "#fdca26"
            ],
            [
             1,
             "#f0f921"
            ]
           ]
          },
          "colorway": [
           "#636efa",
           "#EF553B",
           "#00cc96",
           "#ab63fa",
           "#FFA15A",
           "#19d3f3",
           "#FF6692",
           "#B6E880",
           "#FF97FF",
           "#FECB52"
          ],
          "font": {
           "color": "#2a3f5f"
          },
          "geo": {
           "bgcolor": "white",
           "lakecolor": "white",
           "landcolor": "#E5ECF6",
           "showlakes": true,
           "showland": true,
           "subunitcolor": "white"
          },
          "hoverlabel": {
           "align": "left"
          },
          "hovermode": "closest",
          "mapbox": {
           "style": "light"
          },
          "paper_bgcolor": "white",
          "plot_bgcolor": "#E5ECF6",
          "polar": {
           "angularaxis": {
            "gridcolor": "white",
            "linecolor": "white",
            "ticks": ""
           },
           "bgcolor": "#E5ECF6",
           "radialaxis": {
            "gridcolor": "white",
            "linecolor": "white",
            "ticks": ""
           }
          },
          "scene": {
           "xaxis": {
            "backgroundcolor": "#E5ECF6",
            "gridcolor": "white",
            "gridwidth": 2,
            "linecolor": "white",
            "showbackground": true,
            "ticks": "",
            "zerolinecolor": "white"
           },
           "yaxis": {
            "backgroundcolor": "#E5ECF6",
            "gridcolor": "white",
            "gridwidth": 2,
            "linecolor": "white",
            "showbackground": true,
            "ticks": "",
            "zerolinecolor": "white"
           },
           "zaxis": {
            "backgroundcolor": "#E5ECF6",
            "gridcolor": "white",
            "gridwidth": 2,
            "linecolor": "white",
            "showbackground": true,
            "ticks": "",
            "zerolinecolor": "white"
           }
          },
          "shapedefaults": {
           "line": {
            "color": "#2a3f5f"
           }
          },
          "ternary": {
           "aaxis": {
            "gridcolor": "white",
            "linecolor": "white",
            "ticks": ""
           },
           "baxis": {
            "gridcolor": "white",
            "linecolor": "white",
            "ticks": ""
           },
           "bgcolor": "#E5ECF6",
           "caxis": {
            "gridcolor": "white",
            "linecolor": "white",
            "ticks": ""
           }
          },
          "title": {
           "x": 0.05
          },
          "xaxis": {
           "automargin": true,
           "gridcolor": "white",
           "linecolor": "white",
           "ticks": "",
           "title": {
            "standoff": 15
           },
           "zerolinecolor": "white",
           "zerolinewidth": 2
          },
          "yaxis": {
           "automargin": true,
           "gridcolor": "white",
           "linecolor": "white",
           "ticks": "",
           "title": {
            "standoff": 15
           },
           "zerolinecolor": "white",
           "zerolinewidth": 2
          }
         }
        },
        "title": {
         "text": "Percentage with K: original summary ratings meet standard of value 1 by category (indicated in red).",
         "x": 0.5,
         "xanchor": "center",
         "yanchor": "bottom"
        },
        "xaxis": {
         "anchor": "y",
         "domain": [
          0,
          1
         ]
        },
        "xaxis2": {
         "anchor": "y2",
         "domain": [
          0,
          1
         ]
        },
        "xaxis3": {
         "anchor": "y3",
         "domain": [
          0,
          1
         ],
         "title": {
          "standoff": 0,
          "text": "% of Total"
         }
        },
        "xaxis4": {
         "anchor": "y4",
         "domain": [
          0,
          1
         ]
        },
        "yaxis": {
         "anchor": "x",
         "domain": [
          0.84375,
          1
         ],
         "title": {
          "text": ""
         }
        },
        "yaxis2": {
         "anchor": "x2",
         "domain": [
          0.5625,
          0.71875
         ]
        },
        "yaxis3": {
         "anchor": "x3",
         "domain": [
          0.28125,
          0.4375
         ]
        },
        "yaxis4": {
         "anchor": "x4",
         "domain": [
          0,
          0.15625
         ]
        }
       }
      }
     },
     "metadata": {},
     "output_type": "display_data"
    },
    {
     "data": {
      "application/vnd.plotly.v1+json": {
       "config": {
        "plotlyServerURL": "https://plot.ly"
       },
       "data": [
        {
         "marker": {
          "color": "blue"
         },
         "opacity": 0.5,
         "orientation": "h",
         "type": "histogram",
         "xaxis": "x",
         "y": [
          "Summarize for a LinkedIn post",
          "Summarize for a LinkedIn post",
          "Summarize for a LinkedIn post",
          "Summarize for a LinkedIn post",
          "Summarize for a LinkedIn post",
          "Describe the interesting points to your coworker at the water cooler",
          "Describe the interesting points to your coworker at the water cooler",
          "Describe the interesting points to your coworker at the water cooler",
          "Describe the interesting points to your coworker at the water cooler",
          "Describe the interesting points to your coworker at the water cooler",
          "Summarize for a LinkedIn post",
          "Summarize for a LinkedIn post",
          "Describe the interesting points to your coworker at the water cooler",
          "Describe the interesting points to your coworker at the water cooler",
          "Describe the interesting points to your coworker at the water cooler",
          "Summarize for a LinkedIn post",
          "Summarize for a LinkedIn post",
          "Summarize for a LinkedIn post",
          "Summarize for a LinkedIn post",
          "Summarize for a LinkedIn post",
          "Describe the interesting points to your coworker at the water cooler",
          "Describe the interesting points to your coworker at the water cooler",
          "Summarize for a LinkedIn post",
          "Describe the interesting points to your coworker at the water cooler",
          "Summarize for a LinkedIn post",
          "Describe the interesting points to your coworker at the water cooler",
          "Summarize for a LinkedIn post",
          "Summarize for a LinkedIn post",
          "Summarize for a LinkedIn post",
          "Summarize for a LinkedIn post",
          "Describe the interesting points to your coworker at the water cooler",
          "Summarize for a LinkedIn post",
          "Summarize for a LinkedIn post",
          "Summarize for a LinkedIn post",
          "Summarize for a LinkedIn post",
          "Summarize for a LinkedIn post",
          "Describe the interesting points to your coworker at the water cooler",
          "Describe the interesting points to your coworker at the water cooler",
          "Describe the interesting points to your coworker at the water cooler",
          "Describe the interesting points to your coworker at the water cooler",
          "Describe the interesting points to your coworker at the water cooler",
          "Summarize for a LinkedIn post",
          "Summarize for a LinkedIn post",
          "Summarize for a LinkedIn post",
          "Summarize for a LinkedIn post",
          "Summarize for a LinkedIn post",
          "Summarize for a LinkedIn post",
          "Summarize for a LinkedIn post",
          "Summarize for a LinkedIn post",
          "Describe the interesting points to your coworker at the water cooler",
          "Describe the interesting points to your coworker at the water cooler",
          "Describe the interesting points to your coworker at the water cooler",
          "Describe the interesting points to your coworker at the water cooler",
          "Describe the interesting points to your coworker at the water cooler",
          "Describe the interesting points to your coworker at the water cooler",
          "Describe the interesting points to your coworker at the water cooler",
          "Describe the interesting points to your coworker at the water cooler",
          "Describe the interesting points to your coworker at the water cooler",
          "Describe the interesting points to your coworker at the water cooler",
          "Summarize for a LinkedIn post",
          "Summarize for a LinkedIn post",
          "Summarize for a LinkedIn post",
          "Summarize for a LinkedIn post",
          "Summarize for a LinkedIn post",
          "Summarize for a LinkedIn post",
          "Summarize for a LinkedIn post",
          "Describe the interesting points to your coworker at the water cooler",
          "Describe the interesting points to your coworker at the water cooler",
          "Describe the interesting points to your coworker at the water cooler",
          "Describe the interesting points to your coworker at the water cooler",
          "Describe the interesting points to your coworker at the water cooler",
          "Describe the interesting points to your coworker at the water cooler",
          "Describe the interesting points to your coworker at the water cooler",
          "Describe the interesting points to your coworker at the water cooler",
          "Describe the interesting points to your coworker at the water cooler",
          "Describe the interesting points to your coworker at the water cooler",
          "Describe the interesting points to your coworker at the water cooler",
          "Describe the interesting points to your coworker at the water cooler",
          "Describe the interesting points to your coworker at the water cooler",
          "Describe the interesting points to your coworker at the water cooler",
          "Describe the interesting points to your coworker at the water cooler",
          "Summarize for a LinkedIn post",
          "Summarize for a LinkedIn post",
          "Summarize for a LinkedIn post",
          "Summarize for a LinkedIn post",
          "Summarize for a LinkedIn post",
          "Summarize in an engaging way",
          "Summarize in an engaging way",
          "Summarize in an engaging way",
          "Summarize in an engaging way",
          "Summarize in an engaging way",
          "Describe the interesting points to your coworker at the water cooler",
          "Describe the interesting points to your coworker at the water cooler",
          "Describe the interesting points to your coworker at the water cooler",
          "Describe the interesting points to your coworker at the water cooler",
          "Summarize for a LinkedIn post",
          "Summarize for a LinkedIn post",
          "Summarize for a LinkedIn post",
          "Summarize for a LinkedIn post",
          "Describe the interesting points to your coworker at the water cooler",
          "Describe the interesting points to your coworker at the water cooler",
          "Describe the interesting points to your coworker at the water cooler",
          "Describe the interesting points to your coworker at the water cooler",
          "Describe the interesting points to your coworker at the water cooler",
          "Describe the interesting points to your coworker at the water cooler",
          "Describe the interesting points to your coworker at the water cooler",
          "Describe the interesting points to your coworker at the water cooler",
          "Describe the interesting points to your coworker at the water cooler"
         ],
         "yaxis": "y"
        },
        {
         "marker": {
          "color": "red"
         },
         "opacity": 0.5,
         "orientation": "h",
         "type": "histogram",
         "xaxis": "x",
         "y": [
          "Summarize for a LinkedIn post",
          "Summarize for a LinkedIn post",
          "Summarize for a LinkedIn post",
          "Describe the interesting points to your coworker at the water cooler",
          "Describe the interesting points to your coworker at the water cooler",
          "Describe the interesting points to your coworker at the water cooler",
          "Describe the interesting points to your coworker at the water cooler",
          "Describe the interesting points to your coworker at the water cooler",
          "Summarize for a LinkedIn post",
          "Describe the interesting points to your coworker at the water cooler",
          "Describe the interesting points to your coworker at the water cooler",
          "Describe the interesting points to your coworker at the water cooler",
          "Describe the interesting points to your coworker at the water cooler",
          "Summarize for a LinkedIn post",
          "Summarize for a LinkedIn post",
          "Summarize for a LinkedIn post",
          "Summarize for a LinkedIn post",
          "Summarize for a LinkedIn post",
          "Describe the interesting points to your coworker at the water cooler",
          "Summarize for a LinkedIn post",
          "Describe the interesting points to your coworker at the water cooler"
         ],
         "yaxis": "y"
        },
        {
         "marker": {
          "color": "blue"
         },
         "opacity": 0.5,
         "orientation": "h",
         "type": "histogram",
         "xaxis": "x2",
         "y": [
          "Use terms a 12-year-old can understand.",
          "Use terms a 12-year-old can understand.",
          "Use terms a 12-year-old can understand.",
          "Use terms a 12-year-old can understand.",
          "Use terms a 12-year-old can understand.",
          "Use terms a 12-year-old can understand.",
          "Use terms a 12-year-old can understand.",
          "Use terms a 12-year-old can understand.",
          "Use terms a 12-year-old can understand.",
          "Use terms a 12-year-old can understand.",
          "Use terms a 12-year-old can understand.",
          "Use terms a 12-year-old can understand.",
          "Use terms a 12-year-old can understand.",
          "Use terms a 12-year-old can understand.",
          "Use terms a 12-year-old can understand.",
          "Use terms a 12-year-old can understand.",
          "Use terms a 12-year-old can understand.",
          "Use terms a 12-year-old can understand.",
          "Use terms a 12-year-old can understand.",
          "Use terms a 12-year-old can understand.",
          "Use terms a 12-year-old can understand.",
          "Use terms a 12-year-old can understand.",
          "Use terms a 12-year-old can understand.",
          "Use terms a 12-year-old can understand.",
          "Use terms a 12-year-old can understand.",
          "Use terms a 12-year-old can understand.",
          "Use terms a 12-year-old can understand.",
          "Use terms a 12-year-old can understand.",
          "Use terms a 12-year-old can understand.",
          "Use terms a 12-year-old can understand.",
          "Use terms a 12-year-old can understand.",
          "Use terms a 12-year-old can understand.",
          "Use terms a 12-year-old can understand.",
          "Use terms a 12-year-old can understand.",
          "Use terms a 12-year-old can understand.",
          "Use terms a 12-year-old can understand.",
          "Use terms a 12-year-old can understand.",
          "Use terms a 12-year-old can understand.",
          "Use terms a 12-year-old can understand.",
          "Use terms a 12-year-old can understand.",
          "Use terms a 12-year-old can understand.",
          "Use language appropriate for for a lay audience",
          "Use language appropriate for for people without a science background",
          "Use language appropriate for for a lay audience",
          "Use language appropriate for for people without a science background",
          "Use language appropriate for for people without a science background",
          "Use language appropriate for for people without a science background",
          "Use language appropriate for for a lay audience",
          "Use language appropriate for for people without a science background",
          "Use language appropriate for for a lay audience",
          "Use language appropriate for for people without a science background",
          "Use language appropriate for for a lay audience",
          "Use language appropriate for for people without a science background",
          "Use language appropriate for for a lay audience",
          "Use language appropriate for for people without a science background",
          "Use language appropriate for for a lay audience",
          "Use language appropriate for for people without a science background",
          "Use language appropriate for for a lay audience",
          "Use language appropriate for for people without a science background",
          "Use language appropriate for for a lay audience",
          "Use language appropriate for for people without a science background",
          "Use language appropriate for for people without a science background",
          "Use language appropriate for for a lay audience",
          "Use language appropriate for for people without a science background",
          "Use language appropriate for for people without a science background",
          "Use language appropriate for for people without a science background",
          "Use language appropriate for for a lay audience",
          "Use language appropriate for for people without a science background",
          "Use language appropriate for for a lay audience",
          "Use language appropriate for for people without a science background",
          "Use language appropriate for for a lay audience",
          "Use language appropriate for for people without a science background",
          "Use language appropriate for for a lay audience",
          "Use language appropriate for for people without a science background",
          "Use language appropriate for for a lay audience",
          "Use language appropriate for for people without a science background",
          "Use language appropriate for for people without a science background",
          "Use language appropriate for for people without a science background",
          "Use language appropriate for for people without a science background",
          "Use language appropriate for for people without a science background",
          "Use language appropriate for for people without a science background",
          "Use language appropriate for for people without a science background",
          "Use language appropriate for for people without a science background",
          "Use language appropriate for for people without a science background",
          "Use language appropriate for for people without a science background",
          "Use language appropriate for for people without a science background",
          "Use language appropriate for for people without a science background",
          "Use language appropriate for for people without a science background",
          "Use language appropriate for for people without a science background",
          "Use language appropriate for for people without a science background",
          "Use language appropriate for for people without a science background",
          "Use language appropriate for for people without a science background",
          "Use language appropriate for for people without a science background",
          "Use language appropriate for for people without a science background",
          "Use language appropriate for for people without a science background",
          "Use language appropriate for for people without a science background",
          "Use language appropriate for for people without a science background",
          "Use language appropriate for for people without a science background",
          "Use language appropriate for for people without a science background",
          "Use language appropriate for for people without a science background",
          "Use language appropriate for for people without a science background",
          "Use language appropriate for for people without a science background",
          "Use language appropriate for for people without a science background",
          "Use language appropriate for for people without a science background",
          "Use language appropriate for for people without a science background",
          "Use language appropriate for for people without a science background",
          "Use language appropriate for for people without a science background",
          "Use language appropriate for for people without a science background"
         ],
         "yaxis": "y2"
        },
        {
         "marker": {
          "color": "red"
         },
         "opacity": 0.5,
         "orientation": "h",
         "type": "histogram",
         "xaxis": "x2",
         "y": [
          "Use terms a 12-year-old can understand.",
          "Use terms a 12-year-old can understand.",
          "Use terms a 12-year-old can understand.",
          "Use terms a 12-year-old can understand.",
          "Use terms a 12-year-old can understand.",
          "Use terms a 12-year-old can understand.",
          "Use terms a 12-year-old can understand.",
          "Use terms a 12-year-old can understand.",
          "Use terms a 12-year-old can understand.",
          "Use terms a 12-year-old can understand.",
          "Use terms a 12-year-old can understand.",
          "Use terms a 12-year-old can understand.",
          "Use terms a 12-year-old can understand.",
          "Use language appropriate for for a lay audience",
          "Use language appropriate for for a lay audience",
          "Use language appropriate for for a lay audience",
          "Use language appropriate for for a lay audience",
          "Use language appropriate for for a lay audience",
          "Use language appropriate for for people without a science background",
          "Use language appropriate for for people without a science background",
          "Use language appropriate for for people without a science background"
         ],
         "yaxis": "y2"
        },
        {
         "marker": {
          "color": "blue"
         },
         "opacity": 0.5,
         "orientation": "h",
         "type": "histogram",
         "xaxis": "x3",
         "y": [
          "Add 1-2 sentences to make this relevant for",
          "Add 1-2 sentences to make this relevant for",
          "Add 1-2 sentences to make this relevant for",
          "Add 1-2 sentences to make this relevant for",
          "Add 1-2 sentences to make this relevant for",
          "Add 1-2 sentences to make this relevant for",
          "Add 1-2 sentences to make this relevant for",
          "Add 1-2 sentences to make this relevant for",
          "Add 1-2 sentences to make this relevant for",
          "Add 1-2 sentences to make this relevant for",
          "Add 1-2 sentences to make this relevant for",
          "Add 1-2 sentences to make this relevant for",
          "Add 1-2 sentences to make this relevant for",
          "Add 1-2 sentences to make this relevant for",
          "Add 1-2 sentences to make this relevant for",
          "Add 1-2 sentences to make this relevant for",
          "Add 1-2 sentences to make this relevant for",
          "Add 1-2 sentences to make this relevant for",
          "Add 1-2 sentences to make this relevant for",
          "Add 1-2 sentences to make this relevant for",
          "Add 1-2 sentences to make this relevant for",
          "Add 1-2 sentences to make this relevant for",
          "Add 1-2 sentences to make this relevant for",
          "Add 1-2 sentences to make this relevant for",
          "Add 1-2 sentences to make this relevant for",
          "Add 1-2 sentences to make this relevant for",
          "Add 1-2 sentences to make this relevant for",
          "Add 1-2 sentences to make this relevant for",
          "Add 1-2 sentences to make this relevant for",
          "Add 1-2 sentences to make this relevant for",
          "Add 1-2 sentences to make this relevant for",
          "Add 1-2 sentences to make this relevant for",
          "Add 1-2 sentences to make this relevant for",
          "Add 1-2 sentences to make this relevant for",
          "Add 1-2 sentences to make this relevant for",
          "Add 1-2 sentences to make this relevant for",
          "Add 1-2 sentences to make this relevant for",
          "Add 1-2 sentences to make this relevant for",
          "Add 1-2 sentences to make this relevant for",
          "Add 1-2 sentences to make this relevant for",
          "Add 1-2 sentences to make this relevant for",
          "Add 1-2 sentences to make this relevant for",
          "Add 1-2 sentences to make this relevant for",
          "Add 1-2 sentences to make this relevant for",
          "Add 1-2 sentences to make this relevant for",
          "Add 1-2 sentences to make this relevant for",
          "Add 1-2 sentences to make this relevant for",
          "Add 1-2 sentences to make this relevant for",
          "Add 1-2 sentences to make this relevant for",
          "Add 1-2 sentences to make this relevant for",
          "Add 1-2 sentences to make this relevant for",
          "Add 1-2 sentences to make this relevant for",
          "Add 1-2 sentences to make this relevant for",
          "Add 1-2 sentences to make this relevant for",
          "Add 1-2 sentences to make this relevant for",
          "Add 1-2 sentences to make this relevant for",
          "Add 1-2 sentences to make this relevant for",
          "Add 1-2 sentences to make this relevant for",
          "Add 1-2 sentences to make this relevant for",
          "Add 1-2 sentences to make this relevant for",
          "Add 1-2 sentences to make this relevant for",
          "Add 1-2 sentences to make this relevant for",
          "Add 1-2 sentences to make this relevant for",
          "Add 1-2 sentences to make this relevant for",
          "Add 1-2 sentences to make this relevant for",
          "Add 1-2 sentences to make this relevant for",
          "Add 1-2 sentences to make this relevant for",
          "Add 1-2 sentences to make this relevant for",
          "Add 1-2 sentences to make this relevant for",
          "Add 1-2 sentences to make this relevant for",
          "Add 1-2 sentences to make this relevant for",
          "Add 1-2 sentences to make this relevant for",
          "Add 1-2 sentences to make this relevant for",
          "Add 1-2 sentences to make this relevant for",
          "Add 1-2 sentences to make this relevant for",
          "Add 1-2 sentences to make this relevant for",
          "Write this so it is relevant for",
          "Write this so it is relevant for",
          "Write this so it is relevant for",
          "Write this so it is relevant for",
          "Write this so it is relevant for",
          "Write this so it is relevant for",
          "Write this so it is relevant for",
          "Write this so it is relevant for",
          "Write this so it is relevant for",
          "Write this so it is relevant for",
          "Write this so it is relevant for",
          "Write this so it is relevant for",
          "Write this so it is relevant for",
          "Write this so it is relevant for",
          "Write this so it is relevant for",
          "Write this so it is relevant for",
          "Write this so it is relevant for",
          "Write this so it is relevant for",
          "Write this so it is relevant for",
          "Write this so it is relevant for",
          "Write this so it is relevant for",
          "Write this so it is relevant for",
          "Write this so it is relevant for",
          "Write this so it is relevant for",
          "Write this so it is relevant for",
          "Write this so it is relevant for",
          "Write this so it is relevant for",
          "Write this so it is relevant for",
          "Write this so it is relevant for",
          "Write this so it is relevant for",
          "Write this so it is relevant for",
          "Write this so it is relevant for"
         ],
         "yaxis": "y3"
        },
        {
         "marker": {
          "color": "red"
         },
         "opacity": 0.5,
         "orientation": "h",
         "type": "histogram",
         "xaxis": "x3",
         "y": [
          "Add 1-2 sentences to make this relevant for",
          "Add 1-2 sentences to make this relevant for",
          "Add 1-2 sentences to make this relevant for",
          "Add 1-2 sentences to make this relevant for",
          "Add 1-2 sentences to make this relevant for",
          "Add 1-2 sentences to make this relevant for",
          "Add 1-2 sentences to make this relevant for",
          "Add 1-2 sentences to make this relevant for",
          "Add 1-2 sentences to make this relevant for",
          "Add 1-2 sentences to make this relevant for",
          "Add 1-2 sentences to make this relevant for",
          "Add 1-2 sentences to make this relevant for",
          "Add 1-2 sentences to make this relevant for",
          "Add 1-2 sentences to make this relevant for",
          "Add 1-2 sentences to make this relevant for",
          "Add 1-2 sentences to make this relevant for",
          "Add 1-2 sentences to make this relevant for",
          "Add 1-2 sentences to make this relevant for",
          "Write this so it is relevant for",
          "Write this so it is relevant for",
          "Write this so it is relevant for"
         ],
         "yaxis": "y3"
        }
       ],
       "layout": {
        "annotations": [
         {
          "font": {
           "size": 16
          },
          "showarrow": false,
          "text": "H: summarization task",
          "x": 0.5,
          "xanchor": "center",
          "xref": "paper",
          "y": 1,
          "yanchor": "bottom",
          "yref": "paper"
         },
         {
          "font": {
           "size": 16
          },
          "showarrow": false,
          "text": "Q: full simplify task",
          "x": 0.5,
          "xanchor": "center",
          "xref": "paper",
          "y": 0.6111111111111112,
          "yanchor": "bottom",
          "yref": "paper"
         },
         {
          "font": {
           "size": 16
          },
          "showarrow": false,
          "text": "V: add relevance task",
          "x": 0.5,
          "xanchor": "center",
          "xref": "paper",
          "y": 0.22222222222222224,
          "yanchor": "bottom",
          "yref": "paper"
         }
        ],
        "bargap": 0.1,
        "barmode": "group",
        "showlegend": false,
        "template": {
         "data": {
          "bar": [
           {
            "error_x": {
             "color": "#2a3f5f"
            },
            "error_y": {
             "color": "#2a3f5f"
            },
            "marker": {
             "line": {
              "color": "#E5ECF6",
              "width": 0.5
             },
             "pattern": {
              "fillmode": "overlay",
              "size": 10,
              "solidity": 0.2
             }
            },
            "type": "bar"
           }
          ],
          "barpolar": [
           {
            "marker": {
             "line": {
              "color": "#E5ECF6",
              "width": 0.5
             },
             "pattern": {
              "fillmode": "overlay",
              "size": 10,
              "solidity": 0.2
             }
            },
            "type": "barpolar"
           }
          ],
          "carpet": [
           {
            "aaxis": {
             "endlinecolor": "#2a3f5f",
             "gridcolor": "white",
             "linecolor": "white",
             "minorgridcolor": "white",
             "startlinecolor": "#2a3f5f"
            },
            "baxis": {
             "endlinecolor": "#2a3f5f",
             "gridcolor": "white",
             "linecolor": "white",
             "minorgridcolor": "white",
             "startlinecolor": "#2a3f5f"
            },
            "type": "carpet"
           }
          ],
          "choropleth": [
           {
            "colorbar": {
             "outlinewidth": 0,
             "ticks": ""
            },
            "type": "choropleth"
           }
          ],
          "contour": [
           {
            "colorbar": {
             "outlinewidth": 0,
             "ticks": ""
            },
            "colorscale": [
             [
              0,
              "#0d0887"
             ],
             [
              0.1111111111111111,
              "#46039f"
             ],
             [
              0.2222222222222222,
              "#7201a8"
             ],
             [
              0.3333333333333333,
              "#9c179e"
             ],
             [
              0.4444444444444444,
              "#bd3786"
             ],
             [
              0.5555555555555556,
              "#d8576b"
             ],
             [
              0.6666666666666666,
              "#ed7953"
             ],
             [
              0.7777777777777778,
              "#fb9f3a"
             ],
             [
              0.8888888888888888,
              "#fdca26"
             ],
             [
              1,
              "#f0f921"
             ]
            ],
            "type": "contour"
           }
          ],
          "contourcarpet": [
           {
            "colorbar": {
             "outlinewidth": 0,
             "ticks": ""
            },
            "type": "contourcarpet"
           }
          ],
          "heatmap": [
           {
            "colorbar": {
             "outlinewidth": 0,
             "ticks": ""
            },
            "colorscale": [
             [
              0,
              "#0d0887"
             ],
             [
              0.1111111111111111,
              "#46039f"
             ],
             [
              0.2222222222222222,
              "#7201a8"
             ],
             [
              0.3333333333333333,
              "#9c179e"
             ],
             [
              0.4444444444444444,
              "#bd3786"
             ],
             [
              0.5555555555555556,
              "#d8576b"
             ],
             [
              0.6666666666666666,
              "#ed7953"
             ],
             [
              0.7777777777777778,
              "#fb9f3a"
             ],
             [
              0.8888888888888888,
              "#fdca26"
             ],
             [
              1,
              "#f0f921"
             ]
            ],
            "type": "heatmap"
           }
          ],
          "heatmapgl": [
           {
            "colorbar": {
             "outlinewidth": 0,
             "ticks": ""
            },
            "colorscale": [
             [
              0,
              "#0d0887"
             ],
             [
              0.1111111111111111,
              "#46039f"
             ],
             [
              0.2222222222222222,
              "#7201a8"
             ],
             [
              0.3333333333333333,
              "#9c179e"
             ],
             [
              0.4444444444444444,
              "#bd3786"
             ],
             [
              0.5555555555555556,
              "#d8576b"
             ],
             [
              0.6666666666666666,
              "#ed7953"
             ],
             [
              0.7777777777777778,
              "#fb9f3a"
             ],
             [
              0.8888888888888888,
              "#fdca26"
             ],
             [
              1,
              "#f0f921"
             ]
            ],
            "type": "heatmapgl"
           }
          ],
          "histogram": [
           {
            "marker": {
             "pattern": {
              "fillmode": "overlay",
              "size": 10,
              "solidity": 0.2
             }
            },
            "type": "histogram"
           }
          ],
          "histogram2d": [
           {
            "colorbar": {
             "outlinewidth": 0,
             "ticks": ""
            },
            "colorscale": [
             [
              0,
              "#0d0887"
             ],
             [
              0.1111111111111111,
              "#46039f"
             ],
             [
              0.2222222222222222,
              "#7201a8"
             ],
             [
              0.3333333333333333,
              "#9c179e"
             ],
             [
              0.4444444444444444,
              "#bd3786"
             ],
             [
              0.5555555555555556,
              "#d8576b"
             ],
             [
              0.6666666666666666,
              "#ed7953"
             ],
             [
              0.7777777777777778,
              "#fb9f3a"
             ],
             [
              0.8888888888888888,
              "#fdca26"
             ],
             [
              1,
              "#f0f921"
             ]
            ],
            "type": "histogram2d"
           }
          ],
          "histogram2dcontour": [
           {
            "colorbar": {
             "outlinewidth": 0,
             "ticks": ""
            },
            "colorscale": [
             [
              0,
              "#0d0887"
             ],
             [
              0.1111111111111111,
              "#46039f"
             ],
             [
              0.2222222222222222,
              "#7201a8"
             ],
             [
              0.3333333333333333,
              "#9c179e"
             ],
             [
              0.4444444444444444,
              "#bd3786"
             ],
             [
              0.5555555555555556,
              "#d8576b"
             ],
             [
              0.6666666666666666,
              "#ed7953"
             ],
             [
              0.7777777777777778,
              "#fb9f3a"
             ],
             [
              0.8888888888888888,
              "#fdca26"
             ],
             [
              1,
              "#f0f921"
             ]
            ],
            "type": "histogram2dcontour"
           }
          ],
          "mesh3d": [
           {
            "colorbar": {
             "outlinewidth": 0,
             "ticks": ""
            },
            "type": "mesh3d"
           }
          ],
          "parcoords": [
           {
            "line": {
             "colorbar": {
              "outlinewidth": 0,
              "ticks": ""
             }
            },
            "type": "parcoords"
           }
          ],
          "pie": [
           {
            "automargin": true,
            "type": "pie"
           }
          ],
          "scatter": [
           {
            "fillpattern": {
             "fillmode": "overlay",
             "size": 10,
             "solidity": 0.2
            },
            "type": "scatter"
           }
          ],
          "scatter3d": [
           {
            "line": {
             "colorbar": {
              "outlinewidth": 0,
              "ticks": ""
             }
            },
            "marker": {
             "colorbar": {
              "outlinewidth": 0,
              "ticks": ""
             }
            },
            "type": "scatter3d"
           }
          ],
          "scattercarpet": [
           {
            "marker": {
             "colorbar": {
              "outlinewidth": 0,
              "ticks": ""
             }
            },
            "type": "scattercarpet"
           }
          ],
          "scattergeo": [
           {
            "marker": {
             "colorbar": {
              "outlinewidth": 0,
              "ticks": ""
             }
            },
            "type": "scattergeo"
           }
          ],
          "scattergl": [
           {
            "marker": {
             "colorbar": {
              "outlinewidth": 0,
              "ticks": ""
             }
            },
            "type": "scattergl"
           }
          ],
          "scattermapbox": [
           {
            "marker": {
             "colorbar": {
              "outlinewidth": 0,
              "ticks": ""
             }
            },
            "type": "scattermapbox"
           }
          ],
          "scatterpolar": [
           {
            "marker": {
             "colorbar": {
              "outlinewidth": 0,
              "ticks": ""
             }
            },
            "type": "scatterpolar"
           }
          ],
          "scatterpolargl": [
           {
            "marker": {
             "colorbar": {
              "outlinewidth": 0,
              "ticks": ""
             }
            },
            "type": "scatterpolargl"
           }
          ],
          "scatterternary": [
           {
            "marker": {
             "colorbar": {
              "outlinewidth": 0,
              "ticks": ""
             }
            },
            "type": "scatterternary"
           }
          ],
          "surface": [
           {
            "colorbar": {
             "outlinewidth": 0,
             "ticks": ""
            },
            "colorscale": [
             [
              0,
              "#0d0887"
             ],
             [
              0.1111111111111111,
              "#46039f"
             ],
             [
              0.2222222222222222,
              "#7201a8"
             ],
             [
              0.3333333333333333,
              "#9c179e"
             ],
             [
              0.4444444444444444,
              "#bd3786"
             ],
             [
              0.5555555555555556,
              "#d8576b"
             ],
             [
              0.6666666666666666,
              "#ed7953"
             ],
             [
              0.7777777777777778,
              "#fb9f3a"
             ],
             [
              0.8888888888888888,
              "#fdca26"
             ],
             [
              1,
              "#f0f921"
             ]
            ],
            "type": "surface"
           }
          ],
          "table": [
           {
            "cells": {
             "fill": {
              "color": "#EBF0F8"
             },
             "line": {
              "color": "white"
             }
            },
            "header": {
             "fill": {
              "color": "#C8D4E3"
             },
             "line": {
              "color": "white"
             }
            },
            "type": "table"
           }
          ]
         },
         "layout": {
          "annotationdefaults": {
           "arrowcolor": "#2a3f5f",
           "arrowhead": 0,
           "arrowwidth": 1
          },
          "autotypenumbers": "strict",
          "coloraxis": {
           "colorbar": {
            "outlinewidth": 0,
            "ticks": ""
           }
          },
          "colorscale": {
           "diverging": [
            [
             0,
             "#8e0152"
            ],
            [
             0.1,
             "#c51b7d"
            ],
            [
             0.2,
             "#de77ae"
            ],
            [
             0.3,
             "#f1b6da"
            ],
            [
             0.4,
             "#fde0ef"
            ],
            [
             0.5,
             "#f7f7f7"
            ],
            [
             0.6,
             "#e6f5d0"
            ],
            [
             0.7,
             "#b8e186"
            ],
            [
             0.8,
             "#7fbc41"
            ],
            [
             0.9,
             "#4d9221"
            ],
            [
             1,
             "#276419"
            ]
           ],
           "sequential": [
            [
             0,
             "#0d0887"
            ],
            [
             0.1111111111111111,
             "#46039f"
            ],
            [
             0.2222222222222222,
             "#7201a8"
            ],
            [
             0.3333333333333333,
             "#9c179e"
            ],
            [
             0.4444444444444444,
             "#bd3786"
            ],
            [
             0.5555555555555556,
             "#d8576b"
            ],
            [
             0.6666666666666666,
             "#ed7953"
            ],
            [
             0.7777777777777778,
             "#fb9f3a"
            ],
            [
             0.8888888888888888,
             "#fdca26"
            ],
            [
             1,
             "#f0f921"
            ]
           ],
           "sequentialminus": [
            [
             0,
             "#0d0887"
            ],
            [
             0.1111111111111111,
             "#46039f"
            ],
            [
             0.2222222222222222,
             "#7201a8"
            ],
            [
             0.3333333333333333,
             "#9c179e"
            ],
            [
             0.4444444444444444,
             "#bd3786"
            ],
            [
             0.5555555555555556,
             "#d8576b"
            ],
            [
             0.6666666666666666,
             "#ed7953"
            ],
            [
             0.7777777777777778,
             "#fb9f3a"
            ],
            [
             0.8888888888888888,
             "#fdca26"
            ],
            [
             1,
             "#f0f921"
            ]
           ]
          },
          "colorway": [
           "#636efa",
           "#EF553B",
           "#00cc96",
           "#ab63fa",
           "#FFA15A",
           "#19d3f3",
           "#FF6692",
           "#B6E880",
           "#FF97FF",
           "#FECB52"
          ],
          "font": {
           "color": "#2a3f5f"
          },
          "geo": {
           "bgcolor": "white",
           "lakecolor": "white",
           "landcolor": "#E5ECF6",
           "showlakes": true,
           "showland": true,
           "subunitcolor": "white"
          },
          "hoverlabel": {
           "align": "left"
          },
          "hovermode": "closest",
          "mapbox": {
           "style": "light"
          },
          "paper_bgcolor": "white",
          "plot_bgcolor": "#E5ECF6",
          "polar": {
           "angularaxis": {
            "gridcolor": "white",
            "linecolor": "white",
            "ticks": ""
           },
           "bgcolor": "#E5ECF6",
           "radialaxis": {
            "gridcolor": "white",
            "linecolor": "white",
            "ticks": ""
           }
          },
          "scene": {
           "xaxis": {
            "backgroundcolor": "#E5ECF6",
            "gridcolor": "white",
            "gridwidth": 2,
            "linecolor": "white",
            "showbackground": true,
            "ticks": "",
            "zerolinecolor": "white"
           },
           "yaxis": {
            "backgroundcolor": "#E5ECF6",
            "gridcolor": "white",
            "gridwidth": 2,
            "linecolor": "white",
            "showbackground": true,
            "ticks": "",
            "zerolinecolor": "white"
           },
           "zaxis": {
            "backgroundcolor": "#E5ECF6",
            "gridcolor": "white",
            "gridwidth": 2,
            "linecolor": "white",
            "showbackground": true,
            "ticks": "",
            "zerolinecolor": "white"
           }
          },
          "shapedefaults": {
           "line": {
            "color": "#2a3f5f"
           }
          },
          "ternary": {
           "aaxis": {
            "gridcolor": "white",
            "linecolor": "white",
            "ticks": ""
           },
           "baxis": {
            "gridcolor": "white",
            "linecolor": "white",
            "ticks": ""
           },
           "bgcolor": "#E5ECF6",
           "caxis": {
            "gridcolor": "white",
            "linecolor": "white",
            "ticks": ""
           }
          },
          "title": {
           "x": 0.05
          },
          "xaxis": {
           "automargin": true,
           "gridcolor": "white",
           "linecolor": "white",
           "ticks": "",
           "title": {
            "standoff": 15
           },
           "zerolinecolor": "white",
           "zerolinewidth": 2
          },
          "yaxis": {
           "automargin": true,
           "gridcolor": "white",
           "linecolor": "white",
           "ticks": "",
           "title": {
            "standoff": 15
           },
           "zerolinecolor": "white",
           "zerolinewidth": 2
          }
         }
        },
        "title": {
         "text": "Observations with K: original summary ratings meet standard of value 1 are indicated in red",
         "x": 0.5,
         "xanchor": "center",
         "yanchor": "top"
        },
        "xaxis": {
         "anchor": "y",
         "domain": [
          0,
          1
         ]
        },
        "xaxis2": {
         "anchor": "y2",
         "domain": [
          0,
          1
         ]
        },
        "xaxis3": {
         "anchor": "y3",
         "domain": [
          0,
          1
         ],
         "title": {
          "standoff": 0,
          "text": "number of observations"
         }
        },
        "yaxis": {
         "anchor": "x",
         "domain": [
          0.7777777777777778,
          1
         ]
        },
        "yaxis2": {
         "anchor": "x2",
         "domain": [
          0.3888888888888889,
          0.6111111111111112
         ]
        },
        "yaxis3": {
         "anchor": "x3",
         "domain": [
          0,
          0.22222222222222224
         ]
        }
       }
      }
     },
     "metadata": {},
     "output_type": "display_data"
    }
   ],
   "source": [
    "standards_columns = df.columns[df.columns.str.contains('meet standard')]\n",
    "task_columns = ['H: summarization task', 'Q: full simplify task', 'V: add relevance task']\n",
    "plot_proportion(df, columns= task_columns, classication=standards_columns[0], label=1);\n",
    "plot_int_bar(\n",
    "    df, columns= task_columns, classification=standards_columns[0], \n",
    "    label=1, barmode='group');"
   ]
  },
  {
   "attachments": {},
   "cell_type": "markdown",
   "metadata": {},
   "source": [
    "# plotting functions: Sort y-axis values"
   ]
  },
  {
   "cell_type": "code",
   "execution_count": 110,
   "metadata": {},
   "outputs": [
    {
     "data": {
      "application/vnd.plotly.v1+json": {
       "config": {
        "plotlyServerURL": "https://plot.ly"
       },
       "data": [
        {
         "marker": {
          "color": "blue"
         },
         "opacity": 0.5,
         "orientation": "h",
         "type": "bar",
         "x": [
          86.56716417910447,
          92.98245614035088,
          100
         ],
         "xaxis": "x",
         "y": [
          "Describe the interesting points to your coworker at the water cooler",
          "Summarize for a LinkedIn post",
          "Summarize in an engaging way"
         ],
         "yaxis": "y"
        },
        {
         "marker": {
          "color": "red"
         },
         "opacity": 0.5,
         "orientation": "h",
         "type": "bar",
         "x": [
          13.432835820895523,
          7.017543859649122,
          null
         ],
         "xaxis": "x",
         "y": [
          "Describe the interesting points to your coworker at the water cooler",
          "Summarize for a LinkedIn post",
          "Summarize in an engaging way"
         ],
         "yaxis": "y"
        },
        {
         "marker": {
          "color": "blue"
         },
         "opacity": 0.5,
         "orientation": "h",
         "type": "bar",
         "x": [
          90,
          92.72727272727272,
          87.03703703703704
         ],
         "xaxis": "x2",
         "y": [
          "Use language appropriate for for a lay audience",
          "Use language appropriate for for people without a science background",
          "Use terms a 12-year-old can understand."
         ],
         "yaxis": "y2"
        },
        {
         "marker": {
          "color": "red"
         },
         "opacity": 0.5,
         "orientation": "h",
         "type": "bar",
         "x": [
          10,
          7.2727272727272725,
          12.962962962962962
         ],
         "xaxis": "x2",
         "y": [
          "Use language appropriate for for a lay audience",
          "Use language appropriate for for people without a science background",
          "Use terms a 12-year-old can understand."
         ],
         "yaxis": "y2"
        },
        {
         "marker": {
          "color": "blue"
         },
         "opacity": 0.5,
         "orientation": "h",
         "type": "bar",
         "x": [
          90.42553191489363,
          88.57142857142857
         ],
         "xaxis": "x3",
         "y": [
          "Add 1-2 sentences to make this relevant for",
          "Write this so it is relevant for"
         ],
         "yaxis": "y3"
        },
        {
         "marker": {
          "color": "red"
         },
         "opacity": 0.5,
         "orientation": "h",
         "type": "bar",
         "x": [
          9.574468085106384,
          11.428571428571429
         ],
         "xaxis": "x3",
         "y": [
          "Add 1-2 sentences to make this relevant for",
          "Write this so it is relevant for"
         ],
         "yaxis": "y3"
        }
       ],
       "layout": {
        "annotations": [
         {
          "font": {
           "size": 16
          },
          "showarrow": false,
          "text": "H: summarization task",
          "x": 0.5,
          "xanchor": "center",
          "xref": "paper",
          "y": 1,
          "yanchor": "bottom",
          "yref": "paper"
         },
         {
          "font": {
           "size": 16
          },
          "showarrow": false,
          "text": "Q: full simplify task",
          "x": 0.5,
          "xanchor": "center",
          "xref": "paper",
          "y": 0.71875,
          "yanchor": "bottom",
          "yref": "paper"
         },
         {
          "font": {
           "size": 16
          },
          "showarrow": false,
          "text": "V: add relevance task",
          "x": 0.5,
          "xanchor": "center",
          "xref": "paper",
          "y": 0.4375,
          "yanchor": "bottom",
          "yref": "paper"
         }
        ],
        "barmode": "stack",
        "height": 600,
        "showlegend": false,
        "template": {
         "data": {
          "bar": [
           {
            "error_x": {
             "color": "#2a3f5f"
            },
            "error_y": {
             "color": "#2a3f5f"
            },
            "marker": {
             "line": {
              "color": "#E5ECF6",
              "width": 0.5
             },
             "pattern": {
              "fillmode": "overlay",
              "size": 10,
              "solidity": 0.2
             }
            },
            "type": "bar"
           }
          ],
          "barpolar": [
           {
            "marker": {
             "line": {
              "color": "#E5ECF6",
              "width": 0.5
             },
             "pattern": {
              "fillmode": "overlay",
              "size": 10,
              "solidity": 0.2
             }
            },
            "type": "barpolar"
           }
          ],
          "carpet": [
           {
            "aaxis": {
             "endlinecolor": "#2a3f5f",
             "gridcolor": "white",
             "linecolor": "white",
             "minorgridcolor": "white",
             "startlinecolor": "#2a3f5f"
            },
            "baxis": {
             "endlinecolor": "#2a3f5f",
             "gridcolor": "white",
             "linecolor": "white",
             "minorgridcolor": "white",
             "startlinecolor": "#2a3f5f"
            },
            "type": "carpet"
           }
          ],
          "choropleth": [
           {
            "colorbar": {
             "outlinewidth": 0,
             "ticks": ""
            },
            "type": "choropleth"
           }
          ],
          "contour": [
           {
            "colorbar": {
             "outlinewidth": 0,
             "ticks": ""
            },
            "colorscale": [
             [
              0,
              "#0d0887"
             ],
             [
              0.1111111111111111,
              "#46039f"
             ],
             [
              0.2222222222222222,
              "#7201a8"
             ],
             [
              0.3333333333333333,
              "#9c179e"
             ],
             [
              0.4444444444444444,
              "#bd3786"
             ],
             [
              0.5555555555555556,
              "#d8576b"
             ],
             [
              0.6666666666666666,
              "#ed7953"
             ],
             [
              0.7777777777777778,
              "#fb9f3a"
             ],
             [
              0.8888888888888888,
              "#fdca26"
             ],
             [
              1,
              "#f0f921"
             ]
            ],
            "type": "contour"
           }
          ],
          "contourcarpet": [
           {
            "colorbar": {
             "outlinewidth": 0,
             "ticks": ""
            },
            "type": "contourcarpet"
           }
          ],
          "heatmap": [
           {
            "colorbar": {
             "outlinewidth": 0,
             "ticks": ""
            },
            "colorscale": [
             [
              0,
              "#0d0887"
             ],
             [
              0.1111111111111111,
              "#46039f"
             ],
             [
              0.2222222222222222,
              "#7201a8"
             ],
             [
              0.3333333333333333,
              "#9c179e"
             ],
             [
              0.4444444444444444,
              "#bd3786"
             ],
             [
              0.5555555555555556,
              "#d8576b"
             ],
             [
              0.6666666666666666,
              "#ed7953"
             ],
             [
              0.7777777777777778,
              "#fb9f3a"
             ],
             [
              0.8888888888888888,
              "#fdca26"
             ],
             [
              1,
              "#f0f921"
             ]
            ],
            "type": "heatmap"
           }
          ],
          "heatmapgl": [
           {
            "colorbar": {
             "outlinewidth": 0,
             "ticks": ""
            },
            "colorscale": [
             [
              0,
              "#0d0887"
             ],
             [
              0.1111111111111111,
              "#46039f"
             ],
             [
              0.2222222222222222,
              "#7201a8"
             ],
             [
              0.3333333333333333,
              "#9c179e"
             ],
             [
              0.4444444444444444,
              "#bd3786"
             ],
             [
              0.5555555555555556,
              "#d8576b"
             ],
             [
              0.6666666666666666,
              "#ed7953"
             ],
             [
              0.7777777777777778,
              "#fb9f3a"
             ],
             [
              0.8888888888888888,
              "#fdca26"
             ],
             [
              1,
              "#f0f921"
             ]
            ],
            "type": "heatmapgl"
           }
          ],
          "histogram": [
           {
            "marker": {
             "pattern": {
              "fillmode": "overlay",
              "size": 10,
              "solidity": 0.2
             }
            },
            "type": "histogram"
           }
          ],
          "histogram2d": [
           {
            "colorbar": {
             "outlinewidth": 0,
             "ticks": ""
            },
            "colorscale": [
             [
              0,
              "#0d0887"
             ],
             [
              0.1111111111111111,
              "#46039f"
             ],
             [
              0.2222222222222222,
              "#7201a8"
             ],
             [
              0.3333333333333333,
              "#9c179e"
             ],
             [
              0.4444444444444444,
              "#bd3786"
             ],
             [
              0.5555555555555556,
              "#d8576b"
             ],
             [
              0.6666666666666666,
              "#ed7953"
             ],
             [
              0.7777777777777778,
              "#fb9f3a"
             ],
             [
              0.8888888888888888,
              "#fdca26"
             ],
             [
              1,
              "#f0f921"
             ]
            ],
            "type": "histogram2d"
           }
          ],
          "histogram2dcontour": [
           {
            "colorbar": {
             "outlinewidth": 0,
             "ticks": ""
            },
            "colorscale": [
             [
              0,
              "#0d0887"
             ],
             [
              0.1111111111111111,
              "#46039f"
             ],
             [
              0.2222222222222222,
              "#7201a8"
             ],
             [
              0.3333333333333333,
              "#9c179e"
             ],
             [
              0.4444444444444444,
              "#bd3786"
             ],
             [
              0.5555555555555556,
              "#d8576b"
             ],
             [
              0.6666666666666666,
              "#ed7953"
             ],
             [
              0.7777777777777778,
              "#fb9f3a"
             ],
             [
              0.8888888888888888,
              "#fdca26"
             ],
             [
              1,
              "#f0f921"
             ]
            ],
            "type": "histogram2dcontour"
           }
          ],
          "mesh3d": [
           {
            "colorbar": {
             "outlinewidth": 0,
             "ticks": ""
            },
            "type": "mesh3d"
           }
          ],
          "parcoords": [
           {
            "line": {
             "colorbar": {
              "outlinewidth": 0,
              "ticks": ""
             }
            },
            "type": "parcoords"
           }
          ],
          "pie": [
           {
            "automargin": true,
            "type": "pie"
           }
          ],
          "scatter": [
           {
            "fillpattern": {
             "fillmode": "overlay",
             "size": 10,
             "solidity": 0.2
            },
            "type": "scatter"
           }
          ],
          "scatter3d": [
           {
            "line": {
             "colorbar": {
              "outlinewidth": 0,
              "ticks": ""
             }
            },
            "marker": {
             "colorbar": {
              "outlinewidth": 0,
              "ticks": ""
             }
            },
            "type": "scatter3d"
           }
          ],
          "scattercarpet": [
           {
            "marker": {
             "colorbar": {
              "outlinewidth": 0,
              "ticks": ""
             }
            },
            "type": "scattercarpet"
           }
          ],
          "scattergeo": [
           {
            "marker": {
             "colorbar": {
              "outlinewidth": 0,
              "ticks": ""
             }
            },
            "type": "scattergeo"
           }
          ],
          "scattergl": [
           {
            "marker": {
             "colorbar": {
              "outlinewidth": 0,
              "ticks": ""
             }
            },
            "type": "scattergl"
           }
          ],
          "scattermapbox": [
           {
            "marker": {
             "colorbar": {
              "outlinewidth": 0,
              "ticks": ""
             }
            },
            "type": "scattermapbox"
           }
          ],
          "scatterpolar": [
           {
            "marker": {
             "colorbar": {
              "outlinewidth": 0,
              "ticks": ""
             }
            },
            "type": "scatterpolar"
           }
          ],
          "scatterpolargl": [
           {
            "marker": {
             "colorbar": {
              "outlinewidth": 0,
              "ticks": ""
             }
            },
            "type": "scatterpolargl"
           }
          ],
          "scatterternary": [
           {
            "marker": {
             "colorbar": {
              "outlinewidth": 0,
              "ticks": ""
             }
            },
            "type": "scatterternary"
           }
          ],
          "surface": [
           {
            "colorbar": {
             "outlinewidth": 0,
             "ticks": ""
            },
            "colorscale": [
             [
              0,
              "#0d0887"
             ],
             [
              0.1111111111111111,
              "#46039f"
             ],
             [
              0.2222222222222222,
              "#7201a8"
             ],
             [
              0.3333333333333333,
              "#9c179e"
             ],
             [
              0.4444444444444444,
              "#bd3786"
             ],
             [
              0.5555555555555556,
              "#d8576b"
             ],
             [
              0.6666666666666666,
              "#ed7953"
             ],
             [
              0.7777777777777778,
              "#fb9f3a"
             ],
             [
              0.8888888888888888,
              "#fdca26"
             ],
             [
              1,
              "#f0f921"
             ]
            ],
            "type": "surface"
           }
          ],
          "table": [
           {
            "cells": {
             "fill": {
              "color": "#EBF0F8"
             },
             "line": {
              "color": "white"
             }
            },
            "header": {
             "fill": {
              "color": "#C8D4E3"
             },
             "line": {
              "color": "white"
             }
            },
            "type": "table"
           }
          ]
         },
         "layout": {
          "annotationdefaults": {
           "arrowcolor": "#2a3f5f",
           "arrowhead": 0,
           "arrowwidth": 1
          },
          "autotypenumbers": "strict",
          "coloraxis": {
           "colorbar": {
            "outlinewidth": 0,
            "ticks": ""
           }
          },
          "colorscale": {
           "diverging": [
            [
             0,
             "#8e0152"
            ],
            [
             0.1,
             "#c51b7d"
            ],
            [
             0.2,
             "#de77ae"
            ],
            [
             0.3,
             "#f1b6da"
            ],
            [
             0.4,
             "#fde0ef"
            ],
            [
             0.5,
             "#f7f7f7"
            ],
            [
             0.6,
             "#e6f5d0"
            ],
            [
             0.7,
             "#b8e186"
            ],
            [
             0.8,
             "#7fbc41"
            ],
            [
             0.9,
             "#4d9221"
            ],
            [
             1,
             "#276419"
            ]
           ],
           "sequential": [
            [
             0,
             "#0d0887"
            ],
            [
             0.1111111111111111,
             "#46039f"
            ],
            [
             0.2222222222222222,
             "#7201a8"
            ],
            [
             0.3333333333333333,
             "#9c179e"
            ],
            [
             0.4444444444444444,
             "#bd3786"
            ],
            [
             0.5555555555555556,
             "#d8576b"
            ],
            [
             0.6666666666666666,
             "#ed7953"
            ],
            [
             0.7777777777777778,
             "#fb9f3a"
            ],
            [
             0.8888888888888888,
             "#fdca26"
            ],
            [
             1,
             "#f0f921"
            ]
           ],
           "sequentialminus": [
            [
             0,
             "#0d0887"
            ],
            [
             0.1111111111111111,
             "#46039f"
            ],
            [
             0.2222222222222222,
             "#7201a8"
            ],
            [
             0.3333333333333333,
             "#9c179e"
            ],
            [
             0.4444444444444444,
             "#bd3786"
            ],
            [
             0.5555555555555556,
             "#d8576b"
            ],
            [
             0.6666666666666666,
             "#ed7953"
            ],
            [
             0.7777777777777778,
             "#fb9f3a"
            ],
            [
             0.8888888888888888,
             "#fdca26"
            ],
            [
             1,
             "#f0f921"
            ]
           ]
          },
          "colorway": [
           "#636efa",
           "#EF553B",
           "#00cc96",
           "#ab63fa",
           "#FFA15A",
           "#19d3f3",
           "#FF6692",
           "#B6E880",
           "#FF97FF",
           "#FECB52"
          ],
          "font": {
           "color": "#2a3f5f"
          },
          "geo": {
           "bgcolor": "white",
           "lakecolor": "white",
           "landcolor": "#E5ECF6",
           "showlakes": true,
           "showland": true,
           "subunitcolor": "white"
          },
          "hoverlabel": {
           "align": "left"
          },
          "hovermode": "closest",
          "mapbox": {
           "style": "light"
          },
          "paper_bgcolor": "white",
          "plot_bgcolor": "#E5ECF6",
          "polar": {
           "angularaxis": {
            "gridcolor": "white",
            "linecolor": "white",
            "ticks": ""
           },
           "bgcolor": "#E5ECF6",
           "radialaxis": {
            "gridcolor": "white",
            "linecolor": "white",
            "ticks": ""
           }
          },
          "scene": {
           "xaxis": {
            "backgroundcolor": "#E5ECF6",
            "gridcolor": "white",
            "gridwidth": 2,
            "linecolor": "white",
            "showbackground": true,
            "ticks": "",
            "zerolinecolor": "white"
           },
           "yaxis": {
            "backgroundcolor": "#E5ECF6",
            "gridcolor": "white",
            "gridwidth": 2,
            "linecolor": "white",
            "showbackground": true,
            "ticks": "",
            "zerolinecolor": "white"
           },
           "zaxis": {
            "backgroundcolor": "#E5ECF6",
            "gridcolor": "white",
            "gridwidth": 2,
            "linecolor": "white",
            "showbackground": true,
            "ticks": "",
            "zerolinecolor": "white"
           }
          },
          "shapedefaults": {
           "line": {
            "color": "#2a3f5f"
           }
          },
          "ternary": {
           "aaxis": {
            "gridcolor": "white",
            "linecolor": "white",
            "ticks": ""
           },
           "baxis": {
            "gridcolor": "white",
            "linecolor": "white",
            "ticks": ""
           },
           "bgcolor": "#E5ECF6",
           "caxis": {
            "gridcolor": "white",
            "linecolor": "white",
            "ticks": ""
           }
          },
          "title": {
           "x": 0.05
          },
          "xaxis": {
           "automargin": true,
           "gridcolor": "white",
           "linecolor": "white",
           "ticks": "",
           "title": {
            "standoff": 15
           },
           "zerolinecolor": "white",
           "zerolinewidth": 2
          },
          "yaxis": {
           "automargin": true,
           "gridcolor": "white",
           "linecolor": "white",
           "ticks": "",
           "title": {
            "standoff": 15
           },
           "zerolinecolor": "white",
           "zerolinewidth": 2
          }
         }
        },
        "title": {
         "text": "Percentage with M: top summary of value 1 by category (indicated in red).",
         "x": 0.5,
         "xanchor": "center",
         "yanchor": "bottom"
        },
        "xaxis": {
         "anchor": "y",
         "domain": [
          0,
          1
         ]
        },
        "xaxis2": {
         "anchor": "y2",
         "domain": [
          0,
          1
         ]
        },
        "xaxis3": {
         "anchor": "y3",
         "domain": [
          0,
          1
         ],
         "title": {
          "standoff": 0,
          "text": "% of Total"
         }
        },
        "xaxis4": {
         "anchor": "y4",
         "domain": [
          0,
          1
         ]
        },
        "yaxis": {
         "anchor": "x",
         "domain": [
          0.84375,
          1
         ],
         "title": {
          "text": ""
         }
        },
        "yaxis2": {
         "anchor": "x2",
         "domain": [
          0.5625,
          0.71875
         ]
        },
        "yaxis3": {
         "anchor": "x3",
         "domain": [
          0.28125,
          0.4375
         ]
        },
        "yaxis4": {
         "anchor": "x4",
         "domain": [
          0,
          0.15625
         ]
        }
       }
      }
     },
     "metadata": {},
     "output_type": "display_data"
    },
    {
     "data": {
      "application/vnd.plotly.v1+json": {
       "config": {
        "plotlyServerURL": "https://plot.ly"
       },
       "data": [
        {
         "marker": {
          "color": "blue"
         },
         "opacity": 0.5,
         "orientation": "h",
         "type": "histogram",
         "xaxis": "x",
         "y": [
          "Describe the interesting points to your coworker at the water cooler",
          "Describe the interesting points to your coworker at the water cooler",
          "Describe the interesting points to your coworker at the water cooler",
          "Describe the interesting points to your coworker at the water cooler",
          "Describe the interesting points to your coworker at the water cooler",
          "Describe the interesting points to your coworker at the water cooler",
          "Describe the interesting points to your coworker at the water cooler",
          "Describe the interesting points to your coworker at the water cooler",
          "Describe the interesting points to your coworker at the water cooler",
          "Describe the interesting points to your coworker at the water cooler",
          "Describe the interesting points to your coworker at the water cooler",
          "Describe the interesting points to your coworker at the water cooler",
          "Describe the interesting points to your coworker at the water cooler",
          "Describe the interesting points to your coworker at the water cooler",
          "Describe the interesting points to your coworker at the water cooler",
          "Describe the interesting points to your coworker at the water cooler",
          "Describe the interesting points to your coworker at the water cooler",
          "Describe the interesting points to your coworker at the water cooler",
          "Describe the interesting points to your coworker at the water cooler",
          "Describe the interesting points to your coworker at the water cooler",
          "Describe the interesting points to your coworker at the water cooler",
          "Describe the interesting points to your coworker at the water cooler",
          "Describe the interesting points to your coworker at the water cooler",
          "Describe the interesting points to your coworker at the water cooler",
          "Describe the interesting points to your coworker at the water cooler",
          "Describe the interesting points to your coworker at the water cooler",
          "Describe the interesting points to your coworker at the water cooler",
          "Describe the interesting points to your coworker at the water cooler",
          "Describe the interesting points to your coworker at the water cooler",
          "Describe the interesting points to your coworker at the water cooler",
          "Describe the interesting points to your coworker at the water cooler",
          "Describe the interesting points to your coworker at the water cooler",
          "Describe the interesting points to your coworker at the water cooler",
          "Describe the interesting points to your coworker at the water cooler",
          "Describe the interesting points to your coworker at the water cooler",
          "Describe the interesting points to your coworker at the water cooler",
          "Describe the interesting points to your coworker at the water cooler",
          "Describe the interesting points to your coworker at the water cooler",
          "Describe the interesting points to your coworker at the water cooler",
          "Describe the interesting points to your coworker at the water cooler",
          "Describe the interesting points to your coworker at the water cooler",
          "Describe the interesting points to your coworker at the water cooler",
          "Describe the interesting points to your coworker at the water cooler",
          "Describe the interesting points to your coworker at the water cooler",
          "Describe the interesting points to your coworker at the water cooler",
          "Describe the interesting points to your coworker at the water cooler",
          "Describe the interesting points to your coworker at the water cooler",
          "Describe the interesting points to your coworker at the water cooler",
          "Describe the interesting points to your coworker at the water cooler",
          "Describe the interesting points to your coworker at the water cooler",
          "Describe the interesting points to your coworker at the water cooler",
          "Describe the interesting points to your coworker at the water cooler",
          "Describe the interesting points to your coworker at the water cooler",
          "Describe the interesting points to your coworker at the water cooler",
          "Describe the interesting points to your coworker at the water cooler",
          "Describe the interesting points to your coworker at the water cooler",
          "Describe the interesting points to your coworker at the water cooler",
          "Describe the interesting points to your coworker at the water cooler",
          "Summarize for a LinkedIn post",
          "Summarize for a LinkedIn post",
          "Summarize for a LinkedIn post",
          "Summarize for a LinkedIn post",
          "Summarize for a LinkedIn post",
          "Summarize for a LinkedIn post",
          "Summarize for a LinkedIn post",
          "Summarize for a LinkedIn post",
          "Summarize for a LinkedIn post",
          "Summarize for a LinkedIn post",
          "Summarize for a LinkedIn post",
          "Summarize for a LinkedIn post",
          "Summarize for a LinkedIn post",
          "Summarize for a LinkedIn post",
          "Summarize for a LinkedIn post",
          "Summarize for a LinkedIn post",
          "Summarize for a LinkedIn post",
          "Summarize for a LinkedIn post",
          "Summarize for a LinkedIn post",
          "Summarize for a LinkedIn post",
          "Summarize for a LinkedIn post",
          "Summarize for a LinkedIn post",
          "Summarize for a LinkedIn post",
          "Summarize for a LinkedIn post",
          "Summarize for a LinkedIn post",
          "Summarize for a LinkedIn post",
          "Summarize for a LinkedIn post",
          "Summarize for a LinkedIn post",
          "Summarize for a LinkedIn post",
          "Summarize for a LinkedIn post",
          "Summarize for a LinkedIn post",
          "Summarize for a LinkedIn post",
          "Summarize for a LinkedIn post",
          "Summarize for a LinkedIn post",
          "Summarize for a LinkedIn post",
          "Summarize for a LinkedIn post",
          "Summarize for a LinkedIn post",
          "Summarize for a LinkedIn post",
          "Summarize for a LinkedIn post",
          "Summarize for a LinkedIn post",
          "Summarize for a LinkedIn post",
          "Summarize for a LinkedIn post",
          "Summarize for a LinkedIn post",
          "Summarize for a LinkedIn post",
          "Summarize for a LinkedIn post",
          "Summarize for a LinkedIn post",
          "Summarize for a LinkedIn post",
          "Summarize for a LinkedIn post",
          "Summarize for a LinkedIn post",
          "Summarize for a LinkedIn post",
          "Summarize for a LinkedIn post",
          "Summarize for a LinkedIn post",
          "Summarize for a LinkedIn post",
          "Summarize in an engaging way",
          "Summarize in an engaging way",
          "Summarize in an engaging way",
          "Summarize in an engaging way",
          "Summarize in an engaging way"
         ],
         "yaxis": "y"
        },
        {
         "marker": {
          "color": "red"
         },
         "opacity": 0.5,
         "orientation": "h",
         "type": "histogram",
         "xaxis": "x",
         "y": [
          "Describe the interesting points to your coworker at the water cooler",
          "Describe the interesting points to your coworker at the water cooler",
          "Describe the interesting points to your coworker at the water cooler",
          "Describe the interesting points to your coworker at the water cooler",
          "Describe the interesting points to your coworker at the water cooler",
          "Describe the interesting points to your coworker at the water cooler",
          "Describe the interesting points to your coworker at the water cooler",
          "Describe the interesting points to your coworker at the water cooler",
          "Describe the interesting points to your coworker at the water cooler",
          "Summarize for a LinkedIn post",
          "Summarize for a LinkedIn post",
          "Summarize for a LinkedIn post",
          "Summarize for a LinkedIn post"
         ],
         "yaxis": "y"
        },
        {
         "marker": {
          "color": "blue"
         },
         "opacity": 0.5,
         "orientation": "h",
         "type": "histogram",
         "xaxis": "x2",
         "y": [
          "Use language appropriate for for a lay audience",
          "Use language appropriate for for a lay audience",
          "Use language appropriate for for a lay audience",
          "Use language appropriate for for a lay audience",
          "Use language appropriate for for a lay audience",
          "Use language appropriate for for a lay audience",
          "Use language appropriate for for a lay audience",
          "Use language appropriate for for a lay audience",
          "Use language appropriate for for a lay audience",
          "Use language appropriate for for a lay audience",
          "Use language appropriate for for a lay audience",
          "Use language appropriate for for a lay audience",
          "Use language appropriate for for a lay audience",
          "Use language appropriate for for a lay audience",
          "Use language appropriate for for a lay audience",
          "Use language appropriate for for a lay audience",
          "Use language appropriate for for a lay audience",
          "Use language appropriate for for a lay audience",
          "Use language appropriate for for people without a science background",
          "Use language appropriate for for people without a science background",
          "Use language appropriate for for people without a science background",
          "Use language appropriate for for people without a science background",
          "Use language appropriate for for people without a science background",
          "Use language appropriate for for people without a science background",
          "Use language appropriate for for people without a science background",
          "Use language appropriate for for people without a science background",
          "Use language appropriate for for people without a science background",
          "Use language appropriate for for people without a science background",
          "Use language appropriate for for people without a science background",
          "Use language appropriate for for people without a science background",
          "Use language appropriate for for people without a science background",
          "Use language appropriate for for people without a science background",
          "Use language appropriate for for people without a science background",
          "Use language appropriate for for people without a science background",
          "Use language appropriate for for people without a science background",
          "Use language appropriate for for people without a science background",
          "Use language appropriate for for people without a science background",
          "Use language appropriate for for people without a science background",
          "Use language appropriate for for people without a science background",
          "Use language appropriate for for people without a science background",
          "Use language appropriate for for people without a science background",
          "Use language appropriate for for people without a science background",
          "Use language appropriate for for people without a science background",
          "Use language appropriate for for people without a science background",
          "Use language appropriate for for people without a science background",
          "Use language appropriate for for people without a science background",
          "Use language appropriate for for people without a science background",
          "Use language appropriate for for people without a science background",
          "Use language appropriate for for people without a science background",
          "Use language appropriate for for people without a science background",
          "Use language appropriate for for people without a science background",
          "Use language appropriate for for people without a science background",
          "Use language appropriate for for people without a science background",
          "Use language appropriate for for people without a science background",
          "Use language appropriate for for people without a science background",
          "Use language appropriate for for people without a science background",
          "Use language appropriate for for people without a science background",
          "Use language appropriate for for people without a science background",
          "Use language appropriate for for people without a science background",
          "Use language appropriate for for people without a science background",
          "Use language appropriate for for people without a science background",
          "Use language appropriate for for people without a science background",
          "Use language appropriate for for people without a science background",
          "Use language appropriate for for people without a science background",
          "Use language appropriate for for people without a science background",
          "Use language appropriate for for people without a science background",
          "Use language appropriate for for people without a science background",
          "Use language appropriate for for people without a science background",
          "Use language appropriate for for people without a science background",
          "Use terms a 12-year-old can understand.",
          "Use terms a 12-year-old can understand.",
          "Use terms a 12-year-old can understand.",
          "Use terms a 12-year-old can understand.",
          "Use terms a 12-year-old can understand.",
          "Use terms a 12-year-old can understand.",
          "Use terms a 12-year-old can understand.",
          "Use terms a 12-year-old can understand.",
          "Use terms a 12-year-old can understand.",
          "Use terms a 12-year-old can understand.",
          "Use terms a 12-year-old can understand.",
          "Use terms a 12-year-old can understand.",
          "Use terms a 12-year-old can understand.",
          "Use terms a 12-year-old can understand.",
          "Use terms a 12-year-old can understand.",
          "Use terms a 12-year-old can understand.",
          "Use terms a 12-year-old can understand.",
          "Use terms a 12-year-old can understand.",
          "Use terms a 12-year-old can understand.",
          "Use terms a 12-year-old can understand.",
          "Use terms a 12-year-old can understand.",
          "Use terms a 12-year-old can understand.",
          "Use terms a 12-year-old can understand.",
          "Use terms a 12-year-old can understand.",
          "Use terms a 12-year-old can understand.",
          "Use terms a 12-year-old can understand.",
          "Use terms a 12-year-old can understand.",
          "Use terms a 12-year-old can understand.",
          "Use terms a 12-year-old can understand.",
          "Use terms a 12-year-old can understand.",
          "Use terms a 12-year-old can understand.",
          "Use terms a 12-year-old can understand.",
          "Use terms a 12-year-old can understand.",
          "Use terms a 12-year-old can understand.",
          "Use terms a 12-year-old can understand.",
          "Use terms a 12-year-old can understand.",
          "Use terms a 12-year-old can understand.",
          "Use terms a 12-year-old can understand.",
          "Use terms a 12-year-old can understand.",
          "Use terms a 12-year-old can understand.",
          "Use terms a 12-year-old can understand.",
          "Use terms a 12-year-old can understand.",
          "Use terms a 12-year-old can understand.",
          "Use terms a 12-year-old can understand.",
          "Use terms a 12-year-old can understand.",
          "Use terms a 12-year-old can understand.",
          "Use terms a 12-year-old can understand."
         ],
         "yaxis": "y2"
        },
        {
         "marker": {
          "color": "red"
         },
         "opacity": 0.5,
         "orientation": "h",
         "type": "histogram",
         "xaxis": "x2",
         "y": [
          "Use language appropriate for for a lay audience",
          "Use language appropriate for for a lay audience",
          "Use language appropriate for for people without a science background",
          "Use language appropriate for for people without a science background",
          "Use language appropriate for for people without a science background",
          "Use language appropriate for for people without a science background",
          "Use terms a 12-year-old can understand.",
          "Use terms a 12-year-old can understand.",
          "Use terms a 12-year-old can understand.",
          "Use terms a 12-year-old can understand.",
          "Use terms a 12-year-old can understand.",
          "Use terms a 12-year-old can understand.",
          "Use terms a 12-year-old can understand."
         ],
         "yaxis": "y2"
        },
        {
         "marker": {
          "color": "blue"
         },
         "opacity": 0.5,
         "orientation": "h",
         "type": "histogram",
         "xaxis": "x3",
         "y": [
          "Add 1-2 sentences to make this relevant for",
          "Add 1-2 sentences to make this relevant for",
          "Add 1-2 sentences to make this relevant for",
          "Add 1-2 sentences to make this relevant for",
          "Add 1-2 sentences to make this relevant for",
          "Add 1-2 sentences to make this relevant for",
          "Add 1-2 sentences to make this relevant for",
          "Add 1-2 sentences to make this relevant for",
          "Add 1-2 sentences to make this relevant for",
          "Add 1-2 sentences to make this relevant for",
          "Add 1-2 sentences to make this relevant for",
          "Add 1-2 sentences to make this relevant for",
          "Add 1-2 sentences to make this relevant for",
          "Add 1-2 sentences to make this relevant for",
          "Add 1-2 sentences to make this relevant for",
          "Add 1-2 sentences to make this relevant for",
          "Add 1-2 sentences to make this relevant for",
          "Add 1-2 sentences to make this relevant for",
          "Add 1-2 sentences to make this relevant for",
          "Add 1-2 sentences to make this relevant for",
          "Add 1-2 sentences to make this relevant for",
          "Add 1-2 sentences to make this relevant for",
          "Add 1-2 sentences to make this relevant for",
          "Add 1-2 sentences to make this relevant for",
          "Add 1-2 sentences to make this relevant for",
          "Add 1-2 sentences to make this relevant for",
          "Add 1-2 sentences to make this relevant for",
          "Add 1-2 sentences to make this relevant for",
          "Add 1-2 sentences to make this relevant for",
          "Add 1-2 sentences to make this relevant for",
          "Add 1-2 sentences to make this relevant for",
          "Add 1-2 sentences to make this relevant for",
          "Add 1-2 sentences to make this relevant for",
          "Add 1-2 sentences to make this relevant for",
          "Add 1-2 sentences to make this relevant for",
          "Add 1-2 sentences to make this relevant for",
          "Add 1-2 sentences to make this relevant for",
          "Add 1-2 sentences to make this relevant for",
          "Add 1-2 sentences to make this relevant for",
          "Add 1-2 sentences to make this relevant for",
          "Add 1-2 sentences to make this relevant for",
          "Add 1-2 sentences to make this relevant for",
          "Add 1-2 sentences to make this relevant for",
          "Add 1-2 sentences to make this relevant for",
          "Add 1-2 sentences to make this relevant for",
          "Add 1-2 sentences to make this relevant for",
          "Add 1-2 sentences to make this relevant for",
          "Add 1-2 sentences to make this relevant for",
          "Add 1-2 sentences to make this relevant for",
          "Add 1-2 sentences to make this relevant for",
          "Add 1-2 sentences to make this relevant for",
          "Add 1-2 sentences to make this relevant for",
          "Add 1-2 sentences to make this relevant for",
          "Add 1-2 sentences to make this relevant for",
          "Add 1-2 sentences to make this relevant for",
          "Add 1-2 sentences to make this relevant for",
          "Add 1-2 sentences to make this relevant for",
          "Add 1-2 sentences to make this relevant for",
          "Add 1-2 sentences to make this relevant for",
          "Add 1-2 sentences to make this relevant for",
          "Add 1-2 sentences to make this relevant for",
          "Add 1-2 sentences to make this relevant for",
          "Add 1-2 sentences to make this relevant for",
          "Add 1-2 sentences to make this relevant for",
          "Add 1-2 sentences to make this relevant for",
          "Add 1-2 sentences to make this relevant for",
          "Add 1-2 sentences to make this relevant for",
          "Add 1-2 sentences to make this relevant for",
          "Add 1-2 sentences to make this relevant for",
          "Add 1-2 sentences to make this relevant for",
          "Add 1-2 sentences to make this relevant for",
          "Add 1-2 sentences to make this relevant for",
          "Add 1-2 sentences to make this relevant for",
          "Add 1-2 sentences to make this relevant for",
          "Add 1-2 sentences to make this relevant for",
          "Add 1-2 sentences to make this relevant for",
          "Add 1-2 sentences to make this relevant for",
          "Add 1-2 sentences to make this relevant for",
          "Add 1-2 sentences to make this relevant for",
          "Add 1-2 sentences to make this relevant for",
          "Add 1-2 sentences to make this relevant for",
          "Add 1-2 sentences to make this relevant for",
          "Add 1-2 sentences to make this relevant for",
          "Add 1-2 sentences to make this relevant for",
          "Add 1-2 sentences to make this relevant for",
          "Write this so it is relevant for",
          "Write this so it is relevant for",
          "Write this so it is relevant for",
          "Write this so it is relevant for",
          "Write this so it is relevant for",
          "Write this so it is relevant for",
          "Write this so it is relevant for",
          "Write this so it is relevant for",
          "Write this so it is relevant for",
          "Write this so it is relevant for",
          "Write this so it is relevant for",
          "Write this so it is relevant for",
          "Write this so it is relevant for",
          "Write this so it is relevant for",
          "Write this so it is relevant for",
          "Write this so it is relevant for",
          "Write this so it is relevant for",
          "Write this so it is relevant for",
          "Write this so it is relevant for",
          "Write this so it is relevant for",
          "Write this so it is relevant for",
          "Write this so it is relevant for",
          "Write this so it is relevant for",
          "Write this so it is relevant for",
          "Write this so it is relevant for",
          "Write this so it is relevant for",
          "Write this so it is relevant for",
          "Write this so it is relevant for",
          "Write this so it is relevant for",
          "Write this so it is relevant for",
          "Write this so it is relevant for"
         ],
         "yaxis": "y3"
        },
        {
         "marker": {
          "color": "red"
         },
         "opacity": 0.5,
         "orientation": "h",
         "type": "histogram",
         "xaxis": "x3",
         "y": [
          "Add 1-2 sentences to make this relevant for",
          "Add 1-2 sentences to make this relevant for",
          "Add 1-2 sentences to make this relevant for",
          "Add 1-2 sentences to make this relevant for",
          "Add 1-2 sentences to make this relevant for",
          "Add 1-2 sentences to make this relevant for",
          "Add 1-2 sentences to make this relevant for",
          "Add 1-2 sentences to make this relevant for",
          "Add 1-2 sentences to make this relevant for",
          "Write this so it is relevant for",
          "Write this so it is relevant for",
          "Write this so it is relevant for",
          "Write this so it is relevant for"
         ],
         "yaxis": "y3"
        }
       ],
       "layout": {
        "annotations": [
         {
          "font": {
           "size": 16
          },
          "showarrow": false,
          "text": "H: summarization task",
          "x": 0.5,
          "xanchor": "center",
          "xref": "paper",
          "y": 1,
          "yanchor": "bottom",
          "yref": "paper"
         },
         {
          "font": {
           "size": 16
          },
          "showarrow": false,
          "text": "Q: full simplify task",
          "x": 0.5,
          "xanchor": "center",
          "xref": "paper",
          "y": 0.6111111111111112,
          "yanchor": "bottom",
          "yref": "paper"
         },
         {
          "font": {
           "size": 16
          },
          "showarrow": false,
          "text": "V: add relevance task",
          "x": 0.5,
          "xanchor": "center",
          "xref": "paper",
          "y": 0.22222222222222224,
          "yanchor": "bottom",
          "yref": "paper"
         }
        ],
        "bargap": 0.1,
        "barmode": "group",
        "showlegend": false,
        "template": {
         "data": {
          "bar": [
           {
            "error_x": {
             "color": "#2a3f5f"
            },
            "error_y": {
             "color": "#2a3f5f"
            },
            "marker": {
             "line": {
              "color": "#E5ECF6",
              "width": 0.5
             },
             "pattern": {
              "fillmode": "overlay",
              "size": 10,
              "solidity": 0.2
             }
            },
            "type": "bar"
           }
          ],
          "barpolar": [
           {
            "marker": {
             "line": {
              "color": "#E5ECF6",
              "width": 0.5
             },
             "pattern": {
              "fillmode": "overlay",
              "size": 10,
              "solidity": 0.2
             }
            },
            "type": "barpolar"
           }
          ],
          "carpet": [
           {
            "aaxis": {
             "endlinecolor": "#2a3f5f",
             "gridcolor": "white",
             "linecolor": "white",
             "minorgridcolor": "white",
             "startlinecolor": "#2a3f5f"
            },
            "baxis": {
             "endlinecolor": "#2a3f5f",
             "gridcolor": "white",
             "linecolor": "white",
             "minorgridcolor": "white",
             "startlinecolor": "#2a3f5f"
            },
            "type": "carpet"
           }
          ],
          "choropleth": [
           {
            "colorbar": {
             "outlinewidth": 0,
             "ticks": ""
            },
            "type": "choropleth"
           }
          ],
          "contour": [
           {
            "colorbar": {
             "outlinewidth": 0,
             "ticks": ""
            },
            "colorscale": [
             [
              0,
              "#0d0887"
             ],
             [
              0.1111111111111111,
              "#46039f"
             ],
             [
              0.2222222222222222,
              "#7201a8"
             ],
             [
              0.3333333333333333,
              "#9c179e"
             ],
             [
              0.4444444444444444,
              "#bd3786"
             ],
             [
              0.5555555555555556,
              "#d8576b"
             ],
             [
              0.6666666666666666,
              "#ed7953"
             ],
             [
              0.7777777777777778,
              "#fb9f3a"
             ],
             [
              0.8888888888888888,
              "#fdca26"
             ],
             [
              1,
              "#f0f921"
             ]
            ],
            "type": "contour"
           }
          ],
          "contourcarpet": [
           {
            "colorbar": {
             "outlinewidth": 0,
             "ticks": ""
            },
            "type": "contourcarpet"
           }
          ],
          "heatmap": [
           {
            "colorbar": {
             "outlinewidth": 0,
             "ticks": ""
            },
            "colorscale": [
             [
              0,
              "#0d0887"
             ],
             [
              0.1111111111111111,
              "#46039f"
             ],
             [
              0.2222222222222222,
              "#7201a8"
             ],
             [
              0.3333333333333333,
              "#9c179e"
             ],
             [
              0.4444444444444444,
              "#bd3786"
             ],
             [
              0.5555555555555556,
              "#d8576b"
             ],
             [
              0.6666666666666666,
              "#ed7953"
             ],
             [
              0.7777777777777778,
              "#fb9f3a"
             ],
             [
              0.8888888888888888,
              "#fdca26"
             ],
             [
              1,
              "#f0f921"
             ]
            ],
            "type": "heatmap"
           }
          ],
          "heatmapgl": [
           {
            "colorbar": {
             "outlinewidth": 0,
             "ticks": ""
            },
            "colorscale": [
             [
              0,
              "#0d0887"
             ],
             [
              0.1111111111111111,
              "#46039f"
             ],
             [
              0.2222222222222222,
              "#7201a8"
             ],
             [
              0.3333333333333333,
              "#9c179e"
             ],
             [
              0.4444444444444444,
              "#bd3786"
             ],
             [
              0.5555555555555556,
              "#d8576b"
             ],
             [
              0.6666666666666666,
              "#ed7953"
             ],
             [
              0.7777777777777778,
              "#fb9f3a"
             ],
             [
              0.8888888888888888,
              "#fdca26"
             ],
             [
              1,
              "#f0f921"
             ]
            ],
            "type": "heatmapgl"
           }
          ],
          "histogram": [
           {
            "marker": {
             "pattern": {
              "fillmode": "overlay",
              "size": 10,
              "solidity": 0.2
             }
            },
            "type": "histogram"
           }
          ],
          "histogram2d": [
           {
            "colorbar": {
             "outlinewidth": 0,
             "ticks": ""
            },
            "colorscale": [
             [
              0,
              "#0d0887"
             ],
             [
              0.1111111111111111,
              "#46039f"
             ],
             [
              0.2222222222222222,
              "#7201a8"
             ],
             [
              0.3333333333333333,
              "#9c179e"
             ],
             [
              0.4444444444444444,
              "#bd3786"
             ],
             [
              0.5555555555555556,
              "#d8576b"
             ],
             [
              0.6666666666666666,
              "#ed7953"
             ],
             [
              0.7777777777777778,
              "#fb9f3a"
             ],
             [
              0.8888888888888888,
              "#fdca26"
             ],
             [
              1,
              "#f0f921"
             ]
            ],
            "type": "histogram2d"
           }
          ],
          "histogram2dcontour": [
           {
            "colorbar": {
             "outlinewidth": 0,
             "ticks": ""
            },
            "colorscale": [
             [
              0,
              "#0d0887"
             ],
             [
              0.1111111111111111,
              "#46039f"
             ],
             [
              0.2222222222222222,
              "#7201a8"
             ],
             [
              0.3333333333333333,
              "#9c179e"
             ],
             [
              0.4444444444444444,
              "#bd3786"
             ],
             [
              0.5555555555555556,
              "#d8576b"
             ],
             [
              0.6666666666666666,
              "#ed7953"
             ],
             [
              0.7777777777777778,
              "#fb9f3a"
             ],
             [
              0.8888888888888888,
              "#fdca26"
             ],
             [
              1,
              "#f0f921"
             ]
            ],
            "type": "histogram2dcontour"
           }
          ],
          "mesh3d": [
           {
            "colorbar": {
             "outlinewidth": 0,
             "ticks": ""
            },
            "type": "mesh3d"
           }
          ],
          "parcoords": [
           {
            "line": {
             "colorbar": {
              "outlinewidth": 0,
              "ticks": ""
             }
            },
            "type": "parcoords"
           }
          ],
          "pie": [
           {
            "automargin": true,
            "type": "pie"
           }
          ],
          "scatter": [
           {
            "fillpattern": {
             "fillmode": "overlay",
             "size": 10,
             "solidity": 0.2
            },
            "type": "scatter"
           }
          ],
          "scatter3d": [
           {
            "line": {
             "colorbar": {
              "outlinewidth": 0,
              "ticks": ""
             }
            },
            "marker": {
             "colorbar": {
              "outlinewidth": 0,
              "ticks": ""
             }
            },
            "type": "scatter3d"
           }
          ],
          "scattercarpet": [
           {
            "marker": {
             "colorbar": {
              "outlinewidth": 0,
              "ticks": ""
             }
            },
            "type": "scattercarpet"
           }
          ],
          "scattergeo": [
           {
            "marker": {
             "colorbar": {
              "outlinewidth": 0,
              "ticks": ""
             }
            },
            "type": "scattergeo"
           }
          ],
          "scattergl": [
           {
            "marker": {
             "colorbar": {
              "outlinewidth": 0,
              "ticks": ""
             }
            },
            "type": "scattergl"
           }
          ],
          "scattermapbox": [
           {
            "marker": {
             "colorbar": {
              "outlinewidth": 0,
              "ticks": ""
             }
            },
            "type": "scattermapbox"
           }
          ],
          "scatterpolar": [
           {
            "marker": {
             "colorbar": {
              "outlinewidth": 0,
              "ticks": ""
             }
            },
            "type": "scatterpolar"
           }
          ],
          "scatterpolargl": [
           {
            "marker": {
             "colorbar": {
              "outlinewidth": 0,
              "ticks": ""
             }
            },
            "type": "scatterpolargl"
           }
          ],
          "scatterternary": [
           {
            "marker": {
             "colorbar": {
              "outlinewidth": 0,
              "ticks": ""
             }
            },
            "type": "scatterternary"
           }
          ],
          "surface": [
           {
            "colorbar": {
             "outlinewidth": 0,
             "ticks": ""
            },
            "colorscale": [
             [
              0,
              "#0d0887"
             ],
             [
              0.1111111111111111,
              "#46039f"
             ],
             [
              0.2222222222222222,
              "#7201a8"
             ],
             [
              0.3333333333333333,
              "#9c179e"
             ],
             [
              0.4444444444444444,
              "#bd3786"
             ],
             [
              0.5555555555555556,
              "#d8576b"
             ],
             [
              0.6666666666666666,
              "#ed7953"
             ],
             [
              0.7777777777777778,
              "#fb9f3a"
             ],
             [
              0.8888888888888888,
              "#fdca26"
             ],
             [
              1,
              "#f0f921"
             ]
            ],
            "type": "surface"
           }
          ],
          "table": [
           {
            "cells": {
             "fill": {
              "color": "#EBF0F8"
             },
             "line": {
              "color": "white"
             }
            },
            "header": {
             "fill": {
              "color": "#C8D4E3"
             },
             "line": {
              "color": "white"
             }
            },
            "type": "table"
           }
          ]
         },
         "layout": {
          "annotationdefaults": {
           "arrowcolor": "#2a3f5f",
           "arrowhead": 0,
           "arrowwidth": 1
          },
          "autotypenumbers": "strict",
          "coloraxis": {
           "colorbar": {
            "outlinewidth": 0,
            "ticks": ""
           }
          },
          "colorscale": {
           "diverging": [
            [
             0,
             "#8e0152"
            ],
            [
             0.1,
             "#c51b7d"
            ],
            [
             0.2,
             "#de77ae"
            ],
            [
             0.3,
             "#f1b6da"
            ],
            [
             0.4,
             "#fde0ef"
            ],
            [
             0.5,
             "#f7f7f7"
            ],
            [
             0.6,
             "#e6f5d0"
            ],
            [
             0.7,
             "#b8e186"
            ],
            [
             0.8,
             "#7fbc41"
            ],
            [
             0.9,
             "#4d9221"
            ],
            [
             1,
             "#276419"
            ]
           ],
           "sequential": [
            [
             0,
             "#0d0887"
            ],
            [
             0.1111111111111111,
             "#46039f"
            ],
            [
             0.2222222222222222,
             "#7201a8"
            ],
            [
             0.3333333333333333,
             "#9c179e"
            ],
            [
             0.4444444444444444,
             "#bd3786"
            ],
            [
             0.5555555555555556,
             "#d8576b"
            ],
            [
             0.6666666666666666,
             "#ed7953"
            ],
            [
             0.7777777777777778,
             "#fb9f3a"
            ],
            [
             0.8888888888888888,
             "#fdca26"
            ],
            [
             1,
             "#f0f921"
            ]
           ],
           "sequentialminus": [
            [
             0,
             "#0d0887"
            ],
            [
             0.1111111111111111,
             "#46039f"
            ],
            [
             0.2222222222222222,
             "#7201a8"
            ],
            [
             0.3333333333333333,
             "#9c179e"
            ],
            [
             0.4444444444444444,
             "#bd3786"
            ],
            [
             0.5555555555555556,
             "#d8576b"
            ],
            [
             0.6666666666666666,
             "#ed7953"
            ],
            [
             0.7777777777777778,
             "#fb9f3a"
            ],
            [
             0.8888888888888888,
             "#fdca26"
            ],
            [
             1,
             "#f0f921"
            ]
           ]
          },
          "colorway": [
           "#636efa",
           "#EF553B",
           "#00cc96",
           "#ab63fa",
           "#FFA15A",
           "#19d3f3",
           "#FF6692",
           "#B6E880",
           "#FF97FF",
           "#FECB52"
          ],
          "font": {
           "color": "#2a3f5f"
          },
          "geo": {
           "bgcolor": "white",
           "lakecolor": "white",
           "landcolor": "#E5ECF6",
           "showlakes": true,
           "showland": true,
           "subunitcolor": "white"
          },
          "hoverlabel": {
           "align": "left"
          },
          "hovermode": "closest",
          "mapbox": {
           "style": "light"
          },
          "paper_bgcolor": "white",
          "plot_bgcolor": "#E5ECF6",
          "polar": {
           "angularaxis": {
            "gridcolor": "white",
            "linecolor": "white",
            "ticks": ""
           },
           "bgcolor": "#E5ECF6",
           "radialaxis": {
            "gridcolor": "white",
            "linecolor": "white",
            "ticks": ""
           }
          },
          "scene": {
           "xaxis": {
            "backgroundcolor": "#E5ECF6",
            "gridcolor": "white",
            "gridwidth": 2,
            "linecolor": "white",
            "showbackground": true,
            "ticks": "",
            "zerolinecolor": "white"
           },
           "yaxis": {
            "backgroundcolor": "#E5ECF6",
            "gridcolor": "white",
            "gridwidth": 2,
            "linecolor": "white",
            "showbackground": true,
            "ticks": "",
            "zerolinecolor": "white"
           },
           "zaxis": {
            "backgroundcolor": "#E5ECF6",
            "gridcolor": "white",
            "gridwidth": 2,
            "linecolor": "white",
            "showbackground": true,
            "ticks": "",
            "zerolinecolor": "white"
           }
          },
          "shapedefaults": {
           "line": {
            "color": "#2a3f5f"
           }
          },
          "ternary": {
           "aaxis": {
            "gridcolor": "white",
            "linecolor": "white",
            "ticks": ""
           },
           "baxis": {
            "gridcolor": "white",
            "linecolor": "white",
            "ticks": ""
           },
           "bgcolor": "#E5ECF6",
           "caxis": {
            "gridcolor": "white",
            "linecolor": "white",
            "ticks": ""
           }
          },
          "title": {
           "x": 0.05
          },
          "xaxis": {
           "automargin": true,
           "gridcolor": "white",
           "linecolor": "white",
           "ticks": "",
           "title": {
            "standoff": 15
           },
           "zerolinecolor": "white",
           "zerolinewidth": 2
          },
          "yaxis": {
           "automargin": true,
           "gridcolor": "white",
           "linecolor": "white",
           "ticks": "",
           "title": {
            "standoff": 15
           },
           "zerolinecolor": "white",
           "zerolinewidth": 2
          }
         }
        },
        "title": {
         "text": "Observations with M: top summary of value 1 are indicated in red",
         "x": 0.5,
         "xanchor": "center",
         "yanchor": "top"
        },
        "xaxis": {
         "anchor": "y",
         "domain": [
          0,
          1
         ]
        },
        "xaxis2": {
         "anchor": "y2",
         "domain": [
          0,
          1
         ]
        },
        "xaxis3": {
         "anchor": "y3",
         "domain": [
          0,
          1
         ],
         "title": {
          "standoff": 0,
          "text": "number of observations"
         }
        },
        "yaxis": {
         "anchor": "x",
         "domain": [
          0.7777777777777778,
          1
         ]
        },
        "yaxis2": {
         "anchor": "x2",
         "domain": [
          0.3888888888888889,
          0.6111111111111112
         ]
        },
        "yaxis3": {
         "anchor": "x3",
         "domain": [
          0,
          0.22222222222222224
         ]
        }
       }
      }
     },
     "metadata": {},
     "output_type": "display_data"
    }
   ],
   "source": [
    "\n",
    "import plotly.graph_objects as go\n",
    "import plotly \n",
    "from plotly.subplots import make_subplots\n",
    "\n",
    "def plot_proportion(df, columns=None, classication='Loan_Status', label=1, \n",
    "    barmode='stack', n_columns=1, height=200):\n",
    "    \"\"\"\n",
    "    Use Plotly to plot bar charts where data are normalized for each group. \n",
    "    Show different colours based on classification.\n",
    "    Arguments:\n",
    "    - df: Dataframe.\n",
    "    - columns (optional): Columns of dataframe containing the categorical variables to plot. \n",
    "        If blank, all categorical data will be plotted.\n",
    "    - classication: Provide name of colum containing binary classification values. \n",
    "        Data points classified as 1 will be in red.\n",
    "    - label (optional): Label of classification column. Default is 1.\n",
    "    - barmode ('stack', 'group', or 'overlay'; optional): How the different will be shown. Default is 'stack'.\n",
    "    - n_columns (optional): Number of columns in the figure. Default is 2.\n",
    "\n",
    "    \"\"\"\n",
    "    if columns == None:\n",
    "        columns = df.dtypes[df.dtypes == 'object'].index.tolist()\n",
    "    n_rows=round((len(columns)+.5)/n_columns) - 1\n",
    "    fig = make_subplots(\n",
    "        rows=n_rows+1, \n",
    "        cols=n_columns,subplot_titles=columns)\n",
    "    for i, feature in enumerate(columns):\n",
    "        pivot = df.sort_values(feature).fillna(0).replace('',0).pivot_table(\n",
    "            df.sort_values(feature).columns[-1], index=[classication], columns=[feature],aggfunc='count')\n",
    "        try:\n",
    "            zero_label = list(set(pivot.index)-set(label))[0] \n",
    "        except:\n",
    "            zero_label = list(set(pivot.index)-set([label]))[0] \n",
    "        pivot.index = pivot.index.fillna(zero_label)\n",
    "        zero = pivot.loc[zero_label,:]/pivot.sum()*100\n",
    "        yes = pivot.loc[label,:]/pivot.sum()*100\n",
    "        fig.add_trace(go.Bar(y=pivot.columns,  # Change x to y\n",
    "            x=zero,  # Change y to x\n",
    "            orientation='h',  # Add orientation\n",
    "            marker_color='blue',\n",
    "            opacity=0.5), \n",
    "            row=i//n_columns+1, col=i % n_columns + 1\n",
    "            )\n",
    "        fig.add_trace(go.Bar(y=pivot.columns,  # Change x to y\n",
    "            x=yes,  # Change y to x\n",
    "            orientation='h',  # Add orientation\n",
    "            marker_color='red',\n",
    "            opacity=0.5),\n",
    "            row=i//n_columns+1, col=i % n_columns + 1)\n",
    "    \n",
    "    title = f'Percentage with {classication} of value {label} by category (indicated in red).'\n",
    "    fig.update_layout(\n",
    "        barmode=barmode,\n",
    "        height=n_rows*height,\n",
    "        showlegend=False,\n",
    "        title = title,\n",
    "        title_x=0.5,\n",
    "        title_xanchor='center',\n",
    "        # title_y = .96,\n",
    "        title_yanchor = 'bottom',\n",
    "        # xaxis_title='% of Total',  # Add x-axis title\n",
    "        yaxis_title='',  # Remove y-axis title\n",
    "        )\n",
    "    fig.update_xaxes(title=dict(\n",
    "        standoff=0,\n",
    "        ),\n",
    "        title_text='% of Total',\n",
    "        row=n_rows\n",
    "    )\n",
    "    fig.show()\n",
    "\n",
    "def plot_int_bar(df, columns=None, classification=None, label=1, barmode='stack', n_columns=1):\n",
    "    \"\"\"\n",
    "    Use Plotly to plot multiple histograms using the specified columns of a dataframe.\n",
    "    Arguments:\n",
    "    - df: Dataframe.\n",
    "    - columns (optional): Columns of dataframe on which to create the histogram. If blank, all numeric data will be plotted.\n",
    "    - classification (optional): Provide name of colum containing binary classification values 0 and 1. \n",
    "        Data points classified as 1 will be in red.\n",
    "    - label (optional): Label of classification column. Default is 1.\n",
    "    - barmode ('stack', 'group', or 'overlay'; optional): How the different will be shown. Default is 'stack'.\n",
    "    - n_columns (optional): Number of columns in the figure. Default is 2.\n",
    "\n",
    "    \"\"\"\n",
    "    if columns == None:\n",
    "        columns = df.dtypes[df.dtypes != 'object'].index.tolist()\n",
    "    n_rows = (len(columns)-1) // n_columns + 1\n",
    "    fig = make_subplots(rows=n_rows, cols=n_columns, subplot_titles=columns)\n",
    "    for i, feature in enumerate(columns):\n",
    "        if classification:\n",
    "            zero = df.sort_values(feature)[df.sort_values(feature)[classification] != label]\n",
    "            one = df.sort_values(feature)[df.sort_values(feature)[classification] == label]\n",
    "            fig.add_trace(go.Histogram(y=zero[feature],\n",
    "                marker_color='blue',\n",
    "                orientation='h',\n",
    "                opacity=0.5), \n",
    "                row=i//n_columns+1, col=i % n_columns + 1\n",
    "                )\n",
    "            fig.add_trace(go.Histogram(y=one[feature],\n",
    "                marker_color='red',\n",
    "                orientation='h',\n",
    "                opacity=0.5),\n",
    "                row=i//n_columns+1, col=i % n_columns + 1)\n",
    "        else:\n",
    "            fig.add_trace(go.Histogram(x=df[feature]), \n",
    "            row=i//n_columns+1, col=i % n_columns + 1)\n",
    "    \n",
    "    if classification:\n",
    "        title = f'Observations with {classification} of value {label} are indicated in red'\n",
    "    else:\n",
    "        title = 'Value counts'\n",
    "    fig.update_layout(\n",
    "        showlegend=False,\n",
    "        barmode=barmode,\n",
    "        bargap=0.1,\n",
    "        title=title,\n",
    "        title_x=0.5,\n",
    "        title_xanchor='center',\n",
    "        # title_y=0.1,\n",
    "        title_yanchor='top'\n",
    "    )\n",
    "    fig.update_xaxes(title=dict(\n",
    "        standoff=0,\n",
    "        ),\n",
    "        title_text='number of observations',\n",
    "        row=n_rows\n",
    "    )\n",
    "    fig.show()\n",
    "\n",
    "\n",
    "\n",
    "\n",
    "task_columns = ['H: summarization task', 'Q: full simplify task', 'V: add relevance task']\n",
    "plot_proportion(df, columns= task_columns, classication='M: top summary', label=1);\n",
    "plot_int_bar(\n",
    "    df, columns= task_columns, classification='M: top summary', \n",
    "    label=1, barmode='group');\n"
   ]
  },
  {
   "cell_type": "code",
   "execution_count": 106,
   "metadata": {},
   "outputs": [
    {
     "data": {
      "application/vnd.plotly.v1+json": {
       "config": {
        "plotlyServerURL": "https://plot.ly"
       },
       "data": [
        {
         "marker": {
          "color": "blue"
         },
         "opacity": 0.5,
         "orientation": "h",
         "type": "bar",
         "x": [
          83.5820895522388,
          82.45614035087719,
          100
         ],
         "xaxis": "x",
         "y": [
          "Describe the interesting points to your coworker at the water cooler",
          "Summarize for a LinkedIn post",
          "Summarize in an engaging way"
         ],
         "yaxis": "y"
        },
        {
         "marker": {
          "color": "red"
         },
         "opacity": 0.5,
         "orientation": "h",
         "type": "bar",
         "x": [
          16.417910447761194,
          17.543859649122805,
          null
         ],
         "xaxis": "x",
         "y": [
          "Describe the interesting points to your coworker at the water cooler",
          "Summarize for a LinkedIn post",
          "Summarize in an engaging way"
         ],
         "yaxis": "y"
        },
        {
         "marker": {
          "color": "blue"
         },
         "opacity": 0.5,
         "orientation": "h",
         "type": "bar",
         "x": [
          75,
          94.54545454545455,
          75.92592592592592
         ],
         "xaxis": "x2",
         "y": [
          "Use language appropriate for for a lay audience",
          "Use language appropriate for for people without a science background",
          "Use terms a 12-year-old can understand."
         ],
         "yaxis": "y2"
        },
        {
         "marker": {
          "color": "red"
         },
         "opacity": 0.5,
         "orientation": "h",
         "type": "bar",
         "x": [
          25,
          5.454545454545454,
          24.074074074074073
         ],
         "xaxis": "x2",
         "y": [
          "Use language appropriate for for a lay audience",
          "Use language appropriate for for people without a science background",
          "Use terms a 12-year-old can understand."
         ],
         "yaxis": "y2"
        },
        {
         "marker": {
          "color": "blue"
         },
         "opacity": 0.5,
         "orientation": "h",
         "type": "bar",
         "x": [
          80.85106382978722,
          91.42857142857143
         ],
         "xaxis": "x3",
         "y": [
          "Add 1-2 sentences to make this relevant for",
          "Write this so it is relevant for"
         ],
         "yaxis": "y3"
        },
        {
         "marker": {
          "color": "red"
         },
         "opacity": 0.5,
         "orientation": "h",
         "type": "bar",
         "x": [
          19.148936170212767,
          8.571428571428571
         ],
         "xaxis": "x3",
         "y": [
          "Add 1-2 sentences to make this relevant for",
          "Write this so it is relevant for"
         ],
         "yaxis": "y3"
        }
       ],
       "layout": {
        "annotations": [
         {
          "font": {
           "size": 16
          },
          "showarrow": false,
          "text": "H: summarization task",
          "x": 0.5,
          "xanchor": "center",
          "xref": "paper",
          "y": 1,
          "yanchor": "bottom",
          "yref": "paper"
         },
         {
          "font": {
           "size": 16
          },
          "showarrow": false,
          "text": "Q: full simplify task",
          "x": 0.5,
          "xanchor": "center",
          "xref": "paper",
          "y": 0.71875,
          "yanchor": "bottom",
          "yref": "paper"
         },
         {
          "font": {
           "size": 16
          },
          "showarrow": false,
          "text": "V: add relevance task",
          "x": 0.5,
          "xanchor": "center",
          "xref": "paper",
          "y": 0.4375,
          "yanchor": "bottom",
          "yref": "paper"
         }
        ],
        "barmode": "stack",
        "height": 600,
        "showlegend": false,
        "template": {
         "data": {
          "bar": [
           {
            "error_x": {
             "color": "#2a3f5f"
            },
            "error_y": {
             "color": "#2a3f5f"
            },
            "marker": {
             "line": {
              "color": "#E5ECF6",
              "width": 0.5
             },
             "pattern": {
              "fillmode": "overlay",
              "size": 10,
              "solidity": 0.2
             }
            },
            "type": "bar"
           }
          ],
          "barpolar": [
           {
            "marker": {
             "line": {
              "color": "#E5ECF6",
              "width": 0.5
             },
             "pattern": {
              "fillmode": "overlay",
              "size": 10,
              "solidity": 0.2
             }
            },
            "type": "barpolar"
           }
          ],
          "carpet": [
           {
            "aaxis": {
             "endlinecolor": "#2a3f5f",
             "gridcolor": "white",
             "linecolor": "white",
             "minorgridcolor": "white",
             "startlinecolor": "#2a3f5f"
            },
            "baxis": {
             "endlinecolor": "#2a3f5f",
             "gridcolor": "white",
             "linecolor": "white",
             "minorgridcolor": "white",
             "startlinecolor": "#2a3f5f"
            },
            "type": "carpet"
           }
          ],
          "choropleth": [
           {
            "colorbar": {
             "outlinewidth": 0,
             "ticks": ""
            },
            "type": "choropleth"
           }
          ],
          "contour": [
           {
            "colorbar": {
             "outlinewidth": 0,
             "ticks": ""
            },
            "colorscale": [
             [
              0,
              "#0d0887"
             ],
             [
              0.1111111111111111,
              "#46039f"
             ],
             [
              0.2222222222222222,
              "#7201a8"
             ],
             [
              0.3333333333333333,
              "#9c179e"
             ],
             [
              0.4444444444444444,
              "#bd3786"
             ],
             [
              0.5555555555555556,
              "#d8576b"
             ],
             [
              0.6666666666666666,
              "#ed7953"
             ],
             [
              0.7777777777777778,
              "#fb9f3a"
             ],
             [
              0.8888888888888888,
              "#fdca26"
             ],
             [
              1,
              "#f0f921"
             ]
            ],
            "type": "contour"
           }
          ],
          "contourcarpet": [
           {
            "colorbar": {
             "outlinewidth": 0,
             "ticks": ""
            },
            "type": "contourcarpet"
           }
          ],
          "heatmap": [
           {
            "colorbar": {
             "outlinewidth": 0,
             "ticks": ""
            },
            "colorscale": [
             [
              0,
              "#0d0887"
             ],
             [
              0.1111111111111111,
              "#46039f"
             ],
             [
              0.2222222222222222,
              "#7201a8"
             ],
             [
              0.3333333333333333,
              "#9c179e"
             ],
             [
              0.4444444444444444,
              "#bd3786"
             ],
             [
              0.5555555555555556,
              "#d8576b"
             ],
             [
              0.6666666666666666,
              "#ed7953"
             ],
             [
              0.7777777777777778,
              "#fb9f3a"
             ],
             [
              0.8888888888888888,
              "#fdca26"
             ],
             [
              1,
              "#f0f921"
             ]
            ],
            "type": "heatmap"
           }
          ],
          "heatmapgl": [
           {
            "colorbar": {
             "outlinewidth": 0,
             "ticks": ""
            },
            "colorscale": [
             [
              0,
              "#0d0887"
             ],
             [
              0.1111111111111111,
              "#46039f"
             ],
             [
              0.2222222222222222,
              "#7201a8"
             ],
             [
              0.3333333333333333,
              "#9c179e"
             ],
             [
              0.4444444444444444,
              "#bd3786"
             ],
             [
              0.5555555555555556,
              "#d8576b"
             ],
             [
              0.6666666666666666,
              "#ed7953"
             ],
             [
              0.7777777777777778,
              "#fb9f3a"
             ],
             [
              0.8888888888888888,
              "#fdca26"
             ],
             [
              1,
              "#f0f921"
             ]
            ],
            "type": "heatmapgl"
           }
          ],
          "histogram": [
           {
            "marker": {
             "pattern": {
              "fillmode": "overlay",
              "size": 10,
              "solidity": 0.2
             }
            },
            "type": "histogram"
           }
          ],
          "histogram2d": [
           {
            "colorbar": {
             "outlinewidth": 0,
             "ticks": ""
            },
            "colorscale": [
             [
              0,
              "#0d0887"
             ],
             [
              0.1111111111111111,
              "#46039f"
             ],
             [
              0.2222222222222222,
              "#7201a8"
             ],
             [
              0.3333333333333333,
              "#9c179e"
             ],
             [
              0.4444444444444444,
              "#bd3786"
             ],
             [
              0.5555555555555556,
              "#d8576b"
             ],
             [
              0.6666666666666666,
              "#ed7953"
             ],
             [
              0.7777777777777778,
              "#fb9f3a"
             ],
             [
              0.8888888888888888,
              "#fdca26"
             ],
             [
              1,
              "#f0f921"
             ]
            ],
            "type": "histogram2d"
           }
          ],
          "histogram2dcontour": [
           {
            "colorbar": {
             "outlinewidth": 0,
             "ticks": ""
            },
            "colorscale": [
             [
              0,
              "#0d0887"
             ],
             [
              0.1111111111111111,
              "#46039f"
             ],
             [
              0.2222222222222222,
              "#7201a8"
             ],
             [
              0.3333333333333333,
              "#9c179e"
             ],
             [
              0.4444444444444444,
              "#bd3786"
             ],
             [
              0.5555555555555556,
              "#d8576b"
             ],
             [
              0.6666666666666666,
              "#ed7953"
             ],
             [
              0.7777777777777778,
              "#fb9f3a"
             ],
             [
              0.8888888888888888,
              "#fdca26"
             ],
             [
              1,
              "#f0f921"
             ]
            ],
            "type": "histogram2dcontour"
           }
          ],
          "mesh3d": [
           {
            "colorbar": {
             "outlinewidth": 0,
             "ticks": ""
            },
            "type": "mesh3d"
           }
          ],
          "parcoords": [
           {
            "line": {
             "colorbar": {
              "outlinewidth": 0,
              "ticks": ""
             }
            },
            "type": "parcoords"
           }
          ],
          "pie": [
           {
            "automargin": true,
            "type": "pie"
           }
          ],
          "scatter": [
           {
            "fillpattern": {
             "fillmode": "overlay",
             "size": 10,
             "solidity": 0.2
            },
            "type": "scatter"
           }
          ],
          "scatter3d": [
           {
            "line": {
             "colorbar": {
              "outlinewidth": 0,
              "ticks": ""
             }
            },
            "marker": {
             "colorbar": {
              "outlinewidth": 0,
              "ticks": ""
             }
            },
            "type": "scatter3d"
           }
          ],
          "scattercarpet": [
           {
            "marker": {
             "colorbar": {
              "outlinewidth": 0,
              "ticks": ""
             }
            },
            "type": "scattercarpet"
           }
          ],
          "scattergeo": [
           {
            "marker": {
             "colorbar": {
              "outlinewidth": 0,
              "ticks": ""
             }
            },
            "type": "scattergeo"
           }
          ],
          "scattergl": [
           {
            "marker": {
             "colorbar": {
              "outlinewidth": 0,
              "ticks": ""
             }
            },
            "type": "scattergl"
           }
          ],
          "scattermapbox": [
           {
            "marker": {
             "colorbar": {
              "outlinewidth": 0,
              "ticks": ""
             }
            },
            "type": "scattermapbox"
           }
          ],
          "scatterpolar": [
           {
            "marker": {
             "colorbar": {
              "outlinewidth": 0,
              "ticks": ""
             }
            },
            "type": "scatterpolar"
           }
          ],
          "scatterpolargl": [
           {
            "marker": {
             "colorbar": {
              "outlinewidth": 0,
              "ticks": ""
             }
            },
            "type": "scatterpolargl"
           }
          ],
          "scatterternary": [
           {
            "marker": {
             "colorbar": {
              "outlinewidth": 0,
              "ticks": ""
             }
            },
            "type": "scatterternary"
           }
          ],
          "surface": [
           {
            "colorbar": {
             "outlinewidth": 0,
             "ticks": ""
            },
            "colorscale": [
             [
              0,
              "#0d0887"
             ],
             [
              0.1111111111111111,
              "#46039f"
             ],
             [
              0.2222222222222222,
              "#7201a8"
             ],
             [
              0.3333333333333333,
              "#9c179e"
             ],
             [
              0.4444444444444444,
              "#bd3786"
             ],
             [
              0.5555555555555556,
              "#d8576b"
             ],
             [
              0.6666666666666666,
              "#ed7953"
             ],
             [
              0.7777777777777778,
              "#fb9f3a"
             ],
             [
              0.8888888888888888,
              "#fdca26"
             ],
             [
              1,
              "#f0f921"
             ]
            ],
            "type": "surface"
           }
          ],
          "table": [
           {
            "cells": {
             "fill": {
              "color": "#EBF0F8"
             },
             "line": {
              "color": "white"
             }
            },
            "header": {
             "fill": {
              "color": "#C8D4E3"
             },
             "line": {
              "color": "white"
             }
            },
            "type": "table"
           }
          ]
         },
         "layout": {
          "annotationdefaults": {
           "arrowcolor": "#2a3f5f",
           "arrowhead": 0,
           "arrowwidth": 1
          },
          "autotypenumbers": "strict",
          "coloraxis": {
           "colorbar": {
            "outlinewidth": 0,
            "ticks": ""
           }
          },
          "colorscale": {
           "diverging": [
            [
             0,
             "#8e0152"
            ],
            [
             0.1,
             "#c51b7d"
            ],
            [
             0.2,
             "#de77ae"
            ],
            [
             0.3,
             "#f1b6da"
            ],
            [
             0.4,
             "#fde0ef"
            ],
            [
             0.5,
             "#f7f7f7"
            ],
            [
             0.6,
             "#e6f5d0"
            ],
            [
             0.7,
             "#b8e186"
            ],
            [
             0.8,
             "#7fbc41"
            ],
            [
             0.9,
             "#4d9221"
            ],
            [
             1,
             "#276419"
            ]
           ],
           "sequential": [
            [
             0,
             "#0d0887"
            ],
            [
             0.1111111111111111,
             "#46039f"
            ],
            [
             0.2222222222222222,
             "#7201a8"
            ],
            [
             0.3333333333333333,
             "#9c179e"
            ],
            [
             0.4444444444444444,
             "#bd3786"
            ],
            [
             0.5555555555555556,
             "#d8576b"
            ],
            [
             0.6666666666666666,
             "#ed7953"
            ],
            [
             0.7777777777777778,
             "#fb9f3a"
            ],
            [
             0.8888888888888888,
             "#fdca26"
            ],
            [
             1,
             "#f0f921"
            ]
           ],
           "sequentialminus": [
            [
             0,
             "#0d0887"
            ],
            [
             0.1111111111111111,
             "#46039f"
            ],
            [
             0.2222222222222222,
             "#7201a8"
            ],
            [
             0.3333333333333333,
             "#9c179e"
            ],
            [
             0.4444444444444444,
             "#bd3786"
            ],
            [
             0.5555555555555556,
             "#d8576b"
            ],
            [
             0.6666666666666666,
             "#ed7953"
            ],
            [
             0.7777777777777778,
             "#fb9f3a"
            ],
            [
             0.8888888888888888,
             "#fdca26"
            ],
            [
             1,
             "#f0f921"
            ]
           ]
          },
          "colorway": [
           "#636efa",
           "#EF553B",
           "#00cc96",
           "#ab63fa",
           "#FFA15A",
           "#19d3f3",
           "#FF6692",
           "#B6E880",
           "#FF97FF",
           "#FECB52"
          ],
          "font": {
           "color": "#2a3f5f"
          },
          "geo": {
           "bgcolor": "white",
           "lakecolor": "white",
           "landcolor": "#E5ECF6",
           "showlakes": true,
           "showland": true,
           "subunitcolor": "white"
          },
          "hoverlabel": {
           "align": "left"
          },
          "hovermode": "closest",
          "mapbox": {
           "style": "light"
          },
          "paper_bgcolor": "white",
          "plot_bgcolor": "#E5ECF6",
          "polar": {
           "angularaxis": {
            "gridcolor": "white",
            "linecolor": "white",
            "ticks": ""
           },
           "bgcolor": "#E5ECF6",
           "radialaxis": {
            "gridcolor": "white",
            "linecolor": "white",
            "ticks": ""
           }
          },
          "scene": {
           "xaxis": {
            "backgroundcolor": "#E5ECF6",
            "gridcolor": "white",
            "gridwidth": 2,
            "linecolor": "white",
            "showbackground": true,
            "ticks": "",
            "zerolinecolor": "white"
           },
           "yaxis": {
            "backgroundcolor": "#E5ECF6",
            "gridcolor": "white",
            "gridwidth": 2,
            "linecolor": "white",
            "showbackground": true,
            "ticks": "",
            "zerolinecolor": "white"
           },
           "zaxis": {
            "backgroundcolor": "#E5ECF6",
            "gridcolor": "white",
            "gridwidth": 2,
            "linecolor": "white",
            "showbackground": true,
            "ticks": "",
            "zerolinecolor": "white"
           }
          },
          "shapedefaults": {
           "line": {
            "color": "#2a3f5f"
           }
          },
          "ternary": {
           "aaxis": {
            "gridcolor": "white",
            "linecolor": "white",
            "ticks": ""
           },
           "baxis": {
            "gridcolor": "white",
            "linecolor": "white",
            "ticks": ""
           },
           "bgcolor": "#E5ECF6",
           "caxis": {
            "gridcolor": "white",
            "linecolor": "white",
            "ticks": ""
           }
          },
          "title": {
           "x": 0.05
          },
          "xaxis": {
           "automargin": true,
           "gridcolor": "white",
           "linecolor": "white",
           "ticks": "",
           "title": {
            "standoff": 15
           },
           "zerolinecolor": "white",
           "zerolinewidth": 2
          },
          "yaxis": {
           "automargin": true,
           "gridcolor": "white",
           "linecolor": "white",
           "ticks": "",
           "title": {
            "standoff": 15
           },
           "zerolinecolor": "white",
           "zerolinewidth": 2
          }
         }
        },
        "title": {
         "text": "Percentage with K: original summary ratings meet standard of value 1 by category (indicated in red).",
         "x": 0.5,
         "xanchor": "center",
         "yanchor": "bottom"
        },
        "xaxis": {
         "anchor": "y",
         "domain": [
          0,
          1
         ]
        },
        "xaxis2": {
         "anchor": "y2",
         "domain": [
          0,
          1
         ]
        },
        "xaxis3": {
         "anchor": "y3",
         "domain": [
          0,
          1
         ],
         "title": {
          "standoff": 0,
          "text": "% of Total"
         }
        },
        "xaxis4": {
         "anchor": "y4",
         "domain": [
          0,
          1
         ]
        },
        "yaxis": {
         "anchor": "x",
         "domain": [
          0.84375,
          1
         ],
         "title": {
          "text": ""
         }
        },
        "yaxis2": {
         "anchor": "x2",
         "domain": [
          0.5625,
          0.71875
         ]
        },
        "yaxis3": {
         "anchor": "x3",
         "domain": [
          0.28125,
          0.4375
         ]
        },
        "yaxis4": {
         "anchor": "x4",
         "domain": [
          0,
          0.15625
         ]
        }
       }
      }
     },
     "metadata": {},
     "output_type": "display_data"
    },
    {
     "data": {
      "application/vnd.plotly.v1+json": {
       "config": {
        "plotlyServerURL": "https://plot.ly"
       },
       "data": [
        {
         "marker": {
          "color": "blue"
         },
         "opacity": 0.5,
         "orientation": "h",
         "type": "histogram",
         "xaxis": "x",
         "y": [
          "Describe the interesting points to your coworker at the water cooler",
          "Describe the interesting points to your coworker at the water cooler",
          "Describe the interesting points to your coworker at the water cooler",
          "Describe the interesting points to your coworker at the water cooler",
          "Describe the interesting points to your coworker at the water cooler",
          "Describe the interesting points to your coworker at the water cooler",
          "Describe the interesting points to your coworker at the water cooler",
          "Describe the interesting points to your coworker at the water cooler",
          "Describe the interesting points to your coworker at the water cooler",
          "Describe the interesting points to your coworker at the water cooler",
          "Describe the interesting points to your coworker at the water cooler",
          "Describe the interesting points to your coworker at the water cooler",
          "Describe the interesting points to your coworker at the water cooler",
          "Describe the interesting points to your coworker at the water cooler",
          "Describe the interesting points to your coworker at the water cooler",
          "Describe the interesting points to your coworker at the water cooler",
          "Describe the interesting points to your coworker at the water cooler",
          "Describe the interesting points to your coworker at the water cooler",
          "Describe the interesting points to your coworker at the water cooler",
          "Describe the interesting points to your coworker at the water cooler",
          "Describe the interesting points to your coworker at the water cooler",
          "Describe the interesting points to your coworker at the water cooler",
          "Describe the interesting points to your coworker at the water cooler",
          "Describe the interesting points to your coworker at the water cooler",
          "Describe the interesting points to your coworker at the water cooler",
          "Describe the interesting points to your coworker at the water cooler",
          "Describe the interesting points to your coworker at the water cooler",
          "Describe the interesting points to your coworker at the water cooler",
          "Describe the interesting points to your coworker at the water cooler",
          "Describe the interesting points to your coworker at the water cooler",
          "Describe the interesting points to your coworker at the water cooler",
          "Describe the interesting points to your coworker at the water cooler",
          "Describe the interesting points to your coworker at the water cooler",
          "Describe the interesting points to your coworker at the water cooler",
          "Describe the interesting points to your coworker at the water cooler",
          "Describe the interesting points to your coworker at the water cooler",
          "Describe the interesting points to your coworker at the water cooler",
          "Describe the interesting points to your coworker at the water cooler",
          "Describe the interesting points to your coworker at the water cooler",
          "Describe the interesting points to your coworker at the water cooler",
          "Describe the interesting points to your coworker at the water cooler",
          "Describe the interesting points to your coworker at the water cooler",
          "Describe the interesting points to your coworker at the water cooler",
          "Describe the interesting points to your coworker at the water cooler",
          "Describe the interesting points to your coworker at the water cooler",
          "Describe the interesting points to your coworker at the water cooler",
          "Describe the interesting points to your coworker at the water cooler",
          "Describe the interesting points to your coworker at the water cooler",
          "Describe the interesting points to your coworker at the water cooler",
          "Describe the interesting points to your coworker at the water cooler",
          "Describe the interesting points to your coworker at the water cooler",
          "Describe the interesting points to your coworker at the water cooler",
          "Describe the interesting points to your coworker at the water cooler",
          "Describe the interesting points to your coworker at the water cooler",
          "Describe the interesting points to your coworker at the water cooler",
          "Describe the interesting points to your coworker at the water cooler",
          "Summarize for a LinkedIn post",
          "Summarize for a LinkedIn post",
          "Summarize for a LinkedIn post",
          "Summarize for a LinkedIn post",
          "Summarize for a LinkedIn post",
          "Summarize for a LinkedIn post",
          "Summarize for a LinkedIn post",
          "Summarize for a LinkedIn post",
          "Summarize for a LinkedIn post",
          "Summarize for a LinkedIn post",
          "Summarize for a LinkedIn post",
          "Summarize for a LinkedIn post",
          "Summarize for a LinkedIn post",
          "Summarize for a LinkedIn post",
          "Summarize for a LinkedIn post",
          "Summarize for a LinkedIn post",
          "Summarize for a LinkedIn post",
          "Summarize for a LinkedIn post",
          "Summarize for a LinkedIn post",
          "Summarize for a LinkedIn post",
          "Summarize for a LinkedIn post",
          "Summarize for a LinkedIn post",
          "Summarize for a LinkedIn post",
          "Summarize for a LinkedIn post",
          "Summarize for a LinkedIn post",
          "Summarize for a LinkedIn post",
          "Summarize for a LinkedIn post",
          "Summarize for a LinkedIn post",
          "Summarize for a LinkedIn post",
          "Summarize for a LinkedIn post",
          "Summarize for a LinkedIn post",
          "Summarize for a LinkedIn post",
          "Summarize for a LinkedIn post",
          "Summarize for a LinkedIn post",
          "Summarize for a LinkedIn post",
          "Summarize for a LinkedIn post",
          "Summarize for a LinkedIn post",
          "Summarize for a LinkedIn post",
          "Summarize for a LinkedIn post",
          "Summarize for a LinkedIn post",
          "Summarize for a LinkedIn post",
          "Summarize for a LinkedIn post",
          "Summarize for a LinkedIn post",
          "Summarize for a LinkedIn post",
          "Summarize for a LinkedIn post",
          "Summarize for a LinkedIn post",
          "Summarize for a LinkedIn post",
          "Summarize in an engaging way",
          "Summarize in an engaging way",
          "Summarize in an engaging way",
          "Summarize in an engaging way",
          "Summarize in an engaging way"
         ],
         "yaxis": "y"
        },
        {
         "marker": {
          "color": "red"
         },
         "opacity": 0.5,
         "orientation": "h",
         "type": "histogram",
         "xaxis": "x",
         "y": [
          "Describe the interesting points to your coworker at the water cooler",
          "Describe the interesting points to your coworker at the water cooler",
          "Describe the interesting points to your coworker at the water cooler",
          "Describe the interesting points to your coworker at the water cooler",
          "Describe the interesting points to your coworker at the water cooler",
          "Describe the interesting points to your coworker at the water cooler",
          "Describe the interesting points to your coworker at the water cooler",
          "Describe the interesting points to your coworker at the water cooler",
          "Describe the interesting points to your coworker at the water cooler",
          "Describe the interesting points to your coworker at the water cooler",
          "Describe the interesting points to your coworker at the water cooler",
          "Summarize for a LinkedIn post",
          "Summarize for a LinkedIn post",
          "Summarize for a LinkedIn post",
          "Summarize for a LinkedIn post",
          "Summarize for a LinkedIn post",
          "Summarize for a LinkedIn post",
          "Summarize for a LinkedIn post",
          "Summarize for a LinkedIn post",
          "Summarize for a LinkedIn post",
          "Summarize for a LinkedIn post"
         ],
         "yaxis": "y"
        },
        {
         "marker": {
          "color": "blue"
         },
         "opacity": 0.5,
         "orientation": "h",
         "type": "histogram",
         "xaxis": "x2",
         "y": [
          "Use language appropriate for for a lay audience",
          "Use language appropriate for for a lay audience",
          "Use language appropriate for for a lay audience",
          "Use language appropriate for for a lay audience",
          "Use language appropriate for for a lay audience",
          "Use language appropriate for for a lay audience",
          "Use language appropriate for for a lay audience",
          "Use language appropriate for for a lay audience",
          "Use language appropriate for for a lay audience",
          "Use language appropriate for for a lay audience",
          "Use language appropriate for for a lay audience",
          "Use language appropriate for for a lay audience",
          "Use language appropriate for for a lay audience",
          "Use language appropriate for for a lay audience",
          "Use language appropriate for for a lay audience",
          "Use language appropriate for for people without a science background",
          "Use language appropriate for for people without a science background",
          "Use language appropriate for for people without a science background",
          "Use language appropriate for for people without a science background",
          "Use language appropriate for for people without a science background",
          "Use language appropriate for for people without a science background",
          "Use language appropriate for for people without a science background",
          "Use language appropriate for for people without a science background",
          "Use language appropriate for for people without a science background",
          "Use language appropriate for for people without a science background",
          "Use language appropriate for for people without a science background",
          "Use language appropriate for for people without a science background",
          "Use language appropriate for for people without a science background",
          "Use language appropriate for for people without a science background",
          "Use language appropriate for for people without a science background",
          "Use language appropriate for for people without a science background",
          "Use language appropriate for for people without a science background",
          "Use language appropriate for for people without a science background",
          "Use language appropriate for for people without a science background",
          "Use language appropriate for for people without a science background",
          "Use language appropriate for for people without a science background",
          "Use language appropriate for for people without a science background",
          "Use language appropriate for for people without a science background",
          "Use language appropriate for for people without a science background",
          "Use language appropriate for for people without a science background",
          "Use language appropriate for for people without a science background",
          "Use language appropriate for for people without a science background",
          "Use language appropriate for for people without a science background",
          "Use language appropriate for for people without a science background",
          "Use language appropriate for for people without a science background",
          "Use language appropriate for for people without a science background",
          "Use language appropriate for for people without a science background",
          "Use language appropriate for for people without a science background",
          "Use language appropriate for for people without a science background",
          "Use language appropriate for for people without a science background",
          "Use language appropriate for for people without a science background",
          "Use language appropriate for for people without a science background",
          "Use language appropriate for for people without a science background",
          "Use language appropriate for for people without a science background",
          "Use language appropriate for for people without a science background",
          "Use language appropriate for for people without a science background",
          "Use language appropriate for for people without a science background",
          "Use language appropriate for for people without a science background",
          "Use language appropriate for for people without a science background",
          "Use language appropriate for for people without a science background",
          "Use language appropriate for for people without a science background",
          "Use language appropriate for for people without a science background",
          "Use language appropriate for for people without a science background",
          "Use language appropriate for for people without a science background",
          "Use language appropriate for for people without a science background",
          "Use language appropriate for for people without a science background",
          "Use language appropriate for for people without a science background",
          "Use terms a 12-year-old can understand.",
          "Use terms a 12-year-old can understand.",
          "Use terms a 12-year-old can understand.",
          "Use terms a 12-year-old can understand.",
          "Use terms a 12-year-old can understand.",
          "Use terms a 12-year-old can understand.",
          "Use terms a 12-year-old can understand.",
          "Use terms a 12-year-old can understand.",
          "Use terms a 12-year-old can understand.",
          "Use terms a 12-year-old can understand.",
          "Use terms a 12-year-old can understand.",
          "Use terms a 12-year-old can understand.",
          "Use terms a 12-year-old can understand.",
          "Use terms a 12-year-old can understand.",
          "Use terms a 12-year-old can understand.",
          "Use terms a 12-year-old can understand.",
          "Use terms a 12-year-old can understand.",
          "Use terms a 12-year-old can understand.",
          "Use terms a 12-year-old can understand.",
          "Use terms a 12-year-old can understand.",
          "Use terms a 12-year-old can understand.",
          "Use terms a 12-year-old can understand.",
          "Use terms a 12-year-old can understand.",
          "Use terms a 12-year-old can understand.",
          "Use terms a 12-year-old can understand.",
          "Use terms a 12-year-old can understand.",
          "Use terms a 12-year-old can understand.",
          "Use terms a 12-year-old can understand.",
          "Use terms a 12-year-old can understand.",
          "Use terms a 12-year-old can understand.",
          "Use terms a 12-year-old can understand.",
          "Use terms a 12-year-old can understand.",
          "Use terms a 12-year-old can understand.",
          "Use terms a 12-year-old can understand.",
          "Use terms a 12-year-old can understand.",
          "Use terms a 12-year-old can understand.",
          "Use terms a 12-year-old can understand.",
          "Use terms a 12-year-old can understand.",
          "Use terms a 12-year-old can understand.",
          "Use terms a 12-year-old can understand.",
          "Use terms a 12-year-old can understand."
         ],
         "yaxis": "y2"
        },
        {
         "marker": {
          "color": "red"
         },
         "opacity": 0.5,
         "orientation": "h",
         "type": "histogram",
         "xaxis": "x2",
         "y": [
          "Use language appropriate for for a lay audience",
          "Use language appropriate for for a lay audience",
          "Use language appropriate for for a lay audience",
          "Use language appropriate for for a lay audience",
          "Use language appropriate for for a lay audience",
          "Use language appropriate for for people without a science background",
          "Use language appropriate for for people without a science background",
          "Use language appropriate for for people without a science background",
          "Use terms a 12-year-old can understand.",
          "Use terms a 12-year-old can understand.",
          "Use terms a 12-year-old can understand.",
          "Use terms a 12-year-old can understand.",
          "Use terms a 12-year-old can understand.",
          "Use terms a 12-year-old can understand.",
          "Use terms a 12-year-old can understand.",
          "Use terms a 12-year-old can understand.",
          "Use terms a 12-year-old can understand.",
          "Use terms a 12-year-old can understand.",
          "Use terms a 12-year-old can understand.",
          "Use terms a 12-year-old can understand.",
          "Use terms a 12-year-old can understand."
         ],
         "yaxis": "y2"
        },
        {
         "marker": {
          "color": "blue"
         },
         "opacity": 0.5,
         "orientation": "h",
         "type": "histogram",
         "xaxis": "x3",
         "y": [
          "Add 1-2 sentences to make this relevant for",
          "Add 1-2 sentences to make this relevant for",
          "Add 1-2 sentences to make this relevant for",
          "Add 1-2 sentences to make this relevant for",
          "Add 1-2 sentences to make this relevant for",
          "Add 1-2 sentences to make this relevant for",
          "Add 1-2 sentences to make this relevant for",
          "Add 1-2 sentences to make this relevant for",
          "Add 1-2 sentences to make this relevant for",
          "Add 1-2 sentences to make this relevant for",
          "Add 1-2 sentences to make this relevant for",
          "Add 1-2 sentences to make this relevant for",
          "Add 1-2 sentences to make this relevant for",
          "Add 1-2 sentences to make this relevant for",
          "Add 1-2 sentences to make this relevant for",
          "Add 1-2 sentences to make this relevant for",
          "Add 1-2 sentences to make this relevant for",
          "Add 1-2 sentences to make this relevant for",
          "Add 1-2 sentences to make this relevant for",
          "Add 1-2 sentences to make this relevant for",
          "Add 1-2 sentences to make this relevant for",
          "Add 1-2 sentences to make this relevant for",
          "Add 1-2 sentences to make this relevant for",
          "Add 1-2 sentences to make this relevant for",
          "Add 1-2 sentences to make this relevant for",
          "Add 1-2 sentences to make this relevant for",
          "Add 1-2 sentences to make this relevant for",
          "Add 1-2 sentences to make this relevant for",
          "Add 1-2 sentences to make this relevant for",
          "Add 1-2 sentences to make this relevant for",
          "Add 1-2 sentences to make this relevant for",
          "Add 1-2 sentences to make this relevant for",
          "Add 1-2 sentences to make this relevant for",
          "Add 1-2 sentences to make this relevant for",
          "Add 1-2 sentences to make this relevant for",
          "Add 1-2 sentences to make this relevant for",
          "Add 1-2 sentences to make this relevant for",
          "Add 1-2 sentences to make this relevant for",
          "Add 1-2 sentences to make this relevant for",
          "Add 1-2 sentences to make this relevant for",
          "Add 1-2 sentences to make this relevant for",
          "Add 1-2 sentences to make this relevant for",
          "Add 1-2 sentences to make this relevant for",
          "Add 1-2 sentences to make this relevant for",
          "Add 1-2 sentences to make this relevant for",
          "Add 1-2 sentences to make this relevant for",
          "Add 1-2 sentences to make this relevant for",
          "Add 1-2 sentences to make this relevant for",
          "Add 1-2 sentences to make this relevant for",
          "Add 1-2 sentences to make this relevant for",
          "Add 1-2 sentences to make this relevant for",
          "Add 1-2 sentences to make this relevant for",
          "Add 1-2 sentences to make this relevant for",
          "Add 1-2 sentences to make this relevant for",
          "Add 1-2 sentences to make this relevant for",
          "Add 1-2 sentences to make this relevant for",
          "Add 1-2 sentences to make this relevant for",
          "Add 1-2 sentences to make this relevant for",
          "Add 1-2 sentences to make this relevant for",
          "Add 1-2 sentences to make this relevant for",
          "Add 1-2 sentences to make this relevant for",
          "Add 1-2 sentences to make this relevant for",
          "Add 1-2 sentences to make this relevant for",
          "Add 1-2 sentences to make this relevant for",
          "Add 1-2 sentences to make this relevant for",
          "Add 1-2 sentences to make this relevant for",
          "Add 1-2 sentences to make this relevant for",
          "Add 1-2 sentences to make this relevant for",
          "Add 1-2 sentences to make this relevant for",
          "Add 1-2 sentences to make this relevant for",
          "Add 1-2 sentences to make this relevant for",
          "Add 1-2 sentences to make this relevant for",
          "Add 1-2 sentences to make this relevant for",
          "Add 1-2 sentences to make this relevant for",
          "Add 1-2 sentences to make this relevant for",
          "Add 1-2 sentences to make this relevant for",
          "Write this so it is relevant for",
          "Write this so it is relevant for",
          "Write this so it is relevant for",
          "Write this so it is relevant for",
          "Write this so it is relevant for",
          "Write this so it is relevant for",
          "Write this so it is relevant for",
          "Write this so it is relevant for",
          "Write this so it is relevant for",
          "Write this so it is relevant for",
          "Write this so it is relevant for",
          "Write this so it is relevant for",
          "Write this so it is relevant for",
          "Write this so it is relevant for",
          "Write this so it is relevant for",
          "Write this so it is relevant for",
          "Write this so it is relevant for",
          "Write this so it is relevant for",
          "Write this so it is relevant for",
          "Write this so it is relevant for",
          "Write this so it is relevant for",
          "Write this so it is relevant for",
          "Write this so it is relevant for",
          "Write this so it is relevant for",
          "Write this so it is relevant for",
          "Write this so it is relevant for",
          "Write this so it is relevant for",
          "Write this so it is relevant for",
          "Write this so it is relevant for",
          "Write this so it is relevant for",
          "Write this so it is relevant for",
          "Write this so it is relevant for"
         ],
         "yaxis": "y3"
        },
        {
         "marker": {
          "color": "red"
         },
         "opacity": 0.5,
         "orientation": "h",
         "type": "histogram",
         "xaxis": "x3",
         "y": [
          "Add 1-2 sentences to make this relevant for",
          "Add 1-2 sentences to make this relevant for",
          "Add 1-2 sentences to make this relevant for",
          "Add 1-2 sentences to make this relevant for",
          "Add 1-2 sentences to make this relevant for",
          "Add 1-2 sentences to make this relevant for",
          "Add 1-2 sentences to make this relevant for",
          "Add 1-2 sentences to make this relevant for",
          "Add 1-2 sentences to make this relevant for",
          "Add 1-2 sentences to make this relevant for",
          "Add 1-2 sentences to make this relevant for",
          "Add 1-2 sentences to make this relevant for",
          "Add 1-2 sentences to make this relevant for",
          "Add 1-2 sentences to make this relevant for",
          "Add 1-2 sentences to make this relevant for",
          "Add 1-2 sentences to make this relevant for",
          "Add 1-2 sentences to make this relevant for",
          "Add 1-2 sentences to make this relevant for",
          "Write this so it is relevant for",
          "Write this so it is relevant for",
          "Write this so it is relevant for"
         ],
         "yaxis": "y3"
        }
       ],
       "layout": {
        "annotations": [
         {
          "font": {
           "size": 16
          },
          "showarrow": false,
          "text": "H: summarization task",
          "x": 0.5,
          "xanchor": "center",
          "xref": "paper",
          "y": 1,
          "yanchor": "bottom",
          "yref": "paper"
         },
         {
          "font": {
           "size": 16
          },
          "showarrow": false,
          "text": "Q: full simplify task",
          "x": 0.5,
          "xanchor": "center",
          "xref": "paper",
          "y": 0.6111111111111112,
          "yanchor": "bottom",
          "yref": "paper"
         },
         {
          "font": {
           "size": 16
          },
          "showarrow": false,
          "text": "V: add relevance task",
          "x": 0.5,
          "xanchor": "center",
          "xref": "paper",
          "y": 0.22222222222222224,
          "yanchor": "bottom",
          "yref": "paper"
         }
        ],
        "bargap": 0.1,
        "barmode": "group",
        "showlegend": false,
        "template": {
         "data": {
          "bar": [
           {
            "error_x": {
             "color": "#2a3f5f"
            },
            "error_y": {
             "color": "#2a3f5f"
            },
            "marker": {
             "line": {
              "color": "#E5ECF6",
              "width": 0.5
             },
             "pattern": {
              "fillmode": "overlay",
              "size": 10,
              "solidity": 0.2
             }
            },
            "type": "bar"
           }
          ],
          "barpolar": [
           {
            "marker": {
             "line": {
              "color": "#E5ECF6",
              "width": 0.5
             },
             "pattern": {
              "fillmode": "overlay",
              "size": 10,
              "solidity": 0.2
             }
            },
            "type": "barpolar"
           }
          ],
          "carpet": [
           {
            "aaxis": {
             "endlinecolor": "#2a3f5f",
             "gridcolor": "white",
             "linecolor": "white",
             "minorgridcolor": "white",
             "startlinecolor": "#2a3f5f"
            },
            "baxis": {
             "endlinecolor": "#2a3f5f",
             "gridcolor": "white",
             "linecolor": "white",
             "minorgridcolor": "white",
             "startlinecolor": "#2a3f5f"
            },
            "type": "carpet"
           }
          ],
          "choropleth": [
           {
            "colorbar": {
             "outlinewidth": 0,
             "ticks": ""
            },
            "type": "choropleth"
           }
          ],
          "contour": [
           {
            "colorbar": {
             "outlinewidth": 0,
             "ticks": ""
            },
            "colorscale": [
             [
              0,
              "#0d0887"
             ],
             [
              0.1111111111111111,
              "#46039f"
             ],
             [
              0.2222222222222222,
              "#7201a8"
             ],
             [
              0.3333333333333333,
              "#9c179e"
             ],
             [
              0.4444444444444444,
              "#bd3786"
             ],
             [
              0.5555555555555556,
              "#d8576b"
             ],
             [
              0.6666666666666666,
              "#ed7953"
             ],
             [
              0.7777777777777778,
              "#fb9f3a"
             ],
             [
              0.8888888888888888,
              "#fdca26"
             ],
             [
              1,
              "#f0f921"
             ]
            ],
            "type": "contour"
           }
          ],
          "contourcarpet": [
           {
            "colorbar": {
             "outlinewidth": 0,
             "ticks": ""
            },
            "type": "contourcarpet"
           }
          ],
          "heatmap": [
           {
            "colorbar": {
             "outlinewidth": 0,
             "ticks": ""
            },
            "colorscale": [
             [
              0,
              "#0d0887"
             ],
             [
              0.1111111111111111,
              "#46039f"
             ],
             [
              0.2222222222222222,
              "#7201a8"
             ],
             [
              0.3333333333333333,
              "#9c179e"
             ],
             [
              0.4444444444444444,
              "#bd3786"
             ],
             [
              0.5555555555555556,
              "#d8576b"
             ],
             [
              0.6666666666666666,
              "#ed7953"
             ],
             [
              0.7777777777777778,
              "#fb9f3a"
             ],
             [
              0.8888888888888888,
              "#fdca26"
             ],
             [
              1,
              "#f0f921"
             ]
            ],
            "type": "heatmap"
           }
          ],
          "heatmapgl": [
           {
            "colorbar": {
             "outlinewidth": 0,
             "ticks": ""
            },
            "colorscale": [
             [
              0,
              "#0d0887"
             ],
             [
              0.1111111111111111,
              "#46039f"
             ],
             [
              0.2222222222222222,
              "#7201a8"
             ],
             [
              0.3333333333333333,
              "#9c179e"
             ],
             [
              0.4444444444444444,
              "#bd3786"
             ],
             [
              0.5555555555555556,
              "#d8576b"
             ],
             [
              0.6666666666666666,
              "#ed7953"
             ],
             [
              0.7777777777777778,
              "#fb9f3a"
             ],
             [
              0.8888888888888888,
              "#fdca26"
             ],
             [
              1,
              "#f0f921"
             ]
            ],
            "type": "heatmapgl"
           }
          ],
          "histogram": [
           {
            "marker": {
             "pattern": {
              "fillmode": "overlay",
              "size": 10,
              "solidity": 0.2
             }
            },
            "type": "histogram"
           }
          ],
          "histogram2d": [
           {
            "colorbar": {
             "outlinewidth": 0,
             "ticks": ""
            },
            "colorscale": [
             [
              0,
              "#0d0887"
             ],
             [
              0.1111111111111111,
              "#46039f"
             ],
             [
              0.2222222222222222,
              "#7201a8"
             ],
             [
              0.3333333333333333,
              "#9c179e"
             ],
             [
              0.4444444444444444,
              "#bd3786"
             ],
             [
              0.5555555555555556,
              "#d8576b"
             ],
             [
              0.6666666666666666,
              "#ed7953"
             ],
             [
              0.7777777777777778,
              "#fb9f3a"
             ],
             [
              0.8888888888888888,
              "#fdca26"
             ],
             [
              1,
              "#f0f921"
             ]
            ],
            "type": "histogram2d"
           }
          ],
          "histogram2dcontour": [
           {
            "colorbar": {
             "outlinewidth": 0,
             "ticks": ""
            },
            "colorscale": [
             [
              0,
              "#0d0887"
             ],
             [
              0.1111111111111111,
              "#46039f"
             ],
             [
              0.2222222222222222,
              "#7201a8"
             ],
             [
              0.3333333333333333,
              "#9c179e"
             ],
             [
              0.4444444444444444,
              "#bd3786"
             ],
             [
              0.5555555555555556,
              "#d8576b"
             ],
             [
              0.6666666666666666,
              "#ed7953"
             ],
             [
              0.7777777777777778,
              "#fb9f3a"
             ],
             [
              0.8888888888888888,
              "#fdca26"
             ],
             [
              1,
              "#f0f921"
             ]
            ],
            "type": "histogram2dcontour"
           }
          ],
          "mesh3d": [
           {
            "colorbar": {
             "outlinewidth": 0,
             "ticks": ""
            },
            "type": "mesh3d"
           }
          ],
          "parcoords": [
           {
            "line": {
             "colorbar": {
              "outlinewidth": 0,
              "ticks": ""
             }
            },
            "type": "parcoords"
           }
          ],
          "pie": [
           {
            "automargin": true,
            "type": "pie"
           }
          ],
          "scatter": [
           {
            "fillpattern": {
             "fillmode": "overlay",
             "size": 10,
             "solidity": 0.2
            },
            "type": "scatter"
           }
          ],
          "scatter3d": [
           {
            "line": {
             "colorbar": {
              "outlinewidth": 0,
              "ticks": ""
             }
            },
            "marker": {
             "colorbar": {
              "outlinewidth": 0,
              "ticks": ""
             }
            },
            "type": "scatter3d"
           }
          ],
          "scattercarpet": [
           {
            "marker": {
             "colorbar": {
              "outlinewidth": 0,
              "ticks": ""
             }
            },
            "type": "scattercarpet"
           }
          ],
          "scattergeo": [
           {
            "marker": {
             "colorbar": {
              "outlinewidth": 0,
              "ticks": ""
             }
            },
            "type": "scattergeo"
           }
          ],
          "scattergl": [
           {
            "marker": {
             "colorbar": {
              "outlinewidth": 0,
              "ticks": ""
             }
            },
            "type": "scattergl"
           }
          ],
          "scattermapbox": [
           {
            "marker": {
             "colorbar": {
              "outlinewidth": 0,
              "ticks": ""
             }
            },
            "type": "scattermapbox"
           }
          ],
          "scatterpolar": [
           {
            "marker": {
             "colorbar": {
              "outlinewidth": 0,
              "ticks": ""
             }
            },
            "type": "scatterpolar"
           }
          ],
          "scatterpolargl": [
           {
            "marker": {
             "colorbar": {
              "outlinewidth": 0,
              "ticks": ""
             }
            },
            "type": "scatterpolargl"
           }
          ],
          "scatterternary": [
           {
            "marker": {
             "colorbar": {
              "outlinewidth": 0,
              "ticks": ""
             }
            },
            "type": "scatterternary"
           }
          ],
          "surface": [
           {
            "colorbar": {
             "outlinewidth": 0,
             "ticks": ""
            },
            "colorscale": [
             [
              0,
              "#0d0887"
             ],
             [
              0.1111111111111111,
              "#46039f"
             ],
             [
              0.2222222222222222,
              "#7201a8"
             ],
             [
              0.3333333333333333,
              "#9c179e"
             ],
             [
              0.4444444444444444,
              "#bd3786"
             ],
             [
              0.5555555555555556,
              "#d8576b"
             ],
             [
              0.6666666666666666,
              "#ed7953"
             ],
             [
              0.7777777777777778,
              "#fb9f3a"
             ],
             [
              0.8888888888888888,
              "#fdca26"
             ],
             [
              1,
              "#f0f921"
             ]
            ],
            "type": "surface"
           }
          ],
          "table": [
           {
            "cells": {
             "fill": {
              "color": "#EBF0F8"
             },
             "line": {
              "color": "white"
             }
            },
            "header": {
             "fill": {
              "color": "#C8D4E3"
             },
             "line": {
              "color": "white"
             }
            },
            "type": "table"
           }
          ]
         },
         "layout": {
          "annotationdefaults": {
           "arrowcolor": "#2a3f5f",
           "arrowhead": 0,
           "arrowwidth": 1
          },
          "autotypenumbers": "strict",
          "coloraxis": {
           "colorbar": {
            "outlinewidth": 0,
            "ticks": ""
           }
          },
          "colorscale": {
           "diverging": [
            [
             0,
             "#8e0152"
            ],
            [
             0.1,
             "#c51b7d"
            ],
            [
             0.2,
             "#de77ae"
            ],
            [
             0.3,
             "#f1b6da"
            ],
            [
             0.4,
             "#fde0ef"
            ],
            [
             0.5,
             "#f7f7f7"
            ],
            [
             0.6,
             "#e6f5d0"
            ],
            [
             0.7,
             "#b8e186"
            ],
            [
             0.8,
             "#7fbc41"
            ],
            [
             0.9,
             "#4d9221"
            ],
            [
             1,
             "#276419"
            ]
           ],
           "sequential": [
            [
             0,
             "#0d0887"
            ],
            [
             0.1111111111111111,
             "#46039f"
            ],
            [
             0.2222222222222222,
             "#7201a8"
            ],
            [
             0.3333333333333333,
             "#9c179e"
            ],
            [
             0.4444444444444444,
             "#bd3786"
            ],
            [
             0.5555555555555556,
             "#d8576b"
            ],
            [
             0.6666666666666666,
             "#ed7953"
            ],
            [
             0.7777777777777778,
             "#fb9f3a"
            ],
            [
             0.8888888888888888,
             "#fdca26"
            ],
            [
             1,
             "#f0f921"
            ]
           ],
           "sequentialminus": [
            [
             0,
             "#0d0887"
            ],
            [
             0.1111111111111111,
             "#46039f"
            ],
            [
             0.2222222222222222,
             "#7201a8"
            ],
            [
             0.3333333333333333,
             "#9c179e"
            ],
            [
             0.4444444444444444,
             "#bd3786"
            ],
            [
             0.5555555555555556,
             "#d8576b"
            ],
            [
             0.6666666666666666,
             "#ed7953"
            ],
            [
             0.7777777777777778,
             "#fb9f3a"
            ],
            [
             0.8888888888888888,
             "#fdca26"
            ],
            [
             1,
             "#f0f921"
            ]
           ]
          },
          "colorway": [
           "#636efa",
           "#EF553B",
           "#00cc96",
           "#ab63fa",
           "#FFA15A",
           "#19d3f3",
           "#FF6692",
           "#B6E880",
           "#FF97FF",
           "#FECB52"
          ],
          "font": {
           "color": "#2a3f5f"
          },
          "geo": {
           "bgcolor": "white",
           "lakecolor": "white",
           "landcolor": "#E5ECF6",
           "showlakes": true,
           "showland": true,
           "subunitcolor": "white"
          },
          "hoverlabel": {
           "align": "left"
          },
          "hovermode": "closest",
          "mapbox": {
           "style": "light"
          },
          "paper_bgcolor": "white",
          "plot_bgcolor": "#E5ECF6",
          "polar": {
           "angularaxis": {
            "gridcolor": "white",
            "linecolor": "white",
            "ticks": ""
           },
           "bgcolor": "#E5ECF6",
           "radialaxis": {
            "gridcolor": "white",
            "linecolor": "white",
            "ticks": ""
           }
          },
          "scene": {
           "xaxis": {
            "backgroundcolor": "#E5ECF6",
            "gridcolor": "white",
            "gridwidth": 2,
            "linecolor": "white",
            "showbackground": true,
            "ticks": "",
            "zerolinecolor": "white"
           },
           "yaxis": {
            "backgroundcolor": "#E5ECF6",
            "gridcolor": "white",
            "gridwidth": 2,
            "linecolor": "white",
            "showbackground": true,
            "ticks": "",
            "zerolinecolor": "white"
           },
           "zaxis": {
            "backgroundcolor": "#E5ECF6",
            "gridcolor": "white",
            "gridwidth": 2,
            "linecolor": "white",
            "showbackground": true,
            "ticks": "",
            "zerolinecolor": "white"
           }
          },
          "shapedefaults": {
           "line": {
            "color": "#2a3f5f"
           }
          },
          "ternary": {
           "aaxis": {
            "gridcolor": "white",
            "linecolor": "white",
            "ticks": ""
           },
           "baxis": {
            "gridcolor": "white",
            "linecolor": "white",
            "ticks": ""
           },
           "bgcolor": "#E5ECF6",
           "caxis": {
            "gridcolor": "white",
            "linecolor": "white",
            "ticks": ""
           }
          },
          "title": {
           "x": 0.05
          },
          "xaxis": {
           "automargin": true,
           "gridcolor": "white",
           "linecolor": "white",
           "ticks": "",
           "title": {
            "standoff": 15
           },
           "zerolinecolor": "white",
           "zerolinewidth": 2
          },
          "yaxis": {
           "automargin": true,
           "gridcolor": "white",
           "linecolor": "white",
           "ticks": "",
           "title": {
            "standoff": 15
           },
           "zerolinecolor": "white",
           "zerolinewidth": 2
          }
         }
        },
        "title": {
         "text": "Observations with K: original summary ratings meet standard of value 1 are indicated in red",
         "x": 0.5,
         "xanchor": "center",
         "yanchor": "top"
        },
        "xaxis": {
         "anchor": "y",
         "domain": [
          0,
          1
         ]
        },
        "xaxis2": {
         "anchor": "y2",
         "domain": [
          0,
          1
         ]
        },
        "xaxis3": {
         "anchor": "y3",
         "domain": [
          0,
          1
         ],
         "title": {
          "standoff": 0,
          "text": "number of observations"
         }
        },
        "yaxis": {
         "anchor": "x",
         "domain": [
          0.7777777777777778,
          1
         ]
        },
        "yaxis2": {
         "anchor": "x2",
         "domain": [
          0.3888888888888889,
          0.6111111111111112
         ]
        },
        "yaxis3": {
         "anchor": "x3",
         "domain": [
          0,
          0.22222222222222224
         ]
        }
       }
      }
     },
     "metadata": {},
     "output_type": "display_data"
    }
   ],
   "source": [
    "standards_columns = df.columns[df.columns.str.contains('meet standard')]\n",
    "task_columns = ['H: summarization task', 'Q: full simplify task', 'V: add relevance task']\n",
    "plot_proportion(df, columns= task_columns, classication=standards_columns[0], label=1);\n",
    "plot_int_bar(\n",
    "    df, columns= task_columns, classification=standards_columns[0], \n",
    "    label=1, barmode='group');"
   ]
  },
  {
   "cell_type": "code",
   "execution_count": null,
   "metadata": {},
   "outputs": [],
   "source": []
  },
  {
   "cell_type": "code",
   "execution_count": null,
   "metadata": {},
   "outputs": [],
   "source": []
  },
  {
   "cell_type": "code",
   "execution_count": null,
   "metadata": {},
   "outputs": [],
   "source": []
  },
  {
   "cell_type": "code",
   "execution_count": null,
   "metadata": {},
   "outputs": [],
   "source": []
  },
  {
   "cell_type": "code",
   "execution_count": null,
   "metadata": {},
   "outputs": [],
   "source": []
  },
  {
   "cell_type": "markdown",
   "metadata": {},
   "source": [
    "# *End of Page*"
   ]
  }
 ],
 "metadata": {
  "kernelspec": {
   "display_name": "Python 3.9.13 64-bit",
   "language": "python",
   "name": "python3"
  },
  "language_info": {
   "codemirror_mode": {
    "name": "ipython",
    "version": 3
   },
   "file_extension": ".py",
   "mimetype": "text/x-python",
   "name": "python",
   "nbconvert_exporter": "python",
   "pygments_lexer": "ipython3",
   "version": "3.9.16"
  },
  "orig_nbformat": 4,
  "vscode": {
   "interpreter": {
    "hash": "11938c6bc6919ae2720b4d5011047913343b08a43b18698fd82dedb0d4417594"
   }
  }
 },
 "nbformat": 4,
 "nbformat_minor": 2
}
