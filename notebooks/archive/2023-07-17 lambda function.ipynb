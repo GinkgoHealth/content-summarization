{
 "cells": [
  {
   "attachments": {},
   "cell_type": "markdown",
   "metadata": {},
   "source": [
    "# Title\n",
    "[]()"
   ]
  },
  {
   "cell_type": "code",
   "execution_count": 1,
   "metadata": {},
   "outputs": [],
   "source": [
    "\n",
    "import pandas as pd\n",
    "import sys\n",
    "sys.path.append(r\"C:\\Users\\silvh\\OneDrive\\lighthouse\\custom_python\")\n",
    "sys.path.append(r\"C:\\Users\\silvh\\OneDrive\\lighthouse\\Ginkgo coding\\content-summarization\\src\")"
   ]
  },
  {
   "cell_type": "code",
   "execution_count": 3,
   "metadata": {},
   "outputs": [],
   "source": [
    "# set the option to wrap text within cells\n",
    "pd.set_option('display.max_colwidth', 100)\n",
    "# pd.set_option('display.max_colwidth', None)\n",
    "pd.set_option('display.max_rows', 20)\n",
    "pd.set_option('display.max_columns', None)\n",
    "pd.set_option('display.width', None)"
   ]
  },
  {
   "cell_type": "markdown",
   "metadata": {},
   "source": [
    "# iteration 1"
   ]
  },
  {
   "cell_type": "code",
   "execution_count": 8,
   "metadata": {},
   "outputs": [
    {
     "name": "stdout",
     "output_type": "stream",
     "text": [
      "Query: SELECT * from gpt_queue ORDER BY id ASC LIMIT 2\n",
      "Adding 2 rows to the database...\n",
      "\tTrends in Self-Reported Adherence to Healthy Lifestyle Behaviors Among US Adults, 1999 to March 2020\n",
      "\tLifestyle Enrichment in Later Life and Its Association With Dementia Risk\n",
      "Error adding data to the database: (psycopg2.ProgrammingError) can't adapt type 'Series'\n",
      "[SQL: INSERT INTO sources (title, text, abstract, publication, authors, year, month, pub_volume, pub_issue, start_page, end_page, doi, section) SELECT p0::VARCHAR, p1::VARCHAR, p2::VARCHAR, p3::VARCHAR, p4::VARCHAR, p5::INTEGER, p6::VARCHAR, p7::VARCHAR, p ... 546 characters truncated ... , p8, p9, p10, p11, p12, sen_counter) ORDER BY sen_counter RETURNING sources.id, sources.id AS id__1]\n",
      "[parameters: {'abstract__0': 'Adherence to a healthy lifestyle is associated with lower risks of adverse outcomes. However, trends in multiple lifestyle factors and overall healthy lifestyle status among US adults in recent years are unknown.', 'publication__0': 'JAMA network open', 'authors__0': 'Yue Li, Peng-Fei Xia, Ting-Ting Geng, Zhou-Zheng Tu, Yan-Bo Zhang, Han-Cheng Yu, Ji-Juan Zhang, Kunquan Guo, Kun Yang, Gang Liu, Zhilei Shan, An Pan', 'text__0': 'Introduction\\nAdhering to healthy lifestyle factors, including avoiding tobacco use, limiting alcohol consumption, maintaining a healthy diet, engagi ... (22855 characters truncated) ... althy lifestyle by race and ethnicity and socioeconomic levels. Future studies are warranted to validate our results using other US national surveys.', 'title__0': 'Trends in Self-Reported Adherence to Healthy Lifestyle Behaviors Among US Adults, 1999 to March 2020', 'section__0': section    \n",
      "section    \n",
      "Name: 0, dtype: object, 'year__0': '2023', 'pub_issue__0': '7', 'end_page__0': '', 'start_page__0': 'e2323584', 'doi__0': '10.1001/jamanetworkopen.2023.23584', 'month__0': '', 'pub_volume__0': '6', 'abstract__1': 'Lifestyles enriched with socially and mentally stimulating activities in older age may help build cognitive reserve and reduce dementia risk.', 'publication__1': 'JAMA network open', 'authors__1': 'Zimu Wu, Danushika H Pandigama, Jo Wrigglesworth, Alice Owen, Robyn L Woods, Trevor T-J Chong, Suzanne G Orchard, Raj C Shah, Kerry M Sheets, John J McNeil, Anne M Murray, Joanne Ryan', 'text__1': 'Introduction\\nIn 2022, there were 55 million individuals worldwide living with dementia, with 10 million new cases emerging annually.1 The loss of co ... (22757 characters truncated) ... gs can help inform strategies for dementia prevention and cognitive reserve strengthening in later life, in the context of modifiable daily routines.', 'title__1': 'Lifestyle Enrichment in Later Life and Its Association With Dementia Risk', 'section__1': section    \n",
      "section    \n",
      "Name: 1, dtype: object, 'year__1': '2023', 'pub_issue__1': '7', 'end_page__1': '', 'start_page__1': 'e2323690', 'doi__1': '10.1001/jamanetworkopen.2023.23690', 'month__1': '', 'pub_volume__1': '6'}]\n",
      "(Background on this error at: https://sqlalche.me/e/20/f405)\n"
     ]
    },
    {
     "data": {
      "text/html": [
       "<div>\n",
       "<style scoped>\n",
       "    .dataframe tbody tr th:only-of-type {\n",
       "        vertical-align: middle;\n",
       "    }\n",
       "\n",
       "    .dataframe tbody tr th {\n",
       "        vertical-align: top;\n",
       "    }\n",
       "\n",
       "    .dataframe thead th {\n",
       "        text-align: right;\n",
       "    }\n",
       "</style>\n",
       "<table border=\"1\" class=\"dataframe\">\n",
       "  <thead>\n",
       "    <tr style=\"text-align: right;\">\n",
       "      <th></th>\n",
       "      <th>id</th>\n",
       "      <th>title</th>\n",
       "      <th>body</th>\n",
       "      <th>sent_to_sources</th>\n",
       "      <th>section</th>\n",
       "      <th>abstract</th>\n",
       "      <th>publication</th>\n",
       "      <th>authors</th>\n",
       "      <th>year</th>\n",
       "      <th>month</th>\n",
       "      <th>pub_volume</th>\n",
       "      <th>pub_issue</th>\n",
       "      <th>start_page</th>\n",
       "      <th>end_page</th>\n",
       "      <th>doi</th>\n",
       "      <th>text</th>\n",
       "      <th>section</th>\n",
       "    </tr>\n",
       "  </thead>\n",
       "  <tbody>\n",
       "    <tr>\n",
       "      <th>0</th>\n",
       "      <td>0</td>\n",
       "      <td>Trends in Self-Reported Adherence to Healthy L...</td>\n",
       "      <td>Introduction\\nAdhering to healthy lifestyle fa...</td>\n",
       "      <td>False</td>\n",
       "      <td></td>\n",
       "      <td>Adherence to a healthy lifestyle is associated...</td>\n",
       "      <td>JAMA network open</td>\n",
       "      <td>Yue Li, Peng-Fei Xia, Ting-Ting Geng, Zhou-Zhe...</td>\n",
       "      <td>2023</td>\n",
       "      <td></td>\n",
       "      <td>6</td>\n",
       "      <td>7</td>\n",
       "      <td>e2323584</td>\n",
       "      <td></td>\n",
       "      <td>10.1001/jamanetworkopen.2023.23584</td>\n",
       "      <td>Introduction\\nAdhering to healthy lifestyle fa...</td>\n",
       "      <td></td>\n",
       "    </tr>\n",
       "    <tr>\n",
       "      <th>1</th>\n",
       "      <td>24</td>\n",
       "      <td>Lifestyle Enrichment in Later Life and Its Ass...</td>\n",
       "      <td>Introduction\\nIn 2022, there were 55 million i...</td>\n",
       "      <td>False</td>\n",
       "      <td></td>\n",
       "      <td>Lifestyles enriched with socially and mentally...</td>\n",
       "      <td>JAMA network open</td>\n",
       "      <td>Zimu Wu, Danushika H Pandigama, Jo Wriggleswor...</td>\n",
       "      <td>2023</td>\n",
       "      <td></td>\n",
       "      <td>6</td>\n",
       "      <td>7</td>\n",
       "      <td>e2323690</td>\n",
       "      <td></td>\n",
       "      <td>10.1001/jamanetworkopen.2023.23690</td>\n",
       "      <td>Introduction\\nIn 2022, there were 55 million i...</td>\n",
       "      <td></td>\n",
       "    </tr>\n",
       "  </tbody>\n",
       "</table>\n",
       "</div>"
      ],
      "text/plain": [
       "   id                                              title  \\\n",
       "0   0  Trends in Self-Reported Adherence to Healthy L...   \n",
       "1  24  Lifestyle Enrichment in Later Life and Its Ass...   \n",
       "\n",
       "                                                body  sent_to_sources section  \\\n",
       "0  Introduction\\nAdhering to healthy lifestyle fa...            False           \n",
       "1  Introduction\\nIn 2022, there were 55 million i...            False           \n",
       "\n",
       "                                            abstract        publication  \\\n",
       "0  Adherence to a healthy lifestyle is associated...  JAMA network open   \n",
       "1  Lifestyles enriched with socially and mentally...  JAMA network open   \n",
       "\n",
       "                                             authors  year month pub_volume  \\\n",
       "0  Yue Li, Peng-Fei Xia, Ting-Ting Geng, Zhou-Zhe...  2023                6   \n",
       "1  Zimu Wu, Danushika H Pandigama, Jo Wriggleswor...  2023                6   \n",
       "\n",
       "  pub_issue start_page end_page                                 doi  \\\n",
       "0         7   e2323584           10.1001/jamanetworkopen.2023.23584   \n",
       "1         7   e2323690           10.1001/jamanetworkopen.2023.23690   \n",
       "\n",
       "                                                text section  \n",
       "0  Introduction\\nAdhering to healthy lifestyle fa...          \n",
       "1  Introduction\\nIn 2022, there were 55 million i...          "
      ]
     },
     "execution_count": 8,
     "metadata": {},
     "output_type": "execute_result"
    }
   ],
   "source": [
    "from functools import wraps\n",
    "import sys\n",
    "sys.path.append(r\"C:\\Users\\silvh\\OneDrive\\lighthouse\\Ginkgo coding\\content-summarization\\private\")\n",
    "from prompts import * # .py file stored in the path above\n",
    "from db_orm import *\n",
    "from sources import *\n",
    "from orm_summarize import *\n",
    "\n",
    "#########\n",
    "# Prep: Set parameters\n",
    "n_choices = 2\n",
    "article_limit = 2\n",
    "temperature = 1\n",
    "pause_per_request=0\n",
    "# summary_iteration_id = iteration_id\n",
    "iteration_id = 1\n",
    "chatbot_id = iteration_id\n",
    "model = 'gpt-3.5-turbo-16k-0613'\n",
    "# model = 'gpt-4'\n",
    "save_outputs=True\n",
    "folder_path = '/database'\n",
    "\n",
    "\n",
    "def generate_summaries(n_choices, temperature, model, pause_per_request, folder_path, article_limit=article_limit):\n",
    "    ### Set up\n",
    "    qna_dict = dict()\n",
    "    chatbot_dict = dict()\n",
    "    references_df_dict = dict()\n",
    "\n",
    "    # set the option to wrap text within cells\n",
    "    pd.set_option('display.max_colwidth', 50)\n",
    "    pd.set_option('display.max_rows', 20)\n",
    "    pd.set_option('display.max_columns', None)\n",
    "    pd.set_option('display.width', None)\n",
    "\n",
    "    ####### \n",
    "    # Step 1: Create sources table\n",
    "    text_df = get_table(table='gpt_queue', limit=article_limit) # db_orm.py\n",
    "    references_df_dict[iteration_id] = create_sources_table(text_df) # sources.py\n",
    "    # print('New sources to add to sources table:')\n",
    "    # print(references_df_dict[iteration_id][['title', 'text','publication', 'year', 'section']])\n",
    "\n",
    "    ###### \n",
    "    # Step 2:  Add rows from gpt_queue table to sources table IF NOT ALREADY ADDED\n",
    "    article_limit = len(references_df_dict[iteration_id]) if article_limit is None else article_limit\n",
    "    bulk_append(table='sources', input_df=references_df_dict[iteration_id].loc[:article_limit]) # db_orm.py\n",
    "\n",
    "    # # ##### \n",
    "    # # Step 3: Get the new sources for summarization\n",
    "    # sources_df = get_table(table='sources', limit=article_limit, order='DESC') # db_orm.py\n",
    "\n",
    "    # if sources_df['title'].tolist() == references_df_dict[iteration_id]['title'].tolist():\n",
    "\n",
    "    #     # ##### \n",
    "    #     # Step 3: Create summaries (functions contained in orm_summarize.py)\n",
    "    #     chatbot_dict = batch_summarize( # orm_summarize.py\n",
    "    #         sources_df, folder_path, prep_step, summarize_task, edit_task,  # parameter values found in prompts.py\n",
    "    #         simplify_task, simplify_audience, format_task,\n",
    "    #         chatbot_dict, temperature=temperature,\n",
    "    #         system_role=system_role, model=model, max_tokens=1000,\n",
    "    #         n_choices=n_choices, pause_per_request=pause_per_request,\n",
    "    #         iteration_id=iteration_id, save_outputs=save_outputs\n",
    "    #         )\n",
    "    #     #########\n",
    "    #     # Step 4: Create summaries table\n",
    "    #     qna_dict = create_summaries_df(\n",
    "    #         qna_dict, chatbot_dict, iteration_id, chatbot_id=chatbot_id\n",
    "    #         )\n",
    "\n",
    "    #     ##########\n",
    "    #     # Step 5: Add results to summaries and prompts table \n",
    "    #     bulk_append(table='summaries', input_df=qna_dict[iteration_id]) # db_orm.py\n",
    "\n",
    "    #     return qna_dict[iteration_id]\n",
    "    return references_df_dict[iteration_id]\n",
    "\n",
    "qna_dict = generate_summaries(n_choices, temperature, model, pause_per_request, folder_path, article_limit=article_limit)\n",
    "qna_dict "
   ]
  },
  {
   "cell_type": "code",
   "execution_count": 13,
   "metadata": {},
   "outputs": [
    {
     "name": "stdout",
     "output_type": "stream",
     "text": [
      "id <class 'numpy.int64'>\n",
      "title <class 'str'>\n",
      "body <class 'str'>\n",
      "sent_to_sources <class 'numpy.bool_'>\n",
      "section <class 'str'>\n",
      "abstract <class 'str'>\n",
      "publication <class 'str'>\n",
      "authors <class 'str'>\n",
      "year <class 'str'>\n",
      "month <class 'str'>\n",
      "pub_volume <class 'str'>\n",
      "pub_issue <class 'str'>\n",
      "start_page <class 'str'>\n",
      "end_page <class 'str'>\n",
      "doi <class 'str'>\n",
      "text <class 'str'>\n",
      "section <class 'str'>\n"
     ]
    }
   ],
   "source": [
    "for column, value in qna_dict.loc[0].items():\n",
    "    print(column, type(value))"
   ]
  },
  {
   "cell_type": "code",
   "execution_count": 14,
   "metadata": {},
   "outputs": [
    {
     "name": "stdout",
     "output_type": "stream",
     "text": [
      "id <class 'numpy.int32'>\n",
      "title <class 'str'>\n",
      "body <class 'str'>\n",
      "sent_to_sources <class 'numpy.bool_'>\n",
      "section <class 'str'>\n",
      "abstract <class 'str'>\n",
      "publication <class 'str'>\n",
      "authors <class 'str'>\n",
      "year <class 'str'>\n",
      "month <class 'str'>\n",
      "pub_volume <class 'str'>\n",
      "pub_issue <class 'str'>\n",
      "start_page <class 'str'>\n",
      "end_page <class 'str'>\n",
      "doi <class 'str'>\n",
      "text <class 'str'>\n",
      "section <class 'str'>\n"
     ]
    }
   ],
   "source": [
    "qna_dict['id'] = qna_dict['id'].astype(int)\n",
    "for column, value in qna_dict.loc[0].items():\n",
    "    print(column, type(value))"
   ]
  },
  {
   "cell_type": "code",
   "execution_count": 15,
   "metadata": {},
   "outputs": [
    {
     "data": {
      "text/plain": [
       "int"
      ]
     },
     "execution_count": 15,
     "metadata": {},
     "output_type": "execute_result"
    }
   ],
   "source": [
    "type(9)"
   ]
  },
  {
   "cell_type": "code",
   "execution_count": 16,
   "metadata": {},
   "outputs": [
    {
     "name": "stdout",
     "output_type": "stream",
     "text": [
      "Query: SELECT * from gpt_queue ORDER BY id ASC LIMIT 2\n",
      "id <class 'numpy.int64'>\n",
      "title <class 'str'>\n",
      "body <class 'str'>\n",
      "sent_to_sources <class 'numpy.bool_'>\n",
      "section <class 'str'>\n"
     ]
    }
   ],
   "source": [
    "text_df = get_table(table='gpt_queue', limit=article_limit)\n",
    "for column, value in text_df.loc[0].items():\n",
    "    print(column, type(value))\n"
   ]
  },
  {
   "cell_type": "code",
   "execution_count": 17,
   "metadata": {},
   "outputs": [
    {
     "name": "stdout",
     "output_type": "stream",
     "text": [
      "Query: SELECT * from sources ORDER BY id ASC LIMIT 2\n",
      "id <class 'numpy.int64'>\n",
      "title <class 'str'>\n",
      "text <class 'str'>\n",
      "abstract <class 'str'>\n",
      "publication <class 'str'>\n",
      "authors <class 'str'>\n",
      "year <class 'numpy.int64'>\n",
      "month <class 'str'>\n",
      "pub_volume <class 'str'>\n",
      "pub_issue <class 'str'>\n",
      "start_page <class 'str'>\n",
      "end_page <class 'str'>\n",
      "doi <class 'str'>\n",
      "section <class 'NoneType'>\n",
      "excess_tokens <class 'NoneType'>\n"
     ]
    }
   ],
   "source": [
    "sources = get_table(table='sources', limit=article_limit)\n",
    "for column, value in sources.loc[0].items():\n",
    "    print(column, type(value))"
   ]
  },
  {
   "cell_type": "code",
   "execution_count": 20,
   "metadata": {},
   "outputs": [
    {
     "data": {
      "text/plain": [
       "int"
      ]
     },
     "execution_count": 20,
     "metadata": {},
     "output_type": "execute_result"
    }
   ],
   "source": [
    "type(int(sources.loc[0, 'id']))"
   ]
  },
  {
   "cell_type": "code",
   "execution_count": 23,
   "metadata": {},
   "outputs": [
    {
     "data": {
      "text/plain": [
       "int"
      ]
     },
     "execution_count": 23,
     "metadata": {},
     "output_type": "execute_result"
    }
   ],
   "source": [
    "type(int(qna_dict.loc[0, 'sent_to_sources']))"
   ]
  },
  {
   "cell_type": "markdown",
   "metadata": {},
   "source": [
    "# 2 able to re-add data to gpt_queue table"
   ]
  },
  {
   "cell_type": "code",
   "execution_count": 26,
   "metadata": {},
   "outputs": [
    {
     "name": "stdout",
     "output_type": "stream",
     "text": [
      "Query: SELECT * from gpt_queue ORDER BY id ASC LIMIT 2\n",
      "Adding 2 rows to the database...\n",
      "\tTrends in Self-Reported Adherence to Healthy Lifestyle Behaviors Among US Adults, 1999 to March 2020\n",
      "\tLifestyle Enrichment in Later Life and Its Association With Dementia Risk\n",
      "Data added successfully!\n"
     ]
    },
    {
     "data": {
      "text/html": [
       "<div>\n",
       "<style scoped>\n",
       "    .dataframe tbody tr th:only-of-type {\n",
       "        vertical-align: middle;\n",
       "    }\n",
       "\n",
       "    .dataframe tbody tr th {\n",
       "        vertical-align: top;\n",
       "    }\n",
       "\n",
       "    .dataframe thead th {\n",
       "        text-align: right;\n",
       "    }\n",
       "</style>\n",
       "<table border=\"1\" class=\"dataframe\">\n",
       "  <thead>\n",
       "    <tr style=\"text-align: right;\">\n",
       "      <th></th>\n",
       "      <th>id</th>\n",
       "      <th>title</th>\n",
       "      <th>body</th>\n",
       "      <th>sent_to_sources</th>\n",
       "      <th>section</th>\n",
       "      <th>abstract</th>\n",
       "      <th>publication</th>\n",
       "      <th>authors</th>\n",
       "      <th>year</th>\n",
       "      <th>month</th>\n",
       "      <th>pub_volume</th>\n",
       "      <th>pub_issue</th>\n",
       "      <th>start_page</th>\n",
       "      <th>end_page</th>\n",
       "      <th>doi</th>\n",
       "      <th>text</th>\n",
       "      <th>section</th>\n",
       "    </tr>\n",
       "  </thead>\n",
       "  <tbody>\n",
       "    <tr>\n",
       "      <th>0</th>\n",
       "      <td>0</td>\n",
       "      <td>Trends in Self-Reported Adherence to Healthy L...</td>\n",
       "      <td>Introduction\\nAdhering to healthy lifestyle fa...</td>\n",
       "      <td>False</td>\n",
       "      <td></td>\n",
       "      <td>Adherence to a healthy lifestyle is associated...</td>\n",
       "      <td>JAMA network open</td>\n",
       "      <td>Yue Li, Peng-Fei Xia, Ting-Ting Geng, Zhou-Zhe...</td>\n",
       "      <td>2023</td>\n",
       "      <td></td>\n",
       "      <td>6</td>\n",
       "      <td>7</td>\n",
       "      <td>e2323584</td>\n",
       "      <td></td>\n",
       "      <td>10.1001/jamanetworkopen.2023.23584</td>\n",
       "      <td>Introduction\\nAdhering to healthy lifestyle fa...</td>\n",
       "      <td></td>\n",
       "    </tr>\n",
       "    <tr>\n",
       "      <th>1</th>\n",
       "      <td>24</td>\n",
       "      <td>Lifestyle Enrichment in Later Life and Its Ass...</td>\n",
       "      <td>Introduction\\nIn 2022, there were 55 million i...</td>\n",
       "      <td>False</td>\n",
       "      <td></td>\n",
       "      <td>Lifestyles enriched with socially and mentally...</td>\n",
       "      <td>JAMA network open</td>\n",
       "      <td>Zimu Wu, Danushika H Pandigama, Jo Wriggleswor...</td>\n",
       "      <td>2023</td>\n",
       "      <td></td>\n",
       "      <td>6</td>\n",
       "      <td>7</td>\n",
       "      <td>e2323690</td>\n",
       "      <td></td>\n",
       "      <td>10.1001/jamanetworkopen.2023.23690</td>\n",
       "      <td>Introduction\\nIn 2022, there were 55 million i...</td>\n",
       "      <td></td>\n",
       "    </tr>\n",
       "  </tbody>\n",
       "</table>\n",
       "</div>"
      ],
      "text/plain": [
       "   id                                              title  \\\n",
       "0   0  Trends in Self-Reported Adherence to Healthy L...   \n",
       "1  24  Lifestyle Enrichment in Later Life and Its Ass...   \n",
       "\n",
       "                                                body  sent_to_sources section  \\\n",
       "0  Introduction\\nAdhering to healthy lifestyle fa...            False           \n",
       "1  Introduction\\nIn 2022, there were 55 million i...            False           \n",
       "\n",
       "                                            abstract        publication  \\\n",
       "0  Adherence to a healthy lifestyle is associated...  JAMA network open   \n",
       "1  Lifestyles enriched with socially and mentally...  JAMA network open   \n",
       "\n",
       "                                             authors  year month pub_volume  \\\n",
       "0  Yue Li, Peng-Fei Xia, Ting-Ting Geng, Zhou-Zhe...  2023                6   \n",
       "1  Zimu Wu, Danushika H Pandigama, Jo Wriggleswor...  2023                6   \n",
       "\n",
       "  pub_issue start_page end_page                                 doi  \\\n",
       "0         7   e2323584           10.1001/jamanetworkopen.2023.23584   \n",
       "1         7   e2323690           10.1001/jamanetworkopen.2023.23690   \n",
       "\n",
       "                                                text section  \n",
       "0  Introduction\\nAdhering to healthy lifestyle fa...          \n",
       "1  Introduction\\nIn 2022, there were 55 million i...          "
      ]
     },
     "execution_count": 26,
     "metadata": {},
     "output_type": "execute_result"
    }
   ],
   "source": [
    "from functools import wraps\n",
    "import sys\n",
    "sys.path.append(r\"C:\\Users\\silvh\\OneDrive\\lighthouse\\Ginkgo coding\\content-summarization\\private\")\n",
    "from prompts import * # .py file stored in the path above\n",
    "from db_orm import *\n",
    "from sources import *\n",
    "from orm_summarize import *\n",
    "\n",
    "#########\n",
    "# Prep: Set parameters\n",
    "n_choices = 2\n",
    "article_limit = 2\n",
    "temperature = 1\n",
    "pause_per_request=0\n",
    "# summary_iteration_id = iteration_id\n",
    "iteration_id = 1\n",
    "chatbot_id = iteration_id\n",
    "model = 'gpt-3.5-turbo-16k-0613'\n",
    "# model = 'gpt-4'\n",
    "save_outputs=True\n",
    "folder_path = '/database'\n",
    "\n",
    "\n",
    "def generate_summaries(n_choices, temperature, model, pause_per_request, folder_path, article_limit=article_limit):\n",
    "    ### Set up\n",
    "    qna_dict = dict()\n",
    "    chatbot_dict = dict()\n",
    "    references_df_dict = dict()\n",
    "\n",
    "    # set the option to wrap text within cells\n",
    "    pd.set_option('display.max_colwidth', 50)\n",
    "    pd.set_option('display.max_rows', 20)\n",
    "    pd.set_option('display.max_columns', None)\n",
    "    pd.set_option('display.width', None)\n",
    "\n",
    "    ####### \n",
    "    # Step 1: Create sources table\n",
    "    text_df = get_table(table='gpt_queue', limit=article_limit) # db_orm.py\n",
    "    references_df_dict[iteration_id] = create_sources_table(text_df) # sources.py\n",
    "    # print('New sources to add to sources table:')\n",
    "    # print(references_df_dict[iteration_id][['title', 'text','publication', 'year', 'section']])\n",
    "\n",
    "    ###### \n",
    "    # Step 2:  Add rows from gpt_queue table to sources table IF NOT ALREADY ADDED\n",
    "    article_limit = len(references_df_dict[iteration_id]) if article_limit is None else article_limit\n",
    "    bulk_append(table='gpt_queue', input_df=text_df) # db_orm.py\n",
    "\n",
    "    # # ##### \n",
    "    # # Step 3: Get the new sources for summarization\n",
    "    # sources_df = get_table(table='sources', limit=article_limit, order='DESC') # db_orm.py\n",
    "\n",
    "    # if sources_df['title'].tolist() == references_df_dict[iteration_id]['title'].tolist():\n",
    "\n",
    "    #     # ##### \n",
    "    #     # Step 3: Create summaries (functions contained in orm_summarize.py)\n",
    "    #     chatbot_dict = batch_summarize( # orm_summarize.py\n",
    "    #         sources_df, folder_path, prep_step, summarize_task, edit_task,  # parameter values found in prompts.py\n",
    "    #         simplify_task, simplify_audience, format_task,\n",
    "    #         chatbot_dict, temperature=temperature,\n",
    "    #         system_role=system_role, model=model, max_tokens=1000,\n",
    "    #         n_choices=n_choices, pause_per_request=pause_per_request,\n",
    "    #         iteration_id=iteration_id, save_outputs=save_outputs\n",
    "    #         )\n",
    "    #     #########\n",
    "    #     # Step 4: Create summaries table\n",
    "    #     qna_dict = create_summaries_df(\n",
    "    #         qna_dict, chatbot_dict, iteration_id, chatbot_id=chatbot_id\n",
    "    #         )\n",
    "\n",
    "    #     ##########\n",
    "    #     # Step 5: Add results to summaries and prompts table \n",
    "    #     bulk_append(table='summaries', input_df=qna_dict[iteration_id]) # db_orm.py\n",
    "\n",
    "    #     return qna_dict[iteration_id]\n",
    "    return references_df_dict[iteration_id]\n",
    "\n",
    "qna_dict = generate_summaries(n_choices, temperature, model, pause_per_request, folder_path, article_limit=article_limit)\n",
    "qna_dict "
   ]
  },
  {
   "cell_type": "code",
   "execution_count": 27,
   "metadata": {},
   "outputs": [
    {
     "data": {
      "text/html": [
       "<div>\n",
       "<style scoped>\n",
       "    .dataframe tbody tr th:only-of-type {\n",
       "        vertical-align: middle;\n",
       "    }\n",
       "\n",
       "    .dataframe tbody tr th {\n",
       "        vertical-align: top;\n",
       "    }\n",
       "\n",
       "    .dataframe thead th {\n",
       "        text-align: right;\n",
       "    }\n",
       "</style>\n",
       "<table border=\"1\" class=\"dataframe\">\n",
       "  <thead>\n",
       "    <tr style=\"text-align: right;\">\n",
       "      <th></th>\n",
       "      <th>id</th>\n",
       "      <th>title</th>\n",
       "      <th>body</th>\n",
       "      <th>sent_to_sources</th>\n",
       "      <th>section</th>\n",
       "    </tr>\n",
       "  </thead>\n",
       "  <tbody>\n",
       "    <tr>\n",
       "      <th>0</th>\n",
       "      <td>0</td>\n",
       "      <td>Trends in Self-Reported Adherence to Healthy L...</td>\n",
       "      <td>Introduction\\nAdhering to healthy lifestyle fa...</td>\n",
       "      <td>False</td>\n",
       "      <td></td>\n",
       "    </tr>\n",
       "    <tr>\n",
       "      <th>1</th>\n",
       "      <td>24</td>\n",
       "      <td>Lifestyle Enrichment in Later Life and Its Ass...</td>\n",
       "      <td>Introduction\\nIn 2022, there were 55 million i...</td>\n",
       "      <td>False</td>\n",
       "      <td></td>\n",
       "    </tr>\n",
       "  </tbody>\n",
       "</table>\n",
       "</div>"
      ],
      "text/plain": [
       "   id                                              title  \\\n",
       "0   0  Trends in Self-Reported Adherence to Healthy L...   \n",
       "1  24  Lifestyle Enrichment in Later Life and Its Ass...   \n",
       "\n",
       "                                                body  sent_to_sources section  \n",
       "0  Introduction\\nAdhering to healthy lifestyle fa...            False          \n",
       "1  Introduction\\nIn 2022, there were 55 million i...            False          "
      ]
     },
     "execution_count": 27,
     "metadata": {},
     "output_type": "execute_result"
    }
   ],
   "source": [
    "text_df "
   ]
  },
  {
   "cell_type": "code",
   "execution_count": 28,
   "metadata": {},
   "outputs": [
    {
     "name": "stdout",
     "output_type": "stream",
     "text": [
      "id <class 'numpy.int64'>\n",
      "title <class 'str'>\n",
      "body <class 'str'>\n",
      "sent_to_sources <class 'numpy.bool_'>\n",
      "section <class 'str'>\n"
     ]
    }
   ],
   "source": [
    "for column, value in text_df.loc[0].items():\n",
    "    print(column, type(value))"
   ]
  },
  {
   "cell_type": "code",
   "execution_count": 32,
   "metadata": {},
   "outputs": [
    {
     "data": {
      "text/html": [
       "<div>\n",
       "<style scoped>\n",
       "    .dataframe tbody tr th:only-of-type {\n",
       "        vertical-align: middle;\n",
       "    }\n",
       "\n",
       "    .dataframe tbody tr th {\n",
       "        vertical-align: top;\n",
       "    }\n",
       "\n",
       "    .dataframe thead th {\n",
       "        text-align: right;\n",
       "    }\n",
       "</style>\n",
       "<table border=\"1\" class=\"dataframe\">\n",
       "  <thead>\n",
       "    <tr style=\"text-align: right;\">\n",
       "      <th></th>\n",
       "      <th>id</th>\n",
       "      <th>title</th>\n",
       "      <th>body</th>\n",
       "      <th>sent_to_sources</th>\n",
       "      <th>section</th>\n",
       "      <th>abstract</th>\n",
       "      <th>publication</th>\n",
       "      <th>authors</th>\n",
       "      <th>year</th>\n",
       "      <th>month</th>\n",
       "      <th>pub_volume</th>\n",
       "      <th>pub_issue</th>\n",
       "      <th>start_page</th>\n",
       "      <th>end_page</th>\n",
       "      <th>doi</th>\n",
       "      <th>text</th>\n",
       "      <th>section</th>\n",
       "    </tr>\n",
       "  </thead>\n",
       "  <tbody>\n",
       "    <tr>\n",
       "      <th>0</th>\n",
       "      <td>0</td>\n",
       "      <td>test</td>\n",
       "      <td>test</td>\n",
       "      <td>test</td>\n",
       "      <td>test</td>\n",
       "      <td>test</td>\n",
       "      <td>test</td>\n",
       "      <td>test</td>\n",
       "      <td>test</td>\n",
       "      <td>test</td>\n",
       "      <td>test</td>\n",
       "      <td>test</td>\n",
       "      <td>test</td>\n",
       "      <td>test</td>\n",
       "      <td>test</td>\n",
       "      <td>test</td>\n",
       "      <td>test</td>\n",
       "    </tr>\n",
       "  </tbody>\n",
       "</table>\n",
       "</div>"
      ],
      "text/plain": [
       "   id title  body sent_to_sources section abstract publication authors  year  \\\n",
       "0   0  test  test            test    test     test        test    test  test   \n",
       "\n",
       "  month pub_volume pub_issue start_page end_page   doi  text section  \n",
       "0  test       test      test       test     test  test  test    test  "
      ]
     },
     "execution_count": 32,
     "metadata": {},
     "output_type": "execute_result"
    }
   ],
   "source": [
    "to_append = qna_dict.loc[0:0]\n",
    "for column in to_append.columns[1:]:\n",
    "    to_append.loc[0, column] = 'test'\n",
    "to_append"
   ]
  },
  {
   "cell_type": "code",
   "execution_count": 33,
   "metadata": {},
   "outputs": [
    {
     "name": "stdout",
     "output_type": "stream",
     "text": [
      "Adding 1 rows to the database...\n",
      "\ttest\n",
      "Error adding data to the database: (psycopg2.ProgrammingError) can't adapt type 'Series'\n",
      "[SQL: INSERT INTO sources (title, text, abstract, publication, authors, year, month, pub_volume, pub_issue, start_page, end_page, doi, section) VALUES (%(title)s, %(text)s, %(abstract)s, %(publication)s, %(authors)s, %(year)s, %(month)s, %(pub_volume)s, %(pub_issue)s, %(start_page)s, %(end_page)s, %(doi)s, %(section)s) RETURNING sources.id]\n",
      "[parameters: {'title': 'test', 'text': 'test', 'abstract': 'test', 'publication': 'test', 'authors': 'test', 'year': 'test', 'month': 'test', 'pub_volume': 'test', 'pub_issue': 'test', 'start_page': 'test', 'end_page': 'test', 'doi': 'test', 'section': section    test\n",
      "section    test\n",
      "Name: 0, dtype: object}]\n",
      "(Background on this error at: https://sqlalche.me/e/20/f405)\n"
     ]
    }
   ],
   "source": [
    "bulk_append(table='sources', input_df=to_append)"
   ]
  },
  {
   "cell_type": "code",
   "execution_count": 34,
   "metadata": {},
   "outputs": [
    {
     "data": {
      "text/html": [
       "<div>\n",
       "<style scoped>\n",
       "    .dataframe tbody tr th:only-of-type {\n",
       "        vertical-align: middle;\n",
       "    }\n",
       "\n",
       "    .dataframe tbody tr th {\n",
       "        vertical-align: top;\n",
       "    }\n",
       "\n",
       "    .dataframe thead th {\n",
       "        text-align: right;\n",
       "    }\n",
       "</style>\n",
       "<table border=\"1\" class=\"dataframe\">\n",
       "  <thead>\n",
       "    <tr style=\"text-align: right;\">\n",
       "      <th></th>\n",
       "      <th>title</th>\n",
       "      <th>body</th>\n",
       "      <th>sent_to_sources</th>\n",
       "      <th>section</th>\n",
       "      <th>abstract</th>\n",
       "      <th>publication</th>\n",
       "      <th>authors</th>\n",
       "      <th>year</th>\n",
       "      <th>month</th>\n",
       "      <th>pub_volume</th>\n",
       "      <th>pub_issue</th>\n",
       "      <th>start_page</th>\n",
       "      <th>end_page</th>\n",
       "      <th>doi</th>\n",
       "      <th>text</th>\n",
       "      <th>section</th>\n",
       "    </tr>\n",
       "  </thead>\n",
       "  <tbody>\n",
       "    <tr>\n",
       "      <th>0</th>\n",
       "      <td>test</td>\n",
       "      <td>test</td>\n",
       "      <td>test</td>\n",
       "      <td>test</td>\n",
       "      <td>test</td>\n",
       "      <td>test</td>\n",
       "      <td>test</td>\n",
       "      <td>test</td>\n",
       "      <td>test</td>\n",
       "      <td>test</td>\n",
       "      <td>test</td>\n",
       "      <td>test</td>\n",
       "      <td>test</td>\n",
       "      <td>test</td>\n",
       "      <td>test</td>\n",
       "      <td>test</td>\n",
       "    </tr>\n",
       "  </tbody>\n",
       "</table>\n",
       "</div>"
      ],
      "text/plain": [
       "  title  body sent_to_sources section abstract publication authors  year  \\\n",
       "0  test  test            test    test     test        test    test  test   \n",
       "\n",
       "  month pub_volume pub_issue start_page end_page   doi  text section  \n",
       "0  test       test      test       test     test  test  test    test  "
      ]
     },
     "execution_count": 34,
     "metadata": {},
     "output_type": "execute_result"
    }
   ],
   "source": [
    "to_append2 = to_append.drop(columns=['id'])\n",
    "to_append2"
   ]
  },
  {
   "cell_type": "code",
   "execution_count": 35,
   "metadata": {},
   "outputs": [
    {
     "name": "stdout",
     "output_type": "stream",
     "text": [
      "Adding 1 rows to the database...\n",
      "\ttest\n",
      "Error adding data to the database: (psycopg2.ProgrammingError) can't adapt type 'Series'\n",
      "[SQL: INSERT INTO sources (title, text, abstract, publication, authors, year, month, pub_volume, pub_issue, start_page, end_page, doi, section) VALUES (%(title)s, %(text)s, %(abstract)s, %(publication)s, %(authors)s, %(year)s, %(month)s, %(pub_volume)s, %(pub_issue)s, %(start_page)s, %(end_page)s, %(doi)s, %(section)s) RETURNING sources.id]\n",
      "[parameters: {'title': 'test', 'text': 'test', 'abstract': 'test', 'publication': 'test', 'authors': 'test', 'year': 'test', 'month': 'test', 'pub_volume': 'test', 'pub_issue': 'test', 'start_page': 'test', 'end_page': 'test', 'doi': 'test', 'section': section    test\n",
      "section    test\n",
      "Name: 0, dtype: object}]\n",
      "(Background on this error at: https://sqlalche.me/e/20/f405)\n"
     ]
    }
   ],
   "source": [
    "bulk_append(table='sources', input_df=to_append2)"
   ]
  },
  {
   "cell_type": "code",
   "execution_count": 36,
   "metadata": {},
   "outputs": [
    {
     "data": {
      "text/plain": [
       "section    test\n",
       "section    test\n",
       "Name: 0, dtype: object"
      ]
     },
     "execution_count": 36,
     "metadata": {},
     "output_type": "execute_result"
    }
   ],
   "source": [
    "to_append2.loc[0, 'section']"
   ]
  },
  {
   "cell_type": "markdown",
   "metadata": {},
   "source": []
  },
  {
   "cell_type": "code",
   "execution_count": null,
   "metadata": {},
   "outputs": [],
   "source": []
  },
  {
   "cell_type": "code",
   "execution_count": null,
   "metadata": {},
   "outputs": [],
   "source": []
  },
  {
   "cell_type": "code",
   "execution_count": null,
   "metadata": {},
   "outputs": [],
   "source": []
  },
  {
   "cell_type": "code",
   "execution_count": null,
   "metadata": {},
   "outputs": [],
   "source": []
  },
  {
   "cell_type": "code",
   "execution_count": null,
   "metadata": {},
   "outputs": [],
   "source": []
  },
  {
   "cell_type": "code",
   "execution_count": null,
   "metadata": {},
   "outputs": [],
   "source": []
  },
  {
   "cell_type": "code",
   "execution_count": null,
   "metadata": {},
   "outputs": [],
   "source": []
  },
  {
   "cell_type": "code",
   "execution_count": null,
   "metadata": {},
   "outputs": [],
   "source": []
  },
  {
   "cell_type": "code",
   "execution_count": null,
   "metadata": {},
   "outputs": [],
   "source": []
  },
  {
   "cell_type": "code",
   "execution_count": null,
   "metadata": {},
   "outputs": [],
   "source": []
  },
  {
   "cell_type": "code",
   "execution_count": null,
   "metadata": {},
   "outputs": [],
   "source": []
  },
  {
   "attachments": {},
   "cell_type": "markdown",
   "metadata": {},
   "source": [
    "# *End of Page*"
   ]
  }
 ],
 "metadata": {
  "kernelspec": {
   "display_name": "Python 3.9.13 64-bit",
   "language": "python",
   "name": "python3"
  },
  "language_info": {
   "codemirror_mode": {
    "name": "ipython",
    "version": 3
   },
   "file_extension": ".py",
   "mimetype": "text/x-python",
   "name": "python",
   "nbconvert_exporter": "python",
   "pygments_lexer": "ipython3",
   "version": "3.11.3"
  },
  "orig_nbformat": 4,
  "vscode": {
   "interpreter": {
    "hash": "11938c6bc6919ae2720b4d5011047913343b08a43b18698fd82dedb0d4417594"
   }
  }
 },
 "nbformat": 4,
 "nbformat_minor": 2
}
