{
 "cells": [
  {
   "cell_type": "markdown",
   "metadata": {},
   "source": [
    "# Title\n",
    "[]()"
   ]
  },
  {
   "cell_type": "code",
   "execution_count": 1,
   "metadata": {},
   "outputs": [],
   "source": [
    "from pandas import json_normalize  \n",
    "import pandas as pd\n",
    "import sys\n",
    "sys.path.append(r\"C:\\Users\\silvh\\OneDrive\\lighthouse\\custom_python\")\n",
    "sys.path.append(r\"C:\\Users\\silvh\\OneDrive\\lighthouse\\Ginkgo coding\\content-summarization\\src\")"
   ]
  },
  {
   "cell_type": "code",
   "execution_count": 15,
   "metadata": {},
   "outputs": [],
   "source": [
    "# set the option to wrap text within cells\n",
    "# pd.reset_option('all')\n",
    "# pd.set_option('display.max_colwidth', None)\n",
    "pd.set_option('display.max_colwidth', 300)\n",
    "pd.set_option('display.max_columns', None)\n",
    "pd.set_option('display.max_rows', 20)\n",
    "pd.set_option('display.width', None)"
   ]
  },
  {
   "attachments": {},
   "cell_type": "markdown",
   "metadata": {},
   "source": [
    "# Iteration 1"
   ]
  },
  {
   "cell_type": "code",
   "execution_count": 1,
   "metadata": {},
   "outputs": [
    {
     "name": "stdout",
     "output_type": "stream",
     "text": [
      "Query: SELECT * from gpt_queue ORDER BY id ASC LIMIT 1\n",
      "Search term: (Effects of Exercise Alone or Combined With Cognitive Training and Vitamin D Supplementation to Improve Cognition in Adults With Mild Cognitive Impairment: A Randomized Clinical Trial [ti]) AND (JAMA Network Open [ta])\n",
      "Warning: Article title not found in PMIDs.\n",
      "Check these PMIDs: ['37471089', '37368401', '36512354', '35604689', '35107574']\n",
      "\tInput title: effects of exercise alone or combined with cognitive training and vitamin d supplementation to improve cognition in adults with mild cognitive impairment: a randomized clinical trial\n",
      "\tResult title: effects of exercise alone or combined with cognitive training and vitamin d supplementation to improve cognition in adults with mild cognitive impairment a randomized clinical trial\n",
      "\tCleaned input title: effects of exercise alone or combined with cognitive training and vitamin d supplementation to improve cognition in adults with mild cognitive impairment a randomized clinical trial\n",
      "\tCleaned first result title: effects of exercise alone or combined with cognitive training and vitamin d supplementation to improve cognition in adults with mild cognitive impairment a randomized clinical trial\n",
      "\n",
      "Number of abstract sections: 8\n"
     ]
    }
   ],
   "source": [
    "from functools import wraps\n",
    "import sys\n",
    "sys.path.append(r\"C:\\Users\\silvh\\OneDrive\\lighthouse\\Ginkgo coding\\content-summarization\\private\")\n",
    "sys.path.append(r\"C:\\Users\\silvh\\OneDrive\\lighthouse\\Ginkgo coding\\content-summarization\\src\")\n",
    "from prompts import * # .py file stored in the path above\n",
    "from db_orm import * \n",
    "from sources import *\n",
    "from orm_summarize import *\n",
    "from article_processing import *\n",
    "\n",
    "#########\n",
    "#########\n",
    "# Prep: Set parameters\n",
    "folder_path = '../text/2023-07-14 full'\n",
    "section = 'discussion'\n",
    "local = False\n",
    "n_choices = 1\n",
    "article_limit = 1\n",
    "temperature = 1\n",
    "pause_per_request=0\n",
    "# summary_iteration_id = iteration_id\n",
    "iteration_id = 1\n",
    "chatbot_id = iteration_id\n",
    "model = 'gpt-3.5-turbo-16k-0613'\n",
    "# model = 'gpt-4'\n",
    "save_outputs=False\n",
    "\n",
    "def generate_summaries(n_choices, temperature, model, pause_per_request, folder_path, section, local, article_limit=article_limit):\n",
    "    ### Set up\n",
    "    qna_dict = dict()\n",
    "    chatbot_dict = dict()\n",
    "    references_df_dict = dict()\n",
    "\n",
    "    # set the option to wrap text within cells\n",
    "    pd.set_option('display.max_colwidth', 50)\n",
    "    pd.set_option('display.max_rows', 20)\n",
    "    pd.set_option('display.max_columns', None)\n",
    "    pd.set_option('display.width', None)\n",
    "\n",
    "    ####### \n",
    "    # Step 1: Create sources table\n",
    "    if local:\n",
    "        text_df = parse_fulltext(folder_path, section).iloc[:article_limit if article_limit else len(text_df)]\n",
    "    else:\n",
    "        text_df = get_table(table='gpt_queue', limit=article_limit) # db_orm.py\n",
    "\n",
    "    references_df_dict[iteration_id] = create_sources_table(text_df) # sources.py\n",
    "    return references_df_dict[iteration_id]\n",
    "    # ###### \n",
    "    # # Step 2:  Add rows from gpt_queue table to sources table \n",
    "    # bulk_append(table='sources', input_df=references_df_dict[iteration_id]) # db_orm.py\n",
    "\n",
    "    # # ##### \n",
    "    # # Step 3: Get the new sources for summarization\n",
    "    # sources_df = get_from_queue(input_df=text_df, order_by='id', order='ASC')\n",
    "\n",
    "    # # ##### \n",
    "    # # Step 4: Create summaries (functions contained in orm_summarize.py)\n",
    "    # chatbot_dict = batch_summarize( # orm_summarize.py\n",
    "    #     sources_df, folder_path, prep_step, summarize_task, edit_task,  # parameter values found in prompts.py\n",
    "    #     simplify_task, simplify_audience, format_task,\n",
    "    #     chatbot_dict, temperature=temperature,\n",
    "    #     system_role=system_role, model=model, max_tokens=1000,\n",
    "    #     n_choices=n_choices, pause_per_request=pause_per_request,\n",
    "    #     iteration_id=iteration_id, save_outputs=save_outputs\n",
    "    #     )\n",
    "    # #########\n",
    "    # # Step 5: Create summaries table\n",
    "    # qna_dict = create_summaries_df(\n",
    "    #     qna_dict, chatbot_dict, iteration_id, chatbot_id=chatbot_id\n",
    "    #     )\n",
    "\n",
    "    # ##########\n",
    "    # # Step 5: Add results to summaries and prompts table \n",
    "    # bulk_append(table='summaries', input_df=qna_dict[iteration_id]) # db_orm.py\n",
    "\n",
    "    # return qna_dict[iteration_id]\n",
    "\n",
    "if __name__ == \"__main__\":\n",
    "    qna_dict = generate_summaries(n_choices, temperature, model, pause_per_request, folder_path, section, local=False, article_limit=article_limit)\n",
    "    qna_dict"
   ]
  },
  {
   "cell_type": "markdown",
   "metadata": {},
   "source": [
    "# search_article"
   ]
  },
  {
   "cell_type": "code",
   "execution_count": 7,
   "metadata": {},
   "outputs": [
    {
     "name": "stdout",
     "output_type": "stream",
     "text": [
      "Search term: (Effects of Exercise Alone or Combined With Cognitive Training and Vitamin D Supplementation to Improve Cognition in Adults With Mild Cognitive Impairment: A Randomized Clinical Trial [ti]) AND (JAMA Netw Open [ta])\n"
     ]
    },
    {
     "data": {
      "text/plain": [
       "'<?xml version=\"1.0\" ?>\\n<!DOCTYPE PubmedArticleSet PUBLIC \"-//NLM//DTD PubMedArticle, 1st January 2023//EN\" \"https://dtd.nlm.nih.gov/ncbi/pubmed/out/pubmed_230101.dtd\">\\n<PubmedArticleSet>\\n<PubmedArticle><MedlineCitation Status=\"MEDLINE\" Owner=\"NLM\" IndexingMethod=\"Automated\"><PMID Version=\"1\">37471089</PMID><DateCompleted><Year>2023</Year><Month>07</Month><Day>21</Day></DateCompleted><DateRevised><Year>2023</Year><Month>07</Month><Day>23</Day></DateRevised><Article PubModel=\"Electronic\"><Journal><ISSN IssnType=\"Electronic\">2574-3805</ISSN><JournalIssue CitedMedium=\"Internet\"><Volume>6</Volume><Issue>7</Issue><PubDate><Year>2023</Year><Month>Jul</Month><Day>03</Day></PubDate></JournalIssue><Title>JAMA network open</Title><ISOAbbreviation>JAMA Netw Open</ISOAbbreviation></Journal><ArticleTitle>Effects of Exercise Alone or Combined With Cognitive Training and Vitamin D Supplementation to Improve Cognition in Adults With Mild Cognitive Impairment: A Randomized Clinical Trial.</ArticleTitle><Pagination><StartPage>e2324465</StartPage><MedlinePgn>e2324465</MedlinePgn></Pagination><ELocationID EIdType=\"pii\" ValidYN=\"Y\">e2324465</ELocationID><ELocationID EIdType=\"doi\" ValidYN=\"Y\">10.1001/jamanetworkopen.2023.24465</ELocationID><Abstract><AbstractText Label=\"IMPORTANCE\">Exercise, cognitive training, and vitamin D may enhance cognition in older adults with mild cognitive impairment (MCI).</AbstractText><AbstractText Label=\"OBJECTIVE\">To determine whether aerobic-resistance exercises would improve cognition relative to an active control and if a multidomain intervention including exercises, computerized cognitive training, and vitamin D supplementation would show greater improvements than exercise alone.</AbstractText><AbstractText Label=\"DESIGN, SETTING, AND PARTICIPANTS\">This randomized clinical trial (the SYNERGIC Study) was a multisite, double-masked, fractional factorial trial that evaluated the effects of aerobic-resistance exercise, computerized cognitive training, and vitamin D on cognition. Eligible participants were between ages 65 and 84 years with MCI enrolled from September 19, 2016, to April 7, 2020. Data were analyzed from February 2021 to December 2022.</AbstractText><AbstractText Label=\"INTERVENTIONS\">Participants were randomized to 5 study arms and treated for 20 weeks: arm 1 (multidomain intervention with exercise, cognitive training, and vitamin D), arm 2 (exercise, cognitive training, and placebo vitamin D), arm 3 (exercise, sham cognitive training, and vitamin D), arm 4 (exercise, sham cognitive training, and placebo vitamin D), and arm 5 (control group with balance-toning exercise, sham cognitive training, and placebo vitamin D). The vitamin D regimen was a 10&#x202f;000 IU dose 3 times weekly.</AbstractText><AbstractText Label=\"MAIN OUTCOMES AND MEASURES\">Primary outcomes were changes in ADAS-Cog-13 and Plus variant at 6 months.</AbstractText><AbstractText Label=\"RESULTS\">Among 175 randomized participants (mean [SD] age, 73.1 [6.6] years; 86 [49.1%] women), 144 (82%) completed the intervention and 133 (76%) completed the follow-up (month 12). At 6 months, all active arms (ie, arms 1 through 4) with aerobic-resistance exercise regardless of the addition of cognitive training or vitamin D, improved ADAS-Cog-13 when compared with control (mean difference, -1.79 points; 95% CI, -3.27 to -0.31 points; P&#x2009;=&#x2009;.02; d&#x2009;=&#x2009;0.64). Compared with exercise alone (arms 3 and 4), exercise and cognitive training (arms 1 and 2) improved the ADAS-Cog-13 (mean difference, -1.45 points; 95% CI, -2.70 to -0.21 points; P&#x2009;=&#x2009;.02; d&#x2009;=&#x2009;0.39). No significant improvement was found with vitamin D. Finally, the multidomain intervention (arm 1) improved the ADAS-Cog-13 score significantly compared with control (mean difference, -2.64 points; 95% CI, -4.42 to -0.80 points; P&#x2009;=&#x2009;.005; d&#x2009;=&#x2009;0.71). Changes in ADAS-Cog-Plus were not significant.</AbstractText><AbstractText Label=\"CONCLUSIONS AND RELEVANCE\">In this clinical trial, older adults with MCI receiving aerobic-resistance exercises with sequential computerized cognitive training significantly improved cognition, although some results were inconsistent. Vitamin D supplementation had no effect. Our findings suggest that this multidomain intervention may improve cognition and potentially delay dementia onset in MCI.</AbstractText><AbstractText Label=\"TRIAL REGISTRATION\">ClinicalTrials.gov Identifier: NCT02808676.</AbstractText></Abstract><AuthorList CompleteYN=\"Y\"><Author ValidYN=\"Y\"><LastName>Montero-Odasso</LastName><ForeName>Manuel</ForeName><Initials>M</Initials><AffiliationInfo><Affiliation>Gait and Brain Lab, Parkwood Institute, Lawson Health Research Institute, London, Ontario, Canada.</Affiliation></AffiliationInfo><AffiliationInfo><Affiliation>Department of Medicine, Division of Geriatric, Schulich School of Medicine and Dentistry, University of Western Ontario, London, Ontario, Canada.</Affiliation></AffiliationInfo><AffiliationInfo><Affiliation>Department of Epidemiology and Biostatistics, Schulich School of Medicine &amp; Dentistry, University of Western Ontario, London, Ontario, Canada.</Affiliation></AffiliationInfo></Author><Author ValidYN=\"Y\"><LastName>Zou</LastName><ForeName>Guangyong</ForeName><Initials>G</Initials><AffiliationInfo><Affiliation>Department of Epidemiology and Biostatistics, Schulich School of Medicine &amp; Dentistry, University of Western Ontario, London, Ontario, Canada.</Affiliation></AffiliationInfo><AffiliationInfo><Affiliation>Robarts Research Institute, University of Western Ontario, London, Ontario, Canada.</Affiliation></AffiliationInfo></Author><Author ValidYN=\"Y\"><LastName>Speechley</LastName><ForeName>Mark</ForeName><Initials>M</Initials><AffiliationInfo><Affiliation>Department of Epidemiology and Biostatistics, Schulich School of Medicine &amp; Dentistry, University of Western Ontario, London, Ontario, Canada.</Affiliation></AffiliationInfo></Author><Author ValidYN=\"Y\"><LastName>Almeida</LastName><ForeName>Quincy J</ForeName><Initials>QJ</Initials><AffiliationInfo><Affiliation>Carespace Health &amp; Wellness, Waterloo, Ontario, Canada.</Affiliation></AffiliationInfo><AffiliationInfo><Affiliation>Movement Disorders Research &amp; Rehabilitation Centre, Department of Kinesiology and Physical Education, Wilfrid Laurier University, Waterloo, Ontario, Canada.</Affiliation></AffiliationInfo></Author><Author ValidYN=\"Y\"><LastName>Liu-Ambrose</LastName><ForeName>Teresa</ForeName><Initials>T</Initials><AffiliationInfo><Affiliation>Department of Physical Therapy, University of British Columbia, Vancouver, British Columbia, Canada.</Affiliation></AffiliationInfo></Author><Author ValidYN=\"Y\"><LastName>Middleton</LastName><ForeName>Laura E</ForeName><Initials>LE</Initials><AffiliationInfo><Affiliation>Department of Kinesiology and Health Sciences, University of Waterloo, Waterloo, Ontario, Canada.</Affiliation></AffiliationInfo></Author><Author ValidYN=\"Y\"><LastName>Camicioli</LastName><ForeName>Richard</ForeName><Initials>R</Initials><AffiliationInfo><Affiliation>Department of Medicine, Division of Neurology, University of Alberta, Edmonton, Alberta, Canada.</Affiliation></AffiliationInfo></Author><Author ValidYN=\"Y\"><LastName>Bray</LastName><ForeName>Nick W</ForeName><Initials>NW</Initials><AffiliationInfo><Affiliation>Gait and Brain Lab, Parkwood Institute, Lawson Health Research Institute, London, Ontario, Canada.</Affiliation></AffiliationInfo><AffiliationInfo><Affiliation>School of Kinesiology, Faculty of Health Sciences, University of Western Ontario, London, Ontario, Canada.</Affiliation></AffiliationInfo></Author><Author ValidYN=\"Y\"><LastName>Li</LastName><ForeName>Karen Z H</ForeName><Initials>KZH</Initials><AffiliationInfo><Affiliation>PERFORM Centre and Department of Psychology, Concordia University, Montr&#xe9;al, Quebec, Canada.</Affiliation></AffiliationInfo></Author><Author ValidYN=\"Y\"><LastName>Fraser</LastName><ForeName>Sarah</ForeName><Initials>S</Initials><AffiliationInfo><Affiliation>Faculty of Health Sciences, Interdisciplinary School of Health Sciences, University of Ottawa, Ontario, Canada.</Affiliation></AffiliationInfo></Author><Author ValidYN=\"Y\"><LastName>Pieruccini-Faria</LastName><ForeName>Frederico</ForeName><Initials>F</Initials><AffiliationInfo><Affiliation>Gait and Brain Lab, Parkwood Institute, Lawson Health Research Institute, London, Ontario, Canada.</Affiliation></AffiliationInfo></Author><Author ValidYN=\"Y\"><LastName>Berryman</LastName><ForeName>Nicolas</ForeName><Initials>N</Initials><AffiliationInfo><Affiliation>D&#xe9;partement des sciences de l\\'activit&#xe9; physique Universit&#xe9; du Qu&#xe9;bec &#xe0; Montr&#xe9;al, Montr&#xe9;al, Quebec, Canada.</Affiliation></AffiliationInfo><AffiliationInfo><Affiliation>Research Centre, Institut Universitaire de G&#xe9;riatrie de Montr&#xe9;al, Montr&#xe9;al, Quebec, Canada.</Affiliation></AffiliationInfo></Author><Author ValidYN=\"Y\"><LastName>Lussier</LastName><ForeName>Maxime</ForeName><Initials>M</Initials><AffiliationInfo><Affiliation>Research Centre, Institut Universitaire de G&#xe9;riatrie de Montr&#xe9;al, Montr&#xe9;al, Quebec, Canada.</Affiliation></AffiliationInfo><AffiliationInfo><Affiliation>Integrated Health and Social Services University Network for South-Central Montreal, Montreal, Quebec, Canada.</Affiliation></AffiliationInfo></Author><Author ValidYN=\"Y\"><LastName>Shoemaker</LastName><ForeName>J Kevin</ForeName><Initials>JK</Initials><AffiliationInfo><Affiliation>School of Kinesiology, Faculty of Health Sciences, University of Western Ontario, London, Ontario, Canada.</Affiliation></AffiliationInfo></Author><Author ValidYN=\"Y\"><LastName>Son</LastName><ForeName>Surim</ForeName><Initials>S</Initials><AffiliationInfo><Affiliation>Gait and Brain Lab, Parkwood Institute, Lawson Health Research Institute, London, Ontario, Canada.</Affiliation></AffiliationInfo><AffiliationInfo><Affiliation>Department of Epidemiology and Biostatistics, Schulich School of Medicine &amp; Dentistry, University of Western Ontario, London, Ontario, Canada.</Affiliation></AffiliationInfo></Author><Author ValidYN=\"Y\"><LastName>Bherer</LastName><ForeName>Louis</ForeName><Initials>L</Initials><AffiliationInfo><Affiliation>Research Centre, Institut Universitaire de G&#xe9;riatrie de Montr&#xe9;al, Montr&#xe9;al, Quebec, Canada.</Affiliation></AffiliationInfo><AffiliationInfo><Affiliation>Research Centre, Montreal Heart Institute, and Department of Medicine, University of Montr&#xe9;al, Montr&#xe9;al, Quebec, Canada.</Affiliation></AffiliationInfo></Author><Author ValidYN=\"Y\"><CollectiveName>Canadian Gait and Cognition Network</CollectiveName></Author></AuthorList><Language>eng</Language><DataBankList CompleteYN=\"Y\"><DataBank><DataBankName>ClinicalTrials.gov</DataBankName><AccessionNumberList><AccessionNumber>NCT02808676</AccessionNumber></AccessionNumberList></DataBank></DataBankList><GrantList CompleteYN=\"Y\"><Grant><Agency>CIHR</Agency><Country>Canada</Country></Grant></GrantList><PublicationTypeList><PublicationType UI=\"D016449\">Randomized Controlled Trial</PublicationType><PublicationType UI=\"D016428\">Journal Article</PublicationType><PublicationType UI=\"D013485\">Research Support, Non-U.S. Gov\\'t</PublicationType></PublicationTypeList><ArticleDate DateType=\"Electronic\"><Year>2023</Year><Month>07</Month><Day>03</Day></ArticleDate></Article><MedlineJournalInfo><Country>United States</Country><MedlineTA>JAMA Netw Open</MedlineTA><NlmUniqueID>101729235</NlmUniqueID><ISSNLinking>2574-3805</ISSNLinking></MedlineJournalInfo><ChemicalList><Chemical><RegistryNumber>0</RegistryNumber><NameOfSubstance UI=\"D014815\">Vitamins</NameOfSubstance></Chemical><Chemical><RegistryNumber>1406-16-2</RegistryNumber><NameOfSubstance UI=\"D014807\">Vitamin D</NameOfSubstance></Chemical></ChemicalList><CitationSubset>IM</CitationSubset><MeshHeadingList><MeshHeading><DescriptorName UI=\"D006801\" MajorTopicYN=\"N\">Humans</DescriptorName></MeshHeading><MeshHeading><DescriptorName UI=\"D005260\" MajorTopicYN=\"N\">Female</DescriptorName></MeshHeading><MeshHeading><DescriptorName UI=\"D000368\" MajorTopicYN=\"N\">Aged</DescriptorName></MeshHeading><MeshHeading><DescriptorName UI=\"D008297\" MajorTopicYN=\"N\">Male</DescriptorName></MeshHeading><MeshHeading><DescriptorName UI=\"D000091942\" MajorTopicYN=\"Y\">Cognitive Training</DescriptorName></MeshHeading><MeshHeading><DescriptorName UI=\"D060825\" MajorTopicYN=\"Y\">Cognitive Dysfunction</DescriptorName><QualifierName UI=\"Q000628\" MajorTopicYN=\"N\">therapy</QualifierName><QualifierName UI=\"Q000523\" MajorTopicYN=\"N\">psychology</QualifierName></MeshHeading><MeshHeading><DescriptorName UI=\"D003071\" MajorTopicYN=\"N\">Cognition</DescriptorName></MeshHeading><MeshHeading><DescriptorName UI=\"D014815\" MajorTopicYN=\"N\">Vitamins</DescriptorName><QualifierName UI=\"Q000627\" MajorTopicYN=\"N\">therapeutic use</QualifierName><QualifierName UI=\"Q000494\" MajorTopicYN=\"N\">pharmacology</QualifierName></MeshHeading><MeshHeading><DescriptorName UI=\"D014807\" MajorTopicYN=\"N\">Vitamin D</DescriptorName><QualifierName UI=\"Q000627\" MajorTopicYN=\"N\">therapeutic use</QualifierName><QualifierName UI=\"Q000494\" MajorTopicYN=\"N\">pharmacology</QualifierName></MeshHeading><MeshHeading><DescriptorName UI=\"D019587\" MajorTopicYN=\"N\">Dietary Supplements</DescriptorName></MeshHeading></MeshHeadingList><CoiStatement><b>Conflict of Interest Disclosures:</b> Dr Montero-Odasso reported grants from the Canadian Institutes of Health Research (CIHR), including the Institute of Aging, grants from the Canadian Consortium on Neurodegeneration in Aging (CCNA), and grants from Weston Brain Institute and The Weston Family Foundation, Canada, during the conduct of the study. Dr Middleton reported grants from CIHR related to exercise and cognition, grants from Public Health Agency of Canada related to exercise and dementia, and grants from Natural Sciences and Engineering Research Council related to exercise and cognition outside the submitted work. Dr Montero-Odasso reported serving on advisory boards for the Canadian Geriatrics Society (CGS) (serving as vice president) and the Canadian Institutes of Health and Research (CIHR) Institute of Aging, and the Research Executive Council of the CCNA; he served as an external advisor on antiracism for CIHR. Dr Bray reported grants from Ontario Graduate Scholarship during the conduct of the study. No other disclosures were reported.</CoiStatement><InvestigatorList><Investigator ValidYN=\"Y\"><LastName>McFadyen</LastName><ForeName>Bradford J</ForeName><Initials>BJ</Initials></Investigator><Investigator ValidYN=\"Y\"><LastName>Barha</LastName><ForeName>Cindy</ForeName><Initials>C</Initials></Investigator><Investigator ValidYN=\"Y\"><LastName>McGibbon</LastName><ForeName>Christopher</ForeName><Initials>C</Initials></Investigator></InvestigatorList></MedlineCitation><PubmedData><History><PubMedPubDate PubStatus=\"medline\"><Year>2023</Year><Month>7</Month><Day>21</Day><Hour>6</Hour><Minute>43</Minute></PubMedPubDate><PubMedPubDate PubStatus=\"pubmed\"><Year>2023</Year><Month>7</Month><Day>20</Day><Hour>13</Hour><Minute>6</Minute></PubMedPubDate><PubMedPubDate PubStatus=\"entrez\"><Year>2023</Year><Month>7</Month><Day>20</Day><Hour>11</Hour><Minute>34</Minute></PubMedPubDate></History><PublicationStatus>epublish</PublicationStatus><ArticleIdList><ArticleId IdType=\"pubmed\">37471089</ArticleId><ArticleId IdType=\"pmc\">PMC10359965</ArticleId><ArticleId IdType=\"doi\">10.1001/jamanetworkopen.2023.24465</ArticleId><ArticleId IdType=\"pii\">2807450</ArticleId></ArticleIdList><ReferenceList><Reference><Citation>2023 Alzheimer&#x2019;s disease facts and figures. Alzheimers Dement. 2023;19(4):1598-1695. doi:10.1002/alz.13016</Citation><ArticleIdList><ArticleId IdType=\"doi\">10.1002/alz.13016</ArticleId><ArticleId IdType=\"pubmed\">36918389</ArticleId></ArticleIdList></Reference><Reference><Citation>Livingston G, Huntley J, Sommerlad A, et al. . Dementia prevention, intervention, and care: 2020 report of the Lancet Commission. Lancet. 2020;396(10248):413-446. doi:10.1016/S0140-6736(20)30367-6</Citation><ArticleIdList><ArticleId IdType=\"doi\">10.1016/S0140-6736(20)30367-6</ArticleId><ArticleId IdType=\"pmc\">PMC7392084</ArticleId><ArticleId IdType=\"pubmed\">32738937</ArticleId></ArticleIdList></Reference><Reference><Citation>Montero-Odasso M, Ismail Z, Livingston G. One third of dementia cases can be prevented within the next 25&#x2009;years by tackling risk factors&#x2014;the case &#x201c;for&#x201d; and &#x201c;against&#x201d;. Alzheimers Res Ther. 2020;12(1):81. doi:10.1186/s13195-020-00646-x</Citation><ArticleIdList><ArticleId IdType=\"doi\">10.1186/s13195-020-00646-x</ArticleId><ArticleId IdType=\"pmc\">PMC7346354</ArticleId><ArticleId IdType=\"pubmed\">32641088</ArticleId></ArticleIdList></Reference><Reference><Citation>Petersen RC. Clinical practice&#x2014;mild cognitive impairment. N Engl J Med. 2011;364(23):2227-2234. doi:10.1056/NEJMcp0910237</Citation><ArticleIdList><ArticleId IdType=\"doi\">10.1056/NEJMcp0910237</ArticleId><ArticleId IdType=\"pubmed\">21651394</ArticleId></ArticleIdList></Reference><Reference><Citation>Northey JM, Cherbuin N, Pumpa KL, Smee DJ, Rattray B. Exercise interventions for cognitive function in adults older than 50: a systematic review with meta-analysis. Br J Sports Med. 2018;52(3):154-160. doi:10.1136/bjsports-2016-096587</Citation><ArticleIdList><ArticleId IdType=\"doi\">10.1136/bjsports-2016-096587</ArticleId><ArticleId IdType=\"pubmed\">28438770</ArticleId></ArticleIdList></Reference><Reference><Citation>van Balkom TD, van den Heuvel OA, Berendse HW, van der Werf YD, Vriend C. The effects of cognitive training on brain network activity and connectivity in aging and neurodegenerative diseases: a systematic review. Neuropsychol Rev. 2020;30(2):267-286. doi:10.1007/s11065-020-09440-w</Citation><ArticleIdList><ArticleId IdType=\"doi\">10.1007/s11065-020-09440-w</ArticleId><ArticleId IdType=\"pmc\">PMC7305076</ArticleId><ArticleId IdType=\"pubmed\">32529356</ArticleId></ArticleIdList></Reference><Reference><Citation>Morley JE. Dementia: does vitamin D modulate cognition? Nat Rev Neurol. 2014;10(11):613-614. doi:10.1038/nrneurol.2014.193</Citation><ArticleIdList><ArticleId IdType=\"doi\">10.1038/nrneurol.2014.193</ArticleId><ArticleId IdType=\"pubmed\">25330725</ArticleId></ArticleIdList></Reference><Reference><Citation>Montero-Odasso M, Zou GY, Kamkar N, et al. . Multidomain trials to prevent dementia: addressing methodological challenges. Alzheimers Res Ther. 2022;14(1):94. doi:10.1186/s13195-022-01036-1</Citation><ArticleIdList><ArticleId IdType=\"doi\">10.1186/s13195-022-01036-1</ArticleId><ArticleId IdType=\"pmc\">PMC9275261</ArticleId><ArticleId IdType=\"pubmed\">35820915</ArticleId></ArticleIdList></Reference><Reference><Citation>Kivipelto M, Mangialasche F, Ngandu T; World Wide Fingers Network . World Wide Fingers will advance dementia prevention. Lancet Neurol. 2018;17(1):27. doi:10.1016/S1474-4422(17)30431-3</Citation><ArticleIdList><ArticleId IdType=\"doi\">10.1016/S1474-4422(17)30431-3</ArticleId><ArticleId IdType=\"pubmed\">29263003</ArticleId></ArticleIdList></Reference><Reference><Citation>Ngandu T, Lehtisalo J, Solomon A, et al. . A 2 year multidomain intervention of diet, exercise, cognitive training, and vascular risk monitoring versus control to prevent cognitive decline in at-risk elderly people (FINGER): a randomised controlled trial. Lancet. 2015;385(9984):2255-2263. doi:10.1016/S0140-6736(15)60461-5</Citation><ArticleIdList><ArticleId IdType=\"doi\">10.1016/S0140-6736(15)60461-5</ArticleId><ArticleId IdType=\"pubmed\">25771249</ArticleId></ArticleIdList></Reference><Reference><Citation>Andrieu S, Guyonnet S, Coley N, et al. ; MAPT Study Group . Effect of long-term omega 3 polyunsaturated fatty acid supplementation with or without multidomain intervention on cognitive function in elderly adults with memory complaints (MAPT): a randomised, placebo-controlled trial. Lancet Neurol. 2017;16(5):377-389. doi:10.1016/S1474-4422(17)30040-6</Citation><ArticleIdList><ArticleId IdType=\"doi\">10.1016/S1474-4422(17)30040-6</ArticleId><ArticleId IdType=\"pubmed\">28359749</ArticleId></ArticleIdList></Reference><Reference><Citation>Moll van Charante EP, Richard E, Eurelings LS, et al. . Effectiveness of a 6-year multidomain vascular care intervention to prevent dementia (preDIVA): a cluster-randomised controlled trial. Lancet. 2016;388(10046):797-805. doi:10.1016/S0140-6736(16)30950-3</Citation><ArticleIdList><ArticleId IdType=\"doi\">10.1016/S0140-6736(16)30950-3</ArticleId><ArticleId IdType=\"pubmed\">27474376</ArticleId></ArticleIdList></Reference><Reference><Citation>Lenze EJ, Voegtle M, Miller JP, et al. . Effects of mindfulness training and exercise on cognitive function in older adults: a randomized clinical trial. JAMA. 2022;328(22):2218-2229. doi:10.1001/jama.2022.21680</Citation><ArticleIdList><ArticleId IdType=\"doi\">10.1001/jama.2022.21680</ArticleId><ArticleId IdType=\"pmc\">PMC9856438</ArticleId><ArticleId IdType=\"pubmed\">36511926</ArticleId></ArticleIdList></Reference><Reference><Citation>Salzman T, Sarquis-Adamson Y, Son S, Montero-Odasso M, Fraser S. Associations of multidomain interventions with improvements in cognition in mild cognitive impairment: a systematic review and meta-analysis. JAMA Netw Open. 2022;5(5):e226744. doi:10.1001/jamanetworkopen.2022.6744</Citation><ArticleIdList><ArticleId IdType=\"doi\">10.1001/jamanetworkopen.2022.6744</ArticleId><ArticleId IdType=\"pmc\">PMC9066287</ArticleId><ArticleId IdType=\"pubmed\">35503222</ArticleId></ArticleIdList></Reference><Reference><Citation>Barnes DE, Santos-Modesitt W, Poelke G, et al. . The Mental Activity and eXercise (MAX) trial: a randomized controlled trial to enhance cognitive function in older adults. JAMA Intern Med. 2013;173(9):797-804. doi:10.1001/jamainternmed.2013.189</Citation><ArticleIdList><ArticleId IdType=\"doi\">10.1001/jamainternmed.2013.189</ArticleId><ArticleId IdType=\"pmc\">PMC5921904</ArticleId><ArticleId IdType=\"pubmed\">23545598</ArticleId></ArticleIdList></Reference><Reference><Citation>Fiatarone Singh MA, Gates N, Saigal N, et al. . The Study of Mental and Resistance Training (SMART) study&#x2014;resistance training and/or cognitive training in mild cognitive impairment: a randomized, double-blind, double-sham controlled trial. J Am Med Dir Assoc. 2014;15(12):873-880. doi:10.1016/j.jamda.2014.09.010</Citation><ArticleIdList><ArticleId IdType=\"doi\">10.1016/j.jamda.2014.09.010</ArticleId><ArticleId IdType=\"pubmed\">25444575</ArticleId></ArticleIdList></Reference><Reference><Citation>Montero-Odasso M, Almeida QJ, Burhan AM, et al. . SYNERGIC TRIAL (SYNchronizing Exercises, Remedies in Gait and Cognition) a multi-centre randomized controlled double blind trial to improve gait and cognition in mild cognitive impairment. BMC Geriatr. 2018;18(1):93. doi:10.1186/s12877-018-0782-7</Citation><ArticleIdList><ArticleId IdType=\"doi\">10.1186/s12877-018-0782-7</ArticleId><ArticleId IdType=\"pmc\">PMC5902955</ArticleId><ArticleId IdType=\"pubmed\">29661156</ArticleId></ArticleIdList></Reference><Reference><Citation>Boutron I, Moher D, Altman DG, Schulz KF, Ravaud P; CONSORT Group . Extending the CONSORT statement to randomized trials of nonpharmacologic treatment: explanation and elaboration. Ann Intern Med. 2008;148(4):295-309. doi:10.7326/0003-4819-148-4-200802190-00008</Citation><ArticleIdList><ArticleId IdType=\"doi\">10.7326/0003-4819-148-4-200802190-00008</ArticleId><ArticleId IdType=\"pubmed\">18283207</ArticleId></ArticleIdList></Reference><Reference><Citation>Albert MS, DeKosky ST, Dickson D, et al. . The diagnosis of mild cognitive impairment due to Alzheimer&#x2019;s disease: recommendations from the National Institute on Aging-Alzheimer&#x2019;s Association workgroups on diagnostic guidelines for Alzheimer&#x2019;s disease. Alzheimers Dement. 2011;7(3):270-279. doi:10.1016/j.jalz.2011.03.008</Citation><ArticleIdList><ArticleId IdType=\"doi\">10.1016/j.jalz.2011.03.008</ArticleId><ArticleId IdType=\"pmc\">PMC3312027</ArticleId><ArticleId IdType=\"pubmed\">21514249</ArticleId></ArticleIdList></Reference><Reference><Citation>Lussier M, Bugaiska A, Bherer L. Specific transfer effects following variable priority dual-task training in older adults. Restor Neurol Neurosci. 2017;35(2):237-250. doi:10.3233/RNN-150581</Citation><ArticleIdList><ArticleId IdType=\"doi\">10.3233/RNN-150581</ArticleId><ArticleId IdType=\"pubmed\">27372514</ArticleId></ArticleIdList></Reference><Reference><Citation>Pescatello L. ACSM&#x2019;s guidelines for exercise testing and prescription. 9th ed. Wolters Kluwer/Lippincott Williams &amp; Wilkins Health; 2014.</Citation></Reference><Reference><Citation>Borg GA. Psychophysical bases of perceived exertion. Med Sci Sports Exerc. 1982;14(5):377-381. doi:10.1249/00005768-198205000-00012</Citation><ArticleIdList><ArticleId IdType=\"doi\">10.1249/00005768-198205000-00012</ArticleId><ArticleId IdType=\"pubmed\">7154893</ArticleId></ArticleIdList></Reference><Reference><Citation>Kueper JK, Speechley M, Montero-Odasso M. The Alzheimer&#x2019;s Disease Assessment Scale-Cognitive Subscale (ADAS-Cog): Modifications and Responsiveness in Pre-Dementia Populations&#x2014;a narrative review. J Alzheimers Dis. 2018;63(2):423-444. doi:10.3233/JAD-170991</Citation><ArticleIdList><ArticleId IdType=\"doi\">10.3233/JAD-170991</ArticleId><ArticleId IdType=\"pmc\">PMC5929311</ArticleId><ArticleId IdType=\"pubmed\">29660938</ArticleId></ArticleIdList></Reference><Reference><Citation>Liu-Ambrose T, Falck RS, Dao E, et al. . Effect of exercise training or complex mental and social activities on cognitive function in adults with chronic stroke: a randomized clinical trial. JAMA Netw Open. 2022;5(10):e2236510. doi:10.1001/jamanetworkopen.2022.36510</Citation><ArticleIdList><ArticleId IdType=\"doi\">10.1001/jamanetworkopen.2022.36510</ArticleId><ArticleId IdType=\"pmc\">PMC9561961</ArticleId><ArticleId IdType=\"pubmed\">36227593</ArticleId></ArticleIdList></Reference><Reference><Citation>Crane PK, Carle A, Gibbons LE, et al. ; Alzheimer&#x2019;s Disease Neuroimaging Initiative . Development and assessment of a composite score for memory in the Alzheimer&#x2019;s Disease Neuroimaging Initiative (ADNI). Brain Imaging Behav. 2012;6(4):502-516. doi:10.1007/s11682-012-9186-z</Citation><ArticleIdList><ArticleId IdType=\"doi\">10.1007/s11682-012-9186-z</ArticleId><ArticleId IdType=\"pmc\">PMC3806057</ArticleId><ArticleId IdType=\"pubmed\">22782295</ArticleId></ArticleIdList></Reference><Reference><Citation>Skinner J, Carvalho JO, Potter GG, et al. ; Alzheimer&#x2019;s Disease Neuroimaging Initiative . The Alzheimer&#x2019;s Disease Assessment Scale-Cognitive-Plus (ADAS-Cog-Plus): an expansion of the ADAS-Cog to improve responsiveness in MCI. Brain Imaging Behav. 2012;6(4):489-501. doi:10.1007/s11682-012-9166-3</Citation><ArticleIdList><ArticleId IdType=\"doi\">10.1007/s11682-012-9166-3</ArticleId><ArticleId IdType=\"pmc\">PMC3873823</ArticleId><ArticleId IdType=\"pubmed\">22614326</ArticleId></ArticleIdList></Reference><Reference><Citation>Mallinckrod C, Lane P, Schnell D, Peng Y, Mancuso J. Recommendations for the primary analysis of continuous endpoints in longitudinal clinical trials. Ther Innov Regul Sci. 2008;42(4):303-319. doi:10.1177/009286150804200402</Citation><ArticleIdList><ArticleId IdType=\"doi\">10.1177/009286150804200402</ArticleId></ArticleIdList></Reference><Reference><Citation>Chakraborty B, Collins LM, Strecher VJ, Murphy SA. Developing multicomponent interventions using fractional factorial designs. Stat Med. 2009;28(21):2687-2708. doi:10.1002/sim.3643</Citation><ArticleIdList><ArticleId IdType=\"doi\">10.1002/sim.3643</ArticleId><ArticleId IdType=\"pmc\">PMC2746448</ArticleId><ArticleId IdType=\"pubmed\">19575485</ArticleId></ArticleIdList></Reference><Reference><Citation>McAlister FA, Straus SE, Sackett DL, Altman DG. Analysis and reporting of factorial trials: a systematic review. JAMA. 2003;289(19):2545-2553. doi:10.1001/jama.289.19.2545</Citation><ArticleIdList><ArticleId IdType=\"doi\">10.1001/jama.289.19.2545</ArticleId><ArticleId IdType=\"pubmed\">12759326</ArticleId></ArticleIdList></Reference><Reference><Citation>Cohen J. Statistical power analysis for the behavioral sciences. 2nd ed. L. Erlbaum Associates; 1988.</Citation></Reference><Reference><Citation>Juszczak E, Altman DG, Hopewell S, Schulz K. Reporting of Multi-Arm Parallel-Group Randomized Trials: Extension of the CONSORT 2010 Statement. JAMA. 2019;321(16):1610-1620. doi:10.1001/jama.2019.3087</Citation><ArticleIdList><ArticleId IdType=\"doi\">10.1001/jama.2019.3087</ArticleId><ArticleId IdType=\"pubmed\">31012939</ArticleId></ArticleIdList></Reference><Reference><Citation>van Dyck CH, Swanson CJ, Aisen P, et al. . Lecanemab in early Alzheimer&#x2019;s disease. N Engl J Med. 2022;388(1):9-21.</Citation><ArticleIdList><ArticleId IdType=\"pubmed\">36449413</ArticleId></ArticleIdList></Reference><Reference><Citation>Schrag A, Schott JM; Alzheimer&#x2019;s Disease Neuroimaging Initiative . What is the clinically relevant change on the ADAS-Cog? J Neurol Neurosurg Psychiatry. 2012;83(2):171-173. doi:10.1136/jnnp-2011-300881</Citation><ArticleIdList><ArticleId IdType=\"doi\">10.1136/jnnp-2011-300881</ArticleId><ArticleId IdType=\"pubmed\">22019547</ArticleId></ArticleIdList></Reference><Reference><Citation>Bherer L, Gagnon C, Langeard A, et al. . Synergistic effects of cognitive training and physical exercise on dual-task performance in older adults. J Gerontol B Psychol Sci Soc Sci. 2021;76(8):1533-1541. doi:10.1093/geronb/gbaa124</Citation><ArticleIdList><ArticleId IdType=\"doi\">10.1093/geronb/gbaa124</ArticleId><ArticleId IdType=\"pmc\">PMC8436698</ArticleId><ArticleId IdType=\"pubmed\">32803232</ArticleId></ArticleIdList></Reference><Reference><Citation>Bray NW, Doherty TJ, Montero-Odasso M. The effect of high dose vitamin D3 on physical performance in frail older adults&#x2014;a feasibility study. J Frailty Aging. 2018;7(3):155-161. doi:10.14283/jfa.2018.18</Citation><ArticleIdList><ArticleId IdType=\"doi\">10.14283/jfa.2018.18</ArticleId><ArticleId IdType=\"pubmed\">30095145</ArticleId></ArticleIdList></Reference><Reference><Citation>Mujika I, Padilla S. Detraining: loss of training-induced physiological and performance adaptations. Part II: long term insufficient training stimulus. Sports Med. 2000;30(3):145-154. doi:10.2165/00007256-200030030-00001</Citation><ArticleIdList><ArticleId IdType=\"doi\">10.2165/00007256-200030030-00001</ArticleId><ArticleId IdType=\"pubmed\">10999420</ArticleId></ArticleIdList></Reference><Reference><Citation>Rodrigues L, Bherer L, Bosquet L, et al. . Effects of an 8-week training cessation period on cognition and functional capacity in older adults. Exp Gerontol. 2020;134:110890. doi:10.1016/j.exger.2020.110890</Citation><ArticleIdList><ArticleId IdType=\"doi\">10.1016/j.exger.2020.110890</ArticleId><ArticleId IdType=\"pubmed\">32114076</ArticleId></ArticleIdList></Reference></ReferenceList></PubmedData></PubmedArticle></PubmedArticleSet>'"
      ]
     },
     "execution_count": 7,
     "metadata": {},
     "output_type": "execute_result"
    }
   ],
   "source": [
    "def search_article2(title, publication, api_key, verbose=False):\n",
    "    \"\"\"\n",
    "    Search for article title in PubMed database.\n",
    "\n",
    "    Parameters:\n",
    "    - title (str): article title\n",
    "    - api_key (str): NCBI API key\n",
    "\n",
    "    Returns:\n",
    "    response (str): Article metadata from PubMed database if present. Otherwise, returns list of PMIDs.\n",
    "    \"\"\"\n",
    "    base_url = f'https://eutils.ncbi.nlm.nih.gov/entrez/eutils/esearch.fcgi'\n",
    "    title_without_not = re.sub(r'not', '', title)\n",
    "    if api_key:\n",
    "        base_url += f'&api_key={api_key}'\n",
    "    if publication:\n",
    "        search_term = f'({title_without_not} [ti]) AND ({publication} [ta])'\n",
    "    else:\n",
    "        search_term = f'{title_without_not} [ti]'\n",
    "    params = {\n",
    "        'db': 'pubmed',\n",
    "        'term': search_term,\n",
    "        'retmax': 5,\n",
    "        'retmode': 'json'\n",
    "    }\n",
    "    print(f'Search term: {search_term}')\n",
    "\n",
    "    response = requests.get(base_url, params=params)\n",
    "    data = response.json()\n",
    "\n",
    "    cleaned_title = re.sub(r'</?[ib]>', '', title) # remove bold and italic html tags\n",
    "    cleaned_title = re.sub(r'[^a-zA-Z0-9 ]', '', cleaned_title).lower().strip()\n",
    "    cleaned_title = re.sub(r\"\\u2010\", '', cleaned_title)\n",
    "    try:\n",
    "        id_list = data['esearchresult']['idlist']\n",
    "        if id_list:\n",
    "            for index in range(len(id_list)):\n",
    "                result = retrieve_citation(id_list[index], api_key).decode('utf-8')\n",
    "                cleaned_result = re.sub(r'[^a-zA-Z0-9 <>/]', '', result).lower().strip() \n",
    "                result_title_match = re.search(r'<articletitle>(.*?)</articletitle>', cleaned_result)\n",
    "                if result_title_match:\n",
    "                    result_title = result_title_match.group(1)\n",
    "                    cleaned_result_title = re.sub(r'</?[ib]>', '', result_title)\n",
    "                    cleaned_result_title = re.sub(r'/(?![^<>]*>)', '', cleaned_result_title) # Remove any / that is not within html tag\n",
    "                    cleaned_result_title = re.sub(r'[^a-zA-Z0-9 <>/]', '', cleaned_result_title).lower().strip()\n",
    "                    if index == 0:\n",
    "                        first_cleaned_result = cleaned_result\n",
    "                        first_result_title = result_title\n",
    "                        first_cleaned_result_title = cleaned_result_title\n",
    "                else:\n",
    "                    cleaned_result_title = cleaned_result\n",
    "                if cleaned_title == cleaned_result_title:\n",
    "                    if verbose:\n",
    "                        print(f'Match found for {title}: PMID = {id_list[index]}.')\n",
    "                    return result\n",
    "                else:\n",
    "                    continue\n",
    "            if cleaned_title != cleaned_result_title:\n",
    "                print(index)\n",
    "                print(f'Warning: Article title not found in PMIDs.')\n",
    "                print(f'Check these PMIDs: {id_list}')\n",
    "                print(f'\\tInput title: {title.lower().strip()}')\n",
    "                print(f'\\tResult title: {first_result_title if first_result_title else first_cleaned_result}')\n",
    "                print(f'\\tCleaned input title: {cleaned_title}')\n",
    "                print(f'\\tCleaned first result title: {first_cleaned_result_title}\\n') \n",
    "                result = retrieve_citation(id_list[0], api_key).decode('utf-8')\n",
    "            return [cleaned_title, first_cleaned_result_title]     \n",
    "    except Exception as error: \n",
    "        print(f'Response: \\n{data}')\n",
    "        exc_type, exc_obj, tb = sys.exc_info()\n",
    "        file = tb.tb_frame\n",
    "        lineno = tb.tb_lineno\n",
    "        filename = file.f_code.co_filename\n",
    "        print(f'\\tAn error occurred on line {lineno} in {filename}: {error}')    \n",
    "        print('Article not found.')\n",
    "        print(f'\\tInput title: {title.lower().strip()}')\n",
    "        return ''.join([id for id in id_list]) \n",
    "    \n",
    "\n",
    "\n",
    "api_key = os.getenv('api_ncbi') # Pubmed API key\n",
    "title = \"Effects of Exercise Alone or Combined With Cognitive Training and Vitamin D Supplementation to Improve Cognition in Adults With Mild Cognitive Impairment: A Randomized Clinical Trial\"\n",
    "publication = \"JAMA Netw Open\"\n",
    "\n",
    "\n",
    "result = search_article2(title, publication, api_key, verbose=False)\n",
    "result"
   ]
  },
  {
   "cell_type": "code",
   "execution_count": 4,
   "metadata": {},
   "outputs": [
    {
     "data": {
      "text/plain": [
       "True"
      ]
     },
     "execution_count": 4,
     "metadata": {},
     "output_type": "execute_result"
    }
   ],
   "source": [
    "result[0] == result[1]"
   ]
  },
  {
   "cell_type": "markdown",
   "metadata": {},
   "source": [
    "# iteration 2"
   ]
  },
  {
   "cell_type": "code",
   "execution_count": 1,
   "metadata": {},
   "outputs": [
    {
     "name": "stdout",
     "output_type": "stream",
     "text": [
      "Query: SELECT * from gpt_queue ORDER BY id ASC LIMIT 1\n",
      "Search term: (Effects of Exercise Alone or Combined With Cognitive Training and Vitamin D Supplementation to Improve Cognition in Adults With Mild Cognitive Impairment: A Randomized Clinical Trial [ti]) AND (JAMA Network Open [ta])\n",
      "Number of abstract sections: 8\n"
     ]
    }
   ],
   "source": [
    "from functools import wraps\n",
    "import sys\n",
    "sys.path.append(r\"C:\\Users\\silvh\\OneDrive\\lighthouse\\Ginkgo coding\\content-summarization\\private\")\n",
    "sys.path.append(r\"C:\\Users\\silvh\\OneDrive\\lighthouse\\Ginkgo coding\\content-summarization\\src\")\n",
    "from prompts import * # .py file stored in the path above\n",
    "from db_orm import * \n",
    "from sources import *\n",
    "from orm_summarize import *\n",
    "from article_processing import *\n",
    "\n",
    "#########\n",
    "#########\n",
    "# Prep: Set parameters\n",
    "folder_path = '../text/2023-07-14 full'\n",
    "section = 'discussion'\n",
    "local = False\n",
    "n_choices = 1\n",
    "article_limit = 1\n",
    "temperature = 1\n",
    "pause_per_request=0\n",
    "# summary_iteration_id = iteration_id\n",
    "iteration_id = 1\n",
    "chatbot_id = iteration_id\n",
    "model = 'gpt-3.5-turbo-16k-0613'\n",
    "# model = 'gpt-4'\n",
    "save_outputs=False\n",
    "\n",
    "def generate_summaries(n_choices, temperature, model, pause_per_request, folder_path, section, local, article_limit=article_limit):\n",
    "    ### Set up\n",
    "    qna_dict = dict()\n",
    "    chatbot_dict = dict()\n",
    "    references_df_dict = dict()\n",
    "\n",
    "    # set the option to wrap text within cells\n",
    "    pd.set_option('display.max_colwidth', 50)\n",
    "    pd.set_option('display.max_rows', 20)\n",
    "    pd.set_option('display.max_columns', None)\n",
    "    pd.set_option('display.width', None)\n",
    "\n",
    "    ####### \n",
    "    # Step 1: Create sources table\n",
    "    if local:\n",
    "        text_df = parse_fulltext(folder_path, section).iloc[:article_limit if article_limit else len(text_df)]\n",
    "    else:\n",
    "        text_df = get_table(table='gpt_queue', limit=article_limit) # db_orm.py\n",
    "\n",
    "    references_df_dict[iteration_id] = create_sources_table(text_df) # sources.py\n",
    "    return references_df_dict[iteration_id]\n",
    "    # ###### \n",
    "    # # Step 2:  Add rows from gpt_queue table to sources table \n",
    "    # bulk_append(table='sources', input_df=references_df_dict[iteration_id]) # db_orm.py\n",
    "\n",
    "    # # ##### \n",
    "    # # Step 3: Get the new sources for summarization\n",
    "    # sources_df = get_from_queue(input_df=text_df, order_by='id', order='ASC')\n",
    "\n",
    "    # # ##### \n",
    "    # # Step 4: Create summaries (functions contained in orm_summarize.py)\n",
    "    # chatbot_dict = batch_summarize( # orm_summarize.py\n",
    "    #     sources_df, folder_path, prep_step, summarize_task, edit_task,  # parameter values found in prompts.py\n",
    "    #     simplify_task, simplify_audience, format_task,\n",
    "    #     chatbot_dict, temperature=temperature,\n",
    "    #     system_role=system_role, model=model, max_tokens=1000,\n",
    "    #     n_choices=n_choices, pause_per_request=pause_per_request,\n",
    "    #     iteration_id=iteration_id, save_outputs=save_outputs\n",
    "    #     )\n",
    "    # #########\n",
    "    # # Step 5: Create summaries table\n",
    "    # qna_dict = create_summaries_df(\n",
    "    #     qna_dict, chatbot_dict, iteration_id, chatbot_id=chatbot_id\n",
    "    #     )\n",
    "\n",
    "    # ##########\n",
    "    # # Step 5: Add results to summaries and prompts table \n",
    "    # bulk_append(table='summaries', input_df=qna_dict[iteration_id]) # db_orm.py\n",
    "\n",
    "    # return qna_dict[iteration_id]\n",
    "\n",
    "if __name__ == \"__main__\":\n",
    "    qna_dict = generate_summaries(n_choices, temperature, model, pause_per_request, folder_path, section, local=False, article_limit=article_limit)\n",
    "    qna_dict"
   ]
  },
  {
   "cell_type": "markdown",
   "metadata": {},
   "source": []
  },
  {
   "cell_type": "code",
   "execution_count": null,
   "metadata": {},
   "outputs": [],
   "source": []
  },
  {
   "cell_type": "code",
   "execution_count": null,
   "metadata": {},
   "outputs": [],
   "source": []
  },
  {
   "cell_type": "code",
   "execution_count": null,
   "metadata": {},
   "outputs": [],
   "source": []
  },
  {
   "cell_type": "code",
   "execution_count": null,
   "metadata": {},
   "outputs": [],
   "source": []
  },
  {
   "cell_type": "code",
   "execution_count": null,
   "metadata": {},
   "outputs": [],
   "source": []
  },
  {
   "cell_type": "code",
   "execution_count": null,
   "metadata": {},
   "outputs": [],
   "source": []
  },
  {
   "cell_type": "code",
   "execution_count": null,
   "metadata": {},
   "outputs": [],
   "source": []
  },
  {
   "cell_type": "code",
   "execution_count": null,
   "metadata": {},
   "outputs": [],
   "source": []
  },
  {
   "cell_type": "code",
   "execution_count": null,
   "metadata": {},
   "outputs": [],
   "source": []
  },
  {
   "cell_type": "code",
   "execution_count": null,
   "metadata": {},
   "outputs": [],
   "source": []
  },
  {
   "cell_type": "code",
   "execution_count": null,
   "metadata": {},
   "outputs": [],
   "source": []
  },
  {
   "cell_type": "code",
   "execution_count": null,
   "metadata": {},
   "outputs": [],
   "source": []
  },
  {
   "cell_type": "code",
   "execution_count": null,
   "metadata": {},
   "outputs": [],
   "source": []
  },
  {
   "cell_type": "code",
   "execution_count": null,
   "metadata": {},
   "outputs": [],
   "source": []
  },
  {
   "cell_type": "code",
   "execution_count": null,
   "metadata": {},
   "outputs": [],
   "source": []
  },
  {
   "cell_type": "markdown",
   "metadata": {},
   "source": [
    "# *End of Page*"
   ]
  }
 ],
 "metadata": {
  "kernelspec": {
   "display_name": "Python 3.9.13 64-bit",
   "language": "python",
   "name": "python3"
  },
  "language_info": {
   "codemirror_mode": {
    "name": "ipython",
    "version": 3
   },
   "file_extension": ".py",
   "mimetype": "text/x-python",
   "name": "python",
   "nbconvert_exporter": "python",
   "pygments_lexer": "ipython3",
   "version": "3.11.3"
  },
  "orig_nbformat": 4,
  "vscode": {
   "interpreter": {
    "hash": "11938c6bc6919ae2720b4d5011047913343b08a43b18698fd82dedb0d4417594"
   }
  }
 },
 "nbformat": 4,
 "nbformat_minor": 2
}
