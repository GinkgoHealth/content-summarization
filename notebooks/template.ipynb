{
 "cells": [
  {
   "cell_type": "markdown",
   "metadata": {},
   "source": [
    "# Title\n",
    "[]()"
   ]
  },
  {
   "cell_type": "code",
   "execution_count": 14,
   "metadata": {},
   "outputs": [],
   "source": [
    "from pandas import json_normalize  \n",
    "import pandas as pd\n",
    "import sys\n",
    "sys.path.append(r\"C:\\Users\\silvh\\OneDrive\\lighthouse\\custom_python\")\n",
    "sys.path.append(r\"C:\\Users\\silvh\\OneDrive\\lighthouse\\portfolio-projects\\online-PT-social-media-NLP\\src\")\n",
    "from silvhua import *\n",
    "from datetime import datetime\n",
    "# import json\n",
    "# from plotly.subplots import make_subplots\n",
    "# import requests"
   ]
  },
  {
   "cell_type": "code",
   "execution_count": 15,
   "metadata": {},
   "outputs": [],
   "source": [
    "# set the option to wrap text within cells\n",
    "pd.set_option('display.max_colwidth', None)\n",
    "# pd.set_option('display.max_columns', None)\n",
    "pd.set_option('display.width', None)"
   ]
  },
  {
   "cell_type": "code",
   "execution_count": 16,
   "metadata": {},
   "outputs": [],
   "source": [
    "# from pypdf import PdfReader\n",
    "import pandas as pd\n",
    "import openai\n",
    "import os\n",
    "# from openai.embeddings_utils import get_embedding, cosine_similarity\n",
    "import re"
   ]
  },
  {
   "cell_type": "code",
   "execution_count": 17,
   "metadata": {},
   "outputs": [],
   "source": [
    "\n",
    "sys.path.append(r\"C:\\Users\\silvh\\OneDrive\\lighthouse\\Ginkgo coding\\content-summarization\\src\")\n",
    "from summarization import Chatbot, reply, batch_reply\n",
    "from article_processing import create_text_dict"
   ]
  },
  {
   "attachments": {},
   "cell_type": "markdown",
   "metadata": {},
   "source": [
    "# Create text_dict"
   ]
  },
  {
   "cell_type": "code",
   "execution_count": null,
   "metadata": {},
   "outputs": [],
   "source": [
    "import os\n",
    "\n",
    "folder_path = '../text/2023-04-13'\n",
    "encoding='ISO-8859-1'\n",
    "all_files = []\n",
    "\n",
    "for filename in os.listdir(folder_path):\n",
    "    with open(os.path.join(folder_path, filename), 'r', encoding=encoding) as f:\n",
    "        all_files.append(f.read())\n",
    "\n",
    "text_dict = create_text_dict(all_files)\n",
    "text_dict"
   ]
  },
  {
   "cell_type": "markdown",
   "metadata": {},
   "source": [
    "## Create relevance_prompts_df"
   ]
  },
  {
   "cell_type": "code",
   "execution_count": 20,
   "metadata": {},
   "outputs": [
    {
     "data": {
      "text/html": [
       "<div>\n",
       "<style scoped>\n",
       "    .dataframe tbody tr th:only-of-type {\n",
       "        vertical-align: middle;\n",
       "    }\n",
       "\n",
       "    .dataframe tbody tr th {\n",
       "        vertical-align: top;\n",
       "    }\n",
       "\n",
       "    .dataframe thead th {\n",
       "        text-align: right;\n",
       "    }\n",
       "</style>\n",
       "<table border=\"1\" class=\"dataframe\">\n",
       "  <thead>\n",
       "    <tr style=\"text-align: right;\">\n",
       "      <th></th>\n",
       "      <th>task part 3</th>\n",
       "      <th>audience</th>\n",
       "      <th>relevance</th>\n",
       "    </tr>\n",
       "  </thead>\n",
       "  <tbody>\n",
       "    <tr>\n",
       "      <th>0</th>\n",
       "      <td>Add 1-2 sentences to make this relevant for</td>\n",
       "      <td>seniors</td>\n",
       "      <td>Add 1-2 sentences to make this relevant for seniors</td>\n",
       "    </tr>\n",
       "    <tr>\n",
       "      <th>1</th>\n",
       "      <td>Add 1-2 sentences to make this relevant for</td>\n",
       "      <td>people who enjoy sports</td>\n",
       "      <td>Add 1-2 sentences to make this relevant for people who enjoy sports</td>\n",
       "    </tr>\n",
       "  </tbody>\n",
       "</table>\n",
       "</div>"
      ],
      "text/plain": [
       "                                   task part 3                 audience  \\\n",
       "0  Add 1-2 sentences to make this relevant for                  seniors   \n",
       "1  Add 1-2 sentences to make this relevant for  people who enjoy sports   \n",
       "\n",
       "                                                               relevance  \n",
       "0                   Add 1-2 sentences to make this relevant for seniors   \n",
       "1   Add 1-2 sentences to make this relevant for people who enjoy sports   "
      ]
     },
     "execution_count": 20,
     "metadata": {},
     "output_type": "execute_result"
    }
   ],
   "source": [
    "from itertools import product\n",
    "prompts_dict = dict()\n",
    "experiment_num = 1\n",
    "relevance_prompts_dict = dict()\n",
    "\n",
    "prep_step = [\n",
    "    # \"Take the key points to\",\n",
    "    \"Take the key points and numerical descriptors to\",\n",
    "    # \"\"\n",
    "]\n",
    "\n",
    "task_part1 = [\n",
    "    # \"Summarize the article in under 300 characters\",\n",
    "    \"Summarize for a LinkedIn post\",\n",
    "    # \"Summarize for a tweet\",\n",
    "    # \"Summarize in an engaging way\",\n",
    "    \"Describe the interesting points to your coworker at the water cooler\"\n",
    "    # \"Summarize the article for a Tiktok post\"\n",
    "]\n",
    "audience = [\n",
    "    # \"lay audience\",\n",
    "    # \"\",\n",
    "    \"seniors\",\n",
    "    \"people who enjoy sports\"\n",
    "]\n",
    "task_part2 = [\n",
    "    \"\",\n",
    "    \"Use terms a 12-year-old can understand.\",\n",
    "    # \"Assume your audience has no science background.\"\n",
    "    # \"Include the most interesting findings.\",\n",
    "    # \"Include the key take-aways for the reader.\",\n",
    "    # \"Include the implications of the article.\"\n",
    "]\n",
    "\n",
    "task_part3 =[\n",
    "    \"Add 1-2 sentences to make this relevant for\"\n",
    "    # \"Add 1-2 sentences to make this relevant for older adults.\"\n",
    "    # \"Once you are done, add 1-2 sentences to make this relevant for older adults.\",\n",
    "    \"\"\n",
    "]\n",
    "\n",
    "# prompts_df = pd.DataFrame(product(prep_step, task_part1, task_part2, task_part3, audience), \n",
    "#     columns=['prep_step', 'task part 1', 'task part 2', 'task part 3', 'audience'])\n",
    "\n",
    "prompts_df = pd.DataFrame(product(prep_step, task_part1), \n",
    "    columns=['prep_step', 'task part 1'])\n",
    "\n",
    "relevance_prompts_df = pd.DataFrame(product(task_part3, audience), \n",
    "    columns=['task part 3', 'audience'])\n",
    "\n",
    "\n",
    "\n",
    "prompts_df['prompt'] = prompts_df.apply(\n",
    "    lambda row: f\"{row['prep_step']} {row['task part 1']}.\", \n",
    "    axis=1)\n",
    "# prompts_df['simplify'] = prompts_df.apply(\n",
    "#     lambda row: f\" {row['task part 2'] if row['task part 2'] else ''}\", \n",
    "#     axis=1)\n",
    "relevance_prompts_df['relevance'] = relevance_prompts_df.apply(\n",
    "    lambda row: f\" {row['task part 3']} {row['audience']} \" if row['audience'] else '', \n",
    "    axis=1) \n",
    "relevance_prompts_dict[experiment_num] = relevance_prompts_df\n",
    "relevance_prompts_df"
   ]
  },
  {
   "cell_type": "code",
   "execution_count": 21,
   "metadata": {},
   "outputs": [
    {
     "data": {
      "text/html": [
       "<div>\n",
       "<style scoped>\n",
       "    .dataframe tbody tr th:only-of-type {\n",
       "        vertical-align: middle;\n",
       "    }\n",
       "\n",
       "    .dataframe tbody tr th {\n",
       "        vertical-align: top;\n",
       "    }\n",
       "\n",
       "    .dataframe thead th {\n",
       "        text-align: right;\n",
       "    }\n",
       "</style>\n",
       "<table border=\"1\" class=\"dataframe\">\n",
       "  <thead>\n",
       "    <tr style=\"text-align: right;\">\n",
       "      <th></th>\n",
       "      <th>prep_step</th>\n",
       "      <th>task part 1</th>\n",
       "      <th>prompt</th>\n",
       "    </tr>\n",
       "  </thead>\n",
       "  <tbody>\n",
       "    <tr>\n",
       "      <th>0</th>\n",
       "      <td>Take the key points and numerical descriptors to</td>\n",
       "      <td>Summarize for a LinkedIn post</td>\n",
       "      <td>Take the key points and numerical descriptors to Summarize for a LinkedIn post.</td>\n",
       "    </tr>\n",
       "    <tr>\n",
       "      <th>1</th>\n",
       "      <td>Take the key points and numerical descriptors to</td>\n",
       "      <td>Describe the interesting points to your coworker at the water cooler</td>\n",
       "      <td>Take the key points and numerical descriptors to Describe the interesting points to your coworker at the water cooler.</td>\n",
       "    </tr>\n",
       "  </tbody>\n",
       "</table>\n",
       "</div>"
      ],
      "text/plain": [
       "                                          prep_step  \\\n",
       "0  Take the key points and numerical descriptors to   \n",
       "1  Take the key points and numerical descriptors to   \n",
       "\n",
       "                                                            task part 1  \\\n",
       "0                                         Summarize for a LinkedIn post   \n",
       "1  Describe the interesting points to your coworker at the water cooler   \n",
       "\n",
       "                                                                                                                   prompt  \n",
       "0                                         Take the key points and numerical descriptors to Summarize for a LinkedIn post.  \n",
       "1  Take the key points and numerical descriptors to Describe the interesting points to your coworker at the water cooler.  "
      ]
     },
     "execution_count": 21,
     "metadata": {},
     "output_type": "execute_result"
    }
   ],
   "source": [
    "prompts_df"
   ]
  },
  {
   "cell_type": "code",
   "execution_count": null,
   "metadata": {},
   "outputs": [],
   "source": []
  },
  {
   "cell_type": "code",
   "execution_count": null,
   "metadata": {},
   "outputs": [],
   "source": []
  },
  {
   "cell_type": "code",
   "execution_count": null,
   "metadata": {},
   "outputs": [],
   "source": []
  },
  {
   "cell_type": "code",
   "execution_count": null,
   "metadata": {},
   "outputs": [],
   "source": []
  },
  {
   "cell_type": "code",
   "execution_count": null,
   "metadata": {},
   "outputs": [],
   "source": []
  },
  {
   "cell_type": "code",
   "execution_count": null,
   "metadata": {},
   "outputs": [],
   "source": []
  },
  {
   "cell_type": "code",
   "execution_count": null,
   "metadata": {},
   "outputs": [],
   "source": []
  },
  {
   "cell_type": "code",
   "execution_count": null,
   "metadata": {},
   "outputs": [],
   "source": []
  },
  {
   "cell_type": "code",
   "execution_count": null,
   "metadata": {},
   "outputs": [],
   "source": []
  },
  {
   "cell_type": "code",
   "execution_count": null,
   "metadata": {},
   "outputs": [],
   "source": []
  },
  {
   "cell_type": "code",
   "execution_count": null,
   "metadata": {},
   "outputs": [],
   "source": []
  },
  {
   "cell_type": "code",
   "execution_count": null,
   "metadata": {},
   "outputs": [],
   "source": []
  },
  {
   "cell_type": "code",
   "execution_count": null,
   "metadata": {},
   "outputs": [],
   "source": []
  },
  {
   "cell_type": "code",
   "execution_count": null,
   "metadata": {},
   "outputs": [],
   "source": []
  },
  {
   "cell_type": "code",
   "execution_count": null,
   "metadata": {},
   "outputs": [],
   "source": []
  },
  {
   "cell_type": "code",
   "execution_count": null,
   "metadata": {},
   "outputs": [],
   "source": []
  },
  {
   "cell_type": "code",
   "execution_count": null,
   "metadata": {},
   "outputs": [],
   "source": []
  },
  {
   "cell_type": "code",
   "execution_count": null,
   "metadata": {},
   "outputs": [],
   "source": []
  },
  {
   "cell_type": "code",
   "execution_count": null,
   "metadata": {},
   "outputs": [],
   "source": []
  },
  {
   "cell_type": "markdown",
   "metadata": {},
   "source": [
    "# *End of Page*"
   ]
  }
 ],
 "metadata": {
  "kernelspec": {
   "display_name": "Python 3.9.13 64-bit",
   "language": "python",
   "name": "python3"
  },
  "language_info": {
   "codemirror_mode": {
    "name": "ipython",
    "version": 3
   },
   "file_extension": ".py",
   "mimetype": "text/x-python",
   "name": "python",
   "nbconvert_exporter": "python",
   "pygments_lexer": "ipython3",
   "version": "3.9.16"
  },
  "orig_nbformat": 4,
  "vscode": {
   "interpreter": {
    "hash": "11938c6bc6919ae2720b4d5011047913343b08a43b18698fd82dedb0d4417594"
   }
  }
 },
 "nbformat": 4,
 "nbformat_minor": 2
}
