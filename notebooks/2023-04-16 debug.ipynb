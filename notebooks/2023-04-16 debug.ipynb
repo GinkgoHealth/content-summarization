{
 "cells": [
  {
   "cell_type": "markdown",
   "metadata": {},
   "source": [
    "# Title\n",
    "[]()"
   ]
  },
  {
   "cell_type": "code",
   "execution_count": 14,
   "metadata": {},
   "outputs": [],
   "source": [
    "from pandas import json_normalize  \n",
    "import pandas as pd\n",
    "import sys\n",
    "sys.path.append(r\"C:\\Users\\silvh\\OneDrive\\lighthouse\\custom_python\")\n",
    "sys.path.append(r\"C:\\Users\\silvh\\OneDrive\\lighthouse\\portfolio-projects\\online-PT-social-media-NLP\\src\")\n",
    "from silvhua import *\n",
    "from datetime import datetime\n",
    "# import json\n",
    "# from plotly.subplots import make_subplots\n",
    "# import requests"
   ]
  },
  {
   "cell_type": "code",
   "execution_count": 15,
   "metadata": {},
   "outputs": [],
   "source": [
    "# set the option to wrap text within cells\n",
    "pd.set_option('display.max_colwidth', None)\n",
    "# pd.set_option('display.max_columns', None)\n",
    "pd.set_option('display.width', None)"
   ]
  },
  {
   "cell_type": "code",
   "execution_count": 16,
   "metadata": {},
   "outputs": [],
   "source": [
    "# from pypdf import PdfReader\n",
    "import pandas as pd\n",
    "import openai\n",
    "import os\n",
    "# from openai.embeddings_utils import get_embedding, cosine_similarity\n",
    "import re"
   ]
  },
  {
   "cell_type": "code",
   "execution_count": 17,
   "metadata": {},
   "outputs": [],
   "source": [
    "\n",
    "sys.path.append(r\"C:\\Users\\silvh\\OneDrive\\lighthouse\\Ginkgo coding\\content-summarization\\src\")\n",
    "from summarization import Chatbot, reply, batch_reply\n",
    "from article_processing import create_text_dict"
   ]
  },
  {
   "cell_type": "markdown",
   "metadata": {},
   "source": [
    "# Create text_dict"
   ]
  },
  {
   "cell_type": "code",
   "execution_count": 18,
   "metadata": {},
   "outputs": [
    {
     "data": {
      "text/plain": [
       "dict_keys([1, 2])"
      ]
     },
     "execution_count": 18,
     "metadata": {},
     "output_type": "execute_result"
    }
   ],
   "source": [
    "text1 = \"\"\"The Impact of Sleep Duration on Performance Among Competitive Athletes: A Systematic Literature Review\n",
    "\n",
    "DISCUSSION \n",
    "This literature review, although diverse in the range of sports, methods, and outcomes studied, provides several stylized facts that can inform sleep research and competitive athletes. First, out of all the published studies we reviewed, none found a negative association between sleep duration and any performance outcome. All of the results reviewed showed that either the increased sleep duration has a positive effect on athletic performance or the results were neutral. Note that among studies reporting significant positive results, effect sizes varied considerably (Tables 2-4), likely due to differences in the duration of sleep deprivation/extension experienced as well as differences in outcome measures. Second, when considering the aerobic and anaerobic characteristics of sports, it seems that aerobic activity is more sensitive to sleep duration compared to anaerobic activity, including strength testing. For instance, Mejri et al40 found that depriving competitive taekwondo boxers of a mere 3 to 4 hours of sleep significantly impaired performance on the Yo-Yo intermittent recovery test. By contrast, Blumert et al33 employed a relatively severe sleep deprivation protocol by depriving 9 national-caliber collegiate weightlifters of 24 hours of sleep and yet failed to identify adverse effects on any of the various weightlifting exercises examined. Relatedly, for both endurance and explosive, power-based exercises, it has been well documented that sleep deprivation is associated with increased perceived effort.56–58 Still, the relationship between perceived effort and objective performance has not been widely validated and is a topic for future investigation. Third, of the studies that measured outcomes requiring either tactical and/or technical skills, most find benefits of sleep on performance. Tennis serving accuracy and basketball shooting were both improved by long-term sleep extension interventions,35,39 and tennis serving accuracy suffered when players were deprived of 2 to 2.5 hours of sleep at the beginning of the preceding night.37 Regarding studies conducted in players of team sports that incorporated tactics and decision-based outcomes to a broader extent, soccer as well as rugby players exhibited performance deficits after nights of decreased sleep duration.34 These results are in line with other literature demonstrating clear neurocognitive deficits in the setting of inadequate sleep in the general population, reviewed thoroughly elsewhere.59,60 Finally, when looking at the methodologies of the experimental studies, we found that the studies that altered sleep duration on a longer-term timescale were more likely to show an effect than those that altered sleep duration acutely. Interestingly although most acute sleep interventions involved sleep deprivation and yielded positive results, there were inconsistent results among the 2 acute sleep extension studies.15,38 Conversely, the majority of longer-term sleep intervention studies involved sleep extension and showed positive results.35,39,49 Taken together, these findings suggest that on a short timescale, sleep deprivation may be more harmful than sleep extension is beneficial to performance, although in the longer term, sleep extension may contribute to improved performance. On the other hand, more research is warranted regarding potential adverse effects of chronic sleep loss on athletic performance. The reliability and precision of the various measurements may present challenges in interpretation of these studies. For example, “maximal” voluntary muscle contraction and voluntarily chosen training load are variable across subjects.61,62 On the other hand, “running economy,” the oxygen cost associated with a given running velocity, has low variability among highly trained runners and is significantly correlated with cardiorespiratory parameters used to assess aerobic capacity.63 A meta-analysis of the reliability of various measures of muscle power previously identified that field running tests tended to be more reliable than treadmill running tests, tests lasting up to 1 minute tended to be more reliable than those lasting greater than 1 minute (likely due to increased variability in muscle movement and limb positioning), and isokinetic tests tended to be more reliable when measuring muscle extension versus flexion.62 Somewhat reassuringly in the context of the present review, this metaanalysis also found that measurements taken from athletes were more reliable than those taken from non-athlete subjects. With respect to the validity of outcome measures reported as performance indicators, the nature of the sport (eg, team vs individual) may be an important determinant of whether what is measured in the laboratory translates to the actual game. For instance, for team-based sports requiring complex game structure such as soccer, measures of muscle force production or running speed are likely insufficient to provide an accurate assessment of in-game performance, although they may be helpful in making gross approximations and predictions.64 Of course, actual performance metrics from real or simulated games would be the ideal outcomes to quantify for such sports in future investigations. More specifically, for performance outcomes included in the current review, the following have been independently validated and shown to be reliable measures of athletic performance: Yo-Yo intermittent recovery (YYIR) test, isometric muscle contraction, squat, countermovement jump, free sthrow basketball shooting, tennis serving, shuttle-running tests, and Wingate test.42–48 In Table 1, we have indicated studies employing previously validated and reliable metrics of objective performance with asterisks (as per the criteria discussed above). Still, more work will be required to further validate the various performance outcomes measured in the studies reviewed in the present work, especially those involving complex, team-based measures such as composite game performance scores and passing accuracy. Likewise, given the high inter-individual variability of sleep variables used across the included studies, these metrics will also require further investigation to determine their precision and reliability as predictors of athletic performance. Importantly, we chose to require at least one objective performance measure among our inclusion criteria. The previous work relying on self-perceived performance, although informative in understanding the potential effect of sleep loss or gain on sports psychology,15 may not accurately reflect actual performance, as was the goal of the present work. However, under certain circumstances, self-perceived pre-game wellness (including self-reported sleep quality) may be predictive of objective in-game performance.65 More research will be needed to assess the validity of playerreported performance and objective performance, especially when athletes exhibit compromised sleep. Several experimental studies are particularly illustrative of the various trends in the results we have just outlined. To address the question of whether one night of sleep extension would be sufficient to improve various fitness indices among semi-professional soccer players, Fullagar et al15 tested a sleep hygiene intervention. The investigators implemented a sleep hygiene strategy (SHS) designed to maximize sleep duration and limit stimulation before bedtime to test whether this would be sufficient to improve either anaerobic (jumping height and force production) or aerobic endurance (Yo–Yo intermittent recovery level 2, YYIR2) performance after latenight soccer matches. Implementing a randomized design, they assigned 20 participants to follow either their normal post-match sleep routine [non-SHS (NSHS)] or a SHS involving early dimming of lights and lights out by midnight, cool room temperature, and no technology or light stimulation for 15 to 30 minutes before bedtime. Actigraphy was used to measure sleep patterns, and sleep diary was used for subjective recall of sleep quality. Despite finding that those assigned to the SHS indeed exhibited increased sleep duration after the night match relative to those in the NSHS group, the investigators failed to identify any improvements in countermovement jump height, countermovement jump force production, or YYIR2 performance, tested over the following 2 days. On the other hand, as we have discussed, studies of acute sleep deprivation, especially those measuring technical performance outcomes, tended to yield positive results. Given that sleep is often disrupted the night before athletic competition,66 athletes involved in sports requiring these types of skills are likely to be particularly sensitive to sleep manipulations and thus should be counseled regarding the importance of sleep for game performance. Relatedly, chronic sleep extension studies have demonstrated significant benefits to athletes.35,49 Thus, strategies to improve sleep not only the night before an important sports event but also in the weeks leading up to this event are likely to be fruitful in improving performance. In this review, we have summarized and synthesized recent findings in the realm of sports and sleep science. One of the challenges of conducting such a literature review is that the study methodologies vary a great deal, as do the individual sports, making comparisons of effects and magnitudes of effect sizes across studies difficult. Additionally, unlike many studies of athletic performance and sleep conducted in nonathletes and recreational sports players, studies incorporating high-level competitors are limited, especially those implementing experimental approaches. Even among the best-controlled studies, sample sizes are small and sleep measurements vary considerably, with some studies measuring sleep duration objectively through polysomnography or actigraphy and others relying on self-report. All of these factors limit the scope of the conclusions that can be drawn. Nevertheless, they do provide valuable information about when sleep does or particularly when sleep does not seem to play a key role in influencing performance. Future research may seek to use larger sample sizes and standardize tests of athletic performance in order to identify optimal sleep standards, in addition to standardizing sleep metrics and incorporating more objective sleep data. In particular, here we focused on studies investigating sleep duration, although sleep timing is likely to be a relevant factor as well. As sleep onset and wake time have previously been shown to influence performance and recovery,5 future studies should aim to incorporate this information. Given these suggestions for improving future research, there are many opportunities for innovative research on this topic. One area in particular may be about how generalizable these findings are to other sports. Given the wide range of methodologies and used in these studies, another research goal would be to harmonize measures across studies and conduct a meta-analysis. Another area to investigate is trade-offs between wake time activities (eg, athletic practice) and sleep. For example, is it beneficial for swimmers to practice early in the morning even at the expense of their sleep? Research also should seek to investigate the mechanisms by which aerobic, tactical, and technical performance attributes may be preferentially sensitive to changes in sleep patterns. One limitation of the present work is that although the number of hours and/or nights of sleep interventions across studies varied, sleep duration was only measured the night before performance assessment. Thus, in order to obtain a more complete picture of sleep quantity and quality, future research should aim to measure sleep across the entire study period. Another limitation is that few of the studies examined explicitly the relationship between subjective sleep quality and performance, especially using validated sleep quality questionnaires such as the PSQI and ESS. Thus, this remains an open question that will be important to be investigated in the future. Once all these data are gathered, feasible and effective interventions should be developed, implemented, and evaluated to improve the sleep health and optimal performance of athletes. In conclusion, the importance of sleep for professional athletes to achieve high performance varies by the cognitive and physical demands of the sport. However, because most sports require integration of aerobic fitness, tactical skills, and technical skills, competitive athletes will likely benefit from an increase in sleep duration.  \n",
    "\"\"\"\n",
    "\n",
    "text2 = \"\"\"Food craving, cortisol and ghrelin responses in modeling highly palatable snack intake in the laboratory\n",
    "\n",
    "DISCUSSION\n",
    "This preliminary study is the first to directly compare the effects of both food cue and stress exposure on HP food craving and HP food intake in a 3-day human laboratory experiment conducted within a controlled hospital-based setting with healthy community adults. As both the ubiquitous HP food environment and stressors are known to increase HP food intake and obesity risk, a direct comparison of these contexts could identify similar and differential processes that may underlie food motivation and intake. As hypothesized, and similar to our previous work in addiction [18], we found that exposure to both personal food cues and to personal stressors relative to a neutral relaxing control cue resulted in increases in HP food craving and subsequent increased snacking of HP foods in a standardized Food Snack Test (FST), but with differential effects in lean and overweight BMI groups. Furthermore, we found that increased food craving in these contexts was highly associated with subsequent amounts of HP food snack intake. Finally, both ghrelin and cortisol were found to significantly impact food motivation but differentially across lean and overweight individuals. Together, these results support the need for further investigation of biobehavioral processes underlying HP food motivation and intake, especially in the context of weight-related physiological adaptations.\n",
    "Exposure to food cue imagery led to significant increases in HP food craving prior to the presentation of the FST at the pre-snack timepoint in both lean and OW individuals. Moreover, food cue-related increases in food craving predicted significant increases in HP snack intake across both lean and OW individuals. These data are consistent with a significant literature indicating that rewarding stimuli and their related contexts increase motivation and wanting of rewarding stimuli via conditioning and/or incentive salience mechanisms [4, 20, 42]. Also, a number of basic science and human neuroimaging studies have shown that food cue stimulus exposure increases food craving and activate brain reward and motivation regions [4, 7-11, 18, 43, 44]. Current findings further indicate that such food cue-related increases in HP food craving promote HP snack intake with greater intake of HP foods in the food cue context relative to the neutral relaxing contexts across individuals. These data validate the real-world contexts of advertising of HP foods to promote greater sales and intake of HP foods.\n",
    "In contrast, we found a differential impact of stress on HP food craving and intake by BMI group where stress significantly increased food craving relative to the neutral condition, but only in the overweight and not the lean group. Furthermore, stress-induced HP food craving predicted subsequent HP snack intake in the overweight but not the lean group, suggesting that food motivational processes may be relevant in identifying those who are vulnerable to stress-induced eating. Previous laboratory studies have shown mixed results with some showing stress increasing food intake [17, 24], but others reporting no consistent increases in intake [23, 45]. While the methodology has varied across these studies, current findings suggest the need for direct comparison of BMI groups and consideration of weight-related adaptations in assessing stress effects on HP food motivation and intake. Current findings are also supported by a growing literature suggesting that BMI-related alterations impact not only metabolic hormones but also stress and reward processes that may contribute to increased food motivation and intake [18, 20, 44]. Together our findings on food cue- and stress- related effects on HP food motivation and intake suggests differential effects by BMI, that may in turn, point to different mechanisms that may drive weight gain and obesity risk in individuals who are lean versus those who are overweight.\n",
    "Our findings also show differential effects of food cue and stress exposure on total ghrelin responses and their contribution to HP food motivation and intake. Stress and food cue exposure increased ghrelin responses, but significantly for the OW and not the LN group. Furthermore, only in the OW group was stress-induced ghrelin increases significantly associated with both HP food craving and subsequent HP food intake. While ghrelin has well known homeostatic effects on feeding function [46, 47], recent focus has been on its role in both stress and mood regulation as well as in hedonically motivated feeding behavior, partially via its effects on mesolimbic reward circuits [37, 48]. Findings indicate that ghrelin can shift preferences to high palatable foods and increase the motivational aspects of food reward [48]. Ghrelin is also known to increase with stress and is involved in regulating anxiety and mood (36, 49-51). Neuroimaging studies have demonstrated that ghrelin administration increases the neural response to food pictures in areas associated with hedonic eating (i.e., amygdala, hippocampus, orbitofrontal cortex, striatum, and ventral tegmental area) [52]. Additionally, there is growing evidence that feed-forward circuitry between stress and food reward maybe partly mediated by ghrelin [52, 53]. In the current study, as the effects were specific to the OW group, they suggest that weight-related adaptations in ghrelin modulated pathways could potentially shift food motivation towards hedonic regulation, especially under stress conditions.\n",
    "Finally, our findings also showed differential effects of cortisol responses to stress and food cue exposure. Notably, there was a significant increase in cortisol in the food cue relative to the neutral condition that was due to significant increases in cortisol in the lean group and not so in the OW group. Furthermore, food cue-related increases in cortisol was associated with greater food cue-related HP craving, suggesting a role for cortisol in food motivation. While glucocorticoids are often associated with the stress response, they are also known to play an important role in energy intake and regulation. Cortisol increases have been noted with intake of specific macronutrients, including carbohydrates, fats and proteins in animals and humans [6, 54], with the source of cortisol increases to be via both adrenal and extra-adrenal production [54]. Furthermore, in our previous neuroimaging study, increases in cortisol during a mild hypoglycemic state was associated with greater activation of brain reward regions that promoted greater food craving [44]. Together, this previous research supports current findings of the association between greater cortisol responses to food cue exposure with food cue-induced HP food craving.\n",
    "We did not see an overall significant increase in cortisol during stress exposure, but this was largely due to a lack of response in the OW group. Remarkably, the OW group showed blunted cortisol responses during stress and food cue relative to neutral conditions. This finding is consistent with growing evidence of blunted cortisol and autonomic responses to stress challenge in people who are OW or obese, along with altered autonomic and peripheral catecholamine responses to stress challenge in those weight groups [18, 21-25, 55]. HPA axis adaptations with low cortisol awakening responses have been reported in higher BMI groups, along with blunted responses to stress and reduced dopamine activity [20, 56]. Thus, the current findings of lack of cortisol increases in the OW group leads one to speculate that such HPA axis adaptations may contribute to higher HP food craving and intake in food cue and in stress contexts. However, this is speculation and would need further testing in future studies.\n",
    "Several limitations of the current study need to be considered. First, the sample size was small and thus the findings are preliminary and need further validation. Also, due to the small sample size, sex differences and differential responses within the overweight groups were not assessed. It is possible that men and women differ in their food motivation and intake responses in food cue and stress contexts as shown in previous work [26,27]. Also, continuous assessment of BMI rather than arbitrary cutoffs for individuals in the lean, overweight and obese BMI range may provide greater sensitivity in assessing weight related adaptations. Thus, research with larger samples is required to replicate current findings and address these issues. Finally, as this study was conducted while participants were in a hospital, it is not clear whether the findings are generalizable to an outpatient experimental context or to real world food motivation and intake settings. On the other hand, as food cues and stress are among the most common contexts in which overeating of HP foods occur in the real world, the current study presents a well-controlled experimental model to study the biobehavioral processes that may contribute to increased food motivation and intake of highly palatable foods. Evidence of HP food motivation and increased snacking in these contexts is consistent with reports of obesogenic environments promoting increased HP food intake and weight gain in the real world. Furthermore, positive associations of HP food craving and intake by total ghrelin and cortisol responses suggests a role for metabolic and neuroendocrine adaptations in increased HP food motivation and intake.\n",
    "\"\"\"\n",
    "\n",
    "text_dict = create_text_dict([text1, text2])\n",
    "text_dict.keys()"
   ]
  },
  {
   "cell_type": "markdown",
   "metadata": {},
   "source": [
    "## Create relevance_prompts_df"
   ]
  },
  {
   "cell_type": "code",
   "execution_count": 20,
   "metadata": {},
   "outputs": [
    {
     "data": {
      "text/html": [
       "<div>\n",
       "<style scoped>\n",
       "    .dataframe tbody tr th:only-of-type {\n",
       "        vertical-align: middle;\n",
       "    }\n",
       "\n",
       "    .dataframe tbody tr th {\n",
       "        vertical-align: top;\n",
       "    }\n",
       "\n",
       "    .dataframe thead th {\n",
       "        text-align: right;\n",
       "    }\n",
       "</style>\n",
       "<table border=\"1\" class=\"dataframe\">\n",
       "  <thead>\n",
       "    <tr style=\"text-align: right;\">\n",
       "      <th></th>\n",
       "      <th>task part 3</th>\n",
       "      <th>audience</th>\n",
       "      <th>relevance</th>\n",
       "    </tr>\n",
       "  </thead>\n",
       "  <tbody>\n",
       "    <tr>\n",
       "      <th>0</th>\n",
       "      <td>Add 1-2 sentences to make this relevant for</td>\n",
       "      <td>seniors</td>\n",
       "      <td>Add 1-2 sentences to make this relevant for seniors</td>\n",
       "    </tr>\n",
       "    <tr>\n",
       "      <th>1</th>\n",
       "      <td>Add 1-2 sentences to make this relevant for</td>\n",
       "      <td>people who enjoy sports</td>\n",
       "      <td>Add 1-2 sentences to make this relevant for people who enjoy sports</td>\n",
       "    </tr>\n",
       "  </tbody>\n",
       "</table>\n",
       "</div>"
      ],
      "text/plain": [
       "                                   task part 3                 audience  \\\n",
       "0  Add 1-2 sentences to make this relevant for                  seniors   \n",
       "1  Add 1-2 sentences to make this relevant for  people who enjoy sports   \n",
       "\n",
       "                                                               relevance  \n",
       "0                   Add 1-2 sentences to make this relevant for seniors   \n",
       "1   Add 1-2 sentences to make this relevant for people who enjoy sports   "
      ]
     },
     "execution_count": 20,
     "metadata": {},
     "output_type": "execute_result"
    }
   ],
   "source": [
    "from itertools import product\n",
    "prompts_dict = dict()\n",
    "experiment_num = 1\n",
    "relevance_prompts_dict = dict()\n",
    "\n",
    "prep_step = [\n",
    "    # \"Take the key points to\",\n",
    "    \"Take the key points and numerical descriptors to\",\n",
    "    # \"\"\n",
    "]\n",
    "\n",
    "task_part1 = [\n",
    "    # \"Summarize the article in under 300 characters\",\n",
    "    \"Summarize for a LinkedIn post\",\n",
    "    # \"Summarize for a tweet\",\n",
    "    # \"Summarize in an engaging way\",\n",
    "    \"Describe the interesting points to your coworker at the water cooler\"\n",
    "    # \"Summarize the article for a Tiktok post\"\n",
    "]\n",
    "audience = [\n",
    "    # \"lay audience\",\n",
    "    # \"\",\n",
    "    \"seniors\",\n",
    "    \"people who enjoy sports\"\n",
    "]\n",
    "task_part2 = [\n",
    "    \"\",\n",
    "    \"Use terms a 12-year-old can understand.\",\n",
    "    # \"Assume your audience has no science background.\"\n",
    "    # \"Include the most interesting findings.\",\n",
    "    # \"Include the key take-aways for the reader.\",\n",
    "    # \"Include the implications of the article.\"\n",
    "]\n",
    "\n",
    "task_part3 =[\n",
    "    \"Add 1-2 sentences to make this relevant for\"\n",
    "    # \"Add 1-2 sentences to make this relevant for older adults.\"\n",
    "    # \"Once you are done, add 1-2 sentences to make this relevant for older adults.\",\n",
    "    \"\"\n",
    "]\n",
    "\n",
    "# prompts_df = pd.DataFrame(product(prep_step, task_part1, task_part2, task_part3, audience), \n",
    "#     columns=['prep_step', 'task part 1', 'task part 2', 'task part 3', 'audience'])\n",
    "\n",
    "prompts_df = pd.DataFrame(product(prep_step, task_part1), \n",
    "    columns=['prep_step', 'task part 1'])\n",
    "\n",
    "relevance_prompts_df = pd.DataFrame(product(task_part3, audience), \n",
    "    columns=['task part 3', 'audience'])\n",
    "\n",
    "\n",
    "\n",
    "prompts_df['prompt'] = prompts_df.apply(\n",
    "    lambda row: f\"{row['prep_step']} {row['task part 1']}.\", \n",
    "    axis=1)\n",
    "# prompts_df['simplify'] = prompts_df.apply(\n",
    "#     lambda row: f\" {row['task part 2'] if row['task part 2'] else ''}\", \n",
    "#     axis=1)\n",
    "relevance_prompts_df['relevance'] = relevance_prompts_df.apply(\n",
    "    lambda row: f\" {row['task part 3']} {row['audience']} \" if row['audience'] else '', \n",
    "    axis=1) \n",
    "relevance_prompts_dict[experiment_num] = relevance_prompts_df\n",
    "relevance_prompts_df"
   ]
  },
  {
   "cell_type": "code",
   "execution_count": 21,
   "metadata": {},
   "outputs": [
    {
     "data": {
      "text/html": [
       "<div>\n",
       "<style scoped>\n",
       "    .dataframe tbody tr th:only-of-type {\n",
       "        vertical-align: middle;\n",
       "    }\n",
       "\n",
       "    .dataframe tbody tr th {\n",
       "        vertical-align: top;\n",
       "    }\n",
       "\n",
       "    .dataframe thead th {\n",
       "        text-align: right;\n",
       "    }\n",
       "</style>\n",
       "<table border=\"1\" class=\"dataframe\">\n",
       "  <thead>\n",
       "    <tr style=\"text-align: right;\">\n",
       "      <th></th>\n",
       "      <th>prep_step</th>\n",
       "      <th>task part 1</th>\n",
       "      <th>prompt</th>\n",
       "    </tr>\n",
       "  </thead>\n",
       "  <tbody>\n",
       "    <tr>\n",
       "      <th>0</th>\n",
       "      <td>Take the key points and numerical descriptors to</td>\n",
       "      <td>Summarize for a LinkedIn post</td>\n",
       "      <td>Take the key points and numerical descriptors to Summarize for a LinkedIn post.</td>\n",
       "    </tr>\n",
       "    <tr>\n",
       "      <th>1</th>\n",
       "      <td>Take the key points and numerical descriptors to</td>\n",
       "      <td>Describe the interesting points to your coworker at the water cooler</td>\n",
       "      <td>Take the key points and numerical descriptors to Describe the interesting points to your coworker at the water cooler.</td>\n",
       "    </tr>\n",
       "  </tbody>\n",
       "</table>\n",
       "</div>"
      ],
      "text/plain": [
       "                                          prep_step  \\\n",
       "0  Take the key points and numerical descriptors to   \n",
       "1  Take the key points and numerical descriptors to   \n",
       "\n",
       "                                                            task part 1  \\\n",
       "0                                         Summarize for a LinkedIn post   \n",
       "1  Describe the interesting points to your coworker at the water cooler   \n",
       "\n",
       "                                                                                                                   prompt  \n",
       "0                                         Take the key points and numerical descriptors to Summarize for a LinkedIn post.  \n",
       "1  Take the key points and numerical descriptors to Describe the interesting points to your coworker at the water cooler.  "
      ]
     },
     "execution_count": 21,
     "metadata": {},
     "output_type": "execute_result"
    }
   ],
   "source": [
    "prompts_df"
   ]
  },
  {
   "cell_type": "code",
   "execution_count": null,
   "metadata": {},
   "outputs": [],
   "source": []
  },
  {
   "cell_type": "code",
   "execution_count": null,
   "metadata": {},
   "outputs": [],
   "source": []
  },
  {
   "cell_type": "code",
   "execution_count": null,
   "metadata": {},
   "outputs": [],
   "source": []
  },
  {
   "cell_type": "code",
   "execution_count": null,
   "metadata": {},
   "outputs": [],
   "source": []
  },
  {
   "cell_type": "code",
   "execution_count": null,
   "metadata": {},
   "outputs": [],
   "source": []
  },
  {
   "cell_type": "code",
   "execution_count": null,
   "metadata": {},
   "outputs": [],
   "source": []
  },
  {
   "cell_type": "code",
   "execution_count": null,
   "metadata": {},
   "outputs": [],
   "source": []
  },
  {
   "cell_type": "code",
   "execution_count": null,
   "metadata": {},
   "outputs": [],
   "source": []
  },
  {
   "cell_type": "code",
   "execution_count": null,
   "metadata": {},
   "outputs": [],
   "source": []
  },
  {
   "cell_type": "code",
   "execution_count": null,
   "metadata": {},
   "outputs": [],
   "source": []
  },
  {
   "cell_type": "code",
   "execution_count": null,
   "metadata": {},
   "outputs": [],
   "source": []
  },
  {
   "cell_type": "code",
   "execution_count": null,
   "metadata": {},
   "outputs": [],
   "source": []
  },
  {
   "cell_type": "code",
   "execution_count": null,
   "metadata": {},
   "outputs": [],
   "source": []
  },
  {
   "cell_type": "code",
   "execution_count": null,
   "metadata": {},
   "outputs": [],
   "source": []
  },
  {
   "cell_type": "code",
   "execution_count": null,
   "metadata": {},
   "outputs": [],
   "source": []
  },
  {
   "cell_type": "code",
   "execution_count": null,
   "metadata": {},
   "outputs": [],
   "source": []
  },
  {
   "cell_type": "code",
   "execution_count": null,
   "metadata": {},
   "outputs": [],
   "source": []
  },
  {
   "cell_type": "code",
   "execution_count": null,
   "metadata": {},
   "outputs": [],
   "source": []
  },
  {
   "cell_type": "code",
   "execution_count": null,
   "metadata": {},
   "outputs": [],
   "source": []
  },
  {
   "cell_type": "markdown",
   "metadata": {},
   "source": [
    "# *End of Page*"
   ]
  }
 ],
 "metadata": {
  "kernelspec": {
   "display_name": "Python 3.9.13 64-bit",
   "language": "python",
   "name": "python3"
  },
  "language_info": {
   "codemirror_mode": {
    "name": "ipython",
    "version": 3
   },
   "file_extension": ".py",
   "mimetype": "text/x-python",
   "name": "python",
   "nbconvert_exporter": "python",
   "pygments_lexer": "ipython3",
   "version": "3.9.16"
  },
  "orig_nbformat": 4,
  "vscode": {
   "interpreter": {
    "hash": "11938c6bc6919ae2720b4d5011047913343b08a43b18698fd82dedb0d4417594"
   }
  }
 },
 "nbformat": 4,
 "nbformat_minor": 2
}
