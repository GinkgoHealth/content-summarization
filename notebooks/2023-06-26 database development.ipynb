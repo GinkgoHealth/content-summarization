{
 "cells": [
  {
   "attachments": {},
   "cell_type": "markdown",
   "metadata": {},
   "source": [
    "# Title\n",
    "[]()"
   ]
  },
  {
   "attachments": {},
   "cell_type": "markdown",
   "metadata": {},
   "source": [
    "# Create classes"
   ]
  },
  {
   "cell_type": "code",
   "execution_count": 5,
   "metadata": {},
   "outputs": [],
   "source": [
    "from with_sql_session import remote_sql_session\n",
    "import secrets\n",
    "from sqlalchemy.orm import declarative_base\n",
    "from sqlalchemy import Column, Integer, String, Text\n",
    "from sqlalchemy.dialects.postgresql import UUID\n",
    "import uuid\n",
    "\n",
    "\n",
    "# def bulk_save_objects(new_rows, engine=None):\n",
    "#     @remote_sql_session\n",
    "#     def save_objects(session):\n",
    "#         session.bulk_save_objects(new_rows)\n",
    "#         session.commit()\n",
    "\n",
    "#     return save_objects\n",
    "\n",
    "\n",
    "Base = declarative_base()\n",
    "\n",
    "class Article(Base):\n",
    "    __tablename__ = 'articles'\n",
    "    id = Column(Integer, primary_key=True)\n",
    "    title = Column(String(255))\n",
    "    publication = Column(String(100))\n",
    "    text_body = Column(Text)\n",
    "    uuid = Column(UUID)\n",
    "    \n",
    "class Summaries(Base):\n",
    "    __tablename__ = 'initial_summaries'\n",
    "    id = Column(Integer, primary_key=True)\n",
    "    summary_body = Column(String(1000))\n",
    "    article_uuid = Column(UUID)\n",
    "\n",
    "new_rows = [\n",
    "    Article(\n",
    "        id=\"1\", title=\"Test Article\", \n",
    "        publication=\"Test Journal\", text_body=\"This is a test text\", uuid=str(uuid.uuid4())\n",
    "        )\n",
    "    ]\n",
    "\n",
    "# save_objects = bulk_save_objects(new_rows)\n",
    "# save_objects()"
   ]
  },
  {
   "attachments": {},
   "cell_type": "markdown",
   "metadata": {},
   "source": [
    "# Get table"
   ]
  },
  {
   "attachments": {},
   "cell_type": "markdown",
   "metadata": {},
   "source": [
    "## 1.1 using .query"
   ]
  },
  {
   "cell_type": "code",
   "execution_count": 8,
   "metadata": {},
   "outputs": [],
   "source": [
    "import sys\n",
    "sys.path.append(r\"C:\\Users\\silvh\\OneDrive\\lighthouse\\Ginkgo coding\\content-summarization\\src\")\n",
    "\n",
    "from db_session import *\n",
    "import pandas as pd\n",
    "\n",
    "\n",
    "@remote_sql_session\n",
    "def get_table(session, table='articles', filter=None):\n",
    "    \"\"\"\n",
    "    Return a database table as a pandas dataframe.\n",
    "    \"\"\"\n",
    "    q = session.query(Article).all()\n",
    "    # df = pd.DataFrame(q)\n",
    "    # # df = pd.DataFrame(q.fetchall())\n",
    "    # return df\n",
    "    return q\n",
    "\n",
    "\n",
    "table = get_table()"
   ]
  },
  {
   "cell_type": "code",
   "execution_count": 12,
   "metadata": {},
   "outputs": [
    {
     "data": {
      "text/plain": [
       "{'_sa_instance_state': <sqlalchemy.orm.state.InstanceState at 0x1cb95f9e410>,\n",
       " 'id': 1,\n",
       " 'text_body': 'This is a test text',\n",
       " 'title': 'Test Article',\n",
       " 'uuid': 'a678c60d-f4a6-4727-bbaa-cc2cc958f52d',\n",
       " 'publication': 'Test Journal'}"
      ]
     },
     "execution_count": 12,
     "metadata": {},
     "output_type": "execute_result"
    }
   ],
   "source": [
    "vars(table[0])"
   ]
  },
  {
   "attachments": {},
   "cell_type": "markdown",
   "metadata": {},
   "source": [
    "## 1.2 using .execute"
   ]
  },
  {
   "cell_type": "code",
   "execution_count": 13,
   "metadata": {},
   "outputs": [
    {
     "data": {
      "text/html": [
       "<div>\n",
       "<style scoped>\n",
       "    .dataframe tbody tr th:only-of-type {\n",
       "        vertical-align: middle;\n",
       "    }\n",
       "\n",
       "    .dataframe tbody tr th {\n",
       "        vertical-align: top;\n",
       "    }\n",
       "\n",
       "    .dataframe thead th {\n",
       "        text-align: right;\n",
       "    }\n",
       "</style>\n",
       "<table border=\"1\" class=\"dataframe\">\n",
       "  <thead>\n",
       "    <tr style=\"text-align: right;\">\n",
       "      <th></th>\n",
       "      <th>id</th>\n",
       "      <th>title</th>\n",
       "      <th>publication</th>\n",
       "      <th>text_body</th>\n",
       "      <th>uuid</th>\n",
       "    </tr>\n",
       "  </thead>\n",
       "  <tbody>\n",
       "    <tr>\n",
       "      <th>0</th>\n",
       "      <td>1</td>\n",
       "      <td>Test Article</td>\n",
       "      <td>Test Journal</td>\n",
       "      <td>This is a test text</td>\n",
       "      <td>a678c60d-f4a6-4727-bbaa-cc2cc958f52d</td>\n",
       "    </tr>\n",
       "  </tbody>\n",
       "</table>\n",
       "</div>"
      ],
      "text/plain": [
       "   id         title   publication            text_body  \\\n",
       "0   1  Test Article  Test Journal  This is a test text   \n",
       "\n",
       "                                   uuid  \n",
       "0  a678c60d-f4a6-4727-bbaa-cc2cc958f52d  "
      ]
     },
     "execution_count": 13,
     "metadata": {},
     "output_type": "execute_result"
    }
   ],
   "source": [
    "import sys\n",
    "sys.path.append(r\"C:\\Users\\silvh\\OneDrive\\lighthouse\\Ginkgo coding\\content-summarization\\src\")\n",
    "\n",
    "from db_session import *\n",
    "import pandas as pd\n",
    "\n",
    "\n",
    "@remote_sql_session\n",
    "def get_table(session, query='SELECT *', table='articles'):\n",
    "    \"\"\"\n",
    "    Return a database table as a pandas dataframe.\n",
    "    \"\"\"\n",
    "    q = session.execute(f'{query} from {table}')\n",
    "    df = pd.DataFrame(q.fetchall())\n",
    "    return df\n",
    "\n",
    "\n",
    "get_table()"
   ]
  },
  {
   "attachments": {},
   "cell_type": "markdown",
   "metadata": {},
   "source": [
    "# Update tables"
   ]
  },
  {
   "cell_type": "code",
   "execution_count": 14,
   "metadata": {},
   "outputs": [],
   "source": [
    "from with_sql_session import remote_sql_session\n",
    "import secrets\n",
    "from sqlalchemy.orm import declarative_base\n",
    "from sqlalchemy import Column, Integer, String, Text\n",
    "from sqlalchemy.dialects.postgresql import UUID\n",
    "import uuid\n",
    "\n",
    "\n",
    "Base = declarative_base()\n",
    "\n",
    "class Publications(Base):\n",
    "    __tablename__ = 'publications'\n",
    "    id = Column(Integer, primary_key=True)\n",
    "    name = Column(String(100))\n",
    "\n",
    "class Article(Base):\n",
    "    __tablename__ = 'articles'\n",
    "    id = Column(Integer, primary_key=True)\n",
    "    title = Column(String(255))\n",
    "    publication = Column(String(100))\n",
    "    text_body = Column(Text)\n",
    "    uuid = Column(UUID)\n",
    "    \n",
    "class Summaries(Base):\n",
    "    __tablename__ = 'initial_summaries'\n",
    "    id = Column(Integer, primary_key=True)\n",
    "    summary_body = Column(String(1000))\n",
    "    article_uuid = Column(UUID)"
   ]
  },
  {
   "cell_type": "code",
   "execution_count": 20,
   "metadata": {},
   "outputs": [
    {
     "data": {
      "text/plain": [
       "<function __main__.bulk_insert.<locals>.insert_rows(session)>"
      ]
     },
     "execution_count": 20,
     "metadata": {},
     "output_type": "execute_result"
    }
   ],
   "source": [
    "import sys\n",
    "sys.path.append(r\"C:\\Users\\silvh\\OneDrive\\lighthouse\\Ginkgo coding\\content-summarization\\src\")\n",
    "\n",
    "from db_session import *\n",
    "import pandas as pd\n",
    "from sqlalchemy.dialects.postgresql import insert\n",
    "\n",
    "@remote_sql_session\n",
    "def get_table(session, query='SELECT *', table='publications'):\n",
    "    \"\"\"\n",
    "    Return a database table as a pandas dataframe.\n",
    "    \"\"\"\n",
    "    q = session.execute(f'{query} from {table}')\n",
    "    df = pd.DataFrame(q.fetchall())\n",
    "    return df\n",
    "\n",
    "def bulk_insert(new_rows, engine=None):\n",
    "    @remote_sql_session\n",
    "    def insert_rows(session):\n",
    "        statement = insert(Publications).values(new_rows)\n",
    "        session.execute(statement)\n",
    "        session.commit()\n",
    "        print('Rows inserted:')\n",
    "        print([f\"\\t{row['name']}\" for row in new_rows])\n",
    "\n",
    "    return insert_rows\n",
    "\n",
    "values = [\n",
    "    {'name': 'PLOS One'},\n",
    "    {'name': 'BMJ Open'},\n",
    "]\n",
    "# get_table()\n",
    "bulk_insert(values)"
   ]
  },
  {
   "attachments": {},
   "cell_type": "markdown",
   "metadata": {},
   "source": []
  },
  {
   "cell_type": "code",
   "execution_count": null,
   "metadata": {},
   "outputs": [],
   "source": []
  },
  {
   "cell_type": "code",
   "execution_count": null,
   "metadata": {},
   "outputs": [],
   "source": []
  },
  {
   "cell_type": "code",
   "execution_count": null,
   "metadata": {},
   "outputs": [],
   "source": []
  },
  {
   "cell_type": "code",
   "execution_count": null,
   "metadata": {},
   "outputs": [],
   "source": []
  },
  {
   "cell_type": "code",
   "execution_count": null,
   "metadata": {},
   "outputs": [],
   "source": []
  },
  {
   "cell_type": "code",
   "execution_count": null,
   "metadata": {},
   "outputs": [],
   "source": []
  },
  {
   "cell_type": "code",
   "execution_count": null,
   "metadata": {},
   "outputs": [],
   "source": []
  },
  {
   "cell_type": "code",
   "execution_count": null,
   "metadata": {},
   "outputs": [],
   "source": []
  },
  {
   "cell_type": "code",
   "execution_count": null,
   "metadata": {},
   "outputs": [],
   "source": []
  },
  {
   "cell_type": "code",
   "execution_count": null,
   "metadata": {},
   "outputs": [],
   "source": []
  },
  {
   "cell_type": "code",
   "execution_count": null,
   "metadata": {},
   "outputs": [],
   "source": []
  },
  {
   "cell_type": "code",
   "execution_count": null,
   "metadata": {},
   "outputs": [],
   "source": []
  },
  {
   "cell_type": "code",
   "execution_count": null,
   "metadata": {},
   "outputs": [],
   "source": []
  },
  {
   "cell_type": "code",
   "execution_count": null,
   "metadata": {},
   "outputs": [],
   "source": []
  },
  {
   "cell_type": "code",
   "execution_count": null,
   "metadata": {},
   "outputs": [],
   "source": []
  },
  {
   "cell_type": "code",
   "execution_count": null,
   "metadata": {},
   "outputs": [],
   "source": []
  },
  {
   "cell_type": "code",
   "execution_count": null,
   "metadata": {},
   "outputs": [],
   "source": []
  },
  {
   "cell_type": "code",
   "execution_count": null,
   "metadata": {},
   "outputs": [],
   "source": []
  },
  {
   "cell_type": "code",
   "execution_count": null,
   "metadata": {},
   "outputs": [],
   "source": []
  },
  {
   "attachments": {},
   "cell_type": "markdown",
   "metadata": {},
   "source": [
    "# *End of Page*"
   ]
  }
 ],
 "metadata": {
  "kernelspec": {
   "display_name": "Python 3.9.13 64-bit",
   "language": "python",
   "name": "python3"
  },
  "language_info": {
   "codemirror_mode": {
    "name": "ipython",
    "version": 3
   },
   "file_extension": ".py",
   "mimetype": "text/x-python",
   "name": "python",
   "nbconvert_exporter": "python",
   "pygments_lexer": "ipython3",
   "version": "3.11.3"
  },
  "orig_nbformat": 4,
  "vscode": {
   "interpreter": {
    "hash": "11938c6bc6919ae2720b4d5011047913343b08a43b18698fd82dedb0d4417594"
   }
  }
 },
 "nbformat": 4,
 "nbformat_minor": 2
}
