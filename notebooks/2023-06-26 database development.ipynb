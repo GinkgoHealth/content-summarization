{
 "cells": [
  {
   "attachments": {},
   "cell_type": "markdown",
   "metadata": {},
   "source": [
    "# Title\n",
    "[]()"
   ]
  },
  {
   "attachments": {},
   "cell_type": "markdown",
   "metadata": {},
   "source": [
    "# Create classes"
   ]
  },
  {
   "cell_type": "code",
   "execution_count": 5,
   "metadata": {},
   "outputs": [],
   "source": [
    "from with_sql_session import remote_sql_session\n",
    "import secrets\n",
    "from sqlalchemy.orm import declarative_base\n",
    "from sqlalchemy import Column, Integer, String, Text\n",
    "from sqlalchemy.dialects.postgresql import UUID\n",
    "import uuid\n",
    "\n",
    "\n",
    "# def bulk_save_objects(new_rows, engine=None):\n",
    "#     @remote_sql_session\n",
    "#     def save_objects(session):\n",
    "#         session.bulk_save_objects(new_rows)\n",
    "#         session.commit()\n",
    "\n",
    "#     return save_objects\n",
    "\n",
    "\n",
    "Base = declarative_base()\n",
    "\n",
    "class Article(Base):\n",
    "    __tablename__ = 'articles'\n",
    "    id = Column(Integer, primary_key=True)\n",
    "    title = Column(String(255))\n",
    "    publication = Column(String(100))\n",
    "    text_body = Column(Text)\n",
    "    uuid = Column(UUID)\n",
    "    \n",
    "class Summaries(Base):\n",
    "    __tablename__ = 'initial_summaries'\n",
    "    id = Column(Integer, primary_key=True)\n",
    "    summary_body = Column(String(1000))\n",
    "    article_uuid = Column(UUID)\n",
    "\n",
    "new_rows = [\n",
    "    Article(\n",
    "        id=\"1\", title=\"Test Article\", \n",
    "        publication=\"Test Journal\", text_body=\"This is a test text\", uuid=str(uuid.uuid4())\n",
    "        )\n",
    "    ]\n",
    "\n",
    "# save_objects = bulk_save_objects(new_rows)\n",
    "# save_objects()"
   ]
  },
  {
   "attachments": {},
   "cell_type": "markdown",
   "metadata": {},
   "source": [
    "# Get table"
   ]
  },
  {
   "attachments": {},
   "cell_type": "markdown",
   "metadata": {},
   "source": [
    "## 1.1 using .query"
   ]
  },
  {
   "cell_type": "code",
   "execution_count": 8,
   "metadata": {},
   "outputs": [],
   "source": [
    "import sys\n",
    "sys.path.append(r\"C:\\Users\\silvh\\OneDrive\\lighthouse\\Ginkgo coding\\content-summarization\\src\")\n",
    "\n",
    "from db_session import *\n",
    "import pandas as pd\n",
    "\n",
    "\n",
    "@remote_sql_session\n",
    "def get_table(session, table='articles', filter=None):\n",
    "    \"\"\"\n",
    "    Return a database table as a pandas dataframe.\n",
    "    \"\"\"\n",
    "    q = session.query(Article).all()\n",
    "    # df = pd.DataFrame(q)\n",
    "    # # df = pd.DataFrame(q.fetchall())\n",
    "    # return df\n",
    "    return q\n",
    "\n",
    "\n",
    "table = get_table()"
   ]
  },
  {
   "cell_type": "code",
   "execution_count": 12,
   "metadata": {},
   "outputs": [
    {
     "data": {
      "text/plain": [
       "{'_sa_instance_state': <sqlalchemy.orm.state.InstanceState at 0x1cb95f9e410>,\n",
       " 'id': 1,\n",
       " 'text_body': 'This is a test text',\n",
       " 'title': 'Test Article',\n",
       " 'uuid': 'a678c60d-f4a6-4727-bbaa-cc2cc958f52d',\n",
       " 'publication': 'Test Journal'}"
      ]
     },
     "execution_count": 12,
     "metadata": {},
     "output_type": "execute_result"
    }
   ],
   "source": [
    "vars(table[0])"
   ]
  },
  {
   "attachments": {},
   "cell_type": "markdown",
   "metadata": {},
   "source": [
    "## 1.2 using .execute"
   ]
  },
  {
   "cell_type": "code",
   "execution_count": 13,
   "metadata": {},
   "outputs": [
    {
     "data": {
      "text/html": [
       "<div>\n",
       "<style scoped>\n",
       "    .dataframe tbody tr th:only-of-type {\n",
       "        vertical-align: middle;\n",
       "    }\n",
       "\n",
       "    .dataframe tbody tr th {\n",
       "        vertical-align: top;\n",
       "    }\n",
       "\n",
       "    .dataframe thead th {\n",
       "        text-align: right;\n",
       "    }\n",
       "</style>\n",
       "<table border=\"1\" class=\"dataframe\">\n",
       "  <thead>\n",
       "    <tr style=\"text-align: right;\">\n",
       "      <th></th>\n",
       "      <th>id</th>\n",
       "      <th>title</th>\n",
       "      <th>publication</th>\n",
       "      <th>text_body</th>\n",
       "      <th>uuid</th>\n",
       "    </tr>\n",
       "  </thead>\n",
       "  <tbody>\n",
       "    <tr>\n",
       "      <th>0</th>\n",
       "      <td>1</td>\n",
       "      <td>Test Article</td>\n",
       "      <td>Test Journal</td>\n",
       "      <td>This is a test text</td>\n",
       "      <td>a678c60d-f4a6-4727-bbaa-cc2cc958f52d</td>\n",
       "    </tr>\n",
       "  </tbody>\n",
       "</table>\n",
       "</div>"
      ],
      "text/plain": [
       "   id         title   publication            text_body  \\\n",
       "0   1  Test Article  Test Journal  This is a test text   \n",
       "\n",
       "                                   uuid  \n",
       "0  a678c60d-f4a6-4727-bbaa-cc2cc958f52d  "
      ]
     },
     "execution_count": 13,
     "metadata": {},
     "output_type": "execute_result"
    }
   ],
   "source": [
    "import sys\n",
    "sys.path.append(r\"C:\\Users\\silvh\\OneDrive\\lighthouse\\Ginkgo coding\\content-summarization\\src\")\n",
    "\n",
    "from db_session import *\n",
    "import pandas as pd\n",
    "\n",
    "\n",
    "@remote_sql_session\n",
    "def get_table(session, query='SELECT *', table='articles'):\n",
    "    \"\"\"\n",
    "    Return a database table as a pandas dataframe.\n",
    "    \"\"\"\n",
    "    q = session.execute(f'{query} from {table}')\n",
    "    df = pd.DataFrame(q.fetchall())\n",
    "    return df\n",
    "\n",
    "\n",
    "get_table()"
   ]
  },
  {
   "attachments": {},
   "cell_type": "markdown",
   "metadata": {},
   "source": [
    "# Update tables"
   ]
  },
  {
   "cell_type": "code",
   "execution_count": 3,
   "metadata": {},
   "outputs": [],
   "source": [
    "\n",
    "from sqlalchemy.orm import declarative_base\n",
    "from sqlalchemy import Column, Integer, String, Text\n",
    "from sqlalchemy.dialects.postgresql import UUID\n",
    "import uuid\n",
    "\n",
    "\n",
    "Base = declarative_base()\n",
    "\n",
    "class Publications(Base):\n",
    "    __tablename__ = 'publications'\n",
    "    id = Column(Integer, primary_key=True)\n",
    "    name = Column(String(100))\n",
    "\n",
    "class Article(Base):\n",
    "    __tablename__ = 'articles'\n",
    "    id = Column(Integer, primary_key=True)\n",
    "    title = Column(String(255))\n",
    "    publication = Column(String(100))\n",
    "    text_body = Column(Text)\n",
    "    uuid = Column(UUID)\n",
    "    \n",
    "class Summaries(Base):\n",
    "    __tablename__ = 'initial_summaries'\n",
    "    id = Column(Integer, primary_key=True)\n",
    "    summary_body = Column(String(1000))\n",
    "    article_uuid = Column(UUID)"
   ]
  },
  {
   "cell_type": "code",
   "execution_count": 8,
   "metadata": {},
   "outputs": [
    {
     "ename": "NameError",
     "evalue": "name 'get_table' is not defined",
     "output_type": "error",
     "traceback": [
      "\u001b[1;31m---------------------------------------------------------------------------\u001b[0m",
      "\u001b[1;31mNameError\u001b[0m                                 Traceback (most recent call last)",
      "Cell \u001b[1;32mIn[8], line 1\u001b[0m\n\u001b[1;32m----> 1\u001b[0m get_table()\n",
      "\u001b[1;31mNameError\u001b[0m: name 'get_table' is not defined"
     ]
    }
   ],
   "source": [
    "get_table()"
   ]
  },
  {
   "attachments": {},
   "cell_type": "markdown",
   "metadata": {},
   "source": [
    "## 2.0"
   ]
  },
  {
   "cell_type": "code",
   "execution_count": 10,
   "metadata": {},
   "outputs": [],
   "source": [
    "import sys\n",
    "sys.path.append(r\"C:\\Users\\silvh\\OneDrive\\lighthouse\\Ginkgo coding\\content-summarization\\src\")\n",
    "\n",
    "from db_session import *\n",
    "import pandas as pd\n",
    "\n",
    "def bulk_save_objects(new_rows, engine=None):\n",
    "    @remote_sql_session\n",
    "    def save_objects(session):\n",
    "        session.bulk_save_objects(new_rows)\n",
    "        session.commit()\n",
    "\n",
    "    return save_objects\n",
    "\n",
    "\n",
    "@remote_sql_session\n",
    "def get_table(session, query='SELECT *', table='articles'):\n",
    "    \"\"\"\n",
    "    Return a database table as a pandas dataframe.\n",
    "    \"\"\"\n",
    "    q = session.execute(f'{query} from {table}')\n",
    "    df = pd.DataFrame(q.fetchall())\n",
    "    return df\n",
    "\n",
    "new_rows = [\n",
    "    Publications(\n",
    "        id=1, name=\"PLOS One\"\n",
    "        )\n",
    "    ]\n",
    "\n",
    "# save_objects = bulk_save_objects(new_rows)\n",
    "# save_objects()"
   ]
  },
  {
   "cell_type": "code",
   "execution_count": 12,
   "metadata": {},
   "outputs": [
    {
     "data": {
      "text/html": [
       "<div>\n",
       "<style scoped>\n",
       "    .dataframe tbody tr th:only-of-type {\n",
       "        vertical-align: middle;\n",
       "    }\n",
       "\n",
       "    .dataframe tbody tr th {\n",
       "        vertical-align: top;\n",
       "    }\n",
       "\n",
       "    .dataframe thead th {\n",
       "        text-align: right;\n",
       "    }\n",
       "</style>\n",
       "<table border=\"1\" class=\"dataframe\">\n",
       "  <thead>\n",
       "    <tr style=\"text-align: right;\">\n",
       "      <th></th>\n",
       "      <th>id</th>\n",
       "      <th>name</th>\n",
       "    </tr>\n",
       "  </thead>\n",
       "  <tbody>\n",
       "    <tr>\n",
       "      <th>0</th>\n",
       "      <td>1</td>\n",
       "      <td>PLOS One</td>\n",
       "    </tr>\n",
       "  </tbody>\n",
       "</table>\n",
       "</div>"
      ],
      "text/plain": [
       "   id      name\n",
       "0   1  PLOS One"
      ]
     },
     "execution_count": 12,
     "metadata": {},
     "output_type": "execute_result"
    }
   ],
   "source": [
    "get_table(table='publications')"
   ]
  },
  {
   "attachments": {},
   "cell_type": "markdown",
   "metadata": {},
   "source": [
    "## 2.1"
   ]
  },
  {
   "cell_type": "code",
   "execution_count": 14,
   "metadata": {},
   "outputs": [
    {
     "name": "stdout",
     "output_type": "stream",
     "text": [
      "Rows inserted:\n",
      "['\\tBMJ Open']\n"
     ]
    },
    {
     "data": {
      "text/html": [
       "<div>\n",
       "<style scoped>\n",
       "    .dataframe tbody tr th:only-of-type {\n",
       "        vertical-align: middle;\n",
       "    }\n",
       "\n",
       "    .dataframe tbody tr th {\n",
       "        vertical-align: top;\n",
       "    }\n",
       "\n",
       "    .dataframe thead th {\n",
       "        text-align: right;\n",
       "    }\n",
       "</style>\n",
       "<table border=\"1\" class=\"dataframe\">\n",
       "  <thead>\n",
       "    <tr style=\"text-align: right;\">\n",
       "      <th></th>\n",
       "      <th>id</th>\n",
       "      <th>name</th>\n",
       "    </tr>\n",
       "  </thead>\n",
       "  <tbody>\n",
       "    <tr>\n",
       "      <th>0</th>\n",
       "      <td>1</td>\n",
       "      <td>PLOS One</td>\n",
       "    </tr>\n",
       "    <tr>\n",
       "      <th>1</th>\n",
       "      <td>2</td>\n",
       "      <td>BMJ Open</td>\n",
       "    </tr>\n",
       "  </tbody>\n",
       "</table>\n",
       "</div>"
      ],
      "text/plain": [
       "   id      name\n",
       "0   1  PLOS One\n",
       "1   2  BMJ Open"
      ]
     },
     "execution_count": 14,
     "metadata": {},
     "output_type": "execute_result"
    }
   ],
   "source": [
    "import sys\n",
    "sys.path.append(r\"C:\\Users\\silvh\\OneDrive\\lighthouse\\Ginkgo coding\\content-summarization\\src\")\n",
    "\n",
    "from db_session import *\n",
    "import pandas as pd\n",
    "from sqlalchemy.dialects.postgresql import insert\n",
    "\n",
    "@remote_sql_session\n",
    "def get_table(session, query='SELECT *', table='publications'):\n",
    "    \"\"\"\n",
    "    Return a database table as a pandas dataframe.\n",
    "    \"\"\"\n",
    "    q = session.execute(f'{query} from {table}')\n",
    "    df = pd.DataFrame(q.fetchall())\n",
    "    return df\n",
    "\n",
    "def bulk_insert(new_rows, engine=None):\n",
    "    @remote_sql_session\n",
    "    def insert_rows(session):\n",
    "        statement = insert(Publications).values(new_rows)\n",
    "        session.execute(statement)\n",
    "        session.commit()\n",
    "        print('Rows inserted:')\n",
    "        print([f\"\\t{row['name']}\" for row in new_rows])\n",
    "\n",
    "    return insert_rows\n",
    "\n",
    "values = [\n",
    "    {'id': 2, 'name': 'BMJ Open'},\n",
    "]\n",
    "bulk_insert(values)()\n",
    "\n",
    "get_table()"
   ]
  },
  {
   "attachments": {},
   "cell_type": "markdown",
   "metadata": {},
   "source": [
    "# 3 Update tables"
   ]
  },
  {
   "cell_type": "code",
   "execution_count": 15,
   "metadata": {},
   "outputs": [
    {
     "ename": "IntegrityError",
     "evalue": "(psycopg2.errors.NotNullViolation) null value in column \"id\" of relation \"publications\" violates not-null constraint\nDETAIL:  Failing row contains (null, PLOS Medicine).\n\n[SQL: INSERT INTO publications (name) VALUES (%(name_m0)s)]\n[parameters: {'name_m0': 'PLOS Medicine'}]\n(Background on this error at: https://sqlalche.me/e/14/gkpj)",
     "output_type": "error",
     "traceback": [
      "\u001b[1;31m---------------------------------------------------------------------------\u001b[0m",
      "\u001b[1;31mNotNullViolation\u001b[0m                          Traceback (most recent call last)",
      "File \u001b[1;32mc:\\Users\\silvh\\.conda\\envs\\ginkgo\\Lib\\site-packages\\sqlalchemy\\engine\\base.py:1819\u001b[0m, in \u001b[0;36mConnection._execute_context\u001b[1;34m(self, dialect, constructor, statement, parameters, execution_options, *args, **kw)\u001b[0m\n\u001b[0;32m   1818\u001b[0m     \u001b[39mif\u001b[39;00m \u001b[39mnot\u001b[39;00m evt_handled:\n\u001b[1;32m-> 1819\u001b[0m         \u001b[39mself\u001b[39;49m\u001b[39m.\u001b[39;49mdialect\u001b[39m.\u001b[39;49mdo_execute(\n\u001b[0;32m   1820\u001b[0m             cursor, statement, parameters, context\n\u001b[0;32m   1821\u001b[0m         )\n\u001b[0;32m   1823\u001b[0m \u001b[39mif\u001b[39;00m \u001b[39mself\u001b[39m\u001b[39m.\u001b[39m_has_events \u001b[39mor\u001b[39;00m \u001b[39mself\u001b[39m\u001b[39m.\u001b[39mengine\u001b[39m.\u001b[39m_has_events:\n",
      "File \u001b[1;32mc:\\Users\\silvh\\.conda\\envs\\ginkgo\\Lib\\site-packages\\sqlalchemy\\engine\\default.py:732\u001b[0m, in \u001b[0;36mDefaultDialect.do_execute\u001b[1;34m(self, cursor, statement, parameters, context)\u001b[0m\n\u001b[0;32m    731\u001b[0m \u001b[39mdef\u001b[39;00m \u001b[39mdo_execute\u001b[39m(\u001b[39mself\u001b[39m, cursor, statement, parameters, context\u001b[39m=\u001b[39m\u001b[39mNone\u001b[39;00m):\n\u001b[1;32m--> 732\u001b[0m     cursor\u001b[39m.\u001b[39;49mexecute(statement, parameters)\n",
      "\u001b[1;31mNotNullViolation\u001b[0m: null value in column \"id\" of relation \"publications\" violates not-null constraint\nDETAIL:  Failing row contains (null, PLOS Medicine).\n",
      "\nThe above exception was the direct cause of the following exception:\n",
      "\u001b[1;31mIntegrityError\u001b[0m                            Traceback (most recent call last)",
      "Cell \u001b[1;32mIn[15], line 57\u001b[0m\n\u001b[0;32m     52\u001b[0m     \u001b[39mreturn\u001b[39;00m insert_rows\n\u001b[0;32m     54\u001b[0m values \u001b[39m=\u001b[39m [\n\u001b[0;32m     55\u001b[0m     {\u001b[39m'\u001b[39m\u001b[39mname\u001b[39m\u001b[39m'\u001b[39m: \u001b[39m'\u001b[39m\u001b[39mPLOS Medicine\u001b[39m\u001b[39m'\u001b[39m},\n\u001b[0;32m     56\u001b[0m ]\n\u001b[1;32m---> 57\u001b[0m bulk_insert(values)()\n\u001b[0;32m     59\u001b[0m get_table()\n",
      "File \u001b[1;32m~\\OneDrive\\lighthouse\\Ginkgo coding\\content-summarization\\src\\db_session.py:57\u001b[0m, in \u001b[0;36mremote_sql_session.<locals>.wrapper\u001b[1;34m(*args, **kwargs)\u001b[0m\n\u001b[0;32m     55\u001b[0m \u001b[39m@wraps\u001b[39m(function)\n\u001b[0;32m     56\u001b[0m \u001b[39mdef\u001b[39;00m \u001b[39mwrapper\u001b[39m(\u001b[39m*\u001b[39margs, \u001b[39m*\u001b[39m\u001b[39m*\u001b[39mkwargs):\n\u001b[1;32m---> 57\u001b[0m     \u001b[39mreturn\u001b[39;00m with_remote_sql_session(function, \u001b[39m*\u001b[39;49margs, \u001b[39m*\u001b[39;49m\u001b[39m*\u001b[39;49mkwargs)\n",
      "File \u001b[1;32m~\\OneDrive\\lighthouse\\Ginkgo coding\\content-summarization\\src\\db_session.py:45\u001b[0m, in \u001b[0;36mwith_remote_sql_session\u001b[1;34m(function, *args, **kwargs)\u001b[0m\n\u001b[0;32m     43\u001b[0m tunnel\u001b[39m.\u001b[39mstart()\n\u001b[0;32m     44\u001b[0m engine \u001b[39m=\u001b[39m get_engine_for_port(tunnel\u001b[39m.\u001b[39mlocal_bind_port)\n\u001b[1;32m---> 45\u001b[0m \u001b[39mreturn\u001b[39;00m with_sql_session(function, args, kwargs, engine\u001b[39m=\u001b[39;49mengine)\n",
      "File \u001b[1;32m~\\OneDrive\\lighthouse\\Ginkgo coding\\content-summarization\\src\\db_session.py:27\u001b[0m, in \u001b[0;36mwith_sql_session\u001b[1;34m(function, args, kwargs, engine)\u001b[0m\n\u001b[0;32m     25\u001b[0m session \u001b[39m=\u001b[39m Session()\n\u001b[0;32m     26\u001b[0m \u001b[39mtry\u001b[39;00m:\n\u001b[1;32m---> 27\u001b[0m     \u001b[39mreturn\u001b[39;00m function(session, \u001b[39m*\u001b[39;49margs, \u001b[39m*\u001b[39;49m\u001b[39m*\u001b[39;49mkwargs)\n\u001b[0;32m     28\u001b[0m \u001b[39mfinally\u001b[39;00m:\n\u001b[0;32m     29\u001b[0m     session\u001b[39m.\u001b[39mclose()\n",
      "Cell \u001b[1;32mIn[15], line 47\u001b[0m, in \u001b[0;36mbulk_insert.<locals>.insert_rows\u001b[1;34m(session)\u001b[0m\n\u001b[0;32m     44\u001b[0m \u001b[39m@remote_sql_session\u001b[39m\n\u001b[0;32m     45\u001b[0m \u001b[39mdef\u001b[39;00m \u001b[39minsert_rows\u001b[39m(session):\n\u001b[0;32m     46\u001b[0m     statement \u001b[39m=\u001b[39m insert(Publications)\u001b[39m.\u001b[39mvalues(new_rows)\n\u001b[1;32m---> 47\u001b[0m     session\u001b[39m.\u001b[39;49mexecute(statement)\n\u001b[0;32m     48\u001b[0m     session\u001b[39m.\u001b[39mcommit()\n\u001b[0;32m     49\u001b[0m     \u001b[39mprint\u001b[39m(\u001b[39m'\u001b[39m\u001b[39mRows inserted:\u001b[39m\u001b[39m'\u001b[39m)\n",
      "File \u001b[1;32mc:\\Users\\silvh\\.conda\\envs\\ginkgo\\Lib\\site-packages\\sqlalchemy\\orm\\session.py:1712\u001b[0m, in \u001b[0;36mSession.execute\u001b[1;34m(self, statement, params, execution_options, bind_arguments, _parent_execute_state, _add_event, **kw)\u001b[0m\n\u001b[0;32m   1710\u001b[0m \u001b[39melse\u001b[39;00m:\n\u001b[0;32m   1711\u001b[0m     conn \u001b[39m=\u001b[39m \u001b[39mself\u001b[39m\u001b[39m.\u001b[39m_connection_for_bind(bind)\n\u001b[1;32m-> 1712\u001b[0m result \u001b[39m=\u001b[39m conn\u001b[39m.\u001b[39;49m_execute_20(statement, params \u001b[39mor\u001b[39;49;00m {}, execution_options)\n\u001b[0;32m   1714\u001b[0m \u001b[39mif\u001b[39;00m compile_state_cls:\n\u001b[0;32m   1715\u001b[0m     result \u001b[39m=\u001b[39m compile_state_cls\u001b[39m.\u001b[39morm_setup_cursor_result(\n\u001b[0;32m   1716\u001b[0m         \u001b[39mself\u001b[39m,\n\u001b[0;32m   1717\u001b[0m         statement,\n\u001b[1;32m   (...)\u001b[0m\n\u001b[0;32m   1721\u001b[0m         result,\n\u001b[0;32m   1722\u001b[0m     )\n",
      "File \u001b[1;32mc:\\Users\\silvh\\.conda\\envs\\ginkgo\\Lib\\site-packages\\sqlalchemy\\engine\\base.py:1631\u001b[0m, in \u001b[0;36mConnection._execute_20\u001b[1;34m(self, statement, parameters, execution_options)\u001b[0m\n\u001b[0;32m   1627\u001b[0m     util\u001b[39m.\u001b[39mraise_(\n\u001b[0;32m   1628\u001b[0m         exc\u001b[39m.\u001b[39mObjectNotExecutableError(statement), replace_context\u001b[39m=\u001b[39merr\n\u001b[0;32m   1629\u001b[0m     )\n\u001b[0;32m   1630\u001b[0m \u001b[39melse\u001b[39;00m:\n\u001b[1;32m-> 1631\u001b[0m     \u001b[39mreturn\u001b[39;00m meth(\u001b[39mself\u001b[39;49m, args_10style, kwargs_10style, execution_options)\n",
      "File \u001b[1;32mc:\\Users\\silvh\\.conda\\envs\\ginkgo\\Lib\\site-packages\\sqlalchemy\\sql\\elements.py:332\u001b[0m, in \u001b[0;36mClauseElement._execute_on_connection\u001b[1;34m(self, connection, multiparams, params, execution_options, _force)\u001b[0m\n\u001b[0;32m    328\u001b[0m \u001b[39mdef\u001b[39;00m \u001b[39m_execute_on_connection\u001b[39m(\n\u001b[0;32m    329\u001b[0m     \u001b[39mself\u001b[39m, connection, multiparams, params, execution_options, _force\u001b[39m=\u001b[39m\u001b[39mFalse\u001b[39;00m\n\u001b[0;32m    330\u001b[0m ):\n\u001b[0;32m    331\u001b[0m     \u001b[39mif\u001b[39;00m _force \u001b[39mor\u001b[39;00m \u001b[39mself\u001b[39m\u001b[39m.\u001b[39msupports_execution:\n\u001b[1;32m--> 332\u001b[0m         \u001b[39mreturn\u001b[39;00m connection\u001b[39m.\u001b[39;49m_execute_clauseelement(\n\u001b[0;32m    333\u001b[0m             \u001b[39mself\u001b[39;49m, multiparams, params, execution_options\n\u001b[0;32m    334\u001b[0m         )\n\u001b[0;32m    335\u001b[0m     \u001b[39melse\u001b[39;00m:\n\u001b[0;32m    336\u001b[0m         \u001b[39mraise\u001b[39;00m exc\u001b[39m.\u001b[39mObjectNotExecutableError(\u001b[39mself\u001b[39m)\n",
      "File \u001b[1;32mc:\\Users\\silvh\\.conda\\envs\\ginkgo\\Lib\\site-packages\\sqlalchemy\\engine\\base.py:1498\u001b[0m, in \u001b[0;36mConnection._execute_clauseelement\u001b[1;34m(self, elem, multiparams, params, execution_options)\u001b[0m\n\u001b[0;32m   1486\u001b[0m compiled_cache \u001b[39m=\u001b[39m execution_options\u001b[39m.\u001b[39mget(\n\u001b[0;32m   1487\u001b[0m     \u001b[39m\"\u001b[39m\u001b[39mcompiled_cache\u001b[39m\u001b[39m\"\u001b[39m, \u001b[39mself\u001b[39m\u001b[39m.\u001b[39mengine\u001b[39m.\u001b[39m_compiled_cache\n\u001b[0;32m   1488\u001b[0m )\n\u001b[0;32m   1490\u001b[0m compiled_sql, extracted_params, cache_hit \u001b[39m=\u001b[39m elem\u001b[39m.\u001b[39m_compile_w_cache(\n\u001b[0;32m   1491\u001b[0m     dialect\u001b[39m=\u001b[39mdialect,\n\u001b[0;32m   1492\u001b[0m     compiled_cache\u001b[39m=\u001b[39mcompiled_cache,\n\u001b[1;32m   (...)\u001b[0m\n\u001b[0;32m   1496\u001b[0m     linting\u001b[39m=\u001b[39m\u001b[39mself\u001b[39m\u001b[39m.\u001b[39mdialect\u001b[39m.\u001b[39mcompiler_linting \u001b[39m|\u001b[39m compiler\u001b[39m.\u001b[39mWARN_LINTING,\n\u001b[0;32m   1497\u001b[0m )\n\u001b[1;32m-> 1498\u001b[0m ret \u001b[39m=\u001b[39m \u001b[39mself\u001b[39;49m\u001b[39m.\u001b[39;49m_execute_context(\n\u001b[0;32m   1499\u001b[0m     dialect,\n\u001b[0;32m   1500\u001b[0m     dialect\u001b[39m.\u001b[39;49mexecution_ctx_cls\u001b[39m.\u001b[39;49m_init_compiled,\n\u001b[0;32m   1501\u001b[0m     compiled_sql,\n\u001b[0;32m   1502\u001b[0m     distilled_params,\n\u001b[0;32m   1503\u001b[0m     execution_options,\n\u001b[0;32m   1504\u001b[0m     compiled_sql,\n\u001b[0;32m   1505\u001b[0m     distilled_params,\n\u001b[0;32m   1506\u001b[0m     elem,\n\u001b[0;32m   1507\u001b[0m     extracted_params,\n\u001b[0;32m   1508\u001b[0m     cache_hit\u001b[39m=\u001b[39;49mcache_hit,\n\u001b[0;32m   1509\u001b[0m )\n\u001b[0;32m   1510\u001b[0m \u001b[39mif\u001b[39;00m has_events:\n\u001b[0;32m   1511\u001b[0m     \u001b[39mself\u001b[39m\u001b[39m.\u001b[39mdispatch\u001b[39m.\u001b[39mafter_execute(\n\u001b[0;32m   1512\u001b[0m         \u001b[39mself\u001b[39m,\n\u001b[0;32m   1513\u001b[0m         elem,\n\u001b[1;32m   (...)\u001b[0m\n\u001b[0;32m   1517\u001b[0m         ret,\n\u001b[0;32m   1518\u001b[0m     )\n",
      "File \u001b[1;32mc:\\Users\\silvh\\.conda\\envs\\ginkgo\\Lib\\site-packages\\sqlalchemy\\engine\\base.py:1862\u001b[0m, in \u001b[0;36mConnection._execute_context\u001b[1;34m(self, dialect, constructor, statement, parameters, execution_options, *args, **kw)\u001b[0m\n\u001b[0;32m   1859\u001b[0m             branched\u001b[39m.\u001b[39mclose()\n\u001b[0;32m   1861\u001b[0m \u001b[39mexcept\u001b[39;00m \u001b[39mBaseException\u001b[39;00m \u001b[39mas\u001b[39;00m e:\n\u001b[1;32m-> 1862\u001b[0m     \u001b[39mself\u001b[39;49m\u001b[39m.\u001b[39;49m_handle_dbapi_exception(\n\u001b[0;32m   1863\u001b[0m         e, statement, parameters, cursor, context\n\u001b[0;32m   1864\u001b[0m     )\n\u001b[0;32m   1866\u001b[0m \u001b[39mreturn\u001b[39;00m result\n",
      "File \u001b[1;32mc:\\Users\\silvh\\.conda\\envs\\ginkgo\\Lib\\site-packages\\sqlalchemy\\engine\\base.py:2043\u001b[0m, in \u001b[0;36mConnection._handle_dbapi_exception\u001b[1;34m(self, e, statement, parameters, cursor, context)\u001b[0m\n\u001b[0;32m   2041\u001b[0m     util\u001b[39m.\u001b[39mraise_(newraise, with_traceback\u001b[39m=\u001b[39mexc_info[\u001b[39m2\u001b[39m], from_\u001b[39m=\u001b[39me)\n\u001b[0;32m   2042\u001b[0m \u001b[39melif\u001b[39;00m should_wrap:\n\u001b[1;32m-> 2043\u001b[0m     util\u001b[39m.\u001b[39;49mraise_(\n\u001b[0;32m   2044\u001b[0m         sqlalchemy_exception, with_traceback\u001b[39m=\u001b[39;49mexc_info[\u001b[39m2\u001b[39;49m], from_\u001b[39m=\u001b[39;49me\n\u001b[0;32m   2045\u001b[0m     )\n\u001b[0;32m   2046\u001b[0m \u001b[39melse\u001b[39;00m:\n\u001b[0;32m   2047\u001b[0m     util\u001b[39m.\u001b[39mraise_(exc_info[\u001b[39m1\u001b[39m], with_traceback\u001b[39m=\u001b[39mexc_info[\u001b[39m2\u001b[39m])\n",
      "File \u001b[1;32mc:\\Users\\silvh\\.conda\\envs\\ginkgo\\Lib\\site-packages\\sqlalchemy\\util\\compat.py:208\u001b[0m, in \u001b[0;36mraise_\u001b[1;34m(***failed resolving arguments***)\u001b[0m\n\u001b[0;32m    205\u001b[0m     exception\u001b[39m.\u001b[39m__cause__ \u001b[39m=\u001b[39m replace_context\n\u001b[0;32m    207\u001b[0m \u001b[39mtry\u001b[39;00m:\n\u001b[1;32m--> 208\u001b[0m     \u001b[39mraise\u001b[39;00m exception\n\u001b[0;32m    209\u001b[0m \u001b[39mfinally\u001b[39;00m:\n\u001b[0;32m    210\u001b[0m     \u001b[39m# credit to\u001b[39;00m\n\u001b[0;32m    211\u001b[0m     \u001b[39m# https://cosmicpercolator.com/2016/01/13/exception-leaks-in-python-2-and-3/\u001b[39;00m\n\u001b[0;32m    212\u001b[0m     \u001b[39m# as the __traceback__ object creates a cycle\u001b[39;00m\n\u001b[0;32m    213\u001b[0m     \u001b[39mdel\u001b[39;00m exception, replace_context, from_, with_traceback\n",
      "File \u001b[1;32mc:\\Users\\silvh\\.conda\\envs\\ginkgo\\Lib\\site-packages\\sqlalchemy\\engine\\base.py:1819\u001b[0m, in \u001b[0;36mConnection._execute_context\u001b[1;34m(self, dialect, constructor, statement, parameters, execution_options, *args, **kw)\u001b[0m\n\u001b[0;32m   1817\u001b[0m                 \u001b[39mbreak\u001b[39;00m\n\u001b[0;32m   1818\u001b[0m     \u001b[39mif\u001b[39;00m \u001b[39mnot\u001b[39;00m evt_handled:\n\u001b[1;32m-> 1819\u001b[0m         \u001b[39mself\u001b[39;49m\u001b[39m.\u001b[39;49mdialect\u001b[39m.\u001b[39;49mdo_execute(\n\u001b[0;32m   1820\u001b[0m             cursor, statement, parameters, context\n\u001b[0;32m   1821\u001b[0m         )\n\u001b[0;32m   1823\u001b[0m \u001b[39mif\u001b[39;00m \u001b[39mself\u001b[39m\u001b[39m.\u001b[39m_has_events \u001b[39mor\u001b[39;00m \u001b[39mself\u001b[39m\u001b[39m.\u001b[39mengine\u001b[39m.\u001b[39m_has_events:\n\u001b[0;32m   1824\u001b[0m     \u001b[39mself\u001b[39m\u001b[39m.\u001b[39mdispatch\u001b[39m.\u001b[39mafter_cursor_execute(\n\u001b[0;32m   1825\u001b[0m         \u001b[39mself\u001b[39m,\n\u001b[0;32m   1826\u001b[0m         cursor,\n\u001b[1;32m   (...)\u001b[0m\n\u001b[0;32m   1830\u001b[0m         context\u001b[39m.\u001b[39mexecutemany,\n\u001b[0;32m   1831\u001b[0m     )\n",
      "File \u001b[1;32mc:\\Users\\silvh\\.conda\\envs\\ginkgo\\Lib\\site-packages\\sqlalchemy\\engine\\default.py:732\u001b[0m, in \u001b[0;36mDefaultDialect.do_execute\u001b[1;34m(self, cursor, statement, parameters, context)\u001b[0m\n\u001b[0;32m    731\u001b[0m \u001b[39mdef\u001b[39;00m \u001b[39mdo_execute\u001b[39m(\u001b[39mself\u001b[39m, cursor, statement, parameters, context\u001b[39m=\u001b[39m\u001b[39mNone\u001b[39;00m):\n\u001b[1;32m--> 732\u001b[0m     cursor\u001b[39m.\u001b[39;49mexecute(statement, parameters)\n",
      "\u001b[1;31mIntegrityError\u001b[0m: (psycopg2.errors.NotNullViolation) null value in column \"id\" of relation \"publications\" violates not-null constraint\nDETAIL:  Failing row contains (null, PLOS Medicine).\n\n[SQL: INSERT INTO publications (name) VALUES (%(name_m0)s)]\n[parameters: {'name_m0': 'PLOS Medicine'}]\n(Background on this error at: https://sqlalche.me/e/14/gkpj)"
     ]
    }
   ],
   "source": [
    "import sys\n",
    "sys.path.append(r\"C:\\Users\\silvh\\OneDrive\\lighthouse\\Ginkgo coding\\content-summarization\\src\")\n",
    "\n",
    "from db_session import *\n",
    "from sqlalchemy.orm import declarative_base\n",
    "from sqlalchemy import Column, Integer, String, Text\n",
    "# from sqlalchemy.dialects.postgresql import UUID\n",
    "# import uuid\n",
    "import pandas as pd\n",
    "from sqlalchemy.dialects.postgresql import insert\n",
    "\n",
    "\n",
    "Base = declarative_base()\n",
    "\n",
    "class Publications(Base):\n",
    "    __tablename__ = 'publications'\n",
    "    id = Column(Integer, primary_key=True)\n",
    "    name = Column(String(100))\n",
    "\n",
    "class Article(Base):\n",
    "    __tablename__ = 'articles'\n",
    "    id = Column(Integer, primary_key=True, server_default='DEFAULT', autoincrement=True)\n",
    "    title = Column(String(255))\n",
    "    publication = Column(String(100))\n",
    "    text_body = Column(Text)\n",
    "    uuid = Column(UUID)\n",
    "    \n",
    "class Summaries(Base):\n",
    "    __tablename__ = 'initial_summaries'\n",
    "    id = Column(Integer, primary_key=True)\n",
    "    summary_body = Column(String(1000))\n",
    "    article_uuid = Column(UUID)\n",
    "\n",
    "@remote_sql_session\n",
    "def get_table(session, query='SELECT *', table='publications'):\n",
    "    \"\"\"\n",
    "    Return a database table as a pandas dataframe.\n",
    "    \"\"\"\n",
    "    q = session.execute(f'{query} from {table}')\n",
    "    df = pd.DataFrame(q.fetchall())\n",
    "    return df\n",
    "\n",
    "def bulk_insert(new_rows, engine=None):\n",
    "    @remote_sql_session\n",
    "    def insert_rows(session):\n",
    "        statement = insert(Publications).values(new_rows)\n",
    "        session.execute(statement)\n",
    "        session.commit()\n",
    "        print('Rows inserted:')\n",
    "        print([f\"\\t{row['name']}\" for row in new_rows])\n",
    "\n",
    "    return insert_rows\n",
    "\n",
    "values = [\n",
    "    {'name': 'PLOS Medicine'},\n",
    "]\n",
    "bulk_insert(values)()\n",
    "\n",
    "get_table()"
   ]
  },
  {
   "attachments": {},
   "cell_type": "markdown",
   "metadata": {},
   "source": [
    "## 3.1 Able to insert rows using .add"
   ]
  },
  {
   "cell_type": "code",
   "execution_count": 2,
   "metadata": {},
   "outputs": [
    {
     "name": "stdout",
     "output_type": "stream",
     "text": [
      "Rows inserted:\n"
     ]
    },
    {
     "data": {
      "text/html": [
       "<div>\n",
       "<style scoped>\n",
       "    .dataframe tbody tr th:only-of-type {\n",
       "        vertical-align: middle;\n",
       "    }\n",
       "\n",
       "    .dataframe tbody tr th {\n",
       "        vertical-align: top;\n",
       "    }\n",
       "\n",
       "    .dataframe thead th {\n",
       "        text-align: right;\n",
       "    }\n",
       "</style>\n",
       "<table border=\"1\" class=\"dataframe\">\n",
       "  <thead>\n",
       "    <tr style=\"text-align: right;\">\n",
       "      <th></th>\n",
       "      <th>id</th>\n",
       "      <th>name</th>\n",
       "    </tr>\n",
       "  </thead>\n",
       "  <tbody>\n",
       "    <tr>\n",
       "      <th>0</th>\n",
       "      <td>1</td>\n",
       "      <td>PLOS Medicine</td>\n",
       "    </tr>\n",
       "  </tbody>\n",
       "</table>\n",
       "</div>"
      ],
      "text/plain": [
       "   id           name\n",
       "0   1  PLOS Medicine"
      ]
     },
     "execution_count": 2,
     "metadata": {},
     "output_type": "execute_result"
    }
   ],
   "source": [
    "import sys\n",
    "sys.path.append(r\"C:\\Users\\silvh\\OneDrive\\lighthouse\\Ginkgo coding\\content-summarization\\src\")\n",
    "\n",
    "from db_session import *\n",
    "from sqlalchemy.orm import declarative_base\n",
    "from sqlalchemy import Column, Integer, String, Text\n",
    "from sqlalchemy.dialects.postgresql import UUID\n",
    "import uuid\n",
    "import pandas as pd\n",
    "from sqlalchemy.dialects.postgresql import insert\n",
    "\n",
    "\n",
    "Base = declarative_base()\n",
    "\n",
    "class Publications(Base):\n",
    "    __tablename__ = 'publications'\n",
    "    id = Column(Integer, primary_key=True)\n",
    "    name = Column(String(100))\n",
    "\n",
    "class Article(Base):\n",
    "    __tablename__ = 'articles'\n",
    "    id = Column(Integer, primary_key=True, server_default='DEFAULT', autoincrement=True)\n",
    "    title = Column(String(255))\n",
    "    publication = Column(String(100))\n",
    "    text_body = Column(Text)\n",
    "    uuid = Column(UUID)\n",
    "    \n",
    "class Summaries(Base):\n",
    "    __tablename__ = 'initial_summaries'\n",
    "    id = Column(Integer, primary_key=True)\n",
    "    summary_body = Column(String(1000))\n",
    "    article_uuid = Column(UUID)\n",
    "\n",
    "@remote_sql_session\n",
    "def get_table(session, query='SELECT *', table='publications'):\n",
    "    \"\"\"\n",
    "    Return a database table as a pandas dataframe.\n",
    "    \"\"\"\n",
    "    q = session.execute(f'{query} from {table}')\n",
    "    df = pd.DataFrame(q.fetchall())\n",
    "    return df\n",
    "\n",
    "def bulk_insert(new_rows, engine=None):\n",
    "    @remote_sql_session\n",
    "    def insert_rows(session):\n",
    "        print('Rows inserted:')\n",
    "        for row in new_rows:\n",
    "            # new_row = Publications(\n",
    "            #     name=row['name']\n",
    "            # )\n",
    "            session.add(row)\n",
    "            session.commit()\n",
    "            # print([f\"\\t{row['name']}\"])\n",
    "            # print([f\"\\t{row}\"])\n",
    "\n",
    "    return insert_rows\n",
    "\n",
    "values = [\n",
    "    Publications(name='PLOS Medicine'),\n",
    "]\n",
    "bulk_insert(values)()\n",
    "\n",
    "get_table()"
   ]
  },
  {
   "cell_type": "code",
   "execution_count": 3,
   "metadata": {},
   "outputs": [
    {
     "name": "stdout",
     "output_type": "stream",
     "text": [
      "Rows inserted:\n"
     ]
    },
    {
     "data": {
      "text/html": [
       "<div>\n",
       "<style scoped>\n",
       "    .dataframe tbody tr th:only-of-type {\n",
       "        vertical-align: middle;\n",
       "    }\n",
       "\n",
       "    .dataframe tbody tr th {\n",
       "        vertical-align: top;\n",
       "    }\n",
       "\n",
       "    .dataframe thead th {\n",
       "        text-align: right;\n",
       "    }\n",
       "</style>\n",
       "<table border=\"1\" class=\"dataframe\">\n",
       "  <thead>\n",
       "    <tr style=\"text-align: right;\">\n",
       "      <th></th>\n",
       "      <th>id</th>\n",
       "      <th>name</th>\n",
       "    </tr>\n",
       "  </thead>\n",
       "  <tbody>\n",
       "    <tr>\n",
       "      <th>0</th>\n",
       "      <td>1</td>\n",
       "      <td>PLOS Medicine</td>\n",
       "    </tr>\n",
       "    <tr>\n",
       "      <th>1</th>\n",
       "      <td>2</td>\n",
       "      <td>PLOS One</td>\n",
       "    </tr>\n",
       "  </tbody>\n",
       "</table>\n",
       "</div>"
      ],
      "text/plain": [
       "   id           name\n",
       "0   1  PLOS Medicine\n",
       "1   2       PLOS One"
      ]
     },
     "execution_count": 3,
     "metadata": {},
     "output_type": "execute_result"
    }
   ],
   "source": [
    "values = [\n",
    "    Publications(name='PLOS One'),\n",
    "]\n",
    "bulk_insert(values)()\n",
    "\n",
    "get_table()"
   ]
  },
  {
   "attachments": {},
   "cell_type": "markdown",
   "metadata": {},
   "source": [
    "# Iteration 4: Relate tables to each other."
   ]
  },
  {
   "cell_type": "code",
   "execution_count": 1,
   "metadata": {},
   "outputs": [
    {
     "ename": "NoForeignKeysError",
     "evalue": "Could not determine join condition between parent/child tables on relationship Publications.articles - there are no foreign keys linking these tables.  Ensure that referencing columns are associated with a ForeignKey or ForeignKeyConstraint, or specify a 'primaryjoin' expression.",
     "output_type": "error",
     "traceback": [
      "\u001b[1;31m---------------------------------------------------------------------------\u001b[0m",
      "\u001b[1;31mNoForeignKeysError\u001b[0m                        Traceback (most recent call last)",
      "File \u001b[1;32mc:\\Users\\silvh\\.conda\\envs\\ginkgo\\Lib\\site-packages\\sqlalchemy\\orm\\relationships.py:2739\u001b[0m, in \u001b[0;36mJoinCondition._determine_joins\u001b[1;34m(self)\u001b[0m\n\u001b[0;32m   2738\u001b[0m         \u001b[39mif\u001b[39;00m \u001b[39mself\u001b[39m\u001b[39m.\u001b[39mprimaryjoin \u001b[39mis\u001b[39;00m \u001b[39mNone\u001b[39;00m:\n\u001b[1;32m-> 2739\u001b[0m             \u001b[39mself\u001b[39m\u001b[39m.\u001b[39mprimaryjoin \u001b[39m=\u001b[39m join_condition(\n\u001b[0;32m   2740\u001b[0m                 \u001b[39mself\u001b[39;49m\u001b[39m.\u001b[39;49mparent_persist_selectable,\n\u001b[0;32m   2741\u001b[0m                 \u001b[39mself\u001b[39;49m\u001b[39m.\u001b[39;49mchild_persist_selectable,\n\u001b[0;32m   2742\u001b[0m                 a_subset\u001b[39m=\u001b[39;49m\u001b[39mself\u001b[39;49m\u001b[39m.\u001b[39;49mparent_local_selectable,\n\u001b[0;32m   2743\u001b[0m                 consider_as_foreign_keys\u001b[39m=\u001b[39;49mconsider_as_foreign_keys,\n\u001b[0;32m   2744\u001b[0m             )\n\u001b[0;32m   2745\u001b[0m \u001b[39mexcept\u001b[39;00m sa_exc\u001b[39m.\u001b[39mNoForeignKeysError \u001b[39mas\u001b[39;00m nfe:\n",
      "File \u001b[1;32m<string>:2\u001b[0m, in \u001b[0;36mjoin_condition\u001b[1;34m(a, b, a_subset, consider_as_foreign_keys)\u001b[0m\n",
      "File \u001b[1;32mc:\\Users\\silvh\\.conda\\envs\\ginkgo\\Lib\\site-packages\\sqlalchemy\\sql\\selectable.py:1229\u001b[0m, in \u001b[0;36mJoin._join_condition\u001b[1;34m(cls, a, b, a_subset, consider_as_foreign_keys)\u001b[0m\n\u001b[0;32m   1228\u001b[0m         hint \u001b[39m=\u001b[39m \u001b[39m\"\u001b[39m\u001b[39m\"\u001b[39m\n\u001b[1;32m-> 1229\u001b[0m     \u001b[39mraise\u001b[39;00m exc\u001b[39m.\u001b[39mNoForeignKeysError(\n\u001b[0;32m   1230\u001b[0m         \u001b[39m\"\u001b[39m\u001b[39mCan\u001b[39m\u001b[39m'\u001b[39m\u001b[39mt find any foreign key relationships \u001b[39m\u001b[39m\"\u001b[39m\n\u001b[0;32m   1231\u001b[0m         \u001b[39m\"\u001b[39m\u001b[39mbetween \u001b[39m\u001b[39m'\u001b[39m\u001b[39m%s\u001b[39;00m\u001b[39m'\u001b[39m\u001b[39m and \u001b[39m\u001b[39m'\u001b[39m\u001b[39m%s\u001b[39;00m\u001b[39m'\u001b[39m\u001b[39m.\u001b[39m\u001b[39m%s\u001b[39;00m\u001b[39m\"\u001b[39m\n\u001b[0;32m   1232\u001b[0m         \u001b[39m%\u001b[39m (a\u001b[39m.\u001b[39mdescription, b\u001b[39m.\u001b[39mdescription, hint)\n\u001b[0;32m   1233\u001b[0m     )\n\u001b[0;32m   1235\u001b[0m crit \u001b[39m=\u001b[39m [(x \u001b[39m==\u001b[39m y) \u001b[39mfor\u001b[39;00m x, y \u001b[39min\u001b[39;00m \u001b[39mlist\u001b[39m(constraints\u001b[39m.\u001b[39mvalues())[\u001b[39m0\u001b[39m]]\n",
      "\u001b[1;31mNoForeignKeysError\u001b[0m: Can't find any foreign key relationships between 'publications' and 'articles'.",
      "\nThe above exception was the direct cause of the following exception:\n",
      "\u001b[1;31mNoForeignKeysError\u001b[0m                        Traceback (most recent call last)",
      "Cell \u001b[1;32mIn[1], line 63\u001b[0m\n\u001b[0;32m     57\u001b[0m             \u001b[39m# print([f\"\\t{row['name']}\"])\u001b[39;00m\n\u001b[0;32m     58\u001b[0m             \u001b[39m# print([f\"\\t{row}\"])\u001b[39;00m\n\u001b[0;32m     60\u001b[0m     \u001b[39mreturn\u001b[39;00m insert_rows\n\u001b[0;32m     62\u001b[0m values \u001b[39m=\u001b[39m [\n\u001b[1;32m---> 63\u001b[0m     Publications(name\u001b[39m=\u001b[39;49m\u001b[39m'\u001b[39;49m\u001b[39mPLOS Medicine\u001b[39;49m\u001b[39m'\u001b[39;49m),\n\u001b[0;32m     64\u001b[0m ]\n\u001b[0;32m     65\u001b[0m bulk_insert(values)()\n\u001b[0;32m     67\u001b[0m get_table()\n",
      "File \u001b[1;32m<string>:4\u001b[0m, in \u001b[0;36m__init__\u001b[1;34m(self, **kwargs)\u001b[0m\n",
      "File \u001b[1;32mc:\\Users\\silvh\\.conda\\envs\\ginkgo\\Lib\\site-packages\\sqlalchemy\\orm\\state.py:476\u001b[0m, in \u001b[0;36mInstanceState._initialize_instance\u001b[1;34m(*mixed, **kwargs)\u001b[0m\n\u001b[0;32m    473\u001b[0m \u001b[39mself\u001b[39m, instance, args \u001b[39m=\u001b[39m mixed[\u001b[39m0\u001b[39m], mixed[\u001b[39m1\u001b[39m], mixed[\u001b[39m2\u001b[39m:]  \u001b[39m# noqa\u001b[39;00m\n\u001b[0;32m    474\u001b[0m manager \u001b[39m=\u001b[39m \u001b[39mself\u001b[39m\u001b[39m.\u001b[39mmanager\n\u001b[1;32m--> 476\u001b[0m manager\u001b[39m.\u001b[39;49mdispatch\u001b[39m.\u001b[39;49minit(\u001b[39mself\u001b[39;49m, args, kwargs)\n\u001b[0;32m    478\u001b[0m \u001b[39mtry\u001b[39;00m:\n\u001b[0;32m    479\u001b[0m     \u001b[39mreturn\u001b[39;00m manager\u001b[39m.\u001b[39moriginal_init(\u001b[39m*\u001b[39mmixed[\u001b[39m1\u001b[39m:], \u001b[39m*\u001b[39m\u001b[39m*\u001b[39mkwargs)\n",
      "File \u001b[1;32mc:\\Users\\silvh\\.conda\\envs\\ginkgo\\Lib\\site-packages\\sqlalchemy\\event\\attr.py:343\u001b[0m, in \u001b[0;36m_CompoundListener.__call__\u001b[1;34m(self, *args, **kw)\u001b[0m\n\u001b[0;32m    341\u001b[0m     fn(\u001b[39m*\u001b[39margs, \u001b[39m*\u001b[39m\u001b[39m*\u001b[39mkw)\n\u001b[0;32m    342\u001b[0m \u001b[39mfor\u001b[39;00m fn \u001b[39min\u001b[39;00m \u001b[39mself\u001b[39m\u001b[39m.\u001b[39mlisteners:\n\u001b[1;32m--> 343\u001b[0m     fn(\u001b[39m*\u001b[39;49margs, \u001b[39m*\u001b[39;49m\u001b[39m*\u001b[39;49mkw)\n",
      "File \u001b[1;32mc:\\Users\\silvh\\.conda\\envs\\ginkgo\\Lib\\site-packages\\sqlalchemy\\orm\\mapper.py:3633\u001b[0m, in \u001b[0;36m_event_on_init\u001b[1;34m(state, args, kwargs)\u001b[0m\n\u001b[0;32m   3631\u001b[0m instrumenting_mapper \u001b[39m=\u001b[39m state\u001b[39m.\u001b[39mmanager\u001b[39m.\u001b[39mmapper\n\u001b[0;32m   3632\u001b[0m \u001b[39mif\u001b[39;00m instrumenting_mapper:\n\u001b[1;32m-> 3633\u001b[0m     instrumenting_mapper\u001b[39m.\u001b[39;49m_check_configure()\n\u001b[0;32m   3634\u001b[0m     \u001b[39mif\u001b[39;00m instrumenting_mapper\u001b[39m.\u001b[39m_set_polymorphic_identity:\n\u001b[0;32m   3635\u001b[0m         instrumenting_mapper\u001b[39m.\u001b[39m_set_polymorphic_identity(state)\n",
      "File \u001b[1;32mc:\\Users\\silvh\\.conda\\envs\\ginkgo\\Lib\\site-packages\\sqlalchemy\\orm\\mapper.py:1924\u001b[0m, in \u001b[0;36mMapper._check_configure\u001b[1;34m(self)\u001b[0m\n\u001b[0;32m   1922\u001b[0m \u001b[39mdef\u001b[39;00m \u001b[39m_check_configure\u001b[39m(\u001b[39mself\u001b[39m):\n\u001b[0;32m   1923\u001b[0m     \u001b[39mif\u001b[39;00m \u001b[39mself\u001b[39m\u001b[39m.\u001b[39mregistry\u001b[39m.\u001b[39m_new_mappers:\n\u001b[1;32m-> 1924\u001b[0m         _configure_registries({\u001b[39mself\u001b[39;49m\u001b[39m.\u001b[39;49mregistry}, cascade\u001b[39m=\u001b[39;49m\u001b[39mTrue\u001b[39;49;00m)\n",
      "File \u001b[1;32mc:\\Users\\silvh\\.conda\\envs\\ginkgo\\Lib\\site-packages\\sqlalchemy\\orm\\mapper.py:3448\u001b[0m, in \u001b[0;36m_configure_registries\u001b[1;34m(registries, cascade)\u001b[0m\n\u001b[0;32m   3442\u001b[0m     Mapper\u001b[39m.\u001b[39mdispatch\u001b[39m.\u001b[39m_for_class(Mapper)\u001b[39m.\u001b[39mbefore_configured()\n\u001b[0;32m   3443\u001b[0m     \u001b[39m# initialize properties on all mappers\u001b[39;00m\n\u001b[0;32m   3444\u001b[0m     \u001b[39m# note that _mapper_registry is unordered, which\u001b[39;00m\n\u001b[0;32m   3445\u001b[0m     \u001b[39m# may randomly conceal/reveal issues related to\u001b[39;00m\n\u001b[0;32m   3446\u001b[0m     \u001b[39m# the order of mapper compilation\u001b[39;00m\n\u001b[1;32m-> 3448\u001b[0m     _do_configure_registries(registries, cascade)\n\u001b[0;32m   3449\u001b[0m \u001b[39mfinally\u001b[39;00m:\n\u001b[0;32m   3450\u001b[0m     _already_compiling \u001b[39m=\u001b[39m \u001b[39mFalse\u001b[39;00m\n",
      "File \u001b[1;32mc:\\Users\\silvh\\.conda\\envs\\ginkgo\\Lib\\site-packages\\sqlalchemy\\orm\\mapper.py:3487\u001b[0m, in \u001b[0;36m_do_configure_registries\u001b[1;34m(registries, cascade)\u001b[0m\n\u001b[0;32m   3485\u001b[0m \u001b[39mif\u001b[39;00m \u001b[39mnot\u001b[39;00m mapper\u001b[39m.\u001b[39mconfigured:\n\u001b[0;32m   3486\u001b[0m     \u001b[39mtry\u001b[39;00m:\n\u001b[1;32m-> 3487\u001b[0m         mapper\u001b[39m.\u001b[39;49m_post_configure_properties()\n\u001b[0;32m   3488\u001b[0m         mapper\u001b[39m.\u001b[39m_expire_memoizations()\n\u001b[0;32m   3489\u001b[0m         mapper\u001b[39m.\u001b[39mdispatch\u001b[39m.\u001b[39mmapper_configured(mapper, mapper\u001b[39m.\u001b[39mclass_)\n",
      "File \u001b[1;32mc:\\Users\\silvh\\.conda\\envs\\ginkgo\\Lib\\site-packages\\sqlalchemy\\orm\\mapper.py:1941\u001b[0m, in \u001b[0;36mMapper._post_configure_properties\u001b[1;34m(self)\u001b[0m\n\u001b[0;32m   1938\u001b[0m \u001b[39mself\u001b[39m\u001b[39m.\u001b[39m_log(\u001b[39m\"\u001b[39m\u001b[39minitialize prop \u001b[39m\u001b[39m%s\u001b[39;00m\u001b[39m\"\u001b[39m, key)\n\u001b[0;32m   1940\u001b[0m \u001b[39mif\u001b[39;00m prop\u001b[39m.\u001b[39mparent \u001b[39mis\u001b[39;00m \u001b[39mself\u001b[39m \u001b[39mand\u001b[39;00m \u001b[39mnot\u001b[39;00m prop\u001b[39m.\u001b[39m_configure_started:\n\u001b[1;32m-> 1941\u001b[0m     prop\u001b[39m.\u001b[39;49minit()\n\u001b[0;32m   1943\u001b[0m \u001b[39mif\u001b[39;00m prop\u001b[39m.\u001b[39m_configure_finished:\n\u001b[0;32m   1944\u001b[0m     prop\u001b[39m.\u001b[39mpost_instrument_class(\u001b[39mself\u001b[39m)\n",
      "File \u001b[1;32mc:\\Users\\silvh\\.conda\\envs\\ginkgo\\Lib\\site-packages\\sqlalchemy\\orm\\interfaces.py:231\u001b[0m, in \u001b[0;36mMapperProperty.init\u001b[1;34m(self)\u001b[0m\n\u001b[0;32m    224\u001b[0m \u001b[39m\u001b[39m\u001b[39m\"\"\"Called after all mappers are created to assemble\u001b[39;00m\n\u001b[0;32m    225\u001b[0m \u001b[39mrelationships between mappers and perform other post-mapper-creation\u001b[39;00m\n\u001b[0;32m    226\u001b[0m \u001b[39minitialization steps.\u001b[39;00m\n\u001b[0;32m    227\u001b[0m \n\u001b[0;32m    228\u001b[0m \n\u001b[0;32m    229\u001b[0m \u001b[39m\"\"\"\u001b[39;00m\n\u001b[0;32m    230\u001b[0m \u001b[39mself\u001b[39m\u001b[39m.\u001b[39m_configure_started \u001b[39m=\u001b[39m \u001b[39mTrue\u001b[39;00m\n\u001b[1;32m--> 231\u001b[0m \u001b[39mself\u001b[39;49m\u001b[39m.\u001b[39;49mdo_init()\n\u001b[0;32m    232\u001b[0m \u001b[39mself\u001b[39m\u001b[39m.\u001b[39m_configure_finished \u001b[39m=\u001b[39m \u001b[39mTrue\u001b[39;00m\n",
      "File \u001b[1;32mc:\\Users\\silvh\\.conda\\envs\\ginkgo\\Lib\\site-packages\\sqlalchemy\\orm\\relationships.py:2137\u001b[0m, in \u001b[0;36mRelationshipProperty.do_init\u001b[1;34m(self)\u001b[0m\n\u001b[0;32m   2135\u001b[0m \u001b[39mself\u001b[39m\u001b[39m.\u001b[39m_process_dependent_arguments()\n\u001b[0;32m   2136\u001b[0m \u001b[39mself\u001b[39m\u001b[39m.\u001b[39m_setup_registry_dependencies()\n\u001b[1;32m-> 2137\u001b[0m \u001b[39mself\u001b[39;49m\u001b[39m.\u001b[39;49m_setup_join_conditions()\n\u001b[0;32m   2138\u001b[0m \u001b[39mself\u001b[39m\u001b[39m.\u001b[39m_check_cascade_settings(\u001b[39mself\u001b[39m\u001b[39m.\u001b[39m_cascade)\n\u001b[0;32m   2139\u001b[0m \u001b[39mself\u001b[39m\u001b[39m.\u001b[39m_post_init()\n",
      "File \u001b[1;32mc:\\Users\\silvh\\.conda\\envs\\ginkgo\\Lib\\site-packages\\sqlalchemy\\orm\\relationships.py:2233\u001b[0m, in \u001b[0;36mRelationshipProperty._setup_join_conditions\u001b[1;34m(self)\u001b[0m\n\u001b[0;32m   2232\u001b[0m \u001b[39mdef\u001b[39;00m \u001b[39m_setup_join_conditions\u001b[39m(\u001b[39mself\u001b[39m):\n\u001b[1;32m-> 2233\u001b[0m     \u001b[39mself\u001b[39m\u001b[39m.\u001b[39m_join_condition \u001b[39m=\u001b[39m jc \u001b[39m=\u001b[39m JoinCondition(\n\u001b[0;32m   2234\u001b[0m         parent_persist_selectable\u001b[39m=\u001b[39;49m\u001b[39mself\u001b[39;49m\u001b[39m.\u001b[39;49mparent\u001b[39m.\u001b[39;49mpersist_selectable,\n\u001b[0;32m   2235\u001b[0m         child_persist_selectable\u001b[39m=\u001b[39;49m\u001b[39mself\u001b[39;49m\u001b[39m.\u001b[39;49mentity\u001b[39m.\u001b[39;49mpersist_selectable,\n\u001b[0;32m   2236\u001b[0m         parent_local_selectable\u001b[39m=\u001b[39;49m\u001b[39mself\u001b[39;49m\u001b[39m.\u001b[39;49mparent\u001b[39m.\u001b[39;49mlocal_table,\n\u001b[0;32m   2237\u001b[0m         child_local_selectable\u001b[39m=\u001b[39;49m\u001b[39mself\u001b[39;49m\u001b[39m.\u001b[39;49mentity\u001b[39m.\u001b[39;49mlocal_table,\n\u001b[0;32m   2238\u001b[0m         primaryjoin\u001b[39m=\u001b[39;49m\u001b[39mself\u001b[39;49m\u001b[39m.\u001b[39;49mprimaryjoin,\n\u001b[0;32m   2239\u001b[0m         secondary\u001b[39m=\u001b[39;49m\u001b[39mself\u001b[39;49m\u001b[39m.\u001b[39;49msecondary,\n\u001b[0;32m   2240\u001b[0m         secondaryjoin\u001b[39m=\u001b[39;49m\u001b[39mself\u001b[39;49m\u001b[39m.\u001b[39;49msecondaryjoin,\n\u001b[0;32m   2241\u001b[0m         parent_equivalents\u001b[39m=\u001b[39;49m\u001b[39mself\u001b[39;49m\u001b[39m.\u001b[39;49mparent\u001b[39m.\u001b[39;49m_equivalent_columns,\n\u001b[0;32m   2242\u001b[0m         child_equivalents\u001b[39m=\u001b[39;49m\u001b[39mself\u001b[39;49m\u001b[39m.\u001b[39;49mmapper\u001b[39m.\u001b[39;49m_equivalent_columns,\n\u001b[0;32m   2243\u001b[0m         consider_as_foreign_keys\u001b[39m=\u001b[39;49m\u001b[39mself\u001b[39;49m\u001b[39m.\u001b[39;49m_user_defined_foreign_keys,\n\u001b[0;32m   2244\u001b[0m         local_remote_pairs\u001b[39m=\u001b[39;49m\u001b[39mself\u001b[39;49m\u001b[39m.\u001b[39;49mlocal_remote_pairs,\n\u001b[0;32m   2245\u001b[0m         remote_side\u001b[39m=\u001b[39;49m\u001b[39mself\u001b[39;49m\u001b[39m.\u001b[39;49mremote_side,\n\u001b[0;32m   2246\u001b[0m         self_referential\u001b[39m=\u001b[39;49m\u001b[39mself\u001b[39;49m\u001b[39m.\u001b[39;49m_is_self_referential,\n\u001b[0;32m   2247\u001b[0m         prop\u001b[39m=\u001b[39;49m\u001b[39mself\u001b[39;49m,\n\u001b[0;32m   2248\u001b[0m         support_sync\u001b[39m=\u001b[39;49m\u001b[39mnot\u001b[39;49;00m \u001b[39mself\u001b[39;49m\u001b[39m.\u001b[39;49mviewonly,\n\u001b[0;32m   2249\u001b[0m         can_be_synced_fn\u001b[39m=\u001b[39;49m\u001b[39mself\u001b[39;49m\u001b[39m.\u001b[39;49m_columns_are_mapped,\n\u001b[0;32m   2250\u001b[0m     )\n\u001b[0;32m   2251\u001b[0m     \u001b[39mself\u001b[39m\u001b[39m.\u001b[39mprimaryjoin \u001b[39m=\u001b[39m jc\u001b[39m.\u001b[39mprimaryjoin\n\u001b[0;32m   2252\u001b[0m     \u001b[39mself\u001b[39m\u001b[39m.\u001b[39msecondaryjoin \u001b[39m=\u001b[39m jc\u001b[39m.\u001b[39msecondaryjoin\n",
      "File \u001b[1;32mc:\\Users\\silvh\\.conda\\envs\\ginkgo\\Lib\\site-packages\\sqlalchemy\\orm\\relationships.py:2628\u001b[0m, in \u001b[0;36mJoinCondition.__init__\u001b[1;34m(self, parent_persist_selectable, child_persist_selectable, parent_local_selectable, child_local_selectable, primaryjoin, secondary, secondaryjoin, parent_equivalents, child_equivalents, consider_as_foreign_keys, local_remote_pairs, remote_side, self_referential, prop, support_sync, can_be_synced_fn)\u001b[0m\n\u001b[0;32m   2626\u001b[0m \u001b[39mself\u001b[39m\u001b[39m.\u001b[39msupport_sync \u001b[39m=\u001b[39m support_sync\n\u001b[0;32m   2627\u001b[0m \u001b[39mself\u001b[39m\u001b[39m.\u001b[39mcan_be_synced_fn \u001b[39m=\u001b[39m can_be_synced_fn\n\u001b[1;32m-> 2628\u001b[0m \u001b[39mself\u001b[39;49m\u001b[39m.\u001b[39;49m_determine_joins()\n\u001b[0;32m   2629\u001b[0m \u001b[39mself\u001b[39m\u001b[39m.\u001b[39m_sanitize_joins()\n\u001b[0;32m   2630\u001b[0m \u001b[39mself\u001b[39m\u001b[39m.\u001b[39m_annotate_fks()\n",
      "File \u001b[1;32mc:\\Users\\silvh\\.conda\\envs\\ginkgo\\Lib\\site-packages\\sqlalchemy\\orm\\relationships.py:2761\u001b[0m, in \u001b[0;36mJoinCondition._determine_joins\u001b[1;34m(self)\u001b[0m\n\u001b[0;32m   2747\u001b[0m         util\u001b[39m.\u001b[39mraise_(\n\u001b[0;32m   2748\u001b[0m             sa_exc\u001b[39m.\u001b[39mNoForeignKeysError(\n\u001b[0;32m   2749\u001b[0m                 \u001b[39m\"\u001b[39m\u001b[39mCould not determine join \u001b[39m\u001b[39m\"\u001b[39m\n\u001b[1;32m   (...)\u001b[0m\n\u001b[0;32m   2758\u001b[0m             from_\u001b[39m=\u001b[39mnfe,\n\u001b[0;32m   2759\u001b[0m         )\n\u001b[0;32m   2760\u001b[0m     \u001b[39melse\u001b[39;00m:\n\u001b[1;32m-> 2761\u001b[0m         util\u001b[39m.\u001b[39;49mraise_(\n\u001b[0;32m   2762\u001b[0m             sa_exc\u001b[39m.\u001b[39;49mNoForeignKeysError(\n\u001b[0;32m   2763\u001b[0m                 \u001b[39m\"\u001b[39;49m\u001b[39mCould not determine join \u001b[39;49m\u001b[39m\"\u001b[39;49m\n\u001b[0;32m   2764\u001b[0m                 \u001b[39m\"\u001b[39;49m\u001b[39mcondition between parent/child tables on \u001b[39;49m\u001b[39m\"\u001b[39;49m\n\u001b[0;32m   2765\u001b[0m                 \u001b[39m\"\u001b[39;49m\u001b[39mrelationship \u001b[39;49m\u001b[39m%s\u001b[39;49;00m\u001b[39m - there are no foreign keys \u001b[39;49m\u001b[39m\"\u001b[39;49m\n\u001b[0;32m   2766\u001b[0m                 \u001b[39m\"\u001b[39;49m\u001b[39mlinking these tables.  \u001b[39;49m\u001b[39m\"\u001b[39;49m\n\u001b[0;32m   2767\u001b[0m                 \u001b[39m\"\u001b[39;49m\u001b[39mEnsure that referencing columns are associated \u001b[39;49m\u001b[39m\"\u001b[39;49m\n\u001b[0;32m   2768\u001b[0m                 \u001b[39m\"\u001b[39;49m\u001b[39mwith a ForeignKey or ForeignKeyConstraint, or \u001b[39;49m\u001b[39m\"\u001b[39;49m\n\u001b[0;32m   2769\u001b[0m                 \u001b[39m\"\u001b[39;49m\u001b[39mspecify a \u001b[39;49m\u001b[39m'\u001b[39;49m\u001b[39mprimaryjoin\u001b[39;49m\u001b[39m'\u001b[39;49m\u001b[39m expression.\u001b[39;49m\u001b[39m\"\u001b[39;49m \u001b[39m%\u001b[39;49m \u001b[39mself\u001b[39;49m\u001b[39m.\u001b[39;49mprop\n\u001b[0;32m   2770\u001b[0m             ),\n\u001b[0;32m   2771\u001b[0m             from_\u001b[39m=\u001b[39;49mnfe,\n\u001b[0;32m   2772\u001b[0m         )\n\u001b[0;32m   2773\u001b[0m \u001b[39mexcept\u001b[39;00m sa_exc\u001b[39m.\u001b[39mAmbiguousForeignKeysError \u001b[39mas\u001b[39;00m afe:\n\u001b[0;32m   2774\u001b[0m     \u001b[39mif\u001b[39;00m \u001b[39mself\u001b[39m\u001b[39m.\u001b[39msecondary \u001b[39mis\u001b[39;00m \u001b[39mnot\u001b[39;00m \u001b[39mNone\u001b[39;00m:\n",
      "File \u001b[1;32mc:\\Users\\silvh\\.conda\\envs\\ginkgo\\Lib\\site-packages\\sqlalchemy\\util\\compat.py:208\u001b[0m, in \u001b[0;36mraise_\u001b[1;34m(***failed resolving arguments***)\u001b[0m\n\u001b[0;32m    205\u001b[0m     exception\u001b[39m.\u001b[39m__cause__ \u001b[39m=\u001b[39m replace_context\n\u001b[0;32m    207\u001b[0m \u001b[39mtry\u001b[39;00m:\n\u001b[1;32m--> 208\u001b[0m     \u001b[39mraise\u001b[39;00m exception\n\u001b[0;32m    209\u001b[0m \u001b[39mfinally\u001b[39;00m:\n\u001b[0;32m    210\u001b[0m     \u001b[39m# credit to\u001b[39;00m\n\u001b[0;32m    211\u001b[0m     \u001b[39m# https://cosmicpercolator.com/2016/01/13/exception-leaks-in-python-2-and-3/\u001b[39;00m\n\u001b[0;32m    212\u001b[0m     \u001b[39m# as the __traceback__ object creates a cycle\u001b[39;00m\n\u001b[0;32m    213\u001b[0m     \u001b[39mdel\u001b[39;00m exception, replace_context, from_, with_traceback\n",
      "\u001b[1;31mNoForeignKeysError\u001b[0m: Could not determine join condition between parent/child tables on relationship Publications.articles - there are no foreign keys linking these tables.  Ensure that referencing columns are associated with a ForeignKey or ForeignKeyConstraint, or specify a 'primaryjoin' expression."
     ]
    }
   ],
   "source": [
    "import sys\n",
    "sys.path.append(r\"C:\\Users\\silvh\\OneDrive\\lighthouse\\Ginkgo coding\\content-summarization\\src\")\n",
    "\n",
    "from db_session import *\n",
    "from sqlalchemy.orm import declarative_base\n",
    "from sqlalchemy import Column, Integer, String, Text\n",
    "from sqlalchemy.dialects.postgresql import UUID\n",
    "import uuid\n",
    "import pandas as pd\n",
    "# from sqlalchemy.dialects.postgresql import insert\n",
    "from sqlalchemy.orm import Mapped\n",
    "from sqlalchemy.orm import relationship\n",
    "\n",
    "\n",
    "Base = declarative_base()\n",
    "\n",
    "class Publications(Base):\n",
    "    __tablename__ = 'publications'\n",
    "    id = Column(Integer, primary_key=True)\n",
    "    name = Column(String(100))\n",
    "    articles = relationship('Article', back_populates='publication')\n",
    "\n",
    "class Article(Base):\n",
    "    __tablename__ = 'articles'\n",
    "    id = Column(Integer, primary_key=True, server_default='DEFAULT', autoincrement=True)\n",
    "    title = Column(String(255))\n",
    "    publication = Column(String(100))\n",
    "    text_body = Column(Text)\n",
    "    uuid = Column(UUID)\n",
    "    publication = relationship('Publications', back_populates='articles')\n",
    "    \n",
    "class Summaries(Base):\n",
    "    __tablename__ = 'initial_summaries'\n",
    "    id = Column(Integer, primary_key=True)\n",
    "    summary_body = Column(String(1000))\n",
    "    article_uuid = Column(UUID)\n",
    "\n",
    "@remote_sql_session\n",
    "def get_table(session, query='SELECT *', table='publications'):\n",
    "    \"\"\"\n",
    "    Return a database table as a pandas dataframe.\n",
    "    \"\"\"\n",
    "    q = session.execute(f'{query} from {table}')\n",
    "    df = pd.DataFrame(q.fetchall())\n",
    "    return df\n",
    "\n",
    "def bulk_insert(new_rows, engine=None):\n",
    "    @remote_sql_session\n",
    "    def insert_rows(session):\n",
    "        print('Rows inserted:')\n",
    "        for row in new_rows:\n",
    "            # new_row = Publications(\n",
    "            #     name=row['name']\n",
    "            # )\n",
    "            session.add(row)\n",
    "            session.commit()\n",
    "            # print([f\"\\t{row['name']}\"])\n",
    "            # print([f\"\\t{row}\"])\n",
    "\n",
    "    return insert_rows\n",
    "\n",
    "values = [\n",
    "    Publications(name='PLOS Medicine'),\n",
    "]\n",
    "bulk_insert(values)()\n",
    "\n",
    "get_table()\n"
   ]
  },
  {
   "attachments": {},
   "cell_type": "markdown",
   "metadata": {},
   "source": [
    "## 4.1"
   ]
  },
  {
   "cell_type": "code",
   "execution_count": 7,
   "metadata": {},
   "outputs": [
    {
     "name": "stdout",
     "output_type": "stream",
     "text": [
      "Rows inserted:\n"
     ]
    },
    {
     "data": {
      "text/html": [
       "<div>\n",
       "<style scoped>\n",
       "    .dataframe tbody tr th:only-of-type {\n",
       "        vertical-align: middle;\n",
       "    }\n",
       "\n",
       "    .dataframe tbody tr th {\n",
       "        vertical-align: top;\n",
       "    }\n",
       "\n",
       "    .dataframe thead th {\n",
       "        text-align: right;\n",
       "    }\n",
       "</style>\n",
       "<table border=\"1\" class=\"dataframe\">\n",
       "  <thead>\n",
       "    <tr style=\"text-align: right;\">\n",
       "      <th></th>\n",
       "      <th>id</th>\n",
       "      <th>name</th>\n",
       "    </tr>\n",
       "  </thead>\n",
       "  <tbody>\n",
       "    <tr>\n",
       "      <th>0</th>\n",
       "      <td>1</td>\n",
       "      <td>PLOS Medicine</td>\n",
       "    </tr>\n",
       "    <tr>\n",
       "      <th>1</th>\n",
       "      <td>2</td>\n",
       "      <td>PLOS One</td>\n",
       "    </tr>\n",
       "    <tr>\n",
       "      <th>2</th>\n",
       "      <td>3</td>\n",
       "      <td>Journal of Applied Physiology</td>\n",
       "    </tr>\n",
       "  </tbody>\n",
       "</table>\n",
       "</div>"
      ],
      "text/plain": [
       "   id                           name\n",
       "0   1                  PLOS Medicine\n",
       "1   2                       PLOS One\n",
       "2   3  Journal of Applied Physiology"
      ]
     },
     "execution_count": 7,
     "metadata": {},
     "output_type": "execute_result"
    }
   ],
   "source": [
    "import sys\n",
    "sys.path.append(r\"C:\\Users\\silvh\\OneDrive\\lighthouse\\Ginkgo coding\\content-summarization\\src\")\n",
    "\n",
    "from db_session import *\n",
    "from sqlalchemy.orm import declarative_base\n",
    "from sqlalchemy import Column, Integer, String, Text\n",
    "from sqlalchemy.dialects.postgresql import UUID\n",
    "import uuid\n",
    "import pandas as pd\n",
    "# from sqlalchemy.dialects.postgresql import insert\n",
    "from sqlalchemy.orm import Mapped\n",
    "from sqlalchemy.orm import relationship\n",
    "\n",
    "\n",
    "Base = declarative_base()\n",
    "\n",
    "class Publications(Base):\n",
    "    __tablename__ = 'publications'\n",
    "    id = Column(Integer, primary_key=True)\n",
    "    name = Column(String(100))\n",
    "    # articles = relationship('Article', back_populates='publication')\n",
    "\n",
    "class Article(Base):\n",
    "    __tablename__ = 'articles'\n",
    "    id = Column(Integer, primary_key=True, server_default='DEFAULT', autoincrement=True)\n",
    "    title = Column(String(255))\n",
    "    publication = Column(String(100))\n",
    "    text_body = Column(Text)\n",
    "    uuid = Column(UUID)\n",
    "    # publication = relationship('Publications', back_populates='articles')\n",
    "    \n",
    "class Summaries(Base):\n",
    "    __tablename__ = 'initial_summaries'\n",
    "    id = Column(Integer, primary_key=True)\n",
    "    summary_body = Column(String(1000))\n",
    "    article_uuid = Column(UUID)\n",
    "\n",
    "@remote_sql_session\n",
    "def get_table(session, query='SELECT *', table='publications'):\n",
    "    \"\"\"\n",
    "    Return a database table as a pandas dataframe.\n",
    "    \"\"\"\n",
    "    q = session.execute(f'{query} from {table}')\n",
    "    df = pd.DataFrame(q.fetchall())\n",
    "    return df\n",
    "\n",
    "def bulk_insert(new_rows, engine=None):\n",
    "    @remote_sql_session\n",
    "    def insert_rows(session):\n",
    "        print('Rows inserted:')\n",
    "        for row in new_rows:\n",
    "            # new_row = Publications(\n",
    "            #     name=row['name']\n",
    "            # )\n",
    "            session.add(row)\n",
    "            session.commit()\n",
    "            # print([f\"\\t{row['name']}\"])\n",
    "            # print([f\"\\t{row}\"])\n",
    "\n",
    "    return insert_rows\n",
    "\n",
    "values = [\n",
    "    Publications(\n",
    "        name='Journal of Applied Physiology',\n",
    "        ),\n",
    "]\n",
    "# article_list = [\n",
    "#     Article(\n",
    "#         title='Hypohydration but not Menstrual Phase Influences Pain Perception in Healthy Women',\n",
    "#         ),\n",
    "# ]\n",
    "bulk_insert(values)()\n",
    "get_table()\n",
    "# get_table(table='articles')\n"
   ]
  },
  {
   "attachments": {},
   "cell_type": "markdown",
   "metadata": {},
   "source": []
  },
  {
   "cell_type": "code",
   "execution_count": null,
   "metadata": {},
   "outputs": [],
   "source": []
  },
  {
   "cell_type": "code",
   "execution_count": null,
   "metadata": {},
   "outputs": [],
   "source": []
  },
  {
   "cell_type": "code",
   "execution_count": null,
   "metadata": {},
   "outputs": [],
   "source": []
  },
  {
   "cell_type": "code",
   "execution_count": null,
   "metadata": {},
   "outputs": [],
   "source": []
  },
  {
   "cell_type": "code",
   "execution_count": null,
   "metadata": {},
   "outputs": [],
   "source": []
  },
  {
   "cell_type": "code",
   "execution_count": null,
   "metadata": {},
   "outputs": [],
   "source": []
  },
  {
   "cell_type": "code",
   "execution_count": null,
   "metadata": {},
   "outputs": [],
   "source": []
  },
  {
   "cell_type": "code",
   "execution_count": null,
   "metadata": {},
   "outputs": [],
   "source": []
  },
  {
   "cell_type": "code",
   "execution_count": null,
   "metadata": {},
   "outputs": [],
   "source": []
  },
  {
   "cell_type": "code",
   "execution_count": null,
   "metadata": {},
   "outputs": [],
   "source": []
  },
  {
   "cell_type": "code",
   "execution_count": null,
   "metadata": {},
   "outputs": [],
   "source": []
  },
  {
   "cell_type": "code",
   "execution_count": null,
   "metadata": {},
   "outputs": [],
   "source": []
  },
  {
   "cell_type": "code",
   "execution_count": null,
   "metadata": {},
   "outputs": [],
   "source": []
  },
  {
   "cell_type": "code",
   "execution_count": null,
   "metadata": {},
   "outputs": [],
   "source": []
  },
  {
   "cell_type": "code",
   "execution_count": null,
   "metadata": {},
   "outputs": [],
   "source": []
  },
  {
   "cell_type": "code",
   "execution_count": null,
   "metadata": {},
   "outputs": [],
   "source": []
  },
  {
   "cell_type": "code",
   "execution_count": null,
   "metadata": {},
   "outputs": [],
   "source": []
  },
  {
   "cell_type": "code",
   "execution_count": null,
   "metadata": {},
   "outputs": [],
   "source": []
  },
  {
   "cell_type": "code",
   "execution_count": null,
   "metadata": {},
   "outputs": [],
   "source": []
  },
  {
   "attachments": {},
   "cell_type": "markdown",
   "metadata": {},
   "source": [
    "# *End of Page*"
   ]
  }
 ],
 "metadata": {
  "kernelspec": {
   "display_name": "Python 3.9.13 64-bit",
   "language": "python",
   "name": "python3"
  },
  "language_info": {
   "codemirror_mode": {
    "name": "ipython",
    "version": 3
   },
   "file_extension": ".py",
   "mimetype": "text/x-python",
   "name": "python",
   "nbconvert_exporter": "python",
   "pygments_lexer": "ipython3",
   "version": "3.11.3"
  },
  "orig_nbformat": 4,
  "vscode": {
   "interpreter": {
    "hash": "11938c6bc6919ae2720b4d5011047913343b08a43b18698fd82dedb0d4417594"
   }
  }
 },
 "nbformat": 4,
 "nbformat_minor": 2
}
