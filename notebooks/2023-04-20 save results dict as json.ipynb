{
 "cells": [
  {
   "cell_type": "markdown",
   "metadata": {},
   "source": [
    "# Title\n",
    "[]()"
   ]
  },
  {
   "cell_type": "code",
   "execution_count": 1,
   "metadata": {},
   "outputs": [],
   "source": [
    "from pandas import json_normalize  \n",
    "import pandas as pd\n",
    "import sys\n",
    "sys.path.append(r\"C:\\Users\\silvh\\OneDrive\\lighthouse\\custom_python\")\n",
    "sys.path.append(r\"C:\\Users\\silvh\\OneDrive\\lighthouse\\portfolio-projects\\online-PT-social-media-NLP\\src\")\n",
    "from silvhua import *\n",
    "from datetime import datetime\n",
    "# import json\n",
    "# from plotly.subplots import make_subplots\n",
    "# import requests"
   ]
  },
  {
   "cell_type": "code",
   "execution_count": 2,
   "metadata": {},
   "outputs": [],
   "source": [
    "\n",
    "sys.path.append(r\"C:\\Users\\silvh\\OneDrive\\lighthouse\\Ginkgo coding\\content-summarization\\src\")\n",
    "# from summarization import Chatbot, reply, batch_reply\n",
    "from article_processing import create_text_dict, create_text_dict_from_folder"
   ]
  },
  {
   "cell_type": "code",
   "execution_count": 15,
   "metadata": {},
   "outputs": [],
   "source": [
    "# set the option to wrap text within cells\n",
    "# pd.reset_option('all')\n",
    "# pd.set_option('display.max_colwidth', None)\n",
    "pd.set_option('display.max_colwidth', 300)\n",
    "# pd.set_option('display.max_columns', None)\n",
    "pd.set_option('display.width', None)"
   ]
  },
  {
   "cell_type": "code",
   "execution_count": 16,
   "metadata": {},
   "outputs": [],
   "source": [
    "# from pypdf import PdfReader\n",
    "import pandas as pd\n",
    "import openai\n",
    "import os\n",
    "# from openai.embeddings_utils import get_embedding, cosine_similarity\n",
    "import re"
   ]
  },
  {
   "attachments": {},
   "cell_type": "markdown",
   "metadata": {},
   "source": [
    "# Create text_dict"
   ]
  },
  {
   "cell_type": "code",
   "execution_count": 3,
   "metadata": {},
   "outputs": [
    {
     "data": {
      "text/plain": [
       "{1: 'Comparisons in the Recovery Response From Resistance Exercise Between Young and Middle-Aged Men\\n\\nDiscussion\\nResults of this study indicated no differences in the recovery response between YA and MA for any of the performance measures, nor in subjective levels of muscle pain or soreness. Furthermore, no between-group differences were observed in the inflammatory or\\xa0muscle damage\\xa0response to the exercise protocol. To the best of our knowledge, this is the first study to examine differences in the recovery response from high-volume resistance exercise between recreationally trained young and middle-aged adults. Our results comparing BL performance measures seem to be in agreement with other investigations, demonstrating differences in strength measures between young (23\\x9629 years) and older adults (60\\x9665 years) (7,15,24), and between middle-aged (41\\x9642 years) and older adults (70\\x9672 years) (17,18). It does seem that the decline in strength may develop during middle age. However, recovery from exercise seems to be comparable in both younger and middle-aged adults as reflected by similar changes in performance and markers of\\xa0muscle damage\\xa0and\\xa0inflammation. Although changes in strength may occur in middle age, recovery from exercise does seem to be maintained in recreationally trained individuals.\\nThe differences observed at BL in isometric force and the rate of force development is consistent with other investigations comparing younger and older adults (16,19,36). Although differences in age between young and middle-aged adults do seem to affect BL levels of strength, it does not seem to affect recovery from exercise. This is supported by similar patterns of\\xa0muscle damage\\xa0and\\xa0inflammation\\xa0observed during the recovery period after the HVP. Elevations in Mb and CK concentrations are consistent with the expected physiological response from a bout of resistance exercise (9,34). These results also suggest that middle-aged recreationally active men who regularly engage in\\xa0resistance training\\xa0do not seem to be at increased risk for greater soreness or\\xa0muscle damage\\xa0in comparison with younger recreationally trained men.\\nSimilar response patterns were also noted in the inflammatory response for both groups. No significant elevations from BL were observed in CRP. However, significant increases in IL-6 concentrations were observed for both groups. Although CRP is an acute phase protein whose function is to activate the innate immune response and enhance phagocytosis (10), it does not seem to change after an acute bout of resistance exercise (6). Previous research has reported no significant changes in CRP concentrations after\\xa0resistance training\\xa0protocols recruiting primarily both upper-body (31) and lower-body exercises (4) in younger men. Furthermore, previous investigations have also indicated that training experience can reduce the CRP response to an acute bout of exercise (22,35). Considering that participants in both YA and MA were recreationally trained, it is likely that this training experience may have attenuated the CRP response. Physiologically, it is consistent with the lower stress and damage that occurs with repetitive training (9,35). Interleukin-6 is an inflammatory cytokine that facilitates communication for the mobilization, proliferation, and differentiation of immune cells to the site of tissue damage (6) and has been shown to increase after exercise (11). Elevations in IL-6 are related to the intensity, duration, and mode of training (11,13,32), but the literature is inconclusive regarding the IL-6 response to\\xa0resistance training. A recent study reported that a bout of high-volume resistance exercise (8 sets of 10 repetitions with 70% of maximal strength in the squat exercise) resulted in a significant elevation in IL-6 concentrations 30 min after exercise, but no changes were observed after a bout of high-intensity resistance exercise (8 sets of 3 repetitions with 90% of maximal strength in the squat exercise) in experienced, trained lifters (4). The IL-6 response observed during this investigation as a result of a bout of high-volume resistance exercise seems to be consistent with that recently reported by Bartolomei et al. (4). However, age did not seem to exacerbate nor attenuate the IL-6 response in recreationally trained participants.\\nNo differences were noted in the inflammatory or\\xa0muscle damage\\xa0response between YA and MA. As discussed earlier, this is likely related to the recreational training background of the participants. However, there were several limitations to the study that need to be acknowledged. The exercise protocol was performed on an isokinetic dynamometer, which may not have as much practical application as most\\xa0resistance training\\xa0programs use dynamic constant resistance exercises. In addition, unilateral, single-joint exercise recruited a relatively smaller muscle mass than is commonly used in most training programs. The use of this modality of exercise, which has been demonstrated to be very effective in eliciting\\xa0muscle damage\\xa0(20,30), may not have been sufficient to elicit significant performance and inflammatory changes in these recreationally trained participants. Future research should examine modes of training specific to the typical training program of the participants.\\nPractical Applications\\nThe results of this study indicate that changes in muscle performance seem to begin during middle age, even in recreationally trained individuals. However, participating in recreational\\xa0resistance training\\xa0may mitigate any alteration in the recovery response from exercise. These results should be examined in the context that recovery was investigated after a unilateral, single-joint isokinetic exercise protocol. Although this method has been previously used as an effective mode of exercise to elicit\\xa0muscle damage, it is not specific to the type of exercises typically used by recreational lifters. Future studies may wish to compare these population groups using multijoint, dynamic constant resistance exercises common to the training programs of most recreational lifters, regardless of age.\\n',\n",
       " 2: 'Recovery From Eccentric Squat Exercise in Resistance-Trained Young and Master Athletes With Similar Maximum Strength: Combining Cold Water Immersion and Compression\\n\\nDiscussion\\nThe study aimed at investigating the effects of aging on muscle soreness and muscle damage following an intensive squat exercise protocol as well as on age-related effects of a recovery intervention in tightly controlled populations of young and master athletes regarding their absolute performance level. As an important experimental precondition, all markers of fatigue and recovery showed a significant within-subject effect of time of measurement with strikingly more pronounced changes from pre- to post-exercise (Figure 2), while CK peaked at post-24 in most individuals. Usually, the highest CK activity is found at 24 or 48h post-exercise. A mean CK increase of up to two times the baseline and up to 800U/l in some individuals can be attributed to structural damage to muscle cells (Baird et al., 2012). Therefore, it can be concluded that the applied high-intensive and eccentric overloaded exercise protocol was acutely sufficiently fatiguing and well-chosen to produce ongoing muscle soreness and muscle damage, which confirms the findings from other studies (Proske and Allen, 2005;\\xa0Lavender and Nosaka, 2006;\\xa0Raeder et al., 2016a;\\xa0Bridgeman et al., 2017;\\xa0Thomas et al., 2018).\\nRegarding the first hypothesis, the master athletes neither reach higher fatigue levels nor recover more slowly than the younger athletes (rejection of hypothesis 1). These findings partly contradict the current literature suggesting that, for a similar exercise stimulus, a stronger level of fatigue might be reached, and a longer recovery period might be required before master athletes return to baseline levels (Fell and Williams, 2008). A faster acute recovery is, among other factors, attributed to physiological differences between young and older participants (e.g., phosphocreatine recovery and impaired oxygen supply;\\xa0Fell and Williams, 2008). Regarding long-term recovery, the common belief among athletes and coaches is that older athletes experience greater muscle damage and slower repair during and after highly intensive exercise because of minor anabolic stimulus. On the other hand, this aspect is still debated in the literature, since multiple methodological issues have to be addressed, such as gender differences, training status, training protocols, and measurements of the damage (Fell and Williams, 2008).\\nIt must be pointed out that master athletes experienced less pronounced acute internal load and perceptual fatigue (Tables 2\\xa0and\\xa03, and\\xa0Figure 2). Similarly, the PPC showed a lower acute post-exercise decrease in the master athletes compared with the young athletes. The higher BLa concentrations in the young athletes can be attributed to the higher number of repetitions during the final all-out set when participants were encouraged to perform until their momentary muscular failure (Table 3). It appears that the master athletes started into the final set more carefully and defensively while anticipating possible injury risks and the upcoming recovery demands. Furthermore, despite a similar leg muscle mass and a comparable level of maximum dynamic strength (Table 1), the samples clearly differed in their power capacities during the vertical jump test (Figure 1). A higher amount of type II fibers in younger athletes and a correspondingly stronger glycolytic activity can be assumed. Type II fibers are usually more susceptible to disruption leading to higher BLa and CK values in young athletes (Baird et al., 2012). Therefore, a final assessment of hypotheses 1 is difficult as internal and external loads were slightly different in both age groups.\\nRegarding the second hypothesis, it was assumed that CWI and CC, especially when used in combination and over a longer period, could improve post-exercise recovery by ameliorating edema, decreasing secondary exercise-induced muscle damage and the sensation of muscle soreness, improving the clearance of muscle metabolites, and increasing post-exercise parasympathetic activity (Ihsan et al., 2016;\\xa0Brown et al., 2017). However, on the group level and regardless of age, the current study revealed no effect of MMR on the recovery of performance or muscle contractile markers of fatigue and recovery (rejection of hypothesis 2). Additionally, MMR did not significantly improve the recovery of CK activity, although reductions in muscle soreness and improvements in PPC were evident after MMR. Such a finding is common, likely due to the analgesia and placebo effect attributable to CWI and CC (Leeder et al., 2012;\\xa0Poppendieck et al., 2013;\\xa0Ihsan et al., 2016;\\xa0Brown et al., 2017).\\nRegardless of age, the group-level results of the current study are both consistent and in contrast to the overall literature findings examining CWI or CC as recovery tools, with applied research showing both improved and unchanged or even impaired recovery of fatigue markers following CWI and CC (Leeder et al., 2012;\\xa0Poppendieck et al., 2013;\\xa0Hill et al., 2014;\\xa0Machado et al., 2016;\\xa0Marqués-Jiménez et al., 2016;\\xa0Brown et al., 2017). The inconsistent findings within the available studies can be explained by the different CWI and/or CC protocols used as well as the frequently reported extensive interindividual variations even in response to highly standardized training and/or recovery interventions (Pickering and Kiely, 2017;\\xa0Wiewelhove et al., 2021). A high interindividual variability in the observed response to recovery interventions is supported by the current study. Only three participants (i.e., participants 2, 8, and 10) did likely benefit from MMR. All other participants showed inconsistent/diffuse responses, while a positive effect of MMR on the recovery of performance tended to be more frequently observed in the younger athletes. The inconsistent responses could be explained by a possible inability of the MMR protocol to accelerate recovery, at least in terms of muscle performance and CK activity, as well as the complexity of the kinematics of exercise-induced fatigue, which may cause different effects within individual body systems. Genetic influences make an important contribution to these variations, while factors, such as sleep, psychological stress, habitual physical activity, and dietary intake, may also play important roles (Mann et al., 2014). Only dietary intake was standardized and controlled during the present study. Additionally, the amount of data was rather small. Thus, the effectiveness of MMR should be interpreted with great caution.\\nIt is also assumed that the effectiveness of a recovery intervention may differ more depending on the individual preferences and beliefs concerning the intervention rather than on age (Roelands and Hurst, 2020). For example, several participants from both age groups (i.e., participants 1, 2, 7, 8, 10, 14, and 16) showed a consistent positive response to MMR in subjective markers, but MMR likely only had a consistent positive impact on performance in participant 8, while the performance of participant 14 was likely to have benefited from PR. Conversely, participant 4 showed a positive response to MMR in MVIC force, resting twitch force, CMJ height, and serum concentration of CK, but had a negative response to MMR in both subjective markers. Therefore, the use of recovery methods post-exercise in general and of MMR in particular should be individualized regardless of age. However, considering only individual perceptions may be misleading for the restoration of performance and/or muscle function.\\nFurthermore, it is discussed in the literature whether a long-term application of recovery interventions might attenuate training-specific adaptations in long-term training intervention and how to balance possible deteriorations in training adaptations with the possible beneficial short-term recovery effects. For example,\\xa0Fröhlich et al. (2014),\\xa0Roberts et al. (2015), and\\xa0Poppendieck et al. (2020)\\xa0showed that the regular use of CWI after strength training sessions reduced long-term gains in muscle mass and strength. However, the effects were rather small and therefore only of practical relevance for a few elite athletes. In this study, MMR had not physiological effects on post-exercise recovery at the group level. Thus, possible negative effects of a long-term application of MMR on adaptations are most likely rather minor and negligible in most athletes.\\nFinally, some limitations of the study design must be considered which are (1) the small number and heterogeneity of selected young and elderly athletes and (2) the insufficient adjustment of internal and external loads. Regarding the sample size, we strictly followed the predefined inclusion criteria for both age groups, which were difficult to meet by the master athletes. More than fifty applicants had to be pre-tested to identify eight individuals reaching a minimum half squat 1RM of at least 120% of the individual body weight which was necessary to match the dynamic strength performance of both age groups and corresponds to an advanced resistance training status in older athletes (Santos Junior et al., 2021). Nevertheless, despite a comparable level of maximum dynamic strength and a similar body composition, the samples clearly differed in their power capacities. Noticeable in this regard were the significantly lower CMJ performance and twitch force (Figure 2) as well as the lower basic testosterone release in the older athletes (Table 1). It can be concluded that a complete performance matching was not realized; however, it was implemented as well as possible at least for the 1RM, which was defined as our primary inclusion criterion.\\nDifferences in the acute internal and external loads of the exercise program can be attributed to the higher number of repetitions during the final set as well as to a higher amount of type II fibers and a correspondingly stronger glycolytic activity in the younger athletes. Nevertheless, since no significant within-subject effect between the two cross-over parts was found for any of the fatigue and recovery markers, it appears that a sufficiently standardized and replicable protocol was prescribed.\\nConclusion\\nAt the group level, master athletes neither reach higher fatigue levels nor recover more slowly than the younger athletes. Age-related differences were only found within younger athletes reaching a higher post-exercise fatigue regarding muscle soreness and PPC. Furthermore, the results indicate that a mixed-method recovery intervention (MMR) after resistance exercise does not contribute to a faster recovery of physical performance, neuromuscular function, or muscle damage, but promotes recovery of perceptual measures regardless of age. However, some participants were more likely to benefit from MMR also in terms of functional and physiological measures. Therefore, the use of MMR should be individualized. As limitations, it has to be pointed out that our sample size was rather small and that a complete matching of population characteristics and exercise intensity was difficult under the ecological valid conditions of this study. Both may have affected the outcomes. We therefore recommend further studies under more controlled experimental conditions.\\n\\nPage 1 of 1\\n\\n'}"
      ]
     },
     "execution_count": 3,
     "metadata": {},
     "output_type": "execute_result"
    }
   ],
   "source": [
    "folder_path = '../text/2023-04-14'\n",
    "encoding='ISO-8859-1'\n",
    "subset=None\n",
    "\n",
    "text_dict = create_text_dict_from_folder(folder_path, encoding='ISO-8859-1', subset=subset)\n",
    "text_dict"
   ]
  },
  {
   "attachments": {},
   "cell_type": "markdown",
   "metadata": {},
   "source": [
    "# Create prompts"
   ]
  },
  {
   "cell_type": "code",
   "execution_count": 4,
   "metadata": {},
   "outputs": [],
   "source": [
    "experiment_num = 1\n",
    "\n",
    "prep_step = [\n",
    "    # \"Take the key points to\",\n",
    "    \"Take the key points and numerical descriptors to\",\n",
    "    # \"\"\n",
    "]\n",
    "\n",
    "summarize_task = [\n",
    "    # \"Summarize the article in under 300 characters\",\n",
    "    \"Summarize for a LinkedIn post\",\n",
    "    # \"Summarize for a tweet\",\n",
    "    # \"Summarize in an engaging way\",\n",
    "    \"Describe the interesting points to your coworker at the water cooler\"\n",
    "    # \"Summarize the article for a Tiktok post\"\n",
    "]\n",
    "\n",
    "simple_simplify_task = [\n",
    "    # \"Use terms a 12-year-old can understand.\",\n",
    "    \"Assume your audience has no science background.\",\n",
    "    \"Use a fun tone.\"\n",
    "    # \"Include the most interesting findings.\",\n",
    "    # \"Include the key take-aways for the reader.\",\n",
    "    # \"Include the implications of the article.\"\n",
    "    # \"Include the most interesting findings.\",\n",
    "    # \"Include the key take-aways for the reader.\",\n",
    "    # \"Include the implications of the article.\"\n",
    "]\n",
    "\n",
    "user_simplify_task = [\n",
    "    \"Use language appropriate for\",\n",
    "    # \"Use terms a 12-year-old can understand.\",\n",
    "]\n",
    "\n",
    "simplify_audience = [\n",
    "    # \"\",\n",
    "    \"a lay audience\",\n",
    "    \"people without a science background\",\n",
    "]\n",
    "\n",
    "user_relevance_task = [\n",
    "    \"Add 1-2 sentences to make this relevant for\"\n",
    "    # \"Add 1-2 sentences to make this relevant for older adults.\"\n",
    "    # \"Once you are done, add 1-2 sentences to make this relevant for older adults.\",\n",
    "]\n",
    "\n",
    "relevance_audience = [\n",
    "    # \"lay audience\",\n",
    "    # \"\",\n",
    "    \"seniors\",\n",
    "    \"people who enjoy sports\"\n",
    "]\n",
    "\n"
   ]
  },
  {
   "cell_type": "code",
   "execution_count": 3,
   "metadata": {},
   "outputs": [
    {
     "name": "stdout",
     "output_type": "stream",
     "text": [
      "Time completed: 2023-04-21 00:41:25.144120\n"
     ]
    }
   ],
   "source": [
    "pickle_path = r'C:\\Users\\silvh\\OneDrive\\lighthouse\\Ginkgo coding\\content-summarization\\output\\pickles'\n",
    "filename = 'batch_Chaining_attributes_relevance_2023-04-21_0027.sav'\n",
    "chatbot = loadpickle(filename, pickle_path)"
   ]
  },
  {
   "cell_type": "code",
   "execution_count": 4,
   "metadata": {},
   "outputs": [
    {
     "data": {
      "text/plain": [
       "dict_keys(['text1_prompt00', 'text1_prompt01'])"
      ]
     },
     "execution_count": 4,
     "metadata": {},
     "output_type": "execute_result"
    }
   ],
   "source": [
    "chatbot.keys()"
   ]
  },
  {
   "cell_type": "code",
   "execution_count": 7,
   "metadata": {},
   "outputs": [
    {
     "data": {
      "text/plain": [
       "{1: {'response_01': {0: {'relevance choice': 1,\n",
       "    'relevance task': 'Write this so it is relevant for',\n",
       "    'audience': 'seniors',\n",
       "    'full relevance task': 'Write this so it is relevant for seniors',\n",
       "    'relevance statement': 'A systematic literature review found that increasing sleep duration can have a positive impact on physical performance, even among seniors. Studies have shown that longer sleep duration can improve outcomes requiring cognitive and motor skills, which are important for seniors to maintain their independence and quality of life. Additionally, strategies to improve sleep not only the night before an important event but also in the weeks leading up to it can be beneficial for seniors looking to improve their physical performance. Seniors who prioritize sleep health may see improvements in their overall physical function and well-being. #seniorhealth #sleepduration #physicalperformance #cognitiveskills #sleephealth',\n",
       "    'preceding summary': 'A systematic literature review found that increased sleep duration has a positive effect on athletic performance among competitive athletes. Aerobic activity is more sensitive to sleep duration than anaerobic activity. Studies measuring outcomes requiring tactical and/or technical skills showed benefits of sleep on performance. Longer-term sleep extension was more likely to show an effect than acute sleep interventions. Strategies to improve sleep not only the night before an important sports event but also in the weeks leading up to it are likely to be fruitful in improving performance. Competitive athletes will likely benefit from an increase in sleep duration. #sportsperformance #sleepduration #athletes #competitiveathletes #sleephealth'}},\n",
       "  'response_02': {0: {'relevance choice': 1,\n",
       "    'relevance task': 'Write this so it is relevant for',\n",
       "    'audience': 'seniors',\n",
       "    'full relevance task': 'Write this so it is relevant for seniors',\n",
       "    'relevance statement': '\"Recent research suggests that getting enough sleep can have a positive impact on athletic performance, even for seniors. Studies have shown that longer sleep duration can improve outcomes for activities that require tactical and technical skills. Additionally, aerobic activities may be more sensitive to sleep duration than anaerobic activities. It\\'s important to note that no published studies have shown a negative association between sleep duration and performance outcome. If you\\'re a senior looking to improve your athletic performance, consider prioritizing getting enough sleep. Future research will aim to identify optimal sleep standards for athletes of all ages. #sleep #athleticperformance #seniors #research\"',\n",
       "    'preceding summary': '\"New literature review finds that increased sleep duration has a positive effect on athletic performance among competitive athletes. No published studies showed a negative association between sleep duration and performance outcome. Aerobic activity is more sensitive to sleep duration compared to anaerobic activity. Studies measuring outcomes requiring tactical and/or technical skills found benefits of sleep on performance. Longer-term sleep extension interventions showed positive results for improved performance. Future research should aim to standardize tests of athletic performance and sleep metrics to identify optimal sleep standards for athletes. #sleep #athleticperformance #sports #research\"'}},\n",
       "  'response_03': {0: {'relevance choice': 1,\n",
       "    'relevance task': 'Write this so it is relevant for',\n",
       "    'audience': 'seniors',\n",
       "    'full relevance task': 'Write this so it is relevant for seniors',\n",
       "    'relevance statement': 'A recent study has shown that getting enough sleep can have a positive impact on athletic performance, even for seniors. The study found that sleep duration has a positive or neutral effect on athletic performance among competitive athletes, and this may also apply to seniors who engage in physical activity. Aerobic activity is more sensitive to sleep duration compared to anaerobic activity, which means that seniors who engage in activities like walking or swimming may benefit more from getting enough sleep. Sleep extension interventions have been shown to improve accuracy in sports like tennis and basketball, while sleep deprivation can impair performance in sports like soccer and rugby. Longer-term sleep extension interventions have shown positive results, while acute sleep interventions had inconsistent results. Future research should aim to standardize tests of athletic performance and incorporate more objective sleep data. Seniors who engage in physical activity may benefit from an increase in sleep duration, which can help improve their overall athletic performance. #SeniorFitness #SleepDuration #AthleticPerformance',\n",
       "    'preceding summary': \"A systematic literature review found that sleep duration has a positive or neutral effect on athletic performance among competitive athletes. Aerobic activity is more sensitive to sleep duration compared to anaerobic activity. Sleep extension interventions improved tennis serving and basketball shooting accuracy, while sleep deprivation impaired soccer and rugby players' performance. Longer-term sleep extension interventions showed positive results, while acute sleep interventions had inconsistent results. Future research should aim to standardize tests of athletic performance and incorporate more objective sleep data. Competitive athletes will likely benefit from an increase in sleep duration. #SportsScience #SleepDuration #AthleticPerformance\"}},\n",
       "  'response_04': {0: {'relevance choice': 1,\n",
       "    'relevance task': 'Write this so it is relevant for',\n",
       "    'audience': 'seniors',\n",
       "    'full relevance task': 'Write this so it is relevant for seniors',\n",
       "    'relevance statement': \"Getting enough sleep is important for everyone, including seniors who want to stay active and perform well in their favorite sports or activities. A recent review of studies found that sleep duration has a positive effect on athletic performance, and there was no negative association found between sleep and performance. It's important to note that aerobic activities, like walking or swimming, are more affected by sleep duration than anaerobic activities, like weightlifting. If you're looking to improve your performance, longer-term sleep extension interventions are more likely to be effective than just getting a good night's sleep before an event. Additionally, sleep can improve tactical and technical skills in sports, but team-based sports with decision-based outcomes may suffer performance deficits after decreased sleep duration. So, if you want to perform your best, make sure to prioritize getting enough sleep not just the night before, but also in the weeks leading up to your activity.\",\n",
       "    'preceding summary': 'Sleep duration has a positive effect on athletic performance, according to a literature review of various sports and outcomes. No negative association was found between sleep duration and performance in any of the reviewed studies. Aerobic activity is more sensitive to sleep duration compared to anaerobic activity. Longer-term sleep extension interventions were more likely to show an effect on performance than acute sleep interventions. Tactical and technical skills in sports benefit from sleep, while team-based sports with decision-based outcomes suffer performance deficits after decreased sleep duration. Strategies to improve sleep, not just the night before an event, but also in the weeks leading up to it, are likely to improve performance.'}},\n",
       "  'response_05': {0: {'relevance choice': 1,\n",
       "    'relevance task': 'Write this so it is relevant for',\n",
       "    'audience': 'seniors',\n",
       "    'full relevance task': 'Write this so it is relevant for seniors',\n",
       "    'relevance statement': 'Getting enough sleep is important for everyone, including seniors. A recent review of scientific studies found that getting enough sleep can positively impact athletic performance among competitive athletes. The studies showed that longer sleep duration can improve performance outcomes, especially for activities that require technical and tactical skills. Aerobic activity is also more sensitive to sleep duration than anaerobic activity. The review also found that longer-term sleep extension interventions showed positive results, while short-term sleep deprivation may be more harmful than sleep extension is beneficial to performance. These findings suggest that increasing sleep duration can benefit seniors who want to maintain their physical abilities and overall health. However, more research is needed to determine potential adverse effects of chronic sleep loss on athletic performance among seniors.',\n",
       "    'preceding summary': '\"Sleep duration positively impacts athletic performance among competitive athletes, according to a systematic literature review. None of the studies reviewed found a negative association between sleep duration and performance outcomes. Aerobic activity is more sensitive to sleep duration than anaerobic activity, and studies measuring outcomes requiring technical and tactical skills found benefits of sleep on performance. Longer-term sleep extension interventions showed positive results, while short-term sleep deprivation may be more harmful than sleep extension is beneficial to performance. More research is needed to determine potential adverse effects of chronic sleep loss on athletic performance. These findings suggest that increasing sleep duration can benefit competitive athletes.\"'}}},\n",
       " 2: {'response_01': {0: {'relevance choice': 1,\n",
       "    'relevance task': 'Write this so it is relevant for',\n",
       "    'audience': 'people new to resistance training',\n",
       "    'full relevance task': 'Write this so it is relevant for people new to resistance training',\n",
       "    'relevance statement': \"If you're new to resistance training, you might be wondering how to optimize your performance and get the most out of your workouts. Well, a recent review of scientific studies found that getting enough sleep can have a positive impact on athletic performance, especially for aerobic activities. This means that if you're looking to improve your endurance and stamina during your resistance training sessions, it's important to prioritize getting enough sleep. Additionally, studies have shown that longer-term sleep extension (i.e. consistently getting more sleep over time) is more effective than just trying to catch up on sleep the night before a big workout. So, if you're serious about improving your resistance training performance, consider making sleep a priority in the weeks leading up to your workouts. #resistancetraining #sleepduration #athleticperformance #sleephealth\",\n",
       "    'preceding summary': 'A systematic literature review found that increased sleep duration has a positive effect on athletic performance among competitive athletes. Aerobic activity is more sensitive to sleep duration than anaerobic activity. Studies measuring outcomes requiring tactical and/or technical skills showed benefits of sleep on performance. Longer-term sleep extension was more likely to show an effect than acute sleep interventions. Strategies to improve sleep not only the night before an important sports event but also in the weeks leading up to it are likely to be fruitful in improving performance. Competitive athletes will likely benefit from an increase in sleep duration. #sportsperformance #sleepduration #athletes #competitiveathletes #sleephealth'}},\n",
       "  'response_02': {0: {'relevance choice': 1,\n",
       "    'relevance task': 'Write this so it is relevant for',\n",
       "    'audience': 'people new to resistance training',\n",
       "    'full relevance task': 'Write this so it is relevant for people new to resistance training',\n",
       "    'relevance statement': \"A recent review of scientific literature has found that getting enough sleep can have a positive impact on athletic performance, even for those who are new to resistance training. The review found that longer sleep duration was associated with better performance outcomes, and no studies showed a negative association between sleep and performance. While aerobic activity was found to be more sensitive to sleep duration than anaerobic activity, studies measuring outcomes requiring tactical and technical skills also found benefits of sleep on performance. Additionally, longer-term sleep extension interventions showed positive results for improved performance. As a beginner in resistance training, it's important to prioritize getting enough sleep to optimize your performance and results. Future research should aim to standardize tests of athletic performance and sleep metrics to identify optimal sleep standards for athletes of all levels. #sleep #athleticperformance #resistancetraining #research\",\n",
       "    'preceding summary': '\"New literature review finds that increased sleep duration has a positive effect on athletic performance among competitive athletes. No published studies showed a negative association between sleep duration and performance outcome. Aerobic activity is more sensitive to sleep duration compared to anaerobic activity. Studies measuring outcomes requiring tactical and/or technical skills found benefits of sleep on performance. Longer-term sleep extension interventions showed positive results for improved performance. Future research should aim to standardize tests of athletic performance and sleep metrics to identify optimal sleep standards for athletes. #sleep #athleticperformance #sports #research\"'}},\n",
       "  'response_03': {0: {'relevance choice': 1,\n",
       "    'relevance task': 'Write this so it is relevant for',\n",
       "    'audience': 'people new to resistance training',\n",
       "    'full relevance task': 'Write this so it is relevant for people new to resistance training',\n",
       "    'relevance statement': \"A recent study found that getting enough sleep can have a positive impact on athletic performance, even for those new to resistance training. The study showed that aerobic exercises, like running or cycling, are more affected by sleep duration than anaerobic exercises, like weightlifting. In fact, increasing sleep duration has been shown to improve accuracy in sports like basketball and tennis. On the other hand, sleep deprivation can negatively impact performance in sports like soccer and rugby. It's important to note that longer-term sleep extension interventions have shown the most positive results, while short-term interventions have been inconsistent. If you're new to resistance training, getting enough sleep can help you perform better and see better results. So, make sure to prioritize sleep as part of your training routine. #SleepAndFitness #AthleticPerformance #ResistanceTraining\",\n",
       "    'preceding summary': \"A systematic literature review found that sleep duration has a positive or neutral effect on athletic performance among competitive athletes. Aerobic activity is more sensitive to sleep duration compared to anaerobic activity. Sleep extension interventions improved tennis serving and basketball shooting accuracy, while sleep deprivation impaired soccer and rugby players' performance. Longer-term sleep extension interventions showed positive results, while acute sleep interventions had inconsistent results. Future research should aim to standardize tests of athletic performance and incorporate more objective sleep data. Competitive athletes will likely benefit from an increase in sleep duration. #SportsScience #SleepDuration #AthleticPerformance\"}},\n",
       "  'response_04': {0: {'relevance choice': 1,\n",
       "    'relevance task': 'Write this so it is relevant for',\n",
       "    'audience': 'people new to resistance training',\n",
       "    'full relevance task': 'Write this so it is relevant for people new to resistance training',\n",
       "    'relevance statement': \"Getting enough sleep is important for athletic performance, even when it comes to resistance training. Studies have shown that sleep duration has a positive effect on performance in various sports, including resistance training. In fact, not getting enough sleep can negatively impact your performance. Aerobic activity is more sensitive to sleep duration compared to anaerobic activity, which means that getting enough sleep is especially important for cardio-focused workouts. Longer-term sleep extension interventions were more likely to show an effect on performance than acute sleep interventions, so it's important to prioritize consistent, quality sleep over occasional all-nighters. Sleep also plays a role in tactical and technical skills in sports, which can be especially important for resistance training. However, team-based sports with decision-based outcomes suffer performance deficits after decreased sleep duration, so it's important to prioritize sleep leading up to any team-based events. Strategies to improve sleep, not just the night before a resistance training session, but also in the weeks leading up to it, are likely to improve performance.\",\n",
       "    'preceding summary': 'Sleep duration has a positive effect on athletic performance, according to a literature review of various sports and outcomes. No negative association was found between sleep duration and performance in any of the reviewed studies. Aerobic activity is more sensitive to sleep duration compared to anaerobic activity. Longer-term sleep extension interventions were more likely to show an effect on performance than acute sleep interventions. Tactical and technical skills in sports benefit from sleep, while team-based sports with decision-based outcomes suffer performance deficits after decreased sleep duration. Strategies to improve sleep, not just the night before an event, but also in the weeks leading up to it, are likely to improve performance.'}},\n",
       "  'response_05': {0: {'relevance choice': 1,\n",
       "    'relevance task': 'Write this so it is relevant for',\n",
       "    'audience': 'people new to resistance training',\n",
       "    'full relevance task': 'Write this so it is relevant for people new to resistance training',\n",
       "    'relevance statement': \"Getting enough sleep is important for athletes, including those who are new to resistance training. A recent review of studies found that sleep duration has a positive impact on athletic performance, and none of the studies found a negative association between sleep duration and performance outcomes. While aerobic activity is more sensitive to sleep duration than anaerobic activity, studies measuring outcomes requiring technical and tactical skills found benefits of sleep on performance. Longer-term sleep extension interventions showed positive results, while short-term sleep deprivation may be more harmful than sleep extension is beneficial to performance. It's important to note that more research is needed to determine potential adverse effects of chronic sleep loss on athletic performance. These findings suggest that increasing sleep duration can benefit athletes, including those who are new to resistance training.\",\n",
       "    'preceding summary': '\"Sleep duration positively impacts athletic performance among competitive athletes, according to a systematic literature review. None of the studies reviewed found a negative association between sleep duration and performance outcomes. Aerobic activity is more sensitive to sleep duration than anaerobic activity, and studies measuring outcomes requiring technical and tactical skills found benefits of sleep on performance. Longer-term sleep extension interventions showed positive results, while short-term sleep deprivation may be more harmful than sleep extension is beneficial to performance. More research is needed to determine potential adverse effects of chronic sleep loss on athletic performance. These findings suggest that increasing sleep duration can benefit competitive athletes.\"'}}}}"
      ]
     },
     "execution_count": 7,
     "metadata": {},
     "output_type": "execute_result"
    }
   ],
   "source": [
    "chatbot['text1_prompt00']['relevance_dict']"
   ]
  },
  {
   "cell_type": "code",
   "execution_count": 8,
   "metadata": {},
   "outputs": [
    {
     "name": "stdout",
     "output_type": "stream",
     "text": [
      "Object saved as JSON: batch_Chaining_attributes_relevance_2023-04-21_0027.json.json\n"
     ]
    }
   ],
   "source": [
    "save_to_json(\n",
    "    chatbot, 'batch_Chaining_attributes_relevance_2023-04-21_0027.json', \n",
    "    description=None,\n",
    "    )"
   ]
  },
  {
   "cell_type": "code",
   "execution_count": null,
   "metadata": {},
   "outputs": [],
   "source": []
  },
  {
   "cell_type": "code",
   "execution_count": null,
   "metadata": {},
   "outputs": [],
   "source": []
  },
  {
   "cell_type": "code",
   "execution_count": null,
   "metadata": {},
   "outputs": [],
   "source": []
  },
  {
   "cell_type": "code",
   "execution_count": null,
   "metadata": {},
   "outputs": [],
   "source": []
  },
  {
   "cell_type": "code",
   "execution_count": null,
   "metadata": {},
   "outputs": [],
   "source": []
  },
  {
   "cell_type": "code",
   "execution_count": null,
   "metadata": {},
   "outputs": [],
   "source": []
  },
  {
   "cell_type": "code",
   "execution_count": null,
   "metadata": {},
   "outputs": [],
   "source": []
  },
  {
   "cell_type": "code",
   "execution_count": null,
   "metadata": {},
   "outputs": [],
   "source": []
  },
  {
   "cell_type": "code",
   "execution_count": null,
   "metadata": {},
   "outputs": [],
   "source": []
  },
  {
   "cell_type": "code",
   "execution_count": null,
   "metadata": {},
   "outputs": [],
   "source": []
  },
  {
   "cell_type": "code",
   "execution_count": null,
   "metadata": {},
   "outputs": [],
   "source": []
  },
  {
   "cell_type": "code",
   "execution_count": null,
   "metadata": {},
   "outputs": [],
   "source": []
  },
  {
   "cell_type": "code",
   "execution_count": null,
   "metadata": {},
   "outputs": [],
   "source": []
  },
  {
   "cell_type": "code",
   "execution_count": null,
   "metadata": {},
   "outputs": [],
   "source": []
  },
  {
   "cell_type": "code",
   "execution_count": null,
   "metadata": {},
   "outputs": [],
   "source": []
  },
  {
   "cell_type": "markdown",
   "metadata": {},
   "source": [
    "# *End of Page*"
   ]
  }
 ],
 "metadata": {
  "kernelspec": {
   "display_name": "Python 3.9.13 64-bit",
   "language": "python",
   "name": "python3"
  },
  "language_info": {
   "codemirror_mode": {
    "name": "ipython",
    "version": 3
   },
   "file_extension": ".py",
   "mimetype": "text/x-python",
   "name": "python",
   "nbconvert_exporter": "python",
   "pygments_lexer": "ipython3",
   "version": "3.9.16"
  },
  "orig_nbformat": 4,
  "vscode": {
   "interpreter": {
    "hash": "11938c6bc6919ae2720b4d5011047913343b08a43b18698fd82dedb0d4417594"
   }
  }
 },
 "nbformat": 4,
 "nbformat_minor": 2
}
