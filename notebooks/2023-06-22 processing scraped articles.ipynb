{
 "cells": [
  {
   "attachments": {},
   "cell_type": "markdown",
   "metadata": {},
   "source": [
    "# Title\n",
    "[]()"
   ]
  },
  {
   "cell_type": "code",
   "execution_count": 1,
   "metadata": {},
   "outputs": [],
   "source": [
    "\n",
    "import pandas as pd\n",
    "import sys\n",
    "import os\n",
    "sys.path.append(r\"C:\\Users\\silvh\\OneDrive\\lighthouse\\custom_python\")\n",
    "sys.path.append(r\"C:\\Users\\silvh\\OneDrive\\lighthouse\\Ginkgo coding\\content-summarization\\src\")\n",
    "from file_functions import *\n",
    "# import time\n",
    "import re\n",
    "\n",
    "# from response_processing import *\n",
    "# from article_processing import create_text_dict_from_folder\n",
    "# import traceback\n",
    "from file_functions import *\n",
    "\n",
    "from IPython import display"
   ]
  },
  {
   "cell_type": "code",
   "execution_count": 3,
   "metadata": {},
   "outputs": [],
   "source": [
    "# set the option to wrap text within cells\n",
    "pd.set_option('display.max_colwidth', 100)\n",
    "pd.set_option('display.max_rows', 20)\n",
    "pd.set_option('display.max_columns', None)\n",
    "pd.set_option('display.width', None)"
   ]
  },
  {
   "attachments": {},
   "cell_type": "markdown",
   "metadata": {},
   "source": [
    "# Load scraped article_dict"
   ]
  },
  {
   "cell_type": "code",
   "execution_count": 3,
   "metadata": {},
   "outputs": [
    {
     "name": "stdout",
     "output_type": "stream",
     "text": [
      "\tTime completed: 2023-06-22 16:02:29.610204\n",
      "Dictionary keys: [1.0, 1.01, 1.02, 1.03, 1.04, 1.05, 1.06, 1.07, 1.08, 1.09, 1.1, 1.11, 1.12, 1.13, 1.14, 1.15, 1.16, 1.17, 1.18, 1.19, 1.2, 1.21, 1.22, 1.23, 1.24, 1.25, 1.26, 1.27, 1.28, 1.29, 1.3, 1.31, 1.32, 1.33, 1.34, 1.35, 1.36, 1.37, 1.38, 1.39, 1.4, 3.0, 3.01, 3.02, 3.03, 3.04, 3.05, 3.06, 3.07, 3.08, 3.09, 3.1, 3.11, 3.12, 3.13, 3.14, 3.15, 3.16, 3.17, 3.18, 3.19, 3.2, 3.21, 3.22, 3.23, 3.24, 3.25, 3.26, 1.41, 1.42, 1.43, 1.44, 1.45, 1.46, 1.47, 1.48, 1.49, 3.27, 3.28, 3.29, 0.0, 0.01, 0.02, 0.03, 0.04, 0.05, 0.06, 0.07, 0.08, 0.09, 0.1, 0.11, 0.12, 0.13, 0.14, 0.15, 0.16, 0.17, 0.18, 0.19, 0.2, 0.21, 0.22, 0.23, 0.24, 0.25, 0.26, 0.27, 0.28, 0.29, 2.0, 2.01, 2.02, 2.03, 2.04, 2.05, 2.06, 2.07, 2.08, 2.09]\n"
     ]
    }
   ],
   "source": [
    "path = '../web_articles/2023-06-21'\n",
    "article_dict = loadpickle('scraped_articles_dict_2023-06-21_2136.sav', path)"
   ]
  },
  {
   "attachments": {},
   "cell_type": "markdown",
   "metadata": {},
   "source": [
    "## test_article_dict"
   ]
  },
  {
   "cell_type": "code",
   "execution_count": 47,
   "metadata": {},
   "outputs": [
    {
     "data": {
      "text/plain": [
       "dict_keys([1.11, 1.12])"
      ]
     },
     "execution_count": 47,
     "metadata": {},
     "output_type": "execute_result"
    }
   ],
   "source": [
    "test_article_dict = {\n",
    "    1.11: article_dict[1.11], \n",
    "    1.12: article_dict[1.12]\n",
    "    }\n",
    "test_article_dict.keys()"
   ]
  },
  {
   "attachments": {},
   "cell_type": "markdown",
   "metadata": {},
   "source": [
    "## `partial_article_dict` function"
   ]
  },
  {
   "cell_type": "code",
   "execution_count": 21,
   "metadata": {},
   "outputs": [
    {
     "name": "stdout",
     "output_type": "stream",
     "text": [
      "Keys for article_dict: [0.0, 0.01, 1.0, 1.01, 2.0, 2.01, 3.0, 3.01]\n",
      "Journals:\n",
      "\tBMJ Open\n",
      "\tJournal of Medical Internet Research\n",
      "\tPLOS Medicine\n",
      "\tPLOS One\n"
     ]
    }
   ],
   "source": [
    "def create_partial_article_dict(article_dict, n_articles=2, journals='all'):\n",
    "    \"\"\"\n",
    "    Creates a partial article dictionary from the full article dictionary.\n",
    "    \n",
    "    Args:\n",
    "        article_dict (dict): The full article dictionary.\n",
    "        n_articles (int, optional): The number of articles per journal to include in the partial dictionary.\n",
    "            Defaults to 2.\n",
    "        journals ('all', int, or list, optional): The integers of the journals to include in the partial dictionary.\n",
    "            Defaults to 'all'.\n",
    "    \n",
    "    Returns:\n",
    "        dict: A partial article dictionary.\n",
    "    \"\"\"\n",
    "    if journals == 'all':\n",
    "        journals = list(set([key//1 for key in article_dict.keys()]))\n",
    "    elif (type(journals) == float) or (type(journals) == int):\n",
    "        journals = [journals]\n",
    "    article_dict = {\n",
    "        key: article_dict[key] for key in article_dict.keys() if \\\n",
    "        (key//1 in journals) and (key - int(key) < n_articles/100)\n",
    "        }\n",
    "    print(f'Keys for article_dict: {[key for key in sorted(article_dict.keys())]}')\n",
    "    journals = [journal for journal in set([key[\"journal\"] for key in article_dict.values()])]\n",
    "    print('Journals:')\n",
    "    for journal in journals:\n",
    "        print(f'\\t{journal}')\n",
    "    return article_dict\n",
    "\n",
    "partial_article_dict = dict()\n",
    "test_id = 1\n",
    "partial_article_dict[test_id] = create_partial_article_dict(article_dict, n_articles=2, journals='all')"
   ]
  },
  {
   "cell_type": "code",
   "execution_count": 22,
   "metadata": {},
   "outputs": [
    {
     "name": "stdout",
     "output_type": "stream",
     "text": [
      "Keys for article_dict: [2.0, 2.01]\n",
      "Journals:\n",
      "\tJournal of Medical Internet Research\n"
     ]
    }
   ],
   "source": [
    "\n",
    "test_id = 2\n",
    "partial_article_dict[test_id] = create_partial_article_dict(article_dict, n_articles=2, journals=2)"
   ]
  },
  {
   "attachments": {},
   "cell_type": "markdown",
   "metadata": {},
   "source": [
    "# Iteration 1 trim_text"
   ]
  },
  {
   "cell_type": "code",
   "execution_count": 22,
   "metadata": {},
   "outputs": [
    {
     "name": "stdout",
     "output_type": "stream",
     "text": [
      "Regex patterns: \n",
      "\t.*<h2>Abstract</h2>.*(?:Introduction.*)?(<h2.*?>Introduction</h2>.*References)<.*\n",
      "\t.*(<h2>Abstract</h2>.*(?:Introduction.*)?)<h2.*?>Introduction</h2>.*References<.*\n",
      "text_dict keys: [1.11, 1.12]\n"
     ]
    },
    {
     "data": {
      "text/html": [
       "<h2>Abstract</h2>\n",
       "<p id=\"p-2\"><strong>Objectives</strong> To systematically synthesise the results of primary qualitative studies on how community-dwelling older adults experience shared decision-making processes, express preferences and actively participate in care.</p>\n",
       "<p id=\"p-3\"><strong>Design</strong> Systematic review of qualitative studies and qualitative meta-synthesis.</p>\n",
       "<p id=\"p-4\"><strong>Methods</strong> We focused on studies about community-dwelling participants aged ≥65 undergoing a health-disease process circumscribed to a primary healthcare setting, and the central theme should focus on either shared decision-making, expressing preferences or patient participation. We searched the following databases: MEDLINE, CINAHL, Web of Science, Scopus and PsycINFO (time publication frame 2012–2022). We excluded studies in those cases where the qualitative results were not analysed or unrelated to the phenomenon addressed, phenomena were not clear enough to be included or the setting did not occur in the community.</p>\n",
       "<p id=\"p-5\"><strong>Results</strong> A total of 12 studies were included in this meta-synthesis. We appraised the quality of the selected studies through Critical Appraisal Skills Programme (CASP) Checklist. The metasummary comprised the frequency and intensity of qualitative patterns across the included studies. The meta-synthesis revealed four influential elements in their interaction: recognising personal qualities, facing professional characteristics, experiences of discrimination and a double-edged context.</p>\n",
       "<p id=\"p-6\"><strong>Conclusions</strong> The phenomena studied were influenced by how older people approached their role in their binomial relationship with healthcare professionals. Those with a reinforced self-concept were better aware of health-disease-related situations regarding shared decision-making and the importance of being communicatively assertive. Professional characteristics were also crucial in how older people modulated their acting ability through their personality, communication skills and the approach healthcare professionals used towards older adults. Situations of discrimination generated through an imbalance of power inhibited the expression of preferences and hindered the active participation of older people. The context surrounding the participants influenced all these situations, key in tipping the balance between a therapeutic and a harmful side.</p>\n",
       "<p id=\"p-7\"><strong>PROSPERO registration number</strong> CRD42022363515.</p>\n",
       "<h2 class=\"\">Data availability statement</h2>\n",
       "<p id=\"p-120\">All data relevant to the study are included in the article or uploaded as supplementary information.</p>\n",
       "<p id=\"p-1\">This is an open access article distributed in accordance with the Creative Commons Attribution Non Commercial (CC BY-NC 4.0) license, which permits others to distribute, remix, adapt, build upon this work non-commercially, and license their derivative works on different terms, provided the original work is properly cited, appropriate credit is given, any changes made indicated, and the use is non-commercial. See: <a href=\"http://creativecommons.org/licenses/by-nc/4.0/\" rel=\"license\">http://creativecommons.org/licenses/by-nc/4.0/</a>.</p>\n",
       "<p><a href=\"http://dx.doi.org/10.1136/bmjopen-2022-071549\" target=\"_new\">http://dx.doi.org/10.1136/bmjopen-2022-071549</a></p>\n",
       "<h2 class=\"pane-title\">Statistics from Altmetric.com</h2>\n",
       "<h2 class=\"pane-title\">Request Permissions</h2>\n",
       "<p>If you wish to reuse any or all of this article please use the link below which will take you to the Copyright Clearance Center’s RightsLink service. You will be able to get a quick price and instant permission to reuse the content in many different ways.</p>\n",
       "<h2 class=\"pane-title\"><span class=\"panels-ajax-pane-title\" data-pid=\"new-70fd4c70-563e-4b94-ae3b-2a97f3980c13\"></span></h2>\n",
       "<h3>Strengths and limitations of this study</h3>\n",
       "<p id=\"p-8\">This is the first meta-synthesis of qualitative research exploring in a joint perspective the phenomena of shared decision-making, the expression of preferences and active participation in older people living in the community.</p>\n",
       "<p id=\"p-9\">The synthesis identifies core overarching elements that facilitate understanding the factors that originate, influence and condition the phenomena of study.</p>\n",
       "<p id=\"p-10\">The synthesis highlights the importance of balancing power relations between older people and healthcare professionals so that real situations of shared decision-making, expression of preferences and active participation emerge.</p>\n",
       "<p id=\"p-11\">Some studies constituting the synthesis have a limited methodological description, and an attempt was made to balance this by clearly and concisely organising their data.</p>\n"
      ],
      "text/plain": [
       "<IPython.core.display.HTML object>"
      ]
     },
     "execution_count": 22,
     "metadata": {},
     "output_type": "execute_result"
    }
   ],
   "source": [
    "from IPython import display\n",
    "\n",
    "def trim_text(text, article_regex=None, abs_regex=None):\n",
    "    if article_regex==None:\n",
    "        article_regex = '.*<h2>Abstract</h2>.*(?:Introduction.*)?(<h2.*?>Introduction</h2>.*References)<.*' \n",
    "        abs_regex = '.*(<h2>Abstract</h2>.*(?:Introduction.*)?)<h2.*?>Introduction</h2>.*References<.*' \n",
    "    try:\n",
    "        body = re.search(article_regex, text, re.DOTALL).group(1)\n",
    "        abstract = re.search(abs_regex, text, re.DOTALL).group(1)\n",
    "        article_display = display.HTML(body)\n",
    "        abs_display = display.HTML(abstract)\n",
    "    except Exception as error: \n",
    "        exc_type, exc_obj, tb = sys.exc_info()\n",
    "        file = tb.tb_frame\n",
    "        lineno = tb.tb_lineno\n",
    "        filename = file.f_code.co_filename\n",
    "        print(f'An error occurred on line {lineno} in {filename}: {error}')    \n",
    "        print('Unable to parse article text')\n",
    "        body = '<Error parsing article text>' \n",
    "        article_display = body\n",
    "        abs_display = abstract\n",
    "    processed_article = {\n",
    "        'abstract': abstract,\n",
    "        'body': body,\n",
    "    }\n",
    "    display_dict = {\n",
    "        'article_display': article_display,\n",
    "        'abs_display': abs_display\n",
    "    }\n",
    "    return processed_article, display_dict\n",
    "\n",
    "def text_dict_from_web(article_dict, header=2, to_display=0.01,\n",
    "        article_regex_str='.*<h\\d>Abstract</h\\d>.*(?:Introduction.*)?(<h\\d.*?>Introduction</h\\d>.*References)<.*',\n",
    "        abs_regex_str='.*(<h\\d>Abstract</h\\d>.*(?:Introduction.*)?)<h\\d.*?>Introduction</h\\d>.*References<.*'\n",
    "        ):\n",
    "    \"\"\"\n",
    "    Create a text dictionary from a dictionary containing web-scraped articles.\n",
    "\n",
    "    Parameters:\n",
    "        article_dict (dict): Values of each dictionary item are a dictionary representing the data from a \n",
    "            single article: 'url', 'text', and 'title'.\n",
    "\n",
    "    Returns:\n",
    "        text_dict: Dictionary where each item is a string of the text of an article, starting with the title.\n",
    "    \"\"\"\n",
    "    article_regex_str = article_regex_str.replace('\\d', f'{header}')\n",
    "    abs_regex_str = abs_regex_str.replace('\\d', f'{header}')\n",
    "    article_regex = rf'{article_regex_str}'\n",
    "    abs_regex = rf'{abs_regex_str}'\n",
    "    print(f'Regex patterns: \\n\\t{article_regex}\\n\\t{abs_regex}')\n",
    "    text_dict = dict()\n",
    "    display_dict = dict()\n",
    "    if (type(to_display) == int) or (type(to_display) == float):\n",
    "        to_display = [to_display] \n",
    "    for article_key in article_dict:\n",
    "        trimmed_text, display = trim_text(article_dict[article_key]['text'], article_regex, abs_regex)\n",
    "        text_dict[article_key] = {\n",
    "            'title': article_dict[article_key]['title'],\n",
    "            'body': f\"{article_dict[article_key]['title']}\\n\\n{trimmed_text['body']}\",\n",
    "            'abstract': trimmed_text['abstract'],\n",
    "        }\n",
    "        if (to_display == 'all') or (to_display == None) or (article_key in to_display):\n",
    "            display_dict[article_key] = {\n",
    "                'abstract': display['abs_display'],\n",
    "                'body': display['article_display']\n",
    "            }\n",
    "    print(f'text_dict keys: {[key for key in text_dict.keys()]}')\n",
    "    return text_dict, display_dict\n",
    "\n",
    "\n",
    "text_dict, display_dict = text_dict_from_web(test_article_dict, to_display='all')\n",
    "display_dict[1.11]['abstract']\n",
    "\n"
   ]
  },
  {
   "attachments": {},
   "cell_type": "markdown",
   "metadata": {},
   "source": [
    "## article body 1.11"
   ]
  },
  {
   "cell_type": "code",
   "execution_count": 23,
   "metadata": {},
   "outputs": [
    {
     "data": {
      "text/html": [
       "<h2 class=\"\">Introduction</h2>\n",
       "<p id=\"p-12\">In the <em>World report on ageing and health</em>, the WHO stated that older people are expected to have a high use of health services due to the impact of multimorbidity on their abilities.<a id=\"xref-ref-1-1\" class=\"xref-bibr\" href=\"#ref-1\">1</a> Following this statement, those health systems that care for older adults by taking their needs into account do so more effectively than those that only consider specific diseases separately as a reference in their care. Respecting older adults' autonomy and control, privacy, communication and identity is a way of meeting their dignity needs.<a id=\"xref-ref-2-1\" class=\"xref-bibr\" href=\"#ref-2\">2 3</a> Therefore, ensuring processes that manage effective and dignified primary care for older people seems crucial. However, unlike other population groups, these processes are often blurred in pursuit of an ageist conception through which older adults are considered people who, by definition, are incapable or cannot manage their care.<a id=\"xref-ref-4-1\" class=\"xref-bibr\" href=\"#ref-4\">4–6</a> This ageism undermines care based on respect and inhibits the active involvement of older adults.<a id=\"xref-ref-7-1\" class=\"xref-bibr\" href=\"#ref-7\">7</a> Within those effective and dignified processes that could represent a solution against ageism are shared decision-making, expressing preferences about care and engaging in active participation.<a id=\"xref-ref-8-1\" class=\"xref-bibr\" href=\"#ref-8\">8–10</a></p>\n",
       "<h3>Shared decision-making: a kind of controversial performance</h3>\n",
       "<p id=\"p-13\">Regarding the first of them, we understand shared decision-making as a process based on choice, option and decision talk, whose steps are: (1) introduce the choice, (2) describe options and (3) help the patient explore their preferences and make decisions.<a id=\"xref-ref-11-1\" class=\"xref-bibr\" href=\"#ref-11\">11 12</a></p>\n",
       "<p id=\"p-14\">These shared decisions can occur in a wide range of possibilities, from those dealing with clinical issues to others choosing to stay at home.<a id=\"xref-ref-13-1\" class=\"xref-bibr\" href=\"#ref-13\">13</a> However, this concept remains controversial today because older patients often need more confidence to decide. This is hindered by insufficient or poor-quality information, adding to the issue that there are times when healthcare professionals do not include older people in the decision-making process.<a id=\"xref-ref-14-1\" class=\"xref-bibr\" href=\"#ref-14\">14</a> Therefore, robust communication between healthcare professionals and the older patient and cohesive teamwork that creates an environment of security and trust are needed for this process to occur authentically and therapeutically.<a id=\"xref-ref-15-1\" class=\"xref-bibr\" href=\"#ref-15\">15</a></p>\n",
       "<h3>Expressing preferences=boosting autonomy</h3>\n",
       "<p id=\"p-15\">Incorporating patient preferences when designing or organising treatments is beneficial, according to Swift <em>et al</em>.<a id=\"xref-ref-16-1\" class=\"xref-bibr\" href=\"#ref-16\">16</a> Similarly, fleeing from a merely positivist plane, listening to and introducing the preferences of patients into the modus operandi of healthcare professionals not only personalises medical treatment and nursing care but also validates and reinforces the self-concept of the older person, in addition to giving them a role of active agency, facilitating emotional relief and supporting their autonomy.<a id=\"xref-ref-17-1\" class=\"xref-bibr\" href=\"#ref-17\">17 18</a> This process is connected to the previous one of shared decision-making because when older patients decide freely, they have previously done so based on a preference.</p>\n",
       "<h3>Active participation: a meeting point</h3>\n",
       "<p id=\"p-16\">Knowledge of the preferences of older patients and their tailoring in the decision-making process is crucial to stimulate active participation.<a id=\"xref-ref-19-1\" class=\"xref-bibr\" href=\"#ref-19\">19 20</a> This active participation is considered one of the critical features for health intervention in older people to be effective, potentially alleviating even negative sensations derived from managing situations of illness.<a id=\"xref-ref-21-1\" class=\"xref-bibr\" href=\"#ref-21\">21</a> The patient’s participation in a health environment refers to actively collaborating in the care process with the health professional. This contribution can be performed by asking questions, expressing concerns or expressing preferences.<a id=\"xref-ref-22-1\" class=\"xref-bibr\" href=\"#ref-22\">22</a> The patient’s active participation is also considered part of patient-centred care and a requirement to conduct shared decision-making.<a id=\"xref-ref-23-1\" class=\"xref-bibr\" href=\"#ref-23\">23</a></p>\n",
       "<h3>Integrating shared decision-making, expressing preferences and active participation of older adults in primary care nursing</h3>\n",
       "<p id=\"p-17\">As the evidence has shown, these three processes are closely related and can even be interpreted as dependent on each other: to reach shared decision-making, it becomes necessary to express preferences and, in turn, deciding is already participating in some process. Integrating these phenomena can capture a deeper understanding of, on the one hand, how they inter-relate and what shapes them in the case of older adults.</p>\n",
       "<p id=\"p-18\">On the other hand, this discovery would reveal which communicative elements become essential in the health-disease process of older adults, thus helping to adapt specific decision-making approaches in primary care situations.<a id=\"xref-ref-24-1\" class=\"xref-bibr\" href=\"#ref-24\">24</a></p>\n",
       "<p id=\"p-19\">The term health-disease process refers to the sociocultural construction through which the individual experiences the moment of illness as a temporary transit that influences roles, expectations, representations and health behaviours uniquely and dynamically.<a id=\"xref-ref-25-1\" class=\"xref-bibr\" href=\"#ref-25\">25</a> Thus, realising this study would also help develop specific approaches to handle this construct by identifying the determinants and elements that condition these experiences.<a id=\"xref-ref-26-1\" class=\"xref-bibr\" href=\"#ref-26\">26</a></p>\n",
       "<p id=\"p-20\">In this way, addressing shared decision-making, expressing preferences and active participation in community-dwelling older adults, from the integrating approach of a qualitative meta-synthesis, may result in a new contribution to how a relationship based on respect and dignity of older adults emerge, contributing to avoiding ageist attitudes still present on the part of healthcare professionals.<a id=\"xref-ref-27-1\" class=\"xref-bibr\" href=\"#ref-27\">27 28</a></p>\n",
       "<p id=\"p-21\">Finally, considering the roadmap set by the WHO’s report for the Decade of Healthy Ageing 2021–2030,<a id=\"xref-ref-29-1\" class=\"xref-bibr\" href=\"#ref-29\">29</a> the purpose of the present qualitative synthesis was to systematically synthesise the results of primary qualitative studies on how community-dwelling older adults experience shared decision-making processes, express preferences and actively participate in care. In addition, we aim to synthesise what elements shape their appearance, inter-relation and how they condition the healthcare professional–older patient relationships.</p>\n",
       "<h2 class=\"\">Methods</h2>\n",
       "<h3>Design</h3>\n",
       "<p id=\"p-22\">Sandelowski and Barroso define qualitative research synthesis as a process and a product of scientific inquiry whose purpose is to systematically review and formally integrate the findings from completed qualitative studies.<a id=\"xref-ref-30-1\" class=\"xref-bibr\" href=\"#ref-30\">30</a> Within qualitative research synthesis, there are a variety of methodological approaches.</p>\n",
       "<p id=\"p-23\">First, we performed a meta-summary of effect sizes approach. We did this to obtain an empirical foundation for a subsequent qualitative meta-synthesis since we handled a collection of qualitative studies to determine the frequency and intensity of qualitative patterns intrastudy and across studies.<a id=\"xref-ref-30-2\" class=\"xref-bibr\" href=\"#ref-30\">30 31</a></p>\n",
       "<p id=\"p-24\">Second, and once we fulfilled the meta-summary of effect sizes, we conducted a qualitative meta-synthesis approach, since we analysed qualitative data across the selected studies, thus appraising, summarising and combining qualitative evidence to address the research question and, therefore, offering a novel interpretation of how shared decision-making, expressing preferences and active participation relate in the health-disease process of community-dwelling older adults.<a id=\"xref-ref-30-3\" class=\"xref-bibr\" href=\"#ref-30\">30 31</a> To address the part corresponding to the meta-synthesis, we approached Noblit and Hare’s meta-ethnography<a id=\"xref-ref-32-1\" class=\"xref-bibr\" href=\"#ref-32\">32</a> since it implies an interpretation similar to the qualitative methods of the studies we intended to synthesise. To do this, we adopted their main feature of reciprocal translation.<a id=\"xref-ref-32-2\" class=\"xref-bibr\" href=\"#ref-32\">32</a> This synthesising technique aims to retain the particularity of the primary results even when they are synthesised and treat the original interpretations and explanations as data being translated across several studies to produce a synthesis.</p>\n",
       "<p id=\"p-25\">We then share the notion about the qualitative meta-synthesis as something more than the sum of its parts, going beyond the primary interpretations from the selected studies, thus developing new contributions. This applies to our goal to synthesise and deliver a new interpretation of how the moment of shared decision-making appears in older patients in a community setting, how this is interrelated with expressing their preferences, and how it could be translated to patient participation. In addition, we maintained an explicit focus on contrasting and determining the elements that shaped the course of the study phenomenon.<a id=\"xref-ref-33-1\" class=\"xref-bibr\" href=\"#ref-33\">33</a></p>\n",
       "<p id=\"p-26\">Besides, we performed a systematic review of qualitative literature, which required an exhaustive approach to searching and appraising selected qualitative studies.<a id=\"xref-ref-34-1\" class=\"xref-bibr\" href=\"#ref-34\">34</a> This is consistent with how Sandelowski and Barroso also understand the search process of qualitative studies.<a id=\"xref-ref-35-1\" class=\"xref-bibr\" href=\"#ref-35\">35</a></p>\n",
       "<p id=\"p-27\">The structure of this study is based on the six steps that Sandelowski and Barroso indicate to perform the meta-synthesis:<a id=\"xref-ref-35-2\" class=\"xref-bibr\" href=\"#ref-35\">35</a> (1) conceiving the synthesis, (2) searching and retrieving literature, (3) appraising findings, (4) classifying findings, (5) synthesising findings into metasummaries and (6) synthesising findings into a meta-synthesis.</p>\n",
       "<p id=\"p-28\">This meta-synthesis was prepared following the guidelines of the Preferred Reporting Items for Systematic Reviews and Meta-Analyses statement<a id=\"xref-ref-36-1\" class=\"xref-bibr\" href=\"#ref-36\">36</a> (<a id=\"xref-supplementary-material-1-1\" class=\"xref-supplementary-material\" href=\"#DC1\">online supplemental table 1</a>) and the Enhancing Transparency in Reporting the Synthesis of Qualitative Research Statement.<a id=\"xref-ref-37-1\" class=\"xref-bibr\" href=\"#ref-37\">37</a> In the same way, this meta-synthesis was registered in the International Register of Systematic Reviews (PROSPERO) with ID CRD42022363515.</p>\n",
       "<h3 class=\"\">Supplemental material</h3>\n",
       "<h3>Conceiving the synthesis</h3>\n",
       "<p id=\"p-30\">A reflection period was initiated before posing the research questions, which, throughout the meta-synthesis, would account for its circular and flexible nature.<a id=\"xref-ref-38-1\" class=\"xref-bibr\" href=\"#ref-38\">38</a> This period was marked by the following moments: (1) defining the key concepts around which the qualitative synthesis should revolve, (2) deciding the perspective that will be adopted to address the phenomenon under study and (3) making sure of the challenge of establishing adequate methodological and theoretical bases for a meta-synthesis.</p>\n",
       "<p id=\"p-31\">The research questions were:</p>\n",
       "<p id=\"p-32\">How do shared decision-making moments appear in community-dwelling older patients?</p>\n",
       "<p id=\"p-33\">How is this inter-related with expressing their preferences?</p>\n",
       "<p id=\"p-34\">How could it be translated to patient participation?</p>\n",
       "<h3>Searching and retrieving literature</h3>\n",
       "<p id=\"p-35\">The qualitative studies to be included had to meet the following inclusion criteria to elucidate the focus of the meta-synthesis:</p>\n",
       "<p id=\"p-36\">Participants aged ≥65, or median age ≥65 if mixed population (excluded if &gt;25% of participants aged &lt;60).</p>\n",
       "<p id=\"p-37\">Participants were patients who were undergoing a health-disease process (acute or chronic).</p>\n",
       "<p id=\"p-38\">Participants were clients of/interacted with primary healthcare services.</p>\n",
       "<p id=\"p-39\">Original research studies conducted using qualitative methodology.</p>\n",
       "<p id=\"p-40\">The central theme of the research was (Given that these three elements are closely related, as formerly stated, the research team considered addressing them separately to meet the first of the objectives of this meta-synthesis, which is to synthesise them providing a new joint interpretation.):</p>\n",
       "<p id=\"p-41\">Shared decision-making,</p>\n",
       "<p id=\"p-42\">OR</p>\n",
       "<p id=\"p-43\">Patient preferences,</p>\n",
       "<p id=\"p-44\">OR</p>\n",
       "<p id=\"p-45\">Patient participation.</p>\n",
       "<p id=\"p-46\">The exclusion criteria were as follows:</p>\n",
       "<p id=\"p-47\">Qualitative results of primary studies were not analysed or not related to the phenomenon addressed.</p>\n",
       "<p id=\"p-48\">Phenomena were not clear enough to be included.</p>\n",
       "<p id=\"p-49\">The setting did not take place in the community.</p>\n",
       "<p id=\"p-50\">Seriously ill /end-of-life older participants.</p>\n",
       "<p id=\"p-51\">We selected five databases (PubMed, CINAHL, Web of Science, Scopus and PsycINFO). PubMed for being one of the largest databases in the field of health sciences; CINAHL, for being one of the essential nursing databases; Web of Science, for its grand scope and number of indexed articles; Scopus and PsycINFO, for their great value in the psychosocial and psychological sphere, which encompasses a series of necessary nuances in shared decision-making, patient preferences and patient participation. We decided to use pertinent database filters further to ensure a thorough practice in the literature search, thus helping to avoid the threat of failing to achieve sufficient strengthened informative insights in this study.<a id=\"xref-ref-30-4\" class=\"xref-bibr\" href=\"#ref-30\">30</a> The filters used in the databases are the following: (1) the last 10 years because more than 80% of the studies found were performed from the year 2012, (2) nursing, to circumscribe the study phenomena to the discipline of nursing, (3) exclude MEDLINE records, in those databases other than PubMed, and that had it available to eliminate duplicates and (4) English/Spanish because they are the languages that the research team mastered. Both the filters applied and the search terms were adapted to the configuration of each database. We performed a comprehensive search strategy; its results are in the <a id=\"xref-supplementary-material-2-1\" class=\"xref-supplementary-material\" href=\"#DC2\">online supplemental table 2</a>.</p>\n",
       "<h3 class=\"\">Supplemental material</h3>\n",
       "<p id=\"p-53\">PM-A searched MEDLINE and CINAHL on 9 September, Web of Science and PsycINFO on 13 September and Scopus on 15 and 16 September 2022. Finally, all databases were searched on 22 September. This process was supported and followed by MR-R, as we explain next. At the beginning of the article screening phase, consensus meetings were held to agree on each step that would be carried out. We decided to use EndNote for screening. PM-A performed all screening stages, applied the eligibility criteria mentioned above and selected studies through a detailed review of the title, abstract and full text for their inclusion. About 10% of the selected articles were chosen randomly and sent to MR-R for evaluation and to obtain feedback and check decisions made. Both authors read and reviewed all potentially relevant articles after that. All the research team agreed with the decisions and steps. Finally, 12 studies were selected for their inclusion (<a id=\"xref-fig-1-1\" class=\"xref-fig\" href=\"#F1\">figure 1</a>).</p>\n",
       "<p id=\"p-54\" class=\"first-child\">Preferred Reporting Items for Systematic Reviews and Meta-Analyses 2020 statement flow diagram.</p>\n",
       "<h3>Appraising reports</h3>\n",
       "<p id=\"p-55\">After selecting the final reports, we performed an individual and a group appraisal. It consisted of, on the one hand, reading individually as many times as necessary to identify specific content and, on the other, comparing the studies collectively through a group meeting to address differences and similarities to establish a relationship between them and create summaries, adding to develop a consensus between the content found by the authors.<a id=\"xref-ref-30-5\" class=\"xref-bibr\" href=\"#ref-30\">30</a></p>\n",
       "<p id=\"p-56\">We applied to the Critical Appraisal Skills Programme (CASP), a checklist focusing on qualitative studies’ findings, validity and usefulness. The main strength of the CASP checklist resides in promoting a systematic approach by which the advantages and disadvantages of a study may be identified.<a id=\"xref-ref-39-1\" class=\"xref-bibr\" href=\"#ref-39\">39</a> PM-A and MRR followed the checklist grid to evaluate the 12 chosen articles. After that, they shared the results. We understood this step as more than simply scoring or fixing anything because it helps to better understand the selected studies before embarking on the findings.<a id=\"xref-ref-35-3\" class=\"xref-bibr\" href=\"#ref-35\">35</a></p>\n",
       "<h3>Classifying findings</h3>\n",
       "<p id=\"p-57\">We considered the older participants of each selected study as the first-order generators of knowledge. Later, the authors of each study would be the second-order generators of knowledge by giving the first interpretations. Finally, we occupied the third position by providing a new interpretation of the knowledge generated by the first two. For this reason, this meta-synthesis could be understood as three different levels where we are the third interpreters of the first two.<a id=\"xref-ref-30-6\" class=\"xref-bibr\" href=\"#ref-30\">30 35</a> We decided then to prioritise the life experiences of the first-order generators of knowledge. However, we did not completely rule out the interpretations of the second-order generators of knowledge because they served us as referential adequacy for the new interpretation of our study.<a id=\"xref-ref-40-1\" class=\"xref-bibr\" href=\"#ref-40\">40</a></p>\n",
       "<p id=\"p-58\">We emphasised the content of the data sources when classifying the findings, but first, the research team met to reach a consensus to decide what would be considered data to include. Our final decision was to contemplate data as the quotes of the older patients (first-order generators of knowledge), considering the primary researchers' interpretations and abstractions (second-order generators of knowledge). All the data classified came from the results section of the selected studies. Considering this, we understood that our choice corresponded with data-based findings.<a id=\"xref-ref-30-7\" class=\"xref-bibr\" href=\"#ref-30\">30</a> Data-based findings are compositions built through the analysis of extracts from interviews, observations or documents by the second-order generators of knowledge in primary qualitative studies.</p>\n",
       "<p id=\"p-59\">Finally, we created an extraction rubric for the occasion to approach the findings of the selected primary studies uniformly and thus systematically extract the data for subsequent analysis. PM-A examined all those sets of potential findings to be included in our meta-synthesis to be extracted and MR-R supervised decisions made by the first. Only the findings that answered ‘Yes’ in all the items were integrated for the next phase.</p>\n",
       "<p id=\"p-60\">The items that made up the rubric were the following:</p>\n",
       "<p id=\"p-61\">The finding is closely related to shared decision-making/expressing preferences/active participation (Yes/No).</p>\n",
       "<p id=\"p-62\">The finding comes directly from the first-order generators of knowledge (Yes/No).</p>\n",
       "<p id=\"p-63\">The finding was analysed by the second-order generators of knowledge (Yes/No).</p>\n",
       "<p id=\"p-64\">The finding held a profound qualitative meaning which could contribute to the meta-synthesis (Yes/No).</p>\n",
       "<h3>Analysis: synthesising findings into metasummary and meta-synthesis</h3>\n",
       "<p id=\"p-65\">The analysis phase results were managed and processed using the QSR NVivo V.12 computer software tool.<a id=\"xref-ref-41-1\" class=\"xref-bibr\" href=\"#ref-41\">41</a></p>\n",
       "<p id=\"p-66\">The qualitative metasummary of effect sizes is a quantitatively oriented aggregation of qualitative findings, whose objective is to discover the frequency and intensity with which the findings are distributed within each study and across all of them.<a id=\"xref-ref-42-1\" class=\"xref-bibr\" href=\"#ref-42\">42</a> In this way, performing a metasummary allowed us to identify selected studies’ patterns and strengthen informative insights.</p>\n",
       "<p id=\"p-67\">We did not consider the qualitative metasummary as an end, but as a bridge we crossed to build the meta-synthesis. Relying on the information obtained through the metasummary, we had as a reference the selected studies’ patterns to create a new interpretation based on the new qualitative patterns synthesised in our work, thus answering the research questions we posed.</p>\n",
       "<p id=\"p-68\">For the metasummary, we also calculated the magnitude of the effect sizes. Effect sizes address the frequency of occurrence of an experience sufficient to constitute a pattern, facilitating a further understanding of the studied phenomenon and an overview of how patterns of meaning are distributed across studies.<a id=\"xref-ref-42-2\" class=\"xref-bibr\" href=\"#ref-42\">42 43</a> We calculated interstudy frequency effect size by taking the number of individual studies that contain a specific finding and dividing it by the number of total studies in the sample. In this way, we found the representation of subthemes across studies. We calculated intrastudy intensity effect size by taking the number of studies containing at least one category belonging to each subtheme, divided by the number of total sub-themes. Following this, we found the concentration of findings of each selected study.</p>\n",
       "<p id=\"p-69\">The meta-synthesis is an interpretive integration of qualitative findings in primary research studies through interpretive data syntheses.<a id=\"xref-ref-30-8\" class=\"xref-bibr\" href=\"#ref-30\">30</a> To achieve this, PM-A individually performed analysis through the phenomenological–hermeneutical considerations proposed by Ricoeur<a id=\"xref-ref-44-1\" class=\"xref-bibr\" href=\"#ref-44\">44</a> and was supported by PEV-P and SL-Q.</p>\n",
       "<p id=\"p-70\">In the preliminary analysis phase, the authors superficially read the included studies, obtaining a general meaning and writing a list of ideas to guide the analysis until reaching a raw explanation of the phenomenon studied.</p>\n",
       "<p id=\"p-71\">At the first level of analysis (explanation), we selected nodes or whole units of meaning. The nodes or whole units of meaning were interpretative fragments of the first-order generators of knowledge that contained a basic meaning, an explanation and a justification of that meaning. We established a round-trip process between the nodes and the starting categories to ensure that the interpretative thread remained linked to the participants’ life experiences. We considered as starting categories the interpretations and abstractions that the second-order generators of knowledge made of the first ones. After reviewing the nodes created and the studies selected, we ensured that every unit of meaning was noticed.</p>\n",
       "<p id=\"p-72\">At the second level (naive comprehension), the nodes were organised according to these new categories. Once contained in them, they were regrouped by the affinity of meanings, creating codes capable of reaching greater abstraction.</p>\n",
       "<p id=\"p-73\">At the third level (in-depth understanding), we reached a greater understanding of the phenomenon through the hermeneutic arc. The hermeneutic arch is considered the achievement of a back-and-forth process that combines the preliminary understanding of the analysed phenomenon and the final interpretations of the data corpus, reaching the highest level of abstraction of meanings with the creation of study patterns, subthemes and categories.</p>\n",
       "<h3>Patient and public involvement</h3>\n",
       "<p id=\"p-74\">Patients and/or the public were not involved in the design, or conduct, or reporting or dissemination plans of this research.</p>\n",
       "<h2 class=\"\">Results</h2>\n",
       "<p id=\"p-75\">The results are presented in <a id=\"xref-supplementary-material-3-1\" class=\"xref-supplementary-material\" href=\"#DC3\">online supplemental table 3</a> for the effect size metasummary and narratively developed, as well as visually in <a id=\"xref-fig-2-1\" class=\"xref-fig\" href=\"#F2\">figure 2</a> for the meta-synthesis. On the other hand, <a id=\"xref-supplementary-material-4-1\" class=\"xref-supplementary-material\" href=\"#DC4\">online supplemental table 4</a> shows intrastudies’ characteristics (publication year, authors, country, aims, age of the participants, sample size, characteristics of the participants, data collection tool, data analysis employed, relevant results of importance extracted from the article), and <a id=\"xref-supplementary-material-5-1\" class=\"xref-supplementary-material\" href=\"#DC5\">online supplemental table 5</a> shows characteristics across selected studies (design, older patients’ health condition, sampling strategy, informants other than older patients, setting of data collection, field notes taken in addition to interviews, audio/visual recording, data coders, use of software, argued use of trustworthiness criteria, argued use of consolidated reporting framework).</p>\n",
       "<h3 class=\"\">Supplemental material</h3>\n",
       "<h3 class=\"\">Supplemental material</h3>\n",
       "<h3 class=\"\">Supplemental material</h3>\n",
       "<p id=\"p-79\" class=\"first-child\">Meta-synthesis. Relationship between the four dimensions.</p>\n",
       "<p id=\"p-80\">According to CASP, the selected studies’ scores were the following: 70% for one article, 75% for three articles, 80% for three articles, 85% for three articles, 90% for one article and 95% for one article (<a id=\"xref-supplementary-material-6-1\" class=\"xref-supplementary-material\" href=\"#DC6\">online supplemental table 6</a>). Although all studies scored 70% or higher, no investigation would have been excluded based solely on possible poor quality.<a id=\"xref-ref-30-9\" class=\"xref-bibr\" href=\"#ref-30\">30</a> The reviewers involved in the process agreed on all article criteria and scores.</p>\n",
       "<h3 class=\"\">Supplemental material</h3>\n",
       "<h3>Metasummary</h3>\n",
       "<p id=\"p-82\">The present study’s effect size metasummary comprised the interstudy frequency effect size and intrastudy intensity effect size (<a id=\"xref-supplementary-material-3-2\" class=\"xref-supplementary-material\" href=\"#DC3\">online supplemental table 3</a>).</p>\n",
       "<p id=\"p-83\">Regarding the interstudy frequency effect size, within each subtheme, the most prominent categories were the self-perception of the older person, the approach of the health professional, the discrimination perceived in certain situations by the older person, and the importance of feeling safe. Likewise, regarding the intrastudy intensity effect size, the subthemes had an effect size of 92%, meaning that 11 out of the 12 studies contributed categories representing each. The authors want to state that no subtheme was considered over or under-represented because all of them arose with strength beyond their frequency in the testimonies of the older people involved.<a id=\"xref-ref-30-10\" class=\"xref-bibr\" href=\"#ref-30\">30</a></p>\n",
       "<h3>Meta-synthesis</h3>\n",
       "<p id=\"p-84\">The end of the synthesising approach to reciprocal translation gave rise to an abstract integration of findings in the community-dwelling older adults’ reports in the form of an ‘imbalance of power relations’. This imbalance of power relations in shared decision-making, expression of preferences and active participation among older people in the community revealed two influential pillars in their interaction: the older person-healthcare professionals’ binomial and a doubled-edged context. In turn, a third pillar fluctuates based on how power relations develop between the first two, the latter being situations of discrimination suffered by older people. The experiences that delivered this synthesis were assembled into four subthemes: recognising personal qualities, facing professional characteristics, experiences of discrimination, and double-edged context (<a id=\"xref-fig-2-2\" class=\"xref-fig\" href=\"#F2\">figure 2</a>).</p>\n",
       "<h3>Recognising personal qualities</h3>\n",
       "<p id=\"p-85\">Recognising personal qualities pertains to the capacity of older people to assume those interiorised values, attitudes, beliefs and qualities. This assumption acts: (1) as an initiator of an active intention to embark on their health-disease process, leading them to have an empowered agency to decide or, at least, take part in some way in the decisions that are made around their state of health or (2) hindering that intention, attending to a kind of self-sabotage regarding enjoying opportunities that allow them to decide, express their preferences or participate.</p>\n",
       "<p id=\"p-86\">Considering the first of the two conceptions presented in the previous paragraph, the qualities facilitated personal characteristics in achieving truly centred care for the older patient.<a id=\"xref-ref-45-1\" class=\"xref-bibr\" href=\"#ref-45\">45</a> These characteristics play a vital role in older people as an anchoring point for displaying concepts they identify as a bridge between the active-attitude <em>self</em> and the active-agency <em>self</em>. That bridge is built based on inner strength, positive attitudes and a sense of humour: ‘I have been an active woman my entire life, so I decided that I should learn to walk again! I followed a training programme every day; eventually, I made it’ (Nilsen <em>et al</em>, p575).<a id=\"xref-ref-45-2\" class=\"xref-bibr\" href=\"#ref-45\">45</a></p>\n",
       "<p id=\"p-87\">As older people crossed that bridge, they realised that effective and shared decision-making is a true reflection of having autonomy in the process, which, added to the performance of that autonomy, creates participation that leads to a feeling of responsibility. Therefore, being responsible for their health increases self-identity, self-esteem and confidence in older people, which is closely reflected in the execution of shared decision-making.<a id=\"xref-ref-46-1\" class=\"xref-bibr\" href=\"#ref-46\">46</a> All of this generates a sense of control and power in older adults. This sense occurs because they also protect empowerment by safeguarding the autonomy-decision-making binomial. In this situation, they expressed their preferences autonomously and powerfully: ‘I think it’s a control issue with me…I manage my medical care and everything else in my life and I keep [my children] in the loop after it’s done’ (Crotty <em>et al</em>, p1495).<a id=\"xref-ref-47-1\" class=\"xref-bibr\" href=\"#ref-47\">47</a></p>\n",
       "<p id=\"p-88\">The consequences of feeling responsible also affect active participation, which, in turn, is fed back with the self-perception of that active role in their care, which increases the satisfaction that once again increases their desire to participate in a kind of therapeutic circle.<a id=\"xref-ref-8-2\" class=\"xref-bibr\" href=\"#ref-8\">8 48</a> This desire to participate was also considered a willingness to be fully informed and that this information should be based on evidence. In this way, older people declared that being fully informed is being prepared to face any process.<a id=\"xref-ref-45-3\" class=\"xref-bibr\" href=\"#ref-45\">45 49</a></p>\n",
       "<p id=\"p-89\">Older people reported that being active in their daily lives and carrying out activities is also a way of making decisions, maintaining their coping skills and attending to their spiritual sphere.<a id=\"xref-ref-45-4\" class=\"xref-bibr\" href=\"#ref-45\">45 46</a> Therefore, they highlighted having that self-perception of their needs and communicative assertiveness to express their preferences in managing their care: ‘You have to be assertive. I don't feel that I have to be overly assertive, because my doctor responds to my feelings. But it’s important to be assertive’ (Mitchell <em>et al</em>, p6).<a id=\"xref-ref-50-1\" class=\"xref-bibr\" href=\"#ref-50\">50</a></p>\n",
       "<p id=\"p-90\">Furthermore, personal qualities can act simultaneously as hindrances. Excessive politeness or stubborn behaviour leading to unrealistic goals interferes with the decision-making process, expression of preferences and therefore active participation, in turn, also interacts with professionals and their characteristics: ‘It is not always easy to give one’s opinion; often a lot should happen before I do so. For instance, I feel it is rude to express my opinion about the nurse whose behavior I do not approve, that would not be appropriate. I guess I should not tell this to you, either, but…’ (Nilsen <em>et al</em>, p575).<a id=\"xref-ref-45-5\" class=\"xref-bibr\" href=\"#ref-45\">45</a></p>\n",
       "<h3>Facing professional characteristics</h3>\n",
       "<p id=\"p-91\">Facing professional characteristics pertains to all those requirements constituting healthcare, where numerous elements come together from the point of view of older persons. Professional characteristics were vital to decision-making, expression of preferences, and active participation. Healthcare professionals modulated these characteristics by having the opportunity to create situations to develop older people as active agents in care.</p>\n",
       "<p id=\"p-92\">This relationship must be built from a mutual understanding that makes decision-making a shared act, establishing a personal inter-relationship that allows an individualised approach to care for older adults.<a id=\"xref-ref-49-1\" class=\"xref-bibr\" href=\"#ref-49\">49 51</a> Within this approach, giving a choice was raised as essential to promote patient involvement in decision-making: ‘Certainly my GP [General Practitioner] always makes me decide, you know, “What would you like to do?” Well, I don’t know, and I have sat there and said to him, “I don’t know, what would you suggest?” […] Sometimes I don’t want to know what’s happening for an operation or something you know. He never pushed the line. It was up to you, you had to…He couldn’t make my mind up, but he could advise me, which he did’ (Butterworth and Campbell, p711).<a id=\"xref-ref-48-1\" class=\"xref-bibr\" href=\"#ref-48\">48</a></p>\n",
       "<p id=\"p-93\">Regarding expressing preferences, older people appreciated the flexibility and availability of those healthcare professionals who made efforts to listen to their priorities regarding the day and time of home visits or the mere fact of being there when they were needed: ‘Sometimes, I cannot reach the toilet in time. I always have my mobile phone in my pocket, and I call the home care nurses immediately. Then they show up in a short time to help undress me and give me shower. This means a lot to me’ (Nilsen <em>et al</em>, p574)<a id=\"xref-ref-45-6\" class=\"xref-bibr\" href=\"#ref-45\">45</a></p>\n",
       "<p id=\"p-94\">The personality of the healthcare professionals played an essential role in bringing the older person closer to a <em>real</em> moment of shared decision-making, who highlighted honesty, kindness, understanding and respect as critical qualities.<a id=\"xref-ref-45-7\" class=\"xref-bibr\" href=\"#ref-45\">45 49</a> In short, older people positively valued those professionals who treated them not as someone who depended on their clinical judgement but as ‘equals’: ‘I feel more as an equal than I ever used to, and that helps me to have a sensible, constructive conversation with him. I think being asked to contribute treats you as a person with your own views and the ability to make that decision for yourself […] but also to realise that I use them to help me with my health care’ (Butterworth and Campbell, p713).<a id=\"xref-ref-48-2\" class=\"xref-bibr\" href=\"#ref-48\">48</a></p>\n",
       "<p id=\"p-95\">However, to achieve the status of ‘equal’, older people considered it necessary to deal with professionals whose communication skills would encourage them to feel heard and to be actively involved in their care. Hence, communicative and active listening skills promote a communicative relationship centred on the older patient.<a id=\"xref-ref-48-3\" class=\"xref-bibr\" href=\"#ref-48\">48 51 52</a> This added to a less paternalistic attitude on the part of the healthcare professionals, enhanced communication by the preferences of older people: ‘Today we expect an awful lot more out of the health service than when I had my children 40 years ago. But I think one’s attitude changes; you have a better overall view. The more you’re involved, the more you see what a vast and overwhelming organisation it is. You just hope they’re getting it right. […] The sort of hierarchy of the medical profession was very different, wasn't it, and they very much made the decisions for you’ (Butterworth and Campbell, p712)<a id=\"xref-ref-48-4\" class=\"xref-bibr\" href=\"#ref-48\">48</a></p>\n",
       "<h3>Experiences of discrimination</h3>\n",
       "<p id=\"p-96\">Experiences of discrimination pertain to the encounter between certain personal qualities of older adults and characteristics of the healthcare professionals that caused, on certain occasions, situations of discrimination. Thus, an imbalance in their relationship originated ‘illusions’ of moments of agency, perceptions of ageist attitudes and even fear or dread.</p>\n",
       "<p id=\"p-97\">These ‘illusions’ were well exemplified when healthcare professionals made older people see that they could decide when they did not. Older people declared that they felt this delusion when professionals made decisions for them rather than together with them when handling a considerable amount of overly technical information. This gave the older patients the feeling that they could only make a decision when it was explicitly communicated to them.<a id=\"xref-ref-8-3\" class=\"xref-bibr\" href=\"#ref-8\">8 53</a> Communication barriers, sustained by a lack of encouragement to listen to the concerns of older patients or to satisfy their communication needs,<a id=\"xref-ref-50-2\" class=\"xref-bibr\" href=\"#ref-50\">50 54</a> could be overcome if healthcare professionals had given older people a real opportunity to participate by making decisions about their possible illnesses and treatment: ‘No, nobody asked what I felt about being discharged. I did not protest the decision at the time. But, thinking back now, I would like to protest it because I did not feel safe enough at the time’ (Nilsen <em>et al</em>, p574).<a id=\"xref-ref-45-8\" class=\"xref-bibr\" href=\"#ref-45\">45</a> This is a dead end where professionals did not show enough transparency. Older people considered them as power figures whom they were not able to question: ‘I don't want to do that [discuss reducing medication] because then I disregard my GP’s advice, my GP expects me to follow her advice’ (van Bussel <em>et al</em>, p4).<a id=\"xref-ref-55-1\" class=\"xref-bibr\" href=\"#ref-55\">55</a></p>\n",
       "<p id=\"p-98\">This power imbalance caused older people to fear when they came up with situations in which they ‘challenged’ that authority.<a id=\"xref-ref-53-1\" class=\"xref-bibr\" href=\"#ref-53\">53 55</a> The fear of expressing their preferences due to a possible unwanted consequence and becoming responsible for their own decisions inhibited a balanced and therapeutic relationship: ‘I am not going to be stubborn because if something would happen, it would be my own fault’ (van Bussel <em>et al</em>, p4).<a id=\"xref-ref-55-2\" class=\"xref-bibr\" href=\"#ref-55\">55</a></p>\n",
       "<p id=\"p-99\">The circumstances raised the older person’s perception of being treated differently due to several factors, such as age (ageism), ethnic identity, socioeconomic condition, health condition or language.<a id=\"xref-ref-49-2\" class=\"xref-bibr\" href=\"#ref-49\">49 50 53 55</a> For this reason, healthcare professionals showed no confidence in older patients when it came to involving them in the discussion of decisions related to their health<a id=\"xref-ref-49-3\" class=\"xref-bibr\" href=\"#ref-49\">49</a>; older adults were considered as people who, due to ageing, were marked by disease and symptoms, something that prevented professionals from contextualising the older people’s health condition in their life stage: ‘Sometimes I feel that they think you are still a young guy because you have to reach certain [blood pressure] levels, which might not be relevant anymore for older people’ (van Bussel <em>et al</em>, p4).<a id=\"xref-ref-55-3\" class=\"xref-bibr\" href=\"#ref-55\">55</a></p>\n",
       "<p id=\"p-100\">On the one hand, the professionals were not transparent when dealing with individual cases because they were not crystal clear about the consequences of the choices that could be made, generating a moment of uncertainty.<a id=\"xref-ref-53-2\" class=\"xref-bibr\" href=\"#ref-53\">53 55</a> On the other hand, this created in older adults a feeling of dependency on the professional, coming to feel objectified, invisible and undervalued; coming to not feel like an active agent of their own care, accepting paternalistic attitudes from the health system.<a id=\"xref-ref-53-3\" class=\"xref-bibr\" href=\"#ref-53\">53–55</a> Such context, which created communication barriers, decreased the participation of older adults: ‘It’s so hard to get them to pay any attention to you. They don’t listen to what you’re saying. ‘You’re an old lady and, tada, tada, tada’—you know?’’ (Bynum <em>et al</em>, p225).<a id=\"xref-ref-8-4\" class=\"xref-bibr\" href=\"#ref-8\">8</a></p>\n",
       "<h3>Double-edged context</h3>\n",
       "<p id=\"p-101\">Double-edged context pertains to a scenario that played a crucial role when calibrating personal qualities and professional characteristics, even going so far as to shape the appearance of discriminatory situations. This scenario gained importance to provide older people with positive tools to reinforce concepts that drove them to decide, express themselves and participate effectively or to deprive them of any potential opportunity to develop on that level. Depending on the older person’s circumstances, everything would indicate therapeutic performance in the healthcare professional–older patient relationship or a frustrated one.</p>\n",
       "<p id=\"p-102\">In these terms, a poor health system organisation had great importance, according to older adults. The overload of work resulted in healthcare professionals always being in a hurry. In addition, there was a lack of longitudinal care; therefore, older people did not feel a continuous personalised approach because, once and again, they were attended to by different professionals each time they used the health system.<a id=\"xref-ref-45-9\" class=\"xref-bibr\" href=\"#ref-45\">45 49 50</a> This excessive workload brought significant problems with time available to be optimally attended. The fact that healthcare professionals did not dedicate the time that the older people considered necessary prevented them from having a good conversation, feeling that they lacked the opportunity to ‘open up’, thus interfering in expressing their preferences.<a id=\"xref-ref-45-10\" class=\"xref-bibr\" href=\"#ref-45\">45 49 54</a> This situation led older people to feel not like a person but like a number: ‘Some practicing doctors have a tendency to get into a routine of you being a number’ (Mitchell <em>et al</em>, p5).<a id=\"xref-ref-50-3\" class=\"xref-bibr\" href=\"#ref-50\">50</a> Something like this prevented the development of relationships of trust with the professionals that would shed some light on this frustrating reality.<a id=\"xref-ref-51-1\" class=\"xref-bibr\" href=\"#ref-51\">51 54</a></p>\n",
       "<p id=\"p-103\">The conducts, behaviours and ideologies have their raison d'être in society and culture, which immediately affected how the relationships between the healthcare professional and the older patient were established. This is something that older people also made explicit through differences in approach depending on the nature of the patients, the way healthcare professionals addressed them and how professionals managed that relationship.<a id=\"xref-ref-48-5\" class=\"xref-bibr\" href=\"#ref-48\">48 50 54</a> In line with the way to manage these relationships, management and the importance of information gained prominence, being able to act as a facilitator or hinderer of the context of the relationship with professionals in older people.<a id=\"xref-ref-8-5\" class=\"xref-bibr\" href=\"#ref-8\">8 49 54 55</a> The more quality information adapted to the older adult was provided considering the first possibility, the greater the engagement had in their care. Nevertheless, the problems came when the information was inconsistent between professionals, confusing older adults by providing conflicting information: ‘Then I asked for info [about the pneumococcal vaccine] and the practice nurse said it has been around for years but the hospital doctor said it was new’ (Sheridan <em>et al,</em> p37).<a id=\"xref-ref-54-1\" class=\"xref-bibr\" href=\"#ref-54\">54</a> The older people declared in any case that when they came across professionals who did not provide them with enough quality information, it led to an inability to act, which added to a feeling of not being listened to. It gave rise to the older person’s disempowerment: ‘I like to have lots of options in front of me so that I know I can make an informed decision. But I don’t feel like that way when I go to the doctor, I feel dis-empowered’ (Brown <em>et al</em>, p3).<a id=\"xref-ref-49-4\" class=\"xref-bibr\" href=\"#ref-49\">49</a></p>\n",
       "<p id=\"p-104\">Something that favoured empowerment in the decision-making process and facilitated assertive communication in the older person was surrounding themselves with a circle of trust or important ones who supported them at decisive moments.<a id=\"xref-ref-47-2\" class=\"xref-bibr\" href=\"#ref-47\">47 50</a> In other words, having social support from family or friends represented a valuable tool for the relationships with healthcare professionals and the use of the health system: ‘My husband is taking care of me and he helps me a lot. Without him, I would need a lot more help from the healthcare services’ (Nilsen <em>et al</em>, p575).<a id=\"xref-ref-45-11\" class=\"xref-bibr\" href=\"#ref-45\">45</a></p>\n",
       "<p id=\"p-105\">Finally, all these elements could be found in the sense of security that combined receiving help when needed, being duly informed of their rights as clients of the health system, or dealing with professionals and flexible routines in a continuous and non-sporadic manner. The older patients also highlighted the figure of the home care nurse as a link between various levels of healthcare.<a id=\"xref-ref-45-12\" class=\"xref-bibr\" href=\"#ref-45\">45</a></p>\n",
       "<h2 class=\"\">Discussion</h2>\n",
       "<p id=\"p-106\">This systematic review of qualitative studies and qualitative meta-synthesis comprises 12 primary qualitative studies. It provides a comprehensive understanding of how the moment of shared decision-making appears in older patients in a community setting, how this is inter-related with expressing their preferences and how it could be translated to patient participation. Our results are consistent with the theory of van Dijk<a id=\"xref-ref-56-1\" class=\"xref-bibr\" href=\"#ref-56\">56</a> of discourse and power because our meta-synthesis reveals that these three study phenomena are affected to a great extent by an (im)balance in the power relations established between the older person and the healthcare professionals. The personal qualities, professional characteristics and the context in which they occur shape the appearance of <em>real</em> situations of decision-making, expressing preferences and active participation; their inter-relation and how they condition to care for the older patient. The reproduction of the participants’ discourse of primary studies suggests that older adults' feelings of frustration and of not being heard in situations sensitive to ageism and abuse of power from the health system and the importance of a context influencing all the above could be highlighted on occasions. The shared decision-making experience, the expression of care preferences and active participation within it are highly complex interweaving that follows communicative, relational, and personal patterns.</p>\n",
       "<h3>Discussion of findings</h3>\n",
       "<p id=\"p-107\">In general terms, older people revealed numerous elements influencing the appearance of <em>real</em> situations of shared decision-making, expressing preferences and active participation. Our results suggest that <em>real</em> shared decision-making situations are not reduced to specific moments or issues. Still, <em>real</em> situations of shared decision-making comprise the perceived feeling by older people as empowered, having control over one particular situation and asserting their autonomy. All this is potentially enhanced by professional characteristics that care providers have and might benefit that feeling perceived by older patients. This is consistent with a recent study by Egan <em>et al</em><a id=\"xref-ref-57-1\" class=\"xref-bibr\" href=\"#ref-57\">57</a> that places primary care nurses as crucial elements in enhancing the performance of older people in decision-making processes. However, as we also reflected in the results of our study, implementing shared decision-making in older people is challenging.<a id=\"xref-ref-58-1\" class=\"xref-bibr\" href=\"#ref-58\">58</a></p>\n",
       "<p id=\"p-108\">Sometimes, older people did not commit to shared decision-making due to their way of being or conceiving the relationship with their reference healthcare professional. Those healthcare professionals who did not understand older people, added to a changing context, weighed down potential therapeutic relationships. According to our findings, this represented an interference with the care that could have been perfectly avoidable. This result is supported by other reviews that highlight the inter-relation of elements such as the patient, the patient–healthcare professional relationship, the organisation of the health system or the importance of teamwork in a therapeutic performance that allows engaging and promoting the involvement of the patients.<a id=\"xref-ref-59-1\" class=\"xref-bibr\" href=\"#ref-59\">59–61</a> The interest and ‘desire to do’ become critical elements in the personal qualities of older people that mean a beginning to establish that therapeutic relationship, as reported by Gillespie <em>et al</em>.<a id=\"xref-ref-62-1\" class=\"xref-bibr\" href=\"#ref-62\">62</a></p>\n",
       "<p id=\"p-109\">However, as explained throughout the study, personal qualities are not the only factors to consider. Regarding healthcare professionals, the meta-synthesis performed by Clancy <em>et al</em><a id=\"xref-ref-2-2\" class=\"xref-bibr\" href=\"#ref-2\">2</a> determined the importance of establishing positive relationships with older people. This is consistent with our study because older patients appreciated dealing with healthcare professionals who allowed them to express their feelings and preferences. In addition, professional characteristics such as having confidence and the ability to control emotions are critical concepts for a promising approach in the healthcare professional–patient relationship.<a id=\"xref-ref-63-1\" class=\"xref-bibr\" href=\"#ref-63\">63</a></p>\n",
       "<p id=\"p-110\">From van Dijk’s theoretical perspective on discourse and power, our study results are consistent with his conception of communication as inequality reproducing element.<a id=\"xref-ref-56-2\" class=\"xref-bibr\" href=\"#ref-56\">56 64</a> It adds to understanding how the phenomena studied are inter-related, degenerating into situations of discrimination when the discourse serves as a vehicle for the dominating elements. This result is consistent with other reviews that displace older people to a passive role on numerous occasions, endangering the balance of power between them and healthcare professionals and highlighting the discourse as a power-holding tool.<a id=\"xref-ref-65-1\" class=\"xref-bibr\" href=\"#ref-65\">65 66</a> This tool can feed the feeling of living in a <em>mirage</em> of opportunities. For older patients, this <em>mirage</em> translates into a lack of opportunities to participate in care, despite feeling motivated, in a kind of imbalance of power between the healthcare professionals and the older patients where communication has an essential role, as Ozavci <em>et al</em><a id=\"xref-ref-67-1\" class=\"xref-bibr\" href=\"#ref-67\">67</a> showed in their systematic review. Ageism situations appear when the characteristics of the disease are confused with a physiological stage, such as the ageing process. These results are consistent with the Stereotype Embodiment Theory, which explains an internalisation of ageism in society, thus unconsciously acquiring stereotypes due to ageist messages that society itself sends through the institutions, in this case, the healthcare system.<a id=\"xref-ref-68-1\" class=\"xref-bibr\" href=\"#ref-68\">68</a> From the perspective of ageism and compared with other reviews about young adults, elements such as communication and information delivery in decision-making are equally important.<a id=\"xref-ref-69-1\" class=\"xref-bibr\" href=\"#ref-69\">69 70</a> However, although similar needs are shared in both populations, older people deal with ageist attitudes on the part of society, as our results have shown, in addition to a scarcity of studies focusing on how to empower older people in transitional decision-making processes.<a id=\"xref-ref-71-1\" class=\"xref-bibr\" href=\"#ref-71\">71</a> For this reason, when healthcare professionals adopt ageist behaviours, they limit the possibility of older people developing and expressing themselves as active agents of change, creating a marginalisation based on these unbalanced power relations.<a id=\"xref-ref-72-1\" class=\"xref-bibr\" href=\"#ref-72\">72</a> In contrast, based on our study, we meet the qualitative synthesis of Strandås and Bondas<a id=\"xref-ref-73-1\" class=\"xref-bibr\" href=\"#ref-73\">73</a> when a more therapeutic nurse–patient relationship has been managed to demonstrate that it promotes communicative openness and a boost to positive sensations; in other words, to share moments of accessibility in care.</p>\n",
       "<p id=\"p-111\">The importance of a context that can be positive or negative for the appearance of <em>real</em> situations of shared decision-making, expression of preferences and active participation in older people has become apparent. The fact that nurses and doctors have little time to care for patients, in addition to an excessive workload, blames a deficient organisation of the health system in a certain way, thus negatively impacting in quality of care and professional performance, being consistent with other reviews.<a id=\"xref-ref-74-1\" class=\"xref-bibr\" href=\"#ref-74\">74 75</a> Furthermore, positive social support in older people facilitates dealing with hostile situations and reinforces their communicative assertiveness, communicating their preferences more frequently.<a id=\"xref-ref-76-1\" class=\"xref-bibr\" href=\"#ref-76\">76 77</a> The feeling of security in this study appeared along with other closely related concepts, such as the importance of receiving adequate and personalised information and the confidence that healthcare professionals knew how to transfer them. Regarding this feeling of safety, older people also stated that the possibility of continuing their recreational or spiritual activities in the community comforted them and prevented feelings of loneliness or isolation, thus consistent with the scoping review conducted by Fakoya <em>et al</em>.<a id=\"xref-ref-78-1\" class=\"xref-bibr\" href=\"#ref-78\">78</a></p>\n",
       "<h3>Strengths and limitations</h3>\n",
       "<p id=\"p-112\">The main strength of the present study is that it represents the first qualitative meta-synthesis that gives greater depth to understanding the phenomena of shared decision-making, the expression of preferences and active participation in community-dwelling older adults, jointly and not separately. The new interpretation offered by this study has highlighted the importance of power relations in triggering situations of ageism regarding the studied phenomena. Thus, our meta-synthesis underlines elements that healthcare professionals could consider incorporating into their daily practice and thus promote a therapeutic relationship of <em>real</em> situations of shared decision-making, expression of preferences and active participation in nursing care. Including studies whose participants had mental conditions could also have enriched our meta-synthesis. However, this was discarded because we considered older patients with mental impairment to be another type of group with very particular characteristics that could influence the phenomena studied, compared with older people without any cognitive impairment. In addition, the number of articles selected (n=12) for the present study can be interpreted as low compared with the studies considered for screening before title review (n=785). To justify this, a critical review of the articles found that a large majority of the articles did not reach the necessary depth in the study of any of the inclusion phenomena, either because they did not provide detailed information regarding the phenomenon development in the older patient, or for being listed as one more intervention to be studied without enjoying the prominence the study required to be incorporated. Due to language issues, interesting investigations may have been lost by handling only English and Spanish. This meta-synthesis includes studies from Europe, America and Australia, providing a broad perspective that, in turn, is a window to the peculiarities between the different cultures, how the study phenomena arise, and how power relations are established in the process. By including studies from Asia and Africa that could have passed the eligibility filter, we would have understood these similarities and variations from a global perspective. Focusing this study on the nursing field could be considered a limitation. However, we thought it necessary since there is little evidence of the inclusion and importance of the nursing figure in these processes, particularly in decision-making, which hardly exists in conceptual models of interprofessional shared decision-making.<a id=\"xref-ref-69-2\" class=\"xref-bibr\" href=\"#ref-69\">69</a> For this reason, this study broadens the depth of the phenomena studied in a discipline that is only sometimes integrated into them. Our decision not to exclude studies because of limited descriptions of methods may be questioned. However, we strive to distribute the data and findings relatively evenly by subthemes (<a id=\"xref-supplementary-material-3-3\" class=\"xref-supplementary-material\" href=\"#DC3\">online supplemental table 3</a>) to strengthen the informative insights of the results beyond the methodological quality of the primary studies.<a id=\"xref-ref-30-11\" class=\"xref-bibr\" href=\"#ref-30\">30 35</a> Furthermore, one of the issues in qualitative profile studies is that the relationships between the participants and the researchers may have influenced the findings they obtained. However, this has enriched their nuance and adjusted to the particularity of shared decision-making situations, expressing preferences and active participation of older people and giving extra complexity to the depth of each study. Moreover, the researchers' knowledge and relationship with the participants may have been crucial for recruiting key participants and their subsequent data collection. In addition, the reflections made by the researchers could have increased the informative insights of the studies. Lastly, even though the methodology used in this study prevents the participation of older people, it becomes necessary to continue qualitative research that addresses this complex phenomenon that we have integrated.</p>\n",
       "<h2 class=\"\">Conclusion</h2>\n",
       "<p id=\"p-113\">This meta-synthesis is based on previous studies revealing the implicit complexity in shared decision-making situations, expressing preferences and active participation of community-dwelling older adults. These phenomena are influenced by how older people approach their role in their binomial relationship with healthcare professionals. Those with a reinforced self-concept know that their personality has traits that make them face health-disease-related situations effectively and be communicatively assertive. In contrast, others with specific profiles make them lose sight of their potentially essential role in ‘taking care of themselves’. Healthcare professional characteristics are vital in how older people modulate their acting ability. Their personality, their communication skills and the type of approach healthcare professionals use towards older adults are what this study has reflected. The study phenomena are distorted due to how older people and healthcare professionals relate. When there is an imbalance of power between the two, reproduced through the discourse in those cases in which the relationship is not therapeutic, it causes situations of ageism. Then, the older person can perceive discrimination, differentiating the shared decision-making situations from those that are not (mirages), inhibiting the expression of their preferences, and preventing them from participating in their care. The context is a component that rose strongly, tipping the balance from one therapeutic side to another of <em>domination</em>, and vice versa, regulating how the study phenomena appear, interrelate and condition care in community-dwelling older adults. Regarding implications for future research and clinical practice, the great asset of this study is to offer a joint vision of the phenomena studied, allowing, on the one hand, favouring more integrative research and, on the other, making visible the care of the three elements to create new nursing-based interventions that act by synthesising them.</p>\n",
       "<h2 class=\"\">Data availability statement</h2>\n",
       "<p id=\"p-120\">All data relevant to the study are included in the article or uploaded as supplementary information.</p>\n",
       "<h2 class=\"\">Ethics statements</h2>\n",
       "<h3>Patient consent for publication</h3>\n",
       "<p id=\"p-121\" class=\"ethics-consent-to-publish\">Not applicable.</p>\n",
       "<h3>Ethics approval</h3>\n",
       "<p id=\"p-122\" class=\"ethics-approval\">Not applicable.</p>\n",
       "<h2 class=\"\">References"
      ],
      "text/plain": [
       "<IPython.core.display.HTML object>"
      ]
     },
     "execution_count": 23,
     "metadata": {},
     "output_type": "execute_result"
    }
   ],
   "source": [
    "display_dict[1.11]['body']"
   ]
  },
  {
   "attachments": {},
   "cell_type": "markdown",
   "metadata": {},
   "source": [
    "### display all abstracts"
   ]
  },
  {
   "cell_type": "code",
   "execution_count": 33,
   "metadata": {},
   "outputs": [
    {
     "data": {
      "text/html": [
       "<h2>Abstract</h2>\n",
       "<p id=\"p-2\"><strong>Objectives</strong> To systematically synthesise the results of primary qualitative studies on how community-dwelling older adults experience shared decision-making processes, express preferences and actively participate in care.</p>\n",
       "<p id=\"p-3\"><strong>Design</strong> Systematic review of qualitative studies and qualitative meta-synthesis.</p>\n",
       "<p id=\"p-4\"><strong>Methods</strong> We focused on studies about community-dwelling participants aged ≥65 undergoing a health-disease process circumscribed to a primary healthcare setting, and the central theme should focus on either shared decision-making, expressing preferences or patient participation. We searched the following databases: MEDLINE, CINAHL, Web of Science, Scopus and PsycINFO (time publication frame 2012–2022). We excluded studies in those cases where the qualitative results were not analysed or unrelated to the phenomenon addressed, phenomena were not clear enough to be included or the setting did not occur in the community.</p>\n",
       "<p id=\"p-5\"><strong>Results</strong> A total of 12 studies were included in this meta-synthesis. We appraised the quality of the selected studies through Critical Appraisal Skills Programme (CASP) Checklist. The metasummary comprised the frequency and intensity of qualitative patterns across the included studies. The meta-synthesis revealed four influential elements in their interaction: recognising personal qualities, facing professional characteristics, experiences of discrimination and a double-edged context.</p>\n",
       "<p id=\"p-6\"><strong>Conclusions</strong> The phenomena studied were influenced by how older people approached their role in their binomial relationship with healthcare professionals. Those with a reinforced self-concept were better aware of health-disease-related situations regarding shared decision-making and the importance of being communicatively assertive. Professional characteristics were also crucial in how older people modulated their acting ability through their personality, communication skills and the approach healthcare professionals used towards older adults. Situations of discrimination generated through an imbalance of power inhibited the expression of preferences and hindered the active participation of older people. The context surrounding the participants influenced all these situations, key in tipping the balance between a therapeutic and a harmful side.</p>\n",
       "<p id=\"p-7\"><strong>PROSPERO registration number</strong> CRD42022363515.</p>\n",
       "<h2 class=\"\">Data availability statement</h2>\n",
       "<p id=\"p-120\">All data relevant to the study are included in the article or uploaded as supplementary information.</p>\n",
       "<p id=\"p-1\">This is an open access article distributed in accordance with the Creative Commons Attribution Non Commercial (CC BY-NC 4.0) license, which permits others to distribute, remix, adapt, build upon this work non-commercially, and license their derivative works on different terms, provided the original work is properly cited, appropriate credit is given, any changes made indicated, and the use is non-commercial. See: <a href=\"http://creativecommons.org/licenses/by-nc/4.0/\" rel=\"license\">http://creativecommons.org/licenses/by-nc/4.0/</a>.</p>\n",
       "<p><a href=\"http://dx.doi.org/10.1136/bmjopen-2022-071549\" target=\"_new\">http://dx.doi.org/10.1136/bmjopen-2022-071549</a></p>\n",
       "<h2 class=\"pane-title\">Statistics from Altmetric.com</h2>\n",
       "<h2 class=\"pane-title\">Request Permissions</h2>\n",
       "<p>If you wish to reuse any or all of this article please use the link below which will take you to the Copyright Clearance Center’s RightsLink service. You will be able to get a quick price and instant permission to reuse the content in many different ways.</p>\n",
       "<h2 class=\"pane-title\"><span class=\"panels-ajax-pane-title\" data-pid=\"new-70fd4c70-563e-4b94-ae3b-2a97f3980c13\"></span></h2>\n",
       "<h3>Strengths and limitations of this study</h3>\n",
       "<p id=\"p-8\">This is the first meta-synthesis of qualitative research exploring in a joint perspective the phenomena of shared decision-making, the expression of preferences and active participation in older people living in the community.</p>\n",
       "<p id=\"p-9\">The synthesis identifies core overarching elements that facilitate understanding the factors that originate, influence and condition the phenomena of study.</p>\n",
       "<p id=\"p-10\">The synthesis highlights the importance of balancing power relations between older people and healthcare professionals so that real situations of shared decision-making, expression of preferences and active participation emerge.</p>\n",
       "<p id=\"p-11\">Some studies constituting the synthesis have a limited methodological description, and an attempt was made to balance this by clearly and concisely organising their data.</p>\n"
      ],
      "text/plain": [
       "<IPython.core.display.HTML object>"
      ]
     },
     "metadata": {},
     "output_type": "display_data"
    },
    {
     "data": {
      "text/html": [
       "<h2>Abstract</h2>\n",
       "<p id=\"p-2\"><strong>Introduction</strong> Hemiparetic gait is one of the most common sequelae of a stroke. Acupuncture has shown potential in correcting hemiplegic gait patterns and improving motor function recovery after stroke. However, controversial findings and a lack of supportive evidence on the effectiveness of acupuncture for post-stroke hemiplegia. The intelligent gait analysis system provides a new perspective for the study of hemiparetic gait. This systematic review aims to collect relevant studies and critically evaluate the efficacy and safety of acupuncture in alleviating gait disturbance of post-stroke hemiplegia based on quantified gait parameters.</p>\n",
       "<p id=\"p-3\"><strong>Methods and analysis</strong> A comprehensive search of PubMed, Embase, Cochrane stroke group trials register, Cochrane Central Register of Controlled Trials, CINAHL, AMED, three Chinese databases (Chinese Biomedical Literatures database (CBM), National Knowledge Infrastructure (CNKI), and Wan fang Digital Periodicals), four trails registries (The WHO International Clinical Trials Registry Platform, The Chinese Clinical Trial Registry, The US National Institutes of Health Ongoing Trials Register, and The Australian New Zealand Clinical Trials Registry) will be conducted to identify randomised controlled trials of acupuncture for gait disturbance in post-stroke patients. No restrictions on language or publication status. The primary outcomes are gait temporospatial parameters (eg, step length, stride length, step width, step frequency (cadence), walking speed, etc), and gait kinematic parameters (eg, hip peak flex/extend angle, knee peak flex/extend angle, ankle peak dorsi/plantar-flexion angle, etc). We will assess bias using the approach recommended by the Cochrane Handbook for Systematic Reviews of Interventions. A meta-analysis will be conducted to synthesise the evidence for each outcome measure. The χ<sup>2</sup> test and I<sup>2</sup> statistic will be used for assessing heterogeneity between studies.</p>\n",
       "<p id=\"p-4\"><strong>Ethics and dissemination</strong> No ethical approval is needed because no primary data is collected. Scientific conferences or peer-reviewed journals will publish the findings.</p>\n",
       "<p id=\"p-5\"><strong>PROSPERO registration number</strong> CRD42022384348.</p>\n",
       "<p id=\"p-1\">This is an open access article distributed in accordance with the Creative Commons Attribution Non Commercial (CC BY-NC 4.0) license, which permits others to distribute, remix, adapt, build upon this work non-commercially, and license their derivative works on different terms, provided the original work is properly cited, appropriate credit is given, any changes made indicated, and the use is non-commercial. See: <a href=\"http://creativecommons.org/licenses/by-nc/4.0/\" rel=\"license\">http://creativecommons.org/licenses/by-nc/4.0/</a>.</p>\n",
       "<p><a href=\"http://dx.doi.org/10.1136/bmjopen-2023-071590\" target=\"_new\">http://dx.doi.org/10.1136/bmjopen-2023-071590</a></p>\n",
       "<h2 class=\"pane-title\">Statistics from Altmetric.com</h2>\n",
       "<h2 class=\"pane-title\">Request Permissions</h2>\n",
       "<p>If you wish to reuse any or all of this article please use the link below which will take you to the Copyright Clearance Center’s RightsLink service. You will be able to get a quick price and instant permission to reuse the content in many different ways.</p>\n",
       "<h2 class=\"pane-title\"><span class=\"panels-ajax-pane-title\" data-pid=\"new-70fd4c70-563e-4b94-ae3b-2a97f3980c13\"></span></h2>\n",
       "<h3>STRENGTHS AND LIMITATIONS OF THIS STUDY</h3>\n",
       "<p id=\"p-6\">This is an evidence synthesis primarily based on quantitative outcome measures of gait temporospatial and kinematic parameters.</p>\n",
       "<p id=\"p-7\">This review will comprehensively assess the efficacy and safety of acupuncture for hemiplegia based on new outcome indicators.</p>\n",
       "<p id=\"p-8\">We will include only randomised controlled trials, which have a greater chance of capturing unbiased information.</p>\n",
       "<p id=\"p-9\">The heterogeneity among included studies may result from differences in study characteristics not predicted or not explained by authors.</p>\n",
       "<p id=\"p-10\">Included sample size may be small, as gait analysis systems are relatively new technologies.</p>\n"
      ],
      "text/plain": [
       "<IPython.core.display.HTML object>"
      ]
     },
     "metadata": {},
     "output_type": "display_data"
    }
   ],
   "source": [
    "for text in text_dict:\n",
    "    display.display(display_dict[text]['abstract'])"
   ]
  },
  {
   "attachments": {},
   "cell_type": "markdown",
   "metadata": {},
   "source": [
    "## Display abstracts from all journals"
   ]
  },
  {
   "cell_type": "code",
   "execution_count": 79,
   "metadata": {},
   "outputs": [
    {
     "data": {
      "text/plain": [
       "0.0"
      ]
     },
     "execution_count": 79,
     "metadata": {},
     "output_type": "execute_result"
    }
   ],
   "source": [
    "article_key = 0.0\n",
    "# article_key - -int(-article_key // 1) \n",
    "(article_key +1) - (article_key +1) //1"
   ]
  },
  {
   "cell_type": "code",
   "execution_count": 86,
   "metadata": {},
   "outputs": [
    {
     "name": "stdout",
     "output_type": "stream",
     "text": [
      "Regex patterns: \n",
      "\t.*<h2>Abstract</h2>.*(?:Introduction.*)?(<h2.*?>Introduction</h2>.*References)<.*\n",
      "\t.*(<h2>Abstract</h2>.*(?:Introduction.*)?)<h2.*?>Introduction</h2>.*References<.*\n",
      "Journal: BMJ Open 1.0\n",
      "Journal: PLOS Medicine 3.0\n",
      "Journal: PLOS One 0.0\n",
      "Journal: Journal of Medical Internet Research 2.0\n",
      "\tAn error occurred on line 8 in C:\\Users\\silvh\\AppData\\Local\\Temp\\ipykernel_18696\\3034820676.py: 'NoneType' object has no attribute 'group'\n",
      "\t\tUnable to parse article text\n",
      "\tAn error occurred on line 8 in C:\\Users\\silvh\\AppData\\Local\\Temp\\ipykernel_18696\\3034820676.py: 'NoneType' object has no attribute 'group'\n",
      "\t\tUnable to parse article text\n",
      "text_dict keys: [1.0, 1.01, 3.0, 3.01, 0.0, 0.01, 2.0, 2.01]\n",
      "Start\n"
     ]
    },
    {
     "data": {
      "text/html": [
       "<h2>Abstract</h2>\n",
       "<p id=\"p-2\"><strong>Background</strong> Hand hygiene is an important measure to prevent disease transmission.</p>\n",
       "<p id=\"p-3\"><strong>Objective</strong> To summarise current international guideline recommendations for hand hygiene in community settings and to assess to what extent they are consistent and evidence based.</p>\n",
       "<p id=\"p-4\"><strong>Eligibility criteria</strong> We included international guidelines with one or more recommendations on hand hygiene in community settings—categorised as domestic, public or institutional—published by international organisations, in English or French, between 1 January 1990 and 15 November 2021.</p>\n",
       "<p id=\"p-5\"><strong>Data sources</strong> To identify relevant guidelines, we searched the WHO Institutional Repository for Information Sharing Database, Google, websites of international organisations, and contacted expert organisations and individuals.</p>\n",
       "<p id=\"p-6\"><strong>Charting methods</strong> Recommendations were mapped to four areas related to hand hygiene: (1) effective hand hygiene; (2) minimum requirements; (3) behaviour change and (4) government measures. Recommendations were assessed for consistency, concordance and whether supported by evidence.</p>\n",
       "<p id=\"p-7\"><strong>Results</strong> We identified 51 guidelines containing 923 recommendations published between 1999 and 2021 by multilateral agencies and international non-governmental organisations. Handwashing with soap is consistently recommended as the preferred method for hand hygiene across all community settings. Most guidelines specifically recommend handwashing with plain soap and running water for at least 20 s; single-use paper towels for hand drying; and alcohol-based hand rub (ABHR) as a complement or alternative to handwashing. There are inconsistent and discordant recommendations for water quality for handwashing, affordable and effective alternatives to soap and ABHR, and the design of handwashing stations. There are gaps in recommendations on soap and water quantity, behaviour change approaches and government measures required for effective hand hygiene. Less than 10% of recommendations are supported by any cited evidence.</p>\n",
       "<p id=\"p-8\"><strong>Conclusion</strong> While current international guidelines consistently recommend handwashing with soap across community settings, there remain gaps in recommendations where clear evidence-based guidance might support more effective policy and investment.</p>\n",
       "<h2 class=\"\">Data availability statement</h2>\n",
       "<p id=\"p-68\">Data are available upon reasonable request.</p>\n",
       "<p id=\"p-1\">This is an open access article distributed under the terms of the Creative Commons Attribution IGO License (<a href=\"https://creativecommons.org/licenses/by/3.0/igo/\" rel=\"license\">CC BY 3.0 IGO</a>), which permits use, distribution,and reproduction in any medium, provided the original work is properly cited. In any reproduction of this article there should not be any suggestion that WHO or this article endorse any specific organization or products. The use of the WHO logo is not permitted. This notice should be preserved along with the article’s original URL.</p>\n",
       "<p><a href=\"http://dx.doi.org/10.1136/bmjopen-2022-068887\" target=\"_new\">http://dx.doi.org/10.1136/bmjopen-2022-068887</a></p>\n",
       "<h2 class=\"pane-title\">Statistics from Altmetric.com</h2>\n",
       "<h2 class=\"pane-title\">Request Permissions</h2>\n",
       "<p>If you wish to reuse any or all of this article please use the link below which will take you to the Copyright Clearance Center’s RightsLink service. You will be able to get a quick price and instant permission to reuse the content in many different ways.</p>\n",
       "<h2 class=\"pane-title\"><span class=\"panels-ajax-pane-title\" data-pid=\"new-70fd4c70-563e-4b94-ae3b-2a97f3980c13\"></span></h2>\n",
       "<h3>STRENGTHS AND LIMITATIONS OF THIS STUDY</h3>\n",
       "<p id=\"p-9\">The scoping review follows the Arksey and O’Malley methodological framework to identify, retrieve and summarise current international guideline recommendations for hand hygiene in community settings.</p>\n",
       "<p id=\"p-10\">Various sources were systematically searched to identify relevant guidelines published by multilateral agencies and international non-governmental organisations between January 1990 and November 2021.</p>\n",
       "<p id=\"p-11\">The search was limited to guidelines published in English or French and therefore may have excluded relevant guidelines published in other languages.</p>\n",
       "<p id=\"p-12\">The quality of the included guidelines was not assessed, although we did consider the extent to which recommendations were based on cited evidence.</p>\n"
      ],
      "text/plain": [
       "<IPython.core.display.HTML object>"
      ]
     },
     "metadata": {},
     "output_type": "display_data"
    },
    {
     "name": "stdout",
     "output_type": "stream",
     "text": [
      "Start\n"
     ]
    },
    {
     "data": {
      "text/html": [
       "<h2>Abstract</h2>\n",
       "<p id=\"p-2\"><strong>Objective</strong> Use of cannabis for medical reasons has increased in Canada since legalisation of recreational cannabis in 2018. The objective of this study was to examine the pattern of use and perceptions about cannabis for menopause in women aged 35 and over in Alberta, Canada.</p>\n",
       "<p id=\"p-3\"><strong>Design</strong> Cross-sectional, web-based survey.</p>\n",
       "<p id=\"p-4\"><strong>Setting</strong> Online (location of participant residence in Alberta, Canada).</p>\n",
       "<p id=\"p-5\"><strong>Participants</strong> Self-selected sample of women recruited through social media (Facebook, Instagram, Twitter) between October and December 2020. Inclusion criteria included: identified as woman, ages 35 and over, living in Alberta, Canada.</p>\n",
       "<p id=\"p-6\"><strong>Primary and secondary outcomes measures</strong> Self-reported data were collected on demographics, menopause status and symptoms, cannabis usage and how participants perceived cannabis. Descriptive statistics, comparative analysis and logistic regression explored relations in cannabis use and participant characteristics.</p>\n",
       "<p id=\"p-7\"><strong>Results</strong> Of 1761 responses collected, 1485 were included for analysis. Median age was 49 years; 35% were postmenopausal and 33% perimenopausal. Among analysed responses, 499 (34%) women reported currently using cannabis and 978 (66%) indicated ever using cannabis. Of the 499 current cannabis users, over 75% were using cannabis for medical purposes. Most common reasons for current use were sleep (65%), anxiety (45%) and muscle/joint achiness (33%). In current users, 74% indicated that cannabis was helpful for symptoms. Current cannabis users were more likely to report experiencing menopause symptoms compared with non-users. History of smoking and general health status were associated with current cannabis use.</p>\n",
       "<p id=\"p-8\"><strong>Conclusions</strong> Some women are using cannabis for symptoms related to menopause. Further research is required to assess safety and efficacy of cannabis for managing menopause and develop clinical resources for women on cannabis and menopause.</p>\n",
       "<h2 class=\"\">Data availability statement</h2>\n",
       "<p id=\"p-74\">All data relevant to the study are included in the article or uploaded as online supplemental information.</p>\n",
       "<p id=\"p-1\">This is an open access article distributed in accordance with the Creative Commons Attribution Non Commercial (CC BY-NC 4.0) license, which permits others to distribute, remix, adapt, build upon this work non-commercially, and license their derivative works on different terms, provided the original work is properly cited, appropriate credit is given, any changes made indicated, and the use is non-commercial. See: <a href=\"http://creativecommons.org/licenses/by-nc/4.0/\" rel=\"license\">http://creativecommons.org/licenses/by-nc/4.0/</a>.</p>\n",
       "<p><a href=\"http://dx.doi.org/10.1136/bmjopen-2022-069197\" target=\"_new\">http://dx.doi.org/10.1136/bmjopen-2022-069197</a></p>\n",
       "<h2 class=\"pane-title\">Statistics from Altmetric.com</h2>\n",
       "<h2 class=\"pane-title\">Request Permissions</h2>\n",
       "<p>If you wish to reuse any or all of this article please use the link below which will take you to the Copyright Clearance Center’s RightsLink service. You will be able to get a quick price and instant permission to reuse the content in many different ways.</p>\n",
       "<h2 class=\"pane-title\"><span class=\"panels-ajax-pane-title\" data-pid=\"new-70fd4c70-563e-4b94-ae3b-2a97f3980c13\"></span></h2>\n",
       "<h3>STRENGTHS AND LIMITATIONS OF THIS STUDY</h3>\n",
       "<p id=\"p-9\">Large survey sample captured to identify current cannabis usage patterns and perceptions in women aged 35 and over.</p>\n",
       "<p id=\"p-10\">Current cannabis usage was characterised in women, including reason for use, frequency, duration, type of cannabis product, product access and for which menopause symptoms cannabis was used for.</p>\n",
       "<p id=\"p-11\">Study conducted in a geographical area where cannabis is fully legalised for recreational and medical use with a wide range of cannabis products legally available.</p>\n",
       "<p id=\"p-12\">Online survey data collection may impact complete representativity of the findings to the general population.</p>\n",
       "<p id=\"p-13\">Conducting self-reported surveys carry risks of information biases, such as prevarication and notoriety biases, or responses influenced by social desirability.</p>\n"
      ],
      "text/plain": [
       "<IPython.core.display.HTML object>"
      ]
     },
     "metadata": {},
     "output_type": "display_data"
    },
    {
     "name": "stdout",
     "output_type": "stream",
     "text": [
      "Start\n"
     ]
    },
    {
     "data": {
      "text/html": [
       "<h2>Abstract</h2>\n",
       "<h3>Background</h3>\n",
       "<p><em>Klebsiella pneumoniae</em> is the most common pathogen causing neonatal infections, leading to high mortality worldwide. Along with increasing antimicrobial use in neonates, carbapenem-resistant <em>K</em>. <em>pneumoniae</em> (CRKP) has emerged as a severe challenge for infection control and treatment. However, no comprehensive systematic review is available to describe the global epidemiology of neonatal CRKP infections. We therefore performed a systematic review of available data worldwide and combined a genome-based analysis to address the prevalence, clonal diversity, and carbapenem resistance genes of CRKP causing neonatal infections.</p>\n",
       "<h3>Methods and findings</h3>\n",
       "<p>We performed a systematic review of studies reporting population-based neonatal infections caused by CRKP in combination with a genome-based analysis of all publicly available CRKP genomes with neonatal origins. We searched multiple databases (PubMed, Web of Science, Embase, Ovid MEDLINE, Cochrane, bioRxiv, and medRxiv) to identify studies that have reported data of neonatal CRKP infections up to June 30, 2022. We included studies addressing the prevalence of CRKP infections and colonization in neonates but excluded studies lacking the numbers of neonates, the geographical location, or independent data on <em>Klebsiella</em> or CRKP isolates. We used narrative synthesis for pooling data with JMP statistical software. We identified 8,558 articles and excluding those that did not meet inclusion criteria. We included 128 studies, none of which were preprints, comprising 127,583 neonates in 30 countries including 21 low- and middle-income countries (LMICs) for analysis. We found that bloodstream infection is the most common infection type in reported data. We estimated that the pooled global prevalence of CRKP infections in hospitalized neonates was 0.3% (95% confidence interval [CI], 0.2% to 0.3%). Based on 21 studies reporting patient outcomes, we found that the pooled mortality of neonatal CRKP infections was 22.9% (95% CI, 13.0% to 32.9%). A total of 535 neonatal CRKP genomes were identified from GenBank including Sequence Read Archive, of which 204 were not linked to any publications. We incorporated the 204 genomes with a literature review for understanding the species distribution, clonal diversity, and carbapenemase types. We identified 146 sequence types (STs) for neonatal CRKP strains and found that ST17, ST11, and ST15 were the 3 most common lineages. In particular, ST17 CRKP has been seen in neonates in 8 countries across 4 continents. The vast majority (75.3%) of the 1,592 neonatal CRKP strains available for analyzing carbapenemase have genes encoding metallo-β-lactamases and NDM (New Delhi metallo-β-lactamase) appeared to be the most common carbapenemase (64.3%). The main limitation of this study is the absence or scarcity of data from North America, South America, and Oceania.</p>\n",
       "<h3>Conclusions</h3>\n",
       "<p>CRKP contributes to a considerable number of neonatal infections and leads to significant neonatal mortality. Neonatal CRKP strains are highly diverse, while ST17 is globally prevalent and merits early detection for treatment and prevention. The dominance of <em>bla</em><sub>NDM</sub> carbapenemase genes imposes challenges on therapeutic options in neonates and supports the continued inhibitor-related drug discovery.</p>\n",
       "<h2>Author summary</h2>\n",
       "<h3>Why was this study done?</h3>\n",
       "<h3>What did the researchers do and find?</h3>\n",
       "<h3>What do these findings mean?</h3>\n",
       "<p><strong>Citation: </strong>Hu Y, Yang Y, Feng Y, Fang Q, Wang C, Zhao F, et al.  (2023) Prevalence and clonal diversity of carbapenem-resistant <em>Klebsiella pneumoniae</em> causing neonatal infections: A systematic review of 128 articles across 30 countries. PLoS Med 20(6):\n",
       "           e1004233.\n",
       "        \n",
       "        https://doi.org/10.1371/journal.pmed.1004233</p>\n",
       "<p><strong>Received: </strong>July 13, 2022; <strong>Accepted: </strong>April 4, 2023; <strong>Published: </strong> June 20, 2023</p>\n",
       "<p><strong>Copyright: </strong> © 2023 Hu et al. This is an open access article distributed under the terms of the <a href=\"http://creativecommons.org/licenses/by/4.0/\">Creative Commons Attribution License</a>, which permits unrestricted use, distribution, and reproduction in any medium, provided the original author and source are credited.</p>\n",
       "<p><strong>Data Availability: </strong>All relevant data are within the manuscript and its <a href=\"#sec024\">Supporting Information</a> files.</p>\n",
       "<p><strong>Funding: </strong>The work was supported by a joint grant from the National Natural Science Foundation of China (81861138055 to ZZ) and the Medical Research Council (MR/S013660/1 to AM) and grants from West China Hospital of Sichuan University (ZYYC08006 and ZYGD22001 to ZZ). The funders had no role in study design, data collection and analysis, decision to publish, or preparation of the manuscript.</p>\n",
       "<p><strong>Competing interests: </strong> The authors have declared that no competing interests exist.</p>\n",
       "<p><strong>Abbreviations:\n",
       "          </strong>ANI,\n",
       "            average nucleotide identity; CI,\n",
       "            confidence interval; CRE,\n",
       "            carbapenem-resistant Enterobacterales; CRKP,\n",
       "            carbapenem-resistant <em>K</em>. <em>pneumoniae</em>; ESBL,\n",
       "            extended-spectrum β-lactamase; IQR,\n",
       "            interquartile range; LMIC,\n",
       "            low- and middle-income country; MALDI-TOF MS,\n",
       "            matrix-assisted laser desorption ionization-time of flight mass spectrometry; MBL,\n",
       "            metallo-β-lactamase; NDM,\n",
       "            New Delhi metallo-β-lactamase; NICU,\n",
       "            neonatal intensive care unit; NOS,\n",
       "            Newcastle–Ottawa Scale; SRA,\n",
       "            Sequence Read Archive; ST,\n",
       "            sequence type</p>\n"
      ],
      "text/plain": [
       "<IPython.core.display.HTML object>"
      ]
     },
     "metadata": {},
     "output_type": "display_data"
    },
    {
     "name": "stdout",
     "output_type": "stream",
     "text": [
      "Start\n"
     ]
    },
    {
     "data": {
      "text/html": [
       "<h2>Abstract</h2>\n",
       "<h3>Background</h3>\n",
       "<p>Reducing antibiotic treatment duration is a key component of hospital antibiotic stewardship interventions. However, its effectiveness in reducing antimicrobial resistance is uncertain and a clear theoretical rationale for the approach is lacking. In this study, we sought to gain a mechanistic understanding of the relation between antibiotic treatment duration and the prevalence of colonisation with antibiotic-resistant bacteria in hospitalised patients.</p>\n",
       "<h3>Methods and findings</h3>\n",
       "<p>We constructed 3 stochastic mechanistic models that considered both between- and within-host dynamics of susceptible and resistant gram-negative bacteria, to identify circumstances under which shortening antibiotic duration would lead to reduced resistance carriage. In addition, we performed a meta-analysis of antibiotic treatment duration trials, which monitored resistant gram-negative bacteria carriage as an outcome. We searched MEDLINE and EMBASE for randomised controlled trials published from 1 January 2000 to 4 October 2022, which allocated participants to varying durations of systemic antibiotic treatments. Quality assessment was performed using the Cochrane risk-of-bias tool for randomised trials. The meta-analysis was performed using logistic regression. Duration of antibiotic treatment and time from administration of antibiotics to surveillance culture were included as independent variables. Both the mathematical modelling and meta-analysis suggested modest reductions in resistance carriage could be achieved by reducing antibiotic treatment duration. The models showed that shortening duration is most effective at reducing resistance carriage in high compared to low transmission settings. For treated individuals, shortening duration is most effective when resistant bacteria grow rapidly under antibiotic selection pressure and decline rapidly when stopping treatment. Importantly, under circumstances whereby administered antibiotics can suppress colonising bacteria, shortening antibiotic treatment may increase the carriage of a particular resistance phenotype. We identified 206 randomised trials, which investigated antibiotic duration. Of these, 5 reported resistant gram-negative bacteria carriage as an outcome and were included in the meta-analysis. The meta-analysis determined that a single additional antibiotic treatment day is associated with a 7% absolute increase in risk of resistance carriage (80% credible interval 3% to 11%). Interpretation of these estimates is limited by the low number of antibiotic duration trials that monitored carriage of resistant gram-negative bacteria, as an outcome, contributing to a large credible interval.</p>\n",
       "<h3>Conclusions</h3>\n",
       "<p>In this study, we found both theoretical and empirical evidence that reducing antibiotic treatment duration can reduce resistance carriage, though the mechanistic models also highlighted circumstances under which reducing treatment duration can, perversely, increase resistance. Future antibiotic duration trials should monitor antibiotic-resistant bacteria colonisation as an outcome to better inform antibiotic stewardship policies.</p>\n",
       "<h2>Author summary</h2>\n",
       "<h3>Why was this study done?</h3>\n",
       "<h3>What did the researchers do and find?</h3>\n",
       "<h3>What do these findings mean?</h3>\n",
       "<p><strong>Citation: </strong>Mo Y, Oonsivilai M, Lim C, Niehus R, Cooper BS (2023) Implications of reducing antibiotic treatment duration for antimicrobial resistance in hospital settings: A modelling study and meta-analysis. PLoS Med 20(6):\n",
       "           e1004013.\n",
       "        \n",
       "        https://doi.org/10.1371/journal.pmed.1004013</p>\n",
       "<p><strong>Received: </strong>April 25, 2022; <strong>Accepted: </strong>October 17, 2022; <strong>Published: </strong> June 15, 2023</p>\n",
       "<p><strong>Copyright: </strong> © 2023 Mo et al. This is an open access article distributed under the terms of the <a href=\"http://creativecommons.org/licenses/by/4.0/\">Creative Commons Attribution License</a>, which permits unrestricted use, distribution, and reproduction in any medium, provided the original author and source are credited.</p>\n",
       "<p><strong>Data Availability: </strong>The computer code for all simulations and data for the meta-analysis are publicly available (<a href=\"https://github.com/moyinNUHS/abxduration_abm\">https://github.com/moyinNUHS/abxduration_abm</a>).</p>\n",
       "<p><strong>Funding: </strong>This work was supported by the Singapore National Medical Research Council Research Fellowship (NMRC/Fellowship/0051/2017 to MY), the UK Medical Research Council (MR/V028456/1 to BSC), the Wellcome Trust (206736/Z/17/Z to CL and 106698/Z/14/Z to Mahidol Oxford Tropical Medicine Research Programme). The funders had no role in study design, data collection and analysis, decision to publish, or preparation of the manuscript.</p>\n",
       "<p><strong>Competing interests: </strong> The authors have declared that no competing interests exist.</p>\n"
      ],
      "text/plain": [
       "<IPython.core.display.HTML object>"
      ]
     },
     "metadata": {},
     "output_type": "display_data"
    },
    {
     "name": "stdout",
     "output_type": "stream",
     "text": [
      "Start\n"
     ]
    },
    {
     "data": {
      "text/html": [
       "<h2>Abstract</h2>\n",
       "<h3>Introduction</h3>\n",
       "<p>Among individuals ≥ 65 years old, aortic stenosis is highly prevalent and the number of cases is expected to increase in the coming decades, due to the increased life expectancy. Nevertheless, the actual aortic stenosis burden is not well known in population settings and the impact of aortic stenosis on quality of life has not been studied. The aim of this study was to evaluate aortic stenosis impact on health-related quality of life in patients &gt; 65 years old.</p>\n",
       "<h3>Methods</h3>\n",
       "<p>An epidemiological case-control study was carried out to compare quality of life in patients ≥65 years old with severe symptomatic aortic stenosis. Demographical and clinical information was prospectively obtained and quality of life information was collected with the Short Form Health Survey_v2 (SF-12) questionnaire. The association between quality of life and aortic stenosis was determined using multiple logistic regression models.</p>\n",
       "<h3>Results</h3>\n",
       "<p>Patients with severe aortic stenosis self-perceived worse quality of life on all dimensions and summary components of the SF-12 questionnaire. In the final multiple logistic regression model a significant inverse association was observed between the dimensions ‘physical role’ and ‘social role’ (p = 0.002 and p = 0.005) and an association close to significance with ‘physical role’ (p = 0.052) of the SF-12 questionnaire.</p>\n",
       "<h3>Conclusion</h3>\n",
       "<p>The use of quality of life scales allows the assessment of the impact of aortic stenosis on quality of life and may improve the therapeutic approach to severe aortic stenosis, providing evidence for patient‐centered care.</p>\n",
       "<p><strong>Citation: </strong>Gracia Baena JM, Marsal Mora JR, Llorca Cardeñosa S, Calaf Vall I, Zielonka M, Godoy P (2023) Impact of severe aortic stenosis on quality of life. PLoS ONE 18(6):\n",
       "           e0287508.\n",
       "        \n",
       "        https://doi.org/10.1371/journal.pone.0287508</p>\n",
       "<p><strong>Editor: </strong>Alessandro Leone, Universitaria di Bologna, ITALY</p>\n",
       "<p><strong>Received: </strong>June 24, 2022; <strong>Accepted: </strong>May 30, 2023; <strong>Published: </strong> June 21, 2023</p>\n",
       "<p><strong>Copyright: </strong> © 2023 Gracia Baena et al. This is an open access article distributed under the terms of the <a href=\"http://creativecommons.org/licenses/by/4.0/\">Creative Commons Attribution License</a>, which permits unrestricted use, distribution, and reproduction in any medium, provided the original author and source are credited.</p>\n",
       "<p><strong>Data Availability: </strong>All relevant data are within the manuscript.</p>\n",
       "<p><strong>Funding: </strong>The author(s) received no specific funding for this work.</p>\n",
       "<p><strong>Competing interests: </strong> The authors have declared that no competing interests exist.</p>\n"
      ],
      "text/plain": [
       "<IPython.core.display.HTML object>"
      ]
     },
     "metadata": {},
     "output_type": "display_data"
    },
    {
     "name": "stdout",
     "output_type": "stream",
     "text": [
      "Start\n"
     ]
    },
    {
     "data": {
      "text/html": [
       "<h2>Abstract</h2>\n",
       "<p>Sickleweed (<em>Falcaria vulgaris</em>) is the name of a species of annual, and perennial herbaceous plants of the genus <em>Falcaria</em>. Climate change could negatively influnces the performance of various plant species in plant kingdom. In this study, 15 different sickleweed populations from seven provinces of the country were collected based on an unbalanced nest design with 10 replications and the percentage of essential oil, types of chlorophyll, phenol, proline, protein, and carotenoids were measured on them. The results showed that there was a significant difference between populations at the level of one percent for the studied traits. The results of the mean comparison showed that populations Ard-Shaban and Qaz-Ilan in terms of the evaluated traits and especially the percentage of essential oil were at the upper of the studied samples and selected as suitable populations. In addition, populations Gilan-Deylaman and Kur-Gerger-e Sofla were also identified as superior populations in terms of studied traits by cluster analysis and principle component analysis (PCA). Since the high level of proline and biochemical and physiological traits in plants can play a role in plants’ tolerance to stresses, therefore, populations with high values of these traits can be used in stress tolerance breeding programs. Therefore, in this study, populations Gilan-Deylaman and Kur-Gerger-e Sofla can be suitable populations for this purpose. In addition, the essential oil of this plant is used in the treatment of diseases, and therefore populations Ard-Shaban and Qaz-Ilan, which showed a high percentage of essential oil, can be used in breeding programs to increase the performance of this trait.</p>\n",
       "<p><strong>Citation: </strong>Rahimi M, Kordrostami M, Nasiri J (2023) Evaluation of biochemical, physiological traits and percentage of essential oil of sickleweed (<em>Falcaria vulgaris</em>) population in different geographical and climatic regions. PLoS ONE 18(6):\n",
       "           e0287480.\n",
       "        \n",
       "        https://doi.org/10.1371/journal.pone.0287480</p>\n",
       "<p><strong>Editor: </strong>Alia Ahmed, University of Balochistan, PAKISTAN</p>\n",
       "<p><strong>Received: </strong>February 6, 2023; <strong>Accepted: </strong>June 6, 2023; <strong>Published: </strong> June 21, 2023</p>\n",
       "<p><strong>Copyright: </strong> © 2023 Rahimi et al. This is an open access article distributed under the terms of the <a href=\"http://creativecommons.org/licenses/by/4.0/\">Creative Commons Attribution License</a>, which permits unrestricted use, distribution, and reproduction in any medium, provided the original author and source are credited.</p>\n",
       "<p><strong>Data Availability: </strong>All relevant data are within the paper.</p>\n",
       "<p><strong>Funding: </strong>This work was supported by the Iran National Science Foundation (INSF) under grant number [99026928]. The funders had no role in study design, data collection and analysis, decision to publish, or preparation of the manuscript.</p>\n",
       "<p><strong>Competing interests: </strong> The authors have declared that no competing interests exist.</p>\n"
      ],
      "text/plain": [
       "<IPython.core.display.HTML object>"
      ]
     },
     "metadata": {},
     "output_type": "display_data"
    },
    {
     "name": "stdout",
     "output_type": "stream",
     "text": [
      "Start\n"
     ]
    },
    {
     "data": {
      "text/html": [
       "\n",
       "<h2 tabindex=\"0\" data-test=\"article-collection\" class=\"h4 green-heading-underline width-fit-content\">\n",
       "                    This paper is in the following\n",
       "                    <span class=\"collection__span\">e-collection/theme issue:</span></h2>\n",
       "<p id=\"main-content\" tabindex=\"0\">\n",
       "                            Published on\n",
       "                            <time datetime=\"21.2023\">21.6.2023\n",
       "                            </time>\n",
       "                            in\n",
       "                            <span data-test=\"issue-info\"><a href=\"/2023/1\" class=\"nuxt-link-active\">\n",
       "                                    Vol 25\n",
       "                                    <!----> (2023)\n",
       "                                    <!----></a></span></p>\n",
       "<h2 class=\"info__hidden-title\">\n",
       "                            Enhancing Evidence-Based Pharmacy by Comparing the Quality of Web-Based Information Sources to the EVInews Database: Randomized Controlled Trial With German Community Pharmacists\n",
       "                        </h2>\n",
       "<p tabindex=\"0\" class=\"authors-for-screen-reader\">\n",
       "                                Authors of this article:\n",
       "                            </p>\n",
       "<h4 class=\"h4-original-paper\"><span class=\"typcn typcn-document-text\"></span>Original Paper</h4>\n",
       "<p><sup>1</sup>Department of Clinical Pharmacy, Institute of Pharmacy, Faculty of Medicine, Leipzig University, Leipzig, Germany</p>\n",
       "<p><sup>2</sup>Drug Safety Center, Leipzig University Hospital, Leipzig University, Leipzig, Germany</p>\n",
       "<h3>Corresponding Author:</h3>\n",
       "<p>Thilo Bertsche, Prof Dr</p>\n",
       "<p></p>\n",
       "<p>Department of Clinical Pharmacy</p>\n",
       "<p>Institute of Pharmacy, Faculty of Medicine, Leipzig University</p>\n",
       "<p>Bruederstraße 32</p>\n",
       "<p>Leipzig, 04103</p>\n",
       "<p>Germany</p>\n",
       "<p>Phone: 49 0341   97 11800</p>\n",
       "<p>Email: <a href=\"mailto:thilo.bertsche@uni-leipzig.de\">thilo.bertsche@uni-leipzig.de</a></p>\n",
       "<h3 id=\"Abstract\" class=\"navigation-heading\" data-label=\"Abstract\">Abstract</h3>\n",
       "<p><span class=\"abstract-sub-heading\">Background: </span>Self-medication counseling in community pharmacies plays a crucial role in health care. Counseling advice should therefore be evidence-based. Web-based information and databases are commonly used as electronic information sources. EVInews is a self-medication–related information tool consisting of a database and monthly published newsletters for pharmacists. Little is known about the quality of pharmacists’ electronic information sources for evidence-based self-medication counseling.<br></p>\n",
       "<p><span class=\"abstract-sub-heading\">Objective: </span>Our aim was to investigate the quality of community pharmacists’ web-based search results for self-medication–related content in comparison with the EVInews database, based on an adjusted quality score for pharmacists.<br></p>\n",
       "<p><span class=\"abstract-sub-heading\">Methods: </span>After receiving ethics approval, we performed a quantitative web-based survey with a search task as a prospective randomized, controlled, and unblinded trial. For the search task, participants were instructed to search for evidence-based information to verify 6 health-related statements from 2 typical self-medication indications. Pharmacists across Germany were invited via email to participate. After providing written informed consent, they were automatically, randomly assigned to use either web-based information sources of their choice without the EVInews database (web group) or exclusively the EVInews database (EVInews group). The quality of the information sources that were used for the search task was then assessed by 2 evaluators using a quality score ranging from 100% (180 points, all predefined criteria fulfilled) to 0% (0 points, none of the predefined criteria fulfilled). In case of assessment discrepancies, an expert panel consisting of 4 pharmacists was consulted.<br></p>\n",
       "<p><span class=\"abstract-sub-heading\">Results: </span>In total, 141 pharmacists were enrolled. In the Web group (n=71 pharmacists), the median quality score was 32.8% (59.0 out of 180.0 points; IQR 23.0-80.5). In the EVInews group (n=70 pharmacists), the median quality score was significantly higher (85.3%; 153.5 out of 180.0 points; <i>P</i>&lt;.001) and the IQR was smaller (IQR 125.1-157.0). Fewer pharmacists completed the entire search task in the Web group (n=22) than in the EVInews group (n=46). The median time to complete the search task was not significantly different between the Web group (25.4 minutes) and the EVInews group (19.7 minutes; <i>P</i>=.12). The most frequently used web-based sources (74/254, 29.1%) comprised tertiary literature.<br></p>\n",
       "<p><span class=\"abstract-sub-heading\">Conclusions: </span>The median quality score of the web group was poor, and there was a significant difference in quality scores in favor of the EVInews group. Pharmacists’ web-based and self-medication–related information sources often did not meet standard quality requirements and showed considerable variation in quality.<br></p>\n",
       "<p><span class=\"abstract-sub-heading\">Trial Registration: </span>German Clinical Trials Register DRKS00026104; https://drks.de/search/en/trial/DRKS00026104<br></p>\n",
       "<h3 class=\"h3-main-heading\" id=\"Keywords\">Keywords</h3>\n",
       "<h3 class=\"navigation-heading h3-main-heading\" id=\"Introduction\" data-label=\"Introduction\">Introduction</h3>\n",
       "<h4>Background</h4>\n",
       "<p class=\"abstract-paragraph\">The treatment of clinical complaints with over-the-counter (OTC) products plays a substantial role in health care [<span class=\"footers\"><a class=\"citation-link\" href=\"#ref1\" rel=\"footnote\">1</a></span>]. Community pharmacists are often the first and only point of contact within the health care system for self-medication–related inquiries [<span class=\"footers\"><a class=\"citation-link\" href=\"#ref2\" rel=\"footnote\">2</a></span>]. Self-medication counseling by pharmacists can contribute to a cost-effective, individualized, safe medical care on the patient level and consequently to a relief of the burden of the entire health care system [<span class=\"footers\"><a class=\"citation-link\" href=\"#ref3\" rel=\"footnote\">3</a></span>,<span class=\"footers\"><a class=\"citation-link\" href=\"#ref4\" rel=\"footnote\">4</a></span>]. External evidence is required for well-grounded consultations and a key factor within the 3-fold evidence-based pharmacy (EbPharm) concept, which derived from evidence-based medicine [<span class=\"footers\"><a class=\"citation-link\" href=\"#ref5\" rel=\"footnote\">5</a></span>]. Apart from external evidence, the pharmacist’s practical experience and the patient’s preference should be considered when counseling [<span class=\"footers\"><a class=\"citation-link\" href=\"#ref6\" rel=\"footnote\">6</a></span>,<span class=\"footers\"><a class=\"citation-link\" href=\"#ref7\" rel=\"footnote\">7</a></span>]. However, a lack of information sources, time, and search skills has been identified as common barriers to EbPharm [<span class=\"footers\"><a class=\"citation-link\" href=\"#ref8\" rel=\"footnote\">8</a></span>-<span class=\"footers\"><a class=\"citation-link\" href=\"#ref18\" rel=\"footnote\">18</a></span>]. Consequently, various evidence-based information resources were introduced to reduce the evidence-to-practice gap. Among all information sources, electronic sources are of increasing importance for pharmacists [<span class=\"footers\"><a class=\"citation-link\" href=\"#ref19\" rel=\"footnote\">19</a></span>,<span class=\"footers\"><a class=\"citation-link\" href=\"#ref20\" rel=\"footnote\">20</a></span>]. The majority of information sources are however not targeted for community pharmacists, especially not in the context of self-medication counseling [<span class=\"footers\"><a class=\"citation-link\" href=\"#ref21\" rel=\"footnote\">21</a></span>-<span class=\"footers\"><a class=\"citation-link\" href=\"#ref29\" rel=\"footnote\">29</a></span>]. The EVInews project is an example for an electronic, evidence-based self-medication–related information platform for community pharmacists in Germany [<span class=\"footers\"><a class=\"citation-link\" href=\"#ref30\" rel=\"footnote\">30</a></span>].</p>\n",
       "<p class=\"abstract-paragraph\">Little is known about the quality and the kind of electronic information sources that pharmacists use for evidence-based self-medication counseling. Information quality in the context of health is defined as a multidimensional concept that describes the fulfillment of individually predefined criteria [<span class=\"footers\"><a class=\"citation-link\" href=\"#ref31\" rel=\"footnote\">31</a></span>,<span class=\"footers\"><a class=\"citation-link\" href=\"#ref32\" rel=\"footnote\">32</a></span>]. Several attempts have been made to measure the quality of electronic information sources through validated instruments [<span class=\"footers\"><a class=\"citation-link\" href=\"#ref33\" rel=\"footnote\">33</a></span>-<span class=\"footers\"><a class=\"citation-link\" href=\"#ref39\" rel=\"footnote\">39</a></span>]. Standard categories of these instruments address an information source’s transparency, accuracy, completeness, and readability for instance [<span class=\"footers\"><a class=\"citation-link\" href=\"#ref40\" rel=\"footnote\">40</a></span>]. These instruments help identify valid information among the increasing body of available electronic data. Previous instruments, as a limitation, were only used for patient-oriented websites.</p>\n",
       "<p class=\"abstract-paragraph\">To date, literature about the quality of pharmacists’ electronic information sources for self-medication counseling has been scarce. In particular, studies that investigate the quality based on appropriate standard quality criteria of such electronic information sources are missing.</p>\n",
       "<h4>Study Objectives</h4>\n",
       "<p class=\"abstract-paragraph\">Our aim was to investigate the quality of community pharmacists’ web-based search results for self-medication–related content when using the internet in comparison with the EVInews database, based on an adjusted quality score for pharmacists. Furthermore, this study attempted to explore what types of web-based sources are used for evidence-based self-medication counseling and how much time is needed under everyday practice conditions.</p>\n",
       "<h3 class=\"navigation-heading h3-main-heading\" id=\"Methods\" data-label=\"Methods\">Methods</h3>\n",
       "<h4>Study Design</h4>\n",
       "<p class=\"abstract-paragraph\">A quantitative, unblinded, prospective randomized controlled trial including a web-based survey with an unblinded search task and a parallel study design was carried out between February 1, 2021, and April 30, 2021. The survey and data collection were conducted using SoSci Survey, Leiner DJ (version 3.1.06). Participating pharmacists were automatically assigned through the randomization function of the software in a 1:1 allocation ratio to either study group after giving their informed consent.</p>\n",
       "<h4>Study Population and Setting</h4>\n",
       "<p class=\"abstract-paragraph\">Community pharmacists across Germany within 5 different federal pharmacy chambers (Baden-Württemberg, Bavaria, Mecklenburg-Western Pomerania, Lower Saxony, and Saxony) were invited via an email to participate remotely and anonymously without any incentives. For this purpose, invitations containing the survey were sent via email to all community pharmacies that agreed to receive survey invitations and were listed in the email list of each federal pharmacy chamber. The completeness rate of the survey and time needed for completion were assessed through the SoSci Survey software. A reminder email was sent after 1 month if less than 15 participants within a pharmacy chamber were enrolled. Participants had to be licensed pharmacists to be included in the study.</p>\n",
       "<h4>Study Groups</h4>\n",
       "<p class=\"abstract-paragraph\">Participants were instructed to solely use either web-based information sources of their choice except for the EVInews database (web group) or exclusively the EVInews database (EVInews group). The EVInews group accessed the database via the link provided [<span class=\"footers\"><a class=\"citation-link\" href=\"#ref41\" rel=\"footnote\">41</a></span>] and a test account.</p>\n",
       "<h4>Survey Structure</h4>\n",
       "<p class=\"abstract-paragraph\">The survey was divided into 3 main categories as follows: sociodemographic data, verification of 6 health-related statements with assigned information source type from 2 typical self-medication indications (search task), and self-evaluation of search skills and feedback.</p>\n",
       "<h4>Search Task</h4>\n",
       "<p class=\"abstract-paragraph\">Participants of both study groups were asked to verify 6 health-related statements from 2 typical self-medication indications (Table S1 in <span class=\"footers\"><a class=\"citation-link\" href=\"#app1\" rel=\"footnote\">Multimedia Appendix 1</a></span>) with a quote and the corresponding information source (search task). Of the 6 statements, 3 belonged to the self-medication indications recurrent herpes labialis and female androgenetic alopecia, respectively<i>.</i> The indications were chosen deliberately because they require specific knowledge but are nonetheless relevant for everyday practice, and content was available in the EVInews database.</p>\n",
       "<p class=\"abstract-paragraph\">A video and a short written summary were presented to all participants to inform them about the study protocol. The 3 statements of each indication were then displayed in an alternating order based on the software’s Rotate Blocks function to the participants. This was used to prevent learning effects and therefore a distortion of the results. Participants were then instructed to copy and paste their quote and link of the information source that proved or disproved the correctness of each statement in designated textboxes.</p>\n",
       "<h4>The EVInews Database</h4>\n",
       "<p class=\"abstract-paragraph\">The EVInews project was launched in 2017 and is based on the resolution of the Federal Union of German Associations of Pharmacists (ABDA) to help implement EbPharm into everyday practice. It consists of a website with general EbPharm information, monthly published newsletters, and a corresponding document-oriented database, which are free of charge. Once registered, users can access the database through a login. Independent pharmacists from the Department of Clinical Pharmacy at Leipzig University compose the newsletters with editorial assistance from AVOXA—Media Group German Pharmacist GmbH.</p>\n",
       "<h4>Quality Score</h4>\n",
       "<p class=\"abstract-paragraph\">An adjusted quality score was used to assess the information sources that were used for the search task. Therefore, a rating scheme for the evaluation of the search task was created (Table S2 in <span class=\"footers\"><a class=\"citation-link\" href=\"#app2\" rel=\"footnote\">Multimedia Appendix 2</a></span>).</p>\n",
       "<h4>Rating Scheme</h4>\n",
       "<p class=\"abstract-paragraph\">Rating scheme criteria were chosen and adapted based on validated quality scores and questionnaires reported in the literature [<span class=\"footers\"><a class=\"citation-link\" href=\"#ref35\" rel=\"footnote\">35</a></span>-<span class=\"footers\"><a class=\"citation-link\" href=\"#ref37\" rel=\"footnote\">37</a></span>] as well as previous findings [<span class=\"footers\"><a class=\"citation-link\" href=\"#ref32\" rel=\"footnote\">32</a></span>,<span class=\"footers\"><a class=\"citation-link\" href=\"#ref39\" rel=\"footnote\">39</a></span>,<span class=\"footers\"><a class=\"citation-link\" href=\"#ref42\" rel=\"footnote\">42</a></span>-<span class=\"footers\"><a class=\"citation-link\" href=\"#ref44\" rel=\"footnote\">44</a></span>]. The rating scheme consists of 18 nominal- to ordinal-scaled criteria that address predefined quality standards. We selected existing and added new criteria that were relevant for the search task. The rating scheme criteria were grouped together in the categories “transparency,” “quality of evidence,” and “usability” for the information sources and “accuracy” for the evaluation of the quotes. Each quote’s accuracy was evaluated subjectively with regard to logic, rationale, and comprehension and objectively based on a summative content analysis. Of all items, 12 had a dichotomous response format and 6 had an ordinal response format.</p>\n",
       "<h4>Quality Assessment Procedure</h4>\n",
       "<p class=\"abstract-paragraph\">Participants’ quotes and sources were independently evaluated by 2 evaluators (MR and JMA) based on the rating scheme and merged after analysis completion. A total median was calculated based on the 2 different evaluations. The maximum quality score for a quote and information source for all 6 statements accounted to 180 points (ie, all criteria were fulfilled). Each rater was requested to provide reasons for point allocation.</p>\n",
       "<h4>Study Subgroups</h4>\n",
       "<p class=\"abstract-paragraph\">Because not all participants completed the search task of the survey, a subgroup analysis of these participants was performed as demonstrated in <span class=\"footers\"><a class=\"citation-link\" href=\"#figure1\" rel=\"footnote\">Figure 1</a></span>. Participants who chose at least 1 answer option including “I do not know” within the search task were defined as “met the eligibility criteria (‘all’).” Participants who chose 1 answer option and verified at least 1 statement with a quote and source were defined as “completed search task partially (subgroup ‘completed partially’).” Participants who verified all 6 health-related statements were defined as “completed search task fully (subgroup ‘completed fully’).”</p>\n",
       "<h4>General Study Procedure</h4>\n",
       "<p class=\"abstract-paragraph\">The study procedure is shown in <span class=\"footers\"><a class=\"citation-link\" href=\"#figure2\" rel=\"footnote\">Figure 2</a></span>.</p>\n",
       "<p class=\"abstract-paragraph\">The survey consisted of 32 questions, which included close-ended and open-ended questions. Dichotomous, 4-point Likert scales and multiple-choice answer options were given. The level of measurement ranged from nominal- to ordinal-scaled data.</p>\n",
       "<h4>Outcome Parameters</h4>\n",
       "<p class=\"abstract-paragraph\">The primary outcome parameter was the difference in quality scores between the study groups. Secondary outcome parameters included a subgroup analysis, quality scores of the rating scheme categories of transparency, quality of evidence, and usability, the characterization of web-based information sources, a correlational analysis of sociodemographic characteristics and quality scores, a self-evaluation of search skills by the participants, and assessment of the time needed to perform the search task.</p>\n",
       "<h4>Sample Size</h4>\n",
       "<p class=\"abstract-paragraph\">The estimated sample size was calculated using the G*Power, software, Faul F, Erdfelder E, Buchner A, Lang AG (version 3.1). No information regarding the primary target distribution was available. Based on the results of a pilot test, a double-sided Mann-Whitney <i>U</i> test for nonparametric, independent samples was used a priori to determine the required sample size for a significant difference in quality scores. At a significance level of α=.05 and a CI of 95%, a sample size of at least 44 pharmacists per group would provide a power of 1 – β=.80. We estimated attrition to be 50% and consequently strived for a greater sample size.</p>\n",
       "<h4>Data Analysis</h4>\n",
       "<p class=\"abstract-paragraph\">Only data of participants who processed the search task and did not violate the study protocol were included in the data analysis. The analysis was performed using Excel (versions 2105 and 2016; Microsoft Corp) and SPSS Statistics (version 25 and 26; IBM Corp). Results for the primary target parameter (quality score) were expressed as median and first and third quartile (Q<sub>25</sub>/Q<sub>75</sub>). They were compared using a 2-sided Mann-Whitney <i>U</i> test for independent samples. The comparison of quality subscores was performed likewise with a Bonferroni correction. Descriptive statistics were used to summarize the responses. The Spearman rank correlation coefficients were calculated to investigate the relationship between quality scores and sociodemographic data.</p>\n",
       "<h4>Quality Assurance Means</h4>\n",
       "<p class=\"abstract-paragraph\">To ensure feasibility and exclude comprehension difficulties, pretests and pilot tests were conducted between October 26, 2020, and January 19, 2021. The pretests were carried out with 23 pharmacists. The first 12 pretests were executed using the think-aloud method, the remaining using the standard observation before the test. After a revision and adjustment of the survey and rating scheme, a pilot test with 37 pharmacists and advanced pharmacy students as pretesters was performed, resulting in minor modifications. Furthermore, to reduce subjective judgment on each quote’s suitability (item 4d within the rating scheme), 1359 relevant keywords in English and German were identified during the pretest phase and used for a summative content analysis. The frequency of these predefined keywords was measured through the Excel (Microsoft Corp) count function for each quote. To assess whether difficulties occurred during the completion of the search task, participants were asked to rate the clarity of this survey and give qualitative feedback if desired. Data generated by the pretest and pilot test were not included in this study.</p>\n",
       "<p class=\"abstract-paragraph\">Quotes and sources that were not analyzable based on the rating scheme by at least one of the evaluators were presented to an expert panel in May 2021. The expert panel consisted of 4 pharmacists specialized or mostly in continuing education to become a pharmacist with a focus on drug information, who were not involved in the EVInews project. Consensus-based point allocation was ultimately done by vote for the remaining uncertainties.</p>\n",
       "<p class=\"abstract-paragraph\">To examine whether differences in rater performance were present, interrater reliability was assessed using the Cohen κ statistic. The Cohen κ coefficient for each item of the rating scheme and subsequently for all rating scheme items was calculated and compared with the qualitative interrater reliability descriptors by Landis and Koch [<span class=\"footers\"><a class=\"citation-link\" href=\"#ref46\" rel=\"footnote\">46</a></span>].</p>\n",
       "<h4>Ethics Approval</h4>\n",
       "<p class=\"abstract-paragraph\">Ethical approval for this study was granted by the ethics committee of the Medical Faculty of the Leipzig University (541/20-ek) on December 5, 2020.</p>\n",
       "<h3 class=\"navigation-heading h3-main-heading\" id=\"Results\" data-label=\"Results\">Results</h3>\n",
       "<h4>Participant’s Characteristics</h4>\n",
       "<p class=\"abstract-paragraph\">The participant flowchart (<span class=\"footers\"><a class=\"citation-link\" href=\"#figure1\" rel=\"footnote\">Figure 1</a></span>) depicts the participants who have been enrolled.</p>\n",
       "<p class=\"abstract-paragraph\">The participant’s characteristics are summarized in <span class=\"footers\"><a class=\"citation-link\" href=\"#table1\" rel=\"footnote\">Table 1</a></span>. Of all 141 participants, 110 (78.0%) were female and 31 (22.0%) were male. The median age interval was between 41 and 50 years (31/141, 22.0%) and more than half of all participants had more than 11 years of work experience (79/141, 56.0%). A reminder email was sent to the members of the Pharmacy Chamber of Saxony because of a low response rate in the first round.</p>\n",
       "<p class=\"abstract-paragraph\">A Fisher exact test revealed no significant sociodemographic differences between the 2 study groups concerning gender, age, and academic degree.</p>\n",
       "<h4>Primary Outcome Parameter: Quality Score</h4>\n",
       "<p class=\"abstract-paragraph\">The median quality score of the Web group (n=71 pharmacists) was 32.8% (59.0 out of 180.0 points) and that of the EVInews group (n=70) was 85.3% (153.5 out of 180.0 points, <i>P</i>&lt;.001; <span class=\"footers\"><a class=\"citation-link\" href=\"#figure3\" rel=\"footnote\">Figure 3</a></span>). The variability of the quality score in the Web group (IQR 23.0-80.5) was larger than that in the EVInews group (IQR 125.1-157.0). <span class=\"footers\"><a class=\"citation-link\" href=\"#table2\" rel=\"footnote\">Table 2</a></span> displays all quality score results.</p>\n",
       "<p><sup>a</sup>The statements can be found in Table S1 in <span class=\"footers\"><a class=\"citation-link\" href=\"#app1\" rel=\"footnote\">Multimedia Appendix 1</a></span>.</p>\n",
       "<p><sup>b</sup>AGA: androgenetic alopecia.</p>\n",
       "<h4>Secondary Outcome Parameters</h4>\n",
       "<p class=\"abstract-paragraph\">Results of the subgroup analysis of the subgroups entitled “completed partially” and “completed fully” are shown in <span class=\"footers\"><a class=\"citation-link\" href=\"#table2\" rel=\"footnote\">Table 2</a></span> and illustrated in <span class=\"footers\"><a class=\"citation-link\" href=\"#figure3\" rel=\"footnote\">Figure 3</a></span>.</p>\n",
       "<p class=\"abstract-paragraph\">Quality scores per rating scheme category were calculated and revealed statistically significant differences, as shown in <span class=\"footers\"><a class=\"citation-link\" href=\"#table3\" rel=\"footnote\">Table 3</a></span>.</p>\n",
       "<p class=\"abstract-paragraph\">The web-based information sources that were provided by the participants for the search task varied greatly, as illustrated in <span class=\"footers\"><a class=\"citation-link\" href=\"#app3\" rel=\"footnote\">Multimedia Appendix 3</a></span>.</p>\n",
       "<p class=\"abstract-paragraph\">A total of 254 out of potentially 426 web-based information sources (6 statements × 71 participants) were given by 71 participants within the study arm of the web group to verify 6 health-related statements. A list of references was enclosed in 42.9% (109/254) of all web-based sources. Information about the author was provided in 69.7% (177/254) of all the web-based sources, and 34.3% (87/254) were published within the last 3 years (reference date February 1, 2021).</p>\n",
       "<p class=\"abstract-paragraph\">The results of the correlational analysis are shown in <span class=\"footers\"><a class=\"citation-link\" href=\"#table4\" rel=\"footnote\">Table 4</a></span>. A 2-tailed statistical significance was only detected for the positive correlation between the participant’s estimated annual frequency of searches and quality scores for both study groups and a negative correlation between the age, professional experience, and quality scores within the EVInews group.</p>\n",
       "<p><sup>a</sup>OTC: over-the-counter.</p>\n",
       "<p class=\"abstract-paragraph\">The responses of the self-evaluation (web group, n=44; EVInews group, n=58) were as follows. A total of 25% (11/44) of participants within the web group agreed fully that they were able to find the desired information in contrast to 71% (41/58) of the EVInews group. Furthermore, 46% (20/44) of the participants within the web group indicated that they conducted between no literature searches with literature databases such as MEDLINE via PubMed and 39% (17/44) to up to 12 per year in comparison with 40% (23/58) of the EVInews database users and 35% (20/58), respectively. Moreover, 39% (17/44) of participants of the web group estimated their search ability to find evidence-based self-medication information to be “rather good” and 5% (2/44) to be “very good.” Within the EVInews group, 59% (34/58) regarded their search ability to be “rather good” and 9% (5/58) to be “very good.” A total of 72% (42/58) of the EVInews group indicated that they were not familiar with the database before the study participation.</p>\n",
       "<p class=\"abstract-paragraph\">The times needed for the search task completion are shown in <span class=\"footers\"><a class=\"citation-link\" href=\"#table5\" rel=\"footnote\">Table 5</a></span>.</p>\n",
       "<p class=\"abstract-paragraph\">The median for the search task completion was 25.4 (IQR 12.7-43.5) minutes in the web group and 19.7 (IQR 13.6-28.4) minutes in the EVInews group. The completion times include participants who chose the escape option “I don’t know.”</p>\n",
       "<h4>Quality Assurance: Rater Performance</h4>\n",
       "<p class=\"abstract-paragraph\">The extent of agreement between the 2 raters measured using the Cohen κ statistic was “almost perfect” (κ=0.81-1) for the rating scheme items 1, 2, 4a, 4d-13, and 15-18. The extent of agreement on items 14 complied with “substantial agreement” (κ=0.780), items 3 and 4c with “moderate agreement” (κ=0.41-0.60), and item 4b with “slight agreement” (κ=0.077). All values were significantly different from zero (<i>P</i>&lt;.001). The extent of agreement in the form of an overall interrater descriptor for all rating scheme items accounted to κ=0.854.</p>\n",
       "<h3 class=\"navigation-heading h3-main-heading\" id=\"Discussion\" data-label=\"Discussion\">Discussion</h3>\n",
       "<h4>Principal Findings</h4>\n",
       "<p class=\"abstract-paragraph\">We found that the median quality score was significantly lower in the web group than in the EVInews group. Additionally, the variability of median quality scores in the web group was significantly larger and less participants completed the search task fully compared to the EVInews group. Web-based sources often did not meet standard quality requirements. The time needed for the search task completion did not reveal any considerable differences between the 2 groups. The data suggest that community pharmacists struggled to find web-based high-quality, evidence-based information sources for self-medication under everyday practice conditions.</p>\n",
       "<h4>Differences in Quality Scores and Potential Causes</h4>\n",
       "<p class=\"abstract-paragraph\">The web group obtained a significantly lower quality score with 32.8% of criteria fulfilled in comparison to 85.3% in the EVInews group. Several explanations for this result are possible. The statistically significant difference in quality scores may be explained by a lack of transparency information of many web-based sources, which ultimately resulted in lower scores. Examples of missing transparency information include publication dates, literature references, or authorship information. An analysis of the categories transparency and quality of evidence confirmed the persisting difference in scores in favor of the EVInews group.</p>\n",
       "<p class=\"abstract-paragraph\">Furthermore, a subgroup analysis was conducted because the difference in quality could be caused by participants who mostly chose the escape answer option “I don’t know.” A significant difference in quality scores remained when only data from participants, who verified all 6 health-related statements, were included.</p>\n",
       "<p class=\"abstract-paragraph\">The differences in quality scores between the participants could also be explained by personal factors such as different levels of work experience, knowledge, and the skills needed to quickly find suitable external evidence on the internet. However, significant differences in sociodemographic data between both groups were not existent. According to our correlational analysis, there was a positive association between the participant’s estimated annual literature searches and quality scores in both study groups. A negative correlation between the participant’s age as well as professional experience in years and quality scores was only observed within the EVInews group. This may indicate that with increasing practical literature search experience, the ability to find appropriate evidence could increase but with increasing age and professional experience decrease. The factors age and professional experience however only seemed to be associated with the quality scores of the EVInews group. It should be taken into consideration that EbPharm has been established in recent years, and therefore pharmacists who were trained over 30 years ago may not be familiar with this concept. Abu Farha et al [<span class=\"footers\"><a class=\"citation-link\" href=\"#ref10\" rel=\"footnote\">10</a></span>] similarly demonstrated a negative correlation among pharmacists between the familiarity with evidence-based medicine terms and professional experience.</p>\n",
       "<h4>Need for Customized Evidence-Based Information Sources for Pharmacists</h4>\n",
       "<p class=\"abstract-paragraph\">Most of the web-based information resources consisted of tertiary literature in the form of nonscientific pharmacy journals of varying quality and timeliness. Some information resources were 20 years old. Despite its simple nature as a document-oriented database, the majority of participants using the EVInews database “agreed fully” (41/58, 71%) in contrast to the web group (11/44, 25%) that they were able to find the desired information. Users need to sign in before accessing the EVInews database. The login with a username and password is comparable to other information platforms of this kind. This may be regarded as an obstacle to the database’s usage for everyday practice. However, when customers or other health professionals seek evidence-based advice related to OTC products, pharmacists may often not be able to immediately provide all the necessary information anyways. These cases require a search for external evidence under everyday conditions such as simulated in our study. The ability to find the desired information when confronted with such a search task is therefore of great importance and even greater importance than retrieval speed from our point of view. Nonetheless, it remains unknown how much low-quality sources impact the overall consultation quality. Furthermore, the dropout rate was greater in the web group. Only 22 participants within the web group in comparison with 46 within the EVInews group completed the entire search task and verified all 6 health-related statements.</p>\n",
       "<p class=\"abstract-paragraph\">Although the information retrieval times did not differ significantly, the participant’s search results under everyday practice conditions clearly did. An implication of this is the possibility that the participants were simply overwhelmed with the search task because they lacked the necessary search skills and therefore did not complete it fully. Subsequently, this leads to the question: what information do pharmacists rely on when selling OTC products if they cannot find it? These data may furthermore suggest that there is a need for training on how to find and appraise evidence as well as evidence-based information sources for community pharmacists. Because a lack of information sources and search skills is a common barrier to the implementation of EbPharm, information tools may help reduce the evidence-to-practice gap. The EVInews database fulfilled a majority of the standard quality requirements. Once further adjusted, it may be a promising electronic information tool for community pharmacists for evidence-based counseling.</p>\n",
       "<h4>Limitations</h4>\n",
       "<p class=\"abstract-paragraph\">A Hawthorne effect may have influenced the participants’ search behavior in both groups, prompting them to look for the very best evidence in the trial setting. Because of the web-based format, they were, however, not directly observed, and therefore this effect probably plays a minor role.</p>\n",
       "<p class=\"abstract-paragraph\">Raters and participants were not blinded. Because the type of information sources the users were allowed to use was predefined, blinding was not possible. To minimize subjective evaluation, a quantitative approach for the quality evaluation with objective criteria was chosen to ascertain a robust rating performance.</p>\n",
       "<p class=\"abstract-paragraph\">Only 2 OTC-relevant indications were chosen for the search task (Table S1 in <span class=\"footers\"><a class=\"citation-link\" href=\"#app1\" rel=\"footnote\">Multimedia Appendix 1</a></span>). It remains questionable whether these 2 indications were adequate for the search task. Customers’ inquiries regarding the evidence or verification of advertising statements for the treatment of female androgenetic alopecia or recurrent herpes labialis are nonetheless common in everyday counseling practice and were therefore included in this study. Furthermore, on the basis of the pretests and pilot tests, we made sure that there is enough citable literature in German and English available to complete the search task.</p>\n",
       "<p class=\"abstract-paragraph\">The exclusion of tertiary print literature was due to technical difficulties when conducting the web-based survey. However, electronic information sources are frequently used among pharmacists nowadays, especially for the verification of health-related claims.</p>\n",
       "<p class=\"abstract-paragraph\">The rating scheme was not validated before the survey was conducted; hence extensive pretests and pilot tests were performed.</p>\n",
       "<h4>Conclusions</h4>\n",
       "<p class=\"abstract-paragraph\">Community pharmacists struggled to find high-quality electronic self-medication–related information sources under everyday practice conditions in the web group. This is of great importance as self-medication recommendations or simply the verification of statements should not be based on information resources of questionable quality. The search results of the EVInews group met many of the predefined standard quality criteria. Taken together, the findings suggest that there is a need for customized information sources for pharmacists. Evidence-based information tools such as the EVInews database may help in reducing the evidence-to-practice gap.</p>\n",
       "<p></p>\n",
       "<h4 class=\"h4-border-top\">Acknowledgments</h4>\n",
       "<p class=\"abstract-paragraph\">We thank all the collaborators and participants of the survey as well as the ABDA (Federal Union of German Associations of Pharmacists e.V.) and Avoxa (Media Group of German Pharmacists GmbH) for financial support of the EVInews project. We furthermore express our gratitude to all expert panel participants (Simone Eisenhofer, Markus Herzig, Samira Hmaidi, and Susanne Schiek). JMA and MR received third-party funding from the ABDA (Berlin, Germany). We acknowledge the financial support from Leipzig University for Open Access Publishing.</p>\n",
       "<h4 class=\"h4-border-top\">Conflicts of Interest</h4>\n",
       "<p></p>\n",
       "<p class=\"abstract-paragraph\">JMA is one of the EVInews newsletter authors and composed newsletters under the guidance of Thilo Bertsche. All authors developed the rating scheme.</p>\n",
       "<p class=\"abstract-paragraph\"><b>Editorial Notice</b></p>\n",
       "<p class=\"abstract-paragraph\">This randomized study was only retrospectively registered, explained by authors with the following statement: \"Since no patients were exposed to interventions in our study, we initially decided to not register our study prospectively. To meet transparency standards, we however decided to register our study retrospectively.\" The editor granted an exception from ICMJE rules mandating prospective registration of randomized trials, because the risk of bias appears low and the study was considered formative, guiding the development of the application. However, readers are advised to carefully assess the validity of any potential explicit or implicit claims related to primary outcomes or effectiveness, as retrospective registration does not prevent authors from changing their outcome measures retrospectively.</p>\n",
       "<p class=\"abstract-paragraph\">Search-task health-related statements.</p>\n",
       "<p class=\"abstract-paragraph\">Rating Scheme.</p>\n",
       "<p class=\"abstract-paragraph\">Type and frequency distribution of web-based information sources.</p>\n",
       "<p class=\"abstract-paragraph\">CONSORT-eHEALTH checklist (V 1.6.1).</p>\n",
       "<h4 id=\"References\" class=\"h4-border-top navigation-heading\" data-label=\"References\">References</h4>\n",
       "<h4 class=\"navigation-heading\" id=\"Abbreviations\" data-label=\"Abbreviations\">Abbreviations</h4>\n",
       "<p style=\"font-style: italic\">Edited by  A Mavragani; submitted 12.01.23; peer-reviewed by PDC Culmsee,  M Östbring; comments to author 01.03.23; revised version received 14.03.23; accepted 05.04.23; published 21.06.23</p>\n",
       "<p class=\"article-copyright\">©Jennifer Maria Alexa, Matthias Richter, Thilo Bertsche. Originally published in the Journal of Medical Internet Research (https://www.jmir.org), 21.06.2023.</p>\n",
       "<p class=\"abstract-paragraph\">This is an open-access article distributed under the terms of the Creative Commons Attribution License (https://creativecommons.org/licenses/by/4.0/), which permits unrestricted use, distribution, and reproduction in any medium, provided the original work, first published in the Journal of Medical Internet Research, is properly cited. The complete bibliographic information, a link to the original publication on https://www.jmir.org/, as well as this copyright and license information must be included.</p>\n",
       "<h2 class=\"h4 green-heading-underline width-fit-content\">\n",
       "                        Citation\n",
       "                    </h2>\n",
       "<p class=\"fw-bold\">\n",
       "                        Please cite as:\n",
       "                    </p>\n",
       "<p><span>\n",
       "                            Alexa JM<span>,</span></span><span>\n",
       "                            Richter M<span>,</span></span><span>\n",
       "                            Bertsche T<!----></span> <br> <span>Enhancing Evidence-Based Pharmacy by Comparing the Quality of Web-Based Information Sources to the EVInews Database: Randomized Controlled Trial With German Community Pharmacists</span> <br> <span>J Med Internet Res 2023;25:e45582</span> <br> <span>doi:\n",
       "                            <span><a aria-label=\"DOI number 10.2196/45582\" data-test=\"article-doi\" target=\"_blank\" href=\"https://doi.org/10.2196/45582\">\n",
       "                                    10.2196/45582\n",
       "                                </a></span></span> <span style=\"display: block\">\n",
       "                            PMID:\n",
       "                            <span><a data-test=\"article-pmid\" aria-label=\"PMID 37342085\" target=\"_blank\" href=\"https://www.ncbi.nlm.nih.gov/pubmed/37342085\">37342085</a></span></span> <!----></p>\n",
       "<h2 class=\"h4 green-heading-underline width-fit-content\">\n",
       "                        Export Metadata\n",
       "                    </h2>\n",
       "<h2 tabindex=\"0\" data-test=\"article-collection\" class=\"h4 green-heading-underline width-fit-content\">\n",
       "                        This paper is in the following\n",
       "                        <span class=\"collection__span\">e-collection/theme issue:</span></h2>\n",
       "<h2 class=\"h4 green-heading-underline width-fit-content\">\n",
       "                        Download\n",
       "                    </h2>\n",
       "<h2 class=\"h4 green-heading-underline width-fit-content\">\n",
       "                        Share Article\n",
       "                    </h2>\n",
       "<h2 data-test=\"journal-name\">\n",
       "                        Journal of Medical Internet Research\n",
       "                        <span>\n",
       "                            ISSN 1438-8871\n",
       "                        </span></h2>\n",
       "<h3 tabindex=\"0\" class=\"footer-title\">\n",
       "                            Resource Centre\n",
       "                        </h3>\n",
       "<h3 tabindex=\"0\" class=\"footer-title\">\n",
       "                            Browse Journal\n",
       "                        </h3>\n",
       "<h3 tabindex=\"0\" class=\"footer-title\">\n",
       "                            About\n",
       "                        </h3>\n",
       "<h3 tabindex=\"0\" class=\"footer-title\">\n",
       "                            Connect With Us\n",
       "                        </h3>\n",
       "<h3 tabindex=\"0\" class=\"footer-title\">\n",
       "                            Get Table of Contents Alerts\n",
       "                        </h3>\n",
       "<p class=\"footer-copyright\">\n",
       "                            Copyright ©\n",
       "                            <time datetime=\"2023\">\n",
       "                                2023\n",
       "                            </time>\n",
       "                            JMIR Publications\n",
       "                        </p>"
      ],
      "text/plain": [
       "<IPython.core.display.HTML object>"
      ]
     },
     "metadata": {},
     "output_type": "display_data"
    },
    {
     "name": "stdout",
     "output_type": "stream",
     "text": [
      "Start\n"
     ]
    },
    {
     "data": {
      "text/html": [
       "\n",
       "<h2 tabindex=\"0\" data-test=\"article-collection\" class=\"h4 green-heading-underline width-fit-content\">\n",
       "                    This paper is in the following\n",
       "                    <span class=\"collection__span\">e-collection/theme issue:</span></h2>\n",
       "<p id=\"main-content\" tabindex=\"0\">\n",
       "                            Published on\n",
       "                            <time datetime=\"21.2023\">21.6.2023\n",
       "                            </time>\n",
       "                            in\n",
       "                            <span data-test=\"issue-info\"><a href=\"/2023/1\" class=\"nuxt-link-active\">\n",
       "                                    Vol 25\n",
       "                                    <!----> (2023)\n",
       "                                    <!----></a></span></p>\n",
       "<h2 class=\"info__hidden-title\">\n",
       "                            Novel Software for High-level Virological Testing: Self-Designed Immersive Virtual Reality Training Approach\n",
       "                        </h2>\n",
       "<p tabindex=\"0\" class=\"authors-for-screen-reader\">\n",
       "                                Authors of this article:\n",
       "                            </p>\n",
       "<h4 class=\"h4-original-paper\"><span class=\"typcn typcn-document-text\"></span>Original Paper</h4>\n",
       "<p><sup>1</sup>Department of Pathology, National Cheng Kung University Hospital, College of Medicine, National Cheng Kung University, Tainan, Taiwan</p>\n",
       "<p><sup>2</sup>Department of Medical Laboratory Science and Biotechnology, College of Medicine, National Cheng Kung University, Tainan, Taiwan</p>\n",
       "<p><sup>3</sup>Medical Device Innovation Center, National Cheng Kung University, Tainan, Taiwan</p>\n",
       "<p><sup>4</sup>Department of Biomedical Engineering, College of Engineering, National Cheng Kung University, Tainan, Taiwan</p>\n",
       "<p><sup>5</sup>Institute of Clinical Medicine, College of Medicine, National Cheng Kung University, Tainan, Taiwan</p>\n",
       "<p><sup>6</sup>Division of General Surgery, Department of Surgery, National Cheng Kung University Hospital, College of Medicine, National Cheng Kung University, Tainan, Taiwan</p>\n",
       "<p>*these authors contributed equally</p>\n",
       "<h3>Corresponding Author:</h3>\n",
       "<p>Huey-Pin Tsai, MT, MSc</p>\n",
       "<p></p>\n",
       "<p>Department of Pathology, National Cheng Kung University Hospital</p>\n",
       "<p>College of Medicine</p>\n",
       "<p>National Cheng Kung University</p>\n",
       "<p>138 Sheng-Li Road</p>\n",
       "<p>Tainan, 70428</p>\n",
       "<p>Taiwan</p>\n",
       "<p>Phone: 886 62353535 ext 2616</p>\n",
       "<p>Fax:886 2094937</p>\n",
       "<p>Email: <a href=\"mailto:tsaihp@mail.ncku.edu.tw\">tsaihp@mail.ncku.edu.tw</a></p>\n",
       "<h3 id=\"Abstract\" class=\"navigation-heading\" data-label=\"Abstract\">Abstract</h3>\n",
       "<p><span class=\"abstract-sub-heading\">Background: </span>To ensure the timely diagnosis of emerging infectious diseases, high-tech molecular biotechnology is often used to detect pathogens and has gradually become the gold standard for virological testing. However, beginners and students are often unable to practice their skills due to the higher costs associated with high-level virological testing, the increasing complexity of the equipment, and the limited number of specimens from patients. Therefore, a new training program is necessary to increase training and reduce the risk of test failure.<br></p>\n",
       "<p><span class=\"abstract-sub-heading\">Objective: </span>The aim of the study is to (1) develop and implement a virtual reality (VR) software for simulated and interactive high-level virological testing that can be applied in clinical practice and skills building or training settings and (2) evaluate the VR simulation’s effectiveness on reaction, learning, and behavior of the students (trainees).<br></p>\n",
       "<p><span class=\"abstract-sub-heading\">Methods: </span>Viral nucleic acid tests on a BD MAX instrument were selected for our VR project because it is a high-tech automatic detection system. There was cooperation between teachers of medical technology and biomedical engineering. Medical technology teachers were responsible for designing the lesson plan, and the biomedical engineering personnel developed the VR software. We designed a novel VR teaching software to simulate cognitive learning via various procedure scenarios and interactive models. The VR software contains 2D VR “cognitive test and learning” lessons and 3D VR “practical skills training” lessons. We evaluated students’ learning effectiveness pre- and posttraining and then recorded their behavior patterns when answering questions, performing repeated exercises, and engaging in clinical practice.<br></p>\n",
       "<p><span class=\"abstract-sub-heading\">Results: </span>The results showed that the use of the VR software met participants’ needs and enhanced their interest in learning. The average posttraining scores of participants exposed to 2D and 3D VR training were significantly higher than participants who were exposed solely to traditional demonstration teaching (<i>P</i>&lt;.001). Behavioral assessments of students pre- and posttraining showed that students exposed to VR-based training to acquire relevant knowledge of advanced virological testing exhibited significantly improved knowledge of specific items posttraining (<i>P</i>&lt;.01). A higher participant score led to fewer attempts when responding to each item in a matching task. Thus, VR can enhance students’ understanding of difficult topics.<br></p>\n",
       "<p><span class=\"abstract-sub-heading\">Conclusions: </span>The VR program designed for this study can reduce the costs associated with virological testing training, thus, increasing their accessibility for students and beginners. It can also reduce the risk of viral infections particularly during disease outbreaks (eg, the COVID-19 pandemic) and also enhance students’ learning motivation to strengthen their practical skills.<br></p>\n",
       "<h3 class=\"h3-main-heading\" id=\"Keywords\">Keywords</h3>\n",
       "<h3 class=\"navigation-heading h3-main-heading\" id=\"Introduction\" data-label=\"Introduction\">Introduction</h3>\n",
       "<p class=\"abstract-paragraph\">Several outbreaks of infectious viral diseases with high fatality rates have occurred over the last 20 years: COVID-19 (caused by the SARS-CoV-2 virus), the new avian influenza virus (ie, H7N9), and the respiratory syncytial virus. These have all caused high hospitalization rates [<span class=\"footers\"><a class=\"citation-link\" href=\"#ref1\" rel=\"footnote\">1</a></span>-<span class=\"footers\"><a class=\"citation-link\" href=\"#ref4\" rel=\"footnote\">4</a></span>]. Immunocompromised patients are vulnerable to severe diseases caused by cytomegalovirus (CMV), herpes simplex virus (HSV), and herpes zoster virus infections [<span class=\"footers\"><a class=\"citation-link\" href=\"#ref5\" rel=\"footnote\">5</a></span>-<span class=\"footers\"><a class=\"citation-link\" href=\"#ref8\" rel=\"footnote\">8</a></span>]. Thus, a timely diagnosis is necessary for clinicians to determine the optimal treatment plan. Accordingly, rapid diagnoses with high fidelity comprise an important requirement for clinical virology laboratories.</p>\n",
       "<p class=\"abstract-paragraph\">The use of high-tech molecular technology for the rapid detection of pathogens in clinical specimens has gradually become the gold standard for clinical virological testing [<span class=\"footers\"><a class=\"citation-link\" href=\"#ref9\" rel=\"footnote\">9</a></span>,<span class=\"footers\"><a class=\"citation-link\" href=\"#ref10\" rel=\"footnote\">10</a></span>]. Furthermore, quantitative or qualitative test analysis is used as an important indicator for medical diagnosis, treatment tracking, risk assessment, and health care information.</p>\n",
       "<p class=\"abstract-paragraph\">Molecular techniques are an important tool for clinical testing; however, the cost of molecular test reagents is high. Further, special and repetitive training is required to operate the testing equipment; consequently, clinical virology laboratories frequently prevent medical technology (MT) interns from practicing these procedures on their equipment. There are similar problems in teaching in other specialized areas involving clinical medical skills. For example, surgical training has always relied heavily on practical operations to ensure that physicians acquire the necessary technical proficiency to perform surgical procedures. After observing surgical procedures and animal experiments demonstrated by the teacher, intern surgeons practice the relevant technical skills while being supervised by the teacher. This teaching method may be limited by various factors, including medical ethics, working hours, and medical disputes. Therefore, scholars in the field of surgical teaching have recently developed simulation tools to teach residents to perform surgery. Virtual reality (VR) or augmented reality or tactile computer programs can simulate the surgical environment for teaching purposes and apply minimally invasive surgical robots [<span class=\"footers\"><a class=\"citation-link\" href=\"#ref11\" rel=\"footnote\">11</a></span>,<span class=\"footers\"><a class=\"citation-link\" href=\"#ref12\" rel=\"footnote\">12</a></span>].</p>\n",
       "<p class=\"abstract-paragraph\">Traditional teaching methods transmit medical knowledge via lectures and textbooks. However, many teachers have recently begun to introduce 2-way communication learning methods such as problem-based learning and flipped education. These methods aim to replace the prevalent unidirectional cramming teaching method by transforming students from passive to active agents; this can improve their learning effectiveness [<span class=\"footers\"><a class=\"citation-link\" href=\"#ref13\" rel=\"footnote\">13</a></span>-<span class=\"footers\"><a class=\"citation-link\" href=\"#ref17\" rel=\"footnote\">17</a></span>]. Although each specialized field has its own special required skills and methods, clinical practice courses play a pivotal role in medical technologists’ development. Students must hone their practical skills to reduce their chance of failure in real-world settings. Therefore, the depth and breadth of students’ clinical training and whether they can actually engage in operational exercises will affect their learning.</p>\n",
       "<p class=\"abstract-paragraph\">The fully automatized BD MAX system developed by Beckton Dickinson Company integrates 2 functions: fluorescent polymerase chain reaction (PCR) detection and nucleic acid extraction. This detection system has 24 independent PCR heating elements, 5 different fluorescence channels, and can run different programs simultaneously. It processes 96-120 samples in 8 hours. It also has high efficiency for the detection of pathogens.</p>\n",
       "<p class=\"abstract-paragraph\">The BD MAX system is used in modern clinical virology laboratories for the detection of multiple clinical microbial nucleic acids present in emergent infectious pathogens. Although the BD MAX is powerful, the cost of reagents is high. Thus, clinical virology laboratories often prevent MT interns from practicing with their equipment. Schools often have scarce funds to obtain such advanced and expensive equipment for students to learn. Further, even if the students manage to understand the principles of the procedure after analyzing the operation manual and observing the workflow of a well-trained medical technologist, they often cannot access appropriate practical training. Therefore, it is critical to develop new teaching methods that allow MT students to put their skills into practice so that those who do not have the opportunity to engage in real-world practice with this specialized technology can still receive training.</p>\n",
       "<p class=\"abstract-paragraph\">VR comprises a virtual environment that is similar to reality. Computer technology can simulate a high-fidelity space and allow users to immerse themselves inside that environment. In a VR environment, users wear a special display device (ie, VR headsets) to enter the simulation. In this space, the operator can use a controller or keyboard to interact with the virtual environment. Importantly, VR does not aim to replace real space. By combining a camera’s recognition technology and a computer program, a set picture appears in the lens, and the corresponding virtual objects appear. However, high-tech VR products have not yet been developed and used in the field of skill training for virological testing. Thus, this study designed and implemented a VR software to train MT students to use a high-level virological testing system (ie, BD MAX) and evaluated students’ learning effectiveness.</p>\n",
       "<h3 class=\"navigation-heading h3-main-heading\" id=\"Methods\" data-label=\"Methods\">Methods</h3>\n",
       "<h4>VR System Description</h4>\n",
       "<p class=\"abstract-paragraph\">The proposed study was developed based on Oculus Rift and cross-platform Unity. Oculus Rift is a VR goggle developed and manufactured by Oculus VR. The Rift has 2 PenTile organic light–emitting diode displays and offers 1080×1200 resolution per eye, a 90-Hz refresh rate, and a 110-degree field of view. The device also features rotational and positional tracking as well as integrated headphones that provide a 3D audio effect. The separation of the lenses is adjustable using a slider on the bottom of the device to accommodate a wide range of interpupillary distances. The Rift allows for full 6-degrees-of-freedom rotational and positional tracking. Tracking is performed by Oculus’s Con.</p>\n",
       "<h4>Creating Course Features</h4>\n",
       "<p class=\"abstract-paragraph\">We designed several virtual clinical and experimental scenarios for students to develop the relevant skills for virological testing in a realistic setting. By using VR, students can develop practical skills by engaging with interactive content, without being limited to merely reading about standard operating procedures.</p>\n",
       "<h4>Study Population</h4>\n",
       "<p class=\"abstract-paragraph\">Senior-year students from the Department of Medical Laboratory Science and Biotechnology (ie, MT students) at the College of Medicine of National Cheng Kung University (NCKU) in Tainan, Taiwan enrolled in the Clinical Virology Internship Course. Of these, 31 MT students participated in a 2D VR cognitive test and a 3D VR practical simulation.</p>\n",
       "<h4>Cooperation Between the MT and Biomedical Engineering Groups in the Study</h4>\n",
       "<p class=\"abstract-paragraph\">The teachers of the MT department at NCKU were responsible for designing the lesson plan and questionnaires, as well as evaluating students’ learning effectiveness. The department of biomedical engineering (BME) was responsible for the development of the VR software. The VR-based training was carried out in the VR classroom of the BME department. System operation was carried out in the clinical virology room of the Pathology Department at NCKU Hospital.</p>\n",
       "<h4>The Cross-Disciplinary MT and BME Team</h4>\n",
       "<p class=\"abstract-paragraph\">Since March 2019, we have discussed the subject of VR-based teaching plans as well as clinical virology teachers’ needs and feedback on the VR software described in this study. The BME group adjusted and optimized the VR software for high-level clinical virological testing after regular brainstorming and discussion. As of June 2022, there have been a total of 45 meetings.</p>\n",
       "<h4>Design of the High-Level Clinical Virological Testing Lessons</h4>\n",
       "<p class=\"abstract-paragraph\">The BD MAX instrument is an automatic virus nucleic acid detection system and was selected as the basis for our VR project. It is currently used to detect a variety of microorganisms (eg, HSV, varicella-zoster virus [VZV], and cytomegalovirus) at the NCKU Hospital’s clinical virology laboratory.</p>\n",
       "<p class=\"abstract-paragraph\">The self-developed VR teaching software had both a test mode and a learning mode. The computer software registered students’ score and immediately provided them with detailed feedback on the results. Combined with the test items (which assessed students’ knowledge regarding HSV and VZV PCR), a series of matching tasks was designed to prepare learners to interact with the VR environment. The difficulty level of the items was measured by the frequency of drag-and-drops (the term “drag” refers to the behavior of sliding the button to the answer before actually selecting the answer in the VR scenario) when students attempted to answer a given item. There were 10 items designed on the usage of BD MAX. The user activity diagram of the proposed research is shown in <span class=\"footers\"><a class=\"citation-link\" href=\"#figure1\" rel=\"footnote\">Figure 1</a></span>, and the detailed flowchart of each mode is shown in <span class=\"footers\"><a class=\"citation-link\" href=\"#figure2\" rel=\"footnote\">Figures 2</a></span>-<span class=\"footers\"><a class=\"citation-link\" href=\"#figure6\" rel=\"footnote\">6</a></span>. The user manual is shown in <span class=\"footers\"><a class=\"citation-link\" href=\"#app1\" rel=\"footnote\">Multimedia Appendix 1</a></span>. Items 1-10 are shown in <span class=\"footers\"><a class=\"citation-link\" href=\"#figure7\" rel=\"footnote\">Figure 7</a></span>, and the picture of VR scenario is shown in <span class=\"footers\"><a class=\"citation-link\" href=\"#figure8\" rel=\"footnote\">Figure 8</a></span>.</p>\n",
       "<p class=\"abstract-paragraph\">The virology (MT) group provided a video of the actual operation process using the BD MAX system (while detailing each used component) to the BME team to create a high-fidelity 3D VR component. We recorded the virological testing process or an introduction to the structure of the automatic testing system. We also used computer software to divide the procedure’s steps on BD MAX and performed the procedures. We disassembled the steps of the practical procedure, and the design internship students could control the 3D objects to simulate the experimental process through the human-machine interface. The learners performed the entire practice process in a virtual learning setting. In the VR environment, there was a setting to prompt the learner to proceed to the next step so they could simulate the actual testing procedure. The interactive mode included using the hands in the VR simulation to place the objects in the correct position: a special color was displayed if the order was correct. A warning was displayed if the order or position was wrong—students were instructed to try again until they were correct. Real scenarios are shown in <span class=\"footers\"><a class=\"citation-link\" href=\"#figure9\" rel=\"footnote\">Figure 9</a></span>A and <span class=\"footers\"><a class=\"citation-link\" href=\"#figure10\" rel=\"footnote\">Figure 10</a></span>A. 3D VR scenarios are shown in <span class=\"footers\"><a class=\"citation-link\" href=\"#figure9\" rel=\"footnote\">Figure 9</a></span>B and <span class=\"footers\"><a class=\"citation-link\" href=\"#figure10\" rel=\"footnote\">Figure 10</a></span>B.</p>\n",
       "<p class=\"abstract-paragraph\">After all the virtual scenarios were tested, the VR classroom provided learners with a virtual space for learning and interaction.</p>\n",
       "<p class=\"abstract-paragraph\">Our research team used the concept of software reliability to test the VR software’s stability. First, we developed a test plan to analyze each functional requirement, the expected trigger function, and whether the results were correct. The failure status of the software was defined according to 3 levels (high, medium, and low). Reliability coverage testing was subsequently performed. Coverage tests were conducted for input domain behavior, input variables, and their combinations, as well as various usage functions. After the tests were completed, we wrote a test report based on the failure condition and its definition and then made the necessary corrections. Medium- and high-level risks were completely resolved before the VR software was presented to users for testing. The users were finally allowed to use the VR software.</p>\n",
       "<h4>Ethics Approval</h4>\n",
       "<p class=\"abstract-paragraph\">The Institutional Review Board of NCKU Hospital approved the study (B-ER-109-432). All of the students were informed about the aim and protocol of the study, and written informed consent was obtained from all of them.</p>\n",
       "<h4>Learning Effectiveness Evaluation</h4>\n",
       "<p class=\"abstract-paragraph\">The levels of the Kirkpatrick model were used to investigate reaction, learning, and behavior of the students (trainees). We designed questionnaires of VR application learning effectiveness evaluation for participants to fill out anonymously, including the “satisfaction of using different learning materials” (reaction level) and the “self-assessment questionnaire of participants’ knowledge application” (behavior level). The score of the item in the questionnaires was as follows: very disagree got 1 point, disagree got 2 points, no comment got 3 points, agree got 4 points, and very agree got 5 points. Questionnaires of behavior level were conducted during pre- and posttraining. We also used 10 items of “cognitive test and learning” lessons (<span class=\"footers\"><a class=\"citation-link\" href=\"#figure7\" rel=\"footnote\">Figure 7</a></span>) for written tests with registered identification number to evaluate learning level of students’ background knowledge of HSV or VZV and the operations of BD MAX. The score of each item was as follows: 11 points in item 1, 16 points in item 2, 7 points in item 3, 6 points in item 4, 3 points in item 5, 3 points in item 6, 6 points in item 7, 1 point in item 8, 6 points in item 9, and 6 points in item 10. A total score of 10 items was 65 points and was adjusted to 100 points afterward. These 10 items of written tests were tested at pretraining, posttraining after traditional demonstration teaching, and posttraining after VR teaching.</p>\n",
       "<h4>Statistical Analysis</h4>\n",
       "<p class=\"abstract-paragraph\">SPSS for Windows (version 17.0; SPSS Inc) and SAS (version 9.4; SAS Institute) was used for statistical analysis. Quantitative data of “satisfaction of using different learning materials” (reaction level) are presented as mean values with 95% CI. We used nonparametric methods to analyze nonnormal distribution data in this study. Comparisons of pretraining, posttraining after demonstration teaching, and posttraining after VR teaching were scored via written tests and analyzed via Friedman’s test with posthoc analysis, that is, the Dunn-Bonferroni test. The Wilcoxon signed rank test was used to analyze the differences in the “self-assessment questionnaire of participants’ knowledge application” on pretraining and posttraining; the Bonferroni correction was used for multiple comparisons adjustment.</p>\n",
       "<h3 class=\"navigation-heading h3-main-heading\" id=\"Results\" data-label=\"Results\">Results</h3>\n",
       "<p class=\"abstract-paragraph\">From August 2021 to January 2022, 31 students from the Department of Medical Laboratory Science and Biotechnology at NCKU in Taiwan used the novel self-developed VR software for 2D VR cognitive testing and 3D VR practical training for BD MAX. In total, 3 of them did not fill out the self-assessment questionnaire for behavior application.</p>\n",
       "<h4>Kirkpatrick Level I (Reaction): Evaluating Trainees’ Satisfaction</h4>\n",
       "<p class=\"abstract-paragraph\">We designed 4 questionnaires to evaluate trainees’ satisfaction and identify their interest in learning. Assessments of the VR teaching material, the design fluency of the VR content, and the improvement in participants’ professional ability were included in the content. The contents of the items are shown in <span class=\"footers\"><a class=\"citation-link\" href=\"#table1\" rel=\"footnote\">Table 1</a></span>. The students’ feedback showed that the use of 2D+3D VR teaching materials met students’ needs and enhanced their interest in learning. The item “VR-based teaching materials can increase my interest in learning” exhibited the highest scores in posttraining satisfaction. The results of posttraining satisfaction are shown in <span class=\"footers\"><a class=\"citation-link\" href=\"#table1\" rel=\"footnote\">Table 1</a></span>.</p>\n",
       "<p><sup>a</sup>VR: virtual reality.</p>\n",
       "<h4>Kirkpatrick Level II (Learning): Determining the Trainees’ Learning Attainment</h4>\n",
       "<p class=\"abstract-paragraph\">We designed 10 items (<span class=\"footers\"><a class=\"citation-link\" href=\"#figure7\" rel=\"footnote\">Figure 7</a></span>) to assess students’ background knowledge of HSV or VZV and the operations of BD MAX. There were included in the written tests and 2D VR teaching scenarios. The 3D VR teaching scenarios of the workflow of BD MAX procedures were developed. Written tests assessed students’ knowledge at pretraining, posttraining after exposure to traditional demonstration teaching, and posttraining after exposure to 2D+3D VR teaching. In the analysis of the learning hierarchy, it was found that the average score of 2D+3D VR teaching posttraining was higher than that for traditional demonstration teaching, and the learning effect was significantly better. The data are shown in <span class=\"footers\"><a class=\"citation-link\" href=\"#figure11\" rel=\"footnote\">Figure 11</a></span>.</p>\n",
       "<h4>Kirkpatrick Level III (Behavior): Assessing Trainee’s Knowledge Application</h4>\n",
       "<p class=\"abstract-paragraph\">We designed 5 questionnaires to assess trainees’ knowledge application. The dimensions assessed included interpretation of the results and quality control; familiarity with the BD MAX procedure; understanding the principles, structure, and function of the BD MAX instrument; familiarity with the examination types, containers, transport, and storage conditions; and understanding virological testing’s clinical significance and possessing pertinent background knowledge. The results of participants’ self-assessment pre- and posttraining showed that trainees exposed to VR training to learn about high-level virological testing (using BD MAX) had significantly improved their detailed knowledge posttraining, vis-à-vis pretraining (<i>P</i>&lt;.001). The data are shown in <span class=\"footers\"><a class=\"citation-link\" href=\"#figure12\" rel=\"footnote\">Figure 12</a></span>.</p>\n",
       "<h4>The 2D Cognitive Software Analyzed the Number of Attempts Before the Correct Answer</h4>\n",
       "<p class=\"abstract-paragraph\">Our team designed a function of the 2D VR teaching software to record the “drags” (ie, attempts) for each item. The drags for each question were recorded and analyzed. The results showed that the higher the interns’ average score, the fewer drags they exhibited. We used this function to assess items’ difficulty level and used it as a reference for adjusting each lesson’s items (<span class=\"footers\"><a class=\"citation-link\" href=\"#figure13\" rel=\"footnote\">Figure 13</a></span>).</p>\n",
       "<h3 class=\"navigation-heading h3-main-heading\" id=\"Discussion\" data-label=\"Discussion\">Discussion</h3>\n",
       "<h4>Main Findings</h4>\n",
       "<p class=\"abstract-paragraph\">The use of VR software for teaching has become more popular in clinical medicine. Here, we designed and implemented a VR software for advanced MT training. The participants’ posttraining learning scores increased significantly after being exposed to 2D and 3D VR training. Participants exhibited significantly improved cognition of high-level virological testing posttraining. We analyzed the difficulty of the items and used it as a reference for adjusting them. Participants exposed to VR-based training considered that the VR-based teaching materials met their needs and enhanced their interest in learning.</p>\n",
       "<p class=\"abstract-paragraph\">Developing practical skills is paramount in the field of MT. MT students’ skill-development process begins in the basic experimental courses of natural science during their freshman and sophomore years and continues in the advanced experimental courses related to clinical testing in their junior year as well as the clinical courses in their senior year. MT interns perform more experimental operations than other departments in the medical field. The basic experimental practices performed in school differ significantly from clinical practice courses. In school, the designed laboratory course comprises relatively simple experiments for the students, considering the availability of equipment and resources. However, in the clinical virology practice course of the hospital, additional factors come into play, including the urgency of clinical work, the timeliness and accuracy of reports, the expensive cost of reagents, the complexity of instruments, and the limited number of specimens from patients. Therefore, MT beginners and students rarely have the opportunity to practice in real-world settings.</p>\n",
       "<p class=\"abstract-paragraph\">Due to the rapid development of molecular methodologies, the time required to detect viruses decreased significantly, from several days to 4-6 hours. Current detection procedures can detect multiple pathogens simultaneously, thus, becoming an invaluable tool for the clinical diagnosis of pathogenic infections [<span class=\"footers\"><a class=\"citation-link\" href=\"#ref9\" rel=\"footnote\">9</a></span>,<span class=\"footers\"><a class=\"citation-link\" href=\"#ref10\" rel=\"footnote\">10</a></span>,<span class=\"footers\"><a class=\"citation-link\" href=\"#ref18\" rel=\"footnote\">18</a></span>-<span class=\"footers\"><a class=\"citation-link\" href=\"#ref21\" rel=\"footnote\">21</a></span>]. However, the test reagents required to detect multiple pathogens simultaneously are expensive (the cost of 1 test is about US $30), and the costs associated with the equipment are also high. The personnel require specialized training to operate the test instrument. Therefore, it is not possible for medical technological interns to practice in hospitals’ clinical virology laboratories. However, schools are also limited by the lack of proper funding, which makes it difficult for them to obtain advanced and expensive instrument for students to practice. Therefore, many intern students are limited to learning from the operation manuals and observing the operation of well-trained medical examiners. Therefore, it is important to use computer technology to develop new teaching methods that allow MT students who do not have access to this specialized technology to receive adequate training.</p>\n",
       "<p class=\"abstract-paragraph\">Mikropoulos et al [<span class=\"footers\"><a class=\"citation-link\" href=\"#ref22\" rel=\"footnote\">22</a></span>] investigated students’ views on VR learning and found that students generally held positive views regarding the use of VR in teaching while also verifying that VR can capture and maintain students’ attention. Many students expressed that it was exciting to be able to walk in and interact with the 3D VR world. VR simulation allows one to walk inside a molecule to study it in detail or, in the case of a block model, we can acquire a global perspective of a given city block at a distance. This allows the learner to develop a better understanding of the connections between the buildings, open space, and streets. Thus, VR will undoubtedly change the way we look at things and could even allow us to discover things that were previously unimaginable. It could also help people with disabilities break through their physical limitations and engage more actively in learning with their peers.</p>\n",
       "<p class=\"abstract-paragraph\">Of course, not all situations are suitable for the use of VR for education. Pantelidis [<span class=\"footers\"><a class=\"citation-link\" href=\"#ref23\" rel=\"footnote\">23</a></span>] established the following recommendations regarding the appropriate use of VR: (1) VR would be useful when using real objects is dangerous, impossible, or inconvenient; (2) virtual environments can be taught and trained in the same way as real objects; and (3) interacting with a model is as fun as interacting with the real thing.</p>\n",
       "<p class=\"abstract-paragraph\">Under the conditions of these 3 points, it is recommended to use VR for teaching in clinical virology laboratories. This research project was consistent with all 3 aspects. The BD MAX reagents are expensive, and the number of specimens is limited; thus, it is inconvenient to use a real BD MAX for learning. Other instruments required for PCR molecular detection can be similar to the real object. For interns, working with VR itself is a fun and fresh experience. Therefore, this research project was suitable for simulation using VR. The Centers for Disease Control and Prevention [<span class=\"footers\"><a class=\"citation-link\" href=\"#ref24\" rel=\"footnote\">24</a></span>] launched a VR teaching video: Biosafety Cabinet Edition in 2021 due to the COVID-19 pandemic.</p>\n",
       "<p class=\"abstract-paragraph\">In addition to the simulated surgical training, VR technology has also been used in baby breathing training, emergency simulation training, dental education, stroke rehabilitation, dental dexterity training, pharmacy teaching, pain management, web-based weight control training, and other clinical applications in the field of medicine and medical care [<span class=\"footers\"><a class=\"citation-link\" href=\"#ref25\" rel=\"footnote\">25</a></span>-<span class=\"footers\"><a class=\"citation-link\" href=\"#ref36\" rel=\"footnote\">36</a></span>]. Although all VR devices have similar structures, there are slight differences in hardware and software requirements in different fields as well as different application modes [<span class=\"footers\"><a class=\"citation-link\" href=\"#ref37\" rel=\"footnote\">37</a></span>-<span class=\"footers\"><a class=\"citation-link\" href=\"#ref39\" rel=\"footnote\">39</a></span>]. For example, the VR simulation training device for teaching mainly focuses on the use of a 3D or 360-degree environment and network resources, whereas simulations for surgery focus on the interaction between the operator’s instruments and the living anatomy. The environmental design simulations mainly consider the patient’s emotional control and feedback [<span class=\"footers\"><a class=\"citation-link\" href=\"#ref40\" rel=\"footnote\">40</a></span>-<span class=\"footers\"><a class=\"citation-link\" href=\"#ref42\" rel=\"footnote\">42</a></span>].</p>\n",
       "<p class=\"abstract-paragraph\">Here, 2D cognitive software and 3D practical VR software of BD MAX lessons were developed. MT interns can use this system to familiarize themselves with the use of virological testing equipment and assess their learning. The results showed that the use of the VR software met the students’ needs and enhanced their interest in learning. In addition, scores from written tests after VR training (posttraining) were significantly higher than after traditional demonstration teaching (posttraining) in the learning level. The behavioral assessment of students pre- and posttraining showed that students exposed to VR training had significantly improved virological knowledge.</p>\n",
       "<h4>Limitations</h4>\n",
       "<p class=\"abstract-paragraph\">The appropriateness of the selection of teaching scripts may have affected the breadth and validity of the use of the teaching software. The fidelity of the 3D elements’ object art and production during VR scenarios requires professional art experts and additional funding support. Due to the limited number of students, this study only has 1 arm and uses a pre- and postcomparison design. Future work will use a randomized 2-arm design to better understand the impact of the technology.</p>\n",
       "<h4>Conclusions</h4>\n",
       "<p class=\"abstract-paragraph\">To the best of our knowledge, this is the first self-developed VR software for high-tech virological testing training. This valuable tool increased MT students’ learning effectiveness. This not only provides beginners and students with the opportunity to operate BD MAX but also saves laboratory and educational costs, thus, enhancing their learning motivation and practical skills. It can also reduce the risk of viral infections particularly during transmitted disease outbreaks. Although VR cannot replace real human interactions, it does have many advantages, such as the freedom to modify, move, and place objects in the virtual world. Its free access is not restricted by time, and it can reduce certain risks. Thus, VR is a valuable teaching tool.</p>\n",
       "<p></p>\n",
       "<h4 class=\"h4-border-top\">Acknowledgments</h4>\n",
       "<p class=\"abstract-paragraph\">This study was funded by the Ministry of Education of Taiwan (grant H110-A119) and National Cheng Kung University Hospital (grant NCKUH-11208002). We are grateful to Shang-Ming Liu, BME, BS; Evan Adrian Adhi, BME, MSc; Luthfan Fauza, BME, MSc; Fang-Yu Lee, BME, BS; Yo-Chia Shi, BME, BS; Pei-Xuan Huang, BME, BS; and Hung-Chun Tsou, BME, BS to assist the design of the virtual reality software. We are grateful to Dr Sheng-Hsiang Lin and Ms Wan-Ni Chen for providing the statistical consulting services from the Biostatistics Consulting Center, Clinical Medicine Research Center, National Cheng Kung University Hospital.</p>\n",
       "<h4>Data Availability</h4>\n",
       "<p class=\"abstract-paragraph\">Data sharing is not included in our original institutional review board so we will not share data in this submission.</p>\n",
       "<h4 class=\"h4-border-top\">Conflicts of Interest</h4>\n",
       "<p></p>\n",
       "<p class=\"abstract-paragraph\">None declared.</p>\n",
       "<p class=\"abstract-paragraph\">User manual of the self-designed immersive virtual reality training system.</p>\n",
       "<h4 id=\"References\" class=\"h4-border-top navigation-heading\" data-label=\"References\">References</h4>\n",
       "<h4 class=\"navigation-heading\" id=\"Abbreviations\" data-label=\"Abbreviations\">Abbreviations</h4>\n",
       "<p style=\"font-style: italic\">Edited by  G Eysenbach; submitted 25.11.22; peer-reviewed by Q Li,  S Ashraf,  T Behera; comments to author 29.12.22; revised version received 18.01.23; accepted 03.05.23; published 21.06.23</p>\n",
       "<p class=\"article-copyright\">©Huey-Pin Tsai, Che-Wei Lin, Ying-Jun Lin, Chun-Sheng Yeh, Yan-Shen Shan. Originally published in the Journal of Medical Internet Research (https://www.jmir.org), 21.06.2023.</p>\n",
       "<p class=\"abstract-paragraph\">This is an open-access article distributed under the terms of the Creative Commons Attribution License (https://creativecommons.org/licenses/by/4.0/), which permits unrestricted use, distribution, and reproduction in any medium, provided the original work, first published in the Journal of Medical Internet Research, is properly cited. The complete bibliographic information, a link to the original publication on https://www.jmir.org/, as well as this copyright and license information must be included.</p>\n",
       "<h2 class=\"h4 green-heading-underline width-fit-content\">\n",
       "                        Citation\n",
       "                    </h2>\n",
       "<p class=\"fw-bold\">\n",
       "                        Please cite as:\n",
       "                    </p>\n",
       "<p><span>\n",
       "                            Tsai H<span>,</span></span><span>\n",
       "                            Lin C<span>,</span></span><span>\n",
       "                            Lin Y<span>,</span></span><span>\n",
       "                            Yeh C<span>,</span></span><span>\n",
       "                            Shan Y<!----></span> <br> <span>Novel Software for High-level Virological Testing: Self-Designed Immersive Virtual Reality Training Approach</span> <br> <span>J Med Internet Res 2023;25:e44538</span> <br> <span>doi:\n",
       "                            <span><a aria-label=\"DOI number 10.2196/44538\" data-test=\"article-doi\" target=\"_blank\" href=\"https://doi.org/10.2196/44538\">\n",
       "                                    10.2196/44538\n",
       "                                </a></span></span> <span style=\"display: block\">\n",
       "                            PMID:\n",
       "                            <span><a data-test=\"article-pmid\" aria-label=\"PMID 37342081\" target=\"_blank\" href=\"https://www.ncbi.nlm.nih.gov/pubmed/37342081\">37342081</a></span></span> <!----></p>\n",
       "<h2 class=\"h4 green-heading-underline width-fit-content\">\n",
       "                        Export Metadata\n",
       "                    </h2>\n",
       "<h2 tabindex=\"0\" data-test=\"article-collection\" class=\"h4 green-heading-underline width-fit-content\">\n",
       "                        This paper is in the following\n",
       "                        <span class=\"collection__span\">e-collection/theme issue:</span></h2>\n",
       "<h2 class=\"h4 green-heading-underline width-fit-content\">\n",
       "                        Download\n",
       "                    </h2>\n",
       "<h2 class=\"h4 green-heading-underline width-fit-content\">\n",
       "                        Share Article\n",
       "                    </h2>\n",
       "<h2 data-test=\"journal-name\">\n",
       "                        Journal of Medical Internet Research\n",
       "                        <span>\n",
       "                            ISSN 1438-8871\n",
       "                        </span></h2>\n",
       "<h3 tabindex=\"0\" class=\"footer-title\">\n",
       "                            Resource Centre\n",
       "                        </h3>\n",
       "<h3 tabindex=\"0\" class=\"footer-title\">\n",
       "                            Browse Journal\n",
       "                        </h3>\n",
       "<h3 tabindex=\"0\" class=\"footer-title\">\n",
       "                            About\n",
       "                        </h3>\n",
       "<h3 tabindex=\"0\" class=\"footer-title\">\n",
       "                            Connect With Us\n",
       "                        </h3>\n",
       "<h3 tabindex=\"0\" class=\"footer-title\">\n",
       "                            Get Table of Contents Alerts\n",
       "                        </h3>\n",
       "<p class=\"footer-copyright\">\n",
       "                            Copyright ©\n",
       "                            <time datetime=\"2023\">\n",
       "                                2023\n",
       "                            </time>\n",
       "                            JMIR Publications\n",
       "                        </p>"
      ],
      "text/plain": [
       "<IPython.core.display.HTML object>"
      ]
     },
     "metadata": {},
     "output_type": "display_data"
    }
   ],
   "source": [
    "from IPython import display\n",
    "\n",
    "def trim_text(text, article_regex=None, abs_regex=None):\n",
    "    if article_regex==None:\n",
    "        article_regex = '.*<h2>Abstract</h2>.*(?:Introduction.*)?(<h2.*?>Introduction</h2>.*References)<.*' \n",
    "        abs_regex = '.*(<h2>Abstract</h2>.*(?:Introduction.*)?)<h2.*?>Introduction</h2>.*References<.*' \n",
    "    try:\n",
    "        body = re.search(article_regex, text, re.DOTALL).group(1)\n",
    "        abstract = re.search(abs_regex, text, re.DOTALL).group(1)\n",
    "    except Exception as error: \n",
    "        exc_type, exc_obj, tb = sys.exc_info()\n",
    "        file = tb.tb_frame\n",
    "        lineno = tb.tb_lineno\n",
    "        filename = file.f_code.co_filename\n",
    "        print(f'\\tAn error occurred on line {lineno} in {filename}: {error}')    \n",
    "        print('\\t\\tUnable to parse article text')\n",
    "        body = text \n",
    "        abstract = text \n",
    "    try:\n",
    "        article_display = display.HTML(body)\n",
    "        abs_display = display.HTML(abstract)\n",
    "    except Exception as error: \n",
    "        exc_type, exc_obj, tb = sys.exc_info()\n",
    "        file = tb.tb_frame\n",
    "        lineno = tb.tb_lineno\n",
    "        filename = file.f_code.co_filename\n",
    "        print(f'\\tAn error occurred on line {lineno} in {filename}: {error}')    \n",
    "        print('\\t\\tUnable to create HTML display')\n",
    "        article_display = f'<p>{body}</p>'\n",
    "        abs_display = f'<p>{abstract}</p>'\n",
    "    processed_article = {\n",
    "        'abstract': abstract,\n",
    "        'body': body,\n",
    "    }\n",
    "    display_dict = {\n",
    "        'article_display': article_display,\n",
    "        'abs_display': abs_display\n",
    "    }\n",
    "    return processed_article, display_dict\n",
    "\n",
    "def text_dict_from_web(article_dict, header=2, to_display=0.01,\n",
    "        article_regex_str='.*<h\\d>Abstract</h\\d>.*(?:Introduction.*)?(<h\\d.*?>Introduction</h\\d>.*References)<.*',\n",
    "        abs_regex_str='.*(<h\\d>Abstract</h\\d>.*(?:Introduction.*)?)<h\\d.*?>Introduction</h\\d>.*References<.*'\n",
    "        ):\n",
    "    \"\"\"\n",
    "    Create a text dictionary from a dictionary containing web-scraped articles.\n",
    "\n",
    "    Parameters:\n",
    "        article_dict (dict): Values of each dictionary item are a dictionary representing the data from a \n",
    "            single article: 'url', 'text', and 'title'.\n",
    "\n",
    "    Returns:\n",
    "        text_dict: Dictionary where each item is a string of the text of an article, starting with the title.\n",
    "    \"\"\"\n",
    "    article_regex_str = article_regex_str.replace('\\d', f'{header}')\n",
    "    abs_regex_str = abs_regex_str.replace('\\d', f'{header}')\n",
    "    article_regex = rf'{article_regex_str}'\n",
    "    abs_regex = rf'{abs_regex_str}'\n",
    "    print(f'Regex patterns: \\n\\t{article_regex}\\n\\t{abs_regex}')\n",
    "    text_dict = dict()\n",
    "    display_dict = dict()\n",
    "    if (type(to_display) == int) or (type(to_display) == float):\n",
    "        to_display = [to_display] \n",
    "    for article_key in article_dict:\n",
    "        if (article_key +1) - (article_key +1) //1 == 0: # if integer\n",
    "            print(f'Journal: {article_dict[article_key][\"journal\"]} {article_key}')\n",
    "        trimmed_text, display = trim_text(article_dict[article_key]['text'], article_regex, abs_regex)\n",
    "        text_dict[article_key] = {\n",
    "            'title': article_dict[article_key]['title'],\n",
    "            'body': f\"{article_dict[article_key]['title']}\\n\\n{trimmed_text['body']}\",\n",
    "            'abstract': trimmed_text['abstract'],\n",
    "        }\n",
    "        if (to_display == 'all') or (to_display == None) or (article_key in to_display):\n",
    "            display_dict[article_key] = {\n",
    "                'abstract': display['abs_display'],\n",
    "                'body': display['article_display']\n",
    "            }\n",
    "    print(f'text_dict keys: {[key for key in text_dict.keys()]}')\n",
    "    return text_dict, display_dict\n",
    "\n",
    "def display_html(display_dict, type='abstract'):\n",
    "    \"\"\"\n",
    "    Display the HTML from the dictionary of HTML displays.\n",
    "    \"\"\"\n",
    "    for text in display_dict:\n",
    "        print('Start')\n",
    "        display.display(display_dict[text][type])\n",
    "\n",
    "\n",
    "text_dict, display_dict = text_dict_from_web(partial_article_dict[test_id], to_display='all')\n",
    "\n",
    "display_html(display_dict, type='abstract')\n"
   ]
  },
  {
   "attachments": {},
   "cell_type": "markdown",
   "metadata": {},
   "source": [
    "## Iteration 2"
   ]
  },
  {
   "cell_type": "code",
   "execution_count": 48,
   "metadata": {},
   "outputs": [
    {
     "name": "stdout",
     "output_type": "stream",
     "text": [
      "https://www.jmir.org/2023/1/e45582/\n"
     ]
    },
    {
     "data": {
      "text/plain": [
       "'\\n<h2 tabindex=\"0\" data-test=\"article-collection\" class=\"h4 green-heading-underline width-fit-content\">\\n                    This paper is in the following\\n                    <span class=\"collection__span\">e-collection/theme issue:</span></h2>\\n<p id=\"main-content\" tabindex=\"0\">\\n                            Published on\\n                            <time datetime=\"21.2023\">21.6.2023\\n                            </time>\\n                            in\\n                            <span data-test=\"issue-info\"><a href=\"/2023/1\" class=\"nuxt-link-active\">\\n                                    Vol 25\\n                                    <!----> (2023)\\n                                    <!----></a></span></p>\\n<h2 class=\"info__hidden-title\">\\n                            Enhancing Evidence-Based Pharmacy by Comparing the Quality of Web-Based Information Sources to the EVInews Database: Randomized Controlled Trial With German Community Pharmacists\\n                        </h2>\\n<p tabindex=\"0\" class=\"authors-for-screen-reader\">\\n                                Authors of this article:\\n                            </p>\\n<h4 class=\"h4-original-paper\"><span class=\"typcn typcn-document-text\"></span>Original Paper</h4>\\n<p><sup>1</sup>Department of Clinical Pharmacy, Institute of Pharmacy, Faculty of Medicine, Leipzig University, Leipzig, Germany</p>\\n<p><sup>2</sup>Drug Safety Center, Leipzig University Hospital, Leipzig University, Leipzig, Germany</p>\\n<h3>Corresponding Author:</h3>\\n<p>Thilo Bertsche, Prof Dr</p>\\n<p></p>\\n<p>Department of Clinical Pharmacy</p>\\n<p>Institute of Pharmacy, Faculty of Medicine, Leipzig University</p>\\n<p>Bruederstraße 32</p>\\n<p>Leipzig, 04103</p>\\n<p>Germany</p>\\n<p>Phone: 49 0341   97 11800</p>\\n<p>Email: <a href=\"mailto:thilo.bertsche@uni-leipzig.de\">thilo.bertsche@uni-leipzig.de</a></p>\\n<h3 id=\"Abstract\" class=\"navigation-heading\" data-label=\"Abstract\">Abstract</h3>\\n<p><span class=\"abstract-sub-heading\">Background: </span>Self-medication counseling in community pharmacies plays a crucial role in health care. Counseling advice should therefore be evidence-based. Web-based information and databases are commonly used as electronic information sources. EVInews is a self-medication–related information tool consisting of a database and monthly published newsletters for pharmacists. Little is known about the quality of pharmacists’ electronic information sources for evidence-based self-medication counseling.<br></p>\\n<p><span class=\"abstract-sub-heading\">Objective: </span>Our aim was to investigate the quality of community pharmacists’ web-based search results for self-medication–related content in comparison with the EVInews database, based on an adjusted quality score for pharmacists.<br></p>\\n<p><span class=\"abstract-sub-heading\">Methods: </span>After receiving ethics approval, we performed a quantitative web-based survey with a search task as a prospective randomized, controlled, and unblinded trial. For the search task, participants were instructed to search for evidence-based information to verify 6 health-related statements from 2 typical self-medication indications. Pharmacists across Germany were invited via email to participate. After providing written informed consent, they were automatically, randomly assigned to use either web-based information sources of their choice without the EVInews database (web group) or exclusively the EVInews database (EVInews group). The quality of the information sources that were used for the search task was then assessed by 2 evaluators using a quality score ranging from 100% (180 points, all predefined criteria fulfilled) to 0% (0 points, none of the predefined criteria fulfilled). In case of assessment discrepancies, an expert panel consisting of 4 pharmacists was consulted.<br></p>\\n<p><span class=\"abstract-sub-heading\">Results: </span>In total, 141 pharmacists were enrolled. In the Web group (n=71 pharmacists), the median quality score was 32.8% (59.0 out of 180.0 points; IQR 23.0-80.5). In the EVInews group (n=70 pharmacists), the median quality score was significantly higher (85.3%; 153.5 out of 180.0 points; <i>P</i>&lt;.001) and the IQR was smaller (IQR 125.1-157.0). Fewer pharmacists completed the entire search task in the Web group (n=22) than in the EVInews group (n=46). The median time to complete the search task was not significantly different between the Web group (25.4 minutes) and the EVInews group (19.7 minutes; <i>P</i>=.12). The most frequently used web-based sources (74/254, 29.1%) comprised tertiary literature.<br></p>\\n<p><span class=\"abstract-sub-heading\">Conclusions: </span>The median quality score of the web group was poor, and there was a significant difference in quality scores in favor of the EVInews group. Pharmacists’ web-based and self-medication–related information sources often did not meet standard quality requirements and showed considerable variation in quality.<br></p>\\n<p><span class=\"abstract-sub-heading\">Trial Registration: </span>German Clinical Trials Register DRKS00026104; https://drks.de/search/en/trial/DRKS00026104<br></p>\\n<h3 class=\"h3-main-heading\" id=\"Keywords\">Keywords</h3>\\n<h3 class=\"navigation-heading h3-main-heading\" id=\"Introduction\" data-label=\"Introduction\">Introduction</h3>\\n<h4>Background</h4>\\n<p class=\"abstract-paragraph\">The treatment of clinical complaints with over-the-counter (OTC) products plays a substantial role in health care [<span class=\"footers\"><a class=\"citation-link\" href=\"#ref1\" rel=\"footnote\">1</a></span>]. Community pharmacists are often the first and only point of contact within the health care system for self-medication–related inquiries [<span class=\"footers\"><a class=\"citation-link\" href=\"#ref2\" rel=\"footnote\">2</a></span>]. Self-medication counseling by pharmacists can contribute to a cost-effective, individualized, safe medical care on the patient level and consequently to a relief of the burden of the entire health care system [<span class=\"footers\"><a class=\"citation-link\" href=\"#ref3\" rel=\"footnote\">3</a></span>,<span class=\"footers\"><a class=\"citation-link\" href=\"#ref4\" rel=\"footnote\">4</a></span>]. External evidence is required for well-grounded consultations and a key factor within the 3-fold evidence-based pharmacy (EbPharm) concept, which derived from evidence-based medicine [<span class=\"footers\"><a class=\"citation-link\" href=\"#ref5\" rel=\"footnote\">5</a></span>]. Apart from external evidence, the pharmacist’s practical experience and the patient’s preference should be considered when counseling [<span class=\"footers\"><a class=\"citation-link\" href=\"#ref6\" rel=\"footnote\">6</a></span>,<span class=\"footers\"><a class=\"citation-link\" href=\"#ref7\" rel=\"footnote\">7</a></span>]. However, a lack of information sources, time, and search skills has been identified as common barriers to EbPharm [<span class=\"footers\"><a class=\"citation-link\" href=\"#ref8\" rel=\"footnote\">8</a></span>-<span class=\"footers\"><a class=\"citation-link\" href=\"#ref18\" rel=\"footnote\">18</a></span>]. Consequently, various evidence-based information resources were introduced to reduce the evidence-to-practice gap. Among all information sources, electronic sources are of increasing importance for pharmacists [<span class=\"footers\"><a class=\"citation-link\" href=\"#ref19\" rel=\"footnote\">19</a></span>,<span class=\"footers\"><a class=\"citation-link\" href=\"#ref20\" rel=\"footnote\">20</a></span>]. The majority of information sources are however not targeted for community pharmacists, especially not in the context of self-medication counseling [<span class=\"footers\"><a class=\"citation-link\" href=\"#ref21\" rel=\"footnote\">21</a></span>-<span class=\"footers\"><a class=\"citation-link\" href=\"#ref29\" rel=\"footnote\">29</a></span>]. The EVInews project is an example for an electronic, evidence-based self-medication–related information platform for community pharmacists in Germany [<span class=\"footers\"><a class=\"citation-link\" href=\"#ref30\" rel=\"footnote\">30</a></span>].</p>\\n<p class=\"abstract-paragraph\">Little is known about the quality and the kind of electronic information sources that pharmacists use for evidence-based self-medication counseling. Information quality in the context of health is defined as a multidimensional concept that describes the fulfillment of individually predefined criteria [<span class=\"footers\"><a class=\"citation-link\" href=\"#ref31\" rel=\"footnote\">31</a></span>,<span class=\"footers\"><a class=\"citation-link\" href=\"#ref32\" rel=\"footnote\">32</a></span>]. Several attempts have been made to measure the quality of electronic information sources through validated instruments [<span class=\"footers\"><a class=\"citation-link\" href=\"#ref33\" rel=\"footnote\">33</a></span>-<span class=\"footers\"><a class=\"citation-link\" href=\"#ref39\" rel=\"footnote\">39</a></span>]. Standard categories of these instruments address an information source’s transparency, accuracy, completeness, and readability for instance [<span class=\"footers\"><a class=\"citation-link\" href=\"#ref40\" rel=\"footnote\">40</a></span>]. These instruments help identify valid information among the increasing body of available electronic data. Previous instruments, as a limitation, were only used for patient-oriented websites.</p>\\n<p class=\"abstract-paragraph\">To date, literature about the quality of pharmacists’ electronic information sources for self-medication counseling has been scarce. In particular, studies that investigate the quality based on appropriate standard quality criteria of such electronic information sources are missing.</p>\\n<h4>Study Objectives</h4>\\n<p class=\"abstract-paragraph\">Our aim was to investigate the quality of community pharmacists’ web-based search results for self-medication–related content when using the internet in comparison with the EVInews database, based on an adjusted quality score for pharmacists. Furthermore, this study attempted to explore what types of web-based sources are used for evidence-based self-medication counseling and how much time is needed under everyday practice conditions.</p>\\n<h3 class=\"navigation-heading h3-main-heading\" id=\"Methods\" data-label=\"Methods\">Methods</h3>\\n<h4>Study Design</h4>\\n<p class=\"abstract-paragraph\">A quantitative, unblinded, prospective randomized controlled trial including a web-based survey with an unblinded search task and a parallel study design was carried out between February 1, 2021, and April 30, 2021. The survey and data collection were conducted using SoSci Survey, Leiner DJ (version 3.1.06). Participating pharmacists were automatically assigned through the randomization function of the software in a 1:1 allocation ratio to either study group after giving their informed consent.</p>\\n<h4>Study Population and Setting</h4>\\n<p class=\"abstract-paragraph\">Community pharmacists across Germany within 5 different federal pharmacy chambers (Baden-Württemberg, Bavaria, Mecklenburg-Western Pomerania, Lower Saxony, and Saxony) were invited via an email to participate remotely and anonymously without any incentives. For this purpose, invitations containing the survey were sent via email to all community pharmacies that agreed to receive survey invitations and were listed in the email list of each federal pharmacy chamber. The completeness rate of the survey and time needed for completion were assessed through the SoSci Survey software. A reminder email was sent after 1 month if less than 15 participants within a pharmacy chamber were enrolled. Participants had to be licensed pharmacists to be included in the study.</p>\\n<h4>Study Groups</h4>\\n<p class=\"abstract-paragraph\">Participants were instructed to solely use either web-based information sources of their choice except for the EVInews database (web group) or exclusively the EVInews database (EVInews group). The EVInews group accessed the database via the link provided [<span class=\"footers\"><a class=\"citation-link\" href=\"#ref41\" rel=\"footnote\">41</a></span>] and a test account.</p>\\n<h4>Survey Structure</h4>\\n<p class=\"abstract-paragraph\">The survey was divided into 3 main categories as follows: sociodemographic data, verification of 6 health-related statements with assigned information source type from 2 typical self-medication indications (search task), and self-evaluation of search skills and feedback.</p>\\n<h4>Search Task</h4>\\n<p class=\"abstract-paragraph\">Participants of both study groups were asked to verify 6 health-related statements from 2 typical self-medication indications (Table S1 in <span class=\"footers\"><a class=\"citation-link\" href=\"#app1\" rel=\"footnote\">Multimedia Appendix 1</a></span>) with a quote and the corresponding information source (search task). Of the 6 statements, 3 belonged to the self-medication indications recurrent herpes labialis and female androgenetic alopecia, respectively<i>.</i> The indications were chosen deliberately because they require specific knowledge but are nonetheless relevant for everyday practice, and content was available in the EVInews database.</p>\\n<p class=\"abstract-paragraph\">A video and a short written summary were presented to all participants to inform them about the study protocol. The 3 statements of each indication were then displayed in an alternating order based on the software’s Rotate Blocks function to the participants. This was used to prevent learning effects and therefore a distortion of the results. Participants were then instructed to copy and paste their quote and link of the information source that proved or disproved the correctness of each statement in designated textboxes.</p>\\n<h4>The EVInews Database</h4>\\n<p class=\"abstract-paragraph\">The EVInews project was launched in 2017 and is based on the resolution of the Federal Union of German Associations of Pharmacists (ABDA) to help implement EbPharm into everyday practice. It consists of a website with general EbPharm information, monthly published newsletters, and a corresponding document-oriented database, which are free of charge. Once registered, users can access the database through a login. Independent pharmacists from the Department of Clinical Pharmacy at Leipzig University compose the newsletters with editorial assistance from AVOXA—Media Group German Pharmacist GmbH.</p>\\n<h4>Quality Score</h4>\\n<p class=\"abstract-paragraph\">An adjusted quality score was used to assess the information sources that were used for the search task. Therefore, a rating scheme for the evaluation of the search task was created (Table S2 in <span class=\"footers\"><a class=\"citation-link\" href=\"#app2\" rel=\"footnote\">Multimedia Appendix 2</a></span>).</p>\\n<h4>Rating Scheme</h4>\\n<p class=\"abstract-paragraph\">Rating scheme criteria were chosen and adapted based on validated quality scores and questionnaires reported in the literature [<span class=\"footers\"><a class=\"citation-link\" href=\"#ref35\" rel=\"footnote\">35</a></span>-<span class=\"footers\"><a class=\"citation-link\" href=\"#ref37\" rel=\"footnote\">37</a></span>] as well as previous findings [<span class=\"footers\"><a class=\"citation-link\" href=\"#ref32\" rel=\"footnote\">32</a></span>,<span class=\"footers\"><a class=\"citation-link\" href=\"#ref39\" rel=\"footnote\">39</a></span>,<span class=\"footers\"><a class=\"citation-link\" href=\"#ref42\" rel=\"footnote\">42</a></span>-<span class=\"footers\"><a class=\"citation-link\" href=\"#ref44\" rel=\"footnote\">44</a></span>]. The rating scheme consists of 18 nominal- to ordinal-scaled criteria that address predefined quality standards. We selected existing and added new criteria that were relevant for the search task. The rating scheme criteria were grouped together in the categories “transparency,” “quality of evidence,” and “usability” for the information sources and “accuracy” for the evaluation of the quotes. Each quote’s accuracy was evaluated subjectively with regard to logic, rationale, and comprehension and objectively based on a summative content analysis. Of all items, 12 had a dichotomous response format and 6 had an ordinal response format.</p>\\n<h4>Quality Assessment Procedure</h4>\\n<p class=\"abstract-paragraph\">Participants’ quotes and sources were independently evaluated by 2 evaluators (MR and JMA) based on the rating scheme and merged after analysis completion. A total median was calculated based on the 2 different evaluations. The maximum quality score for a quote and information source for all 6 statements accounted to 180 points (ie, all criteria were fulfilled). Each rater was requested to provide reasons for point allocation.</p>\\n<h4>Study Subgroups</h4>\\n<p class=\"abstract-paragraph\">Because not all participants completed the search task of the survey, a subgroup analysis of these participants was performed as demonstrated in <span class=\"footers\"><a class=\"citation-link\" href=\"#figure1\" rel=\"footnote\">Figure 1</a></span>. Participants who chose at least 1 answer option including “I do not know” within the search task were defined as “met the eligibility criteria (‘all’).” Participants who chose 1 answer option and verified at least 1 statement with a quote and source were defined as “completed search task partially (subgroup ‘completed partially’).” Participants who verified all 6 health-related statements were defined as “completed search task fully (subgroup ‘completed fully’).”</p>\\n<h4>General Study Procedure</h4>\\n<p class=\"abstract-paragraph\">The study procedure is shown in <span class=\"footers\"><a class=\"citation-link\" href=\"#figure2\" rel=\"footnote\">Figure 2</a></span>.</p>\\n<p class=\"abstract-paragraph\">The survey consisted of 32 questions, which included close-ended and open-ended questions. Dichotomous, 4-point Likert scales and multiple-choice answer options were given. The level of measurement ranged from nominal- to ordinal-scaled data.</p>\\n<h4>Outcome Parameters</h4>\\n<p class=\"abstract-paragraph\">The primary outcome parameter was the difference in quality scores between the study groups. Secondary outcome parameters included a subgroup analysis, quality scores of the rating scheme categories of transparency, quality of evidence, and usability, the characterization of web-based information sources, a correlational analysis of sociodemographic characteristics and quality scores, a self-evaluation of search skills by the participants, and assessment of the time needed to perform the search task.</p>\\n<h4>Sample Size</h4>\\n<p class=\"abstract-paragraph\">The estimated sample size was calculated using the G*Power, software, Faul F, Erdfelder E, Buchner A, Lang AG (version 3.1). No information regarding the primary target distribution was available. Based on the results of a pilot test, a double-sided Mann-Whitney <i>U</i> test for nonparametric, independent samples was used a priori to determine the required sample size for a significant difference in quality scores. At a significance level of α=.05 and a CI of 95%, a sample size of at least 44 pharmacists per group would provide a power of 1 – β=.80. We estimated attrition to be 50% and consequently strived for a greater sample size.</p>\\n<h4>Data Analysis</h4>\\n<p class=\"abstract-paragraph\">Only data of participants who processed the search task and did not violate the study protocol were included in the data analysis. The analysis was performed using Excel (versions 2105 and 2016; Microsoft Corp) and SPSS Statistics (version 25 and 26; IBM Corp). Results for the primary target parameter (quality score) were expressed as median and first and third quartile (Q<sub>25</sub>/Q<sub>75</sub>). They were compared using a 2-sided Mann-Whitney <i>U</i> test for independent samples. The comparison of quality subscores was performed likewise with a Bonferroni correction. Descriptive statistics were used to summarize the responses. The Spearman rank correlation coefficients were calculated to investigate the relationship between quality scores and sociodemographic data.</p>\\n<h4>Quality Assurance Means</h4>\\n<p class=\"abstract-paragraph\">To ensure feasibility and exclude comprehension difficulties, pretests and pilot tests were conducted between October 26, 2020, and January 19, 2021. The pretests were carried out with 23 pharmacists. The first 12 pretests were executed using the think-aloud method, the remaining using the standard observation before the test. After a revision and adjustment of the survey and rating scheme, a pilot test with 37 pharmacists and advanced pharmacy students as pretesters was performed, resulting in minor modifications. Furthermore, to reduce subjective judgment on each quote’s suitability (item 4d within the rating scheme), 1359 relevant keywords in English and German were identified during the pretest phase and used for a summative content analysis. The frequency of these predefined keywords was measured through the Excel (Microsoft Corp) count function for each quote. To assess whether difficulties occurred during the completion of the search task, participants were asked to rate the clarity of this survey and give qualitative feedback if desired. Data generated by the pretest and pilot test were not included in this study.</p>\\n<p class=\"abstract-paragraph\">Quotes and sources that were not analyzable based on the rating scheme by at least one of the evaluators were presented to an expert panel in May 2021. The expert panel consisted of 4 pharmacists specialized or mostly in continuing education to become a pharmacist with a focus on drug information, who were not involved in the EVInews project. Consensus-based point allocation was ultimately done by vote for the remaining uncertainties.</p>\\n<p class=\"abstract-paragraph\">To examine whether differences in rater performance were present, interrater reliability was assessed using the Cohen κ statistic. The Cohen κ coefficient for each item of the rating scheme and subsequently for all rating scheme items was calculated and compared with the qualitative interrater reliability descriptors by Landis and Koch [<span class=\"footers\"><a class=\"citation-link\" href=\"#ref46\" rel=\"footnote\">46</a></span>].</p>\\n<h4>Ethics Approval</h4>\\n<p class=\"abstract-paragraph\">Ethical approval for this study was granted by the ethics committee of the Medical Faculty of the Leipzig University (541/20-ek) on December 5, 2020.</p>\\n<h3 class=\"navigation-heading h3-main-heading\" id=\"Results\" data-label=\"Results\">Results</h3>\\n<h4>Participant’s Characteristics</h4>\\n<p class=\"abstract-paragraph\">The participant flowchart (<span class=\"footers\"><a class=\"citation-link\" href=\"#figure1\" rel=\"footnote\">Figure 1</a></span>) depicts the participants who have been enrolled.</p>\\n<p class=\"abstract-paragraph\">The participant’s characteristics are summarized in <span class=\"footers\"><a class=\"citation-link\" href=\"#table1\" rel=\"footnote\">Table 1</a></span>. Of all 141 participants, 110 (78.0%) were female and 31 (22.0%) were male. The median age interval was between 41 and 50 years (31/141, 22.0%) and more than half of all participants had more than 11 years of work experience (79/141, 56.0%). A reminder email was sent to the members of the Pharmacy Chamber of Saxony because of a low response rate in the first round.</p>\\n<p class=\"abstract-paragraph\">A Fisher exact test revealed no significant sociodemographic differences between the 2 study groups concerning gender, age, and academic degree.</p>\\n<h4>Primary Outcome Parameter: Quality Score</h4>\\n<p class=\"abstract-paragraph\">The median quality score of the Web group (n=71 pharmacists) was 32.8% (59.0 out of 180.0 points) and that of the EVInews group (n=70) was 85.3% (153.5 out of 180.0 points, <i>P</i>&lt;.001; <span class=\"footers\"><a class=\"citation-link\" href=\"#figure3\" rel=\"footnote\">Figure 3</a></span>). The variability of the quality score in the Web group (IQR 23.0-80.5) was larger than that in the EVInews group (IQR 125.1-157.0). <span class=\"footers\"><a class=\"citation-link\" href=\"#table2\" rel=\"footnote\">Table 2</a></span> displays all quality score results.</p>\\n<p><sup>a</sup>The statements can be found in Table S1 in <span class=\"footers\"><a class=\"citation-link\" href=\"#app1\" rel=\"footnote\">Multimedia Appendix 1</a></span>.</p>\\n<p><sup>b</sup>AGA: androgenetic alopecia.</p>\\n<h4>Secondary Outcome Parameters</h4>\\n<p class=\"abstract-paragraph\">Results of the subgroup analysis of the subgroups entitled “completed partially” and “completed fully” are shown in <span class=\"footers\"><a class=\"citation-link\" href=\"#table2\" rel=\"footnote\">Table 2</a></span> and illustrated in <span class=\"footers\"><a class=\"citation-link\" href=\"#figure3\" rel=\"footnote\">Figure 3</a></span>.</p>\\n<p class=\"abstract-paragraph\">Quality scores per rating scheme category were calculated and revealed statistically significant differences, as shown in <span class=\"footers\"><a class=\"citation-link\" href=\"#table3\" rel=\"footnote\">Table 3</a></span>.</p>\\n<p class=\"abstract-paragraph\">The web-based information sources that were provided by the participants for the search task varied greatly, as illustrated in <span class=\"footers\"><a class=\"citation-link\" href=\"#app3\" rel=\"footnote\">Multimedia Appendix 3</a></span>.</p>\\n<p class=\"abstract-paragraph\">A total of 254 out of potentially 426 web-based information sources (6 statements × 71 participants) were given by 71 participants within the study arm of the web group to verify 6 health-related statements. A list of references was enclosed in 42.9% (109/254) of all web-based sources. Information about the author was provided in 69.7% (177/254) of all the web-based sources, and 34.3% (87/254) were published within the last 3 years (reference date February 1, 2021).</p>\\n<p class=\"abstract-paragraph\">The results of the correlational analysis are shown in <span class=\"footers\"><a class=\"citation-link\" href=\"#table4\" rel=\"footnote\">Table 4</a></span>. A 2-tailed statistical significance was only detected for the positive correlation between the participant’s estimated annual frequency of searches and quality scores for both study groups and a negative correlation between the age, professional experience, and quality scores within the EVInews group.</p>\\n<p><sup>a</sup>OTC: over-the-counter.</p>\\n<p class=\"abstract-paragraph\">The responses of the self-evaluation (web group, n=44; EVInews group, n=58) were as follows. A total of 25% (11/44) of participants within the web group agreed fully that they were able to find the desired information in contrast to 71% (41/58) of the EVInews group. Furthermore, 46% (20/44) of the participants within the web group indicated that they conducted between no literature searches with literature databases such as MEDLINE via PubMed and 39% (17/44) to up to 12 per year in comparison with 40% (23/58) of the EVInews database users and 35% (20/58), respectively. Moreover, 39% (17/44) of participants of the web group estimated their search ability to find evidence-based self-medication information to be “rather good” and 5% (2/44) to be “very good.” Within the EVInews group, 59% (34/58) regarded their search ability to be “rather good” and 9% (5/58) to be “very good.” A total of 72% (42/58) of the EVInews group indicated that they were not familiar with the database before the study participation.</p>\\n<p class=\"abstract-paragraph\">The times needed for the search task completion are shown in <span class=\"footers\"><a class=\"citation-link\" href=\"#table5\" rel=\"footnote\">Table 5</a></span>.</p>\\n<p class=\"abstract-paragraph\">The median for the search task completion was 25.4 (IQR 12.7-43.5) minutes in the web group and 19.7 (IQR 13.6-28.4) minutes in the EVInews group. The completion times include participants who chose the escape option “I don’t know.”</p>\\n<h4>Quality Assurance: Rater Performance</h4>\\n<p class=\"abstract-paragraph\">The extent of agreement between the 2 raters measured using the Cohen κ statistic was “almost perfect” (κ=0.81-1) for the rating scheme items 1, 2, 4a, 4d-13, and 15-18. The extent of agreement on items 14 complied with “substantial agreement” (κ=0.780), items 3 and 4c with “moderate agreement” (κ=0.41-0.60), and item 4b with “slight agreement” (κ=0.077). All values were significantly different from zero (<i>P</i>&lt;.001). The extent of agreement in the form of an overall interrater descriptor for all rating scheme items accounted to κ=0.854.</p>\\n<h3 class=\"navigation-heading h3-main-heading\" id=\"Discussion\" data-label=\"Discussion\">Discussion</h3>\\n<h4>Principal Findings</h4>\\n<p class=\"abstract-paragraph\">We found that the median quality score was significantly lower in the web group than in the EVInews group. Additionally, the variability of median quality scores in the web group was significantly larger and less participants completed the search task fully compared to the EVInews group. Web-based sources often did not meet standard quality requirements. The time needed for the search task completion did not reveal any considerable differences between the 2 groups. The data suggest that community pharmacists struggled to find web-based high-quality, evidence-based information sources for self-medication under everyday practice conditions.</p>\\n<h4>Differences in Quality Scores and Potential Causes</h4>\\n<p class=\"abstract-paragraph\">The web group obtained a significantly lower quality score with 32.8% of criteria fulfilled in comparison to 85.3% in the EVInews group. Several explanations for this result are possible. The statistically significant difference in quality scores may be explained by a lack of transparency information of many web-based sources, which ultimately resulted in lower scores. Examples of missing transparency information include publication dates, literature references, or authorship information. An analysis of the categories transparency and quality of evidence confirmed the persisting difference in scores in favor of the EVInews group.</p>\\n<p class=\"abstract-paragraph\">Furthermore, a subgroup analysis was conducted because the difference in quality could be caused by participants who mostly chose the escape answer option “I don’t know.” A significant difference in quality scores remained when only data from participants, who verified all 6 health-related statements, were included.</p>\\n<p class=\"abstract-paragraph\">The differences in quality scores between the participants could also be explained by personal factors such as different levels of work experience, knowledge, and the skills needed to quickly find suitable external evidence on the internet. However, significant differences in sociodemographic data between both groups were not existent. According to our correlational analysis, there was a positive association between the participant’s estimated annual literature searches and quality scores in both study groups. A negative correlation between the participant’s age as well as professional experience in years and quality scores was only observed within the EVInews group. This may indicate that with increasing practical literature search experience, the ability to find appropriate evidence could increase but with increasing age and professional experience decrease. The factors age and professional experience however only seemed to be associated with the quality scores of the EVInews group. It should be taken into consideration that EbPharm has been established in recent years, and therefore pharmacists who were trained over 30 years ago may not be familiar with this concept. Abu Farha et al [<span class=\"footers\"><a class=\"citation-link\" href=\"#ref10\" rel=\"footnote\">10</a></span>] similarly demonstrated a negative correlation among pharmacists between the familiarity with evidence-based medicine terms and professional experience.</p>\\n<h4>Need for Customized Evidence-Based Information Sources for Pharmacists</h4>\\n<p class=\"abstract-paragraph\">Most of the web-based information resources consisted of tertiary literature in the form of nonscientific pharmacy journals of varying quality and timeliness. Some information resources were 20 years old. Despite its simple nature as a document-oriented database, the majority of participants using the EVInews database “agreed fully” (41/58, 71%) in contrast to the web group (11/44, 25%) that they were able to find the desired information. Users need to sign in before accessing the EVInews database. The login with a username and password is comparable to other information platforms of this kind. This may be regarded as an obstacle to the database’s usage for everyday practice. However, when customers or other health professionals seek evidence-based advice related to OTC products, pharmacists may often not be able to immediately provide all the necessary information anyways. These cases require a search for external evidence under everyday conditions such as simulated in our study. The ability to find the desired information when confronted with such a search task is therefore of great importance and even greater importance than retrieval speed from our point of view. Nonetheless, it remains unknown how much low-quality sources impact the overall consultation quality. Furthermore, the dropout rate was greater in the web group. Only 22 participants within the web group in comparison with 46 within the EVInews group completed the entire search task and verified all 6 health-related statements.</p>\\n<p class=\"abstract-paragraph\">Although the information retrieval times did not differ significantly, the participant’s search results under everyday practice conditions clearly did. An implication of this is the possibility that the participants were simply overwhelmed with the search task because they lacked the necessary search skills and therefore did not complete it fully. Subsequently, this leads to the question: what information do pharmacists rely on when selling OTC products if they cannot find it? These data may furthermore suggest that there is a need for training on how to find and appraise evidence as well as evidence-based information sources for community pharmacists. Because a lack of information sources and search skills is a common barrier to the implementation of EbPharm, information tools may help reduce the evidence-to-practice gap. The EVInews database fulfilled a majority of the standard quality requirements. Once further adjusted, it may be a promising electronic information tool for community pharmacists for evidence-based counseling.</p>\\n<h4>Limitations</h4>\\n<p class=\"abstract-paragraph\">A Hawthorne effect may have influenced the participants’ search behavior in both groups, prompting them to look for the very best evidence in the trial setting. Because of the web-based format, they were, however, not directly observed, and therefore this effect probably plays a minor role.</p>\\n<p class=\"abstract-paragraph\">Raters and participants were not blinded. Because the type of information sources the users were allowed to use was predefined, blinding was not possible. To minimize subjective evaluation, a quantitative approach for the quality evaluation with objective criteria was chosen to ascertain a robust rating performance.</p>\\n<p class=\"abstract-paragraph\">Only 2 OTC-relevant indications were chosen for the search task (Table S1 in <span class=\"footers\"><a class=\"citation-link\" href=\"#app1\" rel=\"footnote\">Multimedia Appendix 1</a></span>). It remains questionable whether these 2 indications were adequate for the search task. Customers’ inquiries regarding the evidence or verification of advertising statements for the treatment of female androgenetic alopecia or recurrent herpes labialis are nonetheless common in everyday counseling practice and were therefore included in this study. Furthermore, on the basis of the pretests and pilot tests, we made sure that there is enough citable literature in German and English available to complete the search task.</p>\\n<p class=\"abstract-paragraph\">The exclusion of tertiary print literature was due to technical difficulties when conducting the web-based survey. However, electronic information sources are frequently used among pharmacists nowadays, especially for the verification of health-related claims.</p>\\n<p class=\"abstract-paragraph\">The rating scheme was not validated before the survey was conducted; hence extensive pretests and pilot tests were performed.</p>\\n<h4>Conclusions</h4>\\n<p class=\"abstract-paragraph\">Community pharmacists struggled to find high-quality electronic self-medication–related information sources under everyday practice conditions in the web group. This is of great importance as self-medication recommendations or simply the verification of statements should not be based on information resources of questionable quality. The search results of the EVInews group met many of the predefined standard quality criteria. Taken together, the findings suggest that there is a need for customized information sources for pharmacists. Evidence-based information tools such as the EVInews database may help in reducing the evidence-to-practice gap.</p>\\n<p></p>\\n<h4 class=\"h4-border-top\">Acknowledgments</h4>\\n<p class=\"abstract-paragraph\">We thank all the collaborators and participants of the survey as well as the ABDA (Federal Union of German Associations of Pharmacists e.V.) and Avoxa (Media Group of German Pharmacists GmbH) for financial support of the EVInews project. We furthermore express our gratitude to all expert panel participants (Simone Eisenhofer, Markus Herzig, Samira Hmaidi, and Susanne Schiek). JMA and MR received third-party funding from the ABDA (Berlin, Germany). We acknowledge the financial support from Leipzig University for Open Access Publishing.</p>\\n<h4 class=\"h4-border-top\">Conflicts of Interest</h4>\\n<p></p>\\n<p class=\"abstract-paragraph\">JMA is one of the EVInews newsletter authors and composed newsletters under the guidance of Thilo Bertsche. All authors developed the rating scheme.</p>\\n<p class=\"abstract-paragraph\"><b>Editorial Notice</b></p>\\n<p class=\"abstract-paragraph\">This randomized study was only retrospectively registered, explained by authors with the following statement: \"Since no patients were exposed to interventions in our study, we initially decided to not register our study prospectively. To meet transparency standards, we however decided to register our study retrospectively.\" The editor granted an exception from ICMJE rules mandating prospective registration of randomized trials, because the risk of bias appears low and the study was considered formative, guiding the development of the application. However, readers are advised to carefully assess the validity of any potential explicit or implicit claims related to primary outcomes or effectiveness, as retrospective registration does not prevent authors from changing their outcome measures retrospectively.</p>\\n<p class=\"abstract-paragraph\">Search-task health-related statements.</p>\\n<p class=\"abstract-paragraph\">Rating Scheme.</p>\\n<p class=\"abstract-paragraph\">Type and frequency distribution of web-based information sources.</p>\\n<p class=\"abstract-paragraph\">CONSORT-eHEALTH checklist (V 1.6.1).</p>\\n<h4 id=\"References\" class=\"h4-border-top navigation-heading\" data-label=\"References\">References</h4>\\n<h4 class=\"navigation-heading\" id=\"Abbreviations\" data-label=\"Abbreviations\">Abbreviations</h4>\\n<p style=\"font-style: italic\">Edited by  A Mavragani; submitted 12.01.23; peer-reviewed by PDC Culmsee,  M Östbring; comments to author 01.03.23; revised version received 14.03.23; accepted 05.04.23; published 21.06.23</p>\\n<p class=\"article-copyright\">©Jennifer Maria Alexa, Matthias Richter, Thilo Bertsche. Originally published in the Journal of Medical Internet Research (https://www.jmir.org), 21.06.2023.</p>\\n<p class=\"abstract-paragraph\">This is an open-access article distributed under the terms of the Creative Commons Attribution License (https://creativecommons.org/licenses/by/4.0/), which permits unrestricted use, distribution, and reproduction in any medium, provided the original work, first published in the Journal of Medical Internet Research, is properly cited. The complete bibliographic information, a link to the original publication on https://www.jmir.org/, as well as this copyright and license information must be included.</p>\\n<h2 class=\"h4 green-heading-underline width-fit-content\">\\n                        Citation\\n                    </h2>\\n<p class=\"fw-bold\">\\n                        Please cite as:\\n                    </p>\\n<p><span>\\n                            Alexa JM<span>,</span></span><span>\\n                            Richter M<span>,</span></span><span>\\n                            Bertsche T<!----></span> <br> <span>Enhancing Evidence-Based Pharmacy by Comparing the Quality of Web-Based Information Sources to the EVInews Database: Randomized Controlled Trial With German Community Pharmacists</span> <br> <span>J Med Internet Res 2023;25:e45582</span> <br> <span>doi:\\n                            <span><a aria-label=\"DOI number 10.2196/45582\" data-test=\"article-doi\" target=\"_blank\" href=\"https://doi.org/10.2196/45582\">\\n                                    10.2196/45582\\n                                </a></span></span> <span style=\"display: block\">\\n                            PMID:\\n                            <span><a data-test=\"article-pmid\" aria-label=\"PMID 37342085\" target=\"_blank\" href=\"https://www.ncbi.nlm.nih.gov/pubmed/37342085\">37342085</a></span></span> <!----></p>\\n<h2 class=\"h4 green-heading-underline width-fit-content\">\\n                        Export Metadata\\n                    </h2>\\n<h2 tabindex=\"0\" data-test=\"article-collection\" class=\"h4 green-heading-underline width-fit-content\">\\n                        This paper is in the following\\n                        <span class=\"collection__span\">e-collection/theme issue:</span></h2>\\n<h2 class=\"h4 green-heading-underline width-fit-content\">\\n                        Download\\n                    </h2>\\n<h2 class=\"h4 green-heading-underline width-fit-content\">\\n                        Share Article\\n                    </h2>\\n<h2 data-test=\"journal-name\">\\n                        Journal of Medical Internet Research\\n                        <span>\\n                            ISSN 1438-8871\\n                        </span></h2>\\n<h3 tabindex=\"0\" class=\"footer-title\">\\n                            Resource Centre\\n                        </h3>\\n<h3 tabindex=\"0\" class=\"footer-title\">\\n                            Browse Journal\\n                        </h3>\\n<h3 tabindex=\"0\" class=\"footer-title\">\\n                            About\\n                        </h3>\\n<h3 tabindex=\"0\" class=\"footer-title\">\\n                            Connect With Us\\n                        </h3>\\n<h3 tabindex=\"0\" class=\"footer-title\">\\n                            Get Table of Contents Alerts\\n                        </h3>\\n<p class=\"footer-copyright\">\\n                            Copyright ©\\n                            <time datetime=\"2023\">\\n                                2023\\n                            </time>\\n                            JMIR Publications\\n                        </p>'"
      ]
     },
     "execution_count": 48,
     "metadata": {},
     "output_type": "execute_result"
    }
   ],
   "source": [
    "print(partial_article_dict[test_id][2]['url'])\n",
    "sample_text = partial_article_dict[test_id][2]['text']\n",
    "sample_text"
   ]
  },
  {
   "attachments": {},
   "cell_type": "markdown",
   "metadata": {},
   "source": [
    "## function"
   ]
  },
  {
   "cell_type": "code",
   "execution_count": 70,
   "metadata": {},
   "outputs": [
    {
     "name": "stdout",
     "output_type": "stream",
     "text": [
      "header: [234]\n",
      "Regex patterns: \n",
      "\t.*<h[234].*?>Abstract</h[234]>.*(?:Introduction.*)?(<h[234].*?>Introduction</h[234]>.*References)<.*\n",
      "\t.*(<h[234].*?>Abstract</h[234]>.*(?:Introduction.*)?)<h[234].*?>Introduction</h[234]>.*References<.*\n",
      "Journal: Journal of Medical Internet Research 2.0\n",
      "text_dict keys: [2.0, 2.01]\n",
      "\n",
      "************************************* Start *************************************\n"
     ]
    },
    {
     "data": {
      "text/html": [
       "<h3 id=\"Abstract\" class=\"navigation-heading\" data-label=\"Abstract\">Abstract</h3>\n",
       "<p><span class=\"abstract-sub-heading\">Background: </span>Self-medication counseling in community pharmacies plays a crucial role in health care. Counseling advice should therefore be evidence-based. Web-based information and databases are commonly used as electronic information sources. EVInews is a self-medication–related information tool consisting of a database and monthly published newsletters for pharmacists. Little is known about the quality of pharmacists’ electronic information sources for evidence-based self-medication counseling.<br></p>\n",
       "<p><span class=\"abstract-sub-heading\">Objective: </span>Our aim was to investigate the quality of community pharmacists’ web-based search results for self-medication–related content in comparison with the EVInews database, based on an adjusted quality score for pharmacists.<br></p>\n",
       "<p><span class=\"abstract-sub-heading\">Methods: </span>After receiving ethics approval, we performed a quantitative web-based survey with a search task as a prospective randomized, controlled, and unblinded trial. For the search task, participants were instructed to search for evidence-based information to verify 6 health-related statements from 2 typical self-medication indications. Pharmacists across Germany were invited via email to participate. After providing written informed consent, they were automatically, randomly assigned to use either web-based information sources of their choice without the EVInews database (web group) or exclusively the EVInews database (EVInews group). The quality of the information sources that were used for the search task was then assessed by 2 evaluators using a quality score ranging from 100% (180 points, all predefined criteria fulfilled) to 0% (0 points, none of the predefined criteria fulfilled). In case of assessment discrepancies, an expert panel consisting of 4 pharmacists was consulted.<br></p>\n",
       "<p><span class=\"abstract-sub-heading\">Results: </span>In total, 141 pharmacists were enrolled. In the Web group (n=71 pharmacists), the median quality score was 32.8% (59.0 out of 180.0 points; IQR 23.0-80.5). In the EVInews group (n=70 pharmacists), the median quality score was significantly higher (85.3%; 153.5 out of 180.0 points; <i>P</i>&lt;.001) and the IQR was smaller (IQR 125.1-157.0). Fewer pharmacists completed the entire search task in the Web group (n=22) than in the EVInews group (n=46). The median time to complete the search task was not significantly different between the Web group (25.4 minutes) and the EVInews group (19.7 minutes; <i>P</i>=.12). The most frequently used web-based sources (74/254, 29.1%) comprised tertiary literature.<br></p>\n",
       "<p><span class=\"abstract-sub-heading\">Conclusions: </span>The median quality score of the web group was poor, and there was a significant difference in quality scores in favor of the EVInews group. Pharmacists’ web-based and self-medication–related information sources often did not meet standard quality requirements and showed considerable variation in quality.<br></p>\n",
       "<p><span class=\"abstract-sub-heading\">Trial Registration: </span>German Clinical Trials Register DRKS00026104; https://drks.de/search/en/trial/DRKS00026104<br></p>\n",
       "<h3 class=\"h3-main-heading\" id=\"Keywords\">Keywords</h3>\n"
      ],
      "text/plain": [
       "<IPython.core.display.HTML object>"
      ]
     },
     "metadata": {},
     "output_type": "display_data"
    },
    {
     "name": "stdout",
     "output_type": "stream",
     "text": [
      "************************************* Start *************************************\n"
     ]
    },
    {
     "data": {
      "text/html": [
       "<h3 id=\"Abstract\" class=\"navigation-heading\" data-label=\"Abstract\">Abstract</h3>\n",
       "<p><span class=\"abstract-sub-heading\">Background: </span>To ensure the timely diagnosis of emerging infectious diseases, high-tech molecular biotechnology is often used to detect pathogens and has gradually become the gold standard for virological testing. However, beginners and students are often unable to practice their skills due to the higher costs associated with high-level virological testing, the increasing complexity of the equipment, and the limited number of specimens from patients. Therefore, a new training program is necessary to increase training and reduce the risk of test failure.<br></p>\n",
       "<p><span class=\"abstract-sub-heading\">Objective: </span>The aim of the study is to (1) develop and implement a virtual reality (VR) software for simulated and interactive high-level virological testing that can be applied in clinical practice and skills building or training settings and (2) evaluate the VR simulation’s effectiveness on reaction, learning, and behavior of the students (trainees).<br></p>\n",
       "<p><span class=\"abstract-sub-heading\">Methods: </span>Viral nucleic acid tests on a BD MAX instrument were selected for our VR project because it is a high-tech automatic detection system. There was cooperation between teachers of medical technology and biomedical engineering. Medical technology teachers were responsible for designing the lesson plan, and the biomedical engineering personnel developed the VR software. We designed a novel VR teaching software to simulate cognitive learning via various procedure scenarios and interactive models. The VR software contains 2D VR “cognitive test and learning” lessons and 3D VR “practical skills training” lessons. We evaluated students’ learning effectiveness pre- and posttraining and then recorded their behavior patterns when answering questions, performing repeated exercises, and engaging in clinical practice.<br></p>\n",
       "<p><span class=\"abstract-sub-heading\">Results: </span>The results showed that the use of the VR software met participants’ needs and enhanced their interest in learning. The average posttraining scores of participants exposed to 2D and 3D VR training were significantly higher than participants who were exposed solely to traditional demonstration teaching (<i>P</i>&lt;.001). Behavioral assessments of students pre- and posttraining showed that students exposed to VR-based training to acquire relevant knowledge of advanced virological testing exhibited significantly improved knowledge of specific items posttraining (<i>P</i>&lt;.01). A higher participant score led to fewer attempts when responding to each item in a matching task. Thus, VR can enhance students’ understanding of difficult topics.<br></p>\n",
       "<p><span class=\"abstract-sub-heading\">Conclusions: </span>The VR program designed for this study can reduce the costs associated with virological testing training, thus, increasing their accessibility for students and beginners. It can also reduce the risk of viral infections particularly during disease outbreaks (eg, the COVID-19 pandemic) and also enhance students’ learning motivation to strengthen their practical skills.<br></p>\n",
       "<h3 class=\"h3-main-heading\" id=\"Keywords\">Keywords</h3>\n"
      ],
      "text/plain": [
       "<IPython.core.display.HTML object>"
      ]
     },
     "metadata": {},
     "output_type": "display_data"
    }
   ],
   "source": [
    "from IPython import display\n",
    "\n",
    "def trim_text(text, article_regex=None, abs_regex=None):\n",
    "    if article_regex==None:\n",
    "        article_regex = '.*<h2>Abstract</h2>.*(?:Introduction.*)?(<h2.*?>Introduction</h2>.*References)<.*' \n",
    "        abs_regex = '.*(<h2>Abstract</h2>.*(?:Introduction.*)?)<h2.*?>Introduction</h2>.*References<.*' \n",
    "    try:\n",
    "        body = re.search(article_regex, text, re.DOTALL).group(1)\n",
    "        abstract = re.search(abs_regex, text, re.DOTALL).group(1)\n",
    "    except Exception as error: \n",
    "        exc_type, exc_obj, tb = sys.exc_info()\n",
    "        file = tb.tb_frame\n",
    "        lineno = tb.tb_lineno\n",
    "        filename = file.f_code.co_filename\n",
    "        print(f'\\tAn error occurred on line {lineno} in {filename}: {error}')    \n",
    "        print('\\t\\tUnable to parse article text')\n",
    "        body = text \n",
    "        abstract = text \n",
    "    try:\n",
    "        article_display = display.HTML(body)\n",
    "        abs_display = display.HTML(abstract)\n",
    "    except Exception as error: \n",
    "        exc_type, exc_obj, tb = sys.exc_info()\n",
    "        file = tb.tb_frame\n",
    "        lineno = tb.tb_lineno\n",
    "        filename = file.f_code.co_filename\n",
    "        print(f'\\tAn error occurred on line {lineno} in {filename}: {error}')    \n",
    "        print('\\t\\tUnable to create HTML display')\n",
    "        article_display = f'<p>{body}</p>'\n",
    "        abs_display = f'<p>{abstract}</p>'\n",
    "    processed_article = {\n",
    "        'abstract': abstract,\n",
    "        'body': body,\n",
    "    }\n",
    "    display_dict = {\n",
    "        'article_display': article_display,\n",
    "        'abs_display': abs_display\n",
    "    }\n",
    "    return processed_article, display_dict\n",
    "\n",
    "def text_dict_from_web(article_dict, header=(2,4), to_display=0.01,\n",
    "        article_regex_str=r'.*<h\\d.*?>Abstract</h\\d>.*(?:Introduction.*)?(<h\\d.*?>Introduction</h\\d>.*References)<.*',\n",
    "        abs_regex_str=r'.*(<h\\d.*?>Abstract</h\\d>.*(?:Introduction.*)?)<h\\d.*?>Introduction</h\\d>.*References<.*'\n",
    "        ):\n",
    "    \"\"\"\n",
    "    Create a text dictionary from a dictionary containing web-scraped articles.\n",
    "\n",
    "    Parameters:\n",
    "        article_dict (dict): Values of each dictionary item are a dictionary representing the data from a \n",
    "            single article: 'url', 'text', and 'title'.\n",
    "\n",
    "    Returns:\n",
    "        text_dict: Dictionary where each item is a string of the text of an article, starting with the title.\n",
    "    \"\"\"\n",
    "    if type(header) == int:\n",
    "        header = str(header) \n",
    "    else :\n",
    "        header = rf\"[{''.join([str(h) for h in range(header[0], header[-1]+1)])}]\"\n",
    "    print(rf'header: {header}')\n",
    "    article_regex_str = article_regex_str.replace('\\d', header)\n",
    "    abs_regex_str = abs_regex_str.replace('\\d', header)\n",
    "    article_regex = rf'{article_regex_str}'\n",
    "    abs_regex = rf'{abs_regex_str}'\n",
    "    print(f'Regex patterns: \\n\\t{article_regex}\\n\\t{abs_regex}')\n",
    "    text_dict = dict()\n",
    "    display_dict = dict()\n",
    "    if (type(to_display) == int) or (type(to_display) == float):\n",
    "        to_display = [to_display] \n",
    "    for article_key in article_dict:\n",
    "        if (article_key +1) - (article_key +1) //1 == 0: # if integer\n",
    "            print(f'Journal: {article_dict[article_key][\"journal\"]} {article_key}')\n",
    "        trimmed_text, display = trim_text(article_dict[article_key]['text'], article_regex, abs_regex)\n",
    "        text_dict[article_key] = {\n",
    "            'title': article_dict[article_key]['title'],\n",
    "            'body': f\"{article_dict[article_key]['title']}\\n\\n{trimmed_text['body']}\",\n",
    "            'abstract': trimmed_text['abstract'],\n",
    "        }\n",
    "        if (to_display == 'all') or (to_display == None) or (article_key in to_display):\n",
    "            display_dict[article_key] = {\n",
    "                'abstract': display['abs_display'],\n",
    "                'body': display['article_display']\n",
    "            }\n",
    "    print(f'text_dict keys: {[key for key in text_dict.keys()]}')\n",
    "    return text_dict, display_dict\n",
    "\n",
    "def display_html(display_dict, type='abstract'):\n",
    "    \"\"\"\n",
    "    Display the HTML from the dictionary of HTML displays.\n",
    "    \"\"\"\n",
    "    print()\n",
    "    for text in display_dict:\n",
    "        print('************************************* Start *************************************')\n",
    "        display.display(display_dict[text][type])\n",
    "\n",
    "\n",
    "# text_dict, display_dict = text_dict_from_web(partial_article_dict[test_id], to_display='all')\n",
    "abs_regex_str='.*(<h3.*?>Abstract</h3>.*(?:Introduction.*)?)<h3.*?>Introduction</h3>.*References<.*'\n",
    "display_dict = dict()\n",
    "# text_dict, display_dict = text_dict_from_web(\n",
    "#     partial_article_dict[test_id], abs_regex_str=abs_regex_str, article_regex_str=abs_regex_str, to_display='all')\n",
    "\n",
    "text_dict, display_dict = text_dict_from_web(\n",
    "    partial_article_dict[test_id], to_display='all', header=(2,4))\n",
    "\n",
    "display_html(display_dict, type='abstract')\n"
   ]
  },
  {
   "attachments": {},
   "cell_type": "markdown",
   "metadata": {},
   "source": [
    "### all journals"
   ]
  },
  {
   "cell_type": "code",
   "execution_count": 71,
   "metadata": {},
   "outputs": [
    {
     "name": "stdout",
     "output_type": "stream",
     "text": [
      "header: [234]\n",
      "Regex patterns: \n",
      "\t.*<h[234].*?>Abstract</h[234]>.*(?:Introduction.*)?(<h[234].*?>Introduction</h[234]>.*References)<.*\n",
      "\t.*(<h[234].*?>Abstract</h[234]>.*(?:Introduction.*)?)<h[234].*?>Introduction</h[234]>.*References<.*\n",
      "Journal: BMJ Open 1.0\n",
      "Journal: PLOS Medicine 3.0\n",
      "Journal: PLOS One 0.0\n",
      "Journal: Journal of Medical Internet Research 2.0\n",
      "text_dict keys: [1.0, 1.01, 3.0, 3.01, 0.0, 0.01, 2.0, 2.01]\n",
      "\n",
      "************************************* Start *************************************\n"
     ]
    },
    {
     "data": {
      "text/html": [
       "<h2>Abstract</h2>\n",
       "<p id=\"p-2\"><strong>Background</strong> Hand hygiene is an important measure to prevent disease transmission.</p>\n",
       "<p id=\"p-3\"><strong>Objective</strong> To summarise current international guideline recommendations for hand hygiene in community settings and to assess to what extent they are consistent and evidence based.</p>\n",
       "<p id=\"p-4\"><strong>Eligibility criteria</strong> We included international guidelines with one or more recommendations on hand hygiene in community settings—categorised as domestic, public or institutional—published by international organisations, in English or French, between 1 January 1990 and 15 November 2021.</p>\n",
       "<p id=\"p-5\"><strong>Data sources</strong> To identify relevant guidelines, we searched the WHO Institutional Repository for Information Sharing Database, Google, websites of international organisations, and contacted expert organisations and individuals.</p>\n",
       "<p id=\"p-6\"><strong>Charting methods</strong> Recommendations were mapped to four areas related to hand hygiene: (1) effective hand hygiene; (2) minimum requirements; (3) behaviour change and (4) government measures. Recommendations were assessed for consistency, concordance and whether supported by evidence.</p>\n",
       "<p id=\"p-7\"><strong>Results</strong> We identified 51 guidelines containing 923 recommendations published between 1999 and 2021 by multilateral agencies and international non-governmental organisations. Handwashing with soap is consistently recommended as the preferred method for hand hygiene across all community settings. Most guidelines specifically recommend handwashing with plain soap and running water for at least 20 s; single-use paper towels for hand drying; and alcohol-based hand rub (ABHR) as a complement or alternative to handwashing. There are inconsistent and discordant recommendations for water quality for handwashing, affordable and effective alternatives to soap and ABHR, and the design of handwashing stations. There are gaps in recommendations on soap and water quantity, behaviour change approaches and government measures required for effective hand hygiene. Less than 10% of recommendations are supported by any cited evidence.</p>\n",
       "<p id=\"p-8\"><strong>Conclusion</strong> While current international guidelines consistently recommend handwashing with soap across community settings, there remain gaps in recommendations where clear evidence-based guidance might support more effective policy and investment.</p>\n",
       "<h2 class=\"\">Data availability statement</h2>\n",
       "<p id=\"p-68\">Data are available upon reasonable request.</p>\n",
       "<p id=\"p-1\">This is an open access article distributed under the terms of the Creative Commons Attribution IGO License (<a href=\"https://creativecommons.org/licenses/by/3.0/igo/\" rel=\"license\">CC BY 3.0 IGO</a>), which permits use, distribution,and reproduction in any medium, provided the original work is properly cited. In any reproduction of this article there should not be any suggestion that WHO or this article endorse any specific organization or products. The use of the WHO logo is not permitted. This notice should be preserved along with the article’s original URL.</p>\n",
       "<p><a href=\"http://dx.doi.org/10.1136/bmjopen-2022-068887\" target=\"_new\">http://dx.doi.org/10.1136/bmjopen-2022-068887</a></p>\n",
       "<h2 class=\"pane-title\">Statistics from Altmetric.com</h2>\n",
       "<h2 class=\"pane-title\">Request Permissions</h2>\n",
       "<p>If you wish to reuse any or all of this article please use the link below which will take you to the Copyright Clearance Center’s RightsLink service. You will be able to get a quick price and instant permission to reuse the content in many different ways.</p>\n",
       "<h2 class=\"pane-title\"><span class=\"panels-ajax-pane-title\" data-pid=\"new-70fd4c70-563e-4b94-ae3b-2a97f3980c13\"></span></h2>\n",
       "<h3>STRENGTHS AND LIMITATIONS OF THIS STUDY</h3>\n",
       "<p id=\"p-9\">The scoping review follows the Arksey and O’Malley methodological framework to identify, retrieve and summarise current international guideline recommendations for hand hygiene in community settings.</p>\n",
       "<p id=\"p-10\">Various sources were systematically searched to identify relevant guidelines published by multilateral agencies and international non-governmental organisations between January 1990 and November 2021.</p>\n",
       "<p id=\"p-11\">The search was limited to guidelines published in English or French and therefore may have excluded relevant guidelines published in other languages.</p>\n",
       "<p id=\"p-12\">The quality of the included guidelines was not assessed, although we did consider the extent to which recommendations were based on cited evidence.</p>\n"
      ],
      "text/plain": [
       "<IPython.core.display.HTML object>"
      ]
     },
     "metadata": {},
     "output_type": "display_data"
    },
    {
     "name": "stdout",
     "output_type": "stream",
     "text": [
      "************************************* Start *************************************\n"
     ]
    },
    {
     "data": {
      "text/html": [
       "<h2>Abstract</h2>\n",
       "<p id=\"p-2\"><strong>Objective</strong> Use of cannabis for medical reasons has increased in Canada since legalisation of recreational cannabis in 2018. The objective of this study was to examine the pattern of use and perceptions about cannabis for menopause in women aged 35 and over in Alberta, Canada.</p>\n",
       "<p id=\"p-3\"><strong>Design</strong> Cross-sectional, web-based survey.</p>\n",
       "<p id=\"p-4\"><strong>Setting</strong> Online (location of participant residence in Alberta, Canada).</p>\n",
       "<p id=\"p-5\"><strong>Participants</strong> Self-selected sample of women recruited through social media (Facebook, Instagram, Twitter) between October and December 2020. Inclusion criteria included: identified as woman, ages 35 and over, living in Alberta, Canada.</p>\n",
       "<p id=\"p-6\"><strong>Primary and secondary outcomes measures</strong> Self-reported data were collected on demographics, menopause status and symptoms, cannabis usage and how participants perceived cannabis. Descriptive statistics, comparative analysis and logistic regression explored relations in cannabis use and participant characteristics.</p>\n",
       "<p id=\"p-7\"><strong>Results</strong> Of 1761 responses collected, 1485 were included for analysis. Median age was 49 years; 35% were postmenopausal and 33% perimenopausal. Among analysed responses, 499 (34%) women reported currently using cannabis and 978 (66%) indicated ever using cannabis. Of the 499 current cannabis users, over 75% were using cannabis for medical purposes. Most common reasons for current use were sleep (65%), anxiety (45%) and muscle/joint achiness (33%). In current users, 74% indicated that cannabis was helpful for symptoms. Current cannabis users were more likely to report experiencing menopause symptoms compared with non-users. History of smoking and general health status were associated with current cannabis use.</p>\n",
       "<p id=\"p-8\"><strong>Conclusions</strong> Some women are using cannabis for symptoms related to menopause. Further research is required to assess safety and efficacy of cannabis for managing menopause and develop clinical resources for women on cannabis and menopause.</p>\n",
       "<h2 class=\"\">Data availability statement</h2>\n",
       "<p id=\"p-74\">All data relevant to the study are included in the article or uploaded as online supplemental information.</p>\n",
       "<p id=\"p-1\">This is an open access article distributed in accordance with the Creative Commons Attribution Non Commercial (CC BY-NC 4.0) license, which permits others to distribute, remix, adapt, build upon this work non-commercially, and license their derivative works on different terms, provided the original work is properly cited, appropriate credit is given, any changes made indicated, and the use is non-commercial. See: <a href=\"http://creativecommons.org/licenses/by-nc/4.0/\" rel=\"license\">http://creativecommons.org/licenses/by-nc/4.0/</a>.</p>\n",
       "<p><a href=\"http://dx.doi.org/10.1136/bmjopen-2022-069197\" target=\"_new\">http://dx.doi.org/10.1136/bmjopen-2022-069197</a></p>\n",
       "<h2 class=\"pane-title\">Statistics from Altmetric.com</h2>\n",
       "<h2 class=\"pane-title\">Request Permissions</h2>\n",
       "<p>If you wish to reuse any or all of this article please use the link below which will take you to the Copyright Clearance Center’s RightsLink service. You will be able to get a quick price and instant permission to reuse the content in many different ways.</p>\n",
       "<h2 class=\"pane-title\"><span class=\"panels-ajax-pane-title\" data-pid=\"new-70fd4c70-563e-4b94-ae3b-2a97f3980c13\"></span></h2>\n",
       "<h3>STRENGTHS AND LIMITATIONS OF THIS STUDY</h3>\n",
       "<p id=\"p-9\">Large survey sample captured to identify current cannabis usage patterns and perceptions in women aged 35 and over.</p>\n",
       "<p id=\"p-10\">Current cannabis usage was characterised in women, including reason for use, frequency, duration, type of cannabis product, product access and for which menopause symptoms cannabis was used for.</p>\n",
       "<p id=\"p-11\">Study conducted in a geographical area where cannabis is fully legalised for recreational and medical use with a wide range of cannabis products legally available.</p>\n",
       "<p id=\"p-12\">Online survey data collection may impact complete representativity of the findings to the general population.</p>\n",
       "<p id=\"p-13\">Conducting self-reported surveys carry risks of information biases, such as prevarication and notoriety biases, or responses influenced by social desirability.</p>\n"
      ],
      "text/plain": [
       "<IPython.core.display.HTML object>"
      ]
     },
     "metadata": {},
     "output_type": "display_data"
    },
    {
     "name": "stdout",
     "output_type": "stream",
     "text": [
      "************************************* Start *************************************\n"
     ]
    },
    {
     "data": {
      "text/html": [
       "<h2>Abstract</h2>\n",
       "<h3>Background</h3>\n",
       "<p><em>Klebsiella pneumoniae</em> is the most common pathogen causing neonatal infections, leading to high mortality worldwide. Along with increasing antimicrobial use in neonates, carbapenem-resistant <em>K</em>. <em>pneumoniae</em> (CRKP) has emerged as a severe challenge for infection control and treatment. However, no comprehensive systematic review is available to describe the global epidemiology of neonatal CRKP infections. We therefore performed a systematic review of available data worldwide and combined a genome-based analysis to address the prevalence, clonal diversity, and carbapenem resistance genes of CRKP causing neonatal infections.</p>\n",
       "<h3>Methods and findings</h3>\n",
       "<p>We performed a systematic review of studies reporting population-based neonatal infections caused by CRKP in combination with a genome-based analysis of all publicly available CRKP genomes with neonatal origins. We searched multiple databases (PubMed, Web of Science, Embase, Ovid MEDLINE, Cochrane, bioRxiv, and medRxiv) to identify studies that have reported data of neonatal CRKP infections up to June 30, 2022. We included studies addressing the prevalence of CRKP infections and colonization in neonates but excluded studies lacking the numbers of neonates, the geographical location, or independent data on <em>Klebsiella</em> or CRKP isolates. We used narrative synthesis for pooling data with JMP statistical software. We identified 8,558 articles and excluding those that did not meet inclusion criteria. We included 128 studies, none of which were preprints, comprising 127,583 neonates in 30 countries including 21 low- and middle-income countries (LMICs) for analysis. We found that bloodstream infection is the most common infection type in reported data. We estimated that the pooled global prevalence of CRKP infections in hospitalized neonates was 0.3% (95% confidence interval [CI], 0.2% to 0.3%). Based on 21 studies reporting patient outcomes, we found that the pooled mortality of neonatal CRKP infections was 22.9% (95% CI, 13.0% to 32.9%). A total of 535 neonatal CRKP genomes were identified from GenBank including Sequence Read Archive, of which 204 were not linked to any publications. We incorporated the 204 genomes with a literature review for understanding the species distribution, clonal diversity, and carbapenemase types. We identified 146 sequence types (STs) for neonatal CRKP strains and found that ST17, ST11, and ST15 were the 3 most common lineages. In particular, ST17 CRKP has been seen in neonates in 8 countries across 4 continents. The vast majority (75.3%) of the 1,592 neonatal CRKP strains available for analyzing carbapenemase have genes encoding metallo-β-lactamases and NDM (New Delhi metallo-β-lactamase) appeared to be the most common carbapenemase (64.3%). The main limitation of this study is the absence or scarcity of data from North America, South America, and Oceania.</p>\n",
       "<h3>Conclusions</h3>\n",
       "<p>CRKP contributes to a considerable number of neonatal infections and leads to significant neonatal mortality. Neonatal CRKP strains are highly diverse, while ST17 is globally prevalent and merits early detection for treatment and prevention. The dominance of <em>bla</em><sub>NDM</sub> carbapenemase genes imposes challenges on therapeutic options in neonates and supports the continued inhibitor-related drug discovery.</p>\n",
       "<h2>Author summary</h2>\n",
       "<h3>Why was this study done?</h3>\n",
       "<h3>What did the researchers do and find?</h3>\n",
       "<h3>What do these findings mean?</h3>\n",
       "<p><strong>Citation: </strong>Hu Y, Yang Y, Feng Y, Fang Q, Wang C, Zhao F, et al.  (2023) Prevalence and clonal diversity of carbapenem-resistant <em>Klebsiella pneumoniae</em> causing neonatal infections: A systematic review of 128 articles across 30 countries. PLoS Med 20(6):\n",
       "           e1004233.\n",
       "        \n",
       "        https://doi.org/10.1371/journal.pmed.1004233</p>\n",
       "<p><strong>Received: </strong>July 13, 2022; <strong>Accepted: </strong>April 4, 2023; <strong>Published: </strong> June 20, 2023</p>\n",
       "<p><strong>Copyright: </strong> © 2023 Hu et al. This is an open access article distributed under the terms of the <a href=\"http://creativecommons.org/licenses/by/4.0/\">Creative Commons Attribution License</a>, which permits unrestricted use, distribution, and reproduction in any medium, provided the original author and source are credited.</p>\n",
       "<p><strong>Data Availability: </strong>All relevant data are within the manuscript and its <a href=\"#sec024\">Supporting Information</a> files.</p>\n",
       "<p><strong>Funding: </strong>The work was supported by a joint grant from the National Natural Science Foundation of China (81861138055 to ZZ) and the Medical Research Council (MR/S013660/1 to AM) and grants from West China Hospital of Sichuan University (ZYYC08006 and ZYGD22001 to ZZ). The funders had no role in study design, data collection and analysis, decision to publish, or preparation of the manuscript.</p>\n",
       "<p><strong>Competing interests: </strong> The authors have declared that no competing interests exist.</p>\n",
       "<p><strong>Abbreviations:\n",
       "          </strong>ANI,\n",
       "            average nucleotide identity; CI,\n",
       "            confidence interval; CRE,\n",
       "            carbapenem-resistant Enterobacterales; CRKP,\n",
       "            carbapenem-resistant <em>K</em>. <em>pneumoniae</em>; ESBL,\n",
       "            extended-spectrum β-lactamase; IQR,\n",
       "            interquartile range; LMIC,\n",
       "            low- and middle-income country; MALDI-TOF MS,\n",
       "            matrix-assisted laser desorption ionization-time of flight mass spectrometry; MBL,\n",
       "            metallo-β-lactamase; NDM,\n",
       "            New Delhi metallo-β-lactamase; NICU,\n",
       "            neonatal intensive care unit; NOS,\n",
       "            Newcastle–Ottawa Scale; SRA,\n",
       "            Sequence Read Archive; ST,\n",
       "            sequence type</p>\n"
      ],
      "text/plain": [
       "<IPython.core.display.HTML object>"
      ]
     },
     "metadata": {},
     "output_type": "display_data"
    },
    {
     "name": "stdout",
     "output_type": "stream",
     "text": [
      "************************************* Start *************************************\n"
     ]
    },
    {
     "data": {
      "text/html": [
       "<h2>Abstract</h2>\n",
       "<h3>Background</h3>\n",
       "<p>Reducing antibiotic treatment duration is a key component of hospital antibiotic stewardship interventions. However, its effectiveness in reducing antimicrobial resistance is uncertain and a clear theoretical rationale for the approach is lacking. In this study, we sought to gain a mechanistic understanding of the relation between antibiotic treatment duration and the prevalence of colonisation with antibiotic-resistant bacteria in hospitalised patients.</p>\n",
       "<h3>Methods and findings</h3>\n",
       "<p>We constructed 3 stochastic mechanistic models that considered both between- and within-host dynamics of susceptible and resistant gram-negative bacteria, to identify circumstances under which shortening antibiotic duration would lead to reduced resistance carriage. In addition, we performed a meta-analysis of antibiotic treatment duration trials, which monitored resistant gram-negative bacteria carriage as an outcome. We searched MEDLINE and EMBASE for randomised controlled trials published from 1 January 2000 to 4 October 2022, which allocated participants to varying durations of systemic antibiotic treatments. Quality assessment was performed using the Cochrane risk-of-bias tool for randomised trials. The meta-analysis was performed using logistic regression. Duration of antibiotic treatment and time from administration of antibiotics to surveillance culture were included as independent variables. Both the mathematical modelling and meta-analysis suggested modest reductions in resistance carriage could be achieved by reducing antibiotic treatment duration. The models showed that shortening duration is most effective at reducing resistance carriage in high compared to low transmission settings. For treated individuals, shortening duration is most effective when resistant bacteria grow rapidly under antibiotic selection pressure and decline rapidly when stopping treatment. Importantly, under circumstances whereby administered antibiotics can suppress colonising bacteria, shortening antibiotic treatment may increase the carriage of a particular resistance phenotype. We identified 206 randomised trials, which investigated antibiotic duration. Of these, 5 reported resistant gram-negative bacteria carriage as an outcome and were included in the meta-analysis. The meta-analysis determined that a single additional antibiotic treatment day is associated with a 7% absolute increase in risk of resistance carriage (80% credible interval 3% to 11%). Interpretation of these estimates is limited by the low number of antibiotic duration trials that monitored carriage of resistant gram-negative bacteria, as an outcome, contributing to a large credible interval.</p>\n",
       "<h3>Conclusions</h3>\n",
       "<p>In this study, we found both theoretical and empirical evidence that reducing antibiotic treatment duration can reduce resistance carriage, though the mechanistic models also highlighted circumstances under which reducing treatment duration can, perversely, increase resistance. Future antibiotic duration trials should monitor antibiotic-resistant bacteria colonisation as an outcome to better inform antibiotic stewardship policies.</p>\n",
       "<h2>Author summary</h2>\n",
       "<h3>Why was this study done?</h3>\n",
       "<h3>What did the researchers do and find?</h3>\n",
       "<h3>What do these findings mean?</h3>\n",
       "<p><strong>Citation: </strong>Mo Y, Oonsivilai M, Lim C, Niehus R, Cooper BS (2023) Implications of reducing antibiotic treatment duration for antimicrobial resistance in hospital settings: A modelling study and meta-analysis. PLoS Med 20(6):\n",
       "           e1004013.\n",
       "        \n",
       "        https://doi.org/10.1371/journal.pmed.1004013</p>\n",
       "<p><strong>Received: </strong>April 25, 2022; <strong>Accepted: </strong>October 17, 2022; <strong>Published: </strong> June 15, 2023</p>\n",
       "<p><strong>Copyright: </strong> © 2023 Mo et al. This is an open access article distributed under the terms of the <a href=\"http://creativecommons.org/licenses/by/4.0/\">Creative Commons Attribution License</a>, which permits unrestricted use, distribution, and reproduction in any medium, provided the original author and source are credited.</p>\n",
       "<p><strong>Data Availability: </strong>The computer code for all simulations and data for the meta-analysis are publicly available (<a href=\"https://github.com/moyinNUHS/abxduration_abm\">https://github.com/moyinNUHS/abxduration_abm</a>).</p>\n",
       "<p><strong>Funding: </strong>This work was supported by the Singapore National Medical Research Council Research Fellowship (NMRC/Fellowship/0051/2017 to MY), the UK Medical Research Council (MR/V028456/1 to BSC), the Wellcome Trust (206736/Z/17/Z to CL and 106698/Z/14/Z to Mahidol Oxford Tropical Medicine Research Programme). The funders had no role in study design, data collection and analysis, decision to publish, or preparation of the manuscript.</p>\n",
       "<p><strong>Competing interests: </strong> The authors have declared that no competing interests exist.</p>\n"
      ],
      "text/plain": [
       "<IPython.core.display.HTML object>"
      ]
     },
     "metadata": {},
     "output_type": "display_data"
    },
    {
     "name": "stdout",
     "output_type": "stream",
     "text": [
      "************************************* Start *************************************\n"
     ]
    },
    {
     "data": {
      "text/html": [
       "<h2>Abstract</h2>\n",
       "<h3>Introduction</h3>\n",
       "<p>Among individuals ≥ 65 years old, aortic stenosis is highly prevalent and the number of cases is expected to increase in the coming decades, due to the increased life expectancy. Nevertheless, the actual aortic stenosis burden is not well known in population settings and the impact of aortic stenosis on quality of life has not been studied. The aim of this study was to evaluate aortic stenosis impact on health-related quality of life in patients &gt; 65 years old.</p>\n",
       "<h3>Methods</h3>\n",
       "<p>An epidemiological case-control study was carried out to compare quality of life in patients ≥65 years old with severe symptomatic aortic stenosis. Demographical and clinical information was prospectively obtained and quality of life information was collected with the Short Form Health Survey_v2 (SF-12) questionnaire. The association between quality of life and aortic stenosis was determined using multiple logistic regression models.</p>\n",
       "<h3>Results</h3>\n",
       "<p>Patients with severe aortic stenosis self-perceived worse quality of life on all dimensions and summary components of the SF-12 questionnaire. In the final multiple logistic regression model a significant inverse association was observed between the dimensions ‘physical role’ and ‘social role’ (p = 0.002 and p = 0.005) and an association close to significance with ‘physical role’ (p = 0.052) of the SF-12 questionnaire.</p>\n",
       "<h3>Conclusion</h3>\n",
       "<p>The use of quality of life scales allows the assessment of the impact of aortic stenosis on quality of life and may improve the therapeutic approach to severe aortic stenosis, providing evidence for patient‐centered care.</p>\n",
       "<p><strong>Citation: </strong>Gracia Baena JM, Marsal Mora JR, Llorca Cardeñosa S, Calaf Vall I, Zielonka M, Godoy P (2023) Impact of severe aortic stenosis on quality of life. PLoS ONE 18(6):\n",
       "           e0287508.\n",
       "        \n",
       "        https://doi.org/10.1371/journal.pone.0287508</p>\n",
       "<p><strong>Editor: </strong>Alessandro Leone, Universitaria di Bologna, ITALY</p>\n",
       "<p><strong>Received: </strong>June 24, 2022; <strong>Accepted: </strong>May 30, 2023; <strong>Published: </strong> June 21, 2023</p>\n",
       "<p><strong>Copyright: </strong> © 2023 Gracia Baena et al. This is an open access article distributed under the terms of the <a href=\"http://creativecommons.org/licenses/by/4.0/\">Creative Commons Attribution License</a>, which permits unrestricted use, distribution, and reproduction in any medium, provided the original author and source are credited.</p>\n",
       "<p><strong>Data Availability: </strong>All relevant data are within the manuscript.</p>\n",
       "<p><strong>Funding: </strong>The author(s) received no specific funding for this work.</p>\n",
       "<p><strong>Competing interests: </strong> The authors have declared that no competing interests exist.</p>\n"
      ],
      "text/plain": [
       "<IPython.core.display.HTML object>"
      ]
     },
     "metadata": {},
     "output_type": "display_data"
    },
    {
     "name": "stdout",
     "output_type": "stream",
     "text": [
      "************************************* Start *************************************\n"
     ]
    },
    {
     "data": {
      "text/html": [
       "<h2>Abstract</h2>\n",
       "<p>Sickleweed (<em>Falcaria vulgaris</em>) is the name of a species of annual, and perennial herbaceous plants of the genus <em>Falcaria</em>. Climate change could negatively influnces the performance of various plant species in plant kingdom. In this study, 15 different sickleweed populations from seven provinces of the country were collected based on an unbalanced nest design with 10 replications and the percentage of essential oil, types of chlorophyll, phenol, proline, protein, and carotenoids were measured on them. The results showed that there was a significant difference between populations at the level of one percent for the studied traits. The results of the mean comparison showed that populations Ard-Shaban and Qaz-Ilan in terms of the evaluated traits and especially the percentage of essential oil were at the upper of the studied samples and selected as suitable populations. In addition, populations Gilan-Deylaman and Kur-Gerger-e Sofla were also identified as superior populations in terms of studied traits by cluster analysis and principle component analysis (PCA). Since the high level of proline and biochemical and physiological traits in plants can play a role in plants’ tolerance to stresses, therefore, populations with high values of these traits can be used in stress tolerance breeding programs. Therefore, in this study, populations Gilan-Deylaman and Kur-Gerger-e Sofla can be suitable populations for this purpose. In addition, the essential oil of this plant is used in the treatment of diseases, and therefore populations Ard-Shaban and Qaz-Ilan, which showed a high percentage of essential oil, can be used in breeding programs to increase the performance of this trait.</p>\n",
       "<p><strong>Citation: </strong>Rahimi M, Kordrostami M, Nasiri J (2023) Evaluation of biochemical, physiological traits and percentage of essential oil of sickleweed (<em>Falcaria vulgaris</em>) population in different geographical and climatic regions. PLoS ONE 18(6):\n",
       "           e0287480.\n",
       "        \n",
       "        https://doi.org/10.1371/journal.pone.0287480</p>\n",
       "<p><strong>Editor: </strong>Alia Ahmed, University of Balochistan, PAKISTAN</p>\n",
       "<p><strong>Received: </strong>February 6, 2023; <strong>Accepted: </strong>June 6, 2023; <strong>Published: </strong> June 21, 2023</p>\n",
       "<p><strong>Copyright: </strong> © 2023 Rahimi et al. This is an open access article distributed under the terms of the <a href=\"http://creativecommons.org/licenses/by/4.0/\">Creative Commons Attribution License</a>, which permits unrestricted use, distribution, and reproduction in any medium, provided the original author and source are credited.</p>\n",
       "<p><strong>Data Availability: </strong>All relevant data are within the paper.</p>\n",
       "<p><strong>Funding: </strong>This work was supported by the Iran National Science Foundation (INSF) under grant number [99026928]. The funders had no role in study design, data collection and analysis, decision to publish, or preparation of the manuscript.</p>\n",
       "<p><strong>Competing interests: </strong> The authors have declared that no competing interests exist.</p>\n"
      ],
      "text/plain": [
       "<IPython.core.display.HTML object>"
      ]
     },
     "metadata": {},
     "output_type": "display_data"
    },
    {
     "name": "stdout",
     "output_type": "stream",
     "text": [
      "************************************* Start *************************************\n"
     ]
    },
    {
     "data": {
      "text/html": [
       "<h3 id=\"Abstract\" class=\"navigation-heading\" data-label=\"Abstract\">Abstract</h3>\n",
       "<p><span class=\"abstract-sub-heading\">Background: </span>Self-medication counseling in community pharmacies plays a crucial role in health care. Counseling advice should therefore be evidence-based. Web-based information and databases are commonly used as electronic information sources. EVInews is a self-medication–related information tool consisting of a database and monthly published newsletters for pharmacists. Little is known about the quality of pharmacists’ electronic information sources for evidence-based self-medication counseling.<br></p>\n",
       "<p><span class=\"abstract-sub-heading\">Objective: </span>Our aim was to investigate the quality of community pharmacists’ web-based search results for self-medication–related content in comparison with the EVInews database, based on an adjusted quality score for pharmacists.<br></p>\n",
       "<p><span class=\"abstract-sub-heading\">Methods: </span>After receiving ethics approval, we performed a quantitative web-based survey with a search task as a prospective randomized, controlled, and unblinded trial. For the search task, participants were instructed to search for evidence-based information to verify 6 health-related statements from 2 typical self-medication indications. Pharmacists across Germany were invited via email to participate. After providing written informed consent, they were automatically, randomly assigned to use either web-based information sources of their choice without the EVInews database (web group) or exclusively the EVInews database (EVInews group). The quality of the information sources that were used for the search task was then assessed by 2 evaluators using a quality score ranging from 100% (180 points, all predefined criteria fulfilled) to 0% (0 points, none of the predefined criteria fulfilled). In case of assessment discrepancies, an expert panel consisting of 4 pharmacists was consulted.<br></p>\n",
       "<p><span class=\"abstract-sub-heading\">Results: </span>In total, 141 pharmacists were enrolled. In the Web group (n=71 pharmacists), the median quality score was 32.8% (59.0 out of 180.0 points; IQR 23.0-80.5). In the EVInews group (n=70 pharmacists), the median quality score was significantly higher (85.3%; 153.5 out of 180.0 points; <i>P</i>&lt;.001) and the IQR was smaller (IQR 125.1-157.0). Fewer pharmacists completed the entire search task in the Web group (n=22) than in the EVInews group (n=46). The median time to complete the search task was not significantly different between the Web group (25.4 minutes) and the EVInews group (19.7 minutes; <i>P</i>=.12). The most frequently used web-based sources (74/254, 29.1%) comprised tertiary literature.<br></p>\n",
       "<p><span class=\"abstract-sub-heading\">Conclusions: </span>The median quality score of the web group was poor, and there was a significant difference in quality scores in favor of the EVInews group. Pharmacists’ web-based and self-medication–related information sources often did not meet standard quality requirements and showed considerable variation in quality.<br></p>\n",
       "<p><span class=\"abstract-sub-heading\">Trial Registration: </span>German Clinical Trials Register DRKS00026104; https://drks.de/search/en/trial/DRKS00026104<br></p>\n",
       "<h3 class=\"h3-main-heading\" id=\"Keywords\">Keywords</h3>\n"
      ],
      "text/plain": [
       "<IPython.core.display.HTML object>"
      ]
     },
     "metadata": {},
     "output_type": "display_data"
    },
    {
     "name": "stdout",
     "output_type": "stream",
     "text": [
      "************************************* Start *************************************\n"
     ]
    },
    {
     "data": {
      "text/html": [
       "<h3 id=\"Abstract\" class=\"navigation-heading\" data-label=\"Abstract\">Abstract</h3>\n",
       "<p><span class=\"abstract-sub-heading\">Background: </span>To ensure the timely diagnosis of emerging infectious diseases, high-tech molecular biotechnology is often used to detect pathogens and has gradually become the gold standard for virological testing. However, beginners and students are often unable to practice their skills due to the higher costs associated with high-level virological testing, the increasing complexity of the equipment, and the limited number of specimens from patients. Therefore, a new training program is necessary to increase training and reduce the risk of test failure.<br></p>\n",
       "<p><span class=\"abstract-sub-heading\">Objective: </span>The aim of the study is to (1) develop and implement a virtual reality (VR) software for simulated and interactive high-level virological testing that can be applied in clinical practice and skills building or training settings and (2) evaluate the VR simulation’s effectiveness on reaction, learning, and behavior of the students (trainees).<br></p>\n",
       "<p><span class=\"abstract-sub-heading\">Methods: </span>Viral nucleic acid tests on a BD MAX instrument were selected for our VR project because it is a high-tech automatic detection system. There was cooperation between teachers of medical technology and biomedical engineering. Medical technology teachers were responsible for designing the lesson plan, and the biomedical engineering personnel developed the VR software. We designed a novel VR teaching software to simulate cognitive learning via various procedure scenarios and interactive models. The VR software contains 2D VR “cognitive test and learning” lessons and 3D VR “practical skills training” lessons. We evaluated students’ learning effectiveness pre- and posttraining and then recorded their behavior patterns when answering questions, performing repeated exercises, and engaging in clinical practice.<br></p>\n",
       "<p><span class=\"abstract-sub-heading\">Results: </span>The results showed that the use of the VR software met participants’ needs and enhanced their interest in learning. The average posttraining scores of participants exposed to 2D and 3D VR training were significantly higher than participants who were exposed solely to traditional demonstration teaching (<i>P</i>&lt;.001). Behavioral assessments of students pre- and posttraining showed that students exposed to VR-based training to acquire relevant knowledge of advanced virological testing exhibited significantly improved knowledge of specific items posttraining (<i>P</i>&lt;.01). A higher participant score led to fewer attempts when responding to each item in a matching task. Thus, VR can enhance students’ understanding of difficult topics.<br></p>\n",
       "<p><span class=\"abstract-sub-heading\">Conclusions: </span>The VR program designed for this study can reduce the costs associated with virological testing training, thus, increasing their accessibility for students and beginners. It can also reduce the risk of viral infections particularly during disease outbreaks (eg, the COVID-19 pandemic) and also enhance students’ learning motivation to strengthen their practical skills.<br></p>\n",
       "<h3 class=\"h3-main-heading\" id=\"Keywords\">Keywords</h3>\n"
      ],
      "text/plain": [
       "<IPython.core.display.HTML object>"
      ]
     },
     "metadata": {},
     "output_type": "display_data"
    }
   ],
   "source": [
    "text_dict, display_dict = text_dict_from_web(\n",
    "    partial_article_dict[1], to_display='all', header=(2,4))\n",
    "\n",
    "display_html(display_dict, type='abstract')"
   ]
  },
  {
   "attachments": {},
   "cell_type": "markdown",
   "metadata": {},
   "source": []
  },
  {
   "cell_type": "code",
   "execution_count": null,
   "metadata": {},
   "outputs": [],
   "source": []
  },
  {
   "cell_type": "code",
   "execution_count": null,
   "metadata": {},
   "outputs": [],
   "source": []
  },
  {
   "cell_type": "code",
   "execution_count": null,
   "metadata": {},
   "outputs": [],
   "source": []
  },
  {
   "cell_type": "code",
   "execution_count": null,
   "metadata": {},
   "outputs": [],
   "source": []
  },
  {
   "cell_type": "code",
   "execution_count": null,
   "metadata": {},
   "outputs": [],
   "source": []
  },
  {
   "cell_type": "code",
   "execution_count": null,
   "metadata": {},
   "outputs": [],
   "source": []
  },
  {
   "cell_type": "code",
   "execution_count": null,
   "metadata": {},
   "outputs": [],
   "source": []
  },
  {
   "cell_type": "code",
   "execution_count": null,
   "metadata": {},
   "outputs": [],
   "source": []
  },
  {
   "cell_type": "code",
   "execution_count": null,
   "metadata": {},
   "outputs": [],
   "source": []
  },
  {
   "cell_type": "code",
   "execution_count": null,
   "metadata": {},
   "outputs": [],
   "source": []
  },
  {
   "cell_type": "code",
   "execution_count": null,
   "metadata": {},
   "outputs": [],
   "source": []
  },
  {
   "cell_type": "code",
   "execution_count": null,
   "metadata": {},
   "outputs": [],
   "source": []
  },
  {
   "cell_type": "code",
   "execution_count": null,
   "metadata": {},
   "outputs": [],
   "source": []
  },
  {
   "cell_type": "code",
   "execution_count": null,
   "metadata": {},
   "outputs": [],
   "source": []
  },
  {
   "cell_type": "code",
   "execution_count": null,
   "metadata": {},
   "outputs": [],
   "source": []
  },
  {
   "cell_type": "code",
   "execution_count": null,
   "metadata": {},
   "outputs": [],
   "source": []
  },
  {
   "cell_type": "code",
   "execution_count": null,
   "metadata": {},
   "outputs": [],
   "source": []
  },
  {
   "cell_type": "code",
   "execution_count": null,
   "metadata": {},
   "outputs": [],
   "source": []
  },
  {
   "attachments": {},
   "cell_type": "markdown",
   "metadata": {},
   "source": [
    "# *End of Page*"
   ]
  }
 ],
 "metadata": {
  "kernelspec": {
   "display_name": "Python 3.9.13 64-bit",
   "language": "python",
   "name": "python3"
  },
  "language_info": {
   "codemirror_mode": {
    "name": "ipython",
    "version": 3
   },
   "file_extension": ".py",
   "mimetype": "text/x-python",
   "name": "python",
   "nbconvert_exporter": "python",
   "pygments_lexer": "ipython3",
   "version": "3.11.3"
  },
  "orig_nbformat": 4,
  "vscode": {
   "interpreter": {
    "hash": "11938c6bc6919ae2720b4d5011047913343b08a43b18698fd82dedb0d4417594"
   }
  }
 },
 "nbformat": 4,
 "nbformat_minor": 2
}
