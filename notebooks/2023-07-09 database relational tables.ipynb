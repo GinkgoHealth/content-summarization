{
 "cells": [
  {
   "attachments": {},
   "cell_type": "markdown",
   "metadata": {},
   "source": [
    "# Title\n",
    "[]()"
   ]
  },
  {
   "cell_type": "code",
   "execution_count": 2,
   "metadata": {},
   "outputs": [],
   "source": [
    "\n",
    "import pandas as pd\n",
    "import sys\n",
    "sys.path.append(r\"C:\\Users\\silvh\\OneDrive\\lighthouse\\custom_python\")\n",
    "from silvhua import *\n",
    "from datetime import datetime\n",
    "# sys.path.append(r\"C:\\Users\\silvh\\OneDrive\\lighthouse\\portfolio-projects\\online-PT-social-media-NLP\\src\")\n"
   ]
  },
  {
   "cell_type": "code",
   "execution_count": 3,
   "metadata": {},
   "outputs": [],
   "source": [
    "# set the option to wrap text within cells\n",
    "pd.set_option('display.max_colwidth', 100)\n",
    "pd.set_option('display.max_rows', 20)\n",
    "pd.set_option('display.max_columns', None)\n",
    "pd.set_option('display.width', None)"
   ]
  },
  {
   "attachments": {},
   "cell_type": "markdown",
   "metadata": {},
   "source": [
    "# Copied from 2023-07-01 notebook "
   ]
  },
  {
   "cell_type": "code",
   "execution_count": null,
   "metadata": {},
   "outputs": [
    {
     "name": "stdout",
     "output_type": "stream",
     "text": [
      "Publication : 128 - Physiology & Behavior\n",
      "Rows inserted:\n",
      "\tArticle title:  Food craving, cortisol and ghrelin responses in modeling highly palatable snack intake in the laboratory\n",
      "\tArticle publication_id:  128\n"
     ]
    },
    {
     "data": {
      "text/html": [
       "<div>\n",
       "<style scoped>\n",
       "    .dataframe tbody tr th:only-of-type {\n",
       "        vertical-align: middle;\n",
       "    }\n",
       "\n",
       "    .dataframe tbody tr th {\n",
       "        vertical-align: top;\n",
       "    }\n",
       "\n",
       "    .dataframe thead th {\n",
       "        text-align: right;\n",
       "    }\n",
       "</style>\n",
       "<table border=\"1\" class=\"dataframe\">\n",
       "  <thead>\n",
       "    <tr style=\"text-align: right;\">\n",
       "      <th></th>\n",
       "      <th>id</th>\n",
       "      <th>name</th>\n",
       "      <th>article_id</th>\n",
       "    </tr>\n",
       "  </thead>\n",
       "  <tbody>\n",
       "    <tr>\n",
       "      <th>0</th>\n",
       "      <td>128</td>\n",
       "      <td>Physiology &amp; Behavior</td>\n",
       "      <td>None</td>\n",
       "    </tr>\n",
       "  </tbody>\n",
       "</table>\n",
       "</div>"
      ],
      "text/plain": [
       "    id                   name article_id\n",
       "0  128  Physiology & Behavior       None"
      ]
     },
     "metadata": {},
     "output_type": "display_data"
    }
   ],
   "source": [
    "import sys\n",
    "sys.path.append(r\"C:\\Users\\silvh\\OneDrive\\lighthouse\\Ginkgo coding\\content-summarization\\src\")\n",
    "\n",
    "from db_session import *\n",
    "from sqlalchemy.orm import declarative_base\n",
    "from sqlalchemy import Column, ForeignKey, Integer, String, Text, text\n",
    "from sqlalchemy.dialects.postgresql import UUID\n",
    "import uuid\n",
    "import pandas as pd\n",
    "# from sqlalchemy.dialects.postgresql import insert\n",
    "from sqlalchemy.orm import mapped_column\n",
    "from sqlalchemy.orm import relationship\n",
    "\n",
    "\n",
    "Base = declarative_base()\n",
    "\n",
    "class Publications(Base):\n",
    "    __tablename__ = 'publications'\n",
    "    id = mapped_column(Integer, primary_key=True, autoincrement=True)\n",
    "    # id = mapped_column(Integer, primary_key=True)\n",
    "    # id = Column(Integer, primary_key=True, server_default='DEFAULT', autoincrement=True)\n",
    "    name = mapped_column(String(100))\n",
    "    # article_id = Column(Integer, ForeignKey('articles.id'))\n",
    "    article_id = mapped_column(Integer)\n",
    "    articles = relationship('Article', back_populates='publications', uselist=True)\n",
    "\n",
    "class Article(Base):\n",
    "    __tablename__ = 'articles'\n",
    "    # id = Column(Integer, primary_key=True, server_default='DEFAULT', autoincrement=True)\n",
    "    id = mapped_column(Integer, primary_key=True)\n",
    "    title = mapped_column(String(255))\n",
    "    # publication_id = Column(String(100))\n",
    "    publication_id = mapped_column(Integer, ForeignKey('publications.id'), autoincrement=False)\n",
    "    # text_body = Column(Text, nullable=True)\n",
    "    # uuid = Column(UUID, nullable=True)\n",
    "    publications = relationship('Publications', back_populates='articles')\n",
    "    \n",
    "class Summaries(Base):\n",
    "    __tablename__ = 'initial_summaries'\n",
    "    id = Column(Integer, primary_key=True)\n",
    "    summary_body = Column(String(1000))\n",
    "    article_uuid = Column(UUID)\n",
    "\n",
    "@remote_sql_session\n",
    "def get_table(session, query='SELECT *', table='publications'):\n",
    "    \"\"\"\n",
    "    Return a database table as a pandas dataframe.\n",
    "    \"\"\"\n",
    "    q = session.execute(text(f'{query} from {table}'))\n",
    "    df = pd.DataFrame(q.fetchall())\n",
    "    return df\n",
    "\n",
    "@testing_session\n",
    "def get_session(session):\n",
    "    \"\"\"\n",
    "    Return a database table as a pandas dataframe.\n",
    "    \"\"\"\n",
    "    return session\n",
    "\n",
    "def bulk_insert(new_rows, engine=None):\n",
    "    @remote_sql_session\n",
    "    def insert_rows(session):\n",
    "        print('Rows inserted:')\n",
    "        for row in new_rows:\n",
    "            session.add(row)\n",
    "            session.commit()\n",
    "            # print([f\"\\t{row['name']}\"])\n",
    "            # print([f\"\\t{row}\"])\n",
    "\n",
    "    return insert_rows\n",
    "\n",
    "def bulk_append(article_dict, engine=None):\n",
    "    @remote_sql_session\n",
    "    def insert_rows(session):\n",
    "        for publication, article_list in article_dict.items():\n",
    "            Journal_inst = Publications(name=publication)\n",
    "            session.add(Journal_inst)\n",
    "            session.flush()  # Obtain the generated primary key value\n",
    "            print(f'Publication : {Journal_inst.id} - {Journal_inst.name}')\n",
    "            print('Rows inserted:')\n",
    "\n",
    "            for index, row in enumerate(article_list):\n",
    "                article = Article(title=row, publication_id=Journal_inst.id)\n",
    "                Journal_inst.articles.append(article)\n",
    "                print('\\tArticle title: ', Journal_inst.articles[index].title)\n",
    "                print('\\tArticle publication_id: ', Journal_inst.articles[index].publication_id)\n",
    "                session.commit()\n",
    "    return insert_rows\n",
    "\n",
    "\n",
    "Journal_inst = Publications(name='Physiology & Behavior')\n",
    "journal_list = [Journal_inst]\n",
    "\n",
    "article_dict = {\n",
    "    'Physiology & Behavior': [\n",
    "        'Food craving, cortisol and ghrelin responses in modeling highly palatable snack intake in the laboratory'\n",
    "    ]\n",
    "}\n",
    "\n",
    "\n",
    "bulk_append(article_dict)()\n",
    "session = get_session()\n",
    "get_table()\n",
    "\n",
    "# # get_table(table='articles')\n"
   ]
  },
  {
   "attachments": {},
   "cell_type": "markdown",
   "metadata": {},
   "source": [
    "# Modify"
   ]
  },
  {
   "cell_type": "code",
   "execution_count": 1,
   "metadata": {},
   "outputs": [
    {
     "data": {
      "text/html": [
       "<div>\n",
       "<style scoped>\n",
       "    .dataframe tbody tr th:only-of-type {\n",
       "        vertical-align: middle;\n",
       "    }\n",
       "\n",
       "    .dataframe tbody tr th {\n",
       "        vertical-align: top;\n",
       "    }\n",
       "\n",
       "    .dataframe thead th {\n",
       "        text-align: right;\n",
       "    }\n",
       "</style>\n",
       "<table border=\"1\" class=\"dataframe\">\n",
       "  <thead>\n",
       "    <tr style=\"text-align: right;\">\n",
       "      <th></th>\n",
       "      <th>id</th>\n",
       "      <th>name</th>\n",
       "      <th>article_id</th>\n",
       "    </tr>\n",
       "  </thead>\n",
       "  <tbody>\n",
       "    <tr>\n",
       "      <th>0</th>\n",
       "      <td>128</td>\n",
       "      <td>Physiology &amp; Behavior</td>\n",
       "      <td>None</td>\n",
       "    </tr>\n",
       "  </tbody>\n",
       "</table>\n",
       "</div>"
      ],
      "text/plain": [
       "    id                   name article_id\n",
       "0  128  Physiology & Behavior       None"
      ]
     },
     "execution_count": 1,
     "metadata": {},
     "output_type": "execute_result"
    }
   ],
   "source": [
    "import sys\n",
    "sys.path.append(r\"C:\\Users\\silvh\\OneDrive\\lighthouse\\Ginkgo coding\\content-summarization\\src\")\n",
    "\n",
    "from db_session import *\n",
    "from sqlalchemy.orm import declarative_base\n",
    "from sqlalchemy import Column, ForeignKey, Integer, String, Text, text\n",
    "from sqlalchemy.dialects.postgresql import UUID\n",
    "import uuid\n",
    "import pandas as pd\n",
    "# from sqlalchemy.dialects.postgresql import insert\n",
    "from sqlalchemy.orm import mapped_column\n",
    "from sqlalchemy.orm import relationship\n",
    "\n",
    "\n",
    "Base = declarative_base()\n",
    "\n",
    "class Publications(Base):\n",
    "    __tablename__ = 'publications'\n",
    "    id = mapped_column(Integer, primary_key=True, autoincrement=True)\n",
    "    name = mapped_column(String(100))\n",
    "    # article_id = Column(Integer, ForeignKey('articles.id'))\n",
    "    article_id = mapped_column(Integer)\n",
    "    articles = relationship('Article', back_populates='publications', uselist=True)\n",
    "\n",
    "class Article(Base):\n",
    "    __tablename__ = 'articles'\n",
    "    # id = Column(Integer, primary_key=True, server_default='DEFAULT', autoincrement=True)\n",
    "    id = mapped_column(Integer, primary_key=True)\n",
    "    title = mapped_column(String(255))\n",
    "    publication_id = mapped_column(Integer, ForeignKey('publications.id'), autoincrement=False)\n",
    "    # text_body = Column(Text, nullable=True)\n",
    "    # uuid = Column(UUID, nullable=True)\n",
    "    publications = relationship('Publications', back_populates='articles')\n",
    "    \n",
    "class Summaries(Base):\n",
    "    __tablename__ = 'initial_summaries'\n",
    "    id = Column(Integer, primary_key=True)\n",
    "    summary_body = Column(String(1000))\n",
    "    article_uuid = Column(UUID)\n",
    "\n",
    "@remote_sql_session\n",
    "def get_table(session, query='SELECT *', table='publications'):\n",
    "    \"\"\"\n",
    "    Return a database table as a pandas dataframe.\n",
    "    \"\"\"\n",
    "    q = session.execute(text(f'{query} from {table}'))\n",
    "    df = pd.DataFrame(q.fetchall())\n",
    "    return df\n",
    "\n",
    "@testing_session\n",
    "def get_session(session):\n",
    "    \"\"\"\n",
    "    Return a database table as a pandas dataframe.\n",
    "    \"\"\"\n",
    "    return session\n",
    "\n",
    "def bulk_insert(new_rows, engine=None):\n",
    "    @remote_sql_session\n",
    "    def insert_rows(session):\n",
    "        print('Rows inserted:')\n",
    "        for row in new_rows:\n",
    "            session.add(row)\n",
    "            session.commit()\n",
    "            # print([f\"\\t{row['name']}\"])\n",
    "            # print([f\"\\t{row}\"])\n",
    "\n",
    "    return insert_rows\n",
    "\n",
    "def bulk_append(article_dict, engine=None):\n",
    "    @remote_sql_session\n",
    "    def insert_rows(session):\n",
    "        for publication, article_list in article_dict.items():\n",
    "            Journal_inst = Publications(name=publication)\n",
    "            session.add(Journal_inst)\n",
    "            session.flush()  # Obtain the generated primary key value\n",
    "            print(f'Publication : {Journal_inst.id} - {Journal_inst.name}')\n",
    "            print('Rows inserted:')\n",
    "\n",
    "            for index, row in enumerate(article_list):\n",
    "                article = Article(title=row, publication_id=Journal_inst.id)\n",
    "                Journal_inst.articles.append(article)\n",
    "                print('\\tArticle title: ', Journal_inst.articles[index].title)\n",
    "                print('\\tArticle publication_id: ', Journal_inst.articles[index].publication_id)\n",
    "                session.commit()\n",
    "    return insert_rows\n",
    "\n",
    "\n",
    "Journal_inst = Publications(name='Physiology & Behavior')\n",
    "journal_list = [Journal_inst]\n",
    "\n",
    "article_dict = {\n",
    "    'Physiology & Behavior': [\n",
    "        'Food craving, cortisol and ghrelin responses in modeling highly palatable snack intake in the laboratory'\n",
    "    ]\n",
    "}\n",
    "\n",
    "\n",
    "# bulk_append(article_dict)()\n",
    "# session = get_session()\n",
    "get_table()\n",
    "\n",
    "# # get_table(table='articles')\n"
   ]
  },
  {
   "cell_type": "code",
   "execution_count": 2,
   "metadata": {},
   "outputs": [
    {
     "data": {
      "text/html": [
       "<div>\n",
       "<style scoped>\n",
       "    .dataframe tbody tr th:only-of-type {\n",
       "        vertical-align: middle;\n",
       "    }\n",
       "\n",
       "    .dataframe tbody tr th {\n",
       "        vertical-align: top;\n",
       "    }\n",
       "\n",
       "    .dataframe thead th {\n",
       "        text-align: right;\n",
       "    }\n",
       "</style>\n",
       "<table border=\"1\" class=\"dataframe\">\n",
       "  <thead>\n",
       "    <tr style=\"text-align: right;\">\n",
       "      <th></th>\n",
       "      <th>id</th>\n",
       "      <th>title</th>\n",
       "      <th>publication_id</th>\n",
       "    </tr>\n",
       "  </thead>\n",
       "  <tbody>\n",
       "    <tr>\n",
       "      <th>0</th>\n",
       "      <td>77</td>\n",
       "      <td>Food craving, cortisol and ghrelin responses i...</td>\n",
       "      <td>128</td>\n",
       "    </tr>\n",
       "  </tbody>\n",
       "</table>\n",
       "</div>"
      ],
      "text/plain": [
       "   id                                              title  publication_id\n",
       "0  77  Food craving, cortisol and ghrelin responses i...             128"
      ]
     },
     "execution_count": 2,
     "metadata": {},
     "output_type": "execute_result"
    }
   ],
   "source": [
    "get_table(table='articles')"
   ]
  },
  {
   "attachments": {},
   "cell_type": "markdown",
   "metadata": {},
   "source": []
  },
  {
   "cell_type": "code",
   "execution_count": null,
   "metadata": {},
   "outputs": [],
   "source": []
  },
  {
   "cell_type": "code",
   "execution_count": null,
   "metadata": {},
   "outputs": [],
   "source": []
  },
  {
   "cell_type": "code",
   "execution_count": null,
   "metadata": {},
   "outputs": [],
   "source": []
  },
  {
   "cell_type": "code",
   "execution_count": null,
   "metadata": {},
   "outputs": [],
   "source": []
  },
  {
   "cell_type": "code",
   "execution_count": null,
   "metadata": {},
   "outputs": [],
   "source": []
  },
  {
   "cell_type": "code",
   "execution_count": null,
   "metadata": {},
   "outputs": [],
   "source": []
  },
  {
   "cell_type": "code",
   "execution_count": null,
   "metadata": {},
   "outputs": [],
   "source": []
  },
  {
   "cell_type": "code",
   "execution_count": null,
   "metadata": {},
   "outputs": [],
   "source": []
  },
  {
   "cell_type": "code",
   "execution_count": null,
   "metadata": {},
   "outputs": [],
   "source": []
  },
  {
   "cell_type": "code",
   "execution_count": null,
   "metadata": {},
   "outputs": [],
   "source": []
  },
  {
   "cell_type": "code",
   "execution_count": null,
   "metadata": {},
   "outputs": [],
   "source": []
  },
  {
   "cell_type": "code",
   "execution_count": null,
   "metadata": {},
   "outputs": [],
   "source": []
  },
  {
   "cell_type": "code",
   "execution_count": null,
   "metadata": {},
   "outputs": [],
   "source": []
  },
  {
   "cell_type": "code",
   "execution_count": null,
   "metadata": {},
   "outputs": [],
   "source": []
  },
  {
   "cell_type": "code",
   "execution_count": null,
   "metadata": {},
   "outputs": [],
   "source": []
  },
  {
   "cell_type": "code",
   "execution_count": null,
   "metadata": {},
   "outputs": [],
   "source": []
  },
  {
   "cell_type": "code",
   "execution_count": null,
   "metadata": {},
   "outputs": [],
   "source": []
  },
  {
   "cell_type": "code",
   "execution_count": null,
   "metadata": {},
   "outputs": [],
   "source": []
  },
  {
   "cell_type": "code",
   "execution_count": null,
   "metadata": {},
   "outputs": [],
   "source": []
  },
  {
   "cell_type": "code",
   "execution_count": null,
   "metadata": {},
   "outputs": [],
   "source": []
  },
  {
   "cell_type": "code",
   "execution_count": null,
   "metadata": {},
   "outputs": [],
   "source": []
  },
  {
   "attachments": {},
   "cell_type": "markdown",
   "metadata": {},
   "source": [
    "# *End of Page*"
   ]
  }
 ],
 "metadata": {
  "kernelspec": {
   "display_name": "Python 3.9.13 64-bit",
   "language": "python",
   "name": "python3"
  },
  "language_info": {
   "codemirror_mode": {
    "name": "ipython",
    "version": 3
   },
   "file_extension": ".py",
   "mimetype": "text/x-python",
   "name": "python",
   "nbconvert_exporter": "python",
   "pygments_lexer": "ipython3",
   "version": "3.11.3"
  },
  "orig_nbformat": 4,
  "vscode": {
   "interpreter": {
    "hash": "11938c6bc6919ae2720b4d5011047913343b08a43b18698fd82dedb0d4417594"
   }
  }
 },
 "nbformat": 4,
 "nbformat_minor": 2
}
