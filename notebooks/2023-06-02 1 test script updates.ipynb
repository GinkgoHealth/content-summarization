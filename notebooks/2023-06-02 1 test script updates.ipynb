{
 "cells": [
  {
   "attachments": {},
   "cell_type": "markdown",
   "metadata": {},
   "source": [
    "# Title\n",
    "[]()"
   ]
  },
  {
   "cell_type": "code",
   "execution_count": 3,
   "metadata": {},
   "outputs": [],
   "source": [
    "import sys\n",
    "sys.path.append(r\"C:\\Users\\silvh\\OneDrive\\lighthouse\\Ginkgo coding\\content-summarization\\src\")\n",
    "from summary_chain import *\n",
    "from response_processing import *\n",
    "from article_processing import create_text_dict_from_folder\n",
    "from file_functions import *\n",
    "import time\n",
    "\n",
    "# Create text dictionary\n",
    "folder_path = '../text/2023-06-02 1' # ** UPDATE REQUIRED**\n",
    "\n",
    "encoding='ISO-8859-1'\n",
    "subset=None\n",
    "\n",
    "text_dict = create_text_dict_from_folder(folder_path, encoding=encoding, subset=subset)\n",
    "\n",
    "# Set parameters\n",
    "iteration_id = 1\n",
    "n_choices = 5\n",
    "pause_per_request=0\n",
    "summary_iteration_id = iteration_id\n",
    "chatbot_id = iteration_id\n",
    "\n",
    "# Create prompt lists\n",
    "prep_step = [\n",
    "    \"Take the key points and numerical descriptors to\",\n",
    "]\n",
    "\n",
    "summarize_task = [\n",
    "    \"Summarize for a LinkedIn post.\",\n",
    "    # \"Describe the interesting points to your coworker at the water cooler\",\n",
    "    # \"Create an Instagram post without hashtags.\",\n",
    "]\n",
    "\n",
    "user_simplify_task = [\n",
    "    \"\"\"If needed, rewrite the text using terms appropriate for the audience. If not keep it the same.\\\n",
    "    Follow these steps to accomplish this: \\\n",
    "    \\n1. Check if the content and language are appropriate for the audience. \\\n",
    "    \\n2. If it is suitable for the audience, keep it the same. If not, rewrite using terms appropriate for the audience. \\ \n",
    "    \\n3. Return the final version of the summary to be shown to the audience. \\\n",
    "    \\n\\nYour audience is\"\"\",\n",
    "]\n",
    "\n",
    "simplify_audience = [\n",
    "    # \"a lay audience\",\n",
    "    \"people without a science background\",\n",
    "]\n",
    "\n",
    "user_relevance_task = [\n",
    "    \"\"\"Rewrite this summary to include a statement of how it is relevant for the audience. \\\n",
    "        Follow these steps to accomplish this: \\\n",
    "        \\n1. Think about why this might be relevant for the audience in the grand scheme of things.\\\n",
    "        \\n2. If it is not evident why the text is relevant for the audience in the grand scheme of things, \\\n",
    "        add a sentence to inform the audience. Otherwise, keep it the same. \\\n",
    "        \\n3. Modify the summary if needed to reduce redundancy. \\\n",
    "        \\n4. Check if the content and language are appropriate for the audience. \\\n",
    "        If it is suitable for the audience, keep it the same. If not, rewrite using terms appropriate for the audience. \\ \n",
    "        \\n5. Return the final version of the summary to be shown to the audience. \\\n",
    "        \\n6. Remove the backticks.\n",
    "        \\n\\nYour audience consists of\"\"\",\n",
    "]\n",
    "\n",
    "relevance_audience = [\n",
    "    # \"seniors\",\n",
    "    \"people who enjoy sports\",\n",
    "    # \"people new to resistance training\"\n",
    "]\n",
    "\n",
    "qna_dict = dict()\n",
    "chatbot_dict = dict()\n",
    "simple_summaries_dict = dict()\n",
    "relevance_dict = dict()\n",
    "chain_results_dict = dict()\n",
    "\n",
    "# Create initial summaries\n",
    "qna_dict, chaining_dict = batch_summarize_chain(\n",
    "    text_dict, prep_step, summarize_task, qna_dict, chatbot_dict, \n",
    "    n_choices=n_choices, pause_per_request=pause_per_request,\n",
    "    iteration_id=iteration_id\n",
    "    )\n",
    "\n",
    "time.sleep(pause_per_request)\n",
    "\n",
    "# Create simple summaries\n",
    "simplify_prompts = user_simplify_task\n",
    "audience = simplify_audience\n",
    "simple_summaries = prompt_chaining_dict(simplify_prompts, audience, simple_summaries_dict, \n",
    "    chaining_dict[iteration_id], iteration_id,\n",
    "    n_choices=1, pause_per_request=pause_per_request, summary_iteration_id=summary_iteration_id\n",
    "    )\n",
    "\n",
    "# Add relevance\n",
    "relevance_prompts = user_relevance_task\n",
    "relevance = prompt_chaining_dict(relevance_prompts, relevance_audience, relevance_dict, \n",
    "    chaining_dict[summary_iteration_id], iteration_id, prompt_column='relevance', \n",
    "    n_choices=1, pause_per_request=pause_per_request, summary_iteration_id=summary_iteration_id\n",
    "    )\n",
    "\n",
    "# Merge the results\n",
    "try:\n",
    "    chain_results_dict = merge_all_chaining_results(\n",
    "        chain_results_dict, chatbot_dict, iteration_id, pivot=True,\n",
    "        empty_columns=True,\n",
    "        save_df=True, save_chatbot=True, \n",
    "            csv_path=folder_path,\n",
    "    )\n",
    "    print(f'\\nCompleted merge_all_chaining_results!:)')\n",
    "except:\n",
    "    merged_df = merge_chaining_results(\n",
    "        qna_dict, chatbot_dict, \n",
    "        simple_summaries_dict, relevance_dict, iteration_id, \n",
    "        empty_columns=True, pivot=True, validate=True, \n",
    "        chatbot_id=chatbot_id, save_df=True, save_chatbot=True,\n",
    "        csv_path=folder_path, pickle_path=folder_path, json_path=folder_path\n",
    "        )\n",
    "    print(f'\\nCompleted merge_chaining_results.')"
   ]
  },
  {
   "cell_type": "code",
   "execution_count": null,
   "metadata": {},
   "outputs": [],
   "source": []
  },
  {
   "cell_type": "code",
   "execution_count": null,
   "metadata": {},
   "outputs": [],
   "source": []
  },
  {
   "cell_type": "code",
   "execution_count": null,
   "metadata": {},
   "outputs": [],
   "source": []
  },
  {
   "cell_type": "code",
   "execution_count": null,
   "metadata": {},
   "outputs": [],
   "source": []
  },
  {
   "cell_type": "code",
   "execution_count": null,
   "metadata": {},
   "outputs": [],
   "source": []
  },
  {
   "cell_type": "code",
   "execution_count": null,
   "metadata": {},
   "outputs": [],
   "source": []
  },
  {
   "cell_type": "code",
   "execution_count": null,
   "metadata": {},
   "outputs": [],
   "source": []
  },
  {
   "cell_type": "code",
   "execution_count": null,
   "metadata": {},
   "outputs": [],
   "source": []
  },
  {
   "cell_type": "code",
   "execution_count": null,
   "metadata": {},
   "outputs": [],
   "source": []
  },
  {
   "cell_type": "code",
   "execution_count": null,
   "metadata": {},
   "outputs": [],
   "source": []
  },
  {
   "cell_type": "code",
   "execution_count": null,
   "metadata": {},
   "outputs": [],
   "source": []
  },
  {
   "cell_type": "code",
   "execution_count": null,
   "metadata": {},
   "outputs": [],
   "source": []
  },
  {
   "cell_type": "code",
   "execution_count": null,
   "metadata": {},
   "outputs": [],
   "source": []
  },
  {
   "cell_type": "code",
   "execution_count": null,
   "metadata": {},
   "outputs": [],
   "source": []
  },
  {
   "cell_type": "code",
   "execution_count": null,
   "metadata": {},
   "outputs": [],
   "source": []
  },
  {
   "cell_type": "code",
   "execution_count": null,
   "metadata": {},
   "outputs": [],
   "source": []
  },
  {
   "cell_type": "code",
   "execution_count": null,
   "metadata": {},
   "outputs": [],
   "source": []
  },
  {
   "cell_type": "code",
   "execution_count": null,
   "metadata": {},
   "outputs": [],
   "source": []
  },
  {
   "cell_type": "code",
   "execution_count": null,
   "metadata": {},
   "outputs": [],
   "source": []
  },
  {
   "cell_type": "code",
   "execution_count": null,
   "metadata": {},
   "outputs": [],
   "source": []
  },
  {
   "cell_type": "code",
   "execution_count": null,
   "metadata": {},
   "outputs": [],
   "source": []
  },
  {
   "attachments": {},
   "cell_type": "markdown",
   "metadata": {},
   "source": [
    "# *End of Page*"
   ]
  }
 ],
 "metadata": {
  "kernelspec": {
   "display_name": "Python 3.9.13 64-bit",
   "language": "python",
   "name": "python3"
  },
  "language_info": {
   "codemirror_mode": {
    "name": "ipython",
    "version": 3
   },
   "file_extension": ".py",
   "mimetype": "text/x-python",
   "name": "python",
   "nbconvert_exporter": "python",
   "pygments_lexer": "ipython3",
   "version": "3.9.16"
  },
  "orig_nbformat": 4,
  "vscode": {
   "interpreter": {
    "hash": "11938c6bc6919ae2720b4d5011047913343b08a43b18698fd82dedb0d4417594"
   }
  }
 },
 "nbformat": 4,
 "nbformat_minor": 2
}
