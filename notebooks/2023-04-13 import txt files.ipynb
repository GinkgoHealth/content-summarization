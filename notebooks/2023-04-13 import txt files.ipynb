{
 "cells": [
  {
   "cell_type": "markdown",
   "metadata": {},
   "source": [
    "# Title\n",
    "[]()"
   ]
  },
  {
   "cell_type": "code",
   "execution_count": 9,
   "metadata": {},
   "outputs": [],
   "source": [
    "# from pandas import json_normalize  \n",
    "import pandas as pd\n",
    "import sys\n",
    "sys.path.append(r\"C:\\Users\\silvh\\OneDrive\\lighthouse\\custom_python\")\n",
    "sys.path.append(r\"C:\\Users\\silvh\\OneDrive\\lighthouse\\portfolio-projects\\online-PT-social-media-NLP\\src\")\n",
    "from silvhua import *\n",
    "from datetime import datetime\n",
    "# import json\n",
    "# from plotly.subplots import make_subplots\n",
    "# import requests"
   ]
  },
  {
   "cell_type": "code",
   "execution_count": 10,
   "metadata": {},
   "outputs": [],
   "source": [
    "# set the option to wrap text within cells\n",
    "pd.set_option('display.max_colwidth', None)\n",
    "# pd.set_option('display.max_columns', None)\n",
    "pd.set_option('display.width', None)"
   ]
  },
  {
   "cell_type": "code",
   "execution_count": 11,
   "metadata": {},
   "outputs": [],
   "source": [
    "# from pypdf import PdfReader\n",
    "# from openai.embeddings_utils import get_embedding, cosine_similarity\n",
    "import openai\n",
    "import os\n",
    "import re"
   ]
  },
  {
   "cell_type": "code",
   "execution_count": 12,
   "metadata": {},
   "outputs": [],
   "source": [
    "\n",
    "sys.path.append(r\"C:\\Users\\silvh\\OneDrive\\lighthouse\\Ginkgo coding\\content-summarization\\src\")\n",
    "from summarization import Chatbot, reply, batch_reply\n",
    "from article_processing import create_text_dict"
   ]
  },
  {
   "cell_type": "code",
   "execution_count": null,
   "metadata": {},
   "outputs": [],
   "source": []
  },
  {
   "cell_type": "markdown",
   "metadata": {},
   "source": [
    "## Create relevance_prompts_df"
   ]
  },
  {
   "cell_type": "code",
   "execution_count": 20,
   "metadata": {},
   "outputs": [
    {
     "data": {
      "text/html": [
       "<div>\n",
       "<style scoped>\n",
       "    .dataframe tbody tr th:only-of-type {\n",
       "        vertical-align: middle;\n",
       "    }\n",
       "\n",
       "    .dataframe tbody tr th {\n",
       "        vertical-align: top;\n",
       "    }\n",
       "\n",
       "    .dataframe thead th {\n",
       "        text-align: right;\n",
       "    }\n",
       "</style>\n",
       "<table border=\"1\" class=\"dataframe\">\n",
       "  <thead>\n",
       "    <tr style=\"text-align: right;\">\n",
       "      <th></th>\n",
       "      <th>task part 3</th>\n",
       "      <th>audience</th>\n",
       "      <th>relevance</th>\n",
       "    </tr>\n",
       "  </thead>\n",
       "  <tbody>\n",
       "    <tr>\n",
       "      <th>0</th>\n",
       "      <td>Add 1-2 sentences to make this relevant for</td>\n",
       "      <td>seniors</td>\n",
       "      <td>Add 1-2 sentences to make this relevant for seniors</td>\n",
       "    </tr>\n",
       "    <tr>\n",
       "      <th>1</th>\n",
       "      <td>Add 1-2 sentences to make this relevant for</td>\n",
       "      <td>people who enjoy sports</td>\n",
       "      <td>Add 1-2 sentences to make this relevant for people who enjoy sports</td>\n",
       "    </tr>\n",
       "  </tbody>\n",
       "</table>\n",
       "</div>"
      ],
      "text/plain": [
       "                                   task part 3                 audience  \\\n",
       "0  Add 1-2 sentences to make this relevant for                  seniors   \n",
       "1  Add 1-2 sentences to make this relevant for  people who enjoy sports   \n",
       "\n",
       "                                                               relevance  \n",
       "0                   Add 1-2 sentences to make this relevant for seniors   \n",
       "1   Add 1-2 sentences to make this relevant for people who enjoy sports   "
      ]
     },
     "execution_count": 20,
     "metadata": {},
     "output_type": "execute_result"
    }
   ],
   "source": [
    "from itertools import product\n",
    "prompts_dict = dict()\n",
    "experiment_num = 1\n",
    "relevance_prompts_dict = dict()\n",
    "\n",
    "prep_step = [\n",
    "    # \"Take the key points to\",\n",
    "    \"Take the key points and numerical descriptors to\",\n",
    "    # \"\"\n",
    "]\n",
    "\n",
    "task_part1 = [\n",
    "    # \"Summarize the article in under 300 characters\",\n",
    "    \"Summarize for a LinkedIn post\",\n",
    "    # \"Summarize for a tweet\",\n",
    "    # \"Summarize in an engaging way\",\n",
    "    \"Describe the interesting points to your coworker at the water cooler\"\n",
    "    # \"Summarize the article for a Tiktok post\"\n",
    "]\n",
    "audience = [\n",
    "    # \"lay audience\",\n",
    "    # \"\",\n",
    "    \"seniors\",\n",
    "    \"people who enjoy sports\"\n",
    "]\n",
    "task_part2 = [\n",
    "    \"\",\n",
    "    \"Use terms a 12-year-old can understand.\",\n",
    "    # \"Assume your audience has no science background.\"\n",
    "    # \"Include the most interesting findings.\",\n",
    "    # \"Include the key take-aways for the reader.\",\n",
    "    # \"Include the implications of the article.\"\n",
    "]\n",
    "\n",
    "task_part3 =[\n",
    "    \"Add 1-2 sentences to make this relevant for\"\n",
    "    # \"Add 1-2 sentences to make this relevant for older adults.\"\n",
    "    # \"Once you are done, add 1-2 sentences to make this relevant for older adults.\",\n",
    "    \"\"\n",
    "]\n",
    "\n",
    "# prompts_df = pd.DataFrame(product(prep_step, task_part1, task_part2, task_part3, audience), \n",
    "#     columns=['prep_step', 'task part 1', 'task part 2', 'task part 3', 'audience'])\n",
    "\n",
    "prompts_df = pd.DataFrame(product(prep_step, task_part1), \n",
    "    columns=['prep_step', 'task part 1'])\n",
    "\n",
    "relevance_prompts_df = pd.DataFrame(product(task_part3, audience), \n",
    "    columns=['task part 3', 'audience'])\n",
    "\n",
    "\n",
    "\n",
    "prompts_df['prompt'] = prompts_df.apply(\n",
    "    lambda row: f\"{row['prep_step']} {row['task part 1']}.\", \n",
    "    axis=1)\n",
    "# prompts_df['simplify'] = prompts_df.apply(\n",
    "#     lambda row: f\" {row['task part 2'] if row['task part 2'] else ''}\", \n",
    "#     axis=1)\n",
    "relevance_prompts_df['relevance'] = relevance_prompts_df.apply(\n",
    "    lambda row: f\" {row['task part 3']} {row['audience']} \" if row['audience'] else '', \n",
    "    axis=1) \n",
    "relevance_prompts_dict[experiment_num] = relevance_prompts_df\n",
    "relevance_prompts_df"
   ]
  },
  {
   "cell_type": "code",
   "execution_count": 21,
   "metadata": {},
   "outputs": [
    {
     "data": {
      "text/html": [
       "<div>\n",
       "<style scoped>\n",
       "    .dataframe tbody tr th:only-of-type {\n",
       "        vertical-align: middle;\n",
       "    }\n",
       "\n",
       "    .dataframe tbody tr th {\n",
       "        vertical-align: top;\n",
       "    }\n",
       "\n",
       "    .dataframe thead th {\n",
       "        text-align: right;\n",
       "    }\n",
       "</style>\n",
       "<table border=\"1\" class=\"dataframe\">\n",
       "  <thead>\n",
       "    <tr style=\"text-align: right;\">\n",
       "      <th></th>\n",
       "      <th>prep_step</th>\n",
       "      <th>task part 1</th>\n",
       "      <th>prompt</th>\n",
       "    </tr>\n",
       "  </thead>\n",
       "  <tbody>\n",
       "    <tr>\n",
       "      <th>0</th>\n",
       "      <td>Take the key points and numerical descriptors to</td>\n",
       "      <td>Summarize for a LinkedIn post</td>\n",
       "      <td>Take the key points and numerical descriptors to Summarize for a LinkedIn post.</td>\n",
       "    </tr>\n",
       "    <tr>\n",
       "      <th>1</th>\n",
       "      <td>Take the key points and numerical descriptors to</td>\n",
       "      <td>Describe the interesting points to your coworker at the water cooler</td>\n",
       "      <td>Take the key points and numerical descriptors to Describe the interesting points to your coworker at the water cooler.</td>\n",
       "    </tr>\n",
       "  </tbody>\n",
       "</table>\n",
       "</div>"
      ],
      "text/plain": [
       "                                          prep_step  \\\n",
       "0  Take the key points and numerical descriptors to   \n",
       "1  Take the key points and numerical descriptors to   \n",
       "\n",
       "                                                            task part 1  \\\n",
       "0                                         Summarize for a LinkedIn post   \n",
       "1  Describe the interesting points to your coworker at the water cooler   \n",
       "\n",
       "                                                                                                                   prompt  \n",
       "0                                         Take the key points and numerical descriptors to Summarize for a LinkedIn post.  \n",
       "1  Take the key points and numerical descriptors to Describe the interesting points to your coworker at the water cooler.  "
      ]
     },
     "execution_count": 21,
     "metadata": {},
     "output_type": "execute_result"
    }
   ],
   "source": [
    "prompts_df"
   ]
  },
  {
   "attachments": {},
   "cell_type": "markdown",
   "metadata": {},
   "source": [
    "# Import text files"
   ]
  },
  {
   "cell_type": "code",
   "execution_count": 5,
   "metadata": {},
   "outputs": [
    {
     "data": {
      "text/plain": [
       "'Comparisons in the Recovery Response From Resistance Exercise Between Young and Middle-Aged Men\\n\\nDiscussion\\nResults of this study indicated no differences in the recovery response between YA and MA for any of the performance measures, nor in subjective levels of muscle pain or soreness. Furthermore, no between-group differences were observed in the inflammatory or\\xa0muscle damage\\xa0response to the exercise protocol. To the best of our knowledge, this is the first study to examine differences in the recovery response from high-volume resistance exercise between recreationally trained young and middle-aged adults. Our results comparing BL performance measures seem to be in agreement with other investigations, demonstrating differences in strength measures between young (23\\x9629 years) and older adults (60\\x9665 years) (7,15,24), and between middle-aged (41\\x9642 years) and older adults (70\\x9672 years) (17,18). It does seem that the decline in strength may develop during middle age. However, recovery from exercise seems to be comparable in both younger and middle-aged adults as reflected by similar changes in performance and markers of\\xa0muscle damage\\xa0and\\xa0inflammation. Although changes in strength may occur in middle age, recovery from exercise does seem to be maintained in recreationally trained individuals.\\nThe differences observed at BL in isometric force and the rate of force development is consistent with other investigations comparing younger and older adults (16,19,36). Although differences in age between young and middle-aged adults do seem to affect BL levels of strength, it does not seem to affect recovery from exercise. This is supported by similar patterns of\\xa0muscle damage\\xa0and\\xa0inflammation\\xa0observed during the recovery period after the HVP. Elevations in Mb and CK concentrations are consistent with the expected physiological response from a bout of resistance exercise (9,34). These results also suggest that middle-aged recreationally active men who regularly engage in\\xa0resistance training\\xa0do not seem to be at increased risk for greater soreness or\\xa0muscle damage\\xa0in comparison with younger recreationally trained men.\\nSimilar response patterns were also noted in the inflammatory response for both groups. No significant elevations from BL were observed in CRP. However, significant increases in IL-6 concentrations were observed for both groups. Although CRP is an acute phase protein whose function is to activate the innate immune response and enhance phagocytosis (10), it does not seem to change after an acute bout of resistance exercise (6). Previous research has reported no significant changes in CRP concentrations after\\xa0resistance training\\xa0protocols recruiting primarily both upper-body (31) and lower-body exercises (4) in younger men. Furthermore, previous investigations have also indicated that training experience can reduce the CRP response to an acute bout of exercise (22,35). Considering that participants in both YA and MA were recreationally trained, it is likely that this training experience may have attenuated the CRP response. Physiologically, it is consistent with the lower stress and damage that occurs with repetitive training (9,35). Interleukin-6 is an inflammatory cytokine that facilitates communication for the mobilization, proliferation, and differentiation of immune cells to the site of tissue damage (6) and has been shown to increase after exercise (11). Elevations in IL-6 are related to the intensity, duration, and mode of training (11,13,32), but the literature is inconclusive regarding the IL-6 response to\\xa0resistance training. A recent study reported that a bout of high-volume resistance exercise (8 sets of 10 repetitions with 70% of maximal strength in the squat exercise) resulted in a significant elevation in IL-6 concentrations 30 min after exercise, but no changes were observed after a bout of high-intensity resistance exercise (8 sets of 3 repetitions with 90% of maximal strength in the squat exercise) in experienced, trained lifters (4). The IL-6 response observed during this investigation as a result of a bout of high-volume resistance exercise seems to be consistent with that recently reported by Bartolomei et al. (4). However, age did not seem to exacerbate nor attenuate the IL-6 response in recreationally trained participants.\\nNo differences were noted in the inflammatory or\\xa0muscle damage\\xa0response between YA and MA. As discussed earlier, this is likely related to the recreational training background of the participants. However, there were several limitations to the study that need to be acknowledged. The exercise protocol was performed on an isokinetic dynamometer, which may not have as much practical application as most\\xa0resistance training\\xa0programs use dynamic constant resistance exercises. In addition, unilateral, single-joint exercise recruited a relatively smaller muscle mass than is commonly used in most training programs. The use of this modality of exercise, which has been demonstrated to be very effective in eliciting\\xa0muscle damage\\xa0(20,30), may not have been sufficient to elicit significant performance and inflammatory changes in these recreationally trained participants. Future research should examine modes of training specific to the typical training program of the participants.\\nPractical Applications\\nThe results of this study indicate that changes in muscle performance seem to begin during middle age, even in recreationally trained individuals. However, participating in recreational\\xa0resistance training\\xa0may mitigate any alteration in the recovery response from exercise. These results should be examined in the context that recovery was investigated after a unilateral, single-joint isokinetic exercise protocol. Although this method has been previously used as an effective mode of exercise to elicit\\xa0muscle damage, it is not specific to the type of exercises typically used by recreational lifters. Future studies may wish to compare these population groups using multijoint, dynamic constant resistance exercises common to the training programs of most recreational lifters, regardless of age.\\n'"
      ]
     },
     "execution_count": 5,
     "metadata": {},
     "output_type": "execute_result"
    }
   ],
   "source": [
    "filename = '../text/Comparisons in the Recovery Response From Resistance Exercise Between Young and Middle-Aged Men.txt'\n",
    "encoding='ISO-8859-1'\n",
    "with open(filename, 'r', encoding=encoding) as file:\n",
    "    text1 = file.read()\n",
    "text1"
   ]
  },
  {
   "attachments": {},
   "cell_type": "markdown",
   "metadata": {},
   "source": [
    "# Create text_dict"
   ]
  },
  {
   "cell_type": "code",
   "execution_count": 7,
   "metadata": {},
   "outputs": [
    {
     "data": {
      "text/plain": [
       "['Comparisons in the Recovery Response From Resistance Exercise Between Young and Middle-Aged Men\\n\\nDiscussion\\nResults of this study indicated no differences in the recovery response between YA and MA for any of the performance measures, nor in subjective levels of muscle pain or soreness. Furthermore, no between-group differences were observed in the inflammatory or\\xa0muscle damage\\xa0response to the exercise protocol. To the best of our knowledge, this is the first study to examine differences in the recovery response from high-volume resistance exercise between recreationally trained young and middle-aged adults. Our results comparing BL performance measures seem to be in agreement with other investigations, demonstrating differences in strength measures between young (23\\x9629 years) and older adults (60\\x9665 years) (7,15,24), and between middle-aged (41\\x9642 years) and older adults (70\\x9672 years) (17,18). It does seem that the decline in strength may develop during middle age. However, recovery from exercise seems to be comparable in both younger and middle-aged adults as reflected by similar changes in performance and markers of\\xa0muscle damage\\xa0and\\xa0inflammation. Although changes in strength may occur in middle age, recovery from exercise does seem to be maintained in recreationally trained individuals.\\nThe differences observed at BL in isometric force and the rate of force development is consistent with other investigations comparing younger and older adults (16,19,36). Although differences in age between young and middle-aged adults do seem to affect BL levels of strength, it does not seem to affect recovery from exercise. This is supported by similar patterns of\\xa0muscle damage\\xa0and\\xa0inflammation\\xa0observed during the recovery period after the HVP. Elevations in Mb and CK concentrations are consistent with the expected physiological response from a bout of resistance exercise (9,34). These results also suggest that middle-aged recreationally active men who regularly engage in\\xa0resistance training\\xa0do not seem to be at increased risk for greater soreness or\\xa0muscle damage\\xa0in comparison with younger recreationally trained men.\\nSimilar response patterns were also noted in the inflammatory response for both groups. No significant elevations from BL were observed in CRP. However, significant increases in IL-6 concentrations were observed for both groups. Although CRP is an acute phase protein whose function is to activate the innate immune response and enhance phagocytosis (10), it does not seem to change after an acute bout of resistance exercise (6). Previous research has reported no significant changes in CRP concentrations after\\xa0resistance training\\xa0protocols recruiting primarily both upper-body (31) and lower-body exercises (4) in younger men. Furthermore, previous investigations have also indicated that training experience can reduce the CRP response to an acute bout of exercise (22,35). Considering that participants in both YA and MA were recreationally trained, it is likely that this training experience may have attenuated the CRP response. Physiologically, it is consistent with the lower stress and damage that occurs with repetitive training (9,35). Interleukin-6 is an inflammatory cytokine that facilitates communication for the mobilization, proliferation, and differentiation of immune cells to the site of tissue damage (6) and has been shown to increase after exercise (11). Elevations in IL-6 are related to the intensity, duration, and mode of training (11,13,32), but the literature is inconclusive regarding the IL-6 response to\\xa0resistance training. A recent study reported that a bout of high-volume resistance exercise (8 sets of 10 repetitions with 70% of maximal strength in the squat exercise) resulted in a significant elevation in IL-6 concentrations 30 min after exercise, but no changes were observed after a bout of high-intensity resistance exercise (8 sets of 3 repetitions with 90% of maximal strength in the squat exercise) in experienced, trained lifters (4). The IL-6 response observed during this investigation as a result of a bout of high-volume resistance exercise seems to be consistent with that recently reported by Bartolomei et al. (4). However, age did not seem to exacerbate nor attenuate the IL-6 response in recreationally trained participants.\\nNo differences were noted in the inflammatory or\\xa0muscle damage\\xa0response between YA and MA. As discussed earlier, this is likely related to the recreational training background of the participants. However, there were several limitations to the study that need to be acknowledged. The exercise protocol was performed on an isokinetic dynamometer, which may not have as much practical application as most\\xa0resistance training\\xa0programs use dynamic constant resistance exercises. In addition, unilateral, single-joint exercise recruited a relatively smaller muscle mass than is commonly used in most training programs. The use of this modality of exercise, which has been demonstrated to be very effective in eliciting\\xa0muscle damage\\xa0(20,30), may not have been sufficient to elicit significant performance and inflammatory changes in these recreationally trained participants. Future research should examine modes of training specific to the typical training program of the participants.\\nPractical Applications\\nThe results of this study indicate that changes in muscle performance seem to begin during middle age, even in recreationally trained individuals. However, participating in recreational\\xa0resistance training\\xa0may mitigate any alteration in the recovery response from exercise. These results should be examined in the context that recovery was investigated after a unilateral, single-joint isokinetic exercise protocol. Although this method has been previously used as an effective mode of exercise to elicit\\xa0muscle damage, it is not specific to the type of exercises typically used by recreational lifters. Future studies may wish to compare these population groups using multijoint, dynamic constant resistance exercises common to the training programs of most recreational lifters, regardless of age.\\n',\n",
       " 'High doses of anti-inflammatory drugs compromise muscle strength and hypertrophic adaptations to resistance training in young adults.\\nDiscussion \\nThe interest in this study was spurred by the intriguing observation that while NSAIDs might have a negative impact on acute exercise responses (satellite cell activity, translational signalling and protein synthesis), previous human studies have failed to demonstrate a detrimental effect of NSAIDs on the development of muscle hypertrophy in response to chronic resistance training in young adults, possibly due to differences in drug dosage across studies. Accordingly, in the current study, healthy young men and women performed 8 weeks of supervised resistance training with concomitant high- or low-dose NSAID treatment. The major and novel findings were that 1) maximal overthe-counter doses of ibuprofen compromised resistance exercise-induced muscle hypertropy\\nindependent of training mode; 2) increases in muscle strength were attenuated by ibuprofen only when training was performed with maximal all-out repetitions; 3) while the resistance-training intervention resulted in several muscle molecular adaptations, the only marked difference across medical treatment was a significant ibuprofen-induced downregulation of the inflammatory cytokine IL-6 mRNA, compared with an upregulation in the ASA group. This is the first study showing that daily consumption of high doses of NSAIDs attenuates strength and muscle hypertrophic adaptations to resistance training in young healthy individuals. We acknowledge that a limitation of the current study was that we did not include a non-treated control group. However, the increase in muscle volume (7.5%) in the ASA group was of a similar, and expected, magnitude to that previously reported by our group20 and others.21,22 In the light of this, the magnitude of the reduction in muscle hypertrophy in response to the ibuprofen treatment was quite remarkable and, if anything, should the ASA treatment have had a small effect on the adaptive response, it would only have masked an even greater difference across groups than what is reported herein. Nonetheless, given the marked effect of ibuprofen and the fact that the increase in muscle size in the control group (0.14% per day) was of similar magnitude as the average rate of hypertrophy reported in past studies employing knee-extensor resistance training,23 we are confident that our data provide strong proof-of-principle evidence that the effect of NSAIDs on muscle adaptations to resistance exercise is dependent of the dose of intake. The rationale for using acetylsalicylic acid instead of ibuprofen as a low-dose comparator in the current study was based on the fact that when the drug is consumed orally, it undergoes substantial presystemic hydrolysis in the gut and liver before it enters the systemic bloodstream. As the drug will, however, encounter blood in the portal circulation, low doses of acetylsalicylic acid will exert its antiplatelet effect with no or limited effect on systemic targets such as peripheral tissue.16\\x9618 Consequently, the potential circulatory effects are factored out and we hypothesize that the negative effect of ibuprofen was due to muscle-specific COX inhibition rather than the antiplatelet effect achieved by both ibuprofen and low doses of acetylsalicylic acid.18,24 The results of the present study are in agreement with animal studies showing an inhibitory effect of COX inhibitors on muscle hypertrophy.8,9,25 They also agree with acute human data reporting attenuated protein synthesis,5 translational signalling13 and satellite cell activity11,12 in response to resistance training with concomitant high-dose NSAID administration. Our hypothesis of a dose-dependent effect is also supported by the only comparable training study in young healthy subjects.14 That particular study reported no effect of ibuprofen on muscle hypertrophy or strength gains after 6 weeks of training consisting of six sets of biceps curls 2\\x963 days week---------------1 . The drug dose was consumed on training days only, resulting in a total intake of 800\\x961200 mg week---------------1 , 14 compared with 1200 mg per day in the current study. This indeed highlights the potential importance of drug dosage where, evidently, intake of maximal over-the-counter doses is potent enough to interfere with the normal hypertrophic development of 0.1\\x960.2% per day seen in the ASA group as well as in other studies employing conventional resistance-training programmes for the knee extensors.23 It is generally agreed that repeated increases in muscle protein synthesis following each exercise bout is the most important mechanism underlying training-induced muscle hypertrophy.26,27 Thus, it seems plausible to suggest that the main explanation for the clear attenuation of hypertrophy, which was evident in both training modes (FW and WS), was diminished prostaglandin production and hence decreased muscle protein synthetic response after each training session in the IBU group. Indeed, there is increasing evidence that COX and prostaglandins play an important role in regulating the molecular events controlling muscle hypertrophy. For example, C2C12 myotube diameter was shown to be regulated by PGF2a in an mTORdependent manner7 , and exercise-induced increases in p70S6K (downstream of mTOR) was blunted by ibuprofen treatment in the early hours following acute resistance exercise.13 In the current study, however, there were no group interactions for any of the target proteins examined, suggesting that the ibuprofenmodulating effect on muscle adaptations is not associated with differential expression of steady-state proteins in response to chronic training. Perhaps assessing satellite cell content,11 or the phosphorylation levels of translational signalling proteins in response to acute exercise,13 would have provided more mechanistic insights. We measured several key molecular markers for COX and prostaglandin-mediated metabolism, regulators of muscle growth and atrophy, and several cytokines and myokines that have been shown to regulate skeletal muscle protein metabolism and exercise adaptations.4 The most clear-cut molecular evidence for an effect of ibuprofen on peripheral muscle tissue was the marked drug effect on IL-6 mRNA, where levels in the ibuprofen group were downregulated despite a significant upregulation in the control group. The reduction of IL-6 in the ibuprofen group is coherent with previous studies suggesting PGE2 as a stimulator of IL-6 transcription in both human muscle28 and other cell types.29 It has previously been reported that the NSAID-modulating effects on muscle hypertrophy in older subjects were associated with lowered expression of IL-6 and subsequently MuRF-1, resulting in a more beneficial cellular environment for muscle growth.30 While our data are coherent with that of Trappe and colleagues regarding the expression of IL-6 in the ibuprofen-treated group (downregulated) compared to the control group (upregulated), the muscle hypertrophy data certainly contradict these findings. In that study, elderly subjects (60\\x9678 years) performed 12 weeks of resistance training with simultaneous daily ibuprofen treatment of 1200 mg. The increase in muscle size was substantially greater with ibuprofen compared with placebo,15 and this was supported by acute data showing no interference of ibuprofen on muscle protein synthesis in the same age group.31 Thus, interestingly, there may be distinct differences in the response to resistance training and NSAID consumption in the young vs. the elderly, and probably also in the mechanistic underpinnings of exercise-induced tissue remodelling in these age groups. Specifically, in the present cohort of young subjects, it is possible that blunting of important inflammatory processes, as reflected by the downregulated IL-6 gene expression, contributed to the attenuated hypertrophic response because previous studies have shown that induction of IL-6, and also other inflammatory and proteolytic factors, has an important role in muscle regenerative processes during hypertrophic conditions.32,33 In contrast, the role of inflammatory processes may be different in the elderly where an ibuprofen-induced downregulation of IL-6 could reduce chronic low-grade inflammation and thereby restore the blunted anabolic response to resistance exercise typically seen in aged populations.34 Thus, based on the current data and given the complex regulation of mRNA and protein levels,35,36 future studies should directly compare the response to resistance exercise and NSAID treatment in young vs. old populations as well as incorporate better time resolution, including both acute and chronic biopsy time points and perhaps also higher-throughput techniques, to provide more conclusive evidence of the critical mechanisms regulating the interactive effects of NSAIDs and resistance exercise on muscle adaptations. The functional data showed that increases in muscle strength were attenuated in IBU compared with ASA, but only in the FW leg. In our mind, this leads to two questions: first, if this strength difference was explained by the larger increase in muscle size in the control group, why was strength not reduced in the WS leg? Second, if not muscle size, what other mechanisms could explain the fact that strength was negatively affected by ibuprofen only in the FW leg? Regarding the first question, although muscle mass and strength are generally highly correlated at baseline in pre-training situations,37,38 the same does not necessarily apply when it comes to increases in strength and muscle size following short-term resistance training.39,40 This was also the case in the current study, where in fact the correlation between changes in muscle size and strength was very weak (R2 ~0.05; data not shown). Thus, it appears that strength gains can occur irrespective of the magnitude of increase in muscle volume and hence, this could explain why, in the WS leg, the larger increase in muscle volume for the ASA group did not result in a larger increase in strength compared with IBU. It is plausible that with longer-term training, once neural adaptations have plateaued,41 the relationship between muscle size and strength would be restored and hence the negative effect of ibuprofen on strength would be even more evident. As to the second question raised above, we did speculate beforehand that perhaps NSAID consumption could affect acute training performance and thereby the capacity to perform high-intensity repetitive work bouts. It appeared at first that the strength reduction in the FW leg was not related to a reduction in day-to-day training performance, as both groups performed an equal amount of work throughout the 8-week training programme. Interestingly, however, a closer look at the data in Figure 1 reveals that the ibuprofen group certainly showed a levelling-off effect during the last week of flywheel training, which likely explains the lower strength gains noted. Regarding the logical follow-up question of why training performance in the FW leg was negatively affected by ibuprofen only at the end of the training period, we are unable to provide a definite answer. However, given that the main differences between the two training modes is the eccentric overload, provoking greater inflammatory stimulus, and the maximal unlimited resistance provided by the flywheel device,21,42 it is tempting to speculate that one (or both) of these two features are particularly prone to ibuprofen treatment, at least after a few weeks of accumulated training. It should also be noted that day-to-day performance levels varied much more in the FW leg, indicating that this training regime was more stressful for the subjects. Alternatively, as indicated earlier, the relationship between muscle mass and strength became more important at the end of the training period, and hence, the levelling-off phenomenon in the IBU group was due to the compromised hypertrophic development. Altogether, based on the current data and given the knowledge of different time resolutions for the underlying mechanisms of muscle strength, longer training studies could clarify whether interference in muscle growth will be associated with reduced muscle strength, and whether different training modes, such as eccentric overload, are even more sensitive to concomitant NSAID treatment. Notwithstanding, our findings raise the concern that resistance-training studies employing strict work-matched increases across groups might overlook important effects of various factors such as medical treatments or supplements that would have become evident if maximal efforts had been allowed throughout each set and training session. In summary, we show for the first time that maximal over-the-counter doses of NSAIDs compromise resistance exercise-induced increases in muscle size and strength in young adults. The gains in muscle size were attenuated by ibuprofen independent of the type of training performed, whereas muscle strength was attenuated only when training was performed with maximal all-out repetitions. Furthermore, while the resistance-training intervention resulted in several muscle molecular adaptations, the only marked difference across medical treatment was a significant ibuprofen-induced reduction in IL-6 gene expression, which in our mind reflected a changed inflammatory environment that, speculatively, contributed to the attenuated hypertrophic development in the ibuprofen group. This study improves our understanding of how NSAIDs work and interacts with chronic exercise responses, and considering the potency of the drug to modify muscle mass and function, the mechanistic findings should contribute to a better understanding of regulation of muscle growth in general. More importantly, however, the results have implications for the millions of individuals worldwide who consume NSAIDs on a regular basis while trying to obtain the best possible benefits of resistance training. \\nMethods \\nEthical approval All subjects were given oral and written information about the study before giving written informed consent to participate. The study was approved by the Regional Ethical Review Board in Stockholm and conformed to the Declaration of Helsinki. In agreement with EU legislation, the study was sanctioned by the Swedish Medical Products Agency (EudraCT-number: 2014-004872-47). The trial was registered as a clinical trial on ClinicalTrials.gov with the identifier NCT02531451. Subjects All subjects (recreationally active men and women aged 18\\x9635 years, Table 2) were recruited from the Stockholm region. Prior to inclusion, subjects completed a full medical screening including health and exercise history anamnesis and analysis of blood biochemistry. Exclusion criteria were current or previous cardiovascular disease, impaired kidney or liver function, auto-immune disease, lower limb or knee injury, pregnancy, history of ulcers or gastrointestinal upsets, or previous negative reactions to the use of NSAIDs. Subjects who had performed structured resistance training (more than once per week) for the past 6 months were also excluded. From the 48 individuals who were assessed for eligibility, 31 were included in the final data analysis (Fig. 7). Drug administration and accountability Each subject was given the whole batch of pills together with a medical diary on the first day of consumption (i.e. day 1 of the first training week). The ibuprofen group was instructed, orally and in writing, to take three doses/day (~08:00, ~14:00 and ~20:00 h.) corresponding to the maximal over-thecounter daily dose of 1200 mg (400 mg dose---------------1 ). The control group receiving acetylsalicylic acid was instructed to take one dose per day (75 mg) in conjunction with their morning meal. All subjects documented the time and date for each dose in the provided diary and were reminded about the importance of correct drug consumption on every visit to the exercise laboratory, and through text messages several times per week. The last day of medication was day 7 of the final (i.e. eighth) training week. After the 8-week training intervention, all subjects returned the medical diary and leftover medicines. All remaining pills were subsequently counted and compared with the written logs in the diary to control for drug compliance. Despite all these efforts, as no direct evidence of drug consumption was obtained, it remains possible that the subjects did not fully comply with these requirements. Nonetheless, all medicine administration and accountability were performed in agreement with the code of Good Clinical Practice (ICH-GCP) by a certified external partner, the Clinical Pharmacology Trial Unit, at the Karolinska University Hospital in Huddinge, Stockholm. Thus, although the subjects were not blinded to their treatment, the research personnel responsible for monitoring training sessions stayed blind for the drug assignment during the whole intervention. The study hypothesis was never presented to the subjects.\\n\\nSafety procedures and adverse event reporting At every occasion where research staff met with the subjects (i.e. 2\\x963 times week---------------1 ), they were asked about any health complaints or suspected adverse reactions. Any adverse event was reported by study personnel to the principal investigator. If events occurred in the home or elsewhere during the study period, subjects were instructed to promptly report the incident to study staff who in turn would contact the principal investigator. All adverse events, or suspicion of such, were recorded in case report forms with symptoms, severity, date, time and assessment of potential relation to the study drugs. The medically responsible physician decided whether any further action (i.e. treatment or medication) was required. Exercise equipment and familiarization To elucidate whether ibuprofen affected day-to-day training performance, one leg was assigned to perform training with maximal volitional work allowed in each repetition using a flywheel ergometer, while on the other leg the training volume was matched between groups using regular weight-stack training. Thus, each of the subject\\x92s legs was randomized either to a non-gravity-dependent training device (YoYo Technology, Stockholm, Sweden) or a traditional weight-stack device (World Class, Stockholm, Sweden). The non-gravity-dependent device, hereafter flywheel or FW, was equipped with a 5-kg (men, inertia 0.075 kg m---------------2 or) or 3.5-kg (women, inertia 0.05 kg m---------------2 ) flywheel to provide inertial resistance during coupled concentric and eccentric actions. Peak concentric and eccentric power for each repetition was calculated from measures of rotational velocity (SmartCoach, Stockholm, Sweden). The weight-stack device (WS) employed constant external loading, that is isotonic loading. Weight plates of 5, 2 and 1 kg were used to set and adjust the load. The main difference between the two devices is that FW allows for maximal voluntary force to be produced from the very first repetition, whereas WS is dependent on the increasing exertion throughout each set, and maximal voluntary force is hence only offered in the last repetitions (i.e. close to failure). In addition, the FW offers brief episodes of eccentric overload.21 In both training devices, the subjects were seated (90° hip angle, 80° knee angle) and performed the concentric phase of the lift to ~175° knee joint angle before entering the eccentric phase to ~80° knee joint angle. Maximal isometric and isokinetic strength for the knee extensors were assessed using isokinetic dynamometry with a sampling frequency of 2000 Hz (Biodex System 4 Pro, Biodex Medical Systems, NY). The chest, hip and thigh were stabilized to the dynamometer using straps, and the ankle was strapped to the lever arm, which was aligned with the axis of rotation of the knee joint. To customize machine settings and familiarize subjects with the exercise procedures used during training and testing, all subjects reported to the laboratory for familiarization three times within 2 weeks prior to the start of the study. Pre- and post-testing All tests were performed using identical protocols both before (PRE) and after (POST) the 8-week training intervention. The tests were scheduled on three different days. First, baseline muscle strength assessments were performed. Maximal isometric strength (0°/s) and isokinetic strength (30°/s, 60°/s, 180°/s and 270°/s) were measured. The subjects were allowed two attempts on each velocity (30 s rest), and the best result was accepted as peak torque. Maximal isometric torque was measured at knee angle 120°. Subjects were instructed to push and hold the pressure against the lever for 5 s. The best attempt defined peak isometric torque. After a five-min rest period, trainingspecific strength was assessed. Thus, for the FW leg, peak power (averaged across sets and repetitions) was assessed for the flywheel device. The subjects performed 2 9 7 repetitions with two-min rests between sets. After another rest period of 5 min, one-repetition maximum (1-RM) strength was assessed in the WS leg. The goal was to reach 1-RM within five attempts. Subjects were instructed to raise the lever arm to ~175° knee joint angle in order for the repetition to be accepted as 1-RM. Each attempt was separated by two-min rest. In all of the strength tests, strong verbal encouragement was given by the research staff to call for maximal effort. After 2 or 3 rest days, the muscle biopsy procedure was undertaken (see below). Four days after the biopsy procedure, once associated bleeding and swelling had settled, the MRI scan was performed (see below). During post-tests, the order of tests was maintained. However, as we wished to obtain the post-biopsies no more than 48 h after the last training session, the post-assessment of muscle strength was carried out during the final training week (prior to training session no. 18, and preceded by 48\\x96 72 h rest). The post-biopsies were then taken exactly 48 h (2 h) after the last training session, and the post-MRI scan was conducted 4 days later, that is 6 days after the training intervention ended. Magnetic resonance imaging Cross-sectional images were obtained using a 1.5- Tesla Siemens Magnetom Aera unit (Siemens Healthcare, Germany). The settings were as follows: Turbo spin echo, T2 weighted, TE 110 ms, TR 5723 ms, NSA 3, FOV 48.5 cm, scan time 4 min 50 s and voxel size 0.95 9 0.95 9 10 mm. Fifty continuous images with 10-mm slice thickness were obtained for each subject. To minimize the influence of fluid shift on muscle volume, subjects rested in the supine position for 1 h prior to any scan.43 A custom-made footrestrain device ensured a fixed-limb position and that there was no compression of thigh muscles. Preliminary localization (scout) images were obtained to confirm identical positioning across pre- and post-scans. To ensure that the same segment was scanned before and after training, the top of the caput femoris was used as an anatomical landmark when setting the window (field of view) for each scan. Although pre- and post-images were analysed in parallel, the individual who performed the analysis was blind with regard to all interventions. Muscle volume, mean cross-sectional area (CSA) and signal intensity (mean grey value, MGV) of the m. quadriceps femoris were analysed from the first image not displaying m. gluteus maximus and ending with the last image in which m. rectus femoris appeared.44 Within this segment (10\\x96 18 cm of the thigh), every third image was assessed by manual planimetry using imaging software (ImageJ, National Institutes of Health, Bethesda, MD, USA). The average of two measures showing less than 1% difference between values was multiplied by slice thickness to obtain muscle volume. Signal intensity was determined as a control measure to verify that any increase in muscle size would reflect true muscle hypertrophy rather than exercise-induced fluid infiltration or muscle swelling.20 Furthermore, as an additional control measure, we assessed the CSA of the untrained m. biceps femoris in the mid-thigh region. Training protocols The subjects performed 20 training sessions during the 8-week training intervention. The sessions were scheduled two and three times every other week, starting with two sessions the first week. All training was performed unilaterally. The subjects had their legs randomized in a counterbalanced fashion to FW on one leg and WS on the other, and this allocation was then preserved for the entire intervention. Each training session started with a standardized warm-up. After a two-min rest, the subjects performed 4 9 7 maximal repetitions on the FW device (two-min rest) and 4 9 8\\x9612 repetitions to failure on the WS machine. The protocols were selected based on past research studies employing these particular exercise modes.2,20 The starting order of the machines was altered between every training session. In WS, the training load was progressively increased in a work-matched manner across groups. This was possible through the pair-matching procedure, that is, even though being blinded to the group assignment; the research staff ensured that each assigned pair did comparable amounts of total work throughout the study by manipulating the selected weight. Generally, the weight was progressively increased when the subject was able to perform more than 12 repetitions. In the FW, peak power was measured for each repetition and subjects were instructed, and verbally encouraged, to perform each repetition with maximal effort. Consequently, workload was per definition unlimited. Using this unilateral approach, it was possible to examine if ibuprofen had any effects on acute training performance or if any potential drug effects were unrelated to total work performed during training. Muscle biopsies Tissue samples of the vastus lateralis muscle were obtained under local anaesthesia using the percutaneous Bergstrom technique, \\x80 45 after an overnight fast and with no prior exercise during the past 48 h. Samples were taken from the right leg before training (PRE) and from each leg (WS and FW) 48 h (2 h) after the last training session (POST). All muscle samples (~200 mg) were immediately dissected free of any visible fat, excess blood and connective tissue, and then quickly frozen in liquid nitrogen. Samples were stored at ---------------80°C until the analyses. RNA isolation, reverse transcription and real-time PCR Wet muscle samples (20 mg) were homogenized using TRIzol (Invitrogen Life Technologies, Carlsbad, CA, USA), and total RNA was subsequently extracted. One lg of total RNA from each sample was used for reverse transcription into cDNA for a final volume of 20 lL (High Capacity Reverse Transcription Kit, Applied Biosystems, Foster City, CA, USA). Real-time PCR (ABI-PRISMA 7700 Sequence Detector, PerkinElmer Applied Biosystems) procedures were employed to determine mRNA expression. Probes and primers (TaqMan) for atrogin-1 (Hs00369714_m1), cyclooxygenase 1 (COX-1; Hs00377726_m1), cyclooxygenase 2 (COX-2; Hs00153133_m1), interleukin 6 (IL-6; Hs00985639_m1), mechanistic target of rapamycin (mTOR; Hs00234522_m1), muscle RING-finger protein-1 (MuRF-1; Hs00822397_m1), MyoD (Hs02330075_g1), myostatin (Hs00193363_m1), p70S6 kinase (p70S6K; Hs00177357_m1), prostaglandin E2 receptor 2 (PGE2 receptor; Hs00168754_m1), prostaglandin F receptor (PGF2a receptor; Hs00168763_m1), tumour necrosis factor (TNF-a; Hs01113624_g1), GAPDH (Hs99999905_m1) and RPS18 (Hs01375212_g1) were all purchased from Applied Biosystems. GAPDH and RPS18 were analysed as reference genes. However, final mRNA data were related only to RPS18 because this gene was stable across all time points and groups. Reaction and amplification mixes (10 lL) consisted of the diluted [1 : 5 (COX-2, PGF2a receptor, PGE2 receptor, IL-6, TNF-a)] or [1 : 100 (COX-1, p70S6K; mTOR, MyoD-1, myostatin, atrogin-1, MuRF-1)] cDNA (4.5 lL), TaqMan Fast Universal PCR Master Mix (5.0 lL) and specific primers (0.5 lL). Subsequent cycling protocols were 2 min at 50°C and 10 min at 90°C followed by 40 cycles at 95°C for 15 s and 60°C for 1 min. Target gene expression was reported as a ratio to the reference gene using the 2---------------DCT formula. Protein extraction and immunoblot analysis Muscle samples (~30 mg) cleansed from visible blood, fat and connective tissue were freeze-dried and subsequently homogenized in ice-cold buffer (100 lL mg---------------1 dry wt) consisting of 2 mM HEPES (pH 7.4), 1 mM EDTA, 5 mM EGTA, 10 mM MgCl2, 1% Triton X 100, 2 mM dithiothreitol and 1.5% (v/v) phosphatase and protease inhibitor cocktail (HaltTM, Thermo Scientific, Rockford, MD, USA) using a BulletBlender (NextAdvance, Averill Park, NY, USA) with 0.5 mm ZrO beads. The homogenates obtained were rotated for 60 min at 4°C and subsequently centrifuged at 10 000 g for 10 min at 4°C. The resulting supernatant was collected and stored at ---------------80°C. Protein concentrations were determined in aliquots of supernatant diluted 1 : 10 in distilled water using the Pierce 660 nm protein assay (Thermo Scientific). Muscle homogenates were diluted with 49 Laemmli sample buffer (Bio-Rad, Richmond, CA, USA) and homogenizing buffer to obtain a final protein concentration of 1.4 lg lL---------------1 . Subsequently, all samples were heated at 95°C for 5 min to denature proteins and then stored at ---------------20°C until further analysis. As an additional control to confirm a stable muscle contractile fraction from PRE to POST, we assessed estimated muscle water content by relating the dry muscle weight to the wet weight,20 as measured on a precision microbalance at standardized temperature and humidity. The immunoblotting procedures were performed as described by Apro et al.46 with slight modifications for this study. Samples containing total protein of 40 lg were separated by SDS\\x96polyacrylamide gel electrophoresis (PAGE) on 18-well Criterion TGX gradient gels (4\\x9620% acrylamide; Bio-Rad). Both ASA and IBU samples were loaded on each gel, and each sample from each subject was always loaded onto the same gel, beginning with the PRE sample followed by POST right and POST left leg respectively. The blots were quantified using the Quantity One software from Bio-Rad. To control for appropriate loading and transfer, target proteins were expressed relative to whole-lane analysis of protein content obtained by staining the membranes with MemCode Reversible Protein Stain Kit (Thermo Scientific).47 The monoclonal primary antibodies used for the detection of target total proteins were the following: mTOR (7C10; no. 2983; 1 : 1000; Cell Signaling Technology, Beverly, MA, USA); p70S6K (49D7; no. 2708; 1 : 1000; Cell Signaling Technology); TNF-a (D5G9; no. 6945; 1 : 500; Cell Signaling Technology); MyoD1 (D8G3; XP; no. 13812; 1 : 500; Cell Signaling Technology); and MuRF-1 (C-11; no. sc-398608; 1 : 1000; Santa Cruz Biotechnology Heidelberg, Germany). The secondary antibodies used were all from Cell Signaling Technology: anti-rabbit (1 : 10 000; mTOR, p70S6k), (1 : 5000; MyoD-1), (1 : 2000; TNF-a) and anti-mouse (1 : 10 000; MuRF-1) IgG antibodies conjugated with horseradish peroxidase. Statistics Independent t-tests were used to compare descriptive data for the two groups. Data distribution was manually checked on histograms for any marked skewness. Subsequently, two-way ANOVAs with factors group (ASA vs. IBU) and time (PRE vs. POST) were used to compare training-induced changes in all dependent variables across the two groups. The magnitude of the effects of key outcome variables (muscle size and strength) was further assessed using Cohen\\x92s effect size (d) and associated 90% confidence limits to estimate the size and precision of mean group differences (i.e. the difference in change scores from pre to post). Group differences of 0.2, 0.4, 0.6 and 0.8 were considered as trivial, small, moderate and large effect sizes respectively.48 The significance level was set to 5% (P < 0.05). Data are presented as means and standard deviation or individual responses unless otherwise stated\\n']"
      ]
     },
     "execution_count": 7,
     "metadata": {},
     "output_type": "execute_result"
    }
   ],
   "source": [
    "import os\n",
    "\n",
    "folder_path = '../text/2023-04-13'\n",
    "encoding='ISO-8859-1'\n",
    "all_files = []\n",
    "\n",
    "for filename in os.listdir(folder_path):\n",
    "    with open(os.path.join(folder_path, filename), 'r', encoding=encoding) as f:\n",
    "        all_files.append(f.read())\n",
    "\n",
    "all_files"
   ]
  },
  {
   "cell_type": "code",
   "execution_count": 13,
   "metadata": {},
   "outputs": [
    {
     "data": {
      "text/plain": [
       "{1: 'Comparisons in the Recovery Response From Resistance Exercise Between Young and Middle-Aged Men\\n\\nDiscussion\\nResults of this study indicated no differences in the recovery response between YA and MA for any of the performance measures, nor in subjective levels of muscle pain or soreness. Furthermore, no between-group differences were observed in the inflammatory or\\xa0muscle damage\\xa0response to the exercise protocol. To the best of our knowledge, this is the first study to examine differences in the recovery response from high-volume resistance exercise between recreationally trained young and middle-aged adults. Our results comparing BL performance measures seem to be in agreement with other investigations, demonstrating differences in strength measures between young (23\\x9629 years) and older adults (60\\x9665 years) (7,15,24), and between middle-aged (41\\x9642 years) and older adults (70\\x9672 years) (17,18). It does seem that the decline in strength may develop during middle age. However, recovery from exercise seems to be comparable in both younger and middle-aged adults as reflected by similar changes in performance and markers of\\xa0muscle damage\\xa0and\\xa0inflammation. Although changes in strength may occur in middle age, recovery from exercise does seem to be maintained in recreationally trained individuals.\\nThe differences observed at BL in isometric force and the rate of force development is consistent with other investigations comparing younger and older adults (16,19,36). Although differences in age between young and middle-aged adults do seem to affect BL levels of strength, it does not seem to affect recovery from exercise. This is supported by similar patterns of\\xa0muscle damage\\xa0and\\xa0inflammation\\xa0observed during the recovery period after the HVP. Elevations in Mb and CK concentrations are consistent with the expected physiological response from a bout of resistance exercise (9,34). These results also suggest that middle-aged recreationally active men who regularly engage in\\xa0resistance training\\xa0do not seem to be at increased risk for greater soreness or\\xa0muscle damage\\xa0in comparison with younger recreationally trained men.\\nSimilar response patterns were also noted in the inflammatory response for both groups. No significant elevations from BL were observed in CRP. However, significant increases in IL-6 concentrations were observed for both groups. Although CRP is an acute phase protein whose function is to activate the innate immune response and enhance phagocytosis (10), it does not seem to change after an acute bout of resistance exercise (6). Previous research has reported no significant changes in CRP concentrations after\\xa0resistance training\\xa0protocols recruiting primarily both upper-body (31) and lower-body exercises (4) in younger men. Furthermore, previous investigations have also indicated that training experience can reduce the CRP response to an acute bout of exercise (22,35). Considering that participants in both YA and MA were recreationally trained, it is likely that this training experience may have attenuated the CRP response. Physiologically, it is consistent with the lower stress and damage that occurs with repetitive training (9,35). Interleukin-6 is an inflammatory cytokine that facilitates communication for the mobilization, proliferation, and differentiation of immune cells to the site of tissue damage (6) and has been shown to increase after exercise (11). Elevations in IL-6 are related to the intensity, duration, and mode of training (11,13,32), but the literature is inconclusive regarding the IL-6 response to\\xa0resistance training. A recent study reported that a bout of high-volume resistance exercise (8 sets of 10 repetitions with 70% of maximal strength in the squat exercise) resulted in a significant elevation in IL-6 concentrations 30 min after exercise, but no changes were observed after a bout of high-intensity resistance exercise (8 sets of 3 repetitions with 90% of maximal strength in the squat exercise) in experienced, trained lifters (4). The IL-6 response observed during this investigation as a result of a bout of high-volume resistance exercise seems to be consistent with that recently reported by Bartolomei et al. (4). However, age did not seem to exacerbate nor attenuate the IL-6 response in recreationally trained participants.\\nNo differences were noted in the inflammatory or\\xa0muscle damage\\xa0response between YA and MA. As discussed earlier, this is likely related to the recreational training background of the participants. However, there were several limitations to the study that need to be acknowledged. The exercise protocol was performed on an isokinetic dynamometer, which may not have as much practical application as most\\xa0resistance training\\xa0programs use dynamic constant resistance exercises. In addition, unilateral, single-joint exercise recruited a relatively smaller muscle mass than is commonly used in most training programs. The use of this modality of exercise, which has been demonstrated to be very effective in eliciting\\xa0muscle damage\\xa0(20,30), may not have been sufficient to elicit significant performance and inflammatory changes in these recreationally trained participants. Future research should examine modes of training specific to the typical training program of the participants.\\nPractical Applications\\nThe results of this study indicate that changes in muscle performance seem to begin during middle age, even in recreationally trained individuals. However, participating in recreational\\xa0resistance training\\xa0may mitigate any alteration in the recovery response from exercise. These results should be examined in the context that recovery was investigated after a unilateral, single-joint isokinetic exercise protocol. Although this method has been previously used as an effective mode of exercise to elicit\\xa0muscle damage, it is not specific to the type of exercises typically used by recreational lifters. Future studies may wish to compare these population groups using multijoint, dynamic constant resistance exercises common to the training programs of most recreational lifters, regardless of age.\\n',\n",
       " 2: 'High doses of anti-inflammatory drugs compromise muscle strength and hypertrophic adaptations to resistance training in young adults.\\nDiscussion \\nThe interest in this study was spurred by the intriguing observation that while NSAIDs might have a negative impact on acute exercise responses (satellite cell activity, translational signalling and protein synthesis), previous human studies have failed to demonstrate a detrimental effect of NSAIDs on the development of muscle hypertrophy in response to chronic resistance training in young adults, possibly due to differences in drug dosage across studies. Accordingly, in the current study, healthy young men and women performed 8 weeks of supervised resistance training with concomitant high- or low-dose NSAID treatment. The major and novel findings were that 1) maximal overthe-counter doses of ibuprofen compromised resistance exercise-induced muscle hypertropy\\nindependent of training mode; 2) increases in muscle strength were attenuated by ibuprofen only when training was performed with maximal all-out repetitions; 3) while the resistance-training intervention resulted in several muscle molecular adaptations, the only marked difference across medical treatment was a significant ibuprofen-induced downregulation of the inflammatory cytokine IL-6 mRNA, compared with an upregulation in the ASA group. This is the first study showing that daily consumption of high doses of NSAIDs attenuates strength and muscle hypertrophic adaptations to resistance training in young healthy individuals. We acknowledge that a limitation of the current study was that we did not include a non-treated control group. However, the increase in muscle volume (7.5%) in the ASA group was of a similar, and expected, magnitude to that previously reported by our group20 and others.21,22 In the light of this, the magnitude of the reduction in muscle hypertrophy in response to the ibuprofen treatment was quite remarkable and, if anything, should the ASA treatment have had a small effect on the adaptive response, it would only have masked an even greater difference across groups than what is reported herein. Nonetheless, given the marked effect of ibuprofen and the fact that the increase in muscle size in the control group (0.14% per day) was of similar magnitude as the average rate of hypertrophy reported in past studies employing knee-extensor resistance training,23 we are confident that our data provide strong proof-of-principle evidence that the effect of NSAIDs on muscle adaptations to resistance exercise is dependent of the dose of intake. The rationale for using acetylsalicylic acid instead of ibuprofen as a low-dose comparator in the current study was based on the fact that when the drug is consumed orally, it undergoes substantial presystemic hydrolysis in the gut and liver before it enters the systemic bloodstream. As the drug will, however, encounter blood in the portal circulation, low doses of acetylsalicylic acid will exert its antiplatelet effect with no or limited effect on systemic targets such as peripheral tissue.16\\x9618 Consequently, the potential circulatory effects are factored out and we hypothesize that the negative effect of ibuprofen was due to muscle-specific COX inhibition rather than the antiplatelet effect achieved by both ibuprofen and low doses of acetylsalicylic acid.18,24 The results of the present study are in agreement with animal studies showing an inhibitory effect of COX inhibitors on muscle hypertrophy.8,9,25 They also agree with acute human data reporting attenuated protein synthesis,5 translational signalling13 and satellite cell activity11,12 in response to resistance training with concomitant high-dose NSAID administration. Our hypothesis of a dose-dependent effect is also supported by the only comparable training study in young healthy subjects.14 That particular study reported no effect of ibuprofen on muscle hypertrophy or strength gains after 6 weeks of training consisting of six sets of biceps curls 2\\x963 days week---------------1 . The drug dose was consumed on training days only, resulting in a total intake of 800\\x961200 mg week---------------1 , 14 compared with 1200 mg per day in the current study. This indeed highlights the potential importance of drug dosage where, evidently, intake of maximal over-the-counter doses is potent enough to interfere with the normal hypertrophic development of 0.1\\x960.2% per day seen in the ASA group as well as in other studies employing conventional resistance-training programmes for the knee extensors.23 It is generally agreed that repeated increases in muscle protein synthesis following each exercise bout is the most important mechanism underlying training-induced muscle hypertrophy.26,27 Thus, it seems plausible to suggest that the main explanation for the clear attenuation of hypertrophy, which was evident in both training modes (FW and WS), was diminished prostaglandin production and hence decreased muscle protein synthetic response after each training session in the IBU group. Indeed, there is increasing evidence that COX and prostaglandins play an important role in regulating the molecular events controlling muscle hypertrophy. For example, C2C12 myotube diameter was shown to be regulated by PGF2a in an mTORdependent manner7 , and exercise-induced increases in p70S6K (downstream of mTOR) was blunted by ibuprofen treatment in the early hours following acute resistance exercise.13 In the current study, however, there were no group interactions for any of the target proteins examined, suggesting that the ibuprofenmodulating effect on muscle adaptations is not associated with differential expression of steady-state proteins in response to chronic training. Perhaps assessing satellite cell content,11 or the phosphorylation levels of translational signalling proteins in response to acute exercise,13 would have provided more mechanistic insights. We measured several key molecular markers for COX and prostaglandin-mediated metabolism, regulators of muscle growth and atrophy, and several cytokines and myokines that have been shown to regulate skeletal muscle protein metabolism and exercise adaptations.4 The most clear-cut molecular evidence for an effect of ibuprofen on peripheral muscle tissue was the marked drug effect on IL-6 mRNA, where levels in the ibuprofen group were downregulated despite a significant upregulation in the control group. The reduction of IL-6 in the ibuprofen group is coherent with previous studies suggesting PGE2 as a stimulator of IL-6 transcription in both human muscle28 and other cell types.29 It has previously been reported that the NSAID-modulating effects on muscle hypertrophy in older subjects were associated with lowered expression of IL-6 and subsequently MuRF-1, resulting in a more beneficial cellular environment for muscle growth.30 While our data are coherent with that of Trappe and colleagues regarding the expression of IL-6 in the ibuprofen-treated group (downregulated) compared to the control group (upregulated), the muscle hypertrophy data certainly contradict these findings. In that study, elderly subjects (60\\x9678 years) performed 12 weeks of resistance training with simultaneous daily ibuprofen treatment of 1200 mg. The increase in muscle size was substantially greater with ibuprofen compared with placebo,15 and this was supported by acute data showing no interference of ibuprofen on muscle protein synthesis in the same age group.31 Thus, interestingly, there may be distinct differences in the response to resistance training and NSAID consumption in the young vs. the elderly, and probably also in the mechanistic underpinnings of exercise-induced tissue remodelling in these age groups. Specifically, in the present cohort of young subjects, it is possible that blunting of important inflammatory processes, as reflected by the downregulated IL-6 gene expression, contributed to the attenuated hypertrophic response because previous studies have shown that induction of IL-6, and also other inflammatory and proteolytic factors, has an important role in muscle regenerative processes during hypertrophic conditions.32,33 In contrast, the role of inflammatory processes may be different in the elderly where an ibuprofen-induced downregulation of IL-6 could reduce chronic low-grade inflammation and thereby restore the blunted anabolic response to resistance exercise typically seen in aged populations.34 Thus, based on the current data and given the complex regulation of mRNA and protein levels,35,36 future studies should directly compare the response to resistance exercise and NSAID treatment in young vs. old populations as well as incorporate better time resolution, including both acute and chronic biopsy time points and perhaps also higher-throughput techniques, to provide more conclusive evidence of the critical mechanisms regulating the interactive effects of NSAIDs and resistance exercise on muscle adaptations. The functional data showed that increases in muscle strength were attenuated in IBU compared with ASA, but only in the FW leg. In our mind, this leads to two questions: first, if this strength difference was explained by the larger increase in muscle size in the control group, why was strength not reduced in the WS leg? Second, if not muscle size, what other mechanisms could explain the fact that strength was negatively affected by ibuprofen only in the FW leg? Regarding the first question, although muscle mass and strength are generally highly correlated at baseline in pre-training situations,37,38 the same does not necessarily apply when it comes to increases in strength and muscle size following short-term resistance training.39,40 This was also the case in the current study, where in fact the correlation between changes in muscle size and strength was very weak (R2 ~0.05; data not shown). Thus, it appears that strength gains can occur irrespective of the magnitude of increase in muscle volume and hence, this could explain why, in the WS leg, the larger increase in muscle volume for the ASA group did not result in a larger increase in strength compared with IBU. It is plausible that with longer-term training, once neural adaptations have plateaued,41 the relationship between muscle size and strength would be restored and hence the negative effect of ibuprofen on strength would be even more evident. As to the second question raised above, we did speculate beforehand that perhaps NSAID consumption could affect acute training performance and thereby the capacity to perform high-intensity repetitive work bouts. It appeared at first that the strength reduction in the FW leg was not related to a reduction in day-to-day training performance, as both groups performed an equal amount of work throughout the 8-week training programme. Interestingly, however, a closer look at the data in Figure 1 reveals that the ibuprofen group certainly showed a levelling-off effect during the last week of flywheel training, which likely explains the lower strength gains noted. Regarding the logical follow-up question of why training performance in the FW leg was negatively affected by ibuprofen only at the end of the training period, we are unable to provide a definite answer. However, given that the main differences between the two training modes is the eccentric overload, provoking greater inflammatory stimulus, and the maximal unlimited resistance provided by the flywheel device,21,42 it is tempting to speculate that one (or both) of these two features are particularly prone to ibuprofen treatment, at least after a few weeks of accumulated training. It should also be noted that day-to-day performance levels varied much more in the FW leg, indicating that this training regime was more stressful for the subjects. Alternatively, as indicated earlier, the relationship between muscle mass and strength became more important at the end of the training period, and hence, the levelling-off phenomenon in the IBU group was due to the compromised hypertrophic development. Altogether, based on the current data and given the knowledge of different time resolutions for the underlying mechanisms of muscle strength, longer training studies could clarify whether interference in muscle growth will be associated with reduced muscle strength, and whether different training modes, such as eccentric overload, are even more sensitive to concomitant NSAID treatment. Notwithstanding, our findings raise the concern that resistance-training studies employing strict work-matched increases across groups might overlook important effects of various factors such as medical treatments or supplements that would have become evident if maximal efforts had been allowed throughout each set and training session. In summary, we show for the first time that maximal over-the-counter doses of NSAIDs compromise resistance exercise-induced increases in muscle size and strength in young adults. The gains in muscle size were attenuated by ibuprofen independent of the type of training performed, whereas muscle strength was attenuated only when training was performed with maximal all-out repetitions. Furthermore, while the resistance-training intervention resulted in several muscle molecular adaptations, the only marked difference across medical treatment was a significant ibuprofen-induced reduction in IL-6 gene expression, which in our mind reflected a changed inflammatory environment that, speculatively, contributed to the attenuated hypertrophic development in the ibuprofen group. This study improves our understanding of how NSAIDs work and interacts with chronic exercise responses, and considering the potency of the drug to modify muscle mass and function, the mechanistic findings should contribute to a better understanding of regulation of muscle growth in general. More importantly, however, the results have implications for the millions of individuals worldwide who consume NSAIDs on a regular basis while trying to obtain the best possible benefits of resistance training. \\nMethods \\nEthical approval All subjects were given oral and written information about the study before giving written informed consent to participate. The study was approved by the Regional Ethical Review Board in Stockholm and conformed to the Declaration of Helsinki. In agreement with EU legislation, the study was sanctioned by the Swedish Medical Products Agency (EudraCT-number: 2014-004872-47). The trial was registered as a clinical trial on ClinicalTrials.gov with the identifier NCT02531451. Subjects All subjects (recreationally active men and women aged 18\\x9635 years, Table 2) were recruited from the Stockholm region. Prior to inclusion, subjects completed a full medical screening including health and exercise history anamnesis and analysis of blood biochemistry. Exclusion criteria were current or previous cardiovascular disease, impaired kidney or liver function, auto-immune disease, lower limb or knee injury, pregnancy, history of ulcers or gastrointestinal upsets, or previous negative reactions to the use of NSAIDs. Subjects who had performed structured resistance training (more than once per week) for the past 6 months were also excluded. From the 48 individuals who were assessed for eligibility, 31 were included in the final data analysis (Fig. 7). Drug administration and accountability Each subject was given the whole batch of pills together with a medical diary on the first day of consumption (i.e. day 1 of the first training week). The ibuprofen group was instructed, orally and in writing, to take three doses/day (~08:00, ~14:00 and ~20:00 h.) corresponding to the maximal over-thecounter daily dose of 1200 mg (400 mg dose---------------1 ). The control group receiving acetylsalicylic acid was instructed to take one dose per day (75 mg) in conjunction with their morning meal. All subjects documented the time and date for each dose in the provided diary and were reminded about the importance of correct drug consumption on every visit to the exercise laboratory, and through text messages several times per week. The last day of medication was day 7 of the final (i.e. eighth) training week. After the 8-week training intervention, all subjects returned the medical diary and leftover medicines. All remaining pills were subsequently counted and compared with the written logs in the diary to control for drug compliance. Despite all these efforts, as no direct evidence of drug consumption was obtained, it remains possible that the subjects did not fully comply with these requirements. Nonetheless, all medicine administration and accountability were performed in agreement with the code of Good Clinical Practice (ICH-GCP) by a certified external partner, the Clinical Pharmacology Trial Unit, at the Karolinska University Hospital in Huddinge, Stockholm. Thus, although the subjects were not blinded to their treatment, the research personnel responsible for monitoring training sessions stayed blind for the drug assignment during the whole intervention. The study hypothesis was never presented to the subjects.\\n\\nSafety procedures and adverse event reporting At every occasion where research staff met with the subjects (i.e. 2\\x963 times week---------------1 ), they were asked about any health complaints or suspected adverse reactions. Any adverse event was reported by study personnel to the principal investigator. If events occurred in the home or elsewhere during the study period, subjects were instructed to promptly report the incident to study staff who in turn would contact the principal investigator. All adverse events, or suspicion of such, were recorded in case report forms with symptoms, severity, date, time and assessment of potential relation to the study drugs. The medically responsible physician decided whether any further action (i.e. treatment or medication) was required. Exercise equipment and familiarization To elucidate whether ibuprofen affected day-to-day training performance, one leg was assigned to perform training with maximal volitional work allowed in each repetition using a flywheel ergometer, while on the other leg the training volume was matched between groups using regular weight-stack training. Thus, each of the subject\\x92s legs was randomized either to a non-gravity-dependent training device (YoYo Technology, Stockholm, Sweden) or a traditional weight-stack device (World Class, Stockholm, Sweden). The non-gravity-dependent device, hereafter flywheel or FW, was equipped with a 5-kg (men, inertia 0.075 kg m---------------2 or) or 3.5-kg (women, inertia 0.05 kg m---------------2 ) flywheel to provide inertial resistance during coupled concentric and eccentric actions. Peak concentric and eccentric power for each repetition was calculated from measures of rotational velocity (SmartCoach, Stockholm, Sweden). The weight-stack device (WS) employed constant external loading, that is isotonic loading. Weight plates of 5, 2 and 1 kg were used to set and adjust the load. The main difference between the two devices is that FW allows for maximal voluntary force to be produced from the very first repetition, whereas WS is dependent on the increasing exertion throughout each set, and maximal voluntary force is hence only offered in the last repetitions (i.e. close to failure). In addition, the FW offers brief episodes of eccentric overload.21 In both training devices, the subjects were seated (90° hip angle, 80° knee angle) and performed the concentric phase of the lift to ~175° knee joint angle before entering the eccentric phase to ~80° knee joint angle. Maximal isometric and isokinetic strength for the knee extensors were assessed using isokinetic dynamometry with a sampling frequency of 2000 Hz (Biodex System 4 Pro, Biodex Medical Systems, NY). The chest, hip and thigh were stabilized to the dynamometer using straps, and the ankle was strapped to the lever arm, which was aligned with the axis of rotation of the knee joint. To customize machine settings and familiarize subjects with the exercise procedures used during training and testing, all subjects reported to the laboratory for familiarization three times within 2 weeks prior to the start of the study. Pre- and post-testing All tests were performed using identical protocols both before (PRE) and after (POST) the 8-week training intervention. The tests were scheduled on three different days. First, baseline muscle strength assessments were performed. Maximal isometric strength (0°/s) and isokinetic strength (30°/s, 60°/s, 180°/s and 270°/s) were measured. The subjects were allowed two attempts on each velocity (30 s rest), and the best result was accepted as peak torque. Maximal isometric torque was measured at knee angle 120°. Subjects were instructed to push and hold the pressure against the lever for 5 s. The best attempt defined peak isometric torque. After a five-min rest period, trainingspecific strength was assessed. Thus, for the FW leg, peak power (averaged across sets and repetitions) was assessed for the flywheel device. The subjects performed 2 9 7 repetitions with two-min rests between sets. After another rest period of 5 min, one-repetition maximum (1-RM) strength was assessed in the WS leg. The goal was to reach 1-RM within five attempts. Subjects were instructed to raise the lever arm to ~175° knee joint angle in order for the repetition to be accepted as 1-RM. Each attempt was separated by two-min rest. In all of the strength tests, strong verbal encouragement was given by the research staff to call for maximal effort. After 2 or 3 rest days, the muscle biopsy procedure was undertaken (see below). Four days after the biopsy procedure, once associated bleeding and swelling had settled, the MRI scan was performed (see below). During post-tests, the order of tests was maintained. However, as we wished to obtain the post-biopsies no more than 48 h after the last training session, the post-assessment of muscle strength was carried out during the final training week (prior to training session no. 18, and preceded by 48\\x96 72 h rest). The post-biopsies were then taken exactly 48 h (2 h) after the last training session, and the post-MRI scan was conducted 4 days later, that is 6 days after the training intervention ended. Magnetic resonance imaging Cross-sectional images were obtained using a 1.5- Tesla Siemens Magnetom Aera unit (Siemens Healthcare, Germany). The settings were as follows: Turbo spin echo, T2 weighted, TE 110 ms, TR 5723 ms, NSA 3, FOV 48.5 cm, scan time 4 min 50 s and voxel size 0.95 9 0.95 9 10 mm. Fifty continuous images with 10-mm slice thickness were obtained for each subject. To minimize the influence of fluid shift on muscle volume, subjects rested in the supine position for 1 h prior to any scan.43 A custom-made footrestrain device ensured a fixed-limb position and that there was no compression of thigh muscles. Preliminary localization (scout) images were obtained to confirm identical positioning across pre- and post-scans. To ensure that the same segment was scanned before and after training, the top of the caput femoris was used as an anatomical landmark when setting the window (field of view) for each scan. Although pre- and post-images were analysed in parallel, the individual who performed the analysis was blind with regard to all interventions. Muscle volume, mean cross-sectional area (CSA) and signal intensity (mean grey value, MGV) of the m. quadriceps femoris were analysed from the first image not displaying m. gluteus maximus and ending with the last image in which m. rectus femoris appeared.44 Within this segment (10\\x96 18 cm of the thigh), every third image was assessed by manual planimetry using imaging software (ImageJ, National Institutes of Health, Bethesda, MD, USA). The average of two measures showing less than 1% difference between values was multiplied by slice thickness to obtain muscle volume. Signal intensity was determined as a control measure to verify that any increase in muscle size would reflect true muscle hypertrophy rather than exercise-induced fluid infiltration or muscle swelling.20 Furthermore, as an additional control measure, we assessed the CSA of the untrained m. biceps femoris in the mid-thigh region. Training protocols The subjects performed 20 training sessions during the 8-week training intervention. The sessions were scheduled two and three times every other week, starting with two sessions the first week. All training was performed unilaterally. The subjects had their legs randomized in a counterbalanced fashion to FW on one leg and WS on the other, and this allocation was then preserved for the entire intervention. Each training session started with a standardized warm-up. After a two-min rest, the subjects performed 4 9 7 maximal repetitions on the FW device (two-min rest) and 4 9 8\\x9612 repetitions to failure on the WS machine. The protocols were selected based on past research studies employing these particular exercise modes.2,20 The starting order of the machines was altered between every training session. In WS, the training load was progressively increased in a work-matched manner across groups. This was possible through the pair-matching procedure, that is, even though being blinded to the group assignment; the research staff ensured that each assigned pair did comparable amounts of total work throughout the study by manipulating the selected weight. Generally, the weight was progressively increased when the subject was able to perform more than 12 repetitions. In the FW, peak power was measured for each repetition and subjects were instructed, and verbally encouraged, to perform each repetition with maximal effort. Consequently, workload was per definition unlimited. Using this unilateral approach, it was possible to examine if ibuprofen had any effects on acute training performance or if any potential drug effects were unrelated to total work performed during training. Muscle biopsies Tissue samples of the vastus lateralis muscle were obtained under local anaesthesia using the percutaneous Bergstrom technique, \\x80 45 after an overnight fast and with no prior exercise during the past 48 h. Samples were taken from the right leg before training (PRE) and from each leg (WS and FW) 48 h (2 h) after the last training session (POST). All muscle samples (~200 mg) were immediately dissected free of any visible fat, excess blood and connective tissue, and then quickly frozen in liquid nitrogen. Samples were stored at ---------------80°C until the analyses. RNA isolation, reverse transcription and real-time PCR Wet muscle samples (20 mg) were homogenized using TRIzol (Invitrogen Life Technologies, Carlsbad, CA, USA), and total RNA was subsequently extracted. One lg of total RNA from each sample was used for reverse transcription into cDNA for a final volume of 20 lL (High Capacity Reverse Transcription Kit, Applied Biosystems, Foster City, CA, USA). Real-time PCR (ABI-PRISMA 7700 Sequence Detector, PerkinElmer Applied Biosystems) procedures were employed to determine mRNA expression. Probes and primers (TaqMan) for atrogin-1 (Hs00369714_m1), cyclooxygenase 1 (COX-1; Hs00377726_m1), cyclooxygenase 2 (COX-2; Hs00153133_m1), interleukin 6 (IL-6; Hs00985639_m1), mechanistic target of rapamycin (mTOR; Hs00234522_m1), muscle RING-finger protein-1 (MuRF-1; Hs00822397_m1), MyoD (Hs02330075_g1), myostatin (Hs00193363_m1), p70S6 kinase (p70S6K; Hs00177357_m1), prostaglandin E2 receptor 2 (PGE2 receptor; Hs00168754_m1), prostaglandin F receptor (PGF2a receptor; Hs00168763_m1), tumour necrosis factor (TNF-a; Hs01113624_g1), GAPDH (Hs99999905_m1) and RPS18 (Hs01375212_g1) were all purchased from Applied Biosystems. GAPDH and RPS18 were analysed as reference genes. However, final mRNA data were related only to RPS18 because this gene was stable across all time points and groups. Reaction and amplification mixes (10 lL) consisted of the diluted [1 : 5 (COX-2, PGF2a receptor, PGE2 receptor, IL-6, TNF-a)] or [1 : 100 (COX-1, p70S6K; mTOR, MyoD-1, myostatin, atrogin-1, MuRF-1)] cDNA (4.5 lL), TaqMan Fast Universal PCR Master Mix (5.0 lL) and specific primers (0.5 lL). Subsequent cycling protocols were 2 min at 50°C and 10 min at 90°C followed by 40 cycles at 95°C for 15 s and 60°C for 1 min. Target gene expression was reported as a ratio to the reference gene using the 2---------------DCT formula. Protein extraction and immunoblot analysis Muscle samples (~30 mg) cleansed from visible blood, fat and connective tissue were freeze-dried and subsequently homogenized in ice-cold buffer (100 lL mg---------------1 dry wt) consisting of 2 mM HEPES (pH 7.4), 1 mM EDTA, 5 mM EGTA, 10 mM MgCl2, 1% Triton X 100, 2 mM dithiothreitol and 1.5% (v/v) phosphatase and protease inhibitor cocktail (HaltTM, Thermo Scientific, Rockford, MD, USA) using a BulletBlender (NextAdvance, Averill Park, NY, USA) with 0.5 mm ZrO beads. The homogenates obtained were rotated for 60 min at 4°C and subsequently centrifuged at 10 000 g for 10 min at 4°C. The resulting supernatant was collected and stored at ---------------80°C. Protein concentrations were determined in aliquots of supernatant diluted 1 : 10 in distilled water using the Pierce 660 nm protein assay (Thermo Scientific). Muscle homogenates were diluted with 49 Laemmli sample buffer (Bio-Rad, Richmond, CA, USA) and homogenizing buffer to obtain a final protein concentration of 1.4 lg lL---------------1 . Subsequently, all samples were heated at 95°C for 5 min to denature proteins and then stored at ---------------20°C until further analysis. As an additional control to confirm a stable muscle contractile fraction from PRE to POST, we assessed estimated muscle water content by relating the dry muscle weight to the wet weight,20 as measured on a precision microbalance at standardized temperature and humidity. The immunoblotting procedures were performed as described by Apro et al.46 with slight modifications for this study. Samples containing total protein of 40 lg were separated by SDS\\x96polyacrylamide gel electrophoresis (PAGE) on 18-well Criterion TGX gradient gels (4\\x9620% acrylamide; Bio-Rad). Both ASA and IBU samples were loaded on each gel, and each sample from each subject was always loaded onto the same gel, beginning with the PRE sample followed by POST right and POST left leg respectively. The blots were quantified using the Quantity One software from Bio-Rad. To control for appropriate loading and transfer, target proteins were expressed relative to whole-lane analysis of protein content obtained by staining the membranes with MemCode Reversible Protein Stain Kit (Thermo Scientific).47 The monoclonal primary antibodies used for the detection of target total proteins were the following: mTOR (7C10; no. 2983; 1 : 1000; Cell Signaling Technology, Beverly, MA, USA); p70S6K (49D7; no. 2708; 1 : 1000; Cell Signaling Technology); TNF-a (D5G9; no. 6945; 1 : 500; Cell Signaling Technology); MyoD1 (D8G3; XP; no. 13812; 1 : 500; Cell Signaling Technology); and MuRF-1 (C-11; no. sc-398608; 1 : 1000; Santa Cruz Biotechnology Heidelberg, Germany). The secondary antibodies used were all from Cell Signaling Technology: anti-rabbit (1 : 10 000; mTOR, p70S6k), (1 : 5000; MyoD-1), (1 : 2000; TNF-a) and anti-mouse (1 : 10 000; MuRF-1) IgG antibodies conjugated with horseradish peroxidase. Statistics Independent t-tests were used to compare descriptive data for the two groups. Data distribution was manually checked on histograms for any marked skewness. Subsequently, two-way ANOVAs with factors group (ASA vs. IBU) and time (PRE vs. POST) were used to compare training-induced changes in all dependent variables across the two groups. The magnitude of the effects of key outcome variables (muscle size and strength) was further assessed using Cohen\\x92s effect size (d) and associated 90% confidence limits to estimate the size and precision of mean group differences (i.e. the difference in change scores from pre to post). Group differences of 0.2, 0.4, 0.6 and 0.8 were considered as trivial, small, moderate and large effect sizes respectively.48 The significance level was set to 5% (P < 0.05). Data are presented as means and standard deviation or individual responses unless otherwise stated\\n'}"
      ]
     },
     "execution_count": 13,
     "metadata": {},
     "output_type": "execute_result"
    }
   ],
   "source": [
    "text_dict = create_text_dict(all_files)\n",
    "text_dict"
   ]
  },
  {
   "cell_type": "code",
   "execution_count": null,
   "metadata": {},
   "outputs": [],
   "source": []
  },
  {
   "cell_type": "code",
   "execution_count": null,
   "metadata": {},
   "outputs": [],
   "source": []
  },
  {
   "cell_type": "code",
   "execution_count": null,
   "metadata": {},
   "outputs": [],
   "source": []
  },
  {
   "cell_type": "code",
   "execution_count": null,
   "metadata": {},
   "outputs": [],
   "source": []
  },
  {
   "cell_type": "code",
   "execution_count": null,
   "metadata": {},
   "outputs": [],
   "source": []
  },
  {
   "cell_type": "code",
   "execution_count": null,
   "metadata": {},
   "outputs": [],
   "source": []
  },
  {
   "cell_type": "code",
   "execution_count": null,
   "metadata": {},
   "outputs": [],
   "source": []
  },
  {
   "cell_type": "code",
   "execution_count": null,
   "metadata": {},
   "outputs": [],
   "source": []
  },
  {
   "cell_type": "code",
   "execution_count": null,
   "metadata": {},
   "outputs": [],
   "source": []
  },
  {
   "cell_type": "code",
   "execution_count": null,
   "metadata": {},
   "outputs": [],
   "source": []
  },
  {
   "cell_type": "code",
   "execution_count": null,
   "metadata": {},
   "outputs": [],
   "source": []
  },
  {
   "cell_type": "code",
   "execution_count": null,
   "metadata": {},
   "outputs": [],
   "source": []
  },
  {
   "cell_type": "code",
   "execution_count": null,
   "metadata": {},
   "outputs": [],
   "source": []
  },
  {
   "cell_type": "code",
   "execution_count": null,
   "metadata": {},
   "outputs": [],
   "source": []
  },
  {
   "cell_type": "code",
   "execution_count": null,
   "metadata": {},
   "outputs": [],
   "source": []
  },
  {
   "cell_type": "code",
   "execution_count": null,
   "metadata": {},
   "outputs": [],
   "source": []
  },
  {
   "cell_type": "markdown",
   "metadata": {},
   "source": [
    "# *End of Page*"
   ]
  }
 ],
 "metadata": {
  "kernelspec": {
   "display_name": "Python 3.9.13 64-bit",
   "language": "python",
   "name": "python3"
  },
  "language_info": {
   "codemirror_mode": {
    "name": "ipython",
    "version": 3
   },
   "file_extension": ".py",
   "mimetype": "text/x-python",
   "name": "python",
   "nbconvert_exporter": "python",
   "pygments_lexer": "ipython3",
   "version": "3.9.16"
  },
  "orig_nbformat": 4,
  "vscode": {
   "interpreter": {
    "hash": "11938c6bc6919ae2720b4d5011047913343b08a43b18698fd82dedb0d4417594"
   }
  }
 },
 "nbformat": 4,
 "nbformat_minor": 2
}
